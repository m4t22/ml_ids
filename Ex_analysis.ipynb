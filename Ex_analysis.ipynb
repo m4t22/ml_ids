{
 "cells": [
  {
   "cell_type": "code",
   "execution_count": 1,
   "metadata": {},
   "outputs": [],
   "source": [
    "import pandas as pd\n",
    "import matplotlib.pyplot as plt\n",
    "import numpy as np\n",
    "\n",
    "%matplotlib inline \n",
    "%config IPCompleter.greedy=True"
   ]
  },
  {
   "cell_type": "markdown",
   "metadata": {},
   "source": [
    "## Reading data from file"
   ]
  },
  {
   "cell_type": "code",
   "execution_count": 2,
   "metadata": {},
   "outputs": [
    {
     "name": "stdout",
     "output_type": "stream",
     "text": [
      "Counter({-1: 338997, 1: 80149})\n"
     ]
    }
   ],
   "source": [
    "from collections import Counter\n",
    "\n",
    "data1 = pd.read_csv(\"20151219.txt\", sep = \"\\t\", header = None)\n",
    "data1.columns = [\"conn len\", \"service\", \"src bytes\", \"dst bytes\", \"conn numb\", \"Same srv rate\", \"Serror rate\", \"Srv serror rate\", \"Dst host count\", \"Dst host srv count\", \"Dst host same src port rate\", \"Dst host serror rate\", \"Dst host srv serror rate\", \"Conn state\", \"IDS detection\", \"Malware detection\", \"Ashula detection\", \"attack_flag\", \"src IP\", \"src port\", \"dst IP\", \"dst port\", \"start time\", \"proto\"]\n",
    "\n",
    "data2 = pd.read_csv(\"20151220.txt\", sep = \"\\t\", header = None)\n",
    "data2.columns = [\"conn len\", \"service\", \"src bytes\", \"dst bytes\", \"conn numb\", \"Same srv rate\", \"Serror rate\", \"Srv serror rate\", \"Dst host count\", \"Dst host srv count\", \"Dst host same src port rate\", \"Dst host serror rate\", \"Dst host srv serror rate\", \"Conn state\", \"IDS detection\", \"Malware detection\", \"Ashula detection\", \"attack_flag\", \"src IP\", \"src port\", \"dst IP\", \"dst port\", \"start time\", \"proto\"]\n",
    "\n",
    "data = data1.append(data2, ignore_index=True)\n",
    "\n",
    "print(Counter(data[\"attack_flag\"]))"
   ]
  },
  {
   "cell_type": "markdown",
   "metadata": {},
   "source": [
    "## Transform to binary"
   ]
  },
  {
   "cell_type": "code",
   "execution_count": 3,
   "metadata": {},
   "outputs": [
    {
     "name": "stdout",
     "output_type": "stream",
     "text": [
      "Counter({1: 338997, 0: 80149})\n"
     ]
    }
   ],
   "source": [
    "data.loc[:, \"attack_flag\"] = data.loc[:,\"attack_flag\"].replace(-2, -1)\n",
    "data.loc[:, \"attack_flag\"] = data.loc[:, \"attack_flag\"] * -1\n",
    "data.loc[:, \"attack_flag\"] = data.loc[:,\"attack_flag\"].replace(-1, 0)\n",
    "\n",
    "print(Counter(data[\"attack_flag\"]))"
   ]
  },
  {
   "cell_type": "markdown",
   "metadata": {},
   "source": [
    "## Drop additional features"
   ]
  },
  {
   "cell_type": "code",
   "execution_count": 4,
   "metadata": {},
   "outputs": [
    {
     "name": "stdout",
     "output_type": "stream",
     "text": [
      "(419146, 24)\n",
      "(419146, 21)\n"
     ]
    },
    {
     "data": {
      "text/plain": [
       "1    338997\n",
       "0     80149\n",
       "Name: attack_flag, dtype: int64"
      ]
     },
     "execution_count": 4,
     "metadata": {},
     "output_type": "execute_result"
    }
   ],
   "source": [
    "# slice dataset, drop additional features\n",
    "print(data.shape)\n",
    "data = data.drop(['start time', 'dst IP', 'src IP'], axis=1)\n",
    "print(data.shape)\n",
    "\n",
    "# drop software markers\n",
    "data = data.drop([\"IDS detection\", \"Malware detection\", \"Ashula detection\"], axis=1)\n",
    "data[\"attack_flag\"].value_counts()"
   ]
  },
  {
   "cell_type": "code",
   "execution_count": 5,
   "metadata": {},
   "outputs": [
    {
     "name": "stdout",
     "output_type": "stream",
     "text": [
      "<class 'pandas.core.frame.DataFrame'>\n",
      "RangeIndex: 419146 entries, 0 to 419145\n",
      "Data columns (total 18 columns):\n",
      "conn len                       419146 non-null float64\n",
      "service                        419146 non-null object\n",
      "src bytes                      419146 non-null int64\n",
      "dst bytes                      419146 non-null int64\n",
      "conn numb                      419146 non-null int64\n",
      "Same srv rate                  419146 non-null float64\n",
      "Serror rate                    419146 non-null float64\n",
      "Srv serror rate                419146 non-null float64\n",
      "Dst host count                 419146 non-null int64\n",
      "Dst host srv count             419146 non-null int64\n",
      "Dst host same src port rate    419146 non-null float64\n",
      "Dst host serror rate           419146 non-null float64\n",
      "Dst host srv serror rate       419146 non-null float64\n",
      "Conn state                     419146 non-null object\n",
      "attack_flag                    419146 non-null int64\n",
      "src port                       419146 non-null int64\n",
      "dst port                       419146 non-null int64\n",
      "proto                          419146 non-null object\n",
      "dtypes: float64(7), int64(8), object(3)\n",
      "memory usage: 57.6+ MB\n"
     ]
    }
   ],
   "source": [
    "data.info()"
   ]
  },
  {
   "cell_type": "code",
   "execution_count": 6,
   "metadata": {},
   "outputs": [
    {
     "data": {
      "text/html": [
       "<div>\n",
       "<style scoped>\n",
       "    .dataframe tbody tr th:only-of-type {\n",
       "        vertical-align: middle;\n",
       "    }\n",
       "\n",
       "    .dataframe tbody tr th {\n",
       "        vertical-align: top;\n",
       "    }\n",
       "\n",
       "    .dataframe thead th {\n",
       "        text-align: right;\n",
       "    }\n",
       "</style>\n",
       "<table border=\"1\" class=\"dataframe\">\n",
       "  <thead>\n",
       "    <tr style=\"text-align: right;\">\n",
       "      <th></th>\n",
       "      <th>conn len</th>\n",
       "      <th>service</th>\n",
       "      <th>src bytes</th>\n",
       "      <th>dst bytes</th>\n",
       "      <th>conn numb</th>\n",
       "      <th>Same srv rate</th>\n",
       "      <th>Serror rate</th>\n",
       "      <th>Srv serror rate</th>\n",
       "      <th>Dst host count</th>\n",
       "      <th>Dst host srv count</th>\n",
       "      <th>Dst host same src port rate</th>\n",
       "      <th>Dst host serror rate</th>\n",
       "      <th>Dst host srv serror rate</th>\n",
       "      <th>Conn state</th>\n",
       "      <th>attack_flag</th>\n",
       "      <th>src port</th>\n",
       "      <th>dst port</th>\n",
       "      <th>proto</th>\n",
       "    </tr>\n",
       "  </thead>\n",
       "  <tbody>\n",
       "    <tr>\n",
       "      <th>419136</th>\n",
       "      <td>0.000000</td>\n",
       "      <td>other</td>\n",
       "      <td>0</td>\n",
       "      <td>0</td>\n",
       "      <td>0</td>\n",
       "      <td>0.0</td>\n",
       "      <td>0.0</td>\n",
       "      <td>1.00</td>\n",
       "      <td>0</td>\n",
       "      <td>0</td>\n",
       "      <td>0.0</td>\n",
       "      <td>0.0</td>\n",
       "      <td>0.0</td>\n",
       "      <td>S0</td>\n",
       "      <td>1</td>\n",
       "      <td>54695</td>\n",
       "      <td>8081</td>\n",
       "      <td>tcp</td>\n",
       "    </tr>\n",
       "    <tr>\n",
       "      <th>419137</th>\n",
       "      <td>0.000000</td>\n",
       "      <td>other</td>\n",
       "      <td>0</td>\n",
       "      <td>0</td>\n",
       "      <td>0</td>\n",
       "      <td>0.0</td>\n",
       "      <td>0.0</td>\n",
       "      <td>0.00</td>\n",
       "      <td>1</td>\n",
       "      <td>1</td>\n",
       "      <td>0.0</td>\n",
       "      <td>1.0</td>\n",
       "      <td>1.0</td>\n",
       "      <td>S0</td>\n",
       "      <td>1</td>\n",
       "      <td>44997</td>\n",
       "      <td>21320</td>\n",
       "      <td>tcp</td>\n",
       "    </tr>\n",
       "    <tr>\n",
       "      <th>419138</th>\n",
       "      <td>0.485847</td>\n",
       "      <td>other</td>\n",
       "      <td>0</td>\n",
       "      <td>0</td>\n",
       "      <td>0</td>\n",
       "      <td>0.0</td>\n",
       "      <td>0.0</td>\n",
       "      <td>1.00</td>\n",
       "      <td>5</td>\n",
       "      <td>4</td>\n",
       "      <td>0.0</td>\n",
       "      <td>0.0</td>\n",
       "      <td>0.0</td>\n",
       "      <td>RSTR</td>\n",
       "      <td>1</td>\n",
       "      <td>65024</td>\n",
       "      <td>3389</td>\n",
       "      <td>tcp</td>\n",
       "    </tr>\n",
       "    <tr>\n",
       "      <th>419139</th>\n",
       "      <td>3.253905</td>\n",
       "      <td>other</td>\n",
       "      <td>0</td>\n",
       "      <td>0</td>\n",
       "      <td>0</td>\n",
       "      <td>0.0</td>\n",
       "      <td>0.0</td>\n",
       "      <td>0.50</td>\n",
       "      <td>1</td>\n",
       "      <td>39</td>\n",
       "      <td>1.0</td>\n",
       "      <td>1.0</td>\n",
       "      <td>1.0</td>\n",
       "      <td>S0</td>\n",
       "      <td>1</td>\n",
       "      <td>18399</td>\n",
       "      <td>25</td>\n",
       "      <td>tcp</td>\n",
       "    </tr>\n",
       "    <tr>\n",
       "      <th>419140</th>\n",
       "      <td>0.000000</td>\n",
       "      <td>other</td>\n",
       "      <td>0</td>\n",
       "      <td>0</td>\n",
       "      <td>0</td>\n",
       "      <td>0.0</td>\n",
       "      <td>0.0</td>\n",
       "      <td>0.67</td>\n",
       "      <td>4</td>\n",
       "      <td>4</td>\n",
       "      <td>1.0</td>\n",
       "      <td>1.0</td>\n",
       "      <td>1.0</td>\n",
       "      <td>S0</td>\n",
       "      <td>1</td>\n",
       "      <td>33863</td>\n",
       "      <td>20012</td>\n",
       "      <td>tcp</td>\n",
       "    </tr>\n",
       "    <tr>\n",
       "      <th>419141</th>\n",
       "      <td>0.000000</td>\n",
       "      <td>other</td>\n",
       "      <td>0</td>\n",
       "      <td>0</td>\n",
       "      <td>0</td>\n",
       "      <td>0.0</td>\n",
       "      <td>0.0</td>\n",
       "      <td>0.75</td>\n",
       "      <td>0</td>\n",
       "      <td>0</td>\n",
       "      <td>0.0</td>\n",
       "      <td>0.0</td>\n",
       "      <td>0.0</td>\n",
       "      <td>OTH</td>\n",
       "      <td>1</td>\n",
       "      <td>3</td>\n",
       "      <td>3</td>\n",
       "      <td>icmp</td>\n",
       "    </tr>\n",
       "    <tr>\n",
       "      <th>419142</th>\n",
       "      <td>3.135446</td>\n",
       "      <td>rdp</td>\n",
       "      <td>1726</td>\n",
       "      <td>5591</td>\n",
       "      <td>1</td>\n",
       "      <td>0.0</td>\n",
       "      <td>0.0</td>\n",
       "      <td>0.00</td>\n",
       "      <td>5</td>\n",
       "      <td>72</td>\n",
       "      <td>0.0</td>\n",
       "      <td>0.0</td>\n",
       "      <td>0.0</td>\n",
       "      <td>S1</td>\n",
       "      <td>1</td>\n",
       "      <td>62518</td>\n",
       "      <td>3389</td>\n",
       "      <td>tcp</td>\n",
       "    </tr>\n",
       "    <tr>\n",
       "      <th>419143</th>\n",
       "      <td>0.000000</td>\n",
       "      <td>other</td>\n",
       "      <td>0</td>\n",
       "      <td>0</td>\n",
       "      <td>0</td>\n",
       "      <td>0.0</td>\n",
       "      <td>0.0</td>\n",
       "      <td>0.60</td>\n",
       "      <td>0</td>\n",
       "      <td>2</td>\n",
       "      <td>0.0</td>\n",
       "      <td>0.0</td>\n",
       "      <td>1.0</td>\n",
       "      <td>S0</td>\n",
       "      <td>1</td>\n",
       "      <td>35137</td>\n",
       "      <td>123</td>\n",
       "      <td>udp</td>\n",
       "    </tr>\n",
       "    <tr>\n",
       "      <th>419144</th>\n",
       "      <td>0.000000</td>\n",
       "      <td>other</td>\n",
       "      <td>0</td>\n",
       "      <td>0</td>\n",
       "      <td>0</td>\n",
       "      <td>0.0</td>\n",
       "      <td>0.0</td>\n",
       "      <td>0.67</td>\n",
       "      <td>0</td>\n",
       "      <td>0</td>\n",
       "      <td>0.0</td>\n",
       "      <td>0.0</td>\n",
       "      <td>0.0</td>\n",
       "      <td>S0</td>\n",
       "      <td>1</td>\n",
       "      <td>42613</td>\n",
       "      <td>81</td>\n",
       "      <td>tcp</td>\n",
       "    </tr>\n",
       "    <tr>\n",
       "      <th>419145</th>\n",
       "      <td>0.000000</td>\n",
       "      <td>other</td>\n",
       "      <td>0</td>\n",
       "      <td>0</td>\n",
       "      <td>0</td>\n",
       "      <td>0.0</td>\n",
       "      <td>0.0</td>\n",
       "      <td>1.00</td>\n",
       "      <td>0</td>\n",
       "      <td>0</td>\n",
       "      <td>0.0</td>\n",
       "      <td>0.0</td>\n",
       "      <td>0.0</td>\n",
       "      <td>S0</td>\n",
       "      <td>1</td>\n",
       "      <td>42346</td>\n",
       "      <td>21320</td>\n",
       "      <td>tcp</td>\n",
       "    </tr>\n",
       "  </tbody>\n",
       "</table>\n",
       "</div>"
      ],
      "text/plain": [
       "        conn len service  src bytes  dst bytes  conn numb  Same srv rate  \\\n",
       "419136  0.000000   other          0          0          0            0.0   \n",
       "419137  0.000000   other          0          0          0            0.0   \n",
       "419138  0.485847   other          0          0          0            0.0   \n",
       "419139  3.253905   other          0          0          0            0.0   \n",
       "419140  0.000000   other          0          0          0            0.0   \n",
       "419141  0.000000   other          0          0          0            0.0   \n",
       "419142  3.135446     rdp       1726       5591          1            0.0   \n",
       "419143  0.000000   other          0          0          0            0.0   \n",
       "419144  0.000000   other          0          0          0            0.0   \n",
       "419145  0.000000   other          0          0          0            0.0   \n",
       "\n",
       "        Serror rate  Srv serror rate  Dst host count  Dst host srv count  \\\n",
       "419136          0.0             1.00               0                   0   \n",
       "419137          0.0             0.00               1                   1   \n",
       "419138          0.0             1.00               5                   4   \n",
       "419139          0.0             0.50               1                  39   \n",
       "419140          0.0             0.67               4                   4   \n",
       "419141          0.0             0.75               0                   0   \n",
       "419142          0.0             0.00               5                  72   \n",
       "419143          0.0             0.60               0                   2   \n",
       "419144          0.0             0.67               0                   0   \n",
       "419145          0.0             1.00               0                   0   \n",
       "\n",
       "        Dst host same src port rate  Dst host serror rate  \\\n",
       "419136                          0.0                   0.0   \n",
       "419137                          0.0                   1.0   \n",
       "419138                          0.0                   0.0   \n",
       "419139                          1.0                   1.0   \n",
       "419140                          1.0                   1.0   \n",
       "419141                          0.0                   0.0   \n",
       "419142                          0.0                   0.0   \n",
       "419143                          0.0                   0.0   \n",
       "419144                          0.0                   0.0   \n",
       "419145                          0.0                   0.0   \n",
       "\n",
       "        Dst host srv serror rate Conn state  attack_flag  src port  dst port  \\\n",
       "419136                       0.0         S0            1     54695      8081   \n",
       "419137                       1.0         S0            1     44997     21320   \n",
       "419138                       0.0       RSTR            1     65024      3389   \n",
       "419139                       1.0         S0            1     18399        25   \n",
       "419140                       1.0         S0            1     33863     20012   \n",
       "419141                       0.0        OTH            1         3         3   \n",
       "419142                       0.0         S1            1     62518      3389   \n",
       "419143                       1.0         S0            1     35137       123   \n",
       "419144                       0.0         S0            1     42613        81   \n",
       "419145                       0.0         S0            1     42346     21320   \n",
       "\n",
       "       proto  \n",
       "419136   tcp  \n",
       "419137   tcp  \n",
       "419138   tcp  \n",
       "419139   tcp  \n",
       "419140   tcp  \n",
       "419141  icmp  \n",
       "419142   tcp  \n",
       "419143   udp  \n",
       "419144   tcp  \n",
       "419145   tcp  "
      ]
     },
     "execution_count": 6,
     "metadata": {},
     "output_type": "execute_result"
    }
   ],
   "source": [
    "data.tail(10)"
   ]
  },
  {
   "cell_type": "code",
   "execution_count": 7,
   "metadata": {},
   "outputs": [
    {
     "data": {
      "text/html": [
       "<div>\n",
       "<style scoped>\n",
       "    .dataframe tbody tr th:only-of-type {\n",
       "        vertical-align: middle;\n",
       "    }\n",
       "\n",
       "    .dataframe tbody tr th {\n",
       "        vertical-align: top;\n",
       "    }\n",
       "\n",
       "    .dataframe thead th {\n",
       "        text-align: right;\n",
       "    }\n",
       "</style>\n",
       "<table border=\"1\" class=\"dataframe\">\n",
       "  <thead>\n",
       "    <tr style=\"text-align: right;\">\n",
       "      <th></th>\n",
       "      <th>conn len</th>\n",
       "      <th>src bytes</th>\n",
       "      <th>dst bytes</th>\n",
       "      <th>conn numb</th>\n",
       "      <th>Same srv rate</th>\n",
       "      <th>Serror rate</th>\n",
       "      <th>Srv serror rate</th>\n",
       "      <th>Dst host count</th>\n",
       "      <th>Dst host srv count</th>\n",
       "      <th>Dst host same src port rate</th>\n",
       "      <th>Dst host serror rate</th>\n",
       "      <th>Dst host srv serror rate</th>\n",
       "      <th>attack_flag</th>\n",
       "      <th>src port</th>\n",
       "      <th>dst port</th>\n",
       "    </tr>\n",
       "  </thead>\n",
       "  <tbody>\n",
       "    <tr>\n",
       "      <th>count</th>\n",
       "      <td>419146.000000</td>\n",
       "      <td>4.191460e+05</td>\n",
       "      <td>419146.000000</td>\n",
       "      <td>419146.000000</td>\n",
       "      <td>419146.000000</td>\n",
       "      <td>419146.000000</td>\n",
       "      <td>419146.000000</td>\n",
       "      <td>419146.000000</td>\n",
       "      <td>419146.000000</td>\n",
       "      <td>419146.000000</td>\n",
       "      <td>419146.000000</td>\n",
       "      <td>419146.000000</td>\n",
       "      <td>419146.000000</td>\n",
       "      <td>419146.000000</td>\n",
       "      <td>419146.000000</td>\n",
       "    </tr>\n",
       "    <tr>\n",
       "      <th>mean</th>\n",
       "      <td>0.897800</td>\n",
       "      <td>2.168004e+04</td>\n",
       "      <td>364.750896</td>\n",
       "      <td>2.522923</td>\n",
       "      <td>0.357259</td>\n",
       "      <td>0.064550</td>\n",
       "      <td>0.548421</td>\n",
       "      <td>25.437657</td>\n",
       "      <td>28.919419</td>\n",
       "      <td>0.073814</td>\n",
       "      <td>0.068824</td>\n",
       "      <td>0.153320</td>\n",
       "      <td>0.808780</td>\n",
       "      <td>34004.366686</td>\n",
       "      <td>3584.727816</td>\n",
       "    </tr>\n",
       "    <tr>\n",
       "      <th>std</th>\n",
       "      <td>4.749450</td>\n",
       "      <td>4.708272e+06</td>\n",
       "      <td>2285.497265</td>\n",
       "      <td>5.451557</td>\n",
       "      <td>0.477454</td>\n",
       "      <td>0.244823</td>\n",
       "      <td>0.462899</td>\n",
       "      <td>41.519257</td>\n",
       "      <td>42.252740</td>\n",
       "      <td>0.259441</td>\n",
       "      <td>0.252677</td>\n",
       "      <td>0.357215</td>\n",
       "      <td>0.393262</td>\n",
       "      <td>19713.691673</td>\n",
       "      <td>10928.964687</td>\n",
       "    </tr>\n",
       "    <tr>\n",
       "      <th>min</th>\n",
       "      <td>0.000000</td>\n",
       "      <td>0.000000e+00</td>\n",
       "      <td>0.000000</td>\n",
       "      <td>0.000000</td>\n",
       "      <td>0.000000</td>\n",
       "      <td>0.000000</td>\n",
       "      <td>0.000000</td>\n",
       "      <td>0.000000</td>\n",
       "      <td>0.000000</td>\n",
       "      <td>0.000000</td>\n",
       "      <td>0.000000</td>\n",
       "      <td>0.000000</td>\n",
       "      <td>0.000000</td>\n",
       "      <td>0.000000</td>\n",
       "      <td>0.000000</td>\n",
       "    </tr>\n",
       "    <tr>\n",
       "      <th>25%</th>\n",
       "      <td>0.000000</td>\n",
       "      <td>0.000000e+00</td>\n",
       "      <td>0.000000</td>\n",
       "      <td>0.000000</td>\n",
       "      <td>0.000000</td>\n",
       "      <td>0.000000</td>\n",
       "      <td>0.000000</td>\n",
       "      <td>0.000000</td>\n",
       "      <td>0.000000</td>\n",
       "      <td>0.000000</td>\n",
       "      <td>0.000000</td>\n",
       "      <td>0.000000</td>\n",
       "      <td>1.000000</td>\n",
       "      <td>12375.000000</td>\n",
       "      <td>23.000000</td>\n",
       "    </tr>\n",
       "    <tr>\n",
       "      <th>50%</th>\n",
       "      <td>0.000091</td>\n",
       "      <td>0.000000e+00</td>\n",
       "      <td>0.000000</td>\n",
       "      <td>0.000000</td>\n",
       "      <td>0.000000</td>\n",
       "      <td>0.000000</td>\n",
       "      <td>0.750000</td>\n",
       "      <td>0.000000</td>\n",
       "      <td>1.000000</td>\n",
       "      <td>0.000000</td>\n",
       "      <td>0.000000</td>\n",
       "      <td>0.000000</td>\n",
       "      <td>1.000000</td>\n",
       "      <td>38884.000000</td>\n",
       "      <td>53.000000</td>\n",
       "    </tr>\n",
       "    <tr>\n",
       "      <th>75%</th>\n",
       "      <td>0.721284</td>\n",
       "      <td>4.500000e+01</td>\n",
       "      <td>77.000000</td>\n",
       "      <td>3.000000</td>\n",
       "      <td>1.000000</td>\n",
       "      <td>0.000000</td>\n",
       "      <td>1.000000</td>\n",
       "      <td>73.000000</td>\n",
       "      <td>92.000000</td>\n",
       "      <td>0.000000</td>\n",
       "      <td>0.000000</td>\n",
       "      <td>0.000000</td>\n",
       "      <td>1.000000</td>\n",
       "      <td>50359.000000</td>\n",
       "      <td>1433.000000</td>\n",
       "    </tr>\n",
       "    <tr>\n",
       "      <th>max</th>\n",
       "      <td>1061.910079</td>\n",
       "      <td>1.696585e+09</td>\n",
       "      <td>157723.000000</td>\n",
       "      <td>84.000000</td>\n",
       "      <td>1.000000</td>\n",
       "      <td>1.000000</td>\n",
       "      <td>1.000000</td>\n",
       "      <td>100.000000</td>\n",
       "      <td>100.000000</td>\n",
       "      <td>1.000000</td>\n",
       "      <td>1.000000</td>\n",
       "      <td>1.000000</td>\n",
       "      <td>1.000000</td>\n",
       "      <td>65535.000000</td>\n",
       "      <td>65507.000000</td>\n",
       "    </tr>\n",
       "  </tbody>\n",
       "</table>\n",
       "</div>"
      ],
      "text/plain": [
       "            conn len     src bytes      dst bytes      conn numb  \\\n",
       "count  419146.000000  4.191460e+05  419146.000000  419146.000000   \n",
       "mean        0.897800  2.168004e+04     364.750896       2.522923   \n",
       "std         4.749450  4.708272e+06    2285.497265       5.451557   \n",
       "min         0.000000  0.000000e+00       0.000000       0.000000   \n",
       "25%         0.000000  0.000000e+00       0.000000       0.000000   \n",
       "50%         0.000091  0.000000e+00       0.000000       0.000000   \n",
       "75%         0.721284  4.500000e+01      77.000000       3.000000   \n",
       "max      1061.910079  1.696585e+09  157723.000000      84.000000   \n",
       "\n",
       "       Same srv rate    Serror rate  Srv serror rate  Dst host count  \\\n",
       "count  419146.000000  419146.000000    419146.000000   419146.000000   \n",
       "mean        0.357259       0.064550         0.548421       25.437657   \n",
       "std         0.477454       0.244823         0.462899       41.519257   \n",
       "min         0.000000       0.000000         0.000000        0.000000   \n",
       "25%         0.000000       0.000000         0.000000        0.000000   \n",
       "50%         0.000000       0.000000         0.750000        0.000000   \n",
       "75%         1.000000       0.000000         1.000000       73.000000   \n",
       "max         1.000000       1.000000         1.000000      100.000000   \n",
       "\n",
       "       Dst host srv count  Dst host same src port rate  Dst host serror rate  \\\n",
       "count       419146.000000                419146.000000         419146.000000   \n",
       "mean            28.919419                     0.073814              0.068824   \n",
       "std             42.252740                     0.259441              0.252677   \n",
       "min              0.000000                     0.000000              0.000000   \n",
       "25%              0.000000                     0.000000              0.000000   \n",
       "50%              1.000000                     0.000000              0.000000   \n",
       "75%             92.000000                     0.000000              0.000000   \n",
       "max            100.000000                     1.000000              1.000000   \n",
       "\n",
       "       Dst host srv serror rate    attack_flag       src port       dst port  \n",
       "count             419146.000000  419146.000000  419146.000000  419146.000000  \n",
       "mean                   0.153320       0.808780   34004.366686    3584.727816  \n",
       "std                    0.357215       0.393262   19713.691673   10928.964687  \n",
       "min                    0.000000       0.000000       0.000000       0.000000  \n",
       "25%                    0.000000       1.000000   12375.000000      23.000000  \n",
       "50%                    0.000000       1.000000   38884.000000      53.000000  \n",
       "75%                    0.000000       1.000000   50359.000000    1433.000000  \n",
       "max                    1.000000       1.000000   65535.000000   65507.000000  "
      ]
     },
     "execution_count": 7,
     "metadata": {},
     "output_type": "execute_result"
    }
   ],
   "source": [
    "data.describe()"
   ]
  },
  {
   "cell_type": "code",
   "execution_count": 8,
   "metadata": {},
   "outputs": [
    {
     "data": {
      "text/plain": [
       "(419146, 18)"
      ]
     },
     "execution_count": 8,
     "metadata": {},
     "output_type": "execute_result"
    }
   ],
   "source": [
    "# removing NaNs\n",
    "data = data.dropna()\n",
    "data.shape"
   ]
  },
  {
   "cell_type": "code",
   "execution_count": 9,
   "metadata": {},
   "outputs": [
    {
     "data": {
      "text/plain": [
       "S0        247950\n",
       "SF        104018\n",
       "RSTO       26466\n",
       "OTH        19608\n",
       "REJ        15659\n",
       "RSTRH       1853\n",
       "RSTOS0      1514\n",
       "SHR         1195\n",
       "RSTR         778\n",
       "S1           103\n",
       "SH             2\n",
       "Name: Conn state, dtype: int64"
      ]
     },
     "execution_count": 9,
     "metadata": {},
     "output_type": "execute_result"
    }
   ],
   "source": [
    "data[\"Conn state\"].value_counts(dropna=False)"
   ]
  },
  {
   "cell_type": "code",
   "execution_count": 10,
   "metadata": {},
   "outputs": [
    {
     "data": {
      "text/plain": [
       "other      259775\n",
       "dns        102883\n",
       "ssh         29769\n",
       "sip         20915\n",
       "rdp          3640\n",
       "snmp         1096\n",
       "smtp          999\n",
       "dhcp           43\n",
       "http           21\n",
       "ssl             3\n",
       "dns,sip         2\n",
       "Name: service, dtype: int64"
      ]
     },
     "execution_count": 10,
     "metadata": {},
     "output_type": "execute_result"
    }
   ],
   "source": [
    "data[\"service\"].value_counts(dropna=False)"
   ]
  },
  {
   "cell_type": "code",
   "execution_count": 11,
   "metadata": {},
   "outputs": [
    {
     "data": {
      "text/plain": [
       "tcp     256581\n",
       "udp     153868\n",
       "icmp      8697\n",
       "Name: proto, dtype: int64"
      ]
     },
     "execution_count": 11,
     "metadata": {},
     "output_type": "execute_result"
    }
   ],
   "source": [
    "data[\"proto\"].value_counts(dropna=False)"
   ]
  },
  {
   "cell_type": "markdown",
   "metadata": {},
   "source": [
    "# a bit of feature engineering"
   ]
  },
  {
   "cell_type": "markdown",
   "metadata": {},
   "source": [
    "## port numbers classification"
   ]
  },
  {
   "cell_type": "code",
   "execution_count": 12,
   "metadata": {},
   "outputs": [],
   "source": [
    "t1 = 1023  # well-known port numbers\n",
    "t2 = 49151 # registered ports\n",
    "t3 = 65535 # client ports\n",
    "\n",
    "def wk(data_row):\n",
    "    if (data_row[\"src port\"] <= t1): \n",
    "        value = 1\n",
    "    elif ((data_row[\"src port\"] > t1) and (data_row[\"src port\"] <= t2)):\n",
    "        value = 0\n",
    "    elif ((data_row[\"src port\"] > t2) and (data_row[\"src port\"] <= t3)):\n",
    "        value = 0\n",
    "    return value\n",
    "\n",
    "def reg(data_row):\n",
    "    if (data_row[\"src port\"] <= t1): \n",
    "        value = 0\n",
    "    elif ((data_row[\"src port\"] > t1) and (data_row[\"src port\"] <= t2)):\n",
    "        value = 1\n",
    "    elif ((data_row[\"src port\"] > t2) and (data_row[\"src port\"] <= t3)):\n",
    "        value = 0\n",
    "    return value\n",
    "\n",
    "def cli(data_row):\n",
    "    if (data_row[\"src port\"] <= t1): \n",
    "        value = 0\n",
    "    elif ((data_row[\"src port\"] > t1) and (data_row[\"src port\"] <= t2)):\n",
    "        value = 0\n",
    "    elif ((data_row[\"src port\"] > t2) and (data_row[\"src port\"] <= t3)):\n",
    "        value = 1\n",
    "    return value\n",
    "\n",
    "data[\"well-known src pool\"] = data.apply(wk, axis=1)\n",
    "data[\"registered src pool\"] = data.apply(reg, axis=1)\n",
    "data[\"cli src pool\"] = data.apply(cli, axis=1)"
   ]
  },
  {
   "cell_type": "code",
   "execution_count": 13,
   "metadata": {},
   "outputs": [
    {
     "name": "stdout",
     "output_type": "stream",
     "text": [
      "Counter({0: 406741, 1: 12405})\n",
      "Counter({1: 291278, 0: 127868})\n",
      "Counter({0: 303683, 1: 115463})\n"
     ]
    }
   ],
   "source": [
    "print(Counter(data[\"well-known src pool\"]))\n",
    "print(Counter(data[\"registered src pool\"]))\n",
    "print(Counter(data[\"cli src pool\"]))"
   ]
  },
  {
   "cell_type": "code",
   "execution_count": 14,
   "metadata": {
    "scrolled": true
   },
   "outputs": [
    {
     "name": "stdout",
     "output_type": "stream",
     "text": [
      "<class 'pandas.core.frame.DataFrame'>\n",
      "Int64Index: 419146 entries, 0 to 419145\n",
      "Data columns (total 21 columns):\n",
      "conn len                       419146 non-null float64\n",
      "service                        419146 non-null object\n",
      "src bytes                      419146 non-null int64\n",
      "dst bytes                      419146 non-null int64\n",
      "conn numb                      419146 non-null int64\n",
      "Same srv rate                  419146 non-null float64\n",
      "Serror rate                    419146 non-null float64\n",
      "Srv serror rate                419146 non-null float64\n",
      "Dst host count                 419146 non-null int64\n",
      "Dst host srv count             419146 non-null int64\n",
      "Dst host same src port rate    419146 non-null float64\n",
      "Dst host serror rate           419146 non-null float64\n",
      "Dst host srv serror rate       419146 non-null float64\n",
      "Conn state                     419146 non-null object\n",
      "attack_flag                    419146 non-null int64\n",
      "src port                       419146 non-null int64\n",
      "dst port                       419146 non-null int64\n",
      "proto                          419146 non-null object\n",
      "well-known src pool            419146 non-null int64\n",
      "registered src pool            419146 non-null int64\n",
      "cli src pool                   419146 non-null int64\n",
      "dtypes: float64(7), int64(11), object(3)\n",
      "memory usage: 70.4+ MB\n"
     ]
    }
   ],
   "source": [
    "data.info()"
   ]
  },
  {
   "cell_type": "code",
   "execution_count": 15,
   "metadata": {},
   "outputs": [
    {
     "data": {
      "text/html": [
       "<div>\n",
       "<style scoped>\n",
       "    .dataframe tbody tr th:only-of-type {\n",
       "        vertical-align: middle;\n",
       "    }\n",
       "\n",
       "    .dataframe tbody tr th {\n",
       "        vertical-align: top;\n",
       "    }\n",
       "\n",
       "    .dataframe thead th {\n",
       "        text-align: right;\n",
       "    }\n",
       "</style>\n",
       "<table border=\"1\" class=\"dataframe\">\n",
       "  <thead>\n",
       "    <tr style=\"text-align: right;\">\n",
       "      <th></th>\n",
       "      <th>src port</th>\n",
       "      <th>dst port</th>\n",
       "      <th>well-known src pool</th>\n",
       "      <th>registered src pool</th>\n",
       "      <th>cli src pool</th>\n",
       "    </tr>\n",
       "  </thead>\n",
       "  <tbody>\n",
       "    <tr>\n",
       "      <th>0</th>\n",
       "      <td>40061</td>\n",
       "      <td>111</td>\n",
       "      <td>0</td>\n",
       "      <td>1</td>\n",
       "      <td>0</td>\n",
       "    </tr>\n",
       "    <tr>\n",
       "      <th>1</th>\n",
       "      <td>53488</td>\n",
       "      <td>80</td>\n",
       "      <td>0</td>\n",
       "      <td>0</td>\n",
       "      <td>1</td>\n",
       "    </tr>\n",
       "    <tr>\n",
       "      <th>2</th>\n",
       "      <td>35051</td>\n",
       "      <td>23</td>\n",
       "      <td>0</td>\n",
       "      <td>1</td>\n",
       "      <td>0</td>\n",
       "    </tr>\n",
       "    <tr>\n",
       "      <th>3</th>\n",
       "      <td>1408</td>\n",
       "      <td>445</td>\n",
       "      <td>0</td>\n",
       "      <td>1</td>\n",
       "      <td>0</td>\n",
       "    </tr>\n",
       "    <tr>\n",
       "      <th>4</th>\n",
       "      <td>55244</td>\n",
       "      <td>995</td>\n",
       "      <td>0</td>\n",
       "      <td>0</td>\n",
       "      <td>1</td>\n",
       "    </tr>\n",
       "    <tr>\n",
       "      <th>5</th>\n",
       "      <td>44544</td>\n",
       "      <td>995</td>\n",
       "      <td>0</td>\n",
       "      <td>1</td>\n",
       "      <td>0</td>\n",
       "    </tr>\n",
       "    <tr>\n",
       "      <th>6</th>\n",
       "      <td>50678</td>\n",
       "      <td>5900</td>\n",
       "      <td>0</td>\n",
       "      <td>0</td>\n",
       "      <td>1</td>\n",
       "    </tr>\n",
       "    <tr>\n",
       "      <th>7</th>\n",
       "      <td>35051</td>\n",
       "      <td>23</td>\n",
       "      <td>0</td>\n",
       "      <td>1</td>\n",
       "      <td>0</td>\n",
       "    </tr>\n",
       "    <tr>\n",
       "      <th>8</th>\n",
       "      <td>50678</td>\n",
       "      <td>5900</td>\n",
       "      <td>0</td>\n",
       "      <td>0</td>\n",
       "      <td>1</td>\n",
       "    </tr>\n",
       "    <tr>\n",
       "      <th>9</th>\n",
       "      <td>50678</td>\n",
       "      <td>5900</td>\n",
       "      <td>0</td>\n",
       "      <td>0</td>\n",
       "      <td>1</td>\n",
       "    </tr>\n",
       "    <tr>\n",
       "      <th>10</th>\n",
       "      <td>59625</td>\n",
       "      <td>21</td>\n",
       "      <td>0</td>\n",
       "      <td>0</td>\n",
       "      <td>1</td>\n",
       "    </tr>\n",
       "    <tr>\n",
       "      <th>11</th>\n",
       "      <td>42626</td>\n",
       "      <td>111</td>\n",
       "      <td>0</td>\n",
       "      <td>1</td>\n",
       "      <td>0</td>\n",
       "    </tr>\n",
       "    <tr>\n",
       "      <th>12</th>\n",
       "      <td>2194</td>\n",
       "      <td>445</td>\n",
       "      <td>0</td>\n",
       "      <td>1</td>\n",
       "      <td>0</td>\n",
       "    </tr>\n",
       "    <tr>\n",
       "      <th>13</th>\n",
       "      <td>7432</td>\n",
       "      <td>22</td>\n",
       "      <td>0</td>\n",
       "      <td>1</td>\n",
       "      <td>0</td>\n",
       "    </tr>\n",
       "    <tr>\n",
       "      <th>14</th>\n",
       "      <td>7206</td>\n",
       "      <td>80</td>\n",
       "      <td>0</td>\n",
       "      <td>1</td>\n",
       "      <td>0</td>\n",
       "    </tr>\n",
       "    <tr>\n",
       "      <th>15</th>\n",
       "      <td>55133</td>\n",
       "      <td>53</td>\n",
       "      <td>0</td>\n",
       "      <td>0</td>\n",
       "      <td>1</td>\n",
       "    </tr>\n",
       "    <tr>\n",
       "      <th>16</th>\n",
       "      <td>60169</td>\n",
       "      <td>80</td>\n",
       "      <td>0</td>\n",
       "      <td>0</td>\n",
       "      <td>1</td>\n",
       "    </tr>\n",
       "    <tr>\n",
       "      <th>17</th>\n",
       "      <td>63030</td>\n",
       "      <td>2222</td>\n",
       "      <td>0</td>\n",
       "      <td>0</td>\n",
       "      <td>1</td>\n",
       "    </tr>\n",
       "    <tr>\n",
       "      <th>18</th>\n",
       "      <td>31905</td>\n",
       "      <td>445</td>\n",
       "      <td>0</td>\n",
       "      <td>1</td>\n",
       "      <td>0</td>\n",
       "    </tr>\n",
       "    <tr>\n",
       "      <th>19</th>\n",
       "      <td>59625</td>\n",
       "      <td>21</td>\n",
       "      <td>0</td>\n",
       "      <td>0</td>\n",
       "      <td>1</td>\n",
       "    </tr>\n",
       "    <tr>\n",
       "      <th>20</th>\n",
       "      <td>36939</td>\n",
       "      <td>111</td>\n",
       "      <td>0</td>\n",
       "      <td>1</td>\n",
       "      <td>0</td>\n",
       "    </tr>\n",
       "    <tr>\n",
       "      <th>21</th>\n",
       "      <td>7432</td>\n",
       "      <td>22</td>\n",
       "      <td>0</td>\n",
       "      <td>1</td>\n",
       "      <td>0</td>\n",
       "    </tr>\n",
       "    <tr>\n",
       "      <th>22</th>\n",
       "      <td>25385</td>\n",
       "      <td>445</td>\n",
       "      <td>0</td>\n",
       "      <td>1</td>\n",
       "      <td>0</td>\n",
       "    </tr>\n",
       "    <tr>\n",
       "      <th>23</th>\n",
       "      <td>36877</td>\n",
       "      <td>2332</td>\n",
       "      <td>0</td>\n",
       "      <td>1</td>\n",
       "      <td>0</td>\n",
       "    </tr>\n",
       "    <tr>\n",
       "      <th>24</th>\n",
       "      <td>7206</td>\n",
       "      <td>80</td>\n",
       "      <td>0</td>\n",
       "      <td>1</td>\n",
       "      <td>0</td>\n",
       "    </tr>\n",
       "    <tr>\n",
       "      <th>25</th>\n",
       "      <td>56346</td>\n",
       "      <td>8888</td>\n",
       "      <td>0</td>\n",
       "      <td>0</td>\n",
       "      <td>1</td>\n",
       "    </tr>\n",
       "    <tr>\n",
       "      <th>26</th>\n",
       "      <td>37854</td>\n",
       "      <td>445</td>\n",
       "      <td>0</td>\n",
       "      <td>1</td>\n",
       "      <td>0</td>\n",
       "    </tr>\n",
       "    <tr>\n",
       "      <th>27</th>\n",
       "      <td>56248</td>\n",
       "      <td>445</td>\n",
       "      <td>0</td>\n",
       "      <td>0</td>\n",
       "      <td>1</td>\n",
       "    </tr>\n",
       "    <tr>\n",
       "      <th>28</th>\n",
       "      <td>38273</td>\n",
       "      <td>1080</td>\n",
       "      <td>0</td>\n",
       "      <td>1</td>\n",
       "      <td>0</td>\n",
       "    </tr>\n",
       "    <tr>\n",
       "      <th>29</th>\n",
       "      <td>3026</td>\n",
       "      <td>445</td>\n",
       "      <td>0</td>\n",
       "      <td>1</td>\n",
       "      <td>0</td>\n",
       "    </tr>\n",
       "  </tbody>\n",
       "</table>\n",
       "</div>"
      ],
      "text/plain": [
       "    src port  dst port  well-known src pool  registered src pool  cli src pool\n",
       "0      40061       111                    0                    1             0\n",
       "1      53488        80                    0                    0             1\n",
       "2      35051        23                    0                    1             0\n",
       "3       1408       445                    0                    1             0\n",
       "4      55244       995                    0                    0             1\n",
       "5      44544       995                    0                    1             0\n",
       "6      50678      5900                    0                    0             1\n",
       "7      35051        23                    0                    1             0\n",
       "8      50678      5900                    0                    0             1\n",
       "9      50678      5900                    0                    0             1\n",
       "10     59625        21                    0                    0             1\n",
       "11     42626       111                    0                    1             0\n",
       "12      2194       445                    0                    1             0\n",
       "13      7432        22                    0                    1             0\n",
       "14      7206        80                    0                    1             0\n",
       "15     55133        53                    0                    0             1\n",
       "16     60169        80                    0                    0             1\n",
       "17     63030      2222                    0                    0             1\n",
       "18     31905       445                    0                    1             0\n",
       "19     59625        21                    0                    0             1\n",
       "20     36939       111                    0                    1             0\n",
       "21      7432        22                    0                    1             0\n",
       "22     25385       445                    0                    1             0\n",
       "23     36877      2332                    0                    1             0\n",
       "24      7206        80                    0                    1             0\n",
       "25     56346      8888                    0                    0             1\n",
       "26     37854       445                    0                    1             0\n",
       "27     56248       445                    0                    0             1\n",
       "28     38273      1080                    0                    1             0\n",
       "29      3026       445                    0                    1             0"
      ]
     },
     "execution_count": 15,
     "metadata": {},
     "output_type": "execute_result"
    }
   ],
   "source": [
    "# data.loc[:, [\"src port\", \"dst port\", \"well-known src pool\", \"registered src pool\", \"cli src pool\", \"well-known dst pool\", \"registered dst pool\", \"cli dst pool\"]].head(30)\n",
    "data.loc[:, [\"src port\", \"dst port\", \"well-known src pool\", \"registered src pool\", \"cli src pool\"]].head(30)"
   ]
  },
  {
   "cell_type": "markdown",
   "metadata": {},
   "source": [
    "## Change port number info to categorical"
   ]
  },
  {
   "cell_type": "code",
   "execution_count": 16,
   "metadata": {},
   "outputs": [],
   "source": [
    "data[\"src port\"] = data[\"src port\"].apply(str)\n",
    "data[\"dst port\"] = data[\"dst port\"].apply(str)\n",
    "data['src port'].nunique()\n",
    "data['dst port'].nunique()\n",
    "\n",
    "thresh1 = 230\n",
    "thresh2 = 230\n",
    "counts1 = data['src port'].value_counts()\n",
    "counts2 = data['dst port'].value_counts()\n",
    "\n",
    "repl1 = counts1[counts1 <= thresh1].index\n",
    "repl2 = counts2[counts2 <= thresh2].index\n",
    "\n",
    "#hot one encoding for src port numbers\n",
    "data = pd.concat([data, pd.get_dummies(data[\"src port\"].replace(repl1, 'other_src'), prefix=\"is_src\")], axis=1)\n",
    "\n",
    "#hot one encoding for dst port numbers\n",
    "data = pd.concat([data, pd.get_dummies(data[\"dst port\"].replace(repl2, 'other_dst'), prefix=\"is_dst\")], axis=1)"
   ]
  },
  {
   "cell_type": "code",
   "execution_count": 17,
   "metadata": {},
   "outputs": [
    {
     "data": {
      "text/plain": [
       "(419146, 267)"
      ]
     },
     "execution_count": 17,
     "metadata": {},
     "output_type": "execute_result"
    }
   ],
   "source": [
    "data.shape"
   ]
  },
  {
   "cell_type": "markdown",
   "metadata": {},
   "source": [
    "## Hot one encoding"
   ]
  },
  {
   "cell_type": "code",
   "execution_count": 18,
   "metadata": {},
   "outputs": [
    {
     "data": {
      "text/html": [
       "<div>\n",
       "<style scoped>\n",
       "    .dataframe tbody tr th:only-of-type {\n",
       "        vertical-align: middle;\n",
       "    }\n",
       "\n",
       "    .dataframe tbody tr th {\n",
       "        vertical-align: top;\n",
       "    }\n",
       "\n",
       "    .dataframe thead th {\n",
       "        text-align: right;\n",
       "    }\n",
       "</style>\n",
       "<table border=\"1\" class=\"dataframe\">\n",
       "  <thead>\n",
       "    <tr style=\"text-align: right;\">\n",
       "      <th></th>\n",
       "      <th>conn len</th>\n",
       "      <th>service</th>\n",
       "      <th>src bytes</th>\n",
       "      <th>dst bytes</th>\n",
       "      <th>conn numb</th>\n",
       "      <th>Same srv rate</th>\n",
       "      <th>Serror rate</th>\n",
       "      <th>Srv serror rate</th>\n",
       "      <th>Dst host count</th>\n",
       "      <th>Dst host srv count</th>\n",
       "      <th>...</th>\n",
       "      <th>state_REJ</th>\n",
       "      <th>state_RSTO</th>\n",
       "      <th>state_RSTOS0</th>\n",
       "      <th>state_RSTR</th>\n",
       "      <th>state_RSTRH</th>\n",
       "      <th>state_S0</th>\n",
       "      <th>state_S1</th>\n",
       "      <th>state_SF</th>\n",
       "      <th>state_SH</th>\n",
       "      <th>state_SHR</th>\n",
       "    </tr>\n",
       "  </thead>\n",
       "  <tbody>\n",
       "    <tr>\n",
       "      <th>419136</th>\n",
       "      <td>0.000000</td>\n",
       "      <td>other</td>\n",
       "      <td>0</td>\n",
       "      <td>0</td>\n",
       "      <td>0</td>\n",
       "      <td>0.0</td>\n",
       "      <td>0.0</td>\n",
       "      <td>1.00</td>\n",
       "      <td>0</td>\n",
       "      <td>0</td>\n",
       "      <td>...</td>\n",
       "      <td>0</td>\n",
       "      <td>0</td>\n",
       "      <td>0</td>\n",
       "      <td>0</td>\n",
       "      <td>0</td>\n",
       "      <td>1</td>\n",
       "      <td>0</td>\n",
       "      <td>0</td>\n",
       "      <td>0</td>\n",
       "      <td>0</td>\n",
       "    </tr>\n",
       "    <tr>\n",
       "      <th>419137</th>\n",
       "      <td>0.000000</td>\n",
       "      <td>other</td>\n",
       "      <td>0</td>\n",
       "      <td>0</td>\n",
       "      <td>0</td>\n",
       "      <td>0.0</td>\n",
       "      <td>0.0</td>\n",
       "      <td>0.00</td>\n",
       "      <td>1</td>\n",
       "      <td>1</td>\n",
       "      <td>...</td>\n",
       "      <td>0</td>\n",
       "      <td>0</td>\n",
       "      <td>0</td>\n",
       "      <td>0</td>\n",
       "      <td>0</td>\n",
       "      <td>1</td>\n",
       "      <td>0</td>\n",
       "      <td>0</td>\n",
       "      <td>0</td>\n",
       "      <td>0</td>\n",
       "    </tr>\n",
       "    <tr>\n",
       "      <th>419138</th>\n",
       "      <td>0.485847</td>\n",
       "      <td>other</td>\n",
       "      <td>0</td>\n",
       "      <td>0</td>\n",
       "      <td>0</td>\n",
       "      <td>0.0</td>\n",
       "      <td>0.0</td>\n",
       "      <td>1.00</td>\n",
       "      <td>5</td>\n",
       "      <td>4</td>\n",
       "      <td>...</td>\n",
       "      <td>0</td>\n",
       "      <td>0</td>\n",
       "      <td>0</td>\n",
       "      <td>1</td>\n",
       "      <td>0</td>\n",
       "      <td>0</td>\n",
       "      <td>0</td>\n",
       "      <td>0</td>\n",
       "      <td>0</td>\n",
       "      <td>0</td>\n",
       "    </tr>\n",
       "    <tr>\n",
       "      <th>419139</th>\n",
       "      <td>3.253905</td>\n",
       "      <td>other</td>\n",
       "      <td>0</td>\n",
       "      <td>0</td>\n",
       "      <td>0</td>\n",
       "      <td>0.0</td>\n",
       "      <td>0.0</td>\n",
       "      <td>0.50</td>\n",
       "      <td>1</td>\n",
       "      <td>39</td>\n",
       "      <td>...</td>\n",
       "      <td>0</td>\n",
       "      <td>0</td>\n",
       "      <td>0</td>\n",
       "      <td>0</td>\n",
       "      <td>0</td>\n",
       "      <td>1</td>\n",
       "      <td>0</td>\n",
       "      <td>0</td>\n",
       "      <td>0</td>\n",
       "      <td>0</td>\n",
       "    </tr>\n",
       "    <tr>\n",
       "      <th>419140</th>\n",
       "      <td>0.000000</td>\n",
       "      <td>other</td>\n",
       "      <td>0</td>\n",
       "      <td>0</td>\n",
       "      <td>0</td>\n",
       "      <td>0.0</td>\n",
       "      <td>0.0</td>\n",
       "      <td>0.67</td>\n",
       "      <td>4</td>\n",
       "      <td>4</td>\n",
       "      <td>...</td>\n",
       "      <td>0</td>\n",
       "      <td>0</td>\n",
       "      <td>0</td>\n",
       "      <td>0</td>\n",
       "      <td>0</td>\n",
       "      <td>1</td>\n",
       "      <td>0</td>\n",
       "      <td>0</td>\n",
       "      <td>0</td>\n",
       "      <td>0</td>\n",
       "    </tr>\n",
       "    <tr>\n",
       "      <th>419141</th>\n",
       "      <td>0.000000</td>\n",
       "      <td>other</td>\n",
       "      <td>0</td>\n",
       "      <td>0</td>\n",
       "      <td>0</td>\n",
       "      <td>0.0</td>\n",
       "      <td>0.0</td>\n",
       "      <td>0.75</td>\n",
       "      <td>0</td>\n",
       "      <td>0</td>\n",
       "      <td>...</td>\n",
       "      <td>0</td>\n",
       "      <td>0</td>\n",
       "      <td>0</td>\n",
       "      <td>0</td>\n",
       "      <td>0</td>\n",
       "      <td>0</td>\n",
       "      <td>0</td>\n",
       "      <td>0</td>\n",
       "      <td>0</td>\n",
       "      <td>0</td>\n",
       "    </tr>\n",
       "    <tr>\n",
       "      <th>419142</th>\n",
       "      <td>3.135446</td>\n",
       "      <td>rdp</td>\n",
       "      <td>1726</td>\n",
       "      <td>5591</td>\n",
       "      <td>1</td>\n",
       "      <td>0.0</td>\n",
       "      <td>0.0</td>\n",
       "      <td>0.00</td>\n",
       "      <td>5</td>\n",
       "      <td>72</td>\n",
       "      <td>...</td>\n",
       "      <td>0</td>\n",
       "      <td>0</td>\n",
       "      <td>0</td>\n",
       "      <td>0</td>\n",
       "      <td>0</td>\n",
       "      <td>0</td>\n",
       "      <td>1</td>\n",
       "      <td>0</td>\n",
       "      <td>0</td>\n",
       "      <td>0</td>\n",
       "    </tr>\n",
       "    <tr>\n",
       "      <th>419143</th>\n",
       "      <td>0.000000</td>\n",
       "      <td>other</td>\n",
       "      <td>0</td>\n",
       "      <td>0</td>\n",
       "      <td>0</td>\n",
       "      <td>0.0</td>\n",
       "      <td>0.0</td>\n",
       "      <td>0.60</td>\n",
       "      <td>0</td>\n",
       "      <td>2</td>\n",
       "      <td>...</td>\n",
       "      <td>0</td>\n",
       "      <td>0</td>\n",
       "      <td>0</td>\n",
       "      <td>0</td>\n",
       "      <td>0</td>\n",
       "      <td>1</td>\n",
       "      <td>0</td>\n",
       "      <td>0</td>\n",
       "      <td>0</td>\n",
       "      <td>0</td>\n",
       "    </tr>\n",
       "    <tr>\n",
       "      <th>419144</th>\n",
       "      <td>0.000000</td>\n",
       "      <td>other</td>\n",
       "      <td>0</td>\n",
       "      <td>0</td>\n",
       "      <td>0</td>\n",
       "      <td>0.0</td>\n",
       "      <td>0.0</td>\n",
       "      <td>0.67</td>\n",
       "      <td>0</td>\n",
       "      <td>0</td>\n",
       "      <td>...</td>\n",
       "      <td>0</td>\n",
       "      <td>0</td>\n",
       "      <td>0</td>\n",
       "      <td>0</td>\n",
       "      <td>0</td>\n",
       "      <td>1</td>\n",
       "      <td>0</td>\n",
       "      <td>0</td>\n",
       "      <td>0</td>\n",
       "      <td>0</td>\n",
       "    </tr>\n",
       "    <tr>\n",
       "      <th>419145</th>\n",
       "      <td>0.000000</td>\n",
       "      <td>other</td>\n",
       "      <td>0</td>\n",
       "      <td>0</td>\n",
       "      <td>0</td>\n",
       "      <td>0.0</td>\n",
       "      <td>0.0</td>\n",
       "      <td>1.00</td>\n",
       "      <td>0</td>\n",
       "      <td>0</td>\n",
       "      <td>...</td>\n",
       "      <td>0</td>\n",
       "      <td>0</td>\n",
       "      <td>0</td>\n",
       "      <td>0</td>\n",
       "      <td>0</td>\n",
       "      <td>1</td>\n",
       "      <td>0</td>\n",
       "      <td>0</td>\n",
       "      <td>0</td>\n",
       "      <td>0</td>\n",
       "    </tr>\n",
       "  </tbody>\n",
       "</table>\n",
       "<p>10 rows × 292 columns</p>\n",
       "</div>"
      ],
      "text/plain": [
       "        conn len service  src bytes  dst bytes  conn numb  Same srv rate  \\\n",
       "419136  0.000000   other          0          0          0            0.0   \n",
       "419137  0.000000   other          0          0          0            0.0   \n",
       "419138  0.485847   other          0          0          0            0.0   \n",
       "419139  3.253905   other          0          0          0            0.0   \n",
       "419140  0.000000   other          0          0          0            0.0   \n",
       "419141  0.000000   other          0          0          0            0.0   \n",
       "419142  3.135446     rdp       1726       5591          1            0.0   \n",
       "419143  0.000000   other          0          0          0            0.0   \n",
       "419144  0.000000   other          0          0          0            0.0   \n",
       "419145  0.000000   other          0          0          0            0.0   \n",
       "\n",
       "        Serror rate  Srv serror rate  Dst host count  Dst host srv count  \\\n",
       "419136          0.0             1.00               0                   0   \n",
       "419137          0.0             0.00               1                   1   \n",
       "419138          0.0             1.00               5                   4   \n",
       "419139          0.0             0.50               1                  39   \n",
       "419140          0.0             0.67               4                   4   \n",
       "419141          0.0             0.75               0                   0   \n",
       "419142          0.0             0.00               5                  72   \n",
       "419143          0.0             0.60               0                   2   \n",
       "419144          0.0             0.67               0                   0   \n",
       "419145          0.0             1.00               0                   0   \n",
       "\n",
       "          ...      state_REJ  state_RSTO  state_RSTOS0 state_RSTR  \\\n",
       "419136    ...              0           0             0          0   \n",
       "419137    ...              0           0             0          0   \n",
       "419138    ...              0           0             0          1   \n",
       "419139    ...              0           0             0          0   \n",
       "419140    ...              0           0             0          0   \n",
       "419141    ...              0           0             0          0   \n",
       "419142    ...              0           0             0          0   \n",
       "419143    ...              0           0             0          0   \n",
       "419144    ...              0           0             0          0   \n",
       "419145    ...              0           0             0          0   \n",
       "\n",
       "        state_RSTRH state_S0 state_S1 state_SF  state_SH  state_SHR  \n",
       "419136            0        1        0        0         0          0  \n",
       "419137            0        1        0        0         0          0  \n",
       "419138            0        0        0        0         0          0  \n",
       "419139            0        1        0        0         0          0  \n",
       "419140            0        1        0        0         0          0  \n",
       "419141            0        0        0        0         0          0  \n",
       "419142            0        0        1        0         0          0  \n",
       "419143            0        1        0        0         0          0  \n",
       "419144            0        1        0        0         0          0  \n",
       "419145            0        1        0        0         0          0  \n",
       "\n",
       "[10 rows x 292 columns]"
      ]
     },
     "execution_count": 18,
     "metadata": {},
     "output_type": "execute_result"
    }
   ],
   "source": [
    "### hot one encoding ###\n",
    "\n",
    "# hot one encoding for service\n",
    "data = pd.concat([data, pd.get_dummies(data[\"service\"], prefix=\"is\")], axis=1)\n",
    "data.tail(10)\n",
    "\n",
    "#hot one encoding for proto - commented due to reduced column number\n",
    "data = pd.concat([data, pd.get_dummies(data[\"proto\"], prefix=\"is\")], axis=1)\n",
    "data.tail(10)\n",
    "\n",
    "# hot one encoding for conn state\n",
    "data = pd.concat([data, pd.get_dummies(data[\"Conn state\"], prefix=\"state\")], axis=1)\n",
    "data.tail(10)"
   ]
  },
  {
   "cell_type": "code",
   "execution_count": 19,
   "metadata": {},
   "outputs": [
    {
     "name": "stdout",
     "output_type": "stream",
     "text": [
      "<class 'pandas.core.frame.DataFrame'>\n",
      "Int64Index: 419146 entries, 0 to 419145\n",
      "Columns: 292 entries, conn len to state_SHR\n",
      "dtypes: float64(7), int64(9), object(5), uint8(271)\n",
      "memory usage: 178.7+ MB\n"
     ]
    }
   ],
   "source": [
    "data.info()"
   ]
  },
  {
   "cell_type": "markdown",
   "metadata": {},
   "source": [
    "## Plot function definition"
   ]
  },
  {
   "cell_type": "code",
   "execution_count": 20,
   "metadata": {},
   "outputs": [],
   "source": [
    "# plotting method definition\n",
    "\n",
    "def plot_stats(stat, name, width, rot):\n",
    "    fig, ax = plt.subplots(figsize=(width, 4))    \n",
    "    ax.bar(range(len(stat)), list(stat.values()), align='center')\n",
    "    plt.xticks(range(len(stat)), list(stat.keys()), rotation=rot)\n",
    "    for a,b in enumerate(stat.items()):\n",
    "        ax.text(a, b[1] + max(stat.values())/60 , str(round(b[1],5)), horizontalalignment ='center', verticalalignment='baseline')\n",
    "    ax.spines['right'].set_visible(False)\n",
    "    ax.spines['top'].set_visible(False)\n",
    "    plt.title(name + \" of tested algorithms\")\n",
    "    plt.show()"
   ]
  },
  {
   "cell_type": "markdown",
   "metadata": {},
   "source": [
    "## Dataset split"
   ]
  },
  {
   "cell_type": "code",
   "execution_count": 21,
   "metadata": {},
   "outputs": [],
   "source": [
    "data.rename(columns={'Dst host count': 'Dst_host_count', \"Dst host srv count\" : \"Dst_host_srv_count\",\n",
    "                    \"Dst host same src port rate\" : \"Dst_host_same_src_port_rate\",\n",
    "                    \"Dst host serror rate\" : \"Dst_host_serror_rate\",\n",
    "                    \"Dst host srv serror rate\" : \"Dst_host_srv_serror_rate\",\n",
    "                    \"Same srv rate\" : \"Same_srv_rate\",\n",
    "                    \"Srv serror rate\" : \"Srv_serror_rate\",\n",
    "                    \"conn len\" : \"conn_len\",\n",
    "                    \"src bytes\" : \"src_bytes\",\n",
    "                    \"dst bytes\" : \"dst_bytes\",\n",
    "                    \"conn numb\" : \"conn_numb\",\n",
    "                    \"Serror rate\" : \"Serror_rate\",\n",
    "                    \"cli src pool\" : \"cli_src_pool\",\n",
    "                    \"registered src pool\" : \"registered_src_pool\",\n",
    "                    \"well-known src pool\" : \"well_known_src_pool\",\n",
    "                    \"dst port\" : \"dst_port\",\n",
    "                    \"src port\" : \"src_port\",\n",
    "                     \"Conn state\" : \"Conn_state\" \n",
    "                    }, inplace=True)"
   ]
  },
  {
   "cell_type": "code",
   "execution_count": 22,
   "metadata": {},
   "outputs": [
    {
     "name": "stdout",
     "output_type": "stream",
     "text": [
      "Counter({1: 54763, 0: 8109})\n",
      "Counter({1: 59796, 0: 3076})\n",
      "Counter({1: 224438, 0: 68964})\n"
     ]
    }
   ],
   "source": [
    "train, validate, test = np.split(data, [int(.7*len(data)), int(.85*len(data))])\n",
    "\n",
    "train_ex = train\n",
    "validate_ex = validate\n",
    "test_ex = test\n",
    "\n",
    "train = train.drop([\"service\", \"Conn_state\", \"proto\", \"src_port\", \"dst_port\"], axis=1)\n",
    "validate = validate.drop([\"service\", \"Conn_state\", \"proto\", \"src_port\", \"dst_port\"], axis=1)\n",
    "test = test.drop([\"service\", \"Conn_state\", \"proto\", \"src_port\", \"dst_port\"], axis=1)\n",
    "\n",
    "train = train.sample(frac=1)\n",
    "validate = validate.sample(frac=1)\n",
    "test = test.sample(frac=1)\n",
    "\n",
    "y_train = train.loc[:, \"attack_flag\"].values.ravel()\n",
    "X_train = train.drop([\"attack_flag\"], axis=1).astype(np.float32)\n",
    "y_validate = validate.loc[:, \"attack_flag\"].values.ravel()\n",
    "X_validate = validate.drop([\"attack_flag\"], axis=1).astype(np.float32)\n",
    "y_test = test.loc[:, \"attack_flag\"].values.ravel()\n",
    "X_test = test.drop([\"attack_flag\"], axis=1).astype(np.float32)\n",
    "\n",
    "print(Counter(y_test))\n",
    "print(Counter(y_validate))\n",
    "print(Counter(y_train))"
   ]
  },
  {
   "cell_type": "markdown",
   "metadata": {},
   "source": [
    "# Algoritms performance comparison"
   ]
  },
  {
   "cell_type": "code",
   "execution_count": 23,
   "metadata": {},
   "outputs": [
    {
     "name": "stdout",
     "output_type": "stream",
     "text": [
      "Counter({1: 54763, 0: 8109})\n"
     ]
    }
   ],
   "source": [
    "from collections import Counter\n",
    "\n",
    "print(Counter(y_test))\n",
    "\n",
    "Acc = {}\n",
    "F1S = {}\n",
    "Prec = {}\n",
    "Rec = {}\n",
    "FPR = {}"
   ]
  },
  {
   "cell_type": "code",
   "execution_count": 24,
   "metadata": {},
   "outputs": [
    {
     "name": "stdout",
     "output_type": "stream",
     "text": [
      "Algorithm: baseline     Accuracy: 0.87102, F1-score: 0.93107, Precision: 0.87102, Recall: 1.00000, FPR: 1.00000\n",
      "TN:   0; FP: 8109; FN:    0; TP: 54763\n",
      "\n"
     ]
    }
   ],
   "source": [
    "# Metrics of baseline method\n",
    "from sklearn import metrics\n",
    "\n",
    "name = \"baseline\"\n",
    "\n",
    "if(y_test.mean() > (1-y_test.mean())):\n",
    "    y_pred = np.ones(len(y_test)).ravel() \n",
    "else:\n",
    "    y_pred = np.zeros(len(y_test)).ravel() \n",
    "    \n",
    "Acc[name] = metrics.accuracy_score(y_test, y_pred)\n",
    "F1S[name] = metrics.f1_score(y_test, y_pred)\n",
    "Prec[name] = metrics.precision_score(y_test, y_pred)\n",
    "Rec[name] = metrics.recall_score(y_test, y_pred)\n",
    "tn, fp, fn, tp = metrics.confusion_matrix(y_test, y_pred).ravel()\n",
    "FPR[name] = fp/(fp+tn)\n",
    "\n",
    "print(\"Algorithm: {0:12} Accuracy: {1:.5f}, F1-score: {2:.5f}, Precision: {3:.5f}, Recall: {4:.5f}, FPR: {5:.5f}\".format(name, Acc[name], F1S[name], Prec[name], Rec[name], FPR[name]))\n",
    "print(\"TN: {0:3}; FP: {1:3}; FN: {2:4}; TP: {3:3}\\n\".format(tn, fp, fn, tp))"
   ]
  },
  {
   "cell_type": "code",
   "execution_count": 25,
   "metadata": {},
   "outputs": [
    {
     "name": "stdout",
     "output_type": "stream",
     "text": [
      "Algorithm: logistic Regression Accuracy: 0.92776, F1-score: 0.95724, Precision: 0.98793, Recall: 0.92840, FPR: 0.07658\n",
      "TN: 7488; FP: 621; FN: 3921; TP: 50842\n",
      "\n"
     ]
    }
   ],
   "source": [
    "from sklearn.linear_model import LogisticRegression\n",
    "from sklearn import metrics\n",
    "\n",
    "clf = LogisticRegression(solver = 'newton-cg')\n",
    "\n",
    "model = clf.fit(X_train, y_train)\n",
    "\n",
    "y_pred = model.predict(X_test)\n",
    "\n",
    "name = \"logistic Regression\"\n",
    "\n",
    "Acc[name] = metrics.accuracy_score(y_test, y_pred)\n",
    "F1S[name] = metrics.f1_score(y_test, y_pred)\n",
    "Prec[name] = metrics.precision_score(y_test, y_pred)\n",
    "Rec[name] = metrics.recall_score(y_test, y_pred)\n",
    "tn, fp, fn, tp = metrics.confusion_matrix(y_test, y_pred).ravel()\n",
    "FPR[name] = fp/(fp+tn)\n",
    "\n",
    "print(\"Algorithm: {0:12} Accuracy: {1:.5f}, F1-score: {2:.5f}, Precision: {3:.5f}, Recall: {4:.5f}, FPR: {5:.5f}\".format(name, Acc[name], F1S[name], Prec[name], Rec[name], FPR[name]))\n",
    "print(\"TN: {0:3}; FP: {1:3}; FN: {2:4}; TP: {3:3}\\n\".format(tn, fp, fn, tp))"
   ]
  },
  {
   "cell_type": "code",
   "execution_count": 26,
   "metadata": {},
   "outputs": [
    {
     "name": "stdout",
     "output_type": "stream",
     "text": [
      "Algorithm: AdaBoost     Accuracy: 0.97644, F1-score: 0.98647, Precision: 0.98707, Recall: 0.98587, FPR: 0.08719\n",
      "TN: 7402; FP: 707; FN:  774; TP: 53989\n",
      "\n",
      "Algorithm: DecisionTree Accuracy: 0.97463, F1-score: 0.98555, Precision: 0.97777, Recall: 0.99346, FPR: 0.15255\n",
      "TN: 6872; FP: 1237; FN:  358; TP: 54405\n",
      "\n",
      "Algorithm: NaiveBayes   Accuracy: 0.86727, F1-score: 0.91772, Precision: 0.99739, Recall: 0.84984, FPR: 0.01505\n",
      "TN: 7987; FP: 122; FN: 8223; TP: 46540\n",
      "\n",
      "Algorithm: RandomTree   Accuracy: 0.97749, F1-score: 0.98714, Precision: 0.98270, Recall: 0.99162, FPR: 0.11789\n",
      "TN: 7153; FP: 956; FN:  459; TP: 54304\n",
      "\n"
     ]
    },
    {
     "name": "stderr",
     "output_type": "stream",
     "text": [
      "/home/matz/.local/lib/python3.6/site-packages/sklearn/preprocessing/data.py:625: DataConversionWarning: Data with input dtype float32 were all converted to float64 by StandardScaler.\n",
      "  return self.partial_fit(X, y)\n",
      "/home/matz/.local/lib/python3.6/site-packages/sklearn/base.py:465: DataConversionWarning: Data with input dtype float32 were all converted to float64 by StandardScaler.\n",
      "  return self.fit(X, y, **fit_params).transform(X)\n",
      "/home/matz/.local/lib/python3.6/site-packages/sklearn/pipeline.py:331: DataConversionWarning: Data with input dtype float32 were all converted to float64 by StandardScaler.\n",
      "  Xt = transform.transform(Xt)\n"
     ]
    },
    {
     "name": "stdout",
     "output_type": "stream",
     "text": [
      "Algorithm: RandomForest Accuracy: 0.98357, F1-score: 0.99064, Precision: 0.98353, Recall: 0.99785, FPR: 0.11284\n",
      "TN: 7194; FP: 915; FN:  118; TP: 54645\n",
      "\n"
     ]
    }
   ],
   "source": [
    "# # zmiana n_estimators daje poprawe\n",
    "# # kfold tylko dla AdaBoostClassifier(DecisionTreeClassifier(max_depth = 11), n_estimators=num_trees, random_state = 0)\n",
    "# # learning rate [1 - default] najlepsze wyniki\n",
    "from sklearn.ensemble import AdaBoostClassifier\n",
    "from sklearn.tree import DecisionTreeClassifier\n",
    "from sklearn.naive_bayes import GaussianNB\n",
    "from sklearn.ensemble import RandomForestClassifier\n",
    "from sklearn.linear_model import LogisticRegression\n",
    "from sklearn.pipeline import make_pipeline\n",
    "from sklearn.preprocessing import StandardScaler\n",
    "\n",
    "\n",
    "seed = 12\n",
    "num_trees = 28\n",
    "\n",
    "classifiers = {\n",
    "               \"AdaBoost\":AdaBoostClassifier(DecisionTreeClassifier(max_depth = 13), n_estimators=num_trees, random_state = 0),\n",
    "               \"DecisionTree\":DecisionTreeClassifier(random_state=0, max_depth = 13),\n",
    "               \"NaiveBayes\":GaussianNB(),\n",
    "               \"RandomTree\":DecisionTreeClassifier(random_state=0, splitter = \"random\"),\n",
    "               \"RandomForest\":make_pipeline(StandardScaler(),RandomForestClassifier(n_estimators=167, max_depth=38, random_state=0)),\n",
    "}\n",
    "\n",
    "\n",
    "for name, clf in classifiers.items():\n",
    "    \n",
    "    model = clf.fit(X_train, y_train)\n",
    "    \n",
    "    y_pred = model.predict(X_test)\n",
    "    \n",
    "    Acc[name] = metrics.accuracy_score(y_test, y_pred)\n",
    "    F1S[name] = metrics.f1_score(y_test, y_pred)\n",
    "    Prec[name] = metrics.precision_score(y_test, y_pred)\n",
    "    Rec[name] = metrics.recall_score(y_test, y_pred)\n",
    "    tn, fp, fn, tp = metrics.confusion_matrix(y_test, y_pred).ravel()\n",
    "    FPR[name] = fp/(fp+tn)\n",
    "    \n",
    "    print(\"Algorithm: {0:12} Accuracy: {1:.5f}, F1-score: {2:.5f}, Precision: {3:.5f}, Recall: {4:.5f}, FPR: {5:.5f}\".format(name, Acc[name], F1S[name], Prec[name], Rec[name], FPR[name]))\n",
    "    print(\"TN: {0:3}; FP: {1:3}; FN: {2:4}; TP: {3:3}\\n\".format(tn, fp, fn, tp))"
   ]
  },
  {
   "cell_type": "code",
   "execution_count": 27,
   "metadata": {},
   "outputs": [
    {
     "data": {
      "image/png": "[encoded data removed]",
      "text/plain": [
       "<matplotlib.figure.Figure at 0x7fbe7893d0b8>"
      ]
     },
     "metadata": {
      "needs_background": "light"
     },
     "output_type": "display_data"
    },
    {
     "data": {
      "image/png": "[encoded data removed]",
      "text/plain": [
       "<matplotlib.figure.Figure at 0x7fbe1c731a90>"
      ]
     },
     "metadata": {
      "needs_background": "light"
     },
     "output_type": "display_data"
    },
    {
     "data": {
      "image/png": "[encoded data removed]",
      "text/plain": [
       "<matplotlib.figure.Figure at 0x7fbe7893ddd8>"
      ]
     },
     "metadata": {
      "needs_background": "light"
     },
     "output_type": "display_data"
    },
    {
     "data": {
      "image/png": "[encoded data removed]",
      "text/plain": [
       "<matplotlib.figure.Figure at 0x7fbe1c66a7b8>"
      ]
     },
     "metadata": {
      "needs_background": "light"
     },
     "output_type": "display_data"
    },
    {
     "data": {
      "image/png": "[encoded data removed]",
      "text/plain": [
       "<matplotlib.figure.Figure at 0x7fbe1c5e4630>"
      ]
     },
     "metadata": {
      "needs_background": "light"
     },
     "output_type": "display_data"
    }
   ],
   "source": [
    "plot_stats(Acc, \"Accuracy\", 8, 55)\n",
    "plot_stats(F1S, \"F1-score\", 8, 55)\n",
    "plot_stats(Prec, \"Precision\", 8, 55)\n",
    "plot_stats(Rec, \"Recall\", 8, 55)\n",
    "plot_stats(FPR, \"False Positive Rate\", 8, 55)"
   ]
  },
  {
   "cell_type": "markdown",
   "metadata": {},
   "source": [
    "# Random Features for Large-Scale Kernel Machines"
   ]
  },
  {
   "cell_type": "code",
   "execution_count": 28,
   "metadata": {},
   "outputs": [],
   "source": [
    "import numpy as np\n",
    "import tensorflow as tf\n",
    "import time"
   ]
  },
  {
   "cell_type": "code",
   "execution_count": 29,
   "metadata": {},
   "outputs": [
    {
     "data": {
      "text/plain": [
       "(293402, 286)"
      ]
     },
     "execution_count": 29,
     "metadata": {},
     "output_type": "execute_result"
    }
   ],
   "source": [
    "X_train.values.shape"
   ]
  },
  {
   "cell_type": "code",
   "execution_count": 85,
   "metadata": {},
   "outputs": [],
   "source": [
    "train_input_fn = tf.estimator.inputs.numpy_input_fn(    \n",
    "    x={\"features\": X_train.values},    \n",
    "    y=y_train,    \n",
    "    batch_size=180,    \n",
    "    num_epochs=None,    \n",
    "    shuffle=False)"
   ]
  },
  {
   "cell_type": "code",
   "execution_count": 86,
   "metadata": {},
   "outputs": [
    {
     "data": {
      "text/plain": [
       "(62872, 286)"
      ]
     },
     "execution_count": 86,
     "metadata": {},
     "output_type": "execute_result"
    }
   ],
   "source": [
    "X_validate.shape"
   ]
  },
  {
   "cell_type": "code",
   "execution_count": 87,
   "metadata": {},
   "outputs": [],
   "source": [
    "eval_input_fn = tf.estimator.inputs.numpy_input_fn(\n",
    "    x={\"features\": X_validate.values},\n",
    "    y=y_validate,\n",
    "    batch_size=X_validate.shape[0],\n",
    "    num_epochs=1,\n",
    "    shuffle=False)"
   ]
  },
  {
   "cell_type": "code",
   "execution_count": 88,
   "metadata": {},
   "outputs": [
    {
     "data": {
      "text/plain": [
       "(62872, 286)"
      ]
     },
     "execution_count": 88,
     "metadata": {},
     "output_type": "execute_result"
    }
   ],
   "source": [
    "X_test.shape"
   ]
  },
  {
   "cell_type": "code",
   "execution_count": 89,
   "metadata": {},
   "outputs": [],
   "source": [
    "test_input_fn = tf.estimator.inputs.numpy_input_fn(\n",
    "    x={\"features\": X_test.values},\n",
    "    y=y_test,\n",
    "    batch_size=X_test.shape[0],\n",
    "    num_epochs=1,\n",
    "    shuffle=False)"
   ]
  },
  {
   "cell_type": "markdown",
   "metadata": {},
   "source": [
    "## Using explicit kernel mappings with the linear model"
   ]
  },
  {
   "cell_type": "code",
   "execution_count": 90,
   "metadata": {},
   "outputs": [],
   "source": [
    "data.rename(columns={'Dst host count': 'Dst_host_count', \"Dst host srv count\" : \"Dst_host_srv_count\",\n",
    "                    \"Dst host same src port rate\" : \"Dst_host_same_src_port_rate\",\n",
    "                    \"Dst host serror rate\" : \"Dst_host_serror_rate\",\n",
    "                    \"Dst host srv serror rate\" : \"Dst_host_srv_serror_rate\",\n",
    "                    \"Same srv rate\" : \"Same_srv_rate\",\n",
    "                    \"Srv serror rate\" : \"Srv_serror_rate\",\n",
    "                    \"conn len\" : \"conn_len\",\n",
    "                    \"src bytes\" : \"src_bytes\",\n",
    "                    \"dst bytes\" : \"dst_bytes\",\n",
    "                    \"conn numb\" : \"conn_numb\",\n",
    "                    \"Serror rate\" : \"Serror_rate\",\n",
    "                    \"cli src pool\" : \"cli_src_pool\",\n",
    "                    \"registered src pool\" : \"registered_src_pool\",\n",
    "                    \"well-known src pool\" : \"well_known_src_pool\", \n",
    "                    \"dst port\" : \"dst_port\",\n",
    "                    \"src port\" : \"src_port\",\n",
    "                    \"Conn state\" : \"Conn_state\" \n",
    "                    }, inplace=True)"
   ]
  },
  {
   "cell_type": "code",
   "execution_count": 91,
   "metadata": {},
   "outputs": [],
   "source": [
    "feat_column = tf.contrib.layers.real_valued_column('features', dimension=len(X_train.columns.values))"
   ]
  },
  {
   "cell_type": "code",
   "execution_count": 92,
   "metadata": {},
   "outputs": [],
   "source": [
    "kernel_mapper = tf.contrib.kernel_methods.RandomFourierFeatureMapper(input_dim=len(X_train.columns.values), output_dim=5000, stddev=5, name='rffm')"
   ]
  },
  {
   "cell_type": "code",
   "execution_count": 93,
   "metadata": {},
   "outputs": [],
   "source": [
    "kernel_mappers = {feat_column: [kernel_mapper]}"
   ]
  },
  {
   "cell_type": "code",
   "execution_count": 94,
   "metadata": {},
   "outputs": [],
   "source": [
    "! rm -r kernel_train"
   ]
  },
  {
   "cell_type": "code",
   "execution_count": 104,
   "metadata": {},
   "outputs": [],
   "source": [
    "optimizer = tf.train.FtrlOptimizer(learning_rate=25, l2_regularization_strength=0.001)"
   ]
  },
  {
   "cell_type": "code",
   "execution_count": 105,
   "metadata": {},
   "outputs": [
    {
     "name": "stdout",
     "output_type": "stream",
     "text": [
      "INFO:tensorflow:Using default config.\n",
      "INFO:tensorflow:Using config: {'_task_type': None, '_task_id': 0, '_cluster_spec': <tensorflow.python.training.server_lib.ClusterSpec object at 0x7fbded319940>, '_master': '', '_num_ps_replicas': 0, '_num_worker_replicas': 0, '_environment': 'local', '_is_chief': True, '_evaluation_master': '', '_train_distribute': None, '_eval_distribute': None, '_device_fn': None, '_tf_config': gpu_options {\n",
      "  per_process_gpu_memory_fraction: 1.0\n",
      "}\n",
      ", '_tf_random_seed': None, '_save_summary_steps': 100, '_save_checkpoints_secs': 600, '_log_step_count_steps': 100, '_protocol': None, '_session_config': None, '_save_checkpoints_steps': None, '_keep_checkpoint_max': 5, '_keep_checkpoint_every_n_hours': 10000, '_model_dir': 'kernel_train'}\n"
     ]
    }
   ],
   "source": [
    "estimator_kernel = tf.contrib.kernel_methods.KernelLinearClassifier(\n",
    "    n_classes=2,\n",
    "    optimizer=optimizer,\n",
    "    kernel_mappers=kernel_mappers, \n",
    "    model_dir=\"kernel_train\")"
   ]
  },
  {
   "cell_type": "code",
   "execution_count": 106,
   "metadata": {},
   "outputs": [
    {
     "name": "stdout",
     "output_type": "stream",
     "text": [
      "WARNING:tensorflow:Casting <dtype: 'int64'> labels to bool.\n",
      "WARNING:tensorflow:Casting <dtype: 'int64'> labels to bool.\n",
      "WARNING:tensorflow:Trapezoidal rule is known to produce incorrect PR-AUCs; please switch to \"careful_interpolation\" instead.\n",
      "WARNING:tensorflow:Trapezoidal rule is known to produce incorrect PR-AUCs; please switch to \"careful_interpolation\" instead.\n",
      "INFO:tensorflow:Create CheckpointSaverHook.\n",
      "INFO:tensorflow:Graph was finalized.\n",
      "INFO:tensorflow:Restoring parameters from kernel_train/model.ckpt-8000\n",
      "INFO:tensorflow:Running local_init_op.\n",
      "INFO:tensorflow:Done running local_init_op.\n",
      "INFO:tensorflow:Saving checkpoints for 8000 into kernel_train/model.ckpt.\n",
      "INFO:tensorflow:loss = 0.027534327, step = 8001\n",
      "INFO:tensorflow:global_step/sec: 106.858\n",
      "INFO:tensorflow:loss = 0.07363486, step = 8101 (0.937 sec)\n",
      "INFO:tensorflow:global_step/sec: 112.952\n",
      "INFO:tensorflow:loss = 0.08952474, step = 8201 (0.885 sec)\n",
      "INFO:tensorflow:global_step/sec: 111.776\n",
      "INFO:tensorflow:loss = 0.11255845, step = 8301 (0.895 sec)\n",
      "INFO:tensorflow:global_step/sec: 111.733\n",
      "INFO:tensorflow:loss = 0.0062868157, step = 8401 (0.895 sec)\n",
      "INFO:tensorflow:global_step/sec: 113.227\n",
      "INFO:tensorflow:loss = 0.0061567836, step = 8501 (0.883 sec)\n",
      "INFO:tensorflow:global_step/sec: 111.79\n",
      "INFO:tensorflow:loss = 0.016291857, step = 8601 (0.894 sec)\n",
      "INFO:tensorflow:global_step/sec: 111.565\n",
      "INFO:tensorflow:loss = 0.028162183, step = 8701 (0.896 sec)\n",
      "INFO:tensorflow:global_step/sec: 111.723\n",
      "INFO:tensorflow:loss = 0.033644516, step = 8801 (0.895 sec)\n",
      "INFO:tensorflow:global_step/sec: 111.596\n",
      "INFO:tensorflow:loss = 0.06615867, step = 8901 (0.897 sec)\n",
      "INFO:tensorflow:global_step/sec: 110.569\n",
      "INFO:tensorflow:loss = 0.00093134196, step = 9001 (0.904 sec)\n",
      "INFO:tensorflow:global_step/sec: 112.816\n",
      "INFO:tensorflow:loss = 0.0008219438, step = 9101 (0.886 sec)\n",
      "INFO:tensorflow:global_step/sec: 113.283\n",
      "INFO:tensorflow:loss = 0.008861331, step = 9201 (0.883 sec)\n",
      "INFO:tensorflow:global_step/sec: 111.731\n",
      "INFO:tensorflow:loss = 0.08817688, step = 9301 (0.895 sec)\n",
      "INFO:tensorflow:global_step/sec: 111.861\n",
      "INFO:tensorflow:loss = 0.00030562963, step = 9401 (0.894 sec)\n",
      "INFO:tensorflow:global_step/sec: 113.296\n",
      "INFO:tensorflow:loss = 0.13784018, step = 9501 (0.883 sec)\n",
      "INFO:tensorflow:global_step/sec: 111.633\n",
      "INFO:tensorflow:loss = 0.05331356, step = 9601 (0.895 sec)\n",
      "INFO:tensorflow:global_step/sec: 112.898\n",
      "INFO:tensorflow:loss = 0.012963512, step = 9701 (0.886 sec)\n",
      "INFO:tensorflow:global_step/sec: 111.6\n",
      "INFO:tensorflow:loss = 0.0015032679, step = 9801 (0.896 sec)\n",
      "INFO:tensorflow:global_step/sec: 110.947\n",
      "INFO:tensorflow:loss = 0.025367167, step = 9901 (0.901 sec)\n",
      "INFO:tensorflow:global_step/sec: 111.552\n",
      "INFO:tensorflow:loss = 0.050974905, step = 10001 (0.896 sec)\n",
      "INFO:tensorflow:global_step/sec: 111.65\n",
      "INFO:tensorflow:loss = 0.04519185, step = 10101 (0.896 sec)\n",
      "INFO:tensorflow:global_step/sec: 112.166\n",
      "INFO:tensorflow:loss = 0.0004834687, step = 10201 (0.891 sec)\n",
      "INFO:tensorflow:global_step/sec: 112.604\n",
      "INFO:tensorflow:loss = 0.0017029393, step = 10301 (0.888 sec)\n",
      "INFO:tensorflow:global_step/sec: 111.792\n",
      "INFO:tensorflow:loss = 0.0017838926, step = 10401 (0.895 sec)\n",
      "INFO:tensorflow:global_step/sec: 112.179\n",
      "INFO:tensorflow:loss = 0.0026175731, step = 10501 (0.891 sec)\n",
      "INFO:tensorflow:global_step/sec: 113.227\n",
      "INFO:tensorflow:loss = 0.01322107, step = 10601 (0.883 sec)\n",
      "INFO:tensorflow:global_step/sec: 113.126\n",
      "INFO:tensorflow:loss = 0.081079185, step = 10701 (0.884 sec)\n",
      "INFO:tensorflow:global_step/sec: 112.011\n",
      "INFO:tensorflow:loss = 0.063408226, step = 10801 (0.893 sec)\n",
      "INFO:tensorflow:global_step/sec: 113.855\n",
      "INFO:tensorflow:loss = 0.0067197685, step = 10901 (0.878 sec)\n",
      "INFO:tensorflow:global_step/sec: 112.284\n",
      "INFO:tensorflow:loss = 0.0012510514, step = 11001 (0.891 sec)\n",
      "INFO:tensorflow:global_step/sec: 112.414\n",
      "INFO:tensorflow:loss = 0.0066871387, step = 11101 (0.889 sec)\n",
      "INFO:tensorflow:global_step/sec: 112.774\n",
      "INFO:tensorflow:loss = 0.04681404, step = 11201 (0.887 sec)\n",
      "INFO:tensorflow:global_step/sec: 111.551\n",
      "INFO:tensorflow:loss = 0.029012328, step = 11301 (0.896 sec)\n",
      "INFO:tensorflow:global_step/sec: 111.949\n",
      "INFO:tensorflow:loss = 0.10909978, step = 11401 (0.893 sec)\n",
      "INFO:tensorflow:global_step/sec: 111.646\n",
      "INFO:tensorflow:loss = 0.00038595957, step = 11501 (0.896 sec)\n",
      "INFO:tensorflow:global_step/sec: 111.639\n",
      "INFO:tensorflow:loss = 0.02081381, step = 11601 (0.896 sec)\n",
      "INFO:tensorflow:global_step/sec: 111.527\n",
      "INFO:tensorflow:loss = 0.07890845, step = 11701 (0.896 sec)\n",
      "INFO:tensorflow:global_step/sec: 112.715\n",
      "INFO:tensorflow:loss = 0.0011217871, step = 11801 (0.887 sec)\n",
      "INFO:tensorflow:global_step/sec: 111.196\n",
      "INFO:tensorflow:loss = 0.0008411768, step = 11901 (0.899 sec)\n",
      "INFO:tensorflow:global_step/sec: 112.484\n",
      "INFO:tensorflow:loss = 0.05244885, step = 12001 (0.889 sec)\n",
      "INFO:tensorflow:global_step/sec: 112.669\n",
      "INFO:tensorflow:loss = 0.003294999, step = 12101 (0.887 sec)\n",
      "INFO:tensorflow:global_step/sec: 113.283\n",
      "INFO:tensorflow:loss = 0.0028774762, step = 12201 (0.883 sec)\n",
      "INFO:tensorflow:global_step/sec: 112.414\n",
      "INFO:tensorflow:loss = 0.046891097, step = 12301 (0.890 sec)\n",
      "INFO:tensorflow:global_step/sec: 111.943\n",
      "INFO:tensorflow:loss = 0.0014306924, step = 12401 (0.893 sec)\n",
      "INFO:tensorflow:global_step/sec: 109.236\n",
      "INFO:tensorflow:loss = 0.011521644, step = 12501 (0.915 sec)\n",
      "INFO:tensorflow:global_step/sec: 113.533\n",
      "INFO:tensorflow:loss = 0.0024909938, step = 12601 (0.881 sec)\n",
      "INFO:tensorflow:global_step/sec: 113.857\n",
      "INFO:tensorflow:loss = 0.043385744, step = 12701 (0.879 sec)\n",
      "INFO:tensorflow:global_step/sec: 111.59\n",
      "INFO:tensorflow:loss = 0.0016659038, step = 12801 (0.896 sec)\n",
      "INFO:tensorflow:global_step/sec: 110.743\n",
      "INFO:tensorflow:loss = 0.0372561, step = 12901 (0.903 sec)\n",
      "INFO:tensorflow:global_step/sec: 113.869\n",
      "INFO:tensorflow:loss = 0.0007625632, step = 13001 (0.878 sec)\n",
      "INFO:tensorflow:global_step/sec: 112.972\n",
      "INFO:tensorflow:loss = 0.07913552, step = 13101 (0.885 sec)\n",
      "INFO:tensorflow:global_step/sec: 113.823\n",
      "INFO:tensorflow:loss = 0.0019147525, step = 13201 (0.879 sec)\n",
      "INFO:tensorflow:global_step/sec: 113.574\n",
      "INFO:tensorflow:loss = 0.039145537, step = 13301 (0.880 sec)\n",
      "INFO:tensorflow:global_step/sec: 113.684\n",
      "INFO:tensorflow:loss = 0.0024232345, step = 13401 (0.880 sec)\n",
      "INFO:tensorflow:global_step/sec: 113.835\n",
      "INFO:tensorflow:loss = 0.021944271, step = 13501 (0.879 sec)\n",
      "INFO:tensorflow:global_step/sec: 113.639\n",
      "INFO:tensorflow:loss = 0.0020293596, step = 13601 (0.880 sec)\n",
      "INFO:tensorflow:global_step/sec: 114.065\n",
      "INFO:tensorflow:loss = 0.0056599625, step = 13701 (0.877 sec)\n",
      "INFO:tensorflow:global_step/sec: 113.223\n",
      "INFO:tensorflow:loss = 0.050233576, step = 13801 (0.883 sec)\n",
      "INFO:tensorflow:global_step/sec: 113.569\n",
      "INFO:tensorflow:loss = 0.00015184635, step = 13901 (0.880 sec)\n",
      "INFO:tensorflow:global_step/sec: 113.942\n",
      "INFO:tensorflow:loss = 0.0025278905, step = 14001 (0.878 sec)\n",
      "INFO:tensorflow:global_step/sec: 113.408\n",
      "INFO:tensorflow:loss = 0.0018464365, step = 14101 (0.882 sec)\n",
      "INFO:tensorflow:global_step/sec: 113.734\n",
      "INFO:tensorflow:loss = 0.0036171807, step = 14201 (0.879 sec)\n",
      "INFO:tensorflow:global_step/sec: 113.139\n",
      "INFO:tensorflow:loss = 0.0012625942, step = 14301 (0.884 sec)\n",
      "INFO:tensorflow:global_step/sec: 113.825\n",
      "INFO:tensorflow:loss = 0.0031134633, step = 14401 (0.879 sec)\n",
      "INFO:tensorflow:global_step/sec: 113.214\n",
      "INFO:tensorflow:loss = 0.08707569, step = 14501 (0.883 sec)\n",
      "INFO:tensorflow:global_step/sec: 113.367\n",
      "INFO:tensorflow:loss = 0.03835984, step = 14601 (0.882 sec)\n",
      "INFO:tensorflow:global_step/sec: 113.384\n",
      "INFO:tensorflow:loss = 0.01281973, step = 14701 (0.882 sec)\n",
      "INFO:tensorflow:global_step/sec: 113.959\n",
      "INFO:tensorflow:loss = 0.0014282888, step = 14801 (0.878 sec)\n",
      "INFO:tensorflow:global_step/sec: 112.95\n",
      "INFO:tensorflow:loss = 0.0056159436, step = 14901 (0.885 sec)\n",
      "INFO:tensorflow:global_step/sec: 114.295\n",
      "INFO:tensorflow:loss = 0.0073943855, step = 15001 (0.875 sec)\n",
      "INFO:tensorflow:global_step/sec: 113.431\n",
      "INFO:tensorflow:loss = 0.008760641, step = 15101 (0.881 sec)\n",
      "INFO:tensorflow:global_step/sec: 110.019\n",
      "INFO:tensorflow:loss = 0.015453824, step = 15201 (0.909 sec)\n",
      "INFO:tensorflow:global_step/sec: 113.681\n",
      "INFO:tensorflow:loss = 0.0011813672, step = 15301 (0.880 sec)\n",
      "INFO:tensorflow:global_step/sec: 111.12\n"
     ]
    },
    {
     "name": "stdout",
     "output_type": "stream",
     "text": [
      "INFO:tensorflow:loss = 0.0023178472, step = 15401 (0.900 sec)\n",
      "INFO:tensorflow:global_step/sec: 113.37\n",
      "INFO:tensorflow:loss = 0.0017794602, step = 15501 (0.882 sec)\n",
      "INFO:tensorflow:global_step/sec: 111.258\n",
      "INFO:tensorflow:loss = 0.00042068187, step = 15601 (0.899 sec)\n",
      "INFO:tensorflow:global_step/sec: 113.45\n",
      "INFO:tensorflow:loss = 0.001882763, step = 15701 (0.881 sec)\n",
      "INFO:tensorflow:global_step/sec: 113.583\n",
      "INFO:tensorflow:loss = 0.00061127753, step = 15801 (0.881 sec)\n",
      "INFO:tensorflow:global_step/sec: 114.01\n",
      "INFO:tensorflow:loss = 0.032584433, step = 15901 (0.877 sec)\n",
      "INFO:tensorflow:Saving checkpoints for 16000 into kernel_train/model.ckpt.\n",
      "INFO:tensorflow:Loss for final step: 0.032349877.\n"
     ]
    },
    {
     "data": {
      "text/plain": [
       "KernelLinearClassifier(params={'head': <tensorflow.contrib.learn.python.learn.estimators.head._BinaryLogisticHead object at 0x7fbdd1ca8a20>, 'feature_columns': {_RealValuedColumn(column_name='features_MAPPED', dimension=5000, default_value=None, dtype=tf.float32, normalizer=None)}, 'optimizer': <tensorflow.python.training.ftrl.FtrlOptimizer object at 0x7fbdd1fcbdd8>, 'kernel_mappers': {_RealValuedColumn(column_name='features', dimension=286, default_value=None, dtype=tf.float32, normalizer=None): [<tensorflow.contrib.kernel_methods.python.mappers.random_fourier_features.RandomFourierFeatureMapper object at 0x7fbded319ac8>]}})"
      ]
     },
     "execution_count": 106,
     "metadata": {},
     "output_type": "execute_result"
    }
   ],
   "source": [
    "estimator_kernel.fit(input_fn=train_input_fn, steps=8000)"
   ]
  },
  {
   "cell_type": "code",
   "execution_count": 107,
   "metadata": {},
   "outputs": [
    {
     "name": "stdout",
     "output_type": "stream",
     "text": [
      "WARNING:tensorflow:Casting <dtype: 'int64'> labels to bool.\n",
      "WARNING:tensorflow:Casting <dtype: 'int64'> labels to bool.\n",
      "WARNING:tensorflow:Trapezoidal rule is known to produce incorrect PR-AUCs; please switch to \"careful_interpolation\" instead.\n",
      "WARNING:tensorflow:Trapezoidal rule is known to produce incorrect PR-AUCs; please switch to \"careful_interpolation\" instead.\n",
      "INFO:tensorflow:Starting evaluation at 2019-05-20-21:33:13\n",
      "INFO:tensorflow:Graph was finalized.\n",
      "INFO:tensorflow:Restoring parameters from kernel_train/model.ckpt-16000\n",
      "INFO:tensorflow:Running local_init_op.\n",
      "INFO:tensorflow:Done running local_init_op.\n",
      "INFO:tensorflow:Evaluation [1/1]\n",
      "INFO:tensorflow:Finished evaluation at 2019-05-20-21:33:15\n",
      "INFO:tensorflow:Saving dict for global step 16000: accuracy = 0.9424545, accuracy/baseline_label_mean = 0.9510752, accuracy/threshold_0.500000_mean = 0.9424545, auc = 0.77466094, auc_precision_recall = 0.98568255, global_step = 16000, labels/actual_label_mean = 0.9510752, labels/prediction_mean = 0.9388537, loss = 0.32930708, precision/positive_threshold_0.500000_mean = 0.9733569, recall/positive_threshold_0.500000_mean = 0.96593416\n"
     ]
    }
   ],
   "source": [
    "eval_metrics = estimator_kernel.evaluate(input_fn=eval_input_fn, steps=1)"
   ]
  },
  {
   "cell_type": "code",
   "execution_count": 108,
   "metadata": {},
   "outputs": [
    {
     "name": "stdout",
     "output_type": "stream",
     "text": [
      "accuracy: 0.9424545\n",
      "accuracy/baseline_label_mean: 0.9510752\n",
      "accuracy/threshold_0.500000_mean: 0.9424545\n",
      "auc: 0.77466094\n",
      "auc_precision_recall: 0.98568255\n",
      "global_step: 16000\n",
      "labels/actual_label_mean: 0.9510752\n",
      "labels/prediction_mean: 0.9388537\n",
      "loss: 0.32930708\n",
      "precision/positive_threshold_0.500000_mean: 0.9733569\n",
      "recall/positive_threshold_0.500000_mean: 0.96593416\n"
     ]
    }
   ],
   "source": [
    "for key,value in sorted(eval_metrics.items()):\n",
    "  print('%s: %s' % (key, value))"
   ]
  },
  {
   "cell_type": "code",
   "execution_count": 109,
   "metadata": {},
   "outputs": [],
   "source": [
    "correctness = []\n",
    "class_id = []\n",
    "pred_iterator = None"
   ]
  },
  {
   "cell_type": "code",
   "execution_count": 110,
   "metadata": {},
   "outputs": [
    {
     "name": "stdout",
     "output_type": "stream",
     "text": [
      "INFO:tensorflow:Graph was finalized.\n",
      "INFO:tensorflow:Restoring parameters from kernel_train/model.ckpt-16000\n",
      "INFO:tensorflow:Running local_init_op.\n",
      "INFO:tensorflow:Done running local_init_op.\n"
     ]
    }
   ],
   "source": [
    "pred_iterator = estimator_kernel.predict(input_fn = test_input_fn)"
   ]
  },
  {
   "cell_type": "code",
   "execution_count": 111,
   "metadata": {},
   "outputs": [],
   "source": [
    "for pred_dict in pred_iterator:\n",
    "    class_id.append(pred_dict['classes'])\n",
    "    #print(pred_dict)"
   ]
  },
  {
   "cell_type": "code",
   "execution_count": 112,
   "metadata": {},
   "outputs": [
    {
     "name": "stdout",
     "output_type": "stream",
     "text": [
      "RFFM Accuracy: 0.96032, F1-score: 0.97728, Precision: 0.97477, Recall: 0.97980, FPR: 0.17129\n",
      "TN: 6720; FP: 1389; FN: 1106; TP: 53657\n",
      "\n"
     ]
    }
   ],
   "source": [
    "name = \"RFFM\"\n",
    "\n",
    "Acc[name] = metrics.accuracy_score(y_test, class_id)\n",
    "F1S[name] = metrics.f1_score(y_test, class_id)\n",
    "Prec[name] = metrics.precision_score(y_test, class_id)\n",
    "Rec[name] = metrics.recall_score(y_test, class_id)\n",
    "tn, fp, fn, tp = metrics.confusion_matrix(y_test, class_id).ravel()\n",
    "FPR[name] = fp/(fp+tn)\n",
    "\n",
    "print(\"{0:2} Accuracy: {1:.5f}, F1-score: {2:.5f}, Precision: {3:.5f}, Recall: {4:.5f}, FPR: {5:.5f}\".format(name, Acc[name], F1S[name], Prec[name], Rec[name], FPR[name]))\n",
    "print(\"TN: {0:3}; FP: {1:3}; FN: {2:4}; TP: {3:3}\\n\".format(tn, fp, fn, tp))"
   ]
  },
  {
   "cell_type": "markdown",
   "metadata": {},
   "source": [
    "# Neural network part"
   ]
  },
  {
   "cell_type": "code",
   "execution_count": 49,
   "metadata": {},
   "outputs": [],
   "source": [
    "import collections\n",
    "import io\n",
    "import math\n",
    "import tensorflow as tf\n",
    "from IPython import display"
   ]
  },
  {
   "cell_type": "code",
   "execution_count": 50,
   "metadata": {},
   "outputs": [],
   "source": [
    "deep_numeric_feat = [\"Same_srv_rate\", \"Serror_rate\", \"Srv_serror_rate\", \"Dst_host_count\", \"Dst_host_srv_count\", \"Dst_host_same_src_port_rate\", \"Dst_host_serror_rate\", \"Dst_host_srv_serror_rate\", \"well_known_src_pool\", \"registered_src_pool\", \"cli_src_pool\"]\n",
    "wide_numeric_feat = [\"conn_len\",  \"src_bytes\", \"dst_bytes\", \"conn_numb\"]\n",
    "categorical_feat = [\"service\", \"Conn_state\", \"src_port\", \"dst_port\", \"proto\"]"
   ]
  },
  {
   "cell_type": "code",
   "execution_count": 51,
   "metadata": {},
   "outputs": [],
   "source": [
    "deep_numeric_feat_tf = [tf.feature_column.numeric_column(k) for k in deep_numeric_feat]\n",
    "wide_numeric_feat_tf = [tf.feature_column.numeric_column(k) for k in wide_numeric_feat]"
   ]
  },
  {
   "cell_type": "code",
   "execution_count": 52,
   "metadata": {},
   "outputs": [],
   "source": [
    "src_port_mod = [\"src_\" + s for s in data[\"src_port\"].unique().tolist()]\n",
    "src_port = tf.feature_column.categorical_column_with_vocabulary_list(\n",
    "    'src_port', src_port_mod)\n",
    "\n",
    "dst_port_mod = [\"dst_\" + s for s in data[\"dst_port\"].unique().tolist()]\n",
    "dst_port = tf.feature_column.categorical_column_with_vocabulary_list(\n",
    "    'dst_port', dst_port_mod)\n",
    "\n",
    "service = tf.feature_column.categorical_column_with_vocabulary_list(\n",
    "    'service', data[\"service\"].unique().tolist())\n",
    "\n",
    "Conn_state = tf.feature_column.categorical_column_with_vocabulary_list(\n",
    "    'Conn_state', data[\"Conn_state\"].unique().tolist())\n",
    "\n",
    "proto = tf.feature_column.categorical_column_with_vocabulary_list(\n",
    "    'proto', data[\"proto\"].unique().tolist())"
   ]
  },
  {
   "cell_type": "code",
   "execution_count": 53,
   "metadata": {},
   "outputs": [],
   "source": [
    "deep_columns = [\n",
    "    tf.feature_column.indicator_column(service),\n",
    "    tf.feature_column.indicator_column(Conn_state),\n",
    "    tf.feature_column.indicator_column(proto),\n",
    "    tf.feature_column.embedding_column(src_port, dimension=10),\n",
    "    tf.feature_column.embedding_column(dst_port, dimension=6),\n",
    "]"
   ]
  },
  {
   "cell_type": "code",
   "execution_count": 54,
   "metadata": {},
   "outputs": [],
   "source": [
    "crossed_columns = [\n",
    "      tf.feature_column.crossed_column(\n",
    "          ['src_port', 'service'], hash_bucket_size=10000),\n",
    "      tf.feature_column.crossed_column(\n",
    "          ['dst_port', 'service'], hash_bucket_size=10000),\n",
    "      tf.feature_column.crossed_column(\n",
    "          ['conn_len', 'src_bytes'], hash_bucket_size=10000),\n",
    "      tf.feature_column.crossed_column(\n",
    "          ['conn_len', 'dst_bytes'], hash_bucket_size=10000),\n",
    "      tf.feature_column.crossed_column(\n",
    "          ['dst_port', 'conn_numb'], hash_bucket_size=10000),  \n",
    "      tf.feature_column.crossed_column(\n",
    "          ['service', 'proto'], hash_bucket_size=100),\n",
    "    \n",
    "  ]"
   ]
  },
  {
   "cell_type": "code",
   "execution_count": 55,
   "metadata": {},
   "outputs": [],
   "source": [
    "! rm -r NN_model2"
   ]
  },
  {
   "cell_type": "code",
   "execution_count": 56,
   "metadata": {},
   "outputs": [
    {
     "name": "stdout",
     "output_type": "stream",
     "text": [
      "INFO:tensorflow:Using default config.\n",
      "INFO:tensorflow:Using config: {'_model_dir': '/home/matz/Desktop/ml_ids/NN_model2', '_tf_random_seed': None, '_save_summary_steps': 100, '_save_checkpoints_steps': None, '_save_checkpoints_secs': 600, '_session_config': allow_soft_placement: true\n",
      "graph_options {\n",
      "  rewrite_options {\n",
      "    meta_optimizer_iterations: ONE\n",
      "  }\n",
      "}\n",
      ", '_keep_checkpoint_max': 5, '_keep_checkpoint_every_n_hours': 10000, '_log_step_count_steps': 100, '_train_distribute': None, '_device_fn': None, '_protocol': None, '_eval_distribute': None, '_experimental_distribute': None, '_service': None, '_cluster_spec': <tensorflow.python.training.server_lib.ClusterSpec object at 0x7fbde4088908>, '_task_type': 'worker', '_task_id': 0, '_global_id_in_cluster': 0, '_master': '', '_evaluation_master': '', '_is_chief': True, '_num_ps_replicas': 0, '_num_worker_replicas': 1}\n"
     ]
    }
   ],
   "source": [
    "NN_model = tf.estimator.DNNLinearCombinedClassifier(\n",
    "    model_dir = \"/home/matz/Desktop/ml_ids/NN_model2\",\n",
    "    linear_optimizer = tf.train.FtrlOptimizer(learning_rate=3, l2_regularization_strength=0.001),\n",
    "    linear_feature_columns = deep_columns + deep_numeric_feat_tf + wide_numeric_feat_tf + crossed_columns,\n",
    "    dnn_activation_fn=tf.nn.selu,\n",
    "    dnn_feature_columns = deep_columns + deep_numeric_feat_tf + wide_numeric_feat_tf,\n",
    "    dnn_hidden_units = [2048, 256]\n",
    ")"
   ]
  },
  {
   "cell_type": "code",
   "execution_count": 57,
   "metadata": {},
   "outputs": [],
   "source": [
    "feature_set= deep_numeric_feat + wide_numeric_feat + categorical_feat"
   ]
  },
  {
   "cell_type": "code",
   "execution_count": 58,
   "metadata": {},
   "outputs": [],
   "source": [
    "def get_input_fn(data_set, num_epochs=None, n_batch = 256, shuffle=True):\n",
    "    return tf.estimator.inputs.pandas_input_fn(\n",
    "       x=pd.DataFrame({k: data_set[k].values for k in feature_set}),\n",
    "       y = pd.Series(data_set[\"attack_flag\"].values),\n",
    "       batch_size=n_batch,   \n",
    "       num_epochs=num_epochs,\n",
    "       shuffle=shuffle)"
   ]
  },
  {
   "cell_type": "code",
   "execution_count": 59,
   "metadata": {},
   "outputs": [
    {
     "name": "stdout",
     "output_type": "stream",
     "text": [
      "INFO:tensorflow:Calling model_fn.\n",
      "WARNING:tensorflow:From /home/matz/.local/lib/python3.6/site-packages/tensorflow/python/ops/sparse_ops.py:1165: sparse_to_dense (from tensorflow.python.ops.sparse_ops) is deprecated and will be removed in a future version.\n",
      "Instructions for updating:\n",
      "Create a `tf.sparse.SparseTensor` and use `tf.sparse.to_dense` instead.\n",
      "INFO:tensorflow:Done calling model_fn.\n",
      "INFO:tensorflow:Create CheckpointSaverHook.\n",
      "INFO:tensorflow:Graph was finalized.\n",
      "INFO:tensorflow:Running local_init_op.\n",
      "INFO:tensorflow:Done running local_init_op.\n",
      "INFO:tensorflow:Saving checkpoints for 0 into /home/matz/Desktop/ml_ids/NN_model2/model.ckpt.\n",
      "INFO:tensorflow:loss = 8244.434, step = 1\n",
      "INFO:tensorflow:global_step/sec: 30.319\n",
      "INFO:tensorflow:loss = 561.99915, step = 101 (3.299 sec)\n",
      "INFO:tensorflow:global_step/sec: 39.4133\n",
      "INFO:tensorflow:loss = 78.40883, step = 201 (2.538 sec)\n",
      "INFO:tensorflow:global_step/sec: 37.9704\n",
      "INFO:tensorflow:loss = 157.77478, step = 301 (2.633 sec)\n",
      "INFO:tensorflow:global_step/sec: 38.4318\n",
      "INFO:tensorflow:loss = 2.8444872, step = 401 (2.602 sec)\n",
      "INFO:tensorflow:global_step/sec: 38.7018\n",
      "INFO:tensorflow:loss = 86.63306, step = 501 (2.585 sec)\n",
      "INFO:tensorflow:global_step/sec: 39.4677\n",
      "INFO:tensorflow:loss = 14.682817, step = 601 (2.534 sec)\n",
      "INFO:tensorflow:global_step/sec: 38.2125\n",
      "INFO:tensorflow:loss = 23.510338, step = 701 (2.616 sec)\n",
      "INFO:tensorflow:global_step/sec: 36.8699\n",
      "INFO:tensorflow:loss = 461.55035, step = 801 (2.713 sec)\n",
      "INFO:tensorflow:global_step/sec: 39.4303\n",
      "INFO:tensorflow:loss = 84.22742, step = 901 (2.536 sec)\n",
      "INFO:tensorflow:global_step/sec: 39.8252\n",
      "INFO:tensorflow:loss = 8.190592, step = 1001 (2.511 sec)\n",
      "INFO:tensorflow:global_step/sec: 39.8359\n",
      "INFO:tensorflow:loss = 21.707138, step = 1101 (2.511 sec)\n",
      "INFO:tensorflow:global_step/sec: 39.3156\n",
      "INFO:tensorflow:loss = 8.179446, step = 1201 (2.543 sec)\n",
      "INFO:tensorflow:global_step/sec: 39.5746\n",
      "INFO:tensorflow:loss = 5.823524, step = 1301 (2.526 sec)\n",
      "INFO:tensorflow:global_step/sec: 39.8955\n",
      "INFO:tensorflow:loss = 7.800766, step = 1401 (2.507 sec)\n",
      "INFO:tensorflow:global_step/sec: 39.8444\n",
      "INFO:tensorflow:loss = 26.81264, step = 1501 (2.509 sec)\n",
      "INFO:tensorflow:global_step/sec: 38.6315\n",
      "INFO:tensorflow:loss = 0.077180795, step = 1601 (2.589 sec)\n",
      "INFO:tensorflow:global_step/sec: 32.6717\n",
      "INFO:tensorflow:loss = 2430.312, step = 1701 (3.061 sec)\n",
      "INFO:tensorflow:global_step/sec: 35.6884\n",
      "INFO:tensorflow:loss = 10.490897, step = 1801 (2.802 sec)\n",
      "INFO:tensorflow:global_step/sec: 33.3354\n",
      "INFO:tensorflow:loss = 0.6553297, step = 1901 (3.000 sec)\n",
      "INFO:tensorflow:global_step/sec: 36.9415\n",
      "INFO:tensorflow:loss = 50.14796, step = 2001 (2.708 sec)\n",
      "INFO:tensorflow:global_step/sec: 34.6687\n",
      "INFO:tensorflow:loss = 1413.9296, step = 2101 (2.884 sec)\n",
      "INFO:tensorflow:global_step/sec: 27.4548\n",
      "INFO:tensorflow:loss = 0.010563362, step = 2201 (3.642 sec)\n",
      "INFO:tensorflow:global_step/sec: 30.4621\n",
      "INFO:tensorflow:loss = 112.31178, step = 2301 (3.283 sec)\n",
      "INFO:tensorflow:global_step/sec: 32.0846\n",
      "INFO:tensorflow:loss = 9.176491, step = 2401 (3.117 sec)\n",
      "INFO:tensorflow:global_step/sec: 27.6295\n",
      "INFO:tensorflow:loss = 8.110987, step = 2501 (3.620 sec)\n",
      "INFO:tensorflow:global_step/sec: 32.4487\n",
      "INFO:tensorflow:loss = 4.0031, step = 2601 (3.081 sec)\n",
      "INFO:tensorflow:global_step/sec: 36.255\n",
      "INFO:tensorflow:loss = 152.36478, step = 2701 (2.758 sec)\n",
      "INFO:tensorflow:global_step/sec: 33.1305\n",
      "INFO:tensorflow:loss = 95.20784, step = 2801 (3.019 sec)\n",
      "INFO:tensorflow:global_step/sec: 32.1143\n",
      "INFO:tensorflow:loss = 2.6718435, step = 2901 (3.113 sec)\n",
      "INFO:tensorflow:global_step/sec: 31.2968\n",
      "INFO:tensorflow:loss = 1.6027792, step = 3001 (3.195 sec)\n",
      "INFO:tensorflow:global_step/sec: 38.9589\n",
      "INFO:tensorflow:loss = 9.760489, step = 3101 (2.567 sec)\n",
      "INFO:tensorflow:global_step/sec: 34.8914\n",
      "INFO:tensorflow:loss = 7.7914476, step = 3201 (2.866 sec)\n",
      "INFO:tensorflow:global_step/sec: 36.5522\n",
      "INFO:tensorflow:loss = 0.0037833496, step = 3301 (2.736 sec)\n",
      "INFO:tensorflow:global_step/sec: 39.2277\n",
      "INFO:tensorflow:loss = 0.38833436, step = 3401 (2.549 sec)\n",
      "INFO:tensorflow:global_step/sec: 38.2846\n",
      "INFO:tensorflow:loss = 20.360748, step = 3501 (2.613 sec)\n",
      "INFO:tensorflow:global_step/sec: 37.1574\n",
      "INFO:tensorflow:loss = 14.718607, step = 3601 (2.692 sec)\n",
      "INFO:tensorflow:global_step/sec: 37.8384\n",
      "INFO:tensorflow:loss = 373.6191, step = 3701 (2.642 sec)\n",
      "INFO:tensorflow:global_step/sec: 36.9707\n",
      "INFO:tensorflow:loss = 32.017464, step = 3801 (2.705 sec)\n",
      "INFO:tensorflow:global_step/sec: 37.8846\n",
      "INFO:tensorflow:loss = 4.1963367, step = 3901 (2.639 sec)\n",
      "INFO:tensorflow:global_step/sec: 37.2744\n",
      "INFO:tensorflow:loss = 32.17265, step = 4001 (2.683 sec)\n",
      "INFO:tensorflow:global_step/sec: 38.1302\n",
      "INFO:tensorflow:loss = 10.686327, step = 4101 (2.623 sec)\n",
      "INFO:tensorflow:global_step/sec: 35.7686\n",
      "INFO:tensorflow:loss = 42.8824, step = 4201 (2.796 sec)\n",
      "INFO:tensorflow:global_step/sec: 40.2676\n",
      "INFO:tensorflow:loss = 9.085857, step = 4301 (2.483 sec)\n",
      "INFO:tensorflow:global_step/sec: 37.0657\n",
      "INFO:tensorflow:loss = 4614.8867, step = 4401 (2.697 sec)\n",
      "INFO:tensorflow:global_step/sec: 39.0455\n",
      "INFO:tensorflow:loss = 0.1015515, step = 4501 (2.561 sec)\n",
      "INFO:tensorflow:global_step/sec: 32.893\n",
      "INFO:tensorflow:loss = 0.03789752, step = 4601 (3.040 sec)\n",
      "INFO:tensorflow:global_step/sec: 36.3171\n",
      "INFO:tensorflow:loss = 5.4114776, step = 4701 (2.754 sec)\n",
      "INFO:tensorflow:global_step/sec: 31.3093\n",
      "INFO:tensorflow:loss = 5.21483, step = 4801 (3.194 sec)\n",
      "INFO:tensorflow:global_step/sec: 31.3097\n",
      "INFO:tensorflow:loss = 2.5624585, step = 4901 (3.194 sec)\n",
      "INFO:tensorflow:global_step/sec: 31.9987\n",
      "INFO:tensorflow:loss = 0.38457295, step = 5001 (3.125 sec)\n",
      "INFO:tensorflow:global_step/sec: 31.6595\n",
      "INFO:tensorflow:loss = 0.033353556, step = 5101 (3.159 sec)\n",
      "INFO:tensorflow:global_step/sec: 31.7256\n",
      "INFO:tensorflow:loss = 5.6361275, step = 5201 (3.152 sec)\n",
      "INFO:tensorflow:global_step/sec: 37.8494\n",
      "INFO:tensorflow:loss = 9.03025, step = 5301 (2.642 sec)\n",
      "INFO:tensorflow:global_step/sec: 37.4521\n",
      "INFO:tensorflow:loss = 5.2938924, step = 5401 (2.670 sec)\n",
      "INFO:tensorflow:global_step/sec: 38.169\n",
      "INFO:tensorflow:loss = 33.532303, step = 5501 (2.620 sec)\n",
      "INFO:tensorflow:global_step/sec: 37.4152\n",
      "INFO:tensorflow:loss = 0.5555668, step = 5601 (2.674 sec)\n",
      "INFO:tensorflow:global_step/sec: 38.4264\n",
      "INFO:tensorflow:loss = 21.807137, step = 5701 (2.602 sec)\n",
      "INFO:tensorflow:global_step/sec: 39.2791\n",
      "INFO:tensorflow:loss = 7.302169, step = 5801 (2.545 sec)\n",
      "INFO:tensorflow:global_step/sec: 38.3785\n",
      "INFO:tensorflow:loss = 19.92424, step = 5901 (2.607 sec)\n",
      "INFO:tensorflow:global_step/sec: 35.5778\n",
      "INFO:tensorflow:loss = 8.662018, step = 6001 (2.809 sec)\n",
      "INFO:tensorflow:global_step/sec: 32.8802\n",
      "INFO:tensorflow:loss = 51.695896, step = 6101 (3.041 sec)\n",
      "INFO:tensorflow:global_step/sec: 35.0488\n",
      "INFO:tensorflow:loss = 0.00060650764, step = 6201 (2.853 sec)\n",
      "INFO:tensorflow:global_step/sec: 39.8441\n",
      "INFO:tensorflow:loss = 2.3764808, step = 6301 (2.510 sec)\n",
      "INFO:tensorflow:global_step/sec: 37.9201\n",
      "INFO:tensorflow:loss = 5.9354553, step = 6401 (2.637 sec)\n",
      "INFO:tensorflow:global_step/sec: 38.0747\n",
      "INFO:tensorflow:loss = 11.961649, step = 6501 (2.626 sec)\n",
      "INFO:tensorflow:global_step/sec: 38.8991\n",
      "INFO:tensorflow:loss = 34.04062, step = 6601 (2.571 sec)\n",
      "INFO:tensorflow:global_step/sec: 38.8626\n",
      "INFO:tensorflow:loss = 0.48845103, step = 6701 (2.573 sec)\n",
      "INFO:tensorflow:global_step/sec: 34.3481\n",
      "INFO:tensorflow:loss = 0.036674388, step = 6801 (2.911 sec)\n",
      "INFO:tensorflow:global_step/sec: 32.807\n",
      "INFO:tensorflow:loss = 0.23445515, step = 6901 (3.048 sec)\n",
      "INFO:tensorflow:global_step/sec: 32.6179\n",
      "INFO:tensorflow:loss = 2.7609253, step = 7001 (3.066 sec)\n",
      "INFO:tensorflow:global_step/sec: 36.9159\n",
      "INFO:tensorflow:loss = 25.291943, step = 7101 (2.708 sec)\n",
      "INFO:tensorflow:global_step/sec: 39.1974\n",
      "INFO:tensorflow:loss = 2.9814444, step = 7201 (2.551 sec)\n",
      "INFO:tensorflow:global_step/sec: 38.2762\n",
      "INFO:tensorflow:loss = 5.6420913, step = 7301 (2.613 sec)\n",
      "INFO:tensorflow:global_step/sec: 39.4293\n",
      "INFO:tensorflow:loss = 0.38378537, step = 7401 (2.536 sec)\n",
      "INFO:tensorflow:global_step/sec: 38.4534\n",
      "INFO:tensorflow:loss = 27.083055, step = 7501 (2.600 sec)\n",
      "INFO:tensorflow:global_step/sec: 38.3308\n",
      "INFO:tensorflow:loss = 34.94873, step = 7601 (2.609 sec)\n"
     ]
    },
    {
     "name": "stdout",
     "output_type": "stream",
     "text": [
      "INFO:tensorflow:global_step/sec: 39.0713\n",
      "INFO:tensorflow:loss = 27.380032, step = 7701 (2.559 sec)\n",
      "INFO:tensorflow:global_step/sec: 39.2704\n",
      "INFO:tensorflow:loss = 74.22593, step = 7801 (2.546 sec)\n",
      "INFO:tensorflow:global_step/sec: 36.7314\n",
      "INFO:tensorflow:loss = 33.376286, step = 7901 (2.722 sec)\n",
      "INFO:tensorflow:global_step/sec: 36.9313\n",
      "INFO:tensorflow:loss = 0.013264834, step = 8001 (2.708 sec)\n",
      "INFO:tensorflow:global_step/sec: 34.3934\n",
      "INFO:tensorflow:loss = 1.6857052, step = 8101 (2.907 sec)\n",
      "INFO:tensorflow:global_step/sec: 34.8578\n",
      "INFO:tensorflow:loss = 45.466267, step = 8201 (2.869 sec)\n",
      "INFO:tensorflow:global_step/sec: 33.0649\n",
      "INFO:tensorflow:loss = 3.0351532, step = 8301 (3.025 sec)\n",
      "INFO:tensorflow:global_step/sec: 34.3845\n",
      "INFO:tensorflow:loss = 40.108784, step = 8401 (2.908 sec)\n",
      "INFO:tensorflow:global_step/sec: 35.0715\n",
      "INFO:tensorflow:loss = 0.020875819, step = 8501 (2.851 sec)\n",
      "INFO:tensorflow:global_step/sec: 39.9378\n",
      "INFO:tensorflow:loss = 97.35978, step = 8601 (2.504 sec)\n",
      "INFO:tensorflow:global_step/sec: 39.6214\n",
      "INFO:tensorflow:loss = 4.6929016, step = 8701 (2.524 sec)\n",
      "INFO:tensorflow:global_step/sec: 38.7488\n",
      "INFO:tensorflow:loss = 25.299824, step = 8801 (2.580 sec)\n",
      "INFO:tensorflow:global_step/sec: 37.601\n",
      "INFO:tensorflow:loss = 0.5226865, step = 8901 (2.660 sec)\n",
      "INFO:tensorflow:global_step/sec: 38.9762\n",
      "INFO:tensorflow:loss = 0.52148074, step = 9001 (2.565 sec)\n",
      "INFO:tensorflow:global_step/sec: 39.4744\n",
      "INFO:tensorflow:loss = 0.9563241, step = 9101 (2.533 sec)\n",
      "INFO:tensorflow:global_step/sec: 38.4429\n",
      "INFO:tensorflow:loss = 14.124289, step = 9201 (2.601 sec)\n",
      "INFO:tensorflow:global_step/sec: 32.637\n",
      "INFO:tensorflow:loss = 0.8125734, step = 9301 (3.064 sec)\n",
      "INFO:tensorflow:global_step/sec: 33.2923\n",
      "INFO:tensorflow:loss = 27.902235, step = 9401 (3.004 sec)\n",
      "INFO:tensorflow:global_step/sec: 39.6903\n",
      "INFO:tensorflow:loss = 1.1192825, step = 9501 (2.520 sec)\n",
      "INFO:tensorflow:global_step/sec: 38.9531\n",
      "INFO:tensorflow:loss = 0.04594472, step = 9601 (2.567 sec)\n",
      "INFO:tensorflow:global_step/sec: 39.1799\n",
      "INFO:tensorflow:loss = 0.088394955, step = 9701 (2.552 sec)\n",
      "INFO:tensorflow:global_step/sec: 38.5471\n",
      "INFO:tensorflow:loss = 3.2291744, step = 9801 (2.594 sec)\n",
      "INFO:tensorflow:global_step/sec: 39.1648\n",
      "INFO:tensorflow:loss = 11.563747, step = 9901 (2.553 sec)\n",
      "INFO:tensorflow:global_step/sec: 36.6536\n",
      "INFO:tensorflow:loss = 0.9066098, step = 10001 (2.728 sec)\n",
      "INFO:tensorflow:global_step/sec: 32.9006\n",
      "INFO:tensorflow:loss = 24.211967, step = 10101 (3.040 sec)\n",
      "INFO:tensorflow:global_step/sec: 38.0468\n",
      "INFO:tensorflow:loss = 211.67177, step = 10201 (2.629 sec)\n",
      "INFO:tensorflow:global_step/sec: 37.2091\n",
      "INFO:tensorflow:loss = 1.1052724, step = 10301 (2.688 sec)\n",
      "INFO:tensorflow:global_step/sec: 37.8665\n",
      "INFO:tensorflow:loss = 1.101956, step = 10401 (2.641 sec)\n",
      "INFO:tensorflow:global_step/sec: 33.6717\n",
      "INFO:tensorflow:loss = 54.877403, step = 10501 (2.970 sec)\n",
      "INFO:tensorflow:global_step/sec: 36.8738\n",
      "INFO:tensorflow:loss = 7.6335697, step = 10601 (2.712 sec)\n",
      "INFO:tensorflow:global_step/sec: 37.5334\n",
      "INFO:tensorflow:loss = 1131.3584, step = 10701 (2.665 sec)\n",
      "INFO:tensorflow:global_step/sec: 36.9669\n",
      "INFO:tensorflow:loss = 0.039078027, step = 10801 (2.705 sec)\n",
      "INFO:tensorflow:global_step/sec: 39.0456\n",
      "INFO:tensorflow:loss = 1.0052418, step = 10901 (2.561 sec)\n",
      "INFO:tensorflow:global_step/sec: 37.5397\n",
      "INFO:tensorflow:loss = 2.4875605, step = 11001 (2.665 sec)\n",
      "INFO:tensorflow:global_step/sec: 36.8353\n",
      "INFO:tensorflow:loss = 36.474518, step = 11101 (2.714 sec)\n",
      "INFO:tensorflow:global_step/sec: 36.2639\n",
      "INFO:tensorflow:loss = 2.577722, step = 11201 (2.758 sec)\n",
      "INFO:tensorflow:global_step/sec: 37.5597\n",
      "INFO:tensorflow:loss = 439.51508, step = 11301 (2.662 sec)\n",
      "INFO:tensorflow:global_step/sec: 37.7906\n",
      "INFO:tensorflow:loss = 1.343032, step = 11401 (2.646 sec)\n",
      "INFO:tensorflow:global_step/sec: 37.8914\n",
      "INFO:tensorflow:loss = 11.228082, step = 11501 (2.639 sec)\n",
      "INFO:tensorflow:global_step/sec: 37.0673\n",
      "INFO:tensorflow:loss = 1272.364, step = 11601 (2.697 sec)\n",
      "INFO:tensorflow:global_step/sec: 31.5896\n",
      "INFO:tensorflow:loss = 0.62266684, step = 11701 (3.166 sec)\n",
      "INFO:tensorflow:global_step/sec: 38.649\n",
      "INFO:tensorflow:loss = 8.971222, step = 11801 (2.588 sec)\n",
      "INFO:tensorflow:global_step/sec: 37.2787\n",
      "INFO:tensorflow:loss = 0.72630256, step = 11901 (2.682 sec)\n",
      "INFO:tensorflow:global_step/sec: 31.7208\n",
      "INFO:tensorflow:loss = 0.008698527, step = 12001 (3.153 sec)\n",
      "INFO:tensorflow:global_step/sec: 34.44\n",
      "INFO:tensorflow:loss = 0.8473338, step = 12101 (2.904 sec)\n",
      "INFO:tensorflow:global_step/sec: 34.3749\n",
      "INFO:tensorflow:loss = 3.528708, step = 12201 (2.909 sec)\n",
      "INFO:tensorflow:global_step/sec: 30.179\n",
      "INFO:tensorflow:loss = 1.2212229, step = 12301 (3.313 sec)\n",
      "INFO:tensorflow:global_step/sec: 33.5542\n",
      "INFO:tensorflow:loss = 3533.5625, step = 12401 (2.981 sec)\n",
      "INFO:tensorflow:global_step/sec: 29.6983\n",
      "INFO:tensorflow:loss = 0.0021398473, step = 12501 (3.366 sec)\n",
      "INFO:tensorflow:global_step/sec: 32.6676\n",
      "INFO:tensorflow:loss = 16.325361, step = 12601 (3.063 sec)\n",
      "INFO:tensorflow:global_step/sec: 35.3763\n",
      "INFO:tensorflow:loss = 8.621162, step = 12701 (2.826 sec)\n",
      "INFO:tensorflow:global_step/sec: 34.2379\n",
      "INFO:tensorflow:loss = 1.7248285, step = 12801 (2.921 sec)\n",
      "INFO:tensorflow:global_step/sec: 35.108\n",
      "INFO:tensorflow:loss = 629.8539, step = 12901 (2.848 sec)\n",
      "INFO:tensorflow:global_step/sec: 36.4131\n",
      "INFO:tensorflow:loss = 475.68768, step = 13001 (2.747 sec)\n",
      "INFO:tensorflow:global_step/sec: 34.3443\n",
      "INFO:tensorflow:loss = 0.9705915, step = 13101 (2.912 sec)\n",
      "INFO:tensorflow:global_step/sec: 37.9271\n",
      "INFO:tensorflow:loss = 960.196, step = 13201 (2.636 sec)\n",
      "INFO:tensorflow:global_step/sec: 35.4488\n",
      "INFO:tensorflow:loss = 47.522614, step = 13301 (2.821 sec)\n",
      "INFO:tensorflow:global_step/sec: 36.1408\n",
      "INFO:tensorflow:loss = 20.719608, step = 13401 (2.767 sec)\n",
      "INFO:tensorflow:global_step/sec: 32.6409\n",
      "INFO:tensorflow:loss = 1.6897709, step = 13501 (3.063 sec)\n",
      "INFO:tensorflow:global_step/sec: 31.6298\n",
      "INFO:tensorflow:loss = 0.06685769, step = 13601 (3.162 sec)\n",
      "INFO:tensorflow:global_step/sec: 32.9405\n",
      "INFO:tensorflow:loss = 0.095089346, step = 13701 (3.035 sec)\n",
      "INFO:tensorflow:global_step/sec: 36.8157\n",
      "INFO:tensorflow:loss = 11.553302, step = 13801 (2.716 sec)\n",
      "INFO:tensorflow:global_step/sec: 39.9741\n",
      "INFO:tensorflow:loss = 1.8205749, step = 13901 (2.502 sec)\n",
      "INFO:tensorflow:global_step/sec: 36.8053\n",
      "INFO:tensorflow:loss = 15.476609, step = 14001 (2.717 sec)\n",
      "INFO:tensorflow:global_step/sec: 34.3528\n",
      "INFO:tensorflow:loss = 0.36812487, step = 14101 (2.911 sec)\n",
      "INFO:tensorflow:global_step/sec: 33.6626\n",
      "INFO:tensorflow:loss = 26.93237, step = 14201 (2.971 sec)\n",
      "INFO:tensorflow:global_step/sec: 33.1851\n",
      "INFO:tensorflow:loss = 0.037770394, step = 14301 (3.014 sec)\n",
      "INFO:tensorflow:global_step/sec: 37.5384\n",
      "INFO:tensorflow:loss = 2.8146892, step = 14401 (2.664 sec)\n",
      "INFO:tensorflow:global_step/sec: 39.7091\n",
      "INFO:tensorflow:loss = 81.39479, step = 14501 (2.518 sec)\n",
      "INFO:tensorflow:global_step/sec: 38.3922\n",
      "INFO:tensorflow:loss = 352.6171, step = 14601 (2.605 sec)\n",
      "INFO:tensorflow:global_step/sec: 38.5021\n",
      "INFO:tensorflow:loss = 52.26187, step = 14701 (2.597 sec)\n",
      "INFO:tensorflow:global_step/sec: 36.3522\n",
      "INFO:tensorflow:loss = 0.19328344, step = 14801 (2.751 sec)\n",
      "INFO:tensorflow:global_step/sec: 39.089\n",
      "INFO:tensorflow:loss = 0.5677038, step = 14901 (2.558 sec)\n",
      "INFO:tensorflow:global_step/sec: 39.5017\n",
      "INFO:tensorflow:loss = 32.390316, step = 15001 (2.531 sec)\n",
      "INFO:tensorflow:global_step/sec: 40.1401\n",
      "INFO:tensorflow:loss = 432.106, step = 15101 (2.492 sec)\n",
      "INFO:tensorflow:global_step/sec: 40.3147\n",
      "INFO:tensorflow:loss = 1.3594139, step = 15201 (2.480 sec)\n",
      "INFO:tensorflow:global_step/sec: 39.8357\n",
      "INFO:tensorflow:loss = 0.55846596, step = 15301 (2.511 sec)\n",
      "INFO:tensorflow:global_step/sec: 40.6389\n",
      "INFO:tensorflow:loss = 0.0756588, step = 15401 (2.460 sec)\n",
      "INFO:tensorflow:global_step/sec: 41.3092\n",
      "INFO:tensorflow:loss = 0.10591832, step = 15501 (2.421 sec)\n",
      "INFO:tensorflow:global_step/sec: 39.1419\n",
      "INFO:tensorflow:loss = 3.8004894, step = 15601 (2.555 sec)\n",
      "INFO:tensorflow:global_step/sec: 39.3211\n",
      "INFO:tensorflow:loss = 65.69757, step = 15701 (2.543 sec)\n",
      "INFO:tensorflow:global_step/sec: 38.9211\n",
      "INFO:tensorflow:loss = 59.104126, step = 15801 (2.569 sec)\n",
      "INFO:tensorflow:global_step/sec: 40.2175\n"
     ]
    },
    {
     "name": "stdout",
     "output_type": "stream",
     "text": [
      "INFO:tensorflow:loss = 6.083499, step = 15901 (2.487 sec)\n",
      "INFO:tensorflow:global_step/sec: 40.2939\n",
      "INFO:tensorflow:loss = 0.4702609, step = 16001 (2.482 sec)\n",
      "INFO:tensorflow:global_step/sec: 39.7761\n",
      "INFO:tensorflow:loss = 3.7871203, step = 16101 (2.514 sec)\n",
      "INFO:tensorflow:global_step/sec: 39.566\n",
      "INFO:tensorflow:loss = 24.563656, step = 16201 (2.528 sec)\n",
      "INFO:tensorflow:global_step/sec: 40.3517\n",
      "INFO:tensorflow:loss = 16.57627, step = 16301 (2.479 sec)\n",
      "INFO:tensorflow:global_step/sec: 39.9555\n",
      "INFO:tensorflow:loss = 11.075482, step = 16401 (2.503 sec)\n",
      "INFO:tensorflow:global_step/sec: 37.5417\n",
      "INFO:tensorflow:loss = 12.324317, step = 16501 (2.663 sec)\n",
      "INFO:tensorflow:global_step/sec: 40.0466\n",
      "INFO:tensorflow:loss = 0.048684333, step = 16601 (2.498 sec)\n",
      "INFO:tensorflow:global_step/sec: 37.2525\n",
      "INFO:tensorflow:loss = 6.3746166, step = 16701 (2.684 sec)\n",
      "INFO:tensorflow:global_step/sec: 37.1565\n",
      "INFO:tensorflow:loss = 10.676504, step = 16801 (2.691 sec)\n",
      "INFO:tensorflow:global_step/sec: 34.2811\n",
      "INFO:tensorflow:loss = 44.531864, step = 16901 (2.917 sec)\n",
      "INFO:tensorflow:global_step/sec: 33.2879\n",
      "INFO:tensorflow:loss = 0.89788055, step = 17001 (3.004 sec)\n",
      "INFO:tensorflow:global_step/sec: 33.4324\n",
      "INFO:tensorflow:loss = 0.21169536, step = 17101 (2.991 sec)\n",
      "INFO:tensorflow:global_step/sec: 35.3767\n",
      "INFO:tensorflow:loss = 0.113278575, step = 17201 (2.827 sec)\n",
      "INFO:tensorflow:global_step/sec: 36.4017\n",
      "INFO:tensorflow:loss = 1.0676347, step = 17301 (2.748 sec)\n",
      "INFO:tensorflow:global_step/sec: 34.3616\n",
      "INFO:tensorflow:loss = 12.337141, step = 17401 (2.910 sec)\n",
      "INFO:tensorflow:global_step/sec: 34.3173\n",
      "INFO:tensorflow:loss = 5.942163, step = 17501 (2.913 sec)\n",
      "INFO:tensorflow:global_step/sec: 34.2647\n",
      "INFO:tensorflow:loss = 3.473207, step = 17601 (2.918 sec)\n",
      "INFO:tensorflow:global_step/sec: 27.8924\n",
      "INFO:tensorflow:loss = 0.6440325, step = 17701 (3.585 sec)\n",
      "INFO:tensorflow:global_step/sec: 27.2734\n",
      "INFO:tensorflow:loss = 1.2558893, step = 17801 (3.667 sec)\n",
      "INFO:tensorflow:global_step/sec: 29.9511\n",
      "INFO:tensorflow:loss = 0.562611, step = 17901 (3.339 sec)\n",
      "INFO:tensorflow:global_step/sec: 31.6988\n",
      "INFO:tensorflow:loss = 9.452077, step = 18001 (3.155 sec)\n",
      "INFO:tensorflow:global_step/sec: 33.3816\n",
      "INFO:tensorflow:loss = 7.547456, step = 18101 (2.996 sec)\n",
      "INFO:tensorflow:global_step/sec: 36.5731\n",
      "INFO:tensorflow:loss = 0.9825515, step = 18201 (2.734 sec)\n",
      "INFO:tensorflow:global_step/sec: 35.2238\n",
      "INFO:tensorflow:loss = 0.822073, step = 18301 (2.839 sec)\n",
      "INFO:tensorflow:global_step/sec: 33.6287\n",
      "INFO:tensorflow:loss = 19.306011, step = 18401 (2.974 sec)\n",
      "INFO:tensorflow:global_step/sec: 33.0452\n",
      "INFO:tensorflow:loss = 23.567116, step = 18501 (3.026 sec)\n",
      "INFO:tensorflow:global_step/sec: 34.0702\n",
      "INFO:tensorflow:loss = 181.31958, step = 18601 (2.935 sec)\n",
      "INFO:tensorflow:global_step/sec: 30.46\n",
      "INFO:tensorflow:loss = 12.051935, step = 18701 (3.283 sec)\n",
      "INFO:tensorflow:global_step/sec: 32.5564\n",
      "INFO:tensorflow:loss = 0.017462846, step = 18801 (3.072 sec)\n",
      "INFO:tensorflow:global_step/sec: 34.6664\n",
      "INFO:tensorflow:loss = 3.9171102, step = 18901 (2.885 sec)\n",
      "INFO:tensorflow:global_step/sec: 30.9838\n",
      "INFO:tensorflow:loss = 8.332606, step = 19001 (3.227 sec)\n",
      "INFO:tensorflow:global_step/sec: 31.5702\n",
      "INFO:tensorflow:loss = 0.40749022, step = 19101 (3.168 sec)\n",
      "INFO:tensorflow:global_step/sec: 31.5988\n",
      "INFO:tensorflow:loss = 461.80072, step = 19201 (3.164 sec)\n",
      "INFO:tensorflow:global_step/sec: 28.162\n",
      "INFO:tensorflow:loss = 26.558434, step = 19301 (3.551 sec)\n",
      "INFO:tensorflow:global_step/sec: 35.7659\n",
      "INFO:tensorflow:loss = 0.6396614, step = 19401 (2.796 sec)\n",
      "INFO:tensorflow:global_step/sec: 33.7929\n",
      "INFO:tensorflow:loss = 16.77621, step = 19501 (2.960 sec)\n",
      "INFO:tensorflow:global_step/sec: 28.8673\n",
      "INFO:tensorflow:loss = 347.91144, step = 19601 (3.464 sec)\n",
      "INFO:tensorflow:global_step/sec: 32.0036\n",
      "INFO:tensorflow:loss = 10.612361, step = 19701 (3.124 sec)\n",
      "INFO:tensorflow:global_step/sec: 35.026\n",
      "INFO:tensorflow:loss = 1.0134696, step = 19801 (2.855 sec)\n",
      "INFO:tensorflow:global_step/sec: 36.8681\n",
      "INFO:tensorflow:loss = 0.6439366, step = 19901 (2.712 sec)\n",
      "INFO:tensorflow:Saving checkpoints for 20000 into /home/matz/Desktop/ml_ids/NN_model2/model.ckpt.\n",
      "INFO:tensorflow:Loss for final step: 4.1939683.\n"
     ]
    },
    {
     "data": {
      "text/plain": [
       "<tensorflow.python.estimator.canned.dnn_linear_combined.DNNLinearCombinedClassifier at 0x7fbde40886a0>"
      ]
     },
     "execution_count": 59,
     "metadata": {},
     "output_type": "execute_result"
    }
   ],
   "source": [
    "NN_model.train(input_fn=get_input_fn(train_ex, n_batch=512), steps=20000)"
   ]
  },
  {
   "cell_type": "code",
   "execution_count": 60,
   "metadata": {},
   "outputs": [
    {
     "name": "stdout",
     "output_type": "stream",
     "text": [
      "INFO:tensorflow:Calling model_fn.\n",
      "WARNING:tensorflow:Trapezoidal rule is known to produce incorrect PR-AUCs; please switch to \"careful_interpolation\" instead.\n",
      "WARNING:tensorflow:Trapezoidal rule is known to produce incorrect PR-AUCs; please switch to \"careful_interpolation\" instead.\n",
      "INFO:tensorflow:Done calling model_fn.\n",
      "INFO:tensorflow:Starting evaluation at 2019-05-20-21:20:20\n",
      "INFO:tensorflow:Graph was finalized.\n",
      "INFO:tensorflow:Restoring parameters from /home/matz/Desktop/ml_ids/NN_model2/model.ckpt-20000\n",
      "INFO:tensorflow:Running local_init_op.\n",
      "INFO:tensorflow:Done running local_init_op.\n",
      "INFO:tensorflow:Evaluation [1/1]\n",
      "INFO:tensorflow:Finished evaluation at 2019-05-20-21:20:25\n",
      "INFO:tensorflow:Saving dict for global step 20000: accuracy = 0.8641208, accuracy_baseline = 0.9510752, auc = 0.73460877, auc_precision_recall = 0.98507667, average_loss = 5.2080317, global_step = 20000, label/mean = 0.9510752, loss = 327439.38, precision = 0.97294456, prediction/mean = 0.8609134, recall = 0.8816476\n",
      "INFO:tensorflow:Saving 'checkpoint_path' summary for global step 20000: /home/matz/Desktop/ml_ids/NN_model2/model.ckpt-20000\n"
     ]
    }
   ],
   "source": [
    "eval_metrics = NN_model.evaluate(input_fn=get_input_fn(validate_ex, n_batch=validate_ex.shape[0], shuffle=False), steps=1)"
   ]
  },
  {
   "cell_type": "code",
   "execution_count": 61,
   "metadata": {},
   "outputs": [
    {
     "name": "stdout",
     "output_type": "stream",
     "text": [
      "accuracy: 0.8641208\n",
      "accuracy_baseline: 0.9510752\n",
      "auc: 0.73460877\n",
      "auc_precision_recall: 0.98507667\n",
      "average_loss: 5.2080317\n",
      "global_step: 20000\n",
      "label/mean: 0.9510752\n",
      "loss: 327439.38\n",
      "precision: 0.97294456\n",
      "prediction/mean: 0.8609134\n",
      "recall: 0.8816476\n"
     ]
    }
   ],
   "source": [
    "for key,value in sorted(eval_metrics.items()):\n",
    "  print('%s: %s' % (key, value))"
   ]
  },
  {
   "cell_type": "code",
   "execution_count": 62,
   "metadata": {},
   "outputs": [
    {
     "name": "stdout",
     "output_type": "stream",
     "text": [
      "INFO:tensorflow:Calling model_fn.\n",
      "INFO:tensorflow:Done calling model_fn.\n",
      "INFO:tensorflow:Graph was finalized.\n",
      "INFO:tensorflow:Restoring parameters from /home/matz/Desktop/ml_ids/NN_model2/model.ckpt-20000\n",
      "INFO:tensorflow:Running local_init_op.\n",
      "INFO:tensorflow:Done running local_init_op.\n"
     ]
    }
   ],
   "source": [
    "results = []\n",
    "results = list(NN_model.predict(input_fn=get_input_fn(test_ex, num_epochs=1, n_batch = test_ex.shape[0], shuffle=False)))"
   ]
  },
  {
   "cell_type": "code",
   "execution_count": 63,
   "metadata": {},
   "outputs": [],
   "source": [
    "y_pred = []\n",
    "for el in results:\n",
    "    y_pred.append(el[\"class_ids\"])\n",
    "\n",
    "y_pred_NN = [int(a) for a in y_pred]"
   ]
  },
  {
   "cell_type": "code",
   "execution_count": 64,
   "metadata": {},
   "outputs": [
    {
     "name": "stdout",
     "output_type": "stream",
     "text": [
      "NN Accuracy: 0.94871, F1-score: 0.97033, Precision: 0.97793, Recall: 0.96284, FPR: 0.14675\n",
      "TN: 6919; FP: 1190; FN: 2035; TP: 52728\n",
      "\n"
     ]
    }
   ],
   "source": [
    "from sklearn import metrics\n",
    "name = \"NN\"\n",
    "\n",
    "Acc[name] = metrics.accuracy_score(test_ex[\"attack_flag\"], y_pred_NN)\n",
    "F1S[name] = metrics.f1_score(test_ex[\"attack_flag\"], y_pred_NN)\n",
    "Prec[name] = metrics.precision_score(test_ex[\"attack_flag\"], y_pred_NN)\n",
    "Rec[name] = metrics.recall_score(test_ex[\"attack_flag\"], y_pred_NN)\n",
    "tn, fp, fn, tp = metrics.confusion_matrix(test_ex[\"attack_flag\"], y_pred_NN).ravel()\n",
    "FPR[name] = fp/(fp+tn)\n",
    "\n",
    "print(\"{0:2} Accuracy: {1:.5f}, F1-score: {2:.5f}, Precision: {3:.5f}, Recall: {4:.5f}, FPR: {5:.5f}\".format(name, Acc[name], F1S[name], Prec[name], Rec[name], FPR[name]))\n",
    "print(\"TN: {0:3}; FP: {1:3}; FN: {2:4}; TP: {3:3}\\n\".format(tn, fp, fn, tp))"
   ]
  },
  {
   "cell_type": "code",
   "execution_count": 65,
   "metadata": {},
   "outputs": [
    {
     "data": {
      "image/png": "[encoded data removed]",
      "text/plain": [
       "<matplotlib.figure.Figure at 0x7fbd9de0d7f0>"
      ]
     },
     "metadata": {
      "needs_background": "light"
     },
     "output_type": "display_data"
    },
    {
     "data": {
      "image/png": "[encoded data removed]",
      "text/plain": [
       "<matplotlib.figure.Figure at 0x7fbd9de0d7b8>"
      ]
     },
     "metadata": {
      "needs_background": "light"
     },
     "output_type": "display_data"
    },
    {
     "data": {
      "image/png": "[encoded data removed]",
      "text/plain": [
       "<matplotlib.figure.Figure at 0x7fbe1c5ceac8>"
      ]
     },
     "metadata": {
      "needs_background": "light"
     },
     "output_type": "display_data"
    },
    {
     "data": {
      "image/png": "[encoded data removed]",
      "text/plain": [
       "<matplotlib.figure.Figure at 0x7fbdacb46eb8>"
      ]
     },
     "metadata": {
      "needs_background": "light"
     },
     "output_type": "display_data"
    },
    {
     "data": {
      "image/png": "[encoded data removed]",
      "text/plain": [
       "<matplotlib.figure.Figure at 0x7fbdacb38c88>"
      ]
     },
     "metadata": {
      "needs_background": "light"
     },
     "output_type": "display_data"
    }
   ],
   "source": [
    "plot_stats(Acc, \"Accuracy\", 8, 55)\n",
    "plot_stats(F1S, \"F1-score\", 8, 55)\n",
    "plot_stats(Prec, \"Precision\", 8, 55)\n",
    "plot_stats(Rec, \"Recall\", 8, 55)\n",
    "plot_stats(FPR, \"False Positive Rate\", 8, 55)"
   ]
  },
  {
   "cell_type": "markdown",
   "metadata": {},
   "source": [
    "## Results comparison"
   ]
  },
  {
   "cell_type": "code",
   "execution_count": 85,
   "metadata": {},
   "outputs": [],
   "source": [
    "y_pred = {}"
   ]
  },
  {
   "cell_type": "code",
   "execution_count": 86,
   "metadata": {},
   "outputs": [],
   "source": [
    "y_pred[\"RFFM\"] = class_id\n",
    "y_pred[\"NN\"] = y_pred_NN"
   ]
  },
  {
   "cell_type": "code",
   "execution_count": 87,
   "metadata": {},
   "outputs": [],
   "source": [
    "# Metrics of baseline method\n",
    "\n",
    "name = \"baseline\"\n",
    "\n",
    "if(y_test.mean() > (1-y_test.mean())):\n",
    "    y_pred[\"baseline\"] = np.ones(len(y_test)).ravel() \n",
    "else:\n",
    "    y_pred[\"baseline\"] = np.zeros(len(y_test)).ravel()\n",
    "        \n",
    "y_pred[\"baseline\"] = y_pred[\"baseline\"].astype(int)"
   ]
  },
  {
   "cell_type": "code",
   "execution_count": 88,
   "metadata": {},
   "outputs": [
    {
     "name": "stderr",
     "output_type": "stream",
     "text": [
      "/home/matz/.local/lib/python3.6/site-packages/sklearn/preprocessing/data.py:625: DataConversionWarning: Data with input dtype float32 were all converted to float64 by StandardScaler.\n",
      "  return self.partial_fit(X, y)\n",
      "/home/matz/.local/lib/python3.6/site-packages/sklearn/base.py:465: DataConversionWarning: Data with input dtype float32 were all converted to float64 by StandardScaler.\n",
      "  return self.fit(X, y, **fit_params).transform(X)\n",
      "/home/matz/.local/lib/python3.6/site-packages/sklearn/pipeline.py:331: DataConversionWarning: Data with input dtype float32 were all converted to float64 by StandardScaler.\n",
      "  Xt = transform.transform(Xt)\n",
      "/home/matz/.local/lib/python3.6/site-packages/sklearn/preprocessing/data.py:625: DataConversionWarning: Data with input dtype float32 were all converted to float64 by StandardScaler.\n",
      "  return self.partial_fit(X, y)\n",
      "/home/matz/.local/lib/python3.6/site-packages/sklearn/base.py:465: DataConversionWarning: Data with input dtype float32 were all converted to float64 by StandardScaler.\n",
      "  return self.fit(X, y, **fit_params).transform(X)\n",
      "/home/matz/.local/lib/python3.6/site-packages/sklearn/pipeline.py:331: DataConversionWarning: Data with input dtype float32 were all converted to float64 by StandardScaler.\n",
      "  Xt = transform.transform(Xt)\n",
      "/home/matz/.local/lib/python3.6/site-packages/sklearn/preprocessing/data.py:625: DataConversionWarning: Data with input dtype float32 were all converted to float64 by StandardScaler.\n",
      "  return self.partial_fit(X, y)\n",
      "/home/matz/.local/lib/python3.6/site-packages/sklearn/base.py:465: DataConversionWarning: Data with input dtype float32 were all converted to float64 by StandardScaler.\n",
      "  return self.fit(X, y, **fit_params).transform(X)\n",
      "/home/matz/.local/lib/python3.6/site-packages/sklearn/pipeline.py:331: DataConversionWarning: Data with input dtype float32 were all converted to float64 by StandardScaler.\n",
      "  Xt = transform.transform(Xt)\n"
     ]
    }
   ],
   "source": [
    "classifiers = {\n",
    "               \"AdaBoost\":make_pipeline(StandardScaler(), AdaBoostClassifier(DecisionTreeClassifier(max_depth = 11), n_estimators=num_trees)),\n",
    "               \"DecisionTree\":make_pipeline(StandardScaler(), DecisionTreeClassifier(random_state=0)),\n",
    "               \"NaiveBayes\":GaussianNB(),\n",
    "               \"RandomTree\":DecisionTreeClassifier(random_state=0, splitter = \"random\"),\n",
    "               \"RandomForest\":RandomForestClassifier(n_estimators=196, max_depth=40, random_state=0),\n",
    "              }\n",
    "\n",
    "name = \"LogisticReg\"\n",
    "model = LogisticRegression(solver = 'newton-cg').fit(X_train, y_train)\n",
    "y_pred[name] = model.predict(X_test)\n",
    "\n",
    "for name, clf in classifiers.items():\n",
    "    \n",
    "    model = clf.fit(X_train, y_train)\n",
    "    \n",
    "    y_pred[name] = model.predict(X_test)"
   ]
  },
  {
   "cell_type": "code",
   "execution_count": 89,
   "metadata": {},
   "outputs": [
    {
     "data": {
      "image/png": "[encoded data removed]",
      "text/plain": [
       "<matplotlib.figure.Figure at 0x7f3e7bb984e0>"
      ]
     },
     "metadata": {
      "needs_background": "light"
     },
     "output_type": "display_data"
    }
   ],
   "source": [
    "y_pred_pand = pd.DataFrame.from_dict(y_pred)\n",
    "names = [\"LogisticReg\", \"AdaBoost\", \"DecisionTree\", \"NaiveBayes\", \"RandomTree\", \"RandomForest\", \"RFFM\", \"NN\"]\n",
    "correlations = y_pred_pand[names].corr()\n",
    "fig = plt.figure()\n",
    "ax = fig.add_subplot(111)\n",
    "cax = ax.matshow(correlations, vmin=0.5, vmax=1)\n",
    "fig.colorbar(cax)\n",
    "ticks = np.arange(0,8,1)\n",
    "ax.set_xticks(ticks)\n",
    "ax.set_yticks(ticks)\n",
    "ax.set_xticklabels(names, rotation='vertical')\n",
    "ax.set_yticklabels(names)\n",
    "plt.show()"
   ]
  },
  {
   "cell_type": "code",
   "execution_count": 90,
   "metadata": {},
   "outputs": [
    {
     "name": "stdout",
     "output_type": "stream",
     "text": [
      "              LogisticReg  AdaBoost  DecisionTree  NaiveBayes  RandomTree  \\\n",
      "LogisticReg      1.000000  0.669884      0.666939    0.777411    0.657883   \n",
      "AdaBoost         0.669884  1.000000      0.943388    0.578142    0.883861   \n",
      "DecisionTree     0.666939  0.943388      1.000000    0.580287    0.878824   \n",
      "NaiveBayes       0.777411  0.578142      0.580287    1.000000    0.563201   \n",
      "RandomTree       0.657883  0.883861      0.878824    0.563201    1.000000   \n",
      "RandomForest     0.694794  0.931021      0.921465    0.589097    0.872309   \n",
      "RFFM             0.682167  0.864484      0.859869    0.571478    0.836742   \n",
      "NN               0.001935  0.003341      0.002733   -0.003472    0.004074   \n",
      "\n",
      "              RandomForest      RFFM        NN  \n",
      "LogisticReg       0.694794  0.682167  0.001935  \n",
      "AdaBoost          0.931021  0.864484  0.003341  \n",
      "DecisionTree      0.921465  0.859869  0.002733  \n",
      "NaiveBayes        0.589097  0.571478 -0.003472  \n",
      "RandomTree        0.872309  0.836742  0.004074  \n",
      "RandomForest      1.000000  0.873609  0.001701  \n",
      "RFFM              0.873609  1.000000  0.002728  \n",
      "NN                0.001701  0.002728  1.000000  \n"
     ]
    }
   ],
   "source": [
    "print(correlations)"
   ]
  },
  {
   "cell_type": "code",
   "execution_count": 91,
   "metadata": {},
   "outputs": [],
   "source": [
    "failures = {}\n",
    "failures[\"baseline\"] = []\n",
    "failures[\"LogisticReg\"] = []\n",
    "failures[\"AdaBoost\"] = []\n",
    "failures[\"DecisionTree\"] = []\n",
    "failures[\"NaiveBayes\"] = []\n",
    "failures[\"RandomTree\"] = []\n",
    "failures[\"RandomForest\"] = []\n",
    "failures[\"RFFM\"] = []\n",
    "failures[\"NN\"] = []\n",
    "\n",
    "for i in range(0, len(y_test)):\n",
    "    for key in y_pred.keys():\n",
    "        if y_pred[key][i] != y_test[i]:\n",
    "            failures[key].append(10)\n",
    "        else:\n",
    "            failures[key].append(1)"
   ]
  },
  {
   "cell_type": "code",
   "execution_count": 92,
   "metadata": {},
   "outputs": [
    {
     "data": {
      "image/png": "[encoded data removed]",
      "text/plain": [
       "<matplotlib.figure.Figure at 0x7f3e7bb56f98>"
      ]
     },
     "metadata": {
      "needs_background": "light"
     },
     "output_type": "display_data"
    }
   ],
   "source": [
    "failures_pand = pd.DataFrame.from_dict(failures)\n",
    "names = [\"baseline\", \"LogisticReg\", \"AdaBoost\", \"DecisionTree\", \"NaiveBayes\", \"RandomTree\", \"RandomForest\", \"RFFM\", \"NN\"]\n",
    "#names = [\"baseline\", \"LogisticReg\", \"RandomForest\"]\n",
    "correlations = failures_pand[names].corr()\n",
    "fig = plt.figure()\n",
    "ax = fig.add_subplot(111)\n",
    "cax = ax.matshow(correlations, vmin=0, vmax=1)\n",
    "fig.colorbar(cax)\n",
    "ticks = np.arange(0,9,1)\n",
    "ax.set_xticks(ticks)\n",
    "ax.set_yticks(ticks)\n",
    "ax.set_xticklabels(names, rotation='vertical')\n",
    "ax.set_yticklabels(names)\n",
    "plt.show()"
   ]
  },
  {
   "cell_type": "code",
   "execution_count": 93,
   "metadata": {},
   "outputs": [
    {
     "name": "stdout",
     "output_type": "stream",
     "text": [
      "              baseline  LogisticReg  AdaBoost  DecisionTree  NaiveBayes  \\\n",
      "baseline      1.000000     0.007562  0.342669      0.309484   -0.140108   \n",
      "LogisticReg   0.007562     1.000000  0.057183      0.078383    0.593227   \n",
      "AdaBoost      0.342669     0.057183  1.000000      0.789517    0.024087   \n",
      "DecisionTree  0.309484     0.078383  0.789517      1.000000    0.053839   \n",
      "NaiveBayes   -0.140108     0.593227  0.024087      0.053839    1.000000   \n",
      "RandomTree    0.317608     0.059444  0.574354      0.572743    0.016097   \n",
      "RandomForest  0.326469     0.074044  0.699164      0.682263    0.014542   \n",
      "RFFM          0.361288     0.189538  0.590170      0.582391    0.075657   \n",
      "NN            0.557009     0.002356  0.189645      0.170371   -0.084750   \n",
      "\n",
      "              RandomTree  RandomForest      RFFM        NN  \n",
      "baseline        0.317608      0.326469  0.361288  0.557009  \n",
      "LogisticReg     0.059444      0.074044  0.189538  0.002356  \n",
      "AdaBoost        0.574354      0.699164  0.590170  0.189645  \n",
      "DecisionTree    0.572743      0.682263  0.582391  0.170371  \n",
      "NaiveBayes      0.016097      0.014542  0.075657 -0.084750  \n",
      "RandomTree      1.000000      0.481016  0.517482  0.177026  \n",
      "RandomForest    0.481016      1.000000  0.598738  0.177060  \n",
      "RFFM            0.517482      0.598738  1.000000  0.199813  \n",
      "NN              0.177026      0.177060  0.199813  1.000000  \n"
     ]
    }
   ],
   "source": [
    "print(correlations)"
   ]
  },
  {
   "cell_type": "code",
   "execution_count": 94,
   "metadata": {},
   "outputs": [
    {
     "name": "stdout",
     "output_type": "stream",
     "text": [
      "Counter({1: 54763, 10: 8109})\n",
      "Counter({1: 58323, 10: 4549})\n",
      "Counter({1: 61233, 10: 1639})\n",
      "Counter({1: 61019, 10: 1853})\n",
      "Counter({1: 53943, 10: 8929})\n",
      "Counter({1: 60974, 10: 1898})\n",
      "Counter({1: 61635, 10: 1237})\n",
      "Counter({1: 60394, 10: 2478})\n",
      "Counter({1: 48046, 10: 14826})\n",
      "[[54763.0, 58323.0, 61233.0, 61019.0, 53943.0, 60974.0, 61635.0, 60394.0, 48046.0], [8109.0, 4549.0, 1639.0, 1853.0, 8929.0, 1898.0, 1237.0, 2478.0, 14826.0]]\n"
     ]
    }
   ],
   "source": [
    "cont_table = [[],[]]\n",
    "for name in failures.keys():\n",
    "    print(Counter(failures[name]))\n",
    "    cont_table[0].append(float(Counter(failures[name])[1]))\n",
    "    cont_table[1].append(float(Counter(failures[name])[10]))\n",
    "print(cont_table)"
   ]
  },
  {
   "cell_type": "code",
   "execution_count": 95,
   "metadata": {},
   "outputs": [
    {
     "name": "stdout",
     "output_type": "stream",
     "text": [
      "probability=0.950, critical=15.507, stat=37235.084\n",
      "\n",
      "reject H0 - results dependent\n"
     ]
    }
   ],
   "source": [
    "from scipy import stats\n",
    "\n",
    "# test of independence\n",
    "# H0 : results are independent\n",
    "\n",
    "stat, p, dof, expected = stats.chi2_contingency(cont_table)\n",
    "stats.chi2_contingency(cont_table)\n",
    "prob = 0.95\n",
    "critical = stats.chi2.ppf(prob, dof)\n",
    "print('probability=%.3f, critical=%.3f, stat=%.3f' % (prob, critical, stat))\n",
    "\n",
    "if abs(stat) >= critical:\n",
    "    print('\\nreject H0 - results dependent')\n",
    "else:\n",
    "    print('\\nfailed to reject H0 - results independent')"
   ]
  },
  {
   "cell_type": "markdown",
   "metadata": {},
   "source": [
    "## New data prediction"
   ]
  },
  {
   "cell_type": "code",
   "execution_count": 96,
   "metadata": {},
   "outputs": [
    {
     "name": "stdout",
     "output_type": "stream",
     "text": [
      "Counter({-1: 210159, 1: 2830})\n"
     ]
    }
   ],
   "source": [
    "test_set = pd.read_csv(\"20151221.txt\", sep = \"\\t\", header = None)\n",
    "test_set.columns = [\"conn len\", \"service\", \"src bytes\", \"dst bytes\", \"conn numb\", \"Same srv rate\", \"Serror rate\", \"Srv serror rate\", \"Dst host count\", \"Dst host srv count\", \"Dst host same src port rate\", \"Dst host serror rate\", \"Dst host srv serror rate\", \"Conn state\", \"IDS detection\", \"Malware detection\", \"Ashula detection\", \"attack_flag\", \"src IP\", \"src port\", \"dst IP\", \"dst port\", \"start time\", \"proto\"]\n",
    "\n",
    "print(Counter(test_set[\"attack_flag\"]))"
   ]
  },
  {
   "cell_type": "code",
   "execution_count": 97,
   "metadata": {},
   "outputs": [
    {
     "name": "stdout",
     "output_type": "stream",
     "text": [
      "Counter({1: 210159, 0: 2830})\n"
     ]
    }
   ],
   "source": [
    "test_set.loc[:, \"attack_flag\"] = test_set.loc[:,\"attack_flag\"].replace(-2, -1)\n",
    "test_set.loc[:, \"attack_flag\"] = test_set.loc[:, \"attack_flag\"] * -1\n",
    "test_set.loc[:, \"attack_flag\"] = test_set.loc[:,\"attack_flag\"].replace(-1, 0)\n",
    "\n",
    "print(Counter(test_set[\"attack_flag\"]))"
   ]
  },
  {
   "cell_type": "code",
   "execution_count": 98,
   "metadata": {},
   "outputs": [
    {
     "name": "stdout",
     "output_type": "stream",
     "text": [
      "(212989, 24)\n",
      "(212989, 21)\n"
     ]
    },
    {
     "data": {
      "text/plain": [
       "1    210159\n",
       "0      2830\n",
       "Name: attack_flag, dtype: int64"
      ]
     },
     "execution_count": 98,
     "metadata": {},
     "output_type": "execute_result"
    }
   ],
   "source": [
    "# slice dataset, drop additional features\n",
    "print(test_set.shape)\n",
    "test_set = test_set.drop(['start time', 'dst IP', 'src IP'], axis=1)\n",
    "print(test_set.shape)\n",
    "\n",
    "# drop software markers\n",
    "test_set = test_set.drop([\"IDS detection\", \"Malware detection\", \"Ashula detection\"], axis=1)\n",
    "test_set[\"attack_flag\"].value_counts()"
   ]
  },
  {
   "cell_type": "code",
   "execution_count": 99,
   "metadata": {},
   "outputs": [
    {
     "data": {
      "text/plain": [
       "(212989, 18)"
      ]
     },
     "execution_count": 99,
     "metadata": {},
     "output_type": "execute_result"
    }
   ],
   "source": [
    "# removing NaNs\n",
    "test_set = test_set.dropna()\n",
    "test_set.shape"
   ]
  },
  {
   "cell_type": "code",
   "execution_count": 100,
   "metadata": {},
   "outputs": [],
   "source": [
    "test_set[\"well-known src pool\"] = test_set.apply(wk, axis=1)\n",
    "test_set[\"registered src pool\"] = test_set.apply(reg, axis=1)\n",
    "test_set[\"cli src pool\"] = test_set.apply(cli, axis=1)"
   ]
  },
  {
   "cell_type": "code",
   "execution_count": 101,
   "metadata": {},
   "outputs": [],
   "source": [
    "test_set[\"src port\"] = test_set[\"src port\"].apply(str)\n",
    "test_set[\"dst port\"] = test_set[\"dst port\"].apply(str)\n",
    "test_set['src port'].nunique()\n",
    "test_set['dst port'].nunique()\n",
    "\n",
    "thresh1 = 125\n",
    "thresh2 = 125\n",
    "counts1 = test_set['src port'].value_counts()\n",
    "counts2 = test_set['dst port'].value_counts()\n",
    "\n",
    "repl1 = counts1[counts1 <= thresh1].index\n",
    "repl2 = counts2[counts2 <= thresh2].index\n",
    "\n",
    "#hot one encoding for src port numbers\n",
    "test_set = pd.concat([test_set, pd.get_dummies(test_set[\"src port\"].replace(repl1, 'other_src'), prefix=\"is_src\")], axis=1)\n",
    "\n",
    "#hot one encoding for dst port numbers\n",
    "test_set = pd.concat([test_set, pd.get_dummies(test_set[\"dst port\"].replace(repl2, 'other_dst'), prefix=\"is_dst\")], axis=1)"
   ]
  },
  {
   "cell_type": "code",
   "execution_count": 102,
   "metadata": {},
   "outputs": [
    {
     "data": {
      "text/html": [
       "<div>\n",
       "<style scoped>\n",
       "    .dataframe tbody tr th:only-of-type {\n",
       "        vertical-align: middle;\n",
       "    }\n",
       "\n",
       "    .dataframe tbody tr th {\n",
       "        vertical-align: top;\n",
       "    }\n",
       "\n",
       "    .dataframe thead th {\n",
       "        text-align: right;\n",
       "    }\n",
       "</style>\n",
       "<table border=\"1\" class=\"dataframe\">\n",
       "  <thead>\n",
       "    <tr style=\"text-align: right;\">\n",
       "      <th></th>\n",
       "      <th>conn len</th>\n",
       "      <th>service</th>\n",
       "      <th>src bytes</th>\n",
       "      <th>dst bytes</th>\n",
       "      <th>conn numb</th>\n",
       "      <th>Same srv rate</th>\n",
       "      <th>Serror rate</th>\n",
       "      <th>Srv serror rate</th>\n",
       "      <th>Dst host count</th>\n",
       "      <th>Dst host srv count</th>\n",
       "      <th>...</th>\n",
       "      <th>state_OTH</th>\n",
       "      <th>state_REJ</th>\n",
       "      <th>state_RSTO</th>\n",
       "      <th>state_RSTOS0</th>\n",
       "      <th>state_RSTR</th>\n",
       "      <th>state_RSTRH</th>\n",
       "      <th>state_S0</th>\n",
       "      <th>state_S1</th>\n",
       "      <th>state_SF</th>\n",
       "      <th>state_SHR</th>\n",
       "    </tr>\n",
       "  </thead>\n",
       "  <tbody>\n",
       "    <tr>\n",
       "      <th>212979</th>\n",
       "      <td>0.000061</td>\n",
       "      <td>other</td>\n",
       "      <td>0</td>\n",
       "      <td>0</td>\n",
       "      <td>20</td>\n",
       "      <td>1.0</td>\n",
       "      <td>0.05</td>\n",
       "      <td>0.15</td>\n",
       "      <td>2</td>\n",
       "      <td>85</td>\n",
       "      <td>...</td>\n",
       "      <td>0</td>\n",
       "      <td>1</td>\n",
       "      <td>0</td>\n",
       "      <td>0</td>\n",
       "      <td>0</td>\n",
       "      <td>0</td>\n",
       "      <td>0</td>\n",
       "      <td>0</td>\n",
       "      <td>0</td>\n",
       "      <td>0</td>\n",
       "    </tr>\n",
       "    <tr>\n",
       "      <th>212980</th>\n",
       "      <td>0.000000</td>\n",
       "      <td>other</td>\n",
       "      <td>0</td>\n",
       "      <td>0</td>\n",
       "      <td>1</td>\n",
       "      <td>1.0</td>\n",
       "      <td>0.00</td>\n",
       "      <td>0.22</td>\n",
       "      <td>4</td>\n",
       "      <td>6</td>\n",
       "      <td>...</td>\n",
       "      <td>0</td>\n",
       "      <td>0</td>\n",
       "      <td>0</td>\n",
       "      <td>0</td>\n",
       "      <td>0</td>\n",
       "      <td>0</td>\n",
       "      <td>1</td>\n",
       "      <td>0</td>\n",
       "      <td>0</td>\n",
       "      <td>0</td>\n",
       "    </tr>\n",
       "    <tr>\n",
       "      <th>212981</th>\n",
       "      <td>0.000013</td>\n",
       "      <td>other</td>\n",
       "      <td>0</td>\n",
       "      <td>0</td>\n",
       "      <td>13</td>\n",
       "      <td>1.0</td>\n",
       "      <td>0.08</td>\n",
       "      <td>0.26</td>\n",
       "      <td>6</td>\n",
       "      <td>84</td>\n",
       "      <td>...</td>\n",
       "      <td>0</td>\n",
       "      <td>1</td>\n",
       "      <td>0</td>\n",
       "      <td>0</td>\n",
       "      <td>0</td>\n",
       "      <td>0</td>\n",
       "      <td>0</td>\n",
       "      <td>0</td>\n",
       "      <td>0</td>\n",
       "      <td>0</td>\n",
       "    </tr>\n",
       "    <tr>\n",
       "      <th>212982</th>\n",
       "      <td>0.000029</td>\n",
       "      <td>other</td>\n",
       "      <td>0</td>\n",
       "      <td>0</td>\n",
       "      <td>2</td>\n",
       "      <td>1.0</td>\n",
       "      <td>0.50</td>\n",
       "      <td>0.25</td>\n",
       "      <td>1</td>\n",
       "      <td>6</td>\n",
       "      <td>...</td>\n",
       "      <td>0</td>\n",
       "      <td>1</td>\n",
       "      <td>0</td>\n",
       "      <td>0</td>\n",
       "      <td>0</td>\n",
       "      <td>0</td>\n",
       "      <td>0</td>\n",
       "      <td>0</td>\n",
       "      <td>0</td>\n",
       "      <td>0</td>\n",
       "    </tr>\n",
       "    <tr>\n",
       "      <th>212983</th>\n",
       "      <td>0.000039</td>\n",
       "      <td>other</td>\n",
       "      <td>0</td>\n",
       "      <td>0</td>\n",
       "      <td>14</td>\n",
       "      <td>1.0</td>\n",
       "      <td>0.07</td>\n",
       "      <td>0.24</td>\n",
       "      <td>1</td>\n",
       "      <td>84</td>\n",
       "      <td>...</td>\n",
       "      <td>0</td>\n",
       "      <td>1</td>\n",
       "      <td>0</td>\n",
       "      <td>0</td>\n",
       "      <td>0</td>\n",
       "      <td>0</td>\n",
       "      <td>0</td>\n",
       "      <td>0</td>\n",
       "      <td>0</td>\n",
       "      <td>0</td>\n",
       "    </tr>\n",
       "    <tr>\n",
       "      <th>212984</th>\n",
       "      <td>0.000045</td>\n",
       "      <td>other</td>\n",
       "      <td>0</td>\n",
       "      <td>0</td>\n",
       "      <td>15</td>\n",
       "      <td>1.0</td>\n",
       "      <td>0.07</td>\n",
       "      <td>0.23</td>\n",
       "      <td>3</td>\n",
       "      <td>84</td>\n",
       "      <td>...</td>\n",
       "      <td>0</td>\n",
       "      <td>1</td>\n",
       "      <td>0</td>\n",
       "      <td>0</td>\n",
       "      <td>0</td>\n",
       "      <td>0</td>\n",
       "      <td>0</td>\n",
       "      <td>0</td>\n",
       "      <td>0</td>\n",
       "      <td>0</td>\n",
       "    </tr>\n",
       "    <tr>\n",
       "      <th>212985</th>\n",
       "      <td>0.000053</td>\n",
       "      <td>other</td>\n",
       "      <td>0</td>\n",
       "      <td>0</td>\n",
       "      <td>16</td>\n",
       "      <td>1.0</td>\n",
       "      <td>0.06</td>\n",
       "      <td>0.22</td>\n",
       "      <td>19</td>\n",
       "      <td>84</td>\n",
       "      <td>...</td>\n",
       "      <td>0</td>\n",
       "      <td>1</td>\n",
       "      <td>0</td>\n",
       "      <td>0</td>\n",
       "      <td>0</td>\n",
       "      <td>0</td>\n",
       "      <td>0</td>\n",
       "      <td>0</td>\n",
       "      <td>0</td>\n",
       "      <td>0</td>\n",
       "    </tr>\n",
       "    <tr>\n",
       "      <th>212986</th>\n",
       "      <td>0.000056</td>\n",
       "      <td>other</td>\n",
       "      <td>0</td>\n",
       "      <td>0</td>\n",
       "      <td>17</td>\n",
       "      <td>1.0</td>\n",
       "      <td>0.06</td>\n",
       "      <td>0.21</td>\n",
       "      <td>7</td>\n",
       "      <td>84</td>\n",
       "      <td>...</td>\n",
       "      <td>0</td>\n",
       "      <td>1</td>\n",
       "      <td>0</td>\n",
       "      <td>0</td>\n",
       "      <td>0</td>\n",
       "      <td>0</td>\n",
       "      <td>0</td>\n",
       "      <td>0</td>\n",
       "      <td>0</td>\n",
       "      <td>0</td>\n",
       "    </tr>\n",
       "    <tr>\n",
       "      <th>212987</th>\n",
       "      <td>0.000058</td>\n",
       "      <td>other</td>\n",
       "      <td>0</td>\n",
       "      <td>0</td>\n",
       "      <td>18</td>\n",
       "      <td>1.0</td>\n",
       "      <td>0.06</td>\n",
       "      <td>0.20</td>\n",
       "      <td>20</td>\n",
       "      <td>84</td>\n",
       "      <td>...</td>\n",
       "      <td>0</td>\n",
       "      <td>1</td>\n",
       "      <td>0</td>\n",
       "      <td>0</td>\n",
       "      <td>0</td>\n",
       "      <td>0</td>\n",
       "      <td>0</td>\n",
       "      <td>0</td>\n",
       "      <td>0</td>\n",
       "      <td>0</td>\n",
       "    </tr>\n",
       "    <tr>\n",
       "      <th>212988</th>\n",
       "      <td>0.000110</td>\n",
       "      <td>dns</td>\n",
       "      <td>36</td>\n",
       "      <td>194</td>\n",
       "      <td>1</td>\n",
       "      <td>1.0</td>\n",
       "      <td>0.00</td>\n",
       "      <td>0.50</td>\n",
       "      <td>0</td>\n",
       "      <td>89</td>\n",
       "      <td>...</td>\n",
       "      <td>0</td>\n",
       "      <td>0</td>\n",
       "      <td>0</td>\n",
       "      <td>0</td>\n",
       "      <td>0</td>\n",
       "      <td>0</td>\n",
       "      <td>0</td>\n",
       "      <td>0</td>\n",
       "      <td>1</td>\n",
       "      <td>0</td>\n",
       "    </tr>\n",
       "  </tbody>\n",
       "</table>\n",
       "<p>10 rows × 193 columns</p>\n",
       "</div>"
      ],
      "text/plain": [
       "        conn len service  src bytes  dst bytes  conn numb  Same srv rate  \\\n",
       "212979  0.000061   other          0          0         20            1.0   \n",
       "212980  0.000000   other          0          0          1            1.0   \n",
       "212981  0.000013   other          0          0         13            1.0   \n",
       "212982  0.000029   other          0          0          2            1.0   \n",
       "212983  0.000039   other          0          0         14            1.0   \n",
       "212984  0.000045   other          0          0         15            1.0   \n",
       "212985  0.000053   other          0          0         16            1.0   \n",
       "212986  0.000056   other          0          0         17            1.0   \n",
       "212987  0.000058   other          0          0         18            1.0   \n",
       "212988  0.000110     dns         36        194          1            1.0   \n",
       "\n",
       "        Serror rate  Srv serror rate  Dst host count  Dst host srv count  \\\n",
       "212979         0.05             0.15               2                  85   \n",
       "212980         0.00             0.22               4                   6   \n",
       "212981         0.08             0.26               6                  84   \n",
       "212982         0.50             0.25               1                   6   \n",
       "212983         0.07             0.24               1                  84   \n",
       "212984         0.07             0.23               3                  84   \n",
       "212985         0.06             0.22              19                  84   \n",
       "212986         0.06             0.21               7                  84   \n",
       "212987         0.06             0.20              20                  84   \n",
       "212988         0.00             0.50               0                  89   \n",
       "\n",
       "          ...      state_OTH  state_REJ  state_RSTO state_RSTOS0  state_RSTR  \\\n",
       "212979    ...              0          1           0            0           0   \n",
       "212980    ...              0          0           0            0           0   \n",
       "212981    ...              0          1           0            0           0   \n",
       "212982    ...              0          1           0            0           0   \n",
       "212983    ...              0          1           0            0           0   \n",
       "212984    ...              0          1           0            0           0   \n",
       "212985    ...              0          1           0            0           0   \n",
       "212986    ...              0          1           0            0           0   \n",
       "212987    ...              0          1           0            0           0   \n",
       "212988    ...              0          0           0            0           0   \n",
       "\n",
       "       state_RSTRH state_S0 state_S1  state_SF  state_SHR  \n",
       "212979           0        0        0         0          0  \n",
       "212980           0        1        0         0          0  \n",
       "212981           0        0        0         0          0  \n",
       "212982           0        0        0         0          0  \n",
       "212983           0        0        0         0          0  \n",
       "212984           0        0        0         0          0  \n",
       "212985           0        0        0         0          0  \n",
       "212986           0        0        0         0          0  \n",
       "212987           0        0        0         0          0  \n",
       "212988           0        0        0         1          0  \n",
       "\n",
       "[10 rows x 193 columns]"
      ]
     },
     "execution_count": 102,
     "metadata": {},
     "output_type": "execute_result"
    }
   ],
   "source": [
    "### hot one encoding ###\n",
    "\n",
    "# hot one encoding for service\n",
    "test_set = pd.concat([test_set, pd.get_dummies(test_set[\"service\"], prefix=\"is\")], axis=1)\n",
    "test_set.tail(10)\n",
    "\n",
    "#hot one encoding for proto - commented due to reduced column number\n",
    "test_set = pd.concat([test_set, pd.get_dummies(test_set[\"proto\"], prefix=\"is\")], axis=1)\n",
    "test_set.tail(10)\n",
    "\n",
    "# hot one encoding for conn state\n",
    "test_set = pd.concat([test_set, pd.get_dummies(test_set[\"Conn state\"], prefix=\"state\")], axis=1)\n",
    "test_set.tail(10)"
   ]
  },
  {
   "cell_type": "code",
   "execution_count": 103,
   "metadata": {},
   "outputs": [],
   "source": [
    "test_set.rename(columns={'Dst host count': 'Dst_host_count', \"Dst host srv count\" : \"Dst_host_srv_count\",\n",
    "                    \"Dst host same src port rate\" : \"Dst_host_same_src_port_rate\",\n",
    "                    \"Dst host serror rate\" : \"Dst_host_serror_rate\",\n",
    "                    \"Dst host srv serror rate\" : \"Dst_host_srv_serror_rate\",\n",
    "                    \"Same srv rate\" : \"Same_srv_rate\",\n",
    "                    \"Srv serror rate\" : \"Srv_serror_rate\",\n",
    "                    \"conn len\" : \"conn_len\",\n",
    "                    \"src bytes\" : \"src_bytes\",\n",
    "                    \"dst bytes\" : \"dst_bytes\",\n",
    "                    \"conn numb\" : \"conn_numb\",\n",
    "                    \"Serror rate\" : \"Serror_rate\",\n",
    "                    \"cli src pool\" : \"cli_src_pool\",\n",
    "                    \"registered src pool\" : \"registered_src_pool\",\n",
    "                    \"well-known src pool\" : \"well_known_src_pool\",\n",
    "                    \"dst port\" : \"dst_port\",\n",
    "                    \"src port\" : \"src_port\",\n",
    "                     \"Conn state\" : \"Conn_state\" \n",
    "                    }, inplace=True)"
   ]
  },
  {
   "cell_type": "code",
   "execution_count": 104,
   "metadata": {},
   "outputs": [
    {
     "name": "stdout",
     "output_type": "stream",
     "text": [
      "Index(['is_dst_102', 'is_dst_119', 'is_dst_143', 'is_dst_223', 'is_dst_389',\n",
      "       'is_dst_5432', 'is_dst_6050', 'is_dst_631', 'is_dst_88', 'is_dst_9080',\n",
      "       'is_src_13941', 'is_src_18382', 'is_src_21320', 'is_src_22055',\n",
      "       'is_src_2295', 'is_src_29174', 'is_src_300', 'is_src_37286',\n",
      "       'is_src_37396', 'is_src_37511', 'is_src_38396', 'is_src_40082',\n",
      "       'is_src_40718', 'is_src_41161', 'is_src_41287', 'is_src_41708',\n",
      "       'is_src_41793', 'is_src_42206', 'is_src_443', 'is_src_4445',\n",
      "       'is_src_46432', 'is_src_49354', 'is_src_49362', 'is_src_49376',\n",
      "       'is_src_49414', 'is_src_5061', 'is_src_5071', 'is_src_5094',\n",
      "       'is_src_5100', 'is_src_5114', 'is_src_51361', 'is_src_5208',\n",
      "       'is_src_5211', 'is_src_52131', 'is_src_5229', 'is_src_5247',\n",
      "       'is_src_53265', 'is_src_53451', 'is_src_53762', 'is_src_54110',\n",
      "       'is_src_54334', 'is_src_54499', 'is_src_54509', 'is_src_5501',\n",
      "       'is_src_56118', 'is_src_5844', 'is_src_58663', 'is_src_60000',\n",
      "       'is_src_6044', 'is_src_61605', 'is_src_6173', 'is_src_62029',\n",
      "       'is_src_63265', 'is_src_63432', 'is_src_64486'],\n",
      "      dtype='object')\n"
     ]
    },
    {
     "data": {
      "text/plain": [
       "(212989, 193)"
      ]
     },
     "execution_count": 104,
     "metadata": {},
     "output_type": "execute_result"
    }
   ],
   "source": [
    "# check differences between datasets after hot one encoding\n",
    "\n",
    "# print(train_data.columns.difference(test_data.columns)[0])\n",
    "# columns that are not in test but are in train\n",
    "test_new_data_full = test_set\n",
    "\n",
    "# for c in data.columns.difference(test_set.columns):\n",
    "#     test_set[c] = 0\n",
    "# for c in test_set.columns.difference(data.columns):\n",
    "#     test_set = test_set.drop(c, axis=1)\n",
    "    \n",
    "print(test_set.columns.difference(data.columns))  \n",
    "test_set.shape"
   ]
  },
  {
   "cell_type": "code",
   "execution_count": 109,
   "metadata": {},
   "outputs": [],
   "source": [
    "test_new_data = test_set.loc[range(30000), :]\n",
    "\n",
    "for c in data.columns.difference(test_new_data.columns):\n",
    "    test_new_data[c] = 0\n",
    "for c in test_new_data.columns.difference(data.columns):\n",
    "    test_new_data = test_new_data.drop(c, axis=1)\n",
    "\n",
    "test_new_data = test_new_data.drop([\"service\", \"Conn_state\", \"proto\", \"src_port\", \"dst_port\"], axis=1)\n",
    "    \n",
    "test_new_data = test_new_data.sample(frac=1)\n",
    "y_test_new_data = test_new_data.loc[:, \"attack_flag\"].values.ravel()\n",
    "X_test_new_data = test_new_data.drop([\"attack_flag\"], axis=1).astype(np.float32)"
   ]
  },
  {
   "cell_type": "code",
   "execution_count": 110,
   "metadata": {},
   "outputs": [
    {
     "name": "stdout",
     "output_type": "stream",
     "text": [
      "(30000, 354)\n",
      "(62872, 354)\n",
      "1    29498\n",
      "0      502\n",
      "Name: attack_flag, dtype: int64\n"
     ]
    }
   ],
   "source": [
    "print(X_test_new_data.shape)\n",
    "print(X_test.shape)\n",
    "print(test_new_data[\"attack_flag\"].value_counts())"
   ]
  },
  {
   "cell_type": "code",
   "execution_count": 111,
   "metadata": {},
   "outputs": [
    {
     "name": "stdout",
     "output_type": "stream",
     "text": [
      "Algorithm: baseline     Accuracy: 0.98327, F1-score: 0.99156, Precision: 0.98327, Recall: 1.00000, FPR: 1.00000\n",
      "TN:   0; FP: 502; FN:    0; TP: 29498\n",
      "\n"
     ]
    }
   ],
   "source": [
    "# Metrics of baseline method\n",
    "from sklearn import metrics\n",
    "\n",
    "name = \"baseline\"\n",
    "\n",
    "if(y_test_new_data.mean() > (1-y_test_new_data.mean())):\n",
    "    y_pred = np.ones(len(y_test_new_data)).ravel() \n",
    "else:\n",
    "    y_pred = np.zeros(len(y_test_new_data)).ravel() \n",
    "    \n",
    "Acc[name] = metrics.accuracy_score(y_test_new_data, y_pred)\n",
    "F1S[name] = metrics.f1_score(y_test_new_data, y_pred)\n",
    "Prec[name] = metrics.precision_score(y_test_new_data, y_pred)\n",
    "Rec[name] = metrics.recall_score(y_test_new_data, y_pred)\n",
    "tn, fp, fn, tp = metrics.confusion_matrix(y_test_new_data, y_pred).ravel()\n",
    "FPR[name] = fp/(fp+tn)\n",
    "\n",
    "print(\"Algorithm: {0:12} Accuracy: {1:.5f}, F1-score: {2:.5f}, Precision: {3:.5f}, Recall: {4:.5f}, FPR: {5:.5f}\".format(name, Acc[name], F1S[name], Prec[name], Rec[name], FPR[name]))\n",
    "print(\"TN: {0:3}; FP: {1:3}; FN: {2:4}; TP: {3:3}\\n\".format(tn, fp, fn, tp))"
   ]
  },
  {
   "cell_type": "code",
   "execution_count": 112,
   "metadata": {},
   "outputs": [
    {
     "name": "stdout",
     "output_type": "stream",
     "text": [
      "Algorithm: logistic Regression Accuracy: 0.97377, F1-score: 0.98671, Precision: 0.98311, Recall: 0.99034, FPR: 1.00000\n",
      "TN:   0; FP: 502; FN:  285; TP: 29213\n",
      "\n"
     ]
    }
   ],
   "source": [
    "from sklearn.linear_model import LogisticRegression\n",
    "from sklearn import metrics\n",
    "\n",
    "clf = LogisticRegression(solver = 'newton-cg')\n",
    "\n",
    "model = clf.fit(X_train, y_train)\n",
    "\n",
    "y_pred = model.predict(X_test_new_data)\n",
    "\n",
    "name = \"logistic Regression\"\n",
    "\n",
    "Acc[name] = metrics.accuracy_score(y_test_new_data, y_pred)\n",
    "F1S[name] = metrics.f1_score(y_test_new_data, y_pred)\n",
    "Prec[name] = metrics.precision_score(y_test_new_data, y_pred)\n",
    "Rec[name] = metrics.recall_score(y_test_new_data, y_pred)\n",
    "tn, fp, fn, tp = metrics.confusion_matrix(y_test_new_data, y_pred).ravel()\n",
    "FPR[name] = fp/(fp+tn)\n",
    "\n",
    "print(\"Algorithm: {0:12} Accuracy: {1:.5f}, F1-score: {2:.5f}, Precision: {3:.5f}, Recall: {4:.5f}, FPR: {5:.5f}\".format(name, Acc[name], F1S[name], Prec[name], Rec[name], FPR[name]))\n",
    "print(\"TN: {0:3}; FP: {1:3}; FN: {2:4}; TP: {3:3}\\n\".format(tn, fp, fn, tp))"
   ]
  },
  {
   "cell_type": "code",
   "execution_count": 113,
   "metadata": {},
   "outputs": [
    {
     "name": "stderr",
     "output_type": "stream",
     "text": [
      "/home/matz/.local/lib/python3.6/site-packages/sklearn/preprocessing/data.py:625: DataConversionWarning: Data with input dtype float32 were all converted to float64 by StandardScaler.\n",
      "  return self.partial_fit(X, y)\n",
      "/home/matz/.local/lib/python3.6/site-packages/sklearn/base.py:465: DataConversionWarning: Data with input dtype float32 were all converted to float64 by StandardScaler.\n",
      "  return self.fit(X, y, **fit_params).transform(X)\n",
      "/home/matz/.local/lib/python3.6/site-packages/sklearn/pipeline.py:331: DataConversionWarning: Data with input dtype float32 were all converted to float64 by StandardScaler.\n",
      "  Xt = transform.transform(Xt)\n"
     ]
    },
    {
     "name": "stdout",
     "output_type": "stream",
     "text": [
      "Algorithm: AdaBoost     Accuracy: 0.98427, F1-score: 0.99201, Precision: 0.99100, Recall: 0.99302, FPR: 0.52988\n",
      "TN: 236; FP: 266; FN:  206; TP: 29292\n",
      "\n"
     ]
    },
    {
     "name": "stderr",
     "output_type": "stream",
     "text": [
      "/home/matz/.local/lib/python3.6/site-packages/sklearn/preprocessing/data.py:625: DataConversionWarning: Data with input dtype float32 were all converted to float64 by StandardScaler.\n",
      "  return self.partial_fit(X, y)\n",
      "/home/matz/.local/lib/python3.6/site-packages/sklearn/base.py:465: DataConversionWarning: Data with input dtype float32 were all converted to float64 by StandardScaler.\n",
      "  return self.fit(X, y, **fit_params).transform(X)\n",
      "/home/matz/.local/lib/python3.6/site-packages/sklearn/pipeline.py:331: DataConversionWarning: Data with input dtype float32 were all converted to float64 by StandardScaler.\n",
      "  Xt = transform.transform(Xt)\n"
     ]
    },
    {
     "name": "stdout",
     "output_type": "stream",
     "text": [
      "Algorithm: DecisionTree Accuracy: 0.58603, F1-score: 0.73793, Precision: 0.97731, Recall: 0.59275, FPR: 0.80876\n",
      "TN:  96; FP: 406; FN: 12013; TP: 17485\n",
      "\n",
      "Algorithm: NaiveBayes   Accuracy: 0.98260, F1-score: 0.99122, Precision: 0.98326, Recall: 0.99932, FPR: 1.00000\n",
      "TN:   0; FP: 502; FN:   20; TP: 29478\n",
      "\n",
      "Algorithm: RandomTree   Accuracy: 0.53397, F1-score: 0.69530, Precision: 0.97345, Recall: 0.54078, FPR: 0.86653\n",
      "TN:  67; FP: 435; FN: 13546; TP: 15952\n",
      "\n",
      "Algorithm: RandomForest Accuracy: 0.98327, F1-score: 0.99156, Precision: 0.98327, Recall: 1.00000, FPR: 1.00000\n",
      "TN:   0; FP: 502; FN:    0; TP: 29498\n",
      "\n"
     ]
    }
   ],
   "source": [
    "from sklearn.ensemble import AdaBoostClassifier\n",
    "from sklearn.tree import DecisionTreeClassifier\n",
    "from sklearn.naive_bayes import GaussianNB\n",
    "from sklearn.ensemble import RandomForestClassifier\n",
    "from sklearn.linear_model import LogisticRegression\n",
    "\n",
    "\n",
    "seed = 12\n",
    "num_trees = 28\n",
    "\n",
    "classifiers = {\n",
    "               \"AdaBoost\":make_pipeline(StandardScaler(), AdaBoostClassifier(DecisionTreeClassifier(max_depth = 11), n_estimators=num_trees)),\n",
    "               \"DecisionTree\":make_pipeline(StandardScaler(), DecisionTreeClassifier(random_state=0)),\n",
    "               \"NaiveBayes\":GaussianNB(),\n",
    "               \"RandomTree\":DecisionTreeClassifier(random_state=0, splitter = \"random\"),\n",
    "               \"RandomForest\": RandomForestClassifier(n_estimators=196, max_depth=40, random_state=0),\n",
    "              }\n",
    "\n",
    "\n",
    "for name, clf in classifiers.items():\n",
    "    \n",
    "    model = clf.fit(X_train, y_train)\n",
    "    \n",
    "    y_pred = model.predict(X_test_new_data)\n",
    "    \n",
    "    Acc[name] = metrics.accuracy_score(y_test_new_data, y_pred)\n",
    "    F1S[name] = metrics.f1_score(y_test_new_data, y_pred)\n",
    "    Prec[name] = metrics.precision_score(y_test_new_data, y_pred)\n",
    "    Rec[name] = metrics.recall_score(y_test_new_data, y_pred)\n",
    "    tn, fp, fn, tp = metrics.confusion_matrix(y_test_new_data, y_pred).ravel()\n",
    "    FPR[name] = fp/(fp+tn)\n",
    "    \n",
    "    print(\"Algorithm: {0:12} Accuracy: {1:.5f}, F1-score: {2:.5f}, Precision: {3:.5f}, Recall: {4:.5f}, FPR: {5:.5f}\".format(name, Acc[name], F1S[name], Prec[name], Rec[name], FPR[name]))\n",
    "    print(\"TN: {0:3}; FP: {1:3}; FN: {2:4}; TP: {3:3}\\n\".format(tn, fp, fn, tp))"
   ]
  },
  {
   "cell_type": "code",
   "execution_count": 114,
   "metadata": {},
   "outputs": [],
   "source": [
    "test_input_fn = tf.estimator.inputs.numpy_input_fn(\n",
    "    x={\"features\": X_test_new_data.values},\n",
    "    y=y_test_new_data,\n",
    "    batch_size=X_test_new_data.shape[0],\n",
    "    num_epochs=1,\n",
    "    shuffle=False)"
   ]
  },
  {
   "cell_type": "code",
   "execution_count": 115,
   "metadata": {},
   "outputs": [
    {
     "name": "stdout",
     "output_type": "stream",
     "text": [
      "INFO:tensorflow:Graph was finalized.\n",
      "INFO:tensorflow:Restoring parameters from kernel_train/model.ckpt-8000\n",
      "INFO:tensorflow:Running local_init_op.\n",
      "INFO:tensorflow:Done running local_init_op.\n"
     ]
    }
   ],
   "source": [
    "pred_iterator = estimator_kernel.predict(input_fn = test_input_fn)"
   ]
  },
  {
   "cell_type": "code",
   "execution_count": 116,
   "metadata": {},
   "outputs": [],
   "source": [
    "class_id = []\n",
    "\n",
    "for pred_dict in pred_iterator:\n",
    "    class_id.append(pred_dict['classes'])\n",
    "    #print(pred_dict)"
   ]
  },
  {
   "cell_type": "code",
   "execution_count": 117,
   "metadata": {},
   "outputs": [
    {
     "name": "stdout",
     "output_type": "stream",
     "text": [
      "RFFM Accuracy: 0.99073, F1-score: 0.99530, Precision: 0.99175, Recall: 0.99888, FPR: 0.48805\n",
      "TN: 257; FP: 245; FN:   33; TP: 29465\n",
      "\n"
     ]
    }
   ],
   "source": [
    "name = \"RFFM\"\n",
    "\n",
    "Acc[name] = metrics.accuracy_score(y_test_new_data, class_id)\n",
    "F1S[name] = metrics.f1_score(y_test_new_data, class_id)\n",
    "Prec[name] = metrics.precision_score(y_test_new_data, class_id)\n",
    "Rec[name] = metrics.recall_score(y_test_new_data, class_id)\n",
    "tn, fp, fn, tp = metrics.confusion_matrix(y_test_new_data, class_id).ravel()\n",
    "FPR[name] = fp/(fp+tn)\n",
    "\n",
    "print(\"{0:2} Accuracy: {1:.5f}, F1-score: {2:.5f}, Precision: {3:.5f}, Recall: {4:.5f}, FPR: {5:.5f}\".format(name, Acc[name], F1S[name], Prec[name], Rec[name], FPR[name]))\n",
    "print(\"TN: {0:3}; FP: {1:3}; FN: {2:4}; TP: {3:3}\\n\".format(tn, fp, fn, tp))"
   ]
  },
  {
   "cell_type": "code",
   "execution_count": 135,
   "metadata": {},
   "outputs": [
    {
     "name": "stdout",
     "output_type": "stream",
     "text": [
      "INFO:tensorflow:Calling model_fn.\n",
      "INFO:tensorflow:Done calling model_fn.\n",
      "INFO:tensorflow:Graph was finalized.\n",
      "INFO:tensorflow:Restoring parameters from /home/matz/Desktop/ml_ids/NN_model2/model.ckpt-20000\n",
      "INFO:tensorflow:Running local_init_op.\n",
      "INFO:tensorflow:Done running local_init_op.\n"
     ]
    }
   ],
   "source": [
    "results = []\n",
    "results = list(NN_model.predict(input_fn=get_input_fn(test_new_data_full.loc[range(30000), :], num_epochs=1, n_batch = X_test.shape[0], shuffle=False)))"
   ]
  },
  {
   "cell_type": "code",
   "execution_count": 136,
   "metadata": {},
   "outputs": [
    {
     "data": {
      "text/plain": [
       "30000"
      ]
     },
     "execution_count": 136,
     "metadata": {},
     "output_type": "execute_result"
    }
   ],
   "source": [
    "y_pred = []\n",
    "for el in results:\n",
    "    y_pred.append(el[\"class_ids\"])\n",
    "len(y_pred)"
   ]
  },
  {
   "cell_type": "code",
   "execution_count": 137,
   "metadata": {},
   "outputs": [
    {
     "name": "stdout",
     "output_type": "stream",
     "text": [
      "NN Accuracy: 0.96723, F1-score: 0.98334, Precision: 0.98322, Recall: 0.98346, FPR: 0.98606\n",
      "TN:   7; FP: 495; FN:  488; TP: 29010\n",
      "\n"
     ]
    }
   ],
   "source": [
    "name = \"NN\"\n",
    "\n",
    "Acc[name] = metrics.accuracy_score(y_test_new_data, y_pred)\n",
    "F1S[name] = metrics.f1_score(y_test_new_data, y_pred)\n",
    "Prec[name] = metrics.precision_score(y_test_new_data, y_pred)\n",
    "Rec[name] = metrics.recall_score(y_test_new_data, y_pred)\n",
    "tn, fp, fn, tp = metrics.confusion_matrix(y_test_new_data, y_pred).ravel()\n",
    "FPR[name] = fp/(fp+tn)\n",
    "\n",
    "print(\"{0:2} Accuracy: {1:.5f}, F1-score: {2:.5f}, Precision: {3:.5f}, Recall: {4:.5f}, FPR: {5:.5f}\".format(name, Acc[name], F1S[name], Prec[name], Rec[name], FPR[name]))\n",
    "print(\"TN: {0:3}; FP: {1:3}; FN: {2:4}; TP: {3:3}\\n\".format(tn, fp, fn, tp))"
   ]
  },
  {
   "cell_type": "code",
   "execution_count": 138,
   "metadata": {},
   "outputs": [
    {
     "data": {
      "image/png": "[encoded data removed]",
      "text/plain": [
       "<matplotlib.figure.Figure at 0x7f3e8913efd0>"
      ]
     },
     "metadata": {
      "needs_background": "light"
     },
     "output_type": "display_data"
    },
    {
     "data": {
      "image/png": "[encoded data removed]",
      "text/plain": [
       "<matplotlib.figure.Figure at 0x7f3e705c6828>"
      ]
     },
     "metadata": {
      "needs_background": "light"
     },
     "output_type": "display_data"
    },
    {
     "data": {
      "image/png": "[encoded data removed]",
      "text/plain": [
       "<matplotlib.figure.Figure at 0x7f3e705c66d8>"
      ]
     },
     "metadata": {
      "needs_background": "light"
     },
     "output_type": "display_data"
    },
    {
     "data": {
      "image/png": "[encoded data removed]",
      "text/plain": [
       "<matplotlib.figure.Figure at 0x7f3e70623b70>"
      ]
     },
     "metadata": {
      "needs_background": "light"
     },
     "output_type": "display_data"
    },
    {
     "data": {
      "image/png": "[encoded data removed]",
      "text/plain": [
       "<matplotlib.figure.Figure at 0x7f3e705e85f8>"
      ]
     },
     "metadata": {
      "needs_background": "light"
     },
     "output_type": "display_data"
    }
   ],
   "source": [
    "plot_stats(Acc, \"Accuracy\", 8, 55)\n",
    "plot_stats(F1S, \"F1-score\", 8, 55)\n",
    "plot_stats(Prec, \"Precision\", 8, 55)\n",
    "plot_stats(Rec, \"Recall\", 8, 55)\n",
    "plot_stats(FPR, \"False Positive Rate\", 8, 55)"
   ]
  },
  {
   "cell_type": "code",
   "execution_count": null,
   "metadata": {},
   "outputs": [],
   "source": []
  }
 ],
 "metadata": {
  "kernelspec": {
   "display_name": "Python 3",
   "language": "python",
   "name": "python3"
  },
  "language_info": {
   "codemirror_mode": {
    "name": "ipython",
    "version": 3
   },
   "file_extension": ".py",
   "mimetype": "text/x-python",
   "name": "python",
   "nbconvert_exporter": "python",
   "pygments_lexer": "ipython3",
   "version": "3.6.7"
  }
 },
 "nbformat": 4,
 "nbformat_minor": 2
}
