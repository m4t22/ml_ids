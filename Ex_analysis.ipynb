{
 "cells": [
  {
   "cell_type": "code",
   "execution_count": 17,
   "metadata": {},
   "outputs": [],
   "source": [
    "import pandas as pd\n",
    "import matplotlib.pyplot as plt\n",
    "import numpy as np\n",
    "\n",
    "%matplotlib inline \n",
    "%config IPCompleter.greedy=True"
   ]
  },
  {
   "cell_type": "markdown",
   "metadata": {},
   "source": [
    "## Reading data from file"
   ]
  },
  {
   "cell_type": "code",
   "execution_count": 18,
   "metadata": {},
   "outputs": [
    {
     "name": "stdout",
     "output_type": "stream",
     "text": [
      "Counter({-1: 338997, 1: 80149})\n"
     ]
    }
   ],
   "source": [
    "from collections import Counter\n",
    "\n",
    "data1 = pd.read_csv(\"20151219.txt\", sep = \"\\t\", header = None)\n",
    "data1.columns = [\"conn len\", \"service\", \"src bytes\", \"dst bytes\", \"conn numb\", \"Same srv rate\", \"Serror rate\", \"Srv serror rate\", \"Dst host count\", \"Dst host srv count\", \"Dst host same src port rate\", \"Dst host serror rate\", \"Dst host srv serror rate\", \"Conn state\", \"IDS detection\", \"Malware detection\", \"Ashula detection\", \"attack_flag\", \"src IP\", \"src port\", \"dst IP\", \"dst port\", \"start time\", \"proto\"]\n",
    "\n",
    "data2 = pd.read_csv(\"20151220.txt\", sep = \"\\t\", header = None)\n",
    "data2.columns = [\"conn len\", \"service\", \"src bytes\", \"dst bytes\", \"conn numb\", \"Same srv rate\", \"Serror rate\", \"Srv serror rate\", \"Dst host count\", \"Dst host srv count\", \"Dst host same src port rate\", \"Dst host serror rate\", \"Dst host srv serror rate\", \"Conn state\", \"IDS detection\", \"Malware detection\", \"Ashula detection\", \"attack_flag\", \"src IP\", \"src port\", \"dst IP\", \"dst port\", \"start time\", \"proto\"]\n",
    "\n",
    "data = data1.append(data2, ignore_index=True)\n",
    "\n",
    "print(Counter(data[\"attack_flag\"]))"
   ]
  },
  {
   "cell_type": "markdown",
   "metadata": {},
   "source": [
    "## Transform to binary"
   ]
  },
  {
   "cell_type": "code",
   "execution_count": 19,
   "metadata": {},
   "outputs": [
    {
     "name": "stdout",
     "output_type": "stream",
     "text": [
      "Counter({1: 338997, 0: 80149})\n"
     ]
    }
   ],
   "source": [
    "data.loc[:, \"attack_flag\"] = data.loc[:,\"attack_flag\"].replace(-2, -1)\n",
    "data.loc[:, \"attack_flag\"] = data.loc[:, \"attack_flag\"] * -1\n",
    "data.loc[:, \"attack_flag\"] = data.loc[:,\"attack_flag\"].replace(-1, 0)\n",
    "\n",
    "print(Counter(data[\"attack_flag\"]))"
   ]
  },
  {
   "cell_type": "markdown",
   "metadata": {},
   "source": [
    "## Drop additional features"
   ]
  },
  {
   "cell_type": "code",
   "execution_count": 20,
   "metadata": {},
   "outputs": [
    {
     "name": "stdout",
     "output_type": "stream",
     "text": [
      "(419146, 24)\n",
      "(419146, 21)\n"
     ]
    },
    {
     "data": {
      "text/plain": [
       "1    338997\n",
       "0     80149\n",
       "Name: attack_flag, dtype: int64"
      ]
     },
     "execution_count": 20,
     "metadata": {},
     "output_type": "execute_result"
    }
   ],
   "source": [
    "# slice dataset, drop additional features\n",
    "print(data.shape)\n",
    "data = data.drop(['start time', 'dst IP', 'src IP'], axis=1)\n",
    "print(data.shape)\n",
    "\n",
    "# drop software markers\n",
    "data = data.drop([\"IDS detection\", \"Malware detection\", \"Ashula detection\"], axis=1)\n",
    "data[\"attack_flag\"].value_counts()"
   ]
  },
  {
   "cell_type": "code",
   "execution_count": 21,
   "metadata": {},
   "outputs": [
    {
     "name": "stdout",
     "output_type": "stream",
     "text": [
      "<class 'pandas.core.frame.DataFrame'>\n",
      "RangeIndex: 419146 entries, 0 to 419145\n",
      "Data columns (total 18 columns):\n",
      "conn len                       419146 non-null float64\n",
      "service                        419146 non-null object\n",
      "src bytes                      419146 non-null int64\n",
      "dst bytes                      419146 non-null int64\n",
      "conn numb                      419146 non-null int64\n",
      "Same srv rate                  419146 non-null float64\n",
      "Serror rate                    419146 non-null float64\n",
      "Srv serror rate                419146 non-null float64\n",
      "Dst host count                 419146 non-null int64\n",
      "Dst host srv count             419146 non-null int64\n",
      "Dst host same src port rate    419146 non-null float64\n",
      "Dst host serror rate           419146 non-null float64\n",
      "Dst host srv serror rate       419146 non-null float64\n",
      "Conn state                     419146 non-null object\n",
      "attack_flag                    419146 non-null int64\n",
      "src port                       419146 non-null int64\n",
      "dst port                       419146 non-null int64\n",
      "proto                          419146 non-null object\n",
      "dtypes: float64(7), int64(8), object(3)\n",
      "memory usage: 57.6+ MB\n"
     ]
    }
   ],
   "source": [
    "data.info()"
   ]
  },
  {
   "cell_type": "code",
   "execution_count": 22,
   "metadata": {},
   "outputs": [
    {
     "data": {
      "text/html": [
       "<div>\n",
       "<style scoped>\n",
       "    .dataframe tbody tr th:only-of-type {\n",
       "        vertical-align: middle;\n",
       "    }\n",
       "\n",
       "    .dataframe tbody tr th {\n",
       "        vertical-align: top;\n",
       "    }\n",
       "\n",
       "    .dataframe thead th {\n",
       "        text-align: right;\n",
       "    }\n",
       "</style>\n",
       "<table border=\"1\" class=\"dataframe\">\n",
       "  <thead>\n",
       "    <tr style=\"text-align: right;\">\n",
       "      <th></th>\n",
       "      <th>conn len</th>\n",
       "      <th>service</th>\n",
       "      <th>src bytes</th>\n",
       "      <th>dst bytes</th>\n",
       "      <th>conn numb</th>\n",
       "      <th>Same srv rate</th>\n",
       "      <th>Serror rate</th>\n",
       "      <th>Srv serror rate</th>\n",
       "      <th>Dst host count</th>\n",
       "      <th>Dst host srv count</th>\n",
       "      <th>Dst host same src port rate</th>\n",
       "      <th>Dst host serror rate</th>\n",
       "      <th>Dst host srv serror rate</th>\n",
       "      <th>Conn state</th>\n",
       "      <th>attack_flag</th>\n",
       "      <th>src port</th>\n",
       "      <th>dst port</th>\n",
       "      <th>proto</th>\n",
       "    </tr>\n",
       "  </thead>\n",
       "  <tbody>\n",
       "    <tr>\n",
       "      <th>419136</th>\n",
       "      <td>0.000000</td>\n",
       "      <td>other</td>\n",
       "      <td>0</td>\n",
       "      <td>0</td>\n",
       "      <td>0</td>\n",
       "      <td>0.0</td>\n",
       "      <td>0.0</td>\n",
       "      <td>1.00</td>\n",
       "      <td>0</td>\n",
       "      <td>0</td>\n",
       "      <td>0.0</td>\n",
       "      <td>0.0</td>\n",
       "      <td>0.0</td>\n",
       "      <td>S0</td>\n",
       "      <td>1</td>\n",
       "      <td>54695</td>\n",
       "      <td>8081</td>\n",
       "      <td>tcp</td>\n",
       "    </tr>\n",
       "    <tr>\n",
       "      <th>419137</th>\n",
       "      <td>0.000000</td>\n",
       "      <td>other</td>\n",
       "      <td>0</td>\n",
       "      <td>0</td>\n",
       "      <td>0</td>\n",
       "      <td>0.0</td>\n",
       "      <td>0.0</td>\n",
       "      <td>0.00</td>\n",
       "      <td>1</td>\n",
       "      <td>1</td>\n",
       "      <td>0.0</td>\n",
       "      <td>1.0</td>\n",
       "      <td>1.0</td>\n",
       "      <td>S0</td>\n",
       "      <td>1</td>\n",
       "      <td>44997</td>\n",
       "      <td>21320</td>\n",
       "      <td>tcp</td>\n",
       "    </tr>\n",
       "    <tr>\n",
       "      <th>419138</th>\n",
       "      <td>0.485847</td>\n",
       "      <td>other</td>\n",
       "      <td>0</td>\n",
       "      <td>0</td>\n",
       "      <td>0</td>\n",
       "      <td>0.0</td>\n",
       "      <td>0.0</td>\n",
       "      <td>1.00</td>\n",
       "      <td>5</td>\n",
       "      <td>4</td>\n",
       "      <td>0.0</td>\n",
       "      <td>0.0</td>\n",
       "      <td>0.0</td>\n",
       "      <td>RSTR</td>\n",
       "      <td>1</td>\n",
       "      <td>65024</td>\n",
       "      <td>3389</td>\n",
       "      <td>tcp</td>\n",
       "    </tr>\n",
       "    <tr>\n",
       "      <th>419139</th>\n",
       "      <td>3.253905</td>\n",
       "      <td>other</td>\n",
       "      <td>0</td>\n",
       "      <td>0</td>\n",
       "      <td>0</td>\n",
       "      <td>0.0</td>\n",
       "      <td>0.0</td>\n",
       "      <td>0.50</td>\n",
       "      <td>1</td>\n",
       "      <td>39</td>\n",
       "      <td>1.0</td>\n",
       "      <td>1.0</td>\n",
       "      <td>1.0</td>\n",
       "      <td>S0</td>\n",
       "      <td>1</td>\n",
       "      <td>18399</td>\n",
       "      <td>25</td>\n",
       "      <td>tcp</td>\n",
       "    </tr>\n",
       "    <tr>\n",
       "      <th>419140</th>\n",
       "      <td>0.000000</td>\n",
       "      <td>other</td>\n",
       "      <td>0</td>\n",
       "      <td>0</td>\n",
       "      <td>0</td>\n",
       "      <td>0.0</td>\n",
       "      <td>0.0</td>\n",
       "      <td>0.67</td>\n",
       "      <td>4</td>\n",
       "      <td>4</td>\n",
       "      <td>1.0</td>\n",
       "      <td>1.0</td>\n",
       "      <td>1.0</td>\n",
       "      <td>S0</td>\n",
       "      <td>1</td>\n",
       "      <td>33863</td>\n",
       "      <td>20012</td>\n",
       "      <td>tcp</td>\n",
       "    </tr>\n",
       "    <tr>\n",
       "      <th>419141</th>\n",
       "      <td>0.000000</td>\n",
       "      <td>other</td>\n",
       "      <td>0</td>\n",
       "      <td>0</td>\n",
       "      <td>0</td>\n",
       "      <td>0.0</td>\n",
       "      <td>0.0</td>\n",
       "      <td>0.75</td>\n",
       "      <td>0</td>\n",
       "      <td>0</td>\n",
       "      <td>0.0</td>\n",
       "      <td>0.0</td>\n",
       "      <td>0.0</td>\n",
       "      <td>OTH</td>\n",
       "      <td>1</td>\n",
       "      <td>3</td>\n",
       "      <td>3</td>\n",
       "      <td>icmp</td>\n",
       "    </tr>\n",
       "    <tr>\n",
       "      <th>419142</th>\n",
       "      <td>3.135446</td>\n",
       "      <td>rdp</td>\n",
       "      <td>1726</td>\n",
       "      <td>5591</td>\n",
       "      <td>1</td>\n",
       "      <td>0.0</td>\n",
       "      <td>0.0</td>\n",
       "      <td>0.00</td>\n",
       "      <td>5</td>\n",
       "      <td>72</td>\n",
       "      <td>0.0</td>\n",
       "      <td>0.0</td>\n",
       "      <td>0.0</td>\n",
       "      <td>S1</td>\n",
       "      <td>1</td>\n",
       "      <td>62518</td>\n",
       "      <td>3389</td>\n",
       "      <td>tcp</td>\n",
       "    </tr>\n",
       "    <tr>\n",
       "      <th>419143</th>\n",
       "      <td>0.000000</td>\n",
       "      <td>other</td>\n",
       "      <td>0</td>\n",
       "      <td>0</td>\n",
       "      <td>0</td>\n",
       "      <td>0.0</td>\n",
       "      <td>0.0</td>\n",
       "      <td>0.60</td>\n",
       "      <td>0</td>\n",
       "      <td>2</td>\n",
       "      <td>0.0</td>\n",
       "      <td>0.0</td>\n",
       "      <td>1.0</td>\n",
       "      <td>S0</td>\n",
       "      <td>1</td>\n",
       "      <td>35137</td>\n",
       "      <td>123</td>\n",
       "      <td>udp</td>\n",
       "    </tr>\n",
       "    <tr>\n",
       "      <th>419144</th>\n",
       "      <td>0.000000</td>\n",
       "      <td>other</td>\n",
       "      <td>0</td>\n",
       "      <td>0</td>\n",
       "      <td>0</td>\n",
       "      <td>0.0</td>\n",
       "      <td>0.0</td>\n",
       "      <td>0.67</td>\n",
       "      <td>0</td>\n",
       "      <td>0</td>\n",
       "      <td>0.0</td>\n",
       "      <td>0.0</td>\n",
       "      <td>0.0</td>\n",
       "      <td>S0</td>\n",
       "      <td>1</td>\n",
       "      <td>42613</td>\n",
       "      <td>81</td>\n",
       "      <td>tcp</td>\n",
       "    </tr>\n",
       "    <tr>\n",
       "      <th>419145</th>\n",
       "      <td>0.000000</td>\n",
       "      <td>other</td>\n",
       "      <td>0</td>\n",
       "      <td>0</td>\n",
       "      <td>0</td>\n",
       "      <td>0.0</td>\n",
       "      <td>0.0</td>\n",
       "      <td>1.00</td>\n",
       "      <td>0</td>\n",
       "      <td>0</td>\n",
       "      <td>0.0</td>\n",
       "      <td>0.0</td>\n",
       "      <td>0.0</td>\n",
       "      <td>S0</td>\n",
       "      <td>1</td>\n",
       "      <td>42346</td>\n",
       "      <td>21320</td>\n",
       "      <td>tcp</td>\n",
       "    </tr>\n",
       "  </tbody>\n",
       "</table>\n",
       "</div>"
      ],
      "text/plain": [
       "        conn len service  src bytes  dst bytes  conn numb  Same srv rate  \\\n",
       "419136  0.000000   other          0          0          0            0.0   \n",
       "419137  0.000000   other          0          0          0            0.0   \n",
       "419138  0.485847   other          0          0          0            0.0   \n",
       "419139  3.253905   other          0          0          0            0.0   \n",
       "419140  0.000000   other          0          0          0            0.0   \n",
       "419141  0.000000   other          0          0          0            0.0   \n",
       "419142  3.135446     rdp       1726       5591          1            0.0   \n",
       "419143  0.000000   other          0          0          0            0.0   \n",
       "419144  0.000000   other          0          0          0            0.0   \n",
       "419145  0.000000   other          0          0          0            0.0   \n",
       "\n",
       "        Serror rate  Srv serror rate  Dst host count  Dst host srv count  \\\n",
       "419136          0.0             1.00               0                   0   \n",
       "419137          0.0             0.00               1                   1   \n",
       "419138          0.0             1.00               5                   4   \n",
       "419139          0.0             0.50               1                  39   \n",
       "419140          0.0             0.67               4                   4   \n",
       "419141          0.0             0.75               0                   0   \n",
       "419142          0.0             0.00               5                  72   \n",
       "419143          0.0             0.60               0                   2   \n",
       "419144          0.0             0.67               0                   0   \n",
       "419145          0.0             1.00               0                   0   \n",
       "\n",
       "        Dst host same src port rate  Dst host serror rate  \\\n",
       "419136                          0.0                   0.0   \n",
       "419137                          0.0                   1.0   \n",
       "419138                          0.0                   0.0   \n",
       "419139                          1.0                   1.0   \n",
       "419140                          1.0                   1.0   \n",
       "419141                          0.0                   0.0   \n",
       "419142                          0.0                   0.0   \n",
       "419143                          0.0                   0.0   \n",
       "419144                          0.0                   0.0   \n",
       "419145                          0.0                   0.0   \n",
       "\n",
       "        Dst host srv serror rate Conn state  attack_flag  src port  dst port  \\\n",
       "419136                       0.0         S0            1     54695      8081   \n",
       "419137                       1.0         S0            1     44997     21320   \n",
       "419138                       0.0       RSTR            1     65024      3389   \n",
       "419139                       1.0         S0            1     18399        25   \n",
       "419140                       1.0         S0            1     33863     20012   \n",
       "419141                       0.0        OTH            1         3         3   \n",
       "419142                       0.0         S1            1     62518      3389   \n",
       "419143                       1.0         S0            1     35137       123   \n",
       "419144                       0.0         S0            1     42613        81   \n",
       "419145                       0.0         S0            1     42346     21320   \n",
       "\n",
       "       proto  \n",
       "419136   tcp  \n",
       "419137   tcp  \n",
       "419138   tcp  \n",
       "419139   tcp  \n",
       "419140   tcp  \n",
       "419141  icmp  \n",
       "419142   tcp  \n",
       "419143   udp  \n",
       "419144   tcp  \n",
       "419145   tcp  "
      ]
     },
     "execution_count": 22,
     "metadata": {},
     "output_type": "execute_result"
    }
   ],
   "source": [
    "data.tail(10)"
   ]
  },
  {
   "cell_type": "code",
   "execution_count": 23,
   "metadata": {},
   "outputs": [
    {
     "data": {
      "text/html": [
       "<div>\n",
       "<style scoped>\n",
       "    .dataframe tbody tr th:only-of-type {\n",
       "        vertical-align: middle;\n",
       "    }\n",
       "\n",
       "    .dataframe tbody tr th {\n",
       "        vertical-align: top;\n",
       "    }\n",
       "\n",
       "    .dataframe thead th {\n",
       "        text-align: right;\n",
       "    }\n",
       "</style>\n",
       "<table border=\"1\" class=\"dataframe\">\n",
       "  <thead>\n",
       "    <tr style=\"text-align: right;\">\n",
       "      <th></th>\n",
       "      <th>conn len</th>\n",
       "      <th>src bytes</th>\n",
       "      <th>dst bytes</th>\n",
       "      <th>conn numb</th>\n",
       "      <th>Same srv rate</th>\n",
       "      <th>Serror rate</th>\n",
       "      <th>Srv serror rate</th>\n",
       "      <th>Dst host count</th>\n",
       "      <th>Dst host srv count</th>\n",
       "      <th>Dst host same src port rate</th>\n",
       "      <th>Dst host serror rate</th>\n",
       "      <th>Dst host srv serror rate</th>\n",
       "      <th>attack_flag</th>\n",
       "      <th>src port</th>\n",
       "      <th>dst port</th>\n",
       "    </tr>\n",
       "  </thead>\n",
       "  <tbody>\n",
       "    <tr>\n",
       "      <th>count</th>\n",
       "      <td>419146.000000</td>\n",
       "      <td>4.191460e+05</td>\n",
       "      <td>419146.000000</td>\n",
       "      <td>419146.000000</td>\n",
       "      <td>419146.000000</td>\n",
       "      <td>419146.000000</td>\n",
       "      <td>419146.000000</td>\n",
       "      <td>419146.000000</td>\n",
       "      <td>419146.000000</td>\n",
       "      <td>419146.000000</td>\n",
       "      <td>419146.000000</td>\n",
       "      <td>419146.000000</td>\n",
       "      <td>419146.000000</td>\n",
       "      <td>419146.000000</td>\n",
       "      <td>419146.000000</td>\n",
       "    </tr>\n",
       "    <tr>\n",
       "      <th>mean</th>\n",
       "      <td>0.897800</td>\n",
       "      <td>2.168004e+04</td>\n",
       "      <td>364.750896</td>\n",
       "      <td>2.522923</td>\n",
       "      <td>0.357259</td>\n",
       "      <td>0.064550</td>\n",
       "      <td>0.548421</td>\n",
       "      <td>25.437657</td>\n",
       "      <td>28.919419</td>\n",
       "      <td>0.073814</td>\n",
       "      <td>0.068824</td>\n",
       "      <td>0.153320</td>\n",
       "      <td>0.808780</td>\n",
       "      <td>34004.366686</td>\n",
       "      <td>3584.727816</td>\n",
       "    </tr>\n",
       "    <tr>\n",
       "      <th>std</th>\n",
       "      <td>4.749450</td>\n",
       "      <td>4.708272e+06</td>\n",
       "      <td>2285.497265</td>\n",
       "      <td>5.451557</td>\n",
       "      <td>0.477454</td>\n",
       "      <td>0.244823</td>\n",
       "      <td>0.462899</td>\n",
       "      <td>41.519257</td>\n",
       "      <td>42.252740</td>\n",
       "      <td>0.259441</td>\n",
       "      <td>0.252677</td>\n",
       "      <td>0.357215</td>\n",
       "      <td>0.393262</td>\n",
       "      <td>19713.691673</td>\n",
       "      <td>10928.964687</td>\n",
       "    </tr>\n",
       "    <tr>\n",
       "      <th>min</th>\n",
       "      <td>0.000000</td>\n",
       "      <td>0.000000e+00</td>\n",
       "      <td>0.000000</td>\n",
       "      <td>0.000000</td>\n",
       "      <td>0.000000</td>\n",
       "      <td>0.000000</td>\n",
       "      <td>0.000000</td>\n",
       "      <td>0.000000</td>\n",
       "      <td>0.000000</td>\n",
       "      <td>0.000000</td>\n",
       "      <td>0.000000</td>\n",
       "      <td>0.000000</td>\n",
       "      <td>0.000000</td>\n",
       "      <td>0.000000</td>\n",
       "      <td>0.000000</td>\n",
       "    </tr>\n",
       "    <tr>\n",
       "      <th>25%</th>\n",
       "      <td>0.000000</td>\n",
       "      <td>0.000000e+00</td>\n",
       "      <td>0.000000</td>\n",
       "      <td>0.000000</td>\n",
       "      <td>0.000000</td>\n",
       "      <td>0.000000</td>\n",
       "      <td>0.000000</td>\n",
       "      <td>0.000000</td>\n",
       "      <td>0.000000</td>\n",
       "      <td>0.000000</td>\n",
       "      <td>0.000000</td>\n",
       "      <td>0.000000</td>\n",
       "      <td>1.000000</td>\n",
       "      <td>12375.000000</td>\n",
       "      <td>23.000000</td>\n",
       "    </tr>\n",
       "    <tr>\n",
       "      <th>50%</th>\n",
       "      <td>0.000091</td>\n",
       "      <td>0.000000e+00</td>\n",
       "      <td>0.000000</td>\n",
       "      <td>0.000000</td>\n",
       "      <td>0.000000</td>\n",
       "      <td>0.000000</td>\n",
       "      <td>0.750000</td>\n",
       "      <td>0.000000</td>\n",
       "      <td>1.000000</td>\n",
       "      <td>0.000000</td>\n",
       "      <td>0.000000</td>\n",
       "      <td>0.000000</td>\n",
       "      <td>1.000000</td>\n",
       "      <td>38884.000000</td>\n",
       "      <td>53.000000</td>\n",
       "    </tr>\n",
       "    <tr>\n",
       "      <th>75%</th>\n",
       "      <td>0.721284</td>\n",
       "      <td>4.500000e+01</td>\n",
       "      <td>77.000000</td>\n",
       "      <td>3.000000</td>\n",
       "      <td>1.000000</td>\n",
       "      <td>0.000000</td>\n",
       "      <td>1.000000</td>\n",
       "      <td>73.000000</td>\n",
       "      <td>92.000000</td>\n",
       "      <td>0.000000</td>\n",
       "      <td>0.000000</td>\n",
       "      <td>0.000000</td>\n",
       "      <td>1.000000</td>\n",
       "      <td>50359.000000</td>\n",
       "      <td>1433.000000</td>\n",
       "    </tr>\n",
       "    <tr>\n",
       "      <th>max</th>\n",
       "      <td>1061.910079</td>\n",
       "      <td>1.696585e+09</td>\n",
       "      <td>157723.000000</td>\n",
       "      <td>84.000000</td>\n",
       "      <td>1.000000</td>\n",
       "      <td>1.000000</td>\n",
       "      <td>1.000000</td>\n",
       "      <td>100.000000</td>\n",
       "      <td>100.000000</td>\n",
       "      <td>1.000000</td>\n",
       "      <td>1.000000</td>\n",
       "      <td>1.000000</td>\n",
       "      <td>1.000000</td>\n",
       "      <td>65535.000000</td>\n",
       "      <td>65507.000000</td>\n",
       "    </tr>\n",
       "  </tbody>\n",
       "</table>\n",
       "</div>"
      ],
      "text/plain": [
       "            conn len     src bytes      dst bytes      conn numb  \\\n",
       "count  419146.000000  4.191460e+05  419146.000000  419146.000000   \n",
       "mean        0.897800  2.168004e+04     364.750896       2.522923   \n",
       "std         4.749450  4.708272e+06    2285.497265       5.451557   \n",
       "min         0.000000  0.000000e+00       0.000000       0.000000   \n",
       "25%         0.000000  0.000000e+00       0.000000       0.000000   \n",
       "50%         0.000091  0.000000e+00       0.000000       0.000000   \n",
       "75%         0.721284  4.500000e+01      77.000000       3.000000   \n",
       "max      1061.910079  1.696585e+09  157723.000000      84.000000   \n",
       "\n",
       "       Same srv rate    Serror rate  Srv serror rate  Dst host count  \\\n",
       "count  419146.000000  419146.000000    419146.000000   419146.000000   \n",
       "mean        0.357259       0.064550         0.548421       25.437657   \n",
       "std         0.477454       0.244823         0.462899       41.519257   \n",
       "min         0.000000       0.000000         0.000000        0.000000   \n",
       "25%         0.000000       0.000000         0.000000        0.000000   \n",
       "50%         0.000000       0.000000         0.750000        0.000000   \n",
       "75%         1.000000       0.000000         1.000000       73.000000   \n",
       "max         1.000000       1.000000         1.000000      100.000000   \n",
       "\n",
       "       Dst host srv count  Dst host same src port rate  Dst host serror rate  \\\n",
       "count       419146.000000                419146.000000         419146.000000   \n",
       "mean            28.919419                     0.073814              0.068824   \n",
       "std             42.252740                     0.259441              0.252677   \n",
       "min              0.000000                     0.000000              0.000000   \n",
       "25%              0.000000                     0.000000              0.000000   \n",
       "50%              1.000000                     0.000000              0.000000   \n",
       "75%             92.000000                     0.000000              0.000000   \n",
       "max            100.000000                     1.000000              1.000000   \n",
       "\n",
       "       Dst host srv serror rate    attack_flag       src port       dst port  \n",
       "count             419146.000000  419146.000000  419146.000000  419146.000000  \n",
       "mean                   0.153320       0.808780   34004.366686    3584.727816  \n",
       "std                    0.357215       0.393262   19713.691673   10928.964687  \n",
       "min                    0.000000       0.000000       0.000000       0.000000  \n",
       "25%                    0.000000       1.000000   12375.000000      23.000000  \n",
       "50%                    0.000000       1.000000   38884.000000      53.000000  \n",
       "75%                    0.000000       1.000000   50359.000000    1433.000000  \n",
       "max                    1.000000       1.000000   65535.000000   65507.000000  "
      ]
     },
     "execution_count": 23,
     "metadata": {},
     "output_type": "execute_result"
    }
   ],
   "source": [
    "data.describe()"
   ]
  },
  {
   "cell_type": "code",
   "execution_count": 24,
   "metadata": {},
   "outputs": [
    {
     "data": {
      "text/plain": [
       "(419146, 18)"
      ]
     },
     "execution_count": 24,
     "metadata": {},
     "output_type": "execute_result"
    }
   ],
   "source": [
    "# removing NaNs\n",
    "data = data.dropna()\n",
    "data.shape"
   ]
  },
  {
   "cell_type": "code",
   "execution_count": 25,
   "metadata": {},
   "outputs": [
    {
     "data": {
      "text/plain": [
       "S0        247950\n",
       "SF        104018\n",
       "RSTO       26466\n",
       "OTH        19608\n",
       "REJ        15659\n",
       "RSTRH       1853\n",
       "RSTOS0      1514\n",
       "SHR         1195\n",
       "RSTR         778\n",
       "S1           103\n",
       "SH             2\n",
       "Name: Conn state, dtype: int64"
      ]
     },
     "execution_count": 25,
     "metadata": {},
     "output_type": "execute_result"
    }
   ],
   "source": [
    "data[\"Conn state\"].value_counts(dropna=False)"
   ]
  },
  {
   "cell_type": "code",
   "execution_count": 26,
   "metadata": {},
   "outputs": [
    {
     "data": {
      "text/plain": [
       "other      259775\n",
       "dns        102883\n",
       "ssh         29769\n",
       "sip         20915\n",
       "rdp          3640\n",
       "snmp         1096\n",
       "smtp          999\n",
       "dhcp           43\n",
       "http           21\n",
       "ssl             3\n",
       "dns,sip         2\n",
       "Name: service, dtype: int64"
      ]
     },
     "execution_count": 26,
     "metadata": {},
     "output_type": "execute_result"
    }
   ],
   "source": [
    "data[\"service\"].value_counts(dropna=False)"
   ]
  },
  {
   "cell_type": "code",
   "execution_count": 27,
   "metadata": {},
   "outputs": [
    {
     "data": {
      "text/plain": [
       "tcp     256581\n",
       "udp     153868\n",
       "icmp      8697\n",
       "Name: proto, dtype: int64"
      ]
     },
     "execution_count": 27,
     "metadata": {},
     "output_type": "execute_result"
    }
   ],
   "source": [
    "data[\"proto\"].value_counts(dropna=False)"
   ]
  },
  {
   "cell_type": "markdown",
   "metadata": {},
   "source": [
    "# a bit of feature engineering"
   ]
  },
  {
   "cell_type": "markdown",
   "metadata": {},
   "source": [
    "## port numbers classification"
   ]
  },
  {
   "cell_type": "code",
   "execution_count": 28,
   "metadata": {},
   "outputs": [],
   "source": [
    "t1 = 1023  # well-known port numbers\n",
    "t2 = 49151 # registered ports\n",
    "t3 = 65535 # client ports\n",
    "\n",
    "def wk(data_row):\n",
    "    if (data_row[\"src port\"] <= t1): \n",
    "        value = 1\n",
    "    elif ((data_row[\"src port\"] > t1) and (data_row[\"src port\"] <= t2)):\n",
    "        value = 0\n",
    "    elif ((data_row[\"src port\"] > t2) and (data_row[\"src port\"] <= t3)):\n",
    "        value = 0\n",
    "    return value\n",
    "\n",
    "def reg(data_row):\n",
    "    if (data_row[\"src port\"] <= t1): \n",
    "        value = 0\n",
    "    elif ((data_row[\"src port\"] > t1) and (data_row[\"src port\"] <= t2)):\n",
    "        value = 1\n",
    "    elif ((data_row[\"src port\"] > t2) and (data_row[\"src port\"] <= t3)):\n",
    "        value = 0\n",
    "    return value\n",
    "\n",
    "def cli(data_row):\n",
    "    if (data_row[\"src port\"] <= t1): \n",
    "        value = 0\n",
    "    elif ((data_row[\"src port\"] > t1) and (data_row[\"src port\"] <= t2)):\n",
    "        value = 0\n",
    "    elif ((data_row[\"src port\"] > t2) and (data_row[\"src port\"] <= t3)):\n",
    "        value = 1\n",
    "    return value\n",
    "\n",
    "data[\"well-known src pool\"] = data.apply(wk, axis=1)\n",
    "data[\"registered src pool\"] = data.apply(reg, axis=1)\n",
    "data[\"cli src pool\"] = data.apply(cli, axis=1)"
   ]
  },
  {
   "cell_type": "code",
   "execution_count": 29,
   "metadata": {},
   "outputs": [
    {
     "name": "stdout",
     "output_type": "stream",
     "text": [
      "Counter({0: 406741, 1: 12405})\n",
      "Counter({1: 291278, 0: 127868})\n",
      "Counter({0: 303683, 1: 115463})\n"
     ]
    }
   ],
   "source": [
    "print(Counter(data[\"well-known src pool\"]))\n",
    "print(Counter(data[\"registered src pool\"]))\n",
    "print(Counter(data[\"cli src pool\"]))"
   ]
  },
  {
   "cell_type": "code",
   "execution_count": 30,
   "metadata": {
    "scrolled": true
   },
   "outputs": [
    {
     "name": "stdout",
     "output_type": "stream",
     "text": [
      "<class 'pandas.core.frame.DataFrame'>\n",
      "Int64Index: 419146 entries, 0 to 419145\n",
      "Data columns (total 21 columns):\n",
      "conn len                       419146 non-null float64\n",
      "service                        419146 non-null object\n",
      "src bytes                      419146 non-null int64\n",
      "dst bytes                      419146 non-null int64\n",
      "conn numb                      419146 non-null int64\n",
      "Same srv rate                  419146 non-null float64\n",
      "Serror rate                    419146 non-null float64\n",
      "Srv serror rate                419146 non-null float64\n",
      "Dst host count                 419146 non-null int64\n",
      "Dst host srv count             419146 non-null int64\n",
      "Dst host same src port rate    419146 non-null float64\n",
      "Dst host serror rate           419146 non-null float64\n",
      "Dst host srv serror rate       419146 non-null float64\n",
      "Conn state                     419146 non-null object\n",
      "attack_flag                    419146 non-null int64\n",
      "src port                       419146 non-null int64\n",
      "dst port                       419146 non-null int64\n",
      "proto                          419146 non-null object\n",
      "well-known src pool            419146 non-null int64\n",
      "registered src pool            419146 non-null int64\n",
      "cli src pool                   419146 non-null int64\n",
      "dtypes: float64(7), int64(11), object(3)\n",
      "memory usage: 70.4+ MB\n"
     ]
    }
   ],
   "source": [
    "data.info()"
   ]
  },
  {
   "cell_type": "code",
   "execution_count": 31,
   "metadata": {},
   "outputs": [
    {
     "data": {
      "text/html": [
       "<div>\n",
       "<style scoped>\n",
       "    .dataframe tbody tr th:only-of-type {\n",
       "        vertical-align: middle;\n",
       "    }\n",
       "\n",
       "    .dataframe tbody tr th {\n",
       "        vertical-align: top;\n",
       "    }\n",
       "\n",
       "    .dataframe thead th {\n",
       "        text-align: right;\n",
       "    }\n",
       "</style>\n",
       "<table border=\"1\" class=\"dataframe\">\n",
       "  <thead>\n",
       "    <tr style=\"text-align: right;\">\n",
       "      <th></th>\n",
       "      <th>src port</th>\n",
       "      <th>dst port</th>\n",
       "      <th>well-known src pool</th>\n",
       "      <th>registered src pool</th>\n",
       "      <th>cli src pool</th>\n",
       "    </tr>\n",
       "  </thead>\n",
       "  <tbody>\n",
       "    <tr>\n",
       "      <th>0</th>\n",
       "      <td>40061</td>\n",
       "      <td>111</td>\n",
       "      <td>0</td>\n",
       "      <td>1</td>\n",
       "      <td>0</td>\n",
       "    </tr>\n",
       "    <tr>\n",
       "      <th>1</th>\n",
       "      <td>53488</td>\n",
       "      <td>80</td>\n",
       "      <td>0</td>\n",
       "      <td>0</td>\n",
       "      <td>1</td>\n",
       "    </tr>\n",
       "    <tr>\n",
       "      <th>2</th>\n",
       "      <td>35051</td>\n",
       "      <td>23</td>\n",
       "      <td>0</td>\n",
       "      <td>1</td>\n",
       "      <td>0</td>\n",
       "    </tr>\n",
       "    <tr>\n",
       "      <th>3</th>\n",
       "      <td>1408</td>\n",
       "      <td>445</td>\n",
       "      <td>0</td>\n",
       "      <td>1</td>\n",
       "      <td>0</td>\n",
       "    </tr>\n",
       "    <tr>\n",
       "      <th>4</th>\n",
       "      <td>55244</td>\n",
       "      <td>995</td>\n",
       "      <td>0</td>\n",
       "      <td>0</td>\n",
       "      <td>1</td>\n",
       "    </tr>\n",
       "    <tr>\n",
       "      <th>5</th>\n",
       "      <td>44544</td>\n",
       "      <td>995</td>\n",
       "      <td>0</td>\n",
       "      <td>1</td>\n",
       "      <td>0</td>\n",
       "    </tr>\n",
       "    <tr>\n",
       "      <th>6</th>\n",
       "      <td>50678</td>\n",
       "      <td>5900</td>\n",
       "      <td>0</td>\n",
       "      <td>0</td>\n",
       "      <td>1</td>\n",
       "    </tr>\n",
       "    <tr>\n",
       "      <th>7</th>\n",
       "      <td>35051</td>\n",
       "      <td>23</td>\n",
       "      <td>0</td>\n",
       "      <td>1</td>\n",
       "      <td>0</td>\n",
       "    </tr>\n",
       "    <tr>\n",
       "      <th>8</th>\n",
       "      <td>50678</td>\n",
       "      <td>5900</td>\n",
       "      <td>0</td>\n",
       "      <td>0</td>\n",
       "      <td>1</td>\n",
       "    </tr>\n",
       "    <tr>\n",
       "      <th>9</th>\n",
       "      <td>50678</td>\n",
       "      <td>5900</td>\n",
       "      <td>0</td>\n",
       "      <td>0</td>\n",
       "      <td>1</td>\n",
       "    </tr>\n",
       "    <tr>\n",
       "      <th>10</th>\n",
       "      <td>59625</td>\n",
       "      <td>21</td>\n",
       "      <td>0</td>\n",
       "      <td>0</td>\n",
       "      <td>1</td>\n",
       "    </tr>\n",
       "    <tr>\n",
       "      <th>11</th>\n",
       "      <td>42626</td>\n",
       "      <td>111</td>\n",
       "      <td>0</td>\n",
       "      <td>1</td>\n",
       "      <td>0</td>\n",
       "    </tr>\n",
       "    <tr>\n",
       "      <th>12</th>\n",
       "      <td>2194</td>\n",
       "      <td>445</td>\n",
       "      <td>0</td>\n",
       "      <td>1</td>\n",
       "      <td>0</td>\n",
       "    </tr>\n",
       "    <tr>\n",
       "      <th>13</th>\n",
       "      <td>7432</td>\n",
       "      <td>22</td>\n",
       "      <td>0</td>\n",
       "      <td>1</td>\n",
       "      <td>0</td>\n",
       "    </tr>\n",
       "    <tr>\n",
       "      <th>14</th>\n",
       "      <td>7206</td>\n",
       "      <td>80</td>\n",
       "      <td>0</td>\n",
       "      <td>1</td>\n",
       "      <td>0</td>\n",
       "    </tr>\n",
       "    <tr>\n",
       "      <th>15</th>\n",
       "      <td>55133</td>\n",
       "      <td>53</td>\n",
       "      <td>0</td>\n",
       "      <td>0</td>\n",
       "      <td>1</td>\n",
       "    </tr>\n",
       "    <tr>\n",
       "      <th>16</th>\n",
       "      <td>60169</td>\n",
       "      <td>80</td>\n",
       "      <td>0</td>\n",
       "      <td>0</td>\n",
       "      <td>1</td>\n",
       "    </tr>\n",
       "    <tr>\n",
       "      <th>17</th>\n",
       "      <td>63030</td>\n",
       "      <td>2222</td>\n",
       "      <td>0</td>\n",
       "      <td>0</td>\n",
       "      <td>1</td>\n",
       "    </tr>\n",
       "    <tr>\n",
       "      <th>18</th>\n",
       "      <td>31905</td>\n",
       "      <td>445</td>\n",
       "      <td>0</td>\n",
       "      <td>1</td>\n",
       "      <td>0</td>\n",
       "    </tr>\n",
       "    <tr>\n",
       "      <th>19</th>\n",
       "      <td>59625</td>\n",
       "      <td>21</td>\n",
       "      <td>0</td>\n",
       "      <td>0</td>\n",
       "      <td>1</td>\n",
       "    </tr>\n",
       "    <tr>\n",
       "      <th>20</th>\n",
       "      <td>36939</td>\n",
       "      <td>111</td>\n",
       "      <td>0</td>\n",
       "      <td>1</td>\n",
       "      <td>0</td>\n",
       "    </tr>\n",
       "    <tr>\n",
       "      <th>21</th>\n",
       "      <td>7432</td>\n",
       "      <td>22</td>\n",
       "      <td>0</td>\n",
       "      <td>1</td>\n",
       "      <td>0</td>\n",
       "    </tr>\n",
       "    <tr>\n",
       "      <th>22</th>\n",
       "      <td>25385</td>\n",
       "      <td>445</td>\n",
       "      <td>0</td>\n",
       "      <td>1</td>\n",
       "      <td>0</td>\n",
       "    </tr>\n",
       "    <tr>\n",
       "      <th>23</th>\n",
       "      <td>36877</td>\n",
       "      <td>2332</td>\n",
       "      <td>0</td>\n",
       "      <td>1</td>\n",
       "      <td>0</td>\n",
       "    </tr>\n",
       "    <tr>\n",
       "      <th>24</th>\n",
       "      <td>7206</td>\n",
       "      <td>80</td>\n",
       "      <td>0</td>\n",
       "      <td>1</td>\n",
       "      <td>0</td>\n",
       "    </tr>\n",
       "    <tr>\n",
       "      <th>25</th>\n",
       "      <td>56346</td>\n",
       "      <td>8888</td>\n",
       "      <td>0</td>\n",
       "      <td>0</td>\n",
       "      <td>1</td>\n",
       "    </tr>\n",
       "    <tr>\n",
       "      <th>26</th>\n",
       "      <td>37854</td>\n",
       "      <td>445</td>\n",
       "      <td>0</td>\n",
       "      <td>1</td>\n",
       "      <td>0</td>\n",
       "    </tr>\n",
       "    <tr>\n",
       "      <th>27</th>\n",
       "      <td>56248</td>\n",
       "      <td>445</td>\n",
       "      <td>0</td>\n",
       "      <td>0</td>\n",
       "      <td>1</td>\n",
       "    </tr>\n",
       "    <tr>\n",
       "      <th>28</th>\n",
       "      <td>38273</td>\n",
       "      <td>1080</td>\n",
       "      <td>0</td>\n",
       "      <td>1</td>\n",
       "      <td>0</td>\n",
       "    </tr>\n",
       "    <tr>\n",
       "      <th>29</th>\n",
       "      <td>3026</td>\n",
       "      <td>445</td>\n",
       "      <td>0</td>\n",
       "      <td>1</td>\n",
       "      <td>0</td>\n",
       "    </tr>\n",
       "  </tbody>\n",
       "</table>\n",
       "</div>"
      ],
      "text/plain": [
       "    src port  dst port  well-known src pool  registered src pool  cli src pool\n",
       "0      40061       111                    0                    1             0\n",
       "1      53488        80                    0                    0             1\n",
       "2      35051        23                    0                    1             0\n",
       "3       1408       445                    0                    1             0\n",
       "4      55244       995                    0                    0             1\n",
       "5      44544       995                    0                    1             0\n",
       "6      50678      5900                    0                    0             1\n",
       "7      35051        23                    0                    1             0\n",
       "8      50678      5900                    0                    0             1\n",
       "9      50678      5900                    0                    0             1\n",
       "10     59625        21                    0                    0             1\n",
       "11     42626       111                    0                    1             0\n",
       "12      2194       445                    0                    1             0\n",
       "13      7432        22                    0                    1             0\n",
       "14      7206        80                    0                    1             0\n",
       "15     55133        53                    0                    0             1\n",
       "16     60169        80                    0                    0             1\n",
       "17     63030      2222                    0                    0             1\n",
       "18     31905       445                    0                    1             0\n",
       "19     59625        21                    0                    0             1\n",
       "20     36939       111                    0                    1             0\n",
       "21      7432        22                    0                    1             0\n",
       "22     25385       445                    0                    1             0\n",
       "23     36877      2332                    0                    1             0\n",
       "24      7206        80                    0                    1             0\n",
       "25     56346      8888                    0                    0             1\n",
       "26     37854       445                    0                    1             0\n",
       "27     56248       445                    0                    0             1\n",
       "28     38273      1080                    0                    1             0\n",
       "29      3026       445                    0                    1             0"
      ]
     },
     "execution_count": 31,
     "metadata": {},
     "output_type": "execute_result"
    }
   ],
   "source": [
    "# data.loc[:, [\"src port\", \"dst port\", \"well-known src pool\", \"registered src pool\", \"cli src pool\", \"well-known dst pool\", \"registered dst pool\", \"cli dst pool\"]].head(30)\n",
    "data.loc[:, [\"src port\", \"dst port\", \"well-known src pool\", \"registered src pool\", \"cli src pool\"]].head(30)"
   ]
  },
  {
   "cell_type": "markdown",
   "metadata": {},
   "source": [
    "## Change port number info to categorical"
   ]
  },
  {
   "cell_type": "code",
   "execution_count": 32,
   "metadata": {},
   "outputs": [
    {
     "name": "stdout",
     "output_type": "stream",
     "text": [
      "56410\n",
      "4462\n"
     ]
    }
   ],
   "source": [
    "data[\"src port\"] = data[\"src port\"].apply(str)\n",
    "data[\"dst port\"] = data[\"dst port\"].apply(str)\n",
    "print(data['src port'].nunique())\n",
    "print(data['dst port'].nunique())\n",
    "\n",
    "thresh1 = 230\n",
    "thresh2 = 230\n",
    "counts1 = data['src port'].value_counts()\n",
    "counts2 = data['dst port'].value_counts()\n",
    "\n",
    "repl1 = counts1[counts1 <= thresh1].index\n",
    "repl2 = counts2[counts2 <= thresh2].index\n",
    "\n",
    "#hot one encoding for src port numbers\n",
    "data = pd.concat([data, pd.get_dummies(data[\"src port\"].replace(repl1, 'other_src'), prefix=\"is_src\")], axis=1)\n",
    "\n",
    "#hot one encoding for dst port numbers\n",
    "data = pd.concat([data, pd.get_dummies(data[\"dst port\"].replace(repl2, 'other_dst'), prefix=\"is_dst\")], axis=1)"
   ]
  },
  {
   "cell_type": "code",
   "execution_count": 33,
   "metadata": {},
   "outputs": [
    {
     "data": {
      "text/plain": [
       "(419146, 267)"
      ]
     },
     "execution_count": 33,
     "metadata": {},
     "output_type": "execute_result"
    }
   ],
   "source": [
    "data.shape"
   ]
  },
  {
   "cell_type": "markdown",
   "metadata": {},
   "source": [
    "## Hot one encoding"
   ]
  },
  {
   "cell_type": "code",
   "execution_count": 34,
   "metadata": {},
   "outputs": [
    {
     "data": {
      "text/html": [
       "<div>\n",
       "<style scoped>\n",
       "    .dataframe tbody tr th:only-of-type {\n",
       "        vertical-align: middle;\n",
       "    }\n",
       "\n",
       "    .dataframe tbody tr th {\n",
       "        vertical-align: top;\n",
       "    }\n",
       "\n",
       "    .dataframe thead th {\n",
       "        text-align: right;\n",
       "    }\n",
       "</style>\n",
       "<table border=\"1\" class=\"dataframe\">\n",
       "  <thead>\n",
       "    <tr style=\"text-align: right;\">\n",
       "      <th></th>\n",
       "      <th>conn len</th>\n",
       "      <th>service</th>\n",
       "      <th>src bytes</th>\n",
       "      <th>dst bytes</th>\n",
       "      <th>conn numb</th>\n",
       "      <th>Same srv rate</th>\n",
       "      <th>Serror rate</th>\n",
       "      <th>Srv serror rate</th>\n",
       "      <th>Dst host count</th>\n",
       "      <th>Dst host srv count</th>\n",
       "      <th>...</th>\n",
       "      <th>state_REJ</th>\n",
       "      <th>state_RSTO</th>\n",
       "      <th>state_RSTOS0</th>\n",
       "      <th>state_RSTR</th>\n",
       "      <th>state_RSTRH</th>\n",
       "      <th>state_S0</th>\n",
       "      <th>state_S1</th>\n",
       "      <th>state_SF</th>\n",
       "      <th>state_SH</th>\n",
       "      <th>state_SHR</th>\n",
       "    </tr>\n",
       "  </thead>\n",
       "  <tbody>\n",
       "    <tr>\n",
       "      <th>419136</th>\n",
       "      <td>0.000000</td>\n",
       "      <td>other</td>\n",
       "      <td>0</td>\n",
       "      <td>0</td>\n",
       "      <td>0</td>\n",
       "      <td>0.0</td>\n",
       "      <td>0.0</td>\n",
       "      <td>1.00</td>\n",
       "      <td>0</td>\n",
       "      <td>0</td>\n",
       "      <td>...</td>\n",
       "      <td>0</td>\n",
       "      <td>0</td>\n",
       "      <td>0</td>\n",
       "      <td>0</td>\n",
       "      <td>0</td>\n",
       "      <td>1</td>\n",
       "      <td>0</td>\n",
       "      <td>0</td>\n",
       "      <td>0</td>\n",
       "      <td>0</td>\n",
       "    </tr>\n",
       "    <tr>\n",
       "      <th>419137</th>\n",
       "      <td>0.000000</td>\n",
       "      <td>other</td>\n",
       "      <td>0</td>\n",
       "      <td>0</td>\n",
       "      <td>0</td>\n",
       "      <td>0.0</td>\n",
       "      <td>0.0</td>\n",
       "      <td>0.00</td>\n",
       "      <td>1</td>\n",
       "      <td>1</td>\n",
       "      <td>...</td>\n",
       "      <td>0</td>\n",
       "      <td>0</td>\n",
       "      <td>0</td>\n",
       "      <td>0</td>\n",
       "      <td>0</td>\n",
       "      <td>1</td>\n",
       "      <td>0</td>\n",
       "      <td>0</td>\n",
       "      <td>0</td>\n",
       "      <td>0</td>\n",
       "    </tr>\n",
       "    <tr>\n",
       "      <th>419138</th>\n",
       "      <td>0.485847</td>\n",
       "      <td>other</td>\n",
       "      <td>0</td>\n",
       "      <td>0</td>\n",
       "      <td>0</td>\n",
       "      <td>0.0</td>\n",
       "      <td>0.0</td>\n",
       "      <td>1.00</td>\n",
       "      <td>5</td>\n",
       "      <td>4</td>\n",
       "      <td>...</td>\n",
       "      <td>0</td>\n",
       "      <td>0</td>\n",
       "      <td>0</td>\n",
       "      <td>1</td>\n",
       "      <td>0</td>\n",
       "      <td>0</td>\n",
       "      <td>0</td>\n",
       "      <td>0</td>\n",
       "      <td>0</td>\n",
       "      <td>0</td>\n",
       "    </tr>\n",
       "    <tr>\n",
       "      <th>419139</th>\n",
       "      <td>3.253905</td>\n",
       "      <td>other</td>\n",
       "      <td>0</td>\n",
       "      <td>0</td>\n",
       "      <td>0</td>\n",
       "      <td>0.0</td>\n",
       "      <td>0.0</td>\n",
       "      <td>0.50</td>\n",
       "      <td>1</td>\n",
       "      <td>39</td>\n",
       "      <td>...</td>\n",
       "      <td>0</td>\n",
       "      <td>0</td>\n",
       "      <td>0</td>\n",
       "      <td>0</td>\n",
       "      <td>0</td>\n",
       "      <td>1</td>\n",
       "      <td>0</td>\n",
       "      <td>0</td>\n",
       "      <td>0</td>\n",
       "      <td>0</td>\n",
       "    </tr>\n",
       "    <tr>\n",
       "      <th>419140</th>\n",
       "      <td>0.000000</td>\n",
       "      <td>other</td>\n",
       "      <td>0</td>\n",
       "      <td>0</td>\n",
       "      <td>0</td>\n",
       "      <td>0.0</td>\n",
       "      <td>0.0</td>\n",
       "      <td>0.67</td>\n",
       "      <td>4</td>\n",
       "      <td>4</td>\n",
       "      <td>...</td>\n",
       "      <td>0</td>\n",
       "      <td>0</td>\n",
       "      <td>0</td>\n",
       "      <td>0</td>\n",
       "      <td>0</td>\n",
       "      <td>1</td>\n",
       "      <td>0</td>\n",
       "      <td>0</td>\n",
       "      <td>0</td>\n",
       "      <td>0</td>\n",
       "    </tr>\n",
       "    <tr>\n",
       "      <th>419141</th>\n",
       "      <td>0.000000</td>\n",
       "      <td>other</td>\n",
       "      <td>0</td>\n",
       "      <td>0</td>\n",
       "      <td>0</td>\n",
       "      <td>0.0</td>\n",
       "      <td>0.0</td>\n",
       "      <td>0.75</td>\n",
       "      <td>0</td>\n",
       "      <td>0</td>\n",
       "      <td>...</td>\n",
       "      <td>0</td>\n",
       "      <td>0</td>\n",
       "      <td>0</td>\n",
       "      <td>0</td>\n",
       "      <td>0</td>\n",
       "      <td>0</td>\n",
       "      <td>0</td>\n",
       "      <td>0</td>\n",
       "      <td>0</td>\n",
       "      <td>0</td>\n",
       "    </tr>\n",
       "    <tr>\n",
       "      <th>419142</th>\n",
       "      <td>3.135446</td>\n",
       "      <td>rdp</td>\n",
       "      <td>1726</td>\n",
       "      <td>5591</td>\n",
       "      <td>1</td>\n",
       "      <td>0.0</td>\n",
       "      <td>0.0</td>\n",
       "      <td>0.00</td>\n",
       "      <td>5</td>\n",
       "      <td>72</td>\n",
       "      <td>...</td>\n",
       "      <td>0</td>\n",
       "      <td>0</td>\n",
       "      <td>0</td>\n",
       "      <td>0</td>\n",
       "      <td>0</td>\n",
       "      <td>0</td>\n",
       "      <td>1</td>\n",
       "      <td>0</td>\n",
       "      <td>0</td>\n",
       "      <td>0</td>\n",
       "    </tr>\n",
       "    <tr>\n",
       "      <th>419143</th>\n",
       "      <td>0.000000</td>\n",
       "      <td>other</td>\n",
       "      <td>0</td>\n",
       "      <td>0</td>\n",
       "      <td>0</td>\n",
       "      <td>0.0</td>\n",
       "      <td>0.0</td>\n",
       "      <td>0.60</td>\n",
       "      <td>0</td>\n",
       "      <td>2</td>\n",
       "      <td>...</td>\n",
       "      <td>0</td>\n",
       "      <td>0</td>\n",
       "      <td>0</td>\n",
       "      <td>0</td>\n",
       "      <td>0</td>\n",
       "      <td>1</td>\n",
       "      <td>0</td>\n",
       "      <td>0</td>\n",
       "      <td>0</td>\n",
       "      <td>0</td>\n",
       "    </tr>\n",
       "    <tr>\n",
       "      <th>419144</th>\n",
       "      <td>0.000000</td>\n",
       "      <td>other</td>\n",
       "      <td>0</td>\n",
       "      <td>0</td>\n",
       "      <td>0</td>\n",
       "      <td>0.0</td>\n",
       "      <td>0.0</td>\n",
       "      <td>0.67</td>\n",
       "      <td>0</td>\n",
       "      <td>0</td>\n",
       "      <td>...</td>\n",
       "      <td>0</td>\n",
       "      <td>0</td>\n",
       "      <td>0</td>\n",
       "      <td>0</td>\n",
       "      <td>0</td>\n",
       "      <td>1</td>\n",
       "      <td>0</td>\n",
       "      <td>0</td>\n",
       "      <td>0</td>\n",
       "      <td>0</td>\n",
       "    </tr>\n",
       "    <tr>\n",
       "      <th>419145</th>\n",
       "      <td>0.000000</td>\n",
       "      <td>other</td>\n",
       "      <td>0</td>\n",
       "      <td>0</td>\n",
       "      <td>0</td>\n",
       "      <td>0.0</td>\n",
       "      <td>0.0</td>\n",
       "      <td>1.00</td>\n",
       "      <td>0</td>\n",
       "      <td>0</td>\n",
       "      <td>...</td>\n",
       "      <td>0</td>\n",
       "      <td>0</td>\n",
       "      <td>0</td>\n",
       "      <td>0</td>\n",
       "      <td>0</td>\n",
       "      <td>1</td>\n",
       "      <td>0</td>\n",
       "      <td>0</td>\n",
       "      <td>0</td>\n",
       "      <td>0</td>\n",
       "    </tr>\n",
       "  </tbody>\n",
       "</table>\n",
       "<p>10 rows × 292 columns</p>\n",
       "</div>"
      ],
      "text/plain": [
       "        conn len service  src bytes  dst bytes  conn numb  Same srv rate  \\\n",
       "419136  0.000000   other          0          0          0            0.0   \n",
       "419137  0.000000   other          0          0          0            0.0   \n",
       "419138  0.485847   other          0          0          0            0.0   \n",
       "419139  3.253905   other          0          0          0            0.0   \n",
       "419140  0.000000   other          0          0          0            0.0   \n",
       "419141  0.000000   other          0          0          0            0.0   \n",
       "419142  3.135446     rdp       1726       5591          1            0.0   \n",
       "419143  0.000000   other          0          0          0            0.0   \n",
       "419144  0.000000   other          0          0          0            0.0   \n",
       "419145  0.000000   other          0          0          0            0.0   \n",
       "\n",
       "        Serror rate  Srv serror rate  Dst host count  Dst host srv count  \\\n",
       "419136          0.0             1.00               0                   0   \n",
       "419137          0.0             0.00               1                   1   \n",
       "419138          0.0             1.00               5                   4   \n",
       "419139          0.0             0.50               1                  39   \n",
       "419140          0.0             0.67               4                   4   \n",
       "419141          0.0             0.75               0                   0   \n",
       "419142          0.0             0.00               5                  72   \n",
       "419143          0.0             0.60               0                   2   \n",
       "419144          0.0             0.67               0                   0   \n",
       "419145          0.0             1.00               0                   0   \n",
       "\n",
       "          ...      state_REJ  state_RSTO  state_RSTOS0 state_RSTR  \\\n",
       "419136    ...              0           0             0          0   \n",
       "419137    ...              0           0             0          0   \n",
       "419138    ...              0           0             0          1   \n",
       "419139    ...              0           0             0          0   \n",
       "419140    ...              0           0             0          0   \n",
       "419141    ...              0           0             0          0   \n",
       "419142    ...              0           0             0          0   \n",
       "419143    ...              0           0             0          0   \n",
       "419144    ...              0           0             0          0   \n",
       "419145    ...              0           0             0          0   \n",
       "\n",
       "        state_RSTRH state_S0 state_S1 state_SF  state_SH  state_SHR  \n",
       "419136            0        1        0        0         0          0  \n",
       "419137            0        1        0        0         0          0  \n",
       "419138            0        0        0        0         0          0  \n",
       "419139            0        1        0        0         0          0  \n",
       "419140            0        1        0        0         0          0  \n",
       "419141            0        0        0        0         0          0  \n",
       "419142            0        0        1        0         0          0  \n",
       "419143            0        1        0        0         0          0  \n",
       "419144            0        1        0        0         0          0  \n",
       "419145            0        1        0        0         0          0  \n",
       "\n",
       "[10 rows x 292 columns]"
      ]
     },
     "execution_count": 34,
     "metadata": {},
     "output_type": "execute_result"
    }
   ],
   "source": [
    "### hot one encoding ###\n",
    "\n",
    "# hot one encoding for service\n",
    "data = pd.concat([data, pd.get_dummies(data[\"service\"], prefix=\"is\")], axis=1)\n",
    "data.tail(10)\n",
    "\n",
    "#hot one encoding for proto - commented due to reduced column number\n",
    "data = pd.concat([data, pd.get_dummies(data[\"proto\"], prefix=\"is\")], axis=1)\n",
    "data.tail(10)\n",
    "\n",
    "# hot one encoding for conn state\n",
    "data = pd.concat([data, pd.get_dummies(data[\"Conn state\"], prefix=\"state\")], axis=1)\n",
    "data.tail(10)"
   ]
  },
  {
   "cell_type": "code",
   "execution_count": 35,
   "metadata": {},
   "outputs": [
    {
     "name": "stdout",
     "output_type": "stream",
     "text": [
      "<class 'pandas.core.frame.DataFrame'>\n",
      "Int64Index: 419146 entries, 0 to 419145\n",
      "Columns: 292 entries, conn len to state_SHR\n",
      "dtypes: float64(7), int64(9), object(5), uint8(271)\n",
      "memory usage: 178.7+ MB\n"
     ]
    }
   ],
   "source": [
    "data.info()"
   ]
  },
  {
   "cell_type": "markdown",
   "metadata": {},
   "source": [
    "## Plot function definition"
   ]
  },
  {
   "cell_type": "code",
   "execution_count": 36,
   "metadata": {},
   "outputs": [],
   "source": [
    "# plotting method definition\n",
    "\n",
    "def plot_stats(stat, name, width, rot):\n",
    "    fig, ax = plt.subplots(figsize=(width, 4))    \n",
    "    ax.bar(range(len(stat)), list(stat.values()), align='center')\n",
    "    plt.xticks(range(len(stat)), list(stat.keys()), rotation=rot)\n",
    "    for a,b in enumerate(stat.items()):\n",
    "        ax.text(a, b[1] + max(stat.values())/60 , str(round(b[1],5)), horizontalalignment ='center', verticalalignment='baseline')\n",
    "    ax.spines['right'].set_visible(False)\n",
    "    ax.spines['top'].set_visible(False)\n",
    "    plt.title(name + \" of tested algorithms\")\n",
    "    plt.show()"
   ]
  },
  {
   "cell_type": "markdown",
   "metadata": {},
   "source": [
    "## Dataset split"
   ]
  },
  {
   "cell_type": "code",
   "execution_count": 37,
   "metadata": {},
   "outputs": [],
   "source": [
    "data.rename(columns={'Dst host count': 'Dst_host_count', \"Dst host srv count\" : \"Dst_host_srv_count\",\n",
    "                    \"Dst host same src port rate\" : \"Dst_host_same_src_port_rate\",\n",
    "                    \"Dst host serror rate\" : \"Dst_host_serror_rate\",\n",
    "                    \"Dst host srv serror rate\" : \"Dst_host_srv_serror_rate\",\n",
    "                    \"Same srv rate\" : \"Same_srv_rate\",\n",
    "                    \"Srv serror rate\" : \"Srv_serror_rate\",\n",
    "                    \"conn len\" : \"conn_len\",\n",
    "                    \"src bytes\" : \"src_bytes\",\n",
    "                    \"dst bytes\" : \"dst_bytes\",\n",
    "                    \"conn numb\" : \"conn_numb\",\n",
    "                    \"Serror rate\" : \"Serror_rate\",\n",
    "                    \"cli src pool\" : \"cli_src_pool\",\n",
    "                    \"registered src pool\" : \"registered_src_pool\",\n",
    "                    \"well-known src pool\" : \"well_known_src_pool\",\n",
    "                    \"dst port\" : \"dst_port\",\n",
    "                    \"src port\" : \"src_port\",\n",
    "                     \"Conn state\" : \"Conn_state\" \n",
    "                    }, inplace=True)"
   ]
  },
  {
   "cell_type": "code",
   "execution_count": 38,
   "metadata": {},
   "outputs": [
    {
     "name": "stdout",
     "output_type": "stream",
     "text": [
      "Counter({1: 54763, 0: 8109})\n",
      "Counter({1: 59796, 0: 3076})\n",
      "Counter({1: 224438, 0: 68964})\n"
     ]
    }
   ],
   "source": [
    "train, validate, test = np.split(data, [int(.7*len(data)), int(.85*len(data))])\n",
    "\n",
    "train_ex = train\n",
    "validate_ex = validate\n",
    "test_ex = test\n",
    "\n",
    "train = train.drop([\"service\", \"Conn_state\", \"proto\", \"src_port\", \"dst_port\"], axis=1)\n",
    "validate = validate.drop([\"service\", \"Conn_state\", \"proto\", \"src_port\", \"dst_port\"], axis=1)\n",
    "test = test.drop([\"service\", \"Conn_state\", \"proto\", \"src_port\", \"dst_port\"], axis=1)\n",
    "\n",
    "train = train.sample(frac=1)\n",
    "validate = validate.sample(frac=1)\n",
    "test = test.sample(frac=1)\n",
    "\n",
    "y_train = train.loc[:, \"attack_flag\"].values.ravel()\n",
    "X_train = train.drop([\"attack_flag\"], axis=1).astype(np.float32)\n",
    "y_validate = validate.loc[:, \"attack_flag\"].values.ravel()\n",
    "X_validate = validate.drop([\"attack_flag\"], axis=1).astype(np.float32)\n",
    "y_test = test.loc[:, \"attack_flag\"].values.ravel()\n",
    "X_test = test.drop([\"attack_flag\"], axis=1).astype(np.float32)\n",
    "\n",
    "print(Counter(y_test))\n",
    "print(Counter(y_validate))\n",
    "print(Counter(y_train))"
   ]
  },
  {
   "cell_type": "markdown",
   "metadata": {},
   "source": [
    "# Algoritms performance comparison"
   ]
  },
  {
   "cell_type": "code",
   "execution_count": 39,
   "metadata": {},
   "outputs": [
    {
     "name": "stdout",
     "output_type": "stream",
     "text": [
      "Counter({1: 54763, 0: 8109})\n"
     ]
    }
   ],
   "source": [
    "from collections import Counter\n",
    "\n",
    "print(Counter(y_test))\n",
    "\n",
    "Acc = {}\n",
    "F1S = {}\n",
    "Prec = {}\n",
    "Rec = {}\n",
    "FPR = {}\n",
    "FNR = {}"
   ]
  },
  {
   "cell_type": "code",
   "execution_count": 40,
   "metadata": {},
   "outputs": [
    {
     "name": "stdout",
     "output_type": "stream",
     "text": [
      "Algorithm: baseline     Accuracy: 0.87102, F1-score: 0.93107, Precision: 0.87102, Recall: 1.00000, FPR: 1.00000, FNR: 0.00000\n",
      "TN:   0; FP: 8109; FN:    0; TP: 54763\n",
      "\n"
     ]
    }
   ],
   "source": [
    "# Metrics of baseline method\n",
    "from sklearn import metrics\n",
    "\n",
    "name = \"baseline\"\n",
    "\n",
    "if(y_test.mean() > (1-y_test.mean())):\n",
    "    y_pred = np.ones(len(y_test)).ravel() \n",
    "else:\n",
    "    y_pred = np.zeros(len(y_test)).ravel() \n",
    "    \n",
    "Acc[name] = metrics.accuracy_score(y_test, y_pred)\n",
    "F1S[name] = metrics.f1_score(y_test, y_pred)\n",
    "Prec[name] = metrics.precision_score(y_test, y_pred)\n",
    "Rec[name] = metrics.recall_score(y_test, y_pred)\n",
    "tn, fp, fn, tp = metrics.confusion_matrix(y_test, y_pred).ravel()\n",
    "FPR[name] = fp/(fp+tn)\n",
    "FNR[name] = fn/(tp+fn)\n",
    "\n",
    "print(\"Algorithm: {0:12} Accuracy: {1:.5f}, F1-score: {2:.5f}, Precision: {3:.5f}, Recall: {4:.5f}, FPR: {5:.5f}, FNR: {6:.5f}\".format(name, Acc[name], F1S[name], Prec[name], Rec[name], FPR[name], FNR[name]))\n",
    "print(\"TN: {0:3}; FP: {1:3}; FN: {2:4}; TP: {3:3}\\n\".format(tn, fp, fn, tp))"
   ]
  },
  {
   "cell_type": "code",
   "execution_count": 41,
   "metadata": {},
   "outputs": [
    {
     "name": "stdout",
     "output_type": "stream",
     "text": [
      "Algorithm: LogisticReg  Accuracy: 0.92776, F1-score: 0.95724, Precision: 0.98793, Recall: 0.92840, FPR: 0.07658, FNR: 0.07160\n",
      "TN: 7488; FP: 621; FN: 3921; TP: 50842\n",
      "\n"
     ]
    }
   ],
   "source": [
    "from sklearn.linear_model import LogisticRegression\n",
    "from sklearn import metrics\n",
    "\n",
    "clf = LogisticRegression(solver = 'newton-cg')\n",
    "\n",
    "model = clf.fit(X_train, y_train)\n",
    "\n",
    "y_pred = model.predict(X_test)\n",
    "\n",
    "name = \"LogisticReg\"\n",
    "\n",
    "Acc[name] = metrics.accuracy_score(y_test, y_pred)\n",
    "F1S[name] = metrics.f1_score(y_test, y_pred)\n",
    "Prec[name] = metrics.precision_score(y_test, y_pred)\n",
    "Rec[name] = metrics.recall_score(y_test, y_pred)\n",
    "tn, fp, fn, tp = metrics.confusion_matrix(y_test, y_pred).ravel()\n",
    "FPR[name] = fp/(fp+tn)\n",
    "FNR[name] = fn/(tp+fn)\n",
    "\n",
    "print(\"Algorithm: {0:12} Accuracy: {1:.5f}, F1-score: {2:.5f}, Precision: {3:.5f}, Recall: {4:.5f}, FPR: {5:.5f}, FNR: {6:.5f}\".format(name, Acc[name], F1S[name], Prec[name], Rec[name], FPR[name], FNR[name]))\n",
    "print(\"TN: {0:3}; FP: {1:3}; FN: {2:4}; TP: {3:3}\\n\".format(tn, fp, fn, tp))"
   ]
  },
  {
   "cell_type": "code",
   "execution_count": 42,
   "metadata": {},
   "outputs": [
    {
     "name": "stdout",
     "output_type": "stream",
     "text": [
      "Algorithm: AdaBoost     Accuracy: 0.97258, F1-score: 0.98439, Precision: 0.97600, Recall: 0.99293, FPR: 0.16488, FNR: 0.00707\n",
      "TN: 6772; FP: 1337; FN:  387; TP: 54376\n",
      "\n",
      "Algorithm: DecisionTree Accuracy: 0.97463, F1-score: 0.98555, Precision: 0.97777, Recall: 0.99346, FPR: 0.15255, FNR: 0.00654\n",
      "TN: 6872; FP: 1237; FN:  358; TP: 54405\n",
      "\n",
      "Algorithm: NaiveBayes   Accuracy: 0.86727, F1-score: 0.91772, Precision: 0.99739, Recall: 0.84984, FPR: 0.01505, FNR: 0.15016\n",
      "TN: 7987; FP: 122; FN: 8223; TP: 46540\n",
      "\n",
      "Algorithm: RandomTree   Accuracy: 0.97749, F1-score: 0.98714, Precision: 0.98270, Recall: 0.99162, FPR: 0.11789, FNR: 0.00838\n",
      "TN: 7153; FP: 956; FN:  459; TP: 54304\n",
      "\n"
     ]
    },
    {
     "name": "stderr",
     "output_type": "stream",
     "text": [
      "/home/matz/.local/lib/python3.6/site-packages/sklearn/preprocessing/data.py:625: DataConversionWarning: Data with input dtype float32 were all converted to float64 by StandardScaler.\n",
      "  return self.partial_fit(X, y)\n",
      "/home/matz/.local/lib/python3.6/site-packages/sklearn/base.py:465: DataConversionWarning: Data with input dtype float32 were all converted to float64 by StandardScaler.\n",
      "  return self.fit(X, y, **fit_params).transform(X)\n",
      "/home/matz/.local/lib/python3.6/site-packages/sklearn/pipeline.py:331: DataConversionWarning: Data with input dtype float32 were all converted to float64 by StandardScaler.\n",
      "  Xt = transform.transform(Xt)\n"
     ]
    },
    {
     "name": "stdout",
     "output_type": "stream",
     "text": [
      "Algorithm: RandomForest Accuracy: 0.98125, F1-score: 0.98932, Precision: 0.98168, Recall: 0.99708, FPR: 0.12566, FNR: 0.00292\n",
      "TN: 7090; FP: 1019; FN:  160; TP: 54603\n",
      "\n"
     ]
    }
   ],
   "source": [
    "# # zmiana n_estimators daje poprawe\n",
    "# # kfold tylko dla AdaBoostClassifier(DecisionTreeClassifier(max_depth = 11), n_estimators=num_trees, random_state = 0)\n",
    "# # learning rate [1 - default] najlepsze wyniki\n",
    "from sklearn.ensemble import AdaBoostClassifier\n",
    "from sklearn.tree import DecisionTreeClassifier\n",
    "from sklearn.naive_bayes import GaussianNB\n",
    "from sklearn.ensemble import RandomForestClassifier\n",
    "from sklearn.linear_model import LogisticRegression\n",
    "from sklearn.pipeline import make_pipeline\n",
    "from sklearn.preprocessing import StandardScaler\n",
    "\n",
    "\n",
    "seed = 12\n",
    "num_trees = 40\n",
    "\n",
    "classifiers = {\n",
    "               \"AdaBoost\":AdaBoostClassifier(DecisionTreeClassifier(max_depth = 13), n_estimators=num_trees, random_state = 0),\n",
    "               \"DecisionTree\":DecisionTreeClassifier(random_state=0, max_depth = 13),\n",
    "               \"NaiveBayes\":GaussianNB(),\n",
    "               \"RandomTree\":DecisionTreeClassifier(random_state=0, splitter = \"random\"),\n",
    "               \"RandomForest\":make_pipeline(StandardScaler(),RandomForestClassifier(n_estimators=167, max_depth=38, random_state=0)),\n",
    "}\n",
    "\n",
    "\n",
    "for name, clf in classifiers.items():\n",
    "    \n",
    "    model = clf.fit(X_train, y_train)\n",
    "    \n",
    "    y_pred = model.predict(X_test)\n",
    "    \n",
    "    Acc[name] = metrics.accuracy_score(y_test, y_pred)\n",
    "    F1S[name] = metrics.f1_score(y_test, y_pred)\n",
    "    Prec[name] = metrics.precision_score(y_test, y_pred)\n",
    "    Rec[name] = metrics.recall_score(y_test, y_pred)\n",
    "    tn, fp, fn, tp = metrics.confusion_matrix(y_test, y_pred).ravel()\n",
    "    FPR[name] = fp/(fp+tn)\n",
    "    FNR[name] = fn/(tp+fn)\n",
    "\n",
    "    print(\"Algorithm: {0:12} Accuracy: {1:.5f}, F1-score: {2:.5f}, Precision: {3:.5f}, Recall: {4:.5f}, FPR: {5:.5f}, FNR: {6:.5f}\".format(name, Acc[name], F1S[name], Prec[name], Rec[name], FPR[name], FNR[name]))\n",
    "    print(\"TN: {0:3}; FP: {1:3}; FN: {2:4}; TP: {3:3}\\n\".format(tn, fp, fn, tp))"
   ]
  },
  {
   "cell_type": "code",
   "execution_count": 43,
   "metadata": {},
   "outputs": [
    {
     "data": {
      "image/png": "[encoded data removed]",
      "text/plain": [
       "<matplotlib.figure.Figure at 0x7efe64bebe80>"
      ]
     },
     "metadata": {
      "needs_background": "light"
     },
     "output_type": "display_data"
    },
    {
     "data": {
      "image/png": "[encoded data removed]",
      "text/plain": [
       "<matplotlib.figure.Figure at 0x7efe64beb208>"
      ]
     },
     "metadata": {
      "needs_background": "light"
     },
     "output_type": "display_data"
    },
    {
     "data": {
      "image/png": "[encoded data removed]",
      "text/plain": [
       "<matplotlib.figure.Figure at 0x7efe3ab22320>"
      ]
     },
     "metadata": {
      "needs_background": "light"
     },
     "output_type": "display_data"
    },
    {
     "data": {
      "image/png": "[encoded data removed]",
      "text/plain": [
       "<matplotlib.figure.Figure at 0x7efe380d2518>"
      ]
     },
     "metadata": {
      "needs_background": "light"
     },
     "output_type": "display_data"
    },
    {
     "data": {
      "image/png": "[encoded data removed]",
      "text/plain": [
       "<matplotlib.figure.Figure at 0x7efe3803f390>"
      ]
     },
     "metadata": {
      "needs_background": "light"
     },
     "output_type": "display_data"
    },
    {
     "data": {
      "image/png": "[encoded data removed]",
      "text/plain": [
       "<matplotlib.figure.Figure at 0x7efe2810e518>"
      ]
     },
     "metadata": {
      "needs_background": "light"
     },
     "output_type": "display_data"
    }
   ],
   "source": [
    "plot_stats(Acc, \"Accuracy\", 8, 55)\n",
    "plot_stats(F1S, \"F1-score\", 8, 55)\n",
    "plot_stats(Prec, \"Precision\", 8, 55)\n",
    "plot_stats(Rec, \"Recall\", 8, 55)\n",
    "plot_stats(FPR, \"False Positive Rate\", 8, 55)\n",
    "plot_stats(FNR, \"False Negative Rate\", 8, 55)"
   ]
  },
  {
   "cell_type": "markdown",
   "metadata": {},
   "source": [
    "# Random Features for Large-Scale Kernel Machines"
   ]
  },
  {
   "cell_type": "code",
   "execution_count": 44,
   "metadata": {},
   "outputs": [],
   "source": [
    "import numpy as np\n",
    "import tensorflow as tf\n",
    "import time"
   ]
  },
  {
   "cell_type": "code",
   "execution_count": 45,
   "metadata": {},
   "outputs": [
    {
     "data": {
      "text/plain": [
       "(293402, 286)"
      ]
     },
     "execution_count": 45,
     "metadata": {},
     "output_type": "execute_result"
    }
   ],
   "source": [
    "X_train.values.shape"
   ]
  },
  {
   "cell_type": "code",
   "execution_count": 46,
   "metadata": {},
   "outputs": [],
   "source": [
    "train_input_fn = tf.estimator.inputs.numpy_input_fn(    \n",
    "    x={\"features\": X_train.values},    \n",
    "    y=y_train,    \n",
    "    batch_size=180,    \n",
    "    num_epochs=None,    \n",
    "    shuffle=False)"
   ]
  },
  {
   "cell_type": "code",
   "execution_count": 47,
   "metadata": {},
   "outputs": [
    {
     "data": {
      "text/plain": [
       "(62872, 286)"
      ]
     },
     "execution_count": 47,
     "metadata": {},
     "output_type": "execute_result"
    }
   ],
   "source": [
    "X_validate.shape"
   ]
  },
  {
   "cell_type": "code",
   "execution_count": 48,
   "metadata": {},
   "outputs": [],
   "source": [
    "eval_input_fn = tf.estimator.inputs.numpy_input_fn(\n",
    "    x={\"features\": X_validate.values},\n",
    "    y=y_validate,\n",
    "    batch_size=X_validate.shape[0],\n",
    "    num_epochs=1,\n",
    "    shuffle=False)"
   ]
  },
  {
   "cell_type": "code",
   "execution_count": 49,
   "metadata": {},
   "outputs": [
    {
     "data": {
      "text/plain": [
       "(62872, 286)"
      ]
     },
     "execution_count": 49,
     "metadata": {},
     "output_type": "execute_result"
    }
   ],
   "source": [
    "X_test.shape"
   ]
  },
  {
   "cell_type": "code",
   "execution_count": 50,
   "metadata": {},
   "outputs": [],
   "source": [
    "test_input_fn = tf.estimator.inputs.numpy_input_fn(\n",
    "    x={\"features\": X_test.values},\n",
    "    y=y_test,\n",
    "    batch_size=X_test.shape[0],\n",
    "    num_epochs=1,\n",
    "    shuffle=False)"
   ]
  },
  {
   "cell_type": "markdown",
   "metadata": {},
   "source": [
    "## Using explicit kernel mappings with the linear model"
   ]
  },
  {
   "cell_type": "code",
   "execution_count": 51,
   "metadata": {},
   "outputs": [],
   "source": [
    "data.rename(columns={'Dst host count': 'Dst_host_count', \"Dst host srv count\" : \"Dst_host_srv_count\",\n",
    "                    \"Dst host same src port rate\" : \"Dst_host_same_src_port_rate\",\n",
    "                    \"Dst host serror rate\" : \"Dst_host_serror_rate\",\n",
    "                    \"Dst host srv serror rate\" : \"Dst_host_srv_serror_rate\",\n",
    "                    \"Same srv rate\" : \"Same_srv_rate\",\n",
    "                    \"Srv serror rate\" : \"Srv_serror_rate\",\n",
    "                    \"conn len\" : \"conn_len\",\n",
    "                    \"src bytes\" : \"src_bytes\",\n",
    "                    \"dst bytes\" : \"dst_bytes\",\n",
    "                    \"conn numb\" : \"conn_numb\",\n",
    "                    \"Serror rate\" : \"Serror_rate\",\n",
    "                    \"cli src pool\" : \"cli_src_pool\",\n",
    "                    \"registered src pool\" : \"registered_src_pool\",\n",
    "                    \"well-known src pool\" : \"well_known_src_pool\", \n",
    "                    \"dst port\" : \"dst_port\",\n",
    "                    \"src port\" : \"src_port\",\n",
    "                    \"Conn state\" : \"Conn_state\" \n",
    "                    }, inplace=True)"
   ]
  },
  {
   "cell_type": "code",
   "execution_count": 52,
   "metadata": {},
   "outputs": [],
   "source": [
    "feat_column = tf.contrib.layers.real_valued_column('features', dimension=len(X_train.columns.values))"
   ]
  },
  {
   "cell_type": "code",
   "execution_count": 53,
   "metadata": {},
   "outputs": [],
   "source": [
    "kernel_mapper = tf.contrib.kernel_methods.RandomFourierFeatureMapper(input_dim=len(X_train.columns.values), output_dim=3000, stddev=5, name='rffm')"
   ]
  },
  {
   "cell_type": "code",
   "execution_count": 54,
   "metadata": {},
   "outputs": [],
   "source": [
    "kernel_mappers = {feat_column: [kernel_mapper]}"
   ]
  },
  {
   "cell_type": "code",
   "execution_count": 55,
   "metadata": {},
   "outputs": [],
   "source": [
    "! rm -r kernel_train"
   ]
  },
  {
   "cell_type": "code",
   "execution_count": 56,
   "metadata": {},
   "outputs": [],
   "source": [
    "optimizer = tf.train.FtrlOptimizer(learning_rate=30, l2_regularization_strength=0.01)"
   ]
  },
  {
   "cell_type": "code",
   "execution_count": 57,
   "metadata": {},
   "outputs": [
    {
     "name": "stdout",
     "output_type": "stream",
     "text": [
      "WARNING:tensorflow:From /home/matz/.local/lib/python3.6/site-packages/tensorflow/contrib/kernel_methods/python/kernel_estimators.py:305: multi_class_head (from tensorflow.contrib.learn.python.learn.estimators.head) is deprecated and will be removed in a future version.\n",
      "Instructions for updating:\n",
      "Please switch to tf.contrib.estimator.*_head.\n",
      "WARNING:tensorflow:From /home/matz/.local/lib/python3.6/site-packages/tensorflow/contrib/learn/python/learn/estimators/estimator.py:1180: BaseEstimator.__init__ (from tensorflow.contrib.learn.python.learn.estimators.estimator) is deprecated and will be removed in a future version.\n",
      "Instructions for updating:\n",
      "Please replace uses of any Estimator from tf.contrib.learn with an Estimator from tf.estimator.*\n",
      "WARNING:tensorflow:From /home/matz/.local/lib/python3.6/site-packages/tensorflow/contrib/learn/python/learn/estimators/estimator.py:428: RunConfig.__init__ (from tensorflow.contrib.learn.python.learn.estimators.run_config) is deprecated and will be removed in a future version.\n",
      "Instructions for updating:\n",
      "When switching to tf.estimator.Estimator, use tf.estimator.RunConfig instead.\n",
      "INFO:tensorflow:Using default config.\n",
      "INFO:tensorflow:Using config: {'_task_type': None, '_task_id': 0, '_cluster_spec': <tensorflow.python.training.server_lib.ClusterSpec object at 0x7efe105496d8>, '_master': '', '_num_ps_replicas': 0, '_num_worker_replicas': 0, '_environment': 'local', '_is_chief': True, '_evaluation_master': '', '_train_distribute': None, '_eval_distribute': None, '_device_fn': None, '_tf_config': gpu_options {\n",
      "  per_process_gpu_memory_fraction: 1.0\n",
      "}\n",
      ", '_tf_random_seed': None, '_save_summary_steps': 100, '_save_checkpoints_secs': 600, '_log_step_count_steps': 100, '_protocol': None, '_session_config': None, '_save_checkpoints_steps': None, '_keep_checkpoint_max': 5, '_keep_checkpoint_every_n_hours': 10000, '_model_dir': 'kernel_train'}\n"
     ]
    }
   ],
   "source": [
    "estimator_kernel = tf.contrib.kernel_methods.KernelLinearClassifier(\n",
    "    n_classes=2,\n",
    "    optimizer=optimizer,\n",
    "    kernel_mappers=kernel_mappers, \n",
    "    model_dir=\"kernel_train\")"
   ]
  },
  {
   "cell_type": "code",
   "execution_count": 58,
   "metadata": {},
   "outputs": [
    {
     "name": "stdout",
     "output_type": "stream",
     "text": [
      "WARNING:tensorflow:From /home/matz/.local/lib/python3.6/site-packages/tensorflow/python/estimator/inputs/queues/feeding_queue_runner.py:62: QueueRunner.__init__ (from tensorflow.python.training.queue_runner_impl) is deprecated and will be removed in a future version.\n",
      "Instructions for updating:\n",
      "To construct input pipelines, use the `tf.data` module.\n",
      "WARNING:tensorflow:From /home/matz/.local/lib/python3.6/site-packages/tensorflow/python/estimator/inputs/queues/feeding_functions.py:500: add_queue_runner (from tensorflow.python.training.queue_runner_impl) is deprecated and will be removed in a future version.\n",
      "Instructions for updating:\n",
      "To construct input pipelines, use the `tf.data` module.\n",
      "WARNING:tensorflow:Casting <dtype: 'int64'> labels to bool.\n",
      "WARNING:tensorflow:Casting <dtype: 'int64'> labels to bool.\n",
      "WARNING:tensorflow:Trapezoidal rule is known to produce incorrect PR-AUCs; please switch to \"careful_interpolation\" instead.\n",
      "WARNING:tensorflow:Trapezoidal rule is known to produce incorrect PR-AUCs; please switch to \"careful_interpolation\" instead.\n",
      "WARNING:tensorflow:From /home/matz/.local/lib/python3.6/site-packages/tensorflow/contrib/learn/python/learn/estimators/head.py:678: ModelFnOps.__new__ (from tensorflow.contrib.learn.python.learn.estimators.model_fn) is deprecated and will be removed in a future version.\n",
      "Instructions for updating:\n",
      "When switching to tf.estimator.Estimator, use tf.estimator.EstimatorSpec. You can use the `estimator_spec` method to create an equivalent one.\n",
      "INFO:tensorflow:Create CheckpointSaverHook.\n",
      "INFO:tensorflow:Graph was finalized.\n",
      "INFO:tensorflow:Running local_init_op.\n",
      "INFO:tensorflow:Done running local_init_op.\n",
      "WARNING:tensorflow:From /home/matz/.local/lib/python3.6/site-packages/tensorflow/python/training/monitored_session.py:804: start_queue_runners (from tensorflow.python.training.queue_runner_impl) is deprecated and will be removed in a future version.\n",
      "Instructions for updating:\n",
      "To construct input pipelines, use the `tf.data` module.\n",
      "INFO:tensorflow:Saving checkpoints for 0 into kernel_train/model.ckpt.\n",
      "INFO:tensorflow:loss = 0.6931474, step = 1\n",
      "INFO:tensorflow:global_step/sec: 172.385\n",
      "INFO:tensorflow:loss = 0.06774322, step = 101 (0.581 sec)\n",
      "INFO:tensorflow:global_step/sec: 169.972\n",
      "INFO:tensorflow:loss = 0.04931825, step = 201 (0.588 sec)\n",
      "INFO:tensorflow:global_step/sec: 172.416\n",
      "INFO:tensorflow:loss = 0.039961778, step = 301 (0.580 sec)\n",
      "INFO:tensorflow:global_step/sec: 169.731\n",
      "INFO:tensorflow:loss = 0.06250293, step = 401 (0.589 sec)\n",
      "INFO:tensorflow:global_step/sec: 168.024\n",
      "INFO:tensorflow:loss = 0.032369383, step = 501 (0.596 sec)\n",
      "INFO:tensorflow:global_step/sec: 170.872\n",
      "INFO:tensorflow:loss = 0.054284513, step = 601 (0.585 sec)\n",
      "INFO:tensorflow:global_step/sec: 164.49\n",
      "INFO:tensorflow:loss = 0.06848121, step = 701 (0.608 sec)\n",
      "INFO:tensorflow:global_step/sec: 124.178\n",
      "INFO:tensorflow:loss = 0.03583873, step = 801 (0.807 sec)\n",
      "INFO:tensorflow:global_step/sec: 143.786\n",
      "INFO:tensorflow:loss = 0.05299636, step = 901 (0.694 sec)\n",
      "INFO:tensorflow:global_step/sec: 172.74\n",
      "INFO:tensorflow:loss = 0.023277981, step = 1001 (0.579 sec)\n",
      "INFO:tensorflow:global_step/sec: 175.694\n",
      "INFO:tensorflow:loss = 0.035350747, step = 1101 (0.569 sec)\n",
      "INFO:tensorflow:global_step/sec: 176.681\n",
      "INFO:tensorflow:loss = 0.052705124, step = 1201 (0.566 sec)\n",
      "INFO:tensorflow:global_step/sec: 174.098\n",
      "INFO:tensorflow:loss = 0.02413598, step = 1301 (0.574 sec)\n",
      "INFO:tensorflow:global_step/sec: 151.779\n",
      "INFO:tensorflow:loss = 0.054515276, step = 1401 (0.659 sec)\n",
      "INFO:tensorflow:global_step/sec: 131.209\n",
      "INFO:tensorflow:loss = 0.02556604, step = 1501 (0.761 sec)\n",
      "INFO:tensorflow:global_step/sec: 157.279\n",
      "INFO:tensorflow:loss = 0.041588124, step = 1601 (0.636 sec)\n",
      "INFO:tensorflow:global_step/sec: 143.516\n",
      "INFO:tensorflow:loss = 0.017058948, step = 1701 (0.697 sec)\n",
      "INFO:tensorflow:global_step/sec: 135.779\n",
      "INFO:tensorflow:loss = 0.031574063, step = 1801 (0.737 sec)\n",
      "INFO:tensorflow:global_step/sec: 145.825\n",
      "INFO:tensorflow:loss = 0.027208226, step = 1901 (0.686 sec)\n",
      "INFO:tensorflow:global_step/sec: 125.566\n",
      "INFO:tensorflow:loss = 0.022725483, step = 2001 (0.797 sec)\n",
      "INFO:tensorflow:global_step/sec: 139.136\n",
      "INFO:tensorflow:loss = 0.009095885, step = 2101 (0.718 sec)\n",
      "INFO:tensorflow:global_step/sec: 145.348\n",
      "INFO:tensorflow:loss = 0.019928178, step = 2201 (0.688 sec)\n",
      "INFO:tensorflow:global_step/sec: 141.8\n",
      "INFO:tensorflow:loss = 0.02488131, step = 2301 (0.705 sec)\n",
      "INFO:tensorflow:global_step/sec: 179.657\n",
      "INFO:tensorflow:loss = 0.035615552, step = 2401 (0.556 sec)\n",
      "INFO:tensorflow:global_step/sec: 175.229\n",
      "INFO:tensorflow:loss = 0.05633682, step = 2501 (0.571 sec)\n",
      "INFO:tensorflow:global_step/sec: 176.887\n",
      "INFO:tensorflow:loss = 0.035641786, step = 2601 (0.566 sec)\n",
      "INFO:tensorflow:global_step/sec: 173.35\n",
      "INFO:tensorflow:loss = 0.016747275, step = 2701 (0.577 sec)\n",
      "INFO:tensorflow:global_step/sec: 172.691\n",
      "INFO:tensorflow:loss = 0.023115328, step = 2801 (0.579 sec)\n",
      "INFO:tensorflow:global_step/sec: 175.837\n",
      "INFO:tensorflow:loss = 0.01778893, step = 2901 (0.569 sec)\n",
      "INFO:tensorflow:global_step/sec: 176.442\n",
      "INFO:tensorflow:loss = 0.0071276454, step = 3001 (0.567 sec)\n",
      "INFO:tensorflow:global_step/sec: 174.201\n",
      "INFO:tensorflow:loss = 0.020075573, step = 3101 (0.574 sec)\n",
      "INFO:tensorflow:global_step/sec: 173.668\n",
      "INFO:tensorflow:loss = 0.05842883, step = 3201 (0.576 sec)\n",
      "INFO:tensorflow:global_step/sec: 175.187\n",
      "INFO:tensorflow:loss = 0.04770126, step = 3301 (0.571 sec)\n",
      "INFO:tensorflow:global_step/sec: 173.753\n",
      "INFO:tensorflow:loss = 0.007462564, step = 3401 (0.576 sec)\n",
      "INFO:tensorflow:global_step/sec: 175.763\n",
      "INFO:tensorflow:loss = 0.01632738, step = 3501 (0.569 sec)\n",
      "INFO:tensorflow:global_step/sec: 174.094\n",
      "INFO:tensorflow:loss = 0.014100257, step = 3601 (0.574 sec)\n",
      "INFO:tensorflow:global_step/sec: 175.95\n",
      "INFO:tensorflow:loss = 0.034871425, step = 3701 (0.569 sec)\n",
      "INFO:tensorflow:global_step/sec: 174.808\n",
      "INFO:tensorflow:loss = 0.017368942, step = 3801 (0.572 sec)\n",
      "INFO:tensorflow:global_step/sec: 175.395\n",
      "INFO:tensorflow:loss = 0.01168266, step = 3901 (0.570 sec)\n",
      "INFO:tensorflow:global_step/sec: 175.262\n",
      "INFO:tensorflow:loss = 0.03382099, step = 4001 (0.571 sec)\n",
      "INFO:tensorflow:global_step/sec: 175.481\n",
      "INFO:tensorflow:loss = 0.011986699, step = 4101 (0.570 sec)\n",
      "INFO:tensorflow:global_step/sec: 176.75\n",
      "INFO:tensorflow:loss = 0.011549412, step = 4201 (0.566 sec)\n",
      "INFO:tensorflow:global_step/sec: 175.226\n",
      "INFO:tensorflow:loss = 0.006271463, step = 4301 (0.571 sec)\n",
      "INFO:tensorflow:global_step/sec: 173.94\n",
      "INFO:tensorflow:loss = 0.016636563, step = 4401 (0.575 sec)\n",
      "INFO:tensorflow:global_step/sec: 175.439\n",
      "INFO:tensorflow:loss = 0.015377245, step = 4501 (0.570 sec)\n",
      "INFO:tensorflow:global_step/sec: 176.983\n",
      "INFO:tensorflow:loss = 0.008717975, step = 4601 (0.565 sec)\n",
      "INFO:tensorflow:global_step/sec: 177.258\n",
      "INFO:tensorflow:loss = 0.008344294, step = 4701 (0.564 sec)\n",
      "INFO:tensorflow:global_step/sec: 176.334\n",
      "INFO:tensorflow:loss = 0.017307077, step = 4801 (0.567 sec)\n",
      "INFO:tensorflow:global_step/sec: 175.471\n",
      "INFO:tensorflow:loss = 0.015370524, step = 4901 (0.570 sec)\n",
      "INFO:tensorflow:global_step/sec: 174.82\n",
      "INFO:tensorflow:loss = 0.006260577, step = 5001 (0.572 sec)\n",
      "INFO:tensorflow:global_step/sec: 175.246\n",
      "INFO:tensorflow:loss = 0.01427193, step = 5101 (0.571 sec)\n",
      "INFO:tensorflow:global_step/sec: 175.421\n",
      "INFO:tensorflow:loss = 0.0111038005, step = 5201 (0.570 sec)\n",
      "INFO:tensorflow:global_step/sec: 175.908\n",
      "INFO:tensorflow:loss = 0.037259683, step = 5301 (0.569 sec)\n",
      "INFO:tensorflow:global_step/sec: 178.818\n",
      "INFO:tensorflow:loss = 0.02798832, step = 5401 (0.559 sec)\n",
      "INFO:tensorflow:global_step/sec: 176.057\n",
      "INFO:tensorflow:loss = 0.04554977, step = 5501 (0.568 sec)\n",
      "INFO:tensorflow:global_step/sec: 175.227\n",
      "INFO:tensorflow:loss = 0.018733965, step = 5601 (0.571 sec)\n",
      "INFO:tensorflow:global_step/sec: 180.762\n",
      "INFO:tensorflow:loss = 0.0068560634, step = 5701 (0.553 sec)\n",
      "INFO:tensorflow:global_step/sec: 176.117\n",
      "INFO:tensorflow:loss = 0.041043505, step = 5801 (0.568 sec)\n",
      "INFO:tensorflow:global_step/sec: 174.517\n",
      "INFO:tensorflow:loss = 0.08148342, step = 5901 (0.573 sec)\n",
      "INFO:tensorflow:global_step/sec: 174.733\n",
      "INFO:tensorflow:loss = 0.011400421, step = 6001 (0.572 sec)\n",
      "INFO:tensorflow:global_step/sec: 177.918\n",
      "INFO:tensorflow:loss = 0.041536685, step = 6101 (0.562 sec)\n"
     ]
    },
    {
     "name": "stdout",
     "output_type": "stream",
     "text": [
      "INFO:tensorflow:global_step/sec: 175.166\n",
      "INFO:tensorflow:loss = 0.007102204, step = 6201 (0.571 sec)\n",
      "INFO:tensorflow:global_step/sec: 175.657\n",
      "INFO:tensorflow:loss = 0.016482454, step = 6301 (0.570 sec)\n",
      "INFO:tensorflow:global_step/sec: 176.605\n",
      "INFO:tensorflow:loss = 0.010106116, step = 6401 (0.566 sec)\n",
      "INFO:tensorflow:global_step/sec: 176.108\n",
      "INFO:tensorflow:loss = 0.005036248, step = 6501 (0.568 sec)\n",
      "INFO:tensorflow:global_step/sec: 175.026\n",
      "INFO:tensorflow:loss = 0.050187614, step = 6601 (0.571 sec)\n",
      "INFO:tensorflow:global_step/sec: 176.178\n",
      "INFO:tensorflow:loss = 0.008409477, step = 6701 (0.567 sec)\n",
      "INFO:tensorflow:global_step/sec: 177.127\n",
      "INFO:tensorflow:loss = 0.05717142, step = 6801 (0.565 sec)\n",
      "INFO:tensorflow:global_step/sec: 175.071\n",
      "INFO:tensorflow:loss = 0.014912731, step = 6901 (0.571 sec)\n",
      "INFO:tensorflow:global_step/sec: 177.645\n",
      "INFO:tensorflow:loss = 0.0028680053, step = 7001 (0.563 sec)\n",
      "INFO:tensorflow:global_step/sec: 176.595\n",
      "INFO:tensorflow:loss = 0.0042290823, step = 7101 (0.567 sec)\n",
      "INFO:tensorflow:global_step/sec: 175.158\n",
      "INFO:tensorflow:loss = 0.011256354, step = 7201 (0.571 sec)\n",
      "INFO:tensorflow:global_step/sec: 174.747\n",
      "INFO:tensorflow:loss = 0.03200449, step = 7301 (0.573 sec)\n",
      "INFO:tensorflow:global_step/sec: 175.959\n",
      "INFO:tensorflow:loss = 0.035056476, step = 7401 (0.568 sec)\n",
      "INFO:tensorflow:global_step/sec: 176.534\n",
      "INFO:tensorflow:loss = 0.04367251, step = 7501 (0.566 sec)\n",
      "INFO:tensorflow:global_step/sec: 175.739\n",
      "INFO:tensorflow:loss = 0.03666626, step = 7601 (0.569 sec)\n",
      "INFO:tensorflow:global_step/sec: 176.428\n",
      "INFO:tensorflow:loss = 0.045361277, step = 7701 (0.567 sec)\n",
      "INFO:tensorflow:global_step/sec: 175.394\n",
      "INFO:tensorflow:loss = 0.018429108, step = 7801 (0.570 sec)\n",
      "INFO:tensorflow:global_step/sec: 175.856\n",
      "INFO:tensorflow:loss = 0.03778204, step = 7901 (0.569 sec)\n",
      "INFO:tensorflow:global_step/sec: 176.254\n",
      "INFO:tensorflow:loss = 0.0083005885, step = 8001 (0.567 sec)\n",
      "INFO:tensorflow:global_step/sec: 175.187\n",
      "INFO:tensorflow:loss = 0.032549325, step = 8101 (0.571 sec)\n",
      "INFO:tensorflow:global_step/sec: 176.325\n",
      "INFO:tensorflow:loss = 0.0077351164, step = 8201 (0.567 sec)\n",
      "INFO:tensorflow:global_step/sec: 176.138\n",
      "INFO:tensorflow:loss = 0.03941306, step = 8301 (0.568 sec)\n",
      "INFO:tensorflow:global_step/sec: 175.755\n",
      "INFO:tensorflow:loss = 0.012905688, step = 8401 (0.569 sec)\n",
      "INFO:tensorflow:global_step/sec: 174.012\n",
      "INFO:tensorflow:loss = 0.10692438, step = 8501 (0.574 sec)\n",
      "INFO:tensorflow:global_step/sec: 176.828\n",
      "INFO:tensorflow:loss = 0.03553703, step = 8601 (0.566 sec)\n",
      "INFO:tensorflow:global_step/sec: 177.027\n",
      "INFO:tensorflow:loss = 0.010857007, step = 8701 (0.565 sec)\n",
      "INFO:tensorflow:global_step/sec: 176.011\n",
      "INFO:tensorflow:loss = 0.016084114, step = 8801 (0.568 sec)\n",
      "INFO:tensorflow:global_step/sec: 177.597\n",
      "INFO:tensorflow:loss = 0.016323762, step = 8901 (0.563 sec)\n",
      "INFO:tensorflow:global_step/sec: 177.075\n",
      "INFO:tensorflow:loss = 0.014142423, step = 9001 (0.565 sec)\n",
      "INFO:tensorflow:global_step/sec: 175.896\n",
      "INFO:tensorflow:loss = 0.03085375, step = 9101 (0.569 sec)\n",
      "INFO:tensorflow:global_step/sec: 174.521\n",
      "INFO:tensorflow:loss = 0.004934586, step = 9201 (0.573 sec)\n",
      "INFO:tensorflow:global_step/sec: 175.257\n",
      "INFO:tensorflow:loss = 0.012725605, step = 9301 (0.571 sec)\n",
      "INFO:tensorflow:global_step/sec: 175.342\n",
      "INFO:tensorflow:loss = 0.0057298387, step = 9401 (0.570 sec)\n",
      "INFO:tensorflow:global_step/sec: 175.936\n",
      "INFO:tensorflow:loss = 0.017077887, step = 9501 (0.569 sec)\n",
      "INFO:tensorflow:global_step/sec: 176.141\n",
      "INFO:tensorflow:loss = 0.008459788, step = 9601 (0.568 sec)\n",
      "INFO:tensorflow:global_step/sec: 175.798\n",
      "INFO:tensorflow:loss = 0.012521465, step = 9701 (0.569 sec)\n",
      "INFO:tensorflow:global_step/sec: 175.784\n",
      "INFO:tensorflow:loss = 0.03526988, step = 9801 (0.569 sec)\n",
      "INFO:tensorflow:global_step/sec: 174.479\n",
      "INFO:tensorflow:loss = 0.0062297345, step = 9901 (0.573 sec)\n",
      "INFO:tensorflow:Saving checkpoints for 10000 into kernel_train/model.ckpt.\n",
      "INFO:tensorflow:Loss for final step: 0.004322015.\n"
     ]
    },
    {
     "data": {
      "text/plain": [
       "KernelLinearClassifier(params={'head': <tensorflow.contrib.learn.python.learn.estimators.head._BinaryLogisticHead object at 0x7efe105497b8>, 'feature_columns': {_RealValuedColumn(column_name='features_MAPPED', dimension=3000, default_value=None, dtype=tf.float32, normalizer=None)}, 'optimizer': <tensorflow.python.training.ftrl.FtrlOptimizer object at 0x7efe10549470>, 'kernel_mappers': {_RealValuedColumn(column_name='features', dimension=286, default_value=None, dtype=tf.float32, normalizer=None): [<tensorflow.contrib.kernel_methods.python.mappers.random_fourier_features.RandomFourierFeatureMapper object at 0x7efe10549390>]}})"
      ]
     },
     "execution_count": 58,
     "metadata": {},
     "output_type": "execute_result"
    }
   ],
   "source": [
    "estimator_kernel.fit(input_fn=train_input_fn, steps=10000)"
   ]
  },
  {
   "cell_type": "code",
   "execution_count": 59,
   "metadata": {},
   "outputs": [
    {
     "name": "stdout",
     "output_type": "stream",
     "text": [
      "WARNING:tensorflow:Casting <dtype: 'int64'> labels to bool.\n",
      "WARNING:tensorflow:Casting <dtype: 'int64'> labels to bool.\n",
      "WARNING:tensorflow:Trapezoidal rule is known to produce incorrect PR-AUCs; please switch to \"careful_interpolation\" instead.\n",
      "WARNING:tensorflow:Trapezoidal rule is known to produce incorrect PR-AUCs; please switch to \"careful_interpolation\" instead.\n",
      "INFO:tensorflow:Starting evaluation at 2019-06-02-13:46:47\n",
      "INFO:tensorflow:Graph was finalized.\n",
      "INFO:tensorflow:Restoring parameters from kernel_train/model.ckpt-10000\n",
      "INFO:tensorflow:Running local_init_op.\n",
      "INFO:tensorflow:Done running local_init_op.\n",
      "INFO:tensorflow:Evaluation [1/1]\n",
      "INFO:tensorflow:Finished evaluation at 2019-06-02-13:46:49\n",
      "INFO:tensorflow:Saving dict for global step 10000: accuracy = 0.9441564, accuracy/baseline_label_mean = 0.9510752, accuracy/threshold_0.500000_mean = 0.9441564, auc = 0.86003894, auc_precision_recall = 0.9905815, global_step = 10000, labels/actual_label_mean = 0.9510752, labels/prediction_mean = 0.91492146, loss = 0.16734402, precision/positive_threshold_0.500000_mean = 0.96696365, recall/positive_threshold_0.500000_mean = 0.9745802\n"
     ]
    }
   ],
   "source": [
    "eval_metrics = estimator_kernel.evaluate(input_fn=eval_input_fn, steps=1)"
   ]
  },
  {
   "cell_type": "code",
   "execution_count": 60,
   "metadata": {},
   "outputs": [
    {
     "name": "stdout",
     "output_type": "stream",
     "text": [
      "accuracy: 0.9441564\n",
      "accuracy/baseline_label_mean: 0.9510752\n",
      "accuracy/threshold_0.500000_mean: 0.9441564\n",
      "auc: 0.86003894\n",
      "auc_precision_recall: 0.9905815\n",
      "global_step: 10000\n",
      "labels/actual_label_mean: 0.9510752\n",
      "labels/prediction_mean: 0.91492146\n",
      "loss: 0.16734402\n",
      "precision/positive_threshold_0.500000_mean: 0.96696365\n",
      "recall/positive_threshold_0.500000_mean: 0.9745802\n"
     ]
    }
   ],
   "source": [
    "for key,value in sorted(eval_metrics.items()):\n",
    "  print('%s: %s' % (key, value))"
   ]
  },
  {
   "cell_type": "code",
   "execution_count": 61,
   "metadata": {},
   "outputs": [],
   "source": [
    "correctness = []\n",
    "class_id = []\n",
    "pred_iterator = None"
   ]
  },
  {
   "cell_type": "code",
   "execution_count": 62,
   "metadata": {},
   "outputs": [
    {
     "name": "stdout",
     "output_type": "stream",
     "text": [
      "INFO:tensorflow:Graph was finalized.\n",
      "INFO:tensorflow:Restoring parameters from kernel_train/model.ckpt-10000\n",
      "INFO:tensorflow:Running local_init_op.\n",
      "INFO:tensorflow:Done running local_init_op.\n"
     ]
    }
   ],
   "source": [
    "pred_iterator = estimator_kernel.predict(input_fn = test_input_fn)"
   ]
  },
  {
   "cell_type": "code",
   "execution_count": 63,
   "metadata": {},
   "outputs": [],
   "source": [
    "for pred_dict in pred_iterator:\n",
    "    class_id.append(pred_dict['classes'])\n",
    "    #print(pred_dict)"
   ]
  },
  {
   "cell_type": "code",
   "execution_count": 64,
   "metadata": {},
   "outputs": [
    {
     "name": "stdout",
     "output_type": "stream",
     "text": [
      "Algorithm: RFFM         Accuracy: 0.96544, F1-score: 0.98039, Precision: 0.96932, Recall: 0.99171, FPR: 0.21199, FNR: 0.00829\n",
      "TN: 6390; FP: 1719; FN:  454; TP: 54309\n",
      "\n"
     ]
    }
   ],
   "source": [
    "name = \"RFFM\"\n",
    "\n",
    "Acc[name] = metrics.accuracy_score(y_test, class_id)\n",
    "F1S[name] = metrics.f1_score(y_test, class_id)\n",
    "Prec[name] = metrics.precision_score(y_test, class_id)\n",
    "Rec[name] = metrics.recall_score(y_test, class_id)\n",
    "tn, fp, fn, tp = metrics.confusion_matrix(y_test, class_id).ravel()\n",
    "FPR[name] = fp/(fp+tn)\n",
    "FNR[name] = fn/(tp+fn)\n",
    "\n",
    "print(\"Algorithm: {0:12} Accuracy: {1:.5f}, F1-score: {2:.5f}, Precision: {3:.5f}, Recall: {4:.5f}, FPR: {5:.5f}, FNR: {6:.5f}\".format(name, Acc[name], F1S[name], Prec[name], Rec[name], FPR[name], FNR[name]))\n",
    "print(\"TN: {0:3}; FP: {1:3}; FN: {2:4}; TP: {3:3}\\n\".format(tn, fp, fn, tp))"
   ]
  },
  {
   "cell_type": "markdown",
   "metadata": {},
   "source": [
    "# Neural network part"
   ]
  },
  {
   "cell_type": "code",
   "execution_count": 65,
   "metadata": {},
   "outputs": [],
   "source": [
    "import collections\n",
    "import io\n",
    "import math\n",
    "import tensorflow as tf\n",
    "from IPython import display"
   ]
  },
  {
   "cell_type": "code",
   "execution_count": 66,
   "metadata": {},
   "outputs": [],
   "source": [
    "deep_numeric_feat = [\"Same_srv_rate\", \"Serror_rate\", \"Srv_serror_rate\", \"Dst_host_count\", \"Dst_host_srv_count\", \"Dst_host_same_src_port_rate\", \"Dst_host_serror_rate\", \"Dst_host_srv_serror_rate\", \"well_known_src_pool\", \"registered_src_pool\", \"cli_src_pool\"]\n",
    "wide_numeric_feat = [\"conn_len\",  \"src_bytes\", \"dst_bytes\", \"conn_numb\"]\n",
    "categorical_feat = [\"service\", \"Conn_state\", \"src_port\", \"dst_port\", \"proto\"]"
   ]
  },
  {
   "cell_type": "code",
   "execution_count": 67,
   "metadata": {},
   "outputs": [],
   "source": [
    "deep_numeric_feat_tf = [tf.feature_column.numeric_column(k) for k in deep_numeric_feat]\n",
    "wide_numeric_feat_tf = [tf.feature_column.numeric_column(k) for k in wide_numeric_feat]"
   ]
  },
  {
   "cell_type": "code",
   "execution_count": 68,
   "metadata": {},
   "outputs": [],
   "source": [
    "src_port_mod = [\"src_\" + s for s in data[\"src_port\"].unique().tolist()]\n",
    "src_port = tf.feature_column.categorical_column_with_vocabulary_list(\n",
    "    'src_port', src_port_mod)\n",
    "\n",
    "dst_port_mod = [\"dst_\" + s for s in data[\"dst_port\"].unique().tolist()]\n",
    "dst_port = tf.feature_column.categorical_column_with_vocabulary_list(\n",
    "    'dst_port', dst_port_mod)\n",
    "\n",
    "service = tf.feature_column.categorical_column_with_vocabulary_list(\n",
    "    'service', data[\"service\"].unique().tolist())\n",
    "\n",
    "Conn_state = tf.feature_column.categorical_column_with_vocabulary_list(\n",
    "    'Conn_state', data[\"Conn_state\"].unique().tolist())\n",
    "\n",
    "proto = tf.feature_column.categorical_column_with_vocabulary_list(\n",
    "    'proto', data[\"proto\"].unique().tolist())"
   ]
  },
  {
   "cell_type": "code",
   "execution_count": 69,
   "metadata": {},
   "outputs": [],
   "source": [
    "deep_columns = [\n",
    "    tf.feature_column.indicator_column(service),\n",
    "    tf.feature_column.indicator_column(Conn_state),\n",
    "    tf.feature_column.indicator_column(proto),\n",
    "    tf.feature_column.embedding_column(src_port, dimension=10),\n",
    "    tf.feature_column.embedding_column(dst_port, dimension=6),\n",
    "]"
   ]
  },
  {
   "cell_type": "code",
   "execution_count": 70,
   "metadata": {},
   "outputs": [],
   "source": [
    "crossed_columns = [\n",
    "      tf.feature_column.crossed_column(\n",
    "          ['src_port', 'service'], hash_bucket_size=5000),\n",
    "      tf.feature_column.crossed_column(\n",
    "          ['dst_port', 'service'], hash_bucket_size=10000),\n",
    "      tf.feature_column.crossed_column(\n",
    "          ['conn_len', 'src_bytes'], hash_bucket_size=10000),\n",
    "      tf.feature_column.crossed_column(\n",
    "          ['conn_len', 'dst_bytes'], hash_bucket_size=10000),\n",
    "      tf.feature_column.crossed_column(\n",
    "          ['dst_port', 'conn_numb'], hash_bucket_size=10000),  \n",
    "      tf.feature_column.crossed_column(\n",
    "          ['service', 'proto'], hash_bucket_size=1000),\n",
    "    \n",
    "  ]"
   ]
  },
  {
   "cell_type": "code",
   "execution_count": 71,
   "metadata": {},
   "outputs": [],
   "source": [
    "! rm -r NN_model2"
   ]
  },
  {
   "cell_type": "code",
   "execution_count": 72,
   "metadata": {},
   "outputs": [
    {
     "name": "stdout",
     "output_type": "stream",
     "text": [
      "INFO:tensorflow:Using default config.\n",
      "INFO:tensorflow:Using config: {'_model_dir': '/home/matz/Desktop/ml_ids/NN_model2', '_tf_random_seed': None, '_save_summary_steps': 100, '_save_checkpoints_steps': None, '_save_checkpoints_secs': 600, '_session_config': allow_soft_placement: true\n",
      "graph_options {\n",
      "  rewrite_options {\n",
      "    meta_optimizer_iterations: ONE\n",
      "  }\n",
      "}\n",
      ", '_keep_checkpoint_max': 5, '_keep_checkpoint_every_n_hours': 10000, '_log_step_count_steps': 100, '_train_distribute': None, '_device_fn': None, '_protocol': None, '_eval_distribute': None, '_experimental_distribute': None, '_service': None, '_cluster_spec': <tensorflow.python.training.server_lib.ClusterSpec object at 0x7efe083a8828>, '_task_type': 'worker', '_task_id': 0, '_global_id_in_cluster': 0, '_master': '', '_evaluation_master': '', '_is_chief': True, '_num_ps_replicas': 0, '_num_worker_replicas': 1}\n"
     ]
    }
   ],
   "source": [
    "NN_model = tf.estimator.DNNLinearCombinedClassifier(\n",
    "    model_dir = \"/home/matz/Desktop/ml_ids/NN_model2\",\n",
    "    #linear_optimizer = tf.train.FtrlOptimizer(learning_rate=3, l2_regularization_strength=0.001),\n",
    "    linear_feature_columns = deep_columns + deep_numeric_feat_tf + wide_numeric_feat_tf + crossed_columns,\n",
    "    dnn_activation_fn=tf.nn.selu,\n",
    "    dnn_feature_columns = deep_columns + deep_numeric_feat_tf + wide_numeric_feat_tf,\n",
    "    dnn_hidden_units = [2048, 1024]\n",
    ")"
   ]
  },
  {
   "cell_type": "code",
   "execution_count": 73,
   "metadata": {},
   "outputs": [],
   "source": [
    "feature_set= deep_numeric_feat + wide_numeric_feat + categorical_feat"
   ]
  },
  {
   "cell_type": "code",
   "execution_count": 74,
   "metadata": {},
   "outputs": [],
   "source": [
    "def get_input_fn(data_set, num_epochs=None, n_batch = 256, shuffle=True):\n",
    "    return tf.estimator.inputs.pandas_input_fn(\n",
    "       x=pd.DataFrame({k: data_set[k].values for k in feature_set}),\n",
    "       y = pd.Series(data_set[\"attack_flag\"].values),\n",
    "       batch_size=n_batch,   \n",
    "       num_epochs=num_epochs,\n",
    "       shuffle=shuffle)"
   ]
  },
  {
   "cell_type": "code",
   "execution_count": 75,
   "metadata": {},
   "outputs": [
    {
     "name": "stdout",
     "output_type": "stream",
     "text": [
      "INFO:tensorflow:Calling model_fn.\n",
      "WARNING:tensorflow:From /home/matz/.local/lib/python3.6/site-packages/tensorflow/python/ops/sparse_ops.py:1165: sparse_to_dense (from tensorflow.python.ops.sparse_ops) is deprecated and will be removed in a future version.\n",
      "Instructions for updating:\n",
      "Create a `tf.sparse.SparseTensor` and use `tf.sparse.to_dense` instead.\n",
      "INFO:tensorflow:Done calling model_fn.\n",
      "INFO:tensorflow:Create CheckpointSaverHook.\n",
      "INFO:tensorflow:Graph was finalized.\n",
      "INFO:tensorflow:Running local_init_op.\n",
      "INFO:tensorflow:Done running local_init_op.\n",
      "INFO:tensorflow:Saving checkpoints for 0 into /home/matz/Desktop/ml_ids/NN_model2/model.ckpt.\n",
      "INFO:tensorflow:loss = 150.40309, step = 1\n",
      "INFO:tensorflow:global_step/sec: 35.4275\n",
      "INFO:tensorflow:loss = 23.289627, step = 101 (2.823 sec)\n",
      "INFO:tensorflow:global_step/sec: 35.6106\n",
      "INFO:tensorflow:loss = 528.525, step = 201 (2.808 sec)\n",
      "INFO:tensorflow:global_step/sec: 36.9216\n",
      "INFO:tensorflow:loss = 0.18327197, step = 301 (2.709 sec)\n",
      "INFO:tensorflow:global_step/sec: 41.7795\n",
      "INFO:tensorflow:loss = 0.1338048, step = 401 (2.393 sec)\n",
      "INFO:tensorflow:global_step/sec: 40.7458\n",
      "INFO:tensorflow:loss = 0.15436889, step = 501 (2.454 sec)\n",
      "INFO:tensorflow:global_step/sec: 38.6151\n",
      "INFO:tensorflow:loss = 0.07584369, step = 601 (2.590 sec)\n",
      "INFO:tensorflow:global_step/sec: 39.3946\n",
      "INFO:tensorflow:loss = 11.984119, step = 701 (2.538 sec)\n",
      "INFO:tensorflow:global_step/sec: 42.0722\n",
      "INFO:tensorflow:loss = 17.763042, step = 801 (2.377 sec)\n",
      "INFO:tensorflow:global_step/sec: 41.9292\n",
      "INFO:tensorflow:loss = 5.4882617, step = 901 (2.385 sec)\n",
      "INFO:tensorflow:global_step/sec: 41.9995\n",
      "INFO:tensorflow:loss = 8.543389, step = 1001 (2.381 sec)\n",
      "INFO:tensorflow:global_step/sec: 41.8351\n",
      "INFO:tensorflow:loss = 41.311653, step = 1101 (2.390 sec)\n",
      "INFO:tensorflow:global_step/sec: 42.6149\n",
      "INFO:tensorflow:loss = 2.5338142, step = 1201 (2.347 sec)\n",
      "INFO:tensorflow:global_step/sec: 42.5757\n",
      "INFO:tensorflow:loss = 4.6555204, step = 1301 (2.349 sec)\n",
      "INFO:tensorflow:global_step/sec: 42.3684\n",
      "INFO:tensorflow:loss = 43.26453, step = 1401 (2.360 sec)\n",
      "INFO:tensorflow:global_step/sec: 41.4977\n",
      "INFO:tensorflow:loss = 9.917502, step = 1501 (2.410 sec)\n",
      "INFO:tensorflow:global_step/sec: 42.3128\n",
      "INFO:tensorflow:loss = 15.178122, step = 1601 (2.363 sec)\n",
      "INFO:tensorflow:global_step/sec: 41.8719\n",
      "INFO:tensorflow:loss = 11.740325, step = 1701 (2.388 sec)\n",
      "INFO:tensorflow:global_step/sec: 42.0533\n",
      "INFO:tensorflow:loss = 15.039246, step = 1801 (2.378 sec)\n",
      "INFO:tensorflow:global_step/sec: 42.3585\n",
      "INFO:tensorflow:loss = 4.1028533, step = 1901 (2.361 sec)\n",
      "INFO:tensorflow:global_step/sec: 42.2291\n",
      "INFO:tensorflow:loss = 0.91749644, step = 2001 (2.368 sec)\n",
      "INFO:tensorflow:global_step/sec: 42.0727\n",
      "INFO:tensorflow:loss = 4.236745, step = 2101 (2.377 sec)\n",
      "INFO:tensorflow:global_step/sec: 42.226\n",
      "INFO:tensorflow:loss = 0.2637845, step = 2201 (2.368 sec)\n",
      "INFO:tensorflow:global_step/sec: 42.0736\n",
      "INFO:tensorflow:loss = 0.872591, step = 2301 (2.377 sec)\n",
      "INFO:tensorflow:global_step/sec: 42.1408\n",
      "INFO:tensorflow:loss = 6.464107, step = 2401 (2.373 sec)\n",
      "INFO:tensorflow:global_step/sec: 42.4549\n",
      "INFO:tensorflow:loss = 0.32780373, step = 2501 (2.356 sec)\n",
      "INFO:tensorflow:global_step/sec: 41.9698\n",
      "INFO:tensorflow:loss = 9.760408, step = 2601 (2.382 sec)\n",
      "INFO:tensorflow:global_step/sec: 42.2754\n",
      "INFO:tensorflow:loss = 14.38494, step = 2701 (2.366 sec)\n",
      "INFO:tensorflow:global_step/sec: 42.0077\n",
      "INFO:tensorflow:loss = 0.48577216, step = 2801 (2.381 sec)\n",
      "INFO:tensorflow:global_step/sec: 42.0082\n",
      "INFO:tensorflow:loss = 5.687166, step = 2901 (2.380 sec)\n",
      "INFO:tensorflow:global_step/sec: 41.8806\n",
      "INFO:tensorflow:loss = 2.0563283, step = 3001 (2.388 sec)\n",
      "INFO:tensorflow:global_step/sec: 42.2915\n",
      "INFO:tensorflow:loss = 10.408106, step = 3101 (2.365 sec)\n",
      "INFO:tensorflow:global_step/sec: 42.1748\n",
      "INFO:tensorflow:loss = 2.3746412, step = 3201 (2.371 sec)\n",
      "INFO:tensorflow:global_step/sec: 42.1052\n",
      "INFO:tensorflow:loss = 8.25437, step = 3301 (2.375 sec)\n",
      "INFO:tensorflow:global_step/sec: 41.7615\n",
      "INFO:tensorflow:loss = 0.41545397, step = 3401 (2.395 sec)\n",
      "INFO:tensorflow:global_step/sec: 41.6677\n",
      "INFO:tensorflow:loss = 1.0690075, step = 3501 (2.400 sec)\n",
      "INFO:tensorflow:global_step/sec: 42.437\n",
      "INFO:tensorflow:loss = 0.66869, step = 3601 (2.356 sec)\n",
      "INFO:tensorflow:global_step/sec: 42.3874\n",
      "INFO:tensorflow:loss = 1.9575797, step = 3701 (2.359 sec)\n",
      "INFO:tensorflow:global_step/sec: 41.8832\n",
      "INFO:tensorflow:loss = 2.5506835, step = 3801 (2.387 sec)\n",
      "INFO:tensorflow:global_step/sec: 42.1558\n",
      "INFO:tensorflow:loss = 0.18512526, step = 3901 (2.372 sec)\n",
      "INFO:tensorflow:global_step/sec: 42.1159\n",
      "INFO:tensorflow:loss = 11.405421, step = 4001 (2.374 sec)\n",
      "INFO:tensorflow:global_step/sec: 42.3552\n",
      "INFO:tensorflow:loss = 0.5813914, step = 4101 (2.361 sec)\n",
      "INFO:tensorflow:global_step/sec: 42.433\n",
      "INFO:tensorflow:loss = 4.1366787, step = 4201 (2.357 sec)\n",
      "INFO:tensorflow:global_step/sec: 42.2633\n",
      "INFO:tensorflow:loss = 1.7643337, step = 4301 (2.366 sec)\n",
      "INFO:tensorflow:global_step/sec: 42.4085\n",
      "INFO:tensorflow:loss = 2.5851254, step = 4401 (2.358 sec)\n",
      "INFO:tensorflow:global_step/sec: 42.4755\n",
      "INFO:tensorflow:loss = 2.9168081, step = 4501 (2.354 sec)\n",
      "INFO:tensorflow:global_step/sec: 41.7764\n",
      "INFO:tensorflow:loss = 3.1265361, step = 4601 (2.394 sec)\n",
      "INFO:tensorflow:global_step/sec: 42.0127\n",
      "INFO:tensorflow:loss = 8.084508, step = 4701 (2.380 sec)\n",
      "INFO:tensorflow:global_step/sec: 42.1048\n",
      "INFO:tensorflow:loss = 2.2917466, step = 4801 (2.375 sec)\n",
      "INFO:tensorflow:global_step/sec: 41.8435\n",
      "INFO:tensorflow:loss = 9.10421, step = 4901 (2.390 sec)\n",
      "INFO:tensorflow:global_step/sec: 42.3257\n",
      "INFO:tensorflow:loss = 10.596175, step = 5001 (2.363 sec)\n",
      "INFO:tensorflow:global_step/sec: 42.3212\n",
      "INFO:tensorflow:loss = 6.2547717, step = 5101 (2.363 sec)\n",
      "INFO:tensorflow:global_step/sec: 40.7628\n",
      "INFO:tensorflow:loss = 0.4485288, step = 5201 (2.453 sec)\n",
      "INFO:tensorflow:global_step/sec: 41.6336\n",
      "INFO:tensorflow:loss = 13.556933, step = 5301 (2.402 sec)\n",
      "INFO:tensorflow:global_step/sec: 41.5891\n",
      "INFO:tensorflow:loss = 2.5288568, step = 5401 (2.404 sec)\n",
      "INFO:tensorflow:global_step/sec: 42.0701\n",
      "INFO:tensorflow:loss = 3.433443, step = 5501 (2.377 sec)\n",
      "INFO:tensorflow:global_step/sec: 42.2744\n",
      "INFO:tensorflow:loss = 0.16219094, step = 5601 (2.365 sec)\n",
      "INFO:tensorflow:global_step/sec: 42.2991\n",
      "INFO:tensorflow:loss = 1.6005783, step = 5701 (2.364 sec)\n",
      "INFO:tensorflow:global_step/sec: 42.019\n",
      "INFO:tensorflow:loss = 9.007189, step = 5801 (2.380 sec)\n",
      "INFO:tensorflow:global_step/sec: 42.2253\n",
      "INFO:tensorflow:loss = 5.0945244, step = 5901 (2.368 sec)\n",
      "INFO:tensorflow:global_step/sec: 41.9642\n",
      "INFO:tensorflow:loss = 1.7697774, step = 6001 (2.383 sec)\n",
      "INFO:tensorflow:global_step/sec: 42.3112\n",
      "INFO:tensorflow:loss = 4.175537, step = 6101 (2.363 sec)\n",
      "INFO:tensorflow:global_step/sec: 42.4389\n",
      "INFO:tensorflow:loss = 0.9591157, step = 6201 (2.356 sec)\n",
      "INFO:tensorflow:global_step/sec: 41.9157\n",
      "INFO:tensorflow:loss = 8.643381, step = 6301 (2.386 sec)\n",
      "INFO:tensorflow:global_step/sec: 41.9744\n",
      "INFO:tensorflow:loss = 1.4125763, step = 6401 (2.382 sec)\n",
      "INFO:tensorflow:global_step/sec: 42.0791\n",
      "INFO:tensorflow:loss = 10.88002, step = 6501 (2.377 sec)\n",
      "INFO:tensorflow:global_step/sec: 42.0553\n",
      "INFO:tensorflow:loss = 50.716175, step = 6601 (2.378 sec)\n",
      "INFO:tensorflow:global_step/sec: 42.147\n",
      "INFO:tensorflow:loss = 1.4042488, step = 6701 (2.373 sec)\n",
      "INFO:tensorflow:global_step/sec: 42.4031\n",
      "INFO:tensorflow:loss = 0.582645, step = 6801 (2.358 sec)\n",
      "INFO:tensorflow:global_step/sec: 42.1306\n",
      "INFO:tensorflow:loss = 0.9947022, step = 6901 (2.374 sec)\n",
      "INFO:tensorflow:global_step/sec: 42.0782\n",
      "INFO:tensorflow:loss = 0.4268012, step = 7001 (2.377 sec)\n",
      "INFO:tensorflow:global_step/sec: 42.2521\n",
      "INFO:tensorflow:loss = 0.8532767, step = 7101 (2.367 sec)\n",
      "INFO:tensorflow:global_step/sec: 42.0703\n",
      "INFO:tensorflow:loss = 43.824413, step = 7201 (2.377 sec)\n",
      "INFO:tensorflow:global_step/sec: 42.3197\n",
      "INFO:tensorflow:loss = 14.413643, step = 7301 (2.363 sec)\n",
      "INFO:tensorflow:global_step/sec: 41.9632\n",
      "INFO:tensorflow:loss = 2.0029345, step = 7401 (2.383 sec)\n",
      "INFO:tensorflow:global_step/sec: 42.1749\n",
      "INFO:tensorflow:loss = 1.4532483, step = 7501 (2.371 sec)\n",
      "INFO:tensorflow:global_step/sec: 41.9729\n",
      "INFO:tensorflow:loss = 6.4108334, step = 7601 (2.382 sec)\n",
      "INFO:tensorflow:global_step/sec: 42.1034\n"
     ]
    },
    {
     "name": "stdout",
     "output_type": "stream",
     "text": [
      "INFO:tensorflow:loss = 12.784879, step = 7701 (2.375 sec)\n",
      "INFO:tensorflow:global_step/sec: 41.9278\n",
      "INFO:tensorflow:loss = 15.3717575, step = 7801 (2.385 sec)\n",
      "INFO:tensorflow:global_step/sec: 42.3821\n",
      "INFO:tensorflow:loss = 4.8079042, step = 7901 (2.360 sec)\n",
      "INFO:tensorflow:global_step/sec: 42.0518\n",
      "INFO:tensorflow:loss = 4.521854, step = 8001 (2.378 sec)\n",
      "INFO:tensorflow:global_step/sec: 42.2453\n",
      "INFO:tensorflow:loss = 13.7012, step = 8101 (2.367 sec)\n",
      "INFO:tensorflow:global_step/sec: 42.0523\n",
      "INFO:tensorflow:loss = 13.195492, step = 8201 (2.378 sec)\n",
      "INFO:tensorflow:global_step/sec: 42.2326\n",
      "INFO:tensorflow:loss = 0.54201156, step = 8301 (2.368 sec)\n",
      "INFO:tensorflow:global_step/sec: 41.8977\n",
      "INFO:tensorflow:loss = 0.17181467, step = 8401 (2.387 sec)\n",
      "INFO:tensorflow:global_step/sec: 42.1064\n",
      "INFO:tensorflow:loss = 0.39781192, step = 8501 (2.375 sec)\n",
      "INFO:tensorflow:global_step/sec: 42.2657\n",
      "INFO:tensorflow:loss = 2.4114492, step = 8601 (2.366 sec)\n",
      "INFO:tensorflow:global_step/sec: 42.1017\n",
      "INFO:tensorflow:loss = 0.104330674, step = 8701 (2.375 sec)\n",
      "INFO:tensorflow:global_step/sec: 42.4367\n",
      "INFO:tensorflow:loss = 1.74836, step = 8801 (2.356 sec)\n",
      "INFO:tensorflow:global_step/sec: 41.9402\n",
      "INFO:tensorflow:loss = 8.380539, step = 8901 (2.384 sec)\n",
      "INFO:tensorflow:global_step/sec: 42.1392\n",
      "INFO:tensorflow:loss = 2.2916267, step = 9001 (2.373 sec)\n",
      "INFO:tensorflow:global_step/sec: 41.8738\n",
      "INFO:tensorflow:loss = 1.479167, step = 9101 (2.388 sec)\n",
      "INFO:tensorflow:global_step/sec: 41.9879\n",
      "INFO:tensorflow:loss = 11.448449, step = 9201 (2.382 sec)\n",
      "INFO:tensorflow:global_step/sec: 41.9089\n",
      "INFO:tensorflow:loss = 9.816267, step = 9301 (2.386 sec)\n",
      "INFO:tensorflow:global_step/sec: 42.1656\n",
      "INFO:tensorflow:loss = 21.598186, step = 9401 (2.372 sec)\n",
      "INFO:tensorflow:global_step/sec: 42.3587\n",
      "INFO:tensorflow:loss = 4.226214, step = 9501 (2.361 sec)\n",
      "INFO:tensorflow:global_step/sec: 42.2559\n",
      "INFO:tensorflow:loss = 4.4829936, step = 9601 (2.367 sec)\n",
      "INFO:tensorflow:global_step/sec: 41.9726\n",
      "INFO:tensorflow:loss = 6.2799845, step = 9701 (2.382 sec)\n",
      "INFO:tensorflow:global_step/sec: 42.2546\n",
      "INFO:tensorflow:loss = 2.0186372, step = 9801 (2.367 sec)\n",
      "INFO:tensorflow:global_step/sec: 42.2487\n",
      "INFO:tensorflow:loss = 5.0037026, step = 9901 (2.367 sec)\n",
      "INFO:tensorflow:global_step/sec: 42.0765\n",
      "INFO:tensorflow:loss = 2.0957344, step = 10001 (2.377 sec)\n",
      "INFO:tensorflow:global_step/sec: 42.0984\n",
      "INFO:tensorflow:loss = 1.7079804, step = 10101 (2.375 sec)\n",
      "INFO:tensorflow:global_step/sec: 40.9764\n",
      "INFO:tensorflow:loss = 1.1523832, step = 10201 (2.440 sec)\n",
      "INFO:tensorflow:global_step/sec: 41.1853\n",
      "INFO:tensorflow:loss = 0.7442049, step = 10301 (2.428 sec)\n",
      "INFO:tensorflow:global_step/sec: 41.8076\n",
      "INFO:tensorflow:loss = 0.7233532, step = 10401 (2.392 sec)\n",
      "INFO:tensorflow:global_step/sec: 41.0438\n",
      "INFO:tensorflow:loss = 0.7768763, step = 10501 (2.436 sec)\n",
      "INFO:tensorflow:global_step/sec: 38.887\n",
      "INFO:tensorflow:loss = 2.499082, step = 10601 (2.572 sec)\n",
      "INFO:tensorflow:global_step/sec: 41.9635\n",
      "INFO:tensorflow:loss = 2.3052328, step = 10701 (2.383 sec)\n",
      "INFO:tensorflow:global_step/sec: 42.0063\n",
      "INFO:tensorflow:loss = 3.253301, step = 10801 (2.381 sec)\n",
      "INFO:tensorflow:global_step/sec: 42.1368\n",
      "INFO:tensorflow:loss = 0.86793673, step = 10901 (2.373 sec)\n",
      "INFO:tensorflow:global_step/sec: 41.9153\n",
      "INFO:tensorflow:loss = 8.974861, step = 11001 (2.386 sec)\n",
      "INFO:tensorflow:global_step/sec: 41.8268\n",
      "INFO:tensorflow:loss = 1.1500539, step = 11101 (2.391 sec)\n",
      "INFO:tensorflow:global_step/sec: 41.6899\n",
      "INFO:tensorflow:loss = 2.4868305, step = 11201 (2.398 sec)\n",
      "INFO:tensorflow:global_step/sec: 42.1979\n",
      "INFO:tensorflow:loss = 6.7894893, step = 11301 (2.370 sec)\n",
      "INFO:tensorflow:global_step/sec: 42.133\n",
      "INFO:tensorflow:loss = 5.855828, step = 11401 (2.373 sec)\n",
      "INFO:tensorflow:global_step/sec: 42.4339\n",
      "INFO:tensorflow:loss = 1.3152776, step = 11501 (2.357 sec)\n",
      "INFO:tensorflow:global_step/sec: 41.922\n",
      "INFO:tensorflow:loss = 0.5619295, step = 11601 (2.386 sec)\n",
      "INFO:tensorflow:global_step/sec: 41.8871\n",
      "INFO:tensorflow:loss = 0.22377737, step = 11701 (2.387 sec)\n",
      "INFO:tensorflow:global_step/sec: 42.2251\n",
      "INFO:tensorflow:loss = 0.41958207, step = 11801 (2.368 sec)\n",
      "INFO:tensorflow:global_step/sec: 42.1702\n",
      "INFO:tensorflow:loss = 0.27320644, step = 11901 (2.371 sec)\n",
      "INFO:tensorflow:global_step/sec: 41.9716\n",
      "INFO:tensorflow:loss = 0.9815645, step = 12001 (2.383 sec)\n",
      "INFO:tensorflow:global_step/sec: 42.3367\n",
      "INFO:tensorflow:loss = 0.17447665, step = 12101 (2.362 sec)\n",
      "INFO:tensorflow:global_step/sec: 42.3127\n",
      "INFO:tensorflow:loss = 9.118395, step = 12201 (2.363 sec)\n",
      "INFO:tensorflow:global_step/sec: 42.0457\n",
      "INFO:tensorflow:loss = 48.854965, step = 12301 (2.378 sec)\n",
      "INFO:tensorflow:global_step/sec: 42.3372\n",
      "INFO:tensorflow:loss = 1.4732738, step = 12401 (2.362 sec)\n",
      "INFO:tensorflow:global_step/sec: 42.1341\n",
      "INFO:tensorflow:loss = 7.4247127, step = 12501 (2.373 sec)\n",
      "INFO:tensorflow:global_step/sec: 41.868\n",
      "INFO:tensorflow:loss = 6.2005396, step = 12601 (2.388 sec)\n",
      "INFO:tensorflow:global_step/sec: 42.1246\n",
      "INFO:tensorflow:loss = 9.490419, step = 12701 (2.374 sec)\n",
      "INFO:tensorflow:global_step/sec: 41.7781\n",
      "INFO:tensorflow:loss = 3.061336, step = 12801 (2.394 sec)\n",
      "INFO:tensorflow:global_step/sec: 42.1245\n",
      "INFO:tensorflow:loss = 7.48427, step = 12901 (2.374 sec)\n",
      "INFO:tensorflow:global_step/sec: 41.6912\n",
      "INFO:tensorflow:loss = 5.7792225, step = 13001 (2.398 sec)\n",
      "INFO:tensorflow:global_step/sec: 42.302\n",
      "INFO:tensorflow:loss = 4023.8987, step = 13101 (2.364 sec)\n",
      "INFO:tensorflow:global_step/sec: 41.8815\n",
      "INFO:tensorflow:loss = 0.61081636, step = 13201 (2.388 sec)\n",
      "INFO:tensorflow:global_step/sec: 42.1682\n",
      "INFO:tensorflow:loss = 1.050126, step = 13301 (2.372 sec)\n",
      "INFO:tensorflow:global_step/sec: 42.1677\n",
      "INFO:tensorflow:loss = 0.32993636, step = 13401 (2.371 sec)\n",
      "INFO:tensorflow:global_step/sec: 42.2318\n",
      "INFO:tensorflow:loss = 0.9087542, step = 13501 (2.368 sec)\n",
      "INFO:tensorflow:global_step/sec: 41.5255\n",
      "INFO:tensorflow:loss = 1.5761142, step = 13601 (2.408 sec)\n",
      "INFO:tensorflow:global_step/sec: 41.7828\n",
      "INFO:tensorflow:loss = 4.772649, step = 13701 (2.393 sec)\n",
      "INFO:tensorflow:global_step/sec: 41.9637\n",
      "INFO:tensorflow:loss = 4.6102276, step = 13801 (2.383 sec)\n",
      "INFO:tensorflow:global_step/sec: 41.8437\n",
      "INFO:tensorflow:loss = 7.650162, step = 13901 (2.390 sec)\n",
      "INFO:tensorflow:global_step/sec: 42.0944\n",
      "INFO:tensorflow:loss = 0.68173647, step = 14001 (2.376 sec)\n",
      "INFO:tensorflow:global_step/sec: 41.4232\n",
      "INFO:tensorflow:loss = 2.1952188, step = 14101 (2.414 sec)\n",
      "INFO:tensorflow:global_step/sec: 42.121\n",
      "INFO:tensorflow:loss = 1.4579152, step = 14201 (2.374 sec)\n",
      "INFO:tensorflow:global_step/sec: 41.7831\n",
      "INFO:tensorflow:loss = 10.0419655, step = 14301 (2.393 sec)\n",
      "INFO:tensorflow:global_step/sec: 42.3103\n",
      "INFO:tensorflow:loss = 0.63143, step = 14401 (2.363 sec)\n",
      "INFO:tensorflow:global_step/sec: 42.0456\n",
      "INFO:tensorflow:loss = 9.327388, step = 14501 (2.379 sec)\n",
      "INFO:tensorflow:global_step/sec: 41.7445\n",
      "INFO:tensorflow:loss = 2.3634355, step = 14601 (2.395 sec)\n",
      "INFO:tensorflow:global_step/sec: 41.9911\n",
      "INFO:tensorflow:loss = 2.0018404, step = 14701 (2.381 sec)\n",
      "INFO:tensorflow:global_step/sec: 42.2157\n",
      "INFO:tensorflow:loss = 12.262528, step = 14801 (2.369 sec)\n",
      "INFO:tensorflow:global_step/sec: 42.0542\n",
      "INFO:tensorflow:loss = 0.639078, step = 14901 (2.378 sec)\n",
      "INFO:tensorflow:global_step/sec: 41.7532\n",
      "INFO:tensorflow:loss = 5.5115533, step = 15001 (2.395 sec)\n",
      "INFO:tensorflow:global_step/sec: 42.1947\n",
      "INFO:tensorflow:loss = 1.1158587, step = 15101 (2.370 sec)\n",
      "INFO:tensorflow:global_step/sec: 42.1433\n",
      "INFO:tensorflow:loss = 0.4824305, step = 15201 (2.373 sec)\n",
      "INFO:tensorflow:global_step/sec: 40.8588\n",
      "INFO:tensorflow:loss = 1.3082068, step = 15301 (2.447 sec)\n",
      "INFO:tensorflow:global_step/sec: 42.003\n",
      "INFO:tensorflow:loss = 7.0683193, step = 15401 (2.381 sec)\n",
      "INFO:tensorflow:global_step/sec: 42.3504\n",
      "INFO:tensorflow:loss = 1.0063893, step = 15501 (2.361 sec)\n",
      "INFO:tensorflow:global_step/sec: 42.138\n",
      "INFO:tensorflow:loss = 10.075164, step = 15601 (2.373 sec)\n",
      "INFO:tensorflow:global_step/sec: 42.0668\n",
      "INFO:tensorflow:loss = 14.075065, step = 15701 (2.377 sec)\n",
      "INFO:tensorflow:global_step/sec: 42.016\n",
      "INFO:tensorflow:loss = 6.575711, step = 15801 (2.380 sec)\n",
      "INFO:tensorflow:global_step/sec: 41.9854\n",
      "INFO:tensorflow:loss = 1.4241744, step = 15901 (2.382 sec)\n"
     ]
    },
    {
     "name": "stdout",
     "output_type": "stream",
     "text": [
      "INFO:tensorflow:global_step/sec: 42.0339\n",
      "INFO:tensorflow:loss = 0.9085458, step = 16001 (2.379 sec)\n",
      "INFO:tensorflow:global_step/sec: 42.0441\n",
      "INFO:tensorflow:loss = 7.762355, step = 16101 (2.379 sec)\n",
      "INFO:tensorflow:global_step/sec: 42.0939\n",
      "INFO:tensorflow:loss = 8.077177, step = 16201 (2.375 sec)\n",
      "INFO:tensorflow:global_step/sec: 42.2118\n",
      "INFO:tensorflow:loss = 7.0405035, step = 16301 (2.369 sec)\n",
      "INFO:tensorflow:global_step/sec: 41.7956\n",
      "INFO:tensorflow:loss = 8.332545, step = 16401 (2.393 sec)\n",
      "INFO:tensorflow:global_step/sec: 42.0944\n",
      "INFO:tensorflow:loss = 0.923527, step = 16501 (2.376 sec)\n",
      "INFO:tensorflow:global_step/sec: 41.9279\n",
      "INFO:tensorflow:loss = 1.1139151, step = 16601 (2.385 sec)\n",
      "INFO:tensorflow:global_step/sec: 42.2511\n",
      "INFO:tensorflow:loss = 2.5799525, step = 16701 (2.367 sec)\n",
      "INFO:tensorflow:global_step/sec: 42.2747\n",
      "INFO:tensorflow:loss = 0.25801513, step = 16801 (2.366 sec)\n",
      "INFO:tensorflow:global_step/sec: 42.215\n",
      "INFO:tensorflow:loss = 0.14341141, step = 16901 (2.369 sec)\n",
      "INFO:tensorflow:global_step/sec: 41.9889\n",
      "INFO:tensorflow:loss = 7.0603266, step = 17001 (2.382 sec)\n",
      "INFO:tensorflow:global_step/sec: 41.9845\n",
      "INFO:tensorflow:loss = 13.824728, step = 17101 (2.382 sec)\n",
      "INFO:tensorflow:global_step/sec: 42.3245\n",
      "INFO:tensorflow:loss = 3.1463928, step = 17201 (2.363 sec)\n",
      "INFO:tensorflow:global_step/sec: 42.1748\n",
      "INFO:tensorflow:loss = 5.552393, step = 17301 (2.371 sec)\n",
      "INFO:tensorflow:global_step/sec: 41.9595\n",
      "INFO:tensorflow:loss = 8.5818405, step = 17401 (2.383 sec)\n",
      "INFO:tensorflow:global_step/sec: 42.1542\n",
      "INFO:tensorflow:loss = 9.857346, step = 17501 (2.372 sec)\n",
      "INFO:tensorflow:global_step/sec: 42.2439\n",
      "INFO:tensorflow:loss = 9.087252, step = 17601 (2.367 sec)\n",
      "INFO:tensorflow:global_step/sec: 40.9824\n",
      "INFO:tensorflow:loss = 2.4798315, step = 17701 (2.440 sec)\n",
      "INFO:tensorflow:global_step/sec: 36.3449\n",
      "INFO:tensorflow:loss = 4.9023743, step = 17801 (2.751 sec)\n",
      "INFO:tensorflow:global_step/sec: 42.0351\n",
      "INFO:tensorflow:loss = 11.355284, step = 17901 (2.379 sec)\n",
      "INFO:tensorflow:global_step/sec: 42.0224\n",
      "INFO:tensorflow:loss = 3.3681698, step = 18001 (2.380 sec)\n",
      "INFO:tensorflow:global_step/sec: 42.1762\n",
      "INFO:tensorflow:loss = 1.4591426, step = 18101 (2.371 sec)\n",
      "INFO:tensorflow:global_step/sec: 42.0326\n",
      "INFO:tensorflow:loss = 3.7944508, step = 18201 (2.379 sec)\n",
      "INFO:tensorflow:global_step/sec: 42.3826\n",
      "INFO:tensorflow:loss = 1.4716059, step = 18301 (2.360 sec)\n",
      "INFO:tensorflow:global_step/sec: 42.2061\n",
      "INFO:tensorflow:loss = 5.7464523, step = 18401 (2.369 sec)\n",
      "INFO:tensorflow:global_step/sec: 42.0037\n",
      "INFO:tensorflow:loss = 0.9228257, step = 18501 (2.381 sec)\n",
      "INFO:tensorflow:global_step/sec: 41.9317\n",
      "INFO:tensorflow:loss = 2.422165, step = 18601 (2.385 sec)\n",
      "INFO:tensorflow:global_step/sec: 41.7056\n",
      "INFO:tensorflow:loss = 15.746014, step = 18701 (2.398 sec)\n",
      "INFO:tensorflow:global_step/sec: 42.0483\n",
      "INFO:tensorflow:loss = 0.5198755, step = 18801 (2.379 sec)\n",
      "INFO:tensorflow:global_step/sec: 41.8114\n",
      "INFO:tensorflow:loss = 3.5837848, step = 18901 (2.391 sec)\n",
      "INFO:tensorflow:global_step/sec: 41.9632\n",
      "INFO:tensorflow:loss = 9.935337, step = 19001 (2.383 sec)\n",
      "INFO:tensorflow:global_step/sec: 42.1386\n",
      "INFO:tensorflow:loss = 0.83912206, step = 19101 (2.373 sec)\n",
      "INFO:tensorflow:global_step/sec: 41.6907\n",
      "INFO:tensorflow:loss = 8.892777, step = 19201 (2.399 sec)\n",
      "INFO:tensorflow:global_step/sec: 41.941\n",
      "INFO:tensorflow:loss = 0.4103395, step = 19301 (2.384 sec)\n",
      "INFO:tensorflow:global_step/sec: 41.9982\n",
      "INFO:tensorflow:loss = 5.618704, step = 19401 (2.381 sec)\n",
      "INFO:tensorflow:global_step/sec: 41.9965\n",
      "INFO:tensorflow:loss = 1.6987984, step = 19501 (2.381 sec)\n",
      "INFO:tensorflow:global_step/sec: 41.9629\n",
      "INFO:tensorflow:loss = 4.3139567, step = 19601 (2.383 sec)\n",
      "INFO:tensorflow:global_step/sec: 41.9546\n",
      "INFO:tensorflow:loss = 1.6881676, step = 19701 (2.384 sec)\n",
      "INFO:tensorflow:global_step/sec: 42.2243\n",
      "INFO:tensorflow:loss = 0.17632283, step = 19801 (2.368 sec)\n",
      "INFO:tensorflow:global_step/sec: 42.5153\n",
      "INFO:tensorflow:loss = 0.56439954, step = 19901 (2.352 sec)\n",
      "INFO:tensorflow:Saving checkpoints for 20000 into /home/matz/Desktop/ml_ids/NN_model2/model.ckpt.\n",
      "INFO:tensorflow:Loss for final step: 0.50784445.\n"
     ]
    },
    {
     "data": {
      "text/plain": [
       "<tensorflow.python.estimator.canned.dnn_linear_combined.DNNLinearCombinedClassifier at 0x7efe083a8240>"
      ]
     },
     "execution_count": 75,
     "metadata": {},
     "output_type": "execute_result"
    }
   ],
   "source": [
    "NN_model.train(input_fn=get_input_fn(train_ex, n_batch=180), steps=20000)"
   ]
  },
  {
   "cell_type": "code",
   "execution_count": 76,
   "metadata": {},
   "outputs": [
    {
     "name": "stdout",
     "output_type": "stream",
     "text": [
      "INFO:tensorflow:Calling model_fn.\n",
      "WARNING:tensorflow:Trapezoidal rule is known to produce incorrect PR-AUCs; please switch to \"careful_interpolation\" instead.\n",
      "WARNING:tensorflow:Trapezoidal rule is known to produce incorrect PR-AUCs; please switch to \"careful_interpolation\" instead.\n",
      "INFO:tensorflow:Done calling model_fn.\n",
      "INFO:tensorflow:Starting evaluation at 2019-06-02-13:54:58\n",
      "INFO:tensorflow:Graph was finalized.\n",
      "INFO:tensorflow:Restoring parameters from /home/matz/Desktop/ml_ids/NN_model2/model.ckpt-20000\n",
      "INFO:tensorflow:Running local_init_op.\n",
      "INFO:tensorflow:Done running local_init_op.\n",
      "INFO:tensorflow:Evaluation [1/1]\n",
      "INFO:tensorflow:Finished evaluation at 2019-06-02-13:55:03\n",
      "INFO:tensorflow:Saving dict for global step 20000: accuracy = 0.48942295, accuracy_baseline = 0.9510752, auc = 0.58352685, auc_precision_recall = 0.9713017, average_loss = 7.5538206, global_step = 20000, label/mean = 0.9510752, loss = 474923.8, precision = 0.9869879, prediction/mean = 0.4503035, recall = 0.46934578\n",
      "INFO:tensorflow:Saving 'checkpoint_path' summary for global step 20000: /home/matz/Desktop/ml_ids/NN_model2/model.ckpt-20000\n"
     ]
    }
   ],
   "source": [
    "eval_metrics = NN_model.evaluate(input_fn=get_input_fn(validate_ex, n_batch=validate_ex.shape[0], shuffle=False), steps=1)"
   ]
  },
  {
   "cell_type": "code",
   "execution_count": 77,
   "metadata": {},
   "outputs": [
    {
     "name": "stdout",
     "output_type": "stream",
     "text": [
      "accuracy: 0.48942295\n",
      "accuracy_baseline: 0.9510752\n",
      "auc: 0.58352685\n",
      "auc_precision_recall: 0.9713017\n",
      "average_loss: 7.5538206\n",
      "global_step: 20000\n",
      "label/mean: 0.9510752\n",
      "loss: 474923.8\n",
      "precision: 0.9869879\n",
      "prediction/mean: 0.4503035\n",
      "recall: 0.46934578\n"
     ]
    }
   ],
   "source": [
    "for key,value in sorted(eval_metrics.items()):\n",
    "  print('%s: %s' % (key, value))"
   ]
  },
  {
   "cell_type": "code",
   "execution_count": 78,
   "metadata": {},
   "outputs": [
    {
     "name": "stdout",
     "output_type": "stream",
     "text": [
      "INFO:tensorflow:Calling model_fn.\n",
      "INFO:tensorflow:Done calling model_fn.\n",
      "INFO:tensorflow:Graph was finalized.\n",
      "INFO:tensorflow:Restoring parameters from /home/matz/Desktop/ml_ids/NN_model2/model.ckpt-20000\n",
      "INFO:tensorflow:Running local_init_op.\n",
      "INFO:tensorflow:Done running local_init_op.\n"
     ]
    }
   ],
   "source": [
    "results = []\n",
    "results = list(NN_model.predict(input_fn=get_input_fn(test_ex, num_epochs=1, n_batch = test_ex.shape[0], shuffle=False)))"
   ]
  },
  {
   "cell_type": "code",
   "execution_count": 79,
   "metadata": {},
   "outputs": [],
   "source": [
    "y_pred = []\n",
    "for el in results:\n",
    "    y_pred.append(el[\"class_ids\"])\n",
    "\n",
    "y_pred_NN = [int(a) for a in y_pred]"
   ]
  },
  {
   "cell_type": "code",
   "execution_count": 80,
   "metadata": {},
   "outputs": [
    {
     "name": "stdout",
     "output_type": "stream",
     "text": [
      "Algorithm: Wide&Deep    Accuracy: 0.92442, F1-score: 0.95502, Precision: 0.99132, Recall: 0.92130, FPR: 0.05451, FNR: 0.07870\n",
      "TN: 7667; FP: 442; FN: 4310; TP: 50453\n",
      "\n"
     ]
    }
   ],
   "source": [
    "from sklearn import metrics\n",
    "name = \"Wide&Deep\"\n",
    "\n",
    "Acc[name] = metrics.accuracy_score(test_ex[\"attack_flag\"], y_pred_NN)\n",
    "F1S[name] = metrics.f1_score(test_ex[\"attack_flag\"], y_pred_NN)\n",
    "Prec[name] = metrics.precision_score(test_ex[\"attack_flag\"], y_pred_NN)\n",
    "Rec[name] = metrics.recall_score(test_ex[\"attack_flag\"], y_pred_NN)\n",
    "tn, fp, fn, tp = metrics.confusion_matrix(test_ex[\"attack_flag\"], y_pred_NN).ravel()\n",
    "FPR[name] = fp/(fp+tn)\n",
    "FNR[name] = fn/(tp+fn)\n",
    "\n",
    "print(\"Algorithm: {0:12} Accuracy: {1:.5f}, F1-score: {2:.5f}, Precision: {3:.5f}, Recall: {4:.5f}, FPR: {5:.5f}, FNR: {6:.5f}\".format(name, Acc[name], F1S[name], Prec[name], Rec[name], FPR[name], FNR[name]))\n",
    "print(\"TN: {0:3}; FP: {1:3}; FN: {2:4}; TP: {3:3}\\n\".format(tn, fp, fn, tp))"
   ]
  },
  {
   "cell_type": "code",
   "execution_count": 81,
   "metadata": {},
   "outputs": [
    {
     "data": {
      "image/png": "[encoded data removed]",
      "text/plain": [
       "<matplotlib.figure.Figure at 0x7efe005b89b0>"
      ]
     },
     "metadata": {
      "needs_background": "light"
     },
     "output_type": "display_data"
    },
    {
     "data": {
      "image/png": "[encoded data removed]",
      "text/plain": [
       "<matplotlib.figure.Figure at 0x7efdfd4ff940>"
      ]
     },
     "metadata": {
      "needs_background": "light"
     },
     "output_type": "display_data"
    },
    {
     "data": {
      "image/png": "[encoded data removed]",
      "text/plain": [
       "<matplotlib.figure.Figure at 0x7efe00507f60>"
      ]
     },
     "metadata": {
      "needs_background": "light"
     },
     "output_type": "display_data"
    },
    {
     "data": {
      "image/png": "[encoded data removed]",
      "text/plain": [
       "<matplotlib.figure.Figure at 0x7efe08dca048>"
      ]
     },
     "metadata": {
      "needs_background": "light"
     },
     "output_type": "display_data"
    },
    {
     "data": {
      "image/png": "[encoded data removed]",
      "text/plain": [
       "<matplotlib.figure.Figure at 0x7efdec687da0>"
      ]
     },
     "metadata": {
      "needs_background": "light"
     },
     "output_type": "display_data"
    },
    {
     "data": {
      "image/png": "[encoded data removed]",
      "text/plain": [
       "<matplotlib.figure.Figure at 0x7efdec5fac18>"
      ]
     },
     "metadata": {
      "needs_background": "light"
     },
     "output_type": "display_data"
    }
   ],
   "source": [
    "plot_stats(Acc, \"Accuracy\", 8, 55)\n",
    "plot_stats(F1S, \"F1-score\", 8, 55)\n",
    "plot_stats(Prec, \"Precision\", 8, 55)\n",
    "plot_stats(Rec, \"Recall\", 8, 55)\n",
    "plot_stats(FPR, \"False Positive Rate\", 8, 55)\n",
    "plot_stats(FNR, \"False Negative Rate\", 8, 55)"
   ]
  },
  {
   "cell_type": "markdown",
   "metadata": {},
   "source": [
    "## Results comparison"
   ]
  },
  {
   "cell_type": "code",
   "execution_count": 82,
   "metadata": {},
   "outputs": [],
   "source": [
    "y_pred = {}"
   ]
  },
  {
   "cell_type": "code",
   "execution_count": 83,
   "metadata": {},
   "outputs": [],
   "source": [
    "y_pred[\"RFFM\"] = class_id\n",
    "y_pred[\"Wide&Deep\"] = y_pred_NN"
   ]
  },
  {
   "cell_type": "code",
   "execution_count": 84,
   "metadata": {},
   "outputs": [],
   "source": [
    "# Metrics of baseline method\n",
    "\n",
    "name = \"baseline\"\n",
    "\n",
    "if(y_test.mean() > (1-y_test.mean())):\n",
    "    y_pred[\"baseline\"] = np.ones(len(y_test)).ravel() \n",
    "else:\n",
    "    y_pred[\"baseline\"] = np.zeros(len(y_test)).ravel()\n",
    "        \n",
    "y_pred[\"baseline\"] = y_pred[\"baseline\"].astype(int)"
   ]
  },
  {
   "cell_type": "code",
   "execution_count": 85,
   "metadata": {},
   "outputs": [
    {
     "name": "stderr",
     "output_type": "stream",
     "text": [
      "/home/matz/.local/lib/python3.6/site-packages/sklearn/preprocessing/data.py:625: DataConversionWarning: Data with input dtype float32 were all converted to float64 by StandardScaler.\n",
      "  return self.partial_fit(X, y)\n",
      "/home/matz/.local/lib/python3.6/site-packages/sklearn/base.py:465: DataConversionWarning: Data with input dtype float32 were all converted to float64 by StandardScaler.\n",
      "  return self.fit(X, y, **fit_params).transform(X)\n",
      "/home/matz/.local/lib/python3.6/site-packages/sklearn/pipeline.py:331: DataConversionWarning: Data with input dtype float32 were all converted to float64 by StandardScaler.\n",
      "  Xt = transform.transform(Xt)\n"
     ]
    }
   ],
   "source": [
    "classifiers = {\n",
    "               \"AdaBoost\":AdaBoostClassifier(DecisionTreeClassifier(max_depth = 13), n_estimators=num_trees, random_state = 0),\n",
    "               \"DecisionTree\":DecisionTreeClassifier(random_state=0, max_depth = 13),\n",
    "               \"NaiveBayes\":GaussianNB(),\n",
    "               \"RandomTree\":DecisionTreeClassifier(random_state=0, splitter = \"random\"),\n",
    "               \"RandomForest\":make_pipeline(StandardScaler(),RandomForestClassifier(n_estimators=167, max_depth=38, random_state=0)),\n",
    "              }\n",
    "\n",
    "name = \"LogisticReg\"\n",
    "model = LogisticRegression(solver = 'newton-cg').fit(X_train, y_train)\n",
    "y_pred[name] = model.predict(X_test)\n",
    "\n",
    "for name, clf in classifiers.items():\n",
    "    \n",
    "    model = clf.fit(X_train, y_train)\n",
    "    \n",
    "    y_pred[name] = model.predict(X_test)"
   ]
  },
  {
   "cell_type": "code",
   "execution_count": 86,
   "metadata": {},
   "outputs": [
    {
     "name": "stdout",
     "output_type": "stream",
     "text": [
      "RFFM62872\n",
      "Wide&Deep62872\n",
      "baseline62872\n",
      "LogisticReg62872\n",
      "AdaBoost62872\n",
      "DecisionTree62872\n",
      "NaiveBayes62872\n",
      "RandomTree62872\n",
      "RandomForest62872\n"
     ]
    }
   ],
   "source": [
    "for k in y_pred:\n",
    "    print(k + str(len(y_pred[k])))"
   ]
  },
  {
   "cell_type": "code",
   "execution_count": 87,
   "metadata": {},
   "outputs": [
    {
     "data": {
      "image/png": "[encoded data removed]",
      "text/plain": [
       "<matplotlib.figure.Figure at 0x7efe12e0ce10>"
      ]
     },
     "metadata": {
      "needs_background": "light"
     },
     "output_type": "display_data"
    }
   ],
   "source": [
    "y_pred_pand = pd.DataFrame.from_dict(y_pred)\n",
    "names = [\"LogisticReg\", \"AdaBoost\", \"DecisionTree\", \"NaiveBayes\", \"RandomTree\", \"RandomForest\", \"RFFM\", \"Wide&Deep\"]\n",
    "correlations = y_pred_pand[names].corr()\n",
    "fig = plt.figure()\n",
    "ax = fig.add_subplot(111)\n",
    "cax = ax.matshow(correlations, vmin=0.5, vmax=1)\n",
    "fig.colorbar(cax)\n",
    "ticks = np.arange(0,8,1)\n",
    "ax.set_xticks(ticks)\n",
    "ax.set_yticks(ticks)\n",
    "ax.set_xticklabels(names, rotation='vertical')\n",
    "ax.set_yticklabels(names)\n",
    "plt.show()"
   ]
  },
  {
   "cell_type": "code",
   "execution_count": 88,
   "metadata": {},
   "outputs": [
    {
     "name": "stdout",
     "output_type": "stream",
     "text": [
      "              LogisticReg  AdaBoost  DecisionTree  NaiveBayes  RandomTree  \\\n",
      "LogisticReg      1.000000  0.689481      0.681495    0.796965    0.701976   \n",
      "AdaBoost         0.689481  1.000000      0.839056    0.599031    0.863148   \n",
      "DecisionTree     0.681495  0.839056      1.000000    0.607255    0.836278   \n",
      "NaiveBayes       0.796965  0.599031      0.607255    1.000000    0.611867   \n",
      "RandomTree       0.701976  0.863148      0.836278    0.611867    1.000000   \n",
      "RandomForest     0.699330  0.864969      0.927416    0.609354    0.891234   \n",
      "RFFM             0.672465  0.807803      0.869854    0.580259    0.820993   \n",
      "Wide&Deep       -0.000041  0.004491      0.001358    0.004910   -0.000257   \n",
      "\n",
      "              RandomForest      RFFM  Wide&Deep  \n",
      "LogisticReg       0.699330  0.672465  -0.000041  \n",
      "AdaBoost          0.864969  0.807803   0.004491  \n",
      "DecisionTree      0.927416  0.869854   0.001358  \n",
      "NaiveBayes        0.609354  0.580259   0.004910  \n",
      "RandomTree        0.891234  0.820993  -0.000257  \n",
      "RandomForest      1.000000  0.879494   0.001888  \n",
      "RFFM              0.879494  1.000000  -0.000100  \n",
      "Wide&Deep         0.001888 -0.000100   1.000000  \n"
     ]
    }
   ],
   "source": [
    "print(correlations)"
   ]
  },
  {
   "cell_type": "code",
   "execution_count": 89,
   "metadata": {},
   "outputs": [],
   "source": [
    "failures = {}\n",
    "failures[\"baseline\"] = []\n",
    "failures[\"LogisticReg\"] = []\n",
    "failures[\"AdaBoost\"] = []\n",
    "failures[\"DecisionTree\"] = []\n",
    "failures[\"NaiveBayes\"] = []\n",
    "failures[\"RandomTree\"] = []\n",
    "failures[\"RandomForest\"] = []\n",
    "failures[\"RFFM\"] = []\n",
    "failures[\"Wide&Deep\"] = []\n",
    "\n",
    "for i in range(0, len(y_test)):\n",
    "    for key in y_pred.keys():\n",
    "        if y_pred[key][i] != y_test[i]:\n",
    "            failures[key].append(10)\n",
    "        else:\n",
    "            failures[key].append(1)"
   ]
  },
  {
   "cell_type": "code",
   "execution_count": 90,
   "metadata": {},
   "outputs": [
    {
     "data": {
      "image/png": "[encoded data removed]",
      "text/plain": [
       "<matplotlib.figure.Figure at 0x7efdec4ccb38>"
      ]
     },
     "metadata": {
      "needs_background": "light"
     },
     "output_type": "display_data"
    }
   ],
   "source": [
    "failures_pand = pd.DataFrame.from_dict(failures)\n",
    "names = [\"baseline\", \"LogisticReg\", \"AdaBoost\", \"DecisionTree\", \"NaiveBayes\", \"RandomTree\", \"RandomForest\", \"RFFM\", \"Wide&Deep\"]\n",
    "#names = [\"baseline\", \"LogisticReg\", \"RandomForest\"]\n",
    "correlations = failures_pand[names].corr()\n",
    "fig = plt.figure()\n",
    "ax = fig.add_subplot(111)\n",
    "cax = ax.matshow(correlations, vmin=0, vmax=1)\n",
    "fig.colorbar(cax)\n",
    "ticks = np.arange(0,9,1)\n",
    "ax.set_xticks(ticks)\n",
    "ax.set_yticks(ticks)\n",
    "ax.set_xticklabels(names, rotation='vertical')\n",
    "ax.set_yticklabels(names)\n",
    "plt.show()"
   ]
  },
  {
   "cell_type": "code",
   "execution_count": 91,
   "metadata": {},
   "outputs": [
    {
     "name": "stdout",
     "output_type": "stream",
     "text": [
      "              baseline  LogisticReg  AdaBoost  DecisionTree  NaiveBayes  \\\n",
      "baseline      1.000000     0.006450  0.323897      0.311228   -0.133475   \n",
      "LogisticReg   0.006450     1.000000  0.124320      0.083524    0.619317   \n",
      "AdaBoost      0.323897     0.124320  1.000000      0.365607    0.057463   \n",
      "DecisionTree  0.311228     0.083524  0.365607      1.000000    0.068659   \n",
      "NaiveBayes   -0.133475     0.619317  0.057463      0.068659    1.000000   \n",
      "RandomTree    0.247472     0.122515  0.417103      0.269448    0.073702   \n",
      "RandomForest  0.303279     0.078728  0.400406      0.665215    0.033699   \n",
      "RFFM          0.373758     0.131512  0.368651      0.560871    0.045829   \n",
      "Wide&Deep     0.466198     0.001155  0.155958      0.144609   -0.057970   \n",
      "\n",
      "              RandomTree  RandomForest      RFFM  Wide&Deep  \n",
      "baseline        0.247472      0.303279  0.373758   0.466198  \n",
      "LogisticReg     0.122515      0.078728  0.131512   0.001155  \n",
      "AdaBoost        0.417103      0.400406  0.368651   0.155958  \n",
      "DecisionTree    0.269448      0.665215  0.560871   0.144609  \n",
      "NaiveBayes      0.073702      0.033699  0.045829  -0.057970  \n",
      "RandomTree      1.000000      0.439112  0.346413   0.111651  \n",
      "RandomForest    0.439112      1.000000  0.563742   0.141811  \n",
      "RFFM            0.346413      0.563742  1.000000   0.171762  \n",
      "Wide&Deep       0.111651      0.141811  0.171762   1.000000  \n"
     ]
    }
   ],
   "source": [
    "print(correlations)"
   ]
  },
  {
   "cell_type": "code",
   "execution_count": 92,
   "metadata": {},
   "outputs": [
    {
     "name": "stdout",
     "output_type": "stream",
     "text": [
      "Counter({1: 54763, 10: 8109})\n",
      "Counter({1: 58330, 10: 4542})\n",
      "Counter({1: 61148, 10: 1724})\n",
      "Counter({1: 61277, 10: 1595})\n",
      "Counter({1: 54527, 10: 8345})\n",
      "Counter({1: 61457, 10: 1415})\n",
      "Counter({1: 61693, 10: 1179})\n",
      "Counter({1: 60699, 10: 2173})\n",
      "Counter({1: 45906, 10: 16966})\n",
      "[[54763.0, 58330.0, 61148.0, 61277.0, 54527.0, 61457.0, 61693.0, 60699.0, 45906.0], [8109.0, 4542.0, 1724.0, 1595.0, 8345.0, 1415.0, 1179.0, 2173.0, 16966.0]]\n"
     ]
    }
   ],
   "source": [
    "cont_table = [[],[]]\n",
    "for name in failures.keys():\n",
    "    print(Counter(failures[name]))\n",
    "    cont_table[0].append(float(Counter(failures[name])[1]))\n",
    "    cont_table[1].append(float(Counter(failures[name])[10]))\n",
    "print(cont_table)"
   ]
  },
  {
   "cell_type": "code",
   "execution_count": 93,
   "metadata": {},
   "outputs": [
    {
     "name": "stdout",
     "output_type": "stream",
     "text": [
      "probability=0.950, critical=15.507, stat=47211.631\n",
      "\n",
      "reject H0 - results dependent\n"
     ]
    }
   ],
   "source": [
    "from scipy import stats\n",
    "\n",
    "# test of independence\n",
    "# H0 : results are independent\n",
    "\n",
    "stat, p, dof, expected = stats.chi2_contingency(cont_table)\n",
    "stats.chi2_contingency(cont_table)\n",
    "prob = 0.95\n",
    "critical = stats.chi2.ppf(prob, dof)\n",
    "print('probability=%.3f, critical=%.3f, stat=%.3f' % (prob, critical, stat))\n",
    "\n",
    "if abs(stat) >= critical:\n",
    "    print('\\nreject H0 - results dependent')\n",
    "else:\n",
    "    print('\\nfailed to reject H0 - results independent')"
   ]
  },
  {
   "cell_type": "markdown",
   "metadata": {},
   "source": [
    "## New data prediction"
   ]
  },
  {
   "cell_type": "code",
   "execution_count": 94,
   "metadata": {},
   "outputs": [
    {
     "name": "stdout",
     "output_type": "stream",
     "text": [
      "Counter({-1: 210159, 1: 2830})\n"
     ]
    }
   ],
   "source": [
    "test_set = pd.read_csv(\"20151221.txt\", sep = \"\\t\", header = None)\n",
    "test_set.columns = [\"conn len\", \"service\", \"src bytes\", \"dst bytes\", \"conn numb\", \"Same srv rate\", \"Serror rate\", \"Srv serror rate\", \"Dst host count\", \"Dst host srv count\", \"Dst host same src port rate\", \"Dst host serror rate\", \"Dst host srv serror rate\", \"Conn state\", \"IDS detection\", \"Malware detection\", \"Ashula detection\", \"attack_flag\", \"src IP\", \"src port\", \"dst IP\", \"dst port\", \"start time\", \"proto\"]\n",
    "\n",
    "print(Counter(test_set[\"attack_flag\"]))"
   ]
  },
  {
   "cell_type": "code",
   "execution_count": 95,
   "metadata": {},
   "outputs": [
    {
     "name": "stdout",
     "output_type": "stream",
     "text": [
      "Counter({1: 210159, 0: 2830})\n"
     ]
    }
   ],
   "source": [
    "test_set.loc[:, \"attack_flag\"] = test_set.loc[:,\"attack_flag\"].replace(-2, -1)\n",
    "test_set.loc[:, \"attack_flag\"] = test_set.loc[:, \"attack_flag\"] * -1\n",
    "test_set.loc[:, \"attack_flag\"] = test_set.loc[:,\"attack_flag\"].replace(-1, 0)\n",
    "\n",
    "print(Counter(test_set[\"attack_flag\"]))"
   ]
  },
  {
   "cell_type": "code",
   "execution_count": 96,
   "metadata": {},
   "outputs": [
    {
     "name": "stdout",
     "output_type": "stream",
     "text": [
      "(212989, 24)\n",
      "(212989, 21)\n"
     ]
    },
    {
     "data": {
      "text/plain": [
       "1    210159\n",
       "0      2830\n",
       "Name: attack_flag, dtype: int64"
      ]
     },
     "execution_count": 96,
     "metadata": {},
     "output_type": "execute_result"
    }
   ],
   "source": [
    "# slice dataset, drop additional features\n",
    "print(test_set.shape)\n",
    "test_set = test_set.drop(['start time', 'dst IP', 'src IP'], axis=1)\n",
    "print(test_set.shape)\n",
    "\n",
    "# drop software markers\n",
    "test_set = test_set.drop([\"IDS detection\", \"Malware detection\", \"Ashula detection\"], axis=1)\n",
    "test_set[\"attack_flag\"].value_counts()"
   ]
  },
  {
   "cell_type": "code",
   "execution_count": 97,
   "metadata": {},
   "outputs": [
    {
     "data": {
      "text/plain": [
       "(212989, 18)"
      ]
     },
     "execution_count": 97,
     "metadata": {},
     "output_type": "execute_result"
    }
   ],
   "source": [
    "# removing NaNs\n",
    "test_set = test_set.dropna()\n",
    "test_set.shape"
   ]
  },
  {
   "cell_type": "code",
   "execution_count": 98,
   "metadata": {},
   "outputs": [],
   "source": [
    "test_set[\"well-known src pool\"] = test_set.apply(wk, axis=1)\n",
    "test_set[\"registered src pool\"] = test_set.apply(reg, axis=1)\n",
    "test_set[\"cli src pool\"] = test_set.apply(cli, axis=1)"
   ]
  },
  {
   "cell_type": "code",
   "execution_count": 99,
   "metadata": {},
   "outputs": [],
   "source": [
    "test_set[\"src port\"] = test_set[\"src port\"].apply(str)\n",
    "test_set[\"dst port\"] = test_set[\"dst port\"].apply(str)\n",
    "test_set['src port'].nunique()\n",
    "test_set['dst port'].nunique()\n",
    "\n",
    "thresh1 = 125\n",
    "thresh2 = 125\n",
    "counts1 = test_set['src port'].value_counts()\n",
    "counts2 = test_set['dst port'].value_counts()\n",
    "\n",
    "repl1 = counts1[counts1 <= thresh1].index\n",
    "repl2 = counts2[counts2 <= thresh2].index\n",
    "\n",
    "#hot one encoding for src port numbers\n",
    "test_set = pd.concat([test_set, pd.get_dummies(test_set[\"src port\"].replace(repl1, 'other_src'), prefix=\"is_src\")], axis=1)\n",
    "\n",
    "#hot one encoding for dst port numbers\n",
    "test_set = pd.concat([test_set, pd.get_dummies(test_set[\"dst port\"].replace(repl2, 'other_dst'), prefix=\"is_dst\")], axis=1)"
   ]
  },
  {
   "cell_type": "code",
   "execution_count": 100,
   "metadata": {},
   "outputs": [
    {
     "data": {
      "text/html": [
       "<div>\n",
       "<style scoped>\n",
       "    .dataframe tbody tr th:only-of-type {\n",
       "        vertical-align: middle;\n",
       "    }\n",
       "\n",
       "    .dataframe tbody tr th {\n",
       "        vertical-align: top;\n",
       "    }\n",
       "\n",
       "    .dataframe thead th {\n",
       "        text-align: right;\n",
       "    }\n",
       "</style>\n",
       "<table border=\"1\" class=\"dataframe\">\n",
       "  <thead>\n",
       "    <tr style=\"text-align: right;\">\n",
       "      <th></th>\n",
       "      <th>conn len</th>\n",
       "      <th>service</th>\n",
       "      <th>src bytes</th>\n",
       "      <th>dst bytes</th>\n",
       "      <th>conn numb</th>\n",
       "      <th>Same srv rate</th>\n",
       "      <th>Serror rate</th>\n",
       "      <th>Srv serror rate</th>\n",
       "      <th>Dst host count</th>\n",
       "      <th>Dst host srv count</th>\n",
       "      <th>...</th>\n",
       "      <th>state_OTH</th>\n",
       "      <th>state_REJ</th>\n",
       "      <th>state_RSTO</th>\n",
       "      <th>state_RSTOS0</th>\n",
       "      <th>state_RSTR</th>\n",
       "      <th>state_RSTRH</th>\n",
       "      <th>state_S0</th>\n",
       "      <th>state_S1</th>\n",
       "      <th>state_SF</th>\n",
       "      <th>state_SHR</th>\n",
       "    </tr>\n",
       "  </thead>\n",
       "  <tbody>\n",
       "    <tr>\n",
       "      <th>212979</th>\n",
       "      <td>0.000061</td>\n",
       "      <td>other</td>\n",
       "      <td>0</td>\n",
       "      <td>0</td>\n",
       "      <td>20</td>\n",
       "      <td>1.0</td>\n",
       "      <td>0.05</td>\n",
       "      <td>0.15</td>\n",
       "      <td>2</td>\n",
       "      <td>85</td>\n",
       "      <td>...</td>\n",
       "      <td>0</td>\n",
       "      <td>1</td>\n",
       "      <td>0</td>\n",
       "      <td>0</td>\n",
       "      <td>0</td>\n",
       "      <td>0</td>\n",
       "      <td>0</td>\n",
       "      <td>0</td>\n",
       "      <td>0</td>\n",
       "      <td>0</td>\n",
       "    </tr>\n",
       "    <tr>\n",
       "      <th>212980</th>\n",
       "      <td>0.000000</td>\n",
       "      <td>other</td>\n",
       "      <td>0</td>\n",
       "      <td>0</td>\n",
       "      <td>1</td>\n",
       "      <td>1.0</td>\n",
       "      <td>0.00</td>\n",
       "      <td>0.22</td>\n",
       "      <td>4</td>\n",
       "      <td>6</td>\n",
       "      <td>...</td>\n",
       "      <td>0</td>\n",
       "      <td>0</td>\n",
       "      <td>0</td>\n",
       "      <td>0</td>\n",
       "      <td>0</td>\n",
       "      <td>0</td>\n",
       "      <td>1</td>\n",
       "      <td>0</td>\n",
       "      <td>0</td>\n",
       "      <td>0</td>\n",
       "    </tr>\n",
       "    <tr>\n",
       "      <th>212981</th>\n",
       "      <td>0.000013</td>\n",
       "      <td>other</td>\n",
       "      <td>0</td>\n",
       "      <td>0</td>\n",
       "      <td>13</td>\n",
       "      <td>1.0</td>\n",
       "      <td>0.08</td>\n",
       "      <td>0.26</td>\n",
       "      <td>6</td>\n",
       "      <td>84</td>\n",
       "      <td>...</td>\n",
       "      <td>0</td>\n",
       "      <td>1</td>\n",
       "      <td>0</td>\n",
       "      <td>0</td>\n",
       "      <td>0</td>\n",
       "      <td>0</td>\n",
       "      <td>0</td>\n",
       "      <td>0</td>\n",
       "      <td>0</td>\n",
       "      <td>0</td>\n",
       "    </tr>\n",
       "    <tr>\n",
       "      <th>212982</th>\n",
       "      <td>0.000029</td>\n",
       "      <td>other</td>\n",
       "      <td>0</td>\n",
       "      <td>0</td>\n",
       "      <td>2</td>\n",
       "      <td>1.0</td>\n",
       "      <td>0.50</td>\n",
       "      <td>0.25</td>\n",
       "      <td>1</td>\n",
       "      <td>6</td>\n",
       "      <td>...</td>\n",
       "      <td>0</td>\n",
       "      <td>1</td>\n",
       "      <td>0</td>\n",
       "      <td>0</td>\n",
       "      <td>0</td>\n",
       "      <td>0</td>\n",
       "      <td>0</td>\n",
       "      <td>0</td>\n",
       "      <td>0</td>\n",
       "      <td>0</td>\n",
       "    </tr>\n",
       "    <tr>\n",
       "      <th>212983</th>\n",
       "      <td>0.000039</td>\n",
       "      <td>other</td>\n",
       "      <td>0</td>\n",
       "      <td>0</td>\n",
       "      <td>14</td>\n",
       "      <td>1.0</td>\n",
       "      <td>0.07</td>\n",
       "      <td>0.24</td>\n",
       "      <td>1</td>\n",
       "      <td>84</td>\n",
       "      <td>...</td>\n",
       "      <td>0</td>\n",
       "      <td>1</td>\n",
       "      <td>0</td>\n",
       "      <td>0</td>\n",
       "      <td>0</td>\n",
       "      <td>0</td>\n",
       "      <td>0</td>\n",
       "      <td>0</td>\n",
       "      <td>0</td>\n",
       "      <td>0</td>\n",
       "    </tr>\n",
       "    <tr>\n",
       "      <th>212984</th>\n",
       "      <td>0.000045</td>\n",
       "      <td>other</td>\n",
       "      <td>0</td>\n",
       "      <td>0</td>\n",
       "      <td>15</td>\n",
       "      <td>1.0</td>\n",
       "      <td>0.07</td>\n",
       "      <td>0.23</td>\n",
       "      <td>3</td>\n",
       "      <td>84</td>\n",
       "      <td>...</td>\n",
       "      <td>0</td>\n",
       "      <td>1</td>\n",
       "      <td>0</td>\n",
       "      <td>0</td>\n",
       "      <td>0</td>\n",
       "      <td>0</td>\n",
       "      <td>0</td>\n",
       "      <td>0</td>\n",
       "      <td>0</td>\n",
       "      <td>0</td>\n",
       "    </tr>\n",
       "    <tr>\n",
       "      <th>212985</th>\n",
       "      <td>0.000053</td>\n",
       "      <td>other</td>\n",
       "      <td>0</td>\n",
       "      <td>0</td>\n",
       "      <td>16</td>\n",
       "      <td>1.0</td>\n",
       "      <td>0.06</td>\n",
       "      <td>0.22</td>\n",
       "      <td>19</td>\n",
       "      <td>84</td>\n",
       "      <td>...</td>\n",
       "      <td>0</td>\n",
       "      <td>1</td>\n",
       "      <td>0</td>\n",
       "      <td>0</td>\n",
       "      <td>0</td>\n",
       "      <td>0</td>\n",
       "      <td>0</td>\n",
       "      <td>0</td>\n",
       "      <td>0</td>\n",
       "      <td>0</td>\n",
       "    </tr>\n",
       "    <tr>\n",
       "      <th>212986</th>\n",
       "      <td>0.000056</td>\n",
       "      <td>other</td>\n",
       "      <td>0</td>\n",
       "      <td>0</td>\n",
       "      <td>17</td>\n",
       "      <td>1.0</td>\n",
       "      <td>0.06</td>\n",
       "      <td>0.21</td>\n",
       "      <td>7</td>\n",
       "      <td>84</td>\n",
       "      <td>...</td>\n",
       "      <td>0</td>\n",
       "      <td>1</td>\n",
       "      <td>0</td>\n",
       "      <td>0</td>\n",
       "      <td>0</td>\n",
       "      <td>0</td>\n",
       "      <td>0</td>\n",
       "      <td>0</td>\n",
       "      <td>0</td>\n",
       "      <td>0</td>\n",
       "    </tr>\n",
       "    <tr>\n",
       "      <th>212987</th>\n",
       "      <td>0.000058</td>\n",
       "      <td>other</td>\n",
       "      <td>0</td>\n",
       "      <td>0</td>\n",
       "      <td>18</td>\n",
       "      <td>1.0</td>\n",
       "      <td>0.06</td>\n",
       "      <td>0.20</td>\n",
       "      <td>20</td>\n",
       "      <td>84</td>\n",
       "      <td>...</td>\n",
       "      <td>0</td>\n",
       "      <td>1</td>\n",
       "      <td>0</td>\n",
       "      <td>0</td>\n",
       "      <td>0</td>\n",
       "      <td>0</td>\n",
       "      <td>0</td>\n",
       "      <td>0</td>\n",
       "      <td>0</td>\n",
       "      <td>0</td>\n",
       "    </tr>\n",
       "    <tr>\n",
       "      <th>212988</th>\n",
       "      <td>0.000110</td>\n",
       "      <td>dns</td>\n",
       "      <td>36</td>\n",
       "      <td>194</td>\n",
       "      <td>1</td>\n",
       "      <td>1.0</td>\n",
       "      <td>0.00</td>\n",
       "      <td>0.50</td>\n",
       "      <td>0</td>\n",
       "      <td>89</td>\n",
       "      <td>...</td>\n",
       "      <td>0</td>\n",
       "      <td>0</td>\n",
       "      <td>0</td>\n",
       "      <td>0</td>\n",
       "      <td>0</td>\n",
       "      <td>0</td>\n",
       "      <td>0</td>\n",
       "      <td>0</td>\n",
       "      <td>1</td>\n",
       "      <td>0</td>\n",
       "    </tr>\n",
       "  </tbody>\n",
       "</table>\n",
       "<p>10 rows × 193 columns</p>\n",
       "</div>"
      ],
      "text/plain": [
       "        conn len service  src bytes  dst bytes  conn numb  Same srv rate  \\\n",
       "212979  0.000061   other          0          0         20            1.0   \n",
       "212980  0.000000   other          0          0          1            1.0   \n",
       "212981  0.000013   other          0          0         13            1.0   \n",
       "212982  0.000029   other          0          0          2            1.0   \n",
       "212983  0.000039   other          0          0         14            1.0   \n",
       "212984  0.000045   other          0          0         15            1.0   \n",
       "212985  0.000053   other          0          0         16            1.0   \n",
       "212986  0.000056   other          0          0         17            1.0   \n",
       "212987  0.000058   other          0          0         18            1.0   \n",
       "212988  0.000110     dns         36        194          1            1.0   \n",
       "\n",
       "        Serror rate  Srv serror rate  Dst host count  Dst host srv count  \\\n",
       "212979         0.05             0.15               2                  85   \n",
       "212980         0.00             0.22               4                   6   \n",
       "212981         0.08             0.26               6                  84   \n",
       "212982         0.50             0.25               1                   6   \n",
       "212983         0.07             0.24               1                  84   \n",
       "212984         0.07             0.23               3                  84   \n",
       "212985         0.06             0.22              19                  84   \n",
       "212986         0.06             0.21               7                  84   \n",
       "212987         0.06             0.20              20                  84   \n",
       "212988         0.00             0.50               0                  89   \n",
       "\n",
       "          ...      state_OTH  state_REJ  state_RSTO state_RSTOS0  state_RSTR  \\\n",
       "212979    ...              0          1           0            0           0   \n",
       "212980    ...              0          0           0            0           0   \n",
       "212981    ...              0          1           0            0           0   \n",
       "212982    ...              0          1           0            0           0   \n",
       "212983    ...              0          1           0            0           0   \n",
       "212984    ...              0          1           0            0           0   \n",
       "212985    ...              0          1           0            0           0   \n",
       "212986    ...              0          1           0            0           0   \n",
       "212987    ...              0          1           0            0           0   \n",
       "212988    ...              0          0           0            0           0   \n",
       "\n",
       "       state_RSTRH state_S0 state_S1  state_SF  state_SHR  \n",
       "212979           0        0        0         0          0  \n",
       "212980           0        1        0         0          0  \n",
       "212981           0        0        0         0          0  \n",
       "212982           0        0        0         0          0  \n",
       "212983           0        0        0         0          0  \n",
       "212984           0        0        0         0          0  \n",
       "212985           0        0        0         0          0  \n",
       "212986           0        0        0         0          0  \n",
       "212987           0        0        0         0          0  \n",
       "212988           0        0        0         1          0  \n",
       "\n",
       "[10 rows x 193 columns]"
      ]
     },
     "execution_count": 100,
     "metadata": {},
     "output_type": "execute_result"
    }
   ],
   "source": [
    "### hot one encoding ###\n",
    "\n",
    "# hot one encoding for service\n",
    "test_set = pd.concat([test_set, pd.get_dummies(test_set[\"service\"], prefix=\"is\")], axis=1)\n",
    "test_set.tail(10)\n",
    "\n",
    "#hot one encoding for proto - commented due to reduced column number\n",
    "test_set = pd.concat([test_set, pd.get_dummies(test_set[\"proto\"], prefix=\"is\")], axis=1)\n",
    "test_set.tail(10)\n",
    "\n",
    "# hot one encoding for conn state\n",
    "test_set = pd.concat([test_set, pd.get_dummies(test_set[\"Conn state\"], prefix=\"state\")], axis=1)\n",
    "test_set.tail(10)"
   ]
  },
  {
   "cell_type": "code",
   "execution_count": 101,
   "metadata": {},
   "outputs": [],
   "source": [
    "test_set.rename(columns={'Dst host count': 'Dst_host_count', \"Dst host srv count\" : \"Dst_host_srv_count\",\n",
    "                    \"Dst host same src port rate\" : \"Dst_host_same_src_port_rate\",\n",
    "                    \"Dst host serror rate\" : \"Dst_host_serror_rate\",\n",
    "                    \"Dst host srv serror rate\" : \"Dst_host_srv_serror_rate\",\n",
    "                    \"Same srv rate\" : \"Same_srv_rate\",\n",
    "                    \"Srv serror rate\" : \"Srv_serror_rate\",\n",
    "                    \"conn len\" : \"conn_len\",\n",
    "                    \"src bytes\" : \"src_bytes\",\n",
    "                    \"dst bytes\" : \"dst_bytes\",\n",
    "                    \"conn numb\" : \"conn_numb\",\n",
    "                    \"Serror rate\" : \"Serror_rate\",\n",
    "                    \"cli src pool\" : \"cli_src_pool\",\n",
    "                    \"registered src pool\" : \"registered_src_pool\",\n",
    "                    \"well-known src pool\" : \"well_known_src_pool\",\n",
    "                    \"dst port\" : \"dst_port\",\n",
    "                    \"src port\" : \"src_port\",\n",
    "                     \"Conn state\" : \"Conn_state\" \n",
    "                    }, inplace=True)"
   ]
  },
  {
   "cell_type": "code",
   "execution_count": 102,
   "metadata": {},
   "outputs": [
    {
     "name": "stdout",
     "output_type": "stream",
     "text": [
      "Index(['is_dst_102', 'is_dst_10200', 'is_dst_119', 'is_dst_143', 'is_dst_223',\n",
      "       'is_dst_389', 'is_dst_5432', 'is_dst_6050', 'is_dst_631', 'is_dst_82',\n",
      "       'is_dst_88', 'is_dst_9080', 'is_src_13941', 'is_src_18382',\n",
      "       'is_src_21320', 'is_src_22055', 'is_src_22207', 'is_src_2295',\n",
      "       'is_src_29174', 'is_src_300', 'is_src_37286', 'is_src_37396',\n",
      "       'is_src_37511', 'is_src_38396', 'is_src_40082', 'is_src_40718',\n",
      "       'is_src_41161', 'is_src_41287', 'is_src_41708', 'is_src_41793',\n",
      "       'is_src_42206', 'is_src_443', 'is_src_4445', 'is_src_46432',\n",
      "       'is_src_49354', 'is_src_49362', 'is_src_49376', 'is_src_49414',\n",
      "       'is_src_5061', 'is_src_5071', 'is_src_5094', 'is_src_5100',\n",
      "       'is_src_5114', 'is_src_51361', 'is_src_5208', 'is_src_5211',\n",
      "       'is_src_52131', 'is_src_5229', 'is_src_5247', 'is_src_53265',\n",
      "       'is_src_53451', 'is_src_53762', 'is_src_54110', 'is_src_54334',\n",
      "       'is_src_54499', 'is_src_54509', 'is_src_5501', 'is_src_56118',\n",
      "       'is_src_5844', 'is_src_58663', 'is_src_60000', 'is_src_6044',\n",
      "       'is_src_61605', 'is_src_6173', 'is_src_62029', 'is_src_63265',\n",
      "       'is_src_63432', 'is_src_64486'],\n",
      "      dtype='object')\n"
     ]
    },
    {
     "data": {
      "text/plain": [
       "(212989, 193)"
      ]
     },
     "execution_count": 102,
     "metadata": {},
     "output_type": "execute_result"
    }
   ],
   "source": [
    "# check differences between datasets after hot one encoding\n",
    "\n",
    "# print(train_data.columns.difference(test_data.columns)[0])\n",
    "# columns that are not in test but are in train\n",
    "test_new_data_full = test_set\n",
    "\n",
    "# for c in data.columns.difference(test_set.columns):\n",
    "#     test_set[c] = 0\n",
    "# for c in test_set.columns.difference(data.columns):\n",
    "#     test_set = test_set.drop(c, axis=1)\n",
    "    \n",
    "print(test_set.columns.difference(data.columns))  \n",
    "test_set.shape"
   ]
  },
  {
   "cell_type": "code",
   "execution_count": 103,
   "metadata": {},
   "outputs": [],
   "source": [
    "test_new_data = test_set.loc[range(30000), :]\n",
    "\n",
    "for c in data.columns.difference(test_new_data.columns):\n",
    "    test_new_data[c] = 0\n",
    "for c in test_new_data.columns.difference(data.columns):\n",
    "    test_new_data = test_new_data.drop(c, axis=1)\n",
    "\n",
    "test_new_data = test_new_data.drop([\"service\", \"Conn_state\", \"proto\", \"src_port\", \"dst_port\"], axis=1)\n",
    "    \n",
    "test_new_data = test_new_data.sample(frac=1)\n",
    "y_test_new_data = test_new_data.loc[:, \"attack_flag\"].values.ravel()\n",
    "X_test_new_data = test_new_data.drop([\"attack_flag\"], axis=1).astype(np.float32)"
   ]
  },
  {
   "cell_type": "code",
   "execution_count": 104,
   "metadata": {},
   "outputs": [
    {
     "name": "stdout",
     "output_type": "stream",
     "text": [
      "(30000, 286)\n",
      "(62872, 286)\n",
      "1    29498\n",
      "0      502\n",
      "Name: attack_flag, dtype: int64\n"
     ]
    }
   ],
   "source": [
    "print(X_test_new_data.shape)\n",
    "print(X_test.shape)\n",
    "print(test_new_data[\"attack_flag\"].value_counts())"
   ]
  },
  {
   "cell_type": "code",
   "execution_count": 105,
   "metadata": {},
   "outputs": [
    {
     "name": "stdout",
     "output_type": "stream",
     "text": [
      "Algorithm: baseline     Accuracy: 0.98327, F1-score: 0.99156, Precision: 0.98327, Recall: 1.00000, FPR: 1.00000, FNR: 0.00000\n",
      "TN:   0; FP: 502; FN:    0; TP: 29498\n",
      "\n"
     ]
    }
   ],
   "source": [
    "# Metrics of baseline method\n",
    "from sklearn import metrics\n",
    "\n",
    "name = \"baseline\"\n",
    "\n",
    "if(y_test_new_data.mean() > (1-y_test_new_data.mean())):\n",
    "    y_pred = np.ones(len(y_test_new_data)).ravel() \n",
    "else:\n",
    "    y_pred = np.zeros(len(y_test_new_data)).ravel() \n",
    "    \n",
    "Acc[name] = metrics.accuracy_score(y_test_new_data, y_pred)\n",
    "F1S[name] = metrics.f1_score(y_test_new_data, y_pred)\n",
    "Prec[name] = metrics.precision_score(y_test_new_data, y_pred)\n",
    "Rec[name] = metrics.recall_score(y_test_new_data, y_pred)\n",
    "tn, fp, fn, tp = metrics.confusion_matrix(y_test_new_data, y_pred).ravel()\n",
    "FPR[name] = fp/(fp+tn)\n",
    "FNR[name] = fn/(tp+fn)\n",
    "\n",
    "print(\"Algorithm: {0:12} Accuracy: {1:.5f}, F1-score: {2:.5f}, Precision: {3:.5f}, Recall: {4:.5f}, FPR: {5:.5f}, FNR: {6:.5f}\".format(name, Acc[name], F1S[name], Prec[name], Rec[name], FPR[name], FNR[name]))\n",
    "print(\"TN: {0:3}; FP: {1:3}; FN: {2:4}; TP: {3:3}\\n\".format(tn, fp, fn, tp))"
   ]
  },
  {
   "cell_type": "code",
   "execution_count": 106,
   "metadata": {},
   "outputs": [
    {
     "name": "stdout",
     "output_type": "stream",
     "text": [
      "Algorithm: LogisticReg  Accuracy: 0.97027, F1-score: 0.98487, Precision: 0.98557, Recall: 0.98417, FPR: 0.84661, FNR: 0.01583\n",
      "TN:  77; FP: 425; FN:  467; TP: 29031\n",
      "\n"
     ]
    }
   ],
   "source": [
    "from sklearn.linear_model import LogisticRegression\n",
    "from sklearn import metrics\n",
    "\n",
    "clf = LogisticRegression(solver = 'newton-cg')\n",
    "\n",
    "model = clf.fit(X_train, y_train)\n",
    "\n",
    "y_pred = model.predict(X_test_new_data)\n",
    "\n",
    "name = \"LogisticReg\"\n",
    "\n",
    "Acc[name] = metrics.accuracy_score(y_test_new_data, y_pred)\n",
    "F1S[name] = metrics.f1_score(y_test_new_data, y_pred)\n",
    "Prec[name] = metrics.precision_score(y_test_new_data, y_pred)\n",
    "Rec[name] = metrics.recall_score(y_test_new_data, y_pred)\n",
    "tn, fp, fn, tp = metrics.confusion_matrix(y_test_new_data, y_pred).ravel()\n",
    "FPR[name] = fp/(fp+tn)\n",
    "FNR[name] = fn/(tp+fn)\n",
    "\n",
    "print(\"Algorithm: {0:12} Accuracy: {1:.5f}, F1-score: {2:.5f}, Precision: {3:.5f}, Recall: {4:.5f}, FPR: {5:.5f}, FNR: {6:.5f}\".format(name, Acc[name], F1S[name], Prec[name], Rec[name], FPR[name], FNR[name]))\n",
    "print(\"TN: {0:3}; FP: {1:3}; FN: {2:4}; TP: {3:3}\\n\".format(tn, fp, fn, tp))"
   ]
  },
  {
   "cell_type": "code",
   "execution_count": 107,
   "metadata": {},
   "outputs": [
    {
     "name": "stdout",
     "output_type": "stream",
     "text": [
      "Algorithm: AdaBoost     Accuracy: 0.98663, F1-score: 0.99323, Precision: 0.98934, Recall: 0.99715, FPR: 0.63147, FNR: 0.00285\n",
      "TN: 185; FP: 317; FN:   84; TP: 29414\n",
      "\n",
      "Algorithm: DecisionTree Accuracy: 0.97853, F1-score: 0.98915, Precision: 0.98322, Recall: 0.99515, FPR: 0.99801, FNR: 0.00485\n",
      "TN:   1; FP: 501; FN:  143; TP: 29355\n",
      "\n",
      "Algorithm: NaiveBayes   Accuracy: 0.98327, F1-score: 0.99156, Precision: 0.98327, Recall: 1.00000, FPR: 1.00000, FNR: 0.00000\n",
      "TN:   0; FP: 502; FN:    0; TP: 29498\n",
      "\n",
      "Algorithm: RandomTree   Accuracy: 0.91230, F1-score: 0.95398, Precision: 0.98540, Recall: 0.92450, FPR: 0.80478, FNR: 0.07550\n",
      "TN:  98; FP: 404; FN: 2227; TP: 27271\n",
      "\n"
     ]
    },
    {
     "name": "stderr",
     "output_type": "stream",
     "text": [
      "/home/matz/.local/lib/python3.6/site-packages/sklearn/preprocessing/data.py:625: DataConversionWarning: Data with input dtype float32 were all converted to float64 by StandardScaler.\n",
      "  return self.partial_fit(X, y)\n",
      "/home/matz/.local/lib/python3.6/site-packages/sklearn/base.py:465: DataConversionWarning: Data with input dtype float32 were all converted to float64 by StandardScaler.\n",
      "  return self.fit(X, y, **fit_params).transform(X)\n",
      "/home/matz/.local/lib/python3.6/site-packages/sklearn/pipeline.py:331: DataConversionWarning: Data with input dtype float32 were all converted to float64 by StandardScaler.\n",
      "  Xt = transform.transform(Xt)\n"
     ]
    },
    {
     "name": "stdout",
     "output_type": "stream",
     "text": [
      "Algorithm: RandomForest Accuracy: 0.98327, F1-score: 0.99156, Precision: 0.98327, Recall: 1.00000, FPR: 1.00000, FNR: 0.00000\n",
      "TN:   0; FP: 502; FN:    0; TP: 29498\n",
      "\n"
     ]
    }
   ],
   "source": [
    "from sklearn.ensemble import AdaBoostClassifier\n",
    "from sklearn.tree import DecisionTreeClassifier\n",
    "from sklearn.naive_bayes import GaussianNB\n",
    "from sklearn.ensemble import RandomForestClassifier\n",
    "from sklearn.linear_model import LogisticRegression\n",
    "\n",
    "\n",
    "seed = 12\n",
    "num_trees = 28\n",
    "\n",
    "classifiers = {\n",
    "               \"AdaBoost\":AdaBoostClassifier(DecisionTreeClassifier(max_depth = 13), n_estimators=num_trees, random_state = 0),\n",
    "               \"DecisionTree\":DecisionTreeClassifier(random_state=0, max_depth = 13),\n",
    "               \"NaiveBayes\":GaussianNB(),\n",
    "               \"RandomTree\":DecisionTreeClassifier(random_state=0, splitter = \"random\"),\n",
    "               \"RandomForest\":make_pipeline(StandardScaler(),RandomForestClassifier(n_estimators=167, max_depth=38, random_state=0)),\n",
    "              }\n",
    "\n",
    "\n",
    "for name, clf in classifiers.items():\n",
    "    \n",
    "    model = clf.fit(X_train, y_train)\n",
    "    \n",
    "    y_pred = model.predict(X_test_new_data)\n",
    "    \n",
    "    Acc[name] = metrics.accuracy_score(y_test_new_data, y_pred)\n",
    "    F1S[name] = metrics.f1_score(y_test_new_data, y_pred)\n",
    "    Prec[name] = metrics.precision_score(y_test_new_data, y_pred)\n",
    "    Rec[name] = metrics.recall_score(y_test_new_data, y_pred)\n",
    "    tn, fp, fn, tp = metrics.confusion_matrix(y_test_new_data, y_pred).ravel()\n",
    "    FPR[name] = fp/(fp+tn)\n",
    "    FNR[name] = fn/(tp+fn)\n",
    "\n",
    "    print(\"Algorithm: {0:12} Accuracy: {1:.5f}, F1-score: {2:.5f}, Precision: {3:.5f}, Recall: {4:.5f}, FPR: {5:.5f}, FNR: {6:.5f}\".format(name, Acc[name], F1S[name], Prec[name], Rec[name], FPR[name], FNR[name]))\n",
    "    print(\"TN: {0:3}; FP: {1:3}; FN: {2:4}; TP: {3:3}\\n\".format(tn, fp, fn, tp))"
   ]
  },
  {
   "cell_type": "code",
   "execution_count": 108,
   "metadata": {},
   "outputs": [],
   "source": [
    "test_input_fn = tf.estimator.inputs.numpy_input_fn(\n",
    "    x={\"features\": X_test_new_data.values},\n",
    "    y=y_test_new_data,\n",
    "    batch_size=X_test_new_data.shape[0],\n",
    "    num_epochs=1,\n",
    "    shuffle=False)"
   ]
  },
  {
   "cell_type": "code",
   "execution_count": 109,
   "metadata": {},
   "outputs": [
    {
     "name": "stdout",
     "output_type": "stream",
     "text": [
      "INFO:tensorflow:Graph was finalized.\n",
      "INFO:tensorflow:Restoring parameters from kernel_train/model.ckpt-10000\n",
      "INFO:tensorflow:Running local_init_op.\n",
      "INFO:tensorflow:Done running local_init_op.\n"
     ]
    }
   ],
   "source": [
    "pred_iterator = estimator_kernel.predict(input_fn = test_input_fn)"
   ]
  },
  {
   "cell_type": "code",
   "execution_count": 110,
   "metadata": {},
   "outputs": [],
   "source": [
    "class_id = []\n",
    "\n",
    "for pred_dict in pred_iterator:\n",
    "    class_id.append(pred_dict['classes'])\n",
    "    #print(pred_dict)"
   ]
  },
  {
   "cell_type": "code",
   "execution_count": 111,
   "metadata": {},
   "outputs": [
    {
     "name": "stdout",
     "output_type": "stream",
     "text": [
      "Algorithm: RFFM         Accuracy: 0.98827, F1-score: 0.99405, Precision: 0.99190, Recall: 0.99620, FPR: 0.47809, FNR: 0.00380\n",
      "TN: 262; FP: 240; FN:  112; TP: 29386\n",
      "\n"
     ]
    }
   ],
   "source": [
    "name = \"RFFM\"\n",
    "\n",
    "Acc[name] = metrics.accuracy_score(y_test_new_data, class_id)\n",
    "F1S[name] = metrics.f1_score(y_test_new_data, class_id)\n",
    "Prec[name] = metrics.precision_score(y_test_new_data, class_id)\n",
    "Rec[name] = metrics.recall_score(y_test_new_data, class_id)\n",
    "tn, fp, fn, tp = metrics.confusion_matrix(y_test_new_data, class_id).ravel()\n",
    "FPR[name] = fp/(fp+tn)\n",
    "FNR[name] = fn/(tp+fn)\n",
    "\n",
    "print(\"Algorithm: {0:12} Accuracy: {1:.5f}, F1-score: {2:.5f}, Precision: {3:.5f}, Recall: {4:.5f}, FPR: {5:.5f}, FNR: {6:.5f}\".format(name, Acc[name], F1S[name], Prec[name], Rec[name], FPR[name], FNR[name]))\n",
    "print(\"TN: {0:3}; FP: {1:3}; FN: {2:4}; TP: {3:3}\\n\".format(tn, fp, fn, tp))"
   ]
  },
  {
   "cell_type": "code",
   "execution_count": 112,
   "metadata": {},
   "outputs": [
    {
     "name": "stdout",
     "output_type": "stream",
     "text": [
      "INFO:tensorflow:Calling model_fn.\n",
      "INFO:tensorflow:Done calling model_fn.\n",
      "INFO:tensorflow:Graph was finalized.\n",
      "INFO:tensorflow:Restoring parameters from /home/matz/Desktop/ml_ids/NN_model2/model.ckpt-20000\n",
      "INFO:tensorflow:Running local_init_op.\n",
      "INFO:tensorflow:Done running local_init_op.\n"
     ]
    }
   ],
   "source": [
    "results = []\n",
    "results = list(NN_model.predict(input_fn=get_input_fn(test_new_data_full.loc[range(30000), :], num_epochs=1, n_batch = X_test.shape[0], shuffle=False)))"
   ]
  },
  {
   "cell_type": "code",
   "execution_count": 113,
   "metadata": {},
   "outputs": [
    {
     "data": {
      "text/plain": [
       "30000"
      ]
     },
     "execution_count": 113,
     "metadata": {},
     "output_type": "execute_result"
    }
   ],
   "source": [
    "y_pred = []\n",
    "for el in results:\n",
    "    y_pred.append(el[\"class_ids\"])\n",
    "len(y_pred)"
   ]
  },
  {
   "cell_type": "code",
   "execution_count": 114,
   "metadata": {},
   "outputs": [
    {
     "name": "stdout",
     "output_type": "stream",
     "text": [
      "Algorithm: Wide&Deep    Accuracy: 0.96547, F1-score: 0.98242, Precision: 0.98336, Recall: 0.98149, FPR: 0.97610, FNR: 0.01851\n",
      "TN:  12; FP: 490; FN:  546; TP: 28952\n",
      "\n"
     ]
    }
   ],
   "source": [
    "name = \"Wide&Deep\"\n",
    "\n",
    "Acc[name] = metrics.accuracy_score(y_test_new_data, y_pred)\n",
    "F1S[name] = metrics.f1_score(y_test_new_data, y_pred)\n",
    "Prec[name] = metrics.precision_score(y_test_new_data, y_pred)\n",
    "Rec[name] = metrics.recall_score(y_test_new_data, y_pred)\n",
    "tn, fp, fn, tp = metrics.confusion_matrix(y_test_new_data, y_pred).ravel()\n",
    "FPR[name] = fp/(fp+tn)\n",
    "FNR[name] = fn/(tp+fn)\n",
    "\n",
    "print(\"Algorithm: {0:12} Accuracy: {1:.5f}, F1-score: {2:.5f}, Precision: {3:.5f}, Recall: {4:.5f}, FPR: {5:.5f}, FNR: {6:.5f}\".format(name, Acc[name], F1S[name], Prec[name], Rec[name], FPR[name], FNR[name]))\n",
    "print(\"TN: {0:3}; FP: {1:3}; FN: {2:4}; TP: {3:3}\\n\".format(tn, fp, fn, tp))"
   ]
  },
  {
   "cell_type": "code",
   "execution_count": 115,
   "metadata": {},
   "outputs": [
    {
     "data": {
      "image/png": "[encoded data removed]",
      "text/plain": [
       "<matplotlib.figure.Figure at 0x7efdfe19cac8>"
      ]
     },
     "metadata": {
      "needs_background": "light"
     },
     "output_type": "display_data"
    },
    {
     "data": {
      "image/png": "[encoded data removed]",
      "text/plain": [
       "<matplotlib.figure.Figure at 0x7efdec57f1d0>"
      ]
     },
     "metadata": {
      "needs_background": "light"
     },
     "output_type": "display_data"
    },
    {
     "data": {
      "image/png": "[encoded data removed]",
      "text/plain": [
       "<matplotlib.figure.Figure at 0x7efdec4dd908>"
      ]
     },
     "metadata": {
      "needs_background": "light"
     },
     "output_type": "display_data"
    },
    {
     "data": {
      "image/png": "[encoded data removed]",
      "text/plain": [
       "<matplotlib.figure.Figure at 0x7efdecbe28d0>"
      ]
     },
     "metadata": {
      "needs_background": "light"
     },
     "output_type": "display_data"
    },
    {
     "data": {
      "image/png": "[encoded data removed]",
      "text/plain": [
       "<matplotlib.figure.Figure at 0x7efde96b8dd8>"
      ]
     },
     "metadata": {
      "needs_background": "light"
     },
     "output_type": "display_data"
    },
    {
     "data": {
      "image/png": "[encoded data removed]",
      "text/plain": [
       "<matplotlib.figure.Figure at 0x7efe003204e0>"
      ]
     },
     "metadata": {
      "needs_background": "light"
     },
     "output_type": "display_data"
    }
   ],
   "source": [
    "plot_stats(Acc, \"Accuracy\", 8, 55)\n",
    "plot_stats(F1S, \"F1-score\", 8, 55)\n",
    "plot_stats(Prec, \"Precision\", 8, 55)\n",
    "plot_stats(Rec, \"Recall\", 8, 55)\n",
    "plot_stats(FPR, \"False Positive Rate\", 8, 55)\n",
    "plot_stats(FNR, \"False Negative Rate\", 8, 55)"
   ]
  },
  {
   "cell_type": "code",
   "execution_count": null,
   "metadata": {},
   "outputs": [],
   "source": []
  }
 ],
 "metadata": {
  "kernelspec": {
   "display_name": "Python 3",
   "language": "python",
   "name": "python3"
  },
  "language_info": {
   "codemirror_mode": {
    "name": "ipython",
    "version": 3
   },
   "file_extension": ".py",
   "mimetype": "text/x-python",
   "name": "python",
   "nbconvert_exporter": "python",
   "pygments_lexer": "ipython3",
   "version": "3.6.7"
  }
 },
 "nbformat": 4,
 "nbformat_minor": 2
}
