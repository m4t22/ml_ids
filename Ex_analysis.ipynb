{
 "cells": [
  {
   "cell_type": "code",
   "execution_count": 313,
   "metadata": {},
   "outputs": [],
   "source": [
    "import pandas as pd\n",
    "import matplotlib.pyplot as plt\n",
    "import numpy as np\n",
    "\n",
    "%matplotlib inline \n",
    "%config IPCompleter.greedy=True"
   ]
  },
  {
   "cell_type": "markdown",
   "metadata": {},
   "source": [
    "## Reading data from file"
   ]
  },
  {
   "cell_type": "code",
   "execution_count": 314,
   "metadata": {},
   "outputs": [
    {
     "name": "stdout",
     "output_type": "stream",
     "text": [
      "Counter({-1: 338997, 1: 80149})\n"
     ]
    }
   ],
   "source": [
    "from collections import Counter\n",
    "\n",
    "data1 = pd.read_csv(\"20151219.txt\", sep = \"\\t\", header = None)\n",
    "data1.columns = [\"conn len\", \"service\", \"src bytes\", \"dst bytes\", \"conn numb\", \"Same srv rate\", \"Serror rate\", \"Srv serror rate\", \"Dst host count\", \"Dst host srv count\", \"Dst host same src port rate\", \"Dst host serror rate\", \"Dst host srv serror rate\", \"Conn state\", \"IDS detection\", \"Malware detection\", \"Ashula detection\", \"attack_flag\", \"src IP\", \"src port\", \"dst IP\", \"dst port\", \"start time\", \"proto\"]\n",
    "\n",
    "data2 = pd.read_csv(\"20151220.txt\", sep = \"\\t\", header = None)\n",
    "data2.columns = [\"conn len\", \"service\", \"src bytes\", \"dst bytes\", \"conn numb\", \"Same srv rate\", \"Serror rate\", \"Srv serror rate\", \"Dst host count\", \"Dst host srv count\", \"Dst host same src port rate\", \"Dst host serror rate\", \"Dst host srv serror rate\", \"Conn state\", \"IDS detection\", \"Malware detection\", \"Ashula detection\", \"attack_flag\", \"src IP\", \"src port\", \"dst IP\", \"dst port\", \"start time\", \"proto\"]\n",
    "\n",
    "data = data1.append(data2, ignore_index=True)\n",
    "\n",
    "print(Counter(data[\"attack_flag\"]))"
   ]
  },
  {
   "cell_type": "markdown",
   "metadata": {},
   "source": [
    "## Transform to binary"
   ]
  },
  {
   "cell_type": "code",
   "execution_count": 315,
   "metadata": {},
   "outputs": [
    {
     "name": "stdout",
     "output_type": "stream",
     "text": [
      "Counter({1: 338997, 0: 80149})\n"
     ]
    }
   ],
   "source": [
    "data.loc[:, \"attack_flag\"] = data.loc[:,\"attack_flag\"].replace(-2, -1)\n",
    "data.loc[:, \"attack_flag\"] = data.loc[:, \"attack_flag\"] * -1\n",
    "data.loc[:, \"attack_flag\"] = data.loc[:,\"attack_flag\"].replace(-1, 0)\n",
    "\n",
    "print(Counter(data[\"attack_flag\"]))"
   ]
  },
  {
   "cell_type": "markdown",
   "metadata": {},
   "source": [
    "## Drop additional features"
   ]
  },
  {
   "cell_type": "code",
   "execution_count": 316,
   "metadata": {},
   "outputs": [
    {
     "name": "stdout",
     "output_type": "stream",
     "text": [
      "(419146, 24)\n",
      "(419146, 21)\n"
     ]
    },
    {
     "data": {
      "text/plain": [
       "1    338997\n",
       "0     80149\n",
       "Name: attack_flag, dtype: int64"
      ]
     },
     "execution_count": 316,
     "metadata": {},
     "output_type": "execute_result"
    }
   ],
   "source": [
    "# slice dataset, drop additional features\n",
    "print(data.shape)\n",
    "data = data.drop(['start time', 'dst IP', 'src IP'], axis=1)\n",
    "print(data.shape)\n",
    "\n",
    "# drop software markers\n",
    "data = data.drop([\"IDS detection\", \"Malware detection\", \"Ashula detection\"], axis=1)\n",
    "data[\"attack_flag\"].value_counts()"
   ]
  },
  {
   "cell_type": "code",
   "execution_count": 317,
   "metadata": {},
   "outputs": [
    {
     "name": "stdout",
     "output_type": "stream",
     "text": [
      "<class 'pandas.core.frame.DataFrame'>\n",
      "RangeIndex: 419146 entries, 0 to 419145\n",
      "Data columns (total 18 columns):\n",
      "conn len                       419146 non-null float64\n",
      "service                        419146 non-null object\n",
      "src bytes                      419146 non-null int64\n",
      "dst bytes                      419146 non-null int64\n",
      "conn numb                      419146 non-null int64\n",
      "Same srv rate                  419146 non-null float64\n",
      "Serror rate                    419146 non-null float64\n",
      "Srv serror rate                419146 non-null float64\n",
      "Dst host count                 419146 non-null int64\n",
      "Dst host srv count             419146 non-null int64\n",
      "Dst host same src port rate    419146 non-null float64\n",
      "Dst host serror rate           419146 non-null float64\n",
      "Dst host srv serror rate       419146 non-null float64\n",
      "Conn state                     419146 non-null object\n",
      "attack_flag                    419146 non-null int64\n",
      "src port                       419146 non-null int64\n",
      "dst port                       419146 non-null int64\n",
      "proto                          419146 non-null object\n",
      "dtypes: float64(7), int64(8), object(3)\n",
      "memory usage: 57.6+ MB\n"
     ]
    }
   ],
   "source": [
    "data.info()"
   ]
  },
  {
   "cell_type": "code",
   "execution_count": 318,
   "metadata": {},
   "outputs": [
    {
     "data": {
      "text/html": [
       "<div>\n",
       "<style scoped>\n",
       "    .dataframe tbody tr th:only-of-type {\n",
       "        vertical-align: middle;\n",
       "    }\n",
       "\n",
       "    .dataframe tbody tr th {\n",
       "        vertical-align: top;\n",
       "    }\n",
       "\n",
       "    .dataframe thead th {\n",
       "        text-align: right;\n",
       "    }\n",
       "</style>\n",
       "<table border=\"1\" class=\"dataframe\">\n",
       "  <thead>\n",
       "    <tr style=\"text-align: right;\">\n",
       "      <th></th>\n",
       "      <th>conn len</th>\n",
       "      <th>service</th>\n",
       "      <th>src bytes</th>\n",
       "      <th>dst bytes</th>\n",
       "      <th>conn numb</th>\n",
       "      <th>Same srv rate</th>\n",
       "      <th>Serror rate</th>\n",
       "      <th>Srv serror rate</th>\n",
       "      <th>Dst host count</th>\n",
       "      <th>Dst host srv count</th>\n",
       "      <th>Dst host same src port rate</th>\n",
       "      <th>Dst host serror rate</th>\n",
       "      <th>Dst host srv serror rate</th>\n",
       "      <th>Conn state</th>\n",
       "      <th>attack_flag</th>\n",
       "      <th>src port</th>\n",
       "      <th>dst port</th>\n",
       "      <th>proto</th>\n",
       "    </tr>\n",
       "  </thead>\n",
       "  <tbody>\n",
       "    <tr>\n",
       "      <th>419136</th>\n",
       "      <td>0.000000</td>\n",
       "      <td>other</td>\n",
       "      <td>0</td>\n",
       "      <td>0</td>\n",
       "      <td>0</td>\n",
       "      <td>0.0</td>\n",
       "      <td>0.0</td>\n",
       "      <td>1.00</td>\n",
       "      <td>0</td>\n",
       "      <td>0</td>\n",
       "      <td>0.0</td>\n",
       "      <td>0.0</td>\n",
       "      <td>0.0</td>\n",
       "      <td>S0</td>\n",
       "      <td>1</td>\n",
       "      <td>54695</td>\n",
       "      <td>8081</td>\n",
       "      <td>tcp</td>\n",
       "    </tr>\n",
       "    <tr>\n",
       "      <th>419137</th>\n",
       "      <td>0.000000</td>\n",
       "      <td>other</td>\n",
       "      <td>0</td>\n",
       "      <td>0</td>\n",
       "      <td>0</td>\n",
       "      <td>0.0</td>\n",
       "      <td>0.0</td>\n",
       "      <td>0.00</td>\n",
       "      <td>1</td>\n",
       "      <td>1</td>\n",
       "      <td>0.0</td>\n",
       "      <td>1.0</td>\n",
       "      <td>1.0</td>\n",
       "      <td>S0</td>\n",
       "      <td>1</td>\n",
       "      <td>44997</td>\n",
       "      <td>21320</td>\n",
       "      <td>tcp</td>\n",
       "    </tr>\n",
       "    <tr>\n",
       "      <th>419138</th>\n",
       "      <td>0.485847</td>\n",
       "      <td>other</td>\n",
       "      <td>0</td>\n",
       "      <td>0</td>\n",
       "      <td>0</td>\n",
       "      <td>0.0</td>\n",
       "      <td>0.0</td>\n",
       "      <td>1.00</td>\n",
       "      <td>5</td>\n",
       "      <td>4</td>\n",
       "      <td>0.0</td>\n",
       "      <td>0.0</td>\n",
       "      <td>0.0</td>\n",
       "      <td>RSTR</td>\n",
       "      <td>1</td>\n",
       "      <td>65024</td>\n",
       "      <td>3389</td>\n",
       "      <td>tcp</td>\n",
       "    </tr>\n",
       "    <tr>\n",
       "      <th>419139</th>\n",
       "      <td>3.253905</td>\n",
       "      <td>other</td>\n",
       "      <td>0</td>\n",
       "      <td>0</td>\n",
       "      <td>0</td>\n",
       "      <td>0.0</td>\n",
       "      <td>0.0</td>\n",
       "      <td>0.50</td>\n",
       "      <td>1</td>\n",
       "      <td>39</td>\n",
       "      <td>1.0</td>\n",
       "      <td>1.0</td>\n",
       "      <td>1.0</td>\n",
       "      <td>S0</td>\n",
       "      <td>1</td>\n",
       "      <td>18399</td>\n",
       "      <td>25</td>\n",
       "      <td>tcp</td>\n",
       "    </tr>\n",
       "    <tr>\n",
       "      <th>419140</th>\n",
       "      <td>0.000000</td>\n",
       "      <td>other</td>\n",
       "      <td>0</td>\n",
       "      <td>0</td>\n",
       "      <td>0</td>\n",
       "      <td>0.0</td>\n",
       "      <td>0.0</td>\n",
       "      <td>0.67</td>\n",
       "      <td>4</td>\n",
       "      <td>4</td>\n",
       "      <td>1.0</td>\n",
       "      <td>1.0</td>\n",
       "      <td>1.0</td>\n",
       "      <td>S0</td>\n",
       "      <td>1</td>\n",
       "      <td>33863</td>\n",
       "      <td>20012</td>\n",
       "      <td>tcp</td>\n",
       "    </tr>\n",
       "    <tr>\n",
       "      <th>419141</th>\n",
       "      <td>0.000000</td>\n",
       "      <td>other</td>\n",
       "      <td>0</td>\n",
       "      <td>0</td>\n",
       "      <td>0</td>\n",
       "      <td>0.0</td>\n",
       "      <td>0.0</td>\n",
       "      <td>0.75</td>\n",
       "      <td>0</td>\n",
       "      <td>0</td>\n",
       "      <td>0.0</td>\n",
       "      <td>0.0</td>\n",
       "      <td>0.0</td>\n",
       "      <td>OTH</td>\n",
       "      <td>1</td>\n",
       "      <td>3</td>\n",
       "      <td>3</td>\n",
       "      <td>icmp</td>\n",
       "    </tr>\n",
       "    <tr>\n",
       "      <th>419142</th>\n",
       "      <td>3.135446</td>\n",
       "      <td>rdp</td>\n",
       "      <td>1726</td>\n",
       "      <td>5591</td>\n",
       "      <td>1</td>\n",
       "      <td>0.0</td>\n",
       "      <td>0.0</td>\n",
       "      <td>0.00</td>\n",
       "      <td>5</td>\n",
       "      <td>72</td>\n",
       "      <td>0.0</td>\n",
       "      <td>0.0</td>\n",
       "      <td>0.0</td>\n",
       "      <td>S1</td>\n",
       "      <td>1</td>\n",
       "      <td>62518</td>\n",
       "      <td>3389</td>\n",
       "      <td>tcp</td>\n",
       "    </tr>\n",
       "    <tr>\n",
       "      <th>419143</th>\n",
       "      <td>0.000000</td>\n",
       "      <td>other</td>\n",
       "      <td>0</td>\n",
       "      <td>0</td>\n",
       "      <td>0</td>\n",
       "      <td>0.0</td>\n",
       "      <td>0.0</td>\n",
       "      <td>0.60</td>\n",
       "      <td>0</td>\n",
       "      <td>2</td>\n",
       "      <td>0.0</td>\n",
       "      <td>0.0</td>\n",
       "      <td>1.0</td>\n",
       "      <td>S0</td>\n",
       "      <td>1</td>\n",
       "      <td>35137</td>\n",
       "      <td>123</td>\n",
       "      <td>udp</td>\n",
       "    </tr>\n",
       "    <tr>\n",
       "      <th>419144</th>\n",
       "      <td>0.000000</td>\n",
       "      <td>other</td>\n",
       "      <td>0</td>\n",
       "      <td>0</td>\n",
       "      <td>0</td>\n",
       "      <td>0.0</td>\n",
       "      <td>0.0</td>\n",
       "      <td>0.67</td>\n",
       "      <td>0</td>\n",
       "      <td>0</td>\n",
       "      <td>0.0</td>\n",
       "      <td>0.0</td>\n",
       "      <td>0.0</td>\n",
       "      <td>S0</td>\n",
       "      <td>1</td>\n",
       "      <td>42613</td>\n",
       "      <td>81</td>\n",
       "      <td>tcp</td>\n",
       "    </tr>\n",
       "    <tr>\n",
       "      <th>419145</th>\n",
       "      <td>0.000000</td>\n",
       "      <td>other</td>\n",
       "      <td>0</td>\n",
       "      <td>0</td>\n",
       "      <td>0</td>\n",
       "      <td>0.0</td>\n",
       "      <td>0.0</td>\n",
       "      <td>1.00</td>\n",
       "      <td>0</td>\n",
       "      <td>0</td>\n",
       "      <td>0.0</td>\n",
       "      <td>0.0</td>\n",
       "      <td>0.0</td>\n",
       "      <td>S0</td>\n",
       "      <td>1</td>\n",
       "      <td>42346</td>\n",
       "      <td>21320</td>\n",
       "      <td>tcp</td>\n",
       "    </tr>\n",
       "  </tbody>\n",
       "</table>\n",
       "</div>"
      ],
      "text/plain": [
       "        conn len service  src bytes  dst bytes  conn numb  Same srv rate  \\\n",
       "419136  0.000000   other          0          0          0            0.0   \n",
       "419137  0.000000   other          0          0          0            0.0   \n",
       "419138  0.485847   other          0          0          0            0.0   \n",
       "419139  3.253905   other          0          0          0            0.0   \n",
       "419140  0.000000   other          0          0          0            0.0   \n",
       "419141  0.000000   other          0          0          0            0.0   \n",
       "419142  3.135446     rdp       1726       5591          1            0.0   \n",
       "419143  0.000000   other          0          0          0            0.0   \n",
       "419144  0.000000   other          0          0          0            0.0   \n",
       "419145  0.000000   other          0          0          0            0.0   \n",
       "\n",
       "        Serror rate  Srv serror rate  Dst host count  Dst host srv count  \\\n",
       "419136          0.0             1.00               0                   0   \n",
       "419137          0.0             0.00               1                   1   \n",
       "419138          0.0             1.00               5                   4   \n",
       "419139          0.0             0.50               1                  39   \n",
       "419140          0.0             0.67               4                   4   \n",
       "419141          0.0             0.75               0                   0   \n",
       "419142          0.0             0.00               5                  72   \n",
       "419143          0.0             0.60               0                   2   \n",
       "419144          0.0             0.67               0                   0   \n",
       "419145          0.0             1.00               0                   0   \n",
       "\n",
       "        Dst host same src port rate  Dst host serror rate  \\\n",
       "419136                          0.0                   0.0   \n",
       "419137                          0.0                   1.0   \n",
       "419138                          0.0                   0.0   \n",
       "419139                          1.0                   1.0   \n",
       "419140                          1.0                   1.0   \n",
       "419141                          0.0                   0.0   \n",
       "419142                          0.0                   0.0   \n",
       "419143                          0.0                   0.0   \n",
       "419144                          0.0                   0.0   \n",
       "419145                          0.0                   0.0   \n",
       "\n",
       "        Dst host srv serror rate Conn state  attack_flag  src port  dst port  \\\n",
       "419136                       0.0         S0            1     54695      8081   \n",
       "419137                       1.0         S0            1     44997     21320   \n",
       "419138                       0.0       RSTR            1     65024      3389   \n",
       "419139                       1.0         S0            1     18399        25   \n",
       "419140                       1.0         S0            1     33863     20012   \n",
       "419141                       0.0        OTH            1         3         3   \n",
       "419142                       0.0         S1            1     62518      3389   \n",
       "419143                       1.0         S0            1     35137       123   \n",
       "419144                       0.0         S0            1     42613        81   \n",
       "419145                       0.0         S0            1     42346     21320   \n",
       "\n",
       "       proto  \n",
       "419136   tcp  \n",
       "419137   tcp  \n",
       "419138   tcp  \n",
       "419139   tcp  \n",
       "419140   tcp  \n",
       "419141  icmp  \n",
       "419142   tcp  \n",
       "419143   udp  \n",
       "419144   tcp  \n",
       "419145   tcp  "
      ]
     },
     "execution_count": 318,
     "metadata": {},
     "output_type": "execute_result"
    }
   ],
   "source": [
    "data.tail(10)"
   ]
  },
  {
   "cell_type": "code",
   "execution_count": 319,
   "metadata": {},
   "outputs": [
    {
     "data": {
      "text/html": [
       "<div>\n",
       "<style scoped>\n",
       "    .dataframe tbody tr th:only-of-type {\n",
       "        vertical-align: middle;\n",
       "    }\n",
       "\n",
       "    .dataframe tbody tr th {\n",
       "        vertical-align: top;\n",
       "    }\n",
       "\n",
       "    .dataframe thead th {\n",
       "        text-align: right;\n",
       "    }\n",
       "</style>\n",
       "<table border=\"1\" class=\"dataframe\">\n",
       "  <thead>\n",
       "    <tr style=\"text-align: right;\">\n",
       "      <th></th>\n",
       "      <th>conn len</th>\n",
       "      <th>src bytes</th>\n",
       "      <th>dst bytes</th>\n",
       "      <th>conn numb</th>\n",
       "      <th>Same srv rate</th>\n",
       "      <th>Serror rate</th>\n",
       "      <th>Srv serror rate</th>\n",
       "      <th>Dst host count</th>\n",
       "      <th>Dst host srv count</th>\n",
       "      <th>Dst host same src port rate</th>\n",
       "      <th>Dst host serror rate</th>\n",
       "      <th>Dst host srv serror rate</th>\n",
       "      <th>attack_flag</th>\n",
       "      <th>src port</th>\n",
       "      <th>dst port</th>\n",
       "    </tr>\n",
       "  </thead>\n",
       "  <tbody>\n",
       "    <tr>\n",
       "      <th>count</th>\n",
       "      <td>419146.000000</td>\n",
       "      <td>4.191460e+05</td>\n",
       "      <td>419146.000000</td>\n",
       "      <td>419146.000000</td>\n",
       "      <td>419146.000000</td>\n",
       "      <td>419146.000000</td>\n",
       "      <td>419146.000000</td>\n",
       "      <td>419146.000000</td>\n",
       "      <td>419146.000000</td>\n",
       "      <td>419146.000000</td>\n",
       "      <td>419146.000000</td>\n",
       "      <td>419146.000000</td>\n",
       "      <td>419146.000000</td>\n",
       "      <td>419146.000000</td>\n",
       "      <td>419146.000000</td>\n",
       "    </tr>\n",
       "    <tr>\n",
       "      <th>mean</th>\n",
       "      <td>0.897800</td>\n",
       "      <td>2.168004e+04</td>\n",
       "      <td>364.750896</td>\n",
       "      <td>2.522923</td>\n",
       "      <td>0.357259</td>\n",
       "      <td>0.064550</td>\n",
       "      <td>0.548421</td>\n",
       "      <td>25.437657</td>\n",
       "      <td>28.919419</td>\n",
       "      <td>0.073814</td>\n",
       "      <td>0.068824</td>\n",
       "      <td>0.153320</td>\n",
       "      <td>0.808780</td>\n",
       "      <td>34004.366686</td>\n",
       "      <td>3584.727816</td>\n",
       "    </tr>\n",
       "    <tr>\n",
       "      <th>std</th>\n",
       "      <td>4.749450</td>\n",
       "      <td>4.708272e+06</td>\n",
       "      <td>2285.497265</td>\n",
       "      <td>5.451557</td>\n",
       "      <td>0.477454</td>\n",
       "      <td>0.244823</td>\n",
       "      <td>0.462899</td>\n",
       "      <td>41.519257</td>\n",
       "      <td>42.252740</td>\n",
       "      <td>0.259441</td>\n",
       "      <td>0.252677</td>\n",
       "      <td>0.357215</td>\n",
       "      <td>0.393262</td>\n",
       "      <td>19713.691673</td>\n",
       "      <td>10928.964687</td>\n",
       "    </tr>\n",
       "    <tr>\n",
       "      <th>min</th>\n",
       "      <td>0.000000</td>\n",
       "      <td>0.000000e+00</td>\n",
       "      <td>0.000000</td>\n",
       "      <td>0.000000</td>\n",
       "      <td>0.000000</td>\n",
       "      <td>0.000000</td>\n",
       "      <td>0.000000</td>\n",
       "      <td>0.000000</td>\n",
       "      <td>0.000000</td>\n",
       "      <td>0.000000</td>\n",
       "      <td>0.000000</td>\n",
       "      <td>0.000000</td>\n",
       "      <td>0.000000</td>\n",
       "      <td>0.000000</td>\n",
       "      <td>0.000000</td>\n",
       "    </tr>\n",
       "    <tr>\n",
       "      <th>25%</th>\n",
       "      <td>0.000000</td>\n",
       "      <td>0.000000e+00</td>\n",
       "      <td>0.000000</td>\n",
       "      <td>0.000000</td>\n",
       "      <td>0.000000</td>\n",
       "      <td>0.000000</td>\n",
       "      <td>0.000000</td>\n",
       "      <td>0.000000</td>\n",
       "      <td>0.000000</td>\n",
       "      <td>0.000000</td>\n",
       "      <td>0.000000</td>\n",
       "      <td>0.000000</td>\n",
       "      <td>1.000000</td>\n",
       "      <td>12375.000000</td>\n",
       "      <td>23.000000</td>\n",
       "    </tr>\n",
       "    <tr>\n",
       "      <th>50%</th>\n",
       "      <td>0.000091</td>\n",
       "      <td>0.000000e+00</td>\n",
       "      <td>0.000000</td>\n",
       "      <td>0.000000</td>\n",
       "      <td>0.000000</td>\n",
       "      <td>0.000000</td>\n",
       "      <td>0.750000</td>\n",
       "      <td>0.000000</td>\n",
       "      <td>1.000000</td>\n",
       "      <td>0.000000</td>\n",
       "      <td>0.000000</td>\n",
       "      <td>0.000000</td>\n",
       "      <td>1.000000</td>\n",
       "      <td>38884.000000</td>\n",
       "      <td>53.000000</td>\n",
       "    </tr>\n",
       "    <tr>\n",
       "      <th>75%</th>\n",
       "      <td>0.721284</td>\n",
       "      <td>4.500000e+01</td>\n",
       "      <td>77.000000</td>\n",
       "      <td>3.000000</td>\n",
       "      <td>1.000000</td>\n",
       "      <td>0.000000</td>\n",
       "      <td>1.000000</td>\n",
       "      <td>73.000000</td>\n",
       "      <td>92.000000</td>\n",
       "      <td>0.000000</td>\n",
       "      <td>0.000000</td>\n",
       "      <td>0.000000</td>\n",
       "      <td>1.000000</td>\n",
       "      <td>50359.000000</td>\n",
       "      <td>1433.000000</td>\n",
       "    </tr>\n",
       "    <tr>\n",
       "      <th>max</th>\n",
       "      <td>1061.910079</td>\n",
       "      <td>1.696585e+09</td>\n",
       "      <td>157723.000000</td>\n",
       "      <td>84.000000</td>\n",
       "      <td>1.000000</td>\n",
       "      <td>1.000000</td>\n",
       "      <td>1.000000</td>\n",
       "      <td>100.000000</td>\n",
       "      <td>100.000000</td>\n",
       "      <td>1.000000</td>\n",
       "      <td>1.000000</td>\n",
       "      <td>1.000000</td>\n",
       "      <td>1.000000</td>\n",
       "      <td>65535.000000</td>\n",
       "      <td>65507.000000</td>\n",
       "    </tr>\n",
       "  </tbody>\n",
       "</table>\n",
       "</div>"
      ],
      "text/plain": [
       "            conn len     src bytes      dst bytes      conn numb  \\\n",
       "count  419146.000000  4.191460e+05  419146.000000  419146.000000   \n",
       "mean        0.897800  2.168004e+04     364.750896       2.522923   \n",
       "std         4.749450  4.708272e+06    2285.497265       5.451557   \n",
       "min         0.000000  0.000000e+00       0.000000       0.000000   \n",
       "25%         0.000000  0.000000e+00       0.000000       0.000000   \n",
       "50%         0.000091  0.000000e+00       0.000000       0.000000   \n",
       "75%         0.721284  4.500000e+01      77.000000       3.000000   \n",
       "max      1061.910079  1.696585e+09  157723.000000      84.000000   \n",
       "\n",
       "       Same srv rate    Serror rate  Srv serror rate  Dst host count  \\\n",
       "count  419146.000000  419146.000000    419146.000000   419146.000000   \n",
       "mean        0.357259       0.064550         0.548421       25.437657   \n",
       "std         0.477454       0.244823         0.462899       41.519257   \n",
       "min         0.000000       0.000000         0.000000        0.000000   \n",
       "25%         0.000000       0.000000         0.000000        0.000000   \n",
       "50%         0.000000       0.000000         0.750000        0.000000   \n",
       "75%         1.000000       0.000000         1.000000       73.000000   \n",
       "max         1.000000       1.000000         1.000000      100.000000   \n",
       "\n",
       "       Dst host srv count  Dst host same src port rate  Dst host serror rate  \\\n",
       "count       419146.000000                419146.000000         419146.000000   \n",
       "mean            28.919419                     0.073814              0.068824   \n",
       "std             42.252740                     0.259441              0.252677   \n",
       "min              0.000000                     0.000000              0.000000   \n",
       "25%              0.000000                     0.000000              0.000000   \n",
       "50%              1.000000                     0.000000              0.000000   \n",
       "75%             92.000000                     0.000000              0.000000   \n",
       "max            100.000000                     1.000000              1.000000   \n",
       "\n",
       "       Dst host srv serror rate    attack_flag       src port       dst port  \n",
       "count             419146.000000  419146.000000  419146.000000  419146.000000  \n",
       "mean                   0.153320       0.808780   34004.366686    3584.727816  \n",
       "std                    0.357215       0.393262   19713.691673   10928.964687  \n",
       "min                    0.000000       0.000000       0.000000       0.000000  \n",
       "25%                    0.000000       1.000000   12375.000000      23.000000  \n",
       "50%                    0.000000       1.000000   38884.000000      53.000000  \n",
       "75%                    0.000000       1.000000   50359.000000    1433.000000  \n",
       "max                    1.000000       1.000000   65535.000000   65507.000000  "
      ]
     },
     "execution_count": 319,
     "metadata": {},
     "output_type": "execute_result"
    }
   ],
   "source": [
    "data.describe()"
   ]
  },
  {
   "cell_type": "code",
   "execution_count": 320,
   "metadata": {},
   "outputs": [
    {
     "data": {
      "text/plain": [
       "(419146, 18)"
      ]
     },
     "execution_count": 320,
     "metadata": {},
     "output_type": "execute_result"
    }
   ],
   "source": [
    "# removing NaNs\n",
    "data = data.dropna()\n",
    "data.shape"
   ]
  },
  {
   "cell_type": "code",
   "execution_count": 321,
   "metadata": {},
   "outputs": [
    {
     "data": {
      "text/plain": [
       "S0        247950\n",
       "SF        104018\n",
       "RSTO       26466\n",
       "OTH        19608\n",
       "REJ        15659\n",
       "RSTRH       1853\n",
       "RSTOS0      1514\n",
       "SHR         1195\n",
       "RSTR         778\n",
       "S1           103\n",
       "SH             2\n",
       "Name: Conn state, dtype: int64"
      ]
     },
     "execution_count": 321,
     "metadata": {},
     "output_type": "execute_result"
    }
   ],
   "source": [
    "data[\"Conn state\"].value_counts(dropna=False)"
   ]
  },
  {
   "cell_type": "code",
   "execution_count": 322,
   "metadata": {},
   "outputs": [
    {
     "data": {
      "text/plain": [
       "other      259775\n",
       "dns        102883\n",
       "ssh         29769\n",
       "sip         20915\n",
       "rdp          3640\n",
       "snmp         1096\n",
       "smtp          999\n",
       "dhcp           43\n",
       "http           21\n",
       "ssl             3\n",
       "dns,sip         2\n",
       "Name: service, dtype: int64"
      ]
     },
     "execution_count": 322,
     "metadata": {},
     "output_type": "execute_result"
    }
   ],
   "source": [
    "data[\"service\"].value_counts(dropna=False)"
   ]
  },
  {
   "cell_type": "code",
   "execution_count": 323,
   "metadata": {},
   "outputs": [
    {
     "data": {
      "text/plain": [
       "tcp     256581\n",
       "udp     153868\n",
       "icmp      8697\n",
       "Name: proto, dtype: int64"
      ]
     },
     "execution_count": 323,
     "metadata": {},
     "output_type": "execute_result"
    }
   ],
   "source": [
    "data[\"proto\"].value_counts(dropna=False)"
   ]
  },
  {
   "cell_type": "markdown",
   "metadata": {},
   "source": [
    "# a bit of feature engineering"
   ]
  },
  {
   "cell_type": "markdown",
   "metadata": {},
   "source": [
    "## port numbers classification"
   ]
  },
  {
   "cell_type": "code",
   "execution_count": 324,
   "metadata": {},
   "outputs": [],
   "source": [
    "t1 = 1023  # well-known port numbers\n",
    "t2 = 49151 # registered ports\n",
    "t3 = 65535 # client ports\n",
    "\n",
    "def wk(data_row):\n",
    "    if (data_row[\"src port\"] <= t1): \n",
    "        value = 1\n",
    "    elif ((data_row[\"src port\"] > t1) and (data_row[\"src port\"] <= t2)):\n",
    "        value = 0\n",
    "    elif ((data_row[\"src port\"] > t2) and (data_row[\"src port\"] <= t3)):\n",
    "        value = 0\n",
    "    return value\n",
    "\n",
    "def reg(data_row):\n",
    "    if (data_row[\"src port\"] <= t1): \n",
    "        value = 0\n",
    "    elif ((data_row[\"src port\"] > t1) and (data_row[\"src port\"] <= t2)):\n",
    "        value = 1\n",
    "    elif ((data_row[\"src port\"] > t2) and (data_row[\"src port\"] <= t3)):\n",
    "        value = 0\n",
    "    return value\n",
    "\n",
    "def cli(data_row):\n",
    "    if (data_row[\"src port\"] <= t1): \n",
    "        value = 0\n",
    "    elif ((data_row[\"src port\"] > t1) and (data_row[\"src port\"] <= t2)):\n",
    "        value = 0\n",
    "    elif ((data_row[\"src port\"] > t2) and (data_row[\"src port\"] <= t3)):\n",
    "        value = 1\n",
    "    return value\n",
    "\n",
    "data[\"well-known src pool\"] = data.apply(wk, axis=1)\n",
    "data[\"registered src pool\"] = data.apply(reg, axis=1)\n",
    "data[\"cli src pool\"] = data.apply(cli, axis=1)"
   ]
  },
  {
   "cell_type": "code",
   "execution_count": 325,
   "metadata": {},
   "outputs": [
    {
     "name": "stdout",
     "output_type": "stream",
     "text": [
      "Counter({0: 406741, 1: 12405})\n",
      "Counter({1: 291278, 0: 127868})\n",
      "Counter({0: 303683, 1: 115463})\n"
     ]
    }
   ],
   "source": [
    "print(Counter(data[\"well-known src pool\"]))\n",
    "print(Counter(data[\"registered src pool\"]))\n",
    "print(Counter(data[\"cli src pool\"]))"
   ]
  },
  {
   "cell_type": "code",
   "execution_count": 326,
   "metadata": {
    "scrolled": true
   },
   "outputs": [
    {
     "name": "stdout",
     "output_type": "stream",
     "text": [
      "<class 'pandas.core.frame.DataFrame'>\n",
      "Int64Index: 419146 entries, 0 to 419145\n",
      "Data columns (total 21 columns):\n",
      "conn len                       419146 non-null float64\n",
      "service                        419146 non-null object\n",
      "src bytes                      419146 non-null int64\n",
      "dst bytes                      419146 non-null int64\n",
      "conn numb                      419146 non-null int64\n",
      "Same srv rate                  419146 non-null float64\n",
      "Serror rate                    419146 non-null float64\n",
      "Srv serror rate                419146 non-null float64\n",
      "Dst host count                 419146 non-null int64\n",
      "Dst host srv count             419146 non-null int64\n",
      "Dst host same src port rate    419146 non-null float64\n",
      "Dst host serror rate           419146 non-null float64\n",
      "Dst host srv serror rate       419146 non-null float64\n",
      "Conn state                     419146 non-null object\n",
      "attack_flag                    419146 non-null int64\n",
      "src port                       419146 non-null int64\n",
      "dst port                       419146 non-null int64\n",
      "proto                          419146 non-null object\n",
      "well-known src pool            419146 non-null int64\n",
      "registered src pool            419146 non-null int64\n",
      "cli src pool                   419146 non-null int64\n",
      "dtypes: float64(7), int64(11), object(3)\n",
      "memory usage: 70.4+ MB\n"
     ]
    }
   ],
   "source": [
    "data.info()"
   ]
  },
  {
   "cell_type": "code",
   "execution_count": 327,
   "metadata": {},
   "outputs": [
    {
     "data": {
      "text/html": [
       "<div>\n",
       "<style scoped>\n",
       "    .dataframe tbody tr th:only-of-type {\n",
       "        vertical-align: middle;\n",
       "    }\n",
       "\n",
       "    .dataframe tbody tr th {\n",
       "        vertical-align: top;\n",
       "    }\n",
       "\n",
       "    .dataframe thead th {\n",
       "        text-align: right;\n",
       "    }\n",
       "</style>\n",
       "<table border=\"1\" class=\"dataframe\">\n",
       "  <thead>\n",
       "    <tr style=\"text-align: right;\">\n",
       "      <th></th>\n",
       "      <th>src port</th>\n",
       "      <th>dst port</th>\n",
       "      <th>well-known src pool</th>\n",
       "      <th>registered src pool</th>\n",
       "      <th>cli src pool</th>\n",
       "    </tr>\n",
       "  </thead>\n",
       "  <tbody>\n",
       "    <tr>\n",
       "      <th>0</th>\n",
       "      <td>40061</td>\n",
       "      <td>111</td>\n",
       "      <td>0</td>\n",
       "      <td>1</td>\n",
       "      <td>0</td>\n",
       "    </tr>\n",
       "    <tr>\n",
       "      <th>1</th>\n",
       "      <td>53488</td>\n",
       "      <td>80</td>\n",
       "      <td>0</td>\n",
       "      <td>0</td>\n",
       "      <td>1</td>\n",
       "    </tr>\n",
       "    <tr>\n",
       "      <th>2</th>\n",
       "      <td>35051</td>\n",
       "      <td>23</td>\n",
       "      <td>0</td>\n",
       "      <td>1</td>\n",
       "      <td>0</td>\n",
       "    </tr>\n",
       "    <tr>\n",
       "      <th>3</th>\n",
       "      <td>1408</td>\n",
       "      <td>445</td>\n",
       "      <td>0</td>\n",
       "      <td>1</td>\n",
       "      <td>0</td>\n",
       "    </tr>\n",
       "    <tr>\n",
       "      <th>4</th>\n",
       "      <td>55244</td>\n",
       "      <td>995</td>\n",
       "      <td>0</td>\n",
       "      <td>0</td>\n",
       "      <td>1</td>\n",
       "    </tr>\n",
       "    <tr>\n",
       "      <th>5</th>\n",
       "      <td>44544</td>\n",
       "      <td>995</td>\n",
       "      <td>0</td>\n",
       "      <td>1</td>\n",
       "      <td>0</td>\n",
       "    </tr>\n",
       "    <tr>\n",
       "      <th>6</th>\n",
       "      <td>50678</td>\n",
       "      <td>5900</td>\n",
       "      <td>0</td>\n",
       "      <td>0</td>\n",
       "      <td>1</td>\n",
       "    </tr>\n",
       "    <tr>\n",
       "      <th>7</th>\n",
       "      <td>35051</td>\n",
       "      <td>23</td>\n",
       "      <td>0</td>\n",
       "      <td>1</td>\n",
       "      <td>0</td>\n",
       "    </tr>\n",
       "    <tr>\n",
       "      <th>8</th>\n",
       "      <td>50678</td>\n",
       "      <td>5900</td>\n",
       "      <td>0</td>\n",
       "      <td>0</td>\n",
       "      <td>1</td>\n",
       "    </tr>\n",
       "    <tr>\n",
       "      <th>9</th>\n",
       "      <td>50678</td>\n",
       "      <td>5900</td>\n",
       "      <td>0</td>\n",
       "      <td>0</td>\n",
       "      <td>1</td>\n",
       "    </tr>\n",
       "    <tr>\n",
       "      <th>10</th>\n",
       "      <td>59625</td>\n",
       "      <td>21</td>\n",
       "      <td>0</td>\n",
       "      <td>0</td>\n",
       "      <td>1</td>\n",
       "    </tr>\n",
       "    <tr>\n",
       "      <th>11</th>\n",
       "      <td>42626</td>\n",
       "      <td>111</td>\n",
       "      <td>0</td>\n",
       "      <td>1</td>\n",
       "      <td>0</td>\n",
       "    </tr>\n",
       "    <tr>\n",
       "      <th>12</th>\n",
       "      <td>2194</td>\n",
       "      <td>445</td>\n",
       "      <td>0</td>\n",
       "      <td>1</td>\n",
       "      <td>0</td>\n",
       "    </tr>\n",
       "    <tr>\n",
       "      <th>13</th>\n",
       "      <td>7432</td>\n",
       "      <td>22</td>\n",
       "      <td>0</td>\n",
       "      <td>1</td>\n",
       "      <td>0</td>\n",
       "    </tr>\n",
       "    <tr>\n",
       "      <th>14</th>\n",
       "      <td>7206</td>\n",
       "      <td>80</td>\n",
       "      <td>0</td>\n",
       "      <td>1</td>\n",
       "      <td>0</td>\n",
       "    </tr>\n",
       "    <tr>\n",
       "      <th>15</th>\n",
       "      <td>55133</td>\n",
       "      <td>53</td>\n",
       "      <td>0</td>\n",
       "      <td>0</td>\n",
       "      <td>1</td>\n",
       "    </tr>\n",
       "    <tr>\n",
       "      <th>16</th>\n",
       "      <td>60169</td>\n",
       "      <td>80</td>\n",
       "      <td>0</td>\n",
       "      <td>0</td>\n",
       "      <td>1</td>\n",
       "    </tr>\n",
       "    <tr>\n",
       "      <th>17</th>\n",
       "      <td>63030</td>\n",
       "      <td>2222</td>\n",
       "      <td>0</td>\n",
       "      <td>0</td>\n",
       "      <td>1</td>\n",
       "    </tr>\n",
       "    <tr>\n",
       "      <th>18</th>\n",
       "      <td>31905</td>\n",
       "      <td>445</td>\n",
       "      <td>0</td>\n",
       "      <td>1</td>\n",
       "      <td>0</td>\n",
       "    </tr>\n",
       "    <tr>\n",
       "      <th>19</th>\n",
       "      <td>59625</td>\n",
       "      <td>21</td>\n",
       "      <td>0</td>\n",
       "      <td>0</td>\n",
       "      <td>1</td>\n",
       "    </tr>\n",
       "    <tr>\n",
       "      <th>20</th>\n",
       "      <td>36939</td>\n",
       "      <td>111</td>\n",
       "      <td>0</td>\n",
       "      <td>1</td>\n",
       "      <td>0</td>\n",
       "    </tr>\n",
       "    <tr>\n",
       "      <th>21</th>\n",
       "      <td>7432</td>\n",
       "      <td>22</td>\n",
       "      <td>0</td>\n",
       "      <td>1</td>\n",
       "      <td>0</td>\n",
       "    </tr>\n",
       "    <tr>\n",
       "      <th>22</th>\n",
       "      <td>25385</td>\n",
       "      <td>445</td>\n",
       "      <td>0</td>\n",
       "      <td>1</td>\n",
       "      <td>0</td>\n",
       "    </tr>\n",
       "    <tr>\n",
       "      <th>23</th>\n",
       "      <td>36877</td>\n",
       "      <td>2332</td>\n",
       "      <td>0</td>\n",
       "      <td>1</td>\n",
       "      <td>0</td>\n",
       "    </tr>\n",
       "    <tr>\n",
       "      <th>24</th>\n",
       "      <td>7206</td>\n",
       "      <td>80</td>\n",
       "      <td>0</td>\n",
       "      <td>1</td>\n",
       "      <td>0</td>\n",
       "    </tr>\n",
       "    <tr>\n",
       "      <th>25</th>\n",
       "      <td>56346</td>\n",
       "      <td>8888</td>\n",
       "      <td>0</td>\n",
       "      <td>0</td>\n",
       "      <td>1</td>\n",
       "    </tr>\n",
       "    <tr>\n",
       "      <th>26</th>\n",
       "      <td>37854</td>\n",
       "      <td>445</td>\n",
       "      <td>0</td>\n",
       "      <td>1</td>\n",
       "      <td>0</td>\n",
       "    </tr>\n",
       "    <tr>\n",
       "      <th>27</th>\n",
       "      <td>56248</td>\n",
       "      <td>445</td>\n",
       "      <td>0</td>\n",
       "      <td>0</td>\n",
       "      <td>1</td>\n",
       "    </tr>\n",
       "    <tr>\n",
       "      <th>28</th>\n",
       "      <td>38273</td>\n",
       "      <td>1080</td>\n",
       "      <td>0</td>\n",
       "      <td>1</td>\n",
       "      <td>0</td>\n",
       "    </tr>\n",
       "    <tr>\n",
       "      <th>29</th>\n",
       "      <td>3026</td>\n",
       "      <td>445</td>\n",
       "      <td>0</td>\n",
       "      <td>1</td>\n",
       "      <td>0</td>\n",
       "    </tr>\n",
       "  </tbody>\n",
       "</table>\n",
       "</div>"
      ],
      "text/plain": [
       "    src port  dst port  well-known src pool  registered src pool  cli src pool\n",
       "0      40061       111                    0                    1             0\n",
       "1      53488        80                    0                    0             1\n",
       "2      35051        23                    0                    1             0\n",
       "3       1408       445                    0                    1             0\n",
       "4      55244       995                    0                    0             1\n",
       "5      44544       995                    0                    1             0\n",
       "6      50678      5900                    0                    0             1\n",
       "7      35051        23                    0                    1             0\n",
       "8      50678      5900                    0                    0             1\n",
       "9      50678      5900                    0                    0             1\n",
       "10     59625        21                    0                    0             1\n",
       "11     42626       111                    0                    1             0\n",
       "12      2194       445                    0                    1             0\n",
       "13      7432        22                    0                    1             0\n",
       "14      7206        80                    0                    1             0\n",
       "15     55133        53                    0                    0             1\n",
       "16     60169        80                    0                    0             1\n",
       "17     63030      2222                    0                    0             1\n",
       "18     31905       445                    0                    1             0\n",
       "19     59625        21                    0                    0             1\n",
       "20     36939       111                    0                    1             0\n",
       "21      7432        22                    0                    1             0\n",
       "22     25385       445                    0                    1             0\n",
       "23     36877      2332                    0                    1             0\n",
       "24      7206        80                    0                    1             0\n",
       "25     56346      8888                    0                    0             1\n",
       "26     37854       445                    0                    1             0\n",
       "27     56248       445                    0                    0             1\n",
       "28     38273      1080                    0                    1             0\n",
       "29      3026       445                    0                    1             0"
      ]
     },
     "execution_count": 327,
     "metadata": {},
     "output_type": "execute_result"
    }
   ],
   "source": [
    "# data.loc[:, [\"src port\", \"dst port\", \"well-known src pool\", \"registered src pool\", \"cli src pool\", \"well-known dst pool\", \"registered dst pool\", \"cli dst pool\"]].head(30)\n",
    "data.loc[:, [\"src port\", \"dst port\", \"well-known src pool\", \"registered src pool\", \"cli src pool\"]].head(30)"
   ]
  },
  {
   "cell_type": "markdown",
   "metadata": {},
   "source": [
    "## Change port number info to categorical"
   ]
  },
  {
   "cell_type": "code",
   "execution_count": 328,
   "metadata": {},
   "outputs": [
    {
     "name": "stdout",
     "output_type": "stream",
     "text": [
      "56410\n",
      "4462\n"
     ]
    }
   ],
   "source": [
    "data[\"src port\"] = data[\"src port\"].apply(str)\n",
    "data[\"dst port\"] = data[\"dst port\"].apply(str)\n",
    "print(data['src port'].nunique())\n",
    "print(data['dst port'].nunique())\n",
    "\n",
    "thresh1 = 230\n",
    "thresh2 = 230\n",
    "counts1 = data['src port'].value_counts()\n",
    "counts2 = data['dst port'].value_counts()\n",
    "\n",
    "repl1 = counts1[counts1 <= thresh1].index\n",
    "repl2 = counts2[counts2 <= thresh2].index\n",
    "\n",
    "#hot one encoding for src port numbers\n",
    "data = pd.concat([data, pd.get_dummies(data[\"src port\"].replace(repl1, 'other_src'), prefix=\"is_src\")], axis=1)\n",
    "\n",
    "#hot one encoding for dst port numbers\n",
    "data = pd.concat([data, pd.get_dummies(data[\"dst port\"].replace(repl2, 'other_dst'), prefix=\"is_dst\")], axis=1)"
   ]
  },
  {
   "cell_type": "code",
   "execution_count": null,
   "metadata": {},
   "outputs": [],
   "source": [
    "data.shape"
   ]
  },
  {
   "cell_type": "markdown",
   "metadata": {},
   "source": [
    "## Hot one encoding"
   ]
  },
  {
   "cell_type": "code",
   "execution_count": 330,
   "metadata": {},
   "outputs": [
    {
     "data": {
      "text/html": [
       "<div>\n",
       "<style scoped>\n",
       "    .dataframe tbody tr th:only-of-type {\n",
       "        vertical-align: middle;\n",
       "    }\n",
       "\n",
       "    .dataframe tbody tr th {\n",
       "        vertical-align: top;\n",
       "    }\n",
       "\n",
       "    .dataframe thead th {\n",
       "        text-align: right;\n",
       "    }\n",
       "</style>\n",
       "<table border=\"1\" class=\"dataframe\">\n",
       "  <thead>\n",
       "    <tr style=\"text-align: right;\">\n",
       "      <th></th>\n",
       "      <th>conn len</th>\n",
       "      <th>service</th>\n",
       "      <th>src bytes</th>\n",
       "      <th>dst bytes</th>\n",
       "      <th>conn numb</th>\n",
       "      <th>Same srv rate</th>\n",
       "      <th>Serror rate</th>\n",
       "      <th>Srv serror rate</th>\n",
       "      <th>Dst host count</th>\n",
       "      <th>Dst host srv count</th>\n",
       "      <th>...</th>\n",
       "      <th>state_REJ</th>\n",
       "      <th>state_RSTO</th>\n",
       "      <th>state_RSTOS0</th>\n",
       "      <th>state_RSTR</th>\n",
       "      <th>state_RSTRH</th>\n",
       "      <th>state_S0</th>\n",
       "      <th>state_S1</th>\n",
       "      <th>state_SF</th>\n",
       "      <th>state_SH</th>\n",
       "      <th>state_SHR</th>\n",
       "    </tr>\n",
       "  </thead>\n",
       "  <tbody>\n",
       "    <tr>\n",
       "      <th>419136</th>\n",
       "      <td>0.000000</td>\n",
       "      <td>other</td>\n",
       "      <td>0</td>\n",
       "      <td>0</td>\n",
       "      <td>0</td>\n",
       "      <td>0.0</td>\n",
       "      <td>0.0</td>\n",
       "      <td>1.00</td>\n",
       "      <td>0</td>\n",
       "      <td>0</td>\n",
       "      <td>...</td>\n",
       "      <td>0</td>\n",
       "      <td>0</td>\n",
       "      <td>0</td>\n",
       "      <td>0</td>\n",
       "      <td>0</td>\n",
       "      <td>1</td>\n",
       "      <td>0</td>\n",
       "      <td>0</td>\n",
       "      <td>0</td>\n",
       "      <td>0</td>\n",
       "    </tr>\n",
       "    <tr>\n",
       "      <th>419137</th>\n",
       "      <td>0.000000</td>\n",
       "      <td>other</td>\n",
       "      <td>0</td>\n",
       "      <td>0</td>\n",
       "      <td>0</td>\n",
       "      <td>0.0</td>\n",
       "      <td>0.0</td>\n",
       "      <td>0.00</td>\n",
       "      <td>1</td>\n",
       "      <td>1</td>\n",
       "      <td>...</td>\n",
       "      <td>0</td>\n",
       "      <td>0</td>\n",
       "      <td>0</td>\n",
       "      <td>0</td>\n",
       "      <td>0</td>\n",
       "      <td>1</td>\n",
       "      <td>0</td>\n",
       "      <td>0</td>\n",
       "      <td>0</td>\n",
       "      <td>0</td>\n",
       "    </tr>\n",
       "    <tr>\n",
       "      <th>419138</th>\n",
       "      <td>0.485847</td>\n",
       "      <td>other</td>\n",
       "      <td>0</td>\n",
       "      <td>0</td>\n",
       "      <td>0</td>\n",
       "      <td>0.0</td>\n",
       "      <td>0.0</td>\n",
       "      <td>1.00</td>\n",
       "      <td>5</td>\n",
       "      <td>4</td>\n",
       "      <td>...</td>\n",
       "      <td>0</td>\n",
       "      <td>0</td>\n",
       "      <td>0</td>\n",
       "      <td>1</td>\n",
       "      <td>0</td>\n",
       "      <td>0</td>\n",
       "      <td>0</td>\n",
       "      <td>0</td>\n",
       "      <td>0</td>\n",
       "      <td>0</td>\n",
       "    </tr>\n",
       "    <tr>\n",
       "      <th>419139</th>\n",
       "      <td>3.253905</td>\n",
       "      <td>other</td>\n",
       "      <td>0</td>\n",
       "      <td>0</td>\n",
       "      <td>0</td>\n",
       "      <td>0.0</td>\n",
       "      <td>0.0</td>\n",
       "      <td>0.50</td>\n",
       "      <td>1</td>\n",
       "      <td>39</td>\n",
       "      <td>...</td>\n",
       "      <td>0</td>\n",
       "      <td>0</td>\n",
       "      <td>0</td>\n",
       "      <td>0</td>\n",
       "      <td>0</td>\n",
       "      <td>1</td>\n",
       "      <td>0</td>\n",
       "      <td>0</td>\n",
       "      <td>0</td>\n",
       "      <td>0</td>\n",
       "    </tr>\n",
       "    <tr>\n",
       "      <th>419140</th>\n",
       "      <td>0.000000</td>\n",
       "      <td>other</td>\n",
       "      <td>0</td>\n",
       "      <td>0</td>\n",
       "      <td>0</td>\n",
       "      <td>0.0</td>\n",
       "      <td>0.0</td>\n",
       "      <td>0.67</td>\n",
       "      <td>4</td>\n",
       "      <td>4</td>\n",
       "      <td>...</td>\n",
       "      <td>0</td>\n",
       "      <td>0</td>\n",
       "      <td>0</td>\n",
       "      <td>0</td>\n",
       "      <td>0</td>\n",
       "      <td>1</td>\n",
       "      <td>0</td>\n",
       "      <td>0</td>\n",
       "      <td>0</td>\n",
       "      <td>0</td>\n",
       "    </tr>\n",
       "    <tr>\n",
       "      <th>419141</th>\n",
       "      <td>0.000000</td>\n",
       "      <td>other</td>\n",
       "      <td>0</td>\n",
       "      <td>0</td>\n",
       "      <td>0</td>\n",
       "      <td>0.0</td>\n",
       "      <td>0.0</td>\n",
       "      <td>0.75</td>\n",
       "      <td>0</td>\n",
       "      <td>0</td>\n",
       "      <td>...</td>\n",
       "      <td>0</td>\n",
       "      <td>0</td>\n",
       "      <td>0</td>\n",
       "      <td>0</td>\n",
       "      <td>0</td>\n",
       "      <td>0</td>\n",
       "      <td>0</td>\n",
       "      <td>0</td>\n",
       "      <td>0</td>\n",
       "      <td>0</td>\n",
       "    </tr>\n",
       "    <tr>\n",
       "      <th>419142</th>\n",
       "      <td>3.135446</td>\n",
       "      <td>rdp</td>\n",
       "      <td>1726</td>\n",
       "      <td>5591</td>\n",
       "      <td>1</td>\n",
       "      <td>0.0</td>\n",
       "      <td>0.0</td>\n",
       "      <td>0.00</td>\n",
       "      <td>5</td>\n",
       "      <td>72</td>\n",
       "      <td>...</td>\n",
       "      <td>0</td>\n",
       "      <td>0</td>\n",
       "      <td>0</td>\n",
       "      <td>0</td>\n",
       "      <td>0</td>\n",
       "      <td>0</td>\n",
       "      <td>1</td>\n",
       "      <td>0</td>\n",
       "      <td>0</td>\n",
       "      <td>0</td>\n",
       "    </tr>\n",
       "    <tr>\n",
       "      <th>419143</th>\n",
       "      <td>0.000000</td>\n",
       "      <td>other</td>\n",
       "      <td>0</td>\n",
       "      <td>0</td>\n",
       "      <td>0</td>\n",
       "      <td>0.0</td>\n",
       "      <td>0.0</td>\n",
       "      <td>0.60</td>\n",
       "      <td>0</td>\n",
       "      <td>2</td>\n",
       "      <td>...</td>\n",
       "      <td>0</td>\n",
       "      <td>0</td>\n",
       "      <td>0</td>\n",
       "      <td>0</td>\n",
       "      <td>0</td>\n",
       "      <td>1</td>\n",
       "      <td>0</td>\n",
       "      <td>0</td>\n",
       "      <td>0</td>\n",
       "      <td>0</td>\n",
       "    </tr>\n",
       "    <tr>\n",
       "      <th>419144</th>\n",
       "      <td>0.000000</td>\n",
       "      <td>other</td>\n",
       "      <td>0</td>\n",
       "      <td>0</td>\n",
       "      <td>0</td>\n",
       "      <td>0.0</td>\n",
       "      <td>0.0</td>\n",
       "      <td>0.67</td>\n",
       "      <td>0</td>\n",
       "      <td>0</td>\n",
       "      <td>...</td>\n",
       "      <td>0</td>\n",
       "      <td>0</td>\n",
       "      <td>0</td>\n",
       "      <td>0</td>\n",
       "      <td>0</td>\n",
       "      <td>1</td>\n",
       "      <td>0</td>\n",
       "      <td>0</td>\n",
       "      <td>0</td>\n",
       "      <td>0</td>\n",
       "    </tr>\n",
       "    <tr>\n",
       "      <th>419145</th>\n",
       "      <td>0.000000</td>\n",
       "      <td>other</td>\n",
       "      <td>0</td>\n",
       "      <td>0</td>\n",
       "      <td>0</td>\n",
       "      <td>0.0</td>\n",
       "      <td>0.0</td>\n",
       "      <td>1.00</td>\n",
       "      <td>0</td>\n",
       "      <td>0</td>\n",
       "      <td>...</td>\n",
       "      <td>0</td>\n",
       "      <td>0</td>\n",
       "      <td>0</td>\n",
       "      <td>0</td>\n",
       "      <td>0</td>\n",
       "      <td>1</td>\n",
       "      <td>0</td>\n",
       "      <td>0</td>\n",
       "      <td>0</td>\n",
       "      <td>0</td>\n",
       "    </tr>\n",
       "  </tbody>\n",
       "</table>\n",
       "<p>10 rows × 292 columns</p>\n",
       "</div>"
      ],
      "text/plain": [
       "        conn len service  src bytes  dst bytes  conn numb  Same srv rate  \\\n",
       "419136  0.000000   other          0          0          0            0.0   \n",
       "419137  0.000000   other          0          0          0            0.0   \n",
       "419138  0.485847   other          0          0          0            0.0   \n",
       "419139  3.253905   other          0          0          0            0.0   \n",
       "419140  0.000000   other          0          0          0            0.0   \n",
       "419141  0.000000   other          0          0          0            0.0   \n",
       "419142  3.135446     rdp       1726       5591          1            0.0   \n",
       "419143  0.000000   other          0          0          0            0.0   \n",
       "419144  0.000000   other          0          0          0            0.0   \n",
       "419145  0.000000   other          0          0          0            0.0   \n",
       "\n",
       "        Serror rate  Srv serror rate  Dst host count  Dst host srv count  \\\n",
       "419136          0.0             1.00               0                   0   \n",
       "419137          0.0             0.00               1                   1   \n",
       "419138          0.0             1.00               5                   4   \n",
       "419139          0.0             0.50               1                  39   \n",
       "419140          0.0             0.67               4                   4   \n",
       "419141          0.0             0.75               0                   0   \n",
       "419142          0.0             0.00               5                  72   \n",
       "419143          0.0             0.60               0                   2   \n",
       "419144          0.0             0.67               0                   0   \n",
       "419145          0.0             1.00               0                   0   \n",
       "\n",
       "          ...      state_REJ  state_RSTO  state_RSTOS0 state_RSTR  \\\n",
       "419136    ...              0           0             0          0   \n",
       "419137    ...              0           0             0          0   \n",
       "419138    ...              0           0             0          1   \n",
       "419139    ...              0           0             0          0   \n",
       "419140    ...              0           0             0          0   \n",
       "419141    ...              0           0             0          0   \n",
       "419142    ...              0           0             0          0   \n",
       "419143    ...              0           0             0          0   \n",
       "419144    ...              0           0             0          0   \n",
       "419145    ...              0           0             0          0   \n",
       "\n",
       "        state_RSTRH state_S0 state_S1 state_SF  state_SH  state_SHR  \n",
       "419136            0        1        0        0         0          0  \n",
       "419137            0        1        0        0         0          0  \n",
       "419138            0        0        0        0         0          0  \n",
       "419139            0        1        0        0         0          0  \n",
       "419140            0        1        0        0         0          0  \n",
       "419141            0        0        0        0         0          0  \n",
       "419142            0        0        1        0         0          0  \n",
       "419143            0        1        0        0         0          0  \n",
       "419144            0        1        0        0         0          0  \n",
       "419145            0        1        0        0         0          0  \n",
       "\n",
       "[10 rows x 292 columns]"
      ]
     },
     "execution_count": 330,
     "metadata": {},
     "output_type": "execute_result"
    }
   ],
   "source": [
    "### hot one encoding ###\n",
    "\n",
    "# hot one encoding for service\n",
    "data = pd.concat([data, pd.get_dummies(data[\"service\"], prefix=\"is\")], axis=1)\n",
    "data.tail(10)\n",
    "\n",
    "#hot one encoding for proto - commented due to reduced column number\n",
    "data = pd.concat([data, pd.get_dummies(data[\"proto\"], prefix=\"is\")], axis=1)\n",
    "data.tail(10)\n",
    "\n",
    "# hot one encoding for conn state\n",
    "data = pd.concat([data, pd.get_dummies(data[\"Conn state\"], prefix=\"state\")], axis=1)\n",
    "data.tail(10)"
   ]
  },
  {
   "cell_type": "code",
   "execution_count": 331,
   "metadata": {},
   "outputs": [
    {
     "name": "stdout",
     "output_type": "stream",
     "text": [
      "<class 'pandas.core.frame.DataFrame'>\n",
      "Int64Index: 419146 entries, 0 to 419145\n",
      "Columns: 292 entries, conn len to state_SHR\n",
      "dtypes: float64(7), int64(9), object(5), uint8(271)\n",
      "memory usage: 178.7+ MB\n"
     ]
    }
   ],
   "source": [
    "data.info()"
   ]
  },
  {
   "cell_type": "markdown",
   "metadata": {},
   "source": [
    "## Plot function definition"
   ]
  },
  {
   "cell_type": "code",
   "execution_count": 332,
   "metadata": {},
   "outputs": [],
   "source": [
    "# plotting method definition\n",
    "\n",
    "def plot_stats(stat, name, width, rot):\n",
    "    fig, ax = plt.subplots(figsize=(width, 4))    \n",
    "    ax.bar(range(len(stat)), list(stat.values()), align='center')\n",
    "    plt.xticks(range(len(stat)), list(stat.keys()), rotation=rot)\n",
    "    for a,b in enumerate(stat.items()):\n",
    "        ax.text(a, b[1] + max(stat.values())/60 , str(round(b[1],5)), horizontalalignment ='center', verticalalignment='baseline')\n",
    "    ax.spines['right'].set_visible(False)\n",
    "    ax.spines['top'].set_visible(False)\n",
    "    plt.title(name + \" of tested algorithms\")\n",
    "    plt.show()"
   ]
  },
  {
   "cell_type": "markdown",
   "metadata": {},
   "source": [
    "## Dataset split"
   ]
  },
  {
   "cell_type": "code",
   "execution_count": 333,
   "metadata": {},
   "outputs": [],
   "source": [
    "data.rename(columns={'Dst host count': 'Dst_host_count', \"Dst host srv count\" : \"Dst_host_srv_count\",\n",
    "                    \"Dst host same src port rate\" : \"Dst_host_same_src_port_rate\",\n",
    "                    \"Dst host serror rate\" : \"Dst_host_serror_rate\",\n",
    "                    \"Dst host srv serror rate\" : \"Dst_host_srv_serror_rate\",\n",
    "                    \"Same srv rate\" : \"Same_srv_rate\",\n",
    "                    \"Srv serror rate\" : \"Srv_serror_rate\",\n",
    "                    \"conn len\" : \"conn_len\",\n",
    "                    \"src bytes\" : \"src_bytes\",\n",
    "                    \"dst bytes\" : \"dst_bytes\",\n",
    "                    \"conn numb\" : \"conn_numb\",\n",
    "                    \"Serror rate\" : \"Serror_rate\",\n",
    "                    \"cli src pool\" : \"cli_src_pool\",\n",
    "                    \"registered src pool\" : \"registered_src_pool\",\n",
    "                    \"well-known src pool\" : \"well_known_src_pool\",\n",
    "                    \"dst port\" : \"dst_port\",\n",
    "                    \"src port\" : \"src_port\",\n",
    "                     \"Conn state\" : \"Conn_state\" \n",
    "                    }, inplace=True)"
   ]
  },
  {
   "cell_type": "code",
   "execution_count": 581,
   "metadata": {},
   "outputs": [
    {
     "name": "stdout",
     "output_type": "stream",
     "text": [
      "Counter({1: 54763, 0: 8109})\n",
      "Counter({1: 59796, 0: 3076})\n",
      "Counter({1: 224438, 0: 68964})\n"
     ]
    }
   ],
   "source": [
    "train, validate, test = np.split(data, [int(.7*len(data)), int(.85*len(data))])\n",
    "\n",
    "train_ex = train\n",
    "validate_ex = validate\n",
    "test_ex = test\n",
    "\n",
    "train = train.drop([\"service\", \"Conn_state\", \"proto\", \"src_port\", \"dst_port\"], axis=1)\n",
    "validate = validate.drop([\"service\", \"Conn_state\", \"proto\", \"src_port\", \"dst_port\"], axis=1)\n",
    "test = test.drop([\"service\", \"Conn_state\", \"proto\", \"src_port\", \"dst_port\"], axis=1)\n",
    "\n",
    "train = train.sample(frac=1)\n",
    "validate = validate.sample(frac=1)\n",
    "test = test.sample(frac=1)\n",
    "\n",
    "y_train = train.loc[:, \"attack_flag\"].values.ravel()\n",
    "X_train = train.drop([\"attack_flag\"], axis=1).astype(np.float32)\n",
    "y_validate = validate.loc[:, \"attack_flag\"].values.ravel()\n",
    "X_validate = validate.drop([\"attack_flag\"], axis=1).astype(np.float32)\n",
    "y_test = test.loc[:, \"attack_flag\"].values.ravel()\n",
    "X_test = test.drop([\"attack_flag\"], axis=1).astype(np.float32)\n",
    "\n",
    "print(Counter(y_test))\n",
    "print(Counter(y_validate))\n",
    "print(Counter(y_train))"
   ]
  },
  {
   "cell_type": "markdown",
   "metadata": {},
   "source": [
    "# Algoritms performance comparison"
   ]
  },
  {
   "cell_type": "code",
   "execution_count": 23,
   "metadata": {},
   "outputs": [
    {
     "name": "stdout",
     "output_type": "stream",
     "text": [
      "Counter({1: 54763, 0: 8109})\n"
     ]
    }
   ],
   "source": [
    "from collections import Counter\n",
    "\n",
    "print(Counter(y_test))\n",
    "\n",
    "Acc = {}\n",
    "F1S = {}\n",
    "Prec = {}\n",
    "Rec = {}\n",
    "FPR = {}"
   ]
  },
  {
   "cell_type": "code",
   "execution_count": 24,
   "metadata": {},
   "outputs": [
    {
     "name": "stdout",
     "output_type": "stream",
     "text": [
      "Algorithm: baseline     Accuracy: 0.87102, F1-score: 0.93107, Precision: 0.87102, Recall: 1.00000, FPR: 1.00000\n",
      "TN:   0; FP: 8109; FN:    0; TP: 54763\n",
      "\n"
     ]
    }
   ],
   "source": [
    "# Metrics of baseline method\n",
    "from sklearn import metrics\n",
    "\n",
    "name = \"baseline\"\n",
    "\n",
    "if(y_test.mean() > (1-y_test.mean())):\n",
    "    y_pred = np.ones(len(y_test)).ravel() \n",
    "else:\n",
    "    y_pred = np.zeros(len(y_test)).ravel() \n",
    "    \n",
    "Acc[name] = metrics.accuracy_score(y_test, y_pred)\n",
    "F1S[name] = metrics.f1_score(y_test, y_pred)\n",
    "Prec[name] = metrics.precision_score(y_test, y_pred)\n",
    "Rec[name] = metrics.recall_score(y_test, y_pred)\n",
    "tn, fp, fn, tp = metrics.confusion_matrix(y_test, y_pred).ravel()\n",
    "FPR[name] = fp/(fp+tn)\n",
    "\n",
    "print(\"Algorithm: {0:12} Accuracy: {1:.5f}, F1-score: {2:.5f}, Precision: {3:.5f}, Recall: {4:.5f}, FPR: {5:.5f}\".format(name, Acc[name], F1S[name], Prec[name], Rec[name], FPR[name]))\n",
    "print(\"TN: {0:3}; FP: {1:3}; FN: {2:4}; TP: {3:3}\\n\".format(tn, fp, fn, tp))"
   ]
  },
  {
   "cell_type": "code",
   "execution_count": 25,
   "metadata": {},
   "outputs": [
    {
     "name": "stdout",
     "output_type": "stream",
     "text": [
      "Algorithm: logistic Regression Accuracy: 0.92776, F1-score: 0.95724, Precision: 0.98793, Recall: 0.92840, FPR: 0.07658\n",
      "TN: 7488; FP: 621; FN: 3921; TP: 50842\n",
      "\n"
     ]
    }
   ],
   "source": [
    "from sklearn.linear_model import LogisticRegression\n",
    "from sklearn import metrics\n",
    "\n",
    "clf = LogisticRegression(solver = 'newton-cg')\n",
    "\n",
    "model = clf.fit(X_train, y_train)\n",
    "\n",
    "y_pred = model.predict(X_test)\n",
    "\n",
    "name = \"logistic Regression\"\n",
    "\n",
    "Acc[name] = metrics.accuracy_score(y_test, y_pred)\n",
    "F1S[name] = metrics.f1_score(y_test, y_pred)\n",
    "Prec[name] = metrics.precision_score(y_test, y_pred)\n",
    "Rec[name] = metrics.recall_score(y_test, y_pred)\n",
    "tn, fp, fn, tp = metrics.confusion_matrix(y_test, y_pred).ravel()\n",
    "FPR[name] = fp/(fp+tn)\n",
    "\n",
    "print(\"Algorithm: {0:12} Accuracy: {1:.5f}, F1-score: {2:.5f}, Precision: {3:.5f}, Recall: {4:.5f}, FPR: {5:.5f}\".format(name, Acc[name], F1S[name], Prec[name], Rec[name], FPR[name]))\n",
    "print(\"TN: {0:3}; FP: {1:3}; FN: {2:4}; TP: {3:3}\\n\".format(tn, fp, fn, tp))"
   ]
  },
  {
   "cell_type": "code",
   "execution_count": 26,
   "metadata": {},
   "outputs": [
    {
     "name": "stdout",
     "output_type": "stream",
     "text": [
      "Algorithm: AdaBoost     Accuracy: 0.97900, F1-score: 0.98800, Precision: 0.98411, Recall: 0.99191, FPR: 0.10815\n",
      "TN: 7232; FP: 877; FN:  443; TP: 54320\n",
      "\n",
      "Algorithm: DecisionTree Accuracy: 0.97463, F1-score: 0.98555, Precision: 0.97777, Recall: 0.99346, FPR: 0.15255\n",
      "TN: 6872; FP: 1237; FN:  358; TP: 54405\n",
      "\n",
      "Algorithm: NaiveBayes   Accuracy: 0.86727, F1-score: 0.91772, Precision: 0.99739, Recall: 0.84984, FPR: 0.01505\n",
      "TN: 7987; FP: 122; FN: 8223; TP: 46540\n",
      "\n",
      "Algorithm: RandomTree   Accuracy: 0.97749, F1-score: 0.98714, Precision: 0.98270, Recall: 0.99162, FPR: 0.11789\n",
      "TN: 7153; FP: 956; FN:  459; TP: 54304\n",
      "\n"
     ]
    },
    {
     "name": "stderr",
     "output_type": "stream",
     "text": [
      "/home/matz/.local/lib/python3.6/site-packages/sklearn/preprocessing/data.py:625: DataConversionWarning: Data with input dtype float32 were all converted to float64 by StandardScaler.\n",
      "  return self.partial_fit(X, y)\n",
      "/home/matz/.local/lib/python3.6/site-packages/sklearn/base.py:465: DataConversionWarning: Data with input dtype float32 were all converted to float64 by StandardScaler.\n",
      "  return self.fit(X, y, **fit_params).transform(X)\n",
      "/home/matz/.local/lib/python3.6/site-packages/sklearn/pipeline.py:331: DataConversionWarning: Data with input dtype float32 were all converted to float64 by StandardScaler.\n",
      "  Xt = transform.transform(Xt)\n"
     ]
    },
    {
     "name": "stdout",
     "output_type": "stream",
     "text": [
      "Algorithm: RandomForest Accuracy: 0.98021, F1-score: 0.98874, Precision: 0.98059, Recall: 0.99702, FPR: 0.13331\n",
      "TN: 7028; FP: 1081; FN:  163; TP: 54600\n",
      "\n"
     ]
    }
   ],
   "source": [
    "# # zmiana n_estimators daje poprawe\n",
    "# # kfold tylko dla AdaBoostClassifier(DecisionTreeClassifier(max_depth = 11), n_estimators=num_trees, random_state = 0)\n",
    "# # learning rate [1 - default] najlepsze wyniki\n",
    "from sklearn.ensemble import AdaBoostClassifier\n",
    "from sklearn.tree import DecisionTreeClassifier\n",
    "from sklearn.naive_bayes import GaussianNB\n",
    "from sklearn.ensemble import RandomForestClassifier\n",
    "from sklearn.linear_model import LogisticRegression\n",
    "from sklearn.pipeline import make_pipeline\n",
    "from sklearn.preprocessing import StandardScaler\n",
    "\n",
    "\n",
    "seed = 12\n",
    "num_trees = 40\n",
    "\n",
    "classifiers = {\n",
    "               \"AdaBoost\":AdaBoostClassifier(DecisionTreeClassifier(max_depth = 13), n_estimators=num_trees, random_state = 0),\n",
    "               \"DecisionTree\":DecisionTreeClassifier(random_state=0, max_depth = 13),\n",
    "               \"NaiveBayes\":GaussianNB(),\n",
    "               \"RandomTree\":DecisionTreeClassifier(random_state=0, splitter = \"random\"),\n",
    "               \"RandomForest\":make_pipeline(StandardScaler(),RandomForestClassifier(n_estimators=167, max_depth=38, random_state=0)),\n",
    "}\n",
    "\n",
    "\n",
    "for name, clf in classifiers.items():\n",
    "    \n",
    "    model = clf.fit(X_train, y_train)\n",
    "    \n",
    "    y_pred = model.predict(X_test)\n",
    "    \n",
    "    Acc[name] = metrics.accuracy_score(y_test, y_pred)\n",
    "    F1S[name] = metrics.f1_score(y_test, y_pred)\n",
    "    Prec[name] = metrics.precision_score(y_test, y_pred)\n",
    "    Rec[name] = metrics.recall_score(y_test, y_pred)\n",
    "    tn, fp, fn, tp = metrics.confusion_matrix(y_test, y_pred).ravel()\n",
    "    FPR[name] = fp/(fp+tn)\n",
    "    \n",
    "    print(\"Algorithm: {0:12} Accuracy: {1:.5f}, F1-score: {2:.5f}, Precision: {3:.5f}, Recall: {4:.5f}, FPR: {5:.5f}\".format(name, Acc[name], F1S[name], Prec[name], Rec[name], FPR[name]))\n",
    "    print(\"TN: {0:3}; FP: {1:3}; FN: {2:4}; TP: {3:3}\\n\".format(tn, fp, fn, tp))"
   ]
  },
  {
   "cell_type": "code",
   "execution_count": 27,
   "metadata": {},
   "outputs": [
    {
     "data": {
      "image/png": "[encoded data removed]",
      "text/plain": [
       "<matplotlib.figure.Figure at 0x7f0d201d9d30>"
      ]
     },
     "metadata": {
      "needs_background": "light"
     },
     "output_type": "display_data"
    },
    {
     "data": {
      "image/png": "[encoded data removed]",
      "text/plain": [
       "<matplotlib.figure.Figure at 0x7f0d201d9c88>"
      ]
     },
     "metadata": {
      "needs_background": "light"
     },
     "output_type": "display_data"
    },
    {
     "data": {
      "image/png": "[encoded data removed]",
      "text/plain": [
       "<matplotlib.figure.Figure at 0x7f0d58758dd8>"
      ]
     },
     "metadata": {
      "needs_background": "light"
     },
     "output_type": "display_data"
    },
    {
     "data": {
      "image/png": "[encoded data removed]",
      "text/plain": [
       "<matplotlib.figure.Figure at 0x7f0d18098550>"
      ]
     },
     "metadata": {
      "needs_background": "light"
     },
     "output_type": "display_data"
    },
    {
     "data": {
      "image/png": "[encoded data removed]",
      "text/plain": [
       "<matplotlib.figure.Figure at 0x7f0d11734cc0>"
      ]
     },
     "metadata": {
      "needs_background": "light"
     },
     "output_type": "display_data"
    }
   ],
   "source": [
    "plot_stats(Acc, \"Accuracy\", 8, 55)\n",
    "plot_stats(F1S, \"F1-score\", 8, 55)\n",
    "plot_stats(Prec, \"Precision\", 8, 55)\n",
    "plot_stats(Rec, \"Recall\", 8, 55)\n",
    "plot_stats(FPR, \"False Positive Rate\", 8, 55)"
   ]
  },
  {
   "cell_type": "markdown",
   "metadata": {},
   "source": [
    "# Random Features for Large-Scale Kernel Machines"
   ]
  },
  {
   "cell_type": "code",
   "execution_count": 593,
   "metadata": {},
   "outputs": [],
   "source": [
    "import numpy as np\n",
    "import tensorflow as tf\n",
    "import time"
   ]
  },
  {
   "cell_type": "code",
   "execution_count": 594,
   "metadata": {},
   "outputs": [
    {
     "data": {
      "text/plain": [
       "(293402, 286)"
      ]
     },
     "execution_count": 594,
     "metadata": {},
     "output_type": "execute_result"
    }
   ],
   "source": [
    "X_train.values.shape"
   ]
  },
  {
   "cell_type": "code",
   "execution_count": 595,
   "metadata": {},
   "outputs": [],
   "source": [
    "train_input_fn = tf.estimator.inputs.numpy_input_fn(    \n",
    "    x={\"features\": X_train.values},    \n",
    "    y=y_train,    \n",
    "    batch_size=180,    \n",
    "    num_epochs=None,    \n",
    "    shuffle=False)"
   ]
  },
  {
   "cell_type": "code",
   "execution_count": 596,
   "metadata": {},
   "outputs": [
    {
     "data": {
      "text/plain": [
       "(62872, 286)"
      ]
     },
     "execution_count": 596,
     "metadata": {},
     "output_type": "execute_result"
    }
   ],
   "source": [
    "X_validate.shape"
   ]
  },
  {
   "cell_type": "code",
   "execution_count": 597,
   "metadata": {},
   "outputs": [],
   "source": [
    "eval_input_fn = tf.estimator.inputs.numpy_input_fn(\n",
    "    x={\"features\": X_validate.values},\n",
    "    y=y_validate,\n",
    "    batch_size=X_validate.shape[0],\n",
    "    num_epochs=1,\n",
    "    shuffle=False)"
   ]
  },
  {
   "cell_type": "code",
   "execution_count": 598,
   "metadata": {},
   "outputs": [
    {
     "data": {
      "text/plain": [
       "(62872, 286)"
      ]
     },
     "execution_count": 598,
     "metadata": {},
     "output_type": "execute_result"
    }
   ],
   "source": [
    "X_test.shape"
   ]
  },
  {
   "cell_type": "code",
   "execution_count": 599,
   "metadata": {},
   "outputs": [],
   "source": [
    "test_input_fn = tf.estimator.inputs.numpy_input_fn(\n",
    "    x={\"features\": X_test.values},\n",
    "    y=y_test,\n",
    "    batch_size=X_test.shape[0],\n",
    "    num_epochs=1,\n",
    "    shuffle=False)"
   ]
  },
  {
   "cell_type": "markdown",
   "metadata": {},
   "source": [
    "## Using explicit kernel mappings with the linear model"
   ]
  },
  {
   "cell_type": "code",
   "execution_count": 600,
   "metadata": {},
   "outputs": [],
   "source": [
    "data.rename(columns={'Dst host count': 'Dst_host_count', \"Dst host srv count\" : \"Dst_host_srv_count\",\n",
    "                    \"Dst host same src port rate\" : \"Dst_host_same_src_port_rate\",\n",
    "                    \"Dst host serror rate\" : \"Dst_host_serror_rate\",\n",
    "                    \"Dst host srv serror rate\" : \"Dst_host_srv_serror_rate\",\n",
    "                    \"Same srv rate\" : \"Same_srv_rate\",\n",
    "                    \"Srv serror rate\" : \"Srv_serror_rate\",\n",
    "                    \"conn len\" : \"conn_len\",\n",
    "                    \"src bytes\" : \"src_bytes\",\n",
    "                    \"dst bytes\" : \"dst_bytes\",\n",
    "                    \"conn numb\" : \"conn_numb\",\n",
    "                    \"Serror rate\" : \"Serror_rate\",\n",
    "                    \"cli src pool\" : \"cli_src_pool\",\n",
    "                    \"registered src pool\" : \"registered_src_pool\",\n",
    "                    \"well-known src pool\" : \"well_known_src_pool\", \n",
    "                    \"dst port\" : \"dst_port\",\n",
    "                    \"src port\" : \"src_port\",\n",
    "                    \"Conn state\" : \"Conn_state\" \n",
    "                    }, inplace=True)"
   ]
  },
  {
   "cell_type": "code",
   "execution_count": 601,
   "metadata": {},
   "outputs": [],
   "source": [
    "feat_column = tf.contrib.layers.real_valued_column('features', dimension=len(X_train.columns.values))"
   ]
  },
  {
   "cell_type": "code",
   "execution_count": 602,
   "metadata": {},
   "outputs": [],
   "source": [
    "kernel_mapper = tf.contrib.kernel_methods.RandomFourierFeatureMapper(input_dim=len(X_train.columns.values), output_dim=3000, stddev=5, name='rffm')"
   ]
  },
  {
   "cell_type": "code",
   "execution_count": 603,
   "metadata": {},
   "outputs": [],
   "source": [
    "kernel_mappers = {feat_column: [kernel_mapper]}"
   ]
  },
  {
   "cell_type": "code",
   "execution_count": 604,
   "metadata": {},
   "outputs": [],
   "source": [
    "! rm -r kernel_train"
   ]
  },
  {
   "cell_type": "code",
   "execution_count": 605,
   "metadata": {},
   "outputs": [],
   "source": [
    "optimizer = tf.train.FtrlOptimizer(learning_rate=30, l2_regularization_strength=0.01)"
   ]
  },
  {
   "cell_type": "code",
   "execution_count": 606,
   "metadata": {},
   "outputs": [
    {
     "name": "stdout",
     "output_type": "stream",
     "text": [
      "INFO:tensorflow:Using default config.\n",
      "INFO:tensorflow:Using config: {'_task_type': None, '_task_id': 0, '_cluster_spec': <tensorflow.python.training.server_lib.ClusterSpec object at 0x7f0b92861f60>, '_master': '', '_num_ps_replicas': 0, '_num_worker_replicas': 0, '_environment': 'local', '_is_chief': True, '_evaluation_master': '', '_train_distribute': None, '_eval_distribute': None, '_device_fn': None, '_tf_config': gpu_options {\n",
      "  per_process_gpu_memory_fraction: 1.0\n",
      "}\n",
      ", '_tf_random_seed': None, '_save_summary_steps': 100, '_save_checkpoints_secs': 600, '_log_step_count_steps': 100, '_protocol': None, '_session_config': None, '_save_checkpoints_steps': None, '_keep_checkpoint_max': 5, '_keep_checkpoint_every_n_hours': 10000, '_model_dir': 'kernel_train'}\n"
     ]
    }
   ],
   "source": [
    "estimator_kernel = tf.contrib.kernel_methods.KernelLinearClassifier(\n",
    "    n_classes=2,\n",
    "    optimizer=optimizer,\n",
    "    kernel_mappers=kernel_mappers, \n",
    "    model_dir=\"kernel_train\")"
   ]
  },
  {
   "cell_type": "code",
   "execution_count": 607,
   "metadata": {},
   "outputs": [
    {
     "name": "stdout",
     "output_type": "stream",
     "text": [
      "WARNING:tensorflow:Casting <dtype: 'int64'> labels to bool.\n",
      "WARNING:tensorflow:Casting <dtype: 'int64'> labels to bool.\n",
      "WARNING:tensorflow:Trapezoidal rule is known to produce incorrect PR-AUCs; please switch to \"careful_interpolation\" instead.\n",
      "WARNING:tensorflow:Trapezoidal rule is known to produce incorrect PR-AUCs; please switch to \"careful_interpolation\" instead.\n",
      "INFO:tensorflow:Create CheckpointSaverHook.\n",
      "INFO:tensorflow:Graph was finalized.\n",
      "INFO:tensorflow:Running local_init_op.\n",
      "INFO:tensorflow:Done running local_init_op.\n",
      "INFO:tensorflow:Saving checkpoints for 0 into kernel_train/model.ckpt.\n",
      "INFO:tensorflow:loss = 0.6931474, step = 1\n",
      "INFO:tensorflow:global_step/sec: 117.99\n",
      "INFO:tensorflow:loss = 0.07498501, step = 101 (0.846 sec)\n",
      "INFO:tensorflow:global_step/sec: 163.06\n",
      "INFO:tensorflow:loss = 0.043834057, step = 201 (0.613 sec)\n",
      "INFO:tensorflow:global_step/sec: 170.043\n",
      "INFO:tensorflow:loss = 0.07361633, step = 301 (0.588 sec)\n",
      "INFO:tensorflow:global_step/sec: 167.377\n",
      "INFO:tensorflow:loss = 0.039425515, step = 401 (0.598 sec)\n",
      "INFO:tensorflow:global_step/sec: 114.075\n",
      "INFO:tensorflow:loss = 0.06621093, step = 501 (0.877 sec)\n",
      "INFO:tensorflow:global_step/sec: 164.555\n",
      "INFO:tensorflow:loss = 0.06463543, step = 601 (0.607 sec)\n",
      "INFO:tensorflow:global_step/sec: 172.039\n",
      "INFO:tensorflow:loss = 0.050641526, step = 701 (0.581 sec)\n",
      "INFO:tensorflow:global_step/sec: 172.632\n",
      "INFO:tensorflow:loss = 0.020946557, step = 801 (0.579 sec)\n",
      "INFO:tensorflow:global_step/sec: 172.394\n",
      "INFO:tensorflow:loss = 0.0144449035, step = 901 (0.580 sec)\n",
      "INFO:tensorflow:global_step/sec: 171.178\n",
      "INFO:tensorflow:loss = 0.030149026, step = 1001 (0.584 sec)\n",
      "INFO:tensorflow:global_step/sec: 170.929\n",
      "INFO:tensorflow:loss = 0.03739189, step = 1101 (0.585 sec)\n",
      "INFO:tensorflow:global_step/sec: 170.576\n",
      "INFO:tensorflow:loss = 0.009334033, step = 1201 (0.587 sec)\n",
      "INFO:tensorflow:global_step/sec: 154.415\n",
      "INFO:tensorflow:loss = 0.03874248, step = 1301 (0.650 sec)\n",
      "INFO:tensorflow:global_step/sec: 156.852\n",
      "INFO:tensorflow:loss = 0.073412456, step = 1401 (0.635 sec)\n",
      "INFO:tensorflow:global_step/sec: 167.323\n",
      "INFO:tensorflow:loss = 0.036982127, step = 1501 (0.598 sec)\n",
      "INFO:tensorflow:global_step/sec: 171.432\n",
      "INFO:tensorflow:loss = 0.05070571, step = 1601 (0.584 sec)\n",
      "INFO:tensorflow:global_step/sec: 171.394\n",
      "INFO:tensorflow:loss = 0.040981885, step = 1701 (0.583 sec)\n",
      "INFO:tensorflow:global_step/sec: 173.129\n",
      "INFO:tensorflow:loss = 0.02187066, step = 1801 (0.578 sec)\n",
      "INFO:tensorflow:global_step/sec: 177.622\n",
      "INFO:tensorflow:loss = 0.007973402, step = 1901 (0.563 sec)\n",
      "INFO:tensorflow:global_step/sec: 175.904\n",
      "INFO:tensorflow:loss = 0.040816944, step = 2001 (0.569 sec)\n",
      "INFO:tensorflow:global_step/sec: 172.633\n",
      "INFO:tensorflow:loss = 0.025049793, step = 2101 (0.579 sec)\n",
      "INFO:tensorflow:global_step/sec: 170.813\n",
      "INFO:tensorflow:loss = 0.010873211, step = 2201 (0.586 sec)\n",
      "INFO:tensorflow:global_step/sec: 171.782\n",
      "INFO:tensorflow:loss = 0.034152605, step = 2301 (0.582 sec)\n",
      "INFO:tensorflow:global_step/sec: 172.148\n",
      "INFO:tensorflow:loss = 0.03329205, step = 2401 (0.580 sec)\n",
      "INFO:tensorflow:global_step/sec: 171.45\n",
      "INFO:tensorflow:loss = 0.06420751, step = 2501 (0.583 sec)\n",
      "INFO:tensorflow:global_step/sec: 172.708\n",
      "INFO:tensorflow:loss = 0.07139455, step = 2601 (0.579 sec)\n",
      "INFO:tensorflow:global_step/sec: 171.765\n",
      "INFO:tensorflow:loss = 0.014136229, step = 2701 (0.582 sec)\n",
      "INFO:tensorflow:global_step/sec: 172.779\n",
      "INFO:tensorflow:loss = 0.044546895, step = 2801 (0.579 sec)\n",
      "INFO:tensorflow:global_step/sec: 172.985\n",
      "INFO:tensorflow:loss = 0.02749118, step = 2901 (0.578 sec)\n",
      "INFO:tensorflow:global_step/sec: 173.042\n",
      "INFO:tensorflow:loss = 0.0499808, step = 3001 (0.578 sec)\n",
      "INFO:tensorflow:global_step/sec: 169.03\n",
      "INFO:tensorflow:loss = 0.008715525, step = 3101 (0.591 sec)\n",
      "INFO:tensorflow:global_step/sec: 176.246\n",
      "INFO:tensorflow:loss = 0.015999658, step = 3201 (0.567 sec)\n",
      "INFO:tensorflow:global_step/sec: 173.995\n",
      "INFO:tensorflow:loss = 0.07184455, step = 3301 (0.575 sec)\n",
      "INFO:tensorflow:global_step/sec: 169.843\n",
      "INFO:tensorflow:loss = 0.056297906, step = 3401 (0.588 sec)\n",
      "INFO:tensorflow:global_step/sec: 172.571\n",
      "INFO:tensorflow:loss = 0.028835505, step = 3501 (0.579 sec)\n",
      "INFO:tensorflow:global_step/sec: 174.523\n",
      "INFO:tensorflow:loss = 0.042850547, step = 3601 (0.573 sec)\n",
      "INFO:tensorflow:global_step/sec: 172.658\n",
      "INFO:tensorflow:loss = 0.0148154255, step = 3701 (0.579 sec)\n",
      "INFO:tensorflow:global_step/sec: 173.541\n",
      "INFO:tensorflow:loss = 0.048828226, step = 3801 (0.576 sec)\n",
      "INFO:tensorflow:global_step/sec: 171.963\n",
      "INFO:tensorflow:loss = 0.064221874, step = 3901 (0.582 sec)\n",
      "INFO:tensorflow:global_step/sec: 172.952\n",
      "INFO:tensorflow:loss = 0.005873191, step = 4001 (0.578 sec)\n",
      "INFO:tensorflow:global_step/sec: 170.743\n",
      "INFO:tensorflow:loss = 0.029102368, step = 4101 (0.586 sec)\n",
      "INFO:tensorflow:global_step/sec: 171.555\n",
      "INFO:tensorflow:loss = 0.053066917, step = 4201 (0.583 sec)\n",
      "INFO:tensorflow:global_step/sec: 173.655\n",
      "INFO:tensorflow:loss = 0.0060510905, step = 4301 (0.576 sec)\n",
      "INFO:tensorflow:global_step/sec: 171.178\n",
      "INFO:tensorflow:loss = 0.008735152, step = 4401 (0.584 sec)\n",
      "INFO:tensorflow:global_step/sec: 171.339\n",
      "INFO:tensorflow:loss = 0.007455939, step = 4501 (0.583 sec)\n",
      "INFO:tensorflow:global_step/sec: 173.277\n",
      "INFO:tensorflow:loss = 0.0098478785, step = 4601 (0.577 sec)\n",
      "INFO:tensorflow:global_step/sec: 173.177\n",
      "INFO:tensorflow:loss = 0.04682129, step = 4701 (0.577 sec)\n",
      "INFO:tensorflow:global_step/sec: 170.355\n",
      "INFO:tensorflow:loss = 0.00805171, step = 4801 (0.587 sec)\n",
      "INFO:tensorflow:global_step/sec: 170.094\n",
      "INFO:tensorflow:loss = 0.0097333845, step = 4901 (0.588 sec)\n",
      "INFO:tensorflow:global_step/sec: 173.211\n",
      "INFO:tensorflow:loss = 0.0441731, step = 5001 (0.577 sec)\n",
      "INFO:tensorflow:global_step/sec: 172.505\n",
      "INFO:tensorflow:loss = 0.04507794, step = 5101 (0.580 sec)\n",
      "INFO:tensorflow:global_step/sec: 171.923\n",
      "INFO:tensorflow:loss = 0.014277299, step = 5201 (0.581 sec)\n",
      "INFO:tensorflow:global_step/sec: 172.712\n",
      "INFO:tensorflow:loss = 0.040422767, step = 5301 (0.579 sec)\n",
      "INFO:tensorflow:global_step/sec: 172.118\n",
      "INFO:tensorflow:loss = 0.011191956, step = 5401 (0.581 sec)\n",
      "INFO:tensorflow:global_step/sec: 173.358\n",
      "INFO:tensorflow:loss = 0.028478477, step = 5501 (0.577 sec)\n",
      "INFO:tensorflow:global_step/sec: 172.957\n",
      "INFO:tensorflow:loss = 0.012146677, step = 5601 (0.578 sec)\n",
      "INFO:tensorflow:global_step/sec: 171.875\n",
      "INFO:tensorflow:loss = 0.0052959644, step = 5701 (0.582 sec)\n",
      "INFO:tensorflow:global_step/sec: 171.917\n",
      "INFO:tensorflow:loss = 0.037021972, step = 5801 (0.581 sec)\n",
      "INFO:tensorflow:global_step/sec: 174.358\n",
      "INFO:tensorflow:loss = 0.0060655433, step = 5901 (0.573 sec)\n",
      "INFO:tensorflow:global_step/sec: 172.531\n",
      "INFO:tensorflow:loss = 0.036980387, step = 6001 (0.580 sec)\n",
      "INFO:tensorflow:global_step/sec: 173.401\n",
      "INFO:tensorflow:loss = 0.010244255, step = 6101 (0.577 sec)\n",
      "INFO:tensorflow:global_step/sec: 171.848\n",
      "INFO:tensorflow:loss = 0.03127115, step = 6201 (0.581 sec)\n",
      "INFO:tensorflow:global_step/sec: 173.863\n",
      "INFO:tensorflow:loss = 0.011337989, step = 6301 (0.575 sec)\n",
      "INFO:tensorflow:global_step/sec: 176.103\n",
      "INFO:tensorflow:loss = 0.015598843, step = 6401 (0.568 sec)\n",
      "INFO:tensorflow:global_step/sec: 172.756\n",
      "INFO:tensorflow:loss = 0.014756387, step = 6501 (0.579 sec)\n",
      "INFO:tensorflow:global_step/sec: 171.567\n",
      "INFO:tensorflow:loss = 0.013507209, step = 6601 (0.583 sec)\n",
      "INFO:tensorflow:global_step/sec: 172.338\n",
      "INFO:tensorflow:loss = 0.056300767, step = 6701 (0.580 sec)\n",
      "INFO:tensorflow:global_step/sec: 170.954\n",
      "INFO:tensorflow:loss = 0.012783189, step = 6801 (0.585 sec)\n",
      "INFO:tensorflow:global_step/sec: 162.617\n",
      "INFO:tensorflow:loss = 0.01050051, step = 6901 (0.615 sec)\n",
      "INFO:tensorflow:global_step/sec: 141.842\n",
      "INFO:tensorflow:loss = 0.0403987, step = 7001 (0.706 sec)\n",
      "INFO:tensorflow:global_step/sec: 151.091\n",
      "INFO:tensorflow:loss = 0.06971167, step = 7101 (0.660 sec)\n",
      "INFO:tensorflow:global_step/sec: 128.646\n",
      "INFO:tensorflow:loss = 0.043725844, step = 7201 (0.778 sec)\n",
      "INFO:tensorflow:global_step/sec: 146.396\n",
      "INFO:tensorflow:loss = 0.060182028, step = 7301 (0.683 sec)\n",
      "INFO:tensorflow:global_step/sec: 143.978\n",
      "INFO:tensorflow:loss = 0.012706224, step = 7401 (0.695 sec)\n",
      "INFO:tensorflow:global_step/sec: 150.224\n",
      "INFO:tensorflow:loss = 0.004273366, step = 7501 (0.666 sec)\n",
      "INFO:tensorflow:global_step/sec: 158.576\n"
     ]
    },
    {
     "name": "stdout",
     "output_type": "stream",
     "text": [
      "INFO:tensorflow:loss = 0.0073607224, step = 7601 (0.631 sec)\n",
      "INFO:tensorflow:global_step/sec: 159.619\n",
      "INFO:tensorflow:loss = 0.011813828, step = 7701 (0.627 sec)\n",
      "INFO:tensorflow:global_step/sec: 158.268\n",
      "INFO:tensorflow:loss = 0.03877332, step = 7801 (0.632 sec)\n",
      "INFO:tensorflow:global_step/sec: 162.879\n",
      "INFO:tensorflow:loss = 0.009772851, step = 7901 (0.614 sec)\n",
      "INFO:tensorflow:global_step/sec: 161.252\n",
      "INFO:tensorflow:loss = 0.051316462, step = 8001 (0.621 sec)\n",
      "INFO:tensorflow:global_step/sec: 158.739\n",
      "INFO:tensorflow:loss = 0.0200385, step = 8101 (0.629 sec)\n",
      "INFO:tensorflow:global_step/sec: 159.294\n",
      "INFO:tensorflow:loss = 0.0062377797, step = 8201 (0.628 sec)\n",
      "INFO:tensorflow:global_step/sec: 160.818\n",
      "INFO:tensorflow:loss = 0.05605266, step = 8301 (0.622 sec)\n",
      "INFO:tensorflow:global_step/sec: 160.313\n",
      "INFO:tensorflow:loss = 0.0067392513, step = 8401 (0.623 sec)\n",
      "INFO:tensorflow:global_step/sec: 158.741\n",
      "INFO:tensorflow:loss = 0.020801803, step = 8501 (0.630 sec)\n",
      "INFO:tensorflow:global_step/sec: 158.585\n",
      "INFO:tensorflow:loss = 0.05096438, step = 8601 (0.631 sec)\n",
      "INFO:tensorflow:global_step/sec: 158.089\n",
      "INFO:tensorflow:loss = 0.031513862, step = 8701 (0.632 sec)\n",
      "INFO:tensorflow:global_step/sec: 161.434\n",
      "INFO:tensorflow:loss = 0.005324862, step = 8801 (0.620 sec)\n",
      "INFO:tensorflow:global_step/sec: 159.474\n",
      "INFO:tensorflow:loss = 0.0049007414, step = 8901 (0.627 sec)\n",
      "INFO:tensorflow:global_step/sec: 160.952\n",
      "INFO:tensorflow:loss = 0.008497779, step = 9001 (0.622 sec)\n",
      "INFO:tensorflow:global_step/sec: 156.957\n",
      "INFO:tensorflow:loss = 0.0064228713, step = 9101 (0.637 sec)\n",
      "INFO:tensorflow:global_step/sec: 161.425\n",
      "INFO:tensorflow:loss = 0.0034521369, step = 9201 (0.619 sec)\n",
      "INFO:tensorflow:global_step/sec: 161.71\n",
      "INFO:tensorflow:loss = 0.005513321, step = 9301 (0.619 sec)\n",
      "INFO:tensorflow:global_step/sec: 157.905\n",
      "INFO:tensorflow:loss = 0.006491818, step = 9401 (0.633 sec)\n",
      "INFO:tensorflow:global_step/sec: 159.346\n",
      "INFO:tensorflow:loss = 0.0049367417, step = 9501 (0.627 sec)\n",
      "INFO:tensorflow:global_step/sec: 162.777\n",
      "INFO:tensorflow:loss = 0.0068382933, step = 9601 (0.614 sec)\n",
      "INFO:tensorflow:global_step/sec: 159.663\n",
      "INFO:tensorflow:loss = 0.032444417, step = 9701 (0.626 sec)\n",
      "INFO:tensorflow:global_step/sec: 160.263\n",
      "INFO:tensorflow:loss = 0.04734677, step = 9801 (0.624 sec)\n",
      "INFO:tensorflow:global_step/sec: 158.756\n",
      "INFO:tensorflow:loss = 0.003876846, step = 9901 (0.629 sec)\n",
      "INFO:tensorflow:Saving checkpoints for 10000 into kernel_train/model.ckpt.\n",
      "INFO:tensorflow:Loss for final step: 0.009976976.\n"
     ]
    },
    {
     "data": {
      "text/plain": [
       "KernelLinearClassifier(params={'head': <tensorflow.contrib.learn.python.learn.estimators.head._BinaryLogisticHead object at 0x7f0b92861518>, 'feature_columns': {_RealValuedColumn(column_name='features_MAPPED', dimension=3000, default_value=None, dtype=tf.float32, normalizer=None)}, 'optimizer': <tensorflow.python.training.ftrl.FtrlOptimizer object at 0x7f0b92861b70>, 'kernel_mappers': {_RealValuedColumn(column_name='features', dimension=286, default_value=None, dtype=tf.float32, normalizer=None): [<tensorflow.contrib.kernel_methods.python.mappers.random_fourier_features.RandomFourierFeatureMapper object at 0x7f0b92861c18>]}})"
      ]
     },
     "execution_count": 607,
     "metadata": {},
     "output_type": "execute_result"
    }
   ],
   "source": [
    "estimator_kernel.fit(input_fn=train_input_fn, steps=10000)"
   ]
  },
  {
   "cell_type": "code",
   "execution_count": 608,
   "metadata": {},
   "outputs": [
    {
     "name": "stdout",
     "output_type": "stream",
     "text": [
      "WARNING:tensorflow:Casting <dtype: 'int64'> labels to bool.\n",
      "WARNING:tensorflow:Casting <dtype: 'int64'> labels to bool.\n",
      "WARNING:tensorflow:Trapezoidal rule is known to produce incorrect PR-AUCs; please switch to \"careful_interpolation\" instead.\n",
      "WARNING:tensorflow:Trapezoidal rule is known to produce incorrect PR-AUCs; please switch to \"careful_interpolation\" instead.\n",
      "INFO:tensorflow:Starting evaluation at 2019-05-22-13:05:31\n",
      "INFO:tensorflow:Graph was finalized.\n",
      "INFO:tensorflow:Restoring parameters from kernel_train/model.ckpt-10000\n",
      "INFO:tensorflow:Running local_init_op.\n",
      "INFO:tensorflow:Done running local_init_op.\n",
      "INFO:tensorflow:Evaluation [1/1]\n",
      "INFO:tensorflow:Finished evaluation at 2019-05-22-13:05:34\n",
      "INFO:tensorflow:Saving dict for global step 10000: accuracy = 0.9449198, accuracy/baseline_label_mean = 0.9510752, accuracy/threshold_0.500000_mean = 0.9449198, auc = 0.86609143, auc_precision_recall = 0.9906777, global_step = 10000, labels/actual_label_mean = 0.9510752, labels/prediction_mean = 0.899043, loss = 0.17453441, precision/positive_threshold_0.500000_mean = 0.9713822, recall/positive_threshold_0.500000_mean = 0.97068363\n"
     ]
    }
   ],
   "source": [
    "eval_metrics = estimator_kernel.evaluate(input_fn=eval_input_fn, steps=1)"
   ]
  },
  {
   "cell_type": "code",
   "execution_count": 609,
   "metadata": {},
   "outputs": [
    {
     "name": "stdout",
     "output_type": "stream",
     "text": [
      "accuracy: 0.9449198\n",
      "accuracy/baseline_label_mean: 0.9510752\n",
      "accuracy/threshold_0.500000_mean: 0.9449198\n",
      "auc: 0.86609143\n",
      "auc_precision_recall: 0.9906777\n",
      "global_step: 10000\n",
      "labels/actual_label_mean: 0.9510752\n",
      "labels/prediction_mean: 0.899043\n",
      "loss: 0.17453441\n",
      "precision/positive_threshold_0.500000_mean: 0.9713822\n",
      "recall/positive_threshold_0.500000_mean: 0.97068363\n"
     ]
    }
   ],
   "source": [
    "for key,value in sorted(eval_metrics.items()):\n",
    "  print('%s: %s' % (key, value))"
   ]
  },
  {
   "cell_type": "code",
   "execution_count": 610,
   "metadata": {},
   "outputs": [],
   "source": [
    "correctness = []\n",
    "class_id = []\n",
    "pred_iterator = None"
   ]
  },
  {
   "cell_type": "code",
   "execution_count": 611,
   "metadata": {},
   "outputs": [
    {
     "name": "stdout",
     "output_type": "stream",
     "text": [
      "INFO:tensorflow:Graph was finalized.\n",
      "INFO:tensorflow:Restoring parameters from kernel_train/model.ckpt-10000\n",
      "INFO:tensorflow:Running local_init_op.\n",
      "INFO:tensorflow:Done running local_init_op.\n"
     ]
    }
   ],
   "source": [
    "pred_iterator = estimator_kernel.predict(input_fn = test_input_fn)"
   ]
  },
  {
   "cell_type": "code",
   "execution_count": 612,
   "metadata": {},
   "outputs": [],
   "source": [
    "for pred_dict in pred_iterator:\n",
    "    class_id.append(pred_dict['classes'])\n",
    "    #print(pred_dict)"
   ]
  },
  {
   "cell_type": "code",
   "execution_count": 613,
   "metadata": {},
   "outputs": [
    {
     "name": "stdout",
     "output_type": "stream",
     "text": [
      "RFFM Accuracy: 0.95974, F1-score: 0.97702, Precision: 0.97151, Recall: 0.98260, FPR: 0.19460\n",
      "TN: 6531; FP: 1578; FN:  953; TP: 53810\n",
      "\n"
     ]
    }
   ],
   "source": [
    "name = \"RFFM\"\n",
    "\n",
    "Acc[name] = metrics.accuracy_score(y_test, class_id)\n",
    "F1S[name] = metrics.f1_score(y_test, class_id)\n",
    "Prec[name] = metrics.precision_score(y_test, class_id)\n",
    "Rec[name] = metrics.recall_score(y_test, class_id)\n",
    "tn, fp, fn, tp = metrics.confusion_matrix(y_test, class_id).ravel()\n",
    "FPR[name] = fp/(fp+tn)\n",
    "\n",
    "print(\"{0:2} Accuracy: {1:.5f}, F1-score: {2:.5f}, Precision: {3:.5f}, Recall: {4:.5f}, FPR: {5:.5f}\".format(name, Acc[name], F1S[name], Prec[name], Rec[name], FPR[name]))\n",
    "print(\"TN: {0:3}; FP: {1:3}; FN: {2:4}; TP: {3:3}\\n\".format(tn, fp, fn, tp))"
   ]
  },
  {
   "cell_type": "markdown",
   "metadata": {},
   "source": [
    "# Neural network part"
   ]
  },
  {
   "cell_type": "code",
   "execution_count": 410,
   "metadata": {},
   "outputs": [],
   "source": [
    "import collections\n",
    "import io\n",
    "import math\n",
    "import tensorflow as tf\n",
    "from IPython import display"
   ]
  },
  {
   "cell_type": "code",
   "execution_count": 411,
   "metadata": {},
   "outputs": [],
   "source": [
    "deep_numeric_feat = [\"Same_srv_rate\", \"Serror_rate\", \"Srv_serror_rate\", \"Dst_host_count\", \"Dst_host_srv_count\", \"Dst_host_same_src_port_rate\", \"Dst_host_serror_rate\", \"Dst_host_srv_serror_rate\", \"well_known_src_pool\", \"registered_src_pool\", \"cli_src_pool\"]\n",
    "wide_numeric_feat = [\"conn_len\",  \"src_bytes\", \"dst_bytes\", \"conn_numb\"]\n",
    "categorical_feat = [\"service\", \"Conn_state\", \"src_port\", \"dst_port\", \"proto\"]"
   ]
  },
  {
   "cell_type": "code",
   "execution_count": 412,
   "metadata": {},
   "outputs": [],
   "source": [
    "deep_numeric_feat_tf = [tf.feature_column.numeric_column(k) for k in deep_numeric_feat]\n",
    "wide_numeric_feat_tf = [tf.feature_column.numeric_column(k) for k in wide_numeric_feat]"
   ]
  },
  {
   "cell_type": "code",
   "execution_count": 413,
   "metadata": {},
   "outputs": [],
   "source": [
    "src_port_mod = [\"src_\" + s for s in data[\"src_port\"].unique().tolist()]\n",
    "src_port = tf.feature_column.categorical_column_with_vocabulary_list(\n",
    "    'src_port', src_port_mod)\n",
    "\n",
    "dst_port_mod = [\"dst_\" + s for s in data[\"dst_port\"].unique().tolist()]\n",
    "dst_port = tf.feature_column.categorical_column_with_vocabulary_list(\n",
    "    'dst_port', dst_port_mod)\n",
    "\n",
    "service = tf.feature_column.categorical_column_with_vocabulary_list(\n",
    "    'service', data[\"service\"].unique().tolist())\n",
    "\n",
    "Conn_state = tf.feature_column.categorical_column_with_vocabulary_list(\n",
    "    'Conn_state', data[\"Conn_state\"].unique().tolist())\n",
    "\n",
    "proto = tf.feature_column.categorical_column_with_vocabulary_list(\n",
    "    'proto', data[\"proto\"].unique().tolist())"
   ]
  },
  {
   "cell_type": "code",
   "execution_count": 545,
   "metadata": {},
   "outputs": [],
   "source": [
    "deep_columns = [\n",
    "    tf.feature_column.indicator_column(service),\n",
    "    tf.feature_column.indicator_column(Conn_state),\n",
    "    tf.feature_column.indicator_column(proto),\n",
    "    tf.feature_column.embedding_column(src_port, dimension=10),\n",
    "    tf.feature_column.embedding_column(dst_port, dimension=6),\n",
    "]"
   ]
  },
  {
   "cell_type": "code",
   "execution_count": 546,
   "metadata": {},
   "outputs": [],
   "source": [
    "crossed_columns = [\n",
    "      tf.feature_column.crossed_column(\n",
    "          ['src_port', 'service'], hash_bucket_size=5000),\n",
    "      tf.feature_column.crossed_column(\n",
    "          ['dst_port', 'service'], hash_bucket_size=10000),\n",
    "      tf.feature_column.crossed_column(\n",
    "          ['conn_len', 'src_bytes'], hash_bucket_size=10000),\n",
    "      tf.feature_column.crossed_column(\n",
    "          ['conn_len', 'dst_bytes'], hash_bucket_size=10000),\n",
    "      tf.feature_column.crossed_column(\n",
    "          ['dst_port', 'conn_numb'], hash_bucket_size=10000),  \n",
    "      tf.feature_column.crossed_column(\n",
    "          ['service', 'proto'], hash_bucket_size=1000),\n",
    "    \n",
    "  ]"
   ]
  },
  {
   "cell_type": "code",
   "execution_count": 547,
   "metadata": {},
   "outputs": [],
   "source": [
    "! rm -r NN_model2"
   ]
  },
  {
   "cell_type": "code",
   "execution_count": 548,
   "metadata": {},
   "outputs": [
    {
     "name": "stdout",
     "output_type": "stream",
     "text": [
      "INFO:tensorflow:Using default config.\n",
      "INFO:tensorflow:Using config: {'_model_dir': '/home/matz/Desktop/ml_ids/NN_model2', '_tf_random_seed': None, '_save_summary_steps': 100, '_save_checkpoints_steps': None, '_save_checkpoints_secs': 600, '_session_config': allow_soft_placement: true\n",
      "graph_options {\n",
      "  rewrite_options {\n",
      "    meta_optimizer_iterations: ONE\n",
      "  }\n",
      "}\n",
      ", '_keep_checkpoint_max': 5, '_keep_checkpoint_every_n_hours': 10000, '_log_step_count_steps': 100, '_train_distribute': None, '_device_fn': None, '_protocol': None, '_eval_distribute': None, '_experimental_distribute': None, '_service': None, '_cluster_spec': <tensorflow.python.training.server_lib.ClusterSpec object at 0x7f0b84b6ae80>, '_task_type': 'worker', '_task_id': 0, '_global_id_in_cluster': 0, '_master': '', '_evaluation_master': '', '_is_chief': True, '_num_ps_replicas': 0, '_num_worker_replicas': 1}\n"
     ]
    }
   ],
   "source": [
    "NN_model = tf.estimator.DNNLinearCombinedClassifier(\n",
    "    model_dir = \"/home/matz/Desktop/ml_ids/NN_model2\",\n",
    "    #linear_optimizer = tf.train.FtrlOptimizer(learning_rate=3, l2_regularization_strength=0.001),\n",
    "    linear_feature_columns = deep_columns + deep_numeric_feat_tf + wide_numeric_feat_tf + crossed_columns,\n",
    "    dnn_activation_fn=tf.nn.selu,\n",
    "    dnn_feature_columns = deep_columns + deep_numeric_feat_tf + wide_numeric_feat_tf,\n",
    "    dnn_hidden_units = [2048, 1024]\n",
    ")"
   ]
  },
  {
   "cell_type": "code",
   "execution_count": 549,
   "metadata": {},
   "outputs": [],
   "source": [
    "feature_set= deep_numeric_feat + wide_numeric_feat + categorical_feat"
   ]
  },
  {
   "cell_type": "code",
   "execution_count": 550,
   "metadata": {},
   "outputs": [],
   "source": [
    "def get_input_fn(data_set, num_epochs=None, n_batch = 256, shuffle=True):\n",
    "    return tf.estimator.inputs.pandas_input_fn(\n",
    "       x=pd.DataFrame({k: data_set[k].values for k in feature_set}),\n",
    "       y = pd.Series(data_set[\"attack_flag\"].values),\n",
    "       batch_size=n_batch,   \n",
    "       num_epochs=num_epochs,\n",
    "       shuffle=shuffle)"
   ]
  },
  {
   "cell_type": "code",
   "execution_count": 551,
   "metadata": {},
   "outputs": [
    {
     "name": "stdout",
     "output_type": "stream",
     "text": [
      "INFO:tensorflow:Calling model_fn.\n",
      "INFO:tensorflow:Done calling model_fn.\n",
      "INFO:tensorflow:Create CheckpointSaverHook.\n",
      "INFO:tensorflow:Graph was finalized.\n",
      "INFO:tensorflow:Running local_init_op.\n",
      "INFO:tensorflow:Done running local_init_op.\n",
      "INFO:tensorflow:Saving checkpoints for 0 into /home/matz/Desktop/ml_ids/NN_model2/model.ckpt.\n",
      "INFO:tensorflow:loss = 1538.3977, step = 1\n",
      "INFO:tensorflow:global_step/sec: 31.8022\n",
      "INFO:tensorflow:loss = 8.696945, step = 101 (3.145 sec)\n",
      "INFO:tensorflow:global_step/sec: 40.7238\n",
      "INFO:tensorflow:loss = 11.738354, step = 201 (2.456 sec)\n",
      "INFO:tensorflow:global_step/sec: 40.5161\n",
      "INFO:tensorflow:loss = 1.4695693, step = 301 (2.468 sec)\n",
      "INFO:tensorflow:global_step/sec: 40.5869\n",
      "INFO:tensorflow:loss = 3.0787687, step = 401 (2.464 sec)\n",
      "INFO:tensorflow:global_step/sec: 40.4295\n",
      "INFO:tensorflow:loss = 100.779396, step = 501 (2.473 sec)\n",
      "INFO:tensorflow:global_step/sec: 40.7313\n",
      "INFO:tensorflow:loss = 18.407864, step = 601 (2.455 sec)\n",
      "INFO:tensorflow:global_step/sec: 40.4402\n",
      "INFO:tensorflow:loss = 8.610052, step = 701 (2.473 sec)\n",
      "INFO:tensorflow:global_step/sec: 39.9682\n",
      "INFO:tensorflow:loss = 11.472548, step = 801 (2.502 sec)\n",
      "INFO:tensorflow:global_step/sec: 40.821\n",
      "INFO:tensorflow:loss = 9.045709, step = 901 (2.450 sec)\n",
      "INFO:tensorflow:global_step/sec: 40.3881\n",
      "INFO:tensorflow:loss = 5.362937, step = 1001 (2.476 sec)\n",
      "INFO:tensorflow:global_step/sec: 40.0731\n",
      "INFO:tensorflow:loss = 244.8903, step = 1101 (2.495 sec)\n",
      "INFO:tensorflow:global_step/sec: 40.4977\n",
      "INFO:tensorflow:loss = 0.7105539, step = 1201 (2.470 sec)\n",
      "INFO:tensorflow:global_step/sec: 40.3407\n",
      "INFO:tensorflow:loss = 0.68577176, step = 1301 (2.479 sec)\n",
      "INFO:tensorflow:global_step/sec: 40.4408\n",
      "INFO:tensorflow:loss = 0.18778345, step = 1401 (2.473 sec)\n",
      "INFO:tensorflow:global_step/sec: 37.1064\n",
      "INFO:tensorflow:loss = 4.777656, step = 1501 (2.695 sec)\n",
      "INFO:tensorflow:global_step/sec: 40.1954\n",
      "INFO:tensorflow:loss = 7.109629, step = 1601 (2.488 sec)\n",
      "INFO:tensorflow:global_step/sec: 40.5435\n",
      "INFO:tensorflow:loss = 5.7112937, step = 1701 (2.466 sec)\n",
      "INFO:tensorflow:global_step/sec: 39.1515\n",
      "INFO:tensorflow:loss = 2.126444, step = 1801 (2.554 sec)\n",
      "INFO:tensorflow:global_step/sec: 39.039\n",
      "INFO:tensorflow:loss = 3.0494928, step = 1901 (2.562 sec)\n",
      "INFO:tensorflow:global_step/sec: 39.9948\n",
      "INFO:tensorflow:loss = 2.3202713, step = 2001 (2.500 sec)\n",
      "INFO:tensorflow:global_step/sec: 40.452\n",
      "INFO:tensorflow:loss = 1.8279656, step = 2101 (2.471 sec)\n",
      "INFO:tensorflow:global_step/sec: 40.5055\n",
      "INFO:tensorflow:loss = 9.189019, step = 2201 (2.469 sec)\n",
      "INFO:tensorflow:global_step/sec: 39.9219\n",
      "INFO:tensorflow:loss = 1.0188363, step = 2301 (2.505 sec)\n",
      "INFO:tensorflow:global_step/sec: 40.1293\n",
      "INFO:tensorflow:loss = 7.5989666, step = 2401 (2.492 sec)\n",
      "INFO:tensorflow:global_step/sec: 40.191\n",
      "INFO:tensorflow:loss = 8.880957, step = 2501 (2.488 sec)\n",
      "INFO:tensorflow:global_step/sec: 40.4227\n",
      "INFO:tensorflow:loss = 7.9352803, step = 2601 (2.474 sec)\n",
      "INFO:tensorflow:global_step/sec: 40.046\n",
      "INFO:tensorflow:loss = 9.496893, step = 2701 (2.497 sec)\n",
      "INFO:tensorflow:global_step/sec: 39.9687\n",
      "INFO:tensorflow:loss = 6.250367, step = 2801 (2.502 sec)\n",
      "INFO:tensorflow:global_step/sec: 40.1673\n",
      "INFO:tensorflow:loss = 0.2098501, step = 2901 (2.489 sec)\n",
      "INFO:tensorflow:global_step/sec: 40.2726\n",
      "INFO:tensorflow:loss = 0.77857953, step = 3001 (2.483 sec)\n",
      "INFO:tensorflow:global_step/sec: 40.5015\n",
      "INFO:tensorflow:loss = 0.4906098, step = 3101 (2.469 sec)\n",
      "INFO:tensorflow:global_step/sec: 39.7073\n",
      "INFO:tensorflow:loss = 0.26131648, step = 3201 (2.518 sec)\n",
      "INFO:tensorflow:global_step/sec: 40.5083\n",
      "INFO:tensorflow:loss = 2.154391, step = 3301 (2.469 sec)\n",
      "INFO:tensorflow:global_step/sec: 40.5866\n",
      "INFO:tensorflow:loss = 9.872905, step = 3401 (2.464 sec)\n",
      "INFO:tensorflow:global_step/sec: 38.0577\n",
      "INFO:tensorflow:loss = 5.1202765, step = 3501 (2.628 sec)\n",
      "INFO:tensorflow:global_step/sec: 35.9598\n",
      "INFO:tensorflow:loss = 8.656373, step = 3601 (2.781 sec)\n",
      "INFO:tensorflow:global_step/sec: 37.3943\n",
      "INFO:tensorflow:loss = 15.206549, step = 3701 (2.674 sec)\n",
      "INFO:tensorflow:global_step/sec: 39.3931\n",
      "INFO:tensorflow:loss = 3.1961055, step = 3801 (2.539 sec)\n",
      "INFO:tensorflow:global_step/sec: 39.2886\n",
      "INFO:tensorflow:loss = 21.031822, step = 3901 (2.545 sec)\n",
      "INFO:tensorflow:global_step/sec: 40.1264\n",
      "INFO:tensorflow:loss = 161.48221, step = 4001 (2.492 sec)\n",
      "INFO:tensorflow:global_step/sec: 40.4298\n",
      "INFO:tensorflow:loss = 29.73743, step = 4101 (2.474 sec)\n",
      "INFO:tensorflow:global_step/sec: 37.9827\n",
      "INFO:tensorflow:loss = 3.3234596, step = 4201 (2.633 sec)\n",
      "INFO:tensorflow:global_step/sec: 39.5026\n",
      "INFO:tensorflow:loss = 147.8549, step = 4301 (2.531 sec)\n",
      "INFO:tensorflow:global_step/sec: 40.1678\n",
      "INFO:tensorflow:loss = 95.09649, step = 4401 (2.490 sec)\n",
      "INFO:tensorflow:global_step/sec: 38.4815\n",
      "INFO:tensorflow:loss = 1.628457, step = 4501 (2.599 sec)\n",
      "INFO:tensorflow:global_step/sec: 38.7427\n",
      "INFO:tensorflow:loss = 0.2693669, step = 4601 (2.581 sec)\n",
      "INFO:tensorflow:global_step/sec: 40.4774\n",
      "INFO:tensorflow:loss = 1.1072143, step = 4701 (2.471 sec)\n",
      "INFO:tensorflow:global_step/sec: 38.1022\n",
      "INFO:tensorflow:loss = 4.544772, step = 4801 (2.624 sec)\n",
      "INFO:tensorflow:global_step/sec: 39.2384\n",
      "INFO:tensorflow:loss = 1.946149, step = 4901 (2.549 sec)\n",
      "INFO:tensorflow:global_step/sec: 39.8332\n",
      "INFO:tensorflow:loss = 16.805563, step = 5001 (2.511 sec)\n",
      "INFO:tensorflow:global_step/sec: 39.8336\n",
      "INFO:tensorflow:loss = 9.472608, step = 5101 (2.510 sec)\n",
      "INFO:tensorflow:global_step/sec: 40.3184\n",
      "INFO:tensorflow:loss = 2.6158621, step = 5201 (2.480 sec)\n",
      "INFO:tensorflow:global_step/sec: 40.1816\n",
      "INFO:tensorflow:loss = 0.70808214, step = 5301 (2.489 sec)\n",
      "INFO:tensorflow:global_step/sec: 40.2666\n",
      "INFO:tensorflow:loss = 6.97662, step = 5401 (2.483 sec)\n",
      "INFO:tensorflow:global_step/sec: 40.1032\n",
      "INFO:tensorflow:loss = 2.247257, step = 5501 (2.494 sec)\n",
      "INFO:tensorflow:global_step/sec: 40.1298\n",
      "INFO:tensorflow:loss = 2.5353613, step = 5601 (2.492 sec)\n",
      "INFO:tensorflow:global_step/sec: 40.7581\n",
      "INFO:tensorflow:loss = 14.297528, step = 5701 (2.453 sec)\n",
      "INFO:tensorflow:global_step/sec: 40.2912\n",
      "INFO:tensorflow:loss = 1.486316, step = 5801 (2.482 sec)\n",
      "INFO:tensorflow:global_step/sec: 40.3605\n",
      "INFO:tensorflow:loss = 8.387668, step = 5901 (2.478 sec)\n",
      "INFO:tensorflow:global_step/sec: 39.9298\n",
      "INFO:tensorflow:loss = 48.983276, step = 6001 (2.504 sec)\n",
      "INFO:tensorflow:global_step/sec: 39.934\n",
      "INFO:tensorflow:loss = 0.2567409, step = 6101 (2.504 sec)\n",
      "INFO:tensorflow:global_step/sec: 34.5398\n",
      "INFO:tensorflow:loss = 0.8877269, step = 6201 (2.895 sec)\n",
      "INFO:tensorflow:global_step/sec: 34.1702\n",
      "INFO:tensorflow:loss = 0.88794875, step = 6301 (2.927 sec)\n",
      "INFO:tensorflow:global_step/sec: 33.8848\n",
      "INFO:tensorflow:loss = 4.9662213, step = 6401 (2.951 sec)\n",
      "INFO:tensorflow:global_step/sec: 39.2715\n",
      "INFO:tensorflow:loss = 1.4444773, step = 6501 (2.546 sec)\n",
      "INFO:tensorflow:global_step/sec: 38.8624\n",
      "INFO:tensorflow:loss = 3.1260939, step = 6601 (2.573 sec)\n",
      "INFO:tensorflow:global_step/sec: 34.8629\n",
      "INFO:tensorflow:loss = 0.592702, step = 6701 (2.869 sec)\n",
      "INFO:tensorflow:global_step/sec: 36.8959\n",
      "INFO:tensorflow:loss = 7.3786244, step = 6801 (2.710 sec)\n",
      "INFO:tensorflow:global_step/sec: 38.6116\n",
      "INFO:tensorflow:loss = 2.06318, step = 6901 (2.590 sec)\n",
      "INFO:tensorflow:global_step/sec: 38.8966\n",
      "INFO:tensorflow:loss = 3.0513177, step = 7001 (2.571 sec)\n",
      "INFO:tensorflow:global_step/sec: 33.7654\n",
      "INFO:tensorflow:loss = 1.673184, step = 7101 (2.961 sec)\n",
      "INFO:tensorflow:global_step/sec: 38.4964\n",
      "INFO:tensorflow:loss = 3.7672439, step = 7201 (2.598 sec)\n",
      "INFO:tensorflow:global_step/sec: 39.9943\n",
      "INFO:tensorflow:loss = 3.3725853, step = 7301 (2.500 sec)\n",
      "INFO:tensorflow:global_step/sec: 39.4497\n",
      "INFO:tensorflow:loss = 3.3682954, step = 7401 (2.535 sec)\n",
      "INFO:tensorflow:global_step/sec: 34.2397\n",
      "INFO:tensorflow:loss = 8.1630945, step = 7501 (2.921 sec)\n",
      "INFO:tensorflow:global_step/sec: 34.8024\n",
      "INFO:tensorflow:loss = 2577.5474, step = 7601 (2.874 sec)\n",
      "INFO:tensorflow:global_step/sec: 35.6035\n",
      "INFO:tensorflow:loss = 1.7070497, step = 7701 (2.808 sec)\n",
      "INFO:tensorflow:global_step/sec: 38.4046\n",
      "INFO:tensorflow:loss = 1.6790928, step = 7801 (2.604 sec)\n",
      "INFO:tensorflow:global_step/sec: 36.0475\n",
      "INFO:tensorflow:loss = 0.15557297, step = 7901 (2.775 sec)\n",
      "INFO:tensorflow:global_step/sec: 39.9022\n"
     ]
    },
    {
     "name": "stdout",
     "output_type": "stream",
     "text": [
      "INFO:tensorflow:loss = 1.6040784, step = 8001 (2.506 sec)\n",
      "INFO:tensorflow:global_step/sec: 39.7581\n",
      "INFO:tensorflow:loss = 9.901038, step = 8101 (2.515 sec)\n",
      "INFO:tensorflow:global_step/sec: 38.1368\n",
      "INFO:tensorflow:loss = 2.0962982, step = 8201 (2.622 sec)\n",
      "INFO:tensorflow:global_step/sec: 39.6967\n",
      "INFO:tensorflow:loss = 2.3190284, step = 8301 (2.519 sec)\n",
      "INFO:tensorflow:global_step/sec: 39.7067\n",
      "INFO:tensorflow:loss = 4.5916142, step = 8401 (2.519 sec)\n",
      "INFO:tensorflow:global_step/sec: 40.072\n",
      "INFO:tensorflow:loss = 15.943678, step = 8501 (2.496 sec)\n",
      "INFO:tensorflow:global_step/sec: 38.3611\n",
      "INFO:tensorflow:loss = 2.6076875, step = 8601 (2.607 sec)\n",
      "INFO:tensorflow:global_step/sec: 35.3928\n",
      "INFO:tensorflow:loss = 2.9747353, step = 8701 (2.826 sec)\n",
      "INFO:tensorflow:global_step/sec: 35.698\n",
      "INFO:tensorflow:loss = 6.687462, step = 8801 (2.801 sec)\n",
      "INFO:tensorflow:global_step/sec: 38.4444\n",
      "INFO:tensorflow:loss = 1.9104413, step = 8901 (2.601 sec)\n",
      "INFO:tensorflow:global_step/sec: 39.1225\n",
      "INFO:tensorflow:loss = 6.1559925, step = 9001 (2.556 sec)\n",
      "INFO:tensorflow:global_step/sec: 38.3525\n",
      "INFO:tensorflow:loss = 19.119862, step = 9101 (2.607 sec)\n",
      "INFO:tensorflow:global_step/sec: 38.9521\n",
      "INFO:tensorflow:loss = 325.72305, step = 9201 (2.567 sec)\n",
      "INFO:tensorflow:global_step/sec: 40.5182\n",
      "INFO:tensorflow:loss = 4.222015, step = 9301 (2.468 sec)\n",
      "INFO:tensorflow:global_step/sec: 40.5673\n",
      "INFO:tensorflow:loss = 2.4948466, step = 9401 (2.465 sec)\n",
      "INFO:tensorflow:global_step/sec: 39.5593\n",
      "INFO:tensorflow:loss = 0.23960312, step = 9501 (2.528 sec)\n",
      "INFO:tensorflow:global_step/sec: 37.0464\n",
      "INFO:tensorflow:loss = 1.706162, step = 9601 (2.699 sec)\n",
      "INFO:tensorflow:global_step/sec: 38.7521\n",
      "INFO:tensorflow:loss = 1.3175321, step = 9701 (2.581 sec)\n",
      "INFO:tensorflow:global_step/sec: 37.0785\n",
      "INFO:tensorflow:loss = 1.166055, step = 9801 (2.697 sec)\n",
      "INFO:tensorflow:global_step/sec: 39.7047\n",
      "INFO:tensorflow:loss = 1.2481298, step = 9901 (2.519 sec)\n",
      "INFO:tensorflow:global_step/sec: 39.9842\n",
      "INFO:tensorflow:loss = 3.169244, step = 10001 (2.501 sec)\n",
      "INFO:tensorflow:global_step/sec: 40.2807\n",
      "INFO:tensorflow:loss = 48.6771, step = 10101 (2.483 sec)\n",
      "INFO:tensorflow:global_step/sec: 40.0455\n",
      "INFO:tensorflow:loss = 1.9365195, step = 10201 (2.498 sec)\n",
      "INFO:tensorflow:global_step/sec: 40.2525\n",
      "INFO:tensorflow:loss = 3.3855352, step = 10301 (2.484 sec)\n",
      "INFO:tensorflow:global_step/sec: 36.1742\n",
      "INFO:tensorflow:loss = 2.1442482, step = 10401 (2.764 sec)\n",
      "INFO:tensorflow:global_step/sec: 34.4901\n",
      "INFO:tensorflow:loss = 1.7843963, step = 10501 (2.900 sec)\n",
      "INFO:tensorflow:global_step/sec: 36.8207\n",
      "INFO:tensorflow:loss = 9.688891, step = 10601 (2.716 sec)\n",
      "INFO:tensorflow:global_step/sec: 34.8619\n",
      "INFO:tensorflow:loss = 3.8420508, step = 10701 (2.869 sec)\n",
      "INFO:tensorflow:global_step/sec: 34.125\n",
      "INFO:tensorflow:loss = 4.7380824, step = 10801 (2.930 sec)\n",
      "INFO:tensorflow:global_step/sec: 36.3323\n",
      "INFO:tensorflow:loss = 108.13387, step = 10901 (2.753 sec)\n",
      "INFO:tensorflow:global_step/sec: 34.9763\n",
      "INFO:tensorflow:loss = 0.45248666, step = 11001 (2.858 sec)\n",
      "INFO:tensorflow:global_step/sec: 38.2092\n",
      "INFO:tensorflow:loss = 0.49786693, step = 11101 (2.617 sec)\n",
      "INFO:tensorflow:global_step/sec: 40.0852\n",
      "INFO:tensorflow:loss = 6.448265, step = 11201 (2.495 sec)\n",
      "INFO:tensorflow:global_step/sec: 39.4344\n",
      "INFO:tensorflow:loss = 1.5504816, step = 11301 (2.536 sec)\n",
      "INFO:tensorflow:global_step/sec: 40.6489\n",
      "INFO:tensorflow:loss = 1.7947758, step = 11401 (2.460 sec)\n",
      "INFO:tensorflow:global_step/sec: 40.6051\n",
      "INFO:tensorflow:loss = 1.4902139, step = 11501 (2.463 sec)\n",
      "INFO:tensorflow:global_step/sec: 40.2841\n",
      "INFO:tensorflow:loss = 2.2231073, step = 11601 (2.483 sec)\n",
      "INFO:tensorflow:global_step/sec: 40.4049\n",
      "INFO:tensorflow:loss = 6.102384, step = 11701 (2.475 sec)\n",
      "INFO:tensorflow:global_step/sec: 40.3209\n",
      "INFO:tensorflow:loss = 9.333312, step = 11801 (2.480 sec)\n",
      "INFO:tensorflow:global_step/sec: 40.05\n",
      "INFO:tensorflow:loss = 1.0594398, step = 11901 (2.497 sec)\n",
      "INFO:tensorflow:global_step/sec: 40.4984\n",
      "INFO:tensorflow:loss = 22.606468, step = 12001 (2.469 sec)\n",
      "INFO:tensorflow:global_step/sec: 40.4573\n",
      "INFO:tensorflow:loss = 1.446485, step = 12101 (2.472 sec)\n",
      "INFO:tensorflow:global_step/sec: 40.2933\n",
      "INFO:tensorflow:loss = 6.456878, step = 12201 (2.482 sec)\n",
      "INFO:tensorflow:global_step/sec: 40.204\n",
      "INFO:tensorflow:loss = 5.48304, step = 12301 (2.487 sec)\n",
      "INFO:tensorflow:global_step/sec: 40.1704\n",
      "INFO:tensorflow:loss = 0.9615702, step = 12401 (2.489 sec)\n",
      "INFO:tensorflow:global_step/sec: 40.1773\n",
      "INFO:tensorflow:loss = 11.012273, step = 12501 (2.490 sec)\n",
      "INFO:tensorflow:global_step/sec: 37.6336\n",
      "INFO:tensorflow:loss = 0.5290497, step = 12601 (2.657 sec)\n",
      "INFO:tensorflow:global_step/sec: 35.693\n",
      "INFO:tensorflow:loss = 34.32201, step = 12701 (2.802 sec)\n",
      "INFO:tensorflow:global_step/sec: 37.4246\n",
      "INFO:tensorflow:loss = 0.8449505, step = 12801 (2.672 sec)\n",
      "INFO:tensorflow:global_step/sec: 39.1289\n",
      "INFO:tensorflow:loss = 6.5219274, step = 12901 (2.556 sec)\n",
      "INFO:tensorflow:global_step/sec: 35.7408\n",
      "INFO:tensorflow:loss = 3.0828025, step = 13001 (2.798 sec)\n",
      "INFO:tensorflow:global_step/sec: 36.9978\n",
      "INFO:tensorflow:loss = 0.9506509, step = 13101 (2.703 sec)\n",
      "INFO:tensorflow:global_step/sec: 35.1609\n",
      "INFO:tensorflow:loss = 7.7917457, step = 13201 (2.844 sec)\n",
      "INFO:tensorflow:global_step/sec: 36.4456\n",
      "INFO:tensorflow:loss = 10.498188, step = 13301 (2.744 sec)\n",
      "INFO:tensorflow:global_step/sec: 34.4507\n",
      "INFO:tensorflow:loss = 3.5258596, step = 13401 (2.903 sec)\n",
      "INFO:tensorflow:global_step/sec: 38.4795\n",
      "INFO:tensorflow:loss = 5.443643, step = 13501 (2.599 sec)\n",
      "INFO:tensorflow:global_step/sec: 36.2042\n",
      "INFO:tensorflow:loss = 2.4946003, step = 13601 (2.763 sec)\n",
      "INFO:tensorflow:global_step/sec: 37.4556\n",
      "INFO:tensorflow:loss = 1.7799278, step = 13701 (2.675 sec)\n",
      "INFO:tensorflow:global_step/sec: 37.8528\n",
      "INFO:tensorflow:loss = 1.2317795, step = 13801 (2.637 sec)\n",
      "INFO:tensorflow:global_step/sec: 36.6779\n",
      "INFO:tensorflow:loss = 6.512288, step = 13901 (2.726 sec)\n",
      "INFO:tensorflow:global_step/sec: 38.1993\n",
      "INFO:tensorflow:loss = 2.5106037, step = 14001 (2.620 sec)\n",
      "INFO:tensorflow:global_step/sec: 34.1315\n",
      "INFO:tensorflow:loss = 13.951978, step = 14101 (2.928 sec)\n",
      "INFO:tensorflow:global_step/sec: 34.4049\n",
      "INFO:tensorflow:loss = 0.6982098, step = 14201 (2.906 sec)\n",
      "INFO:tensorflow:global_step/sec: 38.0824\n",
      "INFO:tensorflow:loss = 0.42547482, step = 14301 (2.626 sec)\n",
      "INFO:tensorflow:global_step/sec: 37.418\n",
      "INFO:tensorflow:loss = 0.5805062, step = 14401 (2.673 sec)\n",
      "INFO:tensorflow:global_step/sec: 36.9467\n",
      "INFO:tensorflow:loss = 0.17897442, step = 14501 (2.707 sec)\n",
      "INFO:tensorflow:global_step/sec: 35.1573\n",
      "INFO:tensorflow:loss = 0.836245, step = 14601 (2.844 sec)\n",
      "INFO:tensorflow:global_step/sec: 32.5606\n",
      "INFO:tensorflow:loss = 0.6318264, step = 14701 (3.071 sec)\n",
      "INFO:tensorflow:global_step/sec: 34.005\n",
      "INFO:tensorflow:loss = 5.284546, step = 14801 (2.941 sec)\n",
      "INFO:tensorflow:global_step/sec: 39.351\n",
      "INFO:tensorflow:loss = 9.20708, step = 14901 (2.541 sec)\n",
      "INFO:tensorflow:global_step/sec: 40.2907\n",
      "INFO:tensorflow:loss = 3.4704607, step = 15001 (2.482 sec)\n",
      "INFO:tensorflow:global_step/sec: 38.3033\n",
      "INFO:tensorflow:loss = 4.5105963, step = 15101 (2.611 sec)\n",
      "INFO:tensorflow:global_step/sec: 35.5153\n",
      "INFO:tensorflow:loss = 7.2927327, step = 15201 (2.816 sec)\n",
      "INFO:tensorflow:global_step/sec: 36.2646\n",
      "INFO:tensorflow:loss = 2.9883242, step = 15301 (2.758 sec)\n",
      "INFO:tensorflow:global_step/sec: 40.6342\n",
      "INFO:tensorflow:loss = 3.316902, step = 15401 (2.461 sec)\n",
      "INFO:tensorflow:global_step/sec: 40.5604\n",
      "INFO:tensorflow:loss = 3.416008, step = 15501 (2.466 sec)\n",
      "INFO:tensorflow:global_step/sec: 40.4073\n",
      "INFO:tensorflow:loss = 1.9691932, step = 15601 (2.475 sec)\n",
      "INFO:tensorflow:global_step/sec: 40.7378\n",
      "INFO:tensorflow:loss = 5.283556, step = 15701 (2.454 sec)\n",
      "INFO:tensorflow:global_step/sec: 40.4624\n",
      "INFO:tensorflow:loss = 1.3409078, step = 15801 (2.472 sec)\n",
      "INFO:tensorflow:global_step/sec: 40.5402\n",
      "INFO:tensorflow:loss = 0.9354961, step = 15901 (2.467 sec)\n",
      "INFO:tensorflow:global_step/sec: 40.0645\n",
      "INFO:tensorflow:loss = 0.7264445, step = 16001 (2.496 sec)\n",
      "INFO:tensorflow:global_step/sec: 40.7874\n",
      "INFO:tensorflow:loss = 4.8139725, step = 16101 (2.452 sec)\n",
      "INFO:tensorflow:global_step/sec: 40.5101\n",
      "INFO:tensorflow:loss = 0.1433369, step = 16201 (2.468 sec)\n"
     ]
    },
    {
     "name": "stdout",
     "output_type": "stream",
     "text": [
      "INFO:tensorflow:global_step/sec: 40.6085\n",
      "INFO:tensorflow:loss = 4.429572, step = 16301 (2.463 sec)\n",
      "INFO:tensorflow:global_step/sec: 40.8102\n",
      "INFO:tensorflow:loss = 6.0176835, step = 16401 (2.450 sec)\n",
      "INFO:tensorflow:global_step/sec: 40.5925\n",
      "INFO:tensorflow:loss = 14.180514, step = 16501 (2.464 sec)\n",
      "INFO:tensorflow:global_step/sec: 37.0083\n",
      "INFO:tensorflow:loss = 0.5452956, step = 16601 (2.702 sec)\n",
      "INFO:tensorflow:global_step/sec: 36.2156\n",
      "INFO:tensorflow:loss = 7.6045475, step = 16701 (2.761 sec)\n",
      "INFO:tensorflow:global_step/sec: 36.2402\n",
      "INFO:tensorflow:loss = 16.568306, step = 16801 (2.760 sec)\n",
      "INFO:tensorflow:global_step/sec: 34.9073\n",
      "INFO:tensorflow:loss = 2.6094868, step = 16901 (2.864 sec)\n",
      "INFO:tensorflow:global_step/sec: 34.166\n",
      "INFO:tensorflow:loss = 2.3947856, step = 17001 (2.927 sec)\n",
      "INFO:tensorflow:global_step/sec: 37.0384\n",
      "INFO:tensorflow:loss = 4.70043, step = 17101 (2.700 sec)\n",
      "INFO:tensorflow:global_step/sec: 34.8143\n",
      "INFO:tensorflow:loss = 2.3932345, step = 17201 (2.872 sec)\n",
      "INFO:tensorflow:global_step/sec: 38.008\n",
      "INFO:tensorflow:loss = 4.6530437, step = 17301 (2.631 sec)\n",
      "INFO:tensorflow:global_step/sec: 39.9499\n",
      "INFO:tensorflow:loss = 121.59592, step = 17401 (2.503 sec)\n",
      "INFO:tensorflow:global_step/sec: 38.8231\n",
      "INFO:tensorflow:loss = 0.31724685, step = 17501 (2.576 sec)\n",
      "INFO:tensorflow:global_step/sec: 38.9061\n",
      "INFO:tensorflow:loss = 2.1735098, step = 17601 (2.570 sec)\n",
      "INFO:tensorflow:global_step/sec: 40.3995\n",
      "INFO:tensorflow:loss = 0.92672074, step = 17701 (2.475 sec)\n",
      "INFO:tensorflow:global_step/sec: 40.7519\n",
      "INFO:tensorflow:loss = 3.8835678, step = 17801 (2.454 sec)\n",
      "INFO:tensorflow:global_step/sec: 40.3743\n",
      "INFO:tensorflow:loss = 4.628272, step = 17901 (2.477 sec)\n",
      "INFO:tensorflow:global_step/sec: 40.5635\n",
      "INFO:tensorflow:loss = 6.5673537, step = 18001 (2.465 sec)\n",
      "INFO:tensorflow:global_step/sec: 40.3138\n",
      "INFO:tensorflow:loss = 3.6875174, step = 18101 (2.481 sec)\n",
      "INFO:tensorflow:global_step/sec: 40.2963\n",
      "INFO:tensorflow:loss = 5.118888, step = 18201 (2.482 sec)\n",
      "INFO:tensorflow:global_step/sec: 37.8979\n",
      "INFO:tensorflow:loss = 1.9640265, step = 18301 (2.638 sec)\n",
      "INFO:tensorflow:global_step/sec: 38.95\n",
      "INFO:tensorflow:loss = 6.2743816, step = 18401 (2.567 sec)\n",
      "INFO:tensorflow:global_step/sec: 40.4294\n",
      "INFO:tensorflow:loss = 3.178836, step = 18501 (2.474 sec)\n",
      "INFO:tensorflow:global_step/sec: 39.4161\n",
      "INFO:tensorflow:loss = 0.7494338, step = 18601 (2.537 sec)\n",
      "INFO:tensorflow:global_step/sec: 36.8393\n",
      "INFO:tensorflow:loss = 2.5629919, step = 18701 (2.715 sec)\n",
      "INFO:tensorflow:global_step/sec: 36.7688\n",
      "INFO:tensorflow:loss = 1.5884413, step = 18801 (2.720 sec)\n",
      "INFO:tensorflow:global_step/sec: 34.6485\n",
      "INFO:tensorflow:loss = 3.039217, step = 18901 (2.887 sec)\n",
      "INFO:tensorflow:global_step/sec: 36.3784\n",
      "INFO:tensorflow:loss = 14.813891, step = 19001 (2.749 sec)\n",
      "INFO:tensorflow:global_step/sec: 36.8295\n",
      "INFO:tensorflow:loss = 1.3996724, step = 19101 (2.715 sec)\n",
      "INFO:tensorflow:global_step/sec: 36.8253\n",
      "INFO:tensorflow:loss = 0.54587305, step = 19201 (2.716 sec)\n",
      "INFO:tensorflow:global_step/sec: 37.6067\n",
      "INFO:tensorflow:loss = 0.4358289, step = 19301 (2.659 sec)\n",
      "INFO:tensorflow:global_step/sec: 37.886\n",
      "INFO:tensorflow:loss = 1.3430902, step = 19401 (2.639 sec)\n",
      "INFO:tensorflow:global_step/sec: 37.6162\n",
      "INFO:tensorflow:loss = 0.168655, step = 19501 (2.658 sec)\n",
      "INFO:tensorflow:global_step/sec: 38.2484\n",
      "INFO:tensorflow:loss = 0.22713345, step = 19601 (2.615 sec)\n",
      "INFO:tensorflow:global_step/sec: 36.3124\n",
      "INFO:tensorflow:loss = 6.848499, step = 19701 (2.754 sec)\n",
      "INFO:tensorflow:global_step/sec: 38.2092\n",
      "INFO:tensorflow:loss = 4.8876286, step = 19801 (2.618 sec)\n",
      "INFO:tensorflow:global_step/sec: 39.0904\n",
      "INFO:tensorflow:loss = 2.4558778, step = 19901 (2.557 sec)\n",
      "INFO:tensorflow:Saving checkpoints for 20000 into /home/matz/Desktop/ml_ids/NN_model2/model.ckpt.\n",
      "INFO:tensorflow:Loss for final step: 18.64191.\n"
     ]
    },
    {
     "data": {
      "text/plain": [
       "<tensorflow.python.estimator.canned.dnn_linear_combined.DNNLinearCombinedClassifier at 0x7f0cdc1f6cf8>"
      ]
     },
     "execution_count": 551,
     "metadata": {},
     "output_type": "execute_result"
    }
   ],
   "source": [
    "NN_model.train(input_fn=get_input_fn(train_ex, n_batch=180), steps=20000)"
   ]
  },
  {
   "cell_type": "code",
   "execution_count": 552,
   "metadata": {},
   "outputs": [
    {
     "name": "stdout",
     "output_type": "stream",
     "text": [
      "INFO:tensorflow:Calling model_fn.\n",
      "WARNING:tensorflow:Trapezoidal rule is known to produce incorrect PR-AUCs; please switch to \"careful_interpolation\" instead.\n",
      "WARNING:tensorflow:Trapezoidal rule is known to produce incorrect PR-AUCs; please switch to \"careful_interpolation\" instead.\n",
      "INFO:tensorflow:Done calling model_fn.\n",
      "INFO:tensorflow:Starting evaluation at 2019-05-22-12:25:16\n",
      "INFO:tensorflow:Graph was finalized.\n",
      "INFO:tensorflow:Restoring parameters from /home/matz/Desktop/ml_ids/NN_model2/model.ckpt-20000\n",
      "INFO:tensorflow:Running local_init_op.\n",
      "INFO:tensorflow:Done running local_init_op.\n",
      "INFO:tensorflow:Evaluation [1/1]\n",
      "INFO:tensorflow:Finished evaluation at 2019-05-22-12:25:25\n",
      "INFO:tensorflow:Saving dict for global step 20000: accuracy = 0.96015716, accuracy_baseline = 0.9510752, auc = 0.7462008, auc_precision_recall = 0.98466885, average_loss = 0.31744555, global_step = 20000, label/mean = 0.9510752, loss = 19958.436, precision = 0.96136194, prediction/mean = 0.9815353, recall = 0.9982273\n",
      "INFO:tensorflow:Saving 'checkpoint_path' summary for global step 20000: /home/matz/Desktop/ml_ids/NN_model2/model.ckpt-20000\n"
     ]
    }
   ],
   "source": [
    "eval_metrics = NN_model.evaluate(input_fn=get_input_fn(validate_ex, n_batch=validate_ex.shape[0], shuffle=False), steps=1)"
   ]
  },
  {
   "cell_type": "code",
   "execution_count": 553,
   "metadata": {},
   "outputs": [
    {
     "name": "stdout",
     "output_type": "stream",
     "text": [
      "accuracy: 0.96015716\n",
      "accuracy_baseline: 0.9510752\n",
      "auc: 0.7462008\n",
      "auc_precision_recall: 0.98466885\n",
      "average_loss: 0.31744555\n",
      "global_step: 20000\n",
      "label/mean: 0.9510752\n",
      "loss: 19958.436\n",
      "precision: 0.96136194\n",
      "prediction/mean: 0.9815353\n",
      "recall: 0.9982273\n"
     ]
    }
   ],
   "source": [
    "for key,value in sorted(eval_metrics.items()):\n",
    "  print('%s: %s' % (key, value))"
   ]
  },
  {
   "cell_type": "code",
   "execution_count": 554,
   "metadata": {},
   "outputs": [
    {
     "name": "stdout",
     "output_type": "stream",
     "text": [
      "INFO:tensorflow:Calling model_fn.\n",
      "INFO:tensorflow:Done calling model_fn.\n",
      "INFO:tensorflow:Graph was finalized.\n",
      "INFO:tensorflow:Restoring parameters from /home/matz/Desktop/ml_ids/NN_model2/model.ckpt-20000\n",
      "INFO:tensorflow:Running local_init_op.\n",
      "INFO:tensorflow:Done running local_init_op.\n"
     ]
    }
   ],
   "source": [
    "results = []\n",
    "results = list(NN_model.predict(input_fn=get_input_fn(test_ex, num_epochs=1, n_batch = test_ex.shape[0], shuffle=False)))"
   ]
  },
  {
   "cell_type": "code",
   "execution_count": 568,
   "metadata": {},
   "outputs": [],
   "source": [
    "y_pred = []\n",
    "for el in results:\n",
    "    y_pred.append(el[\"class_ids\"])\n",
    "\n",
    "y_pred_NN = [int(a) for a in y_pred]"
   ]
  },
  {
   "cell_type": "code",
   "execution_count": 569,
   "metadata": {},
   "outputs": [
    {
     "name": "stdout",
     "output_type": "stream",
     "text": [
      "NN Accuracy: 0.92583, F1-score: 0.95911, Precision: 0.92270, Recall: 0.99850, FPR: 0.56493\n",
      "TN: 3528; FP: 4581; FN:   82; TP: 54681\n",
      "\n"
     ]
    }
   ],
   "source": [
    "from sklearn import metrics\n",
    "name = \"NN\"\n",
    "\n",
    "Acc[name] = metrics.accuracy_score(test_ex[\"attack_flag\"], y_pred_NN)\n",
    "F1S[name] = metrics.f1_score(test_ex[\"attack_flag\"], y_pred_NN)\n",
    "Prec[name] = metrics.precision_score(test_ex[\"attack_flag\"], y_pred_NN)\n",
    "Rec[name] = metrics.recall_score(test_ex[\"attack_flag\"], y_pred_NN)\n",
    "tn, fp, fn, tp = metrics.confusion_matrix(test_ex[\"attack_flag\"], y_pred_NN).ravel()\n",
    "FPR[name] = fp/(fp+tn)\n",
    "\n",
    "print(\"{0:2} Accuracy: {1:.5f}, F1-score: {2:.5f}, Precision: {3:.5f}, Recall: {4:.5f}, FPR: {5:.5f}\".format(name, Acc[name], F1S[name], Prec[name], Rec[name], FPR[name]))\n",
    "print(\"TN: {0:3}; FP: {1:3}; FN: {2:4}; TP: {3:3}\\n\".format(tn, fp, fn, tp))"
   ]
  },
  {
   "cell_type": "code",
   "execution_count": 570,
   "metadata": {},
   "outputs": [
    {
     "data": {
      "image/png": "[encoded data removed]",
      "text/plain": [
       "<matplotlib.figure.Figure at 0x7f0b917e8748>"
      ]
     },
     "metadata": {
      "needs_background": "light"
     },
     "output_type": "display_data"
    },
    {
     "data": {
      "image/png": "[encoded data removed]",
      "text/plain": [
       "<matplotlib.figure.Figure at 0x7f0ba80ed3c8>"
      ]
     },
     "metadata": {
      "needs_background": "light"
     },
     "output_type": "display_data"
    },
    {
     "data": {
      "image/png": "[encoded data removed]",
      "text/plain": [
       "<matplotlib.figure.Figure at 0x7f0ba80ed550>"
      ]
     },
     "metadata": {
      "needs_background": "light"
     },
     "output_type": "display_data"
    },
    {
     "data": {
      "image/png": "[encoded data removed]",
      "text/plain": [
       "<matplotlib.figure.Figure at 0x7f0ba80f3e80>"
      ]
     },
     "metadata": {
      "needs_background": "light"
     },
     "output_type": "display_data"
    },
    {
     "data": {
      "image/png": "[encoded data removed]",
      "text/plain": [
       "<matplotlib.figure.Figure at 0x7f0b927cb978>"
      ]
     },
     "metadata": {
      "needs_background": "light"
     },
     "output_type": "display_data"
    }
   ],
   "source": [
    "plot_stats(Acc, \"Accuracy\", 8, 55)\n",
    "plot_stats(F1S, \"F1-score\", 8, 55)\n",
    "plot_stats(Prec, \"Precision\", 8, 55)\n",
    "plot_stats(Rec, \"Recall\", 8, 55)\n",
    "plot_stats(FPR, \"False Positive Rate\", 8, 55)"
   ]
  },
  {
   "cell_type": "markdown",
   "metadata": {},
   "source": [
    "## Results comparison"
   ]
  },
  {
   "cell_type": "code",
   "execution_count": 582,
   "metadata": {},
   "outputs": [],
   "source": [
    "y_pred = {}"
   ]
  },
  {
   "cell_type": "code",
   "execution_count": 616,
   "metadata": {},
   "outputs": [],
   "source": [
    "y_pred[\"RFFM\"] = class_id\n",
    "y_pred[\"NN\"] = y_pred_NN"
   ]
  },
  {
   "cell_type": "code",
   "execution_count": 584,
   "metadata": {},
   "outputs": [],
   "source": [
    "# Metrics of baseline method\n",
    "\n",
    "name = \"baseline\"\n",
    "\n",
    "if(y_test.mean() > (1-y_test.mean())):\n",
    "    y_pred[\"baseline\"] = np.ones(len(y_test)).ravel() \n",
    "else:\n",
    "    y_pred[\"baseline\"] = np.zeros(len(y_test)).ravel()\n",
    "        \n",
    "y_pred[\"baseline\"] = y_pred[\"baseline\"].astype(int)"
   ]
  },
  {
   "cell_type": "code",
   "execution_count": 585,
   "metadata": {},
   "outputs": [
    {
     "name": "stderr",
     "output_type": "stream",
     "text": [
      "/home/matz/.local/lib/python3.6/site-packages/sklearn/preprocessing/data.py:625: DataConversionWarning: Data with input dtype float32 were all converted to float64 by StandardScaler.\n",
      "  return self.partial_fit(X, y)\n",
      "/home/matz/.local/lib/python3.6/site-packages/sklearn/base.py:465: DataConversionWarning: Data with input dtype float32 were all converted to float64 by StandardScaler.\n",
      "  return self.fit(X, y, **fit_params).transform(X)\n",
      "/home/matz/.local/lib/python3.6/site-packages/sklearn/pipeline.py:331: DataConversionWarning: Data with input dtype float32 were all converted to float64 by StandardScaler.\n",
      "  Xt = transform.transform(Xt)\n"
     ]
    }
   ],
   "source": [
    "classifiers = {\n",
    "               \"AdaBoost\":AdaBoostClassifier(DecisionTreeClassifier(max_depth = 13), n_estimators=num_trees, random_state = 0),\n",
    "               \"DecisionTree\":DecisionTreeClassifier(random_state=0, max_depth = 13),\n",
    "               \"NaiveBayes\":GaussianNB(),\n",
    "               \"RandomTree\":DecisionTreeClassifier(random_state=0, splitter = \"random\"),\n",
    "               \"RandomForest\":make_pipeline(StandardScaler(),RandomForestClassifier(n_estimators=167, max_depth=38, random_state=0)),\n",
    "              }\n",
    "\n",
    "name = \"LogisticReg\"\n",
    "model = LogisticRegression(solver = 'newton-cg').fit(X_train, y_train)\n",
    "y_pred[name] = model.predict(X_test)\n",
    "\n",
    "for name, clf in classifiers.items():\n",
    "    \n",
    "    model = clf.fit(X_train, y_train)\n",
    "    \n",
    "    y_pred[name] = model.predict(X_test)"
   ]
  },
  {
   "cell_type": "code",
   "execution_count": 617,
   "metadata": {},
   "outputs": [
    {
     "name": "stdout",
     "output_type": "stream",
     "text": [
      "RFFM62872\n",
      "NN62872\n",
      "baseline62872\n",
      "LogisticReg62872\n",
      "AdaBoost62872\n",
      "DecisionTree62872\n",
      "NaiveBayes62872\n",
      "RandomTree62872\n",
      "RandomForest62872\n"
     ]
    }
   ],
   "source": [
    "for k in y_pred:\n",
    "    print(k + str(len(y_pred[k])))"
   ]
  },
  {
   "cell_type": "code",
   "execution_count": 618,
   "metadata": {},
   "outputs": [
    {
     "data": {
      "image/png": "[encoded data removed]",
      "text/plain": [
       "<matplotlib.figure.Figure at 0x7f0b84ade128>"
      ]
     },
     "metadata": {
      "needs_background": "light"
     },
     "output_type": "display_data"
    }
   ],
   "source": [
    "y_pred_pand = pd.DataFrame.from_dict(y_pred)\n",
    "names = [\"LogisticReg\", \"AdaBoost\", \"DecisionTree\", \"NaiveBayes\", \"RandomTree\", \"RandomForest\", \"RFFM\", \"NN\"]\n",
    "correlations = y_pred_pand[names].corr()\n",
    "fig = plt.figure()\n",
    "ax = fig.add_subplot(111)\n",
    "cax = ax.matshow(correlations, vmin=0.5, vmax=1)\n",
    "fig.colorbar(cax)\n",
    "ticks = np.arange(0,8,1)\n",
    "ax.set_xticks(ticks)\n",
    "ax.set_yticks(ticks)\n",
    "ax.set_xticklabels(names, rotation='vertical')\n",
    "ax.set_yticklabels(names)\n",
    "plt.show()"
   ]
  },
  {
   "cell_type": "code",
   "execution_count": 619,
   "metadata": {},
   "outputs": [
    {
     "name": "stdout",
     "output_type": "stream",
     "text": [
      "              LogisticReg  AdaBoost  DecisionTree  NaiveBayes  RandomTree  \\\n",
      "LogisticReg      1.000000  0.724315      0.681495    0.796965    0.701976   \n",
      "AdaBoost         0.724315  1.000000      0.895212    0.625182    0.900309   \n",
      "DecisionTree     0.681495  0.895212      1.000000    0.607255    0.836278   \n",
      "NaiveBayes       0.796965  0.625182      0.607255    1.000000    0.611867   \n",
      "RandomTree       0.701976  0.900309      0.836278    0.611867    1.000000   \n",
      "RandomForest     0.701221  0.916383      0.924282    0.612663    0.895317   \n",
      "RFFM             0.700537  0.834274      0.840071    0.603339    0.798890   \n",
      "NN               0.001759  0.000224     -0.000029    0.002852   -0.000014   \n",
      "\n",
      "              RandomForest      RFFM        NN  \n",
      "LogisticReg       0.701221  0.700537  0.001759  \n",
      "AdaBoost          0.916383  0.834274  0.000224  \n",
      "DecisionTree      0.924282  0.840071 -0.000029  \n",
      "NaiveBayes        0.612663  0.603339  0.002852  \n",
      "RandomTree        0.895317  0.798890 -0.000014  \n",
      "RandomForest      1.000000  0.836000 -0.001246  \n",
      "RFFM              0.836000  1.000000 -0.000574  \n",
      "NN               -0.001246 -0.000574  1.000000  \n"
     ]
    }
   ],
   "source": [
    "print(correlations)"
   ]
  },
  {
   "cell_type": "code",
   "execution_count": 620,
   "metadata": {},
   "outputs": [],
   "source": [
    "failures = {}\n",
    "failures[\"baseline\"] = []\n",
    "failures[\"LogisticReg\"] = []\n",
    "failures[\"AdaBoost\"] = []\n",
    "failures[\"DecisionTree\"] = []\n",
    "failures[\"NaiveBayes\"] = []\n",
    "failures[\"RandomTree\"] = []\n",
    "failures[\"RandomForest\"] = []\n",
    "failures[\"RFFM\"] = []\n",
    "failures[\"NN\"] = []\n",
    "\n",
    "for i in range(0, len(y_test)):\n",
    "    for key in y_pred.keys():\n",
    "        if y_pred[key][i] != y_test[i]:\n",
    "            failures[key].append(10)\n",
    "        else:\n",
    "            failures[key].append(1)"
   ]
  },
  {
   "cell_type": "code",
   "execution_count": 621,
   "metadata": {},
   "outputs": [
    {
     "data": {
      "image/png": "[encoded data removed]",
      "text/plain": [
       "<matplotlib.figure.Figure at 0x7f0b84ade080>"
      ]
     },
     "metadata": {
      "needs_background": "light"
     },
     "output_type": "display_data"
    }
   ],
   "source": [
    "failures_pand = pd.DataFrame.from_dict(failures)\n",
    "names = [\"baseline\", \"LogisticReg\", \"AdaBoost\", \"DecisionTree\", \"NaiveBayes\", \"RandomTree\", \"RandomForest\", \"RFFM\", \"NN\"]\n",
    "#names = [\"baseline\", \"LogisticReg\", \"RandomForest\"]\n",
    "correlations = failures_pand[names].corr()\n",
    "fig = plt.figure()\n",
    "ax = fig.add_subplot(111)\n",
    "cax = ax.matshow(correlations, vmin=0, vmax=1)\n",
    "fig.colorbar(cax)\n",
    "ticks = np.arange(0,9,1)\n",
    "ax.set_xticks(ticks)\n",
    "ax.set_yticks(ticks)\n",
    "ax.set_xticklabels(names, rotation='vertical')\n",
    "ax.set_yticklabels(names)\n",
    "plt.show()"
   ]
  },
  {
   "cell_type": "code",
   "execution_count": 622,
   "metadata": {},
   "outputs": [
    {
     "name": "stdout",
     "output_type": "stream",
     "text": [
      "              baseline  LogisticReg  AdaBoost  DecisionTree  NaiveBayes  \\\n",
      "baseline      1.000000     0.006450  0.220116      0.311228   -0.133475   \n",
      "LogisticReg   0.006450     1.000000  0.161618      0.083524    0.619317   \n",
      "AdaBoost      0.220116     0.161618  1.000000      0.486404    0.089709   \n",
      "DecisionTree  0.311228     0.083524  0.486404      1.000000    0.068659   \n",
      "NaiveBayes   -0.133475     0.619317  0.089709      0.068659    1.000000   \n",
      "RandomTree    0.247472     0.122515  0.464066      0.269448    0.073702   \n",
      "RandomForest  0.292199     0.080400  0.501583      0.646148    0.041950   \n",
      "RFFM          0.302155     0.238220  0.411850      0.493401    0.133097   \n",
      "NN            0.786908     0.006637  0.173440      0.244783   -0.102804   \n",
      "\n",
      "              RandomTree  RandomForest      RFFM        NN  \n",
      "baseline        0.247472      0.292199  0.302155  0.786908  \n",
      "LogisticReg     0.122515      0.080400  0.238220  0.006637  \n",
      "AdaBoost        0.464066      0.501583  0.411850  0.173440  \n",
      "DecisionTree    0.269448      0.646148  0.493401  0.244783  \n",
      "NaiveBayes      0.073702      0.041950  0.133097 -0.102804  \n",
      "RandomTree      1.000000      0.452869  0.316444  0.194620  \n",
      "RandomForest    0.452869      1.000000  0.436441  0.227983  \n",
      "RFFM            0.316444      0.436441  1.000000  0.237118  \n",
      "NN              0.194620      0.227983  0.237118  1.000000  \n"
     ]
    }
   ],
   "source": [
    "print(correlations)"
   ]
  },
  {
   "cell_type": "code",
   "execution_count": 623,
   "metadata": {},
   "outputs": [
    {
     "name": "stdout",
     "output_type": "stream",
     "text": [
      "Counter({1: 54763, 10: 8109})\n",
      "Counter({1: 58330, 10: 4542})\n",
      "Counter({1: 61747, 10: 1125})\n",
      "Counter({1: 61277, 10: 1595})\n",
      "Counter({1: 54527, 10: 8345})\n",
      "Counter({1: 61457, 10: 1415})\n",
      "Counter({1: 61725, 10: 1147})\n",
      "Counter({1: 60341, 10: 2531})\n",
      "Counter({1: 52085, 10: 10787})\n",
      "[[54763.0, 58330.0, 61747.0, 61277.0, 54527.0, 61457.0, 61725.0, 60341.0, 52085.0], [8109.0, 4542.0, 1125.0, 1595.0, 8345.0, 1415.0, 1147.0, 2531.0, 10787.0]]\n"
     ]
    }
   ],
   "source": [
    "cont_table = [[],[]]\n",
    "for name in failures.keys():\n",
    "    print(Counter(failures[name]))\n",
    "    cont_table[0].append(float(Counter(failures[name])[1]))\n",
    "    cont_table[1].append(float(Counter(failures[name])[10]))\n",
    "print(cont_table)"
   ]
  },
  {
   "cell_type": "code",
   "execution_count": 624,
   "metadata": {},
   "outputs": [
    {
     "name": "stdout",
     "output_type": "stream",
     "text": [
      "probability=0.950, critical=15.507, stat=27302.329\n",
      "\n",
      "reject H0 - results dependent\n"
     ]
    }
   ],
   "source": [
    "from scipy import stats\n",
    "\n",
    "# test of independence\n",
    "# H0 : results are independent\n",
    "\n",
    "stat, p, dof, expected = stats.chi2_contingency(cont_table)\n",
    "stats.chi2_contingency(cont_table)\n",
    "prob = 0.95\n",
    "critical = stats.chi2.ppf(prob, dof)\n",
    "print('probability=%.3f, critical=%.3f, stat=%.3f' % (prob, critical, stat))\n",
    "\n",
    "if abs(stat) >= critical:\n",
    "    print('\\nreject H0 - results dependent')\n",
    "else:\n",
    "    print('\\nfailed to reject H0 - results independent')"
   ]
  },
  {
   "cell_type": "markdown",
   "metadata": {},
   "source": [
    "## New data prediction"
   ]
  },
  {
   "cell_type": "code",
   "execution_count": 625,
   "metadata": {},
   "outputs": [
    {
     "name": "stdout",
     "output_type": "stream",
     "text": [
      "Counter({-1: 210159, 1: 2830})\n"
     ]
    }
   ],
   "source": [
    "test_set = pd.read_csv(\"20151221.txt\", sep = \"\\t\", header = None)\n",
    "test_set.columns = [\"conn len\", \"service\", \"src bytes\", \"dst bytes\", \"conn numb\", \"Same srv rate\", \"Serror rate\", \"Srv serror rate\", \"Dst host count\", \"Dst host srv count\", \"Dst host same src port rate\", \"Dst host serror rate\", \"Dst host srv serror rate\", \"Conn state\", \"IDS detection\", \"Malware detection\", \"Ashula detection\", \"attack_flag\", \"src IP\", \"src port\", \"dst IP\", \"dst port\", \"start time\", \"proto\"]\n",
    "\n",
    "print(Counter(test_set[\"attack_flag\"]))"
   ]
  },
  {
   "cell_type": "code",
   "execution_count": 626,
   "metadata": {},
   "outputs": [
    {
     "name": "stdout",
     "output_type": "stream",
     "text": [
      "Counter({1: 210159, 0: 2830})\n"
     ]
    }
   ],
   "source": [
    "test_set.loc[:, \"attack_flag\"] = test_set.loc[:,\"attack_flag\"].replace(-2, -1)\n",
    "test_set.loc[:, \"attack_flag\"] = test_set.loc[:, \"attack_flag\"] * -1\n",
    "test_set.loc[:, \"attack_flag\"] = test_set.loc[:,\"attack_flag\"].replace(-1, 0)\n",
    "\n",
    "print(Counter(test_set[\"attack_flag\"]))"
   ]
  },
  {
   "cell_type": "code",
   "execution_count": 627,
   "metadata": {},
   "outputs": [
    {
     "name": "stdout",
     "output_type": "stream",
     "text": [
      "(212989, 24)\n",
      "(212989, 21)\n"
     ]
    },
    {
     "data": {
      "text/plain": [
       "1    210159\n",
       "0      2830\n",
       "Name: attack_flag, dtype: int64"
      ]
     },
     "execution_count": 627,
     "metadata": {},
     "output_type": "execute_result"
    }
   ],
   "source": [
    "# slice dataset, drop additional features\n",
    "print(test_set.shape)\n",
    "test_set = test_set.drop(['start time', 'dst IP', 'src IP'], axis=1)\n",
    "print(test_set.shape)\n",
    "\n",
    "# drop software markers\n",
    "test_set = test_set.drop([\"IDS detection\", \"Malware detection\", \"Ashula detection\"], axis=1)\n",
    "test_set[\"attack_flag\"].value_counts()"
   ]
  },
  {
   "cell_type": "code",
   "execution_count": 628,
   "metadata": {},
   "outputs": [
    {
     "data": {
      "text/plain": [
       "(212989, 18)"
      ]
     },
     "execution_count": 628,
     "metadata": {},
     "output_type": "execute_result"
    }
   ],
   "source": [
    "# removing NaNs\n",
    "test_set = test_set.dropna()\n",
    "test_set.shape"
   ]
  },
  {
   "cell_type": "code",
   "execution_count": 629,
   "metadata": {},
   "outputs": [],
   "source": [
    "test_set[\"well-known src pool\"] = test_set.apply(wk, axis=1)\n",
    "test_set[\"registered src pool\"] = test_set.apply(reg, axis=1)\n",
    "test_set[\"cli src pool\"] = test_set.apply(cli, axis=1)"
   ]
  },
  {
   "cell_type": "code",
   "execution_count": 630,
   "metadata": {},
   "outputs": [],
   "source": [
    "test_set[\"src port\"] = test_set[\"src port\"].apply(str)\n",
    "test_set[\"dst port\"] = test_set[\"dst port\"].apply(str)\n",
    "test_set['src port'].nunique()\n",
    "test_set['dst port'].nunique()\n",
    "\n",
    "thresh1 = 125\n",
    "thresh2 = 125\n",
    "counts1 = test_set['src port'].value_counts()\n",
    "counts2 = test_set['dst port'].value_counts()\n",
    "\n",
    "repl1 = counts1[counts1 <= thresh1].index\n",
    "repl2 = counts2[counts2 <= thresh2].index\n",
    "\n",
    "#hot one encoding for src port numbers\n",
    "test_set = pd.concat([test_set, pd.get_dummies(test_set[\"src port\"].replace(repl1, 'other_src'), prefix=\"is_src\")], axis=1)\n",
    "\n",
    "#hot one encoding for dst port numbers\n",
    "test_set = pd.concat([test_set, pd.get_dummies(test_set[\"dst port\"].replace(repl2, 'other_dst'), prefix=\"is_dst\")], axis=1)"
   ]
  },
  {
   "cell_type": "code",
   "execution_count": 631,
   "metadata": {},
   "outputs": [
    {
     "data": {
      "text/html": [
       "<div>\n",
       "<style scoped>\n",
       "    .dataframe tbody tr th:only-of-type {\n",
       "        vertical-align: middle;\n",
       "    }\n",
       "\n",
       "    .dataframe tbody tr th {\n",
       "        vertical-align: top;\n",
       "    }\n",
       "\n",
       "    .dataframe thead th {\n",
       "        text-align: right;\n",
       "    }\n",
       "</style>\n",
       "<table border=\"1\" class=\"dataframe\">\n",
       "  <thead>\n",
       "    <tr style=\"text-align: right;\">\n",
       "      <th></th>\n",
       "      <th>conn len</th>\n",
       "      <th>service</th>\n",
       "      <th>src bytes</th>\n",
       "      <th>dst bytes</th>\n",
       "      <th>conn numb</th>\n",
       "      <th>Same srv rate</th>\n",
       "      <th>Serror rate</th>\n",
       "      <th>Srv serror rate</th>\n",
       "      <th>Dst host count</th>\n",
       "      <th>Dst host srv count</th>\n",
       "      <th>...</th>\n",
       "      <th>state_OTH</th>\n",
       "      <th>state_REJ</th>\n",
       "      <th>state_RSTO</th>\n",
       "      <th>state_RSTOS0</th>\n",
       "      <th>state_RSTR</th>\n",
       "      <th>state_RSTRH</th>\n",
       "      <th>state_S0</th>\n",
       "      <th>state_S1</th>\n",
       "      <th>state_SF</th>\n",
       "      <th>state_SHR</th>\n",
       "    </tr>\n",
       "  </thead>\n",
       "  <tbody>\n",
       "    <tr>\n",
       "      <th>212979</th>\n",
       "      <td>0.000061</td>\n",
       "      <td>other</td>\n",
       "      <td>0</td>\n",
       "      <td>0</td>\n",
       "      <td>20</td>\n",
       "      <td>1.0</td>\n",
       "      <td>0.05</td>\n",
       "      <td>0.15</td>\n",
       "      <td>2</td>\n",
       "      <td>85</td>\n",
       "      <td>...</td>\n",
       "      <td>0</td>\n",
       "      <td>1</td>\n",
       "      <td>0</td>\n",
       "      <td>0</td>\n",
       "      <td>0</td>\n",
       "      <td>0</td>\n",
       "      <td>0</td>\n",
       "      <td>0</td>\n",
       "      <td>0</td>\n",
       "      <td>0</td>\n",
       "    </tr>\n",
       "    <tr>\n",
       "      <th>212980</th>\n",
       "      <td>0.000000</td>\n",
       "      <td>other</td>\n",
       "      <td>0</td>\n",
       "      <td>0</td>\n",
       "      <td>1</td>\n",
       "      <td>1.0</td>\n",
       "      <td>0.00</td>\n",
       "      <td>0.22</td>\n",
       "      <td>4</td>\n",
       "      <td>6</td>\n",
       "      <td>...</td>\n",
       "      <td>0</td>\n",
       "      <td>0</td>\n",
       "      <td>0</td>\n",
       "      <td>0</td>\n",
       "      <td>0</td>\n",
       "      <td>0</td>\n",
       "      <td>1</td>\n",
       "      <td>0</td>\n",
       "      <td>0</td>\n",
       "      <td>0</td>\n",
       "    </tr>\n",
       "    <tr>\n",
       "      <th>212981</th>\n",
       "      <td>0.000013</td>\n",
       "      <td>other</td>\n",
       "      <td>0</td>\n",
       "      <td>0</td>\n",
       "      <td>13</td>\n",
       "      <td>1.0</td>\n",
       "      <td>0.08</td>\n",
       "      <td>0.26</td>\n",
       "      <td>6</td>\n",
       "      <td>84</td>\n",
       "      <td>...</td>\n",
       "      <td>0</td>\n",
       "      <td>1</td>\n",
       "      <td>0</td>\n",
       "      <td>0</td>\n",
       "      <td>0</td>\n",
       "      <td>0</td>\n",
       "      <td>0</td>\n",
       "      <td>0</td>\n",
       "      <td>0</td>\n",
       "      <td>0</td>\n",
       "    </tr>\n",
       "    <tr>\n",
       "      <th>212982</th>\n",
       "      <td>0.000029</td>\n",
       "      <td>other</td>\n",
       "      <td>0</td>\n",
       "      <td>0</td>\n",
       "      <td>2</td>\n",
       "      <td>1.0</td>\n",
       "      <td>0.50</td>\n",
       "      <td>0.25</td>\n",
       "      <td>1</td>\n",
       "      <td>6</td>\n",
       "      <td>...</td>\n",
       "      <td>0</td>\n",
       "      <td>1</td>\n",
       "      <td>0</td>\n",
       "      <td>0</td>\n",
       "      <td>0</td>\n",
       "      <td>0</td>\n",
       "      <td>0</td>\n",
       "      <td>0</td>\n",
       "      <td>0</td>\n",
       "      <td>0</td>\n",
       "    </tr>\n",
       "    <tr>\n",
       "      <th>212983</th>\n",
       "      <td>0.000039</td>\n",
       "      <td>other</td>\n",
       "      <td>0</td>\n",
       "      <td>0</td>\n",
       "      <td>14</td>\n",
       "      <td>1.0</td>\n",
       "      <td>0.07</td>\n",
       "      <td>0.24</td>\n",
       "      <td>1</td>\n",
       "      <td>84</td>\n",
       "      <td>...</td>\n",
       "      <td>0</td>\n",
       "      <td>1</td>\n",
       "      <td>0</td>\n",
       "      <td>0</td>\n",
       "      <td>0</td>\n",
       "      <td>0</td>\n",
       "      <td>0</td>\n",
       "      <td>0</td>\n",
       "      <td>0</td>\n",
       "      <td>0</td>\n",
       "    </tr>\n",
       "    <tr>\n",
       "      <th>212984</th>\n",
       "      <td>0.000045</td>\n",
       "      <td>other</td>\n",
       "      <td>0</td>\n",
       "      <td>0</td>\n",
       "      <td>15</td>\n",
       "      <td>1.0</td>\n",
       "      <td>0.07</td>\n",
       "      <td>0.23</td>\n",
       "      <td>3</td>\n",
       "      <td>84</td>\n",
       "      <td>...</td>\n",
       "      <td>0</td>\n",
       "      <td>1</td>\n",
       "      <td>0</td>\n",
       "      <td>0</td>\n",
       "      <td>0</td>\n",
       "      <td>0</td>\n",
       "      <td>0</td>\n",
       "      <td>0</td>\n",
       "      <td>0</td>\n",
       "      <td>0</td>\n",
       "    </tr>\n",
       "    <tr>\n",
       "      <th>212985</th>\n",
       "      <td>0.000053</td>\n",
       "      <td>other</td>\n",
       "      <td>0</td>\n",
       "      <td>0</td>\n",
       "      <td>16</td>\n",
       "      <td>1.0</td>\n",
       "      <td>0.06</td>\n",
       "      <td>0.22</td>\n",
       "      <td>19</td>\n",
       "      <td>84</td>\n",
       "      <td>...</td>\n",
       "      <td>0</td>\n",
       "      <td>1</td>\n",
       "      <td>0</td>\n",
       "      <td>0</td>\n",
       "      <td>0</td>\n",
       "      <td>0</td>\n",
       "      <td>0</td>\n",
       "      <td>0</td>\n",
       "      <td>0</td>\n",
       "      <td>0</td>\n",
       "    </tr>\n",
       "    <tr>\n",
       "      <th>212986</th>\n",
       "      <td>0.000056</td>\n",
       "      <td>other</td>\n",
       "      <td>0</td>\n",
       "      <td>0</td>\n",
       "      <td>17</td>\n",
       "      <td>1.0</td>\n",
       "      <td>0.06</td>\n",
       "      <td>0.21</td>\n",
       "      <td>7</td>\n",
       "      <td>84</td>\n",
       "      <td>...</td>\n",
       "      <td>0</td>\n",
       "      <td>1</td>\n",
       "      <td>0</td>\n",
       "      <td>0</td>\n",
       "      <td>0</td>\n",
       "      <td>0</td>\n",
       "      <td>0</td>\n",
       "      <td>0</td>\n",
       "      <td>0</td>\n",
       "      <td>0</td>\n",
       "    </tr>\n",
       "    <tr>\n",
       "      <th>212987</th>\n",
       "      <td>0.000058</td>\n",
       "      <td>other</td>\n",
       "      <td>0</td>\n",
       "      <td>0</td>\n",
       "      <td>18</td>\n",
       "      <td>1.0</td>\n",
       "      <td>0.06</td>\n",
       "      <td>0.20</td>\n",
       "      <td>20</td>\n",
       "      <td>84</td>\n",
       "      <td>...</td>\n",
       "      <td>0</td>\n",
       "      <td>1</td>\n",
       "      <td>0</td>\n",
       "      <td>0</td>\n",
       "      <td>0</td>\n",
       "      <td>0</td>\n",
       "      <td>0</td>\n",
       "      <td>0</td>\n",
       "      <td>0</td>\n",
       "      <td>0</td>\n",
       "    </tr>\n",
       "    <tr>\n",
       "      <th>212988</th>\n",
       "      <td>0.000110</td>\n",
       "      <td>dns</td>\n",
       "      <td>36</td>\n",
       "      <td>194</td>\n",
       "      <td>1</td>\n",
       "      <td>1.0</td>\n",
       "      <td>0.00</td>\n",
       "      <td>0.50</td>\n",
       "      <td>0</td>\n",
       "      <td>89</td>\n",
       "      <td>...</td>\n",
       "      <td>0</td>\n",
       "      <td>0</td>\n",
       "      <td>0</td>\n",
       "      <td>0</td>\n",
       "      <td>0</td>\n",
       "      <td>0</td>\n",
       "      <td>0</td>\n",
       "      <td>0</td>\n",
       "      <td>1</td>\n",
       "      <td>0</td>\n",
       "    </tr>\n",
       "  </tbody>\n",
       "</table>\n",
       "<p>10 rows × 193 columns</p>\n",
       "</div>"
      ],
      "text/plain": [
       "        conn len service  src bytes  dst bytes  conn numb  Same srv rate  \\\n",
       "212979  0.000061   other          0          0         20            1.0   \n",
       "212980  0.000000   other          0          0          1            1.0   \n",
       "212981  0.000013   other          0          0         13            1.0   \n",
       "212982  0.000029   other          0          0          2            1.0   \n",
       "212983  0.000039   other          0          0         14            1.0   \n",
       "212984  0.000045   other          0          0         15            1.0   \n",
       "212985  0.000053   other          0          0         16            1.0   \n",
       "212986  0.000056   other          0          0         17            1.0   \n",
       "212987  0.000058   other          0          0         18            1.0   \n",
       "212988  0.000110     dns         36        194          1            1.0   \n",
       "\n",
       "        Serror rate  Srv serror rate  Dst host count  Dst host srv count  \\\n",
       "212979         0.05             0.15               2                  85   \n",
       "212980         0.00             0.22               4                   6   \n",
       "212981         0.08             0.26               6                  84   \n",
       "212982         0.50             0.25               1                   6   \n",
       "212983         0.07             0.24               1                  84   \n",
       "212984         0.07             0.23               3                  84   \n",
       "212985         0.06             0.22              19                  84   \n",
       "212986         0.06             0.21               7                  84   \n",
       "212987         0.06             0.20              20                  84   \n",
       "212988         0.00             0.50               0                  89   \n",
       "\n",
       "          ...      state_OTH  state_REJ  state_RSTO state_RSTOS0  state_RSTR  \\\n",
       "212979    ...              0          1           0            0           0   \n",
       "212980    ...              0          0           0            0           0   \n",
       "212981    ...              0          1           0            0           0   \n",
       "212982    ...              0          1           0            0           0   \n",
       "212983    ...              0          1           0            0           0   \n",
       "212984    ...              0          1           0            0           0   \n",
       "212985    ...              0          1           0            0           0   \n",
       "212986    ...              0          1           0            0           0   \n",
       "212987    ...              0          1           0            0           0   \n",
       "212988    ...              0          0           0            0           0   \n",
       "\n",
       "       state_RSTRH state_S0 state_S1  state_SF  state_SHR  \n",
       "212979           0        0        0         0          0  \n",
       "212980           0        1        0         0          0  \n",
       "212981           0        0        0         0          0  \n",
       "212982           0        0        0         0          0  \n",
       "212983           0        0        0         0          0  \n",
       "212984           0        0        0         0          0  \n",
       "212985           0        0        0         0          0  \n",
       "212986           0        0        0         0          0  \n",
       "212987           0        0        0         0          0  \n",
       "212988           0        0        0         1          0  \n",
       "\n",
       "[10 rows x 193 columns]"
      ]
     },
     "execution_count": 631,
     "metadata": {},
     "output_type": "execute_result"
    }
   ],
   "source": [
    "### hot one encoding ###\n",
    "\n",
    "# hot one encoding for service\n",
    "test_set = pd.concat([test_set, pd.get_dummies(test_set[\"service\"], prefix=\"is\")], axis=1)\n",
    "test_set.tail(10)\n",
    "\n",
    "#hot one encoding for proto - commented due to reduced column number\n",
    "test_set = pd.concat([test_set, pd.get_dummies(test_set[\"proto\"], prefix=\"is\")], axis=1)\n",
    "test_set.tail(10)\n",
    "\n",
    "# hot one encoding for conn state\n",
    "test_set = pd.concat([test_set, pd.get_dummies(test_set[\"Conn state\"], prefix=\"state\")], axis=1)\n",
    "test_set.tail(10)"
   ]
  },
  {
   "cell_type": "code",
   "execution_count": 632,
   "metadata": {},
   "outputs": [],
   "source": [
    "test_set.rename(columns={'Dst host count': 'Dst_host_count', \"Dst host srv count\" : \"Dst_host_srv_count\",\n",
    "                    \"Dst host same src port rate\" : \"Dst_host_same_src_port_rate\",\n",
    "                    \"Dst host serror rate\" : \"Dst_host_serror_rate\",\n",
    "                    \"Dst host srv serror rate\" : \"Dst_host_srv_serror_rate\",\n",
    "                    \"Same srv rate\" : \"Same_srv_rate\",\n",
    "                    \"Srv serror rate\" : \"Srv_serror_rate\",\n",
    "                    \"conn len\" : \"conn_len\",\n",
    "                    \"src bytes\" : \"src_bytes\",\n",
    "                    \"dst bytes\" : \"dst_bytes\",\n",
    "                    \"conn numb\" : \"conn_numb\",\n",
    "                    \"Serror rate\" : \"Serror_rate\",\n",
    "                    \"cli src pool\" : \"cli_src_pool\",\n",
    "                    \"registered src pool\" : \"registered_src_pool\",\n",
    "                    \"well-known src pool\" : \"well_known_src_pool\",\n",
    "                    \"dst port\" : \"dst_port\",\n",
    "                    \"src port\" : \"src_port\",\n",
    "                     \"Conn state\" : \"Conn_state\" \n",
    "                    }, inplace=True)"
   ]
  },
  {
   "cell_type": "code",
   "execution_count": 633,
   "metadata": {},
   "outputs": [
    {
     "name": "stdout",
     "output_type": "stream",
     "text": [
      "Index(['is_dst_102', 'is_dst_10200', 'is_dst_119', 'is_dst_143', 'is_dst_223',\n",
      "       'is_dst_389', 'is_dst_5432', 'is_dst_6050', 'is_dst_631', 'is_dst_82',\n",
      "       'is_dst_88', 'is_dst_9080', 'is_src_13941', 'is_src_18382',\n",
      "       'is_src_21320', 'is_src_22055', 'is_src_22207', 'is_src_2295',\n",
      "       'is_src_29174', 'is_src_300', 'is_src_37286', 'is_src_37396',\n",
      "       'is_src_37511', 'is_src_38396', 'is_src_40082', 'is_src_40718',\n",
      "       'is_src_41161', 'is_src_41287', 'is_src_41708', 'is_src_41793',\n",
      "       'is_src_42206', 'is_src_443', 'is_src_4445', 'is_src_46432',\n",
      "       'is_src_49354', 'is_src_49362', 'is_src_49376', 'is_src_49414',\n",
      "       'is_src_5061', 'is_src_5071', 'is_src_5094', 'is_src_5100',\n",
      "       'is_src_5114', 'is_src_51361', 'is_src_5208', 'is_src_5211',\n",
      "       'is_src_52131', 'is_src_5229', 'is_src_5247', 'is_src_53265',\n",
      "       'is_src_53451', 'is_src_53762', 'is_src_54110', 'is_src_54334',\n",
      "       'is_src_54499', 'is_src_54509', 'is_src_5501', 'is_src_56118',\n",
      "       'is_src_5844', 'is_src_58663', 'is_src_60000', 'is_src_6044',\n",
      "       'is_src_61605', 'is_src_6173', 'is_src_62029', 'is_src_63265',\n",
      "       'is_src_63432', 'is_src_64486'],\n",
      "      dtype='object')\n"
     ]
    },
    {
     "data": {
      "text/plain": [
       "(212989, 193)"
      ]
     },
     "execution_count": 633,
     "metadata": {},
     "output_type": "execute_result"
    }
   ],
   "source": [
    "# check differences between datasets after hot one encoding\n",
    "\n",
    "# print(train_data.columns.difference(test_data.columns)[0])\n",
    "# columns that are not in test but are in train\n",
    "test_new_data_full = test_set\n",
    "\n",
    "# for c in data.columns.difference(test_set.columns):\n",
    "#     test_set[c] = 0\n",
    "# for c in test_set.columns.difference(data.columns):\n",
    "#     test_set = test_set.drop(c, axis=1)\n",
    "    \n",
    "print(test_set.columns.difference(data.columns))  \n",
    "test_set.shape"
   ]
  },
  {
   "cell_type": "code",
   "execution_count": 634,
   "metadata": {},
   "outputs": [],
   "source": [
    "test_new_data = test_set.loc[range(30000), :]\n",
    "\n",
    "for c in data.columns.difference(test_new_data.columns):\n",
    "    test_new_data[c] = 0\n",
    "for c in test_new_data.columns.difference(data.columns):\n",
    "    test_new_data = test_new_data.drop(c, axis=1)\n",
    "\n",
    "test_new_data = test_new_data.drop([\"service\", \"Conn_state\", \"proto\", \"src_port\", \"dst_port\"], axis=1)\n",
    "    \n",
    "test_new_data = test_new_data.sample(frac=1)\n",
    "y_test_new_data = test_new_data.loc[:, \"attack_flag\"].values.ravel()\n",
    "X_test_new_data = test_new_data.drop([\"attack_flag\"], axis=1).astype(np.float32)"
   ]
  },
  {
   "cell_type": "code",
   "execution_count": 635,
   "metadata": {},
   "outputs": [
    {
     "name": "stdout",
     "output_type": "stream",
     "text": [
      "(30000, 286)\n",
      "(62872, 286)\n",
      "1    29498\n",
      "0      502\n",
      "Name: attack_flag, dtype: int64\n"
     ]
    }
   ],
   "source": [
    "print(X_test_new_data.shape)\n",
    "print(X_test.shape)\n",
    "print(test_new_data[\"attack_flag\"].value_counts())"
   ]
  },
  {
   "cell_type": "code",
   "execution_count": 636,
   "metadata": {},
   "outputs": [
    {
     "name": "stdout",
     "output_type": "stream",
     "text": [
      "Algorithm: baseline     Accuracy: 0.98327, F1-score: 0.99156, Precision: 0.98327, Recall: 1.00000, FPR: 1.00000\n",
      "TN:   0; FP: 502; FN:    0; TP: 29498\n",
      "\n"
     ]
    }
   ],
   "source": [
    "# Metrics of baseline method\n",
    "from sklearn import metrics\n",
    "\n",
    "name = \"baseline\"\n",
    "\n",
    "if(y_test_new_data.mean() > (1-y_test_new_data.mean())):\n",
    "    y_pred = np.ones(len(y_test_new_data)).ravel() \n",
    "else:\n",
    "    y_pred = np.zeros(len(y_test_new_data)).ravel() \n",
    "    \n",
    "Acc[name] = metrics.accuracy_score(y_test_new_data, y_pred)\n",
    "F1S[name] = metrics.f1_score(y_test_new_data, y_pred)\n",
    "Prec[name] = metrics.precision_score(y_test_new_data, y_pred)\n",
    "Rec[name] = metrics.recall_score(y_test_new_data, y_pred)\n",
    "tn, fp, fn, tp = metrics.confusion_matrix(y_test_new_data, y_pred).ravel()\n",
    "FPR[name] = fp/(fp+tn)\n",
    "\n",
    "print(\"Algorithm: {0:12} Accuracy: {1:.5f}, F1-score: {2:.5f}, Precision: {3:.5f}, Recall: {4:.5f}, FPR: {5:.5f}\".format(name, Acc[name], F1S[name], Prec[name], Rec[name], FPR[name]))\n",
    "print(\"TN: {0:3}; FP: {1:3}; FN: {2:4}; TP: {3:3}\\n\".format(tn, fp, fn, tp))"
   ]
  },
  {
   "cell_type": "code",
   "execution_count": 637,
   "metadata": {},
   "outputs": [
    {
     "name": "stdout",
     "output_type": "stream",
     "text": [
      "Algorithm: logistic Regression Accuracy: 0.97027, F1-score: 0.98487, Precision: 0.98557, Recall: 0.98417, FPR: 0.84661\n",
      "TN:  77; FP: 425; FN:  467; TP: 29031\n",
      "\n"
     ]
    }
   ],
   "source": [
    "from sklearn.linear_model import LogisticRegression\n",
    "from sklearn import metrics\n",
    "\n",
    "clf = LogisticRegression(solver = 'newton-cg')\n",
    "\n",
    "model = clf.fit(X_train, y_train)\n",
    "\n",
    "y_pred = model.predict(X_test_new_data)\n",
    "\n",
    "name = \"logistic Regression\"\n",
    "\n",
    "Acc[name] = metrics.accuracy_score(y_test_new_data, y_pred)\n",
    "F1S[name] = metrics.f1_score(y_test_new_data, y_pred)\n",
    "Prec[name] = metrics.precision_score(y_test_new_data, y_pred)\n",
    "Rec[name] = metrics.recall_score(y_test_new_data, y_pred)\n",
    "tn, fp, fn, tp = metrics.confusion_matrix(y_test_new_data, y_pred).ravel()\n",
    "FPR[name] = fp/(fp+tn)\n",
    "\n",
    "print(\"Algorithm: {0:12} Accuracy: {1:.5f}, F1-score: {2:.5f}, Precision: {3:.5f}, Recall: {4:.5f}, FPR: {5:.5f}\".format(name, Acc[name], F1S[name], Prec[name], Rec[name], FPR[name]))\n",
    "print(\"TN: {0:3}; FP: {1:3}; FN: {2:4}; TP: {3:3}\\n\".format(tn, fp, fn, tp))"
   ]
  },
  {
   "cell_type": "code",
   "execution_count": 638,
   "metadata": {},
   "outputs": [
    {
     "name": "stdout",
     "output_type": "stream",
     "text": [
      "Algorithm: AdaBoost     Accuracy: 0.98800, F1-score: 0.99392, Precision: 0.98955, Recall: 0.99834, FPR: 0.61952\n",
      "TN: 191; FP: 311; FN:   49; TP: 29449\n",
      "\n",
      "Algorithm: DecisionTree Accuracy: 0.97853, F1-score: 0.98915, Precision: 0.98322, Recall: 0.99515, FPR: 0.99801\n",
      "TN:   1; FP: 501; FN:  143; TP: 29355\n",
      "\n",
      "Algorithm: NaiveBayes   Accuracy: 0.98327, F1-score: 0.99156, Precision: 0.98327, Recall: 1.00000, FPR: 1.00000\n",
      "TN:   0; FP: 502; FN:    0; TP: 29498\n",
      "\n",
      "Algorithm: RandomTree   Accuracy: 0.91230, F1-score: 0.95398, Precision: 0.98540, Recall: 0.92450, FPR: 0.80478\n",
      "TN:  98; FP: 404; FN: 2227; TP: 27271\n",
      "\n"
     ]
    },
    {
     "name": "stderr",
     "output_type": "stream",
     "text": [
      "/home/matz/.local/lib/python3.6/site-packages/sklearn/preprocessing/data.py:625: DataConversionWarning: Data with input dtype float32 were all converted to float64 by StandardScaler.\n",
      "  return self.partial_fit(X, y)\n",
      "/home/matz/.local/lib/python3.6/site-packages/sklearn/base.py:465: DataConversionWarning: Data with input dtype float32 were all converted to float64 by StandardScaler.\n",
      "  return self.fit(X, y, **fit_params).transform(X)\n",
      "/home/matz/.local/lib/python3.6/site-packages/sklearn/pipeline.py:331: DataConversionWarning: Data with input dtype float32 were all converted to float64 by StandardScaler.\n",
      "  Xt = transform.transform(Xt)\n"
     ]
    },
    {
     "name": "stdout",
     "output_type": "stream",
     "text": [
      "Algorithm: RandomForest Accuracy: 0.98330, F1-score: 0.99158, Precision: 0.98330, Recall: 1.00000, FPR: 0.99801\n",
      "TN:   1; FP: 501; FN:    0; TP: 29498\n",
      "\n"
     ]
    }
   ],
   "source": [
    "from sklearn.ensemble import AdaBoostClassifier\n",
    "from sklearn.tree import DecisionTreeClassifier\n",
    "from sklearn.naive_bayes import GaussianNB\n",
    "from sklearn.ensemble import RandomForestClassifier\n",
    "from sklearn.linear_model import LogisticRegression\n",
    "\n",
    "\n",
    "seed = 12\n",
    "num_trees = 28\n",
    "\n",
    "classifiers = {\n",
    "               \"AdaBoost\":AdaBoostClassifier(DecisionTreeClassifier(max_depth = 13), n_estimators=num_trees, random_state = 0),\n",
    "               \"DecisionTree\":DecisionTreeClassifier(random_state=0, max_depth = 13),\n",
    "               \"NaiveBayes\":GaussianNB(),\n",
    "               \"RandomTree\":DecisionTreeClassifier(random_state=0, splitter = \"random\"),\n",
    "               \"RandomForest\":make_pipeline(StandardScaler(),RandomForestClassifier(n_estimators=167, max_depth=38, random_state=0)),\n",
    "              }\n",
    "\n",
    "\n",
    "for name, clf in classifiers.items():\n",
    "    \n",
    "    model = clf.fit(X_train, y_train)\n",
    "    \n",
    "    y_pred = model.predict(X_test_new_data)\n",
    "    \n",
    "    Acc[name] = metrics.accuracy_score(y_test_new_data, y_pred)\n",
    "    F1S[name] = metrics.f1_score(y_test_new_data, y_pred)\n",
    "    Prec[name] = metrics.precision_score(y_test_new_data, y_pred)\n",
    "    Rec[name] = metrics.recall_score(y_test_new_data, y_pred)\n",
    "    tn, fp, fn, tp = metrics.confusion_matrix(y_test_new_data, y_pred).ravel()\n",
    "    FPR[name] = fp/(fp+tn)\n",
    "    \n",
    "    print(\"Algorithm: {0:12} Accuracy: {1:.5f}, F1-score: {2:.5f}, Precision: {3:.5f}, Recall: {4:.5f}, FPR: {5:.5f}\".format(name, Acc[name], F1S[name], Prec[name], Rec[name], FPR[name]))\n",
    "    print(\"TN: {0:3}; FP: {1:3}; FN: {2:4}; TP: {3:3}\\n\".format(tn, fp, fn, tp))"
   ]
  },
  {
   "cell_type": "code",
   "execution_count": 639,
   "metadata": {},
   "outputs": [],
   "source": [
    "test_input_fn = tf.estimator.inputs.numpy_input_fn(\n",
    "    x={\"features\": X_test_new_data.values},\n",
    "    y=y_test_new_data,\n",
    "    batch_size=X_test_new_data.shape[0],\n",
    "    num_epochs=1,\n",
    "    shuffle=False)"
   ]
  },
  {
   "cell_type": "code",
   "execution_count": 640,
   "metadata": {},
   "outputs": [
    {
     "name": "stdout",
     "output_type": "stream",
     "text": [
      "INFO:tensorflow:Graph was finalized.\n",
      "INFO:tensorflow:Restoring parameters from kernel_train/model.ckpt-10000\n",
      "INFO:tensorflow:Running local_init_op.\n",
      "INFO:tensorflow:Done running local_init_op.\n"
     ]
    }
   ],
   "source": [
    "pred_iterator = estimator_kernel.predict(input_fn = test_input_fn)"
   ]
  },
  {
   "cell_type": "code",
   "execution_count": 641,
   "metadata": {},
   "outputs": [],
   "source": [
    "class_id = []\n",
    "\n",
    "for pred_dict in pred_iterator:\n",
    "    class_id.append(pred_dict['classes'])\n",
    "    #print(pred_dict)"
   ]
  },
  {
   "cell_type": "code",
   "execution_count": 642,
   "metadata": {},
   "outputs": [
    {
     "name": "stdout",
     "output_type": "stream",
     "text": [
      "RFFM Accuracy: 0.98457, F1-score: 0.99215, Precision: 0.99220, Recall: 0.99210, FPR: 0.45817\n",
      "TN: 272; FP: 230; FN:  233; TP: 29265\n",
      "\n"
     ]
    }
   ],
   "source": [
    "name = \"RFFM\"\n",
    "\n",
    "Acc[name] = metrics.accuracy_score(y_test_new_data, class_id)\n",
    "F1S[name] = metrics.f1_score(y_test_new_data, class_id)\n",
    "Prec[name] = metrics.precision_score(y_test_new_data, class_id)\n",
    "Rec[name] = metrics.recall_score(y_test_new_data, class_id)\n",
    "tn, fp, fn, tp = metrics.confusion_matrix(y_test_new_data, class_id).ravel()\n",
    "FPR[name] = fp/(fp+tn)\n",
    "\n",
    "print(\"{0:2} Accuracy: {1:.5f}, F1-score: {2:.5f}, Precision: {3:.5f}, Recall: {4:.5f}, FPR: {5:.5f}\".format(name, Acc[name], F1S[name], Prec[name], Rec[name], FPR[name]))\n",
    "print(\"TN: {0:3}; FP: {1:3}; FN: {2:4}; TP: {3:3}\\n\".format(tn, fp, fn, tp))"
   ]
  },
  {
   "cell_type": "code",
   "execution_count": 643,
   "metadata": {},
   "outputs": [
    {
     "name": "stdout",
     "output_type": "stream",
     "text": [
      "INFO:tensorflow:Calling model_fn.\n",
      "INFO:tensorflow:Done calling model_fn.\n",
      "INFO:tensorflow:Graph was finalized.\n",
      "INFO:tensorflow:Restoring parameters from /home/matz/Desktop/ml_ids/NN_model2/model.ckpt-20000\n",
      "INFO:tensorflow:Running local_init_op.\n",
      "INFO:tensorflow:Done running local_init_op.\n"
     ]
    }
   ],
   "source": [
    "results = []\n",
    "results = list(NN_model.predict(input_fn=get_input_fn(test_new_data_full.loc[range(30000), :], num_epochs=1, n_batch = X_test.shape[0], shuffle=False)))"
   ]
  },
  {
   "cell_type": "code",
   "execution_count": 644,
   "metadata": {},
   "outputs": [
    {
     "data": {
      "text/plain": [
       "30000"
      ]
     },
     "execution_count": 644,
     "metadata": {},
     "output_type": "execute_result"
    }
   ],
   "source": [
    "y_pred = []\n",
    "for el in results:\n",
    "    y_pred.append(el[\"class_ids\"])\n",
    "len(y_pred)"
   ]
  },
  {
   "cell_type": "code",
   "execution_count": 645,
   "metadata": {},
   "outputs": [
    {
     "name": "stdout",
     "output_type": "stream",
     "text": [
      "NN Accuracy: 0.97637, F1-score: 0.98804, Precision: 0.98335, Recall: 0.99278, FPR: 0.98805\n",
      "TN:   6; FP: 496; FN:  213; TP: 29285\n",
      "\n"
     ]
    }
   ],
   "source": [
    "name = \"NN\"\n",
    "\n",
    "Acc[name] = metrics.accuracy_score(y_test_new_data, y_pred)\n",
    "F1S[name] = metrics.f1_score(y_test_new_data, y_pred)\n",
    "Prec[name] = metrics.precision_score(y_test_new_data, y_pred)\n",
    "Rec[name] = metrics.recall_score(y_test_new_data, y_pred)\n",
    "tn, fp, fn, tp = metrics.confusion_matrix(y_test_new_data, y_pred).ravel()\n",
    "FPR[name] = fp/(fp+tn)\n",
    "\n",
    "print(\"{0:2} Accuracy: {1:.5f}, F1-score: {2:.5f}, Precision: {3:.5f}, Recall: {4:.5f}, FPR: {5:.5f}\".format(name, Acc[name], F1S[name], Prec[name], Rec[name], FPR[name]))\n",
    "print(\"TN: {0:3}; FP: {1:3}; FN: {2:4}; TP: {3:3}\\n\".format(tn, fp, fn, tp))"
   ]
  },
  {
   "cell_type": "code",
   "execution_count": 646,
   "metadata": {},
   "outputs": [
    {
     "data": {
      "image/png": "[encoded data removed]",
      "text/plain": [
       "<matplotlib.figure.Figure at 0x7f0b6ca09908>"
      ]
     },
     "metadata": {
      "needs_background": "light"
     },
     "output_type": "display_data"
    },
    {
     "data": {
      "image/png": "[encoded data removed]",
      "text/plain": [
       "<matplotlib.figure.Figure at 0x7f0b6ca55ac8>"
      ]
     },
     "metadata": {
      "needs_background": "light"
     },
     "output_type": "display_data"
    },
    {
     "data": {
      "image/png": "[encoded data removed]",
      "text/plain": [
       "<matplotlib.figure.Figure at 0x7f0b6ca09748>"
      ]
     },
     "metadata": {
      "needs_background": "light"
     },
     "output_type": "display_data"
    },
    {
     "data": {
      "image/png": "[encoded data removed]",
      "text/plain": [
       "<matplotlib.figure.Figure at 0x7f0b6ca914a8>"
      ]
     },
     "metadata": {
      "needs_background": "light"
     },
     "output_type": "display_data"
    },
    {
     "data": {
      "image/png": "[encoded data removed]",
      "text/plain": [
       "<matplotlib.figure.Figure at 0x7f0b6cac20f0>"
      ]
     },
     "metadata": {
      "needs_background": "light"
     },
     "output_type": "display_data"
    }
   ],
   "source": [
    "plot_stats(Acc, \"Accuracy\", 8, 55)\n",
    "plot_stats(F1S, \"F1-score\", 8, 55)\n",
    "plot_stats(Prec, \"Precision\", 8, 55)\n",
    "plot_stats(Rec, \"Recall\", 8, 55)\n",
    "plot_stats(FPR, \"False Positive Rate\", 8, 55)"
   ]
  }
 ],
 "metadata": {
  "kernelspec": {
   "display_name": "Python 3",
   "language": "python",
   "name": "python3"
  },
  "language_info": {
   "codemirror_mode": {
    "name": "ipython",
    "version": 3
   },
   "file_extension": ".py",
   "mimetype": "text/x-python",
   "name": "python",
   "nbconvert_exporter": "python",
   "pygments_lexer": "ipython3",
   "version": "3.6.7"
  }
 },
 "nbformat": 4,
 "nbformat_minor": 2
}
