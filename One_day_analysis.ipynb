{
 "cells": [
  {
   "cell_type": "code",
   "execution_count": 46,
   "metadata": {},
   "outputs": [],
   "source": [
    "import pandas as pd\n",
    "import matplotlib.pyplot as plt\n",
    "import numpy as np\n",
    "\n",
    "%matplotlib inline \n",
    "%config IPCompleter.greedy=True"
   ]
  },
  {
   "cell_type": "markdown",
   "metadata": {},
   "source": [
    "## Reading data from file"
   ]
  },
  {
   "cell_type": "code",
   "execution_count": 47,
   "metadata": {},
   "outputs": [
    {
     "name": "stdout",
     "output_type": "stream",
     "text": [
      "Counter({-1: 149915, 1: 67713})\n"
     ]
    }
   ],
   "source": [
    "from collections import Counter\n",
    "\n",
    "data = pd.read_csv(\"20151219.txt\", sep = \"\\t\", header = None)\n",
    "data.columns = [\"conn len\", \"service\", \"src bytes\", \"dst bytes\", \"conn numb\", \"Same srv rate\", \"Serror rate\", \"Srv serror rate\", \"Dst host count\", \"Dst host srv count\", \"Dst host same src port rate\", \"Dst host serror rate\", \"Dst host srv serror rate\", \"Conn state\", \"IDS detection\", \"Malware detection\", \"Ashula detection\", \"attack_flag\", \"src IP\", \"src port\", \"dst IP\", \"dst port\", \"start time\", \"proto\"]\n",
    "\n",
    "print(Counter(data[\"attack_flag\"]))"
   ]
  },
  {
   "cell_type": "markdown",
   "metadata": {},
   "source": [
    "## Transform to binary"
   ]
  },
  {
   "cell_type": "code",
   "execution_count": 48,
   "metadata": {},
   "outputs": [
    {
     "name": "stdout",
     "output_type": "stream",
     "text": [
      "Counter({1: 149915, 0: 67713})\n"
     ]
    }
   ],
   "source": [
    "data.loc[:, \"attack_flag\"] = data.loc[:,\"attack_flag\"].replace(-2, -1)\n",
    "data.loc[:, \"attack_flag\"] = data.loc[:, \"attack_flag\"] * -1\n",
    "data.loc[:, \"attack_flag\"] = data.loc[:,\"attack_flag\"].replace(-1, 0)\n",
    "\n",
    "print(Counter(data[\"attack_flag\"]))"
   ]
  },
  {
   "cell_type": "markdown",
   "metadata": {},
   "source": [
    "## Drop additional features"
   ]
  },
  {
   "cell_type": "code",
   "execution_count": 49,
   "metadata": {},
   "outputs": [
    {
     "name": "stdout",
     "output_type": "stream",
     "text": [
      "(217628, 24)\n",
      "(217628, 21)\n"
     ]
    },
    {
     "data": {
      "text/plain": [
       "1    149915\n",
       "0     67713\n",
       "Name: attack_flag, dtype: int64"
      ]
     },
     "execution_count": 49,
     "metadata": {},
     "output_type": "execute_result"
    }
   ],
   "source": [
    "# slice dataset, drop additional features\n",
    "print(data.shape)\n",
    "data = data.drop(['start time', 'dst IP', 'src IP'], axis=1)\n",
    "print(data.shape)\n",
    "\n",
    "# drop software markers\n",
    "data = data.drop([\"IDS detection\", \"Malware detection\", \"Ashula detection\"], axis=1)\n",
    "data[\"attack_flag\"].value_counts()"
   ]
  },
  {
   "cell_type": "code",
   "execution_count": 50,
   "metadata": {},
   "outputs": [
    {
     "name": "stdout",
     "output_type": "stream",
     "text": [
      "<class 'pandas.core.frame.DataFrame'>\n",
      "RangeIndex: 217628 entries, 0 to 217627\n",
      "Data columns (total 18 columns):\n",
      "conn len                       217628 non-null float64\n",
      "service                        217628 non-null object\n",
      "src bytes                      217628 non-null int64\n",
      "dst bytes                      217628 non-null int64\n",
      "conn numb                      217628 non-null int64\n",
      "Same srv rate                  217628 non-null float64\n",
      "Serror rate                    217628 non-null float64\n",
      "Srv serror rate                217628 non-null float64\n",
      "Dst host count                 217628 non-null int64\n",
      "Dst host srv count             217628 non-null int64\n",
      "Dst host same src port rate    217628 non-null float64\n",
      "Dst host serror rate           217628 non-null float64\n",
      "Dst host srv serror rate       217628 non-null float64\n",
      "Conn state                     217628 non-null object\n",
      "attack_flag                    217628 non-null int64\n",
      "src port                       217628 non-null int64\n",
      "dst port                       217628 non-null int64\n",
      "proto                          217628 non-null object\n",
      "dtypes: float64(7), int64(8), object(3)\n",
      "memory usage: 29.9+ MB\n"
     ]
    }
   ],
   "source": [
    "data.info()"
   ]
  },
  {
   "cell_type": "code",
   "execution_count": 51,
   "metadata": {},
   "outputs": [
    {
     "data": {
      "text/html": [
       "<div>\n",
       "<style scoped>\n",
       "    .dataframe tbody tr th:only-of-type {\n",
       "        vertical-align: middle;\n",
       "    }\n",
       "\n",
       "    .dataframe tbody tr th {\n",
       "        vertical-align: top;\n",
       "    }\n",
       "\n",
       "    .dataframe thead th {\n",
       "        text-align: right;\n",
       "    }\n",
       "</style>\n",
       "<table border=\"1\" class=\"dataframe\">\n",
       "  <thead>\n",
       "    <tr style=\"text-align: right;\">\n",
       "      <th></th>\n",
       "      <th>conn len</th>\n",
       "      <th>service</th>\n",
       "      <th>src bytes</th>\n",
       "      <th>dst bytes</th>\n",
       "      <th>conn numb</th>\n",
       "      <th>Same srv rate</th>\n",
       "      <th>Serror rate</th>\n",
       "      <th>Srv serror rate</th>\n",
       "      <th>Dst host count</th>\n",
       "      <th>Dst host srv count</th>\n",
       "      <th>Dst host same src port rate</th>\n",
       "      <th>Dst host serror rate</th>\n",
       "      <th>Dst host srv serror rate</th>\n",
       "      <th>Conn state</th>\n",
       "      <th>attack_flag</th>\n",
       "      <th>src port</th>\n",
       "      <th>dst port</th>\n",
       "      <th>proto</th>\n",
       "    </tr>\n",
       "  </thead>\n",
       "  <tbody>\n",
       "    <tr>\n",
       "      <th>217618</th>\n",
       "      <td>0.410043</td>\n",
       "      <td>other</td>\n",
       "      <td>150</td>\n",
       "      <td>0</td>\n",
       "      <td>0</td>\n",
       "      <td>0.0</td>\n",
       "      <td>0.0</td>\n",
       "      <td>1.0</td>\n",
       "      <td>0</td>\n",
       "      <td>0</td>\n",
       "      <td>0.0</td>\n",
       "      <td>0.0</td>\n",
       "      <td>0.0</td>\n",
       "      <td>S0</td>\n",
       "      <td>1</td>\n",
       "      <td>6338</td>\n",
       "      <td>17989</td>\n",
       "      <td>udp</td>\n",
       "    </tr>\n",
       "    <tr>\n",
       "      <th>217619</th>\n",
       "      <td>0.000000</td>\n",
       "      <td>other</td>\n",
       "      <td>0</td>\n",
       "      <td>0</td>\n",
       "      <td>0</td>\n",
       "      <td>0.0</td>\n",
       "      <td>0.0</td>\n",
       "      <td>1.0</td>\n",
       "      <td>0</td>\n",
       "      <td>0</td>\n",
       "      <td>0.0</td>\n",
       "      <td>0.0</td>\n",
       "      <td>0.0</td>\n",
       "      <td>OTH</td>\n",
       "      <td>1</td>\n",
       "      <td>11</td>\n",
       "      <td>0</td>\n",
       "      <td>icmp</td>\n",
       "    </tr>\n",
       "    <tr>\n",
       "      <th>217620</th>\n",
       "      <td>1.215994</td>\n",
       "      <td>other</td>\n",
       "      <td>60</td>\n",
       "      <td>0</td>\n",
       "      <td>0</td>\n",
       "      <td>0.0</td>\n",
       "      <td>0.0</td>\n",
       "      <td>0.0</td>\n",
       "      <td>0</td>\n",
       "      <td>0</td>\n",
       "      <td>0.0</td>\n",
       "      <td>0.0</td>\n",
       "      <td>0.0</td>\n",
       "      <td>S0</td>\n",
       "      <td>1</td>\n",
       "      <td>14015</td>\n",
       "      <td>17989</td>\n",
       "      <td>udp</td>\n",
       "    </tr>\n",
       "    <tr>\n",
       "      <th>217621</th>\n",
       "      <td>0.000000</td>\n",
       "      <td>dns</td>\n",
       "      <td>0</td>\n",
       "      <td>0</td>\n",
       "      <td>0</td>\n",
       "      <td>0.0</td>\n",
       "      <td>0.0</td>\n",
       "      <td>0.0</td>\n",
       "      <td>0</td>\n",
       "      <td>0</td>\n",
       "      <td>0.0</td>\n",
       "      <td>0.0</td>\n",
       "      <td>0.0</td>\n",
       "      <td>S0</td>\n",
       "      <td>1</td>\n",
       "      <td>44074</td>\n",
       "      <td>53</td>\n",
       "      <td>udp</td>\n",
       "    </tr>\n",
       "    <tr>\n",
       "      <th>217622</th>\n",
       "      <td>0.000000</td>\n",
       "      <td>other</td>\n",
       "      <td>0</td>\n",
       "      <td>0</td>\n",
       "      <td>0</td>\n",
       "      <td>0.0</td>\n",
       "      <td>0.0</td>\n",
       "      <td>1.0</td>\n",
       "      <td>0</td>\n",
       "      <td>0</td>\n",
       "      <td>0.0</td>\n",
       "      <td>0.0</td>\n",
       "      <td>0.0</td>\n",
       "      <td>S0</td>\n",
       "      <td>1</td>\n",
       "      <td>49263</td>\n",
       "      <td>25</td>\n",
       "      <td>tcp</td>\n",
       "    </tr>\n",
       "    <tr>\n",
       "      <th>217623</th>\n",
       "      <td>0.000000</td>\n",
       "      <td>other</td>\n",
       "      <td>0</td>\n",
       "      <td>0</td>\n",
       "      <td>1</td>\n",
       "      <td>1.0</td>\n",
       "      <td>1.0</td>\n",
       "      <td>1.0</td>\n",
       "      <td>0</td>\n",
       "      <td>1</td>\n",
       "      <td>0.0</td>\n",
       "      <td>0.0</td>\n",
       "      <td>1.0</td>\n",
       "      <td>S0</td>\n",
       "      <td>1</td>\n",
       "      <td>58398</td>\n",
       "      <td>25</td>\n",
       "      <td>tcp</td>\n",
       "    </tr>\n",
       "    <tr>\n",
       "      <th>217624</th>\n",
       "      <td>0.000000</td>\n",
       "      <td>other</td>\n",
       "      <td>0</td>\n",
       "      <td>0</td>\n",
       "      <td>0</td>\n",
       "      <td>0.0</td>\n",
       "      <td>0.0</td>\n",
       "      <td>1.0</td>\n",
       "      <td>2</td>\n",
       "      <td>2</td>\n",
       "      <td>1.0</td>\n",
       "      <td>1.0</td>\n",
       "      <td>1.0</td>\n",
       "      <td>S0</td>\n",
       "      <td>1</td>\n",
       "      <td>55373</td>\n",
       "      <td>23</td>\n",
       "      <td>tcp</td>\n",
       "    </tr>\n",
       "    <tr>\n",
       "      <th>217625</th>\n",
       "      <td>0.000000</td>\n",
       "      <td>other</td>\n",
       "      <td>0</td>\n",
       "      <td>0</td>\n",
       "      <td>0</td>\n",
       "      <td>0.0</td>\n",
       "      <td>0.0</td>\n",
       "      <td>1.0</td>\n",
       "      <td>0</td>\n",
       "      <td>0</td>\n",
       "      <td>0.0</td>\n",
       "      <td>0.0</td>\n",
       "      <td>0.0</td>\n",
       "      <td>S0</td>\n",
       "      <td>1</td>\n",
       "      <td>33244</td>\n",
       "      <td>25</td>\n",
       "      <td>tcp</td>\n",
       "    </tr>\n",
       "    <tr>\n",
       "      <th>217626</th>\n",
       "      <td>0.000000</td>\n",
       "      <td>other</td>\n",
       "      <td>0</td>\n",
       "      <td>0</td>\n",
       "      <td>1</td>\n",
       "      <td>1.0</td>\n",
       "      <td>1.0</td>\n",
       "      <td>1.0</td>\n",
       "      <td>0</td>\n",
       "      <td>1</td>\n",
       "      <td>0.0</td>\n",
       "      <td>0.0</td>\n",
       "      <td>1.0</td>\n",
       "      <td>S0</td>\n",
       "      <td>1</td>\n",
       "      <td>47476</td>\n",
       "      <td>25</td>\n",
       "      <td>tcp</td>\n",
       "    </tr>\n",
       "    <tr>\n",
       "      <th>217627</th>\n",
       "      <td>0.000000</td>\n",
       "      <td>other</td>\n",
       "      <td>0</td>\n",
       "      <td>0</td>\n",
       "      <td>0</td>\n",
       "      <td>0.0</td>\n",
       "      <td>0.0</td>\n",
       "      <td>1.0</td>\n",
       "      <td>0</td>\n",
       "      <td>0</td>\n",
       "      <td>0.0</td>\n",
       "      <td>0.0</td>\n",
       "      <td>0.0</td>\n",
       "      <td>S0</td>\n",
       "      <td>1</td>\n",
       "      <td>10106</td>\n",
       "      <td>17989</td>\n",
       "      <td>udp</td>\n",
       "    </tr>\n",
       "  </tbody>\n",
       "</table>\n",
       "</div>"
      ],
      "text/plain": [
       "        conn len service  src bytes  dst bytes  conn numb  Same srv rate  \\\n",
       "217618  0.410043   other        150          0          0            0.0   \n",
       "217619  0.000000   other          0          0          0            0.0   \n",
       "217620  1.215994   other         60          0          0            0.0   \n",
       "217621  0.000000     dns          0          0          0            0.0   \n",
       "217622  0.000000   other          0          0          0            0.0   \n",
       "217623  0.000000   other          0          0          1            1.0   \n",
       "217624  0.000000   other          0          0          0            0.0   \n",
       "217625  0.000000   other          0          0          0            0.0   \n",
       "217626  0.000000   other          0          0          1            1.0   \n",
       "217627  0.000000   other          0          0          0            0.0   \n",
       "\n",
       "        Serror rate  Srv serror rate  Dst host count  Dst host srv count  \\\n",
       "217618          0.0              1.0               0                   0   \n",
       "217619          0.0              1.0               0                   0   \n",
       "217620          0.0              0.0               0                   0   \n",
       "217621          0.0              0.0               0                   0   \n",
       "217622          0.0              1.0               0                   0   \n",
       "217623          1.0              1.0               0                   1   \n",
       "217624          0.0              1.0               2                   2   \n",
       "217625          0.0              1.0               0                   0   \n",
       "217626          1.0              1.0               0                   1   \n",
       "217627          0.0              1.0               0                   0   \n",
       "\n",
       "        Dst host same src port rate  Dst host serror rate  \\\n",
       "217618                          0.0                   0.0   \n",
       "217619                          0.0                   0.0   \n",
       "217620                          0.0                   0.0   \n",
       "217621                          0.0                   0.0   \n",
       "217622                          0.0                   0.0   \n",
       "217623                          0.0                   0.0   \n",
       "217624                          1.0                   1.0   \n",
       "217625                          0.0                   0.0   \n",
       "217626                          0.0                   0.0   \n",
       "217627                          0.0                   0.0   \n",
       "\n",
       "        Dst host srv serror rate Conn state  attack_flag  src port  dst port  \\\n",
       "217618                       0.0         S0            1      6338     17989   \n",
       "217619                       0.0        OTH            1        11         0   \n",
       "217620                       0.0         S0            1     14015     17989   \n",
       "217621                       0.0         S0            1     44074        53   \n",
       "217622                       0.0         S0            1     49263        25   \n",
       "217623                       1.0         S0            1     58398        25   \n",
       "217624                       1.0         S0            1     55373        23   \n",
       "217625                       0.0         S0            1     33244        25   \n",
       "217626                       1.0         S0            1     47476        25   \n",
       "217627                       0.0         S0            1     10106     17989   \n",
       "\n",
       "       proto  \n",
       "217618   udp  \n",
       "217619  icmp  \n",
       "217620   udp  \n",
       "217621   udp  \n",
       "217622   tcp  \n",
       "217623   tcp  \n",
       "217624   tcp  \n",
       "217625   tcp  \n",
       "217626   tcp  \n",
       "217627   udp  "
      ]
     },
     "execution_count": 51,
     "metadata": {},
     "output_type": "execute_result"
    }
   ],
   "source": [
    "data.tail(10)"
   ]
  },
  {
   "cell_type": "code",
   "execution_count": 52,
   "metadata": {},
   "outputs": [
    {
     "data": {
      "text/html": [
       "<div>\n",
       "<style scoped>\n",
       "    .dataframe tbody tr th:only-of-type {\n",
       "        vertical-align: middle;\n",
       "    }\n",
       "\n",
       "    .dataframe tbody tr th {\n",
       "        vertical-align: top;\n",
       "    }\n",
       "\n",
       "    .dataframe thead th {\n",
       "        text-align: right;\n",
       "    }\n",
       "</style>\n",
       "<table border=\"1\" class=\"dataframe\">\n",
       "  <thead>\n",
       "    <tr style=\"text-align: right;\">\n",
       "      <th></th>\n",
       "      <th>conn len</th>\n",
       "      <th>src bytes</th>\n",
       "      <th>dst bytes</th>\n",
       "      <th>conn numb</th>\n",
       "      <th>Same srv rate</th>\n",
       "      <th>Serror rate</th>\n",
       "      <th>Srv serror rate</th>\n",
       "      <th>Dst host count</th>\n",
       "      <th>Dst host srv count</th>\n",
       "      <th>Dst host same src port rate</th>\n",
       "      <th>Dst host serror rate</th>\n",
       "      <th>Dst host srv serror rate</th>\n",
       "      <th>attack_flag</th>\n",
       "      <th>src port</th>\n",
       "      <th>dst port</th>\n",
       "    </tr>\n",
       "  </thead>\n",
       "  <tbody>\n",
       "    <tr>\n",
       "      <th>count</th>\n",
       "      <td>217628.000000</td>\n",
       "      <td>217628.000000</td>\n",
       "      <td>217628.000000</td>\n",
       "      <td>217628.000000</td>\n",
       "      <td>217628.000000</td>\n",
       "      <td>217628.000000</td>\n",
       "      <td>217628.000000</td>\n",
       "      <td>217628.000000</td>\n",
       "      <td>217628.000000</td>\n",
       "      <td>217628.000000</td>\n",
       "      <td>217628.000000</td>\n",
       "      <td>217628.000000</td>\n",
       "      <td>217628.000000</td>\n",
       "      <td>217628.000000</td>\n",
       "      <td>217628.000000</td>\n",
       "    </tr>\n",
       "    <tr>\n",
       "      <th>mean</th>\n",
       "      <td>0.855259</td>\n",
       "      <td>56.899333</td>\n",
       "      <td>122.064555</td>\n",
       "      <td>2.952263</td>\n",
       "      <td>0.417481</td>\n",
       "      <td>0.089564</td>\n",
       "      <td>0.542215</td>\n",
       "      <td>29.491720</td>\n",
       "      <td>31.876730</td>\n",
       "      <td>0.071694</td>\n",
       "      <td>0.066464</td>\n",
       "      <td>0.146028</td>\n",
       "      <td>0.688859</td>\n",
       "      <td>34292.130006</td>\n",
       "      <td>3550.084736</td>\n",
       "    </tr>\n",
       "    <tr>\n",
       "      <th>std</th>\n",
       "      <td>3.085410</td>\n",
       "      <td>519.846915</td>\n",
       "      <td>748.123612</td>\n",
       "      <td>5.519918</td>\n",
       "      <td>0.491905</td>\n",
       "      <td>0.284547</td>\n",
       "      <td>0.467622</td>\n",
       "      <td>44.351499</td>\n",
       "      <td>43.928101</td>\n",
       "      <td>0.256081</td>\n",
       "      <td>0.248495</td>\n",
       "      <td>0.350052</td>\n",
       "      <td>0.462961</td>\n",
       "      <td>19708.835701</td>\n",
       "      <td>10869.634486</td>\n",
       "    </tr>\n",
       "    <tr>\n",
       "      <th>min</th>\n",
       "      <td>0.000000</td>\n",
       "      <td>0.000000</td>\n",
       "      <td>0.000000</td>\n",
       "      <td>0.000000</td>\n",
       "      <td>0.000000</td>\n",
       "      <td>0.000000</td>\n",
       "      <td>0.000000</td>\n",
       "      <td>0.000000</td>\n",
       "      <td>0.000000</td>\n",
       "      <td>0.000000</td>\n",
       "      <td>0.000000</td>\n",
       "      <td>0.000000</td>\n",
       "      <td>0.000000</td>\n",
       "      <td>0.000000</td>\n",
       "      <td>0.000000</td>\n",
       "    </tr>\n",
       "    <tr>\n",
       "      <th>25%</th>\n",
       "      <td>0.000000</td>\n",
       "      <td>0.000000</td>\n",
       "      <td>0.000000</td>\n",
       "      <td>0.000000</td>\n",
       "      <td>0.000000</td>\n",
       "      <td>0.000000</td>\n",
       "      <td>0.000000</td>\n",
       "      <td>0.000000</td>\n",
       "      <td>0.000000</td>\n",
       "      <td>0.000000</td>\n",
       "      <td>0.000000</td>\n",
       "      <td>0.000000</td>\n",
       "      <td>0.000000</td>\n",
       "      <td>12375.000000</td>\n",
       "      <td>25.000000</td>\n",
       "    </tr>\n",
       "    <tr>\n",
       "      <th>50%</th>\n",
       "      <td>0.000290</td>\n",
       "      <td>0.000000</td>\n",
       "      <td>0.000000</td>\n",
       "      <td>0.000000</td>\n",
       "      <td>0.000000</td>\n",
       "      <td>0.000000</td>\n",
       "      <td>0.750000</td>\n",
       "      <td>0.000000</td>\n",
       "      <td>1.000000</td>\n",
       "      <td>0.000000</td>\n",
       "      <td>0.000000</td>\n",
       "      <td>0.000000</td>\n",
       "      <td>1.000000</td>\n",
       "      <td>39682.000000</td>\n",
       "      <td>53.000000</td>\n",
       "    </tr>\n",
       "    <tr>\n",
       "      <th>75%</th>\n",
       "      <td>0.013333</td>\n",
       "      <td>45.000000</td>\n",
       "      <td>61.000000</td>\n",
       "      <td>5.000000</td>\n",
       "      <td>1.000000</td>\n",
       "      <td>0.000000</td>\n",
       "      <td>1.000000</td>\n",
       "      <td>96.000000</td>\n",
       "      <td>96.000000</td>\n",
       "      <td>0.000000</td>\n",
       "      <td>0.000000</td>\n",
       "      <td>0.000000</td>\n",
       "      <td>1.000000</td>\n",
       "      <td>50473.000000</td>\n",
       "      <td>1433.000000</td>\n",
       "    </tr>\n",
       "    <tr>\n",
       "      <th>max</th>\n",
       "      <td>563.012764</td>\n",
       "      <td>88066.000000</td>\n",
       "      <td>157723.000000</td>\n",
       "      <td>84.000000</td>\n",
       "      <td>1.000000</td>\n",
       "      <td>1.000000</td>\n",
       "      <td>1.000000</td>\n",
       "      <td>100.000000</td>\n",
       "      <td>100.000000</td>\n",
       "      <td>1.000000</td>\n",
       "      <td>1.000000</td>\n",
       "      <td>1.000000</td>\n",
       "      <td>1.000000</td>\n",
       "      <td>65535.000000</td>\n",
       "      <td>65498.000000</td>\n",
       "    </tr>\n",
       "  </tbody>\n",
       "</table>\n",
       "</div>"
      ],
      "text/plain": [
       "            conn len      src bytes      dst bytes      conn numb  \\\n",
       "count  217628.000000  217628.000000  217628.000000  217628.000000   \n",
       "mean        0.855259      56.899333     122.064555       2.952263   \n",
       "std         3.085410     519.846915     748.123612       5.519918   \n",
       "min         0.000000       0.000000       0.000000       0.000000   \n",
       "25%         0.000000       0.000000       0.000000       0.000000   \n",
       "50%         0.000290       0.000000       0.000000       0.000000   \n",
       "75%         0.013333      45.000000      61.000000       5.000000   \n",
       "max       563.012764   88066.000000  157723.000000      84.000000   \n",
       "\n",
       "       Same srv rate    Serror rate  Srv serror rate  Dst host count  \\\n",
       "count  217628.000000  217628.000000    217628.000000   217628.000000   \n",
       "mean        0.417481       0.089564         0.542215       29.491720   \n",
       "std         0.491905       0.284547         0.467622       44.351499   \n",
       "min         0.000000       0.000000         0.000000        0.000000   \n",
       "25%         0.000000       0.000000         0.000000        0.000000   \n",
       "50%         0.000000       0.000000         0.750000        0.000000   \n",
       "75%         1.000000       0.000000         1.000000       96.000000   \n",
       "max         1.000000       1.000000         1.000000      100.000000   \n",
       "\n",
       "       Dst host srv count  Dst host same src port rate  Dst host serror rate  \\\n",
       "count       217628.000000                217628.000000         217628.000000   \n",
       "mean            31.876730                     0.071694              0.066464   \n",
       "std             43.928101                     0.256081              0.248495   \n",
       "min              0.000000                     0.000000              0.000000   \n",
       "25%              0.000000                     0.000000              0.000000   \n",
       "50%              1.000000                     0.000000              0.000000   \n",
       "75%             96.000000                     0.000000              0.000000   \n",
       "max            100.000000                     1.000000              1.000000   \n",
       "\n",
       "       Dst host srv serror rate    attack_flag       src port       dst port  \n",
       "count             217628.000000  217628.000000  217628.000000  217628.000000  \n",
       "mean                   0.146028       0.688859   34292.130006    3550.084736  \n",
       "std                    0.350052       0.462961   19708.835701   10869.634486  \n",
       "min                    0.000000       0.000000       0.000000       0.000000  \n",
       "25%                    0.000000       0.000000   12375.000000      25.000000  \n",
       "50%                    0.000000       1.000000   39682.000000      53.000000  \n",
       "75%                    0.000000       1.000000   50473.000000    1433.000000  \n",
       "max                    1.000000       1.000000   65535.000000   65498.000000  "
      ]
     },
     "execution_count": 52,
     "metadata": {},
     "output_type": "execute_result"
    }
   ],
   "source": [
    "data.describe()"
   ]
  },
  {
   "cell_type": "code",
   "execution_count": 53,
   "metadata": {},
   "outputs": [
    {
     "data": {
      "text/plain": [
       "(217628, 18)"
      ]
     },
     "execution_count": 53,
     "metadata": {},
     "output_type": "execute_result"
    }
   ],
   "source": [
    "# removing NaNs\n",
    "data = data.dropna()\n",
    "data.shape"
   ]
  },
  {
   "cell_type": "code",
   "execution_count": 54,
   "metadata": {},
   "outputs": [
    {
     "data": {
      "text/plain": [
       "S0        127464\n",
       "SF         59944\n",
       "RSTO       11476\n",
       "OTH         8640\n",
       "REJ         7998\n",
       "RSTRH        733\n",
       "RSTOS0       634\n",
       "SHR          381\n",
       "RSTR         304\n",
       "S1            52\n",
       "SH             2\n",
       "Name: Conn state, dtype: int64"
      ]
     },
     "execution_count": 54,
     "metadata": {},
     "output_type": "execute_result"
    }
   ],
   "source": [
    "data[\"Conn state\"].value_counts(dropna=False)"
   ]
  },
  {
   "cell_type": "code",
   "execution_count": 55,
   "metadata": {},
   "outputs": [
    {
     "data": {
      "text/plain": [
       "other    126080\n",
       "dns       61990\n",
       "sip       16519\n",
       "ssh       11518\n",
       "snmp        665\n",
       "smtp        495\n",
       "rdp         328\n",
       "dhcp         20\n",
       "http         11\n",
       "ssl           2\n",
       "Name: service, dtype: int64"
      ]
     },
     "execution_count": 55,
     "metadata": {},
     "output_type": "execute_result"
    }
   ],
   "source": [
    "data[\"service\"].value_counts(dropna=False)"
   ]
  },
  {
   "cell_type": "code",
   "execution_count": 56,
   "metadata": {},
   "outputs": [
    {
     "data": {
      "text/plain": [
       "tcp     119162\n",
       "udp      93548\n",
       "icmp      4918\n",
       "Name: proto, dtype: int64"
      ]
     },
     "execution_count": 56,
     "metadata": {},
     "output_type": "execute_result"
    }
   ],
   "source": [
    "data[\"proto\"].value_counts(dropna=False)"
   ]
  },
  {
   "cell_type": "markdown",
   "metadata": {},
   "source": [
    "# a bit of feature engineering"
   ]
  },
  {
   "cell_type": "markdown",
   "metadata": {},
   "source": [
    "## port numbers classification"
   ]
  },
  {
   "cell_type": "code",
   "execution_count": 57,
   "metadata": {},
   "outputs": [],
   "source": [
    "t1 = 1023  # well-known port numbers\n",
    "t2 = 49151 # registered ports\n",
    "t3 = 65535 # client ports\n",
    "\n",
    "def wk(data_row):\n",
    "    if (data_row[\"src port\"] <= t1): \n",
    "        value = 1\n",
    "    elif ((data_row[\"src port\"] > t1) and (data_row[\"src port\"] <= t2)):\n",
    "        value = 0\n",
    "    elif ((data_row[\"src port\"] > t2) and (data_row[\"src port\"] <= t3)):\n",
    "        value = 0\n",
    "    return value\n",
    "\n",
    "def reg(data_row):\n",
    "    if (data_row[\"src port\"] <= t1): \n",
    "        value = 0\n",
    "    elif ((data_row[\"src port\"] > t1) and (data_row[\"src port\"] <= t2)):\n",
    "        value = 1\n",
    "    elif ((data_row[\"src port\"] > t2) and (data_row[\"src port\"] <= t3)):\n",
    "        value = 0\n",
    "    return value\n",
    "\n",
    "def cli(data_row):\n",
    "    if (data_row[\"src port\"] <= t1): \n",
    "        value = 0\n",
    "    elif ((data_row[\"src port\"] > t1) and (data_row[\"src port\"] <= t2)):\n",
    "        value = 0\n",
    "    elif ((data_row[\"src port\"] > t2) and (data_row[\"src port\"] <= t3)):\n",
    "        value = 1\n",
    "    return value\n",
    "\n",
    "data[\"well-known src pool\"] = data.apply(wk, axis=1)\n",
    "data[\"registered src pool\"] = data.apply(reg, axis=1)\n",
    "data[\"cli src pool\"] = data.apply(cli, axis=1)"
   ]
  },
  {
   "cell_type": "code",
   "execution_count": 58,
   "metadata": {},
   "outputs": [
    {
     "name": "stdout",
     "output_type": "stream",
     "text": [
      "Counter({0: 211216, 1: 6412})\n",
      "Counter({1: 150534, 0: 67094})\n",
      "Counter({0: 156946, 1: 60682})\n"
     ]
    }
   ],
   "source": [
    "print(Counter(data[\"well-known src pool\"]))\n",
    "print(Counter(data[\"registered src pool\"]))\n",
    "print(Counter(data[\"cli src pool\"]))"
   ]
  },
  {
   "cell_type": "code",
   "execution_count": 59,
   "metadata": {
    "scrolled": true
   },
   "outputs": [
    {
     "name": "stdout",
     "output_type": "stream",
     "text": [
      "<class 'pandas.core.frame.DataFrame'>\n",
      "Int64Index: 217628 entries, 0 to 217627\n",
      "Data columns (total 21 columns):\n",
      "conn len                       217628 non-null float64\n",
      "service                        217628 non-null object\n",
      "src bytes                      217628 non-null int64\n",
      "dst bytes                      217628 non-null int64\n",
      "conn numb                      217628 non-null int64\n",
      "Same srv rate                  217628 non-null float64\n",
      "Serror rate                    217628 non-null float64\n",
      "Srv serror rate                217628 non-null float64\n",
      "Dst host count                 217628 non-null int64\n",
      "Dst host srv count             217628 non-null int64\n",
      "Dst host same src port rate    217628 non-null float64\n",
      "Dst host serror rate           217628 non-null float64\n",
      "Dst host srv serror rate       217628 non-null float64\n",
      "Conn state                     217628 non-null object\n",
      "attack_flag                    217628 non-null int64\n",
      "src port                       217628 non-null int64\n",
      "dst port                       217628 non-null int64\n",
      "proto                          217628 non-null object\n",
      "well-known src pool            217628 non-null int64\n",
      "registered src pool            217628 non-null int64\n",
      "cli src pool                   217628 non-null int64\n",
      "dtypes: float64(7), int64(11), object(3)\n",
      "memory usage: 36.5+ MB\n"
     ]
    }
   ],
   "source": [
    "data.info()"
   ]
  },
  {
   "cell_type": "code",
   "execution_count": 60,
   "metadata": {},
   "outputs": [
    {
     "data": {
      "text/html": [
       "<div>\n",
       "<style scoped>\n",
       "    .dataframe tbody tr th:only-of-type {\n",
       "        vertical-align: middle;\n",
       "    }\n",
       "\n",
       "    .dataframe tbody tr th {\n",
       "        vertical-align: top;\n",
       "    }\n",
       "\n",
       "    .dataframe thead th {\n",
       "        text-align: right;\n",
       "    }\n",
       "</style>\n",
       "<table border=\"1\" class=\"dataframe\">\n",
       "  <thead>\n",
       "    <tr style=\"text-align: right;\">\n",
       "      <th></th>\n",
       "      <th>src port</th>\n",
       "      <th>dst port</th>\n",
       "      <th>well-known src pool</th>\n",
       "      <th>registered src pool</th>\n",
       "      <th>cli src pool</th>\n",
       "    </tr>\n",
       "  </thead>\n",
       "  <tbody>\n",
       "    <tr>\n",
       "      <th>0</th>\n",
       "      <td>40061</td>\n",
       "      <td>111</td>\n",
       "      <td>0</td>\n",
       "      <td>1</td>\n",
       "      <td>0</td>\n",
       "    </tr>\n",
       "    <tr>\n",
       "      <th>1</th>\n",
       "      <td>53488</td>\n",
       "      <td>80</td>\n",
       "      <td>0</td>\n",
       "      <td>0</td>\n",
       "      <td>1</td>\n",
       "    </tr>\n",
       "    <tr>\n",
       "      <th>2</th>\n",
       "      <td>35051</td>\n",
       "      <td>23</td>\n",
       "      <td>0</td>\n",
       "      <td>1</td>\n",
       "      <td>0</td>\n",
       "    </tr>\n",
       "    <tr>\n",
       "      <th>3</th>\n",
       "      <td>1408</td>\n",
       "      <td>445</td>\n",
       "      <td>0</td>\n",
       "      <td>1</td>\n",
       "      <td>0</td>\n",
       "    </tr>\n",
       "    <tr>\n",
       "      <th>4</th>\n",
       "      <td>55244</td>\n",
       "      <td>995</td>\n",
       "      <td>0</td>\n",
       "      <td>0</td>\n",
       "      <td>1</td>\n",
       "    </tr>\n",
       "    <tr>\n",
       "      <th>5</th>\n",
       "      <td>44544</td>\n",
       "      <td>995</td>\n",
       "      <td>0</td>\n",
       "      <td>1</td>\n",
       "      <td>0</td>\n",
       "    </tr>\n",
       "    <tr>\n",
       "      <th>6</th>\n",
       "      <td>50678</td>\n",
       "      <td>5900</td>\n",
       "      <td>0</td>\n",
       "      <td>0</td>\n",
       "      <td>1</td>\n",
       "    </tr>\n",
       "    <tr>\n",
       "      <th>7</th>\n",
       "      <td>35051</td>\n",
       "      <td>23</td>\n",
       "      <td>0</td>\n",
       "      <td>1</td>\n",
       "      <td>0</td>\n",
       "    </tr>\n",
       "    <tr>\n",
       "      <th>8</th>\n",
       "      <td>50678</td>\n",
       "      <td>5900</td>\n",
       "      <td>0</td>\n",
       "      <td>0</td>\n",
       "      <td>1</td>\n",
       "    </tr>\n",
       "    <tr>\n",
       "      <th>9</th>\n",
       "      <td>50678</td>\n",
       "      <td>5900</td>\n",
       "      <td>0</td>\n",
       "      <td>0</td>\n",
       "      <td>1</td>\n",
       "    </tr>\n",
       "    <tr>\n",
       "      <th>10</th>\n",
       "      <td>59625</td>\n",
       "      <td>21</td>\n",
       "      <td>0</td>\n",
       "      <td>0</td>\n",
       "      <td>1</td>\n",
       "    </tr>\n",
       "    <tr>\n",
       "      <th>11</th>\n",
       "      <td>42626</td>\n",
       "      <td>111</td>\n",
       "      <td>0</td>\n",
       "      <td>1</td>\n",
       "      <td>0</td>\n",
       "    </tr>\n",
       "    <tr>\n",
       "      <th>12</th>\n",
       "      <td>2194</td>\n",
       "      <td>445</td>\n",
       "      <td>0</td>\n",
       "      <td>1</td>\n",
       "      <td>0</td>\n",
       "    </tr>\n",
       "    <tr>\n",
       "      <th>13</th>\n",
       "      <td>7432</td>\n",
       "      <td>22</td>\n",
       "      <td>0</td>\n",
       "      <td>1</td>\n",
       "      <td>0</td>\n",
       "    </tr>\n",
       "    <tr>\n",
       "      <th>14</th>\n",
       "      <td>7206</td>\n",
       "      <td>80</td>\n",
       "      <td>0</td>\n",
       "      <td>1</td>\n",
       "      <td>0</td>\n",
       "    </tr>\n",
       "    <tr>\n",
       "      <th>15</th>\n",
       "      <td>55133</td>\n",
       "      <td>53</td>\n",
       "      <td>0</td>\n",
       "      <td>0</td>\n",
       "      <td>1</td>\n",
       "    </tr>\n",
       "    <tr>\n",
       "      <th>16</th>\n",
       "      <td>60169</td>\n",
       "      <td>80</td>\n",
       "      <td>0</td>\n",
       "      <td>0</td>\n",
       "      <td>1</td>\n",
       "    </tr>\n",
       "    <tr>\n",
       "      <th>17</th>\n",
       "      <td>63030</td>\n",
       "      <td>2222</td>\n",
       "      <td>0</td>\n",
       "      <td>0</td>\n",
       "      <td>1</td>\n",
       "    </tr>\n",
       "    <tr>\n",
       "      <th>18</th>\n",
       "      <td>31905</td>\n",
       "      <td>445</td>\n",
       "      <td>0</td>\n",
       "      <td>1</td>\n",
       "      <td>0</td>\n",
       "    </tr>\n",
       "    <tr>\n",
       "      <th>19</th>\n",
       "      <td>59625</td>\n",
       "      <td>21</td>\n",
       "      <td>0</td>\n",
       "      <td>0</td>\n",
       "      <td>1</td>\n",
       "    </tr>\n",
       "    <tr>\n",
       "      <th>20</th>\n",
       "      <td>36939</td>\n",
       "      <td>111</td>\n",
       "      <td>0</td>\n",
       "      <td>1</td>\n",
       "      <td>0</td>\n",
       "    </tr>\n",
       "    <tr>\n",
       "      <th>21</th>\n",
       "      <td>7432</td>\n",
       "      <td>22</td>\n",
       "      <td>0</td>\n",
       "      <td>1</td>\n",
       "      <td>0</td>\n",
       "    </tr>\n",
       "    <tr>\n",
       "      <th>22</th>\n",
       "      <td>25385</td>\n",
       "      <td>445</td>\n",
       "      <td>0</td>\n",
       "      <td>1</td>\n",
       "      <td>0</td>\n",
       "    </tr>\n",
       "    <tr>\n",
       "      <th>23</th>\n",
       "      <td>36877</td>\n",
       "      <td>2332</td>\n",
       "      <td>0</td>\n",
       "      <td>1</td>\n",
       "      <td>0</td>\n",
       "    </tr>\n",
       "    <tr>\n",
       "      <th>24</th>\n",
       "      <td>7206</td>\n",
       "      <td>80</td>\n",
       "      <td>0</td>\n",
       "      <td>1</td>\n",
       "      <td>0</td>\n",
       "    </tr>\n",
       "    <tr>\n",
       "      <th>25</th>\n",
       "      <td>56346</td>\n",
       "      <td>8888</td>\n",
       "      <td>0</td>\n",
       "      <td>0</td>\n",
       "      <td>1</td>\n",
       "    </tr>\n",
       "    <tr>\n",
       "      <th>26</th>\n",
       "      <td>37854</td>\n",
       "      <td>445</td>\n",
       "      <td>0</td>\n",
       "      <td>1</td>\n",
       "      <td>0</td>\n",
       "    </tr>\n",
       "    <tr>\n",
       "      <th>27</th>\n",
       "      <td>56248</td>\n",
       "      <td>445</td>\n",
       "      <td>0</td>\n",
       "      <td>0</td>\n",
       "      <td>1</td>\n",
       "    </tr>\n",
       "    <tr>\n",
       "      <th>28</th>\n",
       "      <td>38273</td>\n",
       "      <td>1080</td>\n",
       "      <td>0</td>\n",
       "      <td>1</td>\n",
       "      <td>0</td>\n",
       "    </tr>\n",
       "    <tr>\n",
       "      <th>29</th>\n",
       "      <td>3026</td>\n",
       "      <td>445</td>\n",
       "      <td>0</td>\n",
       "      <td>1</td>\n",
       "      <td>0</td>\n",
       "    </tr>\n",
       "  </tbody>\n",
       "</table>\n",
       "</div>"
      ],
      "text/plain": [
       "    src port  dst port  well-known src pool  registered src pool  cli src pool\n",
       "0      40061       111                    0                    1             0\n",
       "1      53488        80                    0                    0             1\n",
       "2      35051        23                    0                    1             0\n",
       "3       1408       445                    0                    1             0\n",
       "4      55244       995                    0                    0             1\n",
       "5      44544       995                    0                    1             0\n",
       "6      50678      5900                    0                    0             1\n",
       "7      35051        23                    0                    1             0\n",
       "8      50678      5900                    0                    0             1\n",
       "9      50678      5900                    0                    0             1\n",
       "10     59625        21                    0                    0             1\n",
       "11     42626       111                    0                    1             0\n",
       "12      2194       445                    0                    1             0\n",
       "13      7432        22                    0                    1             0\n",
       "14      7206        80                    0                    1             0\n",
       "15     55133        53                    0                    0             1\n",
       "16     60169        80                    0                    0             1\n",
       "17     63030      2222                    0                    0             1\n",
       "18     31905       445                    0                    1             0\n",
       "19     59625        21                    0                    0             1\n",
       "20     36939       111                    0                    1             0\n",
       "21      7432        22                    0                    1             0\n",
       "22     25385       445                    0                    1             0\n",
       "23     36877      2332                    0                    1             0\n",
       "24      7206        80                    0                    1             0\n",
       "25     56346      8888                    0                    0             1\n",
       "26     37854       445                    0                    1             0\n",
       "27     56248       445                    0                    0             1\n",
       "28     38273      1080                    0                    1             0\n",
       "29      3026       445                    0                    1             0"
      ]
     },
     "execution_count": 60,
     "metadata": {},
     "output_type": "execute_result"
    }
   ],
   "source": [
    "# data.loc[:, [\"src port\", \"dst port\", \"well-known src pool\", \"registered src pool\", \"cli src pool\", \"well-known dst pool\", \"registered dst pool\", \"cli dst pool\"]].head(30)\n",
    "data.loc[:, [\"src port\", \"dst port\", \"well-known src pool\", \"registered src pool\", \"cli src pool\"]].head(30)"
   ]
  },
  {
   "cell_type": "markdown",
   "metadata": {},
   "source": [
    "## Change port number info to categorical"
   ]
  },
  {
   "cell_type": "code",
   "execution_count": 61,
   "metadata": {},
   "outputs": [],
   "source": [
    "data[\"src port\"] = data[\"src port\"].apply(str)\n",
    "data[\"dst port\"] = data[\"dst port\"].apply(str)\n",
    "data['src port'].nunique()\n",
    "data['dst port'].nunique()\n",
    "\n",
    "thresh1 = 125\n",
    "thresh2 = 125\n",
    "counts1 = data['src port'].value_counts()\n",
    "counts2 = data['dst port'].value_counts()\n",
    "\n",
    "repl1 = counts1[counts1 <= thresh1].index\n",
    "repl2 = counts2[counts2 <= thresh2].index\n",
    "\n",
    "#hot one encoding for src port numbers\n",
    "data = pd.concat([data, pd.get_dummies(data[\"src port\"].replace(repl1, 'other_src'), prefix=\"is_src\")], axis=1)\n",
    "\n",
    "#hot one encoding for dst port numbers\n",
    "data = pd.concat([data, pd.get_dummies(data[\"dst port\"].replace(repl2, 'other_dst'), prefix=\"is_dst\")], axis=1)"
   ]
  },
  {
   "cell_type": "code",
   "execution_count": 62,
   "metadata": {},
   "outputs": [
    {
     "data": {
      "text/plain": [
       "(217628, 214)"
      ]
     },
     "execution_count": 62,
     "metadata": {},
     "output_type": "execute_result"
    }
   ],
   "source": [
    "data.shape"
   ]
  },
  {
   "cell_type": "markdown",
   "metadata": {},
   "source": [
    "## Hot one encoding"
   ]
  },
  {
   "cell_type": "code",
   "execution_count": 63,
   "metadata": {},
   "outputs": [
    {
     "data": {
      "text/html": [
       "<div>\n",
       "<style scoped>\n",
       "    .dataframe tbody tr th:only-of-type {\n",
       "        vertical-align: middle;\n",
       "    }\n",
       "\n",
       "    .dataframe tbody tr th {\n",
       "        vertical-align: top;\n",
       "    }\n",
       "\n",
       "    .dataframe thead th {\n",
       "        text-align: right;\n",
       "    }\n",
       "</style>\n",
       "<table border=\"1\" class=\"dataframe\">\n",
       "  <thead>\n",
       "    <tr style=\"text-align: right;\">\n",
       "      <th></th>\n",
       "      <th>conn len</th>\n",
       "      <th>service</th>\n",
       "      <th>src bytes</th>\n",
       "      <th>dst bytes</th>\n",
       "      <th>conn numb</th>\n",
       "      <th>Same srv rate</th>\n",
       "      <th>Serror rate</th>\n",
       "      <th>Srv serror rate</th>\n",
       "      <th>Dst host count</th>\n",
       "      <th>Dst host srv count</th>\n",
       "      <th>...</th>\n",
       "      <th>state_REJ</th>\n",
       "      <th>state_RSTO</th>\n",
       "      <th>state_RSTOS0</th>\n",
       "      <th>state_RSTR</th>\n",
       "      <th>state_RSTRH</th>\n",
       "      <th>state_S0</th>\n",
       "      <th>state_S1</th>\n",
       "      <th>state_SF</th>\n",
       "      <th>state_SH</th>\n",
       "      <th>state_SHR</th>\n",
       "    </tr>\n",
       "  </thead>\n",
       "  <tbody>\n",
       "    <tr>\n",
       "      <th>217618</th>\n",
       "      <td>0.410043</td>\n",
       "      <td>other</td>\n",
       "      <td>150</td>\n",
       "      <td>0</td>\n",
       "      <td>0</td>\n",
       "      <td>0.0</td>\n",
       "      <td>0.0</td>\n",
       "      <td>1.0</td>\n",
       "      <td>0</td>\n",
       "      <td>0</td>\n",
       "      <td>...</td>\n",
       "      <td>0</td>\n",
       "      <td>0</td>\n",
       "      <td>0</td>\n",
       "      <td>0</td>\n",
       "      <td>0</td>\n",
       "      <td>1</td>\n",
       "      <td>0</td>\n",
       "      <td>0</td>\n",
       "      <td>0</td>\n",
       "      <td>0</td>\n",
       "    </tr>\n",
       "    <tr>\n",
       "      <th>217619</th>\n",
       "      <td>0.000000</td>\n",
       "      <td>other</td>\n",
       "      <td>0</td>\n",
       "      <td>0</td>\n",
       "      <td>0</td>\n",
       "      <td>0.0</td>\n",
       "      <td>0.0</td>\n",
       "      <td>1.0</td>\n",
       "      <td>0</td>\n",
       "      <td>0</td>\n",
       "      <td>...</td>\n",
       "      <td>0</td>\n",
       "      <td>0</td>\n",
       "      <td>0</td>\n",
       "      <td>0</td>\n",
       "      <td>0</td>\n",
       "      <td>0</td>\n",
       "      <td>0</td>\n",
       "      <td>0</td>\n",
       "      <td>0</td>\n",
       "      <td>0</td>\n",
       "    </tr>\n",
       "    <tr>\n",
       "      <th>217620</th>\n",
       "      <td>1.215994</td>\n",
       "      <td>other</td>\n",
       "      <td>60</td>\n",
       "      <td>0</td>\n",
       "      <td>0</td>\n",
       "      <td>0.0</td>\n",
       "      <td>0.0</td>\n",
       "      <td>0.0</td>\n",
       "      <td>0</td>\n",
       "      <td>0</td>\n",
       "      <td>...</td>\n",
       "      <td>0</td>\n",
       "      <td>0</td>\n",
       "      <td>0</td>\n",
       "      <td>0</td>\n",
       "      <td>0</td>\n",
       "      <td>1</td>\n",
       "      <td>0</td>\n",
       "      <td>0</td>\n",
       "      <td>0</td>\n",
       "      <td>0</td>\n",
       "    </tr>\n",
       "    <tr>\n",
       "      <th>217621</th>\n",
       "      <td>0.000000</td>\n",
       "      <td>dns</td>\n",
       "      <td>0</td>\n",
       "      <td>0</td>\n",
       "      <td>0</td>\n",
       "      <td>0.0</td>\n",
       "      <td>0.0</td>\n",
       "      <td>0.0</td>\n",
       "      <td>0</td>\n",
       "      <td>0</td>\n",
       "      <td>...</td>\n",
       "      <td>0</td>\n",
       "      <td>0</td>\n",
       "      <td>0</td>\n",
       "      <td>0</td>\n",
       "      <td>0</td>\n",
       "      <td>1</td>\n",
       "      <td>0</td>\n",
       "      <td>0</td>\n",
       "      <td>0</td>\n",
       "      <td>0</td>\n",
       "    </tr>\n",
       "    <tr>\n",
       "      <th>217622</th>\n",
       "      <td>0.000000</td>\n",
       "      <td>other</td>\n",
       "      <td>0</td>\n",
       "      <td>0</td>\n",
       "      <td>0</td>\n",
       "      <td>0.0</td>\n",
       "      <td>0.0</td>\n",
       "      <td>1.0</td>\n",
       "      <td>0</td>\n",
       "      <td>0</td>\n",
       "      <td>...</td>\n",
       "      <td>0</td>\n",
       "      <td>0</td>\n",
       "      <td>0</td>\n",
       "      <td>0</td>\n",
       "      <td>0</td>\n",
       "      <td>1</td>\n",
       "      <td>0</td>\n",
       "      <td>0</td>\n",
       "      <td>0</td>\n",
       "      <td>0</td>\n",
       "    </tr>\n",
       "    <tr>\n",
       "      <th>217623</th>\n",
       "      <td>0.000000</td>\n",
       "      <td>other</td>\n",
       "      <td>0</td>\n",
       "      <td>0</td>\n",
       "      <td>1</td>\n",
       "      <td>1.0</td>\n",
       "      <td>1.0</td>\n",
       "      <td>1.0</td>\n",
       "      <td>0</td>\n",
       "      <td>1</td>\n",
       "      <td>...</td>\n",
       "      <td>0</td>\n",
       "      <td>0</td>\n",
       "      <td>0</td>\n",
       "      <td>0</td>\n",
       "      <td>0</td>\n",
       "      <td>1</td>\n",
       "      <td>0</td>\n",
       "      <td>0</td>\n",
       "      <td>0</td>\n",
       "      <td>0</td>\n",
       "    </tr>\n",
       "    <tr>\n",
       "      <th>217624</th>\n",
       "      <td>0.000000</td>\n",
       "      <td>other</td>\n",
       "      <td>0</td>\n",
       "      <td>0</td>\n",
       "      <td>0</td>\n",
       "      <td>0.0</td>\n",
       "      <td>0.0</td>\n",
       "      <td>1.0</td>\n",
       "      <td>2</td>\n",
       "      <td>2</td>\n",
       "      <td>...</td>\n",
       "      <td>0</td>\n",
       "      <td>0</td>\n",
       "      <td>0</td>\n",
       "      <td>0</td>\n",
       "      <td>0</td>\n",
       "      <td>1</td>\n",
       "      <td>0</td>\n",
       "      <td>0</td>\n",
       "      <td>0</td>\n",
       "      <td>0</td>\n",
       "    </tr>\n",
       "    <tr>\n",
       "      <th>217625</th>\n",
       "      <td>0.000000</td>\n",
       "      <td>other</td>\n",
       "      <td>0</td>\n",
       "      <td>0</td>\n",
       "      <td>0</td>\n",
       "      <td>0.0</td>\n",
       "      <td>0.0</td>\n",
       "      <td>1.0</td>\n",
       "      <td>0</td>\n",
       "      <td>0</td>\n",
       "      <td>...</td>\n",
       "      <td>0</td>\n",
       "      <td>0</td>\n",
       "      <td>0</td>\n",
       "      <td>0</td>\n",
       "      <td>0</td>\n",
       "      <td>1</td>\n",
       "      <td>0</td>\n",
       "      <td>0</td>\n",
       "      <td>0</td>\n",
       "      <td>0</td>\n",
       "    </tr>\n",
       "    <tr>\n",
       "      <th>217626</th>\n",
       "      <td>0.000000</td>\n",
       "      <td>other</td>\n",
       "      <td>0</td>\n",
       "      <td>0</td>\n",
       "      <td>1</td>\n",
       "      <td>1.0</td>\n",
       "      <td>1.0</td>\n",
       "      <td>1.0</td>\n",
       "      <td>0</td>\n",
       "      <td>1</td>\n",
       "      <td>...</td>\n",
       "      <td>0</td>\n",
       "      <td>0</td>\n",
       "      <td>0</td>\n",
       "      <td>0</td>\n",
       "      <td>0</td>\n",
       "      <td>1</td>\n",
       "      <td>0</td>\n",
       "      <td>0</td>\n",
       "      <td>0</td>\n",
       "      <td>0</td>\n",
       "    </tr>\n",
       "    <tr>\n",
       "      <th>217627</th>\n",
       "      <td>0.000000</td>\n",
       "      <td>other</td>\n",
       "      <td>0</td>\n",
       "      <td>0</td>\n",
       "      <td>0</td>\n",
       "      <td>0.0</td>\n",
       "      <td>0.0</td>\n",
       "      <td>1.0</td>\n",
       "      <td>0</td>\n",
       "      <td>0</td>\n",
       "      <td>...</td>\n",
       "      <td>0</td>\n",
       "      <td>0</td>\n",
       "      <td>0</td>\n",
       "      <td>0</td>\n",
       "      <td>0</td>\n",
       "      <td>1</td>\n",
       "      <td>0</td>\n",
       "      <td>0</td>\n",
       "      <td>0</td>\n",
       "      <td>0</td>\n",
       "    </tr>\n",
       "  </tbody>\n",
       "</table>\n",
       "<p>10 rows × 238 columns</p>\n",
       "</div>"
      ],
      "text/plain": [
       "        conn len service  src bytes  dst bytes  conn numb  Same srv rate  \\\n",
       "217618  0.410043   other        150          0          0            0.0   \n",
       "217619  0.000000   other          0          0          0            0.0   \n",
       "217620  1.215994   other         60          0          0            0.0   \n",
       "217621  0.000000     dns          0          0          0            0.0   \n",
       "217622  0.000000   other          0          0          0            0.0   \n",
       "217623  0.000000   other          0          0          1            1.0   \n",
       "217624  0.000000   other          0          0          0            0.0   \n",
       "217625  0.000000   other          0          0          0            0.0   \n",
       "217626  0.000000   other          0          0          1            1.0   \n",
       "217627  0.000000   other          0          0          0            0.0   \n",
       "\n",
       "        Serror rate  Srv serror rate  Dst host count  Dst host srv count  \\\n",
       "217618          0.0              1.0               0                   0   \n",
       "217619          0.0              1.0               0                   0   \n",
       "217620          0.0              0.0               0                   0   \n",
       "217621          0.0              0.0               0                   0   \n",
       "217622          0.0              1.0               0                   0   \n",
       "217623          1.0              1.0               0                   1   \n",
       "217624          0.0              1.0               2                   2   \n",
       "217625          0.0              1.0               0                   0   \n",
       "217626          1.0              1.0               0                   1   \n",
       "217627          0.0              1.0               0                   0   \n",
       "\n",
       "          ...      state_REJ  state_RSTO  state_RSTOS0 state_RSTR  \\\n",
       "217618    ...              0           0             0          0   \n",
       "217619    ...              0           0             0          0   \n",
       "217620    ...              0           0             0          0   \n",
       "217621    ...              0           0             0          0   \n",
       "217622    ...              0           0             0          0   \n",
       "217623    ...              0           0             0          0   \n",
       "217624    ...              0           0             0          0   \n",
       "217625    ...              0           0             0          0   \n",
       "217626    ...              0           0             0          0   \n",
       "217627    ...              0           0             0          0   \n",
       "\n",
       "        state_RSTRH state_S0 state_S1 state_SF  state_SH  state_SHR  \n",
       "217618            0        1        0        0         0          0  \n",
       "217619            0        0        0        0         0          0  \n",
       "217620            0        1        0        0         0          0  \n",
       "217621            0        1        0        0         0          0  \n",
       "217622            0        1        0        0         0          0  \n",
       "217623            0        1        0        0         0          0  \n",
       "217624            0        1        0        0         0          0  \n",
       "217625            0        1        0        0         0          0  \n",
       "217626            0        1        0        0         0          0  \n",
       "217627            0        1        0        0         0          0  \n",
       "\n",
       "[10 rows x 238 columns]"
      ]
     },
     "execution_count": 63,
     "metadata": {},
     "output_type": "execute_result"
    }
   ],
   "source": [
    "### hot one encoding ###\n",
    "\n",
    "# hot one encoding for service\n",
    "data = pd.concat([data, pd.get_dummies(data[\"service\"], prefix=\"is\")], axis=1)\n",
    "data.tail(10)\n",
    "\n",
    "#hot one encoding for proto - commented due to reduced column number\n",
    "data = pd.concat([data, pd.get_dummies(data[\"proto\"], prefix=\"is\")], axis=1)\n",
    "data.tail(10)\n",
    "\n",
    "# hot one encoding for conn state\n",
    "data = pd.concat([data, pd.get_dummies(data[\"Conn state\"], prefix=\"state\")], axis=1)\n",
    "data.tail(10)"
   ]
  },
  {
   "cell_type": "code",
   "execution_count": 64,
   "metadata": {},
   "outputs": [
    {
     "name": "stdout",
     "output_type": "stream",
     "text": [
      "<class 'pandas.core.frame.DataFrame'>\n",
      "Int64Index: 217628 entries, 0 to 217627\n",
      "Columns: 238 entries, conn len to state_SHR\n",
      "dtypes: float64(7), int64(9), object(5), uint8(217)\n",
      "memory usage: 81.6+ MB\n"
     ]
    }
   ],
   "source": [
    "data.info()"
   ]
  },
  {
   "cell_type": "markdown",
   "metadata": {},
   "source": [
    "## Plot function definition"
   ]
  },
  {
   "cell_type": "code",
   "execution_count": 65,
   "metadata": {},
   "outputs": [],
   "source": [
    "# plotting method definition\n",
    "\n",
    "def plot_stats(stat, name, width, rot):\n",
    "    fig, ax = plt.subplots(figsize=(width, 4))    \n",
    "    ax.bar(range(len(stat)), list(stat.values()), align='center')\n",
    "    plt.xticks(range(len(stat)), list(stat.keys()), rotation=rot)\n",
    "    for a,b in enumerate(stat.items()):\n",
    "        ax.text(a, b[1] + max(stat.values())/60 , str(round(b[1],5)), horizontalalignment ='center', verticalalignment='baseline')\n",
    "    ax.spines['right'].set_visible(False)\n",
    "    ax.spines['top'].set_visible(False)\n",
    "    plt.title(name + \" of tested algorithms\")\n",
    "    plt.show()"
   ]
  },
  {
   "cell_type": "markdown",
   "metadata": {},
   "source": [
    "## Dataset split"
   ]
  },
  {
   "cell_type": "code",
   "execution_count": 66,
   "metadata": {},
   "outputs": [
    {
     "name": "stdout",
     "output_type": "stream",
     "text": [
      "Counter({0: 14952, 1: 7548})\n",
      "Counter({1: 14607, 0: 7893})\n",
      "Counter({1: 86179, 0: 18821})\n"
     ]
    }
   ],
   "source": [
    "data[\"src port\"] = data[\"src port\"].apply(str)\n",
    "data[\"dst port\"] = data[\"dst port\"].apply(str)\n",
    "\n",
    "data.rename(columns={'Dst host count': 'Dst_host_count', \"Dst host srv count\" : \"Dst_host_srv_count\",\n",
    "                    \"Dst host same src port rate\" : \"Dst_host_same_src_port_rate\",\n",
    "                    \"Dst host serror rate\" : \"Dst_host_serror_rate\",\n",
    "                    \"Dst host srv serror rate\" : \"Dst_host_srv_serror_rate\",\n",
    "                    \"Same srv rate\" : \"Same_srv_rate\",\n",
    "                    \"Srv serror rate\" : \"Srv_serror_rate\",\n",
    "                    \"conn len\" : \"conn_len\",\n",
    "                    \"src bytes\" : \"src_bytes\",\n",
    "                    \"dst bytes\" : \"dst_bytes\",\n",
    "                    \"conn numb\" : \"conn_numb\",\n",
    "                    \"Serror rate\" : \"Serror_rate\",\n",
    "                    \"cli src pool\" : \"cli_src_pool\",\n",
    "                    \"registered src pool\" : \"registered_src_pool\",\n",
    "                    \"well-known src pool\" : \"well_known_src_pool\",\n",
    "                    \"dst port\" : \"dst_port\",\n",
    "                    \"src port\" : \"src_port\",\n",
    "                     \"Conn state\" : \"Conn_state\" \n",
    "                    }, inplace=True)\n",
    "\n",
    "sampled_data = data.loc[range(150000), :]\n",
    "\n",
    "train_alg, validate_alg, test_alg = np.split(sampled_data, [int(.7*len(sampled_data)), int(.85*len(sampled_data))])\n",
    "\n",
    "train_alg = train_alg.drop([\"service\", \"Conn_state\", \"proto\", \"src_port\", \"dst_port\"], axis=1)\n",
    "validate_alg = validate_alg.drop([\"service\", \"Conn_state\", \"proto\", \"src_port\", \"dst_port\"], axis=1)\n",
    "test_alg = test_alg.drop([\"service\", \"Conn_state\", \"proto\", \"src_port\", \"dst_port\"], axis=1)\n",
    "\n",
    "train_alg = train_alg.sample(frac=1)\n",
    "validate_alg = validate_alg.sample(frac=1)\n",
    "test_alg = test_alg.sample(frac=1)\n",
    "\n",
    "y_train_alg = train_alg.loc[:, \"attack_flag\"].values.ravel()\n",
    "X_train_alg = train_alg.drop([\"attack_flag\"], axis=1).astype(np.float32)\n",
    "y_validate_alg = validate_alg.loc[:, \"attack_flag\"].values.ravel()\n",
    "X_validate_alg = validate_alg.drop([\"attack_flag\"], axis=1).astype(np.float32)\n",
    "y_test_alg = test_alg.loc[:, \"attack_flag\"].values.ravel()\n",
    "X_test_alg = test_alg.drop([\"attack_flag\"], axis=1).astype(np.float32)\n",
    "\n",
    "print(Counter(y_test_alg))\n",
    "print(Counter(y_validate_alg))\n",
    "print(Counter(y_train_alg))"
   ]
  },
  {
   "cell_type": "code",
   "execution_count": 67,
   "metadata": {},
   "outputs": [
    {
     "name": "stdout",
     "output_type": "stream",
     "text": [
      "Counter({1: 30946, 0: 1699})\n",
      "Counter({0: 22937, 1: 9707})\n",
      "Counter({1: 109262, 0: 43077})\n"
     ]
    }
   ],
   "source": [
    "train, validate, test = np.split(data, [int(.7*len(data)), int(.85*len(data))])\n",
    "\n",
    "train_ex = train\n",
    "validate_ex = validate\n",
    "test_ex = test\n",
    "\n",
    "train = train.drop([\"service\", \"Conn_state\", \"proto\", \"src_port\", \"dst_port\"], axis=1)\n",
    "validate = validate.drop([\"service\", \"Conn_state\", \"proto\", \"src_port\", \"dst_port\"], axis=1)\n",
    "test = test.drop([\"service\", \"Conn_state\", \"proto\", \"src_port\", \"dst_port\"], axis=1)\n",
    "\n",
    "train = train.sample(frac=1)\n",
    "validate = validate.sample(frac=1)\n",
    "test = test.sample(frac=1)\n",
    "\n",
    "y_train = train.loc[:, \"attack_flag\"].values.ravel()\n",
    "X_train = train.drop([\"attack_flag\"], axis=1).astype(np.float32)\n",
    "y_validate = validate.loc[:, \"attack_flag\"].values.ravel()\n",
    "X_validate = validate.drop([\"attack_flag\"], axis=1).astype(np.float32)\n",
    "y_test = test.loc[:, \"attack_flag\"].values.ravel()\n",
    "X_test = test.drop([\"attack_flag\"], axis=1).astype(np.float32)\n",
    "\n",
    "print(Counter(y_test))\n",
    "print(Counter(y_validate))\n",
    "print(Counter(y_train))"
   ]
  },
  {
   "cell_type": "markdown",
   "metadata": {},
   "source": [
    "# Algoritms performance comparison"
   ]
  },
  {
   "cell_type": "code",
   "execution_count": 68,
   "metadata": {},
   "outputs": [
    {
     "name": "stdout",
     "output_type": "stream",
     "text": [
      "Counter({1: 30946, 0: 1699})\n"
     ]
    }
   ],
   "source": [
    "from collections import Counter\n",
    "\n",
    "print(Counter(y_test))\n",
    "\n",
    "Acc = {}\n",
    "F1S = {}\n",
    "Prec = {}\n",
    "Rec = {}\n",
    "FPR = {}"
   ]
  },
  {
   "cell_type": "code",
   "execution_count": 69,
   "metadata": {},
   "outputs": [
    {
     "name": "stdout",
     "output_type": "stream",
     "text": [
      "Algorithm: baseline     Accuracy: 0.94796, F1-score: 0.97328, Precision: 0.94796, Recall: 1.00000, FPR: 1.00000\n",
      "TN:   0; FP: 1699; FN:    0; TP: 30946\n",
      "\n"
     ]
    }
   ],
   "source": [
    "# Metrics of baseline method\n",
    "from sklearn import metrics\n",
    "\n",
    "name = \"baseline\"\n",
    "\n",
    "if(y_test.mean() > (1-y_test.mean())):\n",
    "    y_pred = np.ones(len(y_test)).ravel() \n",
    "else:\n",
    "    y_pred = np.zeros(len(y_test)).ravel() \n",
    "    \n",
    "Acc[name] = metrics.accuracy_score(y_test, y_pred)\n",
    "F1S[name] = metrics.f1_score(y_test, y_pred)\n",
    "Prec[name] = metrics.precision_score(y_test, y_pred)\n",
    "Rec[name] = metrics.recall_score(y_test, y_pred)\n",
    "tn, fp, fn, tp = metrics.confusion_matrix(y_test, y_pred).ravel()\n",
    "FPR[name] = fp/(fp+tn)\n",
    "\n",
    "print(\"Algorithm: {0:12} Accuracy: {1:.5f}, F1-score: {2:.5f}, Precision: {3:.5f}, Recall: {4:.5f}, FPR: {5:.5f}\".format(name, Acc[name], F1S[name], Prec[name], Rec[name], FPR[name]))\n",
    "print(\"TN: {0:3}; FP: {1:3}; FN: {2:4}; TP: {3:3}\\n\".format(tn, fp, fn, tp))"
   ]
  },
  {
   "cell_type": "code",
   "execution_count": 70,
   "metadata": {},
   "outputs": [
    {
     "name": "stdout",
     "output_type": "stream",
     "text": [
      "Algorithm: logistic Regression Accuracy: 0.97326, F1-score: 0.98587, Precision: 0.98780, Recall: 0.98394, FPR: 0.22131\n",
      "TN: 1323; FP: 376; FN:  497; TP: 30449\n",
      "\n"
     ]
    }
   ],
   "source": [
    "from sklearn.linear_model import LogisticRegression\n",
    "from sklearn import metrics\n",
    "\n",
    "clf = LogisticRegression(solver = 'newton-cg')\n",
    "\n",
    "model = clf.fit(X_train, y_train)\n",
    "\n",
    "y_pred = model.predict(X_test)\n",
    "\n",
    "name = \"logistic Regression\"\n",
    "\n",
    "Acc[name] = metrics.accuracy_score(y_test, y_pred)\n",
    "F1S[name] = metrics.f1_score(y_test, y_pred)\n",
    "Prec[name] = metrics.precision_score(y_test, y_pred)\n",
    "Rec[name] = metrics.recall_score(y_test, y_pred)\n",
    "tn, fp, fn, tp = metrics.confusion_matrix(y_test, y_pred).ravel()\n",
    "FPR[name] = fp/(fp+tn)\n",
    "\n",
    "print(\"Algorithm: {0:12} Accuracy: {1:.5f}, F1-score: {2:.5f}, Precision: {3:.5f}, Recall: {4:.5f}, FPR: {5:.5f}\".format(name, Acc[name], F1S[name], Prec[name], Rec[name], FPR[name]))\n",
    "print(\"TN: {0:3}; FP: {1:3}; FN: {2:4}; TP: {3:3}\\n\".format(tn, fp, fn, tp))"
   ]
  },
  {
   "cell_type": "code",
   "execution_count": 71,
   "metadata": {},
   "outputs": [
    {
     "name": "stdout",
     "output_type": "stream",
     "text": [
      "Algorithm: AdaBoost     Accuracy: 0.98766, F1-score: 0.99347, Precision: 0.99642, Recall: 0.99053, FPR: 0.06474\n",
      "TN: 1589; FP: 110; FN:  293; TP: 30653\n",
      "\n",
      "Algorithm: DecisionTree Accuracy: 0.98759, F1-score: 0.99343, Precision: 0.99707, Recall: 0.98982, FPR: 0.05297\n",
      "TN: 1609; FP:  90; FN:  315; TP: 30631\n",
      "\n",
      "Algorithm: NaiveBayes   Accuracy: 0.92755, F1-score: 0.96037, Precision: 0.99749, Recall: 0.92590, FPR: 0.04238\n",
      "TN: 1627; FP:  72; FN: 2293; TP: 28653\n",
      "\n",
      "Algorithm: RandomTree   Accuracy: 0.98453, F1-score: 0.99181, Precision: 0.99548, Recall: 0.98817, FPR: 0.08181\n",
      "TN: 1560; FP: 139; FN:  366; TP: 30580\n",
      "\n",
      "Algorithm: RandomForest Accuracy: 0.98821, F1-score: 0.99376, Precision: 0.99630, Recall: 0.99124, FPR: 0.06710\n",
      "TN: 1585; FP: 114; FN:  271; TP: 30675\n",
      "\n"
     ]
    }
   ],
   "source": [
    "from sklearn.ensemble import AdaBoostClassifier\n",
    "from sklearn.tree import DecisionTreeClassifier\n",
    "from sklearn.naive_bayes import GaussianNB\n",
    "from sklearn.ensemble import RandomForestClassifier\n",
    "from sklearn.linear_model import LogisticRegression\n",
    "from sklearn.pipeline import make_pipeline\n",
    "from sklearn.preprocessing import StandardScaler\n",
    "\n",
    "\n",
    "seed = 12\n",
    "num_trees = 45\n",
    "\n",
    "classifiers = {\n",
    "               \"AdaBoost\":AdaBoostClassifier(DecisionTreeClassifier(max_depth = 13), n_estimators=num_trees),\n",
    "               \"DecisionTree\":DecisionTreeClassifier(random_state=0, criterion = \"entropy\", max_depth = 13),\n",
    "               \"NaiveBayes\":GaussianNB(),\n",
    "               \"RandomTree\":DecisionTreeClassifier(random_state=0, splitter = \"random\", max_depth = 14),\n",
    "               \"RandomForest\":RandomForestClassifier(n_estimators=178, max_depth=31, random_state=0),\n",
    "}\n",
    "\n",
    "\n",
    "for name, clf in classifiers.items():\n",
    "    \n",
    "    model = clf.fit(X_train_alg, y_train_alg)\n",
    "    \n",
    "    y_pred = model.predict(X_test)\n",
    "    \n",
    "    Acc[name] = metrics.accuracy_score(y_test, y_pred)\n",
    "    F1S[name] = metrics.f1_score(y_test, y_pred)\n",
    "    Prec[name] = metrics.precision_score(y_test, y_pred)\n",
    "    Rec[name] = metrics.recall_score(y_test, y_pred)\n",
    "    tn, fp, fn, tp = metrics.confusion_matrix(y_test, y_pred).ravel()\n",
    "    FPR[name] = fp/(fp+tn)\n",
    "    \n",
    "    print(\"Algorithm: {0:12} Accuracy: {1:.5f}, F1-score: {2:.5f}, Precision: {3:.5f}, Recall: {4:.5f}, FPR: {5:.5f}\".format(name, Acc[name], F1S[name], Prec[name], Rec[name], FPR[name]))\n",
    "    print(\"TN: {0:3}; FP: {1:3}; FN: {2:4}; TP: {3:3}\\n\".format(tn, fp, fn, tp))"
   ]
  },
  {
   "cell_type": "code",
   "execution_count": 72,
   "metadata": {},
   "outputs": [
    {
     "data": {
      "image/png": "[encoded data removed]",
      "text/plain": [
       "<matplotlib.figure.Figure at 0x7fb0339d6748>"
      ]
     },
     "metadata": {
      "needs_background": "light"
     },
     "output_type": "display_data"
    },
    {
     "data": {
      "image/png": "[encoded data removed]",
      "text/plain": [
       "<matplotlib.figure.Figure at 0x7fb062837dd8>"
      ]
     },
     "metadata": {
      "needs_background": "light"
     },
     "output_type": "display_data"
    },
    {
     "data": {
      "image/png": "[encoded data removed]",
      "text/plain": [
       "<matplotlib.figure.Figure at 0x7fb059ddf438>"
      ]
     },
     "metadata": {
      "needs_background": "light"
     },
     "output_type": "display_data"
    },
    {
     "data": {
      "image/png": "[encoded data removed]",
      "text/plain": [
       "<matplotlib.figure.Figure at 0x7fb0627994e0>"
      ]
     },
     "metadata": {
      "needs_background": "light"
     },
     "output_type": "display_data"
    },
    {
     "data": {
      "image/png": "[encoded data removed]",
      "text/plain": [
       "<matplotlib.figure.Figure at 0x7fb0619472e8>"
      ]
     },
     "metadata": {
      "needs_background": "light"
     },
     "output_type": "display_data"
    }
   ],
   "source": [
    "plot_stats(Acc, \"Accuracy\", 8, 55)\n",
    "plot_stats(F1S, \"F1-score\", 8, 55)\n",
    "plot_stats(Prec, \"Precision\", 8, 55)\n",
    "plot_stats(Rec, \"Recall\", 8, 55)\n",
    "plot_stats(FPR, \"False Positive Rate\", 8, 55)"
   ]
  },
  {
   "cell_type": "markdown",
   "metadata": {},
   "source": [
    "# Random Features for Large-Scale Kernel Machines"
   ]
  },
  {
   "cell_type": "code",
   "execution_count": 73,
   "metadata": {},
   "outputs": [],
   "source": [
    "import numpy as np\n",
    "import tensorflow as tf\n",
    "import time"
   ]
  },
  {
   "cell_type": "code",
   "execution_count": 74,
   "metadata": {},
   "outputs": [
    {
     "data": {
      "text/plain": [
       "(152339, 232)"
      ]
     },
     "execution_count": 74,
     "metadata": {},
     "output_type": "execute_result"
    }
   ],
   "source": [
    "X_train.values.shape"
   ]
  },
  {
   "cell_type": "code",
   "execution_count": 75,
   "metadata": {},
   "outputs": [],
   "source": [
    "train_input_fn = tf.estimator.inputs.numpy_input_fn(    \n",
    "    x={\"features\": X_train.values},    \n",
    "    y=y_train,    \n",
    "    batch_size=180,    \n",
    "    num_epochs=None,    \n",
    "    shuffle=False)"
   ]
  },
  {
   "cell_type": "code",
   "execution_count": 76,
   "metadata": {},
   "outputs": [
    {
     "data": {
      "text/plain": [
       "(32644, 232)"
      ]
     },
     "execution_count": 76,
     "metadata": {},
     "output_type": "execute_result"
    }
   ],
   "source": [
    "X_validate.shape"
   ]
  },
  {
   "cell_type": "code",
   "execution_count": 77,
   "metadata": {},
   "outputs": [],
   "source": [
    "eval_input_fn = tf.estimator.inputs.numpy_input_fn(\n",
    "    x={\"features\": X_validate.values},\n",
    "    y=y_validate,\n",
    "    batch_size=X_validate.shape[0],\n",
    "    num_epochs=1,\n",
    "    shuffle=False)"
   ]
  },
  {
   "cell_type": "code",
   "execution_count": 78,
   "metadata": {},
   "outputs": [
    {
     "data": {
      "text/plain": [
       "(32645, 232)"
      ]
     },
     "execution_count": 78,
     "metadata": {},
     "output_type": "execute_result"
    }
   ],
   "source": [
    "X_test.shape"
   ]
  },
  {
   "cell_type": "code",
   "execution_count": 79,
   "metadata": {},
   "outputs": [],
   "source": [
    "test_input_fn = tf.estimator.inputs.numpy_input_fn(\n",
    "    x={\"features\": X_test.values},\n",
    "    y=y_test,\n",
    "    batch_size=X_test.shape[0],\n",
    "    num_epochs=1,\n",
    "    shuffle=False)"
   ]
  },
  {
   "cell_type": "markdown",
   "metadata": {},
   "source": [
    "## Using explicit kernel mappings with the linear model"
   ]
  },
  {
   "cell_type": "code",
   "execution_count": 80,
   "metadata": {},
   "outputs": [],
   "source": [
    "data.rename(columns={'Dst host count': 'Dst_host_count', \"Dst host srv count\" : \"Dst_host_srv_count\",\n",
    "                    \"Dst host same src port rate\" : \"Dst_host_same_src_port_rate\",\n",
    "                    \"Dst host serror rate\" : \"Dst_host_serror_rate\",\n",
    "                    \"Dst host srv serror rate\" : \"Dst_host_srv_serror_rate\",\n",
    "                    \"Same srv rate\" : \"Same_srv_rate\",\n",
    "                    \"Srv serror rate\" : \"Srv_serror_rate\",\n",
    "                    \"conn len\" : \"conn_len\",\n",
    "                    \"src bytes\" : \"src_bytes\",\n",
    "                    \"dst bytes\" : \"dst_bytes\",\n",
    "                    \"conn numb\" : \"conn_numb\",\n",
    "                    \"Serror rate\" : \"Serror_rate\",\n",
    "                    \"cli src pool\" : \"cli_src_pool\",\n",
    "                    \"registered src pool\" : \"registered_src_pool\",\n",
    "                    \"well-known src pool\" : \"well_known_src_pool\", \n",
    "                    \"dst port\" : \"dst_port\",\n",
    "                    \"src port\" : \"src_port\",\n",
    "                    \"Conn state\" : \"Conn_state\" \n",
    "                    }, inplace=True)"
   ]
  },
  {
   "cell_type": "code",
   "execution_count": 81,
   "metadata": {},
   "outputs": [],
   "source": [
    "feat_column = tf.contrib.layers.real_valued_column('features', dimension=len(X_train.columns.values))"
   ]
  },
  {
   "cell_type": "code",
   "execution_count": 82,
   "metadata": {},
   "outputs": [],
   "source": [
    "kernel_mapper = tf.contrib.kernel_methods.RandomFourierFeatureMapper(input_dim=len(X_train.columns.values), output_dim=5000, stddev=5, name='rffm')"
   ]
  },
  {
   "cell_type": "code",
   "execution_count": 83,
   "metadata": {},
   "outputs": [],
   "source": [
    "kernel_mappers = {feat_column: [kernel_mapper]}"
   ]
  },
  {
   "cell_type": "code",
   "execution_count": 84,
   "metadata": {},
   "outputs": [
    {
     "name": "stdout",
     "output_type": "stream",
     "text": [
      "rm: cannot remove 'kernel_train': No such file or directory\r\n"
     ]
    }
   ],
   "source": [
    "! rm -r kernel_train"
   ]
  },
  {
   "cell_type": "code",
   "execution_count": 85,
   "metadata": {},
   "outputs": [],
   "source": [
    "optimizer = tf.train.FtrlOptimizer(learning_rate=25, l2_regularization_strength=0.001)"
   ]
  },
  {
   "cell_type": "code",
   "execution_count": 86,
   "metadata": {},
   "outputs": [
    {
     "name": "stdout",
     "output_type": "stream",
     "text": [
      "INFO:tensorflow:Using default config.\n",
      "INFO:tensorflow:Using config: {'_task_type': None, '_task_id': 0, '_cluster_spec': <tensorflow.python.training.server_lib.ClusterSpec object at 0x7fb06b7c82b0>, '_master': '', '_num_ps_replicas': 0, '_num_worker_replicas': 0, '_environment': 'local', '_is_chief': True, '_evaluation_master': '', '_train_distribute': None, '_eval_distribute': None, '_device_fn': None, '_tf_config': gpu_options {\n",
      "  per_process_gpu_memory_fraction: 1.0\n",
      "}\n",
      ", '_tf_random_seed': None, '_save_summary_steps': 100, '_save_checkpoints_secs': 600, '_log_step_count_steps': 100, '_protocol': None, '_session_config': None, '_save_checkpoints_steps': None, '_keep_checkpoint_max': 5, '_keep_checkpoint_every_n_hours': 10000, '_model_dir': 'kernel_train'}\n"
     ]
    }
   ],
   "source": [
    "estimator_kernel = tf.contrib.kernel_methods.KernelLinearClassifier(\n",
    "    n_classes=2,\n",
    "    optimizer=optimizer,\n",
    "    kernel_mappers=kernel_mappers, \n",
    "    model_dir=\"kernel_train\")"
   ]
  },
  {
   "cell_type": "code",
   "execution_count": 87,
   "metadata": {},
   "outputs": [
    {
     "name": "stdout",
     "output_type": "stream",
     "text": [
      "WARNING:tensorflow:Casting <dtype: 'int64'> labels to bool.\n",
      "WARNING:tensorflow:Casting <dtype: 'int64'> labels to bool.\n",
      "WARNING:tensorflow:Trapezoidal rule is known to produce incorrect PR-AUCs; please switch to \"careful_interpolation\" instead.\n",
      "WARNING:tensorflow:Trapezoidal rule is known to produce incorrect PR-AUCs; please switch to \"careful_interpolation\" instead.\n",
      "WARNING:tensorflow:From /home/matz/.local/lib/python3.6/site-packages/tensorflow/contrib/learn/python/learn/estimators/head.py:678: ModelFnOps.__new__ (from tensorflow.contrib.learn.python.learn.estimators.model_fn) is deprecated and will be removed in a future version.\n",
      "Instructions for updating:\n",
      "When switching to tf.estimator.Estimator, use tf.estimator.EstimatorSpec. You can use the `estimator_spec` method to create an equivalent one.\n",
      "INFO:tensorflow:Create CheckpointSaverHook.\n",
      "INFO:tensorflow:Graph was finalized.\n",
      "INFO:tensorflow:Running local_init_op.\n",
      "INFO:tensorflow:Done running local_init_op.\n",
      "WARNING:tensorflow:From /home/matz/.local/lib/python3.6/site-packages/tensorflow/python/training/monitored_session.py:804: start_queue_runners (from tensorflow.python.training.queue_runner_impl) is deprecated and will be removed in a future version.\n",
      "Instructions for updating:\n",
      "To construct input pipelines, use the `tf.data` module.\n",
      "INFO:tensorflow:Saving checkpoints for 0 into kernel_train/model.ckpt.\n",
      "INFO:tensorflow:loss = 0.6931474, step = 1\n",
      "INFO:tensorflow:global_step/sec: 39.2213\n",
      "INFO:tensorflow:loss = 0.07988095, step = 101 (2.553 sec)\n",
      "INFO:tensorflow:global_step/sec: 37.7658\n",
      "INFO:tensorflow:loss = 0.057781372, step = 201 (2.650 sec)\n",
      "INFO:tensorflow:global_step/sec: 37.0683\n",
      "INFO:tensorflow:loss = 0.053050008, step = 301 (2.696 sec)\n",
      "INFO:tensorflow:global_step/sec: 38.1226\n",
      "INFO:tensorflow:loss = 0.0719365, step = 401 (2.626 sec)\n",
      "INFO:tensorflow:global_step/sec: 38.636\n",
      "INFO:tensorflow:loss = 0.013180175, step = 501 (2.585 sec)\n",
      "INFO:tensorflow:global_step/sec: 37.3193\n",
      "INFO:tensorflow:loss = 0.07475546, step = 601 (2.680 sec)\n",
      "INFO:tensorflow:global_step/sec: 41.7041\n",
      "INFO:tensorflow:loss = 0.03964839, step = 701 (2.397 sec)\n",
      "INFO:tensorflow:global_step/sec: 41.5112\n",
      "INFO:tensorflow:loss = 0.008967825, step = 801 (2.409 sec)\n",
      "INFO:tensorflow:global_step/sec: 41.5676\n",
      "INFO:tensorflow:loss = 0.03914883, step = 901 (2.407 sec)\n",
      "INFO:tensorflow:global_step/sec: 41.7828\n",
      "INFO:tensorflow:loss = 0.038985904, step = 1001 (2.392 sec)\n",
      "INFO:tensorflow:global_step/sec: 41.7803\n",
      "INFO:tensorflow:loss = 0.0056206603, step = 1101 (2.394 sec)\n",
      "INFO:tensorflow:global_step/sec: 41.8033\n",
      "INFO:tensorflow:loss = 0.013285442, step = 1201 (2.393 sec)\n",
      "INFO:tensorflow:global_step/sec: 38.4794\n",
      "INFO:tensorflow:loss = 0.015250406, step = 1301 (2.598 sec)\n",
      "INFO:tensorflow:global_step/sec: 35.9383\n",
      "INFO:tensorflow:loss = 0.01752432, step = 1401 (2.784 sec)\n",
      "INFO:tensorflow:global_step/sec: 35.7852\n",
      "INFO:tensorflow:loss = 0.050756093, step = 1501 (2.793 sec)\n",
      "INFO:tensorflow:global_step/sec: 37.0462\n",
      "INFO:tensorflow:loss = 0.071599536, step = 1601 (2.698 sec)\n",
      "INFO:tensorflow:global_step/sec: 35.5238\n",
      "INFO:tensorflow:loss = 0.014804805, step = 1701 (2.816 sec)\n",
      "INFO:tensorflow:global_step/sec: 37.3551\n",
      "INFO:tensorflow:loss = 0.026766833, step = 1801 (2.677 sec)\n",
      "INFO:tensorflow:global_step/sec: 41.7422\n",
      "INFO:tensorflow:loss = 0.03104686, step = 1901 (2.395 sec)\n",
      "INFO:tensorflow:global_step/sec: 41.7682\n",
      "INFO:tensorflow:loss = 0.016095737, step = 2001 (2.396 sec)\n",
      "INFO:tensorflow:global_step/sec: 41.5636\n",
      "INFO:tensorflow:loss = 0.007875901, step = 2101 (2.405 sec)\n",
      "INFO:tensorflow:global_step/sec: 41.8418\n",
      "INFO:tensorflow:loss = 0.056497637, step = 2201 (2.389 sec)\n",
      "INFO:tensorflow:global_step/sec: 41.6609\n",
      "INFO:tensorflow:loss = 0.0072344583, step = 2301 (2.401 sec)\n",
      "INFO:tensorflow:global_step/sec: 41.5641\n",
      "INFO:tensorflow:loss = 0.007832695, step = 2401 (2.406 sec)\n",
      "INFO:tensorflow:global_step/sec: 41.6238\n",
      "INFO:tensorflow:loss = 0.0028825495, step = 2501 (2.402 sec)\n",
      "INFO:tensorflow:global_step/sec: 41.6429\n",
      "INFO:tensorflow:loss = 0.03301631, step = 2601 (2.402 sec)\n",
      "INFO:tensorflow:global_step/sec: 41.6555\n",
      "INFO:tensorflow:loss = 0.027323052, step = 2701 (2.400 sec)\n",
      "INFO:tensorflow:global_step/sec: 41.5328\n",
      "INFO:tensorflow:loss = 0.00891132, step = 2801 (2.409 sec)\n",
      "INFO:tensorflow:global_step/sec: 41.557\n",
      "INFO:tensorflow:loss = 0.0075098937, step = 2901 (2.404 sec)\n",
      "INFO:tensorflow:global_step/sec: 38.9498\n",
      "INFO:tensorflow:loss = 0.0057440996, step = 3001 (2.568 sec)\n",
      "INFO:tensorflow:global_step/sec: 41.6222\n",
      "INFO:tensorflow:loss = 0.016295774, step = 3101 (2.402 sec)\n",
      "INFO:tensorflow:global_step/sec: 41.6731\n",
      "INFO:tensorflow:loss = 0.0049960036, step = 3201 (2.400 sec)\n",
      "INFO:tensorflow:global_step/sec: 41.0316\n",
      "INFO:tensorflow:loss = 0.0049290503, step = 3301 (2.437 sec)\n",
      "INFO:tensorflow:global_step/sec: 40.2045\n",
      "INFO:tensorflow:loss = 0.038226433, step = 3401 (2.487 sec)\n",
      "INFO:tensorflow:global_step/sec: 41.2048\n",
      "INFO:tensorflow:loss = 0.02936915, step = 3501 (2.427 sec)\n",
      "INFO:tensorflow:global_step/sec: 41.3025\n",
      "INFO:tensorflow:loss = 0.0032171565, step = 3601 (2.422 sec)\n",
      "INFO:tensorflow:global_step/sec: 40.2977\n",
      "INFO:tensorflow:loss = 0.004311378, step = 3701 (2.481 sec)\n",
      "INFO:tensorflow:global_step/sec: 39.3679\n",
      "INFO:tensorflow:loss = 0.009626302, step = 3801 (2.540 sec)\n",
      "INFO:tensorflow:global_step/sec: 41.5485\n",
      "INFO:tensorflow:loss = 0.004727058, step = 3901 (2.407 sec)\n",
      "INFO:tensorflow:global_step/sec: 41.7139\n",
      "INFO:tensorflow:loss = 0.04552923, step = 4001 (2.398 sec)\n",
      "INFO:tensorflow:global_step/sec: 38.934\n",
      "INFO:tensorflow:loss = 0.002781687, step = 4101 (2.568 sec)\n",
      "INFO:tensorflow:global_step/sec: 35.9044\n",
      "INFO:tensorflow:loss = 0.023735749, step = 4201 (2.785 sec)\n",
      "INFO:tensorflow:global_step/sec: 34.0419\n",
      "INFO:tensorflow:loss = 0.016042184, step = 4301 (2.938 sec)\n",
      "INFO:tensorflow:global_step/sec: 31.2687\n",
      "INFO:tensorflow:loss = 0.008925452, step = 4401 (3.200 sec)\n",
      "INFO:tensorflow:global_step/sec: 25.7476\n",
      "INFO:tensorflow:loss = 0.03755741, step = 4501 (3.881 sec)\n",
      "INFO:tensorflow:global_step/sec: 31.0523\n",
      "INFO:tensorflow:loss = 0.033951487, step = 4601 (3.221 sec)\n",
      "INFO:tensorflow:global_step/sec: 40.1172\n",
      "INFO:tensorflow:loss = 0.0063179275, step = 4701 (2.495 sec)\n",
      "INFO:tensorflow:global_step/sec: 35.7617\n",
      "INFO:tensorflow:loss = 0.022944124, step = 4801 (2.795 sec)\n",
      "INFO:tensorflow:global_step/sec: 36.1491\n",
      "INFO:tensorflow:loss = 0.0068330234, step = 4901 (2.766 sec)\n",
      "INFO:tensorflow:global_step/sec: 35.0301\n",
      "INFO:tensorflow:loss = 0.0043950086, step = 5001 (2.856 sec)\n",
      "INFO:tensorflow:global_step/sec: 36.4526\n",
      "INFO:tensorflow:loss = 0.006494848, step = 5101 (2.743 sec)\n",
      "INFO:tensorflow:global_step/sec: 40.6512\n",
      "INFO:tensorflow:loss = 0.031628374, step = 5201 (2.459 sec)\n",
      "INFO:tensorflow:global_step/sec: 41.002\n",
      "INFO:tensorflow:loss = 0.010298431, step = 5301 (2.440 sec)\n",
      "INFO:tensorflow:global_step/sec: 38.4337\n",
      "INFO:tensorflow:loss = 0.003278995, step = 5401 (2.601 sec)\n",
      "INFO:tensorflow:global_step/sec: 37.316\n",
      "INFO:tensorflow:loss = 0.016483776, step = 5501 (2.680 sec)\n",
      "INFO:tensorflow:global_step/sec: 37.8358\n",
      "INFO:tensorflow:loss = 0.008875502, step = 5601 (2.646 sec)\n",
      "INFO:tensorflow:global_step/sec: 36.6184\n",
      "INFO:tensorflow:loss = 0.009829404, step = 5701 (2.727 sec)\n",
      "INFO:tensorflow:global_step/sec: 36.8297\n",
      "INFO:tensorflow:loss = 0.0036812096, step = 5801 (2.715 sec)\n",
      "INFO:tensorflow:global_step/sec: 40.1217\n",
      "INFO:tensorflow:loss = 0.01693582, step = 5901 (2.493 sec)\n",
      "INFO:tensorflow:global_step/sec: 36.5526\n",
      "INFO:tensorflow:loss = 0.004168428, step = 6001 (2.736 sec)\n",
      "INFO:tensorflow:global_step/sec: 37.1898\n",
      "INFO:tensorflow:loss = 0.0013073188, step = 6101 (2.689 sec)\n",
      "INFO:tensorflow:global_step/sec: 37.914\n",
      "INFO:tensorflow:loss = 0.05431948, step = 6201 (2.637 sec)\n",
      "INFO:tensorflow:global_step/sec: 34.4615\n",
      "INFO:tensorflow:loss = 0.009417039, step = 6301 (2.903 sec)\n",
      "INFO:tensorflow:global_step/sec: 38.0991\n",
      "INFO:tensorflow:loss = 0.0065768925, step = 6401 (2.624 sec)\n",
      "INFO:tensorflow:global_step/sec: 39.9552\n",
      "INFO:tensorflow:loss = 0.0070514805, step = 6501 (2.503 sec)\n",
      "INFO:tensorflow:global_step/sec: 40.0424\n",
      "INFO:tensorflow:loss = 0.006709998, step = 6601 (2.497 sec)\n",
      "INFO:tensorflow:global_step/sec: 38.5917\n",
      "INFO:tensorflow:loss = 0.044590358, step = 6701 (2.592 sec)\n",
      "INFO:tensorflow:global_step/sec: 39.7962\n"
     ]
    },
    {
     "name": "stdout",
     "output_type": "stream",
     "text": [
      "INFO:tensorflow:loss = 0.004632634, step = 6801 (2.513 sec)\n",
      "INFO:tensorflow:global_step/sec: 39.8526\n",
      "INFO:tensorflow:loss = 0.003310326, step = 6901 (2.509 sec)\n",
      "INFO:tensorflow:global_step/sec: 39.4654\n",
      "INFO:tensorflow:loss = 0.008506696, step = 7001 (2.533 sec)\n",
      "INFO:tensorflow:global_step/sec: 40.3279\n",
      "INFO:tensorflow:loss = 0.002865299, step = 7101 (2.480 sec)\n",
      "INFO:tensorflow:global_step/sec: 42.1691\n",
      "INFO:tensorflow:loss = 0.0029055132, step = 7201 (2.371 sec)\n",
      "INFO:tensorflow:global_step/sec: 40.8643\n",
      "INFO:tensorflow:loss = 0.007042889, step = 7301 (2.447 sec)\n",
      "INFO:tensorflow:global_step/sec: 42.0228\n",
      "INFO:tensorflow:loss = 0.004217498, step = 7401 (2.379 sec)\n",
      "INFO:tensorflow:global_step/sec: 38.8968\n",
      "INFO:tensorflow:loss = 0.007053073, step = 7501 (2.571 sec)\n",
      "INFO:tensorflow:global_step/sec: 38.0795\n",
      "INFO:tensorflow:loss = 0.033244506, step = 7601 (2.626 sec)\n",
      "INFO:tensorflow:global_step/sec: 33.3364\n",
      "INFO:tensorflow:loss = 0.008842484, step = 7701 (3.002 sec)\n",
      "INFO:tensorflow:global_step/sec: 33.7723\n",
      "INFO:tensorflow:loss = 0.049460445, step = 7801 (2.960 sec)\n",
      "INFO:tensorflow:global_step/sec: 32.8813\n",
      "INFO:tensorflow:loss = 0.008212094, step = 7901 (3.044 sec)\n",
      "INFO:tensorflow:Saving checkpoints for 8000 into kernel_train/model.ckpt.\n",
      "INFO:tensorflow:Loss for final step: 0.0045845155.\n"
     ]
    },
    {
     "data": {
      "text/plain": [
       "KernelLinearClassifier(params={'head': <tensorflow.contrib.learn.python.learn.estimators.head._BinaryLogisticHead object at 0x7fb06b7cfdd8>, 'feature_columns': {_RealValuedColumn(column_name='features_MAPPED', dimension=5000, default_value=None, dtype=tf.float32, normalizer=None)}, 'optimizer': <tensorflow.python.training.ftrl.FtrlOptimizer object at 0x7fb0339eba20>, 'kernel_mappers': {_RealValuedColumn(column_name='features', dimension=232, default_value=None, dtype=tf.float32, normalizer=None): [<tensorflow.contrib.kernel_methods.python.mappers.random_fourier_features.RandomFourierFeatureMapper object at 0x7fb062d3e940>]}})"
      ]
     },
     "execution_count": 87,
     "metadata": {},
     "output_type": "execute_result"
    }
   ],
   "source": [
    "estimator_kernel.fit(input_fn=train_input_fn, steps=8000)"
   ]
  },
  {
   "cell_type": "code",
   "execution_count": 88,
   "metadata": {},
   "outputs": [
    {
     "name": "stdout",
     "output_type": "stream",
     "text": [
      "WARNING:tensorflow:Casting <dtype: 'int64'> labels to bool.\n",
      "WARNING:tensorflow:Casting <dtype: 'int64'> labels to bool.\n",
      "WARNING:tensorflow:Trapezoidal rule is known to produce incorrect PR-AUCs; please switch to \"careful_interpolation\" instead.\n",
      "WARNING:tensorflow:Trapezoidal rule is known to produce incorrect PR-AUCs; please switch to \"careful_interpolation\" instead.\n",
      "INFO:tensorflow:Starting evaluation at 2019-05-21-18:38:11\n",
      "INFO:tensorflow:Graph was finalized.\n",
      "INFO:tensorflow:Restoring parameters from kernel_train/model.ckpt-8000\n",
      "INFO:tensorflow:Running local_init_op.\n",
      "INFO:tensorflow:Done running local_init_op.\n",
      "INFO:tensorflow:Evaluation [1/1]\n",
      "INFO:tensorflow:Finished evaluation at 2019-05-21-18:38:17\n",
      "INFO:tensorflow:Saving dict for global step 8000: accuracy = 0.9984377, accuracy/baseline_label_mean = 0.2973594, accuracy/threshold_0.500000_mean = 0.9984377, auc = 0.99984205, auc_precision_recall = 0.9995945, global_step = 8000, labels/actual_label_mean = 0.2973594, labels/prediction_mean = 0.29789275, loss = 0.006917704, precision/positive_threshold_0.500000_mean = 0.9954844, recall/positive_threshold_0.500000_mean = 0.99927884\n"
     ]
    }
   ],
   "source": [
    "eval_metrics = estimator_kernel.evaluate(input_fn=eval_input_fn, steps=1)"
   ]
  },
  {
   "cell_type": "code",
   "execution_count": 89,
   "metadata": {},
   "outputs": [
    {
     "name": "stdout",
     "output_type": "stream",
     "text": [
      "accuracy: 0.9984377\n",
      "accuracy/baseline_label_mean: 0.2973594\n",
      "accuracy/threshold_0.500000_mean: 0.9984377\n",
      "auc: 0.99984205\n",
      "auc_precision_recall: 0.9995945\n",
      "global_step: 8000\n",
      "labels/actual_label_mean: 0.2973594\n",
      "labels/prediction_mean: 0.29789275\n",
      "loss: 0.006917704\n",
      "precision/positive_threshold_0.500000_mean: 0.9954844\n",
      "recall/positive_threshold_0.500000_mean: 0.99927884\n"
     ]
    }
   ],
   "source": [
    "for key,value in sorted(eval_metrics.items()):\n",
    "  print('%s: %s' % (key, value))"
   ]
  },
  {
   "cell_type": "code",
   "execution_count": 90,
   "metadata": {},
   "outputs": [],
   "source": [
    "correctness = []\n",
    "class_id = []\n",
    "pred_iterator = None"
   ]
  },
  {
   "cell_type": "code",
   "execution_count": 91,
   "metadata": {},
   "outputs": [
    {
     "name": "stdout",
     "output_type": "stream",
     "text": [
      "INFO:tensorflow:Graph was finalized.\n",
      "INFO:tensorflow:Restoring parameters from kernel_train/model.ckpt-8000\n",
      "INFO:tensorflow:Running local_init_op.\n",
      "INFO:tensorflow:Done running local_init_op.\n"
     ]
    }
   ],
   "source": [
    "pred_iterator = estimator_kernel.predict(input_fn = test_input_fn)"
   ]
  },
  {
   "cell_type": "code",
   "execution_count": 92,
   "metadata": {},
   "outputs": [],
   "source": [
    "for pred_dict in pred_iterator:\n",
    "    class_id.append(pred_dict['classes'])\n",
    "    #print(pred_dict)"
   ]
  },
  {
   "cell_type": "code",
   "execution_count": 93,
   "metadata": {},
   "outputs": [
    {
     "name": "stdout",
     "output_type": "stream",
     "text": [
      "RFFM Accuracy: 0.99393, F1-score: 0.99681, Precision: 0.99514, Recall: 0.99848, FPR: 0.08888\n",
      "TN: 1548; FP: 151; FN:   47; TP: 30899\n",
      "\n"
     ]
    }
   ],
   "source": [
    "name = \"RFFM\"\n",
    "\n",
    "Acc[name] = metrics.accuracy_score(y_test, class_id)\n",
    "F1S[name] = metrics.f1_score(y_test, class_id)\n",
    "Prec[name] = metrics.precision_score(y_test, class_id)\n",
    "Rec[name] = metrics.recall_score(y_test, class_id)\n",
    "tn, fp, fn, tp = metrics.confusion_matrix(y_test, class_id).ravel()\n",
    "FPR[name] = fp/(fp+tn)\n",
    "\n",
    "print(\"{0:2} Accuracy: {1:.5f}, F1-score: {2:.5f}, Precision: {3:.5f}, Recall: {4:.5f}, FPR: {5:.5f}\".format(name, Acc[name], F1S[name], Prec[name], Rec[name], FPR[name]))\n",
    "print(\"TN: {0:3}; FP: {1:3}; FN: {2:4}; TP: {3:3}\\n\".format(tn, fp, fn, tp))"
   ]
  },
  {
   "cell_type": "markdown",
   "metadata": {},
   "source": [
    "# Neural network part"
   ]
  },
  {
   "cell_type": "code",
   "execution_count": 94,
   "metadata": {},
   "outputs": [],
   "source": [
    "import collections\n",
    "import io\n",
    "import math\n",
    "import tensorflow as tf\n",
    "from IPython import display"
   ]
  },
  {
   "cell_type": "code",
   "execution_count": 95,
   "metadata": {},
   "outputs": [],
   "source": [
    "deep_numeric_feat = [\"Same_srv_rate\", \"Serror_rate\", \"Srv_serror_rate\", \"Dst_host_count\", \"Dst_host_srv_count\", \"Dst_host_same_src_port_rate\", \"Dst_host_serror_rate\", \"Dst_host_srv_serror_rate\", \"well_known_src_pool\", \"registered_src_pool\", \"cli_src_pool\"]\n",
    "wide_numeric_feat = [\"conn_len\",  \"src_bytes\", \"dst_bytes\", \"conn_numb\"]\n",
    "categorical_feat = [\"service\", \"Conn_state\", \"src_port\", \"dst_port\", \"proto\"]"
   ]
  },
  {
   "cell_type": "code",
   "execution_count": 96,
   "metadata": {},
   "outputs": [],
   "source": [
    "deep_numeric_feat_tf = [tf.feature_column.numeric_column(k) for k in deep_numeric_feat]\n",
    "wide_numeric_feat_tf = [tf.feature_column.numeric_column(k) for k in wide_numeric_feat]"
   ]
  },
  {
   "cell_type": "code",
   "execution_count": 97,
   "metadata": {},
   "outputs": [],
   "source": [
    "src_port_mod = [\"src_\" + s for s in data[\"src_port\"].unique().tolist()]\n",
    "src_port = tf.feature_column.categorical_column_with_vocabulary_list(\n",
    "    'src_port', src_port_mod)\n",
    "\n",
    "dst_port_mod = [\"dst_\" + s for s in data[\"dst_port\"].unique().tolist()]\n",
    "dst_port = tf.feature_column.categorical_column_with_vocabulary_list(\n",
    "    'dst_port', dst_port_mod)\n",
    "\n",
    "service = tf.feature_column.categorical_column_with_vocabulary_list(\n",
    "    'service', data[\"service\"].unique().tolist())\n",
    "\n",
    "Conn_state = tf.feature_column.categorical_column_with_vocabulary_list(\n",
    "    'Conn_state', data[\"Conn_state\"].unique().tolist())\n",
    "\n",
    "proto = tf.feature_column.categorical_column_with_vocabulary_list(\n",
    "    'proto', data[\"proto\"].unique().tolist())"
   ]
  },
  {
   "cell_type": "code",
   "execution_count": 98,
   "metadata": {},
   "outputs": [],
   "source": [
    "deep_columns = [\n",
    "    tf.feature_column.indicator_column(service),\n",
    "    tf.feature_column.indicator_column(Conn_state),\n",
    "    tf.feature_column.indicator_column(proto),\n",
    "    tf.feature_column.embedding_column(src_port, dimension=10),\n",
    "    tf.feature_column.embedding_column(dst_port, dimension=6),\n",
    "]"
   ]
  },
  {
   "cell_type": "code",
   "execution_count": 99,
   "metadata": {},
   "outputs": [],
   "source": [
    "crossed_columns = [\n",
    "      tf.feature_column.crossed_column(\n",
    "          ['src_port', 'service'], hash_bucket_size=10000),\n",
    "      tf.feature_column.crossed_column(\n",
    "          ['dst_port', 'service'], hash_bucket_size=10000),\n",
    "      tf.feature_column.crossed_column(\n",
    "          ['conn_len', 'src_bytes'], hash_bucket_size=10000),\n",
    "      tf.feature_column.crossed_column(\n",
    "          ['conn_len', 'dst_bytes'], hash_bucket_size=10000),\n",
    "      tf.feature_column.crossed_column(\n",
    "          ['dst_port', 'conn_numb'], hash_bucket_size=10000),  \n",
    "      tf.feature_column.crossed_column(\n",
    "          ['service', 'proto'], hash_bucket_size=100),\n",
    "    \n",
    "  ]"
   ]
  },
  {
   "cell_type": "code",
   "execution_count": 100,
   "metadata": {},
   "outputs": [],
   "source": [
    "! rm -r NN_model"
   ]
  },
  {
   "cell_type": "code",
   "execution_count": 101,
   "metadata": {},
   "outputs": [
    {
     "name": "stdout",
     "output_type": "stream",
     "text": [
      "INFO:tensorflow:Using default config.\n",
      "INFO:tensorflow:Using config: {'_model_dir': '/home/matz/Desktop/ml_ids/NN_model', '_tf_random_seed': None, '_save_summary_steps': 100, '_save_checkpoints_steps': None, '_save_checkpoints_secs': 600, '_session_config': allow_soft_placement: true\n",
      "graph_options {\n",
      "  rewrite_options {\n",
      "    meta_optimizer_iterations: ONE\n",
      "  }\n",
      "}\n",
      ", '_keep_checkpoint_max': 5, '_keep_checkpoint_every_n_hours': 10000, '_log_step_count_steps': 100, '_train_distribute': None, '_device_fn': None, '_protocol': None, '_eval_distribute': None, '_experimental_distribute': None, '_service': None, '_cluster_spec': <tensorflow.python.training.server_lib.ClusterSpec object at 0x7fb04ab31860>, '_task_type': 'worker', '_task_id': 0, '_global_id_in_cluster': 0, '_master': '', '_evaluation_master': '', '_is_chief': True, '_num_ps_replicas': 0, '_num_worker_replicas': 1}\n"
     ]
    }
   ],
   "source": [
    "NN_model = tf.estimator.DNNLinearCombinedClassifier(\n",
    "    model_dir = \"/home/matz/Desktop/ml_ids/NN_model\",\n",
    "    linear_optimizer = tf.train.FtrlOptimizer(learning_rate=3, l2_regularization_strength=0.001),\n",
    "    linear_feature_columns = deep_columns + deep_numeric_feat_tf + wide_numeric_feat_tf + crossed_columns,\n",
    "    dnn_activation_fn=tf.nn.selu,\n",
    "    dnn_feature_columns = deep_columns + deep_numeric_feat_tf + wide_numeric_feat_tf,\n",
    "    dnn_hidden_units = [950, 550, 300, 175]\n",
    ")"
   ]
  },
  {
   "cell_type": "code",
   "execution_count": 102,
   "metadata": {},
   "outputs": [],
   "source": [
    "feature_set= deep_numeric_feat + wide_numeric_feat + categorical_feat"
   ]
  },
  {
   "cell_type": "code",
   "execution_count": 103,
   "metadata": {},
   "outputs": [],
   "source": [
    "def get_input_fn(data_set, num_epochs=None, n_batch = 256, shuffle=True):\n",
    "    return tf.estimator.inputs.pandas_input_fn(\n",
    "       x=pd.DataFrame({k: data_set[k].values for k in feature_set}),\n",
    "       y = pd.Series(data_set[\"attack_flag\"].values),\n",
    "       batch_size=n_batch,   \n",
    "       num_epochs=num_epochs,\n",
    "       shuffle=shuffle)"
   ]
  },
  {
   "cell_type": "code",
   "execution_count": 104,
   "metadata": {},
   "outputs": [
    {
     "name": "stdout",
     "output_type": "stream",
     "text": [
      "INFO:tensorflow:Calling model_fn.\n",
      "WARNING:tensorflow:From /home/matz/.local/lib/python3.6/site-packages/tensorflow/python/ops/sparse_ops.py:1165: sparse_to_dense (from tensorflow.python.ops.sparse_ops) is deprecated and will be removed in a future version.\n",
      "Instructions for updating:\n",
      "Create a `tf.sparse.SparseTensor` and use `tf.sparse.to_dense` instead.\n",
      "INFO:tensorflow:Done calling model_fn.\n",
      "INFO:tensorflow:Create CheckpointSaverHook.\n",
      "INFO:tensorflow:Graph was finalized.\n",
      "INFO:tensorflow:Running local_init_op.\n",
      "INFO:tensorflow:Done running local_init_op.\n",
      "INFO:tensorflow:Saving checkpoints for 0 into /home/matz/Desktop/ml_ids/NN_model/model.ckpt.\n",
      "INFO:tensorflow:loss = 446.25497, step = 1\n",
      "INFO:tensorflow:global_step/sec: 17.5245\n",
      "INFO:tensorflow:loss = 51.913696, step = 101 (5.710 sec)\n",
      "INFO:tensorflow:global_step/sec: 24.5251\n",
      "INFO:tensorflow:loss = 62.83444, step = 201 (4.077 sec)\n",
      "INFO:tensorflow:global_step/sec: 24.2819\n",
      "INFO:tensorflow:loss = 0.014507753, step = 301 (4.118 sec)\n",
      "INFO:tensorflow:global_step/sec: 73.3769\n",
      "INFO:tensorflow:loss = 89.71296, step = 401 (1.359 sec)\n",
      "INFO:tensorflow:global_step/sec: 80.7909\n",
      "INFO:tensorflow:loss = 0.26437634, step = 501 (1.238 sec)\n",
      "INFO:tensorflow:global_step/sec: 79.6281\n",
      "INFO:tensorflow:loss = 0.93886435, step = 601 (1.256 sec)\n",
      "INFO:tensorflow:global_step/sec: 81.1305\n",
      "INFO:tensorflow:loss = 51.808575, step = 701 (1.233 sec)\n",
      "INFO:tensorflow:global_step/sec: 79.8254\n",
      "INFO:tensorflow:loss = 2.384737, step = 801 (1.253 sec)\n",
      "INFO:tensorflow:global_step/sec: 81.0392\n",
      "INFO:tensorflow:loss = 6.2176566, step = 901 (1.234 sec)\n",
      "INFO:tensorflow:global_step/sec: 76.9835\n",
      "INFO:tensorflow:loss = 0.00020281803, step = 1001 (1.299 sec)\n",
      "INFO:tensorflow:global_step/sec: 72.6369\n",
      "INFO:tensorflow:loss = 0.01704928, step = 1101 (1.377 sec)\n",
      "INFO:tensorflow:global_step/sec: 73.3774\n",
      "INFO:tensorflow:loss = 47.228977, step = 1201 (1.363 sec)\n",
      "INFO:tensorflow:global_step/sec: 75.0168\n",
      "INFO:tensorflow:loss = 8.84161, step = 1301 (1.333 sec)\n",
      "INFO:tensorflow:global_step/sec: 74.1824\n",
      "INFO:tensorflow:loss = 5.0055914, step = 1401 (1.348 sec)\n",
      "INFO:tensorflow:global_step/sec: 75.4926\n",
      "INFO:tensorflow:loss = 3.3316145, step = 1501 (1.325 sec)\n",
      "INFO:tensorflow:global_step/sec: 70.832\n",
      "INFO:tensorflow:loss = 0.13608286, step = 1601 (1.411 sec)\n",
      "INFO:tensorflow:global_step/sec: 64.0948\n",
      "INFO:tensorflow:loss = 0.01618453, step = 1701 (1.560 sec)\n",
      "INFO:tensorflow:global_step/sec: 54.5211\n",
      "INFO:tensorflow:loss = 480.23444, step = 1801 (1.837 sec)\n",
      "INFO:tensorflow:global_step/sec: 64.1291\n",
      "INFO:tensorflow:loss = 0.00908048, step = 1901 (1.556 sec)\n",
      "INFO:tensorflow:global_step/sec: 68.3451\n",
      "INFO:tensorflow:loss = 0.056211513, step = 2001 (1.463 sec)\n",
      "INFO:tensorflow:global_step/sec: 53.7792\n",
      "INFO:tensorflow:loss = 221.06305, step = 2101 (1.860 sec)\n",
      "INFO:tensorflow:global_step/sec: 62.9692\n",
      "INFO:tensorflow:loss = 16.963896, step = 2201 (1.591 sec)\n",
      "INFO:tensorflow:global_step/sec: 50.5403\n",
      "INFO:tensorflow:loss = 0.09836098, step = 2301 (1.976 sec)\n",
      "INFO:tensorflow:global_step/sec: 56.8444\n",
      "INFO:tensorflow:loss = 52.78636, step = 2401 (1.758 sec)\n",
      "INFO:tensorflow:global_step/sec: 78.1701\n",
      "INFO:tensorflow:loss = 0.3846616, step = 2501 (1.280 sec)\n",
      "INFO:tensorflow:global_step/sec: 79.1441\n",
      "INFO:tensorflow:loss = 0.013517961, step = 2601 (1.263 sec)\n",
      "INFO:tensorflow:global_step/sec: 77.3718\n",
      "INFO:tensorflow:loss = 0.00023232058, step = 2701 (1.293 sec)\n",
      "INFO:tensorflow:global_step/sec: 81.4594\n",
      "INFO:tensorflow:loss = 14.930707, step = 2801 (1.228 sec)\n",
      "INFO:tensorflow:global_step/sec: 80.3246\n",
      "INFO:tensorflow:loss = 0.17896073, step = 2901 (1.245 sec)\n",
      "INFO:tensorflow:global_step/sec: 78.8748\n",
      "INFO:tensorflow:loss = 26.244322, step = 3001 (1.267 sec)\n",
      "INFO:tensorflow:global_step/sec: 78.8033\n",
      "INFO:tensorflow:loss = 0.5640529, step = 3101 (1.269 sec)\n",
      "INFO:tensorflow:global_step/sec: 73.7285\n",
      "INFO:tensorflow:loss = 14.534176, step = 3201 (1.357 sec)\n",
      "INFO:tensorflow:global_step/sec: 65.7039\n",
      "INFO:tensorflow:loss = 59.147587, step = 3301 (1.522 sec)\n",
      "INFO:tensorflow:global_step/sec: 71.4521\n",
      "INFO:tensorflow:loss = 14.073693, step = 3401 (1.399 sec)\n",
      "INFO:tensorflow:global_step/sec: 74.9364\n",
      "INFO:tensorflow:loss = 0.012866564, step = 3501 (1.334 sec)\n",
      "INFO:tensorflow:global_step/sec: 79.4239\n",
      "INFO:tensorflow:loss = 8.77638, step = 3601 (1.259 sec)\n",
      "INFO:tensorflow:global_step/sec: 78.0674\n",
      "INFO:tensorflow:loss = 0.02567968, step = 3701 (1.281 sec)\n",
      "INFO:tensorflow:global_step/sec: 75.8637\n",
      "INFO:tensorflow:loss = 0.20243138, step = 3801 (1.319 sec)\n",
      "INFO:tensorflow:global_step/sec: 77.1064\n",
      "INFO:tensorflow:loss = 10.695175, step = 3901 (1.296 sec)\n",
      "INFO:tensorflow:global_step/sec: 81.7344\n",
      "INFO:tensorflow:loss = 0.59620714, step = 4001 (1.223 sec)\n",
      "INFO:tensorflow:global_step/sec: 78.9541\n",
      "INFO:tensorflow:loss = 0.28435436, step = 4101 (1.267 sec)\n",
      "INFO:tensorflow:global_step/sec: 79.7076\n",
      "INFO:tensorflow:loss = 0.078669, step = 4201 (1.254 sec)\n",
      "INFO:tensorflow:global_step/sec: 81.0955\n",
      "INFO:tensorflow:loss = 0.6857867, step = 4301 (1.233 sec)\n",
      "INFO:tensorflow:global_step/sec: 81.5905\n",
      "INFO:tensorflow:loss = 0.0009945219, step = 4401 (1.225 sec)\n",
      "INFO:tensorflow:global_step/sec: 81.7582\n",
      "INFO:tensorflow:loss = 0.014339484, step = 4501 (1.223 sec)\n",
      "INFO:tensorflow:global_step/sec: 78.9144\n",
      "INFO:tensorflow:loss = 0.1916087, step = 4601 (1.267 sec)\n",
      "INFO:tensorflow:global_step/sec: 82.0913\n",
      "INFO:tensorflow:loss = 0.58371735, step = 4701 (1.218 sec)\n",
      "INFO:tensorflow:global_step/sec: 72.787\n",
      "INFO:tensorflow:loss = 0.15006675, step = 4801 (1.374 sec)\n",
      "INFO:tensorflow:global_step/sec: 76.9575\n",
      "INFO:tensorflow:loss = 3.748132, step = 4901 (1.299 sec)\n",
      "INFO:tensorflow:global_step/sec: 82.0368\n",
      "INFO:tensorflow:loss = 1.7941644, step = 5001 (1.219 sec)\n",
      "INFO:tensorflow:global_step/sec: 77.3473\n",
      "INFO:tensorflow:loss = 0.0014033342, step = 5101 (1.293 sec)\n",
      "INFO:tensorflow:global_step/sec: 75.0227\n",
      "INFO:tensorflow:loss = 7.72071e-05, step = 5201 (1.333 sec)\n",
      "INFO:tensorflow:global_step/sec: 83.9183\n",
      "INFO:tensorflow:loss = 0.03273524, step = 5301 (1.191 sec)\n",
      "INFO:tensorflow:global_step/sec: 82.9445\n",
      "INFO:tensorflow:loss = 10.605061, step = 5401 (1.206 sec)\n",
      "INFO:tensorflow:global_step/sec: 77.5955\n",
      "INFO:tensorflow:loss = 0.08558108, step = 5501 (1.289 sec)\n",
      "INFO:tensorflow:global_step/sec: 80.1272\n",
      "INFO:tensorflow:loss = 9.426175, step = 5601 (1.248 sec)\n",
      "INFO:tensorflow:global_step/sec: 82.0752\n",
      "INFO:tensorflow:loss = 0.73840404, step = 5701 (1.218 sec)\n",
      "INFO:tensorflow:global_step/sec: 57.1724\n",
      "INFO:tensorflow:loss = 11.65463, step = 5801 (1.750 sec)\n",
      "INFO:tensorflow:global_step/sec: 49.9925\n",
      "INFO:tensorflow:loss = 0.40120766, step = 5901 (1.999 sec)\n",
      "INFO:tensorflow:global_step/sec: 64.8966\n",
      "INFO:tensorflow:loss = 0.00028680798, step = 6001 (1.541 sec)\n",
      "INFO:tensorflow:global_step/sec: 65.7846\n",
      "INFO:tensorflow:loss = 4.493484e-05, step = 6101 (1.520 sec)\n",
      "INFO:tensorflow:global_step/sec: 66.6428\n",
      "INFO:tensorflow:loss = 0.06232918, step = 6201 (1.500 sec)\n",
      "INFO:tensorflow:global_step/sec: 66.5499\n",
      "INFO:tensorflow:loss = 0.25829926, step = 6301 (1.502 sec)\n",
      "INFO:tensorflow:global_step/sec: 64.6201\n",
      "INFO:tensorflow:loss = 3.7533426, step = 6401 (1.548 sec)\n",
      "INFO:tensorflow:global_step/sec: 67.0152\n",
      "INFO:tensorflow:loss = 0.19920346, step = 6501 (1.492 sec)\n",
      "INFO:tensorflow:global_step/sec: 64.8397\n",
      "INFO:tensorflow:loss = 21.746555, step = 6601 (1.543 sec)\n",
      "INFO:tensorflow:global_step/sec: 68.2378\n",
      "INFO:tensorflow:loss = 1.6431959, step = 6701 (1.466 sec)\n",
      "INFO:tensorflow:global_step/sec: 67.3627\n",
      "INFO:tensorflow:loss = 0.00022147459, step = 6801 (1.485 sec)\n",
      "INFO:tensorflow:global_step/sec: 65.4516\n",
      "INFO:tensorflow:loss = 0.009300394, step = 6901 (1.527 sec)\n",
      "INFO:tensorflow:global_step/sec: 66.5368\n",
      "INFO:tensorflow:loss = 1.9200623, step = 7001 (1.503 sec)\n",
      "INFO:tensorflow:global_step/sec: 67.8626\n",
      "INFO:tensorflow:loss = 0.11766975, step = 7101 (1.473 sec)\n",
      "INFO:tensorflow:global_step/sec: 66.6732\n",
      "INFO:tensorflow:loss = 514.6484, step = 7201 (1.500 sec)\n",
      "INFO:tensorflow:global_step/sec: 66.5754\n",
      "INFO:tensorflow:loss = 0.37571344, step = 7301 (1.502 sec)\n",
      "INFO:tensorflow:global_step/sec: 67.3456\n",
      "INFO:tensorflow:loss = 7.4866953, step = 7401 (1.485 sec)\n",
      "INFO:tensorflow:global_step/sec: 64.9942\n",
      "INFO:tensorflow:loss = 1040.2323, step = 7501 (1.539 sec)\n",
      "INFO:tensorflow:global_step/sec: 66.0926\n"
     ]
    },
    {
     "name": "stdout",
     "output_type": "stream",
     "text": [
      "INFO:tensorflow:loss = 0.071939446, step = 7601 (1.513 sec)\n",
      "INFO:tensorflow:global_step/sec: 69.413\n",
      "INFO:tensorflow:loss = 0.0005684068, step = 7701 (1.442 sec)\n",
      "INFO:tensorflow:global_step/sec: 64.3977\n",
      "INFO:tensorflow:loss = 0.0015427741, step = 7801 (1.551 sec)\n",
      "INFO:tensorflow:global_step/sec: 66.9157\n",
      "INFO:tensorflow:loss = 0.0066183372, step = 7901 (1.495 sec)\n",
      "INFO:tensorflow:global_step/sec: 64.8892\n",
      "INFO:tensorflow:loss = 1.2349572, step = 8001 (1.541 sec)\n",
      "INFO:tensorflow:global_step/sec: 65.5347\n",
      "INFO:tensorflow:loss = 59.278347, step = 8101 (1.527 sec)\n",
      "INFO:tensorflow:global_step/sec: 65.9787\n",
      "INFO:tensorflow:loss = 0.25332236, step = 8201 (1.515 sec)\n",
      "INFO:tensorflow:global_step/sec: 65.3384\n",
      "INFO:tensorflow:loss = 15080.458, step = 8301 (1.530 sec)\n",
      "INFO:tensorflow:global_step/sec: 68.5605\n",
      "INFO:tensorflow:loss = 0.0014238227, step = 8401 (1.459 sec)\n",
      "INFO:tensorflow:global_step/sec: 66.5151\n",
      "INFO:tensorflow:loss = 0.003105941, step = 8501 (1.504 sec)\n",
      "INFO:tensorflow:global_step/sec: 67.3449\n",
      "INFO:tensorflow:loss = 0.00020484738, step = 8601 (1.484 sec)\n",
      "INFO:tensorflow:global_step/sec: 53.8828\n",
      "INFO:tensorflow:loss = 0.023943232, step = 8701 (1.856 sec)\n",
      "INFO:tensorflow:global_step/sec: 61.7963\n",
      "INFO:tensorflow:loss = 0.2571673, step = 8801 (1.619 sec)\n",
      "INFO:tensorflow:global_step/sec: 62.8972\n",
      "INFO:tensorflow:loss = 0.122753136, step = 8901 (1.589 sec)\n",
      "INFO:tensorflow:global_step/sec: 66.3738\n",
      "INFO:tensorflow:loss = 0.29823723, step = 9001 (1.506 sec)\n",
      "INFO:tensorflow:global_step/sec: 67.8911\n",
      "INFO:tensorflow:loss = 9.449878, step = 9101 (1.474 sec)\n",
      "INFO:tensorflow:global_step/sec: 64.8306\n",
      "INFO:tensorflow:loss = 413.5413, step = 9201 (1.541 sec)\n",
      "INFO:tensorflow:global_step/sec: 67.0299\n",
      "INFO:tensorflow:loss = 0.03173695, step = 9301 (1.492 sec)\n",
      "INFO:tensorflow:global_step/sec: 63.9865\n",
      "INFO:tensorflow:loss = 6.628403e-05, step = 9401 (1.563 sec)\n",
      "INFO:tensorflow:global_step/sec: 66.9733\n",
      "INFO:tensorflow:loss = 0.0064758393, step = 9501 (1.493 sec)\n",
      "INFO:tensorflow:global_step/sec: 57.0389\n",
      "INFO:tensorflow:loss = 0.043730382, step = 9601 (1.755 sec)\n",
      "INFO:tensorflow:global_step/sec: 55.0014\n",
      "INFO:tensorflow:loss = 220.68541, step = 9701 (1.817 sec)\n",
      "INFO:tensorflow:global_step/sec: 55.4217\n",
      "INFO:tensorflow:loss = 11.026255, step = 9801 (1.806 sec)\n",
      "INFO:tensorflow:global_step/sec: 63.4268\n",
      "INFO:tensorflow:loss = 25.176685, step = 9901 (1.575 sec)\n",
      "INFO:tensorflow:global_step/sec: 55.1475\n",
      "INFO:tensorflow:loss = 1659.0947, step = 10001 (1.815 sec)\n",
      "INFO:tensorflow:global_step/sec: 51.2683\n",
      "INFO:tensorflow:loss = 0.0010801102, step = 10101 (1.949 sec)\n",
      "INFO:tensorflow:global_step/sec: 57.8872\n",
      "INFO:tensorflow:loss = 11.3847, step = 10201 (1.728 sec)\n",
      "INFO:tensorflow:global_step/sec: 55.4689\n",
      "INFO:tensorflow:loss = 0.00091766234, step = 10301 (1.803 sec)\n",
      "INFO:tensorflow:global_step/sec: 60.1154\n",
      "INFO:tensorflow:loss = 0.066688895, step = 10401 (1.664 sec)\n",
      "INFO:tensorflow:global_step/sec: 64.1883\n",
      "INFO:tensorflow:loss = 0.08699484, step = 10501 (1.557 sec)\n",
      "INFO:tensorflow:global_step/sec: 64.7653\n",
      "INFO:tensorflow:loss = 0.025933683, step = 10601 (1.545 sec)\n",
      "INFO:tensorflow:global_step/sec: 65.9787\n",
      "INFO:tensorflow:loss = 0.05399388, step = 10701 (1.516 sec)\n",
      "INFO:tensorflow:global_step/sec: 66.6835\n",
      "INFO:tensorflow:loss = 0.17466862, step = 10801 (1.499 sec)\n",
      "INFO:tensorflow:global_step/sec: 69.1148\n",
      "INFO:tensorflow:loss = 5.3291664, step = 10901 (1.447 sec)\n",
      "INFO:tensorflow:global_step/sec: 64.0623\n",
      "INFO:tensorflow:loss = 31.278736, step = 11001 (1.561 sec)\n",
      "INFO:tensorflow:global_step/sec: 64.7733\n",
      "INFO:tensorflow:loss = 0.14565523, step = 11101 (1.544 sec)\n",
      "INFO:tensorflow:global_step/sec: 67.1088\n",
      "INFO:tensorflow:loss = 0.019527094, step = 11201 (1.490 sec)\n",
      "INFO:tensorflow:global_step/sec: 66.9932\n",
      "INFO:tensorflow:loss = 0.005437637, step = 11301 (1.492 sec)\n",
      "INFO:tensorflow:global_step/sec: 63.9481\n",
      "INFO:tensorflow:loss = 2.4314396, step = 11401 (1.564 sec)\n",
      "INFO:tensorflow:global_step/sec: 61.9013\n",
      "INFO:tensorflow:loss = 14.417612, step = 11501 (1.616 sec)\n",
      "INFO:tensorflow:global_step/sec: 66.4414\n",
      "INFO:tensorflow:loss = 0.032813765, step = 11601 (1.505 sec)\n",
      "INFO:tensorflow:global_step/sec: 66.3468\n",
      "INFO:tensorflow:loss = 0.8575158, step = 11701 (1.507 sec)\n",
      "INFO:tensorflow:global_step/sec: 67.6354\n",
      "INFO:tensorflow:loss = 0.0021084787, step = 11801 (1.479 sec)\n",
      "INFO:tensorflow:global_step/sec: 70.81\n",
      "INFO:tensorflow:loss = 0.008445571, step = 11901 (1.412 sec)\n",
      "INFO:tensorflow:global_step/sec: 67.9749\n",
      "INFO:tensorflow:loss = 3.4879246e-05, step = 12001 (1.471 sec)\n",
      "INFO:tensorflow:global_step/sec: 66.9092\n",
      "INFO:tensorflow:loss = 0.0016099858, step = 12101 (1.498 sec)\n",
      "INFO:tensorflow:global_step/sec: 62.5099\n",
      "INFO:tensorflow:loss = 0.070852704, step = 12201 (1.597 sec)\n",
      "INFO:tensorflow:global_step/sec: 78.151\n",
      "INFO:tensorflow:loss = 0.17076418, step = 12301 (1.279 sec)\n",
      "INFO:tensorflow:global_step/sec: 65.851\n",
      "INFO:tensorflow:loss = 12.438282, step = 12401 (1.519 sec)\n",
      "INFO:tensorflow:global_step/sec: 66.2488\n",
      "INFO:tensorflow:loss = 2.8924882, step = 12501 (1.509 sec)\n",
      "INFO:tensorflow:global_step/sec: 64.1781\n",
      "INFO:tensorflow:loss = 1068.7592, step = 12601 (1.558 sec)\n",
      "INFO:tensorflow:global_step/sec: 80.631\n",
      "INFO:tensorflow:loss = 0.008557885, step = 12701 (1.240 sec)\n",
      "INFO:tensorflow:global_step/sec: 70.9342\n",
      "INFO:tensorflow:loss = 0.2759659, step = 12801 (1.411 sec)\n",
      "INFO:tensorflow:global_step/sec: 71.1524\n",
      "INFO:tensorflow:loss = 0.0064517246, step = 12901 (1.404 sec)\n",
      "INFO:tensorflow:global_step/sec: 78.1564\n",
      "INFO:tensorflow:loss = 0.013963404, step = 13001 (1.280 sec)\n",
      "INFO:tensorflow:global_step/sec: 71.6369\n",
      "INFO:tensorflow:loss = 3.6830368, step = 13101 (1.396 sec)\n",
      "INFO:tensorflow:global_step/sec: 65.7557\n",
      "INFO:tensorflow:loss = 3.232026, step = 13201 (1.520 sec)\n",
      "INFO:tensorflow:global_step/sec: 67.6795\n",
      "INFO:tensorflow:loss = 7.4872565, step = 13301 (1.478 sec)\n",
      "INFO:tensorflow:global_step/sec: 68.9595\n",
      "INFO:tensorflow:loss = 13372.344, step = 13401 (1.450 sec)\n",
      "INFO:tensorflow:global_step/sec: 69.8241\n",
      "INFO:tensorflow:loss = 0.029374594, step = 13501 (1.432 sec)\n",
      "INFO:tensorflow:global_step/sec: 80.6132\n",
      "INFO:tensorflow:loss = 0.031928092, step = 13601 (1.240 sec)\n",
      "INFO:tensorflow:global_step/sec: 73.3565\n",
      "INFO:tensorflow:loss = 0.2628928, step = 13701 (1.363 sec)\n",
      "INFO:tensorflow:global_step/sec: 63.2918\n",
      "INFO:tensorflow:loss = 0.00051191985, step = 13801 (1.581 sec)\n",
      "INFO:tensorflow:global_step/sec: 73.5468\n",
      "INFO:tensorflow:loss = 0.33779022, step = 13901 (1.359 sec)\n",
      "INFO:tensorflow:global_step/sec: 71.4416\n",
      "INFO:tensorflow:loss = 0.6718986, step = 14001 (1.400 sec)\n",
      "INFO:tensorflow:global_step/sec: 78.0624\n",
      "INFO:tensorflow:loss = 0.33944237, step = 14101 (1.281 sec)\n",
      "INFO:tensorflow:global_step/sec: 68.9981\n",
      "INFO:tensorflow:loss = 0.1497067, step = 14201 (1.449 sec)\n",
      "INFO:tensorflow:global_step/sec: 78.1416\n",
      "INFO:tensorflow:loss = 0.044151347, step = 14301 (1.280 sec)\n",
      "INFO:tensorflow:global_step/sec: 72.3279\n",
      "INFO:tensorflow:loss = 8.358677, step = 14401 (1.382 sec)\n",
      "INFO:tensorflow:global_step/sec: 72.8903\n",
      "INFO:tensorflow:loss = 2.0069108e-05, step = 14501 (1.372 sec)\n",
      "INFO:tensorflow:global_step/sec: 71.1757\n",
      "INFO:tensorflow:loss = 0.0006429275, step = 14601 (1.405 sec)\n",
      "INFO:tensorflow:global_step/sec: 73.2067\n",
      "INFO:tensorflow:loss = 1.928454, step = 14701 (1.366 sec)\n",
      "INFO:tensorflow:global_step/sec: 70.4204\n",
      "INFO:tensorflow:loss = 0.10437877, step = 14801 (1.421 sec)\n",
      "INFO:tensorflow:global_step/sec: 67.4568\n",
      "INFO:tensorflow:loss = 0.013365282, step = 14901 (1.482 sec)\n",
      "INFO:tensorflow:global_step/sec: 62.9451\n",
      "INFO:tensorflow:loss = 6.8419895, step = 15001 (1.589 sec)\n",
      "INFO:tensorflow:global_step/sec: 71.4688\n",
      "INFO:tensorflow:loss = 0.65687525, step = 15101 (1.399 sec)\n",
      "INFO:tensorflow:global_step/sec: 60.8637\n",
      "INFO:tensorflow:loss = 0.13389048, step = 15201 (1.643 sec)\n",
      "INFO:tensorflow:global_step/sec: 68.4746\n",
      "INFO:tensorflow:loss = 0.004569309, step = 15301 (1.460 sec)\n",
      "INFO:tensorflow:global_step/sec: 75.4618\n",
      "INFO:tensorflow:loss = 0.0065518795, step = 15401 (1.325 sec)\n",
      "INFO:tensorflow:global_step/sec: 75.4879\n",
      "INFO:tensorflow:loss = 0.0005785221, step = 15501 (1.325 sec)\n",
      "INFO:tensorflow:global_step/sec: 77.9302\n",
      "INFO:tensorflow:loss = 0.21319865, step = 15601 (1.283 sec)\n",
      "INFO:tensorflow:global_step/sec: 67.1272\n",
      "INFO:tensorflow:loss = 0.5409669, step = 15701 (1.490 sec)\n"
     ]
    },
    {
     "name": "stdout",
     "output_type": "stream",
     "text": [
      "INFO:tensorflow:global_step/sec: 56.3925\n",
      "INFO:tensorflow:loss = 1.5581081, step = 15801 (1.773 sec)\n",
      "INFO:tensorflow:global_step/sec: 58.7615\n",
      "INFO:tensorflow:loss = 23.79987, step = 15901 (1.703 sec)\n",
      "INFO:tensorflow:global_step/sec: 60.0928\n",
      "INFO:tensorflow:loss = 0.012343083, step = 16001 (1.664 sec)\n",
      "INFO:tensorflow:global_step/sec: 73.7622\n",
      "INFO:tensorflow:loss = 9.471835, step = 16101 (1.355 sec)\n",
      "INFO:tensorflow:global_step/sec: 78.0219\n",
      "INFO:tensorflow:loss = 0.0038180386, step = 16201 (1.282 sec)\n",
      "INFO:tensorflow:global_step/sec: 75.7853\n",
      "INFO:tensorflow:loss = 0.00448843, step = 16301 (1.320 sec)\n",
      "INFO:tensorflow:global_step/sec: 68.5074\n",
      "INFO:tensorflow:loss = 0.0017236065, step = 16401 (1.460 sec)\n",
      "INFO:tensorflow:global_step/sec: 71.6445\n",
      "INFO:tensorflow:loss = 0.7430438, step = 16501 (1.396 sec)\n",
      "INFO:tensorflow:global_step/sec: 63.3228\n",
      "INFO:tensorflow:loss = 0.27405816, step = 16601 (1.579 sec)\n",
      "INFO:tensorflow:global_step/sec: 72.0331\n",
      "INFO:tensorflow:loss = 7.049935, step = 16701 (1.388 sec)\n",
      "INFO:tensorflow:global_step/sec: 66.393\n",
      "INFO:tensorflow:loss = 0.33220536, step = 16801 (1.508 sec)\n",
      "INFO:tensorflow:global_step/sec: 72.2893\n",
      "INFO:tensorflow:loss = 0.002844245, step = 16901 (1.382 sec)\n",
      "INFO:tensorflow:global_step/sec: 56.2068\n",
      "INFO:tensorflow:loss = 0.015114058, step = 17001 (1.779 sec)\n",
      "INFO:tensorflow:global_step/sec: 78.024\n",
      "INFO:tensorflow:loss = 0.0014611327, step = 17101 (1.282 sec)\n",
      "INFO:tensorflow:global_step/sec: 79.9077\n",
      "INFO:tensorflow:loss = 0.12626892, step = 17201 (1.251 sec)\n",
      "INFO:tensorflow:global_step/sec: 78.9358\n",
      "INFO:tensorflow:loss = 0.4801774, step = 17301 (1.267 sec)\n",
      "INFO:tensorflow:global_step/sec: 80.5324\n",
      "INFO:tensorflow:loss = 0.9907236, step = 17401 (1.242 sec)\n",
      "INFO:tensorflow:global_step/sec: 78.6832\n",
      "INFO:tensorflow:loss = 23.980854, step = 17501 (1.271 sec)\n",
      "INFO:tensorflow:global_step/sec: 81.6813\n",
      "INFO:tensorflow:loss = 1.426899, step = 17601 (1.224 sec)\n",
      "INFO:tensorflow:global_step/sec: 80.7401\n",
      "INFO:tensorflow:loss = 0.027832342, step = 17701 (1.239 sec)\n",
      "INFO:tensorflow:global_step/sec: 76.2147\n",
      "INFO:tensorflow:loss = 0.00016547968, step = 17801 (1.312 sec)\n",
      "INFO:tensorflow:global_step/sec: 76.0251\n",
      "INFO:tensorflow:loss = 8.314248e-05, step = 17901 (1.315 sec)\n",
      "INFO:tensorflow:global_step/sec: 79.5846\n",
      "INFO:tensorflow:loss = 0.24066003, step = 18001 (1.257 sec)\n",
      "INFO:tensorflow:global_step/sec: 77.5247\n",
      "INFO:tensorflow:loss = 12.930396, step = 18101 (1.289 sec)\n",
      "INFO:tensorflow:global_step/sec: 70.1145\n",
      "INFO:tensorflow:loss = 0.18574746, step = 18201 (1.426 sec)\n",
      "INFO:tensorflow:global_step/sec: 70.955\n",
      "INFO:tensorflow:loss = 0.22161031, step = 18301 (1.409 sec)\n",
      "INFO:tensorflow:global_step/sec: 73.9147\n",
      "INFO:tensorflow:loss = 5.0473614, step = 18401 (1.353 sec)\n",
      "INFO:tensorflow:global_step/sec: 70.445\n",
      "INFO:tensorflow:loss = 0.53233975, step = 18501 (1.419 sec)\n",
      "INFO:tensorflow:global_step/sec: 73.9533\n",
      "INFO:tensorflow:loss = 0.0013010891, step = 18601 (1.352 sec)\n",
      "INFO:tensorflow:global_step/sec: 76.4711\n",
      "INFO:tensorflow:loss = 11.6047535, step = 18701 (1.308 sec)\n",
      "INFO:tensorflow:global_step/sec: 76.0842\n",
      "INFO:tensorflow:loss = 0.00023703561, step = 18801 (1.315 sec)\n",
      "INFO:tensorflow:global_step/sec: 75.5468\n",
      "INFO:tensorflow:loss = 0.0029822327, step = 18901 (1.323 sec)\n",
      "INFO:tensorflow:global_step/sec: 76.3406\n",
      "INFO:tensorflow:loss = 0.4483247, step = 19001 (1.310 sec)\n",
      "INFO:tensorflow:global_step/sec: 79.3214\n",
      "INFO:tensorflow:loss = 0.9030447, step = 19101 (1.261 sec)\n",
      "INFO:tensorflow:global_step/sec: 75.7158\n",
      "INFO:tensorflow:loss = 3.4670763, step = 19201 (1.321 sec)\n",
      "INFO:tensorflow:global_step/sec: 78.6073\n",
      "INFO:tensorflow:loss = 0.06525062, step = 19301 (1.272 sec)\n",
      "INFO:tensorflow:global_step/sec: 76.4822\n",
      "INFO:tensorflow:loss = 0.04166778, step = 19401 (1.308 sec)\n",
      "INFO:tensorflow:global_step/sec: 76.6325\n",
      "INFO:tensorflow:loss = 0.003930588, step = 19501 (1.305 sec)\n",
      "INFO:tensorflow:global_step/sec: 76.9036\n",
      "INFO:tensorflow:loss = 2.5719908e-05, step = 19601 (1.300 sec)\n",
      "INFO:tensorflow:global_step/sec: 76.3302\n",
      "INFO:tensorflow:loss = 0.106720224, step = 19701 (1.310 sec)\n",
      "INFO:tensorflow:global_step/sec: 72.3144\n",
      "INFO:tensorflow:loss = 11.203677, step = 19801 (1.383 sec)\n",
      "INFO:tensorflow:global_step/sec: 75.4717\n",
      "INFO:tensorflow:loss = 4.4161367, step = 19901 (1.325 sec)\n",
      "INFO:tensorflow:Saving checkpoints for 20000 into /home/matz/Desktop/ml_ids/NN_model/model.ckpt.\n",
      "INFO:tensorflow:Loss for final step: 0.08257546.\n"
     ]
    },
    {
     "data": {
      "text/plain": [
       "<tensorflow.python.estimator.canned.dnn_linear_combined.DNNLinearCombinedClassifier at 0x7fb04a76db70>"
      ]
     },
     "execution_count": 104,
     "metadata": {},
     "output_type": "execute_result"
    }
   ],
   "source": [
    "NN_model.train(input_fn=get_input_fn(train_ex, n_batch=180), steps=20000)"
   ]
  },
  {
   "cell_type": "code",
   "execution_count": 105,
   "metadata": {},
   "outputs": [
    {
     "name": "stdout",
     "output_type": "stream",
     "text": [
      "INFO:tensorflow:Calling model_fn.\n",
      "WARNING:tensorflow:Trapezoidal rule is known to produce incorrect PR-AUCs; please switch to \"careful_interpolation\" instead.\n",
      "WARNING:tensorflow:Trapezoidal rule is known to produce incorrect PR-AUCs; please switch to \"careful_interpolation\" instead.\n",
      "INFO:tensorflow:Done calling model_fn.\n",
      "INFO:tensorflow:Starting evaluation at 2019-05-21-18:43:49\n",
      "INFO:tensorflow:Graph was finalized.\n",
      "INFO:tensorflow:Restoring parameters from /home/matz/Desktop/ml_ids/NN_model/model.ckpt-20000\n",
      "INFO:tensorflow:Running local_init_op.\n",
      "INFO:tensorflow:Done running local_init_op.\n",
      "INFO:tensorflow:Evaluation [1/1]\n",
      "INFO:tensorflow:Finished evaluation at 2019-05-21-18:43:52\n",
      "INFO:tensorflow:Saving dict for global step 20000: accuracy = 0.99705917, accuracy_baseline = 0.7026406, auc = 0.9984373, auc_precision_recall = 0.9980652, average_loss = 0.061851874, global_step = 20000, label/mean = 0.2973594, loss = 2019.0925, precision = 0.99648726, prediction/mean = 0.2962457, recall = 0.9936129\n",
      "INFO:tensorflow:Saving 'checkpoint_path' summary for global step 20000: /home/matz/Desktop/ml_ids/NN_model/model.ckpt-20000\n"
     ]
    }
   ],
   "source": [
    "eval_metrics = NN_model.evaluate(input_fn=get_input_fn(validate_ex, n_batch=validate_ex.shape[0], shuffle=False), steps=1)"
   ]
  },
  {
   "cell_type": "code",
   "execution_count": 106,
   "metadata": {},
   "outputs": [
    {
     "name": "stdout",
     "output_type": "stream",
     "text": [
      "accuracy: 0.99705917\n",
      "accuracy_baseline: 0.7026406\n",
      "auc: 0.9984373\n",
      "auc_precision_recall: 0.9980652\n",
      "average_loss: 0.061851874\n",
      "global_step: 20000\n",
      "label/mean: 0.2973594\n",
      "loss: 2019.0925\n",
      "precision: 0.99648726\n",
      "prediction/mean: 0.2962457\n",
      "recall: 0.9936129\n"
     ]
    }
   ],
   "source": [
    "for key,value in sorted(eval_metrics.items()):\n",
    "  print('%s: %s' % (key, value))"
   ]
  },
  {
   "cell_type": "code",
   "execution_count": 107,
   "metadata": {},
   "outputs": [
    {
     "name": "stdout",
     "output_type": "stream",
     "text": [
      "INFO:tensorflow:Calling model_fn.\n",
      "INFO:tensorflow:Done calling model_fn.\n",
      "INFO:tensorflow:Graph was finalized.\n",
      "INFO:tensorflow:Restoring parameters from /home/matz/Desktop/ml_ids/NN_model/model.ckpt-20000\n",
      "INFO:tensorflow:Running local_init_op.\n",
      "INFO:tensorflow:Done running local_init_op.\n"
     ]
    }
   ],
   "source": [
    "results = []\n",
    "results = list(NN_model.predict(input_fn=get_input_fn(test_ex, num_epochs=1, n_batch = test_ex.shape[0], shuffle=False)))"
   ]
  },
  {
   "cell_type": "code",
   "execution_count": 108,
   "metadata": {},
   "outputs": [],
   "source": [
    "y_pred = []\n",
    "for el in results:\n",
    "    y_pred.append(el[\"class_ids\"])\n",
    "\n",
    "y_pred_NN = [int(a) for a in y_pred]"
   ]
  },
  {
   "cell_type": "code",
   "execution_count": 109,
   "metadata": {},
   "outputs": [
    {
     "name": "stdout",
     "output_type": "stream",
     "text": [
      "NN Accuracy: 0.98422, F1-score: 0.99165, Precision: 0.99489, Recall: 0.98843, FPR: 0.09241\n",
      "TN: 1542; FP: 157; FN:  358; TP: 30588\n",
      "\n"
     ]
    }
   ],
   "source": [
    "from sklearn import metrics\n",
    "name = \"NN\"\n",
    "\n",
    "Acc[name] = metrics.accuracy_score(test_ex[\"attack_flag\"], y_pred_NN)\n",
    "F1S[name] = metrics.f1_score(test_ex[\"attack_flag\"], y_pred_NN)\n",
    "Prec[name] = metrics.precision_score(test_ex[\"attack_flag\"], y_pred_NN)\n",
    "Rec[name] = metrics.recall_score(test_ex[\"attack_flag\"], y_pred_NN)\n",
    "tn, fp, fn, tp = metrics.confusion_matrix(test_ex[\"attack_flag\"], y_pred_NN).ravel()\n",
    "FPR[name] = fp/(fp+tn)\n",
    "\n",
    "print(\"{0:2} Accuracy: {1:.5f}, F1-score: {2:.5f}, Precision: {3:.5f}, Recall: {4:.5f}, FPR: {5:.5f}\".format(name, Acc[name], F1S[name], Prec[name], Rec[name], FPR[name]))\n",
    "print(\"TN: {0:3}; FP: {1:3}; FN: {2:4}; TP: {3:3}\\n\".format(tn, fp, fn, tp))"
   ]
  },
  {
   "cell_type": "code",
   "execution_count": 110,
   "metadata": {},
   "outputs": [
    {
     "data": {
      "image/png": "[encoded data removed]",
      "text/plain": [
       "<matplotlib.figure.Figure at 0x7fb030f3cd68>"
      ]
     },
     "metadata": {
      "needs_background": "light"
     },
     "output_type": "display_data"
    },
    {
     "data": {
      "image/png": "[encoded data removed]",
      "text/plain": [
       "<matplotlib.figure.Figure at 0x7fb0312ddd30>"
      ]
     },
     "metadata": {
      "needs_background": "light"
     },
     "output_type": "display_data"
    },
    {
     "data": {
      "image/png": "[encoded data removed]",
      "text/plain": [
       "<matplotlib.figure.Figure at 0x7fb0312ddbe0>"
      ]
     },
     "metadata": {
      "needs_background": "light"
     },
     "output_type": "display_data"
    },
    {
     "data": {
      "image/png": "[encoded data removed]",
      "text/plain": [
       "<matplotlib.figure.Figure at 0x7fb03125e898>"
      ]
     },
     "metadata": {
      "needs_background": "light"
     },
     "output_type": "display_data"
    },
    {
     "data": {
      "image/png": "[encoded data removed]",
      "text/plain": [
       "<matplotlib.figure.Figure at 0x7fb031168cc0>"
      ]
     },
     "metadata": {
      "needs_background": "light"
     },
     "output_type": "display_data"
    }
   ],
   "source": [
    "plot_stats(Acc, \"Accuracy\", 8, 55)\n",
    "plot_stats(F1S, \"F1-score\", 8, 55)\n",
    "plot_stats(Prec, \"Precision\", 8, 55)\n",
    "plot_stats(Rec, \"Recall\", 8, 55)\n",
    "plot_stats(FPR, \"False Positive Rate\", 8, 55)"
   ]
  },
  {
   "cell_type": "markdown",
   "metadata": {},
   "source": [
    "## Results comparison"
   ]
  },
  {
   "cell_type": "code",
   "execution_count": 115,
   "metadata": {},
   "outputs": [],
   "source": [
    "y_pred = {}"
   ]
  },
  {
   "cell_type": "code",
   "execution_count": 116,
   "metadata": {},
   "outputs": [],
   "source": [
    "y_pred[\"RFFM\"] = class_id\n",
    "y_pred[\"NN\"] = y_pred_NN"
   ]
  },
  {
   "cell_type": "code",
   "execution_count": 117,
   "metadata": {},
   "outputs": [],
   "source": [
    "# Metrics of baseline method\n",
    "\n",
    "name = \"baseline\"\n",
    "\n",
    "if(y_test.mean() > (1-y_test.mean())):\n",
    "    y_pred[\"baseline\"] = np.ones(len(y_test)).ravel() \n",
    "else:\n",
    "    y_pred[\"baseline\"] = np.zeros(len(y_test)).ravel()\n",
    "        \n",
    "y_pred[\"baseline\"] = y_pred[\"baseline\"].astype(int)"
   ]
  },
  {
   "cell_type": "code",
   "execution_count": 118,
   "metadata": {},
   "outputs": [],
   "source": [
    "classifiers = {\n",
    "               \"AdaBoost\":AdaBoostClassifier(DecisionTreeClassifier(max_depth = 13), n_estimators=num_trees),\n",
    "               \"DecisionTree\":DecisionTreeClassifier(random_state=0, criterion = \"entropy\", max_depth = 13),\n",
    "               \"NaiveBayes\":GaussianNB(),\n",
    "               \"RandomTree\":DecisionTreeClassifier(random_state=0, splitter = \"random\", max_depth = 14),\n",
    "               \"RandomForest\":RandomForestClassifier(n_estimators=178, max_depth=31, random_state=0),\n",
    "              }\n",
    "\n",
    "name = \"LogisticReg\"\n",
    "model = LogisticRegression(solver = 'newton-cg').fit(X_train, y_train)\n",
    "y_pred[name] = model.predict(X_test)\n",
    "\n",
    "for name, clf in classifiers.items():\n",
    "    \n",
    "    model = clf.fit(X_train_alg, y_train_alg)\n",
    "    \n",
    "    y_pred[name] = model.predict(X_test)"
   ]
  },
  {
   "cell_type": "code",
   "execution_count": 119,
   "metadata": {},
   "outputs": [
    {
     "data": {
      "image/png": "[encoded data removed]",
      "text/plain": [
       "<matplotlib.figure.Figure at 0x7fb0311469b0>"
      ]
     },
     "metadata": {
      "needs_background": "light"
     },
     "output_type": "display_data"
    }
   ],
   "source": [
    "y_pred_pand = pd.DataFrame.from_dict(y_pred)\n",
    "names = [\"LogisticReg\", \"AdaBoost\", \"DecisionTree\", \"NaiveBayes\", \"RandomTree\", \"RandomForest\", \"RFFM\", \"NN\"]\n",
    "correlations = y_pred_pand[names].corr()\n",
    "fig = plt.figure()\n",
    "ax = fig.add_subplot(111)\n",
    "cax = ax.matshow(correlations, vmin=0.5, vmax=1)\n",
    "fig.colorbar(cax)\n",
    "ticks = np.arange(0,8,1)\n",
    "ax.set_xticks(ticks)\n",
    "ax.set_yticks(ticks)\n",
    "ax.set_xticklabels(names, rotation='vertical')\n",
    "ax.set_yticklabels(names)\n",
    "plt.show()"
   ]
  },
  {
   "cell_type": "code",
   "execution_count": 120,
   "metadata": {},
   "outputs": [
    {
     "name": "stdout",
     "output_type": "stream",
     "text": [
      "              LogisticReg  AdaBoost  DecisionTree  NaiveBayes  RandomTree  \\\n",
      "LogisticReg      1.000000  0.832713      0.837733    0.654069    0.820830   \n",
      "AdaBoost         0.832713  1.000000      0.964890    0.659080    0.939231   \n",
      "DecisionTree     0.837733  0.964890      1.000000    0.659435    0.940381   \n",
      "NaiveBayes       0.654069  0.659080      0.659435    1.000000    0.667417   \n",
      "RandomTree       0.820830  0.939231      0.940381    0.667417    1.000000   \n",
      "RandomForest     0.838041  0.985248      0.970412    0.661779    0.942927   \n",
      "RFFM             0.742618  0.874041      0.879714    0.599979    0.867165   \n",
      "NN              -0.001099 -0.003542     -0.003322   -0.000061   -0.005607   \n",
      "\n",
      "              RandomForest      RFFM        NN  \n",
      "LogisticReg       0.838041  0.742618 -0.001099  \n",
      "AdaBoost          0.985248  0.874041 -0.003542  \n",
      "DecisionTree      0.970412  0.879714 -0.003322  \n",
      "NaiveBayes        0.661779  0.599979 -0.000061  \n",
      "RandomTree        0.942927  0.867165 -0.005607  \n",
      "RandomForest      1.000000  0.877711 -0.003968  \n",
      "RFFM              0.877711  1.000000 -0.004147  \n",
      "NN               -0.003968 -0.004147  1.000000  \n"
     ]
    }
   ],
   "source": [
    "print(correlations)"
   ]
  },
  {
   "cell_type": "code",
   "execution_count": 121,
   "metadata": {},
   "outputs": [],
   "source": [
    "failures = {}\n",
    "failures[\"baseline\"] = []\n",
    "failures[\"LogisticReg\"] = []\n",
    "failures[\"AdaBoost\"] = []\n",
    "failures[\"DecisionTree\"] = []\n",
    "failures[\"NaiveBayes\"] = []\n",
    "failures[\"RandomTree\"] = []\n",
    "failures[\"RandomForest\"] = []\n",
    "failures[\"RFFM\"] = []\n",
    "failures[\"NN\"] = []\n",
    "\n",
    "for i in range(0, len(y_test)):\n",
    "    for key in y_pred.keys():\n",
    "        if y_pred[key][i] != y_test[i]:\n",
    "            failures[key].append(10)\n",
    "        else:\n",
    "            failures[key].append(1)"
   ]
  },
  {
   "cell_type": "code",
   "execution_count": 122,
   "metadata": {},
   "outputs": [
    {
     "data": {
      "image/png": "[encoded data removed]",
      "text/plain": [
       "<matplotlib.figure.Figure at 0x7fb0358e11d0>"
      ]
     },
     "metadata": {
      "needs_background": "light"
     },
     "output_type": "display_data"
    }
   ],
   "source": [
    "failures_pand = pd.DataFrame.from_dict(failures)\n",
    "names = [\"baseline\", \"LogisticReg\", \"AdaBoost\", \"DecisionTree\", \"NaiveBayes\", \"RandomTree\", \"RandomForest\", \"RFFM\", \"NN\"]\n",
    "correlations = failures_pand[names].corr()\n",
    "fig = plt.figure()\n",
    "ax = fig.add_subplot(111)\n",
    "cax = ax.matshow(correlations, vmin=0, vmax=1)\n",
    "fig.colorbar(cax)\n",
    "ticks = np.arange(0,9,1)\n",
    "ax.set_xticks(ticks)\n",
    "ax.set_yticks(ticks)\n",
    "ax.set_xticklabels(names, rotation='vertical')\n",
    "ax.set_yticklabels(names)\n",
    "plt.show()"
   ]
  },
  {
   "cell_type": "code",
   "execution_count": 123,
   "metadata": {},
   "outputs": [
    {
     "name": "stdout",
     "output_type": "stream",
     "text": [
      "              baseline  LogisticReg  AdaBoost  DecisionTree  NaiveBayes  \\\n",
      "baseline      1.000000     0.282582  0.113689      0.085872   -0.027178   \n",
      "LogisticReg   0.282582     1.000000  0.576444      0.585238    0.363861   \n",
      "AdaBoost      0.113689     0.576444  1.000000      0.842108    0.331548   \n",
      "DecisionTree  0.085872     0.585238  0.842108      1.000000    0.333787   \n",
      "NaiveBayes   -0.027178     0.363861  0.331548      0.333787    1.000000   \n",
      "RandomTree    0.125962     0.551572  0.761525      0.764081    0.359473   \n",
      "RandomForest  0.120036     0.593966  0.933454      0.864464    0.337259   \n",
      "RFFM          0.249906     0.270729  0.305691      0.326287    0.112101   \n",
      "NN            0.643578     0.182980  0.071548      0.053995   -0.015883   \n",
      "\n",
      "              RandomTree  RandomForest      RFFM        NN  \n",
      "baseline        0.125962      0.120036  0.249906  0.643578  \n",
      "LogisticReg     0.551572      0.593966  0.270729  0.182980  \n",
      "AdaBoost        0.761525      0.933454  0.305691  0.071548  \n",
      "DecisionTree    0.764081      0.864464  0.326287  0.053995  \n",
      "NaiveBayes      0.359473      0.337259  0.112101 -0.015883  \n",
      "RandomTree      1.000000      0.774948  0.383426  0.076466  \n",
      "RandomForest    0.774948      1.000000  0.309412  0.074926  \n",
      "RFFM            0.383426      0.309412  1.000000  0.157753  \n",
      "NN              0.076466      0.074926  0.157753  1.000000  \n"
     ]
    }
   ],
   "source": [
    "print(correlations)"
   ]
  },
  {
   "cell_type": "code",
   "execution_count": 124,
   "metadata": {},
   "outputs": [
    {
     "name": "stdout",
     "output_type": "stream",
     "text": [
      "Counter({1: 30946, 10: 1699})\n",
      "Counter({1: 31772, 10: 873})\n",
      "Counter({1: 32242, 10: 403})\n",
      "Counter({1: 32240, 10: 405})\n",
      "Counter({1: 30280, 10: 2365})\n",
      "Counter({1: 32140, 10: 505})\n",
      "Counter({1: 32260, 10: 385})\n",
      "Counter({1: 32447, 10: 198})\n",
      "Counter({1: 29234, 10: 3411})\n",
      "[[30946.0, 31772.0, 32242.0, 32240.0, 30280.0, 32140.0, 32260.0, 32447.0, 29234.0], [1699.0, 873.0, 403.0, 405.0, 2365.0, 505.0, 385.0, 198.0, 3411.0]]\n"
     ]
    }
   ],
   "source": [
    "cont_table = [[],[]]\n",
    "for name in failures.keys():\n",
    "    print(Counter(failures[name]))\n",
    "    cont_table[0].append(float(Counter(failures[name])[1]))\n",
    "    cont_table[1].append(float(Counter(failures[name])[10]))\n",
    "print(cont_table)"
   ]
  },
  {
   "cell_type": "code",
   "execution_count": 125,
   "metadata": {},
   "outputs": [
    {
     "name": "stdout",
     "output_type": "stream",
     "text": [
      "probability=0.950, critical=15.507, stat=9090.111\n",
      "\n",
      "reject H0 - results dependent\n"
     ]
    }
   ],
   "source": [
    "from scipy import stats\n",
    "\n",
    "# test of independence\n",
    "# H0 : results are independent\n",
    "\n",
    "stat, p, dof, expected = stats.chi2_contingency(cont_table)\n",
    "stats.chi2_contingency(cont_table)\n",
    "prob = 0.95\n",
    "critical = stats.chi2.ppf(prob, dof)\n",
    "print('probability=%.3f, critical=%.3f, stat=%.3f' % (prob, critical, stat))\n",
    "\n",
    "if abs(stat) >= critical:\n",
    "    print('\\nreject H0 - results dependent')\n",
    "else:\n",
    "    print('\\nfailed to reject H0 - results independent')"
   ]
  },
  {
   "cell_type": "markdown",
   "metadata": {},
   "source": [
    "## New data prediction"
   ]
  },
  {
   "cell_type": "code",
   "execution_count": 126,
   "metadata": {},
   "outputs": [
    {
     "name": "stdout",
     "output_type": "stream",
     "text": [
      "Counter({-1: 210159, 1: 2830})\n"
     ]
    }
   ],
   "source": [
    "test_set = pd.read_csv(\"20151221.txt\", sep = \"\\t\", header = None)\n",
    "test_set.columns = [\"conn len\", \"service\", \"src bytes\", \"dst bytes\", \"conn numb\", \"Same srv rate\", \"Serror rate\", \"Srv serror rate\", \"Dst host count\", \"Dst host srv count\", \"Dst host same src port rate\", \"Dst host serror rate\", \"Dst host srv serror rate\", \"Conn state\", \"IDS detection\", \"Malware detection\", \"Ashula detection\", \"attack_flag\", \"src IP\", \"src port\", \"dst IP\", \"dst port\", \"start time\", \"proto\"]\n",
    "\n",
    "print(Counter(test_set[\"attack_flag\"]))"
   ]
  },
  {
   "cell_type": "code",
   "execution_count": 127,
   "metadata": {},
   "outputs": [
    {
     "name": "stdout",
     "output_type": "stream",
     "text": [
      "Counter({1: 210159, 0: 2830})\n"
     ]
    }
   ],
   "source": [
    "test_set.loc[:, \"attack_flag\"] = test_set.loc[:,\"attack_flag\"].replace(-2, -1)\n",
    "test_set.loc[:, \"attack_flag\"] = test_set.loc[:, \"attack_flag\"] * -1\n",
    "test_set.loc[:, \"attack_flag\"] = test_set.loc[:,\"attack_flag\"].replace(-1, 0)\n",
    "\n",
    "print(Counter(test_set[\"attack_flag\"]))"
   ]
  },
  {
   "cell_type": "code",
   "execution_count": 128,
   "metadata": {},
   "outputs": [
    {
     "name": "stdout",
     "output_type": "stream",
     "text": [
      "(212989, 24)\n",
      "(212989, 21)\n"
     ]
    },
    {
     "data": {
      "text/plain": [
       "1    210159\n",
       "0      2830\n",
       "Name: attack_flag, dtype: int64"
      ]
     },
     "execution_count": 128,
     "metadata": {},
     "output_type": "execute_result"
    }
   ],
   "source": [
    "# slice dataset, drop additional features\n",
    "print(test_set.shape)\n",
    "test_set = test_set.drop(['start time', 'dst IP', 'src IP'], axis=1)\n",
    "print(test_set.shape)\n",
    "\n",
    "# drop software markers\n",
    "test_set = test_set.drop([\"IDS detection\", \"Malware detection\", \"Ashula detection\"], axis=1)\n",
    "test_set[\"attack_flag\"].value_counts()"
   ]
  },
  {
   "cell_type": "code",
   "execution_count": 129,
   "metadata": {},
   "outputs": [
    {
     "data": {
      "text/plain": [
       "(212989, 18)"
      ]
     },
     "execution_count": 129,
     "metadata": {},
     "output_type": "execute_result"
    }
   ],
   "source": [
    "# removing NaNs\n",
    "test_set = test_set.dropna()\n",
    "test_set.shape"
   ]
  },
  {
   "cell_type": "code",
   "execution_count": 130,
   "metadata": {},
   "outputs": [],
   "source": [
    "test_set[\"well-known src pool\"] = test_set.apply(wk, axis=1)\n",
    "test_set[\"registered src pool\"] = test_set.apply(reg, axis=1)\n",
    "test_set[\"cli src pool\"] = test_set.apply(cli, axis=1)"
   ]
  },
  {
   "cell_type": "code",
   "execution_count": 131,
   "metadata": {},
   "outputs": [],
   "source": [
    "test_set[\"src port\"] = test_set[\"src port\"].apply(str)\n",
    "test_set[\"dst port\"] = test_set[\"dst port\"].apply(str)\n",
    "test_set['src port'].nunique()\n",
    "test_set['dst port'].nunique()\n",
    "\n",
    "thresh1 = 125\n",
    "thresh2 = 125\n",
    "counts1 = test_set['src port'].value_counts()\n",
    "counts2 = test_set['dst port'].value_counts()\n",
    "\n",
    "repl1 = counts1[counts1 <= thresh1].index\n",
    "repl2 = counts2[counts2 <= thresh2].index\n",
    "\n",
    "#hot one encoding for src port numbers\n",
    "test_set = pd.concat([test_set, pd.get_dummies(test_set[\"src port\"].replace(repl1, 'other_src'), prefix=\"is_src\")], axis=1)\n",
    "\n",
    "#hot one encoding for dst port numbers\n",
    "test_set = pd.concat([test_set, pd.get_dummies(test_set[\"dst port\"].replace(repl2, 'other_dst'), prefix=\"is_dst\")], axis=1)"
   ]
  },
  {
   "cell_type": "code",
   "execution_count": 132,
   "metadata": {},
   "outputs": [
    {
     "data": {
      "text/html": [
       "<div>\n",
       "<style scoped>\n",
       "    .dataframe tbody tr th:only-of-type {\n",
       "        vertical-align: middle;\n",
       "    }\n",
       "\n",
       "    .dataframe tbody tr th {\n",
       "        vertical-align: top;\n",
       "    }\n",
       "\n",
       "    .dataframe thead th {\n",
       "        text-align: right;\n",
       "    }\n",
       "</style>\n",
       "<table border=\"1\" class=\"dataframe\">\n",
       "  <thead>\n",
       "    <tr style=\"text-align: right;\">\n",
       "      <th></th>\n",
       "      <th>conn len</th>\n",
       "      <th>service</th>\n",
       "      <th>src bytes</th>\n",
       "      <th>dst bytes</th>\n",
       "      <th>conn numb</th>\n",
       "      <th>Same srv rate</th>\n",
       "      <th>Serror rate</th>\n",
       "      <th>Srv serror rate</th>\n",
       "      <th>Dst host count</th>\n",
       "      <th>Dst host srv count</th>\n",
       "      <th>...</th>\n",
       "      <th>state_OTH</th>\n",
       "      <th>state_REJ</th>\n",
       "      <th>state_RSTO</th>\n",
       "      <th>state_RSTOS0</th>\n",
       "      <th>state_RSTR</th>\n",
       "      <th>state_RSTRH</th>\n",
       "      <th>state_S0</th>\n",
       "      <th>state_S1</th>\n",
       "      <th>state_SF</th>\n",
       "      <th>state_SHR</th>\n",
       "    </tr>\n",
       "  </thead>\n",
       "  <tbody>\n",
       "    <tr>\n",
       "      <th>212979</th>\n",
       "      <td>0.000061</td>\n",
       "      <td>other</td>\n",
       "      <td>0</td>\n",
       "      <td>0</td>\n",
       "      <td>20</td>\n",
       "      <td>1.0</td>\n",
       "      <td>0.05</td>\n",
       "      <td>0.15</td>\n",
       "      <td>2</td>\n",
       "      <td>85</td>\n",
       "      <td>...</td>\n",
       "      <td>0</td>\n",
       "      <td>1</td>\n",
       "      <td>0</td>\n",
       "      <td>0</td>\n",
       "      <td>0</td>\n",
       "      <td>0</td>\n",
       "      <td>0</td>\n",
       "      <td>0</td>\n",
       "      <td>0</td>\n",
       "      <td>0</td>\n",
       "    </tr>\n",
       "    <tr>\n",
       "      <th>212980</th>\n",
       "      <td>0.000000</td>\n",
       "      <td>other</td>\n",
       "      <td>0</td>\n",
       "      <td>0</td>\n",
       "      <td>1</td>\n",
       "      <td>1.0</td>\n",
       "      <td>0.00</td>\n",
       "      <td>0.22</td>\n",
       "      <td>4</td>\n",
       "      <td>6</td>\n",
       "      <td>...</td>\n",
       "      <td>0</td>\n",
       "      <td>0</td>\n",
       "      <td>0</td>\n",
       "      <td>0</td>\n",
       "      <td>0</td>\n",
       "      <td>0</td>\n",
       "      <td>1</td>\n",
       "      <td>0</td>\n",
       "      <td>0</td>\n",
       "      <td>0</td>\n",
       "    </tr>\n",
       "    <tr>\n",
       "      <th>212981</th>\n",
       "      <td>0.000013</td>\n",
       "      <td>other</td>\n",
       "      <td>0</td>\n",
       "      <td>0</td>\n",
       "      <td>13</td>\n",
       "      <td>1.0</td>\n",
       "      <td>0.08</td>\n",
       "      <td>0.26</td>\n",
       "      <td>6</td>\n",
       "      <td>84</td>\n",
       "      <td>...</td>\n",
       "      <td>0</td>\n",
       "      <td>1</td>\n",
       "      <td>0</td>\n",
       "      <td>0</td>\n",
       "      <td>0</td>\n",
       "      <td>0</td>\n",
       "      <td>0</td>\n",
       "      <td>0</td>\n",
       "      <td>0</td>\n",
       "      <td>0</td>\n",
       "    </tr>\n",
       "    <tr>\n",
       "      <th>212982</th>\n",
       "      <td>0.000029</td>\n",
       "      <td>other</td>\n",
       "      <td>0</td>\n",
       "      <td>0</td>\n",
       "      <td>2</td>\n",
       "      <td>1.0</td>\n",
       "      <td>0.50</td>\n",
       "      <td>0.25</td>\n",
       "      <td>1</td>\n",
       "      <td>6</td>\n",
       "      <td>...</td>\n",
       "      <td>0</td>\n",
       "      <td>1</td>\n",
       "      <td>0</td>\n",
       "      <td>0</td>\n",
       "      <td>0</td>\n",
       "      <td>0</td>\n",
       "      <td>0</td>\n",
       "      <td>0</td>\n",
       "      <td>0</td>\n",
       "      <td>0</td>\n",
       "    </tr>\n",
       "    <tr>\n",
       "      <th>212983</th>\n",
       "      <td>0.000039</td>\n",
       "      <td>other</td>\n",
       "      <td>0</td>\n",
       "      <td>0</td>\n",
       "      <td>14</td>\n",
       "      <td>1.0</td>\n",
       "      <td>0.07</td>\n",
       "      <td>0.24</td>\n",
       "      <td>1</td>\n",
       "      <td>84</td>\n",
       "      <td>...</td>\n",
       "      <td>0</td>\n",
       "      <td>1</td>\n",
       "      <td>0</td>\n",
       "      <td>0</td>\n",
       "      <td>0</td>\n",
       "      <td>0</td>\n",
       "      <td>0</td>\n",
       "      <td>0</td>\n",
       "      <td>0</td>\n",
       "      <td>0</td>\n",
       "    </tr>\n",
       "    <tr>\n",
       "      <th>212984</th>\n",
       "      <td>0.000045</td>\n",
       "      <td>other</td>\n",
       "      <td>0</td>\n",
       "      <td>0</td>\n",
       "      <td>15</td>\n",
       "      <td>1.0</td>\n",
       "      <td>0.07</td>\n",
       "      <td>0.23</td>\n",
       "      <td>3</td>\n",
       "      <td>84</td>\n",
       "      <td>...</td>\n",
       "      <td>0</td>\n",
       "      <td>1</td>\n",
       "      <td>0</td>\n",
       "      <td>0</td>\n",
       "      <td>0</td>\n",
       "      <td>0</td>\n",
       "      <td>0</td>\n",
       "      <td>0</td>\n",
       "      <td>0</td>\n",
       "      <td>0</td>\n",
       "    </tr>\n",
       "    <tr>\n",
       "      <th>212985</th>\n",
       "      <td>0.000053</td>\n",
       "      <td>other</td>\n",
       "      <td>0</td>\n",
       "      <td>0</td>\n",
       "      <td>16</td>\n",
       "      <td>1.0</td>\n",
       "      <td>0.06</td>\n",
       "      <td>0.22</td>\n",
       "      <td>19</td>\n",
       "      <td>84</td>\n",
       "      <td>...</td>\n",
       "      <td>0</td>\n",
       "      <td>1</td>\n",
       "      <td>0</td>\n",
       "      <td>0</td>\n",
       "      <td>0</td>\n",
       "      <td>0</td>\n",
       "      <td>0</td>\n",
       "      <td>0</td>\n",
       "      <td>0</td>\n",
       "      <td>0</td>\n",
       "    </tr>\n",
       "    <tr>\n",
       "      <th>212986</th>\n",
       "      <td>0.000056</td>\n",
       "      <td>other</td>\n",
       "      <td>0</td>\n",
       "      <td>0</td>\n",
       "      <td>17</td>\n",
       "      <td>1.0</td>\n",
       "      <td>0.06</td>\n",
       "      <td>0.21</td>\n",
       "      <td>7</td>\n",
       "      <td>84</td>\n",
       "      <td>...</td>\n",
       "      <td>0</td>\n",
       "      <td>1</td>\n",
       "      <td>0</td>\n",
       "      <td>0</td>\n",
       "      <td>0</td>\n",
       "      <td>0</td>\n",
       "      <td>0</td>\n",
       "      <td>0</td>\n",
       "      <td>0</td>\n",
       "      <td>0</td>\n",
       "    </tr>\n",
       "    <tr>\n",
       "      <th>212987</th>\n",
       "      <td>0.000058</td>\n",
       "      <td>other</td>\n",
       "      <td>0</td>\n",
       "      <td>0</td>\n",
       "      <td>18</td>\n",
       "      <td>1.0</td>\n",
       "      <td>0.06</td>\n",
       "      <td>0.20</td>\n",
       "      <td>20</td>\n",
       "      <td>84</td>\n",
       "      <td>...</td>\n",
       "      <td>0</td>\n",
       "      <td>1</td>\n",
       "      <td>0</td>\n",
       "      <td>0</td>\n",
       "      <td>0</td>\n",
       "      <td>0</td>\n",
       "      <td>0</td>\n",
       "      <td>0</td>\n",
       "      <td>0</td>\n",
       "      <td>0</td>\n",
       "    </tr>\n",
       "    <tr>\n",
       "      <th>212988</th>\n",
       "      <td>0.000110</td>\n",
       "      <td>dns</td>\n",
       "      <td>36</td>\n",
       "      <td>194</td>\n",
       "      <td>1</td>\n",
       "      <td>1.0</td>\n",
       "      <td>0.00</td>\n",
       "      <td>0.50</td>\n",
       "      <td>0</td>\n",
       "      <td>89</td>\n",
       "      <td>...</td>\n",
       "      <td>0</td>\n",
       "      <td>0</td>\n",
       "      <td>0</td>\n",
       "      <td>0</td>\n",
       "      <td>0</td>\n",
       "      <td>0</td>\n",
       "      <td>0</td>\n",
       "      <td>0</td>\n",
       "      <td>1</td>\n",
       "      <td>0</td>\n",
       "    </tr>\n",
       "  </tbody>\n",
       "</table>\n",
       "<p>10 rows × 193 columns</p>\n",
       "</div>"
      ],
      "text/plain": [
       "        conn len service  src bytes  dst bytes  conn numb  Same srv rate  \\\n",
       "212979  0.000061   other          0          0         20            1.0   \n",
       "212980  0.000000   other          0          0          1            1.0   \n",
       "212981  0.000013   other          0          0         13            1.0   \n",
       "212982  0.000029   other          0          0          2            1.0   \n",
       "212983  0.000039   other          0          0         14            1.0   \n",
       "212984  0.000045   other          0          0         15            1.0   \n",
       "212985  0.000053   other          0          0         16            1.0   \n",
       "212986  0.000056   other          0          0         17            1.0   \n",
       "212987  0.000058   other          0          0         18            1.0   \n",
       "212988  0.000110     dns         36        194          1            1.0   \n",
       "\n",
       "        Serror rate  Srv serror rate  Dst host count  Dst host srv count  \\\n",
       "212979         0.05             0.15               2                  85   \n",
       "212980         0.00             0.22               4                   6   \n",
       "212981         0.08             0.26               6                  84   \n",
       "212982         0.50             0.25               1                   6   \n",
       "212983         0.07             0.24               1                  84   \n",
       "212984         0.07             0.23               3                  84   \n",
       "212985         0.06             0.22              19                  84   \n",
       "212986         0.06             0.21               7                  84   \n",
       "212987         0.06             0.20              20                  84   \n",
       "212988         0.00             0.50               0                  89   \n",
       "\n",
       "          ...      state_OTH  state_REJ  state_RSTO state_RSTOS0  state_RSTR  \\\n",
       "212979    ...              0          1           0            0           0   \n",
       "212980    ...              0          0           0            0           0   \n",
       "212981    ...              0          1           0            0           0   \n",
       "212982    ...              0          1           0            0           0   \n",
       "212983    ...              0          1           0            0           0   \n",
       "212984    ...              0          1           0            0           0   \n",
       "212985    ...              0          1           0            0           0   \n",
       "212986    ...              0          1           0            0           0   \n",
       "212987    ...              0          1           0            0           0   \n",
       "212988    ...              0          0           0            0           0   \n",
       "\n",
       "       state_RSTRH state_S0 state_S1  state_SF  state_SHR  \n",
       "212979           0        0        0         0          0  \n",
       "212980           0        1        0         0          0  \n",
       "212981           0        0        0         0          0  \n",
       "212982           0        0        0         0          0  \n",
       "212983           0        0        0         0          0  \n",
       "212984           0        0        0         0          0  \n",
       "212985           0        0        0         0          0  \n",
       "212986           0        0        0         0          0  \n",
       "212987           0        0        0         0          0  \n",
       "212988           0        0        0         1          0  \n",
       "\n",
       "[10 rows x 193 columns]"
      ]
     },
     "execution_count": 132,
     "metadata": {},
     "output_type": "execute_result"
    }
   ],
   "source": [
    "### hot one encoding ###\n",
    "\n",
    "# hot one encoding for service\n",
    "test_set = pd.concat([test_set, pd.get_dummies(test_set[\"service\"], prefix=\"is\")], axis=1)\n",
    "test_set.tail(10)\n",
    "\n",
    "#hot one encoding for proto - commented due to reduced column number\n",
    "test_set = pd.concat([test_set, pd.get_dummies(test_set[\"proto\"], prefix=\"is\")], axis=1)\n",
    "test_set.tail(10)\n",
    "\n",
    "# hot one encoding for conn state\n",
    "test_set = pd.concat([test_set, pd.get_dummies(test_set[\"Conn state\"], prefix=\"state\")], axis=1)\n",
    "test_set.tail(10)"
   ]
  },
  {
   "cell_type": "code",
   "execution_count": 133,
   "metadata": {},
   "outputs": [],
   "source": [
    "test_set.rename(columns={'Dst host count': 'Dst_host_count', \"Dst host srv count\" : \"Dst_host_srv_count\",\n",
    "                    \"Dst host same src port rate\" : \"Dst_host_same_src_port_rate\",\n",
    "                    \"Dst host serror rate\" : \"Dst_host_serror_rate\",\n",
    "                    \"Dst host srv serror rate\" : \"Dst_host_srv_serror_rate\",\n",
    "                    \"Same srv rate\" : \"Same_srv_rate\",\n",
    "                    \"Srv serror rate\" : \"Srv_serror_rate\",\n",
    "                    \"conn len\" : \"conn_len\",\n",
    "                    \"src bytes\" : \"src_bytes\",\n",
    "                    \"dst bytes\" : \"dst_bytes\",\n",
    "                    \"conn numb\" : \"conn_numb\",\n",
    "                    \"Serror rate\" : \"Serror_rate\",\n",
    "                    \"cli src pool\" : \"cli_src_pool\",\n",
    "                    \"registered src pool\" : \"registered_src_pool\",\n",
    "                    \"well-known src pool\" : \"well_known_src_pool\",\n",
    "                    \"dst port\" : \"dst_port\",\n",
    "                    \"src port\" : \"src_port\",\n",
    "                     \"Conn state\" : \"Conn_state\" \n",
    "                    }, inplace=True)"
   ]
  },
  {
   "cell_type": "code",
   "execution_count": 134,
   "metadata": {},
   "outputs": [
    {
     "name": "stdout",
     "output_type": "stream",
     "text": [
      "Index(['is_dns,sip', 'is_dst_102', 'is_dst_10200', 'is_dst_1081', 'is_dst_119',\n",
      "       'is_dst_135', 'is_dst_143', 'is_dst_223', 'is_dst_389', 'is_dst_5432',\n",
      "       'is_dst_6050', 'is_dst_631', 'is_dst_82', 'is_dst_88', 'is_dst_9080',\n",
      "       'is_src_0', 'is_src_13941', 'is_src_18382', 'is_src_21320',\n",
      "       'is_src_22055', 'is_src_22206', 'is_src_22207', 'is_src_2295',\n",
      "       'is_src_29174', 'is_src_300', 'is_src_37286', 'is_src_37396',\n",
      "       'is_src_37511', 'is_src_38396', 'is_src_40082', 'is_src_40718',\n",
      "       'is_src_41161', 'is_src_41287', 'is_src_41708', 'is_src_41793',\n",
      "       'is_src_42206', 'is_src_443', 'is_src_4445', 'is_src_46432',\n",
      "       'is_src_49354', 'is_src_49362', 'is_src_49376', 'is_src_49414',\n",
      "       'is_src_5061', 'is_src_5071', 'is_src_5094', 'is_src_5100',\n",
      "       'is_src_5114', 'is_src_51361', 'is_src_5187', 'is_src_5208',\n",
      "       'is_src_5211', 'is_src_52131', 'is_src_5229', 'is_src_5247',\n",
      "       'is_src_53265', 'is_src_53451', 'is_src_53762', 'is_src_54110',\n",
      "       'is_src_54334', 'is_src_54499', 'is_src_54509', 'is_src_5497',\n",
      "       'is_src_5501', 'is_src_56118', 'is_src_5844', 'is_src_58663',\n",
      "       'is_src_60000', 'is_src_6044', 'is_src_61605', 'is_src_6173',\n",
      "       'is_src_62029', 'is_src_63265', 'is_src_63432', 'is_src_64486'],\n",
      "      dtype='object')\n"
     ]
    },
    {
     "data": {
      "text/plain": [
       "(212989, 193)"
      ]
     },
     "execution_count": 134,
     "metadata": {},
     "output_type": "execute_result"
    }
   ],
   "source": [
    "# check differences between datasets after hot one encoding\n",
    "\n",
    "test_new_data_full = test_set\n",
    "    \n",
    "print(test_set.columns.difference(data.columns))  \n",
    "test_set.shape"
   ]
  },
  {
   "cell_type": "code",
   "execution_count": 135,
   "metadata": {},
   "outputs": [],
   "source": [
    "test_new_data = test_set.loc[range(30000), :]\n",
    "\n",
    "for c in data.columns.difference(test_new_data.columns):\n",
    "    test_new_data[c] = 0\n",
    "for c in test_new_data.columns.difference(data.columns):\n",
    "    test_new_data = test_new_data.drop(c, axis=1)\n",
    "\n",
    "test_new_data = test_new_data.drop([\"service\", \"Conn_state\", \"proto\", \"src_port\", \"dst_port\"], axis=1)\n",
    "    \n",
    "test_new_data = test_new_data.sample(frac=1)\n",
    "y_test_new_data = test_new_data.loc[:, \"attack_flag\"].values.ravel()\n",
    "X_test_new_data = test_new_data.drop([\"attack_flag\"], axis=1).astype(np.float32)"
   ]
  },
  {
   "cell_type": "code",
   "execution_count": 136,
   "metadata": {},
   "outputs": [
    {
     "name": "stdout",
     "output_type": "stream",
     "text": [
      "(30000, 232)\n",
      "(32645, 232)\n",
      "1    29498\n",
      "0      502\n",
      "Name: attack_flag, dtype: int64\n"
     ]
    }
   ],
   "source": [
    "print(X_test_new_data.shape)\n",
    "print(X_test.shape)\n",
    "print(test_new_data[\"attack_flag\"].value_counts())"
   ]
  },
  {
   "cell_type": "code",
   "execution_count": 137,
   "metadata": {},
   "outputs": [
    {
     "name": "stdout",
     "output_type": "stream",
     "text": [
      "Algorithm: baseline     Accuracy: 0.98327, F1-score: 0.99156, Precision: 0.98327, Recall: 1.00000, FPR: 1.00000\n",
      "TN:   0; FP: 502; FN:    0; TP: 29498\n",
      "\n"
     ]
    }
   ],
   "source": [
    "# Metrics of baseline method\n",
    "from sklearn import metrics\n",
    "\n",
    "name = \"baseline\"\n",
    "\n",
    "if(y_test_new_data.mean() > (1-y_test_new_data.mean())):\n",
    "    y_pred = np.ones(len(y_test_new_data)).ravel() \n",
    "else:\n",
    "    y_pred = np.zeros(len(y_test_new_data)).ravel() \n",
    "    \n",
    "Acc[name] = metrics.accuracy_score(y_test_new_data, y_pred)\n",
    "F1S[name] = metrics.f1_score(y_test_new_data, y_pred)\n",
    "Prec[name] = metrics.precision_score(y_test_new_data, y_pred)\n",
    "Rec[name] = metrics.recall_score(y_test_new_data, y_pred)\n",
    "tn, fp, fn, tp = metrics.confusion_matrix(y_test_new_data, y_pred).ravel()\n",
    "FPR[name] = fp/(fp+tn)\n",
    "\n",
    "print(\"Algorithm: {0:12} Accuracy: {1:.5f}, F1-score: {2:.5f}, Precision: {3:.5f}, Recall: {4:.5f}, FPR: {5:.5f}\".format(name, Acc[name], F1S[name], Prec[name], Rec[name], FPR[name]))\n",
    "print(\"TN: {0:3}; FP: {1:3}; FN: {2:4}; TP: {3:3}\\n\".format(tn, fp, fn, tp))"
   ]
  },
  {
   "cell_type": "code",
   "execution_count": 138,
   "metadata": {},
   "outputs": [
    {
     "name": "stdout",
     "output_type": "stream",
     "text": [
      "Algorithm: logistic Regression Accuracy: 0.98183, F1-score: 0.99083, Precision: 0.98324, Recall: 0.99854, FPR: 1.00000\n",
      "TN:   0; FP: 502; FN:   43; TP: 29455\n",
      "\n"
     ]
    }
   ],
   "source": [
    "from sklearn.linear_model import LogisticRegression\n",
    "from sklearn import metrics\n",
    "\n",
    "clf = LogisticRegression(solver = 'newton-cg')\n",
    "\n",
    "model = clf.fit(X_train, y_train)\n",
    "\n",
    "y_pred = model.predict(X_test_new_data)\n",
    "\n",
    "name = \"logistic Regression\"\n",
    "\n",
    "Acc[name] = metrics.accuracy_score(y_test_new_data, y_pred)\n",
    "F1S[name] = metrics.f1_score(y_test_new_data, y_pred)\n",
    "Prec[name] = metrics.precision_score(y_test_new_data, y_pred)\n",
    "Rec[name] = metrics.recall_score(y_test_new_data, y_pred)\n",
    "tn, fp, fn, tp = metrics.confusion_matrix(y_test_new_data, y_pred).ravel()\n",
    "FPR[name] = fp/(fp+tn)\n",
    "\n",
    "print(\"Algorithm: {0:12} Accuracy: {1:.5f}, F1-score: {2:.5f}, Precision: {3:.5f}, Recall: {4:.5f}, FPR: {5:.5f}\".format(name, Acc[name], F1S[name], Prec[name], Rec[name], FPR[name]))\n",
    "print(\"TN: {0:3}; FP: {1:3}; FN: {2:4}; TP: {3:3}\\n\".format(tn, fp, fn, tp))"
   ]
  },
  {
   "cell_type": "code",
   "execution_count": 139,
   "metadata": {},
   "outputs": [
    {
     "name": "stdout",
     "output_type": "stream",
     "text": [
      "Algorithm: AdaBoost     Accuracy: 0.98303, F1-score: 0.99144, Precision: 0.98329, Recall: 0.99973, FPR: 0.99801\n",
      "TN:   1; FP: 501; FN:    8; TP: 29490\n",
      "\n",
      "Algorithm: DecisionTree Accuracy: 0.98797, F1-score: 0.99388, Precision: 0.99363, Recall: 0.99414, FPR: 0.37450\n",
      "TN: 314; FP: 188; FN:  173; TP: 29325\n",
      "\n",
      "Algorithm: NaiveBayes   Accuracy: 0.98320, F1-score: 0.99153, Precision: 0.98327, Recall: 0.99993, FPR: 1.00000\n",
      "TN:   0; FP: 502; FN:    2; TP: 29496\n",
      "\n",
      "Algorithm: RandomTree   Accuracy: 0.95203, F1-score: 0.97543, Precision: 0.98279, Recall: 0.96817, FPR: 0.99602\n",
      "TN:   2; FP: 500; FN:  939; TP: 28559\n",
      "\n",
      "Algorithm: RandomForest Accuracy: 0.95560, F1-score: 0.97730, Precision: 0.98279, Recall: 0.97186, FPR: 1.00000\n",
      "TN:   0; FP: 502; FN:  830; TP: 28668\n",
      "\n"
     ]
    }
   ],
   "source": [
    "from sklearn.ensemble import AdaBoostClassifier\n",
    "from sklearn.tree import DecisionTreeClassifier\n",
    "from sklearn.naive_bayes import GaussianNB\n",
    "from sklearn.ensemble import RandomForestClassifier\n",
    "from sklearn.linear_model import LogisticRegression\n",
    "\n",
    "\n",
    "seed = 12\n",
    "num_trees = 28\n",
    "\n",
    "classifiers = {\n",
    "               \"AdaBoost\":AdaBoostClassifier(DecisionTreeClassifier(max_depth = 13), n_estimators=num_trees),\n",
    "               \"DecisionTree\":DecisionTreeClassifier(random_state=0, criterion = \"entropy\", max_depth = 13),\n",
    "               \"NaiveBayes\":GaussianNB(),\n",
    "               \"RandomTree\":DecisionTreeClassifier(random_state=0, splitter = \"random\", max_depth = 14),\n",
    "               \"RandomForest\":RandomForestClassifier(n_estimators=178, max_depth=31, random_state=0),\n",
    "              }\n",
    "\n",
    "\n",
    "for name, clf in classifiers.items():\n",
    "    \n",
    "    model = clf.fit(X_train_alg, y_train_alg)\n",
    "    \n",
    "    y_pred = model.predict(X_test_new_data)\n",
    "    \n",
    "    Acc[name] = metrics.accuracy_score(y_test_new_data, y_pred)\n",
    "    F1S[name] = metrics.f1_score(y_test_new_data, y_pred)\n",
    "    Prec[name] = metrics.precision_score(y_test_new_data, y_pred)\n",
    "    Rec[name] = metrics.recall_score(y_test_new_data, y_pred)\n",
    "    tn, fp, fn, tp = metrics.confusion_matrix(y_test_new_data, y_pred).ravel()\n",
    "    FPR[name] = fp/(fp+tn)\n",
    "    \n",
    "    print(\"Algorithm: {0:12} Accuracy: {1:.5f}, F1-score: {2:.5f}, Precision: {3:.5f}, Recall: {4:.5f}, FPR: {5:.5f}\".format(name, Acc[name], F1S[name], Prec[name], Rec[name], FPR[name]))\n",
    "    print(\"TN: {0:3}; FP: {1:3}; FN: {2:4}; TP: {3:3}\\n\".format(tn, fp, fn, tp))"
   ]
  },
  {
   "cell_type": "code",
   "execution_count": 140,
   "metadata": {},
   "outputs": [],
   "source": [
    "test_input_fn = tf.estimator.inputs.numpy_input_fn(\n",
    "    x={\"features\": X_test_new_data.values},\n",
    "    y=y_test_new_data,\n",
    "    batch_size=X_test_new_data.shape[0],\n",
    "    num_epochs=1,\n",
    "    shuffle=False)"
   ]
  },
  {
   "cell_type": "code",
   "execution_count": 141,
   "metadata": {},
   "outputs": [
    {
     "name": "stdout",
     "output_type": "stream",
     "text": [
      "INFO:tensorflow:Graph was finalized.\n",
      "INFO:tensorflow:Restoring parameters from kernel_train/model.ckpt-8000\n",
      "INFO:tensorflow:Running local_init_op.\n",
      "INFO:tensorflow:Done running local_init_op.\n"
     ]
    }
   ],
   "source": [
    "pred_iterator = estimator_kernel.predict(input_fn = test_input_fn)"
   ]
  },
  {
   "cell_type": "code",
   "execution_count": 142,
   "metadata": {},
   "outputs": [],
   "source": [
    "class_id = []\n",
    "\n",
    "for pred_dict in pred_iterator:\n",
    "    class_id.append(pred_dict['classes'])"
   ]
  },
  {
   "cell_type": "code",
   "execution_count": 143,
   "metadata": {},
   "outputs": [
    {
     "name": "stdout",
     "output_type": "stream",
     "text": [
      "RFFM Accuracy: 0.99037, F1-score: 0.99512, Precision: 0.99198, Recall: 0.99827, FPR: 0.47410\n",
      "TN: 264; FP: 238; FN:   51; TP: 29447\n",
      "\n"
     ]
    }
   ],
   "source": [
    "name = \"RFFM\"\n",
    "\n",
    "Acc[name] = metrics.accuracy_score(y_test_new_data, class_id)\n",
    "F1S[name] = metrics.f1_score(y_test_new_data, class_id)\n",
    "Prec[name] = metrics.precision_score(y_test_new_data, class_id)\n",
    "Rec[name] = metrics.recall_score(y_test_new_data, class_id)\n",
    "tn, fp, fn, tp = metrics.confusion_matrix(y_test_new_data, class_id).ravel()\n",
    "FPR[name] = fp/(fp+tn)\n",
    "\n",
    "print(\"{0:2} Accuracy: {1:.5f}, F1-score: {2:.5f}, Precision: {3:.5f}, Recall: {4:.5f}, FPR: {5:.5f}\".format(name, Acc[name], F1S[name], Prec[name], Rec[name], FPR[name]))\n",
    "print(\"TN: {0:3}; FP: {1:3}; FN: {2:4}; TP: {3:3}\\n\".format(tn, fp, fn, tp))"
   ]
  },
  {
   "cell_type": "code",
   "execution_count": 144,
   "metadata": {},
   "outputs": [
    {
     "name": "stdout",
     "output_type": "stream",
     "text": [
      "INFO:tensorflow:Calling model_fn.\n",
      "INFO:tensorflow:Done calling model_fn.\n",
      "INFO:tensorflow:Graph was finalized.\n",
      "INFO:tensorflow:Restoring parameters from /home/matz/Desktop/ml_ids/NN_model/model.ckpt-20000\n",
      "INFO:tensorflow:Running local_init_op.\n",
      "INFO:tensorflow:Done running local_init_op.\n"
     ]
    }
   ],
   "source": [
    "results = []\n",
    "results = list(NN_model.predict(input_fn=get_input_fn(test_new_data_full.loc[range(30000), :], num_epochs=1, n_batch = X_test.shape[0], shuffle=False)))"
   ]
  },
  {
   "cell_type": "code",
   "execution_count": 145,
   "metadata": {},
   "outputs": [],
   "source": [
    "y_pred = []\n",
    "for el in results:\n",
    "    y_pred.append(el[\"class_ids\"])"
   ]
  },
  {
   "cell_type": "code",
   "execution_count": 146,
   "metadata": {},
   "outputs": [
    {
     "name": "stdout",
     "output_type": "stream",
     "text": [
      "NN Accuracy: 0.96777, F1-score: 0.98361, Precision: 0.98340, Recall: 0.98383, FPR: 0.97610\n",
      "TN:  12; FP: 490; FN:  477; TP: 29021\n",
      "\n"
     ]
    }
   ],
   "source": [
    "name = \"NN\"\n",
    "\n",
    "Acc[name] = metrics.accuracy_score(y_test_new_data, y_pred)\n",
    "F1S[name] = metrics.f1_score(y_test_new_data, y_pred)\n",
    "Prec[name] = metrics.precision_score(y_test_new_data, y_pred)\n",
    "Rec[name] = metrics.recall_score(y_test_new_data, y_pred)\n",
    "tn, fp, fn, tp = metrics.confusion_matrix(y_test_new_data, y_pred).ravel()\n",
    "FPR[name] = fp/(fp+tn)\n",
    "\n",
    "print(\"{0:2} Accuracy: {1:.5f}, F1-score: {2:.5f}, Precision: {3:.5f}, Recall: {4:.5f}, FPR: {5:.5f}\".format(name, Acc[name], F1S[name], Prec[name], Rec[name], FPR[name]))\n",
    "print(\"TN: {0:3}; FP: {1:3}; FN: {2:4}; TP: {3:3}\\n\".format(tn, fp, fn, tp))"
   ]
  },
  {
   "cell_type": "code",
   "execution_count": 147,
   "metadata": {},
   "outputs": [
    {
     "data": {
      "image/png": "[encoded data removed]",
      "text/plain": [
       "<matplotlib.figure.Figure at 0x7fb0303a6780>"
      ]
     },
     "metadata": {
      "needs_background": "light"
     },
     "output_type": "display_data"
    },
    {
     "data": {
      "image/png": "[encoded data removed]",
      "text/plain": [
       "<matplotlib.figure.Figure at 0x7fb0963f0a90>"
      ]
     },
     "metadata": {
      "needs_background": "light"
     },
     "output_type": "display_data"
    },
    {
     "data": {
      "image/png": "[encoded data removed]",
      "text/plain": [
       "<matplotlib.figure.Figure at 0x7fb0963f0940>"
      ]
     },
     "metadata": {
      "needs_background": "light"
     },
     "output_type": "display_data"
    },
    {
     "data": {
      "image/png": "[encoded data removed]",
      "text/plain": [
       "<matplotlib.figure.Figure at 0x7fb095b2a940>"
      ]
     },
     "metadata": {
      "needs_background": "light"
     },
     "output_type": "display_data"
    },
    {
     "data": {
      "image/png": "[encoded data removed]",
      "text/plain": [
       "<matplotlib.figure.Figure at 0x7fb095b432e8>"
      ]
     },
     "metadata": {
      "needs_background": "light"
     },
     "output_type": "display_data"
    }
   ],
   "source": [
    "plot_stats(Acc, \"Accuracy\", 8, 55)\n",
    "plot_stats(F1S, \"F1-score\", 8, 55)\n",
    "plot_stats(Prec, \"Precision\", 8, 55)\n",
    "plot_stats(Rec, \"Recall\", 8, 55)\n",
    "plot_stats(FPR, \"False Positive Rate\", 8, 55)"
   ]
  }
 ],
 "metadata": {
  "kernelspec": {
   "display_name": "Python 3",
   "language": "python",
   "name": "python3"
  },
  "language_info": {
   "codemirror_mode": {
    "name": "ipython",
    "version": 3
   },
   "file_extension": ".py",
   "mimetype": "text/x-python",
   "name": "python",
   "nbconvert_exporter": "python",
   "pygments_lexer": "ipython3",
   "version": "3.6.7"
  }
 },
 "nbformat": 4,
 "nbformat_minor": 2
}
