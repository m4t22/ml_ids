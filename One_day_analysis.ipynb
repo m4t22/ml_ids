{
 "cells": [
  {
   "cell_type": "code",
   "execution_count": 1,
   "metadata": {},
   "outputs": [],
   "source": [
    "import pandas as pd\n",
    "import matplotlib.pyplot as plt\n",
    "import numpy as np\n",
    "\n",
    "%matplotlib inline \n",
    "%config IPCompleter.greedy=True"
   ]
  },
  {
   "cell_type": "markdown",
   "metadata": {},
   "source": [
    "## Reading data from file"
   ]
  },
  {
   "cell_type": "code",
   "execution_count": 2,
   "metadata": {},
   "outputs": [
    {
     "name": "stdout",
     "output_type": "stream",
     "text": [
      "Counter({-1: 149915, 1: 67713})\n"
     ]
    }
   ],
   "source": [
    "from collections import Counter\n",
    "\n",
    "data = pd.read_csv(\"20151219.txt\", sep = \"\\t\", header = None)\n",
    "data.columns = [\"conn len\", \"service\", \"src bytes\", \"dst bytes\", \"conn numb\", \"Same srv rate\", \"Serror rate\", \"Srv serror rate\", \"Dst host count\", \"Dst host srv count\", \"Dst host same src port rate\", \"Dst host serror rate\", \"Dst host srv serror rate\", \"Conn state\", \"IDS detection\", \"Malware detection\", \"Ashula detection\", \"attack_flag\", \"src IP\", \"src port\", \"dst IP\", \"dst port\", \"start time\", \"proto\"]\n",
    "\n",
    "print(Counter(data[\"attack_flag\"]))"
   ]
  },
  {
   "cell_type": "markdown",
   "metadata": {},
   "source": [
    "## Transform to binary"
   ]
  },
  {
   "cell_type": "code",
   "execution_count": 3,
   "metadata": {},
   "outputs": [
    {
     "name": "stdout",
     "output_type": "stream",
     "text": [
      "Counter({1: 149915, 0: 67713})\n"
     ]
    }
   ],
   "source": [
    "data.loc[:, \"attack_flag\"] = data.loc[:,\"attack_flag\"].replace(-2, -1)\n",
    "data.loc[:, \"attack_flag\"] = data.loc[:, \"attack_flag\"] * -1\n",
    "data.loc[:, \"attack_flag\"] = data.loc[:,\"attack_flag\"].replace(-1, 0)\n",
    "\n",
    "print(Counter(data[\"attack_flag\"]))"
   ]
  },
  {
   "cell_type": "markdown",
   "metadata": {},
   "source": [
    "## Drop additional features"
   ]
  },
  {
   "cell_type": "code",
   "execution_count": 4,
   "metadata": {},
   "outputs": [
    {
     "name": "stdout",
     "output_type": "stream",
     "text": [
      "(217628, 24)\n",
      "(217628, 21)\n"
     ]
    },
    {
     "data": {
      "text/plain": [
       "1    149915\n",
       "0     67713\n",
       "Name: attack_flag, dtype: int64"
      ]
     },
     "execution_count": 4,
     "metadata": {},
     "output_type": "execute_result"
    }
   ],
   "source": [
    "# slice dataset, drop additional features\n",
    "print(data.shape)\n",
    "data = data.drop(['start time', 'dst IP', 'src IP'], axis=1)\n",
    "print(data.shape)\n",
    "\n",
    "# drop software markers\n",
    "data = data.drop([\"IDS detection\", \"Malware detection\", \"Ashula detection\"], axis=1)\n",
    "data[\"attack_flag\"].value_counts()"
   ]
  },
  {
   "cell_type": "code",
   "execution_count": 5,
   "metadata": {},
   "outputs": [
    {
     "name": "stdout",
     "output_type": "stream",
     "text": [
      "<class 'pandas.core.frame.DataFrame'>\n",
      "RangeIndex: 217628 entries, 0 to 217627\n",
      "Data columns (total 18 columns):\n",
      "conn len                       217628 non-null float64\n",
      "service                        217628 non-null object\n",
      "src bytes                      217628 non-null int64\n",
      "dst bytes                      217628 non-null int64\n",
      "conn numb                      217628 non-null int64\n",
      "Same srv rate                  217628 non-null float64\n",
      "Serror rate                    217628 non-null float64\n",
      "Srv serror rate                217628 non-null float64\n",
      "Dst host count                 217628 non-null int64\n",
      "Dst host srv count             217628 non-null int64\n",
      "Dst host same src port rate    217628 non-null float64\n",
      "Dst host serror rate           217628 non-null float64\n",
      "Dst host srv serror rate       217628 non-null float64\n",
      "Conn state                     217628 non-null object\n",
      "attack_flag                    217628 non-null int64\n",
      "src port                       217628 non-null int64\n",
      "dst port                       217628 non-null int64\n",
      "proto                          217628 non-null object\n",
      "dtypes: float64(7), int64(8), object(3)\n",
      "memory usage: 29.9+ MB\n"
     ]
    }
   ],
   "source": [
    "data.info()"
   ]
  },
  {
   "cell_type": "code",
   "execution_count": 6,
   "metadata": {},
   "outputs": [
    {
     "data": {
      "text/html": [
       "<div>\n",
       "<style scoped>\n",
       "    .dataframe tbody tr th:only-of-type {\n",
       "        vertical-align: middle;\n",
       "    }\n",
       "\n",
       "    .dataframe tbody tr th {\n",
       "        vertical-align: top;\n",
       "    }\n",
       "\n",
       "    .dataframe thead th {\n",
       "        text-align: right;\n",
       "    }\n",
       "</style>\n",
       "<table border=\"1\" class=\"dataframe\">\n",
       "  <thead>\n",
       "    <tr style=\"text-align: right;\">\n",
       "      <th></th>\n",
       "      <th>conn len</th>\n",
       "      <th>service</th>\n",
       "      <th>src bytes</th>\n",
       "      <th>dst bytes</th>\n",
       "      <th>conn numb</th>\n",
       "      <th>Same srv rate</th>\n",
       "      <th>Serror rate</th>\n",
       "      <th>Srv serror rate</th>\n",
       "      <th>Dst host count</th>\n",
       "      <th>Dst host srv count</th>\n",
       "      <th>Dst host same src port rate</th>\n",
       "      <th>Dst host serror rate</th>\n",
       "      <th>Dst host srv serror rate</th>\n",
       "      <th>Conn state</th>\n",
       "      <th>attack_flag</th>\n",
       "      <th>src port</th>\n",
       "      <th>dst port</th>\n",
       "      <th>proto</th>\n",
       "    </tr>\n",
       "  </thead>\n",
       "  <tbody>\n",
       "    <tr>\n",
       "      <th>217618</th>\n",
       "      <td>0.410043</td>\n",
       "      <td>other</td>\n",
       "      <td>150</td>\n",
       "      <td>0</td>\n",
       "      <td>0</td>\n",
       "      <td>0.0</td>\n",
       "      <td>0.0</td>\n",
       "      <td>1.0</td>\n",
       "      <td>0</td>\n",
       "      <td>0</td>\n",
       "      <td>0.0</td>\n",
       "      <td>0.0</td>\n",
       "      <td>0.0</td>\n",
       "      <td>S0</td>\n",
       "      <td>1</td>\n",
       "      <td>6338</td>\n",
       "      <td>17989</td>\n",
       "      <td>udp</td>\n",
       "    </tr>\n",
       "    <tr>\n",
       "      <th>217619</th>\n",
       "      <td>0.000000</td>\n",
       "      <td>other</td>\n",
       "      <td>0</td>\n",
       "      <td>0</td>\n",
       "      <td>0</td>\n",
       "      <td>0.0</td>\n",
       "      <td>0.0</td>\n",
       "      <td>1.0</td>\n",
       "      <td>0</td>\n",
       "      <td>0</td>\n",
       "      <td>0.0</td>\n",
       "      <td>0.0</td>\n",
       "      <td>0.0</td>\n",
       "      <td>OTH</td>\n",
       "      <td>1</td>\n",
       "      <td>11</td>\n",
       "      <td>0</td>\n",
       "      <td>icmp</td>\n",
       "    </tr>\n",
       "    <tr>\n",
       "      <th>217620</th>\n",
       "      <td>1.215994</td>\n",
       "      <td>other</td>\n",
       "      <td>60</td>\n",
       "      <td>0</td>\n",
       "      <td>0</td>\n",
       "      <td>0.0</td>\n",
       "      <td>0.0</td>\n",
       "      <td>0.0</td>\n",
       "      <td>0</td>\n",
       "      <td>0</td>\n",
       "      <td>0.0</td>\n",
       "      <td>0.0</td>\n",
       "      <td>0.0</td>\n",
       "      <td>S0</td>\n",
       "      <td>1</td>\n",
       "      <td>14015</td>\n",
       "      <td>17989</td>\n",
       "      <td>udp</td>\n",
       "    </tr>\n",
       "    <tr>\n",
       "      <th>217621</th>\n",
       "      <td>0.000000</td>\n",
       "      <td>dns</td>\n",
       "      <td>0</td>\n",
       "      <td>0</td>\n",
       "      <td>0</td>\n",
       "      <td>0.0</td>\n",
       "      <td>0.0</td>\n",
       "      <td>0.0</td>\n",
       "      <td>0</td>\n",
       "      <td>0</td>\n",
       "      <td>0.0</td>\n",
       "      <td>0.0</td>\n",
       "      <td>0.0</td>\n",
       "      <td>S0</td>\n",
       "      <td>1</td>\n",
       "      <td>44074</td>\n",
       "      <td>53</td>\n",
       "      <td>udp</td>\n",
       "    </tr>\n",
       "    <tr>\n",
       "      <th>217622</th>\n",
       "      <td>0.000000</td>\n",
       "      <td>other</td>\n",
       "      <td>0</td>\n",
       "      <td>0</td>\n",
       "      <td>0</td>\n",
       "      <td>0.0</td>\n",
       "      <td>0.0</td>\n",
       "      <td>1.0</td>\n",
       "      <td>0</td>\n",
       "      <td>0</td>\n",
       "      <td>0.0</td>\n",
       "      <td>0.0</td>\n",
       "      <td>0.0</td>\n",
       "      <td>S0</td>\n",
       "      <td>1</td>\n",
       "      <td>49263</td>\n",
       "      <td>25</td>\n",
       "      <td>tcp</td>\n",
       "    </tr>\n",
       "    <tr>\n",
       "      <th>217623</th>\n",
       "      <td>0.000000</td>\n",
       "      <td>other</td>\n",
       "      <td>0</td>\n",
       "      <td>0</td>\n",
       "      <td>1</td>\n",
       "      <td>1.0</td>\n",
       "      <td>1.0</td>\n",
       "      <td>1.0</td>\n",
       "      <td>0</td>\n",
       "      <td>1</td>\n",
       "      <td>0.0</td>\n",
       "      <td>0.0</td>\n",
       "      <td>1.0</td>\n",
       "      <td>S0</td>\n",
       "      <td>1</td>\n",
       "      <td>58398</td>\n",
       "      <td>25</td>\n",
       "      <td>tcp</td>\n",
       "    </tr>\n",
       "    <tr>\n",
       "      <th>217624</th>\n",
       "      <td>0.000000</td>\n",
       "      <td>other</td>\n",
       "      <td>0</td>\n",
       "      <td>0</td>\n",
       "      <td>0</td>\n",
       "      <td>0.0</td>\n",
       "      <td>0.0</td>\n",
       "      <td>1.0</td>\n",
       "      <td>2</td>\n",
       "      <td>2</td>\n",
       "      <td>1.0</td>\n",
       "      <td>1.0</td>\n",
       "      <td>1.0</td>\n",
       "      <td>S0</td>\n",
       "      <td>1</td>\n",
       "      <td>55373</td>\n",
       "      <td>23</td>\n",
       "      <td>tcp</td>\n",
       "    </tr>\n",
       "    <tr>\n",
       "      <th>217625</th>\n",
       "      <td>0.000000</td>\n",
       "      <td>other</td>\n",
       "      <td>0</td>\n",
       "      <td>0</td>\n",
       "      <td>0</td>\n",
       "      <td>0.0</td>\n",
       "      <td>0.0</td>\n",
       "      <td>1.0</td>\n",
       "      <td>0</td>\n",
       "      <td>0</td>\n",
       "      <td>0.0</td>\n",
       "      <td>0.0</td>\n",
       "      <td>0.0</td>\n",
       "      <td>S0</td>\n",
       "      <td>1</td>\n",
       "      <td>33244</td>\n",
       "      <td>25</td>\n",
       "      <td>tcp</td>\n",
       "    </tr>\n",
       "    <tr>\n",
       "      <th>217626</th>\n",
       "      <td>0.000000</td>\n",
       "      <td>other</td>\n",
       "      <td>0</td>\n",
       "      <td>0</td>\n",
       "      <td>1</td>\n",
       "      <td>1.0</td>\n",
       "      <td>1.0</td>\n",
       "      <td>1.0</td>\n",
       "      <td>0</td>\n",
       "      <td>1</td>\n",
       "      <td>0.0</td>\n",
       "      <td>0.0</td>\n",
       "      <td>1.0</td>\n",
       "      <td>S0</td>\n",
       "      <td>1</td>\n",
       "      <td>47476</td>\n",
       "      <td>25</td>\n",
       "      <td>tcp</td>\n",
       "    </tr>\n",
       "    <tr>\n",
       "      <th>217627</th>\n",
       "      <td>0.000000</td>\n",
       "      <td>other</td>\n",
       "      <td>0</td>\n",
       "      <td>0</td>\n",
       "      <td>0</td>\n",
       "      <td>0.0</td>\n",
       "      <td>0.0</td>\n",
       "      <td>1.0</td>\n",
       "      <td>0</td>\n",
       "      <td>0</td>\n",
       "      <td>0.0</td>\n",
       "      <td>0.0</td>\n",
       "      <td>0.0</td>\n",
       "      <td>S0</td>\n",
       "      <td>1</td>\n",
       "      <td>10106</td>\n",
       "      <td>17989</td>\n",
       "      <td>udp</td>\n",
       "    </tr>\n",
       "  </tbody>\n",
       "</table>\n",
       "</div>"
      ],
      "text/plain": [
       "        conn len service  src bytes  dst bytes  conn numb  Same srv rate  \\\n",
       "217618  0.410043   other        150          0          0            0.0   \n",
       "217619  0.000000   other          0          0          0            0.0   \n",
       "217620  1.215994   other         60          0          0            0.0   \n",
       "217621  0.000000     dns          0          0          0            0.0   \n",
       "217622  0.000000   other          0          0          0            0.0   \n",
       "217623  0.000000   other          0          0          1            1.0   \n",
       "217624  0.000000   other          0          0          0            0.0   \n",
       "217625  0.000000   other          0          0          0            0.0   \n",
       "217626  0.000000   other          0          0          1            1.0   \n",
       "217627  0.000000   other          0          0          0            0.0   \n",
       "\n",
       "        Serror rate  Srv serror rate  Dst host count  Dst host srv count  \\\n",
       "217618          0.0              1.0               0                   0   \n",
       "217619          0.0              1.0               0                   0   \n",
       "217620          0.0              0.0               0                   0   \n",
       "217621          0.0              0.0               0                   0   \n",
       "217622          0.0              1.0               0                   0   \n",
       "217623          1.0              1.0               0                   1   \n",
       "217624          0.0              1.0               2                   2   \n",
       "217625          0.0              1.0               0                   0   \n",
       "217626          1.0              1.0               0                   1   \n",
       "217627          0.0              1.0               0                   0   \n",
       "\n",
       "        Dst host same src port rate  Dst host serror rate  \\\n",
       "217618                          0.0                   0.0   \n",
       "217619                          0.0                   0.0   \n",
       "217620                          0.0                   0.0   \n",
       "217621                          0.0                   0.0   \n",
       "217622                          0.0                   0.0   \n",
       "217623                          0.0                   0.0   \n",
       "217624                          1.0                   1.0   \n",
       "217625                          0.0                   0.0   \n",
       "217626                          0.0                   0.0   \n",
       "217627                          0.0                   0.0   \n",
       "\n",
       "        Dst host srv serror rate Conn state  attack_flag  src port  dst port  \\\n",
       "217618                       0.0         S0            1      6338     17989   \n",
       "217619                       0.0        OTH            1        11         0   \n",
       "217620                       0.0         S0            1     14015     17989   \n",
       "217621                       0.0         S0            1     44074        53   \n",
       "217622                       0.0         S0            1     49263        25   \n",
       "217623                       1.0         S0            1     58398        25   \n",
       "217624                       1.0         S0            1     55373        23   \n",
       "217625                       0.0         S0            1     33244        25   \n",
       "217626                       1.0         S0            1     47476        25   \n",
       "217627                       0.0         S0            1     10106     17989   \n",
       "\n",
       "       proto  \n",
       "217618   udp  \n",
       "217619  icmp  \n",
       "217620   udp  \n",
       "217621   udp  \n",
       "217622   tcp  \n",
       "217623   tcp  \n",
       "217624   tcp  \n",
       "217625   tcp  \n",
       "217626   tcp  \n",
       "217627   udp  "
      ]
     },
     "execution_count": 6,
     "metadata": {},
     "output_type": "execute_result"
    }
   ],
   "source": [
    "data.tail(10)"
   ]
  },
  {
   "cell_type": "code",
   "execution_count": 7,
   "metadata": {},
   "outputs": [
    {
     "data": {
      "text/html": [
       "<div>\n",
       "<style scoped>\n",
       "    .dataframe tbody tr th:only-of-type {\n",
       "        vertical-align: middle;\n",
       "    }\n",
       "\n",
       "    .dataframe tbody tr th {\n",
       "        vertical-align: top;\n",
       "    }\n",
       "\n",
       "    .dataframe thead th {\n",
       "        text-align: right;\n",
       "    }\n",
       "</style>\n",
       "<table border=\"1\" class=\"dataframe\">\n",
       "  <thead>\n",
       "    <tr style=\"text-align: right;\">\n",
       "      <th></th>\n",
       "      <th>conn len</th>\n",
       "      <th>src bytes</th>\n",
       "      <th>dst bytes</th>\n",
       "      <th>conn numb</th>\n",
       "      <th>Same srv rate</th>\n",
       "      <th>Serror rate</th>\n",
       "      <th>Srv serror rate</th>\n",
       "      <th>Dst host count</th>\n",
       "      <th>Dst host srv count</th>\n",
       "      <th>Dst host same src port rate</th>\n",
       "      <th>Dst host serror rate</th>\n",
       "      <th>Dst host srv serror rate</th>\n",
       "      <th>attack_flag</th>\n",
       "      <th>src port</th>\n",
       "      <th>dst port</th>\n",
       "    </tr>\n",
       "  </thead>\n",
       "  <tbody>\n",
       "    <tr>\n",
       "      <th>count</th>\n",
       "      <td>217628.000000</td>\n",
       "      <td>217628.000000</td>\n",
       "      <td>217628.000000</td>\n",
       "      <td>217628.000000</td>\n",
       "      <td>217628.000000</td>\n",
       "      <td>217628.000000</td>\n",
       "      <td>217628.000000</td>\n",
       "      <td>217628.000000</td>\n",
       "      <td>217628.000000</td>\n",
       "      <td>217628.000000</td>\n",
       "      <td>217628.000000</td>\n",
       "      <td>217628.000000</td>\n",
       "      <td>217628.000000</td>\n",
       "      <td>217628.000000</td>\n",
       "      <td>217628.000000</td>\n",
       "    </tr>\n",
       "    <tr>\n",
       "      <th>mean</th>\n",
       "      <td>0.855259</td>\n",
       "      <td>56.899333</td>\n",
       "      <td>122.064555</td>\n",
       "      <td>2.952263</td>\n",
       "      <td>0.417481</td>\n",
       "      <td>0.089564</td>\n",
       "      <td>0.542215</td>\n",
       "      <td>29.491720</td>\n",
       "      <td>31.876730</td>\n",
       "      <td>0.071694</td>\n",
       "      <td>0.066464</td>\n",
       "      <td>0.146028</td>\n",
       "      <td>0.688859</td>\n",
       "      <td>34292.130006</td>\n",
       "      <td>3550.084736</td>\n",
       "    </tr>\n",
       "    <tr>\n",
       "      <th>std</th>\n",
       "      <td>3.085410</td>\n",
       "      <td>519.846915</td>\n",
       "      <td>748.123612</td>\n",
       "      <td>5.519918</td>\n",
       "      <td>0.491905</td>\n",
       "      <td>0.284547</td>\n",
       "      <td>0.467622</td>\n",
       "      <td>44.351499</td>\n",
       "      <td>43.928101</td>\n",
       "      <td>0.256081</td>\n",
       "      <td>0.248495</td>\n",
       "      <td>0.350052</td>\n",
       "      <td>0.462961</td>\n",
       "      <td>19708.835701</td>\n",
       "      <td>10869.634486</td>\n",
       "    </tr>\n",
       "    <tr>\n",
       "      <th>min</th>\n",
       "      <td>0.000000</td>\n",
       "      <td>0.000000</td>\n",
       "      <td>0.000000</td>\n",
       "      <td>0.000000</td>\n",
       "      <td>0.000000</td>\n",
       "      <td>0.000000</td>\n",
       "      <td>0.000000</td>\n",
       "      <td>0.000000</td>\n",
       "      <td>0.000000</td>\n",
       "      <td>0.000000</td>\n",
       "      <td>0.000000</td>\n",
       "      <td>0.000000</td>\n",
       "      <td>0.000000</td>\n",
       "      <td>0.000000</td>\n",
       "      <td>0.000000</td>\n",
       "    </tr>\n",
       "    <tr>\n",
       "      <th>25%</th>\n",
       "      <td>0.000000</td>\n",
       "      <td>0.000000</td>\n",
       "      <td>0.000000</td>\n",
       "      <td>0.000000</td>\n",
       "      <td>0.000000</td>\n",
       "      <td>0.000000</td>\n",
       "      <td>0.000000</td>\n",
       "      <td>0.000000</td>\n",
       "      <td>0.000000</td>\n",
       "      <td>0.000000</td>\n",
       "      <td>0.000000</td>\n",
       "      <td>0.000000</td>\n",
       "      <td>0.000000</td>\n",
       "      <td>12375.000000</td>\n",
       "      <td>25.000000</td>\n",
       "    </tr>\n",
       "    <tr>\n",
       "      <th>50%</th>\n",
       "      <td>0.000290</td>\n",
       "      <td>0.000000</td>\n",
       "      <td>0.000000</td>\n",
       "      <td>0.000000</td>\n",
       "      <td>0.000000</td>\n",
       "      <td>0.000000</td>\n",
       "      <td>0.750000</td>\n",
       "      <td>0.000000</td>\n",
       "      <td>1.000000</td>\n",
       "      <td>0.000000</td>\n",
       "      <td>0.000000</td>\n",
       "      <td>0.000000</td>\n",
       "      <td>1.000000</td>\n",
       "      <td>39682.000000</td>\n",
       "      <td>53.000000</td>\n",
       "    </tr>\n",
       "    <tr>\n",
       "      <th>75%</th>\n",
       "      <td>0.013333</td>\n",
       "      <td>45.000000</td>\n",
       "      <td>61.000000</td>\n",
       "      <td>5.000000</td>\n",
       "      <td>1.000000</td>\n",
       "      <td>0.000000</td>\n",
       "      <td>1.000000</td>\n",
       "      <td>96.000000</td>\n",
       "      <td>96.000000</td>\n",
       "      <td>0.000000</td>\n",
       "      <td>0.000000</td>\n",
       "      <td>0.000000</td>\n",
       "      <td>1.000000</td>\n",
       "      <td>50473.000000</td>\n",
       "      <td>1433.000000</td>\n",
       "    </tr>\n",
       "    <tr>\n",
       "      <th>max</th>\n",
       "      <td>563.012764</td>\n",
       "      <td>88066.000000</td>\n",
       "      <td>157723.000000</td>\n",
       "      <td>84.000000</td>\n",
       "      <td>1.000000</td>\n",
       "      <td>1.000000</td>\n",
       "      <td>1.000000</td>\n",
       "      <td>100.000000</td>\n",
       "      <td>100.000000</td>\n",
       "      <td>1.000000</td>\n",
       "      <td>1.000000</td>\n",
       "      <td>1.000000</td>\n",
       "      <td>1.000000</td>\n",
       "      <td>65535.000000</td>\n",
       "      <td>65498.000000</td>\n",
       "    </tr>\n",
       "  </tbody>\n",
       "</table>\n",
       "</div>"
      ],
      "text/plain": [
       "            conn len      src bytes      dst bytes      conn numb  \\\n",
       "count  217628.000000  217628.000000  217628.000000  217628.000000   \n",
       "mean        0.855259      56.899333     122.064555       2.952263   \n",
       "std         3.085410     519.846915     748.123612       5.519918   \n",
       "min         0.000000       0.000000       0.000000       0.000000   \n",
       "25%         0.000000       0.000000       0.000000       0.000000   \n",
       "50%         0.000290       0.000000       0.000000       0.000000   \n",
       "75%         0.013333      45.000000      61.000000       5.000000   \n",
       "max       563.012764   88066.000000  157723.000000      84.000000   \n",
       "\n",
       "       Same srv rate    Serror rate  Srv serror rate  Dst host count  \\\n",
       "count  217628.000000  217628.000000    217628.000000   217628.000000   \n",
       "mean        0.417481       0.089564         0.542215       29.491720   \n",
       "std         0.491905       0.284547         0.467622       44.351499   \n",
       "min         0.000000       0.000000         0.000000        0.000000   \n",
       "25%         0.000000       0.000000         0.000000        0.000000   \n",
       "50%         0.000000       0.000000         0.750000        0.000000   \n",
       "75%         1.000000       0.000000         1.000000       96.000000   \n",
       "max         1.000000       1.000000         1.000000      100.000000   \n",
       "\n",
       "       Dst host srv count  Dst host same src port rate  Dst host serror rate  \\\n",
       "count       217628.000000                217628.000000         217628.000000   \n",
       "mean            31.876730                     0.071694              0.066464   \n",
       "std             43.928101                     0.256081              0.248495   \n",
       "min              0.000000                     0.000000              0.000000   \n",
       "25%              0.000000                     0.000000              0.000000   \n",
       "50%              1.000000                     0.000000              0.000000   \n",
       "75%             96.000000                     0.000000              0.000000   \n",
       "max            100.000000                     1.000000              1.000000   \n",
       "\n",
       "       Dst host srv serror rate    attack_flag       src port       dst port  \n",
       "count             217628.000000  217628.000000  217628.000000  217628.000000  \n",
       "mean                   0.146028       0.688859   34292.130006    3550.084736  \n",
       "std                    0.350052       0.462961   19708.835701   10869.634486  \n",
       "min                    0.000000       0.000000       0.000000       0.000000  \n",
       "25%                    0.000000       0.000000   12375.000000      25.000000  \n",
       "50%                    0.000000       1.000000   39682.000000      53.000000  \n",
       "75%                    0.000000       1.000000   50473.000000    1433.000000  \n",
       "max                    1.000000       1.000000   65535.000000   65498.000000  "
      ]
     },
     "execution_count": 7,
     "metadata": {},
     "output_type": "execute_result"
    }
   ],
   "source": [
    "data.describe()"
   ]
  },
  {
   "cell_type": "code",
   "execution_count": 8,
   "metadata": {},
   "outputs": [
    {
     "data": {
      "text/plain": [
       "(217628, 18)"
      ]
     },
     "execution_count": 8,
     "metadata": {},
     "output_type": "execute_result"
    }
   ],
   "source": [
    "# removing NaNs\n",
    "data = data.dropna()\n",
    "data.shape"
   ]
  },
  {
   "cell_type": "code",
   "execution_count": 9,
   "metadata": {},
   "outputs": [
    {
     "data": {
      "text/plain": [
       "S0        127464\n",
       "SF         59944\n",
       "RSTO       11476\n",
       "OTH         8640\n",
       "REJ         7998\n",
       "RSTRH        733\n",
       "RSTOS0       634\n",
       "SHR          381\n",
       "RSTR         304\n",
       "S1            52\n",
       "SH             2\n",
       "Name: Conn state, dtype: int64"
      ]
     },
     "execution_count": 9,
     "metadata": {},
     "output_type": "execute_result"
    }
   ],
   "source": [
    "data[\"Conn state\"].value_counts(dropna=False)"
   ]
  },
  {
   "cell_type": "code",
   "execution_count": 10,
   "metadata": {},
   "outputs": [
    {
     "data": {
      "text/plain": [
       "other    126080\n",
       "dns       61990\n",
       "sip       16519\n",
       "ssh       11518\n",
       "snmp        665\n",
       "smtp        495\n",
       "rdp         328\n",
       "dhcp         20\n",
       "http         11\n",
       "ssl           2\n",
       "Name: service, dtype: int64"
      ]
     },
     "execution_count": 10,
     "metadata": {},
     "output_type": "execute_result"
    }
   ],
   "source": [
    "data[\"service\"].value_counts(dropna=False)"
   ]
  },
  {
   "cell_type": "code",
   "execution_count": 11,
   "metadata": {},
   "outputs": [
    {
     "data": {
      "text/plain": [
       "tcp     119162\n",
       "udp      93548\n",
       "icmp      4918\n",
       "Name: proto, dtype: int64"
      ]
     },
     "execution_count": 11,
     "metadata": {},
     "output_type": "execute_result"
    }
   ],
   "source": [
    "data[\"proto\"].value_counts(dropna=False)"
   ]
  },
  {
   "cell_type": "markdown",
   "metadata": {},
   "source": [
    "# a bit of feature engineering"
   ]
  },
  {
   "cell_type": "markdown",
   "metadata": {},
   "source": [
    "## port numbers classification"
   ]
  },
  {
   "cell_type": "code",
   "execution_count": 12,
   "metadata": {},
   "outputs": [],
   "source": [
    "t1 = 1023  # well-known port numbers\n",
    "t2 = 49151 # registered ports\n",
    "t3 = 65535 # client ports\n",
    "\n",
    "def wk(data_row):\n",
    "    if (data_row[\"src port\"] <= t1): \n",
    "        value = 1\n",
    "    elif ((data_row[\"src port\"] > t1) and (data_row[\"src port\"] <= t2)):\n",
    "        value = 0\n",
    "    elif ((data_row[\"src port\"] > t2) and (data_row[\"src port\"] <= t3)):\n",
    "        value = 0\n",
    "    return value\n",
    "\n",
    "def reg(data_row):\n",
    "    if (data_row[\"src port\"] <= t1): \n",
    "        value = 0\n",
    "    elif ((data_row[\"src port\"] > t1) and (data_row[\"src port\"] <= t2)):\n",
    "        value = 1\n",
    "    elif ((data_row[\"src port\"] > t2) and (data_row[\"src port\"] <= t3)):\n",
    "        value = 0\n",
    "    return value\n",
    "\n",
    "def cli(data_row):\n",
    "    if (data_row[\"src port\"] <= t1): \n",
    "        value = 0\n",
    "    elif ((data_row[\"src port\"] > t1) and (data_row[\"src port\"] <= t2)):\n",
    "        value = 0\n",
    "    elif ((data_row[\"src port\"] > t2) and (data_row[\"src port\"] <= t3)):\n",
    "        value = 1\n",
    "    return value\n",
    "\n",
    "data[\"well-known src pool\"] = data.apply(wk, axis=1)\n",
    "data[\"registered src pool\"] = data.apply(reg, axis=1)\n",
    "data[\"cli src pool\"] = data.apply(cli, axis=1)"
   ]
  },
  {
   "cell_type": "code",
   "execution_count": 13,
   "metadata": {},
   "outputs": [
    {
     "name": "stdout",
     "output_type": "stream",
     "text": [
      "Counter({0: 211216, 1: 6412})\n",
      "Counter({1: 150534, 0: 67094})\n",
      "Counter({0: 156946, 1: 60682})\n"
     ]
    }
   ],
   "source": [
    "print(Counter(data[\"well-known src pool\"]))\n",
    "print(Counter(data[\"registered src pool\"]))\n",
    "print(Counter(data[\"cli src pool\"]))"
   ]
  },
  {
   "cell_type": "code",
   "execution_count": 14,
   "metadata": {
    "scrolled": true
   },
   "outputs": [
    {
     "name": "stdout",
     "output_type": "stream",
     "text": [
      "<class 'pandas.core.frame.DataFrame'>\n",
      "Int64Index: 217628 entries, 0 to 217627\n",
      "Data columns (total 21 columns):\n",
      "conn len                       217628 non-null float64\n",
      "service                        217628 non-null object\n",
      "src bytes                      217628 non-null int64\n",
      "dst bytes                      217628 non-null int64\n",
      "conn numb                      217628 non-null int64\n",
      "Same srv rate                  217628 non-null float64\n",
      "Serror rate                    217628 non-null float64\n",
      "Srv serror rate                217628 non-null float64\n",
      "Dst host count                 217628 non-null int64\n",
      "Dst host srv count             217628 non-null int64\n",
      "Dst host same src port rate    217628 non-null float64\n",
      "Dst host serror rate           217628 non-null float64\n",
      "Dst host srv serror rate       217628 non-null float64\n",
      "Conn state                     217628 non-null object\n",
      "attack_flag                    217628 non-null int64\n",
      "src port                       217628 non-null int64\n",
      "dst port                       217628 non-null int64\n",
      "proto                          217628 non-null object\n",
      "well-known src pool            217628 non-null int64\n",
      "registered src pool            217628 non-null int64\n",
      "cli src pool                   217628 non-null int64\n",
      "dtypes: float64(7), int64(11), object(3)\n",
      "memory usage: 36.5+ MB\n"
     ]
    }
   ],
   "source": [
    "data.info()"
   ]
  },
  {
   "cell_type": "code",
   "execution_count": 15,
   "metadata": {},
   "outputs": [
    {
     "data": {
      "text/html": [
       "<div>\n",
       "<style scoped>\n",
       "    .dataframe tbody tr th:only-of-type {\n",
       "        vertical-align: middle;\n",
       "    }\n",
       "\n",
       "    .dataframe tbody tr th {\n",
       "        vertical-align: top;\n",
       "    }\n",
       "\n",
       "    .dataframe thead th {\n",
       "        text-align: right;\n",
       "    }\n",
       "</style>\n",
       "<table border=\"1\" class=\"dataframe\">\n",
       "  <thead>\n",
       "    <tr style=\"text-align: right;\">\n",
       "      <th></th>\n",
       "      <th>src port</th>\n",
       "      <th>dst port</th>\n",
       "      <th>well-known src pool</th>\n",
       "      <th>registered src pool</th>\n",
       "      <th>cli src pool</th>\n",
       "    </tr>\n",
       "  </thead>\n",
       "  <tbody>\n",
       "    <tr>\n",
       "      <th>0</th>\n",
       "      <td>40061</td>\n",
       "      <td>111</td>\n",
       "      <td>0</td>\n",
       "      <td>1</td>\n",
       "      <td>0</td>\n",
       "    </tr>\n",
       "    <tr>\n",
       "      <th>1</th>\n",
       "      <td>53488</td>\n",
       "      <td>80</td>\n",
       "      <td>0</td>\n",
       "      <td>0</td>\n",
       "      <td>1</td>\n",
       "    </tr>\n",
       "    <tr>\n",
       "      <th>2</th>\n",
       "      <td>35051</td>\n",
       "      <td>23</td>\n",
       "      <td>0</td>\n",
       "      <td>1</td>\n",
       "      <td>0</td>\n",
       "    </tr>\n",
       "    <tr>\n",
       "      <th>3</th>\n",
       "      <td>1408</td>\n",
       "      <td>445</td>\n",
       "      <td>0</td>\n",
       "      <td>1</td>\n",
       "      <td>0</td>\n",
       "    </tr>\n",
       "    <tr>\n",
       "      <th>4</th>\n",
       "      <td>55244</td>\n",
       "      <td>995</td>\n",
       "      <td>0</td>\n",
       "      <td>0</td>\n",
       "      <td>1</td>\n",
       "    </tr>\n",
       "    <tr>\n",
       "      <th>5</th>\n",
       "      <td>44544</td>\n",
       "      <td>995</td>\n",
       "      <td>0</td>\n",
       "      <td>1</td>\n",
       "      <td>0</td>\n",
       "    </tr>\n",
       "    <tr>\n",
       "      <th>6</th>\n",
       "      <td>50678</td>\n",
       "      <td>5900</td>\n",
       "      <td>0</td>\n",
       "      <td>0</td>\n",
       "      <td>1</td>\n",
       "    </tr>\n",
       "    <tr>\n",
       "      <th>7</th>\n",
       "      <td>35051</td>\n",
       "      <td>23</td>\n",
       "      <td>0</td>\n",
       "      <td>1</td>\n",
       "      <td>0</td>\n",
       "    </tr>\n",
       "    <tr>\n",
       "      <th>8</th>\n",
       "      <td>50678</td>\n",
       "      <td>5900</td>\n",
       "      <td>0</td>\n",
       "      <td>0</td>\n",
       "      <td>1</td>\n",
       "    </tr>\n",
       "    <tr>\n",
       "      <th>9</th>\n",
       "      <td>50678</td>\n",
       "      <td>5900</td>\n",
       "      <td>0</td>\n",
       "      <td>0</td>\n",
       "      <td>1</td>\n",
       "    </tr>\n",
       "    <tr>\n",
       "      <th>10</th>\n",
       "      <td>59625</td>\n",
       "      <td>21</td>\n",
       "      <td>0</td>\n",
       "      <td>0</td>\n",
       "      <td>1</td>\n",
       "    </tr>\n",
       "    <tr>\n",
       "      <th>11</th>\n",
       "      <td>42626</td>\n",
       "      <td>111</td>\n",
       "      <td>0</td>\n",
       "      <td>1</td>\n",
       "      <td>0</td>\n",
       "    </tr>\n",
       "    <tr>\n",
       "      <th>12</th>\n",
       "      <td>2194</td>\n",
       "      <td>445</td>\n",
       "      <td>0</td>\n",
       "      <td>1</td>\n",
       "      <td>0</td>\n",
       "    </tr>\n",
       "    <tr>\n",
       "      <th>13</th>\n",
       "      <td>7432</td>\n",
       "      <td>22</td>\n",
       "      <td>0</td>\n",
       "      <td>1</td>\n",
       "      <td>0</td>\n",
       "    </tr>\n",
       "    <tr>\n",
       "      <th>14</th>\n",
       "      <td>7206</td>\n",
       "      <td>80</td>\n",
       "      <td>0</td>\n",
       "      <td>1</td>\n",
       "      <td>0</td>\n",
       "    </tr>\n",
       "    <tr>\n",
       "      <th>15</th>\n",
       "      <td>55133</td>\n",
       "      <td>53</td>\n",
       "      <td>0</td>\n",
       "      <td>0</td>\n",
       "      <td>1</td>\n",
       "    </tr>\n",
       "    <tr>\n",
       "      <th>16</th>\n",
       "      <td>60169</td>\n",
       "      <td>80</td>\n",
       "      <td>0</td>\n",
       "      <td>0</td>\n",
       "      <td>1</td>\n",
       "    </tr>\n",
       "    <tr>\n",
       "      <th>17</th>\n",
       "      <td>63030</td>\n",
       "      <td>2222</td>\n",
       "      <td>0</td>\n",
       "      <td>0</td>\n",
       "      <td>1</td>\n",
       "    </tr>\n",
       "    <tr>\n",
       "      <th>18</th>\n",
       "      <td>31905</td>\n",
       "      <td>445</td>\n",
       "      <td>0</td>\n",
       "      <td>1</td>\n",
       "      <td>0</td>\n",
       "    </tr>\n",
       "    <tr>\n",
       "      <th>19</th>\n",
       "      <td>59625</td>\n",
       "      <td>21</td>\n",
       "      <td>0</td>\n",
       "      <td>0</td>\n",
       "      <td>1</td>\n",
       "    </tr>\n",
       "    <tr>\n",
       "      <th>20</th>\n",
       "      <td>36939</td>\n",
       "      <td>111</td>\n",
       "      <td>0</td>\n",
       "      <td>1</td>\n",
       "      <td>0</td>\n",
       "    </tr>\n",
       "    <tr>\n",
       "      <th>21</th>\n",
       "      <td>7432</td>\n",
       "      <td>22</td>\n",
       "      <td>0</td>\n",
       "      <td>1</td>\n",
       "      <td>0</td>\n",
       "    </tr>\n",
       "    <tr>\n",
       "      <th>22</th>\n",
       "      <td>25385</td>\n",
       "      <td>445</td>\n",
       "      <td>0</td>\n",
       "      <td>1</td>\n",
       "      <td>0</td>\n",
       "    </tr>\n",
       "    <tr>\n",
       "      <th>23</th>\n",
       "      <td>36877</td>\n",
       "      <td>2332</td>\n",
       "      <td>0</td>\n",
       "      <td>1</td>\n",
       "      <td>0</td>\n",
       "    </tr>\n",
       "    <tr>\n",
       "      <th>24</th>\n",
       "      <td>7206</td>\n",
       "      <td>80</td>\n",
       "      <td>0</td>\n",
       "      <td>1</td>\n",
       "      <td>0</td>\n",
       "    </tr>\n",
       "    <tr>\n",
       "      <th>25</th>\n",
       "      <td>56346</td>\n",
       "      <td>8888</td>\n",
       "      <td>0</td>\n",
       "      <td>0</td>\n",
       "      <td>1</td>\n",
       "    </tr>\n",
       "    <tr>\n",
       "      <th>26</th>\n",
       "      <td>37854</td>\n",
       "      <td>445</td>\n",
       "      <td>0</td>\n",
       "      <td>1</td>\n",
       "      <td>0</td>\n",
       "    </tr>\n",
       "    <tr>\n",
       "      <th>27</th>\n",
       "      <td>56248</td>\n",
       "      <td>445</td>\n",
       "      <td>0</td>\n",
       "      <td>0</td>\n",
       "      <td>1</td>\n",
       "    </tr>\n",
       "    <tr>\n",
       "      <th>28</th>\n",
       "      <td>38273</td>\n",
       "      <td>1080</td>\n",
       "      <td>0</td>\n",
       "      <td>1</td>\n",
       "      <td>0</td>\n",
       "    </tr>\n",
       "    <tr>\n",
       "      <th>29</th>\n",
       "      <td>3026</td>\n",
       "      <td>445</td>\n",
       "      <td>0</td>\n",
       "      <td>1</td>\n",
       "      <td>0</td>\n",
       "    </tr>\n",
       "  </tbody>\n",
       "</table>\n",
       "</div>"
      ],
      "text/plain": [
       "    src port  dst port  well-known src pool  registered src pool  cli src pool\n",
       "0      40061       111                    0                    1             0\n",
       "1      53488        80                    0                    0             1\n",
       "2      35051        23                    0                    1             0\n",
       "3       1408       445                    0                    1             0\n",
       "4      55244       995                    0                    0             1\n",
       "5      44544       995                    0                    1             0\n",
       "6      50678      5900                    0                    0             1\n",
       "7      35051        23                    0                    1             0\n",
       "8      50678      5900                    0                    0             1\n",
       "9      50678      5900                    0                    0             1\n",
       "10     59625        21                    0                    0             1\n",
       "11     42626       111                    0                    1             0\n",
       "12      2194       445                    0                    1             0\n",
       "13      7432        22                    0                    1             0\n",
       "14      7206        80                    0                    1             0\n",
       "15     55133        53                    0                    0             1\n",
       "16     60169        80                    0                    0             1\n",
       "17     63030      2222                    0                    0             1\n",
       "18     31905       445                    0                    1             0\n",
       "19     59625        21                    0                    0             1\n",
       "20     36939       111                    0                    1             0\n",
       "21      7432        22                    0                    1             0\n",
       "22     25385       445                    0                    1             0\n",
       "23     36877      2332                    0                    1             0\n",
       "24      7206        80                    0                    1             0\n",
       "25     56346      8888                    0                    0             1\n",
       "26     37854       445                    0                    1             0\n",
       "27     56248       445                    0                    0             1\n",
       "28     38273      1080                    0                    1             0\n",
       "29      3026       445                    0                    1             0"
      ]
     },
     "execution_count": 15,
     "metadata": {},
     "output_type": "execute_result"
    }
   ],
   "source": [
    "# data.loc[:, [\"src port\", \"dst port\", \"well-known src pool\", \"registered src pool\", \"cli src pool\", \"well-known dst pool\", \"registered dst pool\", \"cli dst pool\"]].head(30)\n",
    "data.loc[:, [\"src port\", \"dst port\", \"well-known src pool\", \"registered src pool\", \"cli src pool\"]].head(30)"
   ]
  },
  {
   "cell_type": "markdown",
   "metadata": {},
   "source": [
    "## Change port number info to categorical"
   ]
  },
  {
   "cell_type": "code",
   "execution_count": 16,
   "metadata": {},
   "outputs": [],
   "source": [
    "data[\"src port\"] = data[\"src port\"].apply(str)\n",
    "data[\"dst port\"] = data[\"dst port\"].apply(str)\n",
    "data['src port'].nunique()\n",
    "data['dst port'].nunique()\n",
    "\n",
    "thresh1 = 125\n",
    "thresh2 = 125\n",
    "counts1 = data['src port'].value_counts()\n",
    "counts2 = data['dst port'].value_counts()\n",
    "\n",
    "repl1 = counts1[counts1 <= thresh1].index\n",
    "repl2 = counts2[counts2 <= thresh2].index\n",
    "\n",
    "#hot one encoding for src port numbers\n",
    "data = pd.concat([data, pd.get_dummies(data[\"src port\"].replace(repl1, 'other_src'), prefix=\"is_src\")], axis=1)\n",
    "\n",
    "#hot one encoding for dst port numbers\n",
    "data = pd.concat([data, pd.get_dummies(data[\"dst port\"].replace(repl2, 'other_dst'), prefix=\"is_dst\")], axis=1)"
   ]
  },
  {
   "cell_type": "code",
   "execution_count": 17,
   "metadata": {},
   "outputs": [
    {
     "data": {
      "text/plain": [
       "(217628, 214)"
      ]
     },
     "execution_count": 17,
     "metadata": {},
     "output_type": "execute_result"
    }
   ],
   "source": [
    "data.shape"
   ]
  },
  {
   "cell_type": "markdown",
   "metadata": {},
   "source": [
    "## Hot one encoding"
   ]
  },
  {
   "cell_type": "code",
   "execution_count": 18,
   "metadata": {},
   "outputs": [
    {
     "data": {
      "text/html": [
       "<div>\n",
       "<style scoped>\n",
       "    .dataframe tbody tr th:only-of-type {\n",
       "        vertical-align: middle;\n",
       "    }\n",
       "\n",
       "    .dataframe tbody tr th {\n",
       "        vertical-align: top;\n",
       "    }\n",
       "\n",
       "    .dataframe thead th {\n",
       "        text-align: right;\n",
       "    }\n",
       "</style>\n",
       "<table border=\"1\" class=\"dataframe\">\n",
       "  <thead>\n",
       "    <tr style=\"text-align: right;\">\n",
       "      <th></th>\n",
       "      <th>conn len</th>\n",
       "      <th>service</th>\n",
       "      <th>src bytes</th>\n",
       "      <th>dst bytes</th>\n",
       "      <th>conn numb</th>\n",
       "      <th>Same srv rate</th>\n",
       "      <th>Serror rate</th>\n",
       "      <th>Srv serror rate</th>\n",
       "      <th>Dst host count</th>\n",
       "      <th>Dst host srv count</th>\n",
       "      <th>...</th>\n",
       "      <th>state_REJ</th>\n",
       "      <th>state_RSTO</th>\n",
       "      <th>state_RSTOS0</th>\n",
       "      <th>state_RSTR</th>\n",
       "      <th>state_RSTRH</th>\n",
       "      <th>state_S0</th>\n",
       "      <th>state_S1</th>\n",
       "      <th>state_SF</th>\n",
       "      <th>state_SH</th>\n",
       "      <th>state_SHR</th>\n",
       "    </tr>\n",
       "  </thead>\n",
       "  <tbody>\n",
       "    <tr>\n",
       "      <th>217618</th>\n",
       "      <td>0.410043</td>\n",
       "      <td>other</td>\n",
       "      <td>150</td>\n",
       "      <td>0</td>\n",
       "      <td>0</td>\n",
       "      <td>0.0</td>\n",
       "      <td>0.0</td>\n",
       "      <td>1.0</td>\n",
       "      <td>0</td>\n",
       "      <td>0</td>\n",
       "      <td>...</td>\n",
       "      <td>0</td>\n",
       "      <td>0</td>\n",
       "      <td>0</td>\n",
       "      <td>0</td>\n",
       "      <td>0</td>\n",
       "      <td>1</td>\n",
       "      <td>0</td>\n",
       "      <td>0</td>\n",
       "      <td>0</td>\n",
       "      <td>0</td>\n",
       "    </tr>\n",
       "    <tr>\n",
       "      <th>217619</th>\n",
       "      <td>0.000000</td>\n",
       "      <td>other</td>\n",
       "      <td>0</td>\n",
       "      <td>0</td>\n",
       "      <td>0</td>\n",
       "      <td>0.0</td>\n",
       "      <td>0.0</td>\n",
       "      <td>1.0</td>\n",
       "      <td>0</td>\n",
       "      <td>0</td>\n",
       "      <td>...</td>\n",
       "      <td>0</td>\n",
       "      <td>0</td>\n",
       "      <td>0</td>\n",
       "      <td>0</td>\n",
       "      <td>0</td>\n",
       "      <td>0</td>\n",
       "      <td>0</td>\n",
       "      <td>0</td>\n",
       "      <td>0</td>\n",
       "      <td>0</td>\n",
       "    </tr>\n",
       "    <tr>\n",
       "      <th>217620</th>\n",
       "      <td>1.215994</td>\n",
       "      <td>other</td>\n",
       "      <td>60</td>\n",
       "      <td>0</td>\n",
       "      <td>0</td>\n",
       "      <td>0.0</td>\n",
       "      <td>0.0</td>\n",
       "      <td>0.0</td>\n",
       "      <td>0</td>\n",
       "      <td>0</td>\n",
       "      <td>...</td>\n",
       "      <td>0</td>\n",
       "      <td>0</td>\n",
       "      <td>0</td>\n",
       "      <td>0</td>\n",
       "      <td>0</td>\n",
       "      <td>1</td>\n",
       "      <td>0</td>\n",
       "      <td>0</td>\n",
       "      <td>0</td>\n",
       "      <td>0</td>\n",
       "    </tr>\n",
       "    <tr>\n",
       "      <th>217621</th>\n",
       "      <td>0.000000</td>\n",
       "      <td>dns</td>\n",
       "      <td>0</td>\n",
       "      <td>0</td>\n",
       "      <td>0</td>\n",
       "      <td>0.0</td>\n",
       "      <td>0.0</td>\n",
       "      <td>0.0</td>\n",
       "      <td>0</td>\n",
       "      <td>0</td>\n",
       "      <td>...</td>\n",
       "      <td>0</td>\n",
       "      <td>0</td>\n",
       "      <td>0</td>\n",
       "      <td>0</td>\n",
       "      <td>0</td>\n",
       "      <td>1</td>\n",
       "      <td>0</td>\n",
       "      <td>0</td>\n",
       "      <td>0</td>\n",
       "      <td>0</td>\n",
       "    </tr>\n",
       "    <tr>\n",
       "      <th>217622</th>\n",
       "      <td>0.000000</td>\n",
       "      <td>other</td>\n",
       "      <td>0</td>\n",
       "      <td>0</td>\n",
       "      <td>0</td>\n",
       "      <td>0.0</td>\n",
       "      <td>0.0</td>\n",
       "      <td>1.0</td>\n",
       "      <td>0</td>\n",
       "      <td>0</td>\n",
       "      <td>...</td>\n",
       "      <td>0</td>\n",
       "      <td>0</td>\n",
       "      <td>0</td>\n",
       "      <td>0</td>\n",
       "      <td>0</td>\n",
       "      <td>1</td>\n",
       "      <td>0</td>\n",
       "      <td>0</td>\n",
       "      <td>0</td>\n",
       "      <td>0</td>\n",
       "    </tr>\n",
       "    <tr>\n",
       "      <th>217623</th>\n",
       "      <td>0.000000</td>\n",
       "      <td>other</td>\n",
       "      <td>0</td>\n",
       "      <td>0</td>\n",
       "      <td>1</td>\n",
       "      <td>1.0</td>\n",
       "      <td>1.0</td>\n",
       "      <td>1.0</td>\n",
       "      <td>0</td>\n",
       "      <td>1</td>\n",
       "      <td>...</td>\n",
       "      <td>0</td>\n",
       "      <td>0</td>\n",
       "      <td>0</td>\n",
       "      <td>0</td>\n",
       "      <td>0</td>\n",
       "      <td>1</td>\n",
       "      <td>0</td>\n",
       "      <td>0</td>\n",
       "      <td>0</td>\n",
       "      <td>0</td>\n",
       "    </tr>\n",
       "    <tr>\n",
       "      <th>217624</th>\n",
       "      <td>0.000000</td>\n",
       "      <td>other</td>\n",
       "      <td>0</td>\n",
       "      <td>0</td>\n",
       "      <td>0</td>\n",
       "      <td>0.0</td>\n",
       "      <td>0.0</td>\n",
       "      <td>1.0</td>\n",
       "      <td>2</td>\n",
       "      <td>2</td>\n",
       "      <td>...</td>\n",
       "      <td>0</td>\n",
       "      <td>0</td>\n",
       "      <td>0</td>\n",
       "      <td>0</td>\n",
       "      <td>0</td>\n",
       "      <td>1</td>\n",
       "      <td>0</td>\n",
       "      <td>0</td>\n",
       "      <td>0</td>\n",
       "      <td>0</td>\n",
       "    </tr>\n",
       "    <tr>\n",
       "      <th>217625</th>\n",
       "      <td>0.000000</td>\n",
       "      <td>other</td>\n",
       "      <td>0</td>\n",
       "      <td>0</td>\n",
       "      <td>0</td>\n",
       "      <td>0.0</td>\n",
       "      <td>0.0</td>\n",
       "      <td>1.0</td>\n",
       "      <td>0</td>\n",
       "      <td>0</td>\n",
       "      <td>...</td>\n",
       "      <td>0</td>\n",
       "      <td>0</td>\n",
       "      <td>0</td>\n",
       "      <td>0</td>\n",
       "      <td>0</td>\n",
       "      <td>1</td>\n",
       "      <td>0</td>\n",
       "      <td>0</td>\n",
       "      <td>0</td>\n",
       "      <td>0</td>\n",
       "    </tr>\n",
       "    <tr>\n",
       "      <th>217626</th>\n",
       "      <td>0.000000</td>\n",
       "      <td>other</td>\n",
       "      <td>0</td>\n",
       "      <td>0</td>\n",
       "      <td>1</td>\n",
       "      <td>1.0</td>\n",
       "      <td>1.0</td>\n",
       "      <td>1.0</td>\n",
       "      <td>0</td>\n",
       "      <td>1</td>\n",
       "      <td>...</td>\n",
       "      <td>0</td>\n",
       "      <td>0</td>\n",
       "      <td>0</td>\n",
       "      <td>0</td>\n",
       "      <td>0</td>\n",
       "      <td>1</td>\n",
       "      <td>0</td>\n",
       "      <td>0</td>\n",
       "      <td>0</td>\n",
       "      <td>0</td>\n",
       "    </tr>\n",
       "    <tr>\n",
       "      <th>217627</th>\n",
       "      <td>0.000000</td>\n",
       "      <td>other</td>\n",
       "      <td>0</td>\n",
       "      <td>0</td>\n",
       "      <td>0</td>\n",
       "      <td>0.0</td>\n",
       "      <td>0.0</td>\n",
       "      <td>1.0</td>\n",
       "      <td>0</td>\n",
       "      <td>0</td>\n",
       "      <td>...</td>\n",
       "      <td>0</td>\n",
       "      <td>0</td>\n",
       "      <td>0</td>\n",
       "      <td>0</td>\n",
       "      <td>0</td>\n",
       "      <td>1</td>\n",
       "      <td>0</td>\n",
       "      <td>0</td>\n",
       "      <td>0</td>\n",
       "      <td>0</td>\n",
       "    </tr>\n",
       "  </tbody>\n",
       "</table>\n",
       "<p>10 rows × 238 columns</p>\n",
       "</div>"
      ],
      "text/plain": [
       "        conn len service  src bytes  dst bytes  conn numb  Same srv rate  \\\n",
       "217618  0.410043   other        150          0          0            0.0   \n",
       "217619  0.000000   other          0          0          0            0.0   \n",
       "217620  1.215994   other         60          0          0            0.0   \n",
       "217621  0.000000     dns          0          0          0            0.0   \n",
       "217622  0.000000   other          0          0          0            0.0   \n",
       "217623  0.000000   other          0          0          1            1.0   \n",
       "217624  0.000000   other          0          0          0            0.0   \n",
       "217625  0.000000   other          0          0          0            0.0   \n",
       "217626  0.000000   other          0          0          1            1.0   \n",
       "217627  0.000000   other          0          0          0            0.0   \n",
       "\n",
       "        Serror rate  Srv serror rate  Dst host count  Dst host srv count  \\\n",
       "217618          0.0              1.0               0                   0   \n",
       "217619          0.0              1.0               0                   0   \n",
       "217620          0.0              0.0               0                   0   \n",
       "217621          0.0              0.0               0                   0   \n",
       "217622          0.0              1.0               0                   0   \n",
       "217623          1.0              1.0               0                   1   \n",
       "217624          0.0              1.0               2                   2   \n",
       "217625          0.0              1.0               0                   0   \n",
       "217626          1.0              1.0               0                   1   \n",
       "217627          0.0              1.0               0                   0   \n",
       "\n",
       "          ...      state_REJ  state_RSTO  state_RSTOS0 state_RSTR  \\\n",
       "217618    ...              0           0             0          0   \n",
       "217619    ...              0           0             0          0   \n",
       "217620    ...              0           0             0          0   \n",
       "217621    ...              0           0             0          0   \n",
       "217622    ...              0           0             0          0   \n",
       "217623    ...              0           0             0          0   \n",
       "217624    ...              0           0             0          0   \n",
       "217625    ...              0           0             0          0   \n",
       "217626    ...              0           0             0          0   \n",
       "217627    ...              0           0             0          0   \n",
       "\n",
       "        state_RSTRH state_S0 state_S1 state_SF  state_SH  state_SHR  \n",
       "217618            0        1        0        0         0          0  \n",
       "217619            0        0        0        0         0          0  \n",
       "217620            0        1        0        0         0          0  \n",
       "217621            0        1        0        0         0          0  \n",
       "217622            0        1        0        0         0          0  \n",
       "217623            0        1        0        0         0          0  \n",
       "217624            0        1        0        0         0          0  \n",
       "217625            0        1        0        0         0          0  \n",
       "217626            0        1        0        0         0          0  \n",
       "217627            0        1        0        0         0          0  \n",
       "\n",
       "[10 rows x 238 columns]"
      ]
     },
     "execution_count": 18,
     "metadata": {},
     "output_type": "execute_result"
    }
   ],
   "source": [
    "### hot one encoding ###\n",
    "\n",
    "# hot one encoding for service\n",
    "data = pd.concat([data, pd.get_dummies(data[\"service\"], prefix=\"is\")], axis=1)\n",
    "data.tail(10)\n",
    "\n",
    "#hot one encoding for proto - commented due to reduced column number\n",
    "data = pd.concat([data, pd.get_dummies(data[\"proto\"], prefix=\"is\")], axis=1)\n",
    "data.tail(10)\n",
    "\n",
    "# hot one encoding for conn state\n",
    "data = pd.concat([data, pd.get_dummies(data[\"Conn state\"], prefix=\"state\")], axis=1)\n",
    "data.tail(10)"
   ]
  },
  {
   "cell_type": "code",
   "execution_count": 19,
   "metadata": {},
   "outputs": [
    {
     "name": "stdout",
     "output_type": "stream",
     "text": [
      "<class 'pandas.core.frame.DataFrame'>\n",
      "Int64Index: 217628 entries, 0 to 217627\n",
      "Columns: 238 entries, conn len to state_SHR\n",
      "dtypes: float64(7), int64(9), object(5), uint8(217)\n",
      "memory usage: 81.6+ MB\n"
     ]
    }
   ],
   "source": [
    "data.info()"
   ]
  },
  {
   "cell_type": "markdown",
   "metadata": {},
   "source": [
    "## Plot function definition"
   ]
  },
  {
   "cell_type": "code",
   "execution_count": 20,
   "metadata": {},
   "outputs": [],
   "source": [
    "# plotting method definition\n",
    "\n",
    "def plot_stats(stat, name, width, rot):\n",
    "    fig, ax = plt.subplots(figsize=(width, 4))    \n",
    "    ax.bar(range(len(stat)), list(stat.values()), align='center')\n",
    "    plt.xticks(range(len(stat)), list(stat.keys()), rotation=rot)\n",
    "    for a,b in enumerate(stat.items()):\n",
    "        ax.text(a, b[1] + max(stat.values())/60 , str(round(b[1],5)), horizontalalignment ='center', verticalalignment='baseline')\n",
    "    ax.spines['right'].set_visible(False)\n",
    "    ax.spines['top'].set_visible(False)\n",
    "    plt.title(name + \" of tested algorithms\")\n",
    "    plt.show()"
   ]
  },
  {
   "cell_type": "markdown",
   "metadata": {},
   "source": [
    "## Dataset split"
   ]
  },
  {
   "cell_type": "code",
   "execution_count": 21,
   "metadata": {},
   "outputs": [
    {
     "name": "stdout",
     "output_type": "stream",
     "text": [
      "Counter({0: 14952, 1: 7548})\n",
      "Counter({1: 14607, 0: 7893})\n",
      "Counter({1: 86179, 0: 18821})\n"
     ]
    }
   ],
   "source": [
    "data[\"src port\"] = data[\"src port\"].apply(str)\n",
    "data[\"dst port\"] = data[\"dst port\"].apply(str)\n",
    "\n",
    "data.rename(columns={'Dst host count': 'Dst_host_count', \"Dst host srv count\" : \"Dst_host_srv_count\",\n",
    "                    \"Dst host same src port rate\" : \"Dst_host_same_src_port_rate\",\n",
    "                    \"Dst host serror rate\" : \"Dst_host_serror_rate\",\n",
    "                    \"Dst host srv serror rate\" : \"Dst_host_srv_serror_rate\",\n",
    "                    \"Same srv rate\" : \"Same_srv_rate\",\n",
    "                    \"Srv serror rate\" : \"Srv_serror_rate\",\n",
    "                    \"conn len\" : \"conn_len\",\n",
    "                    \"src bytes\" : \"src_bytes\",\n",
    "                    \"dst bytes\" : \"dst_bytes\",\n",
    "                    \"conn numb\" : \"conn_numb\",\n",
    "                    \"Serror rate\" : \"Serror_rate\",\n",
    "                    \"cli src pool\" : \"cli_src_pool\",\n",
    "                    \"registered src pool\" : \"registered_src_pool\",\n",
    "                    \"well-known src pool\" : \"well_known_src_pool\",\n",
    "                    \"dst port\" : \"dst_port\",\n",
    "                    \"src port\" : \"src_port\",\n",
    "                     \"Conn state\" : \"Conn_state\" \n",
    "                    }, inplace=True)\n",
    "\n",
    "sampled_data = data.loc[range(150000), :]\n",
    "\n",
    "train_alg, validate_alg, test_alg = np.split(sampled_data, [int(.7*len(sampled_data)), int(.85*len(sampled_data))])\n",
    "\n",
    "train_alg = train_alg.drop([\"service\", \"Conn_state\", \"proto\", \"src_port\", \"dst_port\"], axis=1)\n",
    "validate_alg = validate_alg.drop([\"service\", \"Conn_state\", \"proto\", \"src_port\", \"dst_port\"], axis=1)\n",
    "test_alg = test_alg.drop([\"service\", \"Conn_state\", \"proto\", \"src_port\", \"dst_port\"], axis=1)\n",
    "\n",
    "train_alg = train_alg.sample(frac=1)\n",
    "validate_alg = validate_alg.sample(frac=1)\n",
    "test_alg = test_alg.sample(frac=1)\n",
    "\n",
    "y_train_alg = train_alg.loc[:, \"attack_flag\"].values.ravel()\n",
    "X_train_alg = train_alg.drop([\"attack_flag\"], axis=1).astype(np.float32)\n",
    "y_validate_alg = validate_alg.loc[:, \"attack_flag\"].values.ravel()\n",
    "X_validate_alg = validate_alg.drop([\"attack_flag\"], axis=1).astype(np.float32)\n",
    "y_test_alg = test_alg.loc[:, \"attack_flag\"].values.ravel()\n",
    "X_test_alg = test_alg.drop([\"attack_flag\"], axis=1).astype(np.float32)\n",
    "\n",
    "print(Counter(y_test_alg))\n",
    "print(Counter(y_validate_alg))\n",
    "print(Counter(y_train_alg))"
   ]
  },
  {
   "cell_type": "code",
   "execution_count": 22,
   "metadata": {},
   "outputs": [
    {
     "name": "stdout",
     "output_type": "stream",
     "text": [
      "Counter({1: 30946, 0: 1699})\n",
      "Counter({0: 22937, 1: 9707})\n",
      "Counter({1: 109262, 0: 43077})\n"
     ]
    }
   ],
   "source": [
    "data['src_port'] = data['src_port'].apply(lambda x: \"src_\" + x)\n",
    "data['dst_port'] = data['dst_port'].apply(lambda x: \"dst_\" + x)\n",
    "\n",
    "train, validate, test = np.split(data, [int(.7*len(data)), int(.85*len(data))])\n",
    "\n",
    "\n",
    "train_ex = train\n",
    "validate_ex = validate\n",
    "test_ex = test\n",
    "\n",
    "train = train.drop([\"service\", \"Conn_state\", \"proto\", \"src_port\", \"dst_port\"], axis=1)\n",
    "validate = validate.drop([\"service\", \"Conn_state\", \"proto\", \"src_port\", \"dst_port\"], axis=1)\n",
    "test = test.drop([\"service\", \"Conn_state\", \"proto\", \"src_port\", \"dst_port\"], axis=1)\n",
    "\n",
    "train = train.sample(frac=1)\n",
    "validate = validate.sample(frac=1)\n",
    "test = test.sample(frac=1)\n",
    "\n",
    "y_train = train.loc[:, \"attack_flag\"].values.ravel()\n",
    "X_train = train.drop([\"attack_flag\"], axis=1).astype(np.float32)\n",
    "y_validate = validate.loc[:, \"attack_flag\"].values.ravel()\n",
    "X_validate = validate.drop([\"attack_flag\"], axis=1).astype(np.float32)\n",
    "y_test = test.loc[:, \"attack_flag\"].values.ravel()\n",
    "X_test = test.drop([\"attack_flag\"], axis=1).astype(np.float32)\n",
    "\n",
    "print(Counter(y_test))\n",
    "print(Counter(y_validate))\n",
    "print(Counter(y_train))"
   ]
  },
  {
   "cell_type": "markdown",
   "metadata": {},
   "source": [
    "# Algoritms performance comparison"
   ]
  },
  {
   "cell_type": "code",
   "execution_count": 23,
   "metadata": {},
   "outputs": [
    {
     "name": "stdout",
     "output_type": "stream",
     "text": [
      "Counter({1: 30946, 0: 1699})\n"
     ]
    }
   ],
   "source": [
    "from collections import Counter\n",
    "\n",
    "print(Counter(y_test))\n",
    "\n",
    "Acc = {}\n",
    "F1S = {}\n",
    "Prec = {}\n",
    "Rec = {}\n",
    "FPR = {}\n",
    "FNR = {}"
   ]
  },
  {
   "cell_type": "code",
   "execution_count": 24,
   "metadata": {},
   "outputs": [
    {
     "name": "stdout",
     "output_type": "stream",
     "text": [
      "Algorithm: baseline     Accuracy: 0.94796, F1-score: 0.97328, Precision: 0.94796, Recall: 1.00000, FPR: 1.00000, FNR: 0.00000\n",
      "TN:   0; FP: 1699; FN:    0; TP: 30946\n",
      "\n"
     ]
    }
   ],
   "source": [
    "# Metrics of baseline method\n",
    "from sklearn import metrics\n",
    "\n",
    "name = \"baseline\"\n",
    "\n",
    "if(y_test.mean() > (1-y_test.mean())):\n",
    "    y_pred = np.ones(len(y_test)).ravel() \n",
    "else:\n",
    "    y_pred = np.zeros(len(y_test)).ravel() \n",
    "    \n",
    "Acc[name] = metrics.accuracy_score(y_test, y_pred)\n",
    "F1S[name] = metrics.f1_score(y_test, y_pred)\n",
    "Prec[name] = metrics.precision_score(y_test, y_pred)\n",
    "Rec[name] = metrics.recall_score(y_test, y_pred)\n",
    "tn, fp, fn, tp = metrics.confusion_matrix(y_test, y_pred).ravel()\n",
    "FPR[name] = fp/(fp+tn)\n",
    "FNR[name] = fn/(tp+fn)\n",
    "\n",
    "print(\"Algorithm: {0:12} Accuracy: {1:.5f}, F1-score: {2:.5f}, Precision: {3:.5f}, Recall: {4:.5f}, FPR: {5:.5f}, FNR: {6:.5f}\".format(name, Acc[name], F1S[name], Prec[name], Rec[name], FPR[name], FNR[name]))\n",
    "print(\"TN: {0:3}; FP: {1:3}; FN: {2:4}; TP: {3:3}\\n\".format(tn, fp, fn, tp))"
   ]
  },
  {
   "cell_type": "code",
   "execution_count": 25,
   "metadata": {},
   "outputs": [
    {
     "name": "stdout",
     "output_type": "stream",
     "text": [
      "Algorithm: LogisticReg  Accuracy: 0.97326, F1-score: 0.98587, Precision: 0.98780, Recall: 0.98394, FPR: 0.22131, FNR: 0.01606\n",
      "TN: 1323; FP: 376; FN:  497; TP: 30449\n",
      "\n"
     ]
    }
   ],
   "source": [
    "from sklearn.linear_model import LogisticRegression\n",
    "from sklearn import metrics\n",
    "\n",
    "clf = LogisticRegression(solver = 'newton-cg')\n",
    "\n",
    "model = clf.fit(X_train, y_train)\n",
    "\n",
    "y_pred = model.predict(X_test)\n",
    "\n",
    "name = \"LogisticReg\"\n",
    "\n",
    "Acc[name] = metrics.accuracy_score(y_test, y_pred)\n",
    "F1S[name] = metrics.f1_score(y_test, y_pred)\n",
    "Prec[name] = metrics.precision_score(y_test, y_pred)\n",
    "Rec[name] = metrics.recall_score(y_test, y_pred)\n",
    "tn, fp, fn, tp = metrics.confusion_matrix(y_test, y_pred).ravel()\n",
    "FPR[name] = fp/(fp+tn)\n",
    "FNR[name] = fn/(tp+fn)\n",
    "\n",
    "print(\"Algorithm: {0:12} Accuracy: {1:.5f}, F1-score: {2:.5f}, Precision: {3:.5f}, Recall: {4:.5f}, FPR: {5:.5f}, FNR: {6:.5f}\".format(name, Acc[name], F1S[name], Prec[name], Rec[name], FPR[name], FNR[name]))\n",
    "print(\"TN: {0:3}; FP: {1:3}; FN: {2:4}; TP: {3:3}\\n\".format(tn, fp, fn, tp))"
   ]
  },
  {
   "cell_type": "code",
   "execution_count": 26,
   "metadata": {},
   "outputs": [
    {
     "name": "stdout",
     "output_type": "stream",
     "text": [
      "Algorithm: AdaBoost     Accuracy: 0.98726, F1-score: 0.99326, Precision: 0.99642, Recall: 0.99011, FPR: 0.06474, FNR: 0.00989\n",
      "TN: 1589; FP: 110; FN:  306; TP: 30640\n",
      "\n",
      "Algorithm: DecisionTree Accuracy: 0.98759, F1-score: 0.99343, Precision: 0.99707, Recall: 0.98982, FPR: 0.05297, FNR: 0.01018\n",
      "TN: 1609; FP:  90; FN:  315; TP: 30631\n",
      "\n",
      "Algorithm: NaiveBayes   Accuracy: 0.92755, F1-score: 0.96037, Precision: 0.99749, Recall: 0.92590, FPR: 0.04238, FNR: 0.07410\n",
      "TN: 1627; FP:  72; FN: 2293; TP: 28653\n",
      "\n",
      "Algorithm: RandomTree   Accuracy: 0.98894, F1-score: 0.99415, Precision: 0.99714, Recall: 0.99118, FPR: 0.05180, FNR: 0.00882\n",
      "TN: 1611; FP:  88; FN:  273; TP: 30673\n",
      "\n",
      "Algorithm: RandomForest Accuracy: 0.98821, F1-score: 0.99376, Precision: 0.99633, Recall: 0.99121, FPR: 0.06651, FNR: 0.00879\n",
      "TN: 1586; FP: 113; FN:  272; TP: 30674\n",
      "\n"
     ]
    }
   ],
   "source": [
    "from sklearn.ensemble import AdaBoostClassifier\n",
    "from sklearn.tree import DecisionTreeClassifier\n",
    "from sklearn.naive_bayes import GaussianNB\n",
    "from sklearn.ensemble import RandomForestClassifier\n",
    "from sklearn.linear_model import LogisticRegression\n",
    "from sklearn.pipeline import make_pipeline\n",
    "from sklearn.preprocessing import StandardScaler\n",
    "from sklearn.ensemble import BaggingClassifier\n",
    "\n",
    "\n",
    "seed = 12\n",
    "num_trees = 45\n",
    "\n",
    "classifiers = {\n",
    "               \"AdaBoost\":AdaBoostClassifier(DecisionTreeClassifier(max_depth = 13), n_estimators=num_trees),\n",
    "               \"DecisionTree\":DecisionTreeClassifier(random_state=0, criterion = \"entropy\", max_depth = 13),\n",
    "               \"NaiveBayes\":GaussianNB(),\n",
    "               \"RandomTree\":BaggingClassifier(DecisionTreeClassifier(random_state=0, criterion = \"entropy\", max_depth = 13), n_estimators=93),\n",
    "               \"RandomForest\":RandomForestClassifier(n_estimators=178, max_depth=31, random_state=0),\n",
    "}\n",
    "\n",
    "\n",
    "for name, clf in classifiers.items():\n",
    "    \n",
    "    model = clf.fit(X_train_alg, y_train_alg)\n",
    "    \n",
    "    y_pred = model.predict(X_test)\n",
    "    \n",
    "    Acc[name] = metrics.accuracy_score(y_test, y_pred)\n",
    "    F1S[name] = metrics.f1_score(y_test, y_pred)\n",
    "    Prec[name] = metrics.precision_score(y_test, y_pred)\n",
    "    Rec[name] = metrics.recall_score(y_test, y_pred)\n",
    "    tn, fp, fn, tp = metrics.confusion_matrix(y_test, y_pred).ravel()\n",
    "    FPR[name] = fp/(fp+tn)\n",
    "    FNR[name] = fn/(tp+fn)\n",
    "\n",
    "    print(\"Algorithm: {0:12} Accuracy: {1:.5f}, F1-score: {2:.5f}, Precision: {3:.5f}, Recall: {4:.5f}, FPR: {5:.5f}, FNR: {6:.5f}\".format(name, Acc[name], F1S[name], Prec[name], Rec[name], FPR[name], FNR[name]))\n",
    "    print(\"TN: {0:3}; FP: {1:3}; FN: {2:4}; TP: {3:3}\\n\".format(tn, fp, fn, tp))"
   ]
  },
  {
   "cell_type": "code",
   "execution_count": 27,
   "metadata": {},
   "outputs": [
    {
     "data": {
      "image/png": "[encoded data removed]",
      "text/plain": [
       "<matplotlib.figure.Figure at 0x7fa56ccf3128>"
      ]
     },
     "metadata": {
      "needs_background": "light"
     },
     "output_type": "display_data"
    },
    {
     "data": {
      "image/png": "[encoded data removed]",
      "text/plain": [
       "<matplotlib.figure.Figure at 0x7fa56ccf3198>"
      ]
     },
     "metadata": {
      "needs_background": "light"
     },
     "output_type": "display_data"
    },
    {
     "data": {
      "image/png": "[encoded data removed]",
      "text/plain": [
       "<matplotlib.figure.Figure at 0x7fa56ccf2a20>"
      ]
     },
     "metadata": {
      "needs_background": "light"
     },
     "output_type": "display_data"
    },
    {
     "data": {
      "image/png": "[encoded data removed]",
      "text/plain": [
       "<matplotlib.figure.Figure at 0x7fa549142518>"
      ]
     },
     "metadata": {
      "needs_background": "light"
     },
     "output_type": "display_data"
    },
    {
     "data": {
      "image/png": "[encoded data removed]",
      "text/plain": [
       "<matplotlib.figure.Figure at 0x7fa549109828>"
      ]
     },
     "metadata": {
      "needs_background": "light"
     },
     "output_type": "display_data"
    },
    {
     "data": {
      "image/png": "[encoded data removed]",
      "text/plain": [
       "<matplotlib.figure.Figure at 0x7fa548fe4f28>"
      ]
     },
     "metadata": {
      "needs_background": "light"
     },
     "output_type": "display_data"
    }
   ],
   "source": [
    "plot_stats(Acc, \"Accuracy\", 8, 55)\n",
    "plot_stats(F1S, \"F1-score\", 8, 55)\n",
    "plot_stats(Prec, \"Precision\", 8, 55)\n",
    "plot_stats(Rec, \"Recall\", 8, 55)\n",
    "plot_stats(FPR, \"False Positive Rate\", 8, 55)\n",
    "plot_stats(FNR, \"False Negative Rate\", 8, 55)"
   ]
  },
  {
   "cell_type": "markdown",
   "metadata": {},
   "source": [
    "# Random Features for Large-Scale Kernel Machines"
   ]
  },
  {
   "cell_type": "code",
   "execution_count": 28,
   "metadata": {},
   "outputs": [],
   "source": [
    "import numpy as np\n",
    "import tensorflow as tf\n",
    "import time"
   ]
  },
  {
   "cell_type": "code",
   "execution_count": 29,
   "metadata": {},
   "outputs": [
    {
     "data": {
      "text/plain": [
       "(152339, 232)"
      ]
     },
     "execution_count": 29,
     "metadata": {},
     "output_type": "execute_result"
    }
   ],
   "source": [
    "X_train.values.shape"
   ]
  },
  {
   "cell_type": "code",
   "execution_count": 30,
   "metadata": {},
   "outputs": [],
   "source": [
    "train_input_fn = tf.estimator.inputs.numpy_input_fn(    \n",
    "    x={\"features\": X_train.values},    \n",
    "    y=y_train,    \n",
    "    batch_size=180,    \n",
    "    num_epochs=None,    \n",
    "    shuffle=False)"
   ]
  },
  {
   "cell_type": "code",
   "execution_count": 31,
   "metadata": {},
   "outputs": [
    {
     "data": {
      "text/plain": [
       "(32644, 232)"
      ]
     },
     "execution_count": 31,
     "metadata": {},
     "output_type": "execute_result"
    }
   ],
   "source": [
    "X_validate.shape"
   ]
  },
  {
   "cell_type": "code",
   "execution_count": 32,
   "metadata": {},
   "outputs": [],
   "source": [
    "eval_input_fn = tf.estimator.inputs.numpy_input_fn(\n",
    "    x={\"features\": X_validate.values},\n",
    "    y=y_validate,\n",
    "    batch_size=X_validate.shape[0],\n",
    "    num_epochs=1,\n",
    "    shuffle=False)"
   ]
  },
  {
   "cell_type": "code",
   "execution_count": 33,
   "metadata": {},
   "outputs": [
    {
     "data": {
      "text/plain": [
       "(32645, 232)"
      ]
     },
     "execution_count": 33,
     "metadata": {},
     "output_type": "execute_result"
    }
   ],
   "source": [
    "X_test.shape"
   ]
  },
  {
   "cell_type": "code",
   "execution_count": 34,
   "metadata": {},
   "outputs": [],
   "source": [
    "test_input_fn = tf.estimator.inputs.numpy_input_fn(\n",
    "    x={\"features\": X_test.values},\n",
    "    y=y_test,\n",
    "    batch_size=X_test.shape[0],\n",
    "    num_epochs=1,\n",
    "    shuffle=False)"
   ]
  },
  {
   "cell_type": "markdown",
   "metadata": {},
   "source": [
    "## Using explicit kernel mappings with the linear model"
   ]
  },
  {
   "cell_type": "code",
   "execution_count": 35,
   "metadata": {},
   "outputs": [],
   "source": [
    "data.rename(columns={'Dst host count': 'Dst_host_count', \"Dst host srv count\" : \"Dst_host_srv_count\",\n",
    "                    \"Dst host same src port rate\" : \"Dst_host_same_src_port_rate\",\n",
    "                    \"Dst host serror rate\" : \"Dst_host_serror_rate\",\n",
    "                    \"Dst host srv serror rate\" : \"Dst_host_srv_serror_rate\",\n",
    "                    \"Same srv rate\" : \"Same_srv_rate\",\n",
    "                    \"Srv serror rate\" : \"Srv_serror_rate\",\n",
    "                    \"conn len\" : \"conn_len\",\n",
    "                    \"src bytes\" : \"src_bytes\",\n",
    "                    \"dst bytes\" : \"dst_bytes\",\n",
    "                    \"conn numb\" : \"conn_numb\",\n",
    "                    \"Serror rate\" : \"Serror_rate\",\n",
    "                    \"cli src pool\" : \"cli_src_pool\",\n",
    "                    \"registered src pool\" : \"registered_src_pool\",\n",
    "                    \"well-known src pool\" : \"well_known_src_pool\", \n",
    "                    \"dst port\" : \"dst_port\",\n",
    "                    \"src port\" : \"src_port\",\n",
    "                    \"Conn state\" : \"Conn_state\" \n",
    "                    }, inplace=True)"
   ]
  },
  {
   "cell_type": "code",
   "execution_count": 36,
   "metadata": {},
   "outputs": [],
   "source": [
    "feat_column = tf.contrib.layers.real_valued_column('features', dimension=len(X_train.columns.values))"
   ]
  },
  {
   "cell_type": "code",
   "execution_count": 37,
   "metadata": {},
   "outputs": [],
   "source": [
    "kernel_mapper = tf.contrib.kernel_methods.RandomFourierFeatureMapper(input_dim=len(X_train.columns.values), output_dim=5000, stddev=5, name='rffm')"
   ]
  },
  {
   "cell_type": "code",
   "execution_count": 38,
   "metadata": {},
   "outputs": [],
   "source": [
    "kernel_mappers = {feat_column: [kernel_mapper]}"
   ]
  },
  {
   "cell_type": "code",
   "execution_count": 39,
   "metadata": {},
   "outputs": [],
   "source": [
    "! rm -r kernel_train"
   ]
  },
  {
   "cell_type": "code",
   "execution_count": 40,
   "metadata": {},
   "outputs": [],
   "source": [
    "optimizer = tf.train.FtrlOptimizer(learning_rate=25, l2_regularization_strength=0.001)"
   ]
  },
  {
   "cell_type": "code",
   "execution_count": 41,
   "metadata": {},
   "outputs": [
    {
     "name": "stdout",
     "output_type": "stream",
     "text": [
      "WARNING:tensorflow:From /home/matz/.local/lib/python3.6/site-packages/tensorflow/contrib/kernel_methods/python/kernel_estimators.py:305: multi_class_head (from tensorflow.contrib.learn.python.learn.estimators.head) is deprecated and will be removed in a future version.\n",
      "Instructions for updating:\n",
      "Please switch to tf.contrib.estimator.*_head.\n",
      "WARNING:tensorflow:From /home/matz/.local/lib/python3.6/site-packages/tensorflow/contrib/learn/python/learn/estimators/estimator.py:1180: BaseEstimator.__init__ (from tensorflow.contrib.learn.python.learn.estimators.estimator) is deprecated and will be removed in a future version.\n",
      "Instructions for updating:\n",
      "Please replace uses of any Estimator from tf.contrib.learn with an Estimator from tf.estimator.*\n",
      "WARNING:tensorflow:From /home/matz/.local/lib/python3.6/site-packages/tensorflow/contrib/learn/python/learn/estimators/estimator.py:428: RunConfig.__init__ (from tensorflow.contrib.learn.python.learn.estimators.run_config) is deprecated and will be removed in a future version.\n",
      "Instructions for updating:\n",
      "When switching to tf.estimator.Estimator, use tf.estimator.RunConfig instead.\n",
      "INFO:tensorflow:Using default config.\n",
      "INFO:tensorflow:Using config: {'_task_type': None, '_task_id': 0, '_cluster_spec': <tensorflow.python.training.server_lib.ClusterSpec object at 0x7fa530876358>, '_master': '', '_num_ps_replicas': 0, '_num_worker_replicas': 0, '_environment': 'local', '_is_chief': True, '_evaluation_master': '', '_train_distribute': None, '_eval_distribute': None, '_device_fn': None, '_tf_config': gpu_options {\n",
      "  per_process_gpu_memory_fraction: 1.0\n",
      "}\n",
      ", '_tf_random_seed': None, '_save_summary_steps': 100, '_save_checkpoints_secs': 600, '_log_step_count_steps': 100, '_protocol': None, '_session_config': None, '_save_checkpoints_steps': None, '_keep_checkpoint_max': 5, '_keep_checkpoint_every_n_hours': 10000, '_model_dir': 'kernel_train'}\n"
     ]
    }
   ],
   "source": [
    "estimator_kernel = tf.contrib.kernel_methods.KernelLinearClassifier(\n",
    "    n_classes=2,\n",
    "    optimizer=optimizer,\n",
    "    kernel_mappers=kernel_mappers, \n",
    "    model_dir=\"kernel_train\")"
   ]
  },
  {
   "cell_type": "code",
   "execution_count": 42,
   "metadata": {},
   "outputs": [
    {
     "name": "stdout",
     "output_type": "stream",
     "text": [
      "WARNING:tensorflow:From /home/matz/.local/lib/python3.6/site-packages/tensorflow/python/estimator/inputs/queues/feeding_queue_runner.py:62: QueueRunner.__init__ (from tensorflow.python.training.queue_runner_impl) is deprecated and will be removed in a future version.\n",
      "Instructions for updating:\n",
      "To construct input pipelines, use the `tf.data` module.\n",
      "WARNING:tensorflow:From /home/matz/.local/lib/python3.6/site-packages/tensorflow/python/estimator/inputs/queues/feeding_functions.py:500: add_queue_runner (from tensorflow.python.training.queue_runner_impl) is deprecated and will be removed in a future version.\n",
      "Instructions for updating:\n",
      "To construct input pipelines, use the `tf.data` module.\n",
      "WARNING:tensorflow:Casting <dtype: 'int64'> labels to bool.\n",
      "WARNING:tensorflow:Casting <dtype: 'int64'> labels to bool.\n",
      "WARNING:tensorflow:Trapezoidal rule is known to produce incorrect PR-AUCs; please switch to \"careful_interpolation\" instead.\n",
      "WARNING:tensorflow:Trapezoidal rule is known to produce incorrect PR-AUCs; please switch to \"careful_interpolation\" instead.\n",
      "WARNING:tensorflow:From /home/matz/.local/lib/python3.6/site-packages/tensorflow/contrib/learn/python/learn/estimators/head.py:678: ModelFnOps.__new__ (from tensorflow.contrib.learn.python.learn.estimators.model_fn) is deprecated and will be removed in a future version.\n",
      "Instructions for updating:\n",
      "When switching to tf.estimator.Estimator, use tf.estimator.EstimatorSpec. You can use the `estimator_spec` method to create an equivalent one.\n",
      "INFO:tensorflow:Create CheckpointSaverHook.\n",
      "INFO:tensorflow:Graph was finalized.\n",
      "INFO:tensorflow:Running local_init_op.\n",
      "INFO:tensorflow:Done running local_init_op.\n",
      "WARNING:tensorflow:From /home/matz/.local/lib/python3.6/site-packages/tensorflow/python/training/monitored_session.py:804: start_queue_runners (from tensorflow.python.training.queue_runner_impl) is deprecated and will be removed in a future version.\n",
      "Instructions for updating:\n",
      "To construct input pipelines, use the `tf.data` module.\n",
      "INFO:tensorflow:Saving checkpoints for 0 into kernel_train/model.ckpt.\n",
      "INFO:tensorflow:loss = 0.6931474, step = 1\n",
      "INFO:tensorflow:global_step/sec: 110.113\n",
      "INFO:tensorflow:loss = 0.049137414, step = 101 (0.908 sec)\n",
      "INFO:tensorflow:global_step/sec: 131.228\n",
      "INFO:tensorflow:loss = 0.067286834, step = 201 (0.762 sec)\n",
      "INFO:tensorflow:global_step/sec: 129.676\n",
      "INFO:tensorflow:loss = 0.032155592, step = 301 (0.771 sec)\n",
      "INFO:tensorflow:global_step/sec: 127.471\n",
      "INFO:tensorflow:loss = 0.08087082, step = 401 (0.785 sec)\n",
      "INFO:tensorflow:global_step/sec: 130.235\n",
      "INFO:tensorflow:loss = 0.057637844, step = 501 (0.768 sec)\n",
      "INFO:tensorflow:global_step/sec: 126.072\n",
      "INFO:tensorflow:loss = 0.008079912, step = 601 (0.793 sec)\n",
      "INFO:tensorflow:global_step/sec: 126.994\n",
      "INFO:tensorflow:loss = 0.0074813096, step = 701 (0.787 sec)\n",
      "INFO:tensorflow:global_step/sec: 124.984\n",
      "INFO:tensorflow:loss = 0.06537902, step = 801 (0.800 sec)\n",
      "INFO:tensorflow:global_step/sec: 129.16\n",
      "INFO:tensorflow:loss = 0.014716287, step = 901 (0.774 sec)\n",
      "INFO:tensorflow:global_step/sec: 126.871\n",
      "INFO:tensorflow:loss = 0.0132372165, step = 1001 (0.788 sec)\n",
      "INFO:tensorflow:global_step/sec: 126.139\n",
      "INFO:tensorflow:loss = 0.015940186, step = 1101 (0.793 sec)\n",
      "INFO:tensorflow:global_step/sec: 129.593\n",
      "INFO:tensorflow:loss = 0.046306625, step = 1201 (0.772 sec)\n",
      "INFO:tensorflow:global_step/sec: 127.311\n",
      "INFO:tensorflow:loss = 0.026614906, step = 1301 (0.786 sec)\n",
      "INFO:tensorflow:global_step/sec: 126.768\n",
      "INFO:tensorflow:loss = 0.019914037, step = 1401 (0.789 sec)\n",
      "INFO:tensorflow:global_step/sec: 125.499\n",
      "INFO:tensorflow:loss = 0.012871843, step = 1501 (0.797 sec)\n",
      "INFO:tensorflow:global_step/sec: 128.672\n",
      "INFO:tensorflow:loss = 0.0098857405, step = 1601 (0.777 sec)\n",
      "INFO:tensorflow:global_step/sec: 126.546\n",
      "INFO:tensorflow:loss = 0.005372802, step = 1701 (0.790 sec)\n",
      "INFO:tensorflow:global_step/sec: 125.815\n",
      "INFO:tensorflow:loss = 0.0027731424, step = 1801 (0.795 sec)\n",
      "INFO:tensorflow:global_step/sec: 126.065\n",
      "INFO:tensorflow:loss = 0.06797324, step = 1901 (0.793 sec)\n",
      "INFO:tensorflow:global_step/sec: 126.534\n",
      "INFO:tensorflow:loss = 0.032333143, step = 2001 (0.790 sec)\n",
      "INFO:tensorflow:global_step/sec: 129.559\n",
      "INFO:tensorflow:loss = 0.007892344, step = 2101 (0.772 sec)\n",
      "INFO:tensorflow:global_step/sec: 126.515\n",
      "INFO:tensorflow:loss = 0.029222181, step = 2201 (0.790 sec)\n",
      "INFO:tensorflow:global_step/sec: 128.92\n",
      "INFO:tensorflow:loss = 0.014990324, step = 2301 (0.776 sec)\n",
      "INFO:tensorflow:global_step/sec: 126.186\n",
      "INFO:tensorflow:loss = 0.00662799, step = 2401 (0.793 sec)\n",
      "INFO:tensorflow:global_step/sec: 127.15\n",
      "INFO:tensorflow:loss = 0.007928455, step = 2501 (0.786 sec)\n",
      "INFO:tensorflow:global_step/sec: 129.68\n",
      "INFO:tensorflow:loss = 0.00806705, step = 2601 (0.771 sec)\n",
      "INFO:tensorflow:global_step/sec: 126.009\n",
      "INFO:tensorflow:loss = 0.0031041007, step = 2701 (0.794 sec)\n",
      "INFO:tensorflow:global_step/sec: 128.155\n",
      "INFO:tensorflow:loss = 0.006898805, step = 2801 (0.780 sec)\n",
      "INFO:tensorflow:global_step/sec: 127.611\n",
      "INFO:tensorflow:loss = 0.0085344445, step = 2901 (0.783 sec)\n",
      "INFO:tensorflow:global_step/sec: 127.101\n",
      "INFO:tensorflow:loss = 0.0075426023, step = 3001 (0.787 sec)\n",
      "INFO:tensorflow:global_step/sec: 128.738\n",
      "INFO:tensorflow:loss = 0.006161268, step = 3101 (0.777 sec)\n",
      "INFO:tensorflow:global_step/sec: 128.649\n",
      "INFO:tensorflow:loss = 0.014346991, step = 3201 (0.777 sec)\n",
      "INFO:tensorflow:global_step/sec: 125.591\n",
      "INFO:tensorflow:loss = 0.014057562, step = 3301 (0.797 sec)\n",
      "INFO:tensorflow:global_step/sec: 126.003\n",
      "INFO:tensorflow:loss = 0.13492481, step = 3401 (0.793 sec)\n",
      "INFO:tensorflow:global_step/sec: 126.608\n",
      "INFO:tensorflow:loss = 0.031084405, step = 3501 (0.790 sec)\n",
      "INFO:tensorflow:global_step/sec: 127.092\n",
      "INFO:tensorflow:loss = 0.013662156, step = 3601 (0.787 sec)\n",
      "INFO:tensorflow:global_step/sec: 126.324\n",
      "INFO:tensorflow:loss = 0.011649611, step = 3701 (0.792 sec)\n",
      "INFO:tensorflow:global_step/sec: 126.211\n",
      "INFO:tensorflow:loss = 0.0077103344, step = 3801 (0.792 sec)\n",
      "INFO:tensorflow:global_step/sec: 125.595\n",
      "INFO:tensorflow:loss = 0.0075447485, step = 3901 (0.796 sec)\n",
      "INFO:tensorflow:global_step/sec: 128.202\n",
      "INFO:tensorflow:loss = 0.009284087, step = 4001 (0.781 sec)\n",
      "INFO:tensorflow:global_step/sec: 127.236\n",
      "INFO:tensorflow:loss = 0.002033595, step = 4101 (0.786 sec)\n",
      "INFO:tensorflow:global_step/sec: 127.166\n",
      "INFO:tensorflow:loss = 0.008482958, step = 4201 (0.786 sec)\n",
      "INFO:tensorflow:global_step/sec: 123.92\n",
      "INFO:tensorflow:loss = 0.009877056, step = 4301 (0.807 sec)\n",
      "INFO:tensorflow:global_step/sec: 127.605\n",
      "INFO:tensorflow:loss = 0.02231225, step = 4401 (0.784 sec)\n",
      "INFO:tensorflow:global_step/sec: 126.579\n",
      "INFO:tensorflow:loss = 0.0027840426, step = 4501 (0.790 sec)\n",
      "INFO:tensorflow:global_step/sec: 122.585\n",
      "INFO:tensorflow:loss = 0.0077775633, step = 4601 (0.815 sec)\n",
      "INFO:tensorflow:global_step/sec: 125.774\n",
      "INFO:tensorflow:loss = 0.055367768, step = 4701 (0.795 sec)\n",
      "INFO:tensorflow:global_step/sec: 126.895\n",
      "INFO:tensorflow:loss = 0.020432493, step = 4801 (0.788 sec)\n",
      "INFO:tensorflow:global_step/sec: 126.734\n",
      "INFO:tensorflow:loss = 0.040379018, step = 4901 (0.789 sec)\n",
      "INFO:tensorflow:global_step/sec: 126.793\n",
      "INFO:tensorflow:loss = 0.007130698, step = 5001 (0.789 sec)\n",
      "INFO:tensorflow:global_step/sec: 128.129\n",
      "INFO:tensorflow:loss = 0.007142152, step = 5101 (0.780 sec)\n",
      "INFO:tensorflow:global_step/sec: 128.394\n",
      "INFO:tensorflow:loss = 0.1305489, step = 5201 (0.779 sec)\n",
      "INFO:tensorflow:global_step/sec: 126.647\n",
      "INFO:tensorflow:loss = 0.00477994, step = 5301 (0.791 sec)\n",
      "INFO:tensorflow:global_step/sec: 126.834\n",
      "INFO:tensorflow:loss = 0.01323237, step = 5401 (0.787 sec)\n",
      "INFO:tensorflow:global_step/sec: 128.149\n",
      "INFO:tensorflow:loss = 0.0053730155, step = 5501 (0.780 sec)\n",
      "INFO:tensorflow:global_step/sec: 130.693\n",
      "INFO:tensorflow:loss = 0.0030495296, step = 5601 (0.765 sec)\n",
      "INFO:tensorflow:global_step/sec: 127.91\n",
      "INFO:tensorflow:loss = 0.008572183, step = 5701 (0.782 sec)\n",
      "INFO:tensorflow:global_step/sec: 128.109\n",
      "INFO:tensorflow:loss = 0.013580009, step = 5801 (0.781 sec)\n",
      "INFO:tensorflow:global_step/sec: 127.139\n",
      "INFO:tensorflow:loss = 0.0044750837, step = 5901 (0.786 sec)\n",
      "INFO:tensorflow:global_step/sec: 131.201\n",
      "INFO:tensorflow:loss = 0.0068363952, step = 6001 (0.762 sec)\n",
      "INFO:tensorflow:global_step/sec: 127.045\n"
     ]
    },
    {
     "name": "stdout",
     "output_type": "stream",
     "text": [
      "INFO:tensorflow:loss = 0.009976852, step = 6101 (0.787 sec)\n",
      "INFO:tensorflow:global_step/sec: 129.463\n",
      "INFO:tensorflow:loss = 0.006024813, step = 6201 (0.773 sec)\n",
      "INFO:tensorflow:global_step/sec: 126.245\n",
      "INFO:tensorflow:loss = 0.0072238063, step = 6301 (0.792 sec)\n",
      "INFO:tensorflow:global_step/sec: 126.693\n",
      "INFO:tensorflow:loss = 0.0067242044, step = 6401 (0.790 sec)\n",
      "INFO:tensorflow:global_step/sec: 127.309\n",
      "INFO:tensorflow:loss = 0.006583132, step = 6501 (0.785 sec)\n",
      "INFO:tensorflow:global_step/sec: 127.571\n",
      "INFO:tensorflow:loss = 0.024788486, step = 6601 (0.784 sec)\n",
      "INFO:tensorflow:global_step/sec: 126.667\n",
      "INFO:tensorflow:loss = 0.022964207, step = 6701 (0.790 sec)\n",
      "INFO:tensorflow:global_step/sec: 126.266\n",
      "INFO:tensorflow:loss = 0.0049038134, step = 6801 (0.793 sec)\n",
      "INFO:tensorflow:global_step/sec: 126.235\n",
      "INFO:tensorflow:loss = 0.005774965, step = 6901 (0.791 sec)\n",
      "INFO:tensorflow:global_step/sec: 126.155\n",
      "INFO:tensorflow:loss = 0.034280207, step = 7001 (0.793 sec)\n",
      "INFO:tensorflow:global_step/sec: 127.119\n",
      "INFO:tensorflow:loss = 0.0026336287, step = 7101 (0.787 sec)\n",
      "INFO:tensorflow:global_step/sec: 126.192\n",
      "INFO:tensorflow:loss = 0.0077471277, step = 7201 (0.792 sec)\n",
      "INFO:tensorflow:global_step/sec: 127.669\n",
      "INFO:tensorflow:loss = 0.00574121, step = 7301 (0.783 sec)\n",
      "INFO:tensorflow:global_step/sec: 126.934\n",
      "INFO:tensorflow:loss = 0.037161417, step = 7401 (0.788 sec)\n",
      "INFO:tensorflow:global_step/sec: 127.247\n",
      "INFO:tensorflow:loss = 0.023628434, step = 7501 (0.786 sec)\n",
      "INFO:tensorflow:global_step/sec: 127.41\n",
      "INFO:tensorflow:loss = 0.007912647, step = 7601 (0.785 sec)\n",
      "INFO:tensorflow:global_step/sec: 128.197\n",
      "INFO:tensorflow:loss = 0.0013283589, step = 7701 (0.780 sec)\n",
      "INFO:tensorflow:global_step/sec: 127.216\n",
      "INFO:tensorflow:loss = 0.02314648, step = 7801 (0.786 sec)\n",
      "INFO:tensorflow:global_step/sec: 126.398\n",
      "INFO:tensorflow:loss = 0.006996989, step = 7901 (0.791 sec)\n",
      "INFO:tensorflow:Saving checkpoints for 8000 into kernel_train/model.ckpt.\n",
      "INFO:tensorflow:Loss for final step: 0.043965913.\n"
     ]
    },
    {
     "data": {
      "text/plain": [
       "KernelLinearClassifier(params={'head': <tensorflow.contrib.learn.python.learn.estimators.head._BinaryLogisticHead object at 0x7fa5308dcfd0>, 'feature_columns': {_RealValuedColumn(column_name='features_MAPPED', dimension=5000, default_value=None, dtype=tf.float32, normalizer=None)}, 'optimizer': <tensorflow.python.training.ftrl.FtrlOptimizer object at 0x7fa5308dcc18>, 'kernel_mappers': {_RealValuedColumn(column_name='features', dimension=232, default_value=None, dtype=tf.float32, normalizer=None): [<tensorflow.contrib.kernel_methods.python.mappers.random_fourier_features.RandomFourierFeatureMapper object at 0x7fa5308dcbe0>]}})"
      ]
     },
     "execution_count": 42,
     "metadata": {},
     "output_type": "execute_result"
    }
   ],
   "source": [
    "estimator_kernel.fit(input_fn=train_input_fn, steps=8000)"
   ]
  },
  {
   "cell_type": "code",
   "execution_count": 43,
   "metadata": {},
   "outputs": [
    {
     "name": "stdout",
     "output_type": "stream",
     "text": [
      "WARNING:tensorflow:Casting <dtype: 'int64'> labels to bool.\n",
      "WARNING:tensorflow:Casting <dtype: 'int64'> labels to bool.\n",
      "WARNING:tensorflow:Trapezoidal rule is known to produce incorrect PR-AUCs; please switch to \"careful_interpolation\" instead.\n",
      "WARNING:tensorflow:Trapezoidal rule is known to produce incorrect PR-AUCs; please switch to \"careful_interpolation\" instead.\n",
      "INFO:tensorflow:Starting evaluation at 2019-06-12-07:14:53\n",
      "INFO:tensorflow:Graph was finalized.\n",
      "INFO:tensorflow:Restoring parameters from kernel_train/model.ckpt-8000\n",
      "INFO:tensorflow:Running local_init_op.\n",
      "INFO:tensorflow:Done running local_init_op.\n",
      "INFO:tensorflow:Evaluation [1/1]\n",
      "INFO:tensorflow:Finished evaluation at 2019-06-12-07:14:55\n",
      "INFO:tensorflow:Saving dict for global step 8000: accuracy = 0.9983764, accuracy/baseline_label_mean = 0.2973594, accuracy/threshold_0.500000_mean = 0.9983764, auc = 0.9999087, auc_precision_recall = 0.999759, global_step = 8000, labels/actual_label_mean = 0.2973594, labels/prediction_mean = 0.29662213, loss = 0.00682516, precision/positive_threshold_0.500000_mean = 0.9955852, recall/positive_threshold_0.500000_mean = 0.9989698\n"
     ]
    }
   ],
   "source": [
    "eval_metrics = estimator_kernel.evaluate(input_fn=eval_input_fn, steps=1)"
   ]
  },
  {
   "cell_type": "code",
   "execution_count": 44,
   "metadata": {},
   "outputs": [
    {
     "name": "stdout",
     "output_type": "stream",
     "text": [
      "accuracy: 0.9983764\n",
      "accuracy/baseline_label_mean: 0.2973594\n",
      "accuracy/threshold_0.500000_mean: 0.9983764\n",
      "auc: 0.9999087\n",
      "auc_precision_recall: 0.999759\n",
      "global_step: 8000\n",
      "labels/actual_label_mean: 0.2973594\n",
      "labels/prediction_mean: 0.29662213\n",
      "loss: 0.00682516\n",
      "precision/positive_threshold_0.500000_mean: 0.9955852\n",
      "recall/positive_threshold_0.500000_mean: 0.9989698\n"
     ]
    }
   ],
   "source": [
    "for key,value in sorted(eval_metrics.items()):\n",
    "  print('%s: %s' % (key, value))"
   ]
  },
  {
   "cell_type": "code",
   "execution_count": 45,
   "metadata": {},
   "outputs": [],
   "source": [
    "correctness = []\n",
    "class_id = []\n",
    "pred_iterator = None"
   ]
  },
  {
   "cell_type": "code",
   "execution_count": 46,
   "metadata": {},
   "outputs": [
    {
     "name": "stdout",
     "output_type": "stream",
     "text": [
      "INFO:tensorflow:Graph was finalized.\n",
      "INFO:tensorflow:Restoring parameters from kernel_train/model.ckpt-8000\n",
      "INFO:tensorflow:Running local_init_op.\n",
      "INFO:tensorflow:Done running local_init_op.\n"
     ]
    }
   ],
   "source": [
    "pred_iterator = estimator_kernel.predict(input_fn = test_input_fn)"
   ]
  },
  {
   "cell_type": "code",
   "execution_count": 47,
   "metadata": {},
   "outputs": [],
   "source": [
    "for pred_dict in pred_iterator:\n",
    "    class_id.append(pred_dict['classes'])\n",
    "    #print(pred_dict)"
   ]
  },
  {
   "cell_type": "code",
   "execution_count": 48,
   "metadata": {},
   "outputs": [
    {
     "name": "stdout",
     "output_type": "stream",
     "text": [
      "Algorithm: RFFM         Accuracy: 0.99354, F1-score: 0.99659, Precision: 0.99542, Recall: 0.99777, FPR: 0.08358, FNR: 0.00223\n",
      "TN: 1557; FP: 142; FN:   69; TP: 30877\n",
      "\n"
     ]
    }
   ],
   "source": [
    "name = \"RFFM\"\n",
    "\n",
    "Acc[name] = metrics.accuracy_score(y_test, class_id)\n",
    "F1S[name] = metrics.f1_score(y_test, class_id)\n",
    "Prec[name] = metrics.precision_score(y_test, class_id)\n",
    "Rec[name] = metrics.recall_score(y_test, class_id)\n",
    "tn, fp, fn, tp = metrics.confusion_matrix(y_test, class_id).ravel()\n",
    "FPR[name] = fp/(fp+tn)\n",
    "FNR[name] = fn/(tp+fn)\n",
    "\n",
    "print(\"Algorithm: {0:12} Accuracy: {1:.5f}, F1-score: {2:.5f}, Precision: {3:.5f}, Recall: {4:.5f}, FPR: {5:.5f}, FNR: {6:.5f}\".format(name, Acc[name], F1S[name], Prec[name], Rec[name], FPR[name], FNR[name]))\n",
    "print(\"TN: {0:3}; FP: {1:3}; FN: {2:4}; TP: {3:3}\\n\".format(tn, fp, fn, tp))"
   ]
  },
  {
   "cell_type": "markdown",
   "metadata": {},
   "source": [
    "# Neural network part"
   ]
  },
  {
   "cell_type": "code",
   "execution_count": 49,
   "metadata": {},
   "outputs": [],
   "source": [
    "import collections\n",
    "import io\n",
    "import math\n",
    "import tensorflow as tf\n",
    "from IPython import display"
   ]
  },
  {
   "cell_type": "code",
   "execution_count": 50,
   "metadata": {},
   "outputs": [],
   "source": [
    "deep_numeric_feat = [\"Same_srv_rate\", \"Serror_rate\", \"Srv_serror_rate\", \"Dst_host_count\", \"Dst_host_srv_count\", \"Dst_host_same_src_port_rate\", \"Dst_host_serror_rate\", \"Dst_host_srv_serror_rate\", \"well_known_src_pool\", \"registered_src_pool\", \"cli_src_pool\"]\n",
    "wide_numeric_feat = [\"conn_len\",  \"src_bytes\", \"dst_bytes\", \"conn_numb\"]\n",
    "categorical_feat = [\"service\", \"Conn_state\", \"src_port\", \"dst_port\", \"proto\"]"
   ]
  },
  {
   "cell_type": "code",
   "execution_count": 51,
   "metadata": {},
   "outputs": [],
   "source": [
    "deep_numeric_feat_tf = [tf.feature_column.numeric_column(k) for k in deep_numeric_feat]\n",
    "wide_numeric_feat_tf = [tf.feature_column.numeric_column(k) for k in wide_numeric_feat]"
   ]
  },
  {
   "cell_type": "code",
   "execution_count": 52,
   "metadata": {},
   "outputs": [],
   "source": [
    "src_port_mod = data[\"src_port\"].unique().tolist()\n",
    "src_port = tf.feature_column.categorical_column_with_vocabulary_list(\n",
    "    'src_port', src_port_mod)\n",
    "\n",
    "dst_port_mod = data[\"dst_port\"].unique().tolist()\n",
    "dst_port = tf.feature_column.categorical_column_with_vocabulary_list(\n",
    "    'dst_port', dst_port_mod)\n",
    "\n",
    "service = tf.feature_column.categorical_column_with_vocabulary_list(\n",
    "    'service', data[\"service\"].unique().tolist())\n",
    "\n",
    "Conn_state = tf.feature_column.categorical_column_with_vocabulary_list(\n",
    "    'Conn_state', data[\"Conn_state\"].unique().tolist())\n",
    "\n",
    "proto = tf.feature_column.categorical_column_with_vocabulary_list(\n",
    "    'proto', data[\"proto\"].unique().tolist())"
   ]
  },
  {
   "cell_type": "code",
   "execution_count": 53,
   "metadata": {},
   "outputs": [],
   "source": [
    "deep_columns = [\n",
    "    tf.feature_column.indicator_column(service),\n",
    "    tf.feature_column.indicator_column(Conn_state),\n",
    "    tf.feature_column.indicator_column(proto),\n",
    "    tf.feature_column.embedding_column(src_port, dimension=10),\n",
    "    tf.feature_column.embedding_column(dst_port, dimension=6),\n",
    "]"
   ]
  },
  {
   "cell_type": "code",
   "execution_count": 54,
   "metadata": {},
   "outputs": [],
   "source": [
    "crossed_columns = [\n",
    "      tf.feature_column.crossed_column(\n",
    "          ['src_port', 'service'], hash_bucket_size=10000),\n",
    "      tf.feature_column.crossed_column(\n",
    "          ['dst_port', 'service'], hash_bucket_size=10000),\n",
    "      tf.feature_column.crossed_column(\n",
    "          ['conn_len', 'src_bytes'], hash_bucket_size=10000),\n",
    "      tf.feature_column.crossed_column(\n",
    "          ['conn_len', 'dst_bytes'], hash_bucket_size=10000),\n",
    "      tf.feature_column.crossed_column(\n",
    "          ['dst_port', 'conn_numb'], hash_bucket_size=10000),  \n",
    "      tf.feature_column.crossed_column(\n",
    "          ['service', 'proto'], hash_bucket_size=100),\n",
    "    \n",
    "  ]"
   ]
  },
  {
   "cell_type": "code",
   "execution_count": 55,
   "metadata": {},
   "outputs": [],
   "source": [
    "! rm -r NN_model"
   ]
  },
  {
   "cell_type": "code",
   "execution_count": 56,
   "metadata": {},
   "outputs": [
    {
     "name": "stdout",
     "output_type": "stream",
     "text": [
      "INFO:tensorflow:Using default config.\n",
      "INFO:tensorflow:Using config: {'_model_dir': '/home/matz/Desktop/ml_ids/NN_model', '_tf_random_seed': None, '_save_summary_steps': 100, '_save_checkpoints_steps': None, '_save_checkpoints_secs': 600, '_session_config': allow_soft_placement: true\n",
      "graph_options {\n",
      "  rewrite_options {\n",
      "    meta_optimizer_iterations: ONE\n",
      "  }\n",
      "}\n",
      ", '_keep_checkpoint_max': 5, '_keep_checkpoint_every_n_hours': 10000, '_log_step_count_steps': 100, '_train_distribute': None, '_device_fn': None, '_protocol': None, '_eval_distribute': None, '_experimental_distribute': None, '_service': None, '_cluster_spec': <tensorflow.python.training.server_lib.ClusterSpec object at 0x7fa51858d5f8>, '_task_type': 'worker', '_task_id': 0, '_global_id_in_cluster': 0, '_master': '', '_evaluation_master': '', '_is_chief': True, '_num_ps_replicas': 0, '_num_worker_replicas': 1}\n"
     ]
    }
   ],
   "source": [
    "NN_model = tf.estimator.DNNLinearCombinedClassifier(\n",
    "    model_dir = \"/home/matz/Desktop/ml_ids/NN_model\",\n",
    "    linear_optimizer = tf.train.FtrlOptimizer(learning_rate=3, l2_regularization_strength=0.001),\n",
    "    linear_feature_columns = deep_columns + deep_numeric_feat_tf + wide_numeric_feat_tf + crossed_columns,\n",
    "    dnn_activation_fn=tf.nn.selu,\n",
    "    dnn_feature_columns = deep_columns + deep_numeric_feat_tf + wide_numeric_feat_tf,\n",
    "    dnn_hidden_units = [950, 550, 300, 175]\n",
    ")"
   ]
  },
  {
   "cell_type": "code",
   "execution_count": 57,
   "metadata": {},
   "outputs": [],
   "source": [
    "feature_set= deep_numeric_feat + wide_numeric_feat + categorical_feat"
   ]
  },
  {
   "cell_type": "code",
   "execution_count": 58,
   "metadata": {},
   "outputs": [],
   "source": [
    "def get_input_fn(data_set, num_epochs=None, n_batch = 256, shuffle=True):\n",
    "    return tf.estimator.inputs.pandas_input_fn(\n",
    "       x=pd.DataFrame({k: data_set[k].values for k in feature_set}),\n",
    "       y = pd.Series(data_set[\"attack_flag\"].values),\n",
    "       batch_size=n_batch,   \n",
    "       num_epochs=num_epochs,\n",
    "       shuffle=shuffle)"
   ]
  },
  {
   "cell_type": "code",
   "execution_count": 59,
   "metadata": {},
   "outputs": [
    {
     "name": "stdout",
     "output_type": "stream",
     "text": [
      "INFO:tensorflow:Calling model_fn.\n",
      "WARNING:tensorflow:From /home/matz/.local/lib/python3.6/site-packages/tensorflow/python/ops/sparse_ops.py:1165: sparse_to_dense (from tensorflow.python.ops.sparse_ops) is deprecated and will be removed in a future version.\n",
      "Instructions for updating:\n",
      "Create a `tf.sparse.SparseTensor` and use `tf.sparse.to_dense` instead.\n",
      "INFO:tensorflow:Done calling model_fn.\n",
      "INFO:tensorflow:Create CheckpointSaverHook.\n",
      "INFO:tensorflow:Graph was finalized.\n",
      "INFO:tensorflow:Running local_init_op.\n",
      "INFO:tensorflow:Done running local_init_op.\n",
      "INFO:tensorflow:Saving checkpoints for 0 into /home/matz/Desktop/ml_ids/NN_model/model.ckpt.\n",
      "INFO:tensorflow:loss = 104.5662, step = 1\n",
      "INFO:tensorflow:global_step/sec: 64.8931\n",
      "INFO:tensorflow:loss = 85.66586, step = 101 (1.542 sec)\n",
      "INFO:tensorflow:global_step/sec: 79.3847\n",
      "INFO:tensorflow:loss = 1.9838582e-07, step = 201 (1.260 sec)\n",
      "INFO:tensorflow:global_step/sec: 80.9533\n",
      "INFO:tensorflow:loss = 0.513646, step = 301 (1.235 sec)\n",
      "INFO:tensorflow:global_step/sec: 77.2875\n",
      "INFO:tensorflow:loss = 259.70264, step = 401 (1.294 sec)\n",
      "INFO:tensorflow:global_step/sec: 77.6559\n",
      "INFO:tensorflow:loss = 2.2262657, step = 501 (1.288 sec)\n",
      "INFO:tensorflow:global_step/sec: 80.2094\n",
      "INFO:tensorflow:loss = 2.1066373e-14, step = 601 (1.247 sec)\n",
      "INFO:tensorflow:global_step/sec: 81.1151\n",
      "INFO:tensorflow:loss = 0.0053106225, step = 701 (1.232 sec)\n",
      "INFO:tensorflow:global_step/sec: 77.2717\n",
      "INFO:tensorflow:loss = 7.675779e-06, step = 801 (1.295 sec)\n",
      "INFO:tensorflow:global_step/sec: 80.3454\n",
      "INFO:tensorflow:loss = 3.1086202, step = 901 (1.244 sec)\n",
      "INFO:tensorflow:global_step/sec: 80.945\n",
      "INFO:tensorflow:loss = 91.96327, step = 1001 (1.235 sec)\n",
      "INFO:tensorflow:global_step/sec: 77.4342\n",
      "INFO:tensorflow:loss = 0.047766466, step = 1101 (1.291 sec)\n",
      "INFO:tensorflow:global_step/sec: 80.4253\n",
      "INFO:tensorflow:loss = 9.1960906e-08, step = 1201 (1.243 sec)\n",
      "INFO:tensorflow:global_step/sec: 79.38\n",
      "INFO:tensorflow:loss = 0.0006185362, step = 1301 (1.260 sec)\n",
      "INFO:tensorflow:global_step/sec: 76.0469\n",
      "INFO:tensorflow:loss = 0.10275731, step = 1401 (1.315 sec)\n",
      "INFO:tensorflow:global_step/sec: 80.734\n",
      "INFO:tensorflow:loss = 9.454053e-13, step = 1501 (1.240 sec)\n",
      "INFO:tensorflow:global_step/sec: 80.5291\n",
      "INFO:tensorflow:loss = 27.106567, step = 1601 (1.241 sec)\n",
      "INFO:tensorflow:global_step/sec: 77.4971\n",
      "INFO:tensorflow:loss = 2.400621e-05, step = 1701 (1.290 sec)\n",
      "INFO:tensorflow:global_step/sec: 78.2232\n",
      "INFO:tensorflow:loss = 27.136848, step = 1801 (1.278 sec)\n",
      "INFO:tensorflow:global_step/sec: 79.3764\n",
      "INFO:tensorflow:loss = 1.6246488e-05, step = 1901 (1.260 sec)\n",
      "INFO:tensorflow:global_step/sec: 82.2264\n",
      "INFO:tensorflow:loss = 31.849619, step = 2001 (1.216 sec)\n",
      "INFO:tensorflow:global_step/sec: 81.0182\n",
      "INFO:tensorflow:loss = 24.326727, step = 2101 (1.234 sec)\n",
      "INFO:tensorflow:global_step/sec: 79.2915\n",
      "INFO:tensorflow:loss = 5.2896354e-09, step = 2201 (1.261 sec)\n",
      "INFO:tensorflow:global_step/sec: 79.3124\n",
      "INFO:tensorflow:loss = 1.05124114e-13, step = 2301 (1.261 sec)\n",
      "INFO:tensorflow:global_step/sec: 78.7346\n",
      "INFO:tensorflow:loss = 5.415954e-13, step = 2401 (1.270 sec)\n",
      "INFO:tensorflow:global_step/sec: 80.8448\n",
      "INFO:tensorflow:loss = 3.7566014e-12, step = 2501 (1.237 sec)\n",
      "INFO:tensorflow:global_step/sec: 79.767\n",
      "INFO:tensorflow:loss = 9.304446, step = 2601 (1.253 sec)\n",
      "INFO:tensorflow:global_step/sec: 78.4547\n",
      "INFO:tensorflow:loss = 42.33331, step = 2701 (1.275 sec)\n",
      "INFO:tensorflow:global_step/sec: 79.1906\n",
      "INFO:tensorflow:loss = 43.23096, step = 2801 (1.263 sec)\n",
      "INFO:tensorflow:global_step/sec: 82.4892\n",
      "INFO:tensorflow:loss = 0.00028893808, step = 2901 (1.212 sec)\n",
      "INFO:tensorflow:global_step/sec: 83.131\n",
      "INFO:tensorflow:loss = 5.466059, step = 3001 (1.202 sec)\n",
      "INFO:tensorflow:global_step/sec: 76.5362\n",
      "INFO:tensorflow:loss = 0.1709547, step = 3101 (1.307 sec)\n",
      "INFO:tensorflow:global_step/sec: 81.337\n",
      "INFO:tensorflow:loss = 3.3454106e-15, step = 3201 (1.230 sec)\n",
      "INFO:tensorflow:global_step/sec: 81.5465\n",
      "INFO:tensorflow:loss = 5.0040134e-18, step = 3301 (1.226 sec)\n",
      "INFO:tensorflow:global_step/sec: 83.341\n",
      "INFO:tensorflow:loss = 106.46649, step = 3401 (1.200 sec)\n",
      "INFO:tensorflow:global_step/sec: 82.764\n",
      "INFO:tensorflow:loss = 0.00081940857, step = 3501 (1.208 sec)\n",
      "INFO:tensorflow:global_step/sec: 81.0248\n",
      "INFO:tensorflow:loss = 0.008473145, step = 3601 (1.234 sec)\n",
      "INFO:tensorflow:global_step/sec: 76.8618\n",
      "INFO:tensorflow:loss = 0.0003104708, step = 3701 (1.301 sec)\n",
      "INFO:tensorflow:global_step/sec: 78.1176\n",
      "INFO:tensorflow:loss = 0.00086719077, step = 3801 (1.280 sec)\n",
      "INFO:tensorflow:global_step/sec: 81.0104\n",
      "INFO:tensorflow:loss = 9.338471e-06, step = 3901 (1.234 sec)\n",
      "INFO:tensorflow:global_step/sec: 75.8681\n",
      "INFO:tensorflow:loss = 5.4063683, step = 4001 (1.318 sec)\n",
      "INFO:tensorflow:global_step/sec: 80.6243\n",
      "INFO:tensorflow:loss = 1.5707303e-13, step = 4101 (1.240 sec)\n",
      "INFO:tensorflow:global_step/sec: 76.7192\n",
      "INFO:tensorflow:loss = 4.0480865e-07, step = 4201 (1.304 sec)\n",
      "INFO:tensorflow:global_step/sec: 82.6725\n",
      "INFO:tensorflow:loss = 26.497284, step = 4301 (1.209 sec)\n",
      "INFO:tensorflow:global_step/sec: 78.033\n",
      "INFO:tensorflow:loss = 11.068474, step = 4401 (1.282 sec)\n",
      "INFO:tensorflow:global_step/sec: 78.3893\n",
      "INFO:tensorflow:loss = 4.876019, step = 4501 (1.276 sec)\n",
      "INFO:tensorflow:global_step/sec: 76.1519\n",
      "INFO:tensorflow:loss = 83.62516, step = 4601 (1.313 sec)\n",
      "INFO:tensorflow:global_step/sec: 78.6571\n",
      "INFO:tensorflow:loss = 6.55699e-08, step = 4701 (1.271 sec)\n",
      "INFO:tensorflow:global_step/sec: 79.0426\n",
      "INFO:tensorflow:loss = 4.627993e-09, step = 4801 (1.265 sec)\n",
      "INFO:tensorflow:global_step/sec: 78.0553\n",
      "INFO:tensorflow:loss = 3.0566416e-10, step = 4901 (1.281 sec)\n",
      "INFO:tensorflow:global_step/sec: 78.3991\n",
      "INFO:tensorflow:loss = 1.5344186e-06, step = 5001 (1.276 sec)\n",
      "INFO:tensorflow:global_step/sec: 77.2959\n",
      "INFO:tensorflow:loss = 0.00224662, step = 5101 (1.294 sec)\n",
      "INFO:tensorflow:global_step/sec: 77.1639\n",
      "INFO:tensorflow:loss = 16.882627, step = 5201 (1.296 sec)\n",
      "INFO:tensorflow:global_step/sec: 78.2221\n",
      "INFO:tensorflow:loss = 0.0003800239, step = 5301 (1.279 sec)\n",
      "INFO:tensorflow:global_step/sec: 78.7877\n",
      "INFO:tensorflow:loss = 0.0034767236, step = 5401 (1.269 sec)\n",
      "INFO:tensorflow:global_step/sec: 79.0167\n",
      "INFO:tensorflow:loss = 1.4172622e-07, step = 5501 (1.266 sec)\n",
      "INFO:tensorflow:global_step/sec: 79.2843\n",
      "INFO:tensorflow:loss = 2.6316582e-06, step = 5601 (1.261 sec)\n",
      "INFO:tensorflow:global_step/sec: 81.2734\n",
      "INFO:tensorflow:loss = 1.3261825e-13, step = 5701 (1.230 sec)\n",
      "INFO:tensorflow:global_step/sec: 76.4253\n",
      "INFO:tensorflow:loss = 3.672338e-10, step = 5801 (1.309 sec)\n",
      "INFO:tensorflow:global_step/sec: 79.0782\n",
      "INFO:tensorflow:loss = 8.132034e-06, step = 5901 (1.264 sec)\n",
      "INFO:tensorflow:global_step/sec: 76.7718\n",
      "INFO:tensorflow:loss = 0.0017702074, step = 6001 (1.303 sec)\n",
      "INFO:tensorflow:global_step/sec: 77.005\n",
      "INFO:tensorflow:loss = 45.233635, step = 6101 (1.298 sec)\n",
      "INFO:tensorflow:global_step/sec: 84.0148\n",
      "INFO:tensorflow:loss = 3.484258e-05, step = 6201 (1.190 sec)\n",
      "INFO:tensorflow:global_step/sec: 79.204\n",
      "INFO:tensorflow:loss = 0.00013909479, step = 6301 (1.262 sec)\n",
      "INFO:tensorflow:global_step/sec: 75.0216\n",
      "INFO:tensorflow:loss = 3.2052283e-06, step = 6401 (1.333 sec)\n",
      "INFO:tensorflow:global_step/sec: 78.8597\n",
      "INFO:tensorflow:loss = 1.3317999e-12, step = 6501 (1.269 sec)\n",
      "INFO:tensorflow:global_step/sec: 73.9452\n",
      "INFO:tensorflow:loss = 2.0475562, step = 6601 (1.352 sec)\n",
      "INFO:tensorflow:global_step/sec: 79.5096\n",
      "INFO:tensorflow:loss = 4.5953593, step = 6701 (1.258 sec)\n",
      "INFO:tensorflow:global_step/sec: 79.008\n",
      "INFO:tensorflow:loss = 56.80867, step = 6801 (1.266 sec)\n",
      "INFO:tensorflow:global_step/sec: 76.4509\n",
      "INFO:tensorflow:loss = 6.67816, step = 6901 (1.308 sec)\n",
      "INFO:tensorflow:global_step/sec: 77.5118\n",
      "INFO:tensorflow:loss = 25.065445, step = 7001 (1.290 sec)\n",
      "INFO:tensorflow:global_step/sec: 82.8986\n",
      "INFO:tensorflow:loss = 14.105591, step = 7101 (1.206 sec)\n",
      "INFO:tensorflow:global_step/sec: 77.1033\n",
      "INFO:tensorflow:loss = 45.860817, step = 7201 (1.297 sec)\n",
      "INFO:tensorflow:global_step/sec: 78.9325\n",
      "INFO:tensorflow:loss = 1.2660873e-07, step = 7301 (1.266 sec)\n",
      "INFO:tensorflow:global_step/sec: 79.337\n",
      "INFO:tensorflow:loss = 8.8107965e-11, step = 7401 (1.261 sec)\n",
      "INFO:tensorflow:global_step/sec: 79.4378\n",
      "INFO:tensorflow:loss = 8.031134, step = 7501 (1.259 sec)\n"
     ]
    },
    {
     "name": "stdout",
     "output_type": "stream",
     "text": [
      "INFO:tensorflow:global_step/sec: 79.2923\n",
      "INFO:tensorflow:loss = 1.3680773e-10, step = 7601 (1.262 sec)\n",
      "INFO:tensorflow:global_step/sec: 79.8704\n",
      "INFO:tensorflow:loss = 511.44888, step = 7701 (1.252 sec)\n",
      "INFO:tensorflow:global_step/sec: 74.7551\n",
      "INFO:tensorflow:loss = 18.342834, step = 7801 (1.338 sec)\n",
      "INFO:tensorflow:global_step/sec: 75.9053\n",
      "INFO:tensorflow:loss = 0.03094359, step = 7901 (1.317 sec)\n",
      "INFO:tensorflow:global_step/sec: 78.4644\n",
      "INFO:tensorflow:loss = 94.52316, step = 8001 (1.274 sec)\n",
      "INFO:tensorflow:global_step/sec: 79.2078\n",
      "INFO:tensorflow:loss = 2.7896473e-13, step = 8101 (1.263 sec)\n",
      "INFO:tensorflow:global_step/sec: 79.3629\n",
      "INFO:tensorflow:loss = 92.12877, step = 8201 (1.260 sec)\n",
      "INFO:tensorflow:global_step/sec: 83.6641\n",
      "INFO:tensorflow:loss = 5.3809294e-11, step = 8301 (1.195 sec)\n",
      "INFO:tensorflow:global_step/sec: 79.7835\n",
      "INFO:tensorflow:loss = 2.7565966e-08, step = 8401 (1.254 sec)\n",
      "INFO:tensorflow:global_step/sec: 76.7888\n",
      "INFO:tensorflow:loss = 0.010779044, step = 8501 (1.302 sec)\n",
      "INFO:tensorflow:global_step/sec: 77.8239\n",
      "INFO:tensorflow:loss = 15.736837, step = 8601 (1.285 sec)\n",
      "INFO:tensorflow:global_step/sec: 77.3388\n",
      "INFO:tensorflow:loss = 0.00045236445, step = 8701 (1.293 sec)\n",
      "INFO:tensorflow:global_step/sec: 78.655\n",
      "INFO:tensorflow:loss = 9.0186074e-07, step = 8801 (1.271 sec)\n",
      "INFO:tensorflow:global_step/sec: 79.2398\n",
      "INFO:tensorflow:loss = 82.07657, step = 8901 (1.262 sec)\n",
      "INFO:tensorflow:global_step/sec: 79.9031\n",
      "INFO:tensorflow:loss = 5.1625125e-06, step = 9001 (1.251 sec)\n",
      "INFO:tensorflow:global_step/sec: 77.5114\n",
      "INFO:tensorflow:loss = 1.2970765e-11, step = 9101 (1.291 sec)\n",
      "INFO:tensorflow:global_step/sec: 77.2044\n",
      "INFO:tensorflow:loss = 4.3544977e-09, step = 9201 (1.295 sec)\n",
      "INFO:tensorflow:global_step/sec: 79.3062\n",
      "INFO:tensorflow:loss = 0.015068907, step = 9301 (1.261 sec)\n",
      "INFO:tensorflow:global_step/sec: 77.5056\n",
      "INFO:tensorflow:loss = 0.018785043, step = 9401 (1.290 sec)\n",
      "INFO:tensorflow:global_step/sec: 79.7357\n",
      "INFO:tensorflow:loss = 9.006287, step = 9501 (1.254 sec)\n",
      "INFO:tensorflow:global_step/sec: 79.9233\n",
      "INFO:tensorflow:loss = 11.898039, step = 9601 (1.251 sec)\n",
      "INFO:tensorflow:global_step/sec: 77.3853\n",
      "INFO:tensorflow:loss = 0.00022571806, step = 9701 (1.292 sec)\n",
      "INFO:tensorflow:global_step/sec: 77.0626\n",
      "INFO:tensorflow:loss = 0.00079811696, step = 9801 (1.297 sec)\n",
      "INFO:tensorflow:global_step/sec: 77.0201\n",
      "INFO:tensorflow:loss = 4.632256e-13, step = 9901 (1.298 sec)\n",
      "INFO:tensorflow:global_step/sec: 77.3087\n",
      "INFO:tensorflow:loss = 1.0600659e-08, step = 10001 (1.294 sec)\n",
      "INFO:tensorflow:global_step/sec: 76.4478\n",
      "INFO:tensorflow:loss = 5.2202506e-07, step = 10101 (1.308 sec)\n",
      "INFO:tensorflow:global_step/sec: 76.9186\n",
      "INFO:tensorflow:loss = 7.320485e-05, step = 10201 (1.300 sec)\n",
      "INFO:tensorflow:global_step/sec: 77.964\n",
      "INFO:tensorflow:loss = 2.094113, step = 10301 (1.282 sec)\n",
      "INFO:tensorflow:global_step/sec: 79.3252\n",
      "INFO:tensorflow:loss = 1.2703368e-06, step = 10401 (1.261 sec)\n",
      "INFO:tensorflow:global_step/sec: 80.5762\n",
      "INFO:tensorflow:loss = 0.998665, step = 10501 (1.241 sec)\n",
      "INFO:tensorflow:global_step/sec: 79.9117\n",
      "INFO:tensorflow:loss = 0.00039574166, step = 10601 (1.251 sec)\n",
      "INFO:tensorflow:global_step/sec: 79.8684\n",
      "INFO:tensorflow:loss = 0.0006949807, step = 10701 (1.252 sec)\n",
      "INFO:tensorflow:global_step/sec: 76.4157\n",
      "INFO:tensorflow:loss = 2.362026e-12, step = 10801 (1.309 sec)\n",
      "INFO:tensorflow:global_step/sec: 76.3162\n",
      "INFO:tensorflow:loss = 8.634193e-05, step = 10901 (1.310 sec)\n",
      "INFO:tensorflow:global_step/sec: 78.0217\n",
      "INFO:tensorflow:loss = 7.7112184, step = 11001 (1.282 sec)\n",
      "INFO:tensorflow:global_step/sec: 76.9853\n",
      "INFO:tensorflow:loss = 0.052391633, step = 11101 (1.299 sec)\n",
      "INFO:tensorflow:global_step/sec: 83.6318\n",
      "INFO:tensorflow:loss = 0.18567365, step = 11201 (1.196 sec)\n",
      "INFO:tensorflow:global_step/sec: 79.8212\n",
      "INFO:tensorflow:loss = 13.463122, step = 11301 (1.253 sec)\n",
      "INFO:tensorflow:global_step/sec: 79.2986\n",
      "INFO:tensorflow:loss = 514.9995, step = 11401 (1.261 sec)\n",
      "INFO:tensorflow:global_step/sec: 76.6948\n",
      "INFO:tensorflow:loss = 0.0003481009, step = 11501 (1.304 sec)\n",
      "INFO:tensorflow:global_step/sec: 80.4283\n",
      "INFO:tensorflow:loss = 0.0003474117, step = 11601 (1.243 sec)\n",
      "INFO:tensorflow:global_step/sec: 79.9927\n",
      "INFO:tensorflow:loss = 1.4423455e-14, step = 11701 (1.250 sec)\n",
      "INFO:tensorflow:global_step/sec: 79.0577\n",
      "INFO:tensorflow:loss = 0.0012970692, step = 11801 (1.265 sec)\n",
      "INFO:tensorflow:global_step/sec: 78.521\n",
      "INFO:tensorflow:loss = 0.0049609332, step = 11901 (1.273 sec)\n",
      "INFO:tensorflow:global_step/sec: 80.4175\n",
      "INFO:tensorflow:loss = 7.5404162, step = 12001 (1.244 sec)\n",
      "INFO:tensorflow:global_step/sec: 80.0979\n",
      "INFO:tensorflow:loss = 0.011643609, step = 12101 (1.248 sec)\n",
      "INFO:tensorflow:global_step/sec: 79.1669\n",
      "INFO:tensorflow:loss = 3.3637016, step = 12201 (1.263 sec)\n",
      "INFO:tensorflow:global_step/sec: 79.1311\n",
      "INFO:tensorflow:loss = 0.0008440211, step = 12301 (1.264 sec)\n",
      "INFO:tensorflow:global_step/sec: 79.2759\n",
      "INFO:tensorflow:loss = 0.0013808989, step = 12401 (1.261 sec)\n",
      "INFO:tensorflow:global_step/sec: 81.8458\n",
      "INFO:tensorflow:loss = 0.015080117, step = 12501 (1.222 sec)\n",
      "INFO:tensorflow:global_step/sec: 81.5725\n",
      "INFO:tensorflow:loss = 9.114286e-12, step = 12601 (1.226 sec)\n",
      "INFO:tensorflow:global_step/sec: 78.7135\n",
      "INFO:tensorflow:loss = 1.5175888e-05, step = 12701 (1.270 sec)\n",
      "INFO:tensorflow:global_step/sec: 79.4385\n",
      "INFO:tensorflow:loss = 0.9696619, step = 12801 (1.259 sec)\n",
      "INFO:tensorflow:global_step/sec: 77.1103\n",
      "INFO:tensorflow:loss = 0.00067301583, step = 12901 (1.297 sec)\n",
      "INFO:tensorflow:global_step/sec: 77.0326\n",
      "INFO:tensorflow:loss = 10.166689, step = 13001 (1.298 sec)\n",
      "INFO:tensorflow:global_step/sec: 83.6319\n",
      "INFO:tensorflow:loss = 0.09521545, step = 13101 (1.196 sec)\n",
      "INFO:tensorflow:global_step/sec: 79.7618\n",
      "INFO:tensorflow:loss = 2.9269872e-08, step = 13201 (1.254 sec)\n",
      "INFO:tensorflow:global_step/sec: 78.614\n",
      "INFO:tensorflow:loss = 2.9460858e-07, step = 13301 (1.272 sec)\n",
      "INFO:tensorflow:global_step/sec: 77.9293\n",
      "INFO:tensorflow:loss = 7.619205e-12, step = 13401 (1.283 sec)\n",
      "INFO:tensorflow:global_step/sec: 77.1851\n",
      "INFO:tensorflow:loss = 1.4550674e-05, step = 13501 (1.296 sec)\n",
      "INFO:tensorflow:global_step/sec: 76.9698\n",
      "INFO:tensorflow:loss = 0.0033074468, step = 13601 (1.299 sec)\n",
      "INFO:tensorflow:global_step/sec: 77.6884\n",
      "INFO:tensorflow:loss = 9.2365675, step = 13701 (1.287 sec)\n",
      "INFO:tensorflow:global_step/sec: 77.7441\n",
      "INFO:tensorflow:loss = 31.111588, step = 13801 (1.286 sec)\n",
      "INFO:tensorflow:global_step/sec: 82.0389\n",
      "INFO:tensorflow:loss = 9.127167, step = 13901 (1.219 sec)\n",
      "INFO:tensorflow:global_step/sec: 81.4695\n",
      "INFO:tensorflow:loss = 1.0306121e-05, step = 14001 (1.228 sec)\n",
      "INFO:tensorflow:global_step/sec: 77.4316\n",
      "INFO:tensorflow:loss = 7.525418e-07, step = 14101 (1.292 sec)\n",
      "INFO:tensorflow:global_step/sec: 79.4644\n",
      "INFO:tensorflow:loss = 1.3985299e-18, step = 14201 (1.258 sec)\n",
      "INFO:tensorflow:global_step/sec: 79.4512\n",
      "INFO:tensorflow:loss = 3.7687494e-06, step = 14301 (1.258 sec)\n",
      "INFO:tensorflow:global_step/sec: 78.4329\n",
      "INFO:tensorflow:loss = 0.0020265437, step = 14401 (1.275 sec)\n",
      "INFO:tensorflow:global_step/sec: 78.7012\n",
      "INFO:tensorflow:loss = 11.734657, step = 14501 (1.271 sec)\n",
      "INFO:tensorflow:global_step/sec: 78.6849\n",
      "INFO:tensorflow:loss = 6.9166226, step = 14601 (1.271 sec)\n",
      "INFO:tensorflow:global_step/sec: 78.8391\n",
      "INFO:tensorflow:loss = 0.07776975, step = 14701 (1.268 sec)\n",
      "INFO:tensorflow:global_step/sec: 77.0402\n",
      "INFO:tensorflow:loss = 0.18565895, step = 14801 (1.298 sec)\n",
      "INFO:tensorflow:global_step/sec: 76.3357\n",
      "INFO:tensorflow:loss = 0.0057299035, step = 14901 (1.310 sec)\n",
      "INFO:tensorflow:global_step/sec: 77.2555\n",
      "INFO:tensorflow:loss = 4.402839e-06, step = 15001 (1.294 sec)\n",
      "INFO:tensorflow:global_step/sec: 79.362\n",
      "INFO:tensorflow:loss = 4.8766595e-09, step = 15101 (1.260 sec)\n",
      "INFO:tensorflow:global_step/sec: 83.023\n",
      "INFO:tensorflow:loss = 2.3858927e-06, step = 15201 (1.204 sec)\n",
      "INFO:tensorflow:global_step/sec: 79.3773\n",
      "INFO:tensorflow:loss = 5.332098e-06, step = 15301 (1.260 sec)\n",
      "INFO:tensorflow:global_step/sec: 77.2114\n",
      "INFO:tensorflow:loss = 0.0011312835, step = 15401 (1.296 sec)\n",
      "INFO:tensorflow:global_step/sec: 77.9116\n",
      "INFO:tensorflow:loss = 0.0058357674, step = 15501 (1.283 sec)\n",
      "INFO:tensorflow:global_step/sec: 80.8695\n",
      "INFO:tensorflow:loss = 0.00022495192, step = 15601 (1.237 sec)\n"
     ]
    },
    {
     "name": "stdout",
     "output_type": "stream",
     "text": [
      "INFO:tensorflow:global_step/sec: 82.1077\n",
      "INFO:tensorflow:loss = 8.796061e-06, step = 15701 (1.218 sec)\n",
      "INFO:tensorflow:global_step/sec: 77.0957\n",
      "INFO:tensorflow:loss = 2.0815267e-07, step = 15801 (1.297 sec)\n",
      "INFO:tensorflow:global_step/sec: 77.1209\n",
      "INFO:tensorflow:loss = 4.658706e-09, step = 15901 (1.297 sec)\n",
      "INFO:tensorflow:global_step/sec: 73.4936\n",
      "INFO:tensorflow:loss = 0.00010881483, step = 16001 (1.361 sec)\n",
      "INFO:tensorflow:global_step/sec: 77.1655\n",
      "INFO:tensorflow:loss = 1.9286148e-05, step = 16101 (1.296 sec)\n",
      "INFO:tensorflow:global_step/sec: 77.9388\n",
      "INFO:tensorflow:loss = 10.312803, step = 16201 (1.283 sec)\n",
      "INFO:tensorflow:global_step/sec: 82.0115\n",
      "INFO:tensorflow:loss = 0.002317175, step = 16301 (1.220 sec)\n",
      "INFO:tensorflow:global_step/sec: 81.3562\n",
      "INFO:tensorflow:loss = 4.561781, step = 16401 (1.229 sec)\n",
      "INFO:tensorflow:global_step/sec: 77.1846\n",
      "INFO:tensorflow:loss = 0.012675556, step = 16501 (1.296 sec)\n",
      "INFO:tensorflow:global_step/sec: 76.9221\n",
      "INFO:tensorflow:loss = 12.19148, step = 16601 (1.300 sec)\n",
      "INFO:tensorflow:global_step/sec: 77.3228\n",
      "INFO:tensorflow:loss = 9.001757, step = 16701 (1.293 sec)\n",
      "INFO:tensorflow:global_step/sec: 76.1722\n",
      "INFO:tensorflow:loss = 1.4575395e-10, step = 16801 (1.313 sec)\n",
      "INFO:tensorflow:global_step/sec: 76.5254\n",
      "INFO:tensorflow:loss = 3.959713e-06, step = 16901 (1.307 sec)\n",
      "INFO:tensorflow:global_step/sec: 79.3214\n",
      "INFO:tensorflow:loss = 0.005526707, step = 17001 (1.261 sec)\n",
      "INFO:tensorflow:global_step/sec: 78.3124\n",
      "INFO:tensorflow:loss = 0.0057272054, step = 17101 (1.277 sec)\n",
      "INFO:tensorflow:global_step/sec: 79.6029\n",
      "INFO:tensorflow:loss = 167.6519, step = 17201 (1.256 sec)\n",
      "INFO:tensorflow:global_step/sec: 77.1755\n",
      "INFO:tensorflow:loss = 0.03297532, step = 17301 (1.296 sec)\n",
      "INFO:tensorflow:global_step/sec: 77.2171\n",
      "INFO:tensorflow:loss = 0.000106269916, step = 17401 (1.295 sec)\n",
      "INFO:tensorflow:global_step/sec: 77.388\n",
      "INFO:tensorflow:loss = 2.1135314e-07, step = 17501 (1.292 sec)\n",
      "INFO:tensorflow:global_step/sec: 76.4676\n",
      "INFO:tensorflow:loss = 1.8018137e-10, step = 17601 (1.308 sec)\n",
      "INFO:tensorflow:global_step/sec: 77.7032\n",
      "INFO:tensorflow:loss = 52.17978, step = 17701 (1.287 sec)\n",
      "INFO:tensorflow:global_step/sec: 76.9233\n",
      "INFO:tensorflow:loss = 0.0045115286, step = 17801 (1.300 sec)\n",
      "INFO:tensorflow:global_step/sec: 82.6747\n",
      "INFO:tensorflow:loss = 0.11532857, step = 17901 (1.210 sec)\n",
      "INFO:tensorflow:global_step/sec: 76.8059\n",
      "INFO:tensorflow:loss = 0.0032652724, step = 18001 (1.302 sec)\n",
      "INFO:tensorflow:global_step/sec: 76.0039\n",
      "INFO:tensorflow:loss = 0.101320125, step = 18101 (1.316 sec)\n",
      "INFO:tensorflow:global_step/sec: 75.9868\n",
      "INFO:tensorflow:loss = 13.960589, step = 18201 (1.316 sec)\n",
      "INFO:tensorflow:global_step/sec: 77.8772\n",
      "INFO:tensorflow:loss = 0.0006036181, step = 18301 (1.284 sec)\n",
      "INFO:tensorflow:global_step/sec: 80.0819\n",
      "INFO:tensorflow:loss = 5.7866225e-07, step = 18401 (1.249 sec)\n",
      "INFO:tensorflow:global_step/sec: 77.5735\n",
      "INFO:tensorflow:loss = 6.8204737, step = 18501 (1.290 sec)\n",
      "INFO:tensorflow:global_step/sec: 77.0923\n",
      "INFO:tensorflow:loss = 0.0014723634, step = 18601 (1.297 sec)\n",
      "INFO:tensorflow:global_step/sec: 75.9997\n",
      "INFO:tensorflow:loss = 112.960266, step = 18701 (1.316 sec)\n",
      "INFO:tensorflow:global_step/sec: 78.5107\n",
      "INFO:tensorflow:loss = 7.7895274, step = 18801 (1.273 sec)\n",
      "INFO:tensorflow:global_step/sec: 78.3298\n",
      "INFO:tensorflow:loss = 0.00034139986, step = 18901 (1.277 sec)\n",
      "INFO:tensorflow:global_step/sec: 78.8228\n",
      "INFO:tensorflow:loss = 1.7009677, step = 19001 (1.269 sec)\n",
      "INFO:tensorflow:global_step/sec: 78.8408\n",
      "INFO:tensorflow:loss = 6.3847e-08, step = 19101 (1.268 sec)\n",
      "INFO:tensorflow:global_step/sec: 77.7499\n",
      "INFO:tensorflow:loss = 8.4828216e-08, step = 19201 (1.286 sec)\n",
      "INFO:tensorflow:global_step/sec: 77.9421\n",
      "INFO:tensorflow:loss = 2.004697e-09, step = 19301 (1.283 sec)\n",
      "INFO:tensorflow:global_step/sec: 79.4541\n",
      "INFO:tensorflow:loss = 1.9279037e-06, step = 19401 (1.259 sec)\n",
      "INFO:tensorflow:global_step/sec: 74.989\n",
      "INFO:tensorflow:loss = 0.0133775305, step = 19501 (1.334 sec)\n",
      "INFO:tensorflow:global_step/sec: 79.5498\n",
      "INFO:tensorflow:loss = 0.0145853255, step = 19601 (1.257 sec)\n",
      "INFO:tensorflow:global_step/sec: 79.5647\n",
      "INFO:tensorflow:loss = 0.005009033, step = 19701 (1.257 sec)\n",
      "INFO:tensorflow:global_step/sec: 79.6137\n",
      "INFO:tensorflow:loss = 22.330528, step = 19801 (1.256 sec)\n",
      "INFO:tensorflow:global_step/sec: 77.3401\n",
      "INFO:tensorflow:loss = 0.15021041, step = 19901 (1.293 sec)\n",
      "INFO:tensorflow:Saving checkpoints for 20000 into /home/matz/Desktop/ml_ids/NN_model/model.ckpt.\n",
      "INFO:tensorflow:Loss for final step: 0.019135898.\n"
     ]
    },
    {
     "data": {
      "text/plain": [
       "<tensorflow.python.estimator.canned.dnn_linear_combined.DNNLinearCombinedClassifier at 0x7fa51858d320>"
      ]
     },
     "execution_count": 59,
     "metadata": {},
     "output_type": "execute_result"
    }
   ],
   "source": [
    "NN_model.train(input_fn=get_input_fn(train_ex, n_batch=180), steps=20000)"
   ]
  },
  {
   "cell_type": "code",
   "execution_count": 60,
   "metadata": {},
   "outputs": [
    {
     "name": "stdout",
     "output_type": "stream",
     "text": [
      "INFO:tensorflow:Calling model_fn.\n",
      "WARNING:tensorflow:Trapezoidal rule is known to produce incorrect PR-AUCs; please switch to \"careful_interpolation\" instead.\n",
      "WARNING:tensorflow:Trapezoidal rule is known to produce incorrect PR-AUCs; please switch to \"careful_interpolation\" instead.\n",
      "INFO:tensorflow:Done calling model_fn.\n",
      "INFO:tensorflow:Starting evaluation at 2019-06-12-07:19:19\n",
      "INFO:tensorflow:Graph was finalized.\n",
      "INFO:tensorflow:Restoring parameters from /home/matz/Desktop/ml_ids/NN_model/model.ckpt-20000\n",
      "INFO:tensorflow:Running local_init_op.\n",
      "INFO:tensorflow:Done running local_init_op.\n",
      "INFO:tensorflow:Evaluation [1/1]\n",
      "INFO:tensorflow:Finished evaluation at 2019-06-12-07:19:22\n",
      "INFO:tensorflow:Saving dict for global step 20000: accuracy = 0.9952824, accuracy_baseline = 0.7026406, auc = 0.9969023, auc_precision_recall = 0.9957713, average_loss = 0.17119467, global_step = 20000, label/mean = 0.2973594, loss = 5588.479, precision = 0.9942059, prediction/mean = 0.29593167, recall = 0.98990417\n",
      "INFO:tensorflow:Saving 'checkpoint_path' summary for global step 20000: /home/matz/Desktop/ml_ids/NN_model/model.ckpt-20000\n"
     ]
    }
   ],
   "source": [
    "eval_metrics = NN_model.evaluate(input_fn=get_input_fn(validate_ex, n_batch=validate_ex.shape[0], shuffle=False), steps=1)"
   ]
  },
  {
   "cell_type": "code",
   "execution_count": 61,
   "metadata": {},
   "outputs": [
    {
     "name": "stdout",
     "output_type": "stream",
     "text": [
      "accuracy: 0.9952824\n",
      "accuracy_baseline: 0.7026406\n",
      "auc: 0.9969023\n",
      "auc_precision_recall: 0.9957713\n",
      "average_loss: 0.17119467\n",
      "global_step: 20000\n",
      "label/mean: 0.2973594\n",
      "loss: 5588.479\n",
      "precision: 0.9942059\n",
      "prediction/mean: 0.29593167\n",
      "recall: 0.98990417\n"
     ]
    }
   ],
   "source": [
    "for key,value in sorted(eval_metrics.items()):\n",
    "  print('%s: %s' % (key, value))"
   ]
  },
  {
   "cell_type": "code",
   "execution_count": 62,
   "metadata": {},
   "outputs": [
    {
     "name": "stdout",
     "output_type": "stream",
     "text": [
      "INFO:tensorflow:Calling model_fn.\n",
      "INFO:tensorflow:Done calling model_fn.\n",
      "INFO:tensorflow:Graph was finalized.\n",
      "INFO:tensorflow:Restoring parameters from /home/matz/Desktop/ml_ids/NN_model/model.ckpt-20000\n",
      "INFO:tensorflow:Running local_init_op.\n",
      "INFO:tensorflow:Done running local_init_op.\n"
     ]
    }
   ],
   "source": [
    "results = []\n",
    "results = list(NN_model.predict(input_fn=get_input_fn(test_ex, num_epochs=1, n_batch = test_ex.shape[0], shuffle=False)))"
   ]
  },
  {
   "cell_type": "code",
   "execution_count": 63,
   "metadata": {},
   "outputs": [],
   "source": [
    "y_pred = []\n",
    "for el in results:\n",
    "    y_pred.append(el[\"class_ids\"])\n",
    "\n",
    "y_pred_NN = [int(a) for a in y_pred]"
   ]
  },
  {
   "cell_type": "code",
   "execution_count": 64,
   "metadata": {},
   "outputs": [
    {
     "name": "stdout",
     "output_type": "stream",
     "text": [
      "Algorithm: Wide&Deep    Accuracy: 0.98180, F1-score: 0.99039, Precision: 0.99206, Recall: 0.98872, FPR: 0.14420, FNR: 0.01128\n",
      "TN: 1454; FP: 245; FN:  349; TP: 30597\n",
      "\n"
     ]
    }
   ],
   "source": [
    "from sklearn import metrics\n",
    "name = \"Wide&Deep\"\n",
    "\n",
    "Acc[name] = metrics.accuracy_score(test_ex[\"attack_flag\"], y_pred_NN)\n",
    "F1S[name] = metrics.f1_score(test_ex[\"attack_flag\"], y_pred_NN)\n",
    "Prec[name] = metrics.precision_score(test_ex[\"attack_flag\"], y_pred_NN)\n",
    "Rec[name] = metrics.recall_score(test_ex[\"attack_flag\"], y_pred_NN)\n",
    "tn, fp, fn, tp = metrics.confusion_matrix(test_ex[\"attack_flag\"], y_pred_NN).ravel()\n",
    "FPR[name] = fp/(fp+tn)\n",
    "FNR[name] = fn/(tp+fn)\n",
    "\n",
    "print(\"Algorithm: {0:12} Accuracy: {1:.5f}, F1-score: {2:.5f}, Precision: {3:.5f}, Recall: {4:.5f}, FPR: {5:.5f}, FNR: {6:.5f}\".format(name, Acc[name], F1S[name], Prec[name], Rec[name], FPR[name], FNR[name]))\n",
    "print(\"TN: {0:3}; FP: {1:3}; FN: {2:4}; TP: {3:3}\\n\".format(tn, fp, fn, tp))"
   ]
  },
  {
   "cell_type": "code",
   "execution_count": 65,
   "metadata": {},
   "outputs": [
    {
     "data": {
      "image/png": "[encoded data removed]",
      "text/plain": [
       "<matplotlib.figure.Figure at 0x7fa4c85a2048>"
      ]
     },
     "metadata": {
      "needs_background": "light"
     },
     "output_type": "display_data"
    },
    {
     "data": {
      "image/png": "[encoded data removed]",
      "text/plain": [
       "<matplotlib.figure.Figure at 0x7fa4c85a2e48>"
      ]
     },
     "metadata": {
      "needs_background": "light"
     },
     "output_type": "display_data"
    },
    {
     "data": {
      "image/png": "[encoded data removed]",
      "text/plain": [
       "<matplotlib.figure.Figure at 0x7fa4c9e00e48>"
      ]
     },
     "metadata": {
      "needs_background": "light"
     },
     "output_type": "display_data"
    },
    {
     "data": {
      "image/png": "[encoded data removed]",
      "text/plain": [
       "<matplotlib.figure.Figure at 0x7fa4c9d35b00>"
      ]
     },
     "metadata": {
      "needs_background": "light"
     },
     "output_type": "display_data"
    },
    {
     "data": {
      "image/png": "[encoded data removed]",
      "text/plain": [
       "<matplotlib.figure.Figure at 0x7fa4c9c92e48>"
      ]
     },
     "metadata": {
      "needs_background": "light"
     },
     "output_type": "display_data"
    },
    {
     "data": {
      "image/png": "[encoded data removed]",
      "text/plain": [
       "<matplotlib.figure.Figure at 0x7fa4c848e5f8>"
      ]
     },
     "metadata": {
      "needs_background": "light"
     },
     "output_type": "display_data"
    }
   ],
   "source": [
    "plot_stats(Acc, \"Accuracy\", 8, 55)\n",
    "plot_stats(F1S, \"F1-score\", 8, 55)\n",
    "plot_stats(Prec, \"Precision\", 8, 55)\n",
    "plot_stats(Rec, \"Recall\", 8, 55)\n",
    "plot_stats(FPR, \"False Positive Rate\", 8, 55)\n",
    "plot_stats(FNR, \"False Negative Rate\", 8, 55)"
   ]
  },
  {
   "cell_type": "markdown",
   "metadata": {},
   "source": [
    "## Results comparison"
   ]
  },
  {
   "cell_type": "code",
   "execution_count": 66,
   "metadata": {},
   "outputs": [],
   "source": [
    "y_pred = {}"
   ]
  },
  {
   "cell_type": "code",
   "execution_count": 67,
   "metadata": {},
   "outputs": [],
   "source": [
    "y_pred[\"RFFM\"] = class_id\n",
    "y_pred[\"Wide&Deep\"] = y_pred_NN"
   ]
  },
  {
   "cell_type": "code",
   "execution_count": 68,
   "metadata": {},
   "outputs": [],
   "source": [
    "# Metrics of baseline method\n",
    "\n",
    "name = \"baseline\"\n",
    "\n",
    "if(y_test.mean() > (1-y_test.mean())):\n",
    "    y_pred[\"baseline\"] = np.ones(len(y_test)).ravel() \n",
    "else:\n",
    "    y_pred[\"baseline\"] = np.zeros(len(y_test)).ravel()\n",
    "        \n",
    "y_pred[\"baseline\"] = y_pred[\"baseline\"].astype(int)"
   ]
  },
  {
   "cell_type": "code",
   "execution_count": 69,
   "metadata": {},
   "outputs": [],
   "source": [
    "classifiers = {\n",
    "               \"AdaBoost\":AdaBoostClassifier(DecisionTreeClassifier(max_depth = 13), n_estimators=num_trees),\n",
    "               \"DecisionTree\":DecisionTreeClassifier(random_state=0, criterion = \"entropy\", max_depth = 13),\n",
    "               \"NaiveBayes\":GaussianNB(),\n",
    "               \"RandomTree\":BaggingClassifier(DecisionTreeClassifier(random_state=0, criterion = \"entropy\", max_depth = 13), n_estimators=93),\n",
    "               \"RandomForest\":RandomForestClassifier(n_estimators=178, max_depth=31, random_state=0),\n",
    "              }\n",
    "\n",
    "name = \"LogisticReg\"\n",
    "model = LogisticRegression(solver = 'newton-cg').fit(X_train, y_train)\n",
    "y_pred[name] = model.predict(X_test)\n",
    "\n",
    "for name, clf in classifiers.items():\n",
    "    \n",
    "    model = clf.fit(X_train_alg, y_train_alg)\n",
    "    \n",
    "    y_pred[name] = model.predict(X_test)"
   ]
  },
  {
   "cell_type": "code",
   "execution_count": 70,
   "metadata": {},
   "outputs": [
    {
     "name": "stdout",
     "output_type": "stream",
     "text": [
      "32645\n",
      "32645\n",
      "32645\n"
     ]
    }
   ],
   "source": [
    "print(len(y_pred[\"Wide&Deep\"]))\n",
    "print(len(y_pred[\"RFFM\"]))\n",
    "print(len(y_pred[\"AdaBoost\"]))"
   ]
  },
  {
   "cell_type": "code",
   "execution_count": 71,
   "metadata": {},
   "outputs": [
    {
     "data": {
      "image/png": "[encoded data removed]",
      "text/plain": [
       "<matplotlib.figure.Figure at 0x7fa4aa804898>"
      ]
     },
     "metadata": {
      "needs_background": "light"
     },
     "output_type": "display_data"
    }
   ],
   "source": [
    "y_pred_pand = pd.DataFrame.from_dict(y_pred)\n",
    "names = [\"LogisticReg\", \"AdaBoost\", \"DecisionTree\", \"NaiveBayes\", \"RandomTree\", \"RandomForest\", \"RFFM\", \"Wide&Deep\"]\n",
    "correlations = y_pred_pand[names].corr()\n",
    "fig = plt.figure()\n",
    "ax = fig.add_subplot(111)\n",
    "cax = ax.matshow(correlations, vmin=0.5, vmax=1)\n",
    "fig.colorbar(cax)\n",
    "ticks = np.arange(0,8,1)\n",
    "ax.set_xticks(ticks)\n",
    "ax.set_yticks(ticks)\n",
    "ax.set_xticklabels(names, rotation='vertical')\n",
    "ax.set_yticklabels(names)\n",
    "plt.show()"
   ]
  },
  {
   "cell_type": "code",
   "execution_count": 72,
   "metadata": {},
   "outputs": [
    {
     "name": "stdout",
     "output_type": "stream",
     "text": [
      "              LogisticReg  AdaBoost  DecisionTree  NaiveBayes  RandomTree  \\\n",
      "LogisticReg      1.000000  0.834581      0.837733    0.654069    0.843351   \n",
      "AdaBoost         0.834581  1.000000      0.968509    0.657696    0.977235   \n",
      "DecisionTree     0.837733  0.968509      1.000000    0.659435    0.986130   \n",
      "NaiveBayes       0.654069  0.657696      0.659435    1.000000    0.664510   \n",
      "RandomTree       0.843351  0.977235      0.986130    0.664510    1.000000   \n",
      "RandomForest     0.836977  0.985521      0.969293    0.662160    0.980853   \n",
      "RFFM             0.738493  0.870604      0.876012    0.598981    0.880592   \n",
      "Wide&Deep       -0.000888 -0.002627     -0.003567   -0.005571   -0.002193   \n",
      "\n",
      "              RandomForest      RFFM  Wide&Deep  \n",
      "LogisticReg       0.836977  0.738493  -0.000888  \n",
      "AdaBoost          0.985521  0.870604  -0.002627  \n",
      "DecisionTree      0.969293  0.876012  -0.003567  \n",
      "NaiveBayes        0.662160  0.598981  -0.005571  \n",
      "RandomTree        0.980853  0.880592  -0.002193  \n",
      "RandomForest      1.000000  0.874851  -0.002673  \n",
      "RFFM              0.874851  1.000000  -0.004811  \n",
      "Wide&Deep        -0.002673 -0.004811   1.000000  \n"
     ]
    }
   ],
   "source": [
    "print(correlations)"
   ]
  },
  {
   "cell_type": "code",
   "execution_count": 73,
   "metadata": {},
   "outputs": [],
   "source": [
    "failures = {}\n",
    "failures[\"baseline\"] = []\n",
    "failures[\"LogisticReg\"] = []\n",
    "failures[\"AdaBoost\"] = []\n",
    "failures[\"DecisionTree\"] = []\n",
    "failures[\"NaiveBayes\"] = []\n",
    "failures[\"RandomTree\"] = []\n",
    "failures[\"RandomForest\"] = []\n",
    "failures[\"RFFM\"] = []\n",
    "failures[\"Wide&Deep\"] = []\n",
    "\n",
    "for i in range(0, len(y_test)):\n",
    "    for key in y_pred.keys():\n",
    "        if y_pred[key][i] != y_test[i]:\n",
    "            failures[key].append(10)\n",
    "        else:\n",
    "            failures[key].append(1)"
   ]
  },
  {
   "cell_type": "code",
   "execution_count": 74,
   "metadata": {},
   "outputs": [
    {
     "data": {
      "image/png": "[encoded data removed]",
      "text/plain": [
       "<matplotlib.figure.Figure at 0x7fa4aa887400>"
      ]
     },
     "metadata": {
      "needs_background": "light"
     },
     "output_type": "display_data"
    }
   ],
   "source": [
    "failures_pand = pd.DataFrame.from_dict(failures)\n",
    "names = [\"baseline\", \"LogisticReg\", \"AdaBoost\", \"DecisionTree\", \"NaiveBayes\", \"RandomTree\", \"RandomForest\", \"RFFM\", \"Wide&Deep\"]\n",
    "correlations = failures_pand[names].corr()\n",
    "fig = plt.figure()\n",
    "ax = fig.add_subplot(111)\n",
    "cax = ax.matshow(correlations, vmin=0, vmax=1)\n",
    "fig.colorbar(cax)\n",
    "ticks = np.arange(0,9,1)\n",
    "ax.set_xticks(ticks)\n",
    "ax.set_yticks(ticks)\n",
    "ax.set_xticklabels(names, rotation='vertical')\n",
    "ax.set_yticklabels(names)\n",
    "plt.show()"
   ]
  },
  {
   "cell_type": "code",
   "execution_count": 75,
   "metadata": {},
   "outputs": [
    {
     "name": "stdout",
     "output_type": "stream",
     "text": [
      "              baseline  LogisticReg  AdaBoost  DecisionTree  NaiveBayes  \\\n",
      "baseline      1.000000     0.282582  0.119290      0.085872   -0.027178   \n",
      "LogisticReg   0.282582     1.000000  0.583391      0.585238    0.363861   \n",
      "AdaBoost      0.119290     0.583391  1.000000      0.859969    0.328321   \n",
      "DecisionTree  0.085872     0.585238  0.859969      1.000000    0.333787   \n",
      "NaiveBayes   -0.027178     0.363861  0.328321      0.333787    1.000000   \n",
      "RandomTree    0.089555     0.604095  0.896990      0.935902    0.345842   \n",
      "RandomForest  0.118758     0.590448  0.935771      0.859337    0.338354   \n",
      "RFFM          0.225481     0.254377  0.309344      0.315582    0.114599   \n",
      "Wide&Deep     0.656258     0.188721  0.081532      0.058196   -0.020059   \n",
      "\n",
      "              RandomTree  RandomForest      RFFM  Wide&Deep  \n",
      "baseline        0.089555      0.118758  0.225481   0.656258  \n",
      "LogisticReg     0.604095      0.590448  0.254377   0.188721  \n",
      "AdaBoost        0.896990      0.935771  0.309344   0.081532  \n",
      "DecisionTree    0.935902      0.859337  0.315582   0.058196  \n",
      "NaiveBayes      0.345842      0.338354  0.114599  -0.020059  \n",
      "RandomTree      1.000000      0.909759  0.313286   0.062999  \n",
      "RandomForest    0.909759      1.000000  0.302787   0.081266  \n",
      "RFFM            0.313286      0.302787  1.000000   0.148319  \n",
      "Wide&Deep       0.062999      0.081266  0.148319   1.000000  \n"
     ]
    }
   ],
   "source": [
    "print(correlations)"
   ]
  },
  {
   "cell_type": "code",
   "execution_count": 76,
   "metadata": {},
   "outputs": [
    {
     "name": "stdout",
     "output_type": "stream",
     "text": [
      "Counter({1: 30946, 10: 1699})\n",
      "Counter({1: 31772, 10: 873})\n",
      "Counter({1: 32233, 10: 412})\n",
      "Counter({1: 32240, 10: 405})\n",
      "Counter({1: 30280, 10: 2365})\n",
      "Counter({1: 32268, 10: 377})\n",
      "Counter({1: 32260, 10: 385})\n",
      "Counter({1: 32434, 10: 211})\n",
      "Counter({1: 29313, 10: 3332})\n",
      "[[30946.0, 31772.0, 32233.0, 32240.0, 30280.0, 32268.0, 32260.0, 32434.0, 29313.0], [1699.0, 873.0, 412.0, 405.0, 2365.0, 377.0, 385.0, 211.0, 3332.0]]\n"
     ]
    }
   ],
   "source": [
    "cont_table = [[],[]]\n",
    "for name in failures.keys():\n",
    "    print(Counter(failures[name]))\n",
    "    cont_table[0].append(float(Counter(failures[name])[1]))\n",
    "    cont_table[1].append(float(Counter(failures[name])[10]))\n",
    "print(cont_table)"
   ]
  },
  {
   "cell_type": "code",
   "execution_count": 77,
   "metadata": {},
   "outputs": [
    {
     "name": "stdout",
     "output_type": "stream",
     "text": [
      "probability=0.950, critical=15.507, stat=9051.514\n",
      "\n",
      "reject H0 - results dependent\n"
     ]
    }
   ],
   "source": [
    "from scipy import stats\n",
    "\n",
    "# test of independence\n",
    "# H0 : results are independent\n",
    "\n",
    "stat, p, dof, expected = stats.chi2_contingency(cont_table)\n",
    "stats.chi2_contingency(cont_table)\n",
    "prob = 0.95\n",
    "critical = stats.chi2.ppf(prob, dof)\n",
    "print('probability=%.3f, critical=%.3f, stat=%.3f' % (prob, critical, stat))\n",
    "\n",
    "if abs(stat) >= critical:\n",
    "    print('\\nreject H0 - results dependent')\n",
    "else:\n",
    "    print('\\nfailed to reject H0 - results independent')"
   ]
  },
  {
   "cell_type": "markdown",
   "metadata": {},
   "source": [
    "## New data prediction"
   ]
  },
  {
   "cell_type": "code",
   "execution_count": 78,
   "metadata": {},
   "outputs": [
    {
     "name": "stdout",
     "output_type": "stream",
     "text": [
      "Counter({-1: 210159, 1: 2830})\n"
     ]
    }
   ],
   "source": [
    "test_set = pd.read_csv(\"20151221.txt\", sep = \"\\t\", header = None)\n",
    "test_set.columns = [\"conn len\", \"service\", \"src bytes\", \"dst bytes\", \"conn numb\", \"Same srv rate\", \"Serror rate\", \"Srv serror rate\", \"Dst host count\", \"Dst host srv count\", \"Dst host same src port rate\", \"Dst host serror rate\", \"Dst host srv serror rate\", \"Conn state\", \"IDS detection\", \"Malware detection\", \"Ashula detection\", \"attack_flag\", \"src IP\", \"src port\", \"dst IP\", \"dst port\", \"start time\", \"proto\"]\n",
    "\n",
    "print(Counter(test_set[\"attack_flag\"]))"
   ]
  },
  {
   "cell_type": "code",
   "execution_count": 79,
   "metadata": {},
   "outputs": [
    {
     "name": "stdout",
     "output_type": "stream",
     "text": [
      "Counter({1: 210159, 0: 2830})\n"
     ]
    }
   ],
   "source": [
    "test_set.loc[:, \"attack_flag\"] = test_set.loc[:,\"attack_flag\"].replace(-2, -1)\n",
    "test_set.loc[:, \"attack_flag\"] = test_set.loc[:, \"attack_flag\"] * -1\n",
    "test_set.loc[:, \"attack_flag\"] = test_set.loc[:,\"attack_flag\"].replace(-1, 0)\n",
    "\n",
    "print(Counter(test_set[\"attack_flag\"]))"
   ]
  },
  {
   "cell_type": "code",
   "execution_count": 80,
   "metadata": {},
   "outputs": [
    {
     "name": "stdout",
     "output_type": "stream",
     "text": [
      "(212989, 24)\n",
      "(212989, 21)\n"
     ]
    },
    {
     "data": {
      "text/plain": [
       "1    210159\n",
       "0      2830\n",
       "Name: attack_flag, dtype: int64"
      ]
     },
     "execution_count": 80,
     "metadata": {},
     "output_type": "execute_result"
    }
   ],
   "source": [
    "# slice dataset, drop additional features\n",
    "print(test_set.shape)\n",
    "test_set = test_set.drop(['start time', 'dst IP', 'src IP'], axis=1)\n",
    "print(test_set.shape)\n",
    "\n",
    "# drop software markers\n",
    "test_set = test_set.drop([\"IDS detection\", \"Malware detection\", \"Ashula detection\"], axis=1)\n",
    "test_set[\"attack_flag\"].value_counts()"
   ]
  },
  {
   "cell_type": "code",
   "execution_count": 81,
   "metadata": {},
   "outputs": [
    {
     "data": {
      "text/plain": [
       "(212989, 18)"
      ]
     },
     "execution_count": 81,
     "metadata": {},
     "output_type": "execute_result"
    }
   ],
   "source": [
    "# removing NaNs\n",
    "test_set = test_set.dropna()\n",
    "test_set.shape"
   ]
  },
  {
   "cell_type": "code",
   "execution_count": 82,
   "metadata": {},
   "outputs": [],
   "source": [
    "test_set[\"well-known src pool\"] = test_set.apply(wk, axis=1)\n",
    "test_set[\"registered src pool\"] = test_set.apply(reg, axis=1)\n",
    "test_set[\"cli src pool\"] = test_set.apply(cli, axis=1)"
   ]
  },
  {
   "cell_type": "code",
   "execution_count": 83,
   "metadata": {},
   "outputs": [],
   "source": [
    "test_set[\"src port\"] = test_set[\"src port\"].apply(str)\n",
    "test_set[\"dst port\"] = test_set[\"dst port\"].apply(str)\n",
    "test_set['src port'].nunique()\n",
    "test_set['dst port'].nunique()\n",
    "\n",
    "thresh1 = 125\n",
    "thresh2 = 125\n",
    "counts1 = test_set['src port'].value_counts()\n",
    "counts2 = test_set['dst port'].value_counts()\n",
    "\n",
    "repl1 = counts1[counts1 <= thresh1].index\n",
    "repl2 = counts2[counts2 <= thresh2].index\n",
    "\n",
    "#hot one encoding for src port numbers\n",
    "test_set = pd.concat([test_set, pd.get_dummies(test_set[\"src port\"].replace(repl1, 'other_src'), prefix=\"is_src\")], axis=1)\n",
    "\n",
    "#hot one encoding for dst port numbers\n",
    "test_set = pd.concat([test_set, pd.get_dummies(test_set[\"dst port\"].replace(repl2, 'other_dst'), prefix=\"is_dst\")], axis=1)"
   ]
  },
  {
   "cell_type": "code",
   "execution_count": 84,
   "metadata": {},
   "outputs": [
    {
     "data": {
      "text/html": [
       "<div>\n",
       "<style scoped>\n",
       "    .dataframe tbody tr th:only-of-type {\n",
       "        vertical-align: middle;\n",
       "    }\n",
       "\n",
       "    .dataframe tbody tr th {\n",
       "        vertical-align: top;\n",
       "    }\n",
       "\n",
       "    .dataframe thead th {\n",
       "        text-align: right;\n",
       "    }\n",
       "</style>\n",
       "<table border=\"1\" class=\"dataframe\">\n",
       "  <thead>\n",
       "    <tr style=\"text-align: right;\">\n",
       "      <th></th>\n",
       "      <th>conn len</th>\n",
       "      <th>service</th>\n",
       "      <th>src bytes</th>\n",
       "      <th>dst bytes</th>\n",
       "      <th>conn numb</th>\n",
       "      <th>Same srv rate</th>\n",
       "      <th>Serror rate</th>\n",
       "      <th>Srv serror rate</th>\n",
       "      <th>Dst host count</th>\n",
       "      <th>Dst host srv count</th>\n",
       "      <th>...</th>\n",
       "      <th>state_OTH</th>\n",
       "      <th>state_REJ</th>\n",
       "      <th>state_RSTO</th>\n",
       "      <th>state_RSTOS0</th>\n",
       "      <th>state_RSTR</th>\n",
       "      <th>state_RSTRH</th>\n",
       "      <th>state_S0</th>\n",
       "      <th>state_S1</th>\n",
       "      <th>state_SF</th>\n",
       "      <th>state_SHR</th>\n",
       "    </tr>\n",
       "  </thead>\n",
       "  <tbody>\n",
       "    <tr>\n",
       "      <th>212979</th>\n",
       "      <td>0.000061</td>\n",
       "      <td>other</td>\n",
       "      <td>0</td>\n",
       "      <td>0</td>\n",
       "      <td>20</td>\n",
       "      <td>1.0</td>\n",
       "      <td>0.05</td>\n",
       "      <td>0.15</td>\n",
       "      <td>2</td>\n",
       "      <td>85</td>\n",
       "      <td>...</td>\n",
       "      <td>0</td>\n",
       "      <td>1</td>\n",
       "      <td>0</td>\n",
       "      <td>0</td>\n",
       "      <td>0</td>\n",
       "      <td>0</td>\n",
       "      <td>0</td>\n",
       "      <td>0</td>\n",
       "      <td>0</td>\n",
       "      <td>0</td>\n",
       "    </tr>\n",
       "    <tr>\n",
       "      <th>212980</th>\n",
       "      <td>0.000000</td>\n",
       "      <td>other</td>\n",
       "      <td>0</td>\n",
       "      <td>0</td>\n",
       "      <td>1</td>\n",
       "      <td>1.0</td>\n",
       "      <td>0.00</td>\n",
       "      <td>0.22</td>\n",
       "      <td>4</td>\n",
       "      <td>6</td>\n",
       "      <td>...</td>\n",
       "      <td>0</td>\n",
       "      <td>0</td>\n",
       "      <td>0</td>\n",
       "      <td>0</td>\n",
       "      <td>0</td>\n",
       "      <td>0</td>\n",
       "      <td>1</td>\n",
       "      <td>0</td>\n",
       "      <td>0</td>\n",
       "      <td>0</td>\n",
       "    </tr>\n",
       "    <tr>\n",
       "      <th>212981</th>\n",
       "      <td>0.000013</td>\n",
       "      <td>other</td>\n",
       "      <td>0</td>\n",
       "      <td>0</td>\n",
       "      <td>13</td>\n",
       "      <td>1.0</td>\n",
       "      <td>0.08</td>\n",
       "      <td>0.26</td>\n",
       "      <td>6</td>\n",
       "      <td>84</td>\n",
       "      <td>...</td>\n",
       "      <td>0</td>\n",
       "      <td>1</td>\n",
       "      <td>0</td>\n",
       "      <td>0</td>\n",
       "      <td>0</td>\n",
       "      <td>0</td>\n",
       "      <td>0</td>\n",
       "      <td>0</td>\n",
       "      <td>0</td>\n",
       "      <td>0</td>\n",
       "    </tr>\n",
       "    <tr>\n",
       "      <th>212982</th>\n",
       "      <td>0.000029</td>\n",
       "      <td>other</td>\n",
       "      <td>0</td>\n",
       "      <td>0</td>\n",
       "      <td>2</td>\n",
       "      <td>1.0</td>\n",
       "      <td>0.50</td>\n",
       "      <td>0.25</td>\n",
       "      <td>1</td>\n",
       "      <td>6</td>\n",
       "      <td>...</td>\n",
       "      <td>0</td>\n",
       "      <td>1</td>\n",
       "      <td>0</td>\n",
       "      <td>0</td>\n",
       "      <td>0</td>\n",
       "      <td>0</td>\n",
       "      <td>0</td>\n",
       "      <td>0</td>\n",
       "      <td>0</td>\n",
       "      <td>0</td>\n",
       "    </tr>\n",
       "    <tr>\n",
       "      <th>212983</th>\n",
       "      <td>0.000039</td>\n",
       "      <td>other</td>\n",
       "      <td>0</td>\n",
       "      <td>0</td>\n",
       "      <td>14</td>\n",
       "      <td>1.0</td>\n",
       "      <td>0.07</td>\n",
       "      <td>0.24</td>\n",
       "      <td>1</td>\n",
       "      <td>84</td>\n",
       "      <td>...</td>\n",
       "      <td>0</td>\n",
       "      <td>1</td>\n",
       "      <td>0</td>\n",
       "      <td>0</td>\n",
       "      <td>0</td>\n",
       "      <td>0</td>\n",
       "      <td>0</td>\n",
       "      <td>0</td>\n",
       "      <td>0</td>\n",
       "      <td>0</td>\n",
       "    </tr>\n",
       "    <tr>\n",
       "      <th>212984</th>\n",
       "      <td>0.000045</td>\n",
       "      <td>other</td>\n",
       "      <td>0</td>\n",
       "      <td>0</td>\n",
       "      <td>15</td>\n",
       "      <td>1.0</td>\n",
       "      <td>0.07</td>\n",
       "      <td>0.23</td>\n",
       "      <td>3</td>\n",
       "      <td>84</td>\n",
       "      <td>...</td>\n",
       "      <td>0</td>\n",
       "      <td>1</td>\n",
       "      <td>0</td>\n",
       "      <td>0</td>\n",
       "      <td>0</td>\n",
       "      <td>0</td>\n",
       "      <td>0</td>\n",
       "      <td>0</td>\n",
       "      <td>0</td>\n",
       "      <td>0</td>\n",
       "    </tr>\n",
       "    <tr>\n",
       "      <th>212985</th>\n",
       "      <td>0.000053</td>\n",
       "      <td>other</td>\n",
       "      <td>0</td>\n",
       "      <td>0</td>\n",
       "      <td>16</td>\n",
       "      <td>1.0</td>\n",
       "      <td>0.06</td>\n",
       "      <td>0.22</td>\n",
       "      <td>19</td>\n",
       "      <td>84</td>\n",
       "      <td>...</td>\n",
       "      <td>0</td>\n",
       "      <td>1</td>\n",
       "      <td>0</td>\n",
       "      <td>0</td>\n",
       "      <td>0</td>\n",
       "      <td>0</td>\n",
       "      <td>0</td>\n",
       "      <td>0</td>\n",
       "      <td>0</td>\n",
       "      <td>0</td>\n",
       "    </tr>\n",
       "    <tr>\n",
       "      <th>212986</th>\n",
       "      <td>0.000056</td>\n",
       "      <td>other</td>\n",
       "      <td>0</td>\n",
       "      <td>0</td>\n",
       "      <td>17</td>\n",
       "      <td>1.0</td>\n",
       "      <td>0.06</td>\n",
       "      <td>0.21</td>\n",
       "      <td>7</td>\n",
       "      <td>84</td>\n",
       "      <td>...</td>\n",
       "      <td>0</td>\n",
       "      <td>1</td>\n",
       "      <td>0</td>\n",
       "      <td>0</td>\n",
       "      <td>0</td>\n",
       "      <td>0</td>\n",
       "      <td>0</td>\n",
       "      <td>0</td>\n",
       "      <td>0</td>\n",
       "      <td>0</td>\n",
       "    </tr>\n",
       "    <tr>\n",
       "      <th>212987</th>\n",
       "      <td>0.000058</td>\n",
       "      <td>other</td>\n",
       "      <td>0</td>\n",
       "      <td>0</td>\n",
       "      <td>18</td>\n",
       "      <td>1.0</td>\n",
       "      <td>0.06</td>\n",
       "      <td>0.20</td>\n",
       "      <td>20</td>\n",
       "      <td>84</td>\n",
       "      <td>...</td>\n",
       "      <td>0</td>\n",
       "      <td>1</td>\n",
       "      <td>0</td>\n",
       "      <td>0</td>\n",
       "      <td>0</td>\n",
       "      <td>0</td>\n",
       "      <td>0</td>\n",
       "      <td>0</td>\n",
       "      <td>0</td>\n",
       "      <td>0</td>\n",
       "    </tr>\n",
       "    <tr>\n",
       "      <th>212988</th>\n",
       "      <td>0.000110</td>\n",
       "      <td>dns</td>\n",
       "      <td>36</td>\n",
       "      <td>194</td>\n",
       "      <td>1</td>\n",
       "      <td>1.0</td>\n",
       "      <td>0.00</td>\n",
       "      <td>0.50</td>\n",
       "      <td>0</td>\n",
       "      <td>89</td>\n",
       "      <td>...</td>\n",
       "      <td>0</td>\n",
       "      <td>0</td>\n",
       "      <td>0</td>\n",
       "      <td>0</td>\n",
       "      <td>0</td>\n",
       "      <td>0</td>\n",
       "      <td>0</td>\n",
       "      <td>0</td>\n",
       "      <td>1</td>\n",
       "      <td>0</td>\n",
       "    </tr>\n",
       "  </tbody>\n",
       "</table>\n",
       "<p>10 rows × 193 columns</p>\n",
       "</div>"
      ],
      "text/plain": [
       "        conn len service  src bytes  dst bytes  conn numb  Same srv rate  \\\n",
       "212979  0.000061   other          0          0         20            1.0   \n",
       "212980  0.000000   other          0          0          1            1.0   \n",
       "212981  0.000013   other          0          0         13            1.0   \n",
       "212982  0.000029   other          0          0          2            1.0   \n",
       "212983  0.000039   other          0          0         14            1.0   \n",
       "212984  0.000045   other          0          0         15            1.0   \n",
       "212985  0.000053   other          0          0         16            1.0   \n",
       "212986  0.000056   other          0          0         17            1.0   \n",
       "212987  0.000058   other          0          0         18            1.0   \n",
       "212988  0.000110     dns         36        194          1            1.0   \n",
       "\n",
       "        Serror rate  Srv serror rate  Dst host count  Dst host srv count  \\\n",
       "212979         0.05             0.15               2                  85   \n",
       "212980         0.00             0.22               4                   6   \n",
       "212981         0.08             0.26               6                  84   \n",
       "212982         0.50             0.25               1                   6   \n",
       "212983         0.07             0.24               1                  84   \n",
       "212984         0.07             0.23               3                  84   \n",
       "212985         0.06             0.22              19                  84   \n",
       "212986         0.06             0.21               7                  84   \n",
       "212987         0.06             0.20              20                  84   \n",
       "212988         0.00             0.50               0                  89   \n",
       "\n",
       "          ...      state_OTH  state_REJ  state_RSTO state_RSTOS0  state_RSTR  \\\n",
       "212979    ...              0          1           0            0           0   \n",
       "212980    ...              0          0           0            0           0   \n",
       "212981    ...              0          1           0            0           0   \n",
       "212982    ...              0          1           0            0           0   \n",
       "212983    ...              0          1           0            0           0   \n",
       "212984    ...              0          1           0            0           0   \n",
       "212985    ...              0          1           0            0           0   \n",
       "212986    ...              0          1           0            0           0   \n",
       "212987    ...              0          1           0            0           0   \n",
       "212988    ...              0          0           0            0           0   \n",
       "\n",
       "       state_RSTRH state_S0 state_S1  state_SF  state_SHR  \n",
       "212979           0        0        0         0          0  \n",
       "212980           0        1        0         0          0  \n",
       "212981           0        0        0         0          0  \n",
       "212982           0        0        0         0          0  \n",
       "212983           0        0        0         0          0  \n",
       "212984           0        0        0         0          0  \n",
       "212985           0        0        0         0          0  \n",
       "212986           0        0        0         0          0  \n",
       "212987           0        0        0         0          0  \n",
       "212988           0        0        0         1          0  \n",
       "\n",
       "[10 rows x 193 columns]"
      ]
     },
     "execution_count": 84,
     "metadata": {},
     "output_type": "execute_result"
    }
   ],
   "source": [
    "### hot one encoding ###\n",
    "\n",
    "# hot one encoding for service\n",
    "test_set = pd.concat([test_set, pd.get_dummies(test_set[\"service\"], prefix=\"is\")], axis=1)\n",
    "test_set.tail(10)\n",
    "\n",
    "#hot one encoding for proto - commented due to reduced column number\n",
    "test_set = pd.concat([test_set, pd.get_dummies(test_set[\"proto\"], prefix=\"is\")], axis=1)\n",
    "test_set.tail(10)\n",
    "\n",
    "# hot one encoding for conn state\n",
    "test_set = pd.concat([test_set, pd.get_dummies(test_set[\"Conn state\"], prefix=\"state\")], axis=1)\n",
    "test_set.tail(10)"
   ]
  },
  {
   "cell_type": "code",
   "execution_count": 85,
   "metadata": {},
   "outputs": [],
   "source": [
    "test_set.rename(columns={'Dst host count': 'Dst_host_count', \"Dst host srv count\" : \"Dst_host_srv_count\",\n",
    "                    \"Dst host same src port rate\" : \"Dst_host_same_src_port_rate\",\n",
    "                    \"Dst host serror rate\" : \"Dst_host_serror_rate\",\n",
    "                    \"Dst host srv serror rate\" : \"Dst_host_srv_serror_rate\",\n",
    "                    \"Same srv rate\" : \"Same_srv_rate\",\n",
    "                    \"Srv serror rate\" : \"Srv_serror_rate\",\n",
    "                    \"conn len\" : \"conn_len\",\n",
    "                    \"src bytes\" : \"src_bytes\",\n",
    "                    \"dst bytes\" : \"dst_bytes\",\n",
    "                    \"conn numb\" : \"conn_numb\",\n",
    "                    \"Serror rate\" : \"Serror_rate\",\n",
    "                    \"cli src pool\" : \"cli_src_pool\",\n",
    "                    \"registered src pool\" : \"registered_src_pool\",\n",
    "                    \"well-known src pool\" : \"well_known_src_pool\",\n",
    "                    \"dst port\" : \"dst_port\",\n",
    "                    \"src port\" : \"src_port\",\n",
    "                     \"Conn state\" : \"Conn_state\" \n",
    "                    }, inplace=True)"
   ]
  },
  {
   "cell_type": "code",
   "execution_count": 86,
   "metadata": {},
   "outputs": [
    {
     "name": "stdout",
     "output_type": "stream",
     "text": [
      "Index(['is_dns,sip', 'is_dst_102', 'is_dst_10200', 'is_dst_1081', 'is_dst_119',\n",
      "       'is_dst_135', 'is_dst_143', 'is_dst_223', 'is_dst_389', 'is_dst_5432',\n",
      "       'is_dst_6050', 'is_dst_631', 'is_dst_82', 'is_dst_88', 'is_dst_9080',\n",
      "       'is_src_0', 'is_src_13941', 'is_src_18382', 'is_src_21320',\n",
      "       'is_src_22055', 'is_src_22206', 'is_src_22207', 'is_src_2295',\n",
      "       'is_src_29174', 'is_src_300', 'is_src_37286', 'is_src_37396',\n",
      "       'is_src_37511', 'is_src_38396', 'is_src_40082', 'is_src_40718',\n",
      "       'is_src_41161', 'is_src_41287', 'is_src_41708', 'is_src_41793',\n",
      "       'is_src_42206', 'is_src_443', 'is_src_4445', 'is_src_46432',\n",
      "       'is_src_49354', 'is_src_49362', 'is_src_49376', 'is_src_49414',\n",
      "       'is_src_5061', 'is_src_5071', 'is_src_5094', 'is_src_5100',\n",
      "       'is_src_5114', 'is_src_51361', 'is_src_5187', 'is_src_5208',\n",
      "       'is_src_5211', 'is_src_52131', 'is_src_5229', 'is_src_5247',\n",
      "       'is_src_53265', 'is_src_53451', 'is_src_53762', 'is_src_54110',\n",
      "       'is_src_54334', 'is_src_54499', 'is_src_54509', 'is_src_5497',\n",
      "       'is_src_5501', 'is_src_56118', 'is_src_5844', 'is_src_58663',\n",
      "       'is_src_60000', 'is_src_6044', 'is_src_61605', 'is_src_6173',\n",
      "       'is_src_62029', 'is_src_63265', 'is_src_63432', 'is_src_64486'],\n",
      "      dtype='object')\n"
     ]
    },
    {
     "data": {
      "text/plain": [
       "(212989, 193)"
      ]
     },
     "execution_count": 86,
     "metadata": {},
     "output_type": "execute_result"
    }
   ],
   "source": [
    "# check differences between datasets after hot one encoding\n",
    "\n",
    "test_new_data_full = test_set\n",
    "    \n",
    "print(test_set.columns.difference(data.columns))  \n",
    "test_set.shape"
   ]
  },
  {
   "cell_type": "code",
   "execution_count": 87,
   "metadata": {},
   "outputs": [],
   "source": [
    "test_new_data = test_set.loc[range(30000), :]\n",
    "\n",
    "for c in data.columns.difference(test_new_data.columns):\n",
    "    test_new_data[c] = 0\n",
    "for c in test_new_data.columns.difference(data.columns):\n",
    "    test_new_data = test_new_data.drop(c, axis=1)\n",
    "\n",
    "test_new_data = test_new_data.drop([\"service\", \"Conn_state\", \"proto\", \"src_port\", \"dst_port\"], axis=1)\n",
    "    \n",
    "test_new_data = test_new_data.sample(frac=1)\n",
    "y_test_new_data = test_new_data.loc[:, \"attack_flag\"].values.ravel()\n",
    "X_test_new_data = test_new_data.drop([\"attack_flag\"], axis=1).astype(np.float32)"
   ]
  },
  {
   "cell_type": "code",
   "execution_count": 88,
   "metadata": {},
   "outputs": [
    {
     "name": "stdout",
     "output_type": "stream",
     "text": [
      "(30000, 232)\n",
      "(32645, 232)\n",
      "1    29498\n",
      "0      502\n",
      "Name: attack_flag, dtype: int64\n"
     ]
    }
   ],
   "source": [
    "print(X_test_new_data.shape)\n",
    "print(X_test.shape)\n",
    "print(test_new_data[\"attack_flag\"].value_counts())"
   ]
  },
  {
   "cell_type": "code",
   "execution_count": 89,
   "metadata": {},
   "outputs": [
    {
     "name": "stdout",
     "output_type": "stream",
     "text": [
      "Algorithm: baseline     Accuracy: 0.98327, F1-score: 0.99156, Precision: 0.98327, Recall: 1.00000, FPR: 1.00000, FNR: 0.00000\n",
      "TN:   0; FP: 502; FN:    0; TP: 29498\n",
      "\n"
     ]
    }
   ],
   "source": [
    "# Metrics of baseline method\n",
    "from sklearn import metrics\n",
    "\n",
    "name = \"baseline\"\n",
    "\n",
    "if(y_test_new_data.mean() > (1-y_test_new_data.mean())):\n",
    "    y_pred = np.ones(len(y_test_new_data)).ravel() \n",
    "else:\n",
    "    y_pred = np.zeros(len(y_test_new_data)).ravel() \n",
    "    \n",
    "Acc[name] = metrics.accuracy_score(y_test_new_data, y_pred)\n",
    "F1S[name] = metrics.f1_score(y_test_new_data, y_pred)\n",
    "Prec[name] = metrics.precision_score(y_test_new_data, y_pred)\n",
    "Rec[name] = metrics.recall_score(y_test_new_data, y_pred)\n",
    "tn, fp, fn, tp = metrics.confusion_matrix(y_test_new_data, y_pred).ravel()\n",
    "FPR[name] = fp/(fp+tn)\n",
    "FNR[name] = fn/(tp+fn)\n",
    "\n",
    "print(\"Algorithm: {0:12} Accuracy: {1:.5f}, F1-score: {2:.5f}, Precision: {3:.5f}, Recall: {4:.5f}, FPR: {5:.5f}, FNR: {6:.5f}\".format(name, Acc[name], F1S[name], Prec[name], Rec[name], FPR[name], FNR[name]))\n",
    "print(\"TN: {0:3}; FP: {1:3}; FN: {2:4}; TP: {3:3}\\n\".format(tn, fp, fn, tp))"
   ]
  },
  {
   "cell_type": "code",
   "execution_count": 90,
   "metadata": {},
   "outputs": [
    {
     "name": "stdout",
     "output_type": "stream",
     "text": [
      "Algorithm: LogisticReg  Accuracy: 0.98183, F1-score: 0.99083, Precision: 0.98324, Recall: 0.99854, FPR: 1.00000, FNR: 0.00146\n",
      "TN:   0; FP: 502; FN:   43; TP: 29455\n",
      "\n"
     ]
    }
   ],
   "source": [
    "from sklearn.linear_model import LogisticRegression\n",
    "from sklearn import metrics\n",
    "\n",
    "clf = LogisticRegression(solver = 'newton-cg')\n",
    "\n",
    "model = clf.fit(X_train, y_train)\n",
    "\n",
    "y_pred = model.predict(X_test_new_data)\n",
    "\n",
    "name = \"LogisticReg\"\n",
    "\n",
    "Acc[name] = metrics.accuracy_score(y_test_new_data, y_pred)\n",
    "F1S[name] = metrics.f1_score(y_test_new_data, y_pred)\n",
    "Prec[name] = metrics.precision_score(y_test_new_data, y_pred)\n",
    "Rec[name] = metrics.recall_score(y_test_new_data, y_pred)\n",
    "tn, fp, fn, tp = metrics.confusion_matrix(y_test_new_data, y_pred).ravel()\n",
    "FPR[name] = fp/(fp+tn)\n",
    "FNR[name] = fn/(tp+fn)\n",
    "\n",
    "print(\"Algorithm: {0:12} Accuracy: {1:.5f}, F1-score: {2:.5f}, Precision: {3:.5f}, Recall: {4:.5f}, FPR: {5:.5f}, FNR: {6:.5f}\".format(name, Acc[name], F1S[name], Prec[name], Rec[name], FPR[name], FNR[name]))\n",
    "print(\"TN: {0:3}; FP: {1:3}; FN: {2:4}; TP: {3:3}\\n\".format(tn, fp, fn, tp))"
   ]
  },
  {
   "cell_type": "code",
   "execution_count": 91,
   "metadata": {},
   "outputs": [
    {
     "name": "stdout",
     "output_type": "stream",
     "text": [
      "Algorithm: AdaBoost     Accuracy: 0.98017, F1-score: 0.98998, Precision: 0.98331, Recall: 0.99675, FPR: 0.99402, FNR: 0.00325\n",
      "TN:   3; FP: 499; FN:   96; TP: 29402\n",
      "\n",
      "Algorithm: DecisionTree Accuracy: 0.98797, F1-score: 0.99388, Precision: 0.99363, Recall: 0.99414, FPR: 0.37450, FNR: 0.00586\n",
      "TN: 314; FP: 188; FN:  173; TP: 29325\n",
      "\n",
      "Algorithm: NaiveBayes   Accuracy: 0.98320, F1-score: 0.99153, Precision: 0.98327, Recall: 0.99993, FPR: 1.00000, FNR: 0.00007\n",
      "TN:   0; FP: 502; FN:    2; TP: 29496\n",
      "\n",
      "Algorithm: RandomTree   Accuracy: 0.99003, F1-score: 0.99495, Precision: 0.99221, Recall: 0.99769, FPR: 0.46016, FNR: 0.00231\n",
      "TN: 271; FP: 231; FN:   68; TP: 29430\n",
      "\n",
      "Algorithm: RandomForest Accuracy: 0.95563, F1-score: 0.97731, Precision: 0.98279, Recall: 0.97190, FPR: 1.00000, FNR: 0.02810\n",
      "TN:   0; FP: 502; FN:  829; TP: 28669\n",
      "\n"
     ]
    }
   ],
   "source": [
    "from sklearn.ensemble import AdaBoostClassifier\n",
    "from sklearn.tree import DecisionTreeClassifier\n",
    "from sklearn.naive_bayes import GaussianNB\n",
    "from sklearn.ensemble import RandomForestClassifier\n",
    "from sklearn.linear_model import LogisticRegression\n",
    "\n",
    "\n",
    "seed = 12\n",
    "num_trees = 28\n",
    "\n",
    "classifiers = {\n",
    "               \"AdaBoost\":AdaBoostClassifier(DecisionTreeClassifier(max_depth = 13), n_estimators=num_trees),\n",
    "               \"DecisionTree\":DecisionTreeClassifier(random_state=0, criterion = \"entropy\", max_depth = 13),\n",
    "               \"NaiveBayes\":GaussianNB(),\n",
    "               \"RandomTree\":BaggingClassifier(DecisionTreeClassifier(random_state=0, criterion = \"entropy\", max_depth = 13), n_estimators=93),\n",
    "               \"RandomForest\":RandomForestClassifier(n_estimators=178, max_depth=31, random_state=0),\n",
    "              }\n",
    "\n",
    "\n",
    "for name, clf in classifiers.items():\n",
    "    \n",
    "    model = clf.fit(X_train_alg, y_train_alg)\n",
    "    \n",
    "    y_pred = model.predict(X_test_new_data)\n",
    "    \n",
    "    Acc[name] = metrics.accuracy_score(y_test_new_data, y_pred)\n",
    "    F1S[name] = metrics.f1_score(y_test_new_data, y_pred)\n",
    "    Prec[name] = metrics.precision_score(y_test_new_data, y_pred)\n",
    "    Rec[name] = metrics.recall_score(y_test_new_data, y_pred)\n",
    "    tn, fp, fn, tp = metrics.confusion_matrix(y_test_new_data, y_pred).ravel()\n",
    "    FPR[name] = fp/(fp+tn)\n",
    "    FNR[name] = fn/(tp+fn)\n",
    "\n",
    "    print(\"Algorithm: {0:12} Accuracy: {1:.5f}, F1-score: {2:.5f}, Precision: {3:.5f}, Recall: {4:.5f}, FPR: {5:.5f}, FNR: {6:.5f}\".format(name, Acc[name], F1S[name], Prec[name], Rec[name], FPR[name], FNR[name]))\n",
    "    print(\"TN: {0:3}; FP: {1:3}; FN: {2:4}; TP: {3:3}\\n\".format(tn, fp, fn, tp))"
   ]
  },
  {
   "cell_type": "code",
   "execution_count": 92,
   "metadata": {},
   "outputs": [],
   "source": [
    "test_input_fn = tf.estimator.inputs.numpy_input_fn(\n",
    "    x={\"features\": X_test_new_data.values},\n",
    "    y=y_test_new_data,\n",
    "    batch_size=X_test_new_data.shape[0],\n",
    "    num_epochs=1,\n",
    "    shuffle=False)"
   ]
  },
  {
   "cell_type": "code",
   "execution_count": 93,
   "metadata": {},
   "outputs": [
    {
     "name": "stdout",
     "output_type": "stream",
     "text": [
      "INFO:tensorflow:Graph was finalized.\n",
      "INFO:tensorflow:Restoring parameters from kernel_train/model.ckpt-8000\n",
      "INFO:tensorflow:Running local_init_op.\n",
      "INFO:tensorflow:Done running local_init_op.\n"
     ]
    }
   ],
   "source": [
    "pred_iterator = estimator_kernel.predict(input_fn = test_input_fn)"
   ]
  },
  {
   "cell_type": "code",
   "execution_count": 94,
   "metadata": {},
   "outputs": [],
   "source": [
    "class_id = []\n",
    "\n",
    "for pred_dict in pred_iterator:\n",
    "    class_id.append(pred_dict['classes'])"
   ]
  },
  {
   "cell_type": "code",
   "execution_count": 95,
   "metadata": {},
   "outputs": [
    {
     "name": "stdout",
     "output_type": "stream",
     "text": [
      "Algorithm: RFFM         Accuracy: 0.99007, F1-score: 0.99496, Precision: 0.99235, Recall: 0.99759, FPR: 0.45219, FNR: 0.00241\n",
      "TN: 275; FP: 227; FN:   71; TP: 29427\n",
      "\n"
     ]
    }
   ],
   "source": [
    "name = \"RFFM\"\n",
    "\n",
    "Acc[name] = metrics.accuracy_score(y_test_new_data, class_id)\n",
    "F1S[name] = metrics.f1_score(y_test_new_data, class_id)\n",
    "Prec[name] = metrics.precision_score(y_test_new_data, class_id)\n",
    "Rec[name] = metrics.recall_score(y_test_new_data, class_id)\n",
    "tn, fp, fn, tp = metrics.confusion_matrix(y_test_new_data, class_id).ravel()\n",
    "FPR[name] = fp/(fp+tn)\n",
    "FNR[name] = fn/(tp+fn)\n",
    "\n",
    "print(\"Algorithm: {0:12} Accuracy: {1:.5f}, F1-score: {2:.5f}, Precision: {3:.5f}, Recall: {4:.5f}, FPR: {5:.5f}, FNR: {6:.5f}\".format(name, Acc[name], F1S[name], Prec[name], Rec[name], FPR[name], FNR[name]))\n",
    "print(\"TN: {0:3}; FP: {1:3}; FN: {2:4}; TP: {3:3}\\n\".format(tn, fp, fn, tp))"
   ]
  },
  {
   "cell_type": "code",
   "execution_count": 96,
   "metadata": {},
   "outputs": [
    {
     "name": "stdout",
     "output_type": "stream",
     "text": [
      "INFO:tensorflow:Calling model_fn.\n",
      "INFO:tensorflow:Done calling model_fn.\n",
      "INFO:tensorflow:Graph was finalized.\n",
      "INFO:tensorflow:Restoring parameters from /home/matz/Desktop/ml_ids/NN_model/model.ckpt-20000\n",
      "INFO:tensorflow:Running local_init_op.\n",
      "INFO:tensorflow:Done running local_init_op.\n"
     ]
    }
   ],
   "source": [
    "results = []\n",
    "results = list(NN_model.predict(input_fn=get_input_fn(test_new_data_full.loc[range(30000), :], num_epochs=1, n_batch = X_test.shape[0], shuffle=False)))"
   ]
  },
  {
   "cell_type": "code",
   "execution_count": 97,
   "metadata": {},
   "outputs": [],
   "source": [
    "y_pred = []\n",
    "for el in results:\n",
    "    y_pred.append(el[\"class_ids\"])"
   ]
  },
  {
   "cell_type": "code",
   "execution_count": 98,
   "metadata": {},
   "outputs": [
    {
     "name": "stdout",
     "output_type": "stream",
     "text": [
      "Algorithm: Wide&Deep    Accuracy: 0.96373, F1-score: 0.98152, Precision: 0.98346, Recall: 0.97959, FPR: 0.96813, FNR: 0.02041\n",
      "TN:  16; FP: 486; FN:  602; TP: 28896\n",
      "\n"
     ]
    }
   ],
   "source": [
    "name = \"Wide&Deep\"\n",
    "\n",
    "Acc[name] = metrics.accuracy_score(y_test_new_data, y_pred)\n",
    "F1S[name] = metrics.f1_score(y_test_new_data, y_pred)\n",
    "Prec[name] = metrics.precision_score(y_test_new_data, y_pred)\n",
    "Rec[name] = metrics.recall_score(y_test_new_data, y_pred)\n",
    "tn, fp, fn, tp = metrics.confusion_matrix(y_test_new_data, y_pred).ravel()\n",
    "FPR[name] = fp/(fp+tn)\n",
    "FNR[name] = fn/(tp+fn)\n",
    "\n",
    "print(\"Algorithm: {0:12} Accuracy: {1:.5f}, F1-score: {2:.5f}, Precision: {3:.5f}, Recall: {4:.5f}, FPR: {5:.5f}, FNR: {6:.5f}\".format(name, Acc[name], F1S[name], Prec[name], Rec[name], FPR[name], FNR[name]))\n",
    "print(\"TN: {0:3}; FP: {1:3}; FN: {2:4}; TP: {3:3}\\n\".format(tn, fp, fn, tp))"
   ]
  },
  {
   "cell_type": "code",
   "execution_count": 99,
   "metadata": {},
   "outputs": [
    {
     "data": {
      "image/png": "[encoded data removed]",
      "text/plain": [
       "<matplotlib.figure.Figure at 0x7fa4ab7cd518>"
      ]
     },
     "metadata": {
      "needs_background": "light"
     },
     "output_type": "display_data"
    },
    {
     "data": {
      "image/png": "[encoded data removed]",
      "text/plain": [
       "<matplotlib.figure.Figure at 0x7fa4aa84f518>"
      ]
     },
     "metadata": {
      "needs_background": "light"
     },
     "output_type": "display_data"
    },
    {
     "data": {
      "image/png": "[encoded data removed]",
      "text/plain": [
       "<matplotlib.figure.Figure at 0x7fa56d1de748>"
      ]
     },
     "metadata": {
      "needs_background": "light"
     },
     "output_type": "display_data"
    },
    {
     "data": {
      "image/png": "[encoded data removed]",
      "text/plain": [
       "<matplotlib.figure.Figure at 0x7fa56d14a8d0>"
      ]
     },
     "metadata": {
      "needs_background": "light"
     },
     "output_type": "display_data"
    },
    {
     "data": {
      "image/png": "[encoded data removed]",
      "text/plain": [
       "<matplotlib.figure.Figure at 0x7fa56d228e48>"
      ]
     },
     "metadata": {
      "needs_background": "light"
     },
     "output_type": "display_data"
    },
    {
     "data": {
      "image/png": "[encoded data removed]",
      "text/plain": [
       "<matplotlib.figure.Figure at 0x7fa56d308128>"
      ]
     },
     "metadata": {
      "needs_background": "light"
     },
     "output_type": "display_data"
    }
   ],
   "source": [
    "plot_stats(Acc, \"Accuracy\", 8, 55)\n",
    "plot_stats(F1S, \"F1-score\", 8, 55)\n",
    "plot_stats(Prec, \"Precision\", 8, 55)\n",
    "plot_stats(Rec, \"Recall\", 8, 55)\n",
    "plot_stats(FPR, \"False Positive Rate\", 8, 55)\n",
    "plot_stats(FNR, \"False Negative Rate\", 8, 55)"
   ]
  }
 ],
 "metadata": {
  "kernelspec": {
   "display_name": "Python 3",
   "language": "python",
   "name": "python3"
  },
  "language_info": {
   "codemirror_mode": {
    "name": "ipython",
    "version": 3
   },
   "file_extension": ".py",
   "mimetype": "text/x-python",
   "name": "python",
   "nbconvert_exporter": "python",
   "pygments_lexer": "ipython3",
   "version": "3.6.7"
  }
 },
 "nbformat": 4,
 "nbformat_minor": 2
}
