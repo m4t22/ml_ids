{
 "cells": [
  {
   "cell_type": "code",
   "execution_count": 5,
   "metadata": {},
   "outputs": [],
   "source": [
    "import pandas as pd\n",
    "import matplotlib.pyplot as plt\n",
    "import numpy as np\n",
    "\n",
    "%matplotlib inline \n",
    "%config IPCompleter.greedy=True\n",
    "\n",
    "import collections\n",
    "import io\n",
    "import math\n",
    "import tensorflow as tf\n",
    "from IPython import display\n",
    "from sklearn import metrics"
   ]
  },
  {
   "cell_type": "markdown",
   "metadata": {},
   "source": [
    "\n",
    "## Reading data from file"
   ]
  },
  {
   "cell_type": "code",
   "execution_count": 6,
   "metadata": {},
   "outputs": [
    {
     "name": "stdout",
     "output_type": "stream",
     "text": [
      "Counter({-1: 149915, 1: 67713})\n"
     ]
    }
   ],
   "source": [
    "from collections import Counter\n",
    "\n",
    "### main dataset ###\n",
    "data = pd.read_csv(\"20151219.txt\", sep = \"\\t\", header = None)\n",
    "data.columns = [\"conn_len\", \"service\", \"src_bytes\", \"dst_bytes\", \"conn_numb\", \"Same_srv_rate\", \"Serror_rate\", \"Srv_serror_rate\", \"Dst_host_count\", \"Dst_host_srv_count\", \"Dst_host_same_src_port_rate\", \"Dst_host_serror_rate\", \"Dst_host_srv_serror_rate\", \"Conn_state\", \"IDS_detection\", \"Malware_detection\", \"Ashula_detection\", \"attack_flag\", \"src_IP\", \"src_port\", \"dst_IP\", \"dst_port\", \"start_time\", \"proto\"]\n",
    "\n",
    "print(Counter(data[\"attack_flag\"]))"
   ]
  },
  {
   "cell_type": "markdown",
   "metadata": {},
   "source": [
    "## Transform to binary"
   ]
  },
  {
   "cell_type": "code",
   "execution_count": 7,
   "metadata": {},
   "outputs": [
    {
     "name": "stdout",
     "output_type": "stream",
     "text": [
      "Counter({1: 149915, 0: 67713})\n"
     ]
    }
   ],
   "source": [
    "data.loc[:, \"attack_flag\"] = data.loc[:,\"attack_flag\"].replace(-2, -1)\n",
    "data.loc[:, \"attack_flag\"] = data.loc[:, \"attack_flag\"] * -1\n",
    "data.loc[:, \"attack_flag\"] = data.loc[:,\"attack_flag\"].replace(-1, 0)\n",
    "\n",
    "print(Counter(data[\"attack_flag\"]))"
   ]
  },
  {
   "cell_type": "code",
   "execution_count": 8,
   "metadata": {},
   "outputs": [
    {
     "data": {
      "text/plain": [
       "(217628, 24)"
      ]
     },
     "execution_count": 8,
     "metadata": {},
     "output_type": "execute_result"
    }
   ],
   "source": [
    "# removing NaNs\n",
    "data = data.dropna()\n",
    "data.shape"
   ]
  },
  {
   "cell_type": "markdown",
   "metadata": {},
   "source": [
    "# a bit of feature engineering"
   ]
  },
  {
   "cell_type": "markdown",
   "metadata": {},
   "source": [
    "## port numbers classification"
   ]
  },
  {
   "cell_type": "code",
   "execution_count": 9,
   "metadata": {},
   "outputs": [],
   "source": [
    "t1 = 1023  # well-known port numbers\n",
    "t2 = 49151 # registered ports\n",
    "t3 = 65535 # client ports\n",
    "\n",
    "def wk(data_row):\n",
    "    if (data_row[\"src_port\"] <= t1): \n",
    "        value = 1\n",
    "    elif ((data_row[\"src_port\"] > t1) and (data_row[\"src_port\"] <= t2)):\n",
    "        value = 0\n",
    "    elif ((data_row[\"src_port\"] > t2) and (data_row[\"src_port\"] <= t3)):\n",
    "        value = 0\n",
    "    return value\n",
    "\n",
    "def reg(data_row):\n",
    "    if (data_row[\"src_port\"] <= t1): \n",
    "        value = 0\n",
    "    elif ((data_row[\"src_port\"] > t1) and (data_row[\"src_port\"] <= t2)):\n",
    "        value = 1\n",
    "    elif ((data_row[\"src_port\"] > t2) and (data_row[\"src_port\"] <= t3)):\n",
    "        value = 0\n",
    "    return value\n",
    "\n",
    "def cli(data_row):\n",
    "    if (data_row[\"src_port\"] <= t1): \n",
    "        value = 0\n",
    "    elif ((data_row[\"src_port\"] > t1) and (data_row[\"src_port\"] <= t2)):\n",
    "        value = 0\n",
    "    elif ((data_row[\"src_port\"] > t2) and (data_row[\"src_port\"] <= t3)):\n",
    "        value = 1\n",
    "    return value\n",
    "\n",
    "data[\"well_known_src_pool\"] = data.apply(wk, axis=1)\n",
    "data[\"registered_src_pool\"] = data.apply(reg, axis=1)\n",
    "data[\"cli_src_pool\"] = data.apply(cli, axis=1)"
   ]
  },
  {
   "cell_type": "code",
   "execution_count": 39,
   "metadata": {},
   "outputs": [],
   "source": [
    "data[\"src_port\"] = data[\"src_port\"].apply(str)\n",
    "data[\"dst_port\"] = data[\"dst_port\"].apply(str)"
   ]
  },
  {
   "cell_type": "code",
   "execution_count": 40,
   "metadata": {},
   "outputs": [
    {
     "name": "stdout",
     "output_type": "stream",
     "text": [
      "(152339, 27)\n",
      "(32644, 27)\n",
      "(32645, 27)\n"
     ]
    }
   ],
   "source": [
    "train, validate, test = np.split(data, [int(.7*len(data)), int(.85*len(data))])\n",
    "train = train.sample(frac=1)\n",
    "validate = validate.sample(frac=1)\n",
    "test = test.sample(frac=1)\n",
    "y_train = train.loc[:, \"attack_flag\"].values.ravel()\n",
    "X_train = train.drop([\"attack_flag\"], axis=1)\n",
    "y_validate = validate.loc[:, \"attack_flag\"].values.ravel()\n",
    "X_validate = validate.drop([\"attack_flag\"], axis=1)\n",
    "y_test = test.loc[:, \"attack_flag\"].values.ravel()\n",
    "X_test = test.drop([\"attack_flag\"], axis=1)\n",
    "print(train.shape)\n",
    "print(validate.shape)\n",
    "print(test.shape)"
   ]
  },
  {
   "cell_type": "code",
   "execution_count": 41,
   "metadata": {},
   "outputs": [],
   "source": [
    "deep_numeric_feat = [\"Same_srv_rate\", \"Serror_rate\", \"Srv_serror_rate\", \"Dst_host_count\", \"Dst_host_srv_count\", \"Dst_host_same_src_port_rate\", \"Dst_host_serror_rate\", \"Dst_host_srv_serror_rate\", \"well_known_src_pool\", \"registered_src_pool\", \"cli_src_pool\"]\n",
    "wide_numeric_feat = [\"conn_len\",  \"src_bytes\", \"dst_bytes\", \"conn_numb\"]\n",
    "categorical_feat = [\"service\", \"Conn_state\", \"src_port\", \"dst_port\", \"proto\"]"
   ]
  },
  {
   "cell_type": "code",
   "execution_count": 42,
   "metadata": {},
   "outputs": [],
   "source": [
    "deep_numeric_feat_tf = [tf.feature_column.numeric_column(k) for k in deep_numeric_feat]\n",
    "wide_numeric_feat_tf = [tf.feature_column.numeric_column(k) for k in wide_numeric_feat]"
   ]
  },
  {
   "cell_type": "code",
   "execution_count": 43,
   "metadata": {},
   "outputs": [],
   "source": [
    "#data[\"src_port\"].unique().tolist()"
   ]
  },
  {
   "cell_type": "code",
   "execution_count": 44,
   "metadata": {},
   "outputs": [],
   "source": [
    "src_port_mod = [\"src_\" + s for s in data[\"src_port\"].unique().tolist()]\n",
    "src_port = tf.feature_column.categorical_column_with_vocabulary_list(\n",
    "    'src_port', src_port_mod)\n",
    "\n",
    "dst_port_mod = [\"dst_\" + s for s in data[\"dst_port\"].unique().tolist()]\n",
    "dst_port = tf.feature_column.categorical_column_with_vocabulary_list(\n",
    "    'dst_port', dst_port_mod)\n",
    "\n",
    "service = tf.feature_column.categorical_column_with_vocabulary_list(\n",
    "    'service', data[\"service\"].unique().tolist())\n",
    "\n",
    "Conn_state = tf.feature_column.categorical_column_with_vocabulary_list(\n",
    "    'Conn_state', data[\"Conn_state\"].unique().tolist())\n",
    "\n",
    "proto = tf.feature_column.categorical_column_with_vocabulary_list(\n",
    "    'proto', data[\"proto\"].unique().tolist())"
   ]
  },
  {
   "cell_type": "code",
   "execution_count": 45,
   "metadata": {},
   "outputs": [],
   "source": [
    "deep_columns = [\n",
    "    tf.feature_column.indicator_column(service),\n",
    "    tf.feature_column.indicator_column(Conn_state),\n",
    "    tf.feature_column.indicator_column(proto),\n",
    "    tf.feature_column.embedding_column(src_port, dimension=10),\n",
    "    tf.feature_column.embedding_column(dst_port, dimension=3),\n",
    "]"
   ]
  },
  {
   "cell_type": "code",
   "execution_count": 46,
   "metadata": {},
   "outputs": [],
   "source": [
    "crossed_columns = [\n",
    "      tf.feature_column.crossed_column(\n",
    "          ['src_port', 'service'], hash_bucket_size=10000),\n",
    "      tf.feature_column.crossed_column(\n",
    "          ['service', 'proto'], hash_bucket_size=10000),\n",
    "  ]"
   ]
  },
  {
   "cell_type": "code",
   "execution_count": 229,
   "metadata": {},
   "outputs": [
    {
     "name": "stdout",
     "output_type": "stream",
     "text": [
      "INFO:tensorflow:Using default config.\n",
      "INFO:tensorflow:Using config: {'_model_dir': '/home/matz/Desktop/ml_ids/NN_model', '_tf_random_seed': None, '_save_summary_steps': 100, '_save_checkpoints_steps': None, '_save_checkpoints_secs': 600, '_session_config': allow_soft_placement: true\n",
      "graph_options {\n",
      "  rewrite_options {\n",
      "    meta_optimizer_iterations: ONE\n",
      "  }\n",
      "}\n",
      ", '_keep_checkpoint_max': 5, '_keep_checkpoint_every_n_hours': 10000, '_log_step_count_steps': 100, '_train_distribute': None, '_device_fn': None, '_protocol': None, '_eval_distribute': None, '_experimental_distribute': None, '_service': None, '_cluster_spec': <tensorflow.python.training.server_lib.ClusterSpec object at 0x7f70ade30d68>, '_task_type': 'worker', '_task_id': 0, '_global_id_in_cluster': 0, '_master': '', '_evaluation_master': '', '_is_chief': True, '_num_ps_replicas': 0, '_num_worker_replicas': 1}\n"
     ]
    }
   ],
   "source": [
    "model = tf.estimator.DNNLinearCombinedClassifier(\n",
    "    model_dir = \"/home/matz/Desktop/ml_ids/NN_model\",\n",
    "    dnn_activation_fn=tf.nn.selu,\n",
    "    linear_feature_columns = wide_numeric_feat_tf + crossed_columns,\n",
    "    dnn_feature_columns = deep_columns + deep_numeric_feat_tf + wide_numeric_feat_tf,\n",
    "    dnn_hidden_units = [450, 250, 150, 100, 75, 50, 30])"
   ]
  },
  {
   "cell_type": "code",
   "execution_count": 230,
   "metadata": {},
   "outputs": [],
   "source": [
    "feature_set= deep_numeric_feat + wide_numeric_feat + categorical_feat"
   ]
  },
  {
   "cell_type": "code",
   "execution_count": 231,
   "metadata": {},
   "outputs": [],
   "source": [
    "def get_input_fn(data_set, num_epochs=None, n_batch = 256, shuffle=True):\n",
    "    return tf.estimator.inputs.pandas_input_fn(\n",
    "       x=pd.DataFrame({k: data_set[k].values for k in feature_set}),\n",
    "       y = pd.Series(data_set[\"attack_flag\"].values),\n",
    "       batch_size=n_batch,   \n",
    "       num_epochs=num_epochs,\n",
    "       shuffle=shuffle)"
   ]
  },
  {
   "cell_type": "code",
   "execution_count": 232,
   "metadata": {},
   "outputs": [
    {
     "data": {
      "text/plain": [
       "<function tensorflow.python.estimator.inputs.pandas_io.pandas_input_fn.<locals>.input_fn()>"
      ]
     },
     "execution_count": 232,
     "metadata": {},
     "output_type": "execute_result"
    }
   ],
   "source": [
    "get_input_fn(test, n_batch=test.shape[0], shuffle=False)"
   ]
  },
  {
   "cell_type": "code",
   "execution_count": 233,
   "metadata": {},
   "outputs": [
    {
     "name": "stdout",
     "output_type": "stream",
     "text": [
      "INFO:tensorflow:Calling model_fn.\n",
      "INFO:tensorflow:Done calling model_fn.\n",
      "INFO:tensorflow:Create CheckpointSaverHook.\n",
      "INFO:tensorflow:Graph was finalized.\n",
      "INFO:tensorflow:Running local_init_op.\n",
      "INFO:tensorflow:Done running local_init_op.\n",
      "INFO:tensorflow:Saving checkpoints for 0 into /home/matz/Desktop/ml_ids/NN_model/model.ckpt.\n",
      "INFO:tensorflow:loss = 201.97006, step = 1\n",
      "INFO:tensorflow:global_step/sec: 104.069\n",
      "INFO:tensorflow:loss = 7.1775665, step = 101 (0.962 sec)\n",
      "INFO:tensorflow:global_step/sec: 121.153\n",
      "INFO:tensorflow:loss = 11.9551735, step = 201 (0.826 sec)\n",
      "INFO:tensorflow:global_step/sec: 122.534\n",
      "INFO:tensorflow:loss = 11.314864, step = 301 (0.816 sec)\n",
      "INFO:tensorflow:global_step/sec: 124.198\n",
      "INFO:tensorflow:loss = 6.8720117, step = 401 (0.806 sec)\n",
      "INFO:tensorflow:global_step/sec: 120.622\n",
      "INFO:tensorflow:loss = 7.6398473, step = 501 (0.829 sec)\n",
      "INFO:tensorflow:global_step/sec: 123.277\n",
      "INFO:tensorflow:loss = 6.555061, step = 601 (0.811 sec)\n",
      "INFO:tensorflow:global_step/sec: 122.698\n",
      "INFO:tensorflow:loss = 13.964791, step = 701 (0.815 sec)\n",
      "INFO:tensorflow:global_step/sec: 121.226\n",
      "INFO:tensorflow:loss = 14.781004, step = 801 (0.825 sec)\n",
      "INFO:tensorflow:global_step/sec: 118.572\n",
      "INFO:tensorflow:loss = 4.374391, step = 901 (0.843 sec)\n",
      "INFO:tensorflow:global_step/sec: 107.458\n",
      "INFO:tensorflow:loss = 3.550031, step = 1001 (0.933 sec)\n",
      "INFO:tensorflow:global_step/sec: 105.691\n",
      "INFO:tensorflow:loss = 7.6713066, step = 1101 (0.943 sec)\n",
      "INFO:tensorflow:global_step/sec: 106.631\n",
      "INFO:tensorflow:loss = 4.002226, step = 1201 (0.938 sec)\n",
      "INFO:tensorflow:global_step/sec: 105.645\n",
      "INFO:tensorflow:loss = 2.278521, step = 1301 (0.946 sec)\n",
      "INFO:tensorflow:global_step/sec: 114.717\n",
      "INFO:tensorflow:loss = 12.151361, step = 1401 (0.872 sec)\n",
      "INFO:tensorflow:global_step/sec: 114.592\n",
      "INFO:tensorflow:loss = 1.715121, step = 1501 (0.872 sec)\n",
      "INFO:tensorflow:global_step/sec: 114.829\n",
      "INFO:tensorflow:loss = 1.8197745, step = 1601 (0.871 sec)\n",
      "INFO:tensorflow:global_step/sec: 121.31\n",
      "INFO:tensorflow:loss = 2.3473394, step = 1701 (0.825 sec)\n",
      "INFO:tensorflow:global_step/sec: 123.354\n",
      "INFO:tensorflow:loss = 5.745605, step = 1801 (0.810 sec)\n",
      "INFO:tensorflow:global_step/sec: 121.969\n",
      "INFO:tensorflow:loss = 1.8511813, step = 1901 (0.820 sec)\n",
      "INFO:tensorflow:global_step/sec: 121.857\n",
      "INFO:tensorflow:loss = 6.3003917, step = 2001 (0.821 sec)\n",
      "INFO:tensorflow:global_step/sec: 122.308\n",
      "INFO:tensorflow:loss = 1.2420336, step = 2101 (0.817 sec)\n",
      "INFO:tensorflow:global_step/sec: 124.467\n",
      "INFO:tensorflow:loss = 9.17347, step = 2201 (0.803 sec)\n",
      "INFO:tensorflow:global_step/sec: 122.945\n",
      "INFO:tensorflow:loss = 4.019126, step = 2301 (0.813 sec)\n",
      "INFO:tensorflow:global_step/sec: 121.822\n",
      "INFO:tensorflow:loss = 9.041619, step = 2401 (0.821 sec)\n",
      "INFO:tensorflow:global_step/sec: 116.968\n",
      "INFO:tensorflow:loss = 6.0690384, step = 2501 (0.855 sec)\n",
      "INFO:tensorflow:global_step/sec: 98.0325\n",
      "INFO:tensorflow:loss = 8.253923, step = 2601 (1.021 sec)\n",
      "INFO:tensorflow:global_step/sec: 108.504\n",
      "INFO:tensorflow:loss = 3.3302946, step = 2701 (0.921 sec)\n",
      "INFO:tensorflow:global_step/sec: 110.651\n",
      "INFO:tensorflow:loss = 4.7388754, step = 2801 (0.904 sec)\n",
      "INFO:tensorflow:global_step/sec: 118.918\n",
      "INFO:tensorflow:loss = 2.4777884, step = 2901 (0.841 sec)\n",
      "INFO:tensorflow:global_step/sec: 115.999\n",
      "INFO:tensorflow:loss = 6.780591, step = 3001 (0.863 sec)\n",
      "INFO:tensorflow:global_step/sec: 111.306\n",
      "INFO:tensorflow:loss = 8.199382, step = 3101 (0.900 sec)\n",
      "INFO:tensorflow:global_step/sec: 107.794\n",
      "INFO:tensorflow:loss = 1.9378774, step = 3201 (0.924 sec)\n",
      "INFO:tensorflow:global_step/sec: 105.828\n",
      "INFO:tensorflow:loss = 4.154535, step = 3301 (0.945 sec)\n",
      "INFO:tensorflow:global_step/sec: 104.017\n",
      "INFO:tensorflow:loss = 4.8771706, step = 3401 (0.961 sec)\n",
      "INFO:tensorflow:global_step/sec: 107.253\n",
      "INFO:tensorflow:loss = 8.269618, step = 3501 (0.932 sec)\n",
      "INFO:tensorflow:global_step/sec: 119.777\n",
      "INFO:tensorflow:loss = 6.427889, step = 3601 (0.835 sec)\n",
      "INFO:tensorflow:global_step/sec: 122.592\n",
      "INFO:tensorflow:loss = 5.9875383, step = 3701 (0.816 sec)\n",
      "INFO:tensorflow:global_step/sec: 104.845\n",
      "INFO:tensorflow:loss = 2.9457788, step = 3801 (0.954 sec)\n",
      "INFO:tensorflow:global_step/sec: 109.2\n",
      "INFO:tensorflow:loss = 7.6546717, step = 3901 (0.916 sec)\n",
      "INFO:tensorflow:global_step/sec: 115.744\n",
      "INFO:tensorflow:loss = 1.5497386, step = 4001 (0.863 sec)\n",
      "INFO:tensorflow:global_step/sec: 110.484\n",
      "INFO:tensorflow:loss = 7.4957447, step = 4101 (0.905 sec)\n",
      "INFO:tensorflow:global_step/sec: 112.147\n",
      "INFO:tensorflow:loss = 2.7469406, step = 4201 (0.892 sec)\n",
      "INFO:tensorflow:global_step/sec: 109.002\n",
      "INFO:tensorflow:loss = 3.2952135, step = 4301 (0.918 sec)\n",
      "INFO:tensorflow:global_step/sec: 108.039\n",
      "INFO:tensorflow:loss = 7.127289, step = 4401 (0.925 sec)\n",
      "INFO:tensorflow:global_step/sec: 114.963\n",
      "INFO:tensorflow:loss = 4.2408543, step = 4501 (0.870 sec)\n",
      "INFO:tensorflow:global_step/sec: 114.652\n",
      "INFO:tensorflow:loss = 12.669739, step = 4601 (0.872 sec)\n",
      "INFO:tensorflow:global_step/sec: 113.631\n",
      "INFO:tensorflow:loss = 2.479219, step = 4701 (0.880 sec)\n",
      "INFO:tensorflow:global_step/sec: 120.935\n",
      "INFO:tensorflow:loss = 5.118599, step = 4801 (0.827 sec)\n",
      "INFO:tensorflow:global_step/sec: 113.565\n",
      "INFO:tensorflow:loss = 13.4086, step = 4901 (0.880 sec)\n",
      "INFO:tensorflow:global_step/sec: 120.844\n",
      "INFO:tensorflow:loss = 4.703416, step = 5001 (0.827 sec)\n",
      "INFO:tensorflow:global_step/sec: 110.176\n",
      "INFO:tensorflow:loss = 12.10897, step = 5101 (0.908 sec)\n",
      "INFO:tensorflow:global_step/sec: 111.595\n",
      "INFO:tensorflow:loss = 10.989447, step = 5201 (0.897 sec)\n",
      "INFO:tensorflow:global_step/sec: 111.482\n",
      "INFO:tensorflow:loss = 5.3330574, step = 5301 (0.896 sec)\n",
      "INFO:tensorflow:global_step/sec: 118.332\n",
      "INFO:tensorflow:loss = 1.5275373, step = 5401 (0.845 sec)\n",
      "INFO:tensorflow:global_step/sec: 109.35\n",
      "INFO:tensorflow:loss = 1.5048497, step = 5501 (0.915 sec)\n",
      "INFO:tensorflow:global_step/sec: 105.997\n",
      "INFO:tensorflow:loss = 9.543002, step = 5601 (0.942 sec)\n",
      "INFO:tensorflow:global_step/sec: 102.64\n",
      "INFO:tensorflow:loss = 14.171979, step = 5701 (0.974 sec)\n",
      "INFO:tensorflow:global_step/sec: 109.94\n",
      "INFO:tensorflow:loss = 2.1733418, step = 5801 (0.909 sec)\n",
      "INFO:tensorflow:global_step/sec: 111.175\n",
      "INFO:tensorflow:loss = 18.987434, step = 5901 (0.900 sec)\n",
      "INFO:tensorflow:global_step/sec: 111.793\n",
      "INFO:tensorflow:loss = 3.2045074, step = 6001 (0.894 sec)\n",
      "INFO:tensorflow:global_step/sec: 105.117\n",
      "INFO:tensorflow:loss = 7.3656993, step = 6101 (0.951 sec)\n",
      "INFO:tensorflow:global_step/sec: 119.129\n",
      "INFO:tensorflow:loss = 4.3090305, step = 6201 (0.839 sec)\n",
      "INFO:tensorflow:global_step/sec: 114.264\n",
      "INFO:tensorflow:loss = 7.1826305, step = 6301 (0.876 sec)\n",
      "INFO:tensorflow:global_step/sec: 99.9506\n",
      "INFO:tensorflow:loss = 2.0230882, step = 6401 (1.000 sec)\n",
      "INFO:tensorflow:global_step/sec: 117.858\n",
      "INFO:tensorflow:loss = 2.7621763, step = 6501 (0.849 sec)\n",
      "INFO:tensorflow:global_step/sec: 106.635\n",
      "INFO:tensorflow:loss = 4.530312, step = 6601 (0.937 sec)\n",
      "INFO:tensorflow:global_step/sec: 103.513\n",
      "INFO:tensorflow:loss = 2.3779464, step = 6701 (0.967 sec)\n",
      "INFO:tensorflow:global_step/sec: 97.9895\n",
      "INFO:tensorflow:loss = 3.499906, step = 6801 (1.021 sec)\n",
      "INFO:tensorflow:global_step/sec: 107.57\n",
      "INFO:tensorflow:loss = 4.3168473, step = 6901 (0.929 sec)\n",
      "INFO:tensorflow:global_step/sec: 107.255\n",
      "INFO:tensorflow:loss = 1.4391853, step = 7001 (0.933 sec)\n",
      "INFO:tensorflow:global_step/sec: 99.6575\n",
      "INFO:tensorflow:loss = 1.9007328, step = 7101 (1.003 sec)\n",
      "INFO:tensorflow:global_step/sec: 107.729\n",
      "INFO:tensorflow:loss = 1.6692455, step = 7201 (0.928 sec)\n",
      "INFO:tensorflow:global_step/sec: 107.063\n",
      "INFO:tensorflow:loss = 7.88288, step = 7301 (0.934 sec)\n",
      "INFO:tensorflow:global_step/sec: 106.054\n",
      "INFO:tensorflow:loss = 3.626805, step = 7401 (0.943 sec)\n",
      "INFO:tensorflow:global_step/sec: 110.911\n",
      "INFO:tensorflow:loss = 4.4997225, step = 7501 (0.901 sec)\n",
      "INFO:tensorflow:global_step/sec: 113.233\n",
      "INFO:tensorflow:loss = 9.215828, step = 7601 (0.883 sec)\n",
      "INFO:tensorflow:global_step/sec: 112.991\n",
      "INFO:tensorflow:loss = 2.474203, step = 7701 (0.885 sec)\n",
      "INFO:tensorflow:global_step/sec: 101.454\n",
      "INFO:tensorflow:loss = 2.6215565, step = 7801 (0.986 sec)\n",
      "INFO:tensorflow:global_step/sec: 106.931\n",
      "INFO:tensorflow:loss = 3.3981707, step = 7901 (0.935 sec)\n",
      "INFO:tensorflow:global_step/sec: 103.372\n",
      "INFO:tensorflow:loss = 4.105072, step = 8001 (0.967 sec)\n"
     ]
    },
    {
     "name": "stdout",
     "output_type": "stream",
     "text": [
      "INFO:tensorflow:global_step/sec: 108.545\n",
      "INFO:tensorflow:loss = 4.263242, step = 8101 (0.922 sec)\n",
      "INFO:tensorflow:global_step/sec: 107.386\n",
      "INFO:tensorflow:loss = 9.449785, step = 8201 (0.931 sec)\n",
      "INFO:tensorflow:global_step/sec: 107.353\n",
      "INFO:tensorflow:loss = 0.7753594, step = 8301 (0.932 sec)\n",
      "INFO:tensorflow:global_step/sec: 108.31\n",
      "INFO:tensorflow:loss = 11.887592, step = 8401 (0.923 sec)\n",
      "INFO:tensorflow:global_step/sec: 107.012\n",
      "INFO:tensorflow:loss = 3.5147457, step = 8501 (0.935 sec)\n",
      "INFO:tensorflow:global_step/sec: 113.064\n",
      "INFO:tensorflow:loss = 10.166933, step = 8601 (0.884 sec)\n",
      "INFO:tensorflow:global_step/sec: 112.449\n",
      "INFO:tensorflow:loss = 3.4366295, step = 8701 (0.889 sec)\n",
      "INFO:tensorflow:global_step/sec: 111.383\n",
      "INFO:tensorflow:loss = 3.825741, step = 8801 (0.899 sec)\n",
      "INFO:tensorflow:global_step/sec: 106.81\n",
      "INFO:tensorflow:loss = 12.9124565, step = 8901 (0.935 sec)\n",
      "INFO:tensorflow:global_step/sec: 106.128\n",
      "INFO:tensorflow:loss = 5.9124637, step = 9001 (0.943 sec)\n",
      "INFO:tensorflow:global_step/sec: 106.618\n",
      "INFO:tensorflow:loss = 8.4526, step = 9101 (0.938 sec)\n",
      "INFO:tensorflow:global_step/sec: 105.853\n",
      "INFO:tensorflow:loss = 4.6380596, step = 9201 (0.945 sec)\n",
      "INFO:tensorflow:global_step/sec: 112.772\n",
      "INFO:tensorflow:loss = 3.758591, step = 9301 (0.887 sec)\n",
      "INFO:tensorflow:global_step/sec: 108.29\n",
      "INFO:tensorflow:loss = 6.9122496, step = 9401 (0.923 sec)\n",
      "INFO:tensorflow:global_step/sec: 106.547\n",
      "INFO:tensorflow:loss = 6.0427556, step = 9501 (0.939 sec)\n",
      "INFO:tensorflow:global_step/sec: 107.856\n",
      "INFO:tensorflow:loss = 14.089941, step = 9601 (0.927 sec)\n",
      "INFO:tensorflow:global_step/sec: 106.969\n",
      "INFO:tensorflow:loss = 8.966521, step = 9701 (0.935 sec)\n",
      "INFO:tensorflow:global_step/sec: 107.5\n",
      "INFO:tensorflow:loss = 12.209947, step = 9801 (0.930 sec)\n",
      "INFO:tensorflow:global_step/sec: 107.111\n",
      "INFO:tensorflow:loss = 1.4918076, step = 9901 (0.933 sec)\n",
      "INFO:tensorflow:Saving checkpoints for 10000 into /home/matz/Desktop/ml_ids/NN_model/model.ckpt.\n",
      "INFO:tensorflow:Loss for final step: 1.8135514.\n"
     ]
    },
    {
     "data": {
      "text/plain": [
       "<tensorflow.python.estimator.canned.dnn_linear_combined.DNNLinearCombinedClassifier at 0x7f70ade25630>"
      ]
     },
     "execution_count": 233,
     "metadata": {},
     "output_type": "execute_result"
    }
   ],
   "source": [
    "model.train(input_fn=get_input_fn(test, n_batch=256, shuffle=False), steps=10000)"
   ]
  },
  {
   "cell_type": "code",
   "execution_count": 234,
   "metadata": {},
   "outputs": [
    {
     "name": "stdout",
     "output_type": "stream",
     "text": [
      "INFO:tensorflow:Calling model_fn.\n",
      "WARNING:tensorflow:Trapezoidal rule is known to produce incorrect PR-AUCs; please switch to \"careful_interpolation\" instead.\n",
      "WARNING:tensorflow:Trapezoidal rule is known to produce incorrect PR-AUCs; please switch to \"careful_interpolation\" instead.\n",
      "INFO:tensorflow:Done calling model_fn.\n",
      "INFO:tensorflow:Starting evaluation at 2019-05-13-17:50:02\n",
      "INFO:tensorflow:Graph was finalized.\n",
      "INFO:tensorflow:Restoring parameters from /home/matz/Desktop/ml_ids/NN_model/model.ckpt-10000\n",
      "INFO:tensorflow:Running local_init_op.\n",
      "INFO:tensorflow:Done running local_init_op.\n",
      "INFO:tensorflow:Evaluation [1/1]\n",
      "INFO:tensorflow:Finished evaluation at 2019-05-13-17:50:05\n",
      "INFO:tensorflow:Saving dict for global step 10000: accuracy = 0.9947923, accuracy_baseline = 0.7026406, auc = 0.9994366, auc_precision_recall = 0.99883515, average_loss = 0.019400636, global_step = 10000, label/mean = 0.2973594, loss = 633.31433, precision = 0.98762655, prediction/mean = 0.3013459, recall = 0.9949521\n",
      "INFO:tensorflow:Saving 'checkpoint_path' summary for global step 10000: /home/matz/Desktop/ml_ids/NN_model/model.ckpt-10000\n"
     ]
    }
   ],
   "source": [
    "eval_metrics = model.evaluate(input_fn=get_input_fn(validate, n_batch=validate.shape[0], shuffle=False), steps=1)"
   ]
  },
  {
   "cell_type": "code",
   "execution_count": 235,
   "metadata": {
    "scrolled": true
   },
   "outputs": [
    {
     "name": "stdout",
     "output_type": "stream",
     "text": [
      "accuracy: 0.9947923\n",
      "accuracy_baseline: 0.7026406\n",
      "auc: 0.9994366\n",
      "auc_precision_recall: 0.99883515\n",
      "average_loss: 0.019400636\n",
      "global_step: 10000\n",
      "label/mean: 0.2973594\n",
      "loss: 633.31433\n",
      "precision: 0.98762655\n",
      "prediction/mean: 0.3013459\n",
      "recall: 0.9949521\n"
     ]
    }
   ],
   "source": [
    "for key,value in sorted(eval_metrics.items()):\n",
    "  print('%s: %s' % (key, value))"
   ]
  },
  {
   "cell_type": "code",
   "execution_count": 236,
   "metadata": {},
   "outputs": [
    {
     "name": "stdout",
     "output_type": "stream",
     "text": [
      "INFO:tensorflow:Calling model_fn.\n",
      "INFO:tensorflow:Done calling model_fn.\n",
      "INFO:tensorflow:Graph was finalized.\n",
      "INFO:tensorflow:Restoring parameters from /home/matz/Desktop/ml_ids/NN_model/model.ckpt-10000\n",
      "INFO:tensorflow:Running local_init_op.\n",
      "INFO:tensorflow:Done running local_init_op.\n"
     ]
    }
   ],
   "source": [
    "results = []\n",
    "results = list(model.predict(input_fn=get_input_fn(test, num_epochs=1, n_batch = X_test.shape[0], shuffle=False)))"
   ]
  },
  {
   "cell_type": "code",
   "execution_count": 237,
   "metadata": {},
   "outputs": [],
   "source": [
    "y_pred = []\n",
    "for el in results:\n",
    "    y_pred.append(el[\"class_ids\"])"
   ]
  },
  {
   "cell_type": "code",
   "execution_count": 238,
   "metadata": {},
   "outputs": [
    {
     "name": "stdout",
     "output_type": "stream",
     "text": [
      "NN Accuracy: 0.99335, F1-score: 0.99650, Precision: 0.99370, Recall: 0.99932, FPR: 0.11536\n",
      "TN: 1503; FP: 196; FN:   21; TP: 30925\n",
      "\n"
     ]
    }
   ],
   "source": [
    "name = \"NN\"\n",
    "\n",
    "Acc = {}\n",
    "F1S = {}\n",
    "Prec = {}\n",
    "Rec = {}\n",
    "FPR = {}\n",
    "\n",
    "Acc[name] = metrics.accuracy_score(y_test, y_pred)\n",
    "F1S[name] = metrics.f1_score(y_test, y_pred)\n",
    "Prec[name] = metrics.precision_score(y_test, y_pred)\n",
    "Rec[name] = metrics.recall_score(y_test, y_pred)\n",
    "tn, fp, fn, tp = metrics.confusion_matrix(y_test, y_pred).ravel()\n",
    "FPR[name] = fp/(fp+tn)\n",
    "\n",
    "print(\"{0:2} Accuracy: {1:.5f}, F1-score: {2:.5f}, Precision: {3:.5f}, Recall: {4:.5f}, FPR: {5:.5f}\".format(name, Acc[name], F1S[name], Prec[name], Rec[name], FPR[name]))\n",
    "print(\"TN: {0:3}; FP: {1:3}; FN: {2:4}; TP: {3:3}\\n\".format(tn, fp, fn, tp))"
   ]
  },
  {
   "cell_type": "code",
   "execution_count": null,
   "metadata": {},
   "outputs": [],
   "source": []
  },
  {
   "cell_type": "code",
   "execution_count": null,
   "metadata": {},
   "outputs": [],
   "source": []
  }
 ],
 "metadata": {
  "kernelspec": {
   "display_name": "Python 3",
   "language": "python",
   "name": "python3"
  },
  "language_info": {
   "codemirror_mode": {
    "name": "ipython",
    "version": 3
   },
   "file_extension": ".py",
   "mimetype": "text/x-python",
   "name": "python",
   "nbconvert_exporter": "python",
   "pygments_lexer": "ipython3",
   "version": "3.6.7"
  }
 },
 "nbformat": 4,
 "nbformat_minor": 2
}
