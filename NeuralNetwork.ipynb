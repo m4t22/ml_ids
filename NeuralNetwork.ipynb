{
 "cells": [
  {
   "cell_type": "code",
   "execution_count": 5,
   "metadata": {},
   "outputs": [],
   "source": [
    "import pandas as pd\n",
    "import matplotlib.pyplot as plt\n",
    "import numpy as np\n",
    "\n",
    "%matplotlib inline \n",
    "%config IPCompleter.greedy=True\n",
    "\n",
    "import collections\n",
    "import io\n",
    "import math\n",
    "import tensorflow as tf\n",
    "from IPython import display\n",
    "from sklearn import metrics"
   ]
  },
  {
   "cell_type": "markdown",
   "metadata": {},
   "source": [
    "\n",
    "## Reading data from file"
   ]
  },
  {
   "cell_type": "code",
   "execution_count": 6,
   "metadata": {},
   "outputs": [
    {
     "name": "stdout",
     "output_type": "stream",
     "text": [
      "Counter({-1: 149915, 1: 67713})\n"
     ]
    }
   ],
   "source": [
    "from collections import Counter\n",
    "\n",
    "### main dataset ###\n",
    "data = pd.read_csv(\"20151219.txt\", sep = \"\\t\", header = None)\n",
    "data.columns = [\"conn_len\", \"service\", \"src_bytes\", \"dst_bytes\", \"conn_numb\", \"Same_srv_rate\", \"Serror_rate\", \"Srv_serror_rate\", \"Dst_host_count\", \"Dst_host_srv_count\", \"Dst_host_same_src_port_rate\", \"Dst_host_serror_rate\", \"Dst_host_srv_serror_rate\", \"Conn_state\", \"IDS_detection\", \"Malware_detection\", \"Ashula_detection\", \"attack_flag\", \"src_IP\", \"src_port\", \"dst_IP\", \"dst_port\", \"start_time\", \"proto\"]\n",
    "\n",
    "print(Counter(data[\"attack_flag\"]))"
   ]
  },
  {
   "cell_type": "markdown",
   "metadata": {},
   "source": [
    "## Transform to binary"
   ]
  },
  {
   "cell_type": "code",
   "execution_count": 7,
   "metadata": {},
   "outputs": [
    {
     "name": "stdout",
     "output_type": "stream",
     "text": [
      "Counter({1: 149915, 0: 67713})\n"
     ]
    }
   ],
   "source": [
    "data.loc[:, \"attack_flag\"] = data.loc[:,\"attack_flag\"].replace(-2, -1)\n",
    "data.loc[:, \"attack_flag\"] = data.loc[:, \"attack_flag\"] * -1\n",
    "data.loc[:, \"attack_flag\"] = data.loc[:,\"attack_flag\"].replace(-1, 0)\n",
    "\n",
    "print(Counter(data[\"attack_flag\"]))"
   ]
  },
  {
   "cell_type": "code",
   "execution_count": 8,
   "metadata": {},
   "outputs": [
    {
     "data": {
      "text/plain": [
       "(217628, 24)"
      ]
     },
     "execution_count": 8,
     "metadata": {},
     "output_type": "execute_result"
    }
   ],
   "source": [
    "# removing NaNs\n",
    "data = data.dropna()\n",
    "data.shape"
   ]
  },
  {
   "cell_type": "markdown",
   "metadata": {},
   "source": [
    "# a bit of feature engineering"
   ]
  },
  {
   "cell_type": "markdown",
   "metadata": {},
   "source": [
    "## port numbers classification"
   ]
  },
  {
   "cell_type": "code",
   "execution_count": 9,
   "metadata": {},
   "outputs": [],
   "source": [
    "t1 = 1023  # well-known port numbers\n",
    "t2 = 49151 # registered ports\n",
    "t3 = 65535 # client ports\n",
    "\n",
    "def wk(data_row):\n",
    "    if (data_row[\"src_port\"] <= t1): \n",
    "        value = 1\n",
    "    elif ((data_row[\"src_port\"] > t1) and (data_row[\"src_port\"] <= t2)):\n",
    "        value = 0\n",
    "    elif ((data_row[\"src_port\"] > t2) and (data_row[\"src_port\"] <= t3)):\n",
    "        value = 0\n",
    "    return value\n",
    "\n",
    "def reg(data_row):\n",
    "    if (data_row[\"src_port\"] <= t1): \n",
    "        value = 0\n",
    "    elif ((data_row[\"src_port\"] > t1) and (data_row[\"src_port\"] <= t2)):\n",
    "        value = 1\n",
    "    elif ((data_row[\"src_port\"] > t2) and (data_row[\"src_port\"] <= t3)):\n",
    "        value = 0\n",
    "    return value\n",
    "\n",
    "def cli(data_row):\n",
    "    if (data_row[\"src_port\"] <= t1): \n",
    "        value = 0\n",
    "    elif ((data_row[\"src_port\"] > t1) and (data_row[\"src_port\"] <= t2)):\n",
    "        value = 0\n",
    "    elif ((data_row[\"src_port\"] > t2) and (data_row[\"src_port\"] <= t3)):\n",
    "        value = 1\n",
    "    return value\n",
    "\n",
    "data[\"well_known_src_pool\"] = data.apply(wk, axis=1)\n",
    "data[\"registered_src_pool\"] = data.apply(reg, axis=1)\n",
    "data[\"cli_src_pool\"] = data.apply(cli, axis=1)"
   ]
  },
  {
   "cell_type": "code",
   "execution_count": 39,
   "metadata": {},
   "outputs": [],
   "source": [
    "data[\"src_port\"] = data[\"src_port\"].apply(str)\n",
    "data[\"dst_port\"] = data[\"dst_port\"].apply(str)"
   ]
  },
  {
   "cell_type": "code",
   "execution_count": 40,
   "metadata": {},
   "outputs": [
    {
     "name": "stdout",
     "output_type": "stream",
     "text": [
      "(152339, 27)\n",
      "(32644, 27)\n",
      "(32645, 27)\n"
     ]
    }
   ],
   "source": [
    "train, validate, test = np.split(data, [int(.7*len(data)), int(.85*len(data))])\n",
    "train = train.sample(frac=1)\n",
    "validate = validate.sample(frac=1)\n",
    "test = test.sample(frac=1)\n",
    "y_train = train.loc[:, \"attack_flag\"].values.ravel()\n",
    "X_train = train.drop([\"attack_flag\"], axis=1)\n",
    "y_validate = validate.loc[:, \"attack_flag\"].values.ravel()\n",
    "X_validate = validate.drop([\"attack_flag\"], axis=1)\n",
    "y_test = test.loc[:, \"attack_flag\"].values.ravel()\n",
    "X_test = test.drop([\"attack_flag\"], axis=1)\n",
    "print(train.shape)\n",
    "print(validate.shape)\n",
    "print(test.shape)"
   ]
  },
  {
   "cell_type": "code",
   "execution_count": 41,
   "metadata": {},
   "outputs": [],
   "source": [
    "deep_numeric_feat = [\"Same_srv_rate\", \"Serror_rate\", \"Srv_serror_rate\", \"Dst_host_count\", \"Dst_host_srv_count\", \"Dst_host_same_src_port_rate\", \"Dst_host_serror_rate\", \"Dst_host_srv_serror_rate\", \"well_known_src_pool\", \"registered_src_pool\", \"cli_src_pool\"]\n",
    "wide_numeric_feat = [\"conn_len\",  \"src_bytes\", \"dst_bytes\", \"conn_numb\"]\n",
    "categorical_feat = [\"service\", \"Conn_state\", \"src_port\", \"dst_port\", \"proto\"]"
   ]
  },
  {
   "cell_type": "code",
   "execution_count": 42,
   "metadata": {},
   "outputs": [],
   "source": [
    "deep_numeric_feat_tf = [tf.feature_column.numeric_column(k) for k in deep_numeric_feat]\n",
    "wide_numeric_feat_tf = [tf.feature_column.numeric_column(k) for k in wide_numeric_feat]"
   ]
  },
  {
   "cell_type": "code",
   "execution_count": 43,
   "metadata": {},
   "outputs": [],
   "source": [
    "#data[\"src_port\"].unique().tolist()"
   ]
  },
  {
   "cell_type": "code",
   "execution_count": 44,
   "metadata": {},
   "outputs": [],
   "source": [
    "src_port_mod = [\"src_\" + s for s in data[\"src_port\"].unique().tolist()]\n",
    "src_port = tf.feature_column.categorical_column_with_vocabulary_list(\n",
    "    'src_port', src_port_mod)\n",
    "\n",
    "dst_port_mod = [\"dst_\" + s for s in data[\"dst_port\"].unique().tolist()]\n",
    "dst_port = tf.feature_column.categorical_column_with_vocabulary_list(\n",
    "    'dst_port', dst_port_mod)\n",
    "\n",
    "service = tf.feature_column.categorical_column_with_vocabulary_list(\n",
    "    'service', data[\"service\"].unique().tolist())\n",
    "\n",
    "Conn_state = tf.feature_column.categorical_column_with_vocabulary_list(\n",
    "    'Conn_state', data[\"Conn_state\"].unique().tolist())\n",
    "\n",
    "proto = tf.feature_column.categorical_column_with_vocabulary_list(\n",
    "    'proto', data[\"proto\"].unique().tolist())"
   ]
  },
  {
   "cell_type": "code",
   "execution_count": 45,
   "metadata": {},
   "outputs": [],
   "source": [
    "deep_columns = [\n",
    "    tf.feature_column.indicator_column(service),\n",
    "    tf.feature_column.indicator_column(Conn_state),\n",
    "    tf.feature_column.indicator_column(proto),\n",
    "    tf.feature_column.embedding_column(src_port, dimension=10),\n",
    "    tf.feature_column.embedding_column(dst_port, dimension=3),\n",
    "]"
   ]
  },
  {
   "cell_type": "code",
   "execution_count": 46,
   "metadata": {},
   "outputs": [],
   "source": [
    "crossed_columns = [\n",
    "      tf.feature_column.crossed_column(\n",
    "          ['src_port', 'service'], hash_bucket_size=10000),\n",
    "      tf.feature_column.crossed_column(\n",
    "          ['service', 'proto'], hash_bucket_size=10000),\n",
    "  ]"
   ]
  },
  {
   "cell_type": "code",
   "execution_count": 209,
   "metadata": {},
   "outputs": [
    {
     "name": "stdout",
     "output_type": "stream",
     "text": [
      "INFO:tensorflow:Using default config.\n",
      "INFO:tensorflow:Using config: {'_model_dir': '/home/matz/Desktop/ml_ids/NN_model', '_tf_random_seed': None, '_save_summary_steps': 100, '_save_checkpoints_steps': None, '_save_checkpoints_secs': 600, '_session_config': allow_soft_placement: true\n",
      "graph_options {\n",
      "  rewrite_options {\n",
      "    meta_optimizer_iterations: ONE\n",
      "  }\n",
      "}\n",
      ", '_keep_checkpoint_max': 5, '_keep_checkpoint_every_n_hours': 10000, '_log_step_count_steps': 100, '_train_distribute': None, '_device_fn': None, '_protocol': None, '_eval_distribute': None, '_experimental_distribute': None, '_service': None, '_cluster_spec': <tensorflow.python.training.server_lib.ClusterSpec object at 0x7f7110939d30>, '_task_type': 'worker', '_task_id': 0, '_global_id_in_cluster': 0, '_master': '', '_evaluation_master': '', '_is_chief': True, '_num_ps_replicas': 0, '_num_worker_replicas': 1}\n"
     ]
    }
   ],
   "source": [
    "model = tf.estimator.DNNLinearCombinedClassifier(\n",
    "    model_dir = \"/home/matz/Desktop/ml_ids/NN_model\",\n",
    "    dnn_activation_fn=tf.nn.selu,\n",
    "    linear_feature_columns = wide_numeric_feat_tf + crossed_columns,\n",
    "    dnn_feature_columns = deep_columns + deep_numeric_feat_tf + wide_numeric_feat_tf,\n",
    "    dnn_hidden_units = [450, 250, 150, 100, 75, 50, 10])"
   ]
  },
  {
   "cell_type": "code",
   "execution_count": 210,
   "metadata": {},
   "outputs": [],
   "source": [
    "feature_set= deep_numeric_feat + wide_numeric_feat + categorical_feat"
   ]
  },
  {
   "cell_type": "code",
   "execution_count": 211,
   "metadata": {},
   "outputs": [],
   "source": [
    "def get_input_fn(data_set, num_epochs=None, n_batch = 256, shuffle=True):\n",
    "    return tf.estimator.inputs.pandas_input_fn(\n",
    "       x=pd.DataFrame({k: data_set[k].values for k in feature_set}),\n",
    "       y = pd.Series(data_set[\"attack_flag\"].values),\n",
    "       batch_size=n_batch,   \n",
    "       num_epochs=num_epochs,\n",
    "       shuffle=shuffle)"
   ]
  },
  {
   "cell_type": "code",
   "execution_count": 212,
   "metadata": {},
   "outputs": [
    {
     "data": {
      "text/plain": [
       "<function tensorflow.python.estimator.inputs.pandas_io.pandas_input_fn.<locals>.input_fn()>"
      ]
     },
     "execution_count": 212,
     "metadata": {},
     "output_type": "execute_result"
    }
   ],
   "source": [
    "get_input_fn(test, n_batch=test.shape[0], shuffle=False)"
   ]
  },
  {
   "cell_type": "code",
   "execution_count": 213,
   "metadata": {},
   "outputs": [
    {
     "name": "stdout",
     "output_type": "stream",
     "text": [
      "INFO:tensorflow:Calling model_fn.\n",
      "INFO:tensorflow:Done calling model_fn.\n",
      "INFO:tensorflow:Create CheckpointSaverHook.\n",
      "INFO:tensorflow:Graph was finalized.\n",
      "INFO:tensorflow:Running local_init_op.\n",
      "INFO:tensorflow:Done running local_init_op.\n",
      "INFO:tensorflow:Saving checkpoints for 0 into /home/matz/Desktop/ml_ids/NN_model/model.ckpt.\n",
      "INFO:tensorflow:loss = 194.52771, step = 1\n",
      "INFO:tensorflow:global_step/sec: 74.1532\n",
      "INFO:tensorflow:loss = 7.9950566, step = 101 (1.349 sec)\n",
      "INFO:tensorflow:global_step/sec: 103.593\n",
      "INFO:tensorflow:loss = 10.949396, step = 201 (0.965 sec)\n",
      "INFO:tensorflow:global_step/sec: 100.011\n",
      "INFO:tensorflow:loss = 10.124317, step = 301 (1.001 sec)\n",
      "INFO:tensorflow:global_step/sec: 106.129\n",
      "INFO:tensorflow:loss = 7.216221, step = 401 (0.942 sec)\n",
      "INFO:tensorflow:global_step/sec: 105.068\n",
      "INFO:tensorflow:loss = 7.5600796, step = 501 (0.952 sec)\n",
      "INFO:tensorflow:global_step/sec: 107.695\n",
      "INFO:tensorflow:loss = 6.638957, step = 601 (0.929 sec)\n",
      "INFO:tensorflow:global_step/sec: 105.651\n",
      "INFO:tensorflow:loss = 13.88456, step = 701 (0.946 sec)\n",
      "INFO:tensorflow:global_step/sec: 108.357\n",
      "INFO:tensorflow:loss = 15.153935, step = 801 (0.923 sec)\n",
      "INFO:tensorflow:global_step/sec: 108.036\n",
      "INFO:tensorflow:loss = 4.4952245, step = 901 (0.925 sec)\n",
      "INFO:tensorflow:global_step/sec: 105.431\n",
      "INFO:tensorflow:loss = 4.2144938, step = 1001 (0.949 sec)\n",
      "INFO:tensorflow:global_step/sec: 100.965\n",
      "INFO:tensorflow:loss = 7.6896, step = 1101 (0.990 sec)\n",
      "INFO:tensorflow:global_step/sec: 99.1656\n",
      "INFO:tensorflow:loss = 4.6462045, step = 1201 (1.009 sec)\n",
      "INFO:tensorflow:global_step/sec: 101.109\n",
      "INFO:tensorflow:loss = 2.4923186, step = 1301 (0.989 sec)\n",
      "INFO:tensorflow:global_step/sec: 103.163\n",
      "INFO:tensorflow:loss = 12.358742, step = 1401 (0.969 sec)\n",
      "INFO:tensorflow:global_step/sec: 109.05\n",
      "INFO:tensorflow:loss = 1.8802114, step = 1501 (0.917 sec)\n",
      "INFO:tensorflow:global_step/sec: 111.543\n",
      "INFO:tensorflow:loss = 2.0058603, step = 1601 (0.897 sec)\n",
      "INFO:tensorflow:global_step/sec: 99.4669\n",
      "INFO:tensorflow:loss = 2.887361, step = 1701 (1.006 sec)\n",
      "INFO:tensorflow:global_step/sec: 88.0372\n",
      "INFO:tensorflow:loss = 6.4630995, step = 1801 (1.135 sec)\n",
      "INFO:tensorflow:global_step/sec: 101.783\n",
      "INFO:tensorflow:loss = 2.148592, step = 1901 (0.983 sec)\n",
      "INFO:tensorflow:global_step/sec: 101.35\n",
      "INFO:tensorflow:loss = 5.7255306, step = 2001 (0.987 sec)\n",
      "INFO:tensorflow:global_step/sec: 99.1228\n",
      "INFO:tensorflow:loss = 1.3337178, step = 2101 (1.009 sec)\n",
      "INFO:tensorflow:global_step/sec: 95.0753\n",
      "INFO:tensorflow:loss = 10.127512, step = 2201 (1.052 sec)\n",
      "INFO:tensorflow:global_step/sec: 95.1255\n",
      "INFO:tensorflow:loss = 3.6863909, step = 2301 (1.051 sec)\n",
      "INFO:tensorflow:global_step/sec: 94.3026\n",
      "INFO:tensorflow:loss = 8.926733, step = 2401 (1.061 sec)\n",
      "INFO:tensorflow:global_step/sec: 81.7733\n",
      "INFO:tensorflow:loss = 5.945755, step = 2501 (1.224 sec)\n",
      "INFO:tensorflow:global_step/sec: 73.3894\n",
      "INFO:tensorflow:loss = 8.850838, step = 2601 (1.363 sec)\n",
      "INFO:tensorflow:global_step/sec: 77.9919\n",
      "INFO:tensorflow:loss = 3.8528178, step = 2701 (1.281 sec)\n",
      "INFO:tensorflow:global_step/sec: 99.7792\n",
      "INFO:tensorflow:loss = 5.311217, step = 2801 (1.002 sec)\n",
      "INFO:tensorflow:global_step/sec: 100.376\n",
      "INFO:tensorflow:loss = 3.411498, step = 2901 (0.997 sec)\n",
      "INFO:tensorflow:global_step/sec: 112.391\n",
      "INFO:tensorflow:loss = 6.5079536, step = 3001 (0.890 sec)\n",
      "INFO:tensorflow:global_step/sec: 112.306\n",
      "INFO:tensorflow:loss = 9.135931, step = 3101 (0.890 sec)\n",
      "INFO:tensorflow:global_step/sec: 106.846\n",
      "INFO:tensorflow:loss = 2.2978415, step = 3201 (0.936 sec)\n",
      "INFO:tensorflow:global_step/sec: 101.638\n",
      "INFO:tensorflow:loss = 4.3615, step = 3301 (0.984 sec)\n",
      "INFO:tensorflow:global_step/sec: 87.4261\n",
      "INFO:tensorflow:loss = 5.1413546, step = 3401 (1.143 sec)\n",
      "INFO:tensorflow:global_step/sec: 101.196\n",
      "INFO:tensorflow:loss = 8.320432, step = 3501 (0.989 sec)\n",
      "INFO:tensorflow:global_step/sec: 109.155\n",
      "INFO:tensorflow:loss = 6.848634, step = 3601 (0.916 sec)\n",
      "INFO:tensorflow:global_step/sec: 107.465\n",
      "INFO:tensorflow:loss = 6.058946, step = 3701 (0.931 sec)\n",
      "INFO:tensorflow:global_step/sec: 95.4056\n",
      "INFO:tensorflow:loss = 3.938604, step = 3801 (1.048 sec)\n",
      "INFO:tensorflow:global_step/sec: 101.982\n",
      "INFO:tensorflow:loss = 7.2746077, step = 3901 (0.981 sec)\n",
      "INFO:tensorflow:global_step/sec: 104.711\n",
      "INFO:tensorflow:loss = 1.8558455, step = 4001 (0.954 sec)\n",
      "INFO:tensorflow:global_step/sec: 109.175\n",
      "INFO:tensorflow:loss = 7.7730713, step = 4101 (0.916 sec)\n",
      "INFO:tensorflow:global_step/sec: 105.865\n",
      "INFO:tensorflow:loss = 3.192967, step = 4201 (0.945 sec)\n",
      "INFO:tensorflow:global_step/sec: 109.151\n",
      "INFO:tensorflow:loss = 3.6733325, step = 4301 (0.916 sec)\n",
      "INFO:tensorflow:global_step/sec: 96.3204\n",
      "INFO:tensorflow:loss = 7.996663, step = 4401 (1.038 sec)\n",
      "INFO:tensorflow:global_step/sec: 107.394\n",
      "INFO:tensorflow:loss = 4.7944584, step = 4501 (0.931 sec)\n",
      "INFO:tensorflow:global_step/sec: 100.67\n",
      "INFO:tensorflow:loss = 12.211103, step = 4601 (0.994 sec)\n",
      "INFO:tensorflow:global_step/sec: 96.6782\n",
      "INFO:tensorflow:loss = 2.686666, step = 4701 (1.033 sec)\n",
      "INFO:tensorflow:global_step/sec: 107.238\n",
      "INFO:tensorflow:loss = 5.194276, step = 4801 (0.934 sec)\n",
      "INFO:tensorflow:global_step/sec: 112.48\n",
      "INFO:tensorflow:loss = 14.251343, step = 4901 (0.888 sec)\n",
      "INFO:tensorflow:global_step/sec: 104.736\n",
      "INFO:tensorflow:loss = 4.9802775, step = 5001 (0.956 sec)\n",
      "INFO:tensorflow:global_step/sec: 93.3128\n",
      "INFO:tensorflow:loss = 11.91137, step = 5101 (1.072 sec)\n",
      "INFO:tensorflow:global_step/sec: 94.3833\n",
      "INFO:tensorflow:loss = 11.670928, step = 5201 (1.059 sec)\n",
      "INFO:tensorflow:global_step/sec: 97.2087\n",
      "INFO:tensorflow:loss = 5.408118, step = 5301 (1.029 sec)\n",
      "INFO:tensorflow:global_step/sec: 110.987\n",
      "INFO:tensorflow:loss = 1.7790214, step = 5401 (0.900 sec)\n",
      "INFO:tensorflow:global_step/sec: 112.56\n",
      "INFO:tensorflow:loss = 1.902246, step = 5501 (0.889 sec)\n",
      "INFO:tensorflow:global_step/sec: 113.099\n",
      "INFO:tensorflow:loss = 9.976386, step = 5601 (0.884 sec)\n",
      "INFO:tensorflow:global_step/sec: 109.407\n",
      "INFO:tensorflow:loss = 14.207038, step = 5701 (0.914 sec)\n",
      "INFO:tensorflow:global_step/sec: 109.246\n",
      "INFO:tensorflow:loss = 2.6092167, step = 5801 (0.915 sec)\n",
      "INFO:tensorflow:global_step/sec: 105.372\n",
      "INFO:tensorflow:loss = 19.634605, step = 5901 (0.949 sec)\n",
      "INFO:tensorflow:global_step/sec: 106.461\n",
      "INFO:tensorflow:loss = 3.2911854, step = 6001 (0.941 sec)\n",
      "INFO:tensorflow:global_step/sec: 100.338\n",
      "INFO:tensorflow:loss = 8.117061, step = 6101 (0.995 sec)\n",
      "INFO:tensorflow:global_step/sec: 97.9816\n",
      "INFO:tensorflow:loss = 4.66933, step = 6201 (1.021 sec)\n",
      "INFO:tensorflow:global_step/sec: 96.2649\n",
      "INFO:tensorflow:loss = 7.7582083, step = 6301 (1.039 sec)\n",
      "INFO:tensorflow:global_step/sec: 111.71\n",
      "INFO:tensorflow:loss = 2.3874464, step = 6401 (0.895 sec)\n",
      "INFO:tensorflow:global_step/sec: 112.568\n",
      "INFO:tensorflow:loss = 3.4793358, step = 6501 (0.888 sec)\n",
      "INFO:tensorflow:global_step/sec: 103.607\n",
      "INFO:tensorflow:loss = 5.1790533, step = 6601 (0.965 sec)\n",
      "INFO:tensorflow:global_step/sec: 103.105\n",
      "INFO:tensorflow:loss = 3.771333, step = 6701 (0.970 sec)\n",
      "INFO:tensorflow:global_step/sec: 112.802\n",
      "INFO:tensorflow:loss = 3.6104083, step = 6801 (0.887 sec)\n",
      "INFO:tensorflow:global_step/sec: 101.622\n",
      "INFO:tensorflow:loss = 4.4317756, step = 6901 (0.984 sec)\n",
      "INFO:tensorflow:global_step/sec: 98.5835\n",
      "INFO:tensorflow:loss = 1.4328417, step = 7001 (1.014 sec)\n",
      "INFO:tensorflow:global_step/sec: 98.6573\n",
      "INFO:tensorflow:loss = 1.872253, step = 7101 (1.013 sec)\n",
      "INFO:tensorflow:global_step/sec: 105.456\n",
      "INFO:tensorflow:loss = 2.0766582, step = 7201 (0.948 sec)\n",
      "INFO:tensorflow:global_step/sec: 111.779\n",
      "INFO:tensorflow:loss = 8.92393, step = 7301 (0.895 sec)\n",
      "INFO:tensorflow:global_step/sec: 109.649\n",
      "INFO:tensorflow:loss = 4.395553, step = 7401 (0.912 sec)\n",
      "INFO:tensorflow:global_step/sec: 104.456\n",
      "INFO:tensorflow:loss = 4.8806987, step = 7501 (0.958 sec)\n",
      "INFO:tensorflow:global_step/sec: 99.8567\n",
      "INFO:tensorflow:loss = 10.726602, step = 7601 (1.001 sec)\n",
      "INFO:tensorflow:global_step/sec: 106.509\n",
      "INFO:tensorflow:loss = 3.4963856, step = 7701 (0.939 sec)\n",
      "INFO:tensorflow:global_step/sec: 109.13\n",
      "INFO:tensorflow:loss = 2.9490104, step = 7801 (0.916 sec)\n",
      "INFO:tensorflow:global_step/sec: 111.513\n",
      "INFO:tensorflow:loss = 4.322111, step = 7901 (0.897 sec)\n",
      "INFO:tensorflow:global_step/sec: 115.147\n",
      "INFO:tensorflow:loss = 4.462739, step = 8001 (0.868 sec)\n"
     ]
    },
    {
     "name": "stdout",
     "output_type": "stream",
     "text": [
      "INFO:tensorflow:global_step/sec: 104.895\n",
      "INFO:tensorflow:loss = 4.6318464, step = 8101 (0.954 sec)\n",
      "INFO:tensorflow:global_step/sec: 95.0669\n",
      "INFO:tensorflow:loss = 9.189829, step = 8201 (1.052 sec)\n",
      "INFO:tensorflow:global_step/sec: 97.3922\n",
      "INFO:tensorflow:loss = 0.8427434, step = 8301 (1.027 sec)\n",
      "INFO:tensorflow:global_step/sec: 99.8204\n",
      "INFO:tensorflow:loss = 12.45647, step = 8401 (1.002 sec)\n",
      "INFO:tensorflow:global_step/sec: 111.285\n",
      "INFO:tensorflow:loss = 3.6661067, step = 8501 (0.898 sec)\n",
      "INFO:tensorflow:global_step/sec: 110.953\n",
      "INFO:tensorflow:loss = 10.441006, step = 8601 (0.901 sec)\n",
      "INFO:tensorflow:global_step/sec: 110.258\n",
      "INFO:tensorflow:loss = 3.4587786, step = 8701 (0.908 sec)\n",
      "INFO:tensorflow:global_step/sec: 113.097\n",
      "INFO:tensorflow:loss = 3.8986602, step = 8801 (0.884 sec)\n",
      "INFO:tensorflow:global_step/sec: 111.241\n",
      "INFO:tensorflow:loss = 14.690319, step = 8901 (0.899 sec)\n",
      "INFO:tensorflow:global_step/sec: 90.9488\n",
      "INFO:tensorflow:loss = 6.122485, step = 9001 (1.100 sec)\n",
      "INFO:tensorflow:global_step/sec: 106.576\n",
      "INFO:tensorflow:loss = 9.232651, step = 9101 (0.938 sec)\n",
      "INFO:tensorflow:global_step/sec: 109.952\n",
      "INFO:tensorflow:loss = 4.7745266, step = 9201 (0.909 sec)\n",
      "INFO:tensorflow:global_step/sec: 102.158\n",
      "INFO:tensorflow:loss = 4.146967, step = 9301 (0.979 sec)\n",
      "INFO:tensorflow:global_step/sec: 109.52\n",
      "INFO:tensorflow:loss = 7.038377, step = 9401 (0.913 sec)\n",
      "INFO:tensorflow:global_step/sec: 113.479\n",
      "INFO:tensorflow:loss = 6.6174774, step = 9501 (0.881 sec)\n",
      "INFO:tensorflow:global_step/sec: 107.719\n",
      "INFO:tensorflow:loss = 14.734358, step = 9601 (0.928 sec)\n",
      "INFO:tensorflow:global_step/sec: 109.102\n",
      "INFO:tensorflow:loss = 8.781036, step = 9701 (0.917 sec)\n",
      "INFO:tensorflow:global_step/sec: 108.178\n",
      "INFO:tensorflow:loss = 13.224634, step = 9801 (0.925 sec)\n",
      "INFO:tensorflow:global_step/sec: 114.48\n",
      "INFO:tensorflow:loss = 1.5492507, step = 9901 (0.873 sec)\n",
      "INFO:tensorflow:Saving checkpoints for 10000 into /home/matz/Desktop/ml_ids/NN_model/model.ckpt.\n",
      "INFO:tensorflow:Loss for final step: 2.592075.\n"
     ]
    },
    {
     "data": {
      "text/plain": [
       "<tensorflow.python.estimator.canned.dnn_linear_combined.DNNLinearCombinedClassifier at 0x7f7110939940>"
      ]
     },
     "execution_count": 213,
     "metadata": {},
     "output_type": "execute_result"
    }
   ],
   "source": [
    "model.train(input_fn=get_input_fn(test, n_batch=256, shuffle=False), steps=10000)"
   ]
  },
  {
   "cell_type": "code",
   "execution_count": 214,
   "metadata": {},
   "outputs": [
    {
     "name": "stdout",
     "output_type": "stream",
     "text": [
      "INFO:tensorflow:Calling model_fn.\n",
      "WARNING:tensorflow:Trapezoidal rule is known to produce incorrect PR-AUCs; please switch to \"careful_interpolation\" instead.\n",
      "WARNING:tensorflow:Trapezoidal rule is known to produce incorrect PR-AUCs; please switch to \"careful_interpolation\" instead.\n",
      "INFO:tensorflow:Done calling model_fn.\n",
      "INFO:tensorflow:Starting evaluation at 2019-05-13-17:45:05\n",
      "INFO:tensorflow:Graph was finalized.\n",
      "INFO:tensorflow:Restoring parameters from /home/matz/Desktop/ml_ids/NN_model/model.ckpt-10000\n",
      "INFO:tensorflow:Running local_init_op.\n",
      "INFO:tensorflow:Done running local_init_op.\n",
      "INFO:tensorflow:Evaluation [1/1]\n",
      "INFO:tensorflow:Finished evaluation at 2019-05-13-17:45:07\n",
      "INFO:tensorflow:Saving dict for global step 10000: accuracy = 0.99470043, accuracy_baseline = 0.7026406, auc = 0.9993952, auc_precision_recall = 0.9987337, average_loss = 0.019684374, global_step = 10000, label/mean = 0.2973594, loss = 642.5767, precision = 0.98762274, prediction/mean = 0.30155626, recall = 0.99464303\n",
      "INFO:tensorflow:Saving 'checkpoint_path' summary for global step 10000: /home/matz/Desktop/ml_ids/NN_model/model.ckpt-10000\n"
     ]
    }
   ],
   "source": [
    "eval_metrics = model.evaluate(input_fn=get_input_fn(validate, n_batch=validate.shape[0], shuffle=False), steps=1)"
   ]
  },
  {
   "cell_type": "code",
   "execution_count": 215,
   "metadata": {
    "scrolled": true
   },
   "outputs": [
    {
     "name": "stdout",
     "output_type": "stream",
     "text": [
      "accuracy: 0.99470043\n",
      "accuracy_baseline: 0.7026406\n",
      "auc: 0.9993952\n",
      "auc_precision_recall: 0.9987337\n",
      "average_loss: 0.019684374\n",
      "global_step: 10000\n",
      "label/mean: 0.2973594\n",
      "loss: 642.5767\n",
      "precision: 0.98762274\n",
      "prediction/mean: 0.30155626\n",
      "recall: 0.99464303\n"
     ]
    }
   ],
   "source": [
    "for key,value in sorted(eval_metrics.items()):\n",
    "  print('%s: %s' % (key, value))"
   ]
  },
  {
   "cell_type": "code",
   "execution_count": 216,
   "metadata": {},
   "outputs": [
    {
     "name": "stdout",
     "output_type": "stream",
     "text": [
      "INFO:tensorflow:Calling model_fn.\n",
      "INFO:tensorflow:Done calling model_fn.\n",
      "INFO:tensorflow:Graph was finalized.\n",
      "INFO:tensorflow:Restoring parameters from /home/matz/Desktop/ml_ids/NN_model/model.ckpt-10000\n",
      "INFO:tensorflow:Running local_init_op.\n",
      "INFO:tensorflow:Done running local_init_op.\n"
     ]
    }
   ],
   "source": [
    "results = []\n",
    "results = list(model.predict(input_fn=get_input_fn(test, num_epochs=1, n_batch = X_test.shape[0], shuffle=False)))"
   ]
  },
  {
   "cell_type": "code",
   "execution_count": 217,
   "metadata": {},
   "outputs": [],
   "source": [
    "y_pred = []\n",
    "for el in results:\n",
    "    y_pred.append(el[\"class_ids\"])"
   ]
  },
  {
   "cell_type": "code",
   "execution_count": 218,
   "metadata": {},
   "outputs": [
    {
     "name": "stdout",
     "output_type": "stream",
     "text": [
      "NN Accuracy: 0.99256, F1-score: 0.99609, Precision: 0.99309, Recall: 0.99910, FPR: 0.12655\n",
      "TN: 1484; FP: 215; FN:   28; TP: 30918\n",
      "\n"
     ]
    }
   ],
   "source": [
    "name = \"NN\"\n",
    "\n",
    "Acc = {}\n",
    "F1S = {}\n",
    "Prec = {}\n",
    "Rec = {}\n",
    "FPR = {}\n",
    "\n",
    "Acc[name] = metrics.accuracy_score(y_test, y_pred)\n",
    "F1S[name] = metrics.f1_score(y_test, y_pred)\n",
    "Prec[name] = metrics.precision_score(y_test, y_pred)\n",
    "Rec[name] = metrics.recall_score(y_test, y_pred)\n",
    "tn, fp, fn, tp = metrics.confusion_matrix(y_test, y_pred).ravel()\n",
    "FPR[name] = fp/(fp+tn)\n",
    "\n",
    "print(\"{0:2} Accuracy: {1:.5f}, F1-score: {2:.5f}, Precision: {3:.5f}, Recall: {4:.5f}, FPR: {5:.5f}\".format(name, Acc[name], F1S[name], Prec[name], Rec[name], FPR[name]))\n",
    "print(\"TN: {0:3}; FP: {1:3}; FN: {2:4}; TP: {3:3}\\n\".format(tn, fp, fn, tp))"
   ]
  },
  {
   "cell_type": "code",
   "execution_count": null,
   "metadata": {},
   "outputs": [],
   "source": []
  },
  {
   "cell_type": "code",
   "execution_count": null,
   "metadata": {},
   "outputs": [],
   "source": []
  }
 ],
 "metadata": {
  "kernelspec": {
   "display_name": "Python 3",
   "language": "python",
   "name": "python3"
  },
  "language_info": {
   "codemirror_mode": {
    "name": "ipython",
    "version": 3
   },
   "file_extension": ".py",
   "mimetype": "text/x-python",
   "name": "python",
   "nbconvert_exporter": "python",
   "pygments_lexer": "ipython3",
   "version": "3.6.7"
  }
 },
 "nbformat": 4,
 "nbformat_minor": 2
}
