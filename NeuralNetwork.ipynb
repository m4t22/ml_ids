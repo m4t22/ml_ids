{
 "cells": [
  {
   "cell_type": "code",
   "execution_count": 1,
   "metadata": {},
   "outputs": [],
   "source": [
    "import pandas as pd\n",
    "import matplotlib.pyplot as plt\n",
    "import numpy as np\n",
    "\n",
    "%matplotlib inline \n",
    "%config IPCompleter.greedy=True\n",
    "\n",
    "import collections\n",
    "import io\n",
    "import math\n",
    "import tensorflow as tf\n",
    "from IPython import display\n",
    "from sklearn import metrics"
   ]
  },
  {
   "cell_type": "markdown",
   "metadata": {},
   "source": [
    "\n",
    "## Reading data from file"
   ]
  },
  {
   "cell_type": "code",
   "execution_count": 2,
   "metadata": {},
   "outputs": [
    {
     "name": "stdout",
     "output_type": "stream",
     "text": [
      "Counter({-1: 149915, 1: 67713})\n"
     ]
    }
   ],
   "source": [
    "from collections import Counter\n",
    "\n",
    "### main dataset ###\n",
    "data = pd.read_csv(\"20151219.txt\", sep = \"\\t\", header = None)\n",
    "data.columns = [\"conn_len\", \"service\", \"src_bytes\", \"dst_bytes\", \"conn_numb\", \"Same_srv_rate\", \"Serror_rate\", \"Srv_serror_rate\", \"Dst_host_count\", \"Dst_host_srv_count\", \"Dst_host_same_src_port_rate\", \"Dst_host_serror_rate\", \"Dst_host_srv_serror_rate\", \"Conn_state\", \"IDS_detection\", \"Malware_detection\", \"Ashula_detection\", \"attack_flag\", \"src_IP\", \"src_port\", \"dst_IP\", \"dst_port\", \"start_time\", \"proto\"]\n",
    "\n",
    "print(Counter(data[\"attack_flag\"]))"
   ]
  },
  {
   "cell_type": "markdown",
   "metadata": {},
   "source": [
    "## Transform to binary"
   ]
  },
  {
   "cell_type": "code",
   "execution_count": 3,
   "metadata": {},
   "outputs": [
    {
     "name": "stdout",
     "output_type": "stream",
     "text": [
      "Counter({1: 149915, 0: 67713})\n"
     ]
    }
   ],
   "source": [
    "data.loc[:, \"attack_flag\"] = data.loc[:,\"attack_flag\"].replace(-2, -1)\n",
    "data.loc[:, \"attack_flag\"] = data.loc[:, \"attack_flag\"] * -1\n",
    "data.loc[:, \"attack_flag\"] = data.loc[:,\"attack_flag\"].replace(-1, 0)\n",
    "\n",
    "print(Counter(data[\"attack_flag\"]))"
   ]
  },
  {
   "cell_type": "code",
   "execution_count": 4,
   "metadata": {},
   "outputs": [
    {
     "data": {
      "text/plain": [
       "(217628, 24)"
      ]
     },
     "execution_count": 4,
     "metadata": {},
     "output_type": "execute_result"
    }
   ],
   "source": [
    "# removing NaNs\n",
    "data = data.dropna()\n",
    "data.shape"
   ]
  },
  {
   "cell_type": "markdown",
   "metadata": {},
   "source": [
    "# a bit of feature engineering"
   ]
  },
  {
   "cell_type": "markdown",
   "metadata": {},
   "source": [
    "## port numbers classification"
   ]
  },
  {
   "cell_type": "code",
   "execution_count": 5,
   "metadata": {},
   "outputs": [],
   "source": [
    "t1 = 1023  # well-known port numbers\n",
    "t2 = 49151 # registered ports\n",
    "t3 = 65535 # client ports\n",
    "\n",
    "def wk(data_row):\n",
    "    if (data_row[\"src_port\"] <= t1): \n",
    "        value = 1\n",
    "    elif ((data_row[\"src_port\"] > t1) and (data_row[\"src_port\"] <= t2)):\n",
    "        value = 0\n",
    "    elif ((data_row[\"src_port\"] > t2) and (data_row[\"src_port\"] <= t3)):\n",
    "        value = 0\n",
    "    return value\n",
    "\n",
    "def reg(data_row):\n",
    "    if (data_row[\"src_port\"] <= t1): \n",
    "        value = 0\n",
    "    elif ((data_row[\"src_port\"] > t1) and (data_row[\"src_port\"] <= t2)):\n",
    "        value = 1\n",
    "    elif ((data_row[\"src_port\"] > t2) and (data_row[\"src_port\"] <= t3)):\n",
    "        value = 0\n",
    "    return value\n",
    "\n",
    "def cli(data_row):\n",
    "    if (data_row[\"src_port\"] <= t1): \n",
    "        value = 0\n",
    "    elif ((data_row[\"src_port\"] > t1) and (data_row[\"src_port\"] <= t2)):\n",
    "        value = 0\n",
    "    elif ((data_row[\"src_port\"] > t2) and (data_row[\"src_port\"] <= t3)):\n",
    "        value = 1\n",
    "    return value\n",
    "\n",
    "data[\"well_known_src_pool\"] = data.apply(wk, axis=1)\n",
    "data[\"registered_src_pool\"] = data.apply(reg, axis=1)\n",
    "data[\"cli_src_pool\"] = data.apply(cli, axis=1)"
   ]
  },
  {
   "cell_type": "code",
   "execution_count": 6,
   "metadata": {},
   "outputs": [],
   "source": [
    "data[\"src_port\"] = data[\"src_port\"].apply(str)\n",
    "data[\"dst_port\"] = data[\"dst_port\"].apply(str)"
   ]
  },
  {
   "cell_type": "code",
   "execution_count": 7,
   "metadata": {},
   "outputs": [
    {
     "name": "stdout",
     "output_type": "stream",
     "text": [
      "(152339, 27)\n",
      "(32644, 27)\n",
      "(32645, 27)\n"
     ]
    }
   ],
   "source": [
    "train, validate, test = np.split(data, [int(.7*len(data)), int(.85*len(data))])\n",
    "\n",
    "train = train.sample(frac=1)\n",
    "validate = validate.sample(frac=1)\n",
    "test = test.sample(frac=1)\n",
    "\n",
    "y_train = train.loc[:, \"attack_flag\"].values.ravel()\n",
    "X_train = train.drop([\"attack_flag\"], axis=1)\n",
    "y_validate = validate.loc[:, \"attack_flag\"].values.ravel()\n",
    "X_validate = validate.drop([\"attack_flag\"], axis=1)\n",
    "y_test = test.loc[:, \"attack_flag\"].values.ravel()\n",
    "X_test = test.drop([\"attack_flag\"], axis=1)\n",
    "print(train.shape)\n",
    "print(validate.shape)\n",
    "print(test.shape)"
   ]
  },
  {
   "cell_type": "code",
   "execution_count": 8,
   "metadata": {},
   "outputs": [],
   "source": [
    "deep_numeric_feat = [\"Same_srv_rate\", \"Serror_rate\", \"Srv_serror_rate\", \"Dst_host_count\", \"Dst_host_srv_count\", \"Dst_host_same_src_port_rate\", \"Dst_host_serror_rate\", \"Dst_host_srv_serror_rate\", \"well_known_src_pool\", \"registered_src_pool\", \"cli_src_pool\"]\n",
    "wide_numeric_feat = [\"conn_len\",  \"src_bytes\", \"dst_bytes\", \"conn_numb\"]\n",
    "categorical_feat = [\"service\", \"Conn_state\", \"src_port\", \"dst_port\", \"proto\"]"
   ]
  },
  {
   "cell_type": "code",
   "execution_count": 9,
   "metadata": {},
   "outputs": [],
   "source": [
    "deep_numeric_feat_tf = [tf.feature_column.numeric_column(k) for k in deep_numeric_feat]\n",
    "wide_numeric_feat_tf = [tf.feature_column.numeric_column(k) for k in wide_numeric_feat]"
   ]
  },
  {
   "cell_type": "code",
   "execution_count": 10,
   "metadata": {},
   "outputs": [],
   "source": [
    "#data[\"src_port\"].unique().tolist()"
   ]
  },
  {
   "cell_type": "code",
   "execution_count": 146,
   "metadata": {},
   "outputs": [],
   "source": [
    "src_port_mod = [\"src_\" + s for s in data[\"src_port\"].unique().tolist()]\n",
    "src_port = tf.feature_column.categorical_column_with_vocabulary_list(\n",
    "    'src_port', src_port_mod)\n",
    "\n",
    "dst_port_mod = [\"dst_\" + s for s in data[\"dst_port\"].unique().tolist()]\n",
    "dst_port = tf.feature_column.categorical_column_with_vocabulary_list(\n",
    "    'dst_port', dst_port_mod)\n",
    "\n",
    "service = tf.feature_column.categorical_column_with_vocabulary_list(\n",
    "    'service', data[\"service\"].unique().tolist())\n",
    "\n",
    "Conn_state = tf.feature_column.categorical_column_with_vocabulary_list(\n",
    "    'Conn_state', data[\"Conn_state\"].unique().tolist())\n",
    "\n",
    "proto = tf.feature_column.categorical_column_with_vocabulary_list(\n",
    "    'proto', data[\"proto\"].unique().tolist())"
   ]
  },
  {
   "cell_type": "code",
   "execution_count": 253,
   "metadata": {},
   "outputs": [],
   "source": [
    "deep_columns = [\n",
    "    tf.feature_column.indicator_column(service),\n",
    "    tf.feature_column.indicator_column(Conn_state),\n",
    "    tf.feature_column.indicator_column(proto),\n",
    "    tf.feature_column.embedding_column(src_port, dimension=10),\n",
    "    tf.feature_column.embedding_column(dst_port, dimension=6),\n",
    "]"
   ]
  },
  {
   "cell_type": "code",
   "execution_count": 265,
   "metadata": {},
   "outputs": [],
   "source": [
    "crossed_columns = [\n",
    "      tf.feature_column.crossed_column(\n",
    "          ['src_port', 'service'], hash_bucket_size=50000),\n",
    "      tf.feature_column.crossed_column(\n",
    "          ['dst_port', 'service'], hash_bucket_size=50000),\n",
    "      tf.feature_column.crossed_column(\n",
    "          ['conn_len', 'src_bytes'], hash_bucket_size=50000),\n",
    "      tf.feature_column.crossed_column(\n",
    "          ['conn_len', 'dst_bytes'], hash_bucket_size=50000),\n",
    "      tf.feature_column.crossed_column(\n",
    "          ['dst_port', 'conn_numb'], hash_bucket_size=50000),  \n",
    "      tf.feature_column.crossed_column(\n",
    "          ['service', 'proto'], hash_bucket_size=50),\n",
    "  ]"
   ]
  },
  {
   "cell_type": "code",
   "execution_count": 278,
   "metadata": {},
   "outputs": [
    {
     "name": "stdout",
     "output_type": "stream",
     "text": [
      "INFO:tensorflow:Using default config.\n",
      "INFO:tensorflow:Using config: {'_model_dir': '/home/matz/Desktop/ml_ids/NN_model2', '_tf_random_seed': None, '_save_summary_steps': 100, '_save_checkpoints_steps': None, '_save_checkpoints_secs': 600, '_session_config': allow_soft_placement: true\n",
      "graph_options {\n",
      "  rewrite_options {\n",
      "    meta_optimizer_iterations: ONE\n",
      "  }\n",
      "}\n",
      ", '_keep_checkpoint_max': 5, '_keep_checkpoint_every_n_hours': 10000, '_log_step_count_steps': 100, '_train_distribute': None, '_device_fn': None, '_protocol': None, '_eval_distribute': None, '_experimental_distribute': None, '_service': None, '_cluster_spec': <tensorflow.python.training.server_lib.ClusterSpec object at 0x7fc9eb3fed30>, '_task_type': 'worker', '_task_id': 0, '_global_id_in_cluster': 0, '_master': '', '_evaluation_master': '', '_is_chief': True, '_num_ps_replicas': 0, '_num_worker_replicas': 1}\n"
     ]
    }
   ],
   "source": [
    "model = tf.estimator.DNNLinearCombinedClassifier(\n",
    "    model_dir = \"/home/matz/Desktop/ml_ids/NN_model2\",\n",
    "    dnn_activation_fn=tf.nn.selu,\n",
    "    linear_feature_columns = wide_numeric_feat_tf + crossed_columns + deep_columns,\n",
    "    dnn_feature_columns = deep_columns + deep_numeric_feat_tf, # + wide_numeric_feat_tf,\n",
    "    dnn_hidden_units = [2048, 256]\n",
    ")"
   ]
  },
  {
   "cell_type": "code",
   "execution_count": 279,
   "metadata": {},
   "outputs": [],
   "source": [
    "feature_set= deep_numeric_feat + wide_numeric_feat + categorical_feat"
   ]
  },
  {
   "cell_type": "code",
   "execution_count": 280,
   "metadata": {},
   "outputs": [],
   "source": [
    "def get_input_fn(data_set, num_epochs=None, n_batch = 256, shuffle=True):\n",
    "    return tf.estimator.inputs.pandas_input_fn(\n",
    "       x=pd.DataFrame({k: data_set[k].values for k in feature_set}),\n",
    "       y = pd.Series(data_set[\"attack_flag\"].values),\n",
    "       batch_size=n_batch,   \n",
    "       num_epochs=num_epochs,\n",
    "       shuffle=shuffle)"
   ]
  },
  {
   "cell_type": "code",
   "execution_count": 281,
   "metadata": {},
   "outputs": [
    {
     "name": "stdout",
     "output_type": "stream",
     "text": [
      "INFO:tensorflow:Calling model_fn.\n",
      "INFO:tensorflow:Done calling model_fn.\n",
      "INFO:tensorflow:Create CheckpointSaverHook.\n",
      "INFO:tensorflow:Graph was finalized.\n",
      "INFO:tensorflow:Running local_init_op.\n",
      "INFO:tensorflow:Done running local_init_op.\n",
      "INFO:tensorflow:Saving checkpoints for 0 into /home/matz/Desktop/ml_ids/NN_model2/model.ckpt.\n",
      "INFO:tensorflow:loss = 90.93876, step = 1\n",
      "INFO:tensorflow:global_step/sec: 47.6309\n",
      "INFO:tensorflow:loss = 3.2304542, step = 101 (2.101 sec)\n",
      "INFO:tensorflow:global_step/sec: 62.1071\n",
      "INFO:tensorflow:loss = 3.563142, step = 201 (1.610 sec)\n",
      "INFO:tensorflow:global_step/sec: 60.3127\n",
      "INFO:tensorflow:loss = 13.081627, step = 301 (1.658 sec)\n",
      "INFO:tensorflow:global_step/sec: 64.9024\n",
      "INFO:tensorflow:loss = 4.7100477, step = 401 (1.540 sec)\n",
      "INFO:tensorflow:global_step/sec: 65.7336\n",
      "INFO:tensorflow:loss = 4.142282, step = 501 (1.521 sec)\n",
      "INFO:tensorflow:global_step/sec: 76.7566\n",
      "INFO:tensorflow:loss = 4.0614605, step = 601 (1.303 sec)\n",
      "INFO:tensorflow:global_step/sec: 82.6864\n",
      "INFO:tensorflow:loss = 0.94902784, step = 701 (1.210 sec)\n",
      "INFO:tensorflow:global_step/sec: 85.5182\n",
      "INFO:tensorflow:loss = 3.9100645, step = 801 (1.169 sec)\n",
      "INFO:tensorflow:global_step/sec: 88.1789\n",
      "INFO:tensorflow:loss = 1.0502535, step = 901 (1.137 sec)\n",
      "INFO:tensorflow:global_step/sec: 83.4139\n",
      "INFO:tensorflow:loss = 4.8839765, step = 1001 (1.196 sec)\n",
      "INFO:tensorflow:global_step/sec: 85.2842\n",
      "INFO:tensorflow:loss = 4.2626295, step = 1101 (1.172 sec)\n",
      "INFO:tensorflow:global_step/sec: 79.4312\n",
      "INFO:tensorflow:loss = 7.5513525, step = 1201 (1.259 sec)\n",
      "INFO:tensorflow:global_step/sec: 80.3665\n",
      "INFO:tensorflow:loss = 3.7571144, step = 1301 (1.245 sec)\n",
      "INFO:tensorflow:global_step/sec: 77.9376\n",
      "INFO:tensorflow:loss = 6.385092, step = 1401 (1.283 sec)\n",
      "INFO:tensorflow:global_step/sec: 75.9063\n",
      "INFO:tensorflow:loss = 3.4453723, step = 1501 (1.317 sec)\n",
      "INFO:tensorflow:global_step/sec: 82.5756\n",
      "INFO:tensorflow:loss = 8.137032, step = 1601 (1.211 sec)\n",
      "INFO:tensorflow:global_step/sec: 79.1709\n",
      "INFO:tensorflow:loss = 3.9324946, step = 1701 (1.263 sec)\n",
      "INFO:tensorflow:global_step/sec: 76.0977\n",
      "INFO:tensorflow:loss = 2.273466, step = 1801 (1.314 sec)\n",
      "INFO:tensorflow:global_step/sec: 75.0738\n",
      "INFO:tensorflow:loss = 3.219885, step = 1901 (1.331 sec)\n",
      "INFO:tensorflow:global_step/sec: 73.7427\n",
      "INFO:tensorflow:loss = 6.8534403, step = 2001 (1.356 sec)\n",
      "INFO:tensorflow:global_step/sec: 73.1274\n",
      "INFO:tensorflow:loss = 1.5721993, step = 2101 (1.368 sec)\n",
      "INFO:tensorflow:global_step/sec: 69.6922\n",
      "INFO:tensorflow:loss = 8.767254, step = 2201 (1.436 sec)\n",
      "INFO:tensorflow:global_step/sec: 78.6831\n",
      "INFO:tensorflow:loss = 14.592948, step = 2301 (1.270 sec)\n",
      "INFO:tensorflow:global_step/sec: 76.0684\n",
      "INFO:tensorflow:loss = 8.131814, step = 2401 (1.315 sec)\n",
      "INFO:tensorflow:global_step/sec: 77.3818\n",
      "INFO:tensorflow:loss = 14.966295, step = 2501 (1.293 sec)\n",
      "INFO:tensorflow:global_step/sec: 77.056\n",
      "INFO:tensorflow:loss = 8.66208, step = 2601 (1.297 sec)\n",
      "INFO:tensorflow:global_step/sec: 79.0073\n",
      "INFO:tensorflow:loss = 2.9200945, step = 2701 (1.266 sec)\n",
      "INFO:tensorflow:global_step/sec: 80.4663\n",
      "INFO:tensorflow:loss = 3.6376367, step = 2801 (1.243 sec)\n",
      "INFO:tensorflow:global_step/sec: 78.8321\n",
      "INFO:tensorflow:loss = 3.4181676, step = 2901 (1.269 sec)\n",
      "INFO:tensorflow:global_step/sec: 81.1365\n",
      "INFO:tensorflow:loss = 2.865252, step = 3001 (1.232 sec)\n",
      "INFO:tensorflow:global_step/sec: 81.8826\n",
      "INFO:tensorflow:loss = 6.2864976, step = 3101 (1.224 sec)\n",
      "INFO:tensorflow:global_step/sec: 82.7024\n",
      "INFO:tensorflow:loss = 7.4033737, step = 3201 (1.207 sec)\n",
      "INFO:tensorflow:global_step/sec: 78.7447\n",
      "INFO:tensorflow:loss = 7.466641, step = 3301 (1.270 sec)\n",
      "INFO:tensorflow:global_step/sec: 80.4088\n",
      "INFO:tensorflow:loss = 8.061796, step = 3401 (1.243 sec)\n",
      "INFO:tensorflow:global_step/sec: 86.9091\n",
      "INFO:tensorflow:loss = 7.590183, step = 3501 (1.151 sec)\n",
      "INFO:tensorflow:global_step/sec: 81.0327\n",
      "INFO:tensorflow:loss = 3.2591014, step = 3601 (1.234 sec)\n",
      "INFO:tensorflow:global_step/sec: 79.5283\n",
      "INFO:tensorflow:loss = 12.029415, step = 3701 (1.257 sec)\n",
      "INFO:tensorflow:global_step/sec: 78.2018\n",
      "INFO:tensorflow:loss = 2.009527, step = 3801 (1.279 sec)\n",
      "INFO:tensorflow:global_step/sec: 76.4952\n",
      "INFO:tensorflow:loss = 5.696987, step = 3901 (1.307 sec)\n",
      "INFO:tensorflow:global_step/sec: 77.003\n",
      "INFO:tensorflow:loss = 16.765137, step = 4001 (1.299 sec)\n",
      "INFO:tensorflow:global_step/sec: 74.0055\n",
      "INFO:tensorflow:loss = 6.533161, step = 4101 (1.351 sec)\n",
      "INFO:tensorflow:global_step/sec: 77.8262\n",
      "INFO:tensorflow:loss = 2.1255672, step = 4201 (1.285 sec)\n",
      "INFO:tensorflow:global_step/sec: 75.9338\n",
      "INFO:tensorflow:loss = 7.9603944, step = 4301 (1.317 sec)\n",
      "INFO:tensorflow:global_step/sec: 81.3214\n",
      "INFO:tensorflow:loss = 9.086177, step = 4401 (1.229 sec)\n",
      "INFO:tensorflow:global_step/sec: 78.2456\n",
      "INFO:tensorflow:loss = 9.480577, step = 4501 (1.278 sec)\n",
      "INFO:tensorflow:global_step/sec: 81.1903\n",
      "INFO:tensorflow:loss = 6.3702025, step = 4601 (1.232 sec)\n",
      "INFO:tensorflow:global_step/sec: 78.716\n",
      "INFO:tensorflow:loss = 8.506458, step = 4701 (1.271 sec)\n",
      "INFO:tensorflow:global_step/sec: 79.1921\n",
      "INFO:tensorflow:loss = 1.6056461, step = 4801 (1.263 sec)\n",
      "INFO:tensorflow:global_step/sec: 78.6893\n",
      "INFO:tensorflow:loss = 5.1195116, step = 4901 (1.271 sec)\n",
      "INFO:tensorflow:global_step/sec: 78.2685\n",
      "INFO:tensorflow:loss = 0.8848427, step = 5001 (1.277 sec)\n",
      "INFO:tensorflow:global_step/sec: 79.8224\n",
      "INFO:tensorflow:loss = 2.123843, step = 5101 (1.253 sec)\n",
      "INFO:tensorflow:global_step/sec: 80.2262\n",
      "INFO:tensorflow:loss = 4.2822804, step = 5201 (1.247 sec)\n",
      "INFO:tensorflow:global_step/sec: 80.0205\n",
      "INFO:tensorflow:loss = 2.0381212, step = 5301 (1.249 sec)\n",
      "INFO:tensorflow:global_step/sec: 78.7879\n",
      "INFO:tensorflow:loss = 7.1931167, step = 5401 (1.270 sec)\n",
      "INFO:tensorflow:global_step/sec: 77.1125\n",
      "INFO:tensorflow:loss = 4.659483, step = 5501 (1.297 sec)\n",
      "INFO:tensorflow:global_step/sec: 78.8851\n",
      "INFO:tensorflow:loss = 3.4875245, step = 5601 (1.267 sec)\n",
      "INFO:tensorflow:global_step/sec: 76.6386\n",
      "INFO:tensorflow:loss = 9.912829, step = 5701 (1.305 sec)\n",
      "INFO:tensorflow:global_step/sec: 78.0187\n",
      "INFO:tensorflow:loss = 9.589589, step = 5801 (1.282 sec)\n",
      "INFO:tensorflow:global_step/sec: 79.505\n",
      "INFO:tensorflow:loss = 1.9044529, step = 5901 (1.258 sec)\n",
      "INFO:tensorflow:global_step/sec: 75.6123\n",
      "INFO:tensorflow:loss = 6.806843, step = 6001 (1.322 sec)\n",
      "INFO:tensorflow:global_step/sec: 69.3198\n",
      "INFO:tensorflow:loss = 2.321452, step = 6101 (1.443 sec)\n",
      "INFO:tensorflow:global_step/sec: 72.0522\n",
      "INFO:tensorflow:loss = 6.408005, step = 6201 (1.388 sec)\n",
      "INFO:tensorflow:global_step/sec: 77.9641\n",
      "INFO:tensorflow:loss = 5.912703, step = 6301 (1.282 sec)\n",
      "INFO:tensorflow:global_step/sec: 79.886\n",
      "INFO:tensorflow:loss = 2.5943573, step = 6401 (1.252 sec)\n",
      "INFO:tensorflow:global_step/sec: 72.2327\n",
      "INFO:tensorflow:loss = 2.463259, step = 6501 (1.384 sec)\n",
      "INFO:tensorflow:global_step/sec: 81.9458\n",
      "INFO:tensorflow:loss = 5.8327594, step = 6601 (1.220 sec)\n",
      "INFO:tensorflow:global_step/sec: 81.66\n",
      "INFO:tensorflow:loss = 7.903814, step = 6701 (1.224 sec)\n",
      "INFO:tensorflow:global_step/sec: 83.8532\n",
      "INFO:tensorflow:loss = 1.4120901, step = 6801 (1.193 sec)\n",
      "INFO:tensorflow:global_step/sec: 73.8077\n",
      "INFO:tensorflow:loss = 2.4913397, step = 6901 (1.355 sec)\n",
      "INFO:tensorflow:global_step/sec: 78.1717\n",
      "INFO:tensorflow:loss = 6.37677, step = 7001 (1.279 sec)\n",
      "INFO:tensorflow:global_step/sec: 82.3375\n",
      "INFO:tensorflow:loss = 6.7642174, step = 7101 (1.215 sec)\n",
      "INFO:tensorflow:global_step/sec: 80.9773\n",
      "INFO:tensorflow:loss = 1.7245646, step = 7201 (1.235 sec)\n",
      "INFO:tensorflow:global_step/sec: 79.897\n",
      "INFO:tensorflow:loss = 1.5400658, step = 7301 (1.251 sec)\n",
      "INFO:tensorflow:global_step/sec: 81.742\n",
      "INFO:tensorflow:loss = 2.8149335, step = 7401 (1.224 sec)\n",
      "INFO:tensorflow:global_step/sec: 81.122\n",
      "INFO:tensorflow:loss = 3.020198, step = 7501 (1.232 sec)\n",
      "INFO:tensorflow:global_step/sec: 76.1988\n",
      "INFO:tensorflow:loss = 3.0810738, step = 7601 (1.313 sec)\n",
      "INFO:tensorflow:global_step/sec: 79.4125\n",
      "INFO:tensorflow:loss = 6.164249, step = 7701 (1.259 sec)\n",
      "INFO:tensorflow:global_step/sec: 81.4448\n",
      "INFO:tensorflow:loss = 1.3757117, step = 7801 (1.228 sec)\n",
      "INFO:tensorflow:global_step/sec: 80.3771\n",
      "INFO:tensorflow:loss = 2.5155313, step = 7901 (1.244 sec)\n",
      "INFO:tensorflow:global_step/sec: 80.0057\n",
      "INFO:tensorflow:loss = 3.4388742, step = 8001 (1.250 sec)\n"
     ]
    },
    {
     "name": "stdout",
     "output_type": "stream",
     "text": [
      "INFO:tensorflow:global_step/sec: 79.034\n",
      "INFO:tensorflow:loss = 16.112827, step = 8101 (1.265 sec)\n",
      "INFO:tensorflow:global_step/sec: 80.7343\n",
      "INFO:tensorflow:loss = 9.67308, step = 8201 (1.239 sec)\n",
      "INFO:tensorflow:global_step/sec: 79.7729\n",
      "INFO:tensorflow:loss = 7.6600485, step = 8301 (1.253 sec)\n",
      "INFO:tensorflow:global_step/sec: 80.2627\n",
      "INFO:tensorflow:loss = 1.9371315, step = 8401 (1.246 sec)\n",
      "INFO:tensorflow:global_step/sec: 80.7393\n",
      "INFO:tensorflow:loss = 3.3619463, step = 8501 (1.239 sec)\n",
      "INFO:tensorflow:global_step/sec: 76.7333\n",
      "INFO:tensorflow:loss = 2.8607569, step = 8601 (1.303 sec)\n",
      "INFO:tensorflow:global_step/sec: 79.2325\n",
      "INFO:tensorflow:loss = 9.186527, step = 8701 (1.262 sec)\n",
      "INFO:tensorflow:global_step/sec: 76.3439\n",
      "INFO:tensorflow:loss = 7.030637, step = 8801 (1.310 sec)\n",
      "INFO:tensorflow:global_step/sec: 80.7679\n",
      "INFO:tensorflow:loss = 2.495896, step = 8901 (1.238 sec)\n",
      "INFO:tensorflow:global_step/sec: 79.9478\n",
      "INFO:tensorflow:loss = 2.1449394, step = 9001 (1.251 sec)\n",
      "INFO:tensorflow:global_step/sec: 80.5165\n",
      "INFO:tensorflow:loss = 1.730737, step = 9101 (1.242 sec)\n",
      "INFO:tensorflow:global_step/sec: 76.0156\n",
      "INFO:tensorflow:loss = 3.501672, step = 9201 (1.316 sec)\n",
      "INFO:tensorflow:global_step/sec: 80.5012\n",
      "INFO:tensorflow:loss = 4.167355, step = 9301 (1.242 sec)\n",
      "INFO:tensorflow:global_step/sec: 80.7743\n",
      "INFO:tensorflow:loss = 5.2661552, step = 9401 (1.238 sec)\n",
      "INFO:tensorflow:global_step/sec: 81.3204\n",
      "INFO:tensorflow:loss = 4.7212343, step = 9501 (1.230 sec)\n",
      "INFO:tensorflow:global_step/sec: 79.3432\n",
      "INFO:tensorflow:loss = 5.773148, step = 9601 (1.260 sec)\n",
      "INFO:tensorflow:global_step/sec: 82.5893\n",
      "INFO:tensorflow:loss = 10.456905, step = 9701 (1.211 sec)\n",
      "INFO:tensorflow:global_step/sec: 83.4066\n",
      "INFO:tensorflow:loss = 8.589003, step = 9801 (1.199 sec)\n",
      "INFO:tensorflow:global_step/sec: 80.7405\n",
      "INFO:tensorflow:loss = 2.0477872, step = 9901 (1.239 sec)\n",
      "INFO:tensorflow:global_step/sec: 79.6021\n",
      "INFO:tensorflow:loss = 2.04088, step = 10001 (1.256 sec)\n",
      "INFO:tensorflow:global_step/sec: 81.026\n",
      "INFO:tensorflow:loss = 1.6974674, step = 10101 (1.234 sec)\n",
      "INFO:tensorflow:global_step/sec: 80.642\n",
      "INFO:tensorflow:loss = 1.7525738, step = 10201 (1.241 sec)\n",
      "INFO:tensorflow:global_step/sec: 75.7889\n",
      "INFO:tensorflow:loss = 1.5122643, step = 10301 (1.321 sec)\n",
      "INFO:tensorflow:global_step/sec: 65.3357\n",
      "INFO:tensorflow:loss = 7.7428703, step = 10401 (1.529 sec)\n",
      "INFO:tensorflow:global_step/sec: 76.9833\n",
      "INFO:tensorflow:loss = 3.3410928, step = 10501 (1.299 sec)\n",
      "INFO:tensorflow:global_step/sec: 64.1022\n",
      "INFO:tensorflow:loss = 9.017775, step = 10601 (1.560 sec)\n",
      "INFO:tensorflow:global_step/sec: 69.2507\n",
      "INFO:tensorflow:loss = 5.32797, step = 10701 (1.444 sec)\n",
      "INFO:tensorflow:global_step/sec: 76.9515\n",
      "INFO:tensorflow:loss = 8.331757, step = 10801 (1.300 sec)\n",
      "INFO:tensorflow:global_step/sec: 68.2965\n",
      "INFO:tensorflow:loss = 1.3904165, step = 10901 (1.465 sec)\n",
      "INFO:tensorflow:global_step/sec: 70.9195\n",
      "INFO:tensorflow:loss = 2.4204872, step = 11001 (1.409 sec)\n",
      "INFO:tensorflow:global_step/sec: 64.8392\n",
      "INFO:tensorflow:loss = 1.0209346, step = 11101 (1.542 sec)\n",
      "INFO:tensorflow:global_step/sec: 60.585\n",
      "INFO:tensorflow:loss = 3.4870071, step = 11201 (1.650 sec)\n",
      "INFO:tensorflow:global_step/sec: 63.7849\n",
      "INFO:tensorflow:loss = 7.4817796, step = 11301 (1.567 sec)\n",
      "INFO:tensorflow:global_step/sec: 70.3922\n",
      "INFO:tensorflow:loss = 4.301327, step = 11401 (1.420 sec)\n",
      "INFO:tensorflow:global_step/sec: 88.0972\n",
      "INFO:tensorflow:loss = 4.4411683, step = 11501 (1.135 sec)\n",
      "INFO:tensorflow:global_step/sec: 85.6436\n",
      "INFO:tensorflow:loss = 1.1525167, step = 11601 (1.168 sec)\n",
      "INFO:tensorflow:global_step/sec: 85.2158\n",
      "INFO:tensorflow:loss = 2.5449083, step = 11701 (1.173 sec)\n",
      "INFO:tensorflow:global_step/sec: 85.3562\n",
      "INFO:tensorflow:loss = 8.1240835, step = 11801 (1.171 sec)\n",
      "INFO:tensorflow:global_step/sec: 83.3951\n",
      "INFO:tensorflow:loss = 1.1518108, step = 11901 (1.199 sec)\n",
      "INFO:tensorflow:global_step/sec: 83.0444\n",
      "INFO:tensorflow:loss = 1.9120355, step = 12001 (1.204 sec)\n",
      "INFO:tensorflow:global_step/sec: 87.2093\n",
      "INFO:tensorflow:loss = 6.495936, step = 12101 (1.147 sec)\n",
      "INFO:tensorflow:global_step/sec: 86.2265\n",
      "INFO:tensorflow:loss = 4.0691323, step = 12201 (1.160 sec)\n",
      "INFO:tensorflow:global_step/sec: 84.8382\n",
      "INFO:tensorflow:loss = 7.6618404, step = 12301 (1.179 sec)\n",
      "INFO:tensorflow:global_step/sec: 85.3441\n",
      "INFO:tensorflow:loss = 3.2552688, step = 12401 (1.172 sec)\n",
      "INFO:tensorflow:global_step/sec: 82.9661\n",
      "INFO:tensorflow:loss = 3.2573602, step = 12501 (1.205 sec)\n",
      "INFO:tensorflow:global_step/sec: 81.6809\n",
      "INFO:tensorflow:loss = 15.043205, step = 12601 (1.225 sec)\n",
      "INFO:tensorflow:global_step/sec: 70.8188\n",
      "INFO:tensorflow:loss = 2.9650621, step = 12701 (1.411 sec)\n",
      "INFO:tensorflow:global_step/sec: 76.6108\n",
      "INFO:tensorflow:loss = 3.1744049, step = 12801 (1.305 sec)\n",
      "INFO:tensorflow:global_step/sec: 81.6527\n",
      "INFO:tensorflow:loss = 2.4823139, step = 12901 (1.225 sec)\n",
      "INFO:tensorflow:global_step/sec: 81.7193\n",
      "INFO:tensorflow:loss = 6.5851927, step = 13001 (1.230 sec)\n",
      "INFO:tensorflow:global_step/sec: 82.0644\n",
      "INFO:tensorflow:loss = 1.567823, step = 13101 (1.212 sec)\n",
      "INFO:tensorflow:global_step/sec: 84.6919\n",
      "INFO:tensorflow:loss = 2.5902817, step = 13201 (1.181 sec)\n",
      "INFO:tensorflow:global_step/sec: 83.5375\n",
      "INFO:tensorflow:loss = 3.0059597, step = 13301 (1.197 sec)\n",
      "INFO:tensorflow:global_step/sec: 83.3412\n",
      "INFO:tensorflow:loss = 3.2302687, step = 13401 (1.201 sec)\n",
      "INFO:tensorflow:global_step/sec: 81.87\n",
      "INFO:tensorflow:loss = 3.482993, step = 13501 (1.220 sec)\n",
      "INFO:tensorflow:global_step/sec: 80.662\n",
      "INFO:tensorflow:loss = 5.1018443, step = 13601 (1.240 sec)\n",
      "INFO:tensorflow:global_step/sec: 79.2859\n",
      "INFO:tensorflow:loss = 2.3626997, step = 13701 (1.261 sec)\n",
      "INFO:tensorflow:global_step/sec: 80.6901\n",
      "INFO:tensorflow:loss = 1.7123873, step = 13801 (1.240 sec)\n",
      "INFO:tensorflow:global_step/sec: 81.6596\n",
      "INFO:tensorflow:loss = 3.6938102, step = 13901 (1.224 sec)\n",
      "INFO:tensorflow:global_step/sec: 81.1341\n",
      "INFO:tensorflow:loss = 3.4722276, step = 14001 (1.233 sec)\n",
      "INFO:tensorflow:global_step/sec: 78.4558\n",
      "INFO:tensorflow:loss = 2.6655421, step = 14101 (1.274 sec)\n",
      "INFO:tensorflow:global_step/sec: 77.27\n",
      "INFO:tensorflow:loss = 0.75946003, step = 14201 (1.295 sec)\n",
      "INFO:tensorflow:global_step/sec: 81.5135\n",
      "INFO:tensorflow:loss = 7.3433337, step = 14301 (1.226 sec)\n",
      "INFO:tensorflow:global_step/sec: 79.6574\n",
      "INFO:tensorflow:loss = 1.1289927, step = 14401 (1.257 sec)\n",
      "INFO:tensorflow:global_step/sec: 82.4535\n",
      "INFO:tensorflow:loss = 8.993931, step = 14501 (1.211 sec)\n",
      "INFO:tensorflow:global_step/sec: 79.7342\n",
      "INFO:tensorflow:loss = 10.105865, step = 14601 (1.254 sec)\n",
      "INFO:tensorflow:global_step/sec: 79.2587\n",
      "INFO:tensorflow:loss = 9.502489, step = 14701 (1.262 sec)\n",
      "INFO:tensorflow:global_step/sec: 79.1557\n",
      "INFO:tensorflow:loss = 3.9212067, step = 14801 (1.263 sec)\n",
      "INFO:tensorflow:global_step/sec: 81.6103\n",
      "INFO:tensorflow:loss = 8.417182, step = 14901 (1.225 sec)\n",
      "INFO:tensorflow:global_step/sec: 78.7505\n",
      "INFO:tensorflow:loss = 4.960686, step = 15001 (1.270 sec)\n",
      "INFO:tensorflow:global_step/sec: 79.2947\n",
      "INFO:tensorflow:loss = 3.0929797, step = 15101 (1.261 sec)\n",
      "INFO:tensorflow:global_step/sec: 79.2985\n",
      "INFO:tensorflow:loss = 2.749377, step = 15201 (1.261 sec)\n",
      "INFO:tensorflow:global_step/sec: 79.8141\n",
      "INFO:tensorflow:loss = 4.9178195, step = 15301 (1.253 sec)\n",
      "INFO:tensorflow:global_step/sec: 78.9923\n",
      "INFO:tensorflow:loss = 7.594547, step = 15401 (1.266 sec)\n",
      "INFO:tensorflow:global_step/sec: 77.4567\n",
      "INFO:tensorflow:loss = 123.05675, step = 15501 (1.290 sec)\n",
      "INFO:tensorflow:global_step/sec: 79.166\n",
      "INFO:tensorflow:loss = 1.7054374, step = 15601 (1.264 sec)\n",
      "INFO:tensorflow:global_step/sec: 83.14\n",
      "INFO:tensorflow:loss = 3.2832735, step = 15701 (1.202 sec)\n",
      "INFO:tensorflow:global_step/sec: 80.2453\n",
      "INFO:tensorflow:loss = 7.1010795, step = 15801 (1.247 sec)\n",
      "INFO:tensorflow:global_step/sec: 79.9133\n",
      "INFO:tensorflow:loss = 6.0171666, step = 15901 (1.251 sec)\n",
      "INFO:tensorflow:global_step/sec: 83.2999\n",
      "INFO:tensorflow:loss = 3.2888482, step = 16001 (1.201 sec)\n",
      "INFO:tensorflow:global_step/sec: 83.8797\n",
      "INFO:tensorflow:loss = 7.3925242, step = 16101 (1.192 sec)\n",
      "INFO:tensorflow:global_step/sec: 80.6391\n",
      "INFO:tensorflow:loss = 8.10914, step = 16201 (1.240 sec)\n",
      "INFO:tensorflow:global_step/sec: 75.1141\n",
      "INFO:tensorflow:loss = 0.39799872, step = 16301 (1.331 sec)\n"
     ]
    },
    {
     "name": "stdout",
     "output_type": "stream",
     "text": [
      "INFO:tensorflow:global_step/sec: 78.2982\n",
      "INFO:tensorflow:loss = 8.739373, step = 16401 (1.277 sec)\n",
      "INFO:tensorflow:global_step/sec: 79.4607\n",
      "INFO:tensorflow:loss = 5.423849, step = 16501 (1.259 sec)\n",
      "INFO:tensorflow:global_step/sec: 80.8838\n",
      "INFO:tensorflow:loss = 1.4996603, step = 16601 (1.237 sec)\n",
      "INFO:tensorflow:global_step/sec: 79.82\n",
      "INFO:tensorflow:loss = 1.7778836, step = 16701 (1.253 sec)\n",
      "INFO:tensorflow:global_step/sec: 80.3256\n",
      "INFO:tensorflow:loss = 2.1943467, step = 16801 (1.245 sec)\n",
      "INFO:tensorflow:global_step/sec: 81.4729\n",
      "INFO:tensorflow:loss = 2.8203535, step = 16901 (1.228 sec)\n",
      "INFO:tensorflow:global_step/sec: 78.8195\n",
      "INFO:tensorflow:loss = 6.5819025, step = 17001 (1.269 sec)\n",
      "INFO:tensorflow:global_step/sec: 78.6694\n",
      "INFO:tensorflow:loss = 0.65388215, step = 17101 (1.271 sec)\n",
      "INFO:tensorflow:global_step/sec: 79.8094\n",
      "INFO:tensorflow:loss = 2.172902, step = 17201 (1.253 sec)\n",
      "INFO:tensorflow:global_step/sec: 79.6016\n",
      "INFO:tensorflow:loss = 22.88455, step = 17301 (1.256 sec)\n",
      "INFO:tensorflow:global_step/sec: 79.1616\n",
      "INFO:tensorflow:loss = 1.2927746, step = 17401 (1.263 sec)\n",
      "INFO:tensorflow:global_step/sec: 78.0295\n",
      "INFO:tensorflow:loss = 1.5091388, step = 17501 (1.281 sec)\n",
      "INFO:tensorflow:global_step/sec: 77.8153\n",
      "INFO:tensorflow:loss = 5.587682, step = 17601 (1.285 sec)\n",
      "INFO:tensorflow:global_step/sec: 80.2082\n",
      "INFO:tensorflow:loss = 2.8411522, step = 17701 (1.247 sec)\n",
      "INFO:tensorflow:global_step/sec: 79.5805\n",
      "INFO:tensorflow:loss = 6.7503133, step = 17801 (1.257 sec)\n",
      "INFO:tensorflow:global_step/sec: 80.7888\n",
      "INFO:tensorflow:loss = 4.9803653, step = 17901 (1.238 sec)\n",
      "INFO:tensorflow:global_step/sec: 79.8222\n",
      "INFO:tensorflow:loss = 1.6170459, step = 18001 (1.252 sec)\n",
      "INFO:tensorflow:global_step/sec: 77.6049\n",
      "INFO:tensorflow:loss = 3.4224536, step = 18101 (1.289 sec)\n",
      "INFO:tensorflow:global_step/sec: 76.8075\n",
      "INFO:tensorflow:loss = 2.620122, step = 18201 (1.302 sec)\n",
      "INFO:tensorflow:global_step/sec: 78.5325\n",
      "INFO:tensorflow:loss = 7.0137477, step = 18301 (1.274 sec)\n",
      "INFO:tensorflow:global_step/sec: 81.1417\n",
      "INFO:tensorflow:loss = 8.247572, step = 18401 (1.232 sec)\n",
      "INFO:tensorflow:global_step/sec: 83.888\n",
      "INFO:tensorflow:loss = 1.6978077, step = 18501 (1.192 sec)\n",
      "INFO:tensorflow:global_step/sec: 85.0496\n",
      "INFO:tensorflow:loss = 3.2311964, step = 18601 (1.176 sec)\n",
      "INFO:tensorflow:global_step/sec: 84.8236\n",
      "INFO:tensorflow:loss = 5.74473, step = 18701 (1.180 sec)\n",
      "INFO:tensorflow:global_step/sec: 80.9599\n",
      "INFO:tensorflow:loss = 6.848311, step = 18801 (1.235 sec)\n",
      "INFO:tensorflow:global_step/sec: 79.8569\n",
      "INFO:tensorflow:loss = 9.2299385, step = 18901 (1.252 sec)\n",
      "INFO:tensorflow:global_step/sec: 78.9605\n",
      "INFO:tensorflow:loss = 2.3288252, step = 19001 (1.266 sec)\n",
      "INFO:tensorflow:global_step/sec: 79.4159\n",
      "INFO:tensorflow:loss = 3.6023185, step = 19101 (1.259 sec)\n",
      "INFO:tensorflow:global_step/sec: 77.9401\n",
      "INFO:tensorflow:loss = 2.6811085, step = 19201 (1.283 sec)\n",
      "INFO:tensorflow:global_step/sec: 78.7175\n",
      "INFO:tensorflow:loss = 1.6405725, step = 19301 (1.270 sec)\n",
      "INFO:tensorflow:global_step/sec: 80.1147\n",
      "INFO:tensorflow:loss = 4.9283023, step = 19401 (1.248 sec)\n",
      "INFO:tensorflow:global_step/sec: 79.8564\n",
      "INFO:tensorflow:loss = 2.3927593, step = 19501 (1.252 sec)\n",
      "INFO:tensorflow:global_step/sec: 80.9017\n",
      "INFO:tensorflow:loss = 7.8881264, step = 19601 (1.236 sec)\n",
      "INFO:tensorflow:global_step/sec: 80.0669\n",
      "INFO:tensorflow:loss = 1.2716966, step = 19701 (1.249 sec)\n",
      "INFO:tensorflow:global_step/sec: 81.5781\n",
      "INFO:tensorflow:loss = 4.667521, step = 19801 (1.226 sec)\n",
      "INFO:tensorflow:global_step/sec: 79.6457\n",
      "INFO:tensorflow:loss = 3.5226686, step = 19901 (1.255 sec)\n",
      "INFO:tensorflow:Saving checkpoints for 20000 into /home/matz/Desktop/ml_ids/NN_model2/model.ckpt.\n",
      "INFO:tensorflow:Loss for final step: 3.366314.\n"
     ]
    },
    {
     "data": {
      "text/plain": [
       "<tensorflow.python.estimator.canned.dnn_linear_combined.DNNLinearCombinedClassifier at 0x7fca2fd89d68>"
      ]
     },
     "execution_count": 281,
     "metadata": {},
     "output_type": "execute_result"
    }
   ],
   "source": [
    "model.train(input_fn=get_input_fn(train, n_batch=180), steps=20000)"
   ]
  },
  {
   "cell_type": "code",
   "execution_count": 282,
   "metadata": {},
   "outputs": [
    {
     "name": "stdout",
     "output_type": "stream",
     "text": [
      "INFO:tensorflow:Calling model_fn.\n",
      "WARNING:tensorflow:Trapezoidal rule is known to produce incorrect PR-AUCs; please switch to \"careful_interpolation\" instead.\n",
      "WARNING:tensorflow:Trapezoidal rule is known to produce incorrect PR-AUCs; please switch to \"careful_interpolation\" instead.\n",
      "INFO:tensorflow:Done calling model_fn.\n",
      "INFO:tensorflow:Starting evaluation at 2019-05-17-09:54:14\n",
      "INFO:tensorflow:Graph was finalized.\n",
      "INFO:tensorflow:Restoring parameters from /home/matz/Desktop/ml_ids/NN_model2/model.ckpt-20000\n",
      "INFO:tensorflow:Running local_init_op.\n",
      "INFO:tensorflow:Done running local_init_op.\n",
      "INFO:tensorflow:Evaluation [1/1]\n",
      "INFO:tensorflow:Finished evaluation at 2019-05-17-09:54:17\n",
      "INFO:tensorflow:Saving dict for global step 20000: accuracy = 0.9975493, accuracy_baseline = 0.7026406, auc = 0.9995263, auc_precision_recall = 0.9986777, average_loss = 0.011711188, global_step = 20000, label/mean = 0.2973594, loss = 382.30002, precision = 0.99424994, prediction/mean = 0.29791233, recall = 0.99752754\n",
      "INFO:tensorflow:Saving 'checkpoint_path' summary for global step 20000: /home/matz/Desktop/ml_ids/NN_model2/model.ckpt-20000\n"
     ]
    }
   ],
   "source": [
    "eval_metrics = model.evaluate(input_fn=get_input_fn(validate, n_batch=validate.shape[0], shuffle=False), steps=1)"
   ]
  },
  {
   "cell_type": "code",
   "execution_count": 283,
   "metadata": {
    "scrolled": true
   },
   "outputs": [
    {
     "name": "stdout",
     "output_type": "stream",
     "text": [
      "accuracy: 0.9975493\n",
      "accuracy_baseline: 0.7026406\n",
      "auc: 0.9995263\n",
      "auc_precision_recall: 0.9986777\n",
      "average_loss: 0.011711188\n",
      "global_step: 20000\n",
      "label/mean: 0.2973594\n",
      "loss: 382.30002\n",
      "precision: 0.99424994\n",
      "prediction/mean: 0.29791233\n",
      "recall: 0.99752754\n"
     ]
    }
   ],
   "source": [
    "for key,value in sorted(eval_metrics.items()):\n",
    "  print('%s: %s' % (key, value))"
   ]
  },
  {
   "cell_type": "code",
   "execution_count": 284,
   "metadata": {},
   "outputs": [
    {
     "name": "stdout",
     "output_type": "stream",
     "text": [
      "INFO:tensorflow:Calling model_fn.\n",
      "INFO:tensorflow:Done calling model_fn.\n",
      "INFO:tensorflow:Graph was finalized.\n",
      "INFO:tensorflow:Restoring parameters from /home/matz/Desktop/ml_ids/NN_model2/model.ckpt-20000\n",
      "INFO:tensorflow:Running local_init_op.\n",
      "INFO:tensorflow:Done running local_init_op.\n"
     ]
    }
   ],
   "source": [
    "results = []\n",
    "results = list(model.predict(input_fn=get_input_fn(test, num_epochs=1, n_batch = X_test.shape[0], shuffle=False)))"
   ]
  },
  {
   "cell_type": "code",
   "execution_count": 285,
   "metadata": {},
   "outputs": [],
   "source": [
    "y_pred = []\n",
    "for el in results:\n",
    "    y_pred.append(el[\"class_ids\"])"
   ]
  },
  {
   "cell_type": "code",
   "execution_count": 286,
   "metadata": {},
   "outputs": [
    {
     "name": "stdout",
     "output_type": "stream",
     "text": [
      "NN Accuracy: 0.98441, F1-score: 0.99177, Precision: 0.99221, Recall: 0.99134, FPR: 0.14185\n",
      "TN: 1458; FP: 241; FN:  268; TP: 30678\n",
      "\n"
     ]
    }
   ],
   "source": [
    "name = \"NN\"\n",
    "\n",
    "Acc = {}\n",
    "F1S = {}\n",
    "Prec = {}\n",
    "Rec = {}\n",
    "FPR = {}\n",
    "\n",
    "Acc[name] = metrics.accuracy_score(test[\"attack_flag\"], y_pred)\n",
    "F1S[name] = metrics.f1_score(test[\"attack_flag\"], y_pred)\n",
    "Prec[name] = metrics.precision_score(test[\"attack_flag\"], y_pred)\n",
    "Rec[name] = metrics.recall_score(test[\"attack_flag\"], y_pred)\n",
    "tn, fp, fn, tp = metrics.confusion_matrix(test[\"attack_flag\"], y_pred).ravel()\n",
    "FPR[name] = fp/(fp+tn)\n",
    "\n",
    "print(\"{0:2} Accuracy: {1:.5f}, F1-score: {2:.5f}, Precision: {3:.5f}, Recall: {4:.5f}, FPR: {5:.5f}\".format(name, Acc[name], F1S[name], Prec[name], Rec[name], FPR[name]))\n",
    "print(\"TN: {0:3}; FP: {1:3}; FN: {2:4}; TP: {3:3}\\n\".format(tn, fp, fn, tp))"
   ]
  },
  {
   "cell_type": "markdown",
   "metadata": {},
   "source": [
    "## New data prediction"
   ]
  },
  {
   "cell_type": "code",
   "execution_count": 185,
   "metadata": {},
   "outputs": [
    {
     "name": "stdout",
     "output_type": "stream",
     "text": [
      "Counter({-1: 189082, 1: 12436})\n"
     ]
    }
   ],
   "source": [
    "test_set = pd.read_csv(\"20151220.txt\", sep = \"\\t\", header = None)\n",
    "test_set.columns = [\"conn_len\", \"service\", \"src_bytes\", \"dst_bytes\", \"conn_numb\", \"Same_srv_rate\", \"Serror_rate\", \"Srv_serror_rate\", \"Dst_host_count\", \"Dst_host_srv_count\", \"Dst_host_same_src_port_rate\", \"Dst_host_serror_rate\", \"Dst_host_srv_serror_rate\", \"Conn_state\", \"IDS_detection\", \"Malware_detection\", \"Ashula_detection\", \"attack_flag\", \"src_IP\", \"src_port\", \"dst_IP\", \"dst_port\", \"start_time\", \"proto\"]\n",
    "print(Counter(test_set[\"attack_flag\"]))"
   ]
  },
  {
   "cell_type": "code",
   "execution_count": 113,
   "metadata": {},
   "outputs": [],
   "source": [
    "test_set.loc[:, \"attack_flag\"] = test_set.loc[:,\"attack_flag\"].replace(-2, -1)\n",
    "test_set.loc[:, \"attack_flag\"] = test_set.loc[:, \"attack_flag\"] * -1\n",
    "test_set.loc[:, \"attack_flag\"] = test_set.loc[:,\"attack_flag\"].replace(-1, 0)"
   ]
  },
  {
   "cell_type": "code",
   "execution_count": 114,
   "metadata": {},
   "outputs": [
    {
     "data": {
      "text/plain": [
       "(201518, 24)"
      ]
     },
     "execution_count": 114,
     "metadata": {},
     "output_type": "execute_result"
    }
   ],
   "source": [
    "# removing NaNs\n",
    "test_set = test_set.dropna()\n",
    "test_set.shape"
   ]
  },
  {
   "cell_type": "code",
   "execution_count": 115,
   "metadata": {},
   "outputs": [],
   "source": [
    "test_set[\"well_known_src_pool\"] = test_set.apply(wk, axis=1)\n",
    "test_set[\"registered_src_pool\"] = test_set.apply(reg, axis=1)\n",
    "test_set[\"cli_src_pool\"] = test_set.apply(cli, axis=1)"
   ]
  },
  {
   "cell_type": "code",
   "execution_count": 116,
   "metadata": {},
   "outputs": [],
   "source": [
    "test_set[\"src_port\"] = test_set[\"src_port\"].apply(str)\n",
    "test_set[\"dst_port\"] = test_set[\"dst_port\"].apply(str)"
   ]
  },
  {
   "cell_type": "code",
   "execution_count": 117,
   "metadata": {
    "scrolled": true
   },
   "outputs": [
    {
     "name": "stdout",
     "output_type": "stream",
     "text": [
      "(30000, 27)\n"
     ]
    }
   ],
   "source": [
    "#test_new_data = test_set.sample(n=30000, random_state=1)\n",
    "test_new_data = test_set.loc[range(30000), :]\n",
    "test_new_data = test_new_data.sample(frac=1)\n",
    "y_test_new_data = test_new_data.loc[:, \"attack_flag\"].values.ravel()\n",
    "X_test_new_data = test_new_data.drop([\"attack_flag\"], axis=1)\n",
    "print(test_new_data.shape)"
   ]
  },
  {
   "cell_type": "code",
   "execution_count": 118,
   "metadata": {},
   "outputs": [
    {
     "name": "stdout",
     "output_type": "stream",
     "text": [
      "Counter({1: 29540, 0: 460})\n"
     ]
    }
   ],
   "source": [
    "print(Counter(test_new_data[\"attack_flag\"]))"
   ]
  },
  {
   "cell_type": "code",
   "execution_count": 119,
   "metadata": {},
   "outputs": [
    {
     "name": "stdout",
     "output_type": "stream",
     "text": [
      "INFO:tensorflow:Calling model_fn.\n",
      "INFO:tensorflow:Done calling model_fn.\n",
      "INFO:tensorflow:Graph was finalized.\n",
      "INFO:tensorflow:Restoring parameters from /home/matz/Desktop/ml_ids/NN_model2/model.ckpt-20000\n",
      "INFO:tensorflow:Running local_init_op.\n",
      "INFO:tensorflow:Done running local_init_op.\n"
     ]
    }
   ],
   "source": [
    "results = []\n",
    "results = list(model.predict(input_fn=get_input_fn(test_new_data, num_epochs=1, n_batch = X_test.shape[0], shuffle=False)))"
   ]
  },
  {
   "cell_type": "code",
   "execution_count": 33,
   "metadata": {},
   "outputs": [],
   "source": [
    "y_pred = []\n",
    "for el in results:\n",
    "    y_pred.append(el[\"class_ids\"])"
   ]
  },
  {
   "cell_type": "code",
   "execution_count": 34,
   "metadata": {},
   "outputs": [
    {
     "name": "stdout",
     "output_type": "stream",
     "text": [
      "NN Accuracy: 0.98410, F1-score: 0.99192, Precision: 0.99284, Recall: 0.99100, FPR: 0.45870\n",
      "TN: 249; FP: 211; FN:  266; TP: 29274\n",
      "\n"
     ]
    }
   ],
   "source": [
    "name = \"NN\"\n",
    "\n",
    "Acc = {}\n",
    "F1S = {}\n",
    "Prec = {}\n",
    "Rec = {}\n",
    "FPR = {}\n",
    "\n",
    "Acc[name] = metrics.accuracy_score(y_test_new_data, y_pred)\n",
    "F1S[name] = metrics.f1_score(y_test_new_data, y_pred)\n",
    "Prec[name] = metrics.precision_score(y_test_new_data, y_pred)\n",
    "Rec[name] = metrics.recall_score(y_test_new_data, y_pred)\n",
    "tn, fp, fn, tp = metrics.confusion_matrix(y_test_new_data, y_pred).ravel()\n",
    "FPR[name] = fp/(fp+tn)\n",
    "\n",
    "print(\"{0:2} Accuracy: {1:.5f}, F1-score: {2:.5f}, Precision: {3:.5f}, Recall: {4:.5f}, FPR: {5:.5f}\".format(name, Acc[name], F1S[name], Prec[name], Rec[name], FPR[name]))\n",
    "print(\"TN: {0:3}; FP: {1:3}; FN: {2:4}; TP: {3:3}\\n\".format(tn, fp, fn, tp))"
   ]
  },
  {
   "cell_type": "code",
   "execution_count": null,
   "metadata": {},
   "outputs": [],
   "source": []
  },
  {
   "cell_type": "code",
   "execution_count": null,
   "metadata": {},
   "outputs": [],
   "source": []
  }
 ],
 "metadata": {
  "kernelspec": {
   "display_name": "Python 3",
   "language": "python",
   "name": "python3"
  },
  "language_info": {
   "codemirror_mode": {
    "name": "ipython",
    "version": 3
   },
   "file_extension": ".py",
   "mimetype": "text/x-python",
   "name": "python",
   "nbconvert_exporter": "python",
   "pygments_lexer": "ipython3",
   "version": "3.6.7"
  }
 },
 "nbformat": 4,
 "nbformat_minor": 2
}
