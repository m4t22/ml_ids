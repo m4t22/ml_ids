{
 "cells": [
  {
   "cell_type": "code",
   "execution_count": 1,
   "metadata": {},
   "outputs": [],
   "source": [
    "import pandas as pd\n",
    "import matplotlib.pyplot as plt\n",
    "import numpy as np\n",
    "\n",
    "%matplotlib inline \n",
    "%config IPCompleter.greedy=True\n",
    "\n",
    "import collections\n",
    "import io\n",
    "import math\n",
    "import tensorflow as tf\n",
    "from IPython import display\n",
    "from sklearn import metrics"
   ]
  },
  {
   "cell_type": "markdown",
   "metadata": {},
   "source": [
    "\n",
    "## Reading data from file"
   ]
  },
  {
   "cell_type": "code",
   "execution_count": 2,
   "metadata": {},
   "outputs": [
    {
     "name": "stdout",
     "output_type": "stream",
     "text": [
      "Counter({-1: 149915, 1: 67713})\n"
     ]
    }
   ],
   "source": [
    "from collections import Counter\n",
    "\n",
    "### main dataset ###\n",
    "data = pd.read_csv(\"20151219.txt\", sep = \"\\t\", header = None)\n",
    "data.columns = [\"conn_len\", \"service\", \"src_bytes\", \"dst_bytes\", \"conn_numb\", \"Same_srv_rate\", \"Serror_rate\", \"Srv_serror_rate\", \"Dst_host_count\", \"Dst_host_srv_count\", \"Dst_host_same_src_port_rate\", \"Dst_host_serror_rate\", \"Dst_host_srv_serror_rate\", \"Conn_state\", \"IDS_detection\", \"Malware_detection\", \"Ashula_detection\", \"attack_flag\", \"src_IP\", \"src_port\", \"dst_IP\", \"dst_port\", \"start_time\", \"proto\"]\n",
    "\n",
    "print(Counter(data[\"attack_flag\"]))"
   ]
  },
  {
   "cell_type": "markdown",
   "metadata": {},
   "source": [
    "## Transform to binary"
   ]
  },
  {
   "cell_type": "code",
   "execution_count": 3,
   "metadata": {},
   "outputs": [
    {
     "name": "stdout",
     "output_type": "stream",
     "text": [
      "Counter({1: 149915, 0: 67713})\n"
     ]
    }
   ],
   "source": [
    "data.loc[:, \"attack_flag\"] = data.loc[:,\"attack_flag\"].replace(-2, -1)\n",
    "data.loc[:, \"attack_flag\"] = data.loc[:, \"attack_flag\"] * -1\n",
    "data.loc[:, \"attack_flag\"] = data.loc[:,\"attack_flag\"].replace(-1, 0)\n",
    "\n",
    "print(Counter(data[\"attack_flag\"]))"
   ]
  },
  {
   "cell_type": "code",
   "execution_count": 4,
   "metadata": {},
   "outputs": [
    {
     "data": {
      "text/plain": [
       "(217628, 24)"
      ]
     },
     "execution_count": 4,
     "metadata": {},
     "output_type": "execute_result"
    }
   ],
   "source": [
    "# removing NaNs\n",
    "data = data.dropna()\n",
    "data.shape"
   ]
  },
  {
   "cell_type": "markdown",
   "metadata": {},
   "source": [
    "# a bit of feature engineering"
   ]
  },
  {
   "cell_type": "markdown",
   "metadata": {},
   "source": [
    "## port numbers classification"
   ]
  },
  {
   "cell_type": "code",
   "execution_count": 5,
   "metadata": {},
   "outputs": [],
   "source": [
    "t1 = 1023  # well-known port numbers\n",
    "t2 = 49151 # registered ports\n",
    "t3 = 65535 # client ports\n",
    "\n",
    "def wk(data_row):\n",
    "    if (data_row[\"src_port\"] <= t1): \n",
    "        value = 1\n",
    "    elif ((data_row[\"src_port\"] > t1) and (data_row[\"src_port\"] <= t2)):\n",
    "        value = 0\n",
    "    elif ((data_row[\"src_port\"] > t2) and (data_row[\"src_port\"] <= t3)):\n",
    "        value = 0\n",
    "    return value\n",
    "\n",
    "def reg(data_row):\n",
    "    if (data_row[\"src_port\"] <= t1): \n",
    "        value = 0\n",
    "    elif ((data_row[\"src_port\"] > t1) and (data_row[\"src_port\"] <= t2)):\n",
    "        value = 1\n",
    "    elif ((data_row[\"src_port\"] > t2) and (data_row[\"src_port\"] <= t3)):\n",
    "        value = 0\n",
    "    return value\n",
    "\n",
    "def cli(data_row):\n",
    "    if (data_row[\"src_port\"] <= t1): \n",
    "        value = 0\n",
    "    elif ((data_row[\"src_port\"] > t1) and (data_row[\"src_port\"] <= t2)):\n",
    "        value = 0\n",
    "    elif ((data_row[\"src_port\"] > t2) and (data_row[\"src_port\"] <= t3)):\n",
    "        value = 1\n",
    "    return value\n",
    "\n",
    "data[\"well_known_src_pool\"] = data.apply(wk, axis=1)\n",
    "data[\"registered_src_pool\"] = data.apply(reg, axis=1)\n",
    "data[\"cli_src_pool\"] = data.apply(cli, axis=1)"
   ]
  },
  {
   "cell_type": "code",
   "execution_count": 6,
   "metadata": {},
   "outputs": [],
   "source": [
    "data[\"src_port\"] = data[\"src_port\"].apply(str)\n",
    "data[\"dst_port\"] = data[\"dst_port\"].apply(str)"
   ]
  },
  {
   "cell_type": "code",
   "execution_count": 7,
   "metadata": {},
   "outputs": [
    {
     "name": "stdout",
     "output_type": "stream",
     "text": [
      "(152339, 27)\n",
      "(32644, 27)\n",
      "(32645, 27)\n"
     ]
    }
   ],
   "source": [
    "train, validate, test = np.split(data, [int(.7*len(data)), int(.85*len(data))])\n",
    "train = train.sample(frac=1)\n",
    "validate = validate.sample(frac=1)\n",
    "test = test.sample(frac=1)\n",
    "y_train = train.loc[:, \"attack_flag\"].values.ravel()\n",
    "X_train = train.drop([\"attack_flag\"], axis=1)\n",
    "y_validate = validate.loc[:, \"attack_flag\"].values.ravel()\n",
    "X_validate = validate.drop([\"attack_flag\"], axis=1)\n",
    "y_test = test.loc[:, \"attack_flag\"].values.ravel()\n",
    "X_test = test.drop([\"attack_flag\"], axis=1)\n",
    "print(train.shape)\n",
    "print(validate.shape)\n",
    "print(test.shape)"
   ]
  },
  {
   "cell_type": "code",
   "execution_count": null,
   "metadata": {},
   "outputs": [],
   "source": [
    "deep_numeric_feat = [\"Same_srv_rate\", \"Serror_rate\", \"Srv_serror_rate\", \"Dst_host_count\", \"Dst_host_srv_count\", \"Dst_host_same_src_port_rate\", \"Dst_host_serror_rate\", \"Dst_host_srv_serror_rate\", \"well_known_src_pool\", \"registered_src_pool\", \"cli_src_pool\"]\n",
    "wide_numeric_feat = [\"conn_len\",  \"src_bytes\", \"dst_bytes\", \"conn_numb\"]\n",
    "categorical_feat = [\"service\", \"Conn_state\", \"src_port\", \"dst_port\", \"proto\"]"
   ]
  },
  {
   "cell_type": "code",
   "execution_count": null,
   "metadata": {},
   "outputs": [],
   "source": [
    "deep_numeric_feat_tf = [tf.feature_column.numeric_column(k) for k in deep_numeric_feat]\n",
    "wide_numeric_feat_tf = [tf.feature_column.numeric_column(k) for k in wide_numeric_feat]"
   ]
  },
  {
   "cell_type": "code",
   "execution_count": null,
   "metadata": {},
   "outputs": [],
   "source": [
    "#data[\"src_port\"].unique().tolist()"
   ]
  },
  {
   "cell_type": "code",
   "execution_count": null,
   "metadata": {},
   "outputs": [],
   "source": [
    "src_port_mod = [\"src_\" + s for s in data[\"src_port\"].unique().tolist()]\n",
    "src_port = tf.feature_column.categorical_column_with_vocabulary_list(\n",
    "    'src_port', src_port_mod)\n",
    "\n",
    "dst_port_mod = [\"dst_\" + s for s in data[\"dst_port\"].unique().tolist()]\n",
    "dst_port = tf.feature_column.categorical_column_with_vocabulary_list(\n",
    "    'dst_port', dst_port_mod)\n",
    "\n",
    "service = tf.feature_column.categorical_column_with_vocabulary_list(\n",
    "    'service', data[\"service\"].unique().tolist())\n",
    "\n",
    "Conn_state = tf.feature_column.categorical_column_with_vocabulary_list(\n",
    "    'Conn_state', data[\"Conn_state\"].unique().tolist())\n",
    "\n",
    "proto = tf.feature_column.categorical_column_with_vocabulary_list(\n",
    "    'proto', data[\"proto\"].unique().tolist())"
   ]
  },
  {
   "cell_type": "code",
   "execution_count": 361,
   "metadata": {},
   "outputs": [],
   "source": [
    "deep_columns = [\n",
    "    tf.feature_column.indicator_column(service),\n",
    "    tf.feature_column.indicator_column(Conn_state),\n",
    "    tf.feature_column.indicator_column(proto),\n",
    "    tf.feature_column.embedding_column(src_port, dimension=150),\n",
    "    tf.feature_column.embedding_column(dst_port, dimension=100),\n",
    "]"
   ]
  },
  {
   "cell_type": "code",
   "execution_count": 443,
   "metadata": {},
   "outputs": [],
   "source": [
    "crossed_columns = [\n",
    "      tf.feature_column.crossed_column(\n",
    "          ['src_port', 'service'], hash_bucket_size=10000),\n",
    "      tf.feature_column.crossed_column(\n",
    "          ['dst_port', 'service'], hash_bucket_size=10000),\n",
    "      tf.feature_column.crossed_column(\n",
    "          ['conn_len', 'src_bytes'], hash_bucket_size=10000),\n",
    "      tf.feature_column.crossed_column(\n",
    "          ['conn_len', 'dst_bytes'], hash_bucket_size=10000),\n",
    "      tf.feature_column.crossed_column(\n",
    "          ['dst_port', 'conn_numb'], hash_bucket_size=10000),  \n",
    "      tf.feature_column.crossed_column(\n",
    "          ['service', 'proto'], hash_bucket_size=100),\n",
    "    \n",
    "  ]"
   ]
  },
  {
   "cell_type": "code",
   "execution_count": 444,
   "metadata": {},
   "outputs": [
    {
     "name": "stdout",
     "output_type": "stream",
     "text": [
      "INFO:tensorflow:Using default config.\n",
      "INFO:tensorflow:Using config: {'_model_dir': '/home/matz/Desktop/ml_ids/NN_model2', '_tf_random_seed': None, '_save_summary_steps': 100, '_save_checkpoints_steps': None, '_save_checkpoints_secs': 600, '_session_config': allow_soft_placement: true\n",
      "graph_options {\n",
      "  rewrite_options {\n",
      "    meta_optimizer_iterations: ONE\n",
      "  }\n",
      "}\n",
      ", '_keep_checkpoint_max': 5, '_keep_checkpoint_every_n_hours': 10000, '_log_step_count_steps': 100, '_train_distribute': None, '_device_fn': None, '_protocol': None, '_eval_distribute': None, '_experimental_distribute': None, '_service': None, '_cluster_spec': <tensorflow.python.training.server_lib.ClusterSpec object at 0x7f3925f8b5c0>, '_task_type': 'worker', '_task_id': 0, '_global_id_in_cluster': 0, '_master': '', '_evaluation_master': '', '_is_chief': True, '_num_ps_replicas': 0, '_num_worker_replicas': 1}\n"
     ]
    }
   ],
   "source": [
    "model = tf.estimator.DNNLinearCombinedClassifier(\n",
    "    model_dir = \"/home/matz/Desktop/ml_ids/NN_model2\",\n",
    "    dnn_activation_fn=tf.nn.selu,\n",
    "    linear_feature_columns = deep_columns + deep_numeric_feat_tf + wide_numeric_feat_tf + crossed_columns,\n",
    "    dnn_feature_columns = deep_columns + deep_numeric_feat_tf + wide_numeric_feat_tf,\n",
    "    dnn_hidden_units = [450, 250, 125, 75, 55, 35, 20]\n",
    ")"
   ]
  },
  {
   "cell_type": "code",
   "execution_count": 445,
   "metadata": {},
   "outputs": [],
   "source": [
    "feature_set= deep_numeric_feat + wide_numeric_feat + categorical_feat"
   ]
  },
  {
   "cell_type": "code",
   "execution_count": 446,
   "metadata": {},
   "outputs": [],
   "source": [
    "def get_input_fn(data_set, num_epochs=None, n_batch = 256, shuffle=True):\n",
    "    return tf.estimator.inputs.pandas_input_fn(\n",
    "       x=pd.DataFrame({k: data_set[k].values for k in feature_set}),\n",
    "       y = pd.Series(data_set[\"attack_flag\"].values),\n",
    "       batch_size=n_batch,   \n",
    "       num_epochs=num_epochs,\n",
    "       shuffle=shuffle)"
   ]
  },
  {
   "cell_type": "code",
   "execution_count": 447,
   "metadata": {},
   "outputs": [
    {
     "name": "stdout",
     "output_type": "stream",
     "text": [
      "INFO:tensorflow:Calling model_fn.\n",
      "INFO:tensorflow:Done calling model_fn.\n",
      "INFO:tensorflow:Create CheckpointSaverHook.\n",
      "INFO:tensorflow:Graph was finalized.\n",
      "INFO:tensorflow:Running local_init_op.\n",
      "INFO:tensorflow:Done running local_init_op.\n",
      "INFO:tensorflow:Saving checkpoints for 0 into /home/matz/Desktop/ml_ids/NN_model2/model.ckpt.\n",
      "INFO:tensorflow:loss = 133.64708, step = 1\n",
      "INFO:tensorflow:global_step/sec: 60.8993\n",
      "INFO:tensorflow:loss = 9.242481, step = 101 (1.644 sec)\n",
      "INFO:tensorflow:global_step/sec: 89.7141\n",
      "INFO:tensorflow:loss = 2.0768383, step = 201 (1.114 sec)\n",
      "INFO:tensorflow:global_step/sec: 91.6082\n",
      "INFO:tensorflow:loss = 9.181526, step = 301 (1.092 sec)\n",
      "INFO:tensorflow:global_step/sec: 93.5229\n",
      "INFO:tensorflow:loss = 6.9554467, step = 401 (1.069 sec)\n",
      "INFO:tensorflow:global_step/sec: 105.136\n",
      "INFO:tensorflow:loss = 1.8151029, step = 501 (0.951 sec)\n",
      "INFO:tensorflow:global_step/sec: 105.988\n",
      "INFO:tensorflow:loss = 6.348154, step = 601 (0.944 sec)\n",
      "INFO:tensorflow:global_step/sec: 99.9904\n",
      "INFO:tensorflow:loss = 2.3675344, step = 701 (1.001 sec)\n",
      "INFO:tensorflow:global_step/sec: 99.1677\n",
      "INFO:tensorflow:loss = 9.790996, step = 801 (1.008 sec)\n",
      "INFO:tensorflow:global_step/sec: 93.6755\n",
      "INFO:tensorflow:loss = 2.935724, step = 901 (1.068 sec)\n",
      "INFO:tensorflow:global_step/sec: 78.5833\n",
      "INFO:tensorflow:loss = 3.2355092, step = 1001 (1.273 sec)\n",
      "INFO:tensorflow:global_step/sec: 78.6494\n",
      "INFO:tensorflow:loss = 1.3270347, step = 1101 (1.271 sec)\n",
      "INFO:tensorflow:global_step/sec: 67.3395\n",
      "INFO:tensorflow:loss = 4.29975, step = 1201 (1.487 sec)\n",
      "INFO:tensorflow:global_step/sec: 74.1009\n",
      "INFO:tensorflow:loss = 4.4536405, step = 1301 (1.348 sec)\n",
      "INFO:tensorflow:global_step/sec: 80.9636\n",
      "INFO:tensorflow:loss = 1.9182761, step = 1401 (1.236 sec)\n",
      "INFO:tensorflow:global_step/sec: 78.8694\n",
      "INFO:tensorflow:loss = 11.98843, step = 1501 (1.268 sec)\n",
      "INFO:tensorflow:global_step/sec: 78.1219\n",
      "INFO:tensorflow:loss = 2.5293496, step = 1601 (1.279 sec)\n",
      "INFO:tensorflow:global_step/sec: 71.9791\n",
      "INFO:tensorflow:loss = 6.992257, step = 1701 (1.393 sec)\n",
      "INFO:tensorflow:global_step/sec: 76.9155\n",
      "INFO:tensorflow:loss = 1.5406326, step = 1801 (1.297 sec)\n",
      "INFO:tensorflow:global_step/sec: 74.1347\n",
      "INFO:tensorflow:loss = 1.6618371, step = 1901 (1.349 sec)\n",
      "INFO:tensorflow:global_step/sec: 77.3515\n",
      "INFO:tensorflow:loss = 3.7612538, step = 2001 (1.293 sec)\n",
      "INFO:tensorflow:global_step/sec: 78.4528\n",
      "INFO:tensorflow:loss = 9.618453, step = 2101 (1.274 sec)\n",
      "INFO:tensorflow:global_step/sec: 77.3023\n",
      "INFO:tensorflow:loss = 3.2868283, step = 2201 (1.294 sec)\n",
      "INFO:tensorflow:global_step/sec: 76.3164\n",
      "INFO:tensorflow:loss = 2.0346162, step = 2301 (1.312 sec)\n",
      "INFO:tensorflow:global_step/sec: 76.1825\n",
      "INFO:tensorflow:loss = 1.9384599, step = 2401 (1.311 sec)\n",
      "INFO:tensorflow:global_step/sec: 73.1245\n",
      "INFO:tensorflow:loss = 2.7762458, step = 2501 (1.368 sec)\n",
      "INFO:tensorflow:global_step/sec: 67.899\n",
      "INFO:tensorflow:loss = 5.1104546, step = 2601 (1.473 sec)\n",
      "INFO:tensorflow:global_step/sec: 63.6831\n",
      "INFO:tensorflow:loss = 8.47441, step = 2701 (1.570 sec)\n",
      "INFO:tensorflow:global_step/sec: 69.9341\n",
      "INFO:tensorflow:loss = 2.237426, step = 2801 (1.430 sec)\n",
      "INFO:tensorflow:global_step/sec: 74.4328\n",
      "INFO:tensorflow:loss = 6.935906, step = 2901 (1.345 sec)\n",
      "INFO:tensorflow:global_step/sec: 66.8276\n",
      "INFO:tensorflow:loss = 3.7918756, step = 3001 (1.494 sec)\n",
      "INFO:tensorflow:global_step/sec: 71.8496\n",
      "INFO:tensorflow:loss = 7.8883324, step = 3101 (1.392 sec)\n",
      "INFO:tensorflow:global_step/sec: 77.7133\n",
      "INFO:tensorflow:loss = 1.9663506, step = 3201 (1.288 sec)\n",
      "INFO:tensorflow:global_step/sec: 77.2397\n",
      "INFO:tensorflow:loss = 3.0611007, step = 3301 (1.294 sec)\n",
      "INFO:tensorflow:global_step/sec: 79.2541\n",
      "INFO:tensorflow:loss = 14.341078, step = 3401 (1.263 sec)\n",
      "INFO:tensorflow:global_step/sec: 77.95\n",
      "INFO:tensorflow:loss = 2.5404828, step = 3501 (1.281 sec)\n",
      "INFO:tensorflow:global_step/sec: 74.3755\n",
      "INFO:tensorflow:loss = 3.0792782, step = 3601 (1.345 sec)\n",
      "INFO:tensorflow:global_step/sec: 78.9183\n",
      "INFO:tensorflow:loss = 9.401821, step = 3701 (1.267 sec)\n",
      "INFO:tensorflow:global_step/sec: 80.4067\n",
      "INFO:tensorflow:loss = 1.937399, step = 3801 (1.243 sec)\n",
      "INFO:tensorflow:global_step/sec: 78.329\n",
      "INFO:tensorflow:loss = 2.4396503, step = 3901 (1.277 sec)\n",
      "INFO:tensorflow:global_step/sec: 78.8366\n",
      "INFO:tensorflow:loss = 47.69637, step = 4001 (1.268 sec)\n",
      "INFO:tensorflow:global_step/sec: 78.4623\n",
      "INFO:tensorflow:loss = 9.582331, step = 4101 (1.276 sec)\n",
      "INFO:tensorflow:global_step/sec: 78.3667\n",
      "INFO:tensorflow:loss = 14.68406, step = 4201 (1.274 sec)\n",
      "INFO:tensorflow:global_step/sec: 78.8827\n",
      "INFO:tensorflow:loss = 1.8976142, step = 4301 (1.268 sec)\n",
      "INFO:tensorflow:global_step/sec: 77.4245\n",
      "INFO:tensorflow:loss = 0.78061557, step = 4401 (1.291 sec)\n",
      "INFO:tensorflow:global_step/sec: 79.2903\n",
      "INFO:tensorflow:loss = 3.4218686, step = 4501 (1.262 sec)\n",
      "INFO:tensorflow:global_step/sec: 76.5049\n",
      "INFO:tensorflow:loss = 1.3965265, step = 4601 (1.307 sec)\n",
      "INFO:tensorflow:global_step/sec: 79.0183\n",
      "INFO:tensorflow:loss = 0.5670176, step = 4701 (1.265 sec)\n",
      "INFO:tensorflow:global_step/sec: 79.385\n",
      "INFO:tensorflow:loss = 6.9069376, step = 4801 (1.260 sec)\n",
      "INFO:tensorflow:global_step/sec: 78.438\n",
      "INFO:tensorflow:loss = 1.213335, step = 4901 (1.275 sec)\n",
      "INFO:tensorflow:global_step/sec: 78.2026\n",
      "INFO:tensorflow:loss = 1.7094108, step = 5001 (1.279 sec)\n",
      "INFO:tensorflow:global_step/sec: 77.5637\n",
      "INFO:tensorflow:loss = 2.9580941, step = 5101 (1.289 sec)\n",
      "INFO:tensorflow:global_step/sec: 78.893\n",
      "INFO:tensorflow:loss = 1.5007784, step = 5201 (1.268 sec)\n",
      "INFO:tensorflow:global_step/sec: 79.3797\n",
      "INFO:tensorflow:loss = 2.0989265, step = 5301 (1.260 sec)\n",
      "INFO:tensorflow:global_step/sec: 78.9408\n",
      "INFO:tensorflow:loss = 3.5928538, step = 5401 (1.267 sec)\n",
      "INFO:tensorflow:global_step/sec: 79.132\n",
      "INFO:tensorflow:loss = 4.3825855, step = 5501 (1.264 sec)\n",
      "INFO:tensorflow:global_step/sec: 78.4176\n",
      "INFO:tensorflow:loss = 1.3145294, step = 5601 (1.274 sec)\n",
      "INFO:tensorflow:global_step/sec: 79.6751\n",
      "INFO:tensorflow:loss = 1.3786361, step = 5701 (1.255 sec)\n",
      "INFO:tensorflow:global_step/sec: 77.7205\n",
      "INFO:tensorflow:loss = 1.8177698, step = 5801 (1.287 sec)\n",
      "INFO:tensorflow:global_step/sec: 73.1314\n",
      "INFO:tensorflow:loss = 4.2606235, step = 5901 (1.368 sec)\n",
      "INFO:tensorflow:global_step/sec: 67.9353\n",
      "INFO:tensorflow:loss = 6.336343, step = 6001 (1.472 sec)\n",
      "INFO:tensorflow:global_step/sec: 76.261\n",
      "INFO:tensorflow:loss = 7.3653374, step = 6101 (1.312 sec)\n",
      "INFO:tensorflow:global_step/sec: 77.4463\n",
      "INFO:tensorflow:loss = 2.5338573, step = 6201 (1.290 sec)\n",
      "INFO:tensorflow:global_step/sec: 80.2126\n",
      "INFO:tensorflow:loss = 2.5079675, step = 6301 (1.247 sec)\n",
      "INFO:tensorflow:global_step/sec: 75.5434\n",
      "INFO:tensorflow:loss = 5.1910763, step = 6401 (1.324 sec)\n",
      "INFO:tensorflow:global_step/sec: 78.9415\n",
      "INFO:tensorflow:loss = 4.43661, step = 6501 (1.267 sec)\n",
      "INFO:tensorflow:global_step/sec: 76.8702\n",
      "INFO:tensorflow:loss = 5.890458, step = 6601 (1.302 sec)\n",
      "INFO:tensorflow:global_step/sec: 76.9027\n",
      "INFO:tensorflow:loss = 2.8236902, step = 6701 (1.300 sec)\n",
      "INFO:tensorflow:global_step/sec: 78.0058\n",
      "INFO:tensorflow:loss = 2.531937, step = 6801 (1.282 sec)\n",
      "INFO:tensorflow:global_step/sec: 78.6143\n",
      "INFO:tensorflow:loss = 5.30357, step = 6901 (1.272 sec)\n",
      "INFO:tensorflow:global_step/sec: 75.2264\n",
      "INFO:tensorflow:loss = 5.6697927, step = 7001 (1.329 sec)\n",
      "INFO:tensorflow:global_step/sec: 79.4215\n",
      "INFO:tensorflow:loss = 1.2098186, step = 7101 (1.259 sec)\n",
      "INFO:tensorflow:global_step/sec: 77.4255\n",
      "INFO:tensorflow:loss = 0.61702317, step = 7201 (1.291 sec)\n",
      "INFO:tensorflow:global_step/sec: 73.2819\n",
      "INFO:tensorflow:loss = 1.3832967, step = 7301 (1.365 sec)\n",
      "INFO:tensorflow:global_step/sec: 78.3154\n",
      "INFO:tensorflow:loss = 7.4707694, step = 7401 (1.279 sec)\n",
      "INFO:tensorflow:global_step/sec: 76.8295\n",
      "INFO:tensorflow:loss = 2.5191967, step = 7501 (1.300 sec)\n",
      "INFO:tensorflow:global_step/sec: 76.3572\n",
      "INFO:tensorflow:loss = 3.678834, step = 7601 (1.309 sec)\n",
      "INFO:tensorflow:global_step/sec: 77.974\n",
      "INFO:tensorflow:loss = 3.6209006, step = 7701 (1.282 sec)\n",
      "INFO:tensorflow:global_step/sec: 79.5947\n",
      "INFO:tensorflow:loss = 2.2008748, step = 7801 (1.256 sec)\n",
      "INFO:tensorflow:global_step/sec: 77.6855\n",
      "INFO:tensorflow:loss = 1.3780972, step = 7901 (1.287 sec)\n",
      "INFO:tensorflow:global_step/sec: 75.3309\n",
      "INFO:tensorflow:loss = 1.5468231, step = 8001 (1.328 sec)\n"
     ]
    },
    {
     "name": "stdout",
     "output_type": "stream",
     "text": [
      "INFO:tensorflow:global_step/sec: 78.4764\n",
      "INFO:tensorflow:loss = 2.0542085, step = 8101 (1.274 sec)\n",
      "INFO:tensorflow:global_step/sec: 76.7568\n",
      "INFO:tensorflow:loss = 40.443428, step = 8201 (1.303 sec)\n",
      "INFO:tensorflow:global_step/sec: 80.931\n",
      "INFO:tensorflow:loss = 24.6836, step = 8301 (1.236 sec)\n",
      "INFO:tensorflow:global_step/sec: 77.9019\n",
      "INFO:tensorflow:loss = 7.632496, step = 8401 (1.284 sec)\n",
      "INFO:tensorflow:global_step/sec: 78.3253\n",
      "INFO:tensorflow:loss = 0.8809751, step = 8501 (1.276 sec)\n",
      "INFO:tensorflow:global_step/sec: 76.7198\n",
      "INFO:tensorflow:loss = 2.6999104, step = 8601 (1.304 sec)\n",
      "INFO:tensorflow:global_step/sec: 79.9785\n",
      "INFO:tensorflow:loss = 2.7021062, step = 8701 (1.250 sec)\n",
      "INFO:tensorflow:global_step/sec: 77.2571\n",
      "INFO:tensorflow:loss = 5.454455, step = 8801 (1.295 sec)\n",
      "INFO:tensorflow:global_step/sec: 75.9718\n",
      "INFO:tensorflow:loss = 10.937195, step = 8901 (1.317 sec)\n",
      "INFO:tensorflow:global_step/sec: 77.4359\n",
      "INFO:tensorflow:loss = 1.9573661, step = 9001 (1.291 sec)\n",
      "INFO:tensorflow:global_step/sec: 78.3572\n",
      "INFO:tensorflow:loss = 1.0764558, step = 9101 (1.275 sec)\n",
      "INFO:tensorflow:global_step/sec: 79.938\n",
      "INFO:tensorflow:loss = 2.4584322, step = 9201 (1.251 sec)\n",
      "INFO:tensorflow:global_step/sec: 78.5993\n",
      "INFO:tensorflow:loss = 3.6458838, step = 9301 (1.273 sec)\n",
      "INFO:tensorflow:global_step/sec: 79.0224\n",
      "INFO:tensorflow:loss = 2.8553739, step = 9401 (1.265 sec)\n",
      "INFO:tensorflow:global_step/sec: 78.6789\n",
      "INFO:tensorflow:loss = 1.6377264, step = 9501 (1.271 sec)\n",
      "INFO:tensorflow:global_step/sec: 74.8597\n",
      "INFO:tensorflow:loss = 9.614548, step = 9601 (1.336 sec)\n",
      "INFO:tensorflow:global_step/sec: 77.29\n",
      "INFO:tensorflow:loss = 4.101878, step = 9701 (1.294 sec)\n",
      "INFO:tensorflow:global_step/sec: 76.7309\n",
      "INFO:tensorflow:loss = 2.884157, step = 9801 (1.303 sec)\n",
      "INFO:tensorflow:global_step/sec: 80.0985\n",
      "INFO:tensorflow:loss = 0.89173675, step = 9901 (1.249 sec)\n",
      "INFO:tensorflow:global_step/sec: 77.2274\n",
      "INFO:tensorflow:loss = 2.2413177, step = 10001 (1.295 sec)\n",
      "INFO:tensorflow:global_step/sec: 79.0651\n",
      "INFO:tensorflow:loss = 9.471434, step = 10101 (1.265 sec)\n",
      "INFO:tensorflow:global_step/sec: 77.2131\n",
      "INFO:tensorflow:loss = 6.973148, step = 10201 (1.296 sec)\n",
      "INFO:tensorflow:global_step/sec: 78.7603\n",
      "INFO:tensorflow:loss = 0.90594655, step = 10301 (1.268 sec)\n",
      "INFO:tensorflow:global_step/sec: 77.817\n",
      "INFO:tensorflow:loss = 3.589522, step = 10401 (1.285 sec)\n",
      "INFO:tensorflow:global_step/sec: 78.1227\n",
      "INFO:tensorflow:loss = 3.7499347, step = 10501 (1.280 sec)\n",
      "INFO:tensorflow:global_step/sec: 75.6853\n",
      "INFO:tensorflow:loss = 4.340371, step = 10601 (1.321 sec)\n",
      "INFO:tensorflow:global_step/sec: 63.0602\n",
      "INFO:tensorflow:loss = 0.46352118, step = 10701 (1.588 sec)\n",
      "INFO:tensorflow:global_step/sec: 65.2656\n",
      "INFO:tensorflow:loss = 1.0618364, step = 10801 (1.531 sec)\n",
      "INFO:tensorflow:global_step/sec: 67.8445\n",
      "INFO:tensorflow:loss = 2.413084, step = 10901 (1.474 sec)\n",
      "INFO:tensorflow:global_step/sec: 72.557\n",
      "INFO:tensorflow:loss = 5.6424465, step = 11001 (1.378 sec)\n",
      "INFO:tensorflow:global_step/sec: 79.611\n",
      "INFO:tensorflow:loss = 4.3761215, step = 11101 (1.257 sec)\n",
      "INFO:tensorflow:global_step/sec: 78.4941\n",
      "INFO:tensorflow:loss = 1.0750263, step = 11201 (1.274 sec)\n",
      "INFO:tensorflow:global_step/sec: 77.8946\n",
      "INFO:tensorflow:loss = 2.6742089, step = 11301 (1.283 sec)\n",
      "INFO:tensorflow:global_step/sec: 78.371\n",
      "INFO:tensorflow:loss = 9.57528, step = 11401 (1.276 sec)\n",
      "INFO:tensorflow:global_step/sec: 78.1852\n",
      "INFO:tensorflow:loss = 9.6391115, step = 11501 (1.279 sec)\n",
      "INFO:tensorflow:global_step/sec: 77.711\n",
      "INFO:tensorflow:loss = 6.135138, step = 11601 (1.286 sec)\n",
      "INFO:tensorflow:global_step/sec: 78.4366\n",
      "INFO:tensorflow:loss = 0.7276682, step = 11701 (1.275 sec)\n",
      "INFO:tensorflow:global_step/sec: 77.9886\n",
      "INFO:tensorflow:loss = 7.692574, step = 11801 (1.282 sec)\n",
      "INFO:tensorflow:global_step/sec: 80.6081\n",
      "INFO:tensorflow:loss = 9.729425, step = 11901 (1.241 sec)\n",
      "INFO:tensorflow:global_step/sec: 75.8616\n",
      "INFO:tensorflow:loss = 3.7881005, step = 12001 (1.320 sec)\n",
      "INFO:tensorflow:global_step/sec: 79.4888\n",
      "INFO:tensorflow:loss = 2.6706538, step = 12101 (1.258 sec)\n",
      "INFO:tensorflow:global_step/sec: 77.5945\n",
      "INFO:tensorflow:loss = 4.237507, step = 12201 (1.286 sec)\n",
      "INFO:tensorflow:global_step/sec: 80.1365\n",
      "INFO:tensorflow:loss = 15.064882, step = 12301 (1.248 sec)\n",
      "INFO:tensorflow:global_step/sec: 79.1566\n",
      "INFO:tensorflow:loss = 2.9666057, step = 12401 (1.263 sec)\n",
      "INFO:tensorflow:global_step/sec: 80.2342\n",
      "INFO:tensorflow:loss = 2.8350348, step = 12501 (1.247 sec)\n",
      "INFO:tensorflow:global_step/sec: 80.1536\n",
      "INFO:tensorflow:loss = 10.279674, step = 12601 (1.248 sec)\n",
      "INFO:tensorflow:global_step/sec: 80.2119\n",
      "INFO:tensorflow:loss = 1.9959581, step = 12701 (1.246 sec)\n",
      "INFO:tensorflow:global_step/sec: 78.2196\n",
      "INFO:tensorflow:loss = 1.8861593, step = 12801 (1.278 sec)\n",
      "INFO:tensorflow:global_step/sec: 78.4354\n",
      "INFO:tensorflow:loss = 3.116259, step = 12901 (1.275 sec)\n",
      "INFO:tensorflow:global_step/sec: 78.7256\n",
      "INFO:tensorflow:loss = 7.6386466, step = 13001 (1.271 sec)\n",
      "INFO:tensorflow:global_step/sec: 78.2923\n",
      "INFO:tensorflow:loss = 3.0661223, step = 13101 (1.277 sec)\n",
      "INFO:tensorflow:global_step/sec: 78.4404\n",
      "INFO:tensorflow:loss = 4.100197, step = 13201 (1.275 sec)\n",
      "INFO:tensorflow:global_step/sec: 78.3587\n",
      "INFO:tensorflow:loss = 1.3472016, step = 13301 (1.276 sec)\n",
      "INFO:tensorflow:global_step/sec: 79.2021\n",
      "INFO:tensorflow:loss = 0.91714066, step = 13401 (1.263 sec)\n",
      "INFO:tensorflow:global_step/sec: 79.5636\n",
      "INFO:tensorflow:loss = 4.2619653, step = 13501 (1.257 sec)\n",
      "INFO:tensorflow:global_step/sec: 80.173\n",
      "INFO:tensorflow:loss = 1.365455, step = 13601 (1.247 sec)\n",
      "INFO:tensorflow:global_step/sec: 78.1696\n",
      "INFO:tensorflow:loss = 2.4415252, step = 13701 (1.279 sec)\n",
      "INFO:tensorflow:global_step/sec: 79.6259\n",
      "INFO:tensorflow:loss = 8.236155, step = 13801 (1.257 sec)\n",
      "INFO:tensorflow:global_step/sec: 77.566\n",
      "INFO:tensorflow:loss = 3.3894618, step = 13901 (1.289 sec)\n",
      "INFO:tensorflow:global_step/sec: 79.5352\n",
      "INFO:tensorflow:loss = 5.5918517, step = 14001 (1.257 sec)\n",
      "INFO:tensorflow:global_step/sec: 77.8598\n",
      "INFO:tensorflow:loss = 2.5138745, step = 14101 (1.285 sec)\n",
      "INFO:tensorflow:global_step/sec: 79.3143\n",
      "INFO:tensorflow:loss = 3.0555253, step = 14201 (1.261 sec)\n",
      "INFO:tensorflow:global_step/sec: 78.058\n",
      "INFO:tensorflow:loss = 2.2697945, step = 14301 (1.281 sec)\n",
      "INFO:tensorflow:global_step/sec: 76.7404\n",
      "INFO:tensorflow:loss = 3.3864787, step = 14401 (1.303 sec)\n",
      "INFO:tensorflow:global_step/sec: 79.3154\n",
      "INFO:tensorflow:loss = 4.23815, step = 14501 (1.261 sec)\n",
      "INFO:tensorflow:global_step/sec: 79.5626\n",
      "INFO:tensorflow:loss = 8.692137, step = 14601 (1.257 sec)\n",
      "INFO:tensorflow:global_step/sec: 78.8681\n",
      "INFO:tensorflow:loss = 4.766193, step = 14701 (1.268 sec)\n",
      "INFO:tensorflow:global_step/sec: 80.1234\n",
      "INFO:tensorflow:loss = 2.3554013, step = 14801 (1.248 sec)\n",
      "INFO:tensorflow:global_step/sec: 79.4778\n",
      "INFO:tensorflow:loss = 0.7029022, step = 14901 (1.258 sec)\n",
      "INFO:tensorflow:global_step/sec: 79.344\n",
      "INFO:tensorflow:loss = 1.5562698, step = 15001 (1.260 sec)\n",
      "INFO:tensorflow:global_step/sec: 77.2133\n",
      "INFO:tensorflow:loss = 3.3069463, step = 15101 (1.295 sec)\n",
      "INFO:tensorflow:global_step/sec: 79.6069\n",
      "INFO:tensorflow:loss = 1.7298942, step = 15201 (1.256 sec)\n",
      "INFO:tensorflow:global_step/sec: 77.8851\n",
      "INFO:tensorflow:loss = 2.4680371, step = 15301 (1.286 sec)\n",
      "INFO:tensorflow:global_step/sec: 78.8729\n",
      "INFO:tensorflow:loss = 2.026346, step = 15401 (1.266 sec)\n",
      "INFO:tensorflow:global_step/sec: 76.3189\n",
      "INFO:tensorflow:loss = 2.7136095, step = 15501 (1.310 sec)\n",
      "INFO:tensorflow:global_step/sec: 79.1211\n",
      "INFO:tensorflow:loss = 2.035913, step = 15601 (1.264 sec)\n",
      "INFO:tensorflow:global_step/sec: 78.7993\n",
      "INFO:tensorflow:loss = 0.58524257, step = 15701 (1.268 sec)\n",
      "INFO:tensorflow:global_step/sec: 78.8074\n",
      "INFO:tensorflow:loss = 7.2651167, step = 15801 (1.269 sec)\n",
      "INFO:tensorflow:global_step/sec: 79.3292\n",
      "INFO:tensorflow:loss = 1.6554134, step = 15901 (1.261 sec)\n",
      "INFO:tensorflow:global_step/sec: 77.1026\n",
      "INFO:tensorflow:loss = 3.1883354, step = 16001 (1.297 sec)\n",
      "INFO:tensorflow:global_step/sec: 78.7236\n",
      "INFO:tensorflow:loss = 1.4586, step = 16101 (1.270 sec)\n",
      "INFO:tensorflow:global_step/sec: 76.4645\n",
      "INFO:tensorflow:loss = 7.5194364, step = 16201 (1.307 sec)\n",
      "INFO:tensorflow:global_step/sec: 77.9778\n",
      "INFO:tensorflow:loss = 11.167339, step = 16301 (1.283 sec)\n"
     ]
    },
    {
     "name": "stdout",
     "output_type": "stream",
     "text": [
      "INFO:tensorflow:global_step/sec: 79.0182\n",
      "INFO:tensorflow:loss = 0.9240111, step = 16401 (1.266 sec)\n",
      "INFO:tensorflow:global_step/sec: 79.0216\n",
      "INFO:tensorflow:loss = 2.1085324, step = 16501 (1.265 sec)\n",
      "INFO:tensorflow:global_step/sec: 78.7327\n",
      "INFO:tensorflow:loss = 1.0253159, step = 16601 (1.270 sec)\n",
      "INFO:tensorflow:global_step/sec: 79.4943\n",
      "INFO:tensorflow:loss = 1.2692142, step = 16701 (1.260 sec)\n",
      "INFO:tensorflow:global_step/sec: 77.604\n",
      "INFO:tensorflow:loss = 1.4126577, step = 16801 (1.286 sec)\n",
      "INFO:tensorflow:global_step/sec: 80.0176\n",
      "INFO:tensorflow:loss = 9.675607, step = 16901 (1.250 sec)\n",
      "INFO:tensorflow:global_step/sec: 70.5089\n",
      "INFO:tensorflow:loss = 6.668715, step = 17001 (1.418 sec)\n",
      "INFO:tensorflow:global_step/sec: 78.1752\n",
      "INFO:tensorflow:loss = 7.7922974, step = 17101 (1.279 sec)\n",
      "INFO:tensorflow:global_step/sec: 78.8548\n",
      "INFO:tensorflow:loss = 2.433801, step = 17201 (1.268 sec)\n",
      "INFO:tensorflow:global_step/sec: 74.6523\n",
      "INFO:tensorflow:loss = 4.1493754, step = 17301 (1.340 sec)\n",
      "INFO:tensorflow:global_step/sec: 77.8578\n",
      "INFO:tensorflow:loss = 1.733172, step = 17401 (1.284 sec)\n",
      "INFO:tensorflow:global_step/sec: 76.6779\n",
      "INFO:tensorflow:loss = 0.75080264, step = 17501 (1.304 sec)\n",
      "INFO:tensorflow:global_step/sec: 79.2064\n",
      "INFO:tensorflow:loss = 1.6597219, step = 17601 (1.263 sec)\n",
      "INFO:tensorflow:global_step/sec: 80.5645\n",
      "INFO:tensorflow:loss = 2.16723, step = 17701 (1.241 sec)\n",
      "INFO:tensorflow:global_step/sec: 79.4828\n",
      "INFO:tensorflow:loss = 2.90691, step = 17801 (1.257 sec)\n",
      "INFO:tensorflow:global_step/sec: 79.6474\n",
      "INFO:tensorflow:loss = 2.2882261, step = 17901 (1.255 sec)\n",
      "INFO:tensorflow:global_step/sec: 78.4119\n",
      "INFO:tensorflow:loss = 5.698017, step = 18001 (1.276 sec)\n",
      "INFO:tensorflow:global_step/sec: 77.7398\n",
      "INFO:tensorflow:loss = 1.4277267, step = 18101 (1.286 sec)\n",
      "INFO:tensorflow:global_step/sec: 80.6873\n",
      "INFO:tensorflow:loss = 2.8128488, step = 18201 (1.239 sec)\n",
      "INFO:tensorflow:global_step/sec: 80.1396\n",
      "INFO:tensorflow:loss = 1.7669142, step = 18301 (1.249 sec)\n",
      "INFO:tensorflow:global_step/sec: 81.6741\n",
      "INFO:tensorflow:loss = 1.9559168, step = 18401 (1.223 sec)\n",
      "INFO:tensorflow:global_step/sec: 79.2427\n",
      "INFO:tensorflow:loss = 2.5752668, step = 18501 (1.263 sec)\n",
      "INFO:tensorflow:global_step/sec: 78.7336\n",
      "INFO:tensorflow:loss = 5.2313666, step = 18601 (1.270 sec)\n",
      "INFO:tensorflow:global_step/sec: 79.7019\n",
      "INFO:tensorflow:loss = 2.7127967, step = 18701 (1.254 sec)\n",
      "INFO:tensorflow:global_step/sec: 79.7863\n",
      "INFO:tensorflow:loss = 0.8845538, step = 18801 (1.253 sec)\n",
      "INFO:tensorflow:global_step/sec: 79.079\n",
      "INFO:tensorflow:loss = 1.3478593, step = 18901 (1.265 sec)\n",
      "INFO:tensorflow:global_step/sec: 79.379\n",
      "INFO:tensorflow:loss = 12.926477, step = 19001 (1.260 sec)\n",
      "INFO:tensorflow:global_step/sec: 79.4864\n",
      "INFO:tensorflow:loss = 1.9955866, step = 19101 (1.257 sec)\n",
      "INFO:tensorflow:global_step/sec: 78.8287\n",
      "INFO:tensorflow:loss = 1.8374016, step = 19201 (1.269 sec)\n",
      "INFO:tensorflow:global_step/sec: 76.1458\n",
      "INFO:tensorflow:loss = 2.699422, step = 19301 (1.313 sec)\n",
      "INFO:tensorflow:global_step/sec: 77.0066\n",
      "INFO:tensorflow:loss = 2.7615638, step = 19401 (1.299 sec)\n",
      "INFO:tensorflow:global_step/sec: 79.2807\n",
      "INFO:tensorflow:loss = 7.5153084, step = 19501 (1.261 sec)\n",
      "INFO:tensorflow:global_step/sec: 78.769\n",
      "INFO:tensorflow:loss = 2.6169794, step = 19601 (1.269 sec)\n",
      "INFO:tensorflow:global_step/sec: 79.6993\n",
      "INFO:tensorflow:loss = 1.0436488, step = 19701 (1.256 sec)\n",
      "INFO:tensorflow:global_step/sec: 79.8652\n",
      "INFO:tensorflow:loss = 7.3631988, step = 19801 (1.252 sec)\n",
      "INFO:tensorflow:global_step/sec: 77.7376\n",
      "INFO:tensorflow:loss = 1.1914501, step = 19901 (1.287 sec)\n",
      "INFO:tensorflow:Saving checkpoints for 20000 into /home/matz/Desktop/ml_ids/NN_model2/model.ckpt.\n",
      "INFO:tensorflow:Loss for final step: 2.6277785.\n"
     ]
    },
    {
     "data": {
      "text/plain": [
       "<tensorflow.python.estimator.canned.dnn_linear_combined.DNNLinearCombinedClassifier at 0x7f3925f8b4e0>"
      ]
     },
     "execution_count": 447,
     "metadata": {},
     "output_type": "execute_result"
    }
   ],
   "source": [
    "model.train(input_fn=get_input_fn(train, n_batch=180), steps=20000)"
   ]
  },
  {
   "cell_type": "code",
   "execution_count": 448,
   "metadata": {},
   "outputs": [
    {
     "name": "stdout",
     "output_type": "stream",
     "text": [
      "INFO:tensorflow:Calling model_fn.\n",
      "WARNING:tensorflow:Trapezoidal rule is known to produce incorrect PR-AUCs; please switch to \"careful_interpolation\" instead.\n",
      "WARNING:tensorflow:Trapezoidal rule is known to produce incorrect PR-AUCs; please switch to \"careful_interpolation\" instead.\n",
      "INFO:tensorflow:Done calling model_fn.\n",
      "INFO:tensorflow:Starting evaluation at 2019-05-15-22:15:13\n",
      "INFO:tensorflow:Graph was finalized.\n",
      "INFO:tensorflow:Restoring parameters from /home/matz/Desktop/ml_ids/NN_model2/model.ckpt-20000\n",
      "INFO:tensorflow:Running local_init_op.\n",
      "INFO:tensorflow:Done running local_init_op.\n",
      "INFO:tensorflow:Evaluation [1/1]\n",
      "INFO:tensorflow:Finished evaluation at 2019-05-15-22:15:18\n",
      "INFO:tensorflow:Saving dict for global step 20000: accuracy = 0.9975493, accuracy_baseline = 0.7026406, auc = 0.9998531, auc_precision_recall = 0.9996146, average_loss = 0.0074825445, global_step = 20000, label/mean = 0.2973594, loss = 244.26018, precision = 0.9936417, prediction/mean = 0.2977546, recall = 0.99814564\n",
      "INFO:tensorflow:Saving 'checkpoint_path' summary for global step 20000: /home/matz/Desktop/ml_ids/NN_model2/model.ckpt-20000\n"
     ]
    }
   ],
   "source": [
    "eval_metrics = model.evaluate(input_fn=get_input_fn(validate, n_batch=validate.shape[0], shuffle=False), steps=1)"
   ]
  },
  {
   "cell_type": "code",
   "execution_count": 449,
   "metadata": {
    "scrolled": true
   },
   "outputs": [
    {
     "name": "stdout",
     "output_type": "stream",
     "text": [
      "accuracy: 0.9975493\n",
      "accuracy_baseline: 0.7026406\n",
      "auc: 0.9998531\n",
      "auc_precision_recall: 0.9996146\n",
      "average_loss: 0.0074825445\n",
      "global_step: 20000\n",
      "label/mean: 0.2973594\n",
      "loss: 244.26018\n",
      "precision: 0.9936417\n",
      "prediction/mean: 0.2977546\n",
      "recall: 0.99814564\n"
     ]
    }
   ],
   "source": [
    "for key,value in sorted(eval_metrics.items()):\n",
    "  print('%s: %s' % (key, value))"
   ]
  },
  {
   "cell_type": "code",
   "execution_count": 450,
   "metadata": {},
   "outputs": [
    {
     "name": "stdout",
     "output_type": "stream",
     "text": [
      "INFO:tensorflow:Calling model_fn.\n",
      "INFO:tensorflow:Done calling model_fn.\n",
      "INFO:tensorflow:Graph was finalized.\n",
      "INFO:tensorflow:Restoring parameters from /home/matz/Desktop/ml_ids/NN_model2/model.ckpt-20000\n",
      "INFO:tensorflow:Running local_init_op.\n",
      "INFO:tensorflow:Done running local_init_op.\n"
     ]
    }
   ],
   "source": [
    "results = []\n",
    "results = list(model.predict(input_fn=get_input_fn(test, num_epochs=1, n_batch = X_test.shape[0], shuffle=False)))"
   ]
  },
  {
   "cell_type": "code",
   "execution_count": 451,
   "metadata": {},
   "outputs": [],
   "source": [
    "y_pred = []\n",
    "for el in results:\n",
    "    y_pred.append(el[\"class_ids\"])"
   ]
  },
  {
   "cell_type": "code",
   "execution_count": 452,
   "metadata": {},
   "outputs": [
    {
     "name": "stdout",
     "output_type": "stream",
     "text": [
      "NN Accuracy: 0.98484, F1-score: 0.99199, Precision: 0.99313, Recall: 0.99086, FPR: 0.12478\n",
      "TN: 1487; FP: 212; FN:  283; TP: 30663\n",
      "\n"
     ]
    }
   ],
   "source": [
    "name = \"NN\"\n",
    "\n",
    "Acc = {}\n",
    "F1S = {}\n",
    "Prec = {}\n",
    "Rec = {}\n",
    "FPR = {}\n",
    "\n",
    "Acc[name] = metrics.accuracy_score(test[\"attack_flag\"], y_pred)\n",
    "F1S[name] = metrics.f1_score(test[\"attack_flag\"], y_pred)\n",
    "Prec[name] = metrics.precision_score(test[\"attack_flag\"], y_pred)\n",
    "Rec[name] = metrics.recall_score(test[\"attack_flag\"], y_pred)\n",
    "tn, fp, fn, tp = metrics.confusion_matrix(test[\"attack_flag\"], y_pred).ravel()\n",
    "FPR[name] = fp/(fp+tn)\n",
    "\n",
    "print(\"{0:2} Accuracy: {1:.5f}, F1-score: {2:.5f}, Precision: {3:.5f}, Recall: {4:.5f}, FPR: {5:.5f}\".format(name, Acc[name], F1S[name], Prec[name], Rec[name], FPR[name]))\n",
    "print(\"TN: {0:3}; FP: {1:3}; FN: {2:4}; TP: {3:3}\\n\".format(tn, fp, fn, tp))"
   ]
  },
  {
   "cell_type": "markdown",
   "metadata": {},
   "source": [
    "## New data prediction"
   ]
  },
  {
   "cell_type": "code",
   "execution_count": 286,
   "metadata": {},
   "outputs": [
    {
     "name": "stdout",
     "output_type": "stream",
     "text": [
      "Counter({-1: 189082, 1: 12436})\n"
     ]
    }
   ],
   "source": [
    "test_set = pd.read_csv(\"20151220.txt\", sep = \"\\t\", header = None)\n",
    "test_set.columns = [\"conn_len\", \"service\", \"src_bytes\", \"dst_bytes\", \"conn_numb\", \"Same_srv_rate\", \"Serror_rate\", \"Srv_serror_rate\", \"Dst_host_count\", \"Dst_host_srv_count\", \"Dst_host_same_src_port_rate\", \"Dst_host_serror_rate\", \"Dst_host_srv_serror_rate\", \"Conn_state\", \"IDS_detection\", \"Malware_detection\", \"Ashula_detection\", \"attack_flag\", \"src_IP\", \"src_port\", \"dst_IP\", \"dst_port\", \"start_time\", \"proto\"]\n",
    "print(Counter(test_set[\"attack_flag\"]))"
   ]
  },
  {
   "cell_type": "code",
   "execution_count": 65,
   "metadata": {},
   "outputs": [],
   "source": [
    "test_set.loc[:, \"attack_flag\"] = test_set.loc[:,\"attack_flag\"].replace(-2, -1)\n",
    "test_set.loc[:, \"attack_flag\"] = test_set.loc[:, \"attack_flag\"] * -1\n",
    "test_set.loc[:, \"attack_flag\"] = test_set.loc[:,\"attack_flag\"].replace(-1, 0)"
   ]
  },
  {
   "cell_type": "code",
   "execution_count": 27,
   "metadata": {},
   "outputs": [
    {
     "data": {
      "text/plain": [
       "(201518, 24)"
      ]
     },
     "execution_count": 27,
     "metadata": {},
     "output_type": "execute_result"
    }
   ],
   "source": [
    "# removing NaNs\n",
    "test_set = test_set.dropna()\n",
    "test_set.shape"
   ]
  },
  {
   "cell_type": "code",
   "execution_count": 28,
   "metadata": {},
   "outputs": [],
   "source": [
    "test_set[\"well_known_src_pool\"] = test_set.apply(wk, axis=1)\n",
    "test_set[\"registered_src_pool\"] = test_set.apply(reg, axis=1)\n",
    "test_set[\"cli_src_pool\"] = test_set.apply(cli, axis=1)"
   ]
  },
  {
   "cell_type": "code",
   "execution_count": 29,
   "metadata": {},
   "outputs": [],
   "source": [
    "test_set[\"src_port\"] = test_set[\"src_port\"].apply(str)\n",
    "test_set[\"dst_port\"] = test_set[\"dst_port\"].apply(str)"
   ]
  },
  {
   "cell_type": "code",
   "execution_count": 30,
   "metadata": {
    "scrolled": true
   },
   "outputs": [
    {
     "name": "stdout",
     "output_type": "stream",
     "text": [
      "(30000, 27)\n"
     ]
    }
   ],
   "source": [
    "#test_new_data = test_set.sample(n=30000, random_state=1)\n",
    "test_new_data = test_set.loc[range(30000), :]\n",
    "test_new_data = test_new_data.sample(frac=1)\n",
    "y_test_new_data = test_new_data.loc[:, \"attack_flag\"].values.ravel()\n",
    "X_test_new_data = test_new_data.drop([\"attack_flag\"], axis=1)\n",
    "print(test_new_data.shape)"
   ]
  },
  {
   "cell_type": "code",
   "execution_count": 31,
   "metadata": {},
   "outputs": [
    {
     "name": "stdout",
     "output_type": "stream",
     "text": [
      "Counter({1: 29540, 0: 460})\n"
     ]
    }
   ],
   "source": [
    "print(Counter(test_new_data[\"attack_flag\"]))"
   ]
  },
  {
   "cell_type": "code",
   "execution_count": 32,
   "metadata": {},
   "outputs": [
    {
     "name": "stdout",
     "output_type": "stream",
     "text": [
      "INFO:tensorflow:Calling model_fn.\n",
      "INFO:tensorflow:Done calling model_fn.\n",
      "INFO:tensorflow:Graph was finalized.\n",
      "INFO:tensorflow:Restoring parameters from /home/matz/Desktop/ml_ids/NN_model/model.ckpt-10000\n",
      "INFO:tensorflow:Running local_init_op.\n",
      "INFO:tensorflow:Done running local_init_op.\n"
     ]
    }
   ],
   "source": [
    "results = []\n",
    "results = list(model.predict(input_fn=get_input_fn(test_new_data, num_epochs=1, n_batch = X_test.shape[0], shuffle=False)))"
   ]
  },
  {
   "cell_type": "code",
   "execution_count": 33,
   "metadata": {},
   "outputs": [],
   "source": [
    "y_pred = []\n",
    "for el in results:\n",
    "    y_pred.append(el[\"class_ids\"])"
   ]
  },
  {
   "cell_type": "code",
   "execution_count": 34,
   "metadata": {},
   "outputs": [
    {
     "name": "stdout",
     "output_type": "stream",
     "text": [
      "NN Accuracy: 0.98410, F1-score: 0.99192, Precision: 0.99284, Recall: 0.99100, FPR: 0.45870\n",
      "TN: 249; FP: 211; FN:  266; TP: 29274\n",
      "\n"
     ]
    }
   ],
   "source": [
    "name = \"NN\"\n",
    "\n",
    "Acc = {}\n",
    "F1S = {}\n",
    "Prec = {}\n",
    "Rec = {}\n",
    "FPR = {}\n",
    "\n",
    "Acc[name] = metrics.accuracy_score(y_test_new_data, y_pred)\n",
    "F1S[name] = metrics.f1_score(y_test_new_data, y_pred)\n",
    "Prec[name] = metrics.precision_score(y_test_new_data, y_pred)\n",
    "Rec[name] = metrics.recall_score(y_test_new_data, y_pred)\n",
    "tn, fp, fn, tp = metrics.confusion_matrix(y_test_new_data, y_pred).ravel()\n",
    "FPR[name] = fp/(fp+tn)\n",
    "\n",
    "print(\"{0:2} Accuracy: {1:.5f}, F1-score: {2:.5f}, Precision: {3:.5f}, Recall: {4:.5f}, FPR: {5:.5f}\".format(name, Acc[name], F1S[name], Prec[name], Rec[name], FPR[name]))\n",
    "print(\"TN: {0:3}; FP: {1:3}; FN: {2:4}; TP: {3:3}\\n\".format(tn, fp, fn, tp))"
   ]
  },
  {
   "cell_type": "code",
   "execution_count": null,
   "metadata": {},
   "outputs": [],
   "source": []
  },
  {
   "cell_type": "code",
   "execution_count": null,
   "metadata": {},
   "outputs": [],
   "source": []
  }
 ],
 "metadata": {
  "kernelspec": {
   "display_name": "Python 3",
   "language": "python",
   "name": "python3"
  },
  "language_info": {
   "codemirror_mode": {
    "name": "ipython",
    "version": 3
   },
   "file_extension": ".py",
   "mimetype": "text/x-python",
   "name": "python",
   "nbconvert_exporter": "python",
   "pygments_lexer": "ipython3",
   "version": "3.6.7"
  }
 },
 "nbformat": 4,
 "nbformat_minor": 2
}
