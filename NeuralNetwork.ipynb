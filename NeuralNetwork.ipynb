{
 "cells": [
  {
   "cell_type": "code",
   "execution_count": 5,
   "metadata": {},
   "outputs": [],
   "source": [
    "import pandas as pd\n",
    "import matplotlib.pyplot as plt\n",
    "import numpy as np\n",
    "\n",
    "%matplotlib inline \n",
    "%config IPCompleter.greedy=True\n",
    "\n",
    "import collections\n",
    "import io\n",
    "import math\n",
    "import tensorflow as tf\n",
    "from IPython import display\n",
    "from sklearn import metrics"
   ]
  },
  {
   "cell_type": "markdown",
   "metadata": {},
   "source": [
    "\n",
    "## Reading data from file"
   ]
  },
  {
   "cell_type": "code",
   "execution_count": 6,
   "metadata": {},
   "outputs": [
    {
     "name": "stdout",
     "output_type": "stream",
     "text": [
      "Counter({-1: 149915, 1: 67713})\n"
     ]
    }
   ],
   "source": [
    "from collections import Counter\n",
    "\n",
    "### main dataset ###\n",
    "data = pd.read_csv(\"20151219.txt\", sep = \"\\t\", header = None)\n",
    "data.columns = [\"conn_len\", \"service\", \"src_bytes\", \"dst_bytes\", \"conn_numb\", \"Same_srv_rate\", \"Serror_rate\", \"Srv_serror_rate\", \"Dst_host_count\", \"Dst_host_srv_count\", \"Dst_host_same_src_port_rate\", \"Dst_host_serror_rate\", \"Dst_host_srv_serror_rate\", \"Conn_state\", \"IDS_detection\", \"Malware_detection\", \"Ashula_detection\", \"attack_flag\", \"src_IP\", \"src_port\", \"dst_IP\", \"dst_port\", \"start_time\", \"proto\"]\n",
    "\n",
    "print(Counter(data[\"attack_flag\"]))"
   ]
  },
  {
   "cell_type": "markdown",
   "metadata": {},
   "source": [
    "## Transform to binary"
   ]
  },
  {
   "cell_type": "code",
   "execution_count": 7,
   "metadata": {},
   "outputs": [
    {
     "name": "stdout",
     "output_type": "stream",
     "text": [
      "Counter({1: 149915, 0: 67713})\n"
     ]
    }
   ],
   "source": [
    "data.loc[:, \"attack_flag\"] = data.loc[:,\"attack_flag\"].replace(-2, -1)\n",
    "data.loc[:, \"attack_flag\"] = data.loc[:, \"attack_flag\"] * -1\n",
    "data.loc[:, \"attack_flag\"] = data.loc[:,\"attack_flag\"].replace(-1, 0)\n",
    "\n",
    "print(Counter(data[\"attack_flag\"]))"
   ]
  },
  {
   "cell_type": "code",
   "execution_count": 8,
   "metadata": {},
   "outputs": [
    {
     "data": {
      "text/plain": [
       "(217628, 24)"
      ]
     },
     "execution_count": 8,
     "metadata": {},
     "output_type": "execute_result"
    }
   ],
   "source": [
    "# removing NaNs\n",
    "data = data.dropna()\n",
    "data.shape"
   ]
  },
  {
   "cell_type": "markdown",
   "metadata": {},
   "source": [
    "# a bit of feature engineering"
   ]
  },
  {
   "cell_type": "markdown",
   "metadata": {},
   "source": [
    "## port numbers classification"
   ]
  },
  {
   "cell_type": "code",
   "execution_count": 9,
   "metadata": {},
   "outputs": [],
   "source": [
    "t1 = 1023  # well-known port numbers\n",
    "t2 = 49151 # registered ports\n",
    "t3 = 65535 # client ports\n",
    "\n",
    "def wk(data_row):\n",
    "    if (data_row[\"src_port\"] <= t1): \n",
    "        value = 1\n",
    "    elif ((data_row[\"src_port\"] > t1) and (data_row[\"src_port\"] <= t2)):\n",
    "        value = 0\n",
    "    elif ((data_row[\"src_port\"] > t2) and (data_row[\"src_port\"] <= t3)):\n",
    "        value = 0\n",
    "    return value\n",
    "\n",
    "def reg(data_row):\n",
    "    if (data_row[\"src_port\"] <= t1): \n",
    "        value = 0\n",
    "    elif ((data_row[\"src_port\"] > t1) and (data_row[\"src_port\"] <= t2)):\n",
    "        value = 1\n",
    "    elif ((data_row[\"src_port\"] > t2) and (data_row[\"src_port\"] <= t3)):\n",
    "        value = 0\n",
    "    return value\n",
    "\n",
    "def cli(data_row):\n",
    "    if (data_row[\"src_port\"] <= t1): \n",
    "        value = 0\n",
    "    elif ((data_row[\"src_port\"] > t1) and (data_row[\"src_port\"] <= t2)):\n",
    "        value = 0\n",
    "    elif ((data_row[\"src_port\"] > t2) and (data_row[\"src_port\"] <= t3)):\n",
    "        value = 1\n",
    "    return value\n",
    "\n",
    "data[\"well_known_src_pool\"] = data.apply(wk, axis=1)\n",
    "data[\"registered_src_pool\"] = data.apply(reg, axis=1)\n",
    "data[\"cli_src_pool\"] = data.apply(cli, axis=1)"
   ]
  },
  {
   "cell_type": "code",
   "execution_count": 39,
   "metadata": {},
   "outputs": [],
   "source": [
    "data[\"src_port\"] = data[\"src_port\"].apply(str)\n",
    "data[\"dst_port\"] = data[\"dst_port\"].apply(str)"
   ]
  },
  {
   "cell_type": "code",
   "execution_count": 40,
   "metadata": {},
   "outputs": [
    {
     "name": "stdout",
     "output_type": "stream",
     "text": [
      "(152339, 27)\n",
      "(32644, 27)\n",
      "(32645, 27)\n"
     ]
    }
   ],
   "source": [
    "train, validate, test = np.split(data, [int(.7*len(data)), int(.85*len(data))])\n",
    "train = train.sample(frac=1)\n",
    "validate = validate.sample(frac=1)\n",
    "test = test.sample(frac=1)\n",
    "y_train = train.loc[:, \"attack_flag\"].values.ravel()\n",
    "X_train = train.drop([\"attack_flag\"], axis=1)\n",
    "y_validate = validate.loc[:, \"attack_flag\"].values.ravel()\n",
    "X_validate = validate.drop([\"attack_flag\"], axis=1)\n",
    "y_test = test.loc[:, \"attack_flag\"].values.ravel()\n",
    "X_test = test.drop([\"attack_flag\"], axis=1)\n",
    "print(train.shape)\n",
    "print(validate.shape)\n",
    "print(test.shape)"
   ]
  },
  {
   "cell_type": "code",
   "execution_count": 41,
   "metadata": {},
   "outputs": [],
   "source": [
    "deep_numeric_feat = [\"Same_srv_rate\", \"Serror_rate\", \"Srv_serror_rate\", \"Dst_host_count\", \"Dst_host_srv_count\", \"Dst_host_same_src_port_rate\", \"Dst_host_serror_rate\", \"Dst_host_srv_serror_rate\", \"well_known_src_pool\", \"registered_src_pool\", \"cli_src_pool\"]\n",
    "wide_numeric_feat = [\"conn_len\",  \"src_bytes\", \"dst_bytes\", \"conn_numb\"]\n",
    "categorical_feat = [\"service\", \"Conn_state\", \"src_port\", \"dst_port\", \"proto\"]"
   ]
  },
  {
   "cell_type": "code",
   "execution_count": 42,
   "metadata": {},
   "outputs": [],
   "source": [
    "deep_numeric_feat_tf = [tf.feature_column.numeric_column(k) for k in deep_numeric_feat]\n",
    "wide_numeric_feat_tf = [tf.feature_column.numeric_column(k) for k in wide_numeric_feat]"
   ]
  },
  {
   "cell_type": "code",
   "execution_count": 43,
   "metadata": {},
   "outputs": [],
   "source": [
    "#data[\"src_port\"].unique().tolist()"
   ]
  },
  {
   "cell_type": "code",
   "execution_count": 44,
   "metadata": {},
   "outputs": [],
   "source": [
    "src_port_mod = [\"src_\" + s for s in data[\"src_port\"].unique().tolist()]\n",
    "src_port = tf.feature_column.categorical_column_with_vocabulary_list(\n",
    "    'src_port', src_port_mod)\n",
    "\n",
    "dst_port_mod = [\"dst_\" + s for s in data[\"dst_port\"].unique().tolist()]\n",
    "dst_port = tf.feature_column.categorical_column_with_vocabulary_list(\n",
    "    'dst_port', dst_port_mod)\n",
    "\n",
    "service = tf.feature_column.categorical_column_with_vocabulary_list(\n",
    "    'service', data[\"service\"].unique().tolist())\n",
    "\n",
    "Conn_state = tf.feature_column.categorical_column_with_vocabulary_list(\n",
    "    'Conn_state', data[\"Conn_state\"].unique().tolist())\n",
    "\n",
    "proto = tf.feature_column.categorical_column_with_vocabulary_list(\n",
    "    'proto', data[\"proto\"].unique().tolist())"
   ]
  },
  {
   "cell_type": "code",
   "execution_count": 45,
   "metadata": {},
   "outputs": [],
   "source": [
    "deep_columns = [\n",
    "    tf.feature_column.indicator_column(service),\n",
    "    tf.feature_column.indicator_column(Conn_state),\n",
    "    tf.feature_column.indicator_column(proto),\n",
    "    tf.feature_column.embedding_column(src_port, dimension=10),\n",
    "    tf.feature_column.embedding_column(dst_port, dimension=3),\n",
    "]"
   ]
  },
  {
   "cell_type": "code",
   "execution_count": 46,
   "metadata": {},
   "outputs": [],
   "source": [
    "crossed_columns = [\n",
    "      tf.feature_column.crossed_column(\n",
    "          ['src_port', 'service'], hash_bucket_size=10000),\n",
    "      tf.feature_column.crossed_column(\n",
    "          ['service', 'proto'], hash_bucket_size=10000),\n",
    "  ]"
   ]
  },
  {
   "cell_type": "code",
   "execution_count": 199,
   "metadata": {},
   "outputs": [
    {
     "name": "stdout",
     "output_type": "stream",
     "text": [
      "INFO:tensorflow:Using default config.\n",
      "INFO:tensorflow:Using config: {'_model_dir': '/home/matz/Desktop/ml_ids/NN_model', '_tf_random_seed': None, '_save_summary_steps': 100, '_save_checkpoints_steps': None, '_save_checkpoints_secs': 600, '_session_config': allow_soft_placement: true\n",
      "graph_options {\n",
      "  rewrite_options {\n",
      "    meta_optimizer_iterations: ONE\n",
      "  }\n",
      "}\n",
      ", '_keep_checkpoint_max': 5, '_keep_checkpoint_every_n_hours': 10000, '_log_step_count_steps': 100, '_train_distribute': None, '_device_fn': None, '_protocol': None, '_eval_distribute': None, '_experimental_distribute': None, '_service': None, '_cluster_spec': <tensorflow.python.training.server_lib.ClusterSpec object at 0x7f7112ecd470>, '_task_type': 'worker', '_task_id': 0, '_global_id_in_cluster': 0, '_master': '', '_evaluation_master': '', '_is_chief': True, '_num_ps_replicas': 0, '_num_worker_replicas': 1}\n"
     ]
    }
   ],
   "source": [
    "model = tf.estimator.DNNLinearCombinedClassifier(\n",
    "    model_dir = \"/home/matz/Desktop/ml_ids/NN_model\",\n",
    "    dnn_activation_fn=tf.nn.selu,\n",
    "    linear_feature_columns = wide_numeric_feat_tf + crossed_columns,\n",
    "    dnn_feature_columns = deep_columns + deep_numeric_feat_tf + wide_numeric_feat_tf,\n",
    "    dnn_hidden_units = [450, 250, 150, 100, 75])"
   ]
  },
  {
   "cell_type": "code",
   "execution_count": 200,
   "metadata": {},
   "outputs": [],
   "source": [
    "feature_set= deep_numeric_feat + wide_numeric_feat + categorical_feat"
   ]
  },
  {
   "cell_type": "code",
   "execution_count": 201,
   "metadata": {},
   "outputs": [],
   "source": [
    "def get_input_fn(data_set, num_epochs=None, n_batch = 256, shuffle=True):\n",
    "    return tf.estimator.inputs.pandas_input_fn(\n",
    "       x=pd.DataFrame({k: data_set[k].values for k in feature_set}),\n",
    "       y = pd.Series(data_set[\"attack_flag\"].values),\n",
    "       batch_size=n_batch,   \n",
    "       num_epochs=num_epochs,\n",
    "       shuffle=shuffle)"
   ]
  },
  {
   "cell_type": "code",
   "execution_count": 202,
   "metadata": {},
   "outputs": [
    {
     "data": {
      "text/plain": [
       "<function tensorflow.python.estimator.inputs.pandas_io.pandas_input_fn.<locals>.input_fn()>"
      ]
     },
     "execution_count": 202,
     "metadata": {},
     "output_type": "execute_result"
    }
   ],
   "source": [
    "get_input_fn(test, n_batch=test.shape[0], shuffle=False)"
   ]
  },
  {
   "cell_type": "code",
   "execution_count": 203,
   "metadata": {},
   "outputs": [
    {
     "name": "stdout",
     "output_type": "stream",
     "text": [
      "INFO:tensorflow:Calling model_fn.\n",
      "INFO:tensorflow:Done calling model_fn.\n",
      "INFO:tensorflow:Create CheckpointSaverHook.\n",
      "INFO:tensorflow:Graph was finalized.\n",
      "INFO:tensorflow:Running local_init_op.\n",
      "INFO:tensorflow:Done running local_init_op.\n",
      "INFO:tensorflow:Saving checkpoints for 0 into /home/matz/Desktop/ml_ids/NN_model/model.ckpt.\n",
      "INFO:tensorflow:loss = 259.7089, step = 1\n",
      "INFO:tensorflow:global_step/sec: 95.167\n",
      "INFO:tensorflow:loss = 6.9870553, step = 101 (1.052 sec)\n",
      "INFO:tensorflow:global_step/sec: 121.199\n",
      "INFO:tensorflow:loss = 10.875296, step = 201 (0.825 sec)\n",
      "INFO:tensorflow:global_step/sec: 118.978\n",
      "INFO:tensorflow:loss = 10.733358, step = 301 (0.840 sec)\n",
      "INFO:tensorflow:global_step/sec: 120.953\n",
      "INFO:tensorflow:loss = 6.92017, step = 401 (0.827 sec)\n",
      "INFO:tensorflow:global_step/sec: 114.472\n",
      "INFO:tensorflow:loss = 6.7706556, step = 501 (0.874 sec)\n",
      "INFO:tensorflow:global_step/sec: 106.207\n",
      "INFO:tensorflow:loss = 7.182241, step = 601 (0.941 sec)\n",
      "INFO:tensorflow:global_step/sec: 94.6228\n",
      "INFO:tensorflow:loss = 15.165023, step = 701 (1.056 sec)\n",
      "INFO:tensorflow:global_step/sec: 87.3493\n",
      "INFO:tensorflow:loss = 15.38446, step = 801 (1.144 sec)\n",
      "INFO:tensorflow:global_step/sec: 108.763\n",
      "INFO:tensorflow:loss = 4.277117, step = 901 (0.920 sec)\n",
      "INFO:tensorflow:global_step/sec: 104.896\n",
      "INFO:tensorflow:loss = 4.8418427, step = 1001 (0.953 sec)\n",
      "INFO:tensorflow:global_step/sec: 109.991\n",
      "INFO:tensorflow:loss = 7.80425, step = 1101 (0.909 sec)\n",
      "INFO:tensorflow:global_step/sec: 113.953\n",
      "INFO:tensorflow:loss = 4.2359357, step = 1201 (0.877 sec)\n",
      "INFO:tensorflow:global_step/sec: 102.6\n",
      "INFO:tensorflow:loss = 2.4311223, step = 1301 (0.975 sec)\n",
      "INFO:tensorflow:global_step/sec: 105.336\n",
      "INFO:tensorflow:loss = 12.33297, step = 1401 (0.949 sec)\n",
      "INFO:tensorflow:global_step/sec: 101.62\n",
      "INFO:tensorflow:loss = 2.4273744, step = 1501 (0.984 sec)\n",
      "INFO:tensorflow:global_step/sec: 99.161\n",
      "INFO:tensorflow:loss = 2.3050098, step = 1601 (1.009 sec)\n",
      "INFO:tensorflow:global_step/sec: 112.924\n",
      "INFO:tensorflow:loss = 2.6663008, step = 1701 (0.885 sec)\n",
      "INFO:tensorflow:global_step/sec: 112.552\n",
      "INFO:tensorflow:loss = 6.8657455, step = 1801 (0.888 sec)\n",
      "INFO:tensorflow:global_step/sec: 116.114\n",
      "INFO:tensorflow:loss = 2.364995, step = 1901 (0.861 sec)\n",
      "INFO:tensorflow:global_step/sec: 113.699\n",
      "INFO:tensorflow:loss = 5.2878485, step = 2001 (0.880 sec)\n",
      "INFO:tensorflow:global_step/sec: 114.83\n",
      "INFO:tensorflow:loss = 1.3654952, step = 2101 (0.870 sec)\n",
      "INFO:tensorflow:global_step/sec: 130.229\n",
      "INFO:tensorflow:loss = 10.699228, step = 2201 (0.768 sec)\n",
      "INFO:tensorflow:global_step/sec: 120.856\n",
      "INFO:tensorflow:loss = 3.3846874, step = 2301 (0.828 sec)\n",
      "INFO:tensorflow:global_step/sec: 117.462\n",
      "INFO:tensorflow:loss = 9.258284, step = 2401 (0.851 sec)\n",
      "INFO:tensorflow:global_step/sec: 112.451\n",
      "INFO:tensorflow:loss = 6.355389, step = 2501 (0.889 sec)\n",
      "INFO:tensorflow:global_step/sec: 114.846\n",
      "INFO:tensorflow:loss = 9.828514, step = 2601 (0.871 sec)\n",
      "INFO:tensorflow:global_step/sec: 117.721\n",
      "INFO:tensorflow:loss = 4.2973065, step = 2701 (0.849 sec)\n",
      "INFO:tensorflow:global_step/sec: 112.992\n",
      "INFO:tensorflow:loss = 4.89927, step = 2801 (0.886 sec)\n",
      "INFO:tensorflow:global_step/sec: 112.417\n",
      "INFO:tensorflow:loss = 4.531826, step = 2901 (0.889 sec)\n",
      "INFO:tensorflow:global_step/sec: 130.756\n",
      "INFO:tensorflow:loss = 6.554125, step = 3001 (0.766 sec)\n",
      "INFO:tensorflow:global_step/sec: 126.629\n",
      "INFO:tensorflow:loss = 9.872836, step = 3101 (0.788 sec)\n",
      "INFO:tensorflow:global_step/sec: 108.832\n",
      "INFO:tensorflow:loss = 2.4891434, step = 3201 (0.919 sec)\n",
      "INFO:tensorflow:global_step/sec: 120.862\n",
      "INFO:tensorflow:loss = 4.397008, step = 3301 (0.827 sec)\n",
      "INFO:tensorflow:global_step/sec: 121.958\n",
      "INFO:tensorflow:loss = 5.280966, step = 3401 (0.820 sec)\n",
      "INFO:tensorflow:global_step/sec: 120.882\n",
      "INFO:tensorflow:loss = 8.948129, step = 3501 (0.828 sec)\n",
      "INFO:tensorflow:global_step/sec: 125.669\n",
      "INFO:tensorflow:loss = 7.4181943, step = 3601 (0.796 sec)\n",
      "INFO:tensorflow:global_step/sec: 126.394\n",
      "INFO:tensorflow:loss = 5.926541, step = 3701 (0.791 sec)\n",
      "INFO:tensorflow:global_step/sec: 116.957\n",
      "INFO:tensorflow:loss = 4.235914, step = 3801 (0.855 sec)\n",
      "INFO:tensorflow:global_step/sec: 114.144\n",
      "INFO:tensorflow:loss = 7.361599, step = 3901 (0.876 sec)\n",
      "INFO:tensorflow:global_step/sec: 120.234\n",
      "INFO:tensorflow:loss = 1.9853878, step = 4001 (0.832 sec)\n",
      "INFO:tensorflow:global_step/sec: 125.912\n",
      "INFO:tensorflow:loss = 9.643, step = 4101 (0.794 sec)\n",
      "INFO:tensorflow:global_step/sec: 131.293\n",
      "INFO:tensorflow:loss = 3.539925, step = 4201 (0.762 sec)\n",
      "INFO:tensorflow:global_step/sec: 110.06\n",
      "INFO:tensorflow:loss = 3.5525646, step = 4301 (0.909 sec)\n",
      "INFO:tensorflow:global_step/sec: 112.182\n",
      "INFO:tensorflow:loss = 8.694848, step = 4401 (0.891 sec)\n",
      "INFO:tensorflow:global_step/sec: 109.116\n",
      "INFO:tensorflow:loss = 5.0083346, step = 4501 (0.917 sec)\n",
      "INFO:tensorflow:global_step/sec: 117.428\n",
      "INFO:tensorflow:loss = 12.627771, step = 4601 (0.851 sec)\n",
      "INFO:tensorflow:global_step/sec: 101.919\n",
      "INFO:tensorflow:loss = 2.8038301, step = 4701 (0.981 sec)\n",
      "INFO:tensorflow:global_step/sec: 117.868\n",
      "INFO:tensorflow:loss = 5.3896933, step = 4801 (0.848 sec)\n",
      "INFO:tensorflow:global_step/sec: 111.293\n",
      "INFO:tensorflow:loss = 14.739443, step = 4901 (0.899 sec)\n",
      "INFO:tensorflow:global_step/sec: 97.5762\n",
      "INFO:tensorflow:loss = 4.684597, step = 5001 (1.025 sec)\n",
      "INFO:tensorflow:global_step/sec: 98.3032\n",
      "INFO:tensorflow:loss = 12.340456, step = 5101 (1.017 sec)\n",
      "INFO:tensorflow:global_step/sec: 120.507\n",
      "INFO:tensorflow:loss = 12.225796, step = 5201 (0.830 sec)\n",
      "INFO:tensorflow:global_step/sec: 116.21\n",
      "INFO:tensorflow:loss = 5.605456, step = 5301 (0.861 sec)\n",
      "INFO:tensorflow:global_step/sec: 116.875\n",
      "INFO:tensorflow:loss = 1.9860457, step = 5401 (0.855 sec)\n",
      "INFO:tensorflow:global_step/sec: 124.018\n",
      "INFO:tensorflow:loss = 2.2519479, step = 5501 (0.806 sec)\n",
      "INFO:tensorflow:global_step/sec: 120.625\n",
      "INFO:tensorflow:loss = 9.818562, step = 5601 (0.829 sec)\n",
      "INFO:tensorflow:global_step/sec: 122.187\n",
      "INFO:tensorflow:loss = 14.574999, step = 5701 (0.818 sec)\n",
      "INFO:tensorflow:global_step/sec: 124.891\n",
      "INFO:tensorflow:loss = 2.7274137, step = 5801 (0.801 sec)\n",
      "INFO:tensorflow:global_step/sec: 128.304\n",
      "INFO:tensorflow:loss = 19.189762, step = 5901 (0.780 sec)\n",
      "INFO:tensorflow:global_step/sec: 123.677\n",
      "INFO:tensorflow:loss = 3.1144423, step = 6001 (0.808 sec)\n",
      "INFO:tensorflow:global_step/sec: 118.369\n",
      "INFO:tensorflow:loss = 8.579659, step = 6101 (0.845 sec)\n",
      "INFO:tensorflow:global_step/sec: 136.347\n",
      "INFO:tensorflow:loss = 4.4941063, step = 6201 (0.734 sec)\n",
      "INFO:tensorflow:global_step/sec: 133.88\n",
      "INFO:tensorflow:loss = 8.135874, step = 6301 (0.747 sec)\n",
      "INFO:tensorflow:global_step/sec: 133.204\n",
      "INFO:tensorflow:loss = 2.4350805, step = 6401 (0.751 sec)\n",
      "INFO:tensorflow:global_step/sec: 124.261\n",
      "INFO:tensorflow:loss = 3.8141997, step = 6501 (0.805 sec)\n",
      "INFO:tensorflow:global_step/sec: 130.692\n",
      "INFO:tensorflow:loss = 5.081564, step = 6601 (0.765 sec)\n",
      "INFO:tensorflow:global_step/sec: 118.187\n",
      "INFO:tensorflow:loss = 5.672108, step = 6701 (0.846 sec)\n",
      "INFO:tensorflow:global_step/sec: 114.21\n",
      "INFO:tensorflow:loss = 3.1188173, step = 6801 (0.876 sec)\n",
      "INFO:tensorflow:global_step/sec: 125.879\n",
      "INFO:tensorflow:loss = 4.527375, step = 6901 (0.794 sec)\n",
      "INFO:tensorflow:global_step/sec: 117.274\n",
      "INFO:tensorflow:loss = 1.5540494, step = 7001 (0.853 sec)\n",
      "INFO:tensorflow:global_step/sec: 117.969\n",
      "INFO:tensorflow:loss = 1.9211807, step = 7101 (0.849 sec)\n",
      "INFO:tensorflow:global_step/sec: 116.09\n",
      "INFO:tensorflow:loss = 2.196177, step = 7201 (0.860 sec)\n",
      "INFO:tensorflow:global_step/sec: 102.983\n",
      "INFO:tensorflow:loss = 10.190596, step = 7301 (0.971 sec)\n",
      "INFO:tensorflow:global_step/sec: 99.3433\n",
      "INFO:tensorflow:loss = 4.6817636, step = 7401 (1.007 sec)\n",
      "INFO:tensorflow:global_step/sec: 106.463\n",
      "INFO:tensorflow:loss = 5.3735304, step = 7501 (0.939 sec)\n",
      "INFO:tensorflow:global_step/sec: 105.221\n",
      "INFO:tensorflow:loss = 11.453633, step = 7601 (0.951 sec)\n",
      "INFO:tensorflow:global_step/sec: 99.8493\n",
      "INFO:tensorflow:loss = 3.5293577, step = 7701 (1.002 sec)\n",
      "INFO:tensorflow:global_step/sec: 110.137\n",
      "INFO:tensorflow:loss = 3.3321815, step = 7801 (0.907 sec)\n",
      "INFO:tensorflow:global_step/sec: 111.29\n",
      "INFO:tensorflow:loss = 4.5226297, step = 7901 (0.898 sec)\n",
      "INFO:tensorflow:global_step/sec: 121.629\n",
      "INFO:tensorflow:loss = 4.761141, step = 8001 (0.822 sec)\n"
     ]
    },
    {
     "name": "stdout",
     "output_type": "stream",
     "text": [
      "INFO:tensorflow:global_step/sec: 130.603\n",
      "INFO:tensorflow:loss = 4.6123896, step = 8101 (0.766 sec)\n",
      "INFO:tensorflow:global_step/sec: 117.59\n",
      "INFO:tensorflow:loss = 8.977209, step = 8201 (0.851 sec)\n",
      "INFO:tensorflow:global_step/sec: 123.862\n",
      "INFO:tensorflow:loss = 0.92520106, step = 8301 (0.807 sec)\n",
      "INFO:tensorflow:global_step/sec: 124.459\n",
      "INFO:tensorflow:loss = 13.108532, step = 8401 (0.803 sec)\n",
      "INFO:tensorflow:global_step/sec: 119.654\n",
      "INFO:tensorflow:loss = 3.8155816, step = 8501 (0.836 sec)\n",
      "INFO:tensorflow:global_step/sec: 112.348\n",
      "INFO:tensorflow:loss = 10.556868, step = 8601 (0.890 sec)\n",
      "INFO:tensorflow:global_step/sec: 122.538\n",
      "INFO:tensorflow:loss = 2.8794596, step = 8701 (0.816 sec)\n",
      "INFO:tensorflow:global_step/sec: 118.461\n",
      "INFO:tensorflow:loss = 3.9880486, step = 8801 (0.844 sec)\n",
      "INFO:tensorflow:global_step/sec: 119.091\n",
      "INFO:tensorflow:loss = 15.081057, step = 8901 (0.840 sec)\n",
      "INFO:tensorflow:global_step/sec: 112.39\n",
      "INFO:tensorflow:loss = 6.555045, step = 9001 (0.890 sec)\n",
      "INFO:tensorflow:global_step/sec: 112.256\n",
      "INFO:tensorflow:loss = 9.09188, step = 9101 (0.891 sec)\n",
      "INFO:tensorflow:global_step/sec: 119.815\n",
      "INFO:tensorflow:loss = 4.9692917, step = 9201 (0.835 sec)\n",
      "INFO:tensorflow:global_step/sec: 116.953\n",
      "INFO:tensorflow:loss = 4.5964975, step = 9301 (0.855 sec)\n",
      "INFO:tensorflow:global_step/sec: 110.558\n",
      "INFO:tensorflow:loss = 6.911581, step = 9401 (0.905 sec)\n",
      "INFO:tensorflow:global_step/sec: 119.935\n",
      "INFO:tensorflow:loss = 6.94511, step = 9501 (0.834 sec)\n",
      "INFO:tensorflow:global_step/sec: 121.669\n",
      "INFO:tensorflow:loss = 15.427355, step = 9601 (0.822 sec)\n",
      "INFO:tensorflow:global_step/sec: 124.492\n",
      "INFO:tensorflow:loss = 9.080723, step = 9701 (0.803 sec)\n",
      "INFO:tensorflow:global_step/sec: 124.619\n",
      "INFO:tensorflow:loss = 13.966525, step = 9801 (0.802 sec)\n",
      "INFO:tensorflow:global_step/sec: 123.51\n",
      "INFO:tensorflow:loss = 1.6456205, step = 9901 (0.810 sec)\n",
      "INFO:tensorflow:Saving checkpoints for 10000 into /home/matz/Desktop/ml_ids/NN_model/model.ckpt.\n",
      "INFO:tensorflow:Loss for final step: 3.1343684.\n"
     ]
    },
    {
     "data": {
      "text/plain": [
       "<tensorflow.python.estimator.canned.dnn_linear_combined.DNNLinearCombinedClassifier at 0x7f7113bb93c8>"
      ]
     },
     "execution_count": 203,
     "metadata": {},
     "output_type": "execute_result"
    }
   ],
   "source": [
    "model.train(input_fn=get_input_fn(test, n_batch=256, shuffle=False), steps=10000)"
   ]
  },
  {
   "cell_type": "code",
   "execution_count": 204,
   "metadata": {},
   "outputs": [
    {
     "name": "stdout",
     "output_type": "stream",
     "text": [
      "INFO:tensorflow:Calling model_fn.\n",
      "WARNING:tensorflow:Trapezoidal rule is known to produce incorrect PR-AUCs; please switch to \"careful_interpolation\" instead.\n",
      "WARNING:tensorflow:Trapezoidal rule is known to produce incorrect PR-AUCs; please switch to \"careful_interpolation\" instead.\n",
      "INFO:tensorflow:Done calling model_fn.\n",
      "INFO:tensorflow:Starting evaluation at 2019-05-13-17:41:06\n",
      "INFO:tensorflow:Graph was finalized.\n",
      "INFO:tensorflow:Restoring parameters from /home/matz/Desktop/ml_ids/NN_model/model.ckpt-10000\n",
      "INFO:tensorflow:Running local_init_op.\n",
      "INFO:tensorflow:Done running local_init_op.\n",
      "INFO:tensorflow:Evaluation [1/1]\n",
      "INFO:tensorflow:Finished evaluation at 2019-05-13-17:41:09\n",
      "INFO:tensorflow:Saving dict for global step 10000: accuracy = 0.99390393, accuracy_baseline = 0.7026406, auc = 0.99929553, auc_precision_recall = 0.9984513, average_loss = 0.019698907, global_step = 10000, label/mean = 0.2973594, loss = 643.0511, precision = 0.9859947, prediction/mean = 0.30068684, recall = 0.9936129\n",
      "INFO:tensorflow:Saving 'checkpoint_path' summary for global step 10000: /home/matz/Desktop/ml_ids/NN_model/model.ckpt-10000\n"
     ]
    }
   ],
   "source": [
    "eval_metrics = model.evaluate(input_fn=get_input_fn(validate, n_batch=validate.shape[0], shuffle=False), steps=1)"
   ]
  },
  {
   "cell_type": "code",
   "execution_count": 205,
   "metadata": {
    "scrolled": true
   },
   "outputs": [
    {
     "name": "stdout",
     "output_type": "stream",
     "text": [
      "accuracy: 0.99390393\n",
      "accuracy_baseline: 0.7026406\n",
      "auc: 0.99929553\n",
      "auc_precision_recall: 0.9984513\n",
      "average_loss: 0.019698907\n",
      "global_step: 10000\n",
      "label/mean: 0.2973594\n",
      "loss: 643.0511\n",
      "precision: 0.9859947\n",
      "prediction/mean: 0.30068684\n",
      "recall: 0.9936129\n"
     ]
    }
   ],
   "source": [
    "for key,value in sorted(eval_metrics.items()):\n",
    "  print('%s: %s' % (key, value))"
   ]
  },
  {
   "cell_type": "code",
   "execution_count": 206,
   "metadata": {},
   "outputs": [
    {
     "name": "stdout",
     "output_type": "stream",
     "text": [
      "INFO:tensorflow:Calling model_fn.\n",
      "INFO:tensorflow:Done calling model_fn.\n",
      "INFO:tensorflow:Graph was finalized.\n",
      "INFO:tensorflow:Restoring parameters from /home/matz/Desktop/ml_ids/NN_model/model.ckpt-10000\n",
      "INFO:tensorflow:Running local_init_op.\n",
      "INFO:tensorflow:Done running local_init_op.\n"
     ]
    }
   ],
   "source": [
    "results = []\n",
    "results = list(model.predict(input_fn=get_input_fn(test, num_epochs=1, n_batch = X_test.shape[0], shuffle=False)))"
   ]
  },
  {
   "cell_type": "code",
   "execution_count": 207,
   "metadata": {},
   "outputs": [],
   "source": [
    "y_pred = []\n",
    "for el in results:\n",
    "    y_pred.append(el[\"class_ids\"])"
   ]
  },
  {
   "cell_type": "code",
   "execution_count": 208,
   "metadata": {},
   "outputs": [
    {
     "name": "stdout",
     "output_type": "stream",
     "text": [
      "NN Accuracy: 0.99210, F1-score: 0.99584, Precision: 0.99300, Recall: 0.99871, FPR: 0.12831\n",
      "TN: 1481; FP: 218; FN:   40; TP: 30906\n",
      "\n"
     ]
    }
   ],
   "source": [
    "name = \"NN\"\n",
    "\n",
    "Acc = {}\n",
    "F1S = {}\n",
    "Prec = {}\n",
    "Rec = {}\n",
    "FPR = {}\n",
    "\n",
    "Acc[name] = metrics.accuracy_score(y_test, y_pred)\n",
    "F1S[name] = metrics.f1_score(y_test, y_pred)\n",
    "Prec[name] = metrics.precision_score(y_test, y_pred)\n",
    "Rec[name] = metrics.recall_score(y_test, y_pred)\n",
    "tn, fp, fn, tp = metrics.confusion_matrix(y_test, y_pred).ravel()\n",
    "FPR[name] = fp/(fp+tn)\n",
    "\n",
    "print(\"{0:2} Accuracy: {1:.5f}, F1-score: {2:.5f}, Precision: {3:.5f}, Recall: {4:.5f}, FPR: {5:.5f}\".format(name, Acc[name], F1S[name], Prec[name], Rec[name], FPR[name]))\n",
    "print(\"TN: {0:3}; FP: {1:3}; FN: {2:4}; TP: {3:3}\\n\".format(tn, fp, fn, tp))"
   ]
  },
  {
   "cell_type": "code",
   "execution_count": null,
   "metadata": {},
   "outputs": [],
   "source": []
  },
  {
   "cell_type": "code",
   "execution_count": null,
   "metadata": {},
   "outputs": [],
   "source": []
  }
 ],
 "metadata": {
  "kernelspec": {
   "display_name": "Python 3",
   "language": "python",
   "name": "python3"
  },
  "language_info": {
   "codemirror_mode": {
    "name": "ipython",
    "version": 3
   },
   "file_extension": ".py",
   "mimetype": "text/x-python",
   "name": "python",
   "nbconvert_exporter": "python",
   "pygments_lexer": "ipython3",
   "version": "3.6.7"
  }
 },
 "nbformat": 4,
 "nbformat_minor": 2
}
