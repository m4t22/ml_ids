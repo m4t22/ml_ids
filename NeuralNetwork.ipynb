{
 "cells": [
  {
   "cell_type": "code",
   "execution_count": 1,
   "metadata": {},
   "outputs": [],
   "source": [
    "import pandas as pd\n",
    "import matplotlib.pyplot as plt\n",
    "import numpy as np\n",
    "\n",
    "%matplotlib inline \n",
    "%config IPCompleter.greedy=True\n",
    "\n",
    "import collections\n",
    "import io\n",
    "import math\n",
    "import tensorflow as tf\n",
    "from IPython import display\n",
    "from sklearn import metrics"
   ]
  },
  {
   "cell_type": "markdown",
   "metadata": {},
   "source": [
    "\n",
    "## Reading data from file"
   ]
  },
  {
   "cell_type": "code",
   "execution_count": 2,
   "metadata": {},
   "outputs": [
    {
     "name": "stdout",
     "output_type": "stream",
     "text": [
      "Counter({-1: 149915, 1: 67713})\n"
     ]
    }
   ],
   "source": [
    "from collections import Counter\n",
    "\n",
    "### main dataset ###\n",
    "data = pd.read_csv(\"20151219.txt\", sep = \"\\t\", header = None)\n",
    "data.columns = [\"conn_len\", \"service\", \"src_bytes\", \"dst_bytes\", \"conn_numb\", \"Same_srv_rate\", \"Serror_rate\", \"Srv_serror_rate\", \"Dst_host_count\", \"Dst_host_srv_count\", \"Dst_host_same_src_port_rate\", \"Dst_host_serror_rate\", \"Dst_host_srv_serror_rate\", \"Conn_state\", \"IDS_detection\", \"Malware_detection\", \"Ashula_detection\", \"attack_flag\", \"src_IP\", \"src_port\", \"dst_IP\", \"dst_port\", \"start_time\", \"proto\"]\n",
    "\n",
    "print(Counter(data[\"attack_flag\"]))"
   ]
  },
  {
   "cell_type": "markdown",
   "metadata": {},
   "source": [
    "## Transform to binary"
   ]
  },
  {
   "cell_type": "code",
   "execution_count": 3,
   "metadata": {},
   "outputs": [
    {
     "name": "stdout",
     "output_type": "stream",
     "text": [
      "Counter({1: 149915, 0: 67713})\n"
     ]
    }
   ],
   "source": [
    "data.loc[:, \"attack_flag\"] = data.loc[:,\"attack_flag\"].replace(-2, -1)\n",
    "data.loc[:, \"attack_flag\"] = data.loc[:, \"attack_flag\"] * -1\n",
    "data.loc[:, \"attack_flag\"] = data.loc[:,\"attack_flag\"].replace(-1, 0)\n",
    "\n",
    "print(Counter(data[\"attack_flag\"]))"
   ]
  },
  {
   "cell_type": "code",
   "execution_count": 4,
   "metadata": {},
   "outputs": [
    {
     "data": {
      "text/plain": [
       "(217628, 24)"
      ]
     },
     "execution_count": 4,
     "metadata": {},
     "output_type": "execute_result"
    }
   ],
   "source": [
    "# removing NaNs\n",
    "data = data.dropna()\n",
    "data.shape"
   ]
  },
  {
   "cell_type": "markdown",
   "metadata": {},
   "source": [
    "# a bit of feature engineering"
   ]
  },
  {
   "cell_type": "markdown",
   "metadata": {},
   "source": [
    "## port numbers classification"
   ]
  },
  {
   "cell_type": "code",
   "execution_count": 5,
   "metadata": {},
   "outputs": [],
   "source": [
    "t1 = 1023  # well-known port numbers\n",
    "t2 = 49151 # registered ports\n",
    "t3 = 65535 # client ports\n",
    "\n",
    "def wk(data_row):\n",
    "    if (data_row[\"src_port\"] <= t1): \n",
    "        value = 1\n",
    "    elif ((data_row[\"src_port\"] > t1) and (data_row[\"src_port\"] <= t2)):\n",
    "        value = 0\n",
    "    elif ((data_row[\"src_port\"] > t2) and (data_row[\"src_port\"] <= t3)):\n",
    "        value = 0\n",
    "    return value\n",
    "\n",
    "def reg(data_row):\n",
    "    if (data_row[\"src_port\"] <= t1): \n",
    "        value = 0\n",
    "    elif ((data_row[\"src_port\"] > t1) and (data_row[\"src_port\"] <= t2)):\n",
    "        value = 1\n",
    "    elif ((data_row[\"src_port\"] > t2) and (data_row[\"src_port\"] <= t3)):\n",
    "        value = 0\n",
    "    return value\n",
    "\n",
    "def cli(data_row):\n",
    "    if (data_row[\"src_port\"] <= t1): \n",
    "        value = 0\n",
    "    elif ((data_row[\"src_port\"] > t1) and (data_row[\"src_port\"] <= t2)):\n",
    "        value = 0\n",
    "    elif ((data_row[\"src_port\"] > t2) and (data_row[\"src_port\"] <= t3)):\n",
    "        value = 1\n",
    "    return value\n",
    "\n",
    "data[\"well_known_src_pool\"] = data.apply(wk, axis=1)\n",
    "data[\"registered_src_pool\"] = data.apply(reg, axis=1)\n",
    "data[\"cli_src_pool\"] = data.apply(cli, axis=1)"
   ]
  },
  {
   "cell_type": "code",
   "execution_count": 6,
   "metadata": {},
   "outputs": [],
   "source": [
    "data[\"src_port\"] = data[\"src_port\"].apply(str)\n",
    "data[\"dst_port\"] = data[\"dst_port\"].apply(str)"
   ]
  },
  {
   "cell_type": "code",
   "execution_count": 7,
   "metadata": {},
   "outputs": [
    {
     "name": "stdout",
     "output_type": "stream",
     "text": [
      "(152339, 27)\n",
      "(32644, 27)\n",
      "(32645, 27)\n"
     ]
    }
   ],
   "source": [
    "train, validate, test = np.split(data, [int(.7*len(data)), int(.85*len(data))])\n",
    "train = train.sample(frac=1)\n",
    "validate = validate.sample(frac=1)\n",
    "test = test.sample(frac=1)\n",
    "y_train = train.loc[:, \"attack_flag\"].values.ravel()\n",
    "X_train = train.drop([\"attack_flag\"], axis=1)\n",
    "y_validate = validate.loc[:, \"attack_flag\"].values.ravel()\n",
    "X_validate = validate.drop([\"attack_flag\"], axis=1)\n",
    "y_test = test.loc[:, \"attack_flag\"].values.ravel()\n",
    "X_test = test.drop([\"attack_flag\"], axis=1)\n",
    "print(train.shape)\n",
    "print(validate.shape)\n",
    "print(test.shape)"
   ]
  },
  {
   "cell_type": "code",
   "execution_count": 8,
   "metadata": {},
   "outputs": [],
   "source": [
    "deep_numeric_feat = [\"Same_srv_rate\", \"Serror_rate\", \"Srv_serror_rate\", \"Dst_host_count\", \"Dst_host_srv_count\", \"Dst_host_same_src_port_rate\", \"Dst_host_serror_rate\", \"Dst_host_srv_serror_rate\", \"well_known_src_pool\", \"registered_src_pool\", \"cli_src_pool\"]\n",
    "wide_numeric_feat = [\"conn_len\",  \"src_bytes\", \"dst_bytes\", \"conn_numb\"]\n",
    "categorical_feat = [\"service\", \"Conn_state\", \"src_port\", \"dst_port\", \"proto\"]"
   ]
  },
  {
   "cell_type": "code",
   "execution_count": 9,
   "metadata": {},
   "outputs": [],
   "source": [
    "deep_numeric_feat_tf = [tf.feature_column.numeric_column(k) for k in deep_numeric_feat]\n",
    "wide_numeric_feat_tf = [tf.feature_column.numeric_column(k) for k in wide_numeric_feat]"
   ]
  },
  {
   "cell_type": "code",
   "execution_count": 10,
   "metadata": {},
   "outputs": [],
   "source": [
    "#data[\"src_port\"].unique().tolist()"
   ]
  },
  {
   "cell_type": "code",
   "execution_count": 11,
   "metadata": {},
   "outputs": [],
   "source": [
    "src_port_mod = [\"src_\" + s for s in data[\"src_port\"].unique().tolist()]\n",
    "src_port = tf.feature_column.categorical_column_with_vocabulary_list(\n",
    "    'src_port', src_port_mod)\n",
    "\n",
    "dst_port_mod = [\"dst_\" + s for s in data[\"dst_port\"].unique().tolist()]\n",
    "dst_port = tf.feature_column.categorical_column_with_vocabulary_list(\n",
    "    'dst_port', dst_port_mod)\n",
    "\n",
    "service = tf.feature_column.categorical_column_with_vocabulary_list(\n",
    "    'service', data[\"service\"].unique().tolist())\n",
    "\n",
    "Conn_state = tf.feature_column.categorical_column_with_vocabulary_list(\n",
    "    'Conn_state', data[\"Conn_state\"].unique().tolist())\n",
    "\n",
    "proto = tf.feature_column.categorical_column_with_vocabulary_list(\n",
    "    'proto', data[\"proto\"].unique().tolist())"
   ]
  },
  {
   "cell_type": "code",
   "execution_count": 12,
   "metadata": {},
   "outputs": [],
   "source": [
    "deep_columns = [\n",
    "    tf.feature_column.indicator_column(service),\n",
    "    tf.feature_column.indicator_column(Conn_state),\n",
    "    tf.feature_column.indicator_column(proto),\n",
    "    tf.feature_column.embedding_column(src_port, dimension=10),\n",
    "    tf.feature_column.embedding_column(dst_port, dimension=3),\n",
    "]"
   ]
  },
  {
   "cell_type": "code",
   "execution_count": 13,
   "metadata": {},
   "outputs": [],
   "source": [
    "crossed_columns = [\n",
    "      tf.feature_column.crossed_column(\n",
    "          ['src_port', 'service'], hash_bucket_size=10000),\n",
    "      tf.feature_column.crossed_column(\n",
    "          ['service', 'proto'], hash_bucket_size=10000),\n",
    "  ]"
   ]
  },
  {
   "cell_type": "code",
   "execution_count": 120,
   "metadata": {},
   "outputs": [
    {
     "name": "stdout",
     "output_type": "stream",
     "text": [
      "INFO:tensorflow:Using default config.\n",
      "INFO:tensorflow:Using config: {'_model_dir': '/home/matz/Desktop/ml_ids/NN_model', '_tf_random_seed': None, '_save_summary_steps': 100, '_save_checkpoints_steps': None, '_save_checkpoints_secs': 600, '_session_config': allow_soft_placement: true\n",
      "graph_options {\n",
      "  rewrite_options {\n",
      "    meta_optimizer_iterations: ONE\n",
      "  }\n",
      "}\n",
      ", '_keep_checkpoint_max': 5, '_keep_checkpoint_every_n_hours': 10000, '_log_step_count_steps': 100, '_train_distribute': None, '_device_fn': None, '_protocol': None, '_eval_distribute': None, '_experimental_distribute': None, '_service': None, '_cluster_spec': <tensorflow.python.training.server_lib.ClusterSpec object at 0x7f3f014f7be0>, '_task_type': 'worker', '_task_id': 0, '_global_id_in_cluster': 0, '_master': '', '_evaluation_master': '', '_is_chief': True, '_num_ps_replicas': 0, '_num_worker_replicas': 1}\n"
     ]
    }
   ],
   "source": [
    "model = tf.estimator.DNNLinearCombinedClassifier(\n",
    "    model_dir = \"/home/matz/Desktop/ml_ids/NN_model\",\n",
    "    dnn_activation_fn=tf.nn.selu,\n",
    "    linear_feature_columns = wide_numeric_feat_tf + crossed_columns,\n",
    "    dnn_feature_columns = deep_columns + deep_numeric_feat_tf + wide_numeric_feat_tf,\n",
    "    dnn_hidden_units = [450, 250, 150, 100, 75, 50, 30])"
   ]
  },
  {
   "cell_type": "code",
   "execution_count": 121,
   "metadata": {},
   "outputs": [],
   "source": [
    "feature_set= deep_numeric_feat + wide_numeric_feat + categorical_feat"
   ]
  },
  {
   "cell_type": "code",
   "execution_count": 122,
   "metadata": {},
   "outputs": [],
   "source": [
    "def get_input_fn(data_set, num_epochs=None, n_batch = 256, shuffle=True):\n",
    "    return tf.estimator.inputs.pandas_input_fn(\n",
    "       x=pd.DataFrame({k: data_set[k].values for k in feature_set}),\n",
    "       y = pd.Series(data_set[\"attack_flag\"].values),\n",
    "       batch_size=n_batch,   \n",
    "       num_epochs=num_epochs,\n",
    "       shuffle=shuffle)"
   ]
  },
  {
   "cell_type": "code",
   "execution_count": 123,
   "metadata": {},
   "outputs": [
    {
     "data": {
      "text/plain": [
       "<function tensorflow.python.estimator.inputs.pandas_io.pandas_input_fn.<locals>.input_fn()>"
      ]
     },
     "execution_count": 123,
     "metadata": {},
     "output_type": "execute_result"
    }
   ],
   "source": [
    "get_input_fn(test, n_batch=test.shape[0], shuffle=False)"
   ]
  },
  {
   "cell_type": "code",
   "execution_count": 130,
   "metadata": {},
   "outputs": [
    {
     "name": "stdout",
     "output_type": "stream",
     "text": [
      "INFO:tensorflow:Calling model_fn.\n",
      "INFO:tensorflow:Done calling model_fn.\n",
      "INFO:tensorflow:Create CheckpointSaverHook.\n",
      "INFO:tensorflow:Graph was finalized.\n",
      "INFO:tensorflow:Running local_init_op.\n",
      "INFO:tensorflow:Done running local_init_op.\n",
      "INFO:tensorflow:Saving checkpoints for 0 into /home/matz/Desktop/ml_ids/NN_model/model.ckpt.\n",
      "INFO:tensorflow:loss = 241.21683, step = 1\n",
      "INFO:tensorflow:global_step/sec: 118.902\n",
      "INFO:tensorflow:loss = 1.4060853, step = 101 (0.842 sec)\n",
      "INFO:tensorflow:global_step/sec: 153.341\n",
      "INFO:tensorflow:loss = 12.154766, step = 201 (0.652 sec)\n",
      "INFO:tensorflow:global_step/sec: 146.129\n",
      "INFO:tensorflow:loss = 3.9353898, step = 301 (0.684 sec)\n",
      "INFO:tensorflow:global_step/sec: 138.073\n",
      "INFO:tensorflow:loss = 8.646759, step = 401 (0.725 sec)\n",
      "INFO:tensorflow:global_step/sec: 138.395\n",
      "INFO:tensorflow:loss = 8.005804, step = 501 (0.722 sec)\n",
      "INFO:tensorflow:global_step/sec: 141.182\n",
      "INFO:tensorflow:loss = 6.1037893, step = 601 (0.708 sec)\n",
      "INFO:tensorflow:global_step/sec: 141.583\n",
      "INFO:tensorflow:loss = 3.038195, step = 701 (0.706 sec)\n",
      "INFO:tensorflow:global_step/sec: 144.678\n",
      "INFO:tensorflow:loss = 1.0531386, step = 801 (0.692 sec)\n",
      "INFO:tensorflow:global_step/sec: 140.813\n",
      "INFO:tensorflow:loss = 3.9356067, step = 901 (0.710 sec)\n",
      "INFO:tensorflow:global_step/sec: 143.511\n",
      "INFO:tensorflow:loss = 5.803538, step = 1001 (0.697 sec)\n",
      "INFO:tensorflow:global_step/sec: 143.388\n",
      "INFO:tensorflow:loss = 7.479049, step = 1101 (0.698 sec)\n",
      "INFO:tensorflow:global_step/sec: 142.005\n",
      "INFO:tensorflow:loss = 11.585127, step = 1201 (0.704 sec)\n",
      "INFO:tensorflow:global_step/sec: 143.337\n",
      "INFO:tensorflow:loss = 9.01506, step = 1301 (0.698 sec)\n",
      "INFO:tensorflow:global_step/sec: 141.564\n",
      "INFO:tensorflow:loss = 7.779471, step = 1401 (0.706 sec)\n",
      "INFO:tensorflow:global_step/sec: 142.595\n",
      "INFO:tensorflow:loss = 16.26555, step = 1501 (0.701 sec)\n",
      "INFO:tensorflow:global_step/sec: 140.24\n",
      "INFO:tensorflow:loss = 1.0449797, step = 1601 (0.713 sec)\n",
      "INFO:tensorflow:global_step/sec: 143.204\n",
      "INFO:tensorflow:loss = 3.519929, step = 1701 (0.698 sec)\n",
      "INFO:tensorflow:global_step/sec: 141.682\n",
      "INFO:tensorflow:loss = 1.6571287, step = 1801 (0.706 sec)\n",
      "INFO:tensorflow:global_step/sec: 142.151\n",
      "INFO:tensorflow:loss = 1.5441511, step = 1901 (0.703 sec)\n",
      "INFO:tensorflow:global_step/sec: 140.852\n",
      "INFO:tensorflow:loss = 4.594674, step = 2001 (0.710 sec)\n",
      "INFO:tensorflow:global_step/sec: 140.551\n",
      "INFO:tensorflow:loss = 1.5896981, step = 2101 (0.711 sec)\n",
      "INFO:tensorflow:global_step/sec: 138.871\n",
      "INFO:tensorflow:loss = 5.312535, step = 2201 (0.720 sec)\n",
      "INFO:tensorflow:global_step/sec: 142.787\n",
      "INFO:tensorflow:loss = 8.244939, step = 2301 (0.701 sec)\n",
      "INFO:tensorflow:global_step/sec: 141.595\n",
      "INFO:tensorflow:loss = 14.890491, step = 2401 (0.706 sec)\n",
      "INFO:tensorflow:global_step/sec: 142.159\n",
      "INFO:tensorflow:loss = 3.1827958, step = 2501 (0.703 sec)\n",
      "INFO:tensorflow:global_step/sec: 143.976\n",
      "INFO:tensorflow:loss = 6.7051134, step = 2601 (0.695 sec)\n",
      "INFO:tensorflow:global_step/sec: 141.425\n",
      "INFO:tensorflow:loss = 2.2773547, step = 2701 (0.707 sec)\n",
      "INFO:tensorflow:global_step/sec: 140.5\n",
      "INFO:tensorflow:loss = 9.316677, step = 2801 (0.712 sec)\n",
      "INFO:tensorflow:global_step/sec: 140.294\n",
      "INFO:tensorflow:loss = 2.7351391, step = 2901 (0.713 sec)\n",
      "INFO:tensorflow:global_step/sec: 142.369\n",
      "INFO:tensorflow:loss = 2.5957723, step = 3001 (0.702 sec)\n",
      "INFO:tensorflow:global_step/sec: 142.97\n",
      "INFO:tensorflow:loss = 1.45924, step = 3101 (0.699 sec)\n",
      "INFO:tensorflow:global_step/sec: 142.683\n",
      "INFO:tensorflow:loss = 9.657907, step = 3201 (0.701 sec)\n",
      "INFO:tensorflow:global_step/sec: 140.97\n",
      "INFO:tensorflow:loss = 3.881948, step = 3301 (0.709 sec)\n",
      "INFO:tensorflow:global_step/sec: 141.846\n",
      "INFO:tensorflow:loss = 1.2664274, step = 3401 (0.705 sec)\n",
      "INFO:tensorflow:global_step/sec: 141.662\n",
      "INFO:tensorflow:loss = 2.7623298, step = 3501 (0.706 sec)\n",
      "INFO:tensorflow:global_step/sec: 141.781\n",
      "INFO:tensorflow:loss = 4.415424, step = 3601 (0.706 sec)\n",
      "INFO:tensorflow:global_step/sec: 140.636\n",
      "INFO:tensorflow:loss = 0.7610008, step = 3701 (0.711 sec)\n",
      "INFO:tensorflow:global_step/sec: 141.573\n",
      "INFO:tensorflow:loss = 3.8352227, step = 3801 (0.706 sec)\n",
      "INFO:tensorflow:global_step/sec: 142.16\n",
      "INFO:tensorflow:loss = 6.7215075, step = 3901 (0.704 sec)\n",
      "INFO:tensorflow:global_step/sec: 141.874\n",
      "INFO:tensorflow:loss = 6.840667, step = 4001 (0.705 sec)\n",
      "INFO:tensorflow:global_step/sec: 141.123\n",
      "INFO:tensorflow:loss = 4.487797, step = 4101 (0.709 sec)\n",
      "INFO:tensorflow:global_step/sec: 141.266\n",
      "INFO:tensorflow:loss = 1.871929, step = 4201 (0.708 sec)\n",
      "INFO:tensorflow:global_step/sec: 137.318\n",
      "INFO:tensorflow:loss = 5.1342607, step = 4301 (0.728 sec)\n",
      "INFO:tensorflow:global_step/sec: 142.926\n",
      "INFO:tensorflow:loss = 4.9212627, step = 4401 (0.700 sec)\n",
      "INFO:tensorflow:global_step/sec: 141.908\n",
      "INFO:tensorflow:loss = 1.2178384, step = 4501 (0.705 sec)\n",
      "INFO:tensorflow:global_step/sec: 137.376\n",
      "INFO:tensorflow:loss = 6.5285783, step = 4601 (0.729 sec)\n",
      "INFO:tensorflow:global_step/sec: 140.62\n",
      "INFO:tensorflow:loss = 1.9600079, step = 4701 (0.711 sec)\n",
      "INFO:tensorflow:global_step/sec: 141.055\n",
      "INFO:tensorflow:loss = 4.9734178, step = 4801 (0.709 sec)\n",
      "INFO:tensorflow:global_step/sec: 135.522\n",
      "INFO:tensorflow:loss = 3.0736215, step = 4901 (0.738 sec)\n",
      "INFO:tensorflow:global_step/sec: 142.463\n",
      "INFO:tensorflow:loss = 8.75349, step = 5001 (0.702 sec)\n",
      "INFO:tensorflow:global_step/sec: 140.085\n",
      "INFO:tensorflow:loss = 7.5472193, step = 5101 (0.714 sec)\n",
      "INFO:tensorflow:global_step/sec: 142.279\n",
      "INFO:tensorflow:loss = 1.1064842, step = 5201 (0.703 sec)\n",
      "INFO:tensorflow:global_step/sec: 140.857\n",
      "INFO:tensorflow:loss = 2.034463, step = 5301 (0.710 sec)\n",
      "INFO:tensorflow:global_step/sec: 141.199\n",
      "INFO:tensorflow:loss = 3.7677643, step = 5401 (0.708 sec)\n",
      "INFO:tensorflow:global_step/sec: 141.089\n",
      "INFO:tensorflow:loss = 1.1501573, step = 5501 (0.709 sec)\n",
      "INFO:tensorflow:global_step/sec: 131.622\n",
      "INFO:tensorflow:loss = 7.799278, step = 5601 (0.760 sec)\n",
      "INFO:tensorflow:global_step/sec: 122.349\n",
      "INFO:tensorflow:loss = 6.81424, step = 5701 (0.817 sec)\n",
      "INFO:tensorflow:global_step/sec: 134.023\n",
      "INFO:tensorflow:loss = 6.979641, step = 5801 (0.747 sec)\n",
      "INFO:tensorflow:global_step/sec: 131.553\n",
      "INFO:tensorflow:loss = 4.5301657, step = 5901 (0.759 sec)\n",
      "INFO:tensorflow:global_step/sec: 131.043\n",
      "INFO:tensorflow:loss = 3.5086129, step = 6001 (0.763 sec)\n",
      "INFO:tensorflow:global_step/sec: 131.7\n",
      "INFO:tensorflow:loss = 5.600335, step = 6101 (0.759 sec)\n",
      "INFO:tensorflow:global_step/sec: 130.926\n",
      "INFO:tensorflow:loss = 5.9933515, step = 6201 (0.764 sec)\n",
      "INFO:tensorflow:global_step/sec: 130.845\n",
      "INFO:tensorflow:loss = 3.2213004, step = 6301 (0.765 sec)\n",
      "INFO:tensorflow:global_step/sec: 130.609\n",
      "INFO:tensorflow:loss = 1.9815162, step = 6401 (0.766 sec)\n",
      "INFO:tensorflow:global_step/sec: 136.705\n",
      "INFO:tensorflow:loss = 2.2501204, step = 6501 (0.731 sec)\n",
      "INFO:tensorflow:global_step/sec: 130.753\n",
      "INFO:tensorflow:loss = 1.2561172, step = 6601 (0.765 sec)\n",
      "INFO:tensorflow:global_step/sec: 131.819\n",
      "INFO:tensorflow:loss = 1.6331666, step = 6701 (0.759 sec)\n",
      "INFO:tensorflow:global_step/sec: 128.725\n",
      "INFO:tensorflow:loss = 2.704156, step = 6801 (0.777 sec)\n",
      "INFO:tensorflow:global_step/sec: 124.016\n",
      "INFO:tensorflow:loss = 6.2067566, step = 6901 (0.807 sec)\n",
      "INFO:tensorflow:global_step/sec: 117.709\n",
      "INFO:tensorflow:loss = 7.066932, step = 7001 (0.849 sec)\n",
      "INFO:tensorflow:global_step/sec: 123.658\n",
      "INFO:tensorflow:loss = 1.9622512, step = 7101 (0.809 sec)\n",
      "INFO:tensorflow:global_step/sec: 105.05\n",
      "INFO:tensorflow:loss = 1.1965739, step = 7201 (0.952 sec)\n",
      "INFO:tensorflow:global_step/sec: 123.277\n",
      "INFO:tensorflow:loss = 8.368918, step = 7301 (0.811 sec)\n",
      "INFO:tensorflow:global_step/sec: 126.601\n",
      "INFO:tensorflow:loss = 1.7528201, step = 7401 (0.789 sec)\n",
      "INFO:tensorflow:global_step/sec: 136.322\n",
      "INFO:tensorflow:loss = 2.6977088, step = 7501 (0.734 sec)\n",
      "INFO:tensorflow:global_step/sec: 130.58\n",
      "INFO:tensorflow:loss = 1.5588143, step = 7601 (0.766 sec)\n",
      "INFO:tensorflow:global_step/sec: 134.288\n",
      "INFO:tensorflow:loss = 6.234829, step = 7701 (0.744 sec)\n",
      "INFO:tensorflow:global_step/sec: 118.18\n",
      "INFO:tensorflow:loss = 1.606812, step = 7801 (0.847 sec)\n",
      "INFO:tensorflow:global_step/sec: 109.727\n",
      "INFO:tensorflow:loss = 10.610552, step = 7901 (0.911 sec)\n",
      "INFO:tensorflow:global_step/sec: 105.028\n",
      "INFO:tensorflow:loss = 2.664565, step = 8001 (0.953 sec)\n"
     ]
    },
    {
     "name": "stdout",
     "output_type": "stream",
     "text": [
      "INFO:tensorflow:global_step/sec: 110.192\n",
      "INFO:tensorflow:loss = 3.9112225, step = 8101 (0.907 sec)\n",
      "INFO:tensorflow:global_step/sec: 107.984\n",
      "INFO:tensorflow:loss = 4.194467, step = 8201 (0.927 sec)\n",
      "INFO:tensorflow:global_step/sec: 113.819\n",
      "INFO:tensorflow:loss = 2.3478649, step = 8301 (0.878 sec)\n",
      "INFO:tensorflow:global_step/sec: 117.79\n",
      "INFO:tensorflow:loss = 0.6650253, step = 8401 (0.849 sec)\n",
      "INFO:tensorflow:global_step/sec: 122.518\n",
      "INFO:tensorflow:loss = 2.4722705, step = 8501 (0.816 sec)\n",
      "INFO:tensorflow:global_step/sec: 133.994\n",
      "INFO:tensorflow:loss = 11.142865, step = 8601 (0.746 sec)\n",
      "INFO:tensorflow:global_step/sec: 117.438\n",
      "INFO:tensorflow:loss = 10.620935, step = 8701 (0.852 sec)\n",
      "INFO:tensorflow:global_step/sec: 128.945\n",
      "INFO:tensorflow:loss = 7.020738, step = 8801 (0.776 sec)\n",
      "INFO:tensorflow:global_step/sec: 131.633\n",
      "INFO:tensorflow:loss = 7.2837553, step = 8901 (0.759 sec)\n",
      "INFO:tensorflow:global_step/sec: 130.973\n",
      "INFO:tensorflow:loss = 4.260781, step = 9001 (0.763 sec)\n",
      "INFO:tensorflow:global_step/sec: 130.811\n",
      "INFO:tensorflow:loss = 10.644758, step = 9101 (0.765 sec)\n",
      "INFO:tensorflow:global_step/sec: 128.624\n",
      "INFO:tensorflow:loss = 2.016898, step = 9201 (0.777 sec)\n",
      "INFO:tensorflow:global_step/sec: 137.962\n",
      "INFO:tensorflow:loss = 3.0625343, step = 9301 (0.725 sec)\n",
      "INFO:tensorflow:global_step/sec: 138.777\n",
      "INFO:tensorflow:loss = 8.742359, step = 9401 (0.721 sec)\n",
      "INFO:tensorflow:global_step/sec: 141.099\n",
      "INFO:tensorflow:loss = 7.3159847, step = 9501 (0.709 sec)\n",
      "INFO:tensorflow:global_step/sec: 143.491\n",
      "INFO:tensorflow:loss = 1.7030288, step = 9601 (0.697 sec)\n",
      "INFO:tensorflow:global_step/sec: 136.104\n",
      "INFO:tensorflow:loss = 3.1632218, step = 9701 (0.734 sec)\n",
      "INFO:tensorflow:global_step/sec: 136.701\n",
      "INFO:tensorflow:loss = 1.3447949, step = 9801 (0.732 sec)\n",
      "INFO:tensorflow:global_step/sec: 136.32\n",
      "INFO:tensorflow:loss = 3.4104123, step = 9901 (0.734 sec)\n",
      "INFO:tensorflow:Saving checkpoints for 10000 into /home/matz/Desktop/ml_ids/NN_model/model.ckpt.\n",
      "INFO:tensorflow:Loss for final step: 8.060146.\n"
     ]
    },
    {
     "data": {
      "text/plain": [
       "<tensorflow.python.estimator.canned.dnn_linear_combined.DNNLinearCombinedClassifier at 0x7f3f01561ac8>"
      ]
     },
     "execution_count": 130,
     "metadata": {},
     "output_type": "execute_result"
    }
   ],
   "source": [
    "model.train(input_fn=get_input_fn(test, n_batch=180, shuffle=False), steps=10000)"
   ]
  },
  {
   "cell_type": "code",
   "execution_count": 131,
   "metadata": {},
   "outputs": [
    {
     "name": "stdout",
     "output_type": "stream",
     "text": [
      "INFO:tensorflow:Calling model_fn.\n",
      "WARNING:tensorflow:Trapezoidal rule is known to produce incorrect PR-AUCs; please switch to \"careful_interpolation\" instead.\n",
      "WARNING:tensorflow:Trapezoidal rule is known to produce incorrect PR-AUCs; please switch to \"careful_interpolation\" instead.\n",
      "INFO:tensorflow:Done calling model_fn.\n",
      "INFO:tensorflow:Starting evaluation at 2019-05-13-18:59:42\n",
      "INFO:tensorflow:Graph was finalized.\n",
      "INFO:tensorflow:Restoring parameters from /home/matz/Desktop/ml_ids/NN_model/model.ckpt-10000\n",
      "INFO:tensorflow:Running local_init_op.\n",
      "INFO:tensorflow:Done running local_init_op.\n",
      "INFO:tensorflow:Evaluation [1/1]\n",
      "INFO:tensorflow:Finished evaluation at 2019-05-13-18:59:45\n",
      "INFO:tensorflow:Saving dict for global step 10000: accuracy = 0.9949148, accuracy_baseline = 0.7026406, auc = 0.99949, auc_precision_recall = 0.9988641, average_loss = 0.017157128, global_step = 10000, label/mean = 0.2973594, loss = 560.0773, precision = 0.9902374, prediction/mean = 0.29910964, recall = 0.9926857\n",
      "INFO:tensorflow:Saving 'checkpoint_path' summary for global step 10000: /home/matz/Desktop/ml_ids/NN_model/model.ckpt-10000\n"
     ]
    }
   ],
   "source": [
    "eval_metrics = model.evaluate(input_fn=get_input_fn(validate, n_batch=validate.shape[0], shuffle=False), steps=1)"
   ]
  },
  {
   "cell_type": "code",
   "execution_count": 132,
   "metadata": {
    "scrolled": true
   },
   "outputs": [
    {
     "name": "stdout",
     "output_type": "stream",
     "text": [
      "accuracy: 0.9949148\n",
      "accuracy_baseline: 0.7026406\n",
      "auc: 0.99949\n",
      "auc_precision_recall: 0.9988641\n",
      "average_loss: 0.017157128\n",
      "global_step: 10000\n",
      "label/mean: 0.2973594\n",
      "loss: 560.0773\n",
      "precision: 0.9902374\n",
      "prediction/mean: 0.29910964\n",
      "recall: 0.9926857\n"
     ]
    }
   ],
   "source": [
    "for key,value in sorted(eval_metrics.items()):\n",
    "  print('%s: %s' % (key, value))"
   ]
  },
  {
   "cell_type": "code",
   "execution_count": 133,
   "metadata": {},
   "outputs": [
    {
     "name": "stdout",
     "output_type": "stream",
     "text": [
      "INFO:tensorflow:Calling model_fn.\n",
      "INFO:tensorflow:Done calling model_fn.\n",
      "INFO:tensorflow:Graph was finalized.\n",
      "INFO:tensorflow:Restoring parameters from /home/matz/Desktop/ml_ids/NN_model/model.ckpt-10000\n",
      "INFO:tensorflow:Running local_init_op.\n",
      "INFO:tensorflow:Done running local_init_op.\n"
     ]
    }
   ],
   "source": [
    "results = []\n",
    "results = list(model.predict(input_fn=get_input_fn(test, num_epochs=1, n_batch = X_test.shape[0], shuffle=False)))"
   ]
  },
  {
   "cell_type": "code",
   "execution_count": 134,
   "metadata": {},
   "outputs": [],
   "source": [
    "y_pred = []\n",
    "for el in results:\n",
    "    y_pred.append(el[\"class_ids\"])"
   ]
  },
  {
   "cell_type": "code",
   "execution_count": 135,
   "metadata": {},
   "outputs": [
    {
     "name": "stdout",
     "output_type": "stream",
     "text": [
      "NN Accuracy: 0.99246, F1-score: 0.99603, Precision: 0.99427, Recall: 0.99780, FPR: 0.10477\n",
      "TN: 1521; FP: 178; FN:   68; TP: 30878\n",
      "\n"
     ]
    }
   ],
   "source": [
    "name = \"NN\"\n",
    "\n",
    "Acc = {}\n",
    "F1S = {}\n",
    "Prec = {}\n",
    "Rec = {}\n",
    "FPR = {}\n",
    "\n",
    "Acc[name] = metrics.accuracy_score(y_test, y_pred)\n",
    "F1S[name] = metrics.f1_score(y_test, y_pred)\n",
    "Prec[name] = metrics.precision_score(y_test, y_pred)\n",
    "Rec[name] = metrics.recall_score(y_test, y_pred)\n",
    "tn, fp, fn, tp = metrics.confusion_matrix(y_test, y_pred).ravel()\n",
    "FPR[name] = fp/(fp+tn)\n",
    "\n",
    "print(\"{0:2} Accuracy: {1:.5f}, F1-score: {2:.5f}, Precision: {3:.5f}, Recall: {4:.5f}, FPR: {5:.5f}\".format(name, Acc[name], F1S[name], Prec[name], Rec[name], FPR[name]))\n",
    "print(\"TN: {0:3}; FP: {1:3}; FN: {2:4}; TP: {3:3}\\n\".format(tn, fp, fn, tp))"
   ]
  },
  {
   "cell_type": "markdown",
   "metadata": {},
   "source": [
    "## New data prediction"
   ]
  },
  {
   "cell_type": "code",
   "execution_count": 152,
   "metadata": {},
   "outputs": [
    {
     "name": "stdout",
     "output_type": "stream",
     "text": [
      "Counter({-1: 189082, 1: 12436})\n"
     ]
    }
   ],
   "source": [
    "test_set = pd.read_csv(\"20151220.txt\", sep = \"\\t\", header = None)\n",
    "test_set.columns = [\"conn_len\", \"service\", \"src_bytes\", \"dst_bytes\", \"conn_numb\", \"Same_srv_rate\", \"Serror_rate\", \"Srv_serror_rate\", \"Dst_host_count\", \"Dst_host_srv_count\", \"Dst_host_same_src_port_rate\", \"Dst_host_serror_rate\", \"Dst_host_srv_serror_rate\", \"Conn_state\", \"IDS_detection\", \"Malware_detection\", \"Ashula_detection\", \"attack_flag\", \"src_IP\", \"src_port\", \"dst_IP\", \"dst_port\", \"start_time\", \"proto\"]\n",
    "print(Counter(test_set[\"attack_flag\"]))"
   ]
  },
  {
   "cell_type": "code",
   "execution_count": 153,
   "metadata": {},
   "outputs": [],
   "source": [
    "test_set.loc[:, \"attack_flag\"] = test_set.loc[:,\"attack_flag\"].replace(-2, -1)\n",
    "test_set.loc[:, \"attack_flag\"] = test_set.loc[:, \"attack_flag\"] * -1\n",
    "test_set.loc[:, \"attack_flag\"] = test_set.loc[:,\"attack_flag\"].replace(-1, 0)"
   ]
  },
  {
   "cell_type": "code",
   "execution_count": 154,
   "metadata": {},
   "outputs": [
    {
     "data": {
      "text/plain": [
       "(201518, 24)"
      ]
     },
     "execution_count": 154,
     "metadata": {},
     "output_type": "execute_result"
    }
   ],
   "source": [
    "# removing NaNs\n",
    "test_set = test_set.dropna()\n",
    "test_set.shape"
   ]
  },
  {
   "cell_type": "code",
   "execution_count": 155,
   "metadata": {},
   "outputs": [],
   "source": [
    "test_set[\"well_known_src_pool\"] = test_set.apply(wk, axis=1)\n",
    "test_set[\"registered_src_pool\"] = test_set.apply(reg, axis=1)\n",
    "test_set[\"cli_src_pool\"] = test_set.apply(cli, axis=1)"
   ]
  },
  {
   "cell_type": "code",
   "execution_count": 159,
   "metadata": {},
   "outputs": [],
   "source": [
    "test_set[\"src_port\"] = test_set[\"src_port\"].apply(str)\n",
    "test_set[\"dst_port\"] = test_set[\"dst_port\"].apply(str)"
   ]
  },
  {
   "cell_type": "code",
   "execution_count": 177,
   "metadata": {
    "scrolled": true
   },
   "outputs": [
    {
     "name": "stdout",
     "output_type": "stream",
     "text": [
      "(30000, 27)\n"
     ]
    }
   ],
   "source": [
    "test_new_data = test_set.sample(n=30000, random_state=1)\n",
    "#test_new_data = test_set.loc[range(30000), :]\n",
    "y_test_new_data = test_new_data.loc[:, \"attack_flag\"].values.ravel()\n",
    "X_test_new_data = test_new_data.drop([\"attack_flag\"], axis=1)\n",
    "print(test_new_data.shape)"
   ]
  },
  {
   "cell_type": "code",
   "execution_count": 178,
   "metadata": {},
   "outputs": [
    {
     "name": "stdout",
     "output_type": "stream",
     "text": [
      "Counter({1: 28150, 0: 1850})\n"
     ]
    }
   ],
   "source": [
    "print(Counter(test_new_data[\"attack_flag\"]))"
   ]
  },
  {
   "cell_type": "code",
   "execution_count": 179,
   "metadata": {},
   "outputs": [
    {
     "name": "stdout",
     "output_type": "stream",
     "text": [
      "INFO:tensorflow:Calling model_fn.\n",
      "INFO:tensorflow:Done calling model_fn.\n",
      "INFO:tensorflow:Graph was finalized.\n",
      "INFO:tensorflow:Restoring parameters from /home/matz/Desktop/ml_ids/NN_model/model.ckpt-10000\n",
      "INFO:tensorflow:Running local_init_op.\n",
      "INFO:tensorflow:Done running local_init_op.\n"
     ]
    }
   ],
   "source": [
    "results = []\n",
    "results = list(model.predict(input_fn=get_input_fn(test_new_data, num_epochs=1, n_batch = X_test.shape[0], shuffle=False)))"
   ]
  },
  {
   "cell_type": "code",
   "execution_count": 180,
   "metadata": {},
   "outputs": [],
   "source": [
    "y_pred = []\n",
    "for el in results:\n",
    "    y_pred.append(el[\"class_ids\"])"
   ]
  },
  {
   "cell_type": "code",
   "execution_count": 181,
   "metadata": {},
   "outputs": [
    {
     "name": "stdout",
     "output_type": "stream",
     "text": [
      "NN Accuracy: 0.88810, F1-score: 0.93759, Precision: 0.98354, Recall: 0.89574, FPR: 0.22811\n",
      "TN: 1428; FP: 422; FN: 2935; TP: 25215\n",
      "\n"
     ]
    }
   ],
   "source": [
    "name = \"NN\"\n",
    "\n",
    "Acc = {}\n",
    "F1S = {}\n",
    "Prec = {}\n",
    "Rec = {}\n",
    "FPR = {}\n",
    "\n",
    "Acc[name] = metrics.accuracy_score(y_test_new_data, y_pred)\n",
    "F1S[name] = metrics.f1_score(y_test_new_data, y_pred)\n",
    "Prec[name] = metrics.precision_score(y_test_new_data, y_pred)\n",
    "Rec[name] = metrics.recall_score(y_test_new_data, y_pred)\n",
    "tn, fp, fn, tp = metrics.confusion_matrix(y_test_new_data, y_pred).ravel()\n",
    "FPR[name] = fp/(fp+tn)\n",
    "\n",
    "print(\"{0:2} Accuracy: {1:.5f}, F1-score: {2:.5f}, Precision: {3:.5f}, Recall: {4:.5f}, FPR: {5:.5f}\".format(name, Acc[name], F1S[name], Prec[name], Rec[name], FPR[name]))\n",
    "print(\"TN: {0:3}; FP: {1:3}; FN: {2:4}; TP: {3:3}\\n\".format(tn, fp, fn, tp))"
   ]
  }
 ],
 "metadata": {
  "kernelspec": {
   "display_name": "Python 3",
   "language": "python",
   "name": "python3"
  },
  "language_info": {
   "codemirror_mode": {
    "name": "ipython",
    "version": 3
   },
   "file_extension": ".py",
   "mimetype": "text/x-python",
   "name": "python",
   "nbconvert_exporter": "python",
   "pygments_lexer": "ipython3",
   "version": "3.6.7"
  }
 },
 "nbformat": 4,
 "nbformat_minor": 2
}
