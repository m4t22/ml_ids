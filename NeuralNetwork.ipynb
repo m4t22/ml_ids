{
 "cells": [
  {
   "cell_type": "code",
   "execution_count": 5,
   "metadata": {},
   "outputs": [],
   "source": [
    "import pandas as pd\n",
    "import matplotlib.pyplot as plt\n",
    "import numpy as np\n",
    "\n",
    "%matplotlib inline \n",
    "%config IPCompleter.greedy=True\n",
    "\n",
    "import collections\n",
    "import io\n",
    "import math\n",
    "import tensorflow as tf\n",
    "from IPython import display\n",
    "from sklearn import metrics"
   ]
  },
  {
   "cell_type": "markdown",
   "metadata": {},
   "source": [
    "\n",
    "## Reading data from file"
   ]
  },
  {
   "cell_type": "code",
   "execution_count": 6,
   "metadata": {},
   "outputs": [
    {
     "name": "stdout",
     "output_type": "stream",
     "text": [
      "Counter({-1: 149915, 1: 67713})\n"
     ]
    }
   ],
   "source": [
    "from collections import Counter\n",
    "\n",
    "### main dataset ###\n",
    "data = pd.read_csv(\"20151219.txt\", sep = \"\\t\", header = None)\n",
    "data.columns = [\"conn_len\", \"service\", \"src_bytes\", \"dst_bytes\", \"conn_numb\", \"Same_srv_rate\", \"Serror_rate\", \"Srv_serror_rate\", \"Dst_host_count\", \"Dst_host_srv_count\", \"Dst_host_same_src_port_rate\", \"Dst_host_serror_rate\", \"Dst_host_srv_serror_rate\", \"Conn_state\", \"IDS_detection\", \"Malware_detection\", \"Ashula_detection\", \"attack_flag\", \"src_IP\", \"src_port\", \"dst_IP\", \"dst_port\", \"start_time\", \"proto\"]\n",
    "\n",
    "print(Counter(data[\"attack_flag\"]))"
   ]
  },
  {
   "cell_type": "markdown",
   "metadata": {},
   "source": [
    "## Transform to binary"
   ]
  },
  {
   "cell_type": "code",
   "execution_count": 7,
   "metadata": {},
   "outputs": [
    {
     "name": "stdout",
     "output_type": "stream",
     "text": [
      "Counter({1: 149915, 0: 67713})\n"
     ]
    }
   ],
   "source": [
    "data.loc[:, \"attack_flag\"] = data.loc[:,\"attack_flag\"].replace(-2, -1)\n",
    "data.loc[:, \"attack_flag\"] = data.loc[:, \"attack_flag\"] * -1\n",
    "data.loc[:, \"attack_flag\"] = data.loc[:,\"attack_flag\"].replace(-1, 0)\n",
    "\n",
    "print(Counter(data[\"attack_flag\"]))"
   ]
  },
  {
   "cell_type": "code",
   "execution_count": 8,
   "metadata": {},
   "outputs": [
    {
     "data": {
      "text/plain": [
       "(217628, 24)"
      ]
     },
     "execution_count": 8,
     "metadata": {},
     "output_type": "execute_result"
    }
   ],
   "source": [
    "# removing NaNs\n",
    "data = data.dropna()\n",
    "data.shape"
   ]
  },
  {
   "cell_type": "markdown",
   "metadata": {},
   "source": [
    "# a bit of feature engineering"
   ]
  },
  {
   "cell_type": "markdown",
   "metadata": {},
   "source": [
    "## port numbers classification"
   ]
  },
  {
   "cell_type": "code",
   "execution_count": 9,
   "metadata": {},
   "outputs": [],
   "source": [
    "t1 = 1023  # well-known port numbers\n",
    "t2 = 49151 # registered ports\n",
    "t3 = 65535 # client ports\n",
    "\n",
    "def wk(data_row):\n",
    "    if (data_row[\"src_port\"] <= t1): \n",
    "        value = 1\n",
    "    elif ((data_row[\"src_port\"] > t1) and (data_row[\"src_port\"] <= t2)):\n",
    "        value = 0\n",
    "    elif ((data_row[\"src_port\"] > t2) and (data_row[\"src_port\"] <= t3)):\n",
    "        value = 0\n",
    "    return value\n",
    "\n",
    "def reg(data_row):\n",
    "    if (data_row[\"src_port\"] <= t1): \n",
    "        value = 0\n",
    "    elif ((data_row[\"src_port\"] > t1) and (data_row[\"src_port\"] <= t2)):\n",
    "        value = 1\n",
    "    elif ((data_row[\"src_port\"] > t2) and (data_row[\"src_port\"] <= t3)):\n",
    "        value = 0\n",
    "    return value\n",
    "\n",
    "def cli(data_row):\n",
    "    if (data_row[\"src_port\"] <= t1): \n",
    "        value = 0\n",
    "    elif ((data_row[\"src_port\"] > t1) and (data_row[\"src_port\"] <= t2)):\n",
    "        value = 0\n",
    "    elif ((data_row[\"src_port\"] > t2) and (data_row[\"src_port\"] <= t3)):\n",
    "        value = 1\n",
    "    return value\n",
    "\n",
    "data[\"well_known_src_pool\"] = data.apply(wk, axis=1)\n",
    "data[\"registered_src_pool\"] = data.apply(reg, axis=1)\n",
    "data[\"cli_src_pool\"] = data.apply(cli, axis=1)"
   ]
  },
  {
   "cell_type": "code",
   "execution_count": 39,
   "metadata": {},
   "outputs": [],
   "source": [
    "data[\"src_port\"] = data[\"src_port\"].apply(str)\n",
    "data[\"dst_port\"] = data[\"dst_port\"].apply(str)"
   ]
  },
  {
   "cell_type": "code",
   "execution_count": 40,
   "metadata": {},
   "outputs": [
    {
     "name": "stdout",
     "output_type": "stream",
     "text": [
      "(152339, 27)\n",
      "(32644, 27)\n",
      "(32645, 27)\n"
     ]
    }
   ],
   "source": [
    "train, validate, test = np.split(data, [int(.7*len(data)), int(.85*len(data))])\n",
    "train = train.sample(frac=1)\n",
    "validate = validate.sample(frac=1)\n",
    "test = test.sample(frac=1)\n",
    "y_train = train.loc[:, \"attack_flag\"].values.ravel()\n",
    "X_train = train.drop([\"attack_flag\"], axis=1)\n",
    "y_validate = validate.loc[:, \"attack_flag\"].values.ravel()\n",
    "X_validate = validate.drop([\"attack_flag\"], axis=1)\n",
    "y_test = test.loc[:, \"attack_flag\"].values.ravel()\n",
    "X_test = test.drop([\"attack_flag\"], axis=1)\n",
    "print(train.shape)\n",
    "print(validate.shape)\n",
    "print(test.shape)"
   ]
  },
  {
   "cell_type": "code",
   "execution_count": 41,
   "metadata": {},
   "outputs": [],
   "source": [
    "deep_numeric_feat = [\"Same_srv_rate\", \"Serror_rate\", \"Srv_serror_rate\", \"Dst_host_count\", \"Dst_host_srv_count\", \"Dst_host_same_src_port_rate\", \"Dst_host_serror_rate\", \"Dst_host_srv_serror_rate\", \"well_known_src_pool\", \"registered_src_pool\", \"cli_src_pool\"]\n",
    "wide_numeric_feat = [\"conn_len\",  \"src_bytes\", \"dst_bytes\", \"conn_numb\"]\n",
    "categorical_feat = [\"service\", \"Conn_state\", \"src_port\", \"dst_port\", \"proto\"]"
   ]
  },
  {
   "cell_type": "code",
   "execution_count": 42,
   "metadata": {},
   "outputs": [],
   "source": [
    "deep_numeric_feat_tf = [tf.feature_column.numeric_column(k) for k in deep_numeric_feat]\n",
    "wide_numeric_feat_tf = [tf.feature_column.numeric_column(k) for k in wide_numeric_feat]"
   ]
  },
  {
   "cell_type": "code",
   "execution_count": 43,
   "metadata": {},
   "outputs": [],
   "source": [
    "#data[\"src_port\"].unique().tolist()"
   ]
  },
  {
   "cell_type": "code",
   "execution_count": 44,
   "metadata": {},
   "outputs": [],
   "source": [
    "src_port_mod = [\"src_\" + s for s in data[\"src_port\"].unique().tolist()]\n",
    "src_port = tf.feature_column.categorical_column_with_vocabulary_list(\n",
    "    'src_port', src_port_mod)\n",
    "\n",
    "dst_port_mod = [\"dst_\" + s for s in data[\"dst_port\"].unique().tolist()]\n",
    "dst_port = tf.feature_column.categorical_column_with_vocabulary_list(\n",
    "    'dst_port', dst_port_mod)\n",
    "\n",
    "service = tf.feature_column.categorical_column_with_vocabulary_list(\n",
    "    'service', data[\"service\"].unique().tolist())\n",
    "\n",
    "Conn_state = tf.feature_column.categorical_column_with_vocabulary_list(\n",
    "    'Conn_state', data[\"Conn_state\"].unique().tolist())\n",
    "\n",
    "proto = tf.feature_column.categorical_column_with_vocabulary_list(\n",
    "    'proto', data[\"proto\"].unique().tolist())"
   ]
  },
  {
   "cell_type": "code",
   "execution_count": 45,
   "metadata": {},
   "outputs": [],
   "source": [
    "deep_columns = [\n",
    "    tf.feature_column.indicator_column(service),\n",
    "    tf.feature_column.indicator_column(Conn_state),\n",
    "    tf.feature_column.indicator_column(proto),\n",
    "    tf.feature_column.embedding_column(src_port, dimension=10),\n",
    "    tf.feature_column.embedding_column(dst_port, dimension=3),\n",
    "]"
   ]
  },
  {
   "cell_type": "code",
   "execution_count": 46,
   "metadata": {},
   "outputs": [],
   "source": [
    "crossed_columns = [\n",
    "      tf.feature_column.crossed_column(\n",
    "          ['src_port', 'service'], hash_bucket_size=10000),\n",
    "      tf.feature_column.crossed_column(\n",
    "          ['service', 'proto'], hash_bucket_size=10000),\n",
    "  ]"
   ]
  },
  {
   "cell_type": "code",
   "execution_count": 119,
   "metadata": {},
   "outputs": [
    {
     "name": "stdout",
     "output_type": "stream",
     "text": [
      "INFO:tensorflow:Using default config.\n",
      "INFO:tensorflow:Using config: {'_model_dir': '/home/matz/Desktop/ml_ids/NN_model', '_tf_random_seed': None, '_save_summary_steps': 100, '_save_checkpoints_steps': None, '_save_checkpoints_secs': 600, '_session_config': allow_soft_placement: true\n",
      "graph_options {\n",
      "  rewrite_options {\n",
      "    meta_optimizer_iterations: ONE\n",
      "  }\n",
      "}\n",
      ", '_keep_checkpoint_max': 5, '_keep_checkpoint_every_n_hours': 10000, '_log_step_count_steps': 100, '_train_distribute': None, '_device_fn': None, '_protocol': None, '_eval_distribute': None, '_experimental_distribute': None, '_service': None, '_cluster_spec': <tensorflow.python.training.server_lib.ClusterSpec object at 0x7f70ae00fe80>, '_task_type': 'worker', '_task_id': 0, '_global_id_in_cluster': 0, '_master': '', '_evaluation_master': '', '_is_chief': True, '_num_ps_replicas': 0, '_num_worker_replicas': 1}\n"
     ]
    }
   ],
   "source": [
    "model = tf.estimator.DNNLinearCombinedClassifier(\n",
    "    model_dir = \"/home/matz/Desktop/ml_ids/NN_model\",\n",
    "    dnn_activation_fn=tf.nn.selu,\n",
    "    linear_feature_columns = wide_numeric_feat_tf + crossed_columns,\n",
    "    dnn_feature_columns = deep_columns + deep_numeric_feat_tf + wide_numeric_feat_tf,\n",
    "    dnn_hidden_units = [450, 250])"
   ]
  },
  {
   "cell_type": "code",
   "execution_count": 120,
   "metadata": {},
   "outputs": [],
   "source": [
    "feature_set= deep_numeric_feat + wide_numeric_feat + categorical_feat"
   ]
  },
  {
   "cell_type": "code",
   "execution_count": 121,
   "metadata": {},
   "outputs": [],
   "source": [
    "def get_input_fn(data_set, num_epochs=None, n_batch = 256, shuffle=True):\n",
    "    return tf.estimator.inputs.pandas_input_fn(\n",
    "       x=pd.DataFrame({k: data_set[k].values for k in feature_set}),\n",
    "       y = pd.Series(data_set[\"attack_flag\"].values),\n",
    "       batch_size=n_batch,   \n",
    "       num_epochs=num_epochs,\n",
    "       shuffle=shuffle)"
   ]
  },
  {
   "cell_type": "code",
   "execution_count": 122,
   "metadata": {},
   "outputs": [
    {
     "data": {
      "text/plain": [
       "<function tensorflow.python.estimator.inputs.pandas_io.pandas_input_fn.<locals>.input_fn()>"
      ]
     },
     "execution_count": 122,
     "metadata": {},
     "output_type": "execute_result"
    }
   ],
   "source": [
    "get_input_fn(test, n_batch=test.shape[0], shuffle=False)"
   ]
  },
  {
   "cell_type": "code",
   "execution_count": 123,
   "metadata": {},
   "outputs": [
    {
     "name": "stdout",
     "output_type": "stream",
     "text": [
      "INFO:tensorflow:Calling model_fn.\n",
      "INFO:tensorflow:Done calling model_fn.\n",
      "INFO:tensorflow:Create CheckpointSaverHook.\n",
      "INFO:tensorflow:Graph was finalized.\n",
      "INFO:tensorflow:Running local_init_op.\n",
      "INFO:tensorflow:Done running local_init_op.\n",
      "INFO:tensorflow:Saving checkpoints for 0 into /home/matz/Desktop/ml_ids/NN_model/model.ckpt.\n",
      "INFO:tensorflow:loss = 248.07916, step = 1\n",
      "INFO:tensorflow:global_step/sec: 118.731\n",
      "INFO:tensorflow:loss = 10.192726, step = 101 (0.843 sec)\n",
      "INFO:tensorflow:global_step/sec: 140.54\n",
      "INFO:tensorflow:loss = 17.525291, step = 201 (0.712 sec)\n",
      "INFO:tensorflow:global_step/sec: 141.105\n",
      "INFO:tensorflow:loss = 11.795658, step = 301 (0.709 sec)\n",
      "INFO:tensorflow:global_step/sec: 148.249\n",
      "INFO:tensorflow:loss = 7.807409, step = 401 (0.675 sec)\n",
      "INFO:tensorflow:global_step/sec: 154.051\n",
      "INFO:tensorflow:loss = 7.4041204, step = 501 (0.649 sec)\n",
      "INFO:tensorflow:global_step/sec: 141.811\n",
      "INFO:tensorflow:loss = 8.446043, step = 601 (0.705 sec)\n",
      "INFO:tensorflow:global_step/sec: 147.115\n",
      "INFO:tensorflow:loss = 15.119976, step = 701 (0.680 sec)\n",
      "INFO:tensorflow:global_step/sec: 140.26\n",
      "INFO:tensorflow:loss = 15.466822, step = 801 (0.713 sec)\n",
      "INFO:tensorflow:global_step/sec: 142.638\n",
      "INFO:tensorflow:loss = 7.399311, step = 901 (0.701 sec)\n",
      "INFO:tensorflow:global_step/sec: 141.197\n",
      "INFO:tensorflow:loss = 5.610631, step = 1001 (0.708 sec)\n",
      "INFO:tensorflow:global_step/sec: 142.069\n",
      "INFO:tensorflow:loss = 8.753925, step = 1101 (0.704 sec)\n",
      "INFO:tensorflow:global_step/sec: 155.605\n",
      "INFO:tensorflow:loss = 4.50906, step = 1201 (0.643 sec)\n",
      "INFO:tensorflow:global_step/sec: 140.816\n",
      "INFO:tensorflow:loss = 2.982346, step = 1301 (0.710 sec)\n",
      "INFO:tensorflow:global_step/sec: 140.461\n",
      "INFO:tensorflow:loss = 11.524626, step = 1401 (0.712 sec)\n",
      "INFO:tensorflow:global_step/sec: 157.438\n",
      "INFO:tensorflow:loss = 2.7446156, step = 1501 (0.635 sec)\n",
      "INFO:tensorflow:global_step/sec: 141.047\n",
      "INFO:tensorflow:loss = 3.4955199, step = 1601 (0.709 sec)\n",
      "INFO:tensorflow:global_step/sec: 139.291\n",
      "INFO:tensorflow:loss = 7.6080427, step = 1701 (0.718 sec)\n",
      "INFO:tensorflow:global_step/sec: 141.799\n",
      "INFO:tensorflow:loss = 7.2727137, step = 1801 (0.705 sec)\n",
      "INFO:tensorflow:global_step/sec: 140.108\n",
      "INFO:tensorflow:loss = 3.2389975, step = 1901 (0.713 sec)\n",
      "INFO:tensorflow:global_step/sec: 142.488\n",
      "INFO:tensorflow:loss = 5.418927, step = 2001 (0.702 sec)\n",
      "INFO:tensorflow:global_step/sec: 147.079\n",
      "INFO:tensorflow:loss = 1.6355965, step = 2101 (0.680 sec)\n",
      "INFO:tensorflow:global_step/sec: 139.047\n",
      "INFO:tensorflow:loss = 14.346115, step = 2201 (0.719 sec)\n",
      "INFO:tensorflow:global_step/sec: 137.358\n",
      "INFO:tensorflow:loss = 3.1203485, step = 2301 (0.731 sec)\n",
      "INFO:tensorflow:global_step/sec: 131.77\n",
      "INFO:tensorflow:loss = 9.788117, step = 2401 (0.756 sec)\n",
      "INFO:tensorflow:global_step/sec: 131.156\n",
      "INFO:tensorflow:loss = 7.7865143, step = 2501 (0.763 sec)\n",
      "INFO:tensorflow:global_step/sec: 135.005\n",
      "INFO:tensorflow:loss = 10.213295, step = 2601 (0.741 sec)\n",
      "INFO:tensorflow:global_step/sec: 147.531\n",
      "INFO:tensorflow:loss = 4.592577, step = 2701 (0.678 sec)\n",
      "INFO:tensorflow:global_step/sec: 139.449\n",
      "INFO:tensorflow:loss = 6.622963, step = 2801 (0.717 sec)\n",
      "INFO:tensorflow:global_step/sec: 144.708\n",
      "INFO:tensorflow:loss = 4.032092, step = 2901 (0.691 sec)\n",
      "INFO:tensorflow:global_step/sec: 135.644\n",
      "INFO:tensorflow:loss = 6.530028, step = 3001 (0.737 sec)\n",
      "INFO:tensorflow:global_step/sec: 149.313\n",
      "INFO:tensorflow:loss = 12.610322, step = 3101 (0.670 sec)\n",
      "INFO:tensorflow:global_step/sec: 154.239\n",
      "INFO:tensorflow:loss = 3.1230924, step = 3201 (0.648 sec)\n",
      "INFO:tensorflow:global_step/sec: 142.683\n",
      "INFO:tensorflow:loss = 5.360855, step = 3301 (0.701 sec)\n",
      "INFO:tensorflow:global_step/sec: 136.686\n",
      "INFO:tensorflow:loss = 5.859352, step = 3401 (0.732 sec)\n",
      "INFO:tensorflow:global_step/sec: 122.06\n",
      "INFO:tensorflow:loss = 8.702145, step = 3501 (0.819 sec)\n",
      "INFO:tensorflow:global_step/sec: 127.847\n",
      "INFO:tensorflow:loss = 7.9364557, step = 3601 (0.783 sec)\n",
      "INFO:tensorflow:global_step/sec: 136.311\n",
      "INFO:tensorflow:loss = 5.5780497, step = 3701 (0.734 sec)\n",
      "INFO:tensorflow:global_step/sec: 134.962\n",
      "INFO:tensorflow:loss = 5.6001444, step = 3801 (0.740 sec)\n",
      "INFO:tensorflow:global_step/sec: 136.263\n",
      "INFO:tensorflow:loss = 7.2365704, step = 3901 (0.734 sec)\n",
      "INFO:tensorflow:global_step/sec: 137.102\n",
      "INFO:tensorflow:loss = 2.9048784, step = 4001 (0.729 sec)\n",
      "INFO:tensorflow:global_step/sec: 135.519\n",
      "INFO:tensorflow:loss = 10.814506, step = 4101 (0.738 sec)\n",
      "INFO:tensorflow:global_step/sec: 137.225\n",
      "INFO:tensorflow:loss = 3.9483433, step = 4201 (0.729 sec)\n",
      "INFO:tensorflow:global_step/sec: 144.61\n",
      "INFO:tensorflow:loss = 3.949189, step = 4301 (0.692 sec)\n",
      "INFO:tensorflow:global_step/sec: 136.315\n",
      "INFO:tensorflow:loss = 9.954622, step = 4401 (0.734 sec)\n",
      "INFO:tensorflow:global_step/sec: 136.049\n",
      "INFO:tensorflow:loss = 6.025902, step = 4501 (0.735 sec)\n",
      "INFO:tensorflow:global_step/sec: 135.399\n",
      "INFO:tensorflow:loss = 13.41209, step = 4601 (0.738 sec)\n",
      "INFO:tensorflow:global_step/sec: 148.6\n",
      "INFO:tensorflow:loss = 3.0565987, step = 4701 (0.673 sec)\n",
      "INFO:tensorflow:global_step/sec: 140.713\n",
      "INFO:tensorflow:loss = 8.488812, step = 4801 (0.711 sec)\n",
      "INFO:tensorflow:global_step/sec: 136.54\n",
      "INFO:tensorflow:loss = 16.840853, step = 4901 (0.732 sec)\n",
      "INFO:tensorflow:global_step/sec: 136.215\n",
      "INFO:tensorflow:loss = 6.7374434, step = 5001 (0.734 sec)\n",
      "INFO:tensorflow:global_step/sec: 136.803\n",
      "INFO:tensorflow:loss = 13.092628, step = 5101 (0.731 sec)\n",
      "INFO:tensorflow:global_step/sec: 135.665\n",
      "INFO:tensorflow:loss = 12.501741, step = 5201 (0.737 sec)\n",
      "INFO:tensorflow:global_step/sec: 136.972\n",
      "INFO:tensorflow:loss = 6.1559916, step = 5301 (0.730 sec)\n",
      "INFO:tensorflow:global_step/sec: 135.991\n",
      "INFO:tensorflow:loss = 2.7004004, step = 5401 (0.735 sec)\n",
      "INFO:tensorflow:global_step/sec: 136.864\n",
      "INFO:tensorflow:loss = 3.7689037, step = 5501 (0.731 sec)\n",
      "INFO:tensorflow:global_step/sec: 135.526\n",
      "INFO:tensorflow:loss = 11.722538, step = 5601 (0.738 sec)\n",
      "INFO:tensorflow:global_step/sec: 136.521\n",
      "INFO:tensorflow:loss = 14.804144, step = 5701 (0.733 sec)\n",
      "INFO:tensorflow:global_step/sec: 142.653\n",
      "INFO:tensorflow:loss = 3.251299, step = 5801 (0.700 sec)\n",
      "INFO:tensorflow:global_step/sec: 133.298\n",
      "INFO:tensorflow:loss = 18.64027, step = 5901 (0.751 sec)\n",
      "INFO:tensorflow:global_step/sec: 123.267\n",
      "INFO:tensorflow:loss = 4.246292, step = 6001 (0.811 sec)\n",
      "INFO:tensorflow:global_step/sec: 129.333\n",
      "INFO:tensorflow:loss = 10.041698, step = 6101 (0.773 sec)\n",
      "INFO:tensorflow:global_step/sec: 131.115\n",
      "INFO:tensorflow:loss = 4.0610266, step = 6201 (0.763 sec)\n",
      "INFO:tensorflow:global_step/sec: 133.594\n",
      "INFO:tensorflow:loss = 8.15396, step = 6301 (0.748 sec)\n",
      "INFO:tensorflow:global_step/sec: 135.694\n",
      "INFO:tensorflow:loss = 3.2912707, step = 6401 (0.737 sec)\n",
      "INFO:tensorflow:global_step/sec: 126.283\n",
      "INFO:tensorflow:loss = 4.5187173, step = 6501 (0.792 sec)\n",
      "INFO:tensorflow:global_step/sec: 132.464\n",
      "INFO:tensorflow:loss = 5.1949015, step = 6601 (0.755 sec)\n",
      "INFO:tensorflow:global_step/sec: 130.067\n",
      "INFO:tensorflow:loss = 5.1666718, step = 6701 (0.769 sec)\n",
      "INFO:tensorflow:global_step/sec: 121.849\n",
      "INFO:tensorflow:loss = 6.1369276, step = 6801 (0.831 sec)\n",
      "INFO:tensorflow:global_step/sec: 116.902\n",
      "INFO:tensorflow:loss = 6.646608, step = 6901 (0.845 sec)\n",
      "INFO:tensorflow:global_step/sec: 134.047\n",
      "INFO:tensorflow:loss = 1.7666664, step = 7001 (0.747 sec)\n",
      "INFO:tensorflow:global_step/sec: 126.497\n",
      "INFO:tensorflow:loss = 2.0709865, step = 7101 (0.790 sec)\n",
      "INFO:tensorflow:global_step/sec: 130.967\n",
      "INFO:tensorflow:loss = 2.939251, step = 7201 (0.763 sec)\n",
      "INFO:tensorflow:global_step/sec: 125.276\n",
      "INFO:tensorflow:loss = 10.34848, step = 7301 (0.798 sec)\n",
      "INFO:tensorflow:global_step/sec: 130.796\n",
      "INFO:tensorflow:loss = 5.448061, step = 7401 (0.765 sec)\n",
      "INFO:tensorflow:global_step/sec: 137.05\n",
      "INFO:tensorflow:loss = 5.97683, step = 7501 (0.730 sec)\n",
      "INFO:tensorflow:global_step/sec: 134.525\n",
      "INFO:tensorflow:loss = 15.23699, step = 7601 (0.744 sec)\n",
      "INFO:tensorflow:global_step/sec: 130.6\n",
      "INFO:tensorflow:loss = 3.7695675, step = 7701 (0.765 sec)\n",
      "INFO:tensorflow:global_step/sec: 132.092\n",
      "INFO:tensorflow:loss = 3.9284334, step = 7801 (0.757 sec)\n",
      "INFO:tensorflow:global_step/sec: 133.061\n",
      "INFO:tensorflow:loss = 5.689104, step = 7901 (0.751 sec)\n",
      "INFO:tensorflow:global_step/sec: 130.009\n",
      "INFO:tensorflow:loss = 5.3124914, step = 8001 (0.769 sec)\n"
     ]
    },
    {
     "name": "stdout",
     "output_type": "stream",
     "text": [
      "INFO:tensorflow:global_step/sec: 131.919\n",
      "INFO:tensorflow:loss = 6.2049546, step = 8101 (0.758 sec)\n",
      "INFO:tensorflow:global_step/sec: 131.468\n",
      "INFO:tensorflow:loss = 11.342375, step = 8201 (0.760 sec)\n",
      "INFO:tensorflow:global_step/sec: 131.985\n",
      "INFO:tensorflow:loss = 1.6219664, step = 8301 (0.757 sec)\n",
      "INFO:tensorflow:global_step/sec: 133.168\n",
      "INFO:tensorflow:loss = 16.46145, step = 8401 (0.751 sec)\n",
      "INFO:tensorflow:global_step/sec: 132.349\n",
      "INFO:tensorflow:loss = 4.621015, step = 8501 (0.755 sec)\n",
      "INFO:tensorflow:global_step/sec: 132.213\n",
      "INFO:tensorflow:loss = 12.659178, step = 8601 (0.756 sec)\n",
      "INFO:tensorflow:global_step/sec: 132.892\n",
      "INFO:tensorflow:loss = 4.7063284, step = 8701 (0.752 sec)\n",
      "INFO:tensorflow:global_step/sec: 132.26\n",
      "INFO:tensorflow:loss = 4.4452496, step = 8801 (0.756 sec)\n",
      "INFO:tensorflow:global_step/sec: 131.565\n",
      "INFO:tensorflow:loss = 16.489803, step = 8901 (0.760 sec)\n",
      "INFO:tensorflow:global_step/sec: 145.838\n",
      "INFO:tensorflow:loss = 8.451986, step = 9001 (0.686 sec)\n",
      "INFO:tensorflow:global_step/sec: 138.844\n",
      "INFO:tensorflow:loss = 9.901507, step = 9101 (0.720 sec)\n",
      "INFO:tensorflow:global_step/sec: 135.723\n",
      "INFO:tensorflow:loss = 5.087118, step = 9201 (0.737 sec)\n",
      "INFO:tensorflow:global_step/sec: 136.128\n",
      "INFO:tensorflow:loss = 8.727388, step = 9301 (0.734 sec)\n",
      "INFO:tensorflow:global_step/sec: 132.19\n",
      "INFO:tensorflow:loss = 6.258316, step = 9401 (0.757 sec)\n",
      "INFO:tensorflow:global_step/sec: 131.616\n",
      "INFO:tensorflow:loss = 7.8802195, step = 9501 (0.760 sec)\n",
      "INFO:tensorflow:global_step/sec: 136.235\n",
      "INFO:tensorflow:loss = 17.066938, step = 9601 (0.734 sec)\n",
      "INFO:tensorflow:global_step/sec: 130.989\n",
      "INFO:tensorflow:loss = 10.598286, step = 9701 (0.763 sec)\n",
      "INFO:tensorflow:global_step/sec: 135.363\n",
      "INFO:tensorflow:loss = 15.13554, step = 9801 (0.739 sec)\n",
      "INFO:tensorflow:global_step/sec: 133.969\n",
      "INFO:tensorflow:loss = 2.504989, step = 9901 (0.747 sec)\n",
      "INFO:tensorflow:Saving checkpoints for 10000 into /home/matz/Desktop/ml_ids/NN_model/model.ckpt.\n",
      "INFO:tensorflow:Loss for final step: 3.0941029.\n"
     ]
    },
    {
     "data": {
      "text/plain": [
       "<tensorflow.python.estimator.canned.dnn_linear_combined.DNNLinearCombinedClassifier at 0x7f70ae00fef0>"
      ]
     },
     "execution_count": 123,
     "metadata": {},
     "output_type": "execute_result"
    }
   ],
   "source": [
    "model.train(input_fn=get_input_fn(test, n_batch=256, shuffle=False), steps=10000)"
   ]
  },
  {
   "cell_type": "code",
   "execution_count": 124,
   "metadata": {},
   "outputs": [
    {
     "name": "stdout",
     "output_type": "stream",
     "text": [
      "INFO:tensorflow:Calling model_fn.\n",
      "WARNING:tensorflow:Trapezoidal rule is known to produce incorrect PR-AUCs; please switch to \"careful_interpolation\" instead.\n",
      "WARNING:tensorflow:Trapezoidal rule is known to produce incorrect PR-AUCs; please switch to \"careful_interpolation\" instead.\n",
      "INFO:tensorflow:Done calling model_fn.\n",
      "INFO:tensorflow:Starting evaluation at 2019-05-13-17:16:40\n",
      "INFO:tensorflow:Graph was finalized.\n",
      "INFO:tensorflow:Restoring parameters from /home/matz/Desktop/ml_ids/NN_model/model.ckpt-10000\n",
      "INFO:tensorflow:Running local_init_op.\n",
      "INFO:tensorflow:Done running local_init_op.\n",
      "INFO:tensorflow:Evaluation [1/1]\n",
      "INFO:tensorflow:Finished evaluation at 2019-05-13-17:16:42\n",
      "INFO:tensorflow:Saving dict for global step 10000: accuracy = 0.99384266, accuracy_baseline = 0.7026406, auc = 0.9990934, auc_precision_recall = 0.99761975, average_loss = 0.02696492, global_step = 10000, label/mean = 0.2973594, loss = 880.24286, precision = 0.98648924, prediction/mean = 0.305921, recall = 0.9928917\n",
      "INFO:tensorflow:Saving 'checkpoint_path' summary for global step 10000: /home/matz/Desktop/ml_ids/NN_model/model.ckpt-10000\n"
     ]
    }
   ],
   "source": [
    "eval_metrics = model.evaluate(input_fn=get_input_fn(validate, n_batch=validate.shape[0], shuffle=False), steps=1)"
   ]
  },
  {
   "cell_type": "code",
   "execution_count": 125,
   "metadata": {
    "scrolled": true
   },
   "outputs": [
    {
     "name": "stdout",
     "output_type": "stream",
     "text": [
      "accuracy: 0.99384266\n",
      "accuracy_baseline: 0.7026406\n",
      "auc: 0.9990934\n",
      "auc_precision_recall: 0.99761975\n",
      "average_loss: 0.02696492\n",
      "global_step: 10000\n",
      "label/mean: 0.2973594\n",
      "loss: 880.24286\n",
      "precision: 0.98648924\n",
      "prediction/mean: 0.305921\n",
      "recall: 0.9928917\n"
     ]
    }
   ],
   "source": [
    "for key,value in sorted(eval_metrics.items()):\n",
    "  print('%s: %s' % (key, value))"
   ]
  },
  {
   "cell_type": "code",
   "execution_count": 126,
   "metadata": {},
   "outputs": [
    {
     "name": "stdout",
     "output_type": "stream",
     "text": [
      "INFO:tensorflow:Calling model_fn.\n",
      "INFO:tensorflow:Done calling model_fn.\n",
      "INFO:tensorflow:Graph was finalized.\n",
      "INFO:tensorflow:Restoring parameters from /home/matz/Desktop/ml_ids/NN_model/model.ckpt-10000\n",
      "INFO:tensorflow:Running local_init_op.\n",
      "INFO:tensorflow:Done running local_init_op.\n"
     ]
    }
   ],
   "source": [
    "results = []\n",
    "results = list(model.predict(input_fn=get_input_fn(test, num_epochs=1, n_batch = X_test.shape[0], shuffle=False)))"
   ]
  },
  {
   "cell_type": "code",
   "execution_count": 127,
   "metadata": {},
   "outputs": [],
   "source": [
    "y_pred = []\n",
    "for el in results:\n",
    "    y_pred.append(el[\"class_ids\"])"
   ]
  },
  {
   "cell_type": "code",
   "execution_count": 128,
   "metadata": {},
   "outputs": [
    {
     "name": "stdout",
     "output_type": "stream",
     "text": [
      "NN Accuracy: 0.99127, F1-score: 0.99541, Precision: 0.99223, Recall: 0.99861, FPR: 0.14244\n",
      "TN: 1457; FP: 242; FN:   43; TP: 30903\n",
      "\n"
     ]
    }
   ],
   "source": [
    "name = \"NN\"\n",
    "\n",
    "Acc = {}\n",
    "F1S = {}\n",
    "Prec = {}\n",
    "Rec = {}\n",
    "FPR = {}\n",
    "\n",
    "Acc[name] = metrics.accuracy_score(y_test, y_pred)\n",
    "F1S[name] = metrics.f1_score(y_test, y_pred)\n",
    "Prec[name] = metrics.precision_score(y_test, y_pred)\n",
    "Rec[name] = metrics.recall_score(y_test, y_pred)\n",
    "tn, fp, fn, tp = metrics.confusion_matrix(y_test, y_pred).ravel()\n",
    "FPR[name] = fp/(fp+tn)\n",
    "\n",
    "print(\"{0:2} Accuracy: {1:.5f}, F1-score: {2:.5f}, Precision: {3:.5f}, Recall: {4:.5f}, FPR: {5:.5f}\".format(name, Acc[name], F1S[name], Prec[name], Rec[name], FPR[name]))\n",
    "print(\"TN: {0:3}; FP: {1:3}; FN: {2:4}; TP: {3:3}\\n\".format(tn, fp, fn, tp))"
   ]
  },
  {
   "cell_type": "code",
   "execution_count": null,
   "metadata": {},
   "outputs": [],
   "source": []
  },
  {
   "cell_type": "code",
   "execution_count": null,
   "metadata": {},
   "outputs": [],
   "source": []
  }
 ],
 "metadata": {
  "kernelspec": {
   "display_name": "Python 3",
   "language": "python",
   "name": "python3"
  },
  "language_info": {
   "codemirror_mode": {
    "name": "ipython",
    "version": 3
   },
   "file_extension": ".py",
   "mimetype": "text/x-python",
   "name": "python",
   "nbconvert_exporter": "python",
   "pygments_lexer": "ipython3",
   "version": "3.6.7"
  }
 },
 "nbformat": 4,
 "nbformat_minor": 2
}
