{
 "cells": [
  {
   "cell_type": "code",
   "execution_count": 1,
   "metadata": {},
   "outputs": [],
   "source": [
    "import pandas as pd\n",
    "import matplotlib.pyplot as plt\n",
    "import numpy as np\n",
    "\n",
    "%matplotlib inline \n",
    "%config IPCompleter.greedy=True\n",
    "\n",
    "import collections\n",
    "import io\n",
    "import math\n",
    "import tensorflow as tf\n",
    "from IPython import display\n",
    "from sklearn import metrics"
   ]
  },
  {
   "cell_type": "markdown",
   "metadata": {},
   "source": [
    "\n",
    "## Reading data from file"
   ]
  },
  {
   "cell_type": "code",
   "execution_count": 2,
   "metadata": {},
   "outputs": [
    {
     "name": "stdout",
     "output_type": "stream",
     "text": [
      "Counter({-1: 149915, 1: 67713})\n"
     ]
    }
   ],
   "source": [
    "from collections import Counter\n",
    "\n",
    "### main dataset ###\n",
    "data = pd.read_csv(\"20151219.txt\", sep = \"\\t\", header = None)\n",
    "data.columns = [\"conn_len\", \"service\", \"src_bytes\", \"dst_bytes\", \"conn_numb\", \"Same_srv_rate\", \"Serror_rate\", \"Srv_serror_rate\", \"Dst_host_count\", \"Dst_host_srv_count\", \"Dst_host_same_src_port_rate\", \"Dst_host_serror_rate\", \"Dst_host_srv_serror_rate\", \"Conn_state\", \"IDS_detection\", \"Malware_detection\", \"Ashula_detection\", \"attack_flag\", \"src_IP\", \"src_port\", \"dst_IP\", \"dst_port\", \"start_time\", \"proto\"]\n",
    "\n",
    "print(Counter(data[\"attack_flag\"]))"
   ]
  },
  {
   "cell_type": "markdown",
   "metadata": {},
   "source": [
    "## Transform to binary"
   ]
  },
  {
   "cell_type": "code",
   "execution_count": 3,
   "metadata": {},
   "outputs": [
    {
     "name": "stdout",
     "output_type": "stream",
     "text": [
      "Counter({1: 149915, 0: 67713})\n"
     ]
    }
   ],
   "source": [
    "data.loc[:, \"attack_flag\"] = data.loc[:,\"attack_flag\"].replace(-2, -1)\n",
    "data.loc[:, \"attack_flag\"] = data.loc[:, \"attack_flag\"] * -1\n",
    "data.loc[:, \"attack_flag\"] = data.loc[:,\"attack_flag\"].replace(-1, 0)\n",
    "\n",
    "print(Counter(data[\"attack_flag\"]))"
   ]
  },
  {
   "cell_type": "code",
   "execution_count": 4,
   "metadata": {},
   "outputs": [
    {
     "data": {
      "text/plain": [
       "(217628, 24)"
      ]
     },
     "execution_count": 4,
     "metadata": {},
     "output_type": "execute_result"
    }
   ],
   "source": [
    "# removing NaNs\n",
    "data = data.dropna()\n",
    "data.shape"
   ]
  },
  {
   "cell_type": "markdown",
   "metadata": {},
   "source": [
    "# a bit of feature engineering"
   ]
  },
  {
   "cell_type": "markdown",
   "metadata": {},
   "source": [
    "## port numbers classification"
   ]
  },
  {
   "cell_type": "code",
   "execution_count": 5,
   "metadata": {},
   "outputs": [],
   "source": [
    "t1 = 1023  # well-known port numbers\n",
    "t2 = 49151 # registered ports\n",
    "t3 = 65535 # client ports\n",
    "\n",
    "def wk(data_row):\n",
    "    if (data_row[\"src_port\"] <= t1): \n",
    "        value = 1\n",
    "    elif ((data_row[\"src_port\"] > t1) and (data_row[\"src_port\"] <= t2)):\n",
    "        value = 0\n",
    "    elif ((data_row[\"src_port\"] > t2) and (data_row[\"src_port\"] <= t3)):\n",
    "        value = 0\n",
    "    return value\n",
    "\n",
    "def reg(data_row):\n",
    "    if (data_row[\"src_port\"] <= t1): \n",
    "        value = 0\n",
    "    elif ((data_row[\"src_port\"] > t1) and (data_row[\"src_port\"] <= t2)):\n",
    "        value = 1\n",
    "    elif ((data_row[\"src_port\"] > t2) and (data_row[\"src_port\"] <= t3)):\n",
    "        value = 0\n",
    "    return value\n",
    "\n",
    "def cli(data_row):\n",
    "    if (data_row[\"src_port\"] <= t1): \n",
    "        value = 0\n",
    "    elif ((data_row[\"src_port\"] > t1) and (data_row[\"src_port\"] <= t2)):\n",
    "        value = 0\n",
    "    elif ((data_row[\"src_port\"] > t2) and (data_row[\"src_port\"] <= t3)):\n",
    "        value = 1\n",
    "    return value\n",
    "\n",
    "data[\"well_known_src_pool\"] = data.apply(wk, axis=1)\n",
    "data[\"registered_src_pool\"] = data.apply(reg, axis=1)\n",
    "data[\"cli_src_pool\"] = data.apply(cli, axis=1)"
   ]
  },
  {
   "cell_type": "code",
   "execution_count": 6,
   "metadata": {},
   "outputs": [],
   "source": [
    "data[\"src_port\"] = data[\"src_port\"].apply(str)\n",
    "data[\"dst_port\"] = data[\"dst_port\"].apply(str)"
   ]
  },
  {
   "cell_type": "code",
   "execution_count": 7,
   "metadata": {},
   "outputs": [
    {
     "name": "stdout",
     "output_type": "stream",
     "text": [
      "(152339, 27)\n",
      "(32644, 27)\n",
      "(32645, 27)\n"
     ]
    }
   ],
   "source": [
    "train, validate, test = np.split(data, [int(.7*len(data)), int(.85*len(data))])\n",
    "train = train.sample(frac=1)\n",
    "validate = validate.sample(frac=1)\n",
    "test = test.sample(frac=1)\n",
    "y_train = train.loc[:, \"attack_flag\"].values.ravel()\n",
    "X_train = train.drop([\"attack_flag\"], axis=1)\n",
    "y_validate = validate.loc[:, \"attack_flag\"].values.ravel()\n",
    "X_validate = validate.drop([\"attack_flag\"], axis=1)\n",
    "y_test = test.loc[:, \"attack_flag\"].values.ravel()\n",
    "X_test = test.drop([\"attack_flag\"], axis=1)\n",
    "print(train.shape)\n",
    "print(validate.shape)\n",
    "print(test.shape)"
   ]
  },
  {
   "cell_type": "code",
   "execution_count": 8,
   "metadata": {},
   "outputs": [],
   "source": [
    "deep_numeric_feat = [\"Same_srv_rate\", \"Serror_rate\", \"Srv_serror_rate\", \"Dst_host_count\", \"Dst_host_srv_count\", \"Dst_host_same_src_port_rate\", \"Dst_host_serror_rate\", \"Dst_host_srv_serror_rate\", \"well_known_src_pool\", \"registered_src_pool\", \"cli_src_pool\"]\n",
    "wide_numeric_feat = [\"conn_len\",  \"src_bytes\", \"dst_bytes\", \"conn_numb\"]\n",
    "categorical_feat = [\"service\", \"Conn_state\", \"src_port\", \"dst_port\", \"proto\"]"
   ]
  },
  {
   "cell_type": "code",
   "execution_count": null,
   "metadata": {},
   "outputs": [],
   "source": [
    "deep_numeric_feat_tf = [tf.feature_column.numeric_column(k) for k in deep_numeric_feat]\n",
    "wide_numeric_feat_tf = [tf.feature_column.numeric_column(k) for k in wide_numeric_feat]"
   ]
  },
  {
   "cell_type": "code",
   "execution_count": null,
   "metadata": {},
   "outputs": [],
   "source": [
    "#data[\"src_port\"].unique().tolist()"
   ]
  },
  {
   "cell_type": "code",
   "execution_count": null,
   "metadata": {},
   "outputs": [],
   "source": [
    "src_port_mod = [\"src_\" + s for s in data[\"src_port\"].unique().tolist()]\n",
    "src_port = tf.feature_column.categorical_column_with_vocabulary_list(\n",
    "    'src_port', src_port_mod)\n",
    "\n",
    "dst_port_mod = [\"dst_\" + s for s in data[\"dst_port\"].unique().tolist()]\n",
    "dst_port = tf.feature_column.categorical_column_with_vocabulary_list(\n",
    "    'dst_port', dst_port_mod)\n",
    "\n",
    "service = tf.feature_column.categorical_column_with_vocabulary_list(\n",
    "    'service', data[\"service\"].unique().tolist())\n",
    "\n",
    "Conn_state = tf.feature_column.categorical_column_with_vocabulary_list(\n",
    "    'Conn_state', data[\"Conn_state\"].unique().tolist())\n",
    "\n",
    "proto = tf.feature_column.categorical_column_with_vocabulary_list(\n",
    "    'proto', data[\"proto\"].unique().tolist())"
   ]
  },
  {
   "cell_type": "code",
   "execution_count": null,
   "metadata": {},
   "outputs": [],
   "source": [
    "deep_columns = [\n",
    "    tf.feature_column.indicator_column(service),\n",
    "    tf.feature_column.indicator_column(Conn_state),\n",
    "    tf.feature_column.indicator_column(proto),\n",
    "    tf.feature_column.embedding_column(src_port, dimension=150),\n",
    "    tf.feature_column.embedding_column(dst_port, dimension=100),\n",
    "]"
   ]
  },
  {
   "cell_type": "code",
   "execution_count": null,
   "metadata": {},
   "outputs": [],
   "source": [
    "crossed_columns = [\n",
    "      tf.feature_column.crossed_column(\n",
    "          ['src_port', 'service'], hash_bucket_size=10000),\n",
    "      tf.feature_column.crossed_column(\n",
    "          ['dst_port', 'service'], hash_bucket_size=10000),\n",
    "      tf.feature_column.crossed_column(\n",
    "          ['conn_len', 'src_bytes'], hash_bucket_size=10000),\n",
    "      tf.feature_column.crossed_column(\n",
    "          ['conn_len', 'dst_bytes'], hash_bucket_size=10000),\n",
    "      tf.feature_column.crossed_column(\n",
    "          ['dst_port', 'conn_numb'], hash_bucket_size=10000),  \n",
    "      tf.feature_column.crossed_column(\n",
    "          ['service', 'proto'], hash_bucket_size=100),\n",
    "    \n",
    "  ]"
   ]
  },
  {
   "cell_type": "code",
   "execution_count": null,
   "metadata": {},
   "outputs": [
    {
     "name": "stdout",
     "output_type": "stream",
     "text": [
      "INFO:tensorflow:Using default config.\n",
      "INFO:tensorflow:Using config: {'_model_dir': '/home/matz/Desktop/ml_ids/NN_model2', '_tf_random_seed': None, '_save_summary_steps': 100, '_save_checkpoints_steps': None, '_save_checkpoints_secs': 600, '_session_config': allow_soft_placement: true\n",
      "graph_options {\n",
      "  rewrite_options {\n",
      "    meta_optimizer_iterations: ONE\n",
      "  }\n",
      "}\n",
      ", '_keep_checkpoint_max': 5, '_keep_checkpoint_every_n_hours': 10000, '_log_step_count_steps': 100, '_train_distribute': None, '_device_fn': None, '_protocol': None, '_eval_distribute': None, '_experimental_distribute': None, '_service': None, '_cluster_spec': <tensorflow.python.training.server_lib.ClusterSpec object at 0x7fa2df340630>, '_task_type': 'worker', '_task_id': 0, '_global_id_in_cluster': 0, '_master': '', '_evaluation_master': '', '_is_chief': True, '_num_ps_replicas': 0, '_num_worker_replicas': 1}\n"
     ]
    }
   ],
   "source": [
    "model = tf.estimator.DNNLinearCombinedClassifier(\n",
    "    model_dir = \"/home/matz/Desktop/ml_ids/NN_model2\",\n",
    "    dnn_activation_fn=tf.nn.selu,\n",
    "    linear_feature_columns = deep_columns + deep_numeric_feat_tf + wide_numeric_feat_tf + crossed_columns,\n",
    "    dnn_feature_columns = deep_columns + deep_numeric_feat_tf + wide_numeric_feat_tf,\n",
    "    dnn_hidden_units = [750 ,550, 250, 125, 75, 55, 35, 20]\n",
    ")"
   ]
  },
  {
   "cell_type": "code",
   "execution_count": null,
   "metadata": {},
   "outputs": [],
   "source": [
    "feature_set= deep_numeric_feat + wide_numeric_feat + categorical_feat"
   ]
  },
  {
   "cell_type": "code",
   "execution_count": null,
   "metadata": {},
   "outputs": [],
   "source": [
    "def get_input_fn(data_set, num_epochs=None, n_batch = 256, shuffle=True):\n",
    "    return tf.estimator.inputs.pandas_input_fn(\n",
    "       x=pd.DataFrame({k: data_set[k].values for k in feature_set}),\n",
    "       y = pd.Series(data_set[\"attack_flag\"].values),\n",
    "       batch_size=n_batch,   \n",
    "       num_epochs=num_epochs,\n",
    "       shuffle=shuffle)"
   ]
  },
  {
   "cell_type": "code",
   "execution_count": null,
   "metadata": {},
   "outputs": [
    {
     "name": "stdout",
     "output_type": "stream",
     "text": [
      "WARNING:tensorflow:From /home/matz/.local/lib/python3.6/site-packages/tensorflow/python/estimator/inputs/queues/feeding_queue_runner.py:62: QueueRunner.__init__ (from tensorflow.python.training.queue_runner_impl) is deprecated and will be removed in a future version.\n",
      "Instructions for updating:\n",
      "To construct input pipelines, use the `tf.data` module.\n",
      "WARNING:tensorflow:From /home/matz/.local/lib/python3.6/site-packages/tensorflow/python/estimator/inputs/queues/feeding_functions.py:500: add_queue_runner (from tensorflow.python.training.queue_runner_impl) is deprecated and will be removed in a future version.\n",
      "Instructions for updating:\n",
      "To construct input pipelines, use the `tf.data` module.\n",
      "INFO:tensorflow:Calling model_fn.\n",
      "WARNING:tensorflow:From /home/matz/.local/lib/python3.6/site-packages/tensorflow/python/ops/sparse_ops.py:1165: sparse_to_dense (from tensorflow.python.ops.sparse_ops) is deprecated and will be removed in a future version.\n",
      "Instructions for updating:\n",
      "Create a `tf.sparse.SparseTensor` and use `tf.sparse.to_dense` instead.\n",
      "INFO:tensorflow:Done calling model_fn.\n",
      "INFO:tensorflow:Create CheckpointSaverHook.\n",
      "INFO:tensorflow:Graph was finalized.\n",
      "INFO:tensorflow:Running local_init_op.\n",
      "INFO:tensorflow:Done running local_init_op.\n",
      "WARNING:tensorflow:From /home/matz/.local/lib/python3.6/site-packages/tensorflow/python/training/monitored_session.py:804: start_queue_runners (from tensorflow.python.training.queue_runner_impl) is deprecated and will be removed in a future version.\n",
      "Instructions for updating:\n",
      "To construct input pipelines, use the `tf.data` module.\n",
      "INFO:tensorflow:Saving checkpoints for 0 into /home/matz/Desktop/ml_ids/NN_model2/model.ckpt.\n",
      "INFO:tensorflow:loss = 392.48584, step = 1\n",
      "INFO:tensorflow:global_step/sec: 57.8409\n",
      "INFO:tensorflow:loss = 12.114062, step = 101 (1.730 sec)\n",
      "INFO:tensorflow:global_step/sec: 70.2605\n",
      "INFO:tensorflow:loss = 4.3849106, step = 201 (1.423 sec)\n",
      "INFO:tensorflow:global_step/sec: 71.792\n",
      "INFO:tensorflow:loss = 3.9444952, step = 301 (1.393 sec)\n",
      "INFO:tensorflow:global_step/sec: 66.8114\n",
      "INFO:tensorflow:loss = 1.9540305, step = 401 (1.497 sec)\n",
      "INFO:tensorflow:global_step/sec: 72.5997\n",
      "INFO:tensorflow:loss = 4.391801, step = 501 (1.377 sec)\n",
      "INFO:tensorflow:global_step/sec: 72.0206\n",
      "INFO:tensorflow:loss = 6.734848, step = 601 (1.388 sec)\n",
      "INFO:tensorflow:global_step/sec: 62.2925\n",
      "INFO:tensorflow:loss = 3.2636967, step = 701 (1.605 sec)\n",
      "INFO:tensorflow:global_step/sec: 70.5426\n",
      "INFO:tensorflow:loss = 4.5364776, step = 801 (1.418 sec)\n",
      "INFO:tensorflow:global_step/sec: 68.1077\n",
      "INFO:tensorflow:loss = 6.9607644, step = 901 (1.469 sec)\n",
      "INFO:tensorflow:global_step/sec: 67.6105\n",
      "INFO:tensorflow:loss = 6.4811907, step = 1001 (1.478 sec)\n",
      "INFO:tensorflow:global_step/sec: 58.7158\n",
      "INFO:tensorflow:loss = 7.0867677, step = 1101 (1.704 sec)\n",
      "INFO:tensorflow:global_step/sec: 61.6875\n",
      "INFO:tensorflow:loss = 7.363873, step = 1201 (1.622 sec)\n",
      "INFO:tensorflow:global_step/sec: 60.3027\n",
      "INFO:tensorflow:loss = 8.895389, step = 1301 (1.656 sec)\n",
      "INFO:tensorflow:global_step/sec: 66.5196\n",
      "INFO:tensorflow:loss = 7.239148, step = 1401 (1.503 sec)\n",
      "INFO:tensorflow:global_step/sec: 59.9252\n",
      "INFO:tensorflow:loss = 5.305301, step = 1501 (1.670 sec)\n",
      "INFO:tensorflow:global_step/sec: 56.6367\n",
      "INFO:tensorflow:loss = 12.5790825, step = 1601 (1.765 sec)\n",
      "INFO:tensorflow:global_step/sec: 57.7141\n",
      "INFO:tensorflow:loss = 1.8220199, step = 1701 (1.732 sec)\n",
      "INFO:tensorflow:global_step/sec: 57.4069\n",
      "INFO:tensorflow:loss = 4.0227404, step = 1801 (1.742 sec)\n",
      "INFO:tensorflow:global_step/sec: 61.1751\n",
      "INFO:tensorflow:loss = 2.1734712, step = 1901 (1.634 sec)\n",
      "INFO:tensorflow:global_step/sec: 54.2559\n",
      "INFO:tensorflow:loss = 2.2327793, step = 2001 (1.843 sec)\n",
      "INFO:tensorflow:global_step/sec: 62.5671\n",
      "INFO:tensorflow:loss = 4.3687778, step = 2101 (1.598 sec)\n",
      "INFO:tensorflow:global_step/sec: 63.6845\n",
      "INFO:tensorflow:loss = 2.472397, step = 2201 (1.570 sec)\n",
      "INFO:tensorflow:global_step/sec: 62.5391\n",
      "INFO:tensorflow:loss = 3.54255, step = 2301 (1.599 sec)\n",
      "INFO:tensorflow:global_step/sec: 60.7714\n",
      "INFO:tensorflow:loss = 4.7463613, step = 2401 (1.646 sec)\n",
      "INFO:tensorflow:global_step/sec: 61.4975\n",
      "INFO:tensorflow:loss = 11.449295, step = 2501 (1.626 sec)\n",
      "INFO:tensorflow:global_step/sec: 73.7579\n",
      "INFO:tensorflow:loss = 4.730287, step = 2601 (1.356 sec)\n",
      "INFO:tensorflow:global_step/sec: 74.2859\n",
      "INFO:tensorflow:loss = 1.0225849, step = 2701 (1.346 sec)\n",
      "INFO:tensorflow:global_step/sec: 76.4397\n",
      "INFO:tensorflow:loss = 7.2311683, step = 2801 (1.308 sec)\n",
      "INFO:tensorflow:global_step/sec: 71.2814\n",
      "INFO:tensorflow:loss = 2.5419254, step = 2901 (1.403 sec)\n",
      "INFO:tensorflow:global_step/sec: 76.2077\n",
      "INFO:tensorflow:loss = 1.1397357, step = 3001 (1.312 sec)\n",
      "INFO:tensorflow:global_step/sec: 68.1906\n",
      "INFO:tensorflow:loss = 4.582846, step = 3101 (1.467 sec)\n",
      "INFO:tensorflow:global_step/sec: 71.532\n",
      "INFO:tensorflow:loss = 0.9290079, step = 3201 (1.398 sec)\n",
      "INFO:tensorflow:global_step/sec: 76.755\n",
      "INFO:tensorflow:loss = 63.51461, step = 3301 (1.302 sec)\n",
      "INFO:tensorflow:global_step/sec: 76.4209\n",
      "INFO:tensorflow:loss = 4.058983, step = 3401 (1.309 sec)\n",
      "INFO:tensorflow:global_step/sec: 73.7561\n",
      "INFO:tensorflow:loss = 10.1840725, step = 3501 (1.356 sec)\n",
      "INFO:tensorflow:global_step/sec: 72.2142\n",
      "INFO:tensorflow:loss = 6.0817175, step = 3601 (1.385 sec)\n",
      "INFO:tensorflow:global_step/sec: 72.9235\n",
      "INFO:tensorflow:loss = 3.6697643, step = 3701 (1.372 sec)\n",
      "INFO:tensorflow:global_step/sec: 75.0549\n",
      "INFO:tensorflow:loss = 1.9621652, step = 3801 (1.333 sec)\n",
      "INFO:tensorflow:global_step/sec: 75.2352\n",
      "INFO:tensorflow:loss = 1.9034773, step = 3901 (1.329 sec)\n",
      "INFO:tensorflow:global_step/sec: 71.0839\n",
      "INFO:tensorflow:loss = 2.7947474, step = 4001 (1.407 sec)\n",
      "INFO:tensorflow:global_step/sec: 65.997\n",
      "INFO:tensorflow:loss = 0.76286256, step = 4101 (1.515 sec)\n",
      "INFO:tensorflow:global_step/sec: 72.4216\n",
      "INFO:tensorflow:loss = 6.9392533, step = 4201 (1.381 sec)\n",
      "INFO:tensorflow:global_step/sec: 68.4656\n",
      "INFO:tensorflow:loss = 10.730734, step = 4301 (1.461 sec)\n",
      "INFO:tensorflow:global_step/sec: 72.553\n",
      "INFO:tensorflow:loss = 8.821923, step = 4401 (1.379 sec)\n",
      "INFO:tensorflow:global_step/sec: 75.0281\n",
      "INFO:tensorflow:loss = 3.816503, step = 4501 (1.333 sec)\n",
      "INFO:tensorflow:global_step/sec: 74.6789\n",
      "INFO:tensorflow:loss = 0.94514513, step = 4601 (1.339 sec)\n",
      "INFO:tensorflow:global_step/sec: 75.2068\n",
      "INFO:tensorflow:loss = 1.0049151, step = 4701 (1.330 sec)\n",
      "INFO:tensorflow:global_step/sec: 72.527\n",
      "INFO:tensorflow:loss = 0.8596469, step = 4801 (1.379 sec)\n",
      "INFO:tensorflow:global_step/sec: 76.5092\n",
      "INFO:tensorflow:loss = 7.9490323, step = 4901 (1.307 sec)\n",
      "INFO:tensorflow:global_step/sec: 76.6986\n",
      "INFO:tensorflow:loss = 29.787106, step = 5001 (1.304 sec)\n",
      "INFO:tensorflow:global_step/sec: 72.2162\n",
      "INFO:tensorflow:loss = 3.453121, step = 5101 (1.385 sec)\n",
      "INFO:tensorflow:global_step/sec: 75.0061\n",
      "INFO:tensorflow:loss = 2.8785486, step = 5201 (1.333 sec)\n",
      "INFO:tensorflow:global_step/sec: 76.6489\n",
      "INFO:tensorflow:loss = 1.4512655, step = 5301 (1.305 sec)\n",
      "INFO:tensorflow:global_step/sec: 69.808\n",
      "INFO:tensorflow:loss = 1.7371467, step = 5401 (1.433 sec)\n",
      "INFO:tensorflow:global_step/sec: 75.7201\n",
      "INFO:tensorflow:loss = 0.79875344, step = 5501 (1.321 sec)\n",
      "INFO:tensorflow:global_step/sec: 76.9305\n",
      "INFO:tensorflow:loss = 0.73193747, step = 5601 (1.300 sec)\n",
      "INFO:tensorflow:global_step/sec: 75.0388\n",
      "INFO:tensorflow:loss = 3.495148, step = 5701 (1.332 sec)\n",
      "INFO:tensorflow:global_step/sec: 70.9506\n",
      "INFO:tensorflow:loss = 3.8934069, step = 5801 (1.409 sec)\n",
      "INFO:tensorflow:global_step/sec: 74.8481\n",
      "INFO:tensorflow:loss = 1.746377, step = 5901 (1.336 sec)\n",
      "INFO:tensorflow:global_step/sec: 75.0485\n",
      "INFO:tensorflow:loss = 2.0329266, step = 6001 (1.332 sec)\n",
      "INFO:tensorflow:global_step/sec: 77.1805\n",
      "INFO:tensorflow:loss = 6.5089016, step = 6101 (1.296 sec)\n",
      "INFO:tensorflow:global_step/sec: 67.0724\n",
      "INFO:tensorflow:loss = 2.3648524, step = 6201 (1.491 sec)\n",
      "INFO:tensorflow:global_step/sec: 74.3591\n",
      "INFO:tensorflow:loss = 3.0157638, step = 6301 (1.345 sec)\n",
      "INFO:tensorflow:global_step/sec: 72.905\n",
      "INFO:tensorflow:loss = 2.0207229, step = 6401 (1.371 sec)\n",
      "INFO:tensorflow:global_step/sec: 76.3033\n",
      "INFO:tensorflow:loss = 9.501459, step = 6501 (1.310 sec)\n",
      "INFO:tensorflow:global_step/sec: 75.2084\n",
      "INFO:tensorflow:loss = 9.225458, step = 6601 (1.330 sec)\n"
     ]
    },
    {
     "name": "stdout",
     "output_type": "stream",
     "text": [
      "INFO:tensorflow:global_step/sec: 70.418\n",
      "INFO:tensorflow:loss = 6.723247, step = 6701 (1.420 sec)\n",
      "INFO:tensorflow:global_step/sec: 71.6994\n",
      "INFO:tensorflow:loss = 1.7089075, step = 6801 (1.395 sec)\n",
      "INFO:tensorflow:global_step/sec: 70.5313\n",
      "INFO:tensorflow:loss = 0.5356589, step = 6901 (1.418 sec)\n",
      "INFO:tensorflow:global_step/sec: 71.3952\n",
      "INFO:tensorflow:loss = 0.94464684, step = 7001 (1.400 sec)\n",
      "INFO:tensorflow:global_step/sec: 70.7504\n",
      "INFO:tensorflow:loss = 1.4725621, step = 7101 (1.413 sec)\n",
      "INFO:tensorflow:global_step/sec: 71.2161\n",
      "INFO:tensorflow:loss = 9.368528, step = 7201 (1.404 sec)\n",
      "INFO:tensorflow:global_step/sec: 71.2466\n",
      "INFO:tensorflow:loss = 1.9766287, step = 7301 (1.403 sec)\n",
      "INFO:tensorflow:global_step/sec: 67.7669\n",
      "INFO:tensorflow:loss = 3.1579757, step = 7401 (1.476 sec)\n",
      "INFO:tensorflow:global_step/sec: 69.3492\n",
      "INFO:tensorflow:loss = 6.4788713, step = 7501 (1.442 sec)\n",
      "INFO:tensorflow:global_step/sec: 76.697\n",
      "INFO:tensorflow:loss = 2.2219017, step = 7601 (1.304 sec)\n",
      "INFO:tensorflow:global_step/sec: 69.3233\n",
      "INFO:tensorflow:loss = 8.583558, step = 7701 (1.442 sec)\n",
      "INFO:tensorflow:global_step/sec: 68.6078\n",
      "INFO:tensorflow:loss = 4.0123134, step = 7801 (1.457 sec)\n",
      "INFO:tensorflow:global_step/sec: 68.782\n",
      "INFO:tensorflow:loss = 1.9650503, step = 7901 (1.454 sec)\n",
      "INFO:tensorflow:global_step/sec: 64.9645\n",
      "INFO:tensorflow:loss = 1.1891164, step = 8001 (1.539 sec)\n",
      "INFO:tensorflow:global_step/sec: 62.9293\n",
      "INFO:tensorflow:loss = 1.8005887, step = 8101 (1.590 sec)\n",
      "INFO:tensorflow:global_step/sec: 63.9362\n",
      "INFO:tensorflow:loss = 3.0003078, step = 8201 (1.563 sec)\n",
      "INFO:tensorflow:global_step/sec: 64.2193\n",
      "INFO:tensorflow:loss = 4.6137047, step = 8301 (1.558 sec)\n",
      "INFO:tensorflow:global_step/sec: 62.8316\n",
      "INFO:tensorflow:loss = 1.231823, step = 8401 (1.591 sec)\n",
      "INFO:tensorflow:global_step/sec: 69.8988\n",
      "INFO:tensorflow:loss = 5.5557523, step = 8501 (1.431 sec)\n",
      "INFO:tensorflow:global_step/sec: 65.5247\n",
      "INFO:tensorflow:loss = 3.1434612, step = 8601 (1.526 sec)\n",
      "INFO:tensorflow:global_step/sec: 72.1456\n",
      "INFO:tensorflow:loss = 1.8845787, step = 8701 (1.386 sec)\n",
      "INFO:tensorflow:global_step/sec: 72.9324\n",
      "INFO:tensorflow:loss = 7.5517435, step = 8801 (1.371 sec)\n",
      "INFO:tensorflow:global_step/sec: 73.3901\n",
      "INFO:tensorflow:loss = 2.9331183, step = 8901 (1.363 sec)\n",
      "INFO:tensorflow:global_step/sec: 71.7784\n",
      "INFO:tensorflow:loss = 1.986255, step = 9001 (1.393 sec)\n",
      "INFO:tensorflow:global_step/sec: 71.0972\n",
      "INFO:tensorflow:loss = 6.9916735, step = 9101 (1.406 sec)\n",
      "INFO:tensorflow:global_step/sec: 73.8884\n",
      "INFO:tensorflow:loss = 1.456432, step = 9201 (1.353 sec)\n",
      "INFO:tensorflow:global_step/sec: 71.4392\n",
      "INFO:tensorflow:loss = 1.3866364, step = 9301 (1.400 sec)\n",
      "INFO:tensorflow:global_step/sec: 70.666\n",
      "INFO:tensorflow:loss = 6.045773, step = 9401 (1.415 sec)\n",
      "INFO:tensorflow:global_step/sec: 71.413\n",
      "INFO:tensorflow:loss = 2.5392485, step = 9501 (1.401 sec)\n",
      "INFO:tensorflow:global_step/sec: 71.0568\n",
      "INFO:tensorflow:loss = 1.4513465, step = 9601 (1.407 sec)\n",
      "INFO:tensorflow:global_step/sec: 73.4199\n",
      "INFO:tensorflow:loss = 1.4845823, step = 9701 (1.362 sec)\n",
      "INFO:tensorflow:global_step/sec: 72.5673\n",
      "INFO:tensorflow:loss = 3.491893, step = 9801 (1.378 sec)\n",
      "INFO:tensorflow:global_step/sec: 73.2939\n",
      "INFO:tensorflow:loss = 3.5285292, step = 9901 (1.364 sec)\n",
      "INFO:tensorflow:global_step/sec: 71.3104\n",
      "INFO:tensorflow:loss = 2.2752552, step = 10001 (1.402 sec)\n",
      "INFO:tensorflow:global_step/sec: 72.8123\n",
      "INFO:tensorflow:loss = 3.6315224, step = 10101 (1.373 sec)\n",
      "INFO:tensorflow:global_step/sec: 71.0974\n",
      "INFO:tensorflow:loss = 6.741929, step = 10201 (1.406 sec)\n",
      "INFO:tensorflow:global_step/sec: 75.7671\n",
      "INFO:tensorflow:loss = 3.9753306, step = 10301 (1.320 sec)\n",
      "INFO:tensorflow:global_step/sec: 77.462\n",
      "INFO:tensorflow:loss = 1.2036101, step = 10401 (1.291 sec)\n",
      "INFO:tensorflow:global_step/sec: 73.5138\n",
      "INFO:tensorflow:loss = 2.061707, step = 10501 (1.360 sec)\n",
      "INFO:tensorflow:global_step/sec: 77.056\n",
      "INFO:tensorflow:loss = 9.271366, step = 10601 (1.298 sec)\n",
      "INFO:tensorflow:global_step/sec: 71.4177\n",
      "INFO:tensorflow:loss = 7.024185, step = 10701 (1.400 sec)\n",
      "INFO:tensorflow:global_step/sec: 70.5381\n",
      "INFO:tensorflow:loss = 11.6822, step = 10801 (1.418 sec)\n",
      "INFO:tensorflow:global_step/sec: 71.1813\n",
      "INFO:tensorflow:loss = 3.8188608, step = 10901 (1.405 sec)\n",
      "INFO:tensorflow:global_step/sec: 68.6653\n",
      "INFO:tensorflow:loss = 1.3446933, step = 11001 (1.456 sec)\n",
      "INFO:tensorflow:global_step/sec: 77.3996\n",
      "INFO:tensorflow:loss = 4.9416437, step = 11101 (1.292 sec)\n",
      "INFO:tensorflow:global_step/sec: 72.8085\n",
      "INFO:tensorflow:loss = 2.7286959, step = 11201 (1.373 sec)\n",
      "INFO:tensorflow:global_step/sec: 72.6155\n",
      "INFO:tensorflow:loss = 0.45331776, step = 11301 (1.377 sec)\n",
      "INFO:tensorflow:global_step/sec: 72.135\n",
      "INFO:tensorflow:loss = 1.5402809, step = 11401 (1.387 sec)\n",
      "INFO:tensorflow:global_step/sec: 71.1738\n",
      "INFO:tensorflow:loss = 8.840786, step = 11501 (1.405 sec)\n",
      "INFO:tensorflow:global_step/sec: 74.7134\n",
      "INFO:tensorflow:loss = 1.8223872, step = 11601 (1.338 sec)\n",
      "INFO:tensorflow:global_step/sec: 71.6324\n",
      "INFO:tensorflow:loss = 7.0392914, step = 11701 (1.396 sec)\n",
      "INFO:tensorflow:global_step/sec: 77.8158\n",
      "INFO:tensorflow:loss = 7.0900965, step = 11801 (1.285 sec)\n",
      "INFO:tensorflow:global_step/sec: 70.5679\n",
      "INFO:tensorflow:loss = 1.2335496, step = 11901 (1.417 sec)\n",
      "INFO:tensorflow:global_step/sec: 75.256\n",
      "INFO:tensorflow:loss = 5.8242097, step = 12001 (1.329 sec)\n",
      "INFO:tensorflow:global_step/sec: 70.7173\n",
      "INFO:tensorflow:loss = 3.4898267, step = 12101 (1.414 sec)\n",
      "INFO:tensorflow:global_step/sec: 71.0085\n",
      "INFO:tensorflow:loss = 0.7354976, step = 12201 (1.408 sec)\n",
      "INFO:tensorflow:global_step/sec: 71.3144\n",
      "INFO:tensorflow:loss = 1.0316261, step = 12301 (1.403 sec)\n",
      "INFO:tensorflow:global_step/sec: 72.2474\n",
      "INFO:tensorflow:loss = 0.8831978, step = 12401 (1.384 sec)\n",
      "INFO:tensorflow:global_step/sec: 71.3655\n",
      "INFO:tensorflow:loss = 0.8943193, step = 12501 (1.401 sec)\n",
      "INFO:tensorflow:global_step/sec: 75.1878\n",
      "INFO:tensorflow:loss = 3.5523157, step = 12601 (1.330 sec)\n",
      "INFO:tensorflow:global_step/sec: 73.2188\n",
      "INFO:tensorflow:loss = 2.2899275, step = 12701 (1.366 sec)\n",
      "INFO:tensorflow:global_step/sec: 73.2046\n",
      "INFO:tensorflow:loss = 2.6038678, step = 12801 (1.366 sec)\n",
      "INFO:tensorflow:global_step/sec: 73.7142\n",
      "INFO:tensorflow:loss = 2.864867, step = 12901 (1.357 sec)\n",
      "INFO:tensorflow:global_step/sec: 73.4351\n",
      "INFO:tensorflow:loss = 2.9645987, step = 13001 (1.362 sec)\n",
      "INFO:tensorflow:global_step/sec: 73.1893\n",
      "INFO:tensorflow:loss = 1.3977424, step = 13101 (1.366 sec)\n",
      "INFO:tensorflow:global_step/sec: 73.5732\n",
      "INFO:tensorflow:loss = 0.728517, step = 13201 (1.359 sec)\n",
      "INFO:tensorflow:global_step/sec: 73.0582\n",
      "INFO:tensorflow:loss = 1.0565741, step = 13301 (1.369 sec)\n",
      "INFO:tensorflow:global_step/sec: 72.8649\n",
      "INFO:tensorflow:loss = 1.1952926, step = 13401 (1.373 sec)\n",
      "INFO:tensorflow:global_step/sec: 72.7938\n",
      "INFO:tensorflow:loss = 1.5370259, step = 13501 (1.374 sec)\n",
      "INFO:tensorflow:global_step/sec: 77.7233\n",
      "INFO:tensorflow:loss = 5.20954, step = 13601 (1.287 sec)\n",
      "INFO:tensorflow:global_step/sec: 70.6998\n",
      "INFO:tensorflow:loss = 1.2240506, step = 13701 (1.414 sec)\n",
      "INFO:tensorflow:global_step/sec: 74.8093\n",
      "INFO:tensorflow:loss = 2.683401, step = 13801 (1.337 sec)\n",
      "INFO:tensorflow:global_step/sec: 76.5583\n",
      "INFO:tensorflow:loss = 1.810796, step = 13901 (1.306 sec)\n",
      "INFO:tensorflow:global_step/sec: 73.0843\n",
      "INFO:tensorflow:loss = 0.96764934, step = 14001 (1.368 sec)\n",
      "INFO:tensorflow:global_step/sec: 73.4421\n",
      "INFO:tensorflow:loss = 0.60088944, step = 14101 (1.362 sec)\n",
      "INFO:tensorflow:global_step/sec: 75.164\n",
      "INFO:tensorflow:loss = 1.2124336, step = 14201 (1.330 sec)\n",
      "INFO:tensorflow:global_step/sec: 72.7479\n",
      "INFO:tensorflow:loss = 0.78105193, step = 14301 (1.375 sec)\n",
      "INFO:tensorflow:global_step/sec: 72.3886\n",
      "INFO:tensorflow:loss = 0.69743454, step = 14401 (1.381 sec)\n",
      "INFO:tensorflow:global_step/sec: 67.979\n",
      "INFO:tensorflow:loss = 1.5237149, step = 14501 (1.472 sec)\n",
      "INFO:tensorflow:global_step/sec: 61.7102\n",
      "INFO:tensorflow:loss = 2.2969275, step = 14601 (1.620 sec)\n",
      "INFO:tensorflow:global_step/sec: 61.9111\n",
      "INFO:tensorflow:loss = 2.4003155, step = 14701 (1.614 sec)\n",
      "INFO:tensorflow:global_step/sec: 73.3933\n",
      "INFO:tensorflow:loss = 1.4206282, step = 14801 (1.363 sec)\n",
      "INFO:tensorflow:global_step/sec: 63.4017\n",
      "INFO:tensorflow:loss = 1.6279135, step = 14901 (1.577 sec)\n"
     ]
    },
    {
     "name": "stdout",
     "output_type": "stream",
     "text": [
      "INFO:tensorflow:global_step/sec: 65.1536\n",
      "INFO:tensorflow:loss = 1.7885835, step = 15001 (1.535 sec)\n",
      "INFO:tensorflow:global_step/sec: 58.1144\n",
      "INFO:tensorflow:loss = 2.255279, step = 15101 (1.721 sec)\n",
      "INFO:tensorflow:global_step/sec: 59.0421\n",
      "INFO:tensorflow:loss = 2.3941216, step = 15201 (1.694 sec)\n",
      "INFO:tensorflow:global_step/sec: 43.5259\n",
      "INFO:tensorflow:loss = 2.2476594, step = 15301 (2.297 sec)\n",
      "INFO:tensorflow:global_step/sec: 59.3091\n",
      "INFO:tensorflow:loss = 2.0672674, step = 15401 (1.685 sec)\n",
      "INFO:tensorflow:global_step/sec: 55.563\n",
      "INFO:tensorflow:loss = 3.7691987, step = 15501 (1.800 sec)\n",
      "INFO:tensorflow:global_step/sec: 52.2497\n",
      "INFO:tensorflow:loss = 1.9994286, step = 15601 (1.913 sec)\n",
      "INFO:tensorflow:global_step/sec: 53.1851\n",
      "INFO:tensorflow:loss = 1.1855084, step = 15701 (1.881 sec)\n",
      "INFO:tensorflow:global_step/sec: 56.0877\n",
      "INFO:tensorflow:loss = 0.65526146, step = 15801 (1.783 sec)\n",
      "INFO:tensorflow:global_step/sec: 67.8255\n",
      "INFO:tensorflow:loss = 1.5324699, step = 15901 (1.474 sec)\n",
      "INFO:tensorflow:global_step/sec: 65.0143\n",
      "INFO:tensorflow:loss = 1.9631498, step = 16001 (1.538 sec)\n",
      "INFO:tensorflow:global_step/sec: 64.5527\n",
      "INFO:tensorflow:loss = 8.1145115, step = 16101 (1.549 sec)\n",
      "INFO:tensorflow:global_step/sec: 65.2525\n",
      "INFO:tensorflow:loss = 7.2869396, step = 16201 (1.532 sec)\n",
      "INFO:tensorflow:global_step/sec: 65.1252\n",
      "INFO:tensorflow:loss = 9.500042, step = 16301 (1.536 sec)\n",
      "INFO:tensorflow:global_step/sec: 65.9169\n",
      "INFO:tensorflow:loss = 3.829433, step = 16401 (1.517 sec)\n",
      "INFO:tensorflow:global_step/sec: 63.0003\n",
      "INFO:tensorflow:loss = 5.4510508, step = 16501 (1.587 sec)\n",
      "INFO:tensorflow:global_step/sec: 60.0032\n",
      "INFO:tensorflow:loss = 2.7069042, step = 16601 (1.667 sec)\n",
      "INFO:tensorflow:global_step/sec: 57.8406\n",
      "INFO:tensorflow:loss = 6.4197135, step = 16701 (1.729 sec)\n",
      "INFO:tensorflow:global_step/sec: 63.4935\n",
      "INFO:tensorflow:loss = 0.51562357, step = 16801 (1.575 sec)\n",
      "INFO:tensorflow:global_step/sec: 56.2643\n",
      "INFO:tensorflow:loss = 3.124243, step = 16901 (1.777 sec)\n",
      "INFO:tensorflow:global_step/sec: 53.2944\n",
      "INFO:tensorflow:loss = 1.7971838, step = 17001 (1.876 sec)\n",
      "INFO:tensorflow:global_step/sec: 53.3216\n",
      "INFO:tensorflow:loss = 1.4153726, step = 17101 (1.876 sec)\n",
      "INFO:tensorflow:global_step/sec: 63.1944\n",
      "INFO:tensorflow:loss = 1.1590166, step = 17201 (1.582 sec)\n",
      "INFO:tensorflow:global_step/sec: 60.046\n",
      "INFO:tensorflow:loss = 2.3559616, step = 17301 (1.665 sec)\n",
      "INFO:tensorflow:global_step/sec: 59.6702\n",
      "INFO:tensorflow:loss = 0.85669535, step = 17401 (1.676 sec)\n",
      "INFO:tensorflow:global_step/sec: 56.5421\n",
      "INFO:tensorflow:loss = 1.1843505, step = 17501 (1.770 sec)\n",
      "INFO:tensorflow:global_step/sec: 53.7227\n",
      "INFO:tensorflow:loss = 5.9684186, step = 17601 (1.860 sec)\n",
      "INFO:tensorflow:global_step/sec: 62.7947\n",
      "INFO:tensorflow:loss = 1.5996797, step = 17701 (1.593 sec)\n",
      "INFO:tensorflow:global_step/sec: 62.868\n",
      "INFO:tensorflow:loss = 3.0574498, step = 17801 (1.591 sec)\n",
      "INFO:tensorflow:global_step/sec: 53.5969\n",
      "INFO:tensorflow:loss = 1.7020583, step = 17901 (1.866 sec)\n",
      "INFO:tensorflow:global_step/sec: 56.4698\n",
      "INFO:tensorflow:loss = 6.8800025, step = 18001 (1.771 sec)\n",
      "INFO:tensorflow:global_step/sec: 57.3483\n",
      "INFO:tensorflow:loss = 1.5875993, step = 18101 (1.744 sec)\n",
      "INFO:tensorflow:global_step/sec: 61.9447\n",
      "INFO:tensorflow:loss = 1.4678568, step = 18201 (1.614 sec)\n",
      "INFO:tensorflow:global_step/sec: 64.891\n",
      "INFO:tensorflow:loss = 2.4411683, step = 18301 (1.541 sec)\n",
      "INFO:tensorflow:global_step/sec: 64.8341\n",
      "INFO:tensorflow:loss = 5.4817576, step = 18401 (1.542 sec)\n",
      "INFO:tensorflow:global_step/sec: 63.7201\n",
      "INFO:tensorflow:loss = 0.9484705, step = 18501 (1.570 sec)\n",
      "INFO:tensorflow:global_step/sec: 64.4686\n",
      "INFO:tensorflow:loss = 8.282153, step = 18601 (1.551 sec)\n",
      "INFO:tensorflow:global_step/sec: 66.7646\n",
      "INFO:tensorflow:loss = 4.201217, step = 18701 (1.498 sec)\n",
      "INFO:tensorflow:global_step/sec: 66.1125\n",
      "INFO:tensorflow:loss = 7.912186, step = 18801 (1.513 sec)\n",
      "INFO:tensorflow:global_step/sec: 57.9058\n",
      "INFO:tensorflow:loss = 2.1239069, step = 18901 (1.727 sec)\n",
      "INFO:tensorflow:global_step/sec: 62.3262\n",
      "INFO:tensorflow:loss = 1.7675328, step = 19001 (1.606 sec)\n",
      "INFO:tensorflow:global_step/sec: 52.7718\n",
      "INFO:tensorflow:loss = 1.914929, step = 19101 (1.894 sec)\n",
      "INFO:tensorflow:global_step/sec: 56.8209\n",
      "INFO:tensorflow:loss = 0.9495767, step = 19201 (1.760 sec)\n",
      "INFO:tensorflow:global_step/sec: 57.3596\n",
      "INFO:tensorflow:loss = 1.2603335, step = 19301 (1.743 sec)\n"
     ]
    }
   ],
   "source": [
    "model.train(input_fn=get_input_fn(train, n_batch=180), steps=20000)"
   ]
  },
  {
   "cell_type": "code",
   "execution_count": null,
   "metadata": {},
   "outputs": [],
   "source": [
    "eval_metrics = model.evaluate(input_fn=get_input_fn(validate, n_batch=validate.shape[0], shuffle=False), steps=1)"
   ]
  },
  {
   "cell_type": "code",
   "execution_count": null,
   "metadata": {
    "scrolled": true
   },
   "outputs": [],
   "source": [
    "for key,value in sorted(eval_metrics.items()):\n",
    "  print('%s: %s' % (key, value))"
   ]
  },
  {
   "cell_type": "code",
   "execution_count": null,
   "metadata": {},
   "outputs": [],
   "source": [
    "results = []\n",
    "results = list(model.predict(input_fn=get_input_fn(test, num_epochs=1, n_batch = X_test.shape[0], shuffle=False)))"
   ]
  },
  {
   "cell_type": "code",
   "execution_count": null,
   "metadata": {},
   "outputs": [],
   "source": [
    "y_pred = []\n",
    "for el in results:\n",
    "    y_pred.append(el[\"class_ids\"])"
   ]
  },
  {
   "cell_type": "code",
   "execution_count": null,
   "metadata": {},
   "outputs": [],
   "source": [
    "name = \"NN\"\n",
    "\n",
    "Acc = {}\n",
    "F1S = {}\n",
    "Prec = {}\n",
    "Rec = {}\n",
    "FPR = {}\n",
    "\n",
    "Acc[name] = metrics.accuracy_score(test[\"attack_flag\"], y_pred)\n",
    "F1S[name] = metrics.f1_score(test[\"attack_flag\"], y_pred)\n",
    "Prec[name] = metrics.precision_score(test[\"attack_flag\"], y_pred)\n",
    "Rec[name] = metrics.recall_score(test[\"attack_flag\"], y_pred)\n",
    "tn, fp, fn, tp = metrics.confusion_matrix(test[\"attack_flag\"], y_pred).ravel()\n",
    "FPR[name] = fp/(fp+tn)\n",
    "\n",
    "print(\"{0:2} Accuracy: {1:.5f}, F1-score: {2:.5f}, Precision: {3:.5f}, Recall: {4:.5f}, FPR: {5:.5f}\".format(name, Acc[name], F1S[name], Prec[name], Rec[name], FPR[name]))\n",
    "print(\"TN: {0:3}; FP: {1:3}; FN: {2:4}; TP: {3:3}\\n\".format(tn, fp, fn, tp))"
   ]
  },
  {
   "cell_type": "markdown",
   "metadata": {},
   "source": [
    "## New data prediction"
   ]
  },
  {
   "cell_type": "code",
   "execution_count": 286,
   "metadata": {},
   "outputs": [
    {
     "name": "stdout",
     "output_type": "stream",
     "text": [
      "Counter({-1: 189082, 1: 12436})\n"
     ]
    }
   ],
   "source": [
    "test_set = pd.read_csv(\"20151220.txt\", sep = \"\\t\", header = None)\n",
    "test_set.columns = [\"conn_len\", \"service\", \"src_bytes\", \"dst_bytes\", \"conn_numb\", \"Same_srv_rate\", \"Serror_rate\", \"Srv_serror_rate\", \"Dst_host_count\", \"Dst_host_srv_count\", \"Dst_host_same_src_port_rate\", \"Dst_host_serror_rate\", \"Dst_host_srv_serror_rate\", \"Conn_state\", \"IDS_detection\", \"Malware_detection\", \"Ashula_detection\", \"attack_flag\", \"src_IP\", \"src_port\", \"dst_IP\", \"dst_port\", \"start_time\", \"proto\"]\n",
    "print(Counter(test_set[\"attack_flag\"]))"
   ]
  },
  {
   "cell_type": "code",
   "execution_count": 65,
   "metadata": {},
   "outputs": [],
   "source": [
    "test_set.loc[:, \"attack_flag\"] = test_set.loc[:,\"attack_flag\"].replace(-2, -1)\n",
    "test_set.loc[:, \"attack_flag\"] = test_set.loc[:, \"attack_flag\"] * -1\n",
    "test_set.loc[:, \"attack_flag\"] = test_set.loc[:,\"attack_flag\"].replace(-1, 0)"
   ]
  },
  {
   "cell_type": "code",
   "execution_count": 27,
   "metadata": {},
   "outputs": [
    {
     "data": {
      "text/plain": [
       "(201518, 24)"
      ]
     },
     "execution_count": 27,
     "metadata": {},
     "output_type": "execute_result"
    }
   ],
   "source": [
    "# removing NaNs\n",
    "test_set = test_set.dropna()\n",
    "test_set.shape"
   ]
  },
  {
   "cell_type": "code",
   "execution_count": 28,
   "metadata": {},
   "outputs": [],
   "source": [
    "test_set[\"well_known_src_pool\"] = test_set.apply(wk, axis=1)\n",
    "test_set[\"registered_src_pool\"] = test_set.apply(reg, axis=1)\n",
    "test_set[\"cli_src_pool\"] = test_set.apply(cli, axis=1)"
   ]
  },
  {
   "cell_type": "code",
   "execution_count": 29,
   "metadata": {},
   "outputs": [],
   "source": [
    "test_set[\"src_port\"] = test_set[\"src_port\"].apply(str)\n",
    "test_set[\"dst_port\"] = test_set[\"dst_port\"].apply(str)"
   ]
  },
  {
   "cell_type": "code",
   "execution_count": 30,
   "metadata": {
    "scrolled": true
   },
   "outputs": [
    {
     "name": "stdout",
     "output_type": "stream",
     "text": [
      "(30000, 27)\n"
     ]
    }
   ],
   "source": [
    "#test_new_data = test_set.sample(n=30000, random_state=1)\n",
    "test_new_data = test_set.loc[range(30000), :]\n",
    "test_new_data = test_new_data.sample(frac=1)\n",
    "y_test_new_data = test_new_data.loc[:, \"attack_flag\"].values.ravel()\n",
    "X_test_new_data = test_new_data.drop([\"attack_flag\"], axis=1)\n",
    "print(test_new_data.shape)"
   ]
  },
  {
   "cell_type": "code",
   "execution_count": 31,
   "metadata": {},
   "outputs": [
    {
     "name": "stdout",
     "output_type": "stream",
     "text": [
      "Counter({1: 29540, 0: 460})\n"
     ]
    }
   ],
   "source": [
    "print(Counter(test_new_data[\"attack_flag\"]))"
   ]
  },
  {
   "cell_type": "code",
   "execution_count": 32,
   "metadata": {},
   "outputs": [
    {
     "name": "stdout",
     "output_type": "stream",
     "text": [
      "INFO:tensorflow:Calling model_fn.\n",
      "INFO:tensorflow:Done calling model_fn.\n",
      "INFO:tensorflow:Graph was finalized.\n",
      "INFO:tensorflow:Restoring parameters from /home/matz/Desktop/ml_ids/NN_model/model.ckpt-10000\n",
      "INFO:tensorflow:Running local_init_op.\n",
      "INFO:tensorflow:Done running local_init_op.\n"
     ]
    }
   ],
   "source": [
    "results = []\n",
    "results = list(model.predict(input_fn=get_input_fn(test_new_data, num_epochs=1, n_batch = X_test.shape[0], shuffle=False)))"
   ]
  },
  {
   "cell_type": "code",
   "execution_count": 33,
   "metadata": {},
   "outputs": [],
   "source": [
    "y_pred = []\n",
    "for el in results:\n",
    "    y_pred.append(el[\"class_ids\"])"
   ]
  },
  {
   "cell_type": "code",
   "execution_count": 34,
   "metadata": {},
   "outputs": [
    {
     "name": "stdout",
     "output_type": "stream",
     "text": [
      "NN Accuracy: 0.98410, F1-score: 0.99192, Precision: 0.99284, Recall: 0.99100, FPR: 0.45870\n",
      "TN: 249; FP: 211; FN:  266; TP: 29274\n",
      "\n"
     ]
    }
   ],
   "source": [
    "name = \"NN\"\n",
    "\n",
    "Acc = {}\n",
    "F1S = {}\n",
    "Prec = {}\n",
    "Rec = {}\n",
    "FPR = {}\n",
    "\n",
    "Acc[name] = metrics.accuracy_score(y_test_new_data, y_pred)\n",
    "F1S[name] = metrics.f1_score(y_test_new_data, y_pred)\n",
    "Prec[name] = metrics.precision_score(y_test_new_data, y_pred)\n",
    "Rec[name] = metrics.recall_score(y_test_new_data, y_pred)\n",
    "tn, fp, fn, tp = metrics.confusion_matrix(y_test_new_data, y_pred).ravel()\n",
    "FPR[name] = fp/(fp+tn)\n",
    "\n",
    "print(\"{0:2} Accuracy: {1:.5f}, F1-score: {2:.5f}, Precision: {3:.5f}, Recall: {4:.5f}, FPR: {5:.5f}\".format(name, Acc[name], F1S[name], Prec[name], Rec[name], FPR[name]))\n",
    "print(\"TN: {0:3}; FP: {1:3}; FN: {2:4}; TP: {3:3}\\n\".format(tn, fp, fn, tp))"
   ]
  },
  {
   "cell_type": "code",
   "execution_count": null,
   "metadata": {},
   "outputs": [],
   "source": []
  },
  {
   "cell_type": "code",
   "execution_count": null,
   "metadata": {},
   "outputs": [],
   "source": []
  }
 ],
 "metadata": {
  "kernelspec": {
   "display_name": "Python 3",
   "language": "python",
   "name": "python3"
  },
  "language_info": {
   "codemirror_mode": {
    "name": "ipython",
    "version": 3
   },
   "file_extension": ".py",
   "mimetype": "text/x-python",
   "name": "python",
   "nbconvert_exporter": "python",
   "pygments_lexer": "ipython3",
   "version": "3.6.7"
  }
 },
 "nbformat": 4,
 "nbformat_minor": 2
}
