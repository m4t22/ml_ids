{
 "cells": [
  {
   "cell_type": "code",
   "execution_count": 1,
   "metadata": {},
   "outputs": [],
   "source": [
    "import pandas as pd\n",
    "import matplotlib.pyplot as plt\n",
    "import numpy as np\n",
    "\n",
    "%matplotlib inline \n",
    "%config IPCompleter.greedy=True\n",
    "\n",
    "import collections\n",
    "import io\n",
    "import math\n",
    "import tensorflow as tf\n",
    "from IPython import display\n",
    "from sklearn import metrics"
   ]
  },
  {
   "cell_type": "markdown",
   "metadata": {},
   "source": [
    "\n",
    "## Reading data from file"
   ]
  },
  {
   "cell_type": "code",
   "execution_count": 2,
   "metadata": {},
   "outputs": [
    {
     "name": "stdout",
     "output_type": "stream",
     "text": [
      "Counter({-1: 149915, 1: 67713})\n"
     ]
    }
   ],
   "source": [
    "from collections import Counter\n",
    "\n",
    "### main dataset ###\n",
    "data = pd.read_csv(\"20151219.txt\", sep = \"\\t\", header = None)\n",
    "data.columns = [\"conn_len\", \"service\", \"src_bytes\", \"dst_bytes\", \"conn_numb\", \"Same_srv_rate\", \"Serror_rate\", \"Srv_serror_rate\", \"Dst_host_count\", \"Dst_host_srv_count\", \"Dst_host_same_src_port_rate\", \"Dst_host_serror_rate\", \"Dst_host_srv_serror_rate\", \"Conn_state\", \"IDS_detection\", \"Malware_detection\", \"Ashula_detection\", \"attack_flag\", \"src_IP\", \"src_port\", \"dst_IP\", \"dst_port\", \"start_time\", \"proto\"]\n",
    "\n",
    "print(Counter(data[\"attack_flag\"]))"
   ]
  },
  {
   "cell_type": "markdown",
   "metadata": {},
   "source": [
    "## Transform to binary"
   ]
  },
  {
   "cell_type": "code",
   "execution_count": 3,
   "metadata": {},
   "outputs": [
    {
     "name": "stdout",
     "output_type": "stream",
     "text": [
      "Counter({1: 149915, 0: 67713})\n"
     ]
    }
   ],
   "source": [
    "data.loc[:, \"attack_flag\"] = data.loc[:,\"attack_flag\"].replace(-2, -1)\n",
    "data.loc[:, \"attack_flag\"] = data.loc[:, \"attack_flag\"] * -1\n",
    "data.loc[:, \"attack_flag\"] = data.loc[:,\"attack_flag\"].replace(-1, 0)\n",
    "\n",
    "print(Counter(data[\"attack_flag\"]))"
   ]
  },
  {
   "cell_type": "code",
   "execution_count": 4,
   "metadata": {},
   "outputs": [
    {
     "data": {
      "text/plain": [
       "(217628, 24)"
      ]
     },
     "execution_count": 4,
     "metadata": {},
     "output_type": "execute_result"
    }
   ],
   "source": [
    "# removing NaNs\n",
    "data = data.dropna()\n",
    "data.shape"
   ]
  },
  {
   "cell_type": "markdown",
   "metadata": {},
   "source": [
    "# a bit of feature engineering"
   ]
  },
  {
   "cell_type": "markdown",
   "metadata": {},
   "source": [
    "## port numbers classification"
   ]
  },
  {
   "cell_type": "code",
   "execution_count": 5,
   "metadata": {},
   "outputs": [],
   "source": [
    "t1 = 1023  # well-known port numbers\n",
    "t2 = 49151 # registered ports\n",
    "t3 = 65535 # client ports\n",
    "\n",
    "def wk(data_row):\n",
    "    if (data_row[\"src_port\"] <= t1): \n",
    "        value = 1\n",
    "    elif ((data_row[\"src_port\"] > t1) and (data_row[\"src_port\"] <= t2)):\n",
    "        value = 0\n",
    "    elif ((data_row[\"src_port\"] > t2) and (data_row[\"src_port\"] <= t3)):\n",
    "        value = 0\n",
    "    return value\n",
    "\n",
    "def reg(data_row):\n",
    "    if (data_row[\"src_port\"] <= t1): \n",
    "        value = 0\n",
    "    elif ((data_row[\"src_port\"] > t1) and (data_row[\"src_port\"] <= t2)):\n",
    "        value = 1\n",
    "    elif ((data_row[\"src_port\"] > t2) and (data_row[\"src_port\"] <= t3)):\n",
    "        value = 0\n",
    "    return value\n",
    "\n",
    "def cli(data_row):\n",
    "    if (data_row[\"src_port\"] <= t1): \n",
    "        value = 0\n",
    "    elif ((data_row[\"src_port\"] > t1) and (data_row[\"src_port\"] <= t2)):\n",
    "        value = 0\n",
    "    elif ((data_row[\"src_port\"] > t2) and (data_row[\"src_port\"] <= t3)):\n",
    "        value = 1\n",
    "    return value\n",
    "\n",
    "data[\"well_known_src_pool\"] = data.apply(wk, axis=1)\n",
    "data[\"registered_src_pool\"] = data.apply(reg, axis=1)\n",
    "data[\"cli_src_pool\"] = data.apply(cli, axis=1)"
   ]
  },
  {
   "cell_type": "code",
   "execution_count": 6,
   "metadata": {},
   "outputs": [],
   "source": [
    "data[\"src_port\"] = data[\"src_port\"].apply(str)\n",
    "data[\"dst_port\"] = data[\"dst_port\"].apply(str)"
   ]
  },
  {
   "cell_type": "code",
   "execution_count": 7,
   "metadata": {},
   "outputs": [
    {
     "name": "stdout",
     "output_type": "stream",
     "text": [
      "(152339, 27)\n",
      "(32644, 27)\n",
      "(32645, 27)\n"
     ]
    }
   ],
   "source": [
    "train, validate, test = np.split(data, [int(.7*len(data)), int(.85*len(data))])\n",
    "train = train.sample(frac=1)\n",
    "validate = validate.sample(frac=1)\n",
    "test = test.sample(frac=1)\n",
    "y_train = train.loc[:, \"attack_flag\"].values.ravel()\n",
    "X_train = train.drop([\"attack_flag\"], axis=1)\n",
    "y_validate = validate.loc[:, \"attack_flag\"].values.ravel()\n",
    "X_validate = validate.drop([\"attack_flag\"], axis=1)\n",
    "y_test = test.loc[:, \"attack_flag\"].values.ravel()\n",
    "X_test = test.drop([\"attack_flag\"], axis=1)\n",
    "print(train.shape)\n",
    "print(validate.shape)\n",
    "print(test.shape)"
   ]
  },
  {
   "cell_type": "code",
   "execution_count": 8,
   "metadata": {},
   "outputs": [],
   "source": [
    "deep_numeric_feat = [\"Same_srv_rate\", \"Serror_rate\", \"Srv_serror_rate\", \"Dst_host_count\", \"Dst_host_srv_count\", \"Dst_host_same_src_port_rate\", \"Dst_host_serror_rate\", \"Dst_host_srv_serror_rate\", \"well_known_src_pool\", \"registered_src_pool\", \"cli_src_pool\"]\n",
    "wide_numeric_feat = [\"conn_len\",  \"src_bytes\", \"dst_bytes\", \"conn_numb\"]\n",
    "categorical_feat = [\"service\", \"Conn_state\", \"src_port\", \"dst_port\", \"proto\"]"
   ]
  },
  {
   "cell_type": "code",
   "execution_count": 9,
   "metadata": {},
   "outputs": [],
   "source": [
    "deep_numeric_feat_tf = [tf.feature_column.numeric_column(k) for k in deep_numeric_feat]\n",
    "wide_numeric_feat_tf = [tf.feature_column.numeric_column(k) for k in wide_numeric_feat]"
   ]
  },
  {
   "cell_type": "code",
   "execution_count": 10,
   "metadata": {},
   "outputs": [],
   "source": [
    "#data[\"src_port\"].unique().tolist()"
   ]
  },
  {
   "cell_type": "code",
   "execution_count": 11,
   "metadata": {},
   "outputs": [],
   "source": [
    "src_port_mod = [\"src_\" + s for s in data[\"src_port\"].unique().tolist()]\n",
    "src_port = tf.feature_column.categorical_column_with_vocabulary_list(\n",
    "    'src_port', src_port_mod)\n",
    "\n",
    "dst_port_mod = [\"dst_\" + s for s in data[\"dst_port\"].unique().tolist()]\n",
    "dst_port = tf.feature_column.categorical_column_with_vocabulary_list(\n",
    "    'dst_port', dst_port_mod)\n",
    "\n",
    "service = tf.feature_column.categorical_column_with_vocabulary_list(\n",
    "    'service', data[\"service\"].unique().tolist())\n",
    "\n",
    "Conn_state = tf.feature_column.categorical_column_with_vocabulary_list(\n",
    "    'Conn_state', data[\"Conn_state\"].unique().tolist())\n",
    "\n",
    "proto = tf.feature_column.categorical_column_with_vocabulary_list(\n",
    "    'proto', data[\"proto\"].unique().tolist())"
   ]
  },
  {
   "cell_type": "code",
   "execution_count": 12,
   "metadata": {},
   "outputs": [],
   "source": [
    "deep_columns = [\n",
    "    tf.feature_column.indicator_column(service),\n",
    "    tf.feature_column.indicator_column(Conn_state),\n",
    "    tf.feature_column.indicator_column(proto),\n",
    "    tf.feature_column.embedding_column(src_port, dimension=10),\n",
    "    tf.feature_column.embedding_column(dst_port, dimension=3),\n",
    "]"
   ]
  },
  {
   "cell_type": "code",
   "execution_count": 13,
   "metadata": {},
   "outputs": [],
   "source": [
    "crossed_columns = [\n",
    "      tf.feature_column.crossed_column(\n",
    "          ['src_port', 'service'], hash_bucket_size=10000),\n",
    "      tf.feature_column.crossed_column(\n",
    "          ['service', 'proto'], hash_bucket_size=10000),\n",
    "  ]"
   ]
  },
  {
   "cell_type": "code",
   "execution_count": 55,
   "metadata": {},
   "outputs": [
    {
     "name": "stdout",
     "output_type": "stream",
     "text": [
      "INFO:tensorflow:Using default config.\n",
      "INFO:tensorflow:Using config: {'_model_dir': '/home/matz/Desktop/ml_ids/NN_model', '_tf_random_seed': None, '_save_summary_steps': 100, '_save_checkpoints_steps': None, '_save_checkpoints_secs': 600, '_session_config': allow_soft_placement: true\n",
      "graph_options {\n",
      "  rewrite_options {\n",
      "    meta_optimizer_iterations: ONE\n",
      "  }\n",
      "}\n",
      ", '_keep_checkpoint_max': 5, '_keep_checkpoint_every_n_hours': 10000, '_log_step_count_steps': 100, '_train_distribute': None, '_device_fn': None, '_protocol': None, '_eval_distribute': None, '_experimental_distribute': None, '_service': None, '_cluster_spec': <tensorflow.python.training.server_lib.ClusterSpec object at 0x7fcfbdae4c50>, '_task_type': 'worker', '_task_id': 0, '_global_id_in_cluster': 0, '_master': '', '_evaluation_master': '', '_is_chief': True, '_num_ps_replicas': 0, '_num_worker_replicas': 1}\n"
     ]
    }
   ],
   "source": [
    "model = tf.estimator.DNNLinearCombinedClassifier(\n",
    "    model_dir = \"/home/matz/Desktop/ml_ids/NN_model\",\n",
    "    dnn_activation_fn=tf.nn.selu,\n",
    "    linear_feature_columns = wide_numeric_feat_tf + crossed_columns,\n",
    "    dnn_feature_columns = deep_columns + deep_numeric_feat_tf + wide_numeric_feat_tf,\n",
    "    dnn_hidden_units = [450, 350])"
   ]
  },
  {
   "cell_type": "code",
   "execution_count": 56,
   "metadata": {},
   "outputs": [],
   "source": [
    "feature_set= deep_numeric_feat + wide_numeric_feat + categorical_feat"
   ]
  },
  {
   "cell_type": "code",
   "execution_count": 57,
   "metadata": {},
   "outputs": [],
   "source": [
    "def get_input_fn(data_set, num_epochs=None, n_batch = 256, shuffle=True):\n",
    "    return tf.estimator.inputs.pandas_input_fn(\n",
    "       x=pd.DataFrame({k: data_set[k].values for k in feature_set}),\n",
    "       y = pd.Series(data_set[\"attack_flag\"].values),\n",
    "       batch_size=n_batch,   \n",
    "       num_epochs=num_epochs,\n",
    "       shuffle=shuffle)"
   ]
  },
  {
   "cell_type": "code",
   "execution_count": 58,
   "metadata": {},
   "outputs": [
    {
     "name": "stdout",
     "output_type": "stream",
     "text": [
      "INFO:tensorflow:Calling model_fn.\n",
      "INFO:tensorflow:Done calling model_fn.\n",
      "INFO:tensorflow:Create CheckpointSaverHook.\n",
      "INFO:tensorflow:Graph was finalized.\n",
      "INFO:tensorflow:Running local_init_op.\n",
      "INFO:tensorflow:Done running local_init_op.\n",
      "INFO:tensorflow:Saving checkpoints for 0 into /home/matz/Desktop/ml_ids/NN_model/model.ckpt.\n",
      "INFO:tensorflow:loss = 927.79425, step = 1\n",
      "INFO:tensorflow:global_step/sec: 127.514\n",
      "INFO:tensorflow:loss = 13.991254, step = 101 (0.785 sec)\n",
      "INFO:tensorflow:global_step/sec: 164.036\n",
      "INFO:tensorflow:loss = 9.763658, step = 201 (0.610 sec)\n",
      "INFO:tensorflow:global_step/sec: 162.225\n",
      "INFO:tensorflow:loss = 10.923126, step = 301 (0.616 sec)\n",
      "INFO:tensorflow:global_step/sec: 162.242\n",
      "INFO:tensorflow:loss = 31.173035, step = 401 (0.616 sec)\n",
      "INFO:tensorflow:global_step/sec: 161.627\n",
      "INFO:tensorflow:loss = 6.6210217, step = 501 (0.619 sec)\n",
      "INFO:tensorflow:global_step/sec: 162.756\n",
      "INFO:tensorflow:loss = 3.1674848, step = 601 (0.614 sec)\n",
      "INFO:tensorflow:global_step/sec: 161.645\n",
      "INFO:tensorflow:loss = 14.371218, step = 701 (0.619 sec)\n",
      "INFO:tensorflow:global_step/sec: 164.765\n",
      "INFO:tensorflow:loss = 7.652759, step = 801 (0.607 sec)\n",
      "INFO:tensorflow:global_step/sec: 162.304\n",
      "INFO:tensorflow:loss = 2.1503787, step = 901 (0.616 sec)\n",
      "INFO:tensorflow:global_step/sec: 163.885\n",
      "INFO:tensorflow:loss = 14.111073, step = 1001 (0.610 sec)\n",
      "INFO:tensorflow:global_step/sec: 162.098\n",
      "INFO:tensorflow:loss = 315.01236, step = 1101 (0.617 sec)\n",
      "INFO:tensorflow:global_step/sec: 161.687\n",
      "INFO:tensorflow:loss = 6.865594, step = 1201 (0.618 sec)\n",
      "INFO:tensorflow:global_step/sec: 161.606\n",
      "INFO:tensorflow:loss = 1.3025616, step = 1301 (0.619 sec)\n",
      "INFO:tensorflow:global_step/sec: 162.501\n",
      "INFO:tensorflow:loss = 2.763926, step = 1401 (0.615 sec)\n",
      "INFO:tensorflow:global_step/sec: 161.895\n",
      "INFO:tensorflow:loss = 15.044092, step = 1501 (0.618 sec)\n",
      "INFO:tensorflow:global_step/sec: 164.682\n",
      "INFO:tensorflow:loss = 7.8569775, step = 1601 (0.608 sec)\n",
      "INFO:tensorflow:global_step/sec: 162.737\n",
      "INFO:tensorflow:loss = 12.497237, step = 1701 (0.614 sec)\n",
      "INFO:tensorflow:global_step/sec: 161.727\n",
      "INFO:tensorflow:loss = 1.851805, step = 1801 (0.619 sec)\n",
      "INFO:tensorflow:global_step/sec: 161.827\n",
      "INFO:tensorflow:loss = 12.071079, step = 1901 (0.618 sec)\n",
      "INFO:tensorflow:global_step/sec: 160.021\n",
      "INFO:tensorflow:loss = 7.842695, step = 2001 (0.625 sec)\n",
      "INFO:tensorflow:global_step/sec: 161.818\n",
      "INFO:tensorflow:loss = 7.9343143, step = 2101 (0.617 sec)\n",
      "INFO:tensorflow:global_step/sec: 162.739\n",
      "INFO:tensorflow:loss = 5.1246405, step = 2201 (0.615 sec)\n",
      "INFO:tensorflow:global_step/sec: 161.615\n",
      "INFO:tensorflow:loss = 10.302961, step = 2301 (0.619 sec)\n",
      "INFO:tensorflow:global_step/sec: 162.563\n",
      "INFO:tensorflow:loss = 1.8635653, step = 2401 (0.615 sec)\n",
      "INFO:tensorflow:global_step/sec: 165.109\n",
      "INFO:tensorflow:loss = 1.8527716, step = 2501 (0.606 sec)\n",
      "INFO:tensorflow:global_step/sec: 164.011\n",
      "INFO:tensorflow:loss = 3.2970939, step = 2601 (0.610 sec)\n",
      "INFO:tensorflow:global_step/sec: 161.029\n",
      "INFO:tensorflow:loss = 11.675764, step = 2701 (0.621 sec)\n",
      "INFO:tensorflow:global_step/sec: 161.397\n",
      "INFO:tensorflow:loss = 19.455017, step = 2801 (0.620 sec)\n",
      "INFO:tensorflow:global_step/sec: 162.9\n",
      "INFO:tensorflow:loss = 7.582594, step = 2901 (0.614 sec)\n",
      "INFO:tensorflow:global_step/sec: 162.121\n",
      "INFO:tensorflow:loss = 6.5344877, step = 3001 (0.617 sec)\n",
      "INFO:tensorflow:global_step/sec: 160.318\n",
      "INFO:tensorflow:loss = 5.3012123, step = 3101 (0.624 sec)\n",
      "INFO:tensorflow:global_step/sec: 161.279\n",
      "INFO:tensorflow:loss = 1.9278661, step = 3201 (0.620 sec)\n",
      "INFO:tensorflow:global_step/sec: 160.037\n",
      "INFO:tensorflow:loss = 0.78265375, step = 3301 (0.625 sec)\n",
      "INFO:tensorflow:global_step/sec: 163.544\n",
      "INFO:tensorflow:loss = 2.2105584, step = 3401 (0.611 sec)\n",
      "INFO:tensorflow:global_step/sec: 162.472\n",
      "INFO:tensorflow:loss = 4.0627666, step = 3501 (0.616 sec)\n",
      "INFO:tensorflow:global_step/sec: 166.335\n",
      "INFO:tensorflow:loss = 4.3357725, step = 3601 (0.601 sec)\n",
      "INFO:tensorflow:global_step/sec: 161.768\n",
      "INFO:tensorflow:loss = 6.5307574, step = 3701 (0.618 sec)\n",
      "INFO:tensorflow:global_step/sec: 163.314\n",
      "INFO:tensorflow:loss = 1.5149453, step = 3801 (0.613 sec)\n",
      "INFO:tensorflow:global_step/sec: 160.209\n",
      "INFO:tensorflow:loss = 3.006178, step = 3901 (0.624 sec)\n",
      "INFO:tensorflow:global_step/sec: 160.743\n",
      "INFO:tensorflow:loss = 10.549818, step = 4001 (0.622 sec)\n",
      "INFO:tensorflow:global_step/sec: 163.37\n",
      "INFO:tensorflow:loss = 3.4926248, step = 4101 (0.612 sec)\n",
      "INFO:tensorflow:global_step/sec: 164.525\n",
      "INFO:tensorflow:loss = 2.1912704, step = 4201 (0.608 sec)\n",
      "INFO:tensorflow:global_step/sec: 162.959\n",
      "INFO:tensorflow:loss = 9.355224, step = 4301 (0.614 sec)\n",
      "INFO:tensorflow:global_step/sec: 162.633\n",
      "INFO:tensorflow:loss = 3.3775377, step = 4401 (0.615 sec)\n",
      "INFO:tensorflow:global_step/sec: 160.875\n",
      "INFO:tensorflow:loss = 2.7015445, step = 4501 (0.621 sec)\n",
      "INFO:tensorflow:global_step/sec: 160.099\n",
      "INFO:tensorflow:loss = 3.8866296, step = 4601 (0.625 sec)\n",
      "INFO:tensorflow:global_step/sec: 162.936\n",
      "INFO:tensorflow:loss = 1.81131, step = 4701 (0.614 sec)\n",
      "INFO:tensorflow:global_step/sec: 162.726\n",
      "INFO:tensorflow:loss = 4.312453, step = 4801 (0.614 sec)\n",
      "INFO:tensorflow:global_step/sec: 162.364\n",
      "INFO:tensorflow:loss = 4.10241, step = 4901 (0.616 sec)\n",
      "INFO:tensorflow:global_step/sec: 163.819\n",
      "INFO:tensorflow:loss = 7.1926484, step = 5001 (0.610 sec)\n",
      "INFO:tensorflow:global_step/sec: 160.743\n",
      "INFO:tensorflow:loss = 8.511615, step = 5101 (0.622 sec)\n",
      "INFO:tensorflow:global_step/sec: 163.77\n",
      "INFO:tensorflow:loss = 4.8912287, step = 5201 (0.611 sec)\n",
      "INFO:tensorflow:global_step/sec: 162.594\n",
      "INFO:tensorflow:loss = 3.9823375, step = 5301 (0.615 sec)\n",
      "INFO:tensorflow:global_step/sec: 163.143\n",
      "INFO:tensorflow:loss = 3.05945, step = 5401 (0.613 sec)\n",
      "INFO:tensorflow:global_step/sec: 164.135\n",
      "INFO:tensorflow:loss = 10.698429, step = 5501 (0.609 sec)\n",
      "INFO:tensorflow:global_step/sec: 163.143\n",
      "INFO:tensorflow:loss = 1.3200986, step = 5601 (0.613 sec)\n",
      "INFO:tensorflow:global_step/sec: 161.556\n",
      "INFO:tensorflow:loss = 2.2892866, step = 5701 (0.619 sec)\n",
      "INFO:tensorflow:global_step/sec: 162.649\n",
      "INFO:tensorflow:loss = 1.3927418, step = 5801 (0.615 sec)\n",
      "INFO:tensorflow:global_step/sec: 159.524\n",
      "INFO:tensorflow:loss = 1.471741, step = 5901 (0.626 sec)\n",
      "INFO:tensorflow:global_step/sec: 162.977\n",
      "INFO:tensorflow:loss = 12.508325, step = 6001 (0.614 sec)\n",
      "INFO:tensorflow:global_step/sec: 161.733\n",
      "INFO:tensorflow:loss = 4.145497, step = 6101 (0.618 sec)\n",
      "INFO:tensorflow:global_step/sec: 162.999\n",
      "INFO:tensorflow:loss = 4.5322895, step = 6201 (0.614 sec)\n",
      "INFO:tensorflow:global_step/sec: 162.868\n",
      "INFO:tensorflow:loss = 9.374435, step = 6301 (0.614 sec)\n",
      "INFO:tensorflow:global_step/sec: 162.038\n",
      "INFO:tensorflow:loss = 11.309239, step = 6401 (0.617 sec)\n",
      "INFO:tensorflow:global_step/sec: 162.487\n",
      "INFO:tensorflow:loss = 7.9979906, step = 6501 (0.615 sec)\n",
      "INFO:tensorflow:global_step/sec: 163.836\n",
      "INFO:tensorflow:loss = 3.1797931, step = 6601 (0.610 sec)\n",
      "INFO:tensorflow:global_step/sec: 163.228\n",
      "INFO:tensorflow:loss = 5.774793, step = 6701 (0.613 sec)\n",
      "INFO:tensorflow:global_step/sec: 164.346\n",
      "INFO:tensorflow:loss = 3.8962657, step = 6801 (0.609 sec)\n",
      "INFO:tensorflow:global_step/sec: 162.987\n",
      "INFO:tensorflow:loss = 11.061875, step = 6901 (0.614 sec)\n",
      "INFO:tensorflow:global_step/sec: 162.318\n",
      "INFO:tensorflow:loss = 5.391039, step = 7001 (0.616 sec)\n",
      "INFO:tensorflow:global_step/sec: 159.799\n",
      "INFO:tensorflow:loss = 2.74032, step = 7101 (0.626 sec)\n",
      "INFO:tensorflow:global_step/sec: 163.86\n",
      "INFO:tensorflow:loss = 3.552347, step = 7201 (0.610 sec)\n",
      "INFO:tensorflow:global_step/sec: 160.421\n",
      "INFO:tensorflow:loss = 5.5933657, step = 7301 (0.624 sec)\n",
      "INFO:tensorflow:global_step/sec: 160.703\n",
      "INFO:tensorflow:loss = 5.333887, step = 7401 (0.622 sec)\n",
      "INFO:tensorflow:global_step/sec: 163.194\n",
      "INFO:tensorflow:loss = 1.4821881, step = 7501 (0.613 sec)\n",
      "INFO:tensorflow:global_step/sec: 161.969\n",
      "INFO:tensorflow:loss = 5.955423, step = 7601 (0.618 sec)\n",
      "INFO:tensorflow:global_step/sec: 162.523\n",
      "INFO:tensorflow:loss = 4.2272315, step = 7701 (0.615 sec)\n",
      "INFO:tensorflow:global_step/sec: 161.587\n",
      "INFO:tensorflow:loss = 5.6527286, step = 7801 (0.618 sec)\n",
      "INFO:tensorflow:global_step/sec: 163.492\n",
      "INFO:tensorflow:loss = 4.0217853, step = 7901 (0.612 sec)\n",
      "INFO:tensorflow:global_step/sec: 160.791\n"
     ]
    },
    {
     "name": "stdout",
     "output_type": "stream",
     "text": [
      "INFO:tensorflow:loss = 2.7284985, step = 8001 (0.622 sec)\n",
      "INFO:tensorflow:global_step/sec: 162.8\n",
      "INFO:tensorflow:loss = 2.5841799, step = 8101 (0.614 sec)\n",
      "INFO:tensorflow:global_step/sec: 163.213\n",
      "INFO:tensorflow:loss = 7.882448, step = 8201 (0.613 sec)\n",
      "INFO:tensorflow:global_step/sec: 163.726\n",
      "INFO:tensorflow:loss = 9.03098, step = 8301 (0.611 sec)\n",
      "INFO:tensorflow:global_step/sec: 162.759\n",
      "INFO:tensorflow:loss = 2.579339, step = 8401 (0.615 sec)\n",
      "INFO:tensorflow:global_step/sec: 162.332\n",
      "INFO:tensorflow:loss = 11.028049, step = 8501 (0.616 sec)\n",
      "INFO:tensorflow:global_step/sec: 160.429\n",
      "INFO:tensorflow:loss = 1.6527004, step = 8601 (0.623 sec)\n",
      "INFO:tensorflow:global_step/sec: 162.446\n",
      "INFO:tensorflow:loss = 8.32497, step = 8701 (0.616 sec)\n",
      "INFO:tensorflow:global_step/sec: 163.146\n",
      "INFO:tensorflow:loss = 3.0754952, step = 8801 (0.613 sec)\n",
      "INFO:tensorflow:global_step/sec: 163.485\n",
      "INFO:tensorflow:loss = 3.2098014, step = 8901 (0.612 sec)\n",
      "INFO:tensorflow:global_step/sec: 163.774\n",
      "INFO:tensorflow:loss = 8.586946, step = 9001 (0.611 sec)\n",
      "INFO:tensorflow:global_step/sec: 162.955\n",
      "INFO:tensorflow:loss = 7.2461405, step = 9101 (0.613 sec)\n",
      "INFO:tensorflow:global_step/sec: 163.313\n",
      "INFO:tensorflow:loss = 2.5535426, step = 9201 (0.612 sec)\n",
      "INFO:tensorflow:global_step/sec: 161.599\n",
      "INFO:tensorflow:loss = 3.7079442, step = 9301 (0.619 sec)\n",
      "INFO:tensorflow:global_step/sec: 163.908\n",
      "INFO:tensorflow:loss = 1.1413809, step = 9401 (0.610 sec)\n",
      "INFO:tensorflow:global_step/sec: 168.005\n",
      "INFO:tensorflow:loss = 8.58782, step = 9501 (0.595 sec)\n",
      "INFO:tensorflow:global_step/sec: 163.655\n",
      "INFO:tensorflow:loss = 4.5001855, step = 9601 (0.611 sec)\n",
      "INFO:tensorflow:global_step/sec: 162.585\n",
      "INFO:tensorflow:loss = 16.840693, step = 9701 (0.615 sec)\n",
      "INFO:tensorflow:global_step/sec: 162.725\n",
      "INFO:tensorflow:loss = 2.39251, step = 9801 (0.614 sec)\n",
      "INFO:tensorflow:global_step/sec: 163.853\n",
      "INFO:tensorflow:loss = 4.5354037, step = 9901 (0.611 sec)\n",
      "INFO:tensorflow:Saving checkpoints for 10000 into /home/matz/Desktop/ml_ids/NN_model/model.ckpt.\n",
      "INFO:tensorflow:Loss for final step: 1.231997.\n"
     ]
    },
    {
     "data": {
      "text/plain": [
       "<tensorflow.python.estimator.canned.dnn_linear_combined.DNNLinearCombinedClassifier at 0x7fcfbe45cef0>"
      ]
     },
     "execution_count": 58,
     "metadata": {},
     "output_type": "execute_result"
    }
   ],
   "source": [
    "model.train(input_fn=get_input_fn(train, n_batch=180, shuffle=False), steps=10000)"
   ]
  },
  {
   "cell_type": "code",
   "execution_count": 59,
   "metadata": {},
   "outputs": [
    {
     "name": "stdout",
     "output_type": "stream",
     "text": [
      "INFO:tensorflow:Calling model_fn.\n",
      "WARNING:tensorflow:Trapezoidal rule is known to produce incorrect PR-AUCs; please switch to \"careful_interpolation\" instead.\n",
      "WARNING:tensorflow:Trapezoidal rule is known to produce incorrect PR-AUCs; please switch to \"careful_interpolation\" instead.\n",
      "INFO:tensorflow:Done calling model_fn.\n",
      "INFO:tensorflow:Starting evaluation at 2019-05-14-22:52:21\n",
      "INFO:tensorflow:Graph was finalized.\n",
      "INFO:tensorflow:Restoring parameters from /home/matz/Desktop/ml_ids/NN_model/model.ckpt-10000\n",
      "INFO:tensorflow:Running local_init_op.\n",
      "INFO:tensorflow:Done running local_init_op.\n",
      "INFO:tensorflow:Evaluation [1/1]\n",
      "INFO:tensorflow:Finished evaluation at 2019-05-14-22:52:23\n",
      "INFO:tensorflow:Saving dict for global step 10000: accuracy = 0.99485356, accuracy_baseline = 0.7026406, auc = 0.99952304, auc_precision_recall = 0.9986721, average_loss = 0.014867451, global_step = 10000, label/mean = 0.2973594, loss = 485.33307, precision = 0.9875294, prediction/mean = 0.29791316, recall = 0.99526113\n",
      "INFO:tensorflow:Saving 'checkpoint_path' summary for global step 10000: /home/matz/Desktop/ml_ids/NN_model/model.ckpt-10000\n"
     ]
    }
   ],
   "source": [
    "eval_metrics = model.evaluate(input_fn=get_input_fn(validate, n_batch=validate.shape[0], shuffle=False), steps=1)"
   ]
  },
  {
   "cell_type": "code",
   "execution_count": 60,
   "metadata": {
    "scrolled": true
   },
   "outputs": [
    {
     "name": "stdout",
     "output_type": "stream",
     "text": [
      "accuracy: 0.99485356\n",
      "accuracy_baseline: 0.7026406\n",
      "auc: 0.99952304\n",
      "auc_precision_recall: 0.9986721\n",
      "average_loss: 0.014867451\n",
      "global_step: 10000\n",
      "label/mean: 0.2973594\n",
      "loss: 485.33307\n",
      "precision: 0.9875294\n",
      "prediction/mean: 0.29791316\n",
      "recall: 0.99526113\n"
     ]
    }
   ],
   "source": [
    "for key,value in sorted(eval_metrics.items()):\n",
    "  print('%s: %s' % (key, value))"
   ]
  },
  {
   "cell_type": "code",
   "execution_count": 61,
   "metadata": {},
   "outputs": [
    {
     "name": "stdout",
     "output_type": "stream",
     "text": [
      "INFO:tensorflow:Calling model_fn.\n",
      "INFO:tensorflow:Done calling model_fn.\n",
      "INFO:tensorflow:Graph was finalized.\n",
      "INFO:tensorflow:Restoring parameters from /home/matz/Desktop/ml_ids/NN_model/model.ckpt-10000\n",
      "INFO:tensorflow:Running local_init_op.\n",
      "INFO:tensorflow:Done running local_init_op.\n"
     ]
    }
   ],
   "source": [
    "results = []\n",
    "results = list(model.predict(input_fn=get_input_fn(test, num_epochs=1, n_batch = X_test.shape[0], shuffle=False)))"
   ]
  },
  {
   "cell_type": "code",
   "execution_count": 62,
   "metadata": {},
   "outputs": [],
   "source": [
    "y_pred = []\n",
    "for el in results:\n",
    "    y_pred.append(el[\"class_ids\"])"
   ]
  },
  {
   "cell_type": "code",
   "execution_count": 63,
   "metadata": {},
   "outputs": [
    {
     "name": "stdout",
     "output_type": "stream",
     "text": [
      "NN Accuracy: 0.98024, F1-score: 0.98958, Precision: 0.98975, Recall: 0.98940, FPR: 0.18658\n",
      "TN: 1382; FP: 317; FN:  328; TP: 30618\n",
      "\n"
     ]
    }
   ],
   "source": [
    "name = \"NN\"\n",
    "\n",
    "Acc = {}\n",
    "F1S = {}\n",
    "Prec = {}\n",
    "Rec = {}\n",
    "FPR = {}\n",
    "\n",
    "Acc[name] = metrics.accuracy_score(y_test, y_pred)\n",
    "F1S[name] = metrics.f1_score(y_test, y_pred)\n",
    "Prec[name] = metrics.precision_score(y_test, y_pred)\n",
    "Rec[name] = metrics.recall_score(y_test, y_pred)\n",
    "tn, fp, fn, tp = metrics.confusion_matrix(y_test, y_pred).ravel()\n",
    "FPR[name] = fp/(fp+tn)\n",
    "\n",
    "print(\"{0:2} Accuracy: {1:.5f}, F1-score: {2:.5f}, Precision: {3:.5f}, Recall: {4:.5f}, FPR: {5:.5f}\".format(name, Acc[name], F1S[name], Prec[name], Rec[name], FPR[name]))\n",
    "print(\"TN: {0:3}; FP: {1:3}; FN: {2:4}; TP: {3:3}\\n\".format(tn, fp, fn, tp))"
   ]
  },
  {
   "cell_type": "markdown",
   "metadata": {},
   "source": [
    "## New data prediction"
   ]
  },
  {
   "cell_type": "code",
   "execution_count": 64,
   "metadata": {},
   "outputs": [
    {
     "name": "stdout",
     "output_type": "stream",
     "text": [
      "Counter({-1: 189082, 1: 12436})\n"
     ]
    }
   ],
   "source": [
    "test_set = pd.read_csv(\"20151220.txt\", sep = \"\\t\", header = None)\n",
    "test_set.columns = [\"conn_len\", \"service\", \"src_bytes\", \"dst_bytes\", \"conn_numb\", \"Same_srv_rate\", \"Serror_rate\", \"Srv_serror_rate\", \"Dst_host_count\", \"Dst_host_srv_count\", \"Dst_host_same_src_port_rate\", \"Dst_host_serror_rate\", \"Dst_host_srv_serror_rate\", \"Conn_state\", \"IDS_detection\", \"Malware_detection\", \"Ashula_detection\", \"attack_flag\", \"src_IP\", \"src_port\", \"dst_IP\", \"dst_port\", \"start_time\", \"proto\"]\n",
    "print(Counter(test_set[\"attack_flag\"]))"
   ]
  },
  {
   "cell_type": "code",
   "execution_count": 65,
   "metadata": {},
   "outputs": [],
   "source": [
    "test_set.loc[:, \"attack_flag\"] = test_set.loc[:,\"attack_flag\"].replace(-2, -1)\n",
    "test_set.loc[:, \"attack_flag\"] = test_set.loc[:, \"attack_flag\"] * -1\n",
    "test_set.loc[:, \"attack_flag\"] = test_set.loc[:,\"attack_flag\"].replace(-1, 0)"
   ]
  },
  {
   "cell_type": "code",
   "execution_count": 27,
   "metadata": {},
   "outputs": [
    {
     "data": {
      "text/plain": [
       "(201518, 24)"
      ]
     },
     "execution_count": 27,
     "metadata": {},
     "output_type": "execute_result"
    }
   ],
   "source": [
    "# removing NaNs\n",
    "test_set = test_set.dropna()\n",
    "test_set.shape"
   ]
  },
  {
   "cell_type": "code",
   "execution_count": 28,
   "metadata": {},
   "outputs": [],
   "source": [
    "test_set[\"well_known_src_pool\"] = test_set.apply(wk, axis=1)\n",
    "test_set[\"registered_src_pool\"] = test_set.apply(reg, axis=1)\n",
    "test_set[\"cli_src_pool\"] = test_set.apply(cli, axis=1)"
   ]
  },
  {
   "cell_type": "code",
   "execution_count": 29,
   "metadata": {},
   "outputs": [],
   "source": [
    "test_set[\"src_port\"] = test_set[\"src_port\"].apply(str)\n",
    "test_set[\"dst_port\"] = test_set[\"dst_port\"].apply(str)"
   ]
  },
  {
   "cell_type": "code",
   "execution_count": 30,
   "metadata": {
    "scrolled": true
   },
   "outputs": [
    {
     "name": "stdout",
     "output_type": "stream",
     "text": [
      "(30000, 27)\n"
     ]
    }
   ],
   "source": [
    "#test_new_data = test_set.sample(n=30000, random_state=1)\n",
    "test_new_data = test_set.loc[range(30000), :]\n",
    "test_new_data = test_new_data.sample(frac=1)\n",
    "y_test_new_data = test_new_data.loc[:, \"attack_flag\"].values.ravel()\n",
    "X_test_new_data = test_new_data.drop([\"attack_flag\"], axis=1)\n",
    "print(test_new_data.shape)"
   ]
  },
  {
   "cell_type": "code",
   "execution_count": 31,
   "metadata": {},
   "outputs": [
    {
     "name": "stdout",
     "output_type": "stream",
     "text": [
      "Counter({1: 29540, 0: 460})\n"
     ]
    }
   ],
   "source": [
    "print(Counter(test_new_data[\"attack_flag\"]))"
   ]
  },
  {
   "cell_type": "code",
   "execution_count": 32,
   "metadata": {},
   "outputs": [
    {
     "name": "stdout",
     "output_type": "stream",
     "text": [
      "INFO:tensorflow:Calling model_fn.\n",
      "INFO:tensorflow:Done calling model_fn.\n",
      "INFO:tensorflow:Graph was finalized.\n",
      "INFO:tensorflow:Restoring parameters from /home/matz/Desktop/ml_ids/NN_model/model.ckpt-10000\n",
      "INFO:tensorflow:Running local_init_op.\n",
      "INFO:tensorflow:Done running local_init_op.\n"
     ]
    }
   ],
   "source": [
    "results = []\n",
    "results = list(model.predict(input_fn=get_input_fn(test_new_data, num_epochs=1, n_batch = X_test.shape[0], shuffle=False)))"
   ]
  },
  {
   "cell_type": "code",
   "execution_count": 33,
   "metadata": {},
   "outputs": [],
   "source": [
    "y_pred = []\n",
    "for el in results:\n",
    "    y_pred.append(el[\"class_ids\"])"
   ]
  },
  {
   "cell_type": "code",
   "execution_count": 34,
   "metadata": {},
   "outputs": [
    {
     "name": "stdout",
     "output_type": "stream",
     "text": [
      "NN Accuracy: 0.98410, F1-score: 0.99192, Precision: 0.99284, Recall: 0.99100, FPR: 0.45870\n",
      "TN: 249; FP: 211; FN:  266; TP: 29274\n",
      "\n"
     ]
    }
   ],
   "source": [
    "name = \"NN\"\n",
    "\n",
    "Acc = {}\n",
    "F1S = {}\n",
    "Prec = {}\n",
    "Rec = {}\n",
    "FPR = {}\n",
    "\n",
    "Acc[name] = metrics.accuracy_score(y_test_new_data, y_pred)\n",
    "F1S[name] = metrics.f1_score(y_test_new_data, y_pred)\n",
    "Prec[name] = metrics.precision_score(y_test_new_data, y_pred)\n",
    "Rec[name] = metrics.recall_score(y_test_new_data, y_pred)\n",
    "tn, fp, fn, tp = metrics.confusion_matrix(y_test_new_data, y_pred).ravel()\n",
    "FPR[name] = fp/(fp+tn)\n",
    "\n",
    "print(\"{0:2} Accuracy: {1:.5f}, F1-score: {2:.5f}, Precision: {3:.5f}, Recall: {4:.5f}, FPR: {5:.5f}\".format(name, Acc[name], F1S[name], Prec[name], Rec[name], FPR[name]))\n",
    "print(\"TN: {0:3}; FP: {1:3}; FN: {2:4}; TP: {3:3}\\n\".format(tn, fp, fn, tp))"
   ]
  },
  {
   "cell_type": "code",
   "execution_count": null,
   "metadata": {},
   "outputs": [],
   "source": []
  },
  {
   "cell_type": "code",
   "execution_count": null,
   "metadata": {},
   "outputs": [],
   "source": []
  }
 ],
 "metadata": {
  "kernelspec": {
   "display_name": "Python 3",
   "language": "python",
   "name": "python3"
  },
  "language_info": {
   "codemirror_mode": {
    "name": "ipython",
    "version": 3
   },
   "file_extension": ".py",
   "mimetype": "text/x-python",
   "name": "python",
   "nbconvert_exporter": "python",
   "pygments_lexer": "ipython3",
   "version": "3.6.7"
  }
 },
 "nbformat": 4,
 "nbformat_minor": 2
}
