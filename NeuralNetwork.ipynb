{
 "cells": [
  {
   "cell_type": "code",
   "execution_count": 5,
   "metadata": {},
   "outputs": [],
   "source": [
    "import pandas as pd\n",
    "import matplotlib.pyplot as plt\n",
    "import numpy as np\n",
    "\n",
    "%matplotlib inline \n",
    "%config IPCompleter.greedy=True\n",
    "\n",
    "import collections\n",
    "import io\n",
    "import math\n",
    "import tensorflow as tf\n",
    "from IPython import display\n",
    "from sklearn import metrics"
   ]
  },
  {
   "cell_type": "markdown",
   "metadata": {},
   "source": [
    "\n",
    "## Reading data from file"
   ]
  },
  {
   "cell_type": "code",
   "execution_count": 6,
   "metadata": {},
   "outputs": [
    {
     "name": "stdout",
     "output_type": "stream",
     "text": [
      "Counter({-1: 149915, 1: 67713})\n"
     ]
    }
   ],
   "source": [
    "from collections import Counter\n",
    "\n",
    "### main dataset ###\n",
    "data = pd.read_csv(\"20151219.txt\", sep = \"\\t\", header = None)\n",
    "data.columns = [\"conn_len\", \"service\", \"src_bytes\", \"dst_bytes\", \"conn_numb\", \"Same_srv_rate\", \"Serror_rate\", \"Srv_serror_rate\", \"Dst_host_count\", \"Dst_host_srv_count\", \"Dst_host_same_src_port_rate\", \"Dst_host_serror_rate\", \"Dst_host_srv_serror_rate\", \"Conn_state\", \"IDS_detection\", \"Malware_detection\", \"Ashula_detection\", \"attack_flag\", \"src_IP\", \"src_port\", \"dst_IP\", \"dst_port\", \"start_time\", \"proto\"]\n",
    "\n",
    "print(Counter(data[\"attack_flag\"]))"
   ]
  },
  {
   "cell_type": "markdown",
   "metadata": {},
   "source": [
    "## Transform to binary"
   ]
  },
  {
   "cell_type": "code",
   "execution_count": 7,
   "metadata": {},
   "outputs": [
    {
     "name": "stdout",
     "output_type": "stream",
     "text": [
      "Counter({1: 149915, 0: 67713})\n"
     ]
    }
   ],
   "source": [
    "data.loc[:, \"attack_flag\"] = data.loc[:,\"attack_flag\"].replace(-2, -1)\n",
    "data.loc[:, \"attack_flag\"] = data.loc[:, \"attack_flag\"] * -1\n",
    "data.loc[:, \"attack_flag\"] = data.loc[:,\"attack_flag\"].replace(-1, 0)\n",
    "\n",
    "print(Counter(data[\"attack_flag\"]))"
   ]
  },
  {
   "cell_type": "code",
   "execution_count": 8,
   "metadata": {},
   "outputs": [
    {
     "data": {
      "text/plain": [
       "(217628, 24)"
      ]
     },
     "execution_count": 8,
     "metadata": {},
     "output_type": "execute_result"
    }
   ],
   "source": [
    "# removing NaNs\n",
    "data = data.dropna()\n",
    "data.shape"
   ]
  },
  {
   "cell_type": "markdown",
   "metadata": {},
   "source": [
    "# a bit of feature engineering"
   ]
  },
  {
   "cell_type": "markdown",
   "metadata": {},
   "source": [
    "## port numbers classification"
   ]
  },
  {
   "cell_type": "code",
   "execution_count": 9,
   "metadata": {},
   "outputs": [],
   "source": [
    "t1 = 1023  # well-known port numbers\n",
    "t2 = 49151 # registered ports\n",
    "t3 = 65535 # client ports\n",
    "\n",
    "def wk(data_row):\n",
    "    if (data_row[\"src_port\"] <= t1): \n",
    "        value = 1\n",
    "    elif ((data_row[\"src_port\"] > t1) and (data_row[\"src_port\"] <= t2)):\n",
    "        value = 0\n",
    "    elif ((data_row[\"src_port\"] > t2) and (data_row[\"src_port\"] <= t3)):\n",
    "        value = 0\n",
    "    return value\n",
    "\n",
    "def reg(data_row):\n",
    "    if (data_row[\"src_port\"] <= t1): \n",
    "        value = 0\n",
    "    elif ((data_row[\"src_port\"] > t1) and (data_row[\"src_port\"] <= t2)):\n",
    "        value = 1\n",
    "    elif ((data_row[\"src_port\"] > t2) and (data_row[\"src_port\"] <= t3)):\n",
    "        value = 0\n",
    "    return value\n",
    "\n",
    "def cli(data_row):\n",
    "    if (data_row[\"src_port\"] <= t1): \n",
    "        value = 0\n",
    "    elif ((data_row[\"src_port\"] > t1) and (data_row[\"src_port\"] <= t2)):\n",
    "        value = 0\n",
    "    elif ((data_row[\"src_port\"] > t2) and (data_row[\"src_port\"] <= t3)):\n",
    "        value = 1\n",
    "    return value\n",
    "\n",
    "data[\"well_known_src_pool\"] = data.apply(wk, axis=1)\n",
    "data[\"registered_src_pool\"] = data.apply(reg, axis=1)\n",
    "data[\"cli_src_pool\"] = data.apply(cli, axis=1)"
   ]
  },
  {
   "cell_type": "code",
   "execution_count": 10,
   "metadata": {},
   "outputs": [],
   "source": [
    "data[\"src_port\"] = data[\"src_port\"].apply(str)\n",
    "data[\"dst_port\"] = data[\"dst_port\"].apply(str)"
   ]
  },
  {
   "cell_type": "code",
   "execution_count": 11,
   "metadata": {},
   "outputs": [
    {
     "name": "stdout",
     "output_type": "stream",
     "text": [
      "(152339, 27)\n",
      "(32644, 27)\n",
      "(32645, 27)\n"
     ]
    }
   ],
   "source": [
    "train, validate, test = np.split(data, [int(.7*len(data)), int(.85*len(data))])\n",
    "train = train.sample(frac=1)\n",
    "validate = validate.sample(frac=1)\n",
    "test = test.sample(frac=1)\n",
    "y_train = train.loc[:, \"attack_flag\"].values.ravel()\n",
    "X_train = train.drop([\"attack_flag\"], axis=1)\n",
    "y_validate = validate.loc[:, \"attack_flag\"].values.ravel()\n",
    "X_validate = validate.drop([\"attack_flag\"], axis=1)\n",
    "y_test = test.loc[:, \"attack_flag\"].values.ravel()\n",
    "X_test = test.drop([\"attack_flag\"], axis=1)\n",
    "print(train.shape)\n",
    "print(validate.shape)\n",
    "print(test.shape)"
   ]
  },
  {
   "cell_type": "code",
   "execution_count": 12,
   "metadata": {},
   "outputs": [],
   "source": [
    "deep_numeric_feat = [\"Same_srv_rate\", \"Serror_rate\", \"Srv_serror_rate\", \"Dst_host_count\", \"Dst_host_srv_count\", \"Dst_host_same_src_port_rate\", \"Dst_host_serror_rate\", \"Dst_host_srv_serror_rate\", \"well_known_src_pool\", \"registered_src_pool\", \"cli_src_pool\"]\n",
    "wide_numeric_feat = [\"conn_len\",  \"src_bytes\", \"dst_bytes\", \"conn_numb\"]\n",
    "categorical_feat = [\"service\", \"Conn_state\", \"src_port\", \"dst_port\", \"proto\"]"
   ]
  },
  {
   "cell_type": "code",
   "execution_count": 13,
   "metadata": {},
   "outputs": [],
   "source": [
    "deep_numeric_feat_tf = [tf.feature_column.numeric_column(k) for k in deep_numeric_feat]\n",
    "wide_numeric_feat_tf = [tf.feature_column.numeric_column(k) for k in wide_numeric_feat]"
   ]
  },
  {
   "cell_type": "code",
   "execution_count": 14,
   "metadata": {},
   "outputs": [],
   "source": [
    "#data[\"src_port\"].unique().tolist()"
   ]
  },
  {
   "cell_type": "code",
   "execution_count": 15,
   "metadata": {},
   "outputs": [],
   "source": [
    "src_port_mod = [\"src_\" + s for s in data[\"src_port\"].unique().tolist()]\n",
    "src_port = tf.feature_column.categorical_column_with_vocabulary_list(\n",
    "    'src_port', src_port_mod)\n",
    "\n",
    "dst_port_mod = [\"dst_\" + s for s in data[\"dst_port\"].unique().tolist()]\n",
    "dst_port = tf.feature_column.categorical_column_with_vocabulary_list(\n",
    "    'dst_port', dst_port_mod)\n",
    "\n",
    "service = tf.feature_column.categorical_column_with_vocabulary_list(\n",
    "    'service', data[\"service\"].unique().tolist())\n",
    "\n",
    "Conn_state = tf.feature_column.categorical_column_with_vocabulary_list(\n",
    "    'Conn_state', data[\"Conn_state\"].unique().tolist())\n",
    "\n",
    "proto = tf.feature_column.categorical_column_with_vocabulary_list(\n",
    "    'proto', data[\"proto\"].unique().tolist())"
   ]
  },
  {
   "cell_type": "code",
   "execution_count": 16,
   "metadata": {},
   "outputs": [],
   "source": [
    "deep_columns = [\n",
    "    tf.feature_column.indicator_column(service),\n",
    "    tf.feature_column.indicator_column(Conn_state),\n",
    "    tf.feature_column.indicator_column(proto),\n",
    "    tf.feature_column.embedding_column(src_port, dimension=10),\n",
    "    tf.feature_column.embedding_column(dst_port, dimension=3),\n",
    "]"
   ]
  },
  {
   "cell_type": "code",
   "execution_count": 17,
   "metadata": {},
   "outputs": [],
   "source": [
    "crossed_columns = [\n",
    "      tf.feature_column.crossed_column(\n",
    "          ['src_port', 'service'], hash_bucket_size=10000),\n",
    "      tf.feature_column.crossed_column(\n",
    "          ['service', 'proto'], hash_bucket_size=10000),\n",
    "  ]"
   ]
  },
  {
   "cell_type": "code",
   "execution_count": 19,
   "metadata": {},
   "outputs": [
    {
     "name": "stdout",
     "output_type": "stream",
     "text": [
      "INFO:tensorflow:Using default config.\n",
      "INFO:tensorflow:Using config: {'_model_dir': '/home/matz/Desktop/ml_ids/NN_model', '_tf_random_seed': None, '_save_summary_steps': 100, '_save_checkpoints_steps': None, '_save_checkpoints_secs': 600, '_session_config': allow_soft_placement: true\n",
      "graph_options {\n",
      "  rewrite_options {\n",
      "    meta_optimizer_iterations: ONE\n",
      "  }\n",
      "}\n",
      ", '_keep_checkpoint_max': 5, '_keep_checkpoint_every_n_hours': 10000, '_log_step_count_steps': 100, '_train_distribute': None, '_device_fn': None, '_protocol': None, '_eval_distribute': None, '_experimental_distribute': None, '_service': None, '_cluster_spec': <tensorflow.python.training.server_lib.ClusterSpec object at 0x7f7115bd07b8>, '_task_type': 'worker', '_task_id': 0, '_global_id_in_cluster': 0, '_master': '', '_evaluation_master': '', '_is_chief': True, '_num_ps_replicas': 0, '_num_worker_replicas': 1}\n"
     ]
    }
   ],
   "source": [
    "model = tf.estimator.DNNLinearCombinedClassifier(\n",
    "    model_dir = \"/home/matz/Desktop/ml_ids/NN_model\",\n",
    "    dnn_activation_fn=tf.nn.selu,\n",
    "    linear_feature_columns = wide_numeric_feat_tf + crossed_columns,\n",
    "    dnn_feature_columns = deep_columns + deep_numeric_feat_tf + wide_numeric_feat_tf,\n",
    "    dnn_hidden_units = [500, 50])"
   ]
  },
  {
   "cell_type": "code",
   "execution_count": 20,
   "metadata": {},
   "outputs": [],
   "source": [
    "feature_set= deep_numeric_feat + wide_numeric_feat + categorical_feat"
   ]
  },
  {
   "cell_type": "code",
   "execution_count": 21,
   "metadata": {},
   "outputs": [],
   "source": [
    "def get_input_fn(data_set, num_epochs=None, n_batch = 256, shuffle=True):\n",
    "    return tf.estimator.inputs.pandas_input_fn(\n",
    "       x=pd.DataFrame({k: data_set[k].values for k in feature_set}),\n",
    "       y = pd.Series(data_set[\"attack_flag\"].values),\n",
    "       batch_size=n_batch,   \n",
    "       num_epochs=num_epochs,\n",
    "       shuffle=shuffle)"
   ]
  },
  {
   "cell_type": "code",
   "execution_count": 22,
   "metadata": {},
   "outputs": [
    {
     "data": {
      "text/plain": [
       "<function tensorflow.python.estimator.inputs.pandas_io.pandas_input_fn.<locals>.input_fn()>"
      ]
     },
     "execution_count": 22,
     "metadata": {},
     "output_type": "execute_result"
    }
   ],
   "source": [
    "get_input_fn(test, n_batch=test.shape[0], shuffle=False)"
   ]
  },
  {
   "cell_type": "code",
   "execution_count": 26,
   "metadata": {},
   "outputs": [
    {
     "name": "stdout",
     "output_type": "stream",
     "text": [
      "INFO:tensorflow:Calling model_fn.\n",
      "INFO:tensorflow:Done calling model_fn.\n",
      "INFO:tensorflow:Create CheckpointSaverHook.\n",
      "INFO:tensorflow:Graph was finalized.\n",
      "INFO:tensorflow:Running local_init_op.\n",
      "INFO:tensorflow:Done running local_init_op.\n",
      "INFO:tensorflow:Saving checkpoints for 0 into /home/matz/Desktop/ml_ids/NN_model/model.ckpt.\n",
      "INFO:tensorflow:loss = 1080.5385, step = 1\n",
      "INFO:tensorflow:global_step/sec: 142.919\n",
      "INFO:tensorflow:loss = 22.021889, step = 101 (0.700 sec)\n",
      "INFO:tensorflow:global_step/sec: 184.678\n",
      "INFO:tensorflow:loss = 33.18362, step = 201 (0.542 sec)\n",
      "INFO:tensorflow:global_step/sec: 190.347\n",
      "INFO:tensorflow:loss = 7.0033092, step = 301 (0.525 sec)\n",
      "INFO:tensorflow:global_step/sec: 189.864\n",
      "INFO:tensorflow:loss = 7.113332, step = 401 (0.527 sec)\n",
      "INFO:tensorflow:global_step/sec: 190.329\n",
      "INFO:tensorflow:loss = 19.865984, step = 501 (0.526 sec)\n",
      "INFO:tensorflow:global_step/sec: 180.947\n",
      "INFO:tensorflow:loss = 10.40894, step = 601 (0.552 sec)\n",
      "INFO:tensorflow:global_step/sec: 190.916\n",
      "INFO:tensorflow:loss = 14.002512, step = 701 (0.524 sec)\n",
      "INFO:tensorflow:global_step/sec: 190.633\n",
      "INFO:tensorflow:loss = 5.2604685, step = 801 (0.525 sec)\n",
      "INFO:tensorflow:global_step/sec: 181.8\n",
      "INFO:tensorflow:loss = 7.6652517, step = 901 (0.550 sec)\n",
      "INFO:tensorflow:global_step/sec: 184.282\n",
      "INFO:tensorflow:loss = 4.0723047, step = 1001 (0.542 sec)\n",
      "INFO:tensorflow:global_step/sec: 183.926\n",
      "INFO:tensorflow:loss = 8.087036, step = 1101 (0.544 sec)\n",
      "INFO:tensorflow:global_step/sec: 185.854\n",
      "INFO:tensorflow:loss = 5.042431, step = 1201 (0.538 sec)\n",
      "INFO:tensorflow:global_step/sec: 184.821\n",
      "INFO:tensorflow:loss = 12.99322, step = 1301 (0.541 sec)\n",
      "INFO:tensorflow:global_step/sec: 183.981\n",
      "INFO:tensorflow:loss = 15.479611, step = 1401 (0.543 sec)\n",
      "INFO:tensorflow:global_step/sec: 182.367\n",
      "INFO:tensorflow:loss = 6.785728, step = 1501 (0.548 sec)\n",
      "INFO:tensorflow:global_step/sec: 185.984\n",
      "INFO:tensorflow:loss = 12.559898, step = 1601 (0.538 sec)\n",
      "INFO:tensorflow:global_step/sec: 182.72\n",
      "INFO:tensorflow:loss = 10.463756, step = 1701 (0.548 sec)\n",
      "INFO:tensorflow:global_step/sec: 183.593\n",
      "INFO:tensorflow:loss = 7.0168138, step = 1801 (0.544 sec)\n",
      "INFO:tensorflow:global_step/sec: 186.966\n",
      "INFO:tensorflow:loss = 1.9368813, step = 1901 (0.535 sec)\n",
      "INFO:tensorflow:global_step/sec: 184.458\n",
      "INFO:tensorflow:loss = 7.673362, step = 2001 (0.542 sec)\n",
      "INFO:tensorflow:global_step/sec: 182.405\n",
      "INFO:tensorflow:loss = 10.258732, step = 2101 (0.548 sec)\n",
      "INFO:tensorflow:global_step/sec: 183.767\n",
      "INFO:tensorflow:loss = 10.365061, step = 2201 (0.544 sec)\n",
      "INFO:tensorflow:global_step/sec: 183.872\n",
      "INFO:tensorflow:loss = 8.564818, step = 2301 (0.544 sec)\n",
      "INFO:tensorflow:global_step/sec: 183.356\n",
      "INFO:tensorflow:loss = 4.4863696, step = 2401 (0.545 sec)\n",
      "INFO:tensorflow:global_step/sec: 184.987\n",
      "INFO:tensorflow:loss = 6.648426, step = 2501 (0.541 sec)\n",
      "INFO:tensorflow:global_step/sec: 168.013\n",
      "INFO:tensorflow:loss = 14.3676815, step = 2601 (0.596 sec)\n",
      "INFO:tensorflow:global_step/sec: 163.101\n",
      "INFO:tensorflow:loss = 10.418043, step = 2701 (0.613 sec)\n",
      "INFO:tensorflow:global_step/sec: 178.266\n",
      "INFO:tensorflow:loss = 5.505946, step = 2801 (0.561 sec)\n",
      "INFO:tensorflow:global_step/sec: 179.56\n",
      "INFO:tensorflow:loss = 15.832445, step = 2901 (0.557 sec)\n",
      "INFO:tensorflow:global_step/sec: 176.9\n",
      "INFO:tensorflow:loss = 5.9337854, step = 3001 (0.565 sec)\n",
      "INFO:tensorflow:global_step/sec: 179.777\n",
      "INFO:tensorflow:loss = 9.1462345, step = 3101 (0.556 sec)\n",
      "INFO:tensorflow:global_step/sec: 185.35\n",
      "INFO:tensorflow:loss = 9.548946, step = 3201 (0.539 sec)\n",
      "INFO:tensorflow:global_step/sec: 180.482\n",
      "INFO:tensorflow:loss = 4.953746, step = 3301 (0.554 sec)\n",
      "INFO:tensorflow:global_step/sec: 161.623\n",
      "INFO:tensorflow:loss = 4.620029, step = 3401 (0.619 sec)\n",
      "INFO:tensorflow:global_step/sec: 159.015\n",
      "INFO:tensorflow:loss = 5.0130744, step = 3501 (0.630 sec)\n",
      "INFO:tensorflow:global_step/sec: 153.501\n",
      "INFO:tensorflow:loss = 13.664959, step = 3601 (0.652 sec)\n",
      "INFO:tensorflow:global_step/sec: 157.439\n",
      "INFO:tensorflow:loss = 16.416338, step = 3701 (0.634 sec)\n",
      "INFO:tensorflow:global_step/sec: 160.295\n",
      "INFO:tensorflow:loss = 14.161977, step = 3801 (0.623 sec)\n",
      "INFO:tensorflow:global_step/sec: 158.578\n",
      "INFO:tensorflow:loss = 4.2374353, step = 3901 (0.630 sec)\n",
      "INFO:tensorflow:global_step/sec: 162.343\n",
      "INFO:tensorflow:loss = 6.5897083, step = 4001 (0.617 sec)\n",
      "INFO:tensorflow:global_step/sec: 161.158\n",
      "INFO:tensorflow:loss = 10.174422, step = 4101 (0.620 sec)\n",
      "INFO:tensorflow:global_step/sec: 157.449\n",
      "INFO:tensorflow:loss = 10.177746, step = 4201 (0.635 sec)\n",
      "INFO:tensorflow:global_step/sec: 166.687\n",
      "INFO:tensorflow:loss = 3.8978615, step = 4301 (0.603 sec)\n",
      "INFO:tensorflow:global_step/sec: 157.323\n",
      "INFO:tensorflow:loss = 7.14243, step = 4401 (0.633 sec)\n",
      "INFO:tensorflow:global_step/sec: 167.634\n",
      "INFO:tensorflow:loss = 5.449564, step = 4501 (0.596 sec)\n",
      "INFO:tensorflow:global_step/sec: 160.466\n",
      "INFO:tensorflow:loss = 9.806336, step = 4601 (0.623 sec)\n",
      "INFO:tensorflow:global_step/sec: 175.197\n",
      "INFO:tensorflow:loss = 14.9924965, step = 4701 (0.570 sec)\n",
      "INFO:tensorflow:global_step/sec: 177.837\n",
      "INFO:tensorflow:loss = 12.323851, step = 4801 (0.562 sec)\n",
      "INFO:tensorflow:global_step/sec: 166.944\n",
      "INFO:tensorflow:loss = 7.6827087, step = 4901 (0.599 sec)\n",
      "INFO:tensorflow:global_step/sec: 178.814\n",
      "INFO:tensorflow:loss = 2.9567432, step = 5001 (0.559 sec)\n",
      "INFO:tensorflow:global_step/sec: 175.088\n",
      "INFO:tensorflow:loss = 10.896275, step = 5101 (0.571 sec)\n",
      "INFO:tensorflow:global_step/sec: 179.146\n",
      "INFO:tensorflow:loss = 4.9035654, step = 5201 (0.558 sec)\n",
      "INFO:tensorflow:global_step/sec: 174.819\n",
      "INFO:tensorflow:loss = 11.134169, step = 5301 (0.572 sec)\n",
      "INFO:tensorflow:global_step/sec: 161.335\n",
      "INFO:tensorflow:loss = 10.57519, step = 5401 (0.620 sec)\n",
      "INFO:tensorflow:global_step/sec: 164.527\n",
      "INFO:tensorflow:loss = 5.230493, step = 5501 (0.607 sec)\n",
      "INFO:tensorflow:global_step/sec: 169.565\n",
      "INFO:tensorflow:loss = 17.287476, step = 5601 (0.590 sec)\n",
      "INFO:tensorflow:global_step/sec: 179.537\n",
      "INFO:tensorflow:loss = 12.085167, step = 5701 (0.557 sec)\n",
      "INFO:tensorflow:global_step/sec: 168.383\n",
      "INFO:tensorflow:loss = 8.793044, step = 5801 (0.594 sec)\n",
      "INFO:tensorflow:global_step/sec: 170.136\n",
      "INFO:tensorflow:loss = 5.0827265, step = 5901 (0.588 sec)\n",
      "INFO:tensorflow:global_step/sec: 174.288\n",
      "INFO:tensorflow:loss = 10.89244, step = 6001 (0.576 sec)\n",
      "INFO:tensorflow:global_step/sec: 175.374\n",
      "INFO:tensorflow:loss = 3.320131, step = 6101 (0.568 sec)\n",
      "INFO:tensorflow:global_step/sec: 170.091\n",
      "INFO:tensorflow:loss = 5.0495014, step = 6201 (0.590 sec)\n",
      "INFO:tensorflow:global_step/sec: 167.174\n",
      "INFO:tensorflow:loss = 14.563775, step = 6301 (0.597 sec)\n",
      "INFO:tensorflow:global_step/sec: 168.589\n",
      "INFO:tensorflow:loss = 4.3755417, step = 6401 (0.593 sec)\n",
      "INFO:tensorflow:global_step/sec: 167.783\n",
      "INFO:tensorflow:loss = 8.721443, step = 6501 (0.596 sec)\n",
      "INFO:tensorflow:global_step/sec: 168.239\n",
      "INFO:tensorflow:loss = 2.454956, step = 6601 (0.594 sec)\n",
      "INFO:tensorflow:global_step/sec: 169.351\n",
      "INFO:tensorflow:loss = 15.064112, step = 6701 (0.590 sec)\n",
      "INFO:tensorflow:global_step/sec: 170.876\n",
      "INFO:tensorflow:loss = 4.041789, step = 6801 (0.585 sec)\n",
      "INFO:tensorflow:global_step/sec: 169.671\n",
      "INFO:tensorflow:loss = 17.169807, step = 6901 (0.589 sec)\n",
      "INFO:tensorflow:global_step/sec: 166.478\n",
      "INFO:tensorflow:loss = 5.3262687, step = 7001 (0.601 sec)\n",
      "INFO:tensorflow:global_step/sec: 169.832\n",
      "INFO:tensorflow:loss = 9.318606, step = 7101 (0.589 sec)\n",
      "INFO:tensorflow:global_step/sec: 172.335\n",
      "INFO:tensorflow:loss = 8.7324705, step = 7201 (0.580 sec)\n",
      "INFO:tensorflow:global_step/sec: 161.538\n",
      "INFO:tensorflow:loss = 9.487693, step = 7301 (0.619 sec)\n",
      "INFO:tensorflow:global_step/sec: 169.111\n",
      "INFO:tensorflow:loss = 4.3234434, step = 7401 (0.591 sec)\n",
      "INFO:tensorflow:global_step/sec: 169.647\n",
      "INFO:tensorflow:loss = 4.772234, step = 7501 (0.590 sec)\n",
      "INFO:tensorflow:global_step/sec: 167.331\n",
      "INFO:tensorflow:loss = 5.841167, step = 7601 (0.598 sec)\n",
      "INFO:tensorflow:global_step/sec: 161.509\n",
      "INFO:tensorflow:loss = 13.632765, step = 7701 (0.619 sec)\n",
      "INFO:tensorflow:global_step/sec: 169.182\n",
      "INFO:tensorflow:loss = 3.7102108, step = 7801 (0.591 sec)\n",
      "INFO:tensorflow:global_step/sec: 170.489\n",
      "INFO:tensorflow:loss = 4.026603, step = 7901 (0.587 sec)\n",
      "INFO:tensorflow:global_step/sec: 169.083\n",
      "INFO:tensorflow:loss = 6.8086777, step = 8001 (0.591 sec)\n"
     ]
    },
    {
     "name": "stdout",
     "output_type": "stream",
     "text": [
      "INFO:tensorflow:global_step/sec: 168.09\n",
      "INFO:tensorflow:loss = 4.781975, step = 8101 (0.596 sec)\n",
      "INFO:tensorflow:global_step/sec: 156.332\n",
      "INFO:tensorflow:loss = 19.070414, step = 8201 (0.639 sec)\n",
      "INFO:tensorflow:global_step/sec: 135.098\n",
      "INFO:tensorflow:loss = 8.429444, step = 8301 (0.740 sec)\n",
      "INFO:tensorflow:global_step/sec: 141.13\n",
      "INFO:tensorflow:loss = 16.418062, step = 8401 (0.708 sec)\n",
      "INFO:tensorflow:global_step/sec: 142.643\n",
      "INFO:tensorflow:loss = 12.987009, step = 8501 (0.701 sec)\n",
      "INFO:tensorflow:global_step/sec: 179.201\n",
      "INFO:tensorflow:loss = 12.198438, step = 8601 (0.558 sec)\n",
      "INFO:tensorflow:global_step/sec: 181.989\n",
      "INFO:tensorflow:loss = 9.566003, step = 8701 (0.550 sec)\n",
      "INFO:tensorflow:global_step/sec: 169.399\n",
      "INFO:tensorflow:loss = 12.555948, step = 8801 (0.591 sec)\n",
      "INFO:tensorflow:global_step/sec: 168.729\n",
      "INFO:tensorflow:loss = 7.049782, step = 8901 (0.592 sec)\n",
      "INFO:tensorflow:global_step/sec: 170.27\n",
      "INFO:tensorflow:loss = 4.092058, step = 9001 (0.588 sec)\n",
      "INFO:tensorflow:global_step/sec: 173.362\n",
      "INFO:tensorflow:loss = 4.3985124, step = 9101 (0.576 sec)\n",
      "INFO:tensorflow:global_step/sec: 174.041\n",
      "INFO:tensorflow:loss = 5.525262, step = 9201 (0.575 sec)\n",
      "INFO:tensorflow:global_step/sec: 165.05\n",
      "INFO:tensorflow:loss = 11.278925, step = 9301 (0.605 sec)\n",
      "INFO:tensorflow:global_step/sec: 173.503\n",
      "INFO:tensorflow:loss = 4.2808914, step = 9401 (0.577 sec)\n",
      "INFO:tensorflow:global_step/sec: 172.057\n",
      "INFO:tensorflow:loss = 3.6612725, step = 9501 (0.581 sec)\n",
      "INFO:tensorflow:global_step/sec: 173.585\n",
      "INFO:tensorflow:loss = 2.954286, step = 9601 (0.577 sec)\n",
      "INFO:tensorflow:global_step/sec: 169.677\n",
      "INFO:tensorflow:loss = 3.3735616, step = 9701 (0.588 sec)\n",
      "INFO:tensorflow:global_step/sec: 157.659\n",
      "INFO:tensorflow:loss = 4.9857955, step = 9801 (0.635 sec)\n",
      "INFO:tensorflow:global_step/sec: 134.336\n",
      "INFO:tensorflow:loss = 8.266444, step = 9901 (0.744 sec)\n",
      "INFO:tensorflow:Saving checkpoints for 10000 into /home/matz/Desktop/ml_ids/NN_model/model.ckpt.\n",
      "INFO:tensorflow:Loss for final step: 3.1218624.\n"
     ]
    },
    {
     "data": {
      "text/plain": [
       "<tensorflow.python.estimator.canned.dnn_linear_combined.DNNLinearCombinedClassifier at 0x7f7115bd0588>"
      ]
     },
     "execution_count": 26,
     "metadata": {},
     "output_type": "execute_result"
    }
   ],
   "source": [
    "model.train(input_fn=get_input_fn(test, n_batch=256, shuffle=False), steps=10000)"
   ]
  },
  {
   "cell_type": "code",
   "execution_count": 27,
   "metadata": {},
   "outputs": [
    {
     "name": "stdout",
     "output_type": "stream",
     "text": [
      "INFO:tensorflow:Calling model_fn.\n",
      "WARNING:tensorflow:Trapezoidal rule is known to produce incorrect PR-AUCs; please switch to \"careful_interpolation\" instead.\n",
      "WARNING:tensorflow:Trapezoidal rule is known to produce incorrect PR-AUCs; please switch to \"careful_interpolation\" instead.\n",
      "INFO:tensorflow:Done calling model_fn.\n",
      "INFO:tensorflow:Starting evaluation at 2019-05-13-16:37:22\n",
      "INFO:tensorflow:Graph was finalized.\n",
      "INFO:tensorflow:Restoring parameters from /home/matz/Desktop/ml_ids/NN_model/model.ckpt-10000\n",
      "INFO:tensorflow:Running local_init_op.\n",
      "INFO:tensorflow:Done running local_init_op.\n",
      "INFO:tensorflow:Evaluation [1/1]\n",
      "INFO:tensorflow:Finished evaluation at 2019-05-13-16:37:25\n",
      "INFO:tensorflow:Saving dict for global step 10000: accuracy = 0.99323, accuracy_baseline = 0.7026406, auc = 0.9992177, auc_precision_recall = 0.9978006, average_loss = 0.03234766, global_step = 10000, label/mean = 0.2973594, loss = 1055.957, precision = 0.99068904, prediction/mean = 0.31078362, recall = 0.98650455\n",
      "INFO:tensorflow:Saving 'checkpoint_path' summary for global step 10000: /home/matz/Desktop/ml_ids/NN_model/model.ckpt-10000\n"
     ]
    }
   ],
   "source": [
    "eval_metrics = model.evaluate(input_fn=get_input_fn(validate, n_batch=validate.shape[0], shuffle=False), steps=1)"
   ]
  },
  {
   "cell_type": "code",
   "execution_count": 28,
   "metadata": {
    "scrolled": true
   },
   "outputs": [
    {
     "name": "stdout",
     "output_type": "stream",
     "text": [
      "accuracy: 0.99323\n",
      "accuracy_baseline: 0.7026406\n",
      "auc: 0.9992177\n",
      "auc_precision_recall: 0.9978006\n",
      "average_loss: 0.03234766\n",
      "global_step: 10000\n",
      "label/mean: 0.2973594\n",
      "loss: 1055.957\n",
      "precision: 0.99068904\n",
      "prediction/mean: 0.31078362\n",
      "recall: 0.98650455\n"
     ]
    }
   ],
   "source": [
    "for key,value in sorted(eval_metrics.items()):\n",
    "  print('%s: %s' % (key, value))"
   ]
  },
  {
   "cell_type": "code",
   "execution_count": 36,
   "metadata": {},
   "outputs": [
    {
     "name": "stdout",
     "output_type": "stream",
     "text": [
      "INFO:tensorflow:Calling model_fn.\n",
      "INFO:tensorflow:Done calling model_fn.\n",
      "INFO:tensorflow:Graph was finalized.\n",
      "INFO:tensorflow:Restoring parameters from /home/matz/Desktop/ml_ids/NN_model/model.ckpt-10000\n",
      "INFO:tensorflow:Running local_init_op.\n",
      "INFO:tensorflow:Done running local_init_op.\n"
     ]
    }
   ],
   "source": [
    "results = []\n",
    "results = list(model.predict(input_fn=get_input_fn(test, num_epochs=1, n_batch = X_test.shape[0], shuffle=False)))"
   ]
  },
  {
   "cell_type": "code",
   "execution_count": 37,
   "metadata": {},
   "outputs": [],
   "source": [
    "y_pred = []\n",
    "for el in results:\n",
    "    y_pred.append(el[\"class_ids\"])"
   ]
  },
  {
   "cell_type": "code",
   "execution_count": 38,
   "metadata": {},
   "outputs": [
    {
     "name": "stdout",
     "output_type": "stream",
     "text": [
      "NN Accuracy: 0.99081, F1-score: 0.99517, Precision: 0.99245, Recall: 0.99790, FPR: 0.13832\n",
      "TN: 1464; FP: 235; FN:   65; TP: 30881\n",
      "\n"
     ]
    }
   ],
   "source": [
    "name = \"NN\"\n",
    "\n",
    "Acc = {}\n",
    "F1S = {}\n",
    "Prec = {}\n",
    "Rec = {}\n",
    "FPR = {}\n",
    "\n",
    "Acc[name] = metrics.accuracy_score(y_test, y_pred)\n",
    "F1S[name] = metrics.f1_score(y_test, y_pred)\n",
    "Prec[name] = metrics.precision_score(y_test, y_pred)\n",
    "Rec[name] = metrics.recall_score(y_test, y_pred)\n",
    "tn, fp, fn, tp = metrics.confusion_matrix(y_test, y_pred).ravel()\n",
    "FPR[name] = fp/(fp+tn)\n",
    "\n",
    "print(\"{0:2} Accuracy: {1:.5f}, F1-score: {2:.5f}, Precision: {3:.5f}, Recall: {4:.5f}, FPR: {5:.5f}\".format(name, Acc[name], F1S[name], Prec[name], Rec[name], FPR[name]))\n",
    "print(\"TN: {0:3}; FP: {1:3}; FN: {2:4}; TP: {3:3}\\n\".format(tn, fp, fn, tp))"
   ]
  },
  {
   "cell_type": "code",
   "execution_count": null,
   "metadata": {},
   "outputs": [],
   "source": []
  },
  {
   "cell_type": "code",
   "execution_count": null,
   "metadata": {},
   "outputs": [],
   "source": []
  }
 ],
 "metadata": {
  "kernelspec": {
   "display_name": "Python 3",
   "language": "python",
   "name": "python3"
  },
  "language_info": {
   "codemirror_mode": {
    "name": "ipython",
    "version": 3
   },
   "file_extension": ".py",
   "mimetype": "text/x-python",
   "name": "python",
   "nbconvert_exporter": "python",
   "pygments_lexer": "ipython3",
   "version": "3.6.7"
  }
 },
 "nbformat": 4,
 "nbformat_minor": 2
}
