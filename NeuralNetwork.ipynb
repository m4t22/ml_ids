{
 "cells": [
  {
   "cell_type": "code",
   "execution_count": 5,
   "metadata": {},
   "outputs": [],
   "source": [
    "import pandas as pd\n",
    "import matplotlib.pyplot as plt\n",
    "import numpy as np\n",
    "\n",
    "%matplotlib inline \n",
    "%config IPCompleter.greedy=True\n",
    "\n",
    "import collections\n",
    "import io\n",
    "import math\n",
    "import tensorflow as tf\n",
    "from IPython import display\n",
    "from sklearn import metrics"
   ]
  },
  {
   "cell_type": "markdown",
   "metadata": {},
   "source": [
    "\n",
    "## Reading data from file"
   ]
  },
  {
   "cell_type": "code",
   "execution_count": 6,
   "metadata": {},
   "outputs": [
    {
     "name": "stdout",
     "output_type": "stream",
     "text": [
      "Counter({-1: 149915, 1: 67713})\n"
     ]
    }
   ],
   "source": [
    "from collections import Counter\n",
    "\n",
    "### main dataset ###\n",
    "data = pd.read_csv(\"20151219.txt\", sep = \"\\t\", header = None)\n",
    "data.columns = [\"conn_len\", \"service\", \"src_bytes\", \"dst_bytes\", \"conn_numb\", \"Same_srv_rate\", \"Serror_rate\", \"Srv_serror_rate\", \"Dst_host_count\", \"Dst_host_srv_count\", \"Dst_host_same_src_port_rate\", \"Dst_host_serror_rate\", \"Dst_host_srv_serror_rate\", \"Conn_state\", \"IDS_detection\", \"Malware_detection\", \"Ashula_detection\", \"attack_flag\", \"src_IP\", \"src_port\", \"dst_IP\", \"dst_port\", \"start_time\", \"proto\"]\n",
    "\n",
    "print(Counter(data[\"attack_flag\"]))"
   ]
  },
  {
   "cell_type": "markdown",
   "metadata": {},
   "source": [
    "## Transform to binary"
   ]
  },
  {
   "cell_type": "code",
   "execution_count": 7,
   "metadata": {},
   "outputs": [
    {
     "name": "stdout",
     "output_type": "stream",
     "text": [
      "Counter({1: 149915, 0: 67713})\n"
     ]
    }
   ],
   "source": [
    "data.loc[:, \"attack_flag\"] = data.loc[:,\"attack_flag\"].replace(-2, -1)\n",
    "data.loc[:, \"attack_flag\"] = data.loc[:, \"attack_flag\"] * -1\n",
    "data.loc[:, \"attack_flag\"] = data.loc[:,\"attack_flag\"].replace(-1, 0)\n",
    "\n",
    "print(Counter(data[\"attack_flag\"]))"
   ]
  },
  {
   "cell_type": "code",
   "execution_count": 8,
   "metadata": {},
   "outputs": [
    {
     "data": {
      "text/plain": [
       "(217628, 24)"
      ]
     },
     "execution_count": 8,
     "metadata": {},
     "output_type": "execute_result"
    }
   ],
   "source": [
    "# removing NaNs\n",
    "data = data.dropna()\n",
    "data.shape"
   ]
  },
  {
   "cell_type": "markdown",
   "metadata": {},
   "source": [
    "# a bit of feature engineering"
   ]
  },
  {
   "cell_type": "markdown",
   "metadata": {},
   "source": [
    "## port numbers classification"
   ]
  },
  {
   "cell_type": "code",
   "execution_count": 9,
   "metadata": {},
   "outputs": [],
   "source": [
    "t1 = 1023  # well-known port numbers\n",
    "t2 = 49151 # registered ports\n",
    "t3 = 65535 # client ports\n",
    "\n",
    "def wk(data_row):\n",
    "    if (data_row[\"src_port\"] <= t1): \n",
    "        value = 1\n",
    "    elif ((data_row[\"src_port\"] > t1) and (data_row[\"src_port\"] <= t2)):\n",
    "        value = 0\n",
    "    elif ((data_row[\"src_port\"] > t2) and (data_row[\"src_port\"] <= t3)):\n",
    "        value = 0\n",
    "    return value\n",
    "\n",
    "def reg(data_row):\n",
    "    if (data_row[\"src_port\"] <= t1): \n",
    "        value = 0\n",
    "    elif ((data_row[\"src_port\"] > t1) and (data_row[\"src_port\"] <= t2)):\n",
    "        value = 1\n",
    "    elif ((data_row[\"src_port\"] > t2) and (data_row[\"src_port\"] <= t3)):\n",
    "        value = 0\n",
    "    return value\n",
    "\n",
    "def cli(data_row):\n",
    "    if (data_row[\"src_port\"] <= t1): \n",
    "        value = 0\n",
    "    elif ((data_row[\"src_port\"] > t1) and (data_row[\"src_port\"] <= t2)):\n",
    "        value = 0\n",
    "    elif ((data_row[\"src_port\"] > t2) and (data_row[\"src_port\"] <= t3)):\n",
    "        value = 1\n",
    "    return value\n",
    "\n",
    "data[\"well_known_src_pool\"] = data.apply(wk, axis=1)\n",
    "data[\"registered_src_pool\"] = data.apply(reg, axis=1)\n",
    "data[\"cli_src_pool\"] = data.apply(cli, axis=1)"
   ]
  },
  {
   "cell_type": "code",
   "execution_count": 39,
   "metadata": {},
   "outputs": [],
   "source": [
    "data[\"src_port\"] = data[\"src_port\"].apply(str)\n",
    "data[\"dst_port\"] = data[\"dst_port\"].apply(str)"
   ]
  },
  {
   "cell_type": "code",
   "execution_count": 40,
   "metadata": {},
   "outputs": [
    {
     "name": "stdout",
     "output_type": "stream",
     "text": [
      "(152339, 27)\n",
      "(32644, 27)\n",
      "(32645, 27)\n"
     ]
    }
   ],
   "source": [
    "train, validate, test = np.split(data, [int(.7*len(data)), int(.85*len(data))])\n",
    "train = train.sample(frac=1)\n",
    "validate = validate.sample(frac=1)\n",
    "test = test.sample(frac=1)\n",
    "y_train = train.loc[:, \"attack_flag\"].values.ravel()\n",
    "X_train = train.drop([\"attack_flag\"], axis=1)\n",
    "y_validate = validate.loc[:, \"attack_flag\"].values.ravel()\n",
    "X_validate = validate.drop([\"attack_flag\"], axis=1)\n",
    "y_test = test.loc[:, \"attack_flag\"].values.ravel()\n",
    "X_test = test.drop([\"attack_flag\"], axis=1)\n",
    "print(train.shape)\n",
    "print(validate.shape)\n",
    "print(test.shape)"
   ]
  },
  {
   "cell_type": "code",
   "execution_count": 41,
   "metadata": {},
   "outputs": [],
   "source": [
    "deep_numeric_feat = [\"Same_srv_rate\", \"Serror_rate\", \"Srv_serror_rate\", \"Dst_host_count\", \"Dst_host_srv_count\", \"Dst_host_same_src_port_rate\", \"Dst_host_serror_rate\", \"Dst_host_srv_serror_rate\", \"well_known_src_pool\", \"registered_src_pool\", \"cli_src_pool\"]\n",
    "wide_numeric_feat = [\"conn_len\",  \"src_bytes\", \"dst_bytes\", \"conn_numb\"]\n",
    "categorical_feat = [\"service\", \"Conn_state\", \"src_port\", \"dst_port\", \"proto\"]"
   ]
  },
  {
   "cell_type": "code",
   "execution_count": 42,
   "metadata": {},
   "outputs": [],
   "source": [
    "deep_numeric_feat_tf = [tf.feature_column.numeric_column(k) for k in deep_numeric_feat]\n",
    "wide_numeric_feat_tf = [tf.feature_column.numeric_column(k) for k in wide_numeric_feat]"
   ]
  },
  {
   "cell_type": "code",
   "execution_count": 43,
   "metadata": {},
   "outputs": [],
   "source": [
    "#data[\"src_port\"].unique().tolist()"
   ]
  },
  {
   "cell_type": "code",
   "execution_count": 44,
   "metadata": {},
   "outputs": [],
   "source": [
    "src_port_mod = [\"src_\" + s for s in data[\"src_port\"].unique().tolist()]\n",
    "src_port = tf.feature_column.categorical_column_with_vocabulary_list(\n",
    "    'src_port', src_port_mod)\n",
    "\n",
    "dst_port_mod = [\"dst_\" + s for s in data[\"dst_port\"].unique().tolist()]\n",
    "dst_port = tf.feature_column.categorical_column_with_vocabulary_list(\n",
    "    'dst_port', dst_port_mod)\n",
    "\n",
    "service = tf.feature_column.categorical_column_with_vocabulary_list(\n",
    "    'service', data[\"service\"].unique().tolist())\n",
    "\n",
    "Conn_state = tf.feature_column.categorical_column_with_vocabulary_list(\n",
    "    'Conn_state', data[\"Conn_state\"].unique().tolist())\n",
    "\n",
    "proto = tf.feature_column.categorical_column_with_vocabulary_list(\n",
    "    'proto', data[\"proto\"].unique().tolist())"
   ]
  },
  {
   "cell_type": "code",
   "execution_count": 45,
   "metadata": {},
   "outputs": [],
   "source": [
    "deep_columns = [\n",
    "    tf.feature_column.indicator_column(service),\n",
    "    tf.feature_column.indicator_column(Conn_state),\n",
    "    tf.feature_column.indicator_column(proto),\n",
    "    tf.feature_column.embedding_column(src_port, dimension=10),\n",
    "    tf.feature_column.embedding_column(dst_port, dimension=3),\n",
    "]"
   ]
  },
  {
   "cell_type": "code",
   "execution_count": 46,
   "metadata": {},
   "outputs": [],
   "source": [
    "crossed_columns = [\n",
    "      tf.feature_column.crossed_column(\n",
    "          ['src_port', 'service'], hash_bucket_size=10000),\n",
    "      tf.feature_column.crossed_column(\n",
    "          ['service', 'proto'], hash_bucket_size=10000),\n",
    "  ]"
   ]
  },
  {
   "cell_type": "code",
   "execution_count": 149,
   "metadata": {},
   "outputs": [
    {
     "name": "stdout",
     "output_type": "stream",
     "text": [
      "INFO:tensorflow:Using default config.\n",
      "INFO:tensorflow:Using config: {'_model_dir': '/home/matz/Desktop/ml_ids/NN_model', '_tf_random_seed': None, '_save_summary_steps': 100, '_save_checkpoints_steps': None, '_save_checkpoints_secs': 600, '_session_config': allow_soft_placement: true\n",
      "graph_options {\n",
      "  rewrite_options {\n",
      "    meta_optimizer_iterations: ONE\n",
      "  }\n",
      "}\n",
      ", '_keep_checkpoint_max': 5, '_keep_checkpoint_every_n_hours': 10000, '_log_step_count_steps': 100, '_train_distribute': None, '_device_fn': None, '_protocol': None, '_eval_distribute': None, '_experimental_distribute': None, '_service': None, '_cluster_spec': <tensorflow.python.training.server_lib.ClusterSpec object at 0x7f711537a208>, '_task_type': 'worker', '_task_id': 0, '_global_id_in_cluster': 0, '_master': '', '_evaluation_master': '', '_is_chief': True, '_num_ps_replicas': 0, '_num_worker_replicas': 1}\n"
     ]
    }
   ],
   "source": [
    "model = tf.estimator.DNNLinearCombinedClassifier(\n",
    "    model_dir = \"/home/matz/Desktop/ml_ids/NN_model\",\n",
    "    dnn_activation_fn=tf.nn.selu,\n",
    "    linear_feature_columns = wide_numeric_feat_tf + crossed_columns,\n",
    "    dnn_feature_columns = deep_columns + deep_numeric_feat_tf + wide_numeric_feat_tf,\n",
    "    dnn_hidden_units = [450, 250, 150])"
   ]
  },
  {
   "cell_type": "code",
   "execution_count": 150,
   "metadata": {},
   "outputs": [],
   "source": [
    "feature_set= deep_numeric_feat + wide_numeric_feat + categorical_feat"
   ]
  },
  {
   "cell_type": "code",
   "execution_count": 151,
   "metadata": {},
   "outputs": [],
   "source": [
    "def get_input_fn(data_set, num_epochs=None, n_batch = 256, shuffle=True):\n",
    "    return tf.estimator.inputs.pandas_input_fn(\n",
    "       x=pd.DataFrame({k: data_set[k].values for k in feature_set}),\n",
    "       y = pd.Series(data_set[\"attack_flag\"].values),\n",
    "       batch_size=n_batch,   \n",
    "       num_epochs=num_epochs,\n",
    "       shuffle=shuffle)"
   ]
  },
  {
   "cell_type": "code",
   "execution_count": 152,
   "metadata": {},
   "outputs": [
    {
     "data": {
      "text/plain": [
       "<function tensorflow.python.estimator.inputs.pandas_io.pandas_input_fn.<locals>.input_fn()>"
      ]
     },
     "execution_count": 152,
     "metadata": {},
     "output_type": "execute_result"
    }
   ],
   "source": [
    "get_input_fn(test, n_batch=test.shape[0], shuffle=False)"
   ]
  },
  {
   "cell_type": "code",
   "execution_count": 153,
   "metadata": {},
   "outputs": [
    {
     "name": "stdout",
     "output_type": "stream",
     "text": [
      "INFO:tensorflow:Calling model_fn.\n",
      "INFO:tensorflow:Done calling model_fn.\n",
      "INFO:tensorflow:Create CheckpointSaverHook.\n",
      "INFO:tensorflow:Graph was finalized.\n",
      "INFO:tensorflow:Running local_init_op.\n",
      "INFO:tensorflow:Done running local_init_op.\n",
      "INFO:tensorflow:Saving checkpoints for 0 into /home/matz/Desktop/ml_ids/NN_model/model.ckpt.\n",
      "INFO:tensorflow:loss = 359.97433, step = 1\n",
      "INFO:tensorflow:global_step/sec: 109.813\n",
      "INFO:tensorflow:loss = 8.412852, step = 101 (0.911 sec)\n",
      "INFO:tensorflow:global_step/sec: 114.497\n",
      "INFO:tensorflow:loss = 14.845431, step = 201 (0.874 sec)\n",
      "INFO:tensorflow:global_step/sec: 111.595\n",
      "INFO:tensorflow:loss = 10.659036, step = 301 (0.896 sec)\n",
      "INFO:tensorflow:global_step/sec: 116.989\n",
      "INFO:tensorflow:loss = 7.59216, step = 401 (0.854 sec)\n",
      "INFO:tensorflow:global_step/sec: 117.215\n",
      "INFO:tensorflow:loss = 7.297086, step = 501 (0.854 sec)\n",
      "INFO:tensorflow:global_step/sec: 118.516\n",
      "INFO:tensorflow:loss = 7.3898754, step = 601 (0.843 sec)\n",
      "INFO:tensorflow:global_step/sec: 119.188\n",
      "INFO:tensorflow:loss = 14.105154, step = 701 (0.839 sec)\n",
      "INFO:tensorflow:global_step/sec: 131.331\n",
      "INFO:tensorflow:loss = 15.536374, step = 801 (0.762 sec)\n",
      "INFO:tensorflow:global_step/sec: 129.28\n",
      "INFO:tensorflow:loss = 4.505968, step = 901 (0.774 sec)\n",
      "INFO:tensorflow:global_step/sec: 129.272\n",
      "INFO:tensorflow:loss = 5.0846596, step = 1001 (0.773 sec)\n",
      "INFO:tensorflow:global_step/sec: 130.986\n",
      "INFO:tensorflow:loss = 8.353091, step = 1101 (0.764 sec)\n",
      "INFO:tensorflow:global_step/sec: 124.962\n",
      "INFO:tensorflow:loss = 4.216736, step = 1201 (0.800 sec)\n",
      "INFO:tensorflow:global_step/sec: 121.524\n",
      "INFO:tensorflow:loss = 2.661736, step = 1301 (0.823 sec)\n",
      "INFO:tensorflow:global_step/sec: 108.374\n",
      "INFO:tensorflow:loss = 11.831055, step = 1401 (0.923 sec)\n",
      "INFO:tensorflow:global_step/sec: 118.631\n",
      "INFO:tensorflow:loss = 4.9664135, step = 1501 (0.843 sec)\n",
      "INFO:tensorflow:global_step/sec: 129.896\n",
      "INFO:tensorflow:loss = 2.6314373, step = 1601 (0.770 sec)\n",
      "INFO:tensorflow:global_step/sec: 141.747\n",
      "INFO:tensorflow:loss = 6.007002, step = 1701 (0.705 sec)\n",
      "INFO:tensorflow:global_step/sec: 143.713\n",
      "INFO:tensorflow:loss = 7.2865524, step = 1801 (0.696 sec)\n",
      "INFO:tensorflow:global_step/sec: 143.867\n",
      "INFO:tensorflow:loss = 2.6534774, step = 1901 (0.695 sec)\n",
      "INFO:tensorflow:global_step/sec: 125.011\n",
      "INFO:tensorflow:loss = 5.4188905, step = 2001 (0.800 sec)\n",
      "INFO:tensorflow:global_step/sec: 114.259\n",
      "INFO:tensorflow:loss = 1.3356078, step = 2101 (0.875 sec)\n",
      "INFO:tensorflow:global_step/sec: 119.232\n",
      "INFO:tensorflow:loss = 11.689166, step = 2201 (0.839 sec)\n",
      "INFO:tensorflow:global_step/sec: 125.547\n",
      "INFO:tensorflow:loss = 3.2037766, step = 2301 (0.796 sec)\n",
      "INFO:tensorflow:global_step/sec: 114.323\n",
      "INFO:tensorflow:loss = 9.758703, step = 2401 (0.876 sec)\n",
      "INFO:tensorflow:global_step/sec: 93.3168\n",
      "INFO:tensorflow:loss = 6.9540677, step = 2501 (1.071 sec)\n",
      "INFO:tensorflow:global_step/sec: 98.609\n",
      "INFO:tensorflow:loss = 10.082809, step = 2601 (1.015 sec)\n",
      "INFO:tensorflow:global_step/sec: 106.631\n",
      "INFO:tensorflow:loss = 4.456871, step = 2701 (0.938 sec)\n",
      "INFO:tensorflow:global_step/sec: 112.541\n",
      "INFO:tensorflow:loss = 5.940613, step = 2801 (0.888 sec)\n",
      "INFO:tensorflow:global_step/sec: 118.188\n",
      "INFO:tensorflow:loss = 3.6713452, step = 2901 (0.846 sec)\n",
      "INFO:tensorflow:global_step/sec: 115.387\n",
      "INFO:tensorflow:loss = 6.541188, step = 3001 (0.867 sec)\n",
      "INFO:tensorflow:global_step/sec: 115.307\n",
      "INFO:tensorflow:loss = 11.278946, step = 3101 (0.868 sec)\n",
      "INFO:tensorflow:global_step/sec: 120.087\n",
      "INFO:tensorflow:loss = 2.7389627, step = 3201 (0.832 sec)\n",
      "INFO:tensorflow:global_step/sec: 121.569\n",
      "INFO:tensorflow:loss = 4.61444, step = 3301 (0.822 sec)\n",
      "INFO:tensorflow:global_step/sec: 118.897\n",
      "INFO:tensorflow:loss = 5.4901056, step = 3401 (0.841 sec)\n",
      "INFO:tensorflow:global_step/sec: 120.713\n",
      "INFO:tensorflow:loss = 9.391016, step = 3501 (0.828 sec)\n",
      "INFO:tensorflow:global_step/sec: 121.685\n",
      "INFO:tensorflow:loss = 8.073559, step = 3601 (0.822 sec)\n",
      "INFO:tensorflow:global_step/sec: 120.337\n",
      "INFO:tensorflow:loss = 5.6242213, step = 3701 (0.831 sec)\n",
      "INFO:tensorflow:global_step/sec: 120.668\n",
      "INFO:tensorflow:loss = 4.7130575, step = 3801 (0.829 sec)\n",
      "INFO:tensorflow:global_step/sec: 114.43\n",
      "INFO:tensorflow:loss = 7.347856, step = 3901 (0.874 sec)\n",
      "INFO:tensorflow:global_step/sec: 131.319\n",
      "INFO:tensorflow:loss = 2.398918, step = 4001 (0.762 sec)\n",
      "INFO:tensorflow:global_step/sec: 133.561\n",
      "INFO:tensorflow:loss = 10.211875, step = 4101 (0.749 sec)\n",
      "INFO:tensorflow:global_step/sec: 129.284\n",
      "INFO:tensorflow:loss = 3.5540848, step = 4201 (0.773 sec)\n",
      "INFO:tensorflow:global_step/sec: 127.693\n",
      "INFO:tensorflow:loss = 3.748931, step = 4301 (0.783 sec)\n",
      "INFO:tensorflow:global_step/sec: 125.746\n",
      "INFO:tensorflow:loss = 9.204987, step = 4401 (0.795 sec)\n",
      "INFO:tensorflow:global_step/sec: 129.421\n",
      "INFO:tensorflow:loss = 5.0955124, step = 4501 (0.773 sec)\n",
      "INFO:tensorflow:global_step/sec: 128.356\n",
      "INFO:tensorflow:loss = 13.617022, step = 4601 (0.779 sec)\n",
      "INFO:tensorflow:global_step/sec: 122.315\n",
      "INFO:tensorflow:loss = 2.7819126, step = 4701 (0.818 sec)\n",
      "INFO:tensorflow:global_step/sec: 112.323\n",
      "INFO:tensorflow:loss = 6.8018794, step = 4801 (0.892 sec)\n",
      "INFO:tensorflow:global_step/sec: 102.951\n",
      "INFO:tensorflow:loss = 15.701223, step = 4901 (0.970 sec)\n",
      "INFO:tensorflow:global_step/sec: 102.568\n",
      "INFO:tensorflow:loss = 5.8577805, step = 5001 (0.975 sec)\n",
      "INFO:tensorflow:global_step/sec: 113.123\n",
      "INFO:tensorflow:loss = 12.361659, step = 5101 (0.884 sec)\n",
      "INFO:tensorflow:global_step/sec: 111.743\n",
      "INFO:tensorflow:loss = 12.269314, step = 5201 (0.894 sec)\n",
      "INFO:tensorflow:global_step/sec: 108.29\n",
      "INFO:tensorflow:loss = 5.933948, step = 5301 (0.924 sec)\n",
      "INFO:tensorflow:global_step/sec: 109.989\n",
      "INFO:tensorflow:loss = 2.2228007, step = 5401 (0.909 sec)\n",
      "INFO:tensorflow:global_step/sec: 106.221\n",
      "INFO:tensorflow:loss = 2.7145715, step = 5501 (0.942 sec)\n",
      "INFO:tensorflow:global_step/sec: 107.114\n",
      "INFO:tensorflow:loss = 10.589223, step = 5601 (0.934 sec)\n",
      "INFO:tensorflow:global_step/sec: 104.61\n",
      "INFO:tensorflow:loss = 14.343206, step = 5701 (0.956 sec)\n",
      "INFO:tensorflow:global_step/sec: 108.971\n",
      "INFO:tensorflow:loss = 2.8311188, step = 5801 (0.917 sec)\n",
      "INFO:tensorflow:global_step/sec: 103.875\n",
      "INFO:tensorflow:loss = 18.791847, step = 5901 (0.963 sec)\n",
      "INFO:tensorflow:global_step/sec: 104.972\n",
      "INFO:tensorflow:loss = 3.5416393, step = 6001 (0.953 sec)\n",
      "INFO:tensorflow:global_step/sec: 107.435\n",
      "INFO:tensorflow:loss = 9.099171, step = 6101 (0.931 sec)\n",
      "INFO:tensorflow:global_step/sec: 113.609\n",
      "INFO:tensorflow:loss = 4.4195385, step = 6201 (0.880 sec)\n",
      "INFO:tensorflow:global_step/sec: 113.634\n",
      "INFO:tensorflow:loss = 8.216223, step = 6301 (0.879 sec)\n",
      "INFO:tensorflow:global_step/sec: 114.325\n",
      "INFO:tensorflow:loss = 2.7119288, step = 6401 (0.875 sec)\n",
      "INFO:tensorflow:global_step/sec: 111.269\n",
      "INFO:tensorflow:loss = 4.018106, step = 6501 (0.898 sec)\n",
      "INFO:tensorflow:global_step/sec: 112.827\n",
      "INFO:tensorflow:loss = 5.1191387, step = 6601 (0.886 sec)\n",
      "INFO:tensorflow:global_step/sec: 112.797\n",
      "INFO:tensorflow:loss = 4.370577, step = 6701 (0.887 sec)\n",
      "INFO:tensorflow:global_step/sec: 113.555\n",
      "INFO:tensorflow:loss = 4.2793503, step = 6801 (0.881 sec)\n",
      "INFO:tensorflow:global_step/sec: 110.802\n",
      "INFO:tensorflow:loss = 5.2288256, step = 6901 (0.903 sec)\n",
      "INFO:tensorflow:global_step/sec: 107.961\n",
      "INFO:tensorflow:loss = 1.5427878, step = 7001 (0.926 sec)\n",
      "INFO:tensorflow:global_step/sec: 110.963\n",
      "INFO:tensorflow:loss = 1.8539047, step = 7101 (0.903 sec)\n",
      "INFO:tensorflow:global_step/sec: 108.816\n",
      "INFO:tensorflow:loss = 2.3805223, step = 7201 (0.917 sec)\n",
      "INFO:tensorflow:global_step/sec: 105.731\n",
      "INFO:tensorflow:loss = 10.278703, step = 7301 (0.947 sec)\n",
      "INFO:tensorflow:global_step/sec: 109.858\n",
      "INFO:tensorflow:loss = 5.0951457, step = 7401 (0.909 sec)\n",
      "INFO:tensorflow:global_step/sec: 110.994\n",
      "INFO:tensorflow:loss = 5.8692093, step = 7501 (0.901 sec)\n",
      "INFO:tensorflow:global_step/sec: 110.771\n",
      "INFO:tensorflow:loss = 13.430491, step = 7601 (0.903 sec)\n",
      "INFO:tensorflow:global_step/sec: 109.551\n",
      "INFO:tensorflow:loss = 3.71525, step = 7701 (0.913 sec)\n",
      "INFO:tensorflow:global_step/sec: 106.398\n",
      "INFO:tensorflow:loss = 3.5991108, step = 7801 (0.942 sec)\n",
      "INFO:tensorflow:global_step/sec: 105.791\n",
      "INFO:tensorflow:loss = 4.9386187, step = 7901 (0.943 sec)\n",
      "INFO:tensorflow:global_step/sec: 109.047\n"
     ]
    },
    {
     "name": "stdout",
     "output_type": "stream",
     "text": [
      "INFO:tensorflow:loss = 4.919289, step = 8001 (0.917 sec)\n",
      "INFO:tensorflow:global_step/sec: 113.196\n",
      "INFO:tensorflow:loss = 5.060274, step = 8101 (0.883 sec)\n",
      "INFO:tensorflow:global_step/sec: 124.299\n",
      "INFO:tensorflow:loss = 9.5617695, step = 8201 (0.805 sec)\n",
      "INFO:tensorflow:global_step/sec: 125.004\n",
      "INFO:tensorflow:loss = 1.1260524, step = 8301 (0.800 sec)\n",
      "INFO:tensorflow:global_step/sec: 114.428\n",
      "INFO:tensorflow:loss = 16.37706, step = 8401 (0.874 sec)\n",
      "INFO:tensorflow:global_step/sec: 114.92\n",
      "INFO:tensorflow:loss = 4.0721745, step = 8501 (0.870 sec)\n",
      "INFO:tensorflow:global_step/sec: 87.2604\n",
      "INFO:tensorflow:loss = 11.464737, step = 8601 (1.146 sec)\n",
      "INFO:tensorflow:global_step/sec: 107.964\n",
      "INFO:tensorflow:loss = 4.182188, step = 8701 (0.926 sec)\n",
      "INFO:tensorflow:global_step/sec: 83.5835\n",
      "INFO:tensorflow:loss = 4.0741563, step = 8801 (1.197 sec)\n",
      "INFO:tensorflow:global_step/sec: 115.911\n",
      "INFO:tensorflow:loss = 15.040071, step = 8901 (0.863 sec)\n",
      "INFO:tensorflow:global_step/sec: 118.454\n",
      "INFO:tensorflow:loss = 7.1341953, step = 9001 (0.843 sec)\n",
      "INFO:tensorflow:global_step/sec: 143.157\n",
      "INFO:tensorflow:loss = 9.92429, step = 9101 (0.699 sec)\n",
      "INFO:tensorflow:global_step/sec: 144.324\n",
      "INFO:tensorflow:loss = 4.845229, step = 9201 (0.693 sec)\n",
      "INFO:tensorflow:global_step/sec: 146.506\n",
      "INFO:tensorflow:loss = 6.2393384, step = 9301 (0.683 sec)\n",
      "INFO:tensorflow:global_step/sec: 143.989\n",
      "INFO:tensorflow:loss = 6.6465874, step = 9401 (0.695 sec)\n",
      "INFO:tensorflow:global_step/sec: 146.639\n",
      "INFO:tensorflow:loss = 7.3898535, step = 9501 (0.682 sec)\n",
      "INFO:tensorflow:global_step/sec: 142.344\n",
      "INFO:tensorflow:loss = 16.54887, step = 9601 (0.702 sec)\n",
      "INFO:tensorflow:global_step/sec: 134.063\n",
      "INFO:tensorflow:loss = 10.57175, step = 9701 (0.746 sec)\n",
      "INFO:tensorflow:global_step/sec: 140.662\n",
      "INFO:tensorflow:loss = 14.241614, step = 9801 (0.711 sec)\n",
      "INFO:tensorflow:global_step/sec: 143.222\n",
      "INFO:tensorflow:loss = 1.9022038, step = 9901 (0.698 sec)\n",
      "INFO:tensorflow:Saving checkpoints for 10000 into /home/matz/Desktop/ml_ids/NN_model/model.ckpt.\n",
      "INFO:tensorflow:Loss for final step: 3.1772919.\n"
     ]
    },
    {
     "data": {
      "text/plain": [
       "<tensorflow.python.estimator.canned.dnn_linear_combined.DNNLinearCombinedClassifier at 0x7f70adeb19e8>"
      ]
     },
     "execution_count": 153,
     "metadata": {},
     "output_type": "execute_result"
    }
   ],
   "source": [
    "model.train(input_fn=get_input_fn(test, n_batch=256, shuffle=False), steps=10000)"
   ]
  },
  {
   "cell_type": "code",
   "execution_count": 154,
   "metadata": {},
   "outputs": [
    {
     "name": "stdout",
     "output_type": "stream",
     "text": [
      "INFO:tensorflow:Calling model_fn.\n",
      "WARNING:tensorflow:Trapezoidal rule is known to produce incorrect PR-AUCs; please switch to \"careful_interpolation\" instead.\n",
      "WARNING:tensorflow:Trapezoidal rule is known to produce incorrect PR-AUCs; please switch to \"careful_interpolation\" instead.\n",
      "INFO:tensorflow:Done calling model_fn.\n",
      "INFO:tensorflow:Starting evaluation at 2019-05-13-17:24:42\n",
      "INFO:tensorflow:Graph was finalized.\n",
      "INFO:tensorflow:Restoring parameters from /home/matz/Desktop/ml_ids/NN_model/model.ckpt-10000\n",
      "INFO:tensorflow:Running local_init_op.\n",
      "INFO:tensorflow:Done running local_init_op.\n",
      "INFO:tensorflow:Evaluation [1/1]\n",
      "INFO:tensorflow:Finished evaluation at 2019-05-13-17:24:45\n",
      "INFO:tensorflow:Saving dict for global step 10000: accuracy = 0.9937201, accuracy_baseline = 0.7026406, auc = 0.9991127, auc_precision_recall = 0.997975, average_loss = 0.02368972, global_step = 10000, label/mean = 0.2973594, loss = 773.3273, precision = 0.98430175, prediction/mean = 0.30420098, recall = 0.9947461\n",
      "INFO:tensorflow:Saving 'checkpoint_path' summary for global step 10000: /home/matz/Desktop/ml_ids/NN_model/model.ckpt-10000\n"
     ]
    }
   ],
   "source": [
    "eval_metrics = model.evaluate(input_fn=get_input_fn(validate, n_batch=validate.shape[0], shuffle=False), steps=1)"
   ]
  },
  {
   "cell_type": "code",
   "execution_count": 155,
   "metadata": {
    "scrolled": true
   },
   "outputs": [
    {
     "name": "stdout",
     "output_type": "stream",
     "text": [
      "accuracy: 0.9937201\n",
      "accuracy_baseline: 0.7026406\n",
      "auc: 0.9991127\n",
      "auc_precision_recall: 0.997975\n",
      "average_loss: 0.02368972\n",
      "global_step: 10000\n",
      "label/mean: 0.2973594\n",
      "loss: 773.3273\n",
      "precision: 0.98430175\n",
      "prediction/mean: 0.30420098\n",
      "recall: 0.9947461\n"
     ]
    }
   ],
   "source": [
    "for key,value in sorted(eval_metrics.items()):\n",
    "  print('%s: %s' % (key, value))"
   ]
  },
  {
   "cell_type": "code",
   "execution_count": 156,
   "metadata": {},
   "outputs": [
    {
     "name": "stdout",
     "output_type": "stream",
     "text": [
      "INFO:tensorflow:Calling model_fn.\n",
      "INFO:tensorflow:Done calling model_fn.\n",
      "INFO:tensorflow:Graph was finalized.\n",
      "INFO:tensorflow:Restoring parameters from /home/matz/Desktop/ml_ids/NN_model/model.ckpt-10000\n",
      "INFO:tensorflow:Running local_init_op.\n",
      "INFO:tensorflow:Done running local_init_op.\n"
     ]
    }
   ],
   "source": [
    "results = []\n",
    "results = list(model.predict(input_fn=get_input_fn(test, num_epochs=1, n_batch = X_test.shape[0], shuffle=False)))"
   ]
  },
  {
   "cell_type": "code",
   "execution_count": 157,
   "metadata": {},
   "outputs": [],
   "source": [
    "y_pred = []\n",
    "for el in results:\n",
    "    y_pred.append(el[\"class_ids\"])"
   ]
  },
  {
   "cell_type": "code",
   "execution_count": 158,
   "metadata": {},
   "outputs": [
    {
     "name": "stdout",
     "output_type": "stream",
     "text": [
      "NN Accuracy: 0.99176, F1-score: 0.99567, Precision: 0.99252, Recall: 0.99884, FPR: 0.13714\n",
      "TN: 1466; FP: 233; FN:   36; TP: 30910\n",
      "\n"
     ]
    }
   ],
   "source": [
    "name = \"NN\"\n",
    "\n",
    "Acc = {}\n",
    "F1S = {}\n",
    "Prec = {}\n",
    "Rec = {}\n",
    "FPR = {}\n",
    "\n",
    "Acc[name] = metrics.accuracy_score(y_test, y_pred)\n",
    "F1S[name] = metrics.f1_score(y_test, y_pred)\n",
    "Prec[name] = metrics.precision_score(y_test, y_pred)\n",
    "Rec[name] = metrics.recall_score(y_test, y_pred)\n",
    "tn, fp, fn, tp = metrics.confusion_matrix(y_test, y_pred).ravel()\n",
    "FPR[name] = fp/(fp+tn)\n",
    "\n",
    "print(\"{0:2} Accuracy: {1:.5f}, F1-score: {2:.5f}, Precision: {3:.5f}, Recall: {4:.5f}, FPR: {5:.5f}\".format(name, Acc[name], F1S[name], Prec[name], Rec[name], FPR[name]))\n",
    "print(\"TN: {0:3}; FP: {1:3}; FN: {2:4}; TP: {3:3}\\n\".format(tn, fp, fn, tp))"
   ]
  },
  {
   "cell_type": "code",
   "execution_count": null,
   "metadata": {},
   "outputs": [],
   "source": []
  },
  {
   "cell_type": "code",
   "execution_count": null,
   "metadata": {},
   "outputs": [],
   "source": []
  },
  {
   "cell_type": "code",
   "execution_count": null,
   "metadata": {},
   "outputs": [],
   "source": []
  },
  {
   "cell_type": "code",
   "execution_count": null,
   "metadata": {},
   "outputs": [],
   "source": []
  }
 ],
 "metadata": {
  "kernelspec": {
   "display_name": "Python 3",
   "language": "python",
   "name": "python3"
  },
  "language_info": {
   "codemirror_mode": {
    "name": "ipython",
    "version": 3
   },
   "file_extension": ".py",
   "mimetype": "text/x-python",
   "name": "python",
   "nbconvert_exporter": "python",
   "pygments_lexer": "ipython3",
   "version": "3.6.7"
  }
 },
 "nbformat": 4,
 "nbformat_minor": 2
}
