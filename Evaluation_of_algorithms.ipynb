{
 "cells": [
  {
   "cell_type": "code",
   "execution_count": 2,
   "metadata": {},
   "outputs": [],
   "source": [
    "import pandas as pd\n",
    "import matplotlib.pyplot as plt\n",
    "import numpy as np\n",
    "\n",
    "%matplotlib inline \n",
    "%config IPCompleter.greedy=True"
   ]
  },
  {
   "cell_type": "markdown",
   "metadata": {},
   "source": [
    "## Reading data from file"
   ]
  },
  {
   "cell_type": "code",
   "execution_count": 3,
   "metadata": {},
   "outputs": [
    {
     "name": "stdout",
     "output_type": "stream",
     "text": [
      "Counter({-1: 149915, 1: 67713})\n"
     ]
    }
   ],
   "source": [
    "from collections import Counter\n",
    "\n",
    "### main dataset ###\n",
    "data = pd.read_csv(\"20151219.txt\", sep = \"\\t\", header = None)\n",
    "data.columns = [\"conn len\", \"service\", \"src bytes\", \"dst bytes\", \"conn numb\", \"Same srv rate\", \"Serror rate\", \"Srv serror rate\", \"Dst host count\", \"Dst host srv count\", \"Dst host same src port rate\", \"Dst host serror rate\", \"Dst host srv serror rate\", \"Conn state\", \"IDS detection\", \"Malware detection\", \"Ashula detection\", \"attack_flag\", \"src IP\", \"src port\", \"dst IP\", \"dst port\", \"start time\", \"proto\"]\n",
    "\n",
    "print(Counter(data[\"attack_flag\"]))"
   ]
  },
  {
   "cell_type": "markdown",
   "metadata": {},
   "source": [
    "## Transform to binary"
   ]
  },
  {
   "cell_type": "code",
   "execution_count": 4,
   "metadata": {},
   "outputs": [
    {
     "name": "stdout",
     "output_type": "stream",
     "text": [
      "Counter({1: 149915, 0: 67713})\n"
     ]
    }
   ],
   "source": [
    "data.loc[:, \"attack_flag\"] = data.loc[:,\"attack_flag\"].replace(-2, -1)\n",
    "data.loc[:, \"attack_flag\"] = data.loc[:, \"attack_flag\"] * -1\n",
    "data.loc[:, \"attack_flag\"] = data.loc[:,\"attack_flag\"].replace(-1, 0)\n",
    "\n",
    "print(Counter(data[\"attack_flag\"]))"
   ]
  },
  {
   "cell_type": "markdown",
   "metadata": {},
   "source": [
    "## Visualize the attacks structure over time "
   ]
  },
  {
   "cell_type": "code",
   "execution_count": 5,
   "metadata": {},
   "outputs": [
    {
     "data": {
      "text/plain": [
       "<matplotlib.axes._subplots.AxesSubplot at 0x7f13723abe80>"
      ]
     },
     "execution_count": 5,
     "metadata": {},
     "output_type": "execute_result"
    },
    {
     "data": {
      "image/png": "[encoded data removed]",
      "text/plain": [
       "<matplotlib.figure.Figure at 0x7f13ac472f98>"
      ]
     },
     "metadata": {
      "needs_background": "light"
     },
     "output_type": "display_data"
    }
   ],
   "source": [
    "data_red = data.groupby('start time')['attack_flag'].sum()\n",
    "data_red.plot()"
   ]
  },
  {
   "cell_type": "code",
   "execution_count": 6,
   "metadata": {},
   "outputs": [
    {
     "name": "stdout",
     "output_type": "stream",
     "text": [
      "(217628, 24)\n",
      "(217628, 21)\n"
     ]
    },
    {
     "data": {
      "text/plain": [
       "1    149915\n",
       "0     67713\n",
       "Name: attack_flag, dtype: int64"
      ]
     },
     "execution_count": 6,
     "metadata": {},
     "output_type": "execute_result"
    }
   ],
   "source": [
    "# slice dataset, drop additional features\n",
    "print(data.shape)\n",
    "data = data.drop(['start time', 'dst IP', 'src IP'], axis=1)\n",
    "print(data.shape)\n",
    "\n",
    "# drop software markers\n",
    "data = data.drop([\"IDS detection\", \"Malware detection\", \"Ashula detection\"], axis=1)\n",
    "data[\"attack_flag\"].value_counts()"
   ]
  },
  {
   "cell_type": "code",
   "execution_count": 7,
   "metadata": {},
   "outputs": [
    {
     "name": "stdout",
     "output_type": "stream",
     "text": [
      "<class 'pandas.core.frame.DataFrame'>\n",
      "RangeIndex: 217628 entries, 0 to 217627\n",
      "Data columns (total 18 columns):\n",
      "conn len                       217628 non-null float64\n",
      "service                        217628 non-null object\n",
      "src bytes                      217628 non-null int64\n",
      "dst bytes                      217628 non-null int64\n",
      "conn numb                      217628 non-null int64\n",
      "Same srv rate                  217628 non-null float64\n",
      "Serror rate                    217628 non-null float64\n",
      "Srv serror rate                217628 non-null float64\n",
      "Dst host count                 217628 non-null int64\n",
      "Dst host srv count             217628 non-null int64\n",
      "Dst host same src port rate    217628 non-null float64\n",
      "Dst host serror rate           217628 non-null float64\n",
      "Dst host srv serror rate       217628 non-null float64\n",
      "Conn state                     217628 non-null object\n",
      "attack_flag                    217628 non-null int64\n",
      "src port                       217628 non-null int64\n",
      "dst port                       217628 non-null int64\n",
      "proto                          217628 non-null object\n",
      "dtypes: float64(7), int64(8), object(3)\n",
      "memory usage: 29.9+ MB\n"
     ]
    }
   ],
   "source": [
    "data.info()"
   ]
  },
  {
   "cell_type": "code",
   "execution_count": 8,
   "metadata": {},
   "outputs": [
    {
     "data": {
      "text/html": [
       "<div>\n",
       "<style scoped>\n",
       "    .dataframe tbody tr th:only-of-type {\n",
       "        vertical-align: middle;\n",
       "    }\n",
       "\n",
       "    .dataframe tbody tr th {\n",
       "        vertical-align: top;\n",
       "    }\n",
       "\n",
       "    .dataframe thead th {\n",
       "        text-align: right;\n",
       "    }\n",
       "</style>\n",
       "<table border=\"1\" class=\"dataframe\">\n",
       "  <thead>\n",
       "    <tr style=\"text-align: right;\">\n",
       "      <th></th>\n",
       "      <th>conn len</th>\n",
       "      <th>service</th>\n",
       "      <th>src bytes</th>\n",
       "      <th>dst bytes</th>\n",
       "      <th>conn numb</th>\n",
       "      <th>Same srv rate</th>\n",
       "      <th>Serror rate</th>\n",
       "      <th>Srv serror rate</th>\n",
       "      <th>Dst host count</th>\n",
       "      <th>Dst host srv count</th>\n",
       "      <th>Dst host same src port rate</th>\n",
       "      <th>Dst host serror rate</th>\n",
       "      <th>Dst host srv serror rate</th>\n",
       "      <th>Conn state</th>\n",
       "      <th>attack_flag</th>\n",
       "      <th>src port</th>\n",
       "      <th>dst port</th>\n",
       "      <th>proto</th>\n",
       "    </tr>\n",
       "  </thead>\n",
       "  <tbody>\n",
       "    <tr>\n",
       "      <th>217618</th>\n",
       "      <td>0.410043</td>\n",
       "      <td>other</td>\n",
       "      <td>150</td>\n",
       "      <td>0</td>\n",
       "      <td>0</td>\n",
       "      <td>0.0</td>\n",
       "      <td>0.0</td>\n",
       "      <td>1.0</td>\n",
       "      <td>0</td>\n",
       "      <td>0</td>\n",
       "      <td>0.0</td>\n",
       "      <td>0.0</td>\n",
       "      <td>0.0</td>\n",
       "      <td>S0</td>\n",
       "      <td>1</td>\n",
       "      <td>6338</td>\n",
       "      <td>17989</td>\n",
       "      <td>udp</td>\n",
       "    </tr>\n",
       "    <tr>\n",
       "      <th>217619</th>\n",
       "      <td>0.000000</td>\n",
       "      <td>other</td>\n",
       "      <td>0</td>\n",
       "      <td>0</td>\n",
       "      <td>0</td>\n",
       "      <td>0.0</td>\n",
       "      <td>0.0</td>\n",
       "      <td>1.0</td>\n",
       "      <td>0</td>\n",
       "      <td>0</td>\n",
       "      <td>0.0</td>\n",
       "      <td>0.0</td>\n",
       "      <td>0.0</td>\n",
       "      <td>OTH</td>\n",
       "      <td>1</td>\n",
       "      <td>11</td>\n",
       "      <td>0</td>\n",
       "      <td>icmp</td>\n",
       "    </tr>\n",
       "    <tr>\n",
       "      <th>217620</th>\n",
       "      <td>1.215994</td>\n",
       "      <td>other</td>\n",
       "      <td>60</td>\n",
       "      <td>0</td>\n",
       "      <td>0</td>\n",
       "      <td>0.0</td>\n",
       "      <td>0.0</td>\n",
       "      <td>0.0</td>\n",
       "      <td>0</td>\n",
       "      <td>0</td>\n",
       "      <td>0.0</td>\n",
       "      <td>0.0</td>\n",
       "      <td>0.0</td>\n",
       "      <td>S0</td>\n",
       "      <td>1</td>\n",
       "      <td>14015</td>\n",
       "      <td>17989</td>\n",
       "      <td>udp</td>\n",
       "    </tr>\n",
       "    <tr>\n",
       "      <th>217621</th>\n",
       "      <td>0.000000</td>\n",
       "      <td>dns</td>\n",
       "      <td>0</td>\n",
       "      <td>0</td>\n",
       "      <td>0</td>\n",
       "      <td>0.0</td>\n",
       "      <td>0.0</td>\n",
       "      <td>0.0</td>\n",
       "      <td>0</td>\n",
       "      <td>0</td>\n",
       "      <td>0.0</td>\n",
       "      <td>0.0</td>\n",
       "      <td>0.0</td>\n",
       "      <td>S0</td>\n",
       "      <td>1</td>\n",
       "      <td>44074</td>\n",
       "      <td>53</td>\n",
       "      <td>udp</td>\n",
       "    </tr>\n",
       "    <tr>\n",
       "      <th>217622</th>\n",
       "      <td>0.000000</td>\n",
       "      <td>other</td>\n",
       "      <td>0</td>\n",
       "      <td>0</td>\n",
       "      <td>0</td>\n",
       "      <td>0.0</td>\n",
       "      <td>0.0</td>\n",
       "      <td>1.0</td>\n",
       "      <td>0</td>\n",
       "      <td>0</td>\n",
       "      <td>0.0</td>\n",
       "      <td>0.0</td>\n",
       "      <td>0.0</td>\n",
       "      <td>S0</td>\n",
       "      <td>1</td>\n",
       "      <td>49263</td>\n",
       "      <td>25</td>\n",
       "      <td>tcp</td>\n",
       "    </tr>\n",
       "    <tr>\n",
       "      <th>217623</th>\n",
       "      <td>0.000000</td>\n",
       "      <td>other</td>\n",
       "      <td>0</td>\n",
       "      <td>0</td>\n",
       "      <td>1</td>\n",
       "      <td>1.0</td>\n",
       "      <td>1.0</td>\n",
       "      <td>1.0</td>\n",
       "      <td>0</td>\n",
       "      <td>1</td>\n",
       "      <td>0.0</td>\n",
       "      <td>0.0</td>\n",
       "      <td>1.0</td>\n",
       "      <td>S0</td>\n",
       "      <td>1</td>\n",
       "      <td>58398</td>\n",
       "      <td>25</td>\n",
       "      <td>tcp</td>\n",
       "    </tr>\n",
       "    <tr>\n",
       "      <th>217624</th>\n",
       "      <td>0.000000</td>\n",
       "      <td>other</td>\n",
       "      <td>0</td>\n",
       "      <td>0</td>\n",
       "      <td>0</td>\n",
       "      <td>0.0</td>\n",
       "      <td>0.0</td>\n",
       "      <td>1.0</td>\n",
       "      <td>2</td>\n",
       "      <td>2</td>\n",
       "      <td>1.0</td>\n",
       "      <td>1.0</td>\n",
       "      <td>1.0</td>\n",
       "      <td>S0</td>\n",
       "      <td>1</td>\n",
       "      <td>55373</td>\n",
       "      <td>23</td>\n",
       "      <td>tcp</td>\n",
       "    </tr>\n",
       "    <tr>\n",
       "      <th>217625</th>\n",
       "      <td>0.000000</td>\n",
       "      <td>other</td>\n",
       "      <td>0</td>\n",
       "      <td>0</td>\n",
       "      <td>0</td>\n",
       "      <td>0.0</td>\n",
       "      <td>0.0</td>\n",
       "      <td>1.0</td>\n",
       "      <td>0</td>\n",
       "      <td>0</td>\n",
       "      <td>0.0</td>\n",
       "      <td>0.0</td>\n",
       "      <td>0.0</td>\n",
       "      <td>S0</td>\n",
       "      <td>1</td>\n",
       "      <td>33244</td>\n",
       "      <td>25</td>\n",
       "      <td>tcp</td>\n",
       "    </tr>\n",
       "    <tr>\n",
       "      <th>217626</th>\n",
       "      <td>0.000000</td>\n",
       "      <td>other</td>\n",
       "      <td>0</td>\n",
       "      <td>0</td>\n",
       "      <td>1</td>\n",
       "      <td>1.0</td>\n",
       "      <td>1.0</td>\n",
       "      <td>1.0</td>\n",
       "      <td>0</td>\n",
       "      <td>1</td>\n",
       "      <td>0.0</td>\n",
       "      <td>0.0</td>\n",
       "      <td>1.0</td>\n",
       "      <td>S0</td>\n",
       "      <td>1</td>\n",
       "      <td>47476</td>\n",
       "      <td>25</td>\n",
       "      <td>tcp</td>\n",
       "    </tr>\n",
       "    <tr>\n",
       "      <th>217627</th>\n",
       "      <td>0.000000</td>\n",
       "      <td>other</td>\n",
       "      <td>0</td>\n",
       "      <td>0</td>\n",
       "      <td>0</td>\n",
       "      <td>0.0</td>\n",
       "      <td>0.0</td>\n",
       "      <td>1.0</td>\n",
       "      <td>0</td>\n",
       "      <td>0</td>\n",
       "      <td>0.0</td>\n",
       "      <td>0.0</td>\n",
       "      <td>0.0</td>\n",
       "      <td>S0</td>\n",
       "      <td>1</td>\n",
       "      <td>10106</td>\n",
       "      <td>17989</td>\n",
       "      <td>udp</td>\n",
       "    </tr>\n",
       "  </tbody>\n",
       "</table>\n",
       "</div>"
      ],
      "text/plain": [
       "        conn len service  src bytes  dst bytes  conn numb  Same srv rate  \\\n",
       "217618  0.410043   other        150          0          0            0.0   \n",
       "217619  0.000000   other          0          0          0            0.0   \n",
       "217620  1.215994   other         60          0          0            0.0   \n",
       "217621  0.000000     dns          0          0          0            0.0   \n",
       "217622  0.000000   other          0          0          0            0.0   \n",
       "217623  0.000000   other          0          0          1            1.0   \n",
       "217624  0.000000   other          0          0          0            0.0   \n",
       "217625  0.000000   other          0          0          0            0.0   \n",
       "217626  0.000000   other          0          0          1            1.0   \n",
       "217627  0.000000   other          0          0          0            0.0   \n",
       "\n",
       "        Serror rate  Srv serror rate  Dst host count  Dst host srv count  \\\n",
       "217618          0.0              1.0               0                   0   \n",
       "217619          0.0              1.0               0                   0   \n",
       "217620          0.0              0.0               0                   0   \n",
       "217621          0.0              0.0               0                   0   \n",
       "217622          0.0              1.0               0                   0   \n",
       "217623          1.0              1.0               0                   1   \n",
       "217624          0.0              1.0               2                   2   \n",
       "217625          0.0              1.0               0                   0   \n",
       "217626          1.0              1.0               0                   1   \n",
       "217627          0.0              1.0               0                   0   \n",
       "\n",
       "        Dst host same src port rate  Dst host serror rate  \\\n",
       "217618                          0.0                   0.0   \n",
       "217619                          0.0                   0.0   \n",
       "217620                          0.0                   0.0   \n",
       "217621                          0.0                   0.0   \n",
       "217622                          0.0                   0.0   \n",
       "217623                          0.0                   0.0   \n",
       "217624                          1.0                   1.0   \n",
       "217625                          0.0                   0.0   \n",
       "217626                          0.0                   0.0   \n",
       "217627                          0.0                   0.0   \n",
       "\n",
       "        Dst host srv serror rate Conn state  attack_flag  src port  dst port  \\\n",
       "217618                       0.0         S0            1      6338     17989   \n",
       "217619                       0.0        OTH            1        11         0   \n",
       "217620                       0.0         S0            1     14015     17989   \n",
       "217621                       0.0         S0            1     44074        53   \n",
       "217622                       0.0         S0            1     49263        25   \n",
       "217623                       1.0         S0            1     58398        25   \n",
       "217624                       1.0         S0            1     55373        23   \n",
       "217625                       0.0         S0            1     33244        25   \n",
       "217626                       1.0         S0            1     47476        25   \n",
       "217627                       0.0         S0            1     10106     17989   \n",
       "\n",
       "       proto  \n",
       "217618   udp  \n",
       "217619  icmp  \n",
       "217620   udp  \n",
       "217621   udp  \n",
       "217622   tcp  \n",
       "217623   tcp  \n",
       "217624   tcp  \n",
       "217625   tcp  \n",
       "217626   tcp  \n",
       "217627   udp  "
      ]
     },
     "execution_count": 8,
     "metadata": {},
     "output_type": "execute_result"
    }
   ],
   "source": [
    "data.tail(10)"
   ]
  },
  {
   "cell_type": "code",
   "execution_count": 9,
   "metadata": {},
   "outputs": [
    {
     "data": {
      "text/html": [
       "<div>\n",
       "<style scoped>\n",
       "    .dataframe tbody tr th:only-of-type {\n",
       "        vertical-align: middle;\n",
       "    }\n",
       "\n",
       "    .dataframe tbody tr th {\n",
       "        vertical-align: top;\n",
       "    }\n",
       "\n",
       "    .dataframe thead th {\n",
       "        text-align: right;\n",
       "    }\n",
       "</style>\n",
       "<table border=\"1\" class=\"dataframe\">\n",
       "  <thead>\n",
       "    <tr style=\"text-align: right;\">\n",
       "      <th></th>\n",
       "      <th>conn len</th>\n",
       "      <th>src bytes</th>\n",
       "      <th>dst bytes</th>\n",
       "      <th>conn numb</th>\n",
       "      <th>Same srv rate</th>\n",
       "      <th>Serror rate</th>\n",
       "      <th>Srv serror rate</th>\n",
       "      <th>Dst host count</th>\n",
       "      <th>Dst host srv count</th>\n",
       "      <th>Dst host same src port rate</th>\n",
       "      <th>Dst host serror rate</th>\n",
       "      <th>Dst host srv serror rate</th>\n",
       "      <th>attack_flag</th>\n",
       "      <th>src port</th>\n",
       "      <th>dst port</th>\n",
       "    </tr>\n",
       "  </thead>\n",
       "  <tbody>\n",
       "    <tr>\n",
       "      <th>count</th>\n",
       "      <td>217628.000000</td>\n",
       "      <td>217628.000000</td>\n",
       "      <td>217628.000000</td>\n",
       "      <td>217628.000000</td>\n",
       "      <td>217628.000000</td>\n",
       "      <td>217628.000000</td>\n",
       "      <td>217628.000000</td>\n",
       "      <td>217628.000000</td>\n",
       "      <td>217628.000000</td>\n",
       "      <td>217628.000000</td>\n",
       "      <td>217628.000000</td>\n",
       "      <td>217628.000000</td>\n",
       "      <td>217628.000000</td>\n",
       "      <td>217628.000000</td>\n",
       "      <td>217628.000000</td>\n",
       "    </tr>\n",
       "    <tr>\n",
       "      <th>mean</th>\n",
       "      <td>0.855259</td>\n",
       "      <td>56.899333</td>\n",
       "      <td>122.064555</td>\n",
       "      <td>2.952263</td>\n",
       "      <td>0.417481</td>\n",
       "      <td>0.089564</td>\n",
       "      <td>0.542215</td>\n",
       "      <td>29.491720</td>\n",
       "      <td>31.876730</td>\n",
       "      <td>0.071694</td>\n",
       "      <td>0.066464</td>\n",
       "      <td>0.146028</td>\n",
       "      <td>0.688859</td>\n",
       "      <td>34292.130006</td>\n",
       "      <td>3550.084736</td>\n",
       "    </tr>\n",
       "    <tr>\n",
       "      <th>std</th>\n",
       "      <td>3.085410</td>\n",
       "      <td>519.846915</td>\n",
       "      <td>748.123612</td>\n",
       "      <td>5.519918</td>\n",
       "      <td>0.491905</td>\n",
       "      <td>0.284547</td>\n",
       "      <td>0.467622</td>\n",
       "      <td>44.351499</td>\n",
       "      <td>43.928101</td>\n",
       "      <td>0.256081</td>\n",
       "      <td>0.248495</td>\n",
       "      <td>0.350052</td>\n",
       "      <td>0.462961</td>\n",
       "      <td>19708.835701</td>\n",
       "      <td>10869.634486</td>\n",
       "    </tr>\n",
       "    <tr>\n",
       "      <th>min</th>\n",
       "      <td>0.000000</td>\n",
       "      <td>0.000000</td>\n",
       "      <td>0.000000</td>\n",
       "      <td>0.000000</td>\n",
       "      <td>0.000000</td>\n",
       "      <td>0.000000</td>\n",
       "      <td>0.000000</td>\n",
       "      <td>0.000000</td>\n",
       "      <td>0.000000</td>\n",
       "      <td>0.000000</td>\n",
       "      <td>0.000000</td>\n",
       "      <td>0.000000</td>\n",
       "      <td>0.000000</td>\n",
       "      <td>0.000000</td>\n",
       "      <td>0.000000</td>\n",
       "    </tr>\n",
       "    <tr>\n",
       "      <th>25%</th>\n",
       "      <td>0.000000</td>\n",
       "      <td>0.000000</td>\n",
       "      <td>0.000000</td>\n",
       "      <td>0.000000</td>\n",
       "      <td>0.000000</td>\n",
       "      <td>0.000000</td>\n",
       "      <td>0.000000</td>\n",
       "      <td>0.000000</td>\n",
       "      <td>0.000000</td>\n",
       "      <td>0.000000</td>\n",
       "      <td>0.000000</td>\n",
       "      <td>0.000000</td>\n",
       "      <td>0.000000</td>\n",
       "      <td>12375.000000</td>\n",
       "      <td>25.000000</td>\n",
       "    </tr>\n",
       "    <tr>\n",
       "      <th>50%</th>\n",
       "      <td>0.000290</td>\n",
       "      <td>0.000000</td>\n",
       "      <td>0.000000</td>\n",
       "      <td>0.000000</td>\n",
       "      <td>0.000000</td>\n",
       "      <td>0.000000</td>\n",
       "      <td>0.750000</td>\n",
       "      <td>0.000000</td>\n",
       "      <td>1.000000</td>\n",
       "      <td>0.000000</td>\n",
       "      <td>0.000000</td>\n",
       "      <td>0.000000</td>\n",
       "      <td>1.000000</td>\n",
       "      <td>39682.000000</td>\n",
       "      <td>53.000000</td>\n",
       "    </tr>\n",
       "    <tr>\n",
       "      <th>75%</th>\n",
       "      <td>0.013333</td>\n",
       "      <td>45.000000</td>\n",
       "      <td>61.000000</td>\n",
       "      <td>5.000000</td>\n",
       "      <td>1.000000</td>\n",
       "      <td>0.000000</td>\n",
       "      <td>1.000000</td>\n",
       "      <td>96.000000</td>\n",
       "      <td>96.000000</td>\n",
       "      <td>0.000000</td>\n",
       "      <td>0.000000</td>\n",
       "      <td>0.000000</td>\n",
       "      <td>1.000000</td>\n",
       "      <td>50473.000000</td>\n",
       "      <td>1433.000000</td>\n",
       "    </tr>\n",
       "    <tr>\n",
       "      <th>max</th>\n",
       "      <td>563.012764</td>\n",
       "      <td>88066.000000</td>\n",
       "      <td>157723.000000</td>\n",
       "      <td>84.000000</td>\n",
       "      <td>1.000000</td>\n",
       "      <td>1.000000</td>\n",
       "      <td>1.000000</td>\n",
       "      <td>100.000000</td>\n",
       "      <td>100.000000</td>\n",
       "      <td>1.000000</td>\n",
       "      <td>1.000000</td>\n",
       "      <td>1.000000</td>\n",
       "      <td>1.000000</td>\n",
       "      <td>65535.000000</td>\n",
       "      <td>65498.000000</td>\n",
       "    </tr>\n",
       "  </tbody>\n",
       "</table>\n",
       "</div>"
      ],
      "text/plain": [
       "            conn len      src bytes      dst bytes      conn numb  \\\n",
       "count  217628.000000  217628.000000  217628.000000  217628.000000   \n",
       "mean        0.855259      56.899333     122.064555       2.952263   \n",
       "std         3.085410     519.846915     748.123612       5.519918   \n",
       "min         0.000000       0.000000       0.000000       0.000000   \n",
       "25%         0.000000       0.000000       0.000000       0.000000   \n",
       "50%         0.000290       0.000000       0.000000       0.000000   \n",
       "75%         0.013333      45.000000      61.000000       5.000000   \n",
       "max       563.012764   88066.000000  157723.000000      84.000000   \n",
       "\n",
       "       Same srv rate    Serror rate  Srv serror rate  Dst host count  \\\n",
       "count  217628.000000  217628.000000    217628.000000   217628.000000   \n",
       "mean        0.417481       0.089564         0.542215       29.491720   \n",
       "std         0.491905       0.284547         0.467622       44.351499   \n",
       "min         0.000000       0.000000         0.000000        0.000000   \n",
       "25%         0.000000       0.000000         0.000000        0.000000   \n",
       "50%         0.000000       0.000000         0.750000        0.000000   \n",
       "75%         1.000000       0.000000         1.000000       96.000000   \n",
       "max         1.000000       1.000000         1.000000      100.000000   \n",
       "\n",
       "       Dst host srv count  Dst host same src port rate  Dst host serror rate  \\\n",
       "count       217628.000000                217628.000000         217628.000000   \n",
       "mean            31.876730                     0.071694              0.066464   \n",
       "std             43.928101                     0.256081              0.248495   \n",
       "min              0.000000                     0.000000              0.000000   \n",
       "25%              0.000000                     0.000000              0.000000   \n",
       "50%              1.000000                     0.000000              0.000000   \n",
       "75%             96.000000                     0.000000              0.000000   \n",
       "max            100.000000                     1.000000              1.000000   \n",
       "\n",
       "       Dst host srv serror rate    attack_flag       src port       dst port  \n",
       "count             217628.000000  217628.000000  217628.000000  217628.000000  \n",
       "mean                   0.146028       0.688859   34292.130006    3550.084736  \n",
       "std                    0.350052       0.462961   19708.835701   10869.634486  \n",
       "min                    0.000000       0.000000       0.000000       0.000000  \n",
       "25%                    0.000000       0.000000   12375.000000      25.000000  \n",
       "50%                    0.000000       1.000000   39682.000000      53.000000  \n",
       "75%                    0.000000       1.000000   50473.000000    1433.000000  \n",
       "max                    1.000000       1.000000   65535.000000   65498.000000  "
      ]
     },
     "execution_count": 9,
     "metadata": {},
     "output_type": "execute_result"
    }
   ],
   "source": [
    "data.describe()"
   ]
  },
  {
   "cell_type": "code",
   "execution_count": 10,
   "metadata": {},
   "outputs": [
    {
     "data": {
      "text/plain": [
       "(217628, 18)"
      ]
     },
     "execution_count": 10,
     "metadata": {},
     "output_type": "execute_result"
    }
   ],
   "source": [
    "# removing NaNs\n",
    "data = data.dropna()\n",
    "data.shape"
   ]
  },
  {
   "cell_type": "code",
   "execution_count": 11,
   "metadata": {},
   "outputs": [
    {
     "data": {
      "text/plain": [
       "S0        127464\n",
       "SF         59944\n",
       "RSTO       11476\n",
       "OTH         8640\n",
       "REJ         7998\n",
       "RSTRH        733\n",
       "RSTOS0       634\n",
       "SHR          381\n",
       "RSTR         304\n",
       "S1            52\n",
       "SH             2\n",
       "Name: Conn state, dtype: int64"
      ]
     },
     "execution_count": 11,
     "metadata": {},
     "output_type": "execute_result"
    }
   ],
   "source": [
    "data[\"Conn state\"].value_counts(dropna=False)"
   ]
  },
  {
   "cell_type": "code",
   "execution_count": 12,
   "metadata": {},
   "outputs": [
    {
     "data": {
      "text/plain": [
       "other    126080\n",
       "dns       61990\n",
       "sip       16519\n",
       "ssh       11518\n",
       "snmp        665\n",
       "smtp        495\n",
       "rdp         328\n",
       "dhcp         20\n",
       "http         11\n",
       "ssl           2\n",
       "Name: service, dtype: int64"
      ]
     },
     "execution_count": 12,
     "metadata": {},
     "output_type": "execute_result"
    }
   ],
   "source": [
    "data[\"service\"].value_counts(dropna=False)"
   ]
  },
  {
   "cell_type": "code",
   "execution_count": 13,
   "metadata": {},
   "outputs": [
    {
     "data": {
      "text/plain": [
       "tcp     119162\n",
       "udp      93548\n",
       "icmp      4918\n",
       "Name: proto, dtype: int64"
      ]
     },
     "execution_count": 13,
     "metadata": {},
     "output_type": "execute_result"
    }
   ],
   "source": [
    "data[\"proto\"].value_counts(dropna=False)"
   ]
  },
  {
   "cell_type": "markdown",
   "metadata": {},
   "source": [
    "# a bit of feature engineering"
   ]
  },
  {
   "cell_type": "markdown",
   "metadata": {},
   "source": [
    "## port numbers classification"
   ]
  },
  {
   "cell_type": "code",
   "execution_count": 14,
   "metadata": {},
   "outputs": [],
   "source": [
    "t1 = 1023  # well-known port numbers\n",
    "t2 = 49151 # registered ports\n",
    "t3 = 65535 # client ports\n",
    "\n",
    "def wk(data_row):\n",
    "    if (data_row[\"src port\"] <= t1): \n",
    "        value = 1\n",
    "    elif ((data_row[\"src port\"] > t1) and (data_row[\"src port\"] <= t2)):\n",
    "        value = 0\n",
    "    elif ((data_row[\"src port\"] > t2) and (data_row[\"src port\"] <= t3)):\n",
    "        value = 0\n",
    "    return value\n",
    "\n",
    "def reg(data_row):\n",
    "    if (data_row[\"src port\"] <= t1): \n",
    "        value = 0\n",
    "    elif ((data_row[\"src port\"] > t1) and (data_row[\"src port\"] <= t2)):\n",
    "        value = 1\n",
    "    elif ((data_row[\"src port\"] > t2) and (data_row[\"src port\"] <= t3)):\n",
    "        value = 0\n",
    "    return value\n",
    "\n",
    "def cli(data_row):\n",
    "    if (data_row[\"src port\"] <= t1): \n",
    "        value = 0\n",
    "    elif ((data_row[\"src port\"] > t1) and (data_row[\"src port\"] <= t2)):\n",
    "        value = 0\n",
    "    elif ((data_row[\"src port\"] > t2) and (data_row[\"src port\"] <= t3)):\n",
    "        value = 1\n",
    "    return value\n",
    "\n",
    "data[\"well-known src pool\"] = data.apply(wk, axis=1)\n",
    "data[\"registered src pool\"] = data.apply(reg, axis=1)\n",
    "data[\"cli src pool\"] = data.apply(cli, axis=1)"
   ]
  },
  {
   "cell_type": "code",
   "execution_count": 15,
   "metadata": {},
   "outputs": [
    {
     "name": "stdout",
     "output_type": "stream",
     "text": [
      "Counter({0: 211216, 1: 6412})\n",
      "Counter({1: 150534, 0: 67094})\n",
      "Counter({0: 156946, 1: 60682})\n"
     ]
    }
   ],
   "source": [
    "print(Counter(data[\"well-known src pool\"]))\n",
    "print(Counter(data[\"registered src pool\"]))\n",
    "print(Counter(data[\"cli src pool\"]))"
   ]
  },
  {
   "cell_type": "code",
   "execution_count": 16,
   "metadata": {},
   "outputs": [],
   "source": [
    "# def wk(data_row):\n",
    "#     if (data_row[\"dst port\"] <= t1): \n",
    "#         value = 1\n",
    "#     elif ((data_row[\"dst port\"] > t1) and (data_row[\"dst port\"] <= t2)):\n",
    "#         value = 0\n",
    "#     elif ((data_row[\"dst port\"] > t2) and (data_row[\"dst port\"] <= t3)):\n",
    "#         value = 0\n",
    "#     return value\n",
    "\n",
    "# def reg(data_row):\n",
    "#     if (data_row[\"dst port\"] <= t1): \n",
    "#         value = 0\n",
    "#     elif ((data_row[\"dst port\"] > t1) and (data_row[\"dst port\"] <= t2)):\n",
    "#         value = 1\n",
    "#     elif ((data_row[\"dst port\"] > t2) and (data_row[\"dst port\"] <= t3)):\n",
    "#         value = 0\n",
    "#     return value\n",
    "\n",
    "# def cli(data_row):\n",
    "#     if (data_row[\"dst port\"] <= t1): \n",
    "#         value = 0\n",
    "#     elif ((data_row[\"dst port\"] > t1) and (data_row[\"dst port\"] <= t2)):\n",
    "#         value = 0\n",
    "#     elif ((data_row[\"dst port\"] > t2) and (data_row[\"dst port\"] <= t3)):\n",
    "#         value = 1\n",
    "#     return value\n",
    "\n",
    "# data[\"well-known dst pool\"] = data.apply(wk, axis=1)\n",
    "# data[\"registered dst pool\"] = data.apply(reg, axis=1)\n",
    "# data[\"cli dst pool\"] = data.apply(cli, axis=1)"
   ]
  },
  {
   "cell_type": "code",
   "execution_count": 17,
   "metadata": {},
   "outputs": [],
   "source": [
    "# print(Counter(data[\"well-known dst pool\"]))\n",
    "# print(Counter(data[\"registered dst pool\"]))\n",
    "# print(Counter(data[\"cli dst pool\"]))"
   ]
  },
  {
   "cell_type": "code",
   "execution_count": 18,
   "metadata": {
    "scrolled": true
   },
   "outputs": [
    {
     "name": "stdout",
     "output_type": "stream",
     "text": [
      "<class 'pandas.core.frame.DataFrame'>\n",
      "Int64Index: 217628 entries, 0 to 217627\n",
      "Data columns (total 21 columns):\n",
      "conn len                       217628 non-null float64\n",
      "service                        217628 non-null object\n",
      "src bytes                      217628 non-null int64\n",
      "dst bytes                      217628 non-null int64\n",
      "conn numb                      217628 non-null int64\n",
      "Same srv rate                  217628 non-null float64\n",
      "Serror rate                    217628 non-null float64\n",
      "Srv serror rate                217628 non-null float64\n",
      "Dst host count                 217628 non-null int64\n",
      "Dst host srv count             217628 non-null int64\n",
      "Dst host same src port rate    217628 non-null float64\n",
      "Dst host serror rate           217628 non-null float64\n",
      "Dst host srv serror rate       217628 non-null float64\n",
      "Conn state                     217628 non-null object\n",
      "attack_flag                    217628 non-null int64\n",
      "src port                       217628 non-null int64\n",
      "dst port                       217628 non-null int64\n",
      "proto                          217628 non-null object\n",
      "well-known src pool            217628 non-null int64\n",
      "registered src pool            217628 non-null int64\n",
      "cli src pool                   217628 non-null int64\n",
      "dtypes: float64(7), int64(11), object(3)\n",
      "memory usage: 36.5+ MB\n"
     ]
    }
   ],
   "source": [
    "data.info()"
   ]
  },
  {
   "cell_type": "code",
   "execution_count": 19,
   "metadata": {},
   "outputs": [
    {
     "data": {
      "text/html": [
       "<div>\n",
       "<style scoped>\n",
       "    .dataframe tbody tr th:only-of-type {\n",
       "        vertical-align: middle;\n",
       "    }\n",
       "\n",
       "    .dataframe tbody tr th {\n",
       "        vertical-align: top;\n",
       "    }\n",
       "\n",
       "    .dataframe thead th {\n",
       "        text-align: right;\n",
       "    }\n",
       "</style>\n",
       "<table border=\"1\" class=\"dataframe\">\n",
       "  <thead>\n",
       "    <tr style=\"text-align: right;\">\n",
       "      <th></th>\n",
       "      <th>src port</th>\n",
       "      <th>dst port</th>\n",
       "      <th>well-known src pool</th>\n",
       "      <th>registered src pool</th>\n",
       "      <th>cli src pool</th>\n",
       "    </tr>\n",
       "  </thead>\n",
       "  <tbody>\n",
       "    <tr>\n",
       "      <th>0</th>\n",
       "      <td>40061</td>\n",
       "      <td>111</td>\n",
       "      <td>0</td>\n",
       "      <td>1</td>\n",
       "      <td>0</td>\n",
       "    </tr>\n",
       "    <tr>\n",
       "      <th>1</th>\n",
       "      <td>53488</td>\n",
       "      <td>80</td>\n",
       "      <td>0</td>\n",
       "      <td>0</td>\n",
       "      <td>1</td>\n",
       "    </tr>\n",
       "    <tr>\n",
       "      <th>2</th>\n",
       "      <td>35051</td>\n",
       "      <td>23</td>\n",
       "      <td>0</td>\n",
       "      <td>1</td>\n",
       "      <td>0</td>\n",
       "    </tr>\n",
       "    <tr>\n",
       "      <th>3</th>\n",
       "      <td>1408</td>\n",
       "      <td>445</td>\n",
       "      <td>0</td>\n",
       "      <td>1</td>\n",
       "      <td>0</td>\n",
       "    </tr>\n",
       "    <tr>\n",
       "      <th>4</th>\n",
       "      <td>55244</td>\n",
       "      <td>995</td>\n",
       "      <td>0</td>\n",
       "      <td>0</td>\n",
       "      <td>1</td>\n",
       "    </tr>\n",
       "    <tr>\n",
       "      <th>5</th>\n",
       "      <td>44544</td>\n",
       "      <td>995</td>\n",
       "      <td>0</td>\n",
       "      <td>1</td>\n",
       "      <td>0</td>\n",
       "    </tr>\n",
       "    <tr>\n",
       "      <th>6</th>\n",
       "      <td>50678</td>\n",
       "      <td>5900</td>\n",
       "      <td>0</td>\n",
       "      <td>0</td>\n",
       "      <td>1</td>\n",
       "    </tr>\n",
       "    <tr>\n",
       "      <th>7</th>\n",
       "      <td>35051</td>\n",
       "      <td>23</td>\n",
       "      <td>0</td>\n",
       "      <td>1</td>\n",
       "      <td>0</td>\n",
       "    </tr>\n",
       "    <tr>\n",
       "      <th>8</th>\n",
       "      <td>50678</td>\n",
       "      <td>5900</td>\n",
       "      <td>0</td>\n",
       "      <td>0</td>\n",
       "      <td>1</td>\n",
       "    </tr>\n",
       "    <tr>\n",
       "      <th>9</th>\n",
       "      <td>50678</td>\n",
       "      <td>5900</td>\n",
       "      <td>0</td>\n",
       "      <td>0</td>\n",
       "      <td>1</td>\n",
       "    </tr>\n",
       "    <tr>\n",
       "      <th>10</th>\n",
       "      <td>59625</td>\n",
       "      <td>21</td>\n",
       "      <td>0</td>\n",
       "      <td>0</td>\n",
       "      <td>1</td>\n",
       "    </tr>\n",
       "    <tr>\n",
       "      <th>11</th>\n",
       "      <td>42626</td>\n",
       "      <td>111</td>\n",
       "      <td>0</td>\n",
       "      <td>1</td>\n",
       "      <td>0</td>\n",
       "    </tr>\n",
       "    <tr>\n",
       "      <th>12</th>\n",
       "      <td>2194</td>\n",
       "      <td>445</td>\n",
       "      <td>0</td>\n",
       "      <td>1</td>\n",
       "      <td>0</td>\n",
       "    </tr>\n",
       "    <tr>\n",
       "      <th>13</th>\n",
       "      <td>7432</td>\n",
       "      <td>22</td>\n",
       "      <td>0</td>\n",
       "      <td>1</td>\n",
       "      <td>0</td>\n",
       "    </tr>\n",
       "    <tr>\n",
       "      <th>14</th>\n",
       "      <td>7206</td>\n",
       "      <td>80</td>\n",
       "      <td>0</td>\n",
       "      <td>1</td>\n",
       "      <td>0</td>\n",
       "    </tr>\n",
       "    <tr>\n",
       "      <th>15</th>\n",
       "      <td>55133</td>\n",
       "      <td>53</td>\n",
       "      <td>0</td>\n",
       "      <td>0</td>\n",
       "      <td>1</td>\n",
       "    </tr>\n",
       "    <tr>\n",
       "      <th>16</th>\n",
       "      <td>60169</td>\n",
       "      <td>80</td>\n",
       "      <td>0</td>\n",
       "      <td>0</td>\n",
       "      <td>1</td>\n",
       "    </tr>\n",
       "    <tr>\n",
       "      <th>17</th>\n",
       "      <td>63030</td>\n",
       "      <td>2222</td>\n",
       "      <td>0</td>\n",
       "      <td>0</td>\n",
       "      <td>1</td>\n",
       "    </tr>\n",
       "    <tr>\n",
       "      <th>18</th>\n",
       "      <td>31905</td>\n",
       "      <td>445</td>\n",
       "      <td>0</td>\n",
       "      <td>1</td>\n",
       "      <td>0</td>\n",
       "    </tr>\n",
       "    <tr>\n",
       "      <th>19</th>\n",
       "      <td>59625</td>\n",
       "      <td>21</td>\n",
       "      <td>0</td>\n",
       "      <td>0</td>\n",
       "      <td>1</td>\n",
       "    </tr>\n",
       "    <tr>\n",
       "      <th>20</th>\n",
       "      <td>36939</td>\n",
       "      <td>111</td>\n",
       "      <td>0</td>\n",
       "      <td>1</td>\n",
       "      <td>0</td>\n",
       "    </tr>\n",
       "    <tr>\n",
       "      <th>21</th>\n",
       "      <td>7432</td>\n",
       "      <td>22</td>\n",
       "      <td>0</td>\n",
       "      <td>1</td>\n",
       "      <td>0</td>\n",
       "    </tr>\n",
       "    <tr>\n",
       "      <th>22</th>\n",
       "      <td>25385</td>\n",
       "      <td>445</td>\n",
       "      <td>0</td>\n",
       "      <td>1</td>\n",
       "      <td>0</td>\n",
       "    </tr>\n",
       "    <tr>\n",
       "      <th>23</th>\n",
       "      <td>36877</td>\n",
       "      <td>2332</td>\n",
       "      <td>0</td>\n",
       "      <td>1</td>\n",
       "      <td>0</td>\n",
       "    </tr>\n",
       "    <tr>\n",
       "      <th>24</th>\n",
       "      <td>7206</td>\n",
       "      <td>80</td>\n",
       "      <td>0</td>\n",
       "      <td>1</td>\n",
       "      <td>0</td>\n",
       "    </tr>\n",
       "    <tr>\n",
       "      <th>25</th>\n",
       "      <td>56346</td>\n",
       "      <td>8888</td>\n",
       "      <td>0</td>\n",
       "      <td>0</td>\n",
       "      <td>1</td>\n",
       "    </tr>\n",
       "    <tr>\n",
       "      <th>26</th>\n",
       "      <td>37854</td>\n",
       "      <td>445</td>\n",
       "      <td>0</td>\n",
       "      <td>1</td>\n",
       "      <td>0</td>\n",
       "    </tr>\n",
       "    <tr>\n",
       "      <th>27</th>\n",
       "      <td>56248</td>\n",
       "      <td>445</td>\n",
       "      <td>0</td>\n",
       "      <td>0</td>\n",
       "      <td>1</td>\n",
       "    </tr>\n",
       "    <tr>\n",
       "      <th>28</th>\n",
       "      <td>38273</td>\n",
       "      <td>1080</td>\n",
       "      <td>0</td>\n",
       "      <td>1</td>\n",
       "      <td>0</td>\n",
       "    </tr>\n",
       "    <tr>\n",
       "      <th>29</th>\n",
       "      <td>3026</td>\n",
       "      <td>445</td>\n",
       "      <td>0</td>\n",
       "      <td>1</td>\n",
       "      <td>0</td>\n",
       "    </tr>\n",
       "  </tbody>\n",
       "</table>\n",
       "</div>"
      ],
      "text/plain": [
       "    src port  dst port  well-known src pool  registered src pool  cli src pool\n",
       "0      40061       111                    0                    1             0\n",
       "1      53488        80                    0                    0             1\n",
       "2      35051        23                    0                    1             0\n",
       "3       1408       445                    0                    1             0\n",
       "4      55244       995                    0                    0             1\n",
       "5      44544       995                    0                    1             0\n",
       "6      50678      5900                    0                    0             1\n",
       "7      35051        23                    0                    1             0\n",
       "8      50678      5900                    0                    0             1\n",
       "9      50678      5900                    0                    0             1\n",
       "10     59625        21                    0                    0             1\n",
       "11     42626       111                    0                    1             0\n",
       "12      2194       445                    0                    1             0\n",
       "13      7432        22                    0                    1             0\n",
       "14      7206        80                    0                    1             0\n",
       "15     55133        53                    0                    0             1\n",
       "16     60169        80                    0                    0             1\n",
       "17     63030      2222                    0                    0             1\n",
       "18     31905       445                    0                    1             0\n",
       "19     59625        21                    0                    0             1\n",
       "20     36939       111                    0                    1             0\n",
       "21      7432        22                    0                    1             0\n",
       "22     25385       445                    0                    1             0\n",
       "23     36877      2332                    0                    1             0\n",
       "24      7206        80                    0                    1             0\n",
       "25     56346      8888                    0                    0             1\n",
       "26     37854       445                    0                    1             0\n",
       "27     56248       445                    0                    0             1\n",
       "28     38273      1080                    0                    1             0\n",
       "29      3026       445                    0                    1             0"
      ]
     },
     "execution_count": 19,
     "metadata": {},
     "output_type": "execute_result"
    }
   ],
   "source": [
    "# data.loc[:, [\"src port\", \"dst port\", \"well-known src pool\", \"registered src pool\", \"cli src pool\", \"well-known dst pool\", \"registered dst pool\", \"cli dst pool\"]].head(30)\n",
    "data.loc[:, [\"src port\", \"dst port\", \"well-known src pool\", \"registered src pool\", \"cli src pool\"]].head(30)"
   ]
  },
  {
   "cell_type": "markdown",
   "metadata": {},
   "source": [
    "## Change port number info to categorical"
   ]
  },
  {
   "cell_type": "code",
   "execution_count": 20,
   "metadata": {},
   "outputs": [],
   "source": [
    "data[\"src port\"] = data[\"src port\"].apply(str)\n",
    "data[\"dst port\"] = data[\"dst port\"].apply(str)\n",
    "data['src port'].nunique()\n",
    "data['dst port'].nunique()\n",
    "\n",
    "thresh1 = 125\n",
    "thresh2 = 125\n",
    "counts1 = data['src port'].value_counts()\n",
    "counts2 = data['dst port'].value_counts()\n",
    "\n",
    "repl1 = counts1[counts1 <= thresh1].index\n",
    "repl2 = counts2[counts2 <= thresh2].index\n",
    "\n",
    "#hot one encoding for src port numbers\n",
    "data = pd.concat([data, pd.get_dummies(data[\"src port\"].replace(repl1, 'other_src'), prefix=\"is_src\")], axis=1)\n",
    "\n",
    "#hot one encoding for dst port numbers\n",
    "data = pd.concat([data, pd.get_dummies(data[\"dst port\"].replace(repl2, 'other_dst'), prefix=\"is_dst\")], axis=1)"
   ]
  },
  {
   "cell_type": "code",
   "execution_count": 21,
   "metadata": {},
   "outputs": [
    {
     "data": {
      "text/plain": [
       "(217628, 214)"
      ]
     },
     "execution_count": 21,
     "metadata": {},
     "output_type": "execute_result"
    }
   ],
   "source": [
    "data.shape"
   ]
  },
  {
   "cell_type": "markdown",
   "metadata": {},
   "source": [
    "## Hot one encoding"
   ]
  },
  {
   "cell_type": "code",
   "execution_count": 22,
   "metadata": {},
   "outputs": [
    {
     "data": {
      "text/html": [
       "<div>\n",
       "<style scoped>\n",
       "    .dataframe tbody tr th:only-of-type {\n",
       "        vertical-align: middle;\n",
       "    }\n",
       "\n",
       "    .dataframe tbody tr th {\n",
       "        vertical-align: top;\n",
       "    }\n",
       "\n",
       "    .dataframe thead th {\n",
       "        text-align: right;\n",
       "    }\n",
       "</style>\n",
       "<table border=\"1\" class=\"dataframe\">\n",
       "  <thead>\n",
       "    <tr style=\"text-align: right;\">\n",
       "      <th></th>\n",
       "      <th>conn len</th>\n",
       "      <th>service</th>\n",
       "      <th>src bytes</th>\n",
       "      <th>dst bytes</th>\n",
       "      <th>conn numb</th>\n",
       "      <th>Same srv rate</th>\n",
       "      <th>Serror rate</th>\n",
       "      <th>Srv serror rate</th>\n",
       "      <th>Dst host count</th>\n",
       "      <th>Dst host srv count</th>\n",
       "      <th>...</th>\n",
       "      <th>state_REJ</th>\n",
       "      <th>state_RSTO</th>\n",
       "      <th>state_RSTOS0</th>\n",
       "      <th>state_RSTR</th>\n",
       "      <th>state_RSTRH</th>\n",
       "      <th>state_S0</th>\n",
       "      <th>state_S1</th>\n",
       "      <th>state_SF</th>\n",
       "      <th>state_SH</th>\n",
       "      <th>state_SHR</th>\n",
       "    </tr>\n",
       "  </thead>\n",
       "  <tbody>\n",
       "    <tr>\n",
       "      <th>217618</th>\n",
       "      <td>0.410043</td>\n",
       "      <td>other</td>\n",
       "      <td>150</td>\n",
       "      <td>0</td>\n",
       "      <td>0</td>\n",
       "      <td>0.0</td>\n",
       "      <td>0.0</td>\n",
       "      <td>1.0</td>\n",
       "      <td>0</td>\n",
       "      <td>0</td>\n",
       "      <td>...</td>\n",
       "      <td>0</td>\n",
       "      <td>0</td>\n",
       "      <td>0</td>\n",
       "      <td>0</td>\n",
       "      <td>0</td>\n",
       "      <td>1</td>\n",
       "      <td>0</td>\n",
       "      <td>0</td>\n",
       "      <td>0</td>\n",
       "      <td>0</td>\n",
       "    </tr>\n",
       "    <tr>\n",
       "      <th>217619</th>\n",
       "      <td>0.000000</td>\n",
       "      <td>other</td>\n",
       "      <td>0</td>\n",
       "      <td>0</td>\n",
       "      <td>0</td>\n",
       "      <td>0.0</td>\n",
       "      <td>0.0</td>\n",
       "      <td>1.0</td>\n",
       "      <td>0</td>\n",
       "      <td>0</td>\n",
       "      <td>...</td>\n",
       "      <td>0</td>\n",
       "      <td>0</td>\n",
       "      <td>0</td>\n",
       "      <td>0</td>\n",
       "      <td>0</td>\n",
       "      <td>0</td>\n",
       "      <td>0</td>\n",
       "      <td>0</td>\n",
       "      <td>0</td>\n",
       "      <td>0</td>\n",
       "    </tr>\n",
       "    <tr>\n",
       "      <th>217620</th>\n",
       "      <td>1.215994</td>\n",
       "      <td>other</td>\n",
       "      <td>60</td>\n",
       "      <td>0</td>\n",
       "      <td>0</td>\n",
       "      <td>0.0</td>\n",
       "      <td>0.0</td>\n",
       "      <td>0.0</td>\n",
       "      <td>0</td>\n",
       "      <td>0</td>\n",
       "      <td>...</td>\n",
       "      <td>0</td>\n",
       "      <td>0</td>\n",
       "      <td>0</td>\n",
       "      <td>0</td>\n",
       "      <td>0</td>\n",
       "      <td>1</td>\n",
       "      <td>0</td>\n",
       "      <td>0</td>\n",
       "      <td>0</td>\n",
       "      <td>0</td>\n",
       "    </tr>\n",
       "    <tr>\n",
       "      <th>217621</th>\n",
       "      <td>0.000000</td>\n",
       "      <td>dns</td>\n",
       "      <td>0</td>\n",
       "      <td>0</td>\n",
       "      <td>0</td>\n",
       "      <td>0.0</td>\n",
       "      <td>0.0</td>\n",
       "      <td>0.0</td>\n",
       "      <td>0</td>\n",
       "      <td>0</td>\n",
       "      <td>...</td>\n",
       "      <td>0</td>\n",
       "      <td>0</td>\n",
       "      <td>0</td>\n",
       "      <td>0</td>\n",
       "      <td>0</td>\n",
       "      <td>1</td>\n",
       "      <td>0</td>\n",
       "      <td>0</td>\n",
       "      <td>0</td>\n",
       "      <td>0</td>\n",
       "    </tr>\n",
       "    <tr>\n",
       "      <th>217622</th>\n",
       "      <td>0.000000</td>\n",
       "      <td>other</td>\n",
       "      <td>0</td>\n",
       "      <td>0</td>\n",
       "      <td>0</td>\n",
       "      <td>0.0</td>\n",
       "      <td>0.0</td>\n",
       "      <td>1.0</td>\n",
       "      <td>0</td>\n",
       "      <td>0</td>\n",
       "      <td>...</td>\n",
       "      <td>0</td>\n",
       "      <td>0</td>\n",
       "      <td>0</td>\n",
       "      <td>0</td>\n",
       "      <td>0</td>\n",
       "      <td>1</td>\n",
       "      <td>0</td>\n",
       "      <td>0</td>\n",
       "      <td>0</td>\n",
       "      <td>0</td>\n",
       "    </tr>\n",
       "    <tr>\n",
       "      <th>217623</th>\n",
       "      <td>0.000000</td>\n",
       "      <td>other</td>\n",
       "      <td>0</td>\n",
       "      <td>0</td>\n",
       "      <td>1</td>\n",
       "      <td>1.0</td>\n",
       "      <td>1.0</td>\n",
       "      <td>1.0</td>\n",
       "      <td>0</td>\n",
       "      <td>1</td>\n",
       "      <td>...</td>\n",
       "      <td>0</td>\n",
       "      <td>0</td>\n",
       "      <td>0</td>\n",
       "      <td>0</td>\n",
       "      <td>0</td>\n",
       "      <td>1</td>\n",
       "      <td>0</td>\n",
       "      <td>0</td>\n",
       "      <td>0</td>\n",
       "      <td>0</td>\n",
       "    </tr>\n",
       "    <tr>\n",
       "      <th>217624</th>\n",
       "      <td>0.000000</td>\n",
       "      <td>other</td>\n",
       "      <td>0</td>\n",
       "      <td>0</td>\n",
       "      <td>0</td>\n",
       "      <td>0.0</td>\n",
       "      <td>0.0</td>\n",
       "      <td>1.0</td>\n",
       "      <td>2</td>\n",
       "      <td>2</td>\n",
       "      <td>...</td>\n",
       "      <td>0</td>\n",
       "      <td>0</td>\n",
       "      <td>0</td>\n",
       "      <td>0</td>\n",
       "      <td>0</td>\n",
       "      <td>1</td>\n",
       "      <td>0</td>\n",
       "      <td>0</td>\n",
       "      <td>0</td>\n",
       "      <td>0</td>\n",
       "    </tr>\n",
       "    <tr>\n",
       "      <th>217625</th>\n",
       "      <td>0.000000</td>\n",
       "      <td>other</td>\n",
       "      <td>0</td>\n",
       "      <td>0</td>\n",
       "      <td>0</td>\n",
       "      <td>0.0</td>\n",
       "      <td>0.0</td>\n",
       "      <td>1.0</td>\n",
       "      <td>0</td>\n",
       "      <td>0</td>\n",
       "      <td>...</td>\n",
       "      <td>0</td>\n",
       "      <td>0</td>\n",
       "      <td>0</td>\n",
       "      <td>0</td>\n",
       "      <td>0</td>\n",
       "      <td>1</td>\n",
       "      <td>0</td>\n",
       "      <td>0</td>\n",
       "      <td>0</td>\n",
       "      <td>0</td>\n",
       "    </tr>\n",
       "    <tr>\n",
       "      <th>217626</th>\n",
       "      <td>0.000000</td>\n",
       "      <td>other</td>\n",
       "      <td>0</td>\n",
       "      <td>0</td>\n",
       "      <td>1</td>\n",
       "      <td>1.0</td>\n",
       "      <td>1.0</td>\n",
       "      <td>1.0</td>\n",
       "      <td>0</td>\n",
       "      <td>1</td>\n",
       "      <td>...</td>\n",
       "      <td>0</td>\n",
       "      <td>0</td>\n",
       "      <td>0</td>\n",
       "      <td>0</td>\n",
       "      <td>0</td>\n",
       "      <td>1</td>\n",
       "      <td>0</td>\n",
       "      <td>0</td>\n",
       "      <td>0</td>\n",
       "      <td>0</td>\n",
       "    </tr>\n",
       "    <tr>\n",
       "      <th>217627</th>\n",
       "      <td>0.000000</td>\n",
       "      <td>other</td>\n",
       "      <td>0</td>\n",
       "      <td>0</td>\n",
       "      <td>0</td>\n",
       "      <td>0.0</td>\n",
       "      <td>0.0</td>\n",
       "      <td>1.0</td>\n",
       "      <td>0</td>\n",
       "      <td>0</td>\n",
       "      <td>...</td>\n",
       "      <td>0</td>\n",
       "      <td>0</td>\n",
       "      <td>0</td>\n",
       "      <td>0</td>\n",
       "      <td>0</td>\n",
       "      <td>1</td>\n",
       "      <td>0</td>\n",
       "      <td>0</td>\n",
       "      <td>0</td>\n",
       "      <td>0</td>\n",
       "    </tr>\n",
       "  </tbody>\n",
       "</table>\n",
       "<p>10 rows × 238 columns</p>\n",
       "</div>"
      ],
      "text/plain": [
       "        conn len service  src bytes  dst bytes  conn numb  Same srv rate  \\\n",
       "217618  0.410043   other        150          0          0            0.0   \n",
       "217619  0.000000   other          0          0          0            0.0   \n",
       "217620  1.215994   other         60          0          0            0.0   \n",
       "217621  0.000000     dns          0          0          0            0.0   \n",
       "217622  0.000000   other          0          0          0            0.0   \n",
       "217623  0.000000   other          0          0          1            1.0   \n",
       "217624  0.000000   other          0          0          0            0.0   \n",
       "217625  0.000000   other          0          0          0            0.0   \n",
       "217626  0.000000   other          0          0          1            1.0   \n",
       "217627  0.000000   other          0          0          0            0.0   \n",
       "\n",
       "        Serror rate  Srv serror rate  Dst host count  Dst host srv count  \\\n",
       "217618          0.0              1.0               0                   0   \n",
       "217619          0.0              1.0               0                   0   \n",
       "217620          0.0              0.0               0                   0   \n",
       "217621          0.0              0.0               0                   0   \n",
       "217622          0.0              1.0               0                   0   \n",
       "217623          1.0              1.0               0                   1   \n",
       "217624          0.0              1.0               2                   2   \n",
       "217625          0.0              1.0               0                   0   \n",
       "217626          1.0              1.0               0                   1   \n",
       "217627          0.0              1.0               0                   0   \n",
       "\n",
       "          ...      state_REJ  state_RSTO  state_RSTOS0 state_RSTR  \\\n",
       "217618    ...              0           0             0          0   \n",
       "217619    ...              0           0             0          0   \n",
       "217620    ...              0           0             0          0   \n",
       "217621    ...              0           0             0          0   \n",
       "217622    ...              0           0             0          0   \n",
       "217623    ...              0           0             0          0   \n",
       "217624    ...              0           0             0          0   \n",
       "217625    ...              0           0             0          0   \n",
       "217626    ...              0           0             0          0   \n",
       "217627    ...              0           0             0          0   \n",
       "\n",
       "        state_RSTRH state_S0 state_S1 state_SF  state_SH  state_SHR  \n",
       "217618            0        1        0        0         0          0  \n",
       "217619            0        0        0        0         0          0  \n",
       "217620            0        1        0        0         0          0  \n",
       "217621            0        1        0        0         0          0  \n",
       "217622            0        1        0        0         0          0  \n",
       "217623            0        1        0        0         0          0  \n",
       "217624            0        1        0        0         0          0  \n",
       "217625            0        1        0        0         0          0  \n",
       "217626            0        1        0        0         0          0  \n",
       "217627            0        1        0        0         0          0  \n",
       "\n",
       "[10 rows x 238 columns]"
      ]
     },
     "execution_count": 22,
     "metadata": {},
     "output_type": "execute_result"
    }
   ],
   "source": [
    "### hot one encoding ###\n",
    "\n",
    "# hot one encoding for service\n",
    "data = pd.concat([data, pd.get_dummies(data[\"service\"], prefix=\"is\")], axis=1)\n",
    "data.tail(10)\n",
    "\n",
    "#hot one encoding for proto - commented due to reduced column number\n",
    "data = pd.concat([data, pd.get_dummies(data[\"proto\"], prefix=\"is\")], axis=1)\n",
    "data.tail(10)\n",
    "\n",
    "# hot one encoding for conn state\n",
    "data = pd.concat([data, pd.get_dummies(data[\"Conn state\"], prefix=\"state\")], axis=1)\n",
    "data.tail(10)"
   ]
  },
  {
   "cell_type": "code",
   "execution_count": 23,
   "metadata": {},
   "outputs": [
    {
     "name": "stdout",
     "output_type": "stream",
     "text": [
      "<class 'pandas.core.frame.DataFrame'>\n",
      "Int64Index: 217628 entries, 0 to 217627\n",
      "Columns: 238 entries, conn len to state_SHR\n",
      "dtypes: float64(7), int64(9), object(5), uint8(217)\n",
      "memory usage: 81.6+ MB\n"
     ]
    }
   ],
   "source": [
    "data.info()"
   ]
  },
  {
   "cell_type": "markdown",
   "metadata": {},
   "source": [
    "## Data visualization"
   ]
  },
  {
   "cell_type": "code",
   "execution_count": 24,
   "metadata": {},
   "outputs": [
    {
     "data": {
      "image/png": "[encoded data removed]",
      "text/plain": [
       "<matplotlib.figure.Figure at 0x7f13a4498e48>"
      ]
     },
     "metadata": {
      "needs_background": "light"
     },
     "output_type": "display_data"
    },
    {
     "data": {
      "image/png": "[encoded data removed]",
      "text/plain": [
       "<matplotlib.figure.Figure at 0x7f1372631278>"
      ]
     },
     "metadata": {
      "needs_background": "light"
     },
     "output_type": "display_data"
    },
    {
     "data": {
      "image/png": "[encoded data removed]",
      "text/plain": [
       "<matplotlib.figure.Figure at 0x7f137263b4e0>"
      ]
     },
     "metadata": {
      "needs_background": "light"
     },
     "output_type": "display_data"
    }
   ],
   "source": [
    "# hisotgrams\n",
    "\n",
    "#print(max(data['conn len']))\n",
    "data['conn len'].plot.hist(bins=500, xlim=[0,20], title=\"Connection length - histogram\")\n",
    "plt.show()\n",
    "\n",
    "#print(max(data['src bytes']))\n",
    "data['src bytes'].plot.hist(bins=500, xlim=[0,1500], title=\"Src bytes size - histogram\")\n",
    "plt.show()\n",
    "\n",
    "#print(max(data['dst bytes']))\n",
    "data['dst bytes'].plot.hist(bins=500, xlim=[0,2000], title=\"Dst bytes size - histogram\")\n",
    "plt.show()"
   ]
  },
  {
   "cell_type": "code",
   "execution_count": 25,
   "metadata": {},
   "outputs": [
    {
     "data": {
      "text/plain": [
       "Text(0.5,0.98,'')"
      ]
     },
     "execution_count": 25,
     "metadata": {},
     "output_type": "execute_result"
    },
    {
     "data": {
      "image/png": "[encoded data removed]",
      "text/plain": [
       "<matplotlib.figure.Figure at 0x7f13726262b0>"
      ]
     },
     "metadata": {
      "needs_background": "light"
     },
     "output_type": "display_data"
    },
    {
     "data": {
      "image/png": "[encoded data removed]",
      "text/plain": [
       "<matplotlib.figure.Figure at 0x7f136f1bcd68>"
      ]
     },
     "metadata": {
      "needs_background": "light"
     },
     "output_type": "display_data"
    },
    {
     "data": {
      "image/png": "[encoded data removed]",
      "text/plain": [
       "<matplotlib.figure.Figure at 0x7f136f0054e0>"
      ]
     },
     "metadata": {
      "needs_background": "light"
     },
     "output_type": "display_data"
    },
    {
     "data": {
      "image/png": "[encoded data removed]",
      "text/plain": [
       "<matplotlib.figure.Figure at 0x7f136ebee588>"
      ]
     },
     "metadata": {
      "needs_background": "light"
     },
     "output_type": "display_data"
    }
   ],
   "source": [
    "# boxplots\n",
    "data.boxplot(column='conn len', by='service')\n",
    "plt.title(\"Connection length - boxplot\")\n",
    "plt.suptitle(\"\")\n",
    "\n",
    "data.boxplot(column='src bytes', by='service')\n",
    "plt.title(\"Source bytes - boxplot\")\n",
    "plt.suptitle(\"\")\n",
    "\n",
    "data.boxplot(column='dst bytes', by='service')\n",
    "plt.title(\"Destination bytes - boxplot\")\n",
    "plt.suptitle(\"\")\n",
    "\n",
    "data.boxplot(column='conn numb', by='service')\n",
    "plt.title(\"Connections number - boxplot\")\n",
    "plt.suptitle(\"\")"
   ]
  },
  {
   "cell_type": "code",
   "execution_count": 26,
   "metadata": {},
   "outputs": [
    {
     "data": {
      "text/plain": [
       "<matplotlib.axes._subplots.AxesSubplot at 0x7f136f3b6358>"
      ]
     },
     "execution_count": 26,
     "metadata": {},
     "output_type": "execute_result"
    },
    {
     "data": {
      "image/png": "[encoded data removed]",
      "text/plain": [
       "<matplotlib.figure.Figure at 0x7f136f451ac8>"
      ]
     },
     "metadata": {
      "needs_background": "light"
     },
     "output_type": "display_data"
    },
    {
     "data": {
      "image/png": "[encoded data removed]",
      "text/plain": [
       "<matplotlib.figure.Figure at 0x7f136f3bf588>"
      ]
     },
     "metadata": {
      "needs_background": "light"
     },
     "output_type": "display_data"
    },
    {
     "data": {
      "image/png": "[encoded data removed]",
      "text/plain": [
       "<matplotlib.figure.Figure at 0x7f136f37bb00>"
      ]
     },
     "metadata": {
      "needs_background": "light"
     },
     "output_type": "display_data"
    }
   ],
   "source": [
    "# scatter plots\n",
    "data.plot.scatter(x='src bytes', y= 'dst bytes')\n",
    "data.plot.scatter(x='conn len', y= 'src bytes')\n",
    "data.plot.scatter(x='conn len', y= 'dst bytes')"
   ]
  },
  {
   "cell_type": "code",
   "execution_count": 27,
   "metadata": {},
   "outputs": [
    {
     "data": {
      "text/plain": [
       "(217628, 238)"
      ]
     },
     "execution_count": 27,
     "metadata": {},
     "output_type": "execute_result"
    }
   ],
   "source": [
    "data.shape"
   ]
  },
  {
   "cell_type": "markdown",
   "metadata": {},
   "source": [
    "## Plot function definition"
   ]
  },
  {
   "cell_type": "code",
   "execution_count": 28,
   "metadata": {},
   "outputs": [],
   "source": [
    "# plotting method definition\n",
    "\n",
    "def plot_stats(stat, name, width, rot):\n",
    "    fig, ax = plt.subplots(figsize=(width, 4))    \n",
    "    ax.bar(range(len(stat)), list(stat.values()), align='center')\n",
    "    plt.xticks(range(len(stat)), list(stat.keys()), rotation=rot)\n",
    "    for a,b in enumerate(stat.items()):\n",
    "        ax.text(a, b[1] + max(stat.values())/60 , str(round(b[1],5)), horizontalalignment ='center', verticalalignment='baseline')\n",
    "    ax.spines['right'].set_visible(False)\n",
    "    ax.spines['top'].set_visible(False)\n",
    "    plt.title(name + \" of tested algorithms\")\n",
    "    plt.show()"
   ]
  },
  {
   "cell_type": "markdown",
   "metadata": {},
   "source": [
    "## Dataset split"
   ]
  },
  {
   "cell_type": "code",
   "execution_count": 29,
   "metadata": {},
   "outputs": [],
   "source": [
    "data.rename(columns={'Dst host count': 'Dst_host_count', \"Dst host srv count\" : \"Dst_host_srv_count\",\n",
    "                    \"Dst host same src port rate\" : \"Dst_host_same_src_port_rate\",\n",
    "                    \"Dst host serror rate\" : \"Dst_host_serror_rate\",\n",
    "                    \"Dst host srv serror rate\" : \"Dst_host_srv_serror_rate\",\n",
    "                    \"Same srv rate\" : \"Same_srv_rate\",\n",
    "                    \"Srv serror rate\" : \"Srv_serror_rate\",\n",
    "                    \"conn len\" : \"conn_len\",\n",
    "                    \"src bytes\" : \"src_bytes\",\n",
    "                    \"dst bytes\" : \"dst_bytes\",\n",
    "                    \"conn numb\" : \"conn_numb\",\n",
    "                    \"Serror rate\" : \"Serror_rate\",\n",
    "                    \"cli src pool\" : \"cli_src_pool\",\n",
    "                    \"registered src pool\" : \"registered_src_pool\",\n",
    "                    \"well-known src pool\" : \"well_known_src_pool\"\n",
    "                    }, inplace=True)"
   ]
  },
  {
   "cell_type": "code",
   "execution_count": 30,
   "metadata": {},
   "outputs": [
    {
     "name": "stdout",
     "output_type": "stream",
     "text": [
      "Counter({0: 14952, 1: 7548})\n",
      "Counter({1: 14607, 0: 7893})\n",
      "Counter({1: 86179, 0: 18821})\n"
     ]
    }
   ],
   "source": [
    "sampled_data = data.loc[range(150000), :]\n",
    "train, validate, test = np.split(sampled_data, [int(.7*len(sampled_data)), int(.85*len(sampled_data))])\n",
    "\n",
    "train_ex = train\n",
    "validate_ex = validate\n",
    "test_ex = test\n",
    "\n",
    "train = train.drop([\"service\", \"Conn state\", \"proto\", \"src port\", \"dst port\"], axis=1)\n",
    "validate = validate.drop([\"service\", \"Conn state\", \"proto\", \"src port\", \"dst port\"], axis=1)\n",
    "test = test.drop([\"service\", \"Conn state\", \"proto\", \"src port\", \"dst port\"], axis=1)\n",
    "\n",
    "train = train.sample(frac=1)\n",
    "validate = validate.sample(frac=1)\n",
    "test = test.sample(frac=1)\n",
    "\n",
    "y_train_alg = train.loc[:, \"attack_flag\"].values.ravel()\n",
    "X_train_alg = train.drop([\"attack_flag\"], axis=1)\n",
    "y_validate_alg = validate.loc[:, \"attack_flag\"].values.ravel()\n",
    "X_validate_alg = validate.drop([\"attack_flag\"], axis=1)\n",
    "y_test_alg = test.loc[:, \"attack_flag\"].values.ravel()\n",
    "X_test_alg = test.drop([\"attack_flag\"], axis=1)\n",
    "\n",
    "print(Counter(y_test_alg))\n",
    "print(Counter(y_validate_alg))\n",
    "print(Counter(y_train_alg))"
   ]
  },
  {
   "cell_type": "code",
   "execution_count": 31,
   "metadata": {},
   "outputs": [
    {
     "name": "stdout",
     "output_type": "stream",
     "text": [
      "Counter({1: 30946, 0: 1699})\n",
      "Counter({0: 22937, 1: 9707})\n",
      "Counter({1: 109262, 0: 43077})\n"
     ]
    }
   ],
   "source": [
    "train, validate, test = np.split(data, [int(.7*len(data)), int(.85*len(data))])\n",
    "\n",
    "train_ex = train\n",
    "validate_ex = validate\n",
    "test_ex = test\n",
    "\n",
    "train = train.drop([\"service\", \"Conn state\", \"proto\", \"src port\", \"dst port\"], axis=1)\n",
    "validate = validate.drop([\"service\", \"Conn state\", \"proto\", \"src port\", \"dst port\"], axis=1)\n",
    "test = test.drop([\"service\", \"Conn state\", \"proto\", \"src port\", \"dst port\"], axis=1)\n",
    "\n",
    "train = train.sample(frac=1)\n",
    "validate = validate.sample(frac=1)\n",
    "test = test.sample(frac=1)\n",
    "\n",
    "y_train = train.loc[:, \"attack_flag\"].values.ravel()\n",
    "X_train = train.drop([\"attack_flag\"], axis=1)\n",
    "y_validate = validate.loc[:, \"attack_flag\"].values.ravel()\n",
    "X_validate = validate.drop([\"attack_flag\"], axis=1)\n",
    "y_test = test.loc[:, \"attack_flag\"].values.ravel()\n",
    "X_test = test.drop([\"attack_flag\"], axis=1)\n",
    "\n",
    "print(Counter(y_test))\n",
    "print(Counter(y_validate))\n",
    "print(Counter(y_train))"
   ]
  },
  {
   "cell_type": "markdown",
   "metadata": {},
   "source": [
    "## Logistic Regression"
   ]
  },
  {
   "cell_type": "code",
   "execution_count": 32,
   "metadata": {},
   "outputs": [
    {
     "data": {
      "text/plain": [
       "{'C': 1.0,\n",
       " 'class_weight': None,\n",
       " 'dual': False,\n",
       " 'fit_intercept': True,\n",
       " 'intercept_scaling': 1,\n",
       " 'max_iter': 100,\n",
       " 'multi_class': 'warn',\n",
       " 'n_jobs': None,\n",
       " 'penalty': 'l2',\n",
       " 'random_state': None,\n",
       " 'solver': 'warn',\n",
       " 'tol': 0.0001,\n",
       " 'verbose': 0,\n",
       " 'warm_start': False}"
      ]
     },
     "execution_count": 32,
     "metadata": {},
     "output_type": "execute_result"
    }
   ],
   "source": [
    "from sklearn.model_selection import GridSearchCV\n",
    "from sklearn.linear_model import LogisticRegression\n",
    "\n",
    "LogisticRegression().get_params()"
   ]
  },
  {
   "cell_type": "code",
   "execution_count": 33,
   "metadata": {},
   "outputs": [],
   "source": [
    "hyperparams = {'solver' : ['newton-cg', 'lbfgs', 'sag']}"
   ]
  },
  {
   "cell_type": "code",
   "execution_count": 34,
   "metadata": {},
   "outputs": [],
   "source": [
    "#sorted(metrics.SCORERS.keys())"
   ]
  },
  {
   "cell_type": "code",
   "execution_count": 35,
   "metadata": {},
   "outputs": [],
   "source": [
    "# clf = GridSearchCV(LogisticRegression(), hyperparams, cv=5, n_jobs=-1, scoring = \"f1\")\n",
    "# clf.fit(X_train, y_train)\n",
    "\n",
    "# print(clf.best_params_)\n",
    "\n",
    "# # {'solver': 'newton-cg'}"
   ]
  },
  {
   "cell_type": "code",
   "execution_count": 36,
   "metadata": {},
   "outputs": [
    {
     "name": "stdout",
     "output_type": "stream",
     "text": [
      "Algorithm: logistic Regression Accuracy: 0.99599, F1-score: 0.99329, Precision: 0.98748, Recall: 0.99918, FPR: 0.00536\n",
      "TN: 22814; FP: 123; FN:    8; TP: 9699\n",
      "\n"
     ]
    }
   ],
   "source": [
    "from sklearn.linear_model import LogisticRegression\n",
    "from sklearn import metrics\n",
    "\n",
    "clf = LogisticRegression(solver = 'newton-cg')\n",
    "\n",
    "model = clf.fit(X_train, y_train)\n",
    "\n",
    "y_pred = model.predict(X_validate)\n",
    "\n",
    "name = \"logistic Regression\"\n",
    "\n",
    "Acc = {}\n",
    "F1S = {}\n",
    "Prec = {}\n",
    "Rec = {}\n",
    "FPR = {}\n",
    "\n",
    "Acc[name] = metrics.accuracy_score(y_validate, y_pred)\n",
    "F1S[name] = metrics.f1_score(y_validate, y_pred)\n",
    "Prec[name] = metrics.precision_score(y_validate, y_pred)\n",
    "Rec[name] = metrics.recall_score(y_validate, y_pred)\n",
    "tn, fp, fn, tp = metrics.confusion_matrix(y_validate, y_pred).ravel()\n",
    "FPR[name] = fp/(fp+tn)\n",
    "\n",
    "print(\"Algorithm: {0:12} Accuracy: {1:.5f}, F1-score: {2:.5f}, Precision: {3:.5f}, Recall: {4:.5f}, FPR: {5:.5f}\".format(name, Acc[name], F1S[name], Prec[name], Rec[name], FPR[name]))\n",
    "print(\"TN: {0:3}; FP: {1:3}; FN: {2:4}; TP: {3:3}\\n\".format(tn, fp, fn, tp))"
   ]
  },
  {
   "cell_type": "markdown",
   "metadata": {},
   "source": [
    "# Decision Tree parameters selection"
   ]
  },
  {
   "cell_type": "markdown",
   "metadata": {},
   "source": [
    "## Checking tree depth impact"
   ]
  },
  {
   "cell_type": "code",
   "execution_count": 37,
   "metadata": {},
   "outputs": [
    {
     "data": {
      "text/plain": [
       "{'class_weight': None,\n",
       " 'criterion': 'gini',\n",
       " 'max_depth': None,\n",
       " 'max_features': None,\n",
       " 'max_leaf_nodes': None,\n",
       " 'min_impurity_decrease': 0.0,\n",
       " 'min_impurity_split': None,\n",
       " 'min_samples_leaf': 1,\n",
       " 'min_samples_split': 2,\n",
       " 'min_weight_fraction_leaf': 0.0,\n",
       " 'presort': False,\n",
       " 'random_state': 0,\n",
       " 'splitter': 'best'}"
      ]
     },
     "execution_count": 37,
     "metadata": {},
     "output_type": "execute_result"
    }
   ],
   "source": [
    "# using gridsearchcv to find the best parameters\n",
    "\n",
    "from sklearn.tree import DecisionTreeClassifier\n",
    "from sklearn.model_selection import GridSearchCV\n",
    "\n",
    "DecisionTreeClassifier(random_state=0).get_params()"
   ]
  },
  {
   "cell_type": "code",
   "execution_count": 38,
   "metadata": {},
   "outputs": [],
   "source": [
    "hyperparams = {'max_depth' : range(1,15)}"
   ]
  },
  {
   "cell_type": "code",
   "execution_count": 39,
   "metadata": {},
   "outputs": [
    {
     "name": "stdout",
     "output_type": "stream",
     "text": [
      "{'max_depth': 13}\n"
     ]
    }
   ],
   "source": [
    "clf = GridSearchCV(DecisionTreeClassifier(random_state=0), hyperparams, cv=5, n_jobs=-1, scoring = \"f1\")\n",
    "clf.fit(X_train_alg, y_train_alg)\n",
    "\n",
    "print(clf.best_params_)\n",
    "\n",
    "# max depth : 13"
   ]
  },
  {
   "cell_type": "code",
   "execution_count": 40,
   "metadata": {},
   "outputs": [
    {
     "name": "stdout",
     "output_type": "stream",
     "text": [
      "Algorithm: DecisionTree Accuracy: 0.99911, F1-score: 0.99932, Precision: 0.99952, Recall: 0.99911, FPR: 0.00089\n",
      "TN: 7886; FP:   7; FN:   13; TP: 14594\n",
      "\n",
      "Algorithm: DecisionTree_ent_11 Accuracy: 0.99911, F1-score: 0.99932, Precision: 0.99966, Recall: 0.99897, FPR: 0.00063\n",
      "TN: 7888; FP:   5; FN:   15; TP: 14592\n",
      "\n",
      "Algorithm: DecisionTree_11 Accuracy: 0.99902, F1-score: 0.99925, Precision: 0.99932, Recall: 0.99918, FPR: 0.00127\n",
      "TN: 7883; FP:  10; FN:   12; TP: 14595\n",
      "\n"
     ]
    }
   ],
   "source": [
    "classifiers = {\n",
    "               \"DecisionTree\":DecisionTreeClassifier(random_state=0),\n",
    "               \"DecisionTree_ent_11\":DecisionTreeClassifier(random_state=0, criterion = \"entropy\", max_depth = 11),\n",
    "               \"DecisionTree_11\":DecisionTreeClassifier(random_state=0, max_depth = 11),\n",
    "}\n",
    "\n",
    "Acc = {}\n",
    "F1S = {}\n",
    "Prec = {}\n",
    "Rec = {}\n",
    "FPR = {}\n",
    "\n",
    "for name, clf in classifiers.items():\n",
    "    \n",
    "    model = clf.fit(X_train_alg, y_train_alg)\n",
    "    \n",
    "    y_pred = model.predict(X_validate_alg)\n",
    "    \n",
    "    Acc[name] = metrics.accuracy_score(y_validate_alg, y_pred)\n",
    "    F1S[name] = metrics.f1_score(y_validate_alg, y_pred)\n",
    "    Prec[name] = metrics.precision_score(y_validate_alg, y_pred)\n",
    "    Rec[name] = metrics.recall_score(y_validate_alg, y_pred)\n",
    "    tn, fp, fn, tp = metrics.confusion_matrix(y_validate_alg, y_pred).ravel()\n",
    "    FPR[name] = fp/(fp+tn)\n",
    "    \n",
    "    print(\"Algorithm: {0:12} Accuracy: {1:.5f}, F1-score: {2:.5f}, Precision: {3:.5f}, Recall: {4:.5f}, FPR: {5:.5f}\".format(name, Acc[name], F1S[name], Prec[name], Rec[name], FPR[name]))\n",
    "    print(\"TN: {0:3}; FP: {1:3}; FN: {2:4}; TP: {3:3}\\n\".format(tn, fp, fn, tp))\n"
   ]
  },
  {
   "cell_type": "code",
   "execution_count": 41,
   "metadata": {},
   "outputs": [
    {
     "data": {
      "image/png": "[encoded data removed]",
      "text/plain": [
       "<matplotlib.figure.Figure at 0x7f136ead3780>"
      ]
     },
     "metadata": {
      "needs_background": "light"
     },
     "output_type": "display_data"
    },
    {
     "data": {
      "image/png": "[encoded data removed]",
      "text/plain": [
       "<matplotlib.figure.Figure at 0x7f136eb38518>"
      ]
     },
     "metadata": {
      "needs_background": "light"
     },
     "output_type": "display_data"
    },
    {
     "data": {
      "image/png": "[encoded data removed]",
      "text/plain": [
       "<matplotlib.figure.Figure at 0x7f136eae9a58>"
      ]
     },
     "metadata": {
      "needs_background": "light"
     },
     "output_type": "display_data"
    },
    {
     "data": {
      "image/png": "[encoded data removed]",
      "text/plain": [
       "<matplotlib.figure.Figure at 0x7f136eb776a0>"
      ]
     },
     "metadata": {
      "needs_background": "light"
     },
     "output_type": "display_data"
    },
    {
     "data": {
      "image/png": "[encoded data removed]",
      "text/plain": [
       "<matplotlib.figure.Figure at 0x7f136f0a2828>"
      ]
     },
     "metadata": {
      "needs_background": "light"
     },
     "output_type": "display_data"
    }
   ],
   "source": [
    "plot_stats(Acc, \"Accuracy\", 5, 35)\n",
    "plot_stats(F1S, \"F1-score\", 5, 35)\n",
    "plot_stats(Prec, \"Precision\", 5, 35)\n",
    "plot_stats(Rec, \"Recall\", 5, 35)\n",
    "plot_stats(FPR, \"False Positive Rate\", 5, 35)"
   ]
  },
  {
   "cell_type": "markdown",
   "metadata": {},
   "source": [
    "## AdaBoost parameters selection"
   ]
  },
  {
   "cell_type": "code",
   "execution_count": 42,
   "metadata": {},
   "outputs": [
    {
     "data": {
      "text/plain": [
       "{'algorithm': 'SAMME.R',\n",
       " 'base_estimator__class_weight': None,\n",
       " 'base_estimator__criterion': 'gini',\n",
       " 'base_estimator__max_depth': None,\n",
       " 'base_estimator__max_features': None,\n",
       " 'base_estimator__max_leaf_nodes': None,\n",
       " 'base_estimator__min_impurity_decrease': 0.0,\n",
       " 'base_estimator__min_impurity_split': None,\n",
       " 'base_estimator__min_samples_leaf': 1,\n",
       " 'base_estimator__min_samples_split': 2,\n",
       " 'base_estimator__min_weight_fraction_leaf': 0.0,\n",
       " 'base_estimator__presort': False,\n",
       " 'base_estimator__random_state': 0,\n",
       " 'base_estimator__splitter': 'best',\n",
       " 'base_estimator': DecisionTreeClassifier(class_weight=None, criterion='gini', max_depth=None,\n",
       "             max_features=None, max_leaf_nodes=None,\n",
       "             min_impurity_decrease=0.0, min_impurity_split=None,\n",
       "             min_samples_leaf=1, min_samples_split=2,\n",
       "             min_weight_fraction_leaf=0.0, presort=False, random_state=0,\n",
       "             splitter='best'),\n",
       " 'learning_rate': 1.0,\n",
       " 'n_estimators': 50,\n",
       " 'random_state': None}"
      ]
     },
     "execution_count": 42,
     "metadata": {},
     "output_type": "execute_result"
    }
   ],
   "source": [
    "from sklearn.ensemble import AdaBoostClassifier\n",
    "AdaBoostClassifier(DecisionTreeClassifier(random_state=0)).get_params()"
   ]
  },
  {
   "cell_type": "code",
   "execution_count": 43,
   "metadata": {},
   "outputs": [],
   "source": [
    "hyperparams = {\"n_estimators\" : range (1, 50)}"
   ]
  },
  {
   "cell_type": "code",
   "execution_count": 44,
   "metadata": {},
   "outputs": [
    {
     "name": "stdout",
     "output_type": "stream",
     "text": [
      "{'n_estimators': 45}\n"
     ]
    }
   ],
   "source": [
    "clf = GridSearchCV(AdaBoostClassifier(DecisionTreeClassifier(random_state=0)), hyperparams, cv=5, scoring = \"f1\", n_jobs=-1)\n",
    "clf.fit(X_train_alg, y_train_alg)\n",
    "\n",
    "print(clf.best_params_)\n",
    "\n",
    "# Result: {'n_estimators': 45}, range tested: 1-50"
   ]
  },
  {
   "cell_type": "code",
   "execution_count": 45,
   "metadata": {},
   "outputs": [
    {
     "name": "stdout",
     "output_type": "stream",
     "text": [
      "Algorithm: AdaBoost_n_est_dct_rs Accuracy: 0.99929, F1-score: 0.99945, Precision: 0.99945, Recall: 0.99945, FPR: 0.00101\n",
      "TN: 7885; FP:   8; FN:    8; TP: 14599\n",
      "\n",
      "Algorithm: AdaBoost_n_est_dct_0 Accuracy: 0.99933, F1-score: 0.99949, Precision: 0.99973, Recall: 0.99925, FPR: 0.00051\n",
      "TN: 7889; FP:   4; FN:   11; TP: 14596\n",
      "\n",
      "Algorithm: AdaBoost_n_est_dct_def Accuracy: 0.99960, F1-score: 0.99969, Precision: 0.99959, Recall: 0.99979, FPR: 0.00076\n",
      "TN: 7887; FP:   6; FN:    3; TP: 14604\n",
      "\n",
      "Algorithm: AdaBoost_n_est Accuracy: 0.99827, F1-score: 0.99866, Precision: 0.99890, Recall: 0.99843, FPR: 0.00203\n",
      "TN: 7877; FP:  16; FN:   23; TP: 14584\n",
      "\n",
      "Algorithm: AdaBoost_n_est_0 Accuracy: 0.99827, F1-score: 0.99866, Precision: 0.99890, Recall: 0.99843, FPR: 0.00203\n",
      "TN: 7877; FP:  16; FN:   23; TP: 14584\n",
      "\n",
      "Algorithm: AdaBoost_orig Accuracy: 0.99853, F1-score: 0.99887, Precision: 0.99931, Recall: 0.99843, FPR: 0.00127\n",
      "TN: 7883; FP:  10; FN:   23; TP: 14584\n",
      "\n"
     ]
    }
   ],
   "source": [
    "num_trees = clf.best_params_['n_estimators']\n",
    "seed = 12\n",
    "\n",
    "classifiers = {\n",
    "               \"AdaBoost_n_est_dct_rs\":AdaBoostClassifier(DecisionTreeClassifier(max_depth = 11), n_estimators=num_trees, random_state = seed),\n",
    "               \"AdaBoost_n_est_dct_0\":AdaBoostClassifier(DecisionTreeClassifier(max_depth = 11), n_estimators=num_trees, random_state = 0),\n",
    "               \"AdaBoost_n_est_dct_def\":AdaBoostClassifier(DecisionTreeClassifier(max_depth = 11), n_estimators=num_trees),\n",
    "               \"AdaBoost_n_est\":AdaBoostClassifier(n_estimators=num_trees, random_state = seed),\n",
    "               \"AdaBoost_n_est_0\":AdaBoostClassifier(n_estimators=num_trees, random_state = 0), \n",
    "               \"AdaBoost_orig\":AdaBoostClassifier()\n",
    "}\n",
    "\n",
    "Acc = {}\n",
    "F1S = {}\n",
    "Prec = {}\n",
    "Rec = {}\n",
    "FPR = {}\n",
    "\n",
    "for name, clf in classifiers.items():\n",
    "    \n",
    "    model = clf.fit(X_train_alg, y_train_alg)\n",
    "    \n",
    "    y_pred = model.predict(X_validate_alg)\n",
    "    \n",
    "    Acc[name] = metrics.accuracy_score(y_validate_alg, y_pred)\n",
    "    F1S[name] = metrics.f1_score(y_validate_alg, y_pred)\n",
    "    Prec[name] = metrics.precision_score(y_validate_alg, y_pred)\n",
    "    Rec[name] = metrics.recall_score(y_validate_alg, y_pred)\n",
    "    tn, fp, fn, tp = metrics.confusion_matrix(y_validate_alg, y_pred).ravel()\n",
    "    FPR[name] = fp/(fp+tn)\n",
    "    \n",
    "    print(\"Algorithm: {0:12} Accuracy: {1:.5f}, F1-score: {2:.5f}, Precision: {3:.5f}, Recall: {4:.5f}, FPR: {5:.5f}\".format(name, Acc[name], F1S[name], Prec[name], Rec[name], FPR[name]))\n",
    "    print(\"TN: {0:3}; FP: {1:3}; FN: {2:4}; TP: {3:3}\\n\".format(tn, fp, fn, tp))\n"
   ]
  },
  {
   "cell_type": "code",
   "execution_count": 46,
   "metadata": {},
   "outputs": [
    {
     "data": {
      "image/png": "[encoded data removed]",
      "text/plain": [
       "<matplotlib.figure.Figure at 0x7f136e9996d8>"
      ]
     },
     "metadata": {
      "needs_background": "light"
     },
     "output_type": "display_data"
    },
    {
     "data": {
      "image/png": "[encoded data removed]",
      "text/plain": [
       "<matplotlib.figure.Figure at 0x7f136e9997b8>"
      ]
     },
     "metadata": {
      "needs_background": "light"
     },
     "output_type": "display_data"
    },
    {
     "data": {
      "image/png": "[encoded data removed]",
      "text/plain": [
       "<matplotlib.figure.Figure at 0x7f136e9c27f0>"
      ]
     },
     "metadata": {
      "needs_background": "light"
     },
     "output_type": "display_data"
    },
    {
     "data": {
      "image/png": "[encoded data removed]",
      "text/plain": [
       "<matplotlib.figure.Figure at 0x7f136ea39a90>"
      ]
     },
     "metadata": {
      "needs_background": "light"
     },
     "output_type": "display_data"
    },
    {
     "data": {
      "image/png": "[encoded data removed]",
      "text/plain": [
       "<matplotlib.figure.Figure at 0x7f136ea92898>"
      ]
     },
     "metadata": {
      "needs_background": "light"
     },
     "output_type": "display_data"
    }
   ],
   "source": [
    "plot_stats(Acc, \"Accuracy\",7,  55)\n",
    "plot_stats(F1S, \"F1-score\", 7, 55)\n",
    "plot_stats(Prec, \"Precision\", 7, 55)\n",
    "plot_stats(Rec, \"Recall\", 7, 55)\n",
    "plot_stats(FPR, \"False Positive Rate\", 7, 55)"
   ]
  },
  {
   "cell_type": "markdown",
   "metadata": {},
   "source": [
    "## Random tree parameters selection"
   ]
  },
  {
   "cell_type": "code",
   "execution_count": 47,
   "metadata": {},
   "outputs": [],
   "source": [
    "hyperparams = {'max_depth' : range(1,15)}"
   ]
  },
  {
   "cell_type": "code",
   "execution_count": 48,
   "metadata": {},
   "outputs": [
    {
     "name": "stdout",
     "output_type": "stream",
     "text": [
      "{'max_depth': 14}\n"
     ]
    }
   ],
   "source": [
    "clf = GridSearchCV(DecisionTreeClassifier(random_state=0, splitter = \"random\"), hyperparams, cv=5, scoring = \"f1\", n_jobs=-1)\n",
    "clf.fit(X_train_alg, y_train_alg)\n",
    "\n",
    "print(clf.best_params_) # --> 11"
   ]
  },
  {
   "cell_type": "code",
   "execution_count": 49,
   "metadata": {},
   "outputs": [
    {
     "name": "stdout",
     "output_type": "stream",
     "text": [
      "Algorithm: RandomTree   Accuracy: 0.99724, F1-score: 0.99788, Precision: 0.99645, Recall: 0.99932, FPR: 0.00659\n",
      "TN: 7841; FP:  52; FN:   10; TP: 14597\n",
      "\n",
      "Algorithm: RandomTree_11 Accuracy: 0.99764, F1-score: 0.99818, Precision: 0.99911, Recall: 0.99726, FPR: 0.00165\n",
      "TN: 7880; FP:  13; FN:   40; TP: 14567\n",
      "\n"
     ]
    }
   ],
   "source": [
    "classifiers = {\n",
    "                \"RandomTree\":DecisionTreeClassifier(random_state=0, splitter = \"random\"),\n",
    "                \"RandomTree_11\":DecisionTreeClassifier(random_state=0, splitter = \"random\", max_depth = 11),                \n",
    "}\n",
    "\n",
    "Acc = {}\n",
    "F1S = {}\n",
    "Prec = {}\n",
    "Rec = {}\n",
    "FPR = {}\n",
    "\n",
    "for name, clf in classifiers.items():\n",
    "    \n",
    "    model = clf.fit(X_train_alg, y_train_alg)\n",
    "    \n",
    "    y_pred = model.predict(X_validate_alg)\n",
    "    \n",
    "    Acc[name] = metrics.accuracy_score(y_validate_alg, y_pred)\n",
    "    F1S[name] = metrics.f1_score(y_validate_alg, y_pred)\n",
    "    Prec[name] = metrics.precision_score(y_validate_alg, y_pred)\n",
    "    Rec[name] = metrics.recall_score(y_validate_alg, y_pred)\n",
    "    tn, fp, fn, tp = metrics.confusion_matrix(y_validate_alg, y_pred).ravel()\n",
    "    FPR[name] = fp/(fp+tn)\n",
    "    \n",
    "    print(\"Algorithm: {0:12} Accuracy: {1:.5f}, F1-score: {2:.5f}, Precision: {3:.5f}, Recall: {4:.5f}, FPR: {5:.5f}\".format(name, Acc[name], F1S[name], Prec[name], Rec[name], FPR[name]))\n",
    "    print(\"TN: {0:3}; FP: {1:3}; FN: {2:4}; TP: {3:3}\\n\".format(tn, fp, fn, tp))\n"
   ]
  },
  {
   "cell_type": "code",
   "execution_count": 50,
   "metadata": {},
   "outputs": [
    {
     "data": {
      "image/png": "[encoded data removed]",
      "text/plain": [
       "<matplotlib.figure.Figure at 0x7f136eb33630>"
      ]
     },
     "metadata": {
      "needs_background": "light"
     },
     "output_type": "display_data"
    },
    {
     "data": {
      "image/png": "[encoded data removed]",
      "text/plain": [
       "<matplotlib.figure.Figure at 0x7f136ea331d0>"
      ]
     },
     "metadata": {
      "needs_background": "light"
     },
     "output_type": "display_data"
    },
    {
     "data": {
      "image/png": "[encoded data removed]",
      "text/plain": [
       "<matplotlib.figure.Figure at 0x7f136e946eb8>"
      ]
     },
     "metadata": {
      "needs_background": "light"
     },
     "output_type": "display_data"
    },
    {
     "data": {
      "image/png": "[encoded data removed]",
      "text/plain": [
       "<matplotlib.figure.Figure at 0x7f136eabd780>"
      ]
     },
     "metadata": {
      "needs_background": "light"
     },
     "output_type": "display_data"
    },
    {
     "data": {
      "image/png": "[encoded data removed]",
      "text/plain": [
       "<matplotlib.figure.Figure at 0x7f136eb5d630>"
      ]
     },
     "metadata": {
      "needs_background": "light"
     },
     "output_type": "display_data"
    }
   ],
   "source": [
    "plot_stats(Acc, \"Accuracy\",4, 35)\n",
    "plot_stats(F1S, \"F1-score\", 4, 35)\n",
    "plot_stats(Prec, \"Precision\", 4, 35)\n",
    "plot_stats(Rec, \"Recall\", 4, 35)\n",
    "plot_stats(FPR, \"False Positive Rate\", 4, 35)"
   ]
  },
  {
   "cell_type": "markdown",
   "metadata": {},
   "source": [
    "## Random Forest parameters selection"
   ]
  },
  {
   "cell_type": "code",
   "execution_count": 51,
   "metadata": {},
   "outputs": [
    {
     "data": {
      "text/plain": [
       "{'bootstrap': True,\n",
       " 'class_weight': None,\n",
       " 'criterion': 'gini',\n",
       " 'max_depth': None,\n",
       " 'max_features': 'auto',\n",
       " 'max_leaf_nodes': None,\n",
       " 'min_impurity_decrease': 0.0,\n",
       " 'min_impurity_split': None,\n",
       " 'min_samples_leaf': 1,\n",
       " 'min_samples_split': 2,\n",
       " 'min_weight_fraction_leaf': 0.0,\n",
       " 'n_estimators': 'warn',\n",
       " 'n_jobs': None,\n",
       " 'oob_score': False,\n",
       " 'random_state': 0,\n",
       " 'verbose': 0,\n",
       " 'warm_start': False}"
      ]
     },
     "execution_count": 51,
     "metadata": {},
     "output_type": "execute_result"
    }
   ],
   "source": [
    "from sklearn.ensemble import RandomForestClassifier\n",
    "from sklearn.model_selection import GridSearchCV \n",
    "\n",
    "RandomForestClassifier(random_state=0).get_params()"
   ]
  },
  {
   "cell_type": "code",
   "execution_count": 52,
   "metadata": {},
   "outputs": [],
   "source": [
    "hyperparams = {'n_estimators' : range(1, 250)}"
   ]
  },
  {
   "cell_type": "code",
   "execution_count": 53,
   "metadata": {},
   "outputs": [
    {
     "name": "stdout",
     "output_type": "stream",
     "text": [
      "{'n_estimators': 178}\n"
     ]
    }
   ],
   "source": [
    "clf = GridSearchCV(RandomForestClassifier(random_state=0), hyperparams, cv=5, scoring = \"f1\", n_jobs=-1)\n",
    "clf.fit(X_train_alg, y_train_alg)\n",
    "\n",
    "n_estimators_calc = clf.best_params_['n_estimators']\n",
    "print(clf.best_params_)\n",
    "\n",
    "# {'n_estimators': 196}"
   ]
  },
  {
   "cell_type": "code",
   "execution_count": 37,
   "metadata": {},
   "outputs": [],
   "source": [
    "hyperparams = {'max_features' : [None, 'auto', 'sqrt', 'log2']}"
   ]
  },
  {
   "cell_type": "code",
   "execution_count": 38,
   "metadata": {},
   "outputs": [],
   "source": [
    "clf = GridSearchCV(RandomForestClassifier(random_state=0, n_estimators=41), hyperparams, cv=5 ,scoring = \"f1\", n_jobs=-1)\n",
    "# clf.fit(X_train_alg, y_train_alg)\n",
    "\n",
    "# print(clf.best_params_)\n",
    "# {'max_features': 'auto'}"
   ]
  },
  {
   "cell_type": "code",
   "execution_count": 54,
   "metadata": {},
   "outputs": [],
   "source": [
    "hyperparams = {'max_depth' : range(1,50)}"
   ]
  },
  {
   "cell_type": "code",
   "execution_count": 55,
   "metadata": {},
   "outputs": [
    {
     "name": "stdout",
     "output_type": "stream",
     "text": [
      "{'max_depth': 31}\n"
     ]
    }
   ],
   "source": [
    "clf = GridSearchCV(RandomForestClassifier(random_state=0, n_estimators=n_estimators_calc, max_features='auto'), hyperparams, cv=5, scoring = \"f1\", n_jobs=-1)\n",
    "clf.fit(X_train_alg, y_train_alg)\n",
    "\n",
    "print(clf.best_params_)\n",
    "# {'max_depth': 31}"
   ]
  },
  {
   "cell_type": "code",
   "execution_count": 56,
   "metadata": {},
   "outputs": [
    {
     "name": "stdout",
     "output_type": "stream",
     "text": [
      "Algorithm: RandomForest_new Accuracy: 0.99969, F1-score: 0.99976, Precision: 0.99966, Recall: 0.99986, FPR: 0.00063\n",
      "TN: 7888; FP:   5; FN:    2; TP: 14605\n",
      "\n"
     ]
    },
    {
     "name": "stderr",
     "output_type": "stream",
     "text": [
      "/home/matz/.local/lib/python3.6/site-packages/sklearn/preprocessing/data.py:625: DataConversionWarning: Data with input dtype uint8, int64, float64 were all converted to float64 by StandardScaler.\n",
      "  return self.partial_fit(X, y)\n",
      "/home/matz/.local/lib/python3.6/site-packages/sklearn/base.py:465: DataConversionWarning: Data with input dtype uint8, int64, float64 were all converted to float64 by StandardScaler.\n",
      "  return self.fit(X, y, **fit_params).transform(X)\n",
      "/home/matz/.local/lib/python3.6/site-packages/sklearn/pipeline.py:331: DataConversionWarning: Data with input dtype uint8, int64, float64 were all converted to float64 by StandardScaler.\n",
      "  Xt = transform.transform(Xt)\n"
     ]
    },
    {
     "name": "stdout",
     "output_type": "stream",
     "text": [
      "Algorithm: RandomForest_new_scl Accuracy: 0.99969, F1-score: 0.99976, Precision: 0.99966, Recall: 0.99986, FPR: 0.00063\n",
      "TN: 7888; FP:   5; FN:    2; TP: 14605\n",
      "\n",
      "Algorithm: RandomForest_orig Accuracy: 0.99978, F1-score: 0.99983, Precision: 0.99966, Recall: 1.00000, FPR: 0.00063\n",
      "TN: 7888; FP:   5; FN:    0; TP: 14607\n",
      "\n"
     ]
    }
   ],
   "source": [
    "# # zmiana n_estimators daje poprawe\n",
    "# # kfold tylko dla crossvalidation\n",
    "# # learning rate [1 - default] najlepsze wyniki\n",
    "from sklearn import metrics\n",
    "from sklearn.pipeline import make_pipeline\n",
    "from sklearn.preprocessing import StandardScaler\n",
    "\n",
    "classifiers = {\n",
    "                \"RandomForest_new\":RandomForestClassifier(n_estimators=196, max_depth=40, random_state=0),\n",
    "                \"RandomForest_new_scl\":make_pipeline(StandardScaler(),RandomForestClassifier(n_estimators=196, max_depth=40, random_state=0)),\n",
    "                \"RandomForest_orig\":RandomForestClassifier(n_estimators=100),\n",
    "}\n",
    "\n",
    "Acc = {}\n",
    "F1S = {}\n",
    "Prec = {}\n",
    "Rec = {}\n",
    "FPR = {}\n",
    "\n",
    "for name, clf in classifiers.items():\n",
    "    \n",
    "    model = clf.fit(X_train_alg, y_train_alg)\n",
    "    \n",
    "    y_pred = model.predict(X_validate_alg)\n",
    "    \n",
    "    Acc[name] = metrics.accuracy_score(y_validate_alg, y_pred)\n",
    "    F1S[name] = metrics.f1_score(y_validate_alg, y_pred)\n",
    "    Prec[name] = metrics.precision_score(y_validate_alg, y_pred)\n",
    "    Rec[name] = metrics.recall_score(y_validate_alg, y_pred)\n",
    "    tn, fp, fn, tp = metrics.confusion_matrix(y_validate_alg, y_pred).ravel()\n",
    "    FPR[name] = fp/(fp+tn)\n",
    "    \n",
    "    print(\"Algorithm: {0:12} Accuracy: {1:.5f}, F1-score: {2:.5f}, Precision: {3:.5f}, Recall: {4:.5f}, FPR: {5:.5f}\".format(name, Acc[name], F1S[name], Prec[name], Rec[name], FPR[name]))\n",
    "    print(\"TN: {0:3}; FP: {1:3}; FN: {2:4}; TP: {3:3}\\n\".format(tn, fp, fn, tp))"
   ]
  },
  {
   "cell_type": "code",
   "execution_count": 57,
   "metadata": {},
   "outputs": [
    {
     "data": {
      "image/png": "[encoded data removed]",
      "text/plain": [
       "<matplotlib.figure.Figure at 0x7f136413d908>"
      ]
     },
     "metadata": {
      "needs_background": "light"
     },
     "output_type": "display_data"
    },
    {
     "data": {
      "image/png": "[encoded data removed]",
      "text/plain": [
       "<matplotlib.figure.Figure at 0x7f136413d5c0>"
      ]
     },
     "metadata": {
      "needs_background": "light"
     },
     "output_type": "display_data"
    },
    {
     "data": {
      "image/png": "[encoded data removed]",
      "text/plain": [
       "<matplotlib.figure.Figure at 0x7f1364099780>"
      ]
     },
     "metadata": {
      "needs_background": "light"
     },
     "output_type": "display_data"
    },
    {
     "data": {
      "image/png": "[encoded data removed]",
      "text/plain": [
       "<matplotlib.figure.Figure at 0x7f135f252780>"
      ]
     },
     "metadata": {
      "needs_background": "light"
     },
     "output_type": "display_data"
    },
    {
     "data": {
      "image/png": "[encoded data removed]",
      "text/plain": [
       "<matplotlib.figure.Figure at 0x7f135f1cf518>"
      ]
     },
     "metadata": {
      "needs_background": "light"
     },
     "output_type": "display_data"
    }
   ],
   "source": [
    "plot_stats(Acc, \"Accuracy\", 4, 35)\n",
    "plot_stats(F1S, \"F1-score\", 4, 35)\n",
    "plot_stats(Prec, \"Precision\", 4, 35)\n",
    "plot_stats(Rec, \"Recall\", 4, 35)\n",
    "plot_stats(FPR, \"False Positive Rate\", 4, 35)"
   ]
  },
  {
   "cell_type": "code",
   "execution_count": null,
   "metadata": {},
   "outputs": [],
   "source": []
  }
 ],
 "metadata": {
  "kernelspec": {
   "display_name": "Python 3",
   "language": "python",
   "name": "python3"
  },
  "language_info": {
   "codemirror_mode": {
    "name": "ipython",
    "version": 3
   },
   "file_extension": ".py",
   "mimetype": "text/x-python",
   "name": "python",
   "nbconvert_exporter": "python",
   "pygments_lexer": "ipython3",
   "version": "3.6.7"
  }
 },
 "nbformat": 4,
 "nbformat_minor": 2
}
