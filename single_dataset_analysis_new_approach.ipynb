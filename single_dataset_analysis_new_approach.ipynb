{
 "cells": [
  {
   "cell_type": "code",
   "execution_count": 95,
   "metadata": {},
   "outputs": [],
   "source": [
    "import pandas as pd\n",
    "import matplotlib.pyplot as plt\n",
    "import numpy as np\n",
    "\n",
    "%matplotlib inline \n",
    "%config IPCompleter.greedy=True"
   ]
  },
  {
   "cell_type": "markdown",
   "metadata": {},
   "source": [
    "## Reading data from file"
   ]
  },
  {
   "cell_type": "code",
   "execution_count": 96,
   "metadata": {},
   "outputs": [
    {
     "name": "stdout",
     "output_type": "stream",
     "text": [
      "Counter({-1: 149915, 1: 67713})\n"
     ]
    }
   ],
   "source": [
    "from collections import Counter\n",
    "\n",
    "### main dataset ###\n",
    "data = pd.read_csv(\"20151219.txt\", sep = \"\\t\", header = None)\n",
    "data.columns = [\"conn len\", \"service\", \"src bytes\", \"dst bytes\", \"conn numb\", \"Same srv rate\", \"Serror rate\", \"Srv serror rate\", \"Dst host count\", \"Dst host srv count\", \"Dst host same src port rate\", \"Dst host serror rate\", \"Dst host srv serror rate\", \"Conn state\", \"IDS detection\", \"Malware detection\", \"Ashula detection\", \"attack_flag\", \"src IP\", \"src port\", \"dst IP\", \"dst port\", \"start time\", \"proto\"]\n",
    "\n",
    "print(Counter(data[\"attack_flag\"]))"
   ]
  },
  {
   "cell_type": "markdown",
   "metadata": {},
   "source": [
    "## Transform to binary"
   ]
  },
  {
   "cell_type": "code",
   "execution_count": 97,
   "metadata": {},
   "outputs": [
    {
     "name": "stdout",
     "output_type": "stream",
     "text": [
      "Counter({1: 149915, 0: 67713})\n"
     ]
    }
   ],
   "source": [
    "data.loc[:, \"attack_flag\"] = data.loc[:,\"attack_flag\"].replace(-2, -1)\n",
    "data.loc[:, \"attack_flag\"] = data.loc[:, \"attack_flag\"] * -1\n",
    "data.loc[:, \"attack_flag\"] = data.loc[:,\"attack_flag\"].replace(-1, 0)\n",
    "\n",
    "print(Counter(data[\"attack_flag\"]))"
   ]
  },
  {
   "cell_type": "markdown",
   "metadata": {},
   "source": [
    "## Visualize the attacks structure over time "
   ]
  },
  {
   "cell_type": "code",
   "execution_count": 98,
   "metadata": {},
   "outputs": [
    {
     "data": {
      "text/plain": [
       "<matplotlib.axes._subplots.AxesSubplot at 0x7f0e6efd2780>"
      ]
     },
     "execution_count": 98,
     "metadata": {},
     "output_type": "execute_result"
    },
    {
     "data": {
      "image/png": "[encoded data removed]",
      "text/plain": [
       "<matplotlib.figure.Figure at 0x7f0e783f4fd0>"
      ]
     },
     "metadata": {
      "needs_background": "light"
     },
     "output_type": "display_data"
    }
   ],
   "source": [
    "data_red = data.groupby('start time')['attack_flag'].sum()\n",
    "data_red.plot()"
   ]
  },
  {
   "cell_type": "code",
   "execution_count": 99,
   "metadata": {},
   "outputs": [
    {
     "name": "stdout",
     "output_type": "stream",
     "text": [
      "(217628, 24)\n",
      "(217628, 21)\n"
     ]
    },
    {
     "data": {
      "text/plain": [
       "1    149915\n",
       "0     67713\n",
       "Name: attack_flag, dtype: int64"
      ]
     },
     "execution_count": 99,
     "metadata": {},
     "output_type": "execute_result"
    }
   ],
   "source": [
    "# slice dataset, drop additional features\n",
    "print(data.shape)\n",
    "data = data.drop(['start time', 'dst IP', 'src IP'], axis=1)\n",
    "print(data.shape)\n",
    "\n",
    "# drop software markers\n",
    "data = data.drop([\"IDS detection\", \"Malware detection\", \"Ashula detection\"], axis=1)\n",
    "data[\"attack_flag\"].value_counts()"
   ]
  },
  {
   "cell_type": "code",
   "execution_count": 100,
   "metadata": {},
   "outputs": [
    {
     "name": "stdout",
     "output_type": "stream",
     "text": [
      "<class 'pandas.core.frame.DataFrame'>\n",
      "RangeIndex: 217628 entries, 0 to 217627\n",
      "Data columns (total 18 columns):\n",
      "conn len                       217628 non-null float64\n",
      "service                        217628 non-null object\n",
      "src bytes                      217628 non-null int64\n",
      "dst bytes                      217628 non-null int64\n",
      "conn numb                      217628 non-null int64\n",
      "Same srv rate                  217628 non-null float64\n",
      "Serror rate                    217628 non-null float64\n",
      "Srv serror rate                217628 non-null float64\n",
      "Dst host count                 217628 non-null int64\n",
      "Dst host srv count             217628 non-null int64\n",
      "Dst host same src port rate    217628 non-null float64\n",
      "Dst host serror rate           217628 non-null float64\n",
      "Dst host srv serror rate       217628 non-null float64\n",
      "Conn state                     217628 non-null object\n",
      "attack_flag                    217628 non-null int64\n",
      "src port                       217628 non-null int64\n",
      "dst port                       217628 non-null int64\n",
      "proto                          217628 non-null object\n",
      "dtypes: float64(7), int64(8), object(3)\n",
      "memory usage: 29.9+ MB\n"
     ]
    }
   ],
   "source": [
    "data.info()"
   ]
  },
  {
   "cell_type": "code",
   "execution_count": 101,
   "metadata": {},
   "outputs": [
    {
     "data": {
      "text/html": [
       "<div>\n",
       "<style scoped>\n",
       "    .dataframe tbody tr th:only-of-type {\n",
       "        vertical-align: middle;\n",
       "    }\n",
       "\n",
       "    .dataframe tbody tr th {\n",
       "        vertical-align: top;\n",
       "    }\n",
       "\n",
       "    .dataframe thead th {\n",
       "        text-align: right;\n",
       "    }\n",
       "</style>\n",
       "<table border=\"1\" class=\"dataframe\">\n",
       "  <thead>\n",
       "    <tr style=\"text-align: right;\">\n",
       "      <th></th>\n",
       "      <th>conn len</th>\n",
       "      <th>service</th>\n",
       "      <th>src bytes</th>\n",
       "      <th>dst bytes</th>\n",
       "      <th>conn numb</th>\n",
       "      <th>Same srv rate</th>\n",
       "      <th>Serror rate</th>\n",
       "      <th>Srv serror rate</th>\n",
       "      <th>Dst host count</th>\n",
       "      <th>Dst host srv count</th>\n",
       "      <th>Dst host same src port rate</th>\n",
       "      <th>Dst host serror rate</th>\n",
       "      <th>Dst host srv serror rate</th>\n",
       "      <th>Conn state</th>\n",
       "      <th>attack_flag</th>\n",
       "      <th>src port</th>\n",
       "      <th>dst port</th>\n",
       "      <th>proto</th>\n",
       "    </tr>\n",
       "  </thead>\n",
       "  <tbody>\n",
       "    <tr>\n",
       "      <th>217618</th>\n",
       "      <td>0.410043</td>\n",
       "      <td>other</td>\n",
       "      <td>150</td>\n",
       "      <td>0</td>\n",
       "      <td>0</td>\n",
       "      <td>0.0</td>\n",
       "      <td>0.0</td>\n",
       "      <td>1.0</td>\n",
       "      <td>0</td>\n",
       "      <td>0</td>\n",
       "      <td>0.0</td>\n",
       "      <td>0.0</td>\n",
       "      <td>0.0</td>\n",
       "      <td>S0</td>\n",
       "      <td>1</td>\n",
       "      <td>6338</td>\n",
       "      <td>17989</td>\n",
       "      <td>udp</td>\n",
       "    </tr>\n",
       "    <tr>\n",
       "      <th>217619</th>\n",
       "      <td>0.000000</td>\n",
       "      <td>other</td>\n",
       "      <td>0</td>\n",
       "      <td>0</td>\n",
       "      <td>0</td>\n",
       "      <td>0.0</td>\n",
       "      <td>0.0</td>\n",
       "      <td>1.0</td>\n",
       "      <td>0</td>\n",
       "      <td>0</td>\n",
       "      <td>0.0</td>\n",
       "      <td>0.0</td>\n",
       "      <td>0.0</td>\n",
       "      <td>OTH</td>\n",
       "      <td>1</td>\n",
       "      <td>11</td>\n",
       "      <td>0</td>\n",
       "      <td>icmp</td>\n",
       "    </tr>\n",
       "    <tr>\n",
       "      <th>217620</th>\n",
       "      <td>1.215994</td>\n",
       "      <td>other</td>\n",
       "      <td>60</td>\n",
       "      <td>0</td>\n",
       "      <td>0</td>\n",
       "      <td>0.0</td>\n",
       "      <td>0.0</td>\n",
       "      <td>0.0</td>\n",
       "      <td>0</td>\n",
       "      <td>0</td>\n",
       "      <td>0.0</td>\n",
       "      <td>0.0</td>\n",
       "      <td>0.0</td>\n",
       "      <td>S0</td>\n",
       "      <td>1</td>\n",
       "      <td>14015</td>\n",
       "      <td>17989</td>\n",
       "      <td>udp</td>\n",
       "    </tr>\n",
       "    <tr>\n",
       "      <th>217621</th>\n",
       "      <td>0.000000</td>\n",
       "      <td>dns</td>\n",
       "      <td>0</td>\n",
       "      <td>0</td>\n",
       "      <td>0</td>\n",
       "      <td>0.0</td>\n",
       "      <td>0.0</td>\n",
       "      <td>0.0</td>\n",
       "      <td>0</td>\n",
       "      <td>0</td>\n",
       "      <td>0.0</td>\n",
       "      <td>0.0</td>\n",
       "      <td>0.0</td>\n",
       "      <td>S0</td>\n",
       "      <td>1</td>\n",
       "      <td>44074</td>\n",
       "      <td>53</td>\n",
       "      <td>udp</td>\n",
       "    </tr>\n",
       "    <tr>\n",
       "      <th>217622</th>\n",
       "      <td>0.000000</td>\n",
       "      <td>other</td>\n",
       "      <td>0</td>\n",
       "      <td>0</td>\n",
       "      <td>0</td>\n",
       "      <td>0.0</td>\n",
       "      <td>0.0</td>\n",
       "      <td>1.0</td>\n",
       "      <td>0</td>\n",
       "      <td>0</td>\n",
       "      <td>0.0</td>\n",
       "      <td>0.0</td>\n",
       "      <td>0.0</td>\n",
       "      <td>S0</td>\n",
       "      <td>1</td>\n",
       "      <td>49263</td>\n",
       "      <td>25</td>\n",
       "      <td>tcp</td>\n",
       "    </tr>\n",
       "    <tr>\n",
       "      <th>217623</th>\n",
       "      <td>0.000000</td>\n",
       "      <td>other</td>\n",
       "      <td>0</td>\n",
       "      <td>0</td>\n",
       "      <td>1</td>\n",
       "      <td>1.0</td>\n",
       "      <td>1.0</td>\n",
       "      <td>1.0</td>\n",
       "      <td>0</td>\n",
       "      <td>1</td>\n",
       "      <td>0.0</td>\n",
       "      <td>0.0</td>\n",
       "      <td>1.0</td>\n",
       "      <td>S0</td>\n",
       "      <td>1</td>\n",
       "      <td>58398</td>\n",
       "      <td>25</td>\n",
       "      <td>tcp</td>\n",
       "    </tr>\n",
       "    <tr>\n",
       "      <th>217624</th>\n",
       "      <td>0.000000</td>\n",
       "      <td>other</td>\n",
       "      <td>0</td>\n",
       "      <td>0</td>\n",
       "      <td>0</td>\n",
       "      <td>0.0</td>\n",
       "      <td>0.0</td>\n",
       "      <td>1.0</td>\n",
       "      <td>2</td>\n",
       "      <td>2</td>\n",
       "      <td>1.0</td>\n",
       "      <td>1.0</td>\n",
       "      <td>1.0</td>\n",
       "      <td>S0</td>\n",
       "      <td>1</td>\n",
       "      <td>55373</td>\n",
       "      <td>23</td>\n",
       "      <td>tcp</td>\n",
       "    </tr>\n",
       "    <tr>\n",
       "      <th>217625</th>\n",
       "      <td>0.000000</td>\n",
       "      <td>other</td>\n",
       "      <td>0</td>\n",
       "      <td>0</td>\n",
       "      <td>0</td>\n",
       "      <td>0.0</td>\n",
       "      <td>0.0</td>\n",
       "      <td>1.0</td>\n",
       "      <td>0</td>\n",
       "      <td>0</td>\n",
       "      <td>0.0</td>\n",
       "      <td>0.0</td>\n",
       "      <td>0.0</td>\n",
       "      <td>S0</td>\n",
       "      <td>1</td>\n",
       "      <td>33244</td>\n",
       "      <td>25</td>\n",
       "      <td>tcp</td>\n",
       "    </tr>\n",
       "    <tr>\n",
       "      <th>217626</th>\n",
       "      <td>0.000000</td>\n",
       "      <td>other</td>\n",
       "      <td>0</td>\n",
       "      <td>0</td>\n",
       "      <td>1</td>\n",
       "      <td>1.0</td>\n",
       "      <td>1.0</td>\n",
       "      <td>1.0</td>\n",
       "      <td>0</td>\n",
       "      <td>1</td>\n",
       "      <td>0.0</td>\n",
       "      <td>0.0</td>\n",
       "      <td>1.0</td>\n",
       "      <td>S0</td>\n",
       "      <td>1</td>\n",
       "      <td>47476</td>\n",
       "      <td>25</td>\n",
       "      <td>tcp</td>\n",
       "    </tr>\n",
       "    <tr>\n",
       "      <th>217627</th>\n",
       "      <td>0.000000</td>\n",
       "      <td>other</td>\n",
       "      <td>0</td>\n",
       "      <td>0</td>\n",
       "      <td>0</td>\n",
       "      <td>0.0</td>\n",
       "      <td>0.0</td>\n",
       "      <td>1.0</td>\n",
       "      <td>0</td>\n",
       "      <td>0</td>\n",
       "      <td>0.0</td>\n",
       "      <td>0.0</td>\n",
       "      <td>0.0</td>\n",
       "      <td>S0</td>\n",
       "      <td>1</td>\n",
       "      <td>10106</td>\n",
       "      <td>17989</td>\n",
       "      <td>udp</td>\n",
       "    </tr>\n",
       "  </tbody>\n",
       "</table>\n",
       "</div>"
      ],
      "text/plain": [
       "        conn len service  src bytes  dst bytes  conn numb  Same srv rate  \\\n",
       "217618  0.410043   other        150          0          0            0.0   \n",
       "217619  0.000000   other          0          0          0            0.0   \n",
       "217620  1.215994   other         60          0          0            0.0   \n",
       "217621  0.000000     dns          0          0          0            0.0   \n",
       "217622  0.000000   other          0          0          0            0.0   \n",
       "217623  0.000000   other          0          0          1            1.0   \n",
       "217624  0.000000   other          0          0          0            0.0   \n",
       "217625  0.000000   other          0          0          0            0.0   \n",
       "217626  0.000000   other          0          0          1            1.0   \n",
       "217627  0.000000   other          0          0          0            0.0   \n",
       "\n",
       "        Serror rate  Srv serror rate  Dst host count  Dst host srv count  \\\n",
       "217618          0.0              1.0               0                   0   \n",
       "217619          0.0              1.0               0                   0   \n",
       "217620          0.0              0.0               0                   0   \n",
       "217621          0.0              0.0               0                   0   \n",
       "217622          0.0              1.0               0                   0   \n",
       "217623          1.0              1.0               0                   1   \n",
       "217624          0.0              1.0               2                   2   \n",
       "217625          0.0              1.0               0                   0   \n",
       "217626          1.0              1.0               0                   1   \n",
       "217627          0.0              1.0               0                   0   \n",
       "\n",
       "        Dst host same src port rate  Dst host serror rate  \\\n",
       "217618                          0.0                   0.0   \n",
       "217619                          0.0                   0.0   \n",
       "217620                          0.0                   0.0   \n",
       "217621                          0.0                   0.0   \n",
       "217622                          0.0                   0.0   \n",
       "217623                          0.0                   0.0   \n",
       "217624                          1.0                   1.0   \n",
       "217625                          0.0                   0.0   \n",
       "217626                          0.0                   0.0   \n",
       "217627                          0.0                   0.0   \n",
       "\n",
       "        Dst host srv serror rate Conn state  attack_flag  src port  dst port  \\\n",
       "217618                       0.0         S0            1      6338     17989   \n",
       "217619                       0.0        OTH            1        11         0   \n",
       "217620                       0.0         S0            1     14015     17989   \n",
       "217621                       0.0         S0            1     44074        53   \n",
       "217622                       0.0         S0            1     49263        25   \n",
       "217623                       1.0         S0            1     58398        25   \n",
       "217624                       1.0         S0            1     55373        23   \n",
       "217625                       0.0         S0            1     33244        25   \n",
       "217626                       1.0         S0            1     47476        25   \n",
       "217627                       0.0         S0            1     10106     17989   \n",
       "\n",
       "       proto  \n",
       "217618   udp  \n",
       "217619  icmp  \n",
       "217620   udp  \n",
       "217621   udp  \n",
       "217622   tcp  \n",
       "217623   tcp  \n",
       "217624   tcp  \n",
       "217625   tcp  \n",
       "217626   tcp  \n",
       "217627   udp  "
      ]
     },
     "execution_count": 101,
     "metadata": {},
     "output_type": "execute_result"
    }
   ],
   "source": [
    "data.tail(10)"
   ]
  },
  {
   "cell_type": "code",
   "execution_count": 102,
   "metadata": {},
   "outputs": [
    {
     "data": {
      "text/html": [
       "<div>\n",
       "<style scoped>\n",
       "    .dataframe tbody tr th:only-of-type {\n",
       "        vertical-align: middle;\n",
       "    }\n",
       "\n",
       "    .dataframe tbody tr th {\n",
       "        vertical-align: top;\n",
       "    }\n",
       "\n",
       "    .dataframe thead th {\n",
       "        text-align: right;\n",
       "    }\n",
       "</style>\n",
       "<table border=\"1\" class=\"dataframe\">\n",
       "  <thead>\n",
       "    <tr style=\"text-align: right;\">\n",
       "      <th></th>\n",
       "      <th>conn len</th>\n",
       "      <th>src bytes</th>\n",
       "      <th>dst bytes</th>\n",
       "      <th>conn numb</th>\n",
       "      <th>Same srv rate</th>\n",
       "      <th>Serror rate</th>\n",
       "      <th>Srv serror rate</th>\n",
       "      <th>Dst host count</th>\n",
       "      <th>Dst host srv count</th>\n",
       "      <th>Dst host same src port rate</th>\n",
       "      <th>Dst host serror rate</th>\n",
       "      <th>Dst host srv serror rate</th>\n",
       "      <th>attack_flag</th>\n",
       "      <th>src port</th>\n",
       "      <th>dst port</th>\n",
       "    </tr>\n",
       "  </thead>\n",
       "  <tbody>\n",
       "    <tr>\n",
       "      <th>count</th>\n",
       "      <td>217628.000000</td>\n",
       "      <td>217628.000000</td>\n",
       "      <td>217628.000000</td>\n",
       "      <td>217628.000000</td>\n",
       "      <td>217628.000000</td>\n",
       "      <td>217628.000000</td>\n",
       "      <td>217628.000000</td>\n",
       "      <td>217628.000000</td>\n",
       "      <td>217628.000000</td>\n",
       "      <td>217628.000000</td>\n",
       "      <td>217628.000000</td>\n",
       "      <td>217628.000000</td>\n",
       "      <td>217628.000000</td>\n",
       "      <td>217628.000000</td>\n",
       "      <td>217628.000000</td>\n",
       "    </tr>\n",
       "    <tr>\n",
       "      <th>mean</th>\n",
       "      <td>0.855259</td>\n",
       "      <td>56.899333</td>\n",
       "      <td>122.064555</td>\n",
       "      <td>2.952263</td>\n",
       "      <td>0.417481</td>\n",
       "      <td>0.089564</td>\n",
       "      <td>0.542215</td>\n",
       "      <td>29.491720</td>\n",
       "      <td>31.876730</td>\n",
       "      <td>0.071694</td>\n",
       "      <td>0.066464</td>\n",
       "      <td>0.146028</td>\n",
       "      <td>0.688859</td>\n",
       "      <td>34292.130006</td>\n",
       "      <td>3550.084736</td>\n",
       "    </tr>\n",
       "    <tr>\n",
       "      <th>std</th>\n",
       "      <td>3.085410</td>\n",
       "      <td>519.846915</td>\n",
       "      <td>748.123612</td>\n",
       "      <td>5.519918</td>\n",
       "      <td>0.491905</td>\n",
       "      <td>0.284547</td>\n",
       "      <td>0.467622</td>\n",
       "      <td>44.351499</td>\n",
       "      <td>43.928101</td>\n",
       "      <td>0.256081</td>\n",
       "      <td>0.248495</td>\n",
       "      <td>0.350052</td>\n",
       "      <td>0.462961</td>\n",
       "      <td>19708.835701</td>\n",
       "      <td>10869.634486</td>\n",
       "    </tr>\n",
       "    <tr>\n",
       "      <th>min</th>\n",
       "      <td>0.000000</td>\n",
       "      <td>0.000000</td>\n",
       "      <td>0.000000</td>\n",
       "      <td>0.000000</td>\n",
       "      <td>0.000000</td>\n",
       "      <td>0.000000</td>\n",
       "      <td>0.000000</td>\n",
       "      <td>0.000000</td>\n",
       "      <td>0.000000</td>\n",
       "      <td>0.000000</td>\n",
       "      <td>0.000000</td>\n",
       "      <td>0.000000</td>\n",
       "      <td>0.000000</td>\n",
       "      <td>0.000000</td>\n",
       "      <td>0.000000</td>\n",
       "    </tr>\n",
       "    <tr>\n",
       "      <th>25%</th>\n",
       "      <td>0.000000</td>\n",
       "      <td>0.000000</td>\n",
       "      <td>0.000000</td>\n",
       "      <td>0.000000</td>\n",
       "      <td>0.000000</td>\n",
       "      <td>0.000000</td>\n",
       "      <td>0.000000</td>\n",
       "      <td>0.000000</td>\n",
       "      <td>0.000000</td>\n",
       "      <td>0.000000</td>\n",
       "      <td>0.000000</td>\n",
       "      <td>0.000000</td>\n",
       "      <td>0.000000</td>\n",
       "      <td>12375.000000</td>\n",
       "      <td>25.000000</td>\n",
       "    </tr>\n",
       "    <tr>\n",
       "      <th>50%</th>\n",
       "      <td>0.000290</td>\n",
       "      <td>0.000000</td>\n",
       "      <td>0.000000</td>\n",
       "      <td>0.000000</td>\n",
       "      <td>0.000000</td>\n",
       "      <td>0.000000</td>\n",
       "      <td>0.750000</td>\n",
       "      <td>0.000000</td>\n",
       "      <td>1.000000</td>\n",
       "      <td>0.000000</td>\n",
       "      <td>0.000000</td>\n",
       "      <td>0.000000</td>\n",
       "      <td>1.000000</td>\n",
       "      <td>39682.000000</td>\n",
       "      <td>53.000000</td>\n",
       "    </tr>\n",
       "    <tr>\n",
       "      <th>75%</th>\n",
       "      <td>0.013333</td>\n",
       "      <td>45.000000</td>\n",
       "      <td>61.000000</td>\n",
       "      <td>5.000000</td>\n",
       "      <td>1.000000</td>\n",
       "      <td>0.000000</td>\n",
       "      <td>1.000000</td>\n",
       "      <td>96.000000</td>\n",
       "      <td>96.000000</td>\n",
       "      <td>0.000000</td>\n",
       "      <td>0.000000</td>\n",
       "      <td>0.000000</td>\n",
       "      <td>1.000000</td>\n",
       "      <td>50473.000000</td>\n",
       "      <td>1433.000000</td>\n",
       "    </tr>\n",
       "    <tr>\n",
       "      <th>max</th>\n",
       "      <td>563.012764</td>\n",
       "      <td>88066.000000</td>\n",
       "      <td>157723.000000</td>\n",
       "      <td>84.000000</td>\n",
       "      <td>1.000000</td>\n",
       "      <td>1.000000</td>\n",
       "      <td>1.000000</td>\n",
       "      <td>100.000000</td>\n",
       "      <td>100.000000</td>\n",
       "      <td>1.000000</td>\n",
       "      <td>1.000000</td>\n",
       "      <td>1.000000</td>\n",
       "      <td>1.000000</td>\n",
       "      <td>65535.000000</td>\n",
       "      <td>65498.000000</td>\n",
       "    </tr>\n",
       "  </tbody>\n",
       "</table>\n",
       "</div>"
      ],
      "text/plain": [
       "            conn len      src bytes      dst bytes      conn numb  \\\n",
       "count  217628.000000  217628.000000  217628.000000  217628.000000   \n",
       "mean        0.855259      56.899333     122.064555       2.952263   \n",
       "std         3.085410     519.846915     748.123612       5.519918   \n",
       "min         0.000000       0.000000       0.000000       0.000000   \n",
       "25%         0.000000       0.000000       0.000000       0.000000   \n",
       "50%         0.000290       0.000000       0.000000       0.000000   \n",
       "75%         0.013333      45.000000      61.000000       5.000000   \n",
       "max       563.012764   88066.000000  157723.000000      84.000000   \n",
       "\n",
       "       Same srv rate    Serror rate  Srv serror rate  Dst host count  \\\n",
       "count  217628.000000  217628.000000    217628.000000   217628.000000   \n",
       "mean        0.417481       0.089564         0.542215       29.491720   \n",
       "std         0.491905       0.284547         0.467622       44.351499   \n",
       "min         0.000000       0.000000         0.000000        0.000000   \n",
       "25%         0.000000       0.000000         0.000000        0.000000   \n",
       "50%         0.000000       0.000000         0.750000        0.000000   \n",
       "75%         1.000000       0.000000         1.000000       96.000000   \n",
       "max         1.000000       1.000000         1.000000      100.000000   \n",
       "\n",
       "       Dst host srv count  Dst host same src port rate  Dst host serror rate  \\\n",
       "count       217628.000000                217628.000000         217628.000000   \n",
       "mean            31.876730                     0.071694              0.066464   \n",
       "std             43.928101                     0.256081              0.248495   \n",
       "min              0.000000                     0.000000              0.000000   \n",
       "25%              0.000000                     0.000000              0.000000   \n",
       "50%              1.000000                     0.000000              0.000000   \n",
       "75%             96.000000                     0.000000              0.000000   \n",
       "max            100.000000                     1.000000              1.000000   \n",
       "\n",
       "       Dst host srv serror rate    attack_flag       src port       dst port  \n",
       "count             217628.000000  217628.000000  217628.000000  217628.000000  \n",
       "mean                   0.146028       0.688859   34292.130006    3550.084736  \n",
       "std                    0.350052       0.462961   19708.835701   10869.634486  \n",
       "min                    0.000000       0.000000       0.000000       0.000000  \n",
       "25%                    0.000000       0.000000   12375.000000      25.000000  \n",
       "50%                    0.000000       1.000000   39682.000000      53.000000  \n",
       "75%                    0.000000       1.000000   50473.000000    1433.000000  \n",
       "max                    1.000000       1.000000   65535.000000   65498.000000  "
      ]
     },
     "execution_count": 102,
     "metadata": {},
     "output_type": "execute_result"
    }
   ],
   "source": [
    "data.describe()"
   ]
  },
  {
   "cell_type": "code",
   "execution_count": 103,
   "metadata": {},
   "outputs": [
    {
     "data": {
      "text/plain": [
       "(217628, 18)"
      ]
     },
     "execution_count": 103,
     "metadata": {},
     "output_type": "execute_result"
    }
   ],
   "source": [
    "# removing NaNs\n",
    "data = data.dropna()\n",
    "data.shape"
   ]
  },
  {
   "cell_type": "code",
   "execution_count": 104,
   "metadata": {},
   "outputs": [
    {
     "data": {
      "text/plain": [
       "S0        127464\n",
       "SF         59944\n",
       "RSTO       11476\n",
       "OTH         8640\n",
       "REJ         7998\n",
       "RSTRH        733\n",
       "RSTOS0       634\n",
       "SHR          381\n",
       "RSTR         304\n",
       "S1            52\n",
       "SH             2\n",
       "Name: Conn state, dtype: int64"
      ]
     },
     "execution_count": 104,
     "metadata": {},
     "output_type": "execute_result"
    }
   ],
   "source": [
    "data[\"Conn state\"].value_counts(dropna=False)"
   ]
  },
  {
   "cell_type": "code",
   "execution_count": 105,
   "metadata": {},
   "outputs": [
    {
     "data": {
      "text/plain": [
       "other    126080\n",
       "dns       61990\n",
       "sip       16519\n",
       "ssh       11518\n",
       "snmp        665\n",
       "smtp        495\n",
       "rdp         328\n",
       "dhcp         20\n",
       "http         11\n",
       "ssl           2\n",
       "Name: service, dtype: int64"
      ]
     },
     "execution_count": 105,
     "metadata": {},
     "output_type": "execute_result"
    }
   ],
   "source": [
    "data[\"service\"].value_counts(dropna=False)"
   ]
  },
  {
   "cell_type": "code",
   "execution_count": 106,
   "metadata": {},
   "outputs": [
    {
     "data": {
      "text/plain": [
       "tcp     119162\n",
       "udp      93548\n",
       "icmp      4918\n",
       "Name: proto, dtype: int64"
      ]
     },
     "execution_count": 106,
     "metadata": {},
     "output_type": "execute_result"
    }
   ],
   "source": [
    "data[\"proto\"].value_counts(dropna=False)"
   ]
  },
  {
   "cell_type": "markdown",
   "metadata": {},
   "source": [
    "# a bit of feature engineering"
   ]
  },
  {
   "cell_type": "markdown",
   "metadata": {},
   "source": [
    "## port numbers classification"
   ]
  },
  {
   "cell_type": "code",
   "execution_count": 107,
   "metadata": {},
   "outputs": [],
   "source": [
    "t1 = 1023  # well-known port numbers\n",
    "t2 = 49151 # registered ports\n",
    "t3 = 65535 # client ports\n",
    "\n",
    "def wk(data_row):\n",
    "    if (data_row[\"src port\"] <= t1): \n",
    "        value = 1\n",
    "    elif ((data_row[\"src port\"] > t1) and (data_row[\"src port\"] <= t2)):\n",
    "        value = 0\n",
    "    elif ((data_row[\"src port\"] > t2) and (data_row[\"src port\"] <= t3)):\n",
    "        value = 0\n",
    "    return value\n",
    "\n",
    "def reg(data_row):\n",
    "    if (data_row[\"src port\"] <= t1): \n",
    "        value = 0\n",
    "    elif ((data_row[\"src port\"] > t1) and (data_row[\"src port\"] <= t2)):\n",
    "        value = 1\n",
    "    elif ((data_row[\"src port\"] > t2) and (data_row[\"src port\"] <= t3)):\n",
    "        value = 0\n",
    "    return value\n",
    "\n",
    "def cli(data_row):\n",
    "    if (data_row[\"src port\"] <= t1): \n",
    "        value = 0\n",
    "    elif ((data_row[\"src port\"] > t1) and (data_row[\"src port\"] <= t2)):\n",
    "        value = 0\n",
    "    elif ((data_row[\"src port\"] > t2) and (data_row[\"src port\"] <= t3)):\n",
    "        value = 1\n",
    "    return value\n",
    "\n",
    "data[\"well-known src pool\"] = data.apply(wk, axis=1)\n",
    "data[\"registered src pool\"] = data.apply(reg, axis=1)\n",
    "data[\"cli src pool\"] = data.apply(cli, axis=1)"
   ]
  },
  {
   "cell_type": "code",
   "execution_count": 108,
   "metadata": {},
   "outputs": [
    {
     "name": "stdout",
     "output_type": "stream",
     "text": [
      "Counter({0: 211216, 1: 6412})\n",
      "Counter({1: 150534, 0: 67094})\n",
      "Counter({0: 156946, 1: 60682})\n"
     ]
    }
   ],
   "source": [
    "print(Counter(data[\"well-known src pool\"]))\n",
    "print(Counter(data[\"registered src pool\"]))\n",
    "print(Counter(data[\"cli src pool\"]))"
   ]
  },
  {
   "cell_type": "code",
   "execution_count": 109,
   "metadata": {},
   "outputs": [],
   "source": [
    "# def wk(data_row):\n",
    "#     if (data_row[\"dst port\"] <= t1): \n",
    "#         value = 1\n",
    "#     elif ((data_row[\"dst port\"] > t1) and (data_row[\"dst port\"] <= t2)):\n",
    "#         value = 0\n",
    "#     elif ((data_row[\"dst port\"] > t2) and (data_row[\"dst port\"] <= t3)):\n",
    "#         value = 0\n",
    "#     return value\n",
    "\n",
    "# def reg(data_row):\n",
    "#     if (data_row[\"dst port\"] <= t1): \n",
    "#         value = 0\n",
    "#     elif ((data_row[\"dst port\"] > t1) and (data_row[\"dst port\"] <= t2)):\n",
    "#         value = 1\n",
    "#     elif ((data_row[\"dst port\"] > t2) and (data_row[\"dst port\"] <= t3)):\n",
    "#         value = 0\n",
    "#     return value\n",
    "\n",
    "# def cli(data_row):\n",
    "#     if (data_row[\"dst port\"] <= t1): \n",
    "#         value = 0\n",
    "#     elif ((data_row[\"dst port\"] > t1) and (data_row[\"dst port\"] <= t2)):\n",
    "#         value = 0\n",
    "#     elif ((data_row[\"dst port\"] > t2) and (data_row[\"dst port\"] <= t3)):\n",
    "#         value = 1\n",
    "#     return value\n",
    "\n",
    "# data[\"well-known dst pool\"] = data.apply(wk, axis=1)\n",
    "# data[\"registered dst pool\"] = data.apply(reg, axis=1)\n",
    "# data[\"cli dst pool\"] = data.apply(cli, axis=1)"
   ]
  },
  {
   "cell_type": "code",
   "execution_count": 110,
   "metadata": {},
   "outputs": [],
   "source": [
    "# print(Counter(data[\"well-known dst pool\"]))\n",
    "# print(Counter(data[\"registered dst pool\"]))\n",
    "# print(Counter(data[\"cli dst pool\"]))"
   ]
  },
  {
   "cell_type": "code",
   "execution_count": 111,
   "metadata": {
    "scrolled": true
   },
   "outputs": [
    {
     "name": "stdout",
     "output_type": "stream",
     "text": [
      "<class 'pandas.core.frame.DataFrame'>\n",
      "Int64Index: 217628 entries, 0 to 217627\n",
      "Data columns (total 21 columns):\n",
      "conn len                       217628 non-null float64\n",
      "service                        217628 non-null object\n",
      "src bytes                      217628 non-null int64\n",
      "dst bytes                      217628 non-null int64\n",
      "conn numb                      217628 non-null int64\n",
      "Same srv rate                  217628 non-null float64\n",
      "Serror rate                    217628 non-null float64\n",
      "Srv serror rate                217628 non-null float64\n",
      "Dst host count                 217628 non-null int64\n",
      "Dst host srv count             217628 non-null int64\n",
      "Dst host same src port rate    217628 non-null float64\n",
      "Dst host serror rate           217628 non-null float64\n",
      "Dst host srv serror rate       217628 non-null float64\n",
      "Conn state                     217628 non-null object\n",
      "attack_flag                    217628 non-null int64\n",
      "src port                       217628 non-null int64\n",
      "dst port                       217628 non-null int64\n",
      "proto                          217628 non-null object\n",
      "well-known src pool            217628 non-null int64\n",
      "registered src pool            217628 non-null int64\n",
      "cli src pool                   217628 non-null int64\n",
      "dtypes: float64(7), int64(11), object(3)\n",
      "memory usage: 36.5+ MB\n"
     ]
    }
   ],
   "source": [
    "data.info()"
   ]
  },
  {
   "cell_type": "code",
   "execution_count": 112,
   "metadata": {},
   "outputs": [
    {
     "data": {
      "text/html": [
       "<div>\n",
       "<style scoped>\n",
       "    .dataframe tbody tr th:only-of-type {\n",
       "        vertical-align: middle;\n",
       "    }\n",
       "\n",
       "    .dataframe tbody tr th {\n",
       "        vertical-align: top;\n",
       "    }\n",
       "\n",
       "    .dataframe thead th {\n",
       "        text-align: right;\n",
       "    }\n",
       "</style>\n",
       "<table border=\"1\" class=\"dataframe\">\n",
       "  <thead>\n",
       "    <tr style=\"text-align: right;\">\n",
       "      <th></th>\n",
       "      <th>src port</th>\n",
       "      <th>dst port</th>\n",
       "      <th>well-known src pool</th>\n",
       "      <th>registered src pool</th>\n",
       "      <th>cli src pool</th>\n",
       "    </tr>\n",
       "  </thead>\n",
       "  <tbody>\n",
       "    <tr>\n",
       "      <th>0</th>\n",
       "      <td>40061</td>\n",
       "      <td>111</td>\n",
       "      <td>0</td>\n",
       "      <td>1</td>\n",
       "      <td>0</td>\n",
       "    </tr>\n",
       "    <tr>\n",
       "      <th>1</th>\n",
       "      <td>53488</td>\n",
       "      <td>80</td>\n",
       "      <td>0</td>\n",
       "      <td>0</td>\n",
       "      <td>1</td>\n",
       "    </tr>\n",
       "    <tr>\n",
       "      <th>2</th>\n",
       "      <td>35051</td>\n",
       "      <td>23</td>\n",
       "      <td>0</td>\n",
       "      <td>1</td>\n",
       "      <td>0</td>\n",
       "    </tr>\n",
       "    <tr>\n",
       "      <th>3</th>\n",
       "      <td>1408</td>\n",
       "      <td>445</td>\n",
       "      <td>0</td>\n",
       "      <td>1</td>\n",
       "      <td>0</td>\n",
       "    </tr>\n",
       "    <tr>\n",
       "      <th>4</th>\n",
       "      <td>55244</td>\n",
       "      <td>995</td>\n",
       "      <td>0</td>\n",
       "      <td>0</td>\n",
       "      <td>1</td>\n",
       "    </tr>\n",
       "    <tr>\n",
       "      <th>5</th>\n",
       "      <td>44544</td>\n",
       "      <td>995</td>\n",
       "      <td>0</td>\n",
       "      <td>1</td>\n",
       "      <td>0</td>\n",
       "    </tr>\n",
       "    <tr>\n",
       "      <th>6</th>\n",
       "      <td>50678</td>\n",
       "      <td>5900</td>\n",
       "      <td>0</td>\n",
       "      <td>0</td>\n",
       "      <td>1</td>\n",
       "    </tr>\n",
       "    <tr>\n",
       "      <th>7</th>\n",
       "      <td>35051</td>\n",
       "      <td>23</td>\n",
       "      <td>0</td>\n",
       "      <td>1</td>\n",
       "      <td>0</td>\n",
       "    </tr>\n",
       "    <tr>\n",
       "      <th>8</th>\n",
       "      <td>50678</td>\n",
       "      <td>5900</td>\n",
       "      <td>0</td>\n",
       "      <td>0</td>\n",
       "      <td>1</td>\n",
       "    </tr>\n",
       "    <tr>\n",
       "      <th>9</th>\n",
       "      <td>50678</td>\n",
       "      <td>5900</td>\n",
       "      <td>0</td>\n",
       "      <td>0</td>\n",
       "      <td>1</td>\n",
       "    </tr>\n",
       "    <tr>\n",
       "      <th>10</th>\n",
       "      <td>59625</td>\n",
       "      <td>21</td>\n",
       "      <td>0</td>\n",
       "      <td>0</td>\n",
       "      <td>1</td>\n",
       "    </tr>\n",
       "    <tr>\n",
       "      <th>11</th>\n",
       "      <td>42626</td>\n",
       "      <td>111</td>\n",
       "      <td>0</td>\n",
       "      <td>1</td>\n",
       "      <td>0</td>\n",
       "    </tr>\n",
       "    <tr>\n",
       "      <th>12</th>\n",
       "      <td>2194</td>\n",
       "      <td>445</td>\n",
       "      <td>0</td>\n",
       "      <td>1</td>\n",
       "      <td>0</td>\n",
       "    </tr>\n",
       "    <tr>\n",
       "      <th>13</th>\n",
       "      <td>7432</td>\n",
       "      <td>22</td>\n",
       "      <td>0</td>\n",
       "      <td>1</td>\n",
       "      <td>0</td>\n",
       "    </tr>\n",
       "    <tr>\n",
       "      <th>14</th>\n",
       "      <td>7206</td>\n",
       "      <td>80</td>\n",
       "      <td>0</td>\n",
       "      <td>1</td>\n",
       "      <td>0</td>\n",
       "    </tr>\n",
       "    <tr>\n",
       "      <th>15</th>\n",
       "      <td>55133</td>\n",
       "      <td>53</td>\n",
       "      <td>0</td>\n",
       "      <td>0</td>\n",
       "      <td>1</td>\n",
       "    </tr>\n",
       "    <tr>\n",
       "      <th>16</th>\n",
       "      <td>60169</td>\n",
       "      <td>80</td>\n",
       "      <td>0</td>\n",
       "      <td>0</td>\n",
       "      <td>1</td>\n",
       "    </tr>\n",
       "    <tr>\n",
       "      <th>17</th>\n",
       "      <td>63030</td>\n",
       "      <td>2222</td>\n",
       "      <td>0</td>\n",
       "      <td>0</td>\n",
       "      <td>1</td>\n",
       "    </tr>\n",
       "    <tr>\n",
       "      <th>18</th>\n",
       "      <td>31905</td>\n",
       "      <td>445</td>\n",
       "      <td>0</td>\n",
       "      <td>1</td>\n",
       "      <td>0</td>\n",
       "    </tr>\n",
       "    <tr>\n",
       "      <th>19</th>\n",
       "      <td>59625</td>\n",
       "      <td>21</td>\n",
       "      <td>0</td>\n",
       "      <td>0</td>\n",
       "      <td>1</td>\n",
       "    </tr>\n",
       "    <tr>\n",
       "      <th>20</th>\n",
       "      <td>36939</td>\n",
       "      <td>111</td>\n",
       "      <td>0</td>\n",
       "      <td>1</td>\n",
       "      <td>0</td>\n",
       "    </tr>\n",
       "    <tr>\n",
       "      <th>21</th>\n",
       "      <td>7432</td>\n",
       "      <td>22</td>\n",
       "      <td>0</td>\n",
       "      <td>1</td>\n",
       "      <td>0</td>\n",
       "    </tr>\n",
       "    <tr>\n",
       "      <th>22</th>\n",
       "      <td>25385</td>\n",
       "      <td>445</td>\n",
       "      <td>0</td>\n",
       "      <td>1</td>\n",
       "      <td>0</td>\n",
       "    </tr>\n",
       "    <tr>\n",
       "      <th>23</th>\n",
       "      <td>36877</td>\n",
       "      <td>2332</td>\n",
       "      <td>0</td>\n",
       "      <td>1</td>\n",
       "      <td>0</td>\n",
       "    </tr>\n",
       "    <tr>\n",
       "      <th>24</th>\n",
       "      <td>7206</td>\n",
       "      <td>80</td>\n",
       "      <td>0</td>\n",
       "      <td>1</td>\n",
       "      <td>0</td>\n",
       "    </tr>\n",
       "    <tr>\n",
       "      <th>25</th>\n",
       "      <td>56346</td>\n",
       "      <td>8888</td>\n",
       "      <td>0</td>\n",
       "      <td>0</td>\n",
       "      <td>1</td>\n",
       "    </tr>\n",
       "    <tr>\n",
       "      <th>26</th>\n",
       "      <td>37854</td>\n",
       "      <td>445</td>\n",
       "      <td>0</td>\n",
       "      <td>1</td>\n",
       "      <td>0</td>\n",
       "    </tr>\n",
       "    <tr>\n",
       "      <th>27</th>\n",
       "      <td>56248</td>\n",
       "      <td>445</td>\n",
       "      <td>0</td>\n",
       "      <td>0</td>\n",
       "      <td>1</td>\n",
       "    </tr>\n",
       "    <tr>\n",
       "      <th>28</th>\n",
       "      <td>38273</td>\n",
       "      <td>1080</td>\n",
       "      <td>0</td>\n",
       "      <td>1</td>\n",
       "      <td>0</td>\n",
       "    </tr>\n",
       "    <tr>\n",
       "      <th>29</th>\n",
       "      <td>3026</td>\n",
       "      <td>445</td>\n",
       "      <td>0</td>\n",
       "      <td>1</td>\n",
       "      <td>0</td>\n",
       "    </tr>\n",
       "  </tbody>\n",
       "</table>\n",
       "</div>"
      ],
      "text/plain": [
       "    src port  dst port  well-known src pool  registered src pool  cli src pool\n",
       "0      40061       111                    0                    1             0\n",
       "1      53488        80                    0                    0             1\n",
       "2      35051        23                    0                    1             0\n",
       "3       1408       445                    0                    1             0\n",
       "4      55244       995                    0                    0             1\n",
       "5      44544       995                    0                    1             0\n",
       "6      50678      5900                    0                    0             1\n",
       "7      35051        23                    0                    1             0\n",
       "8      50678      5900                    0                    0             1\n",
       "9      50678      5900                    0                    0             1\n",
       "10     59625        21                    0                    0             1\n",
       "11     42626       111                    0                    1             0\n",
       "12      2194       445                    0                    1             0\n",
       "13      7432        22                    0                    1             0\n",
       "14      7206        80                    0                    1             0\n",
       "15     55133        53                    0                    0             1\n",
       "16     60169        80                    0                    0             1\n",
       "17     63030      2222                    0                    0             1\n",
       "18     31905       445                    0                    1             0\n",
       "19     59625        21                    0                    0             1\n",
       "20     36939       111                    0                    1             0\n",
       "21      7432        22                    0                    1             0\n",
       "22     25385       445                    0                    1             0\n",
       "23     36877      2332                    0                    1             0\n",
       "24      7206        80                    0                    1             0\n",
       "25     56346      8888                    0                    0             1\n",
       "26     37854       445                    0                    1             0\n",
       "27     56248       445                    0                    0             1\n",
       "28     38273      1080                    0                    1             0\n",
       "29      3026       445                    0                    1             0"
      ]
     },
     "execution_count": 112,
     "metadata": {},
     "output_type": "execute_result"
    }
   ],
   "source": [
    "# data.loc[:, [\"src port\", \"dst port\", \"well-known src pool\", \"registered src pool\", \"cli src pool\", \"well-known dst pool\", \"registered dst pool\", \"cli dst pool\"]].head(30)\n",
    "data.loc[:, [\"src port\", \"dst port\", \"well-known src pool\", \"registered src pool\", \"cli src pool\"]].head(30)"
   ]
  },
  {
   "cell_type": "markdown",
   "metadata": {},
   "source": [
    "## Change port number info to categorical"
   ]
  },
  {
   "cell_type": "code",
   "execution_count": 113,
   "metadata": {},
   "outputs": [],
   "source": [
    "data[\"src port\"] = data[\"src port\"].apply(str)\n",
    "data[\"dst port\"] = data[\"dst port\"].apply(str)\n",
    "data['src port'].nunique()\n",
    "data['dst port'].nunique()\n",
    "\n",
    "thresh1 = 125\n",
    "thresh2 = 125\n",
    "counts1 = data['src port'].value_counts()\n",
    "counts2 = data['dst port'].value_counts()\n",
    "\n",
    "repl1 = counts1[counts1 <= thresh1].index\n",
    "repl2 = counts2[counts2 <= thresh2].index\n",
    "\n",
    "#hot one encoding for src port numbers\n",
    "data = pd.concat([data, pd.get_dummies(data[\"src port\"].replace(repl1, 'other_src'), prefix=\"is_src\")], axis=1)\n",
    "\n",
    "#hot one encoding for dst port numbers\n",
    "data = pd.concat([data, pd.get_dummies(data[\"dst port\"].replace(repl2, 'other_dst'), prefix=\"is_dst\")], axis=1)"
   ]
  },
  {
   "cell_type": "code",
   "execution_count": 114,
   "metadata": {},
   "outputs": [
    {
     "data": {
      "text/plain": [
       "(217628, 214)"
      ]
     },
     "execution_count": 114,
     "metadata": {},
     "output_type": "execute_result"
    }
   ],
   "source": [
    "data.shape"
   ]
  },
  {
   "cell_type": "markdown",
   "metadata": {},
   "source": [
    "## Hot one encoding"
   ]
  },
  {
   "cell_type": "code",
   "execution_count": 115,
   "metadata": {},
   "outputs": [
    {
     "data": {
      "text/html": [
       "<div>\n",
       "<style scoped>\n",
       "    .dataframe tbody tr th:only-of-type {\n",
       "        vertical-align: middle;\n",
       "    }\n",
       "\n",
       "    .dataframe tbody tr th {\n",
       "        vertical-align: top;\n",
       "    }\n",
       "\n",
       "    .dataframe thead th {\n",
       "        text-align: right;\n",
       "    }\n",
       "</style>\n",
       "<table border=\"1\" class=\"dataframe\">\n",
       "  <thead>\n",
       "    <tr style=\"text-align: right;\">\n",
       "      <th></th>\n",
       "      <th>conn len</th>\n",
       "      <th>service</th>\n",
       "      <th>src bytes</th>\n",
       "      <th>dst bytes</th>\n",
       "      <th>conn numb</th>\n",
       "      <th>Same srv rate</th>\n",
       "      <th>Serror rate</th>\n",
       "      <th>Srv serror rate</th>\n",
       "      <th>Dst host count</th>\n",
       "      <th>Dst host srv count</th>\n",
       "      <th>...</th>\n",
       "      <th>state_REJ</th>\n",
       "      <th>state_RSTO</th>\n",
       "      <th>state_RSTOS0</th>\n",
       "      <th>state_RSTR</th>\n",
       "      <th>state_RSTRH</th>\n",
       "      <th>state_S0</th>\n",
       "      <th>state_S1</th>\n",
       "      <th>state_SF</th>\n",
       "      <th>state_SH</th>\n",
       "      <th>state_SHR</th>\n",
       "    </tr>\n",
       "  </thead>\n",
       "  <tbody>\n",
       "    <tr>\n",
       "      <th>217618</th>\n",
       "      <td>0.410043</td>\n",
       "      <td>other</td>\n",
       "      <td>150</td>\n",
       "      <td>0</td>\n",
       "      <td>0</td>\n",
       "      <td>0.0</td>\n",
       "      <td>0.0</td>\n",
       "      <td>1.0</td>\n",
       "      <td>0</td>\n",
       "      <td>0</td>\n",
       "      <td>...</td>\n",
       "      <td>0</td>\n",
       "      <td>0</td>\n",
       "      <td>0</td>\n",
       "      <td>0</td>\n",
       "      <td>0</td>\n",
       "      <td>1</td>\n",
       "      <td>0</td>\n",
       "      <td>0</td>\n",
       "      <td>0</td>\n",
       "      <td>0</td>\n",
       "    </tr>\n",
       "    <tr>\n",
       "      <th>217619</th>\n",
       "      <td>0.000000</td>\n",
       "      <td>other</td>\n",
       "      <td>0</td>\n",
       "      <td>0</td>\n",
       "      <td>0</td>\n",
       "      <td>0.0</td>\n",
       "      <td>0.0</td>\n",
       "      <td>1.0</td>\n",
       "      <td>0</td>\n",
       "      <td>0</td>\n",
       "      <td>...</td>\n",
       "      <td>0</td>\n",
       "      <td>0</td>\n",
       "      <td>0</td>\n",
       "      <td>0</td>\n",
       "      <td>0</td>\n",
       "      <td>0</td>\n",
       "      <td>0</td>\n",
       "      <td>0</td>\n",
       "      <td>0</td>\n",
       "      <td>0</td>\n",
       "    </tr>\n",
       "    <tr>\n",
       "      <th>217620</th>\n",
       "      <td>1.215994</td>\n",
       "      <td>other</td>\n",
       "      <td>60</td>\n",
       "      <td>0</td>\n",
       "      <td>0</td>\n",
       "      <td>0.0</td>\n",
       "      <td>0.0</td>\n",
       "      <td>0.0</td>\n",
       "      <td>0</td>\n",
       "      <td>0</td>\n",
       "      <td>...</td>\n",
       "      <td>0</td>\n",
       "      <td>0</td>\n",
       "      <td>0</td>\n",
       "      <td>0</td>\n",
       "      <td>0</td>\n",
       "      <td>1</td>\n",
       "      <td>0</td>\n",
       "      <td>0</td>\n",
       "      <td>0</td>\n",
       "      <td>0</td>\n",
       "    </tr>\n",
       "    <tr>\n",
       "      <th>217621</th>\n",
       "      <td>0.000000</td>\n",
       "      <td>dns</td>\n",
       "      <td>0</td>\n",
       "      <td>0</td>\n",
       "      <td>0</td>\n",
       "      <td>0.0</td>\n",
       "      <td>0.0</td>\n",
       "      <td>0.0</td>\n",
       "      <td>0</td>\n",
       "      <td>0</td>\n",
       "      <td>...</td>\n",
       "      <td>0</td>\n",
       "      <td>0</td>\n",
       "      <td>0</td>\n",
       "      <td>0</td>\n",
       "      <td>0</td>\n",
       "      <td>1</td>\n",
       "      <td>0</td>\n",
       "      <td>0</td>\n",
       "      <td>0</td>\n",
       "      <td>0</td>\n",
       "    </tr>\n",
       "    <tr>\n",
       "      <th>217622</th>\n",
       "      <td>0.000000</td>\n",
       "      <td>other</td>\n",
       "      <td>0</td>\n",
       "      <td>0</td>\n",
       "      <td>0</td>\n",
       "      <td>0.0</td>\n",
       "      <td>0.0</td>\n",
       "      <td>1.0</td>\n",
       "      <td>0</td>\n",
       "      <td>0</td>\n",
       "      <td>...</td>\n",
       "      <td>0</td>\n",
       "      <td>0</td>\n",
       "      <td>0</td>\n",
       "      <td>0</td>\n",
       "      <td>0</td>\n",
       "      <td>1</td>\n",
       "      <td>0</td>\n",
       "      <td>0</td>\n",
       "      <td>0</td>\n",
       "      <td>0</td>\n",
       "    </tr>\n",
       "    <tr>\n",
       "      <th>217623</th>\n",
       "      <td>0.000000</td>\n",
       "      <td>other</td>\n",
       "      <td>0</td>\n",
       "      <td>0</td>\n",
       "      <td>1</td>\n",
       "      <td>1.0</td>\n",
       "      <td>1.0</td>\n",
       "      <td>1.0</td>\n",
       "      <td>0</td>\n",
       "      <td>1</td>\n",
       "      <td>...</td>\n",
       "      <td>0</td>\n",
       "      <td>0</td>\n",
       "      <td>0</td>\n",
       "      <td>0</td>\n",
       "      <td>0</td>\n",
       "      <td>1</td>\n",
       "      <td>0</td>\n",
       "      <td>0</td>\n",
       "      <td>0</td>\n",
       "      <td>0</td>\n",
       "    </tr>\n",
       "    <tr>\n",
       "      <th>217624</th>\n",
       "      <td>0.000000</td>\n",
       "      <td>other</td>\n",
       "      <td>0</td>\n",
       "      <td>0</td>\n",
       "      <td>0</td>\n",
       "      <td>0.0</td>\n",
       "      <td>0.0</td>\n",
       "      <td>1.0</td>\n",
       "      <td>2</td>\n",
       "      <td>2</td>\n",
       "      <td>...</td>\n",
       "      <td>0</td>\n",
       "      <td>0</td>\n",
       "      <td>0</td>\n",
       "      <td>0</td>\n",
       "      <td>0</td>\n",
       "      <td>1</td>\n",
       "      <td>0</td>\n",
       "      <td>0</td>\n",
       "      <td>0</td>\n",
       "      <td>0</td>\n",
       "    </tr>\n",
       "    <tr>\n",
       "      <th>217625</th>\n",
       "      <td>0.000000</td>\n",
       "      <td>other</td>\n",
       "      <td>0</td>\n",
       "      <td>0</td>\n",
       "      <td>0</td>\n",
       "      <td>0.0</td>\n",
       "      <td>0.0</td>\n",
       "      <td>1.0</td>\n",
       "      <td>0</td>\n",
       "      <td>0</td>\n",
       "      <td>...</td>\n",
       "      <td>0</td>\n",
       "      <td>0</td>\n",
       "      <td>0</td>\n",
       "      <td>0</td>\n",
       "      <td>0</td>\n",
       "      <td>1</td>\n",
       "      <td>0</td>\n",
       "      <td>0</td>\n",
       "      <td>0</td>\n",
       "      <td>0</td>\n",
       "    </tr>\n",
       "    <tr>\n",
       "      <th>217626</th>\n",
       "      <td>0.000000</td>\n",
       "      <td>other</td>\n",
       "      <td>0</td>\n",
       "      <td>0</td>\n",
       "      <td>1</td>\n",
       "      <td>1.0</td>\n",
       "      <td>1.0</td>\n",
       "      <td>1.0</td>\n",
       "      <td>0</td>\n",
       "      <td>1</td>\n",
       "      <td>...</td>\n",
       "      <td>0</td>\n",
       "      <td>0</td>\n",
       "      <td>0</td>\n",
       "      <td>0</td>\n",
       "      <td>0</td>\n",
       "      <td>1</td>\n",
       "      <td>0</td>\n",
       "      <td>0</td>\n",
       "      <td>0</td>\n",
       "      <td>0</td>\n",
       "    </tr>\n",
       "    <tr>\n",
       "      <th>217627</th>\n",
       "      <td>0.000000</td>\n",
       "      <td>other</td>\n",
       "      <td>0</td>\n",
       "      <td>0</td>\n",
       "      <td>0</td>\n",
       "      <td>0.0</td>\n",
       "      <td>0.0</td>\n",
       "      <td>1.0</td>\n",
       "      <td>0</td>\n",
       "      <td>0</td>\n",
       "      <td>...</td>\n",
       "      <td>0</td>\n",
       "      <td>0</td>\n",
       "      <td>0</td>\n",
       "      <td>0</td>\n",
       "      <td>0</td>\n",
       "      <td>1</td>\n",
       "      <td>0</td>\n",
       "      <td>0</td>\n",
       "      <td>0</td>\n",
       "      <td>0</td>\n",
       "    </tr>\n",
       "  </tbody>\n",
       "</table>\n",
       "<p>10 rows × 238 columns</p>\n",
       "</div>"
      ],
      "text/plain": [
       "        conn len service  src bytes  dst bytes  conn numb  Same srv rate  \\\n",
       "217618  0.410043   other        150          0          0            0.0   \n",
       "217619  0.000000   other          0          0          0            0.0   \n",
       "217620  1.215994   other         60          0          0            0.0   \n",
       "217621  0.000000     dns          0          0          0            0.0   \n",
       "217622  0.000000   other          0          0          0            0.0   \n",
       "217623  0.000000   other          0          0          1            1.0   \n",
       "217624  0.000000   other          0          0          0            0.0   \n",
       "217625  0.000000   other          0          0          0            0.0   \n",
       "217626  0.000000   other          0          0          1            1.0   \n",
       "217627  0.000000   other          0          0          0            0.0   \n",
       "\n",
       "        Serror rate  Srv serror rate  Dst host count  Dst host srv count  \\\n",
       "217618          0.0              1.0               0                   0   \n",
       "217619          0.0              1.0               0                   0   \n",
       "217620          0.0              0.0               0                   0   \n",
       "217621          0.0              0.0               0                   0   \n",
       "217622          0.0              1.0               0                   0   \n",
       "217623          1.0              1.0               0                   1   \n",
       "217624          0.0              1.0               2                   2   \n",
       "217625          0.0              1.0               0                   0   \n",
       "217626          1.0              1.0               0                   1   \n",
       "217627          0.0              1.0               0                   0   \n",
       "\n",
       "          ...      state_REJ  state_RSTO  state_RSTOS0 state_RSTR  \\\n",
       "217618    ...              0           0             0          0   \n",
       "217619    ...              0           0             0          0   \n",
       "217620    ...              0           0             0          0   \n",
       "217621    ...              0           0             0          0   \n",
       "217622    ...              0           0             0          0   \n",
       "217623    ...              0           0             0          0   \n",
       "217624    ...              0           0             0          0   \n",
       "217625    ...              0           0             0          0   \n",
       "217626    ...              0           0             0          0   \n",
       "217627    ...              0           0             0          0   \n",
       "\n",
       "        state_RSTRH state_S0 state_S1 state_SF  state_SH  state_SHR  \n",
       "217618            0        1        0        0         0          0  \n",
       "217619            0        0        0        0         0          0  \n",
       "217620            0        1        0        0         0          0  \n",
       "217621            0        1        0        0         0          0  \n",
       "217622            0        1        0        0         0          0  \n",
       "217623            0        1        0        0         0          0  \n",
       "217624            0        1        0        0         0          0  \n",
       "217625            0        1        0        0         0          0  \n",
       "217626            0        1        0        0         0          0  \n",
       "217627            0        1        0        0         0          0  \n",
       "\n",
       "[10 rows x 238 columns]"
      ]
     },
     "execution_count": 115,
     "metadata": {},
     "output_type": "execute_result"
    }
   ],
   "source": [
    "### hot one encoding ###\n",
    "\n",
    "# hot one encoding for service\n",
    "data = pd.concat([data, pd.get_dummies(data[\"service\"], prefix=\"is\")], axis=1)\n",
    "data.tail(10)\n",
    "\n",
    "#hot one encoding for proto - commented due to reduced column number\n",
    "data = pd.concat([data, pd.get_dummies(data[\"proto\"], prefix=\"is\")], axis=1)\n",
    "data.tail(10)\n",
    "\n",
    "# hot one encoding for conn state\n",
    "data = pd.concat([data, pd.get_dummies(data[\"Conn state\"], prefix=\"state\")], axis=1)\n",
    "data.tail(10)"
   ]
  },
  {
   "cell_type": "code",
   "execution_count": 116,
   "metadata": {},
   "outputs": [
    {
     "name": "stdout",
     "output_type": "stream",
     "text": [
      "<class 'pandas.core.frame.DataFrame'>\n",
      "Int64Index: 217628 entries, 0 to 217627\n",
      "Columns: 238 entries, conn len to state_SHR\n",
      "dtypes: float64(7), int64(9), object(5), uint8(217)\n",
      "memory usage: 81.6+ MB\n"
     ]
    }
   ],
   "source": [
    "data.info()"
   ]
  },
  {
   "cell_type": "markdown",
   "metadata": {},
   "source": [
    "## Data visualization"
   ]
  },
  {
   "cell_type": "code",
   "execution_count": 117,
   "metadata": {},
   "outputs": [
    {
     "data": {
      "image/png": "[encoded data removed]",
      "text/plain": [
       "<matplotlib.figure.Figure at 0x7f0ec6a5d710>"
      ]
     },
     "metadata": {
      "needs_background": "light"
     },
     "output_type": "display_data"
    },
    {
     "data": {
      "image/png": "[encoded data removed]",
      "text/plain": [
       "<matplotlib.figure.Figure at 0x7f0e6d6a08d0>"
      ]
     },
     "metadata": {
      "needs_background": "light"
     },
     "output_type": "display_data"
    },
    {
     "data": {
      "image/png": "[encoded data removed]",
      "text/plain": [
       "<matplotlib.figure.Figure at 0x7f0efe409438>"
      ]
     },
     "metadata": {
      "needs_background": "light"
     },
     "output_type": "display_data"
    }
   ],
   "source": [
    "# hisotgrams\n",
    "\n",
    "#print(max(data['conn len']))\n",
    "data['conn len'].plot.hist(bins=500, xlim=[0,20], title=\"Connection length - histogram\")\n",
    "plt.show()\n",
    "\n",
    "#print(max(data['src bytes']))\n",
    "data['src bytes'].plot.hist(bins=500, xlim=[0,1500], title=\"Src bytes size - histogram\")\n",
    "plt.show()\n",
    "\n",
    "#print(max(data['dst bytes']))\n",
    "data['dst bytes'].plot.hist(bins=500, xlim=[0,2000], title=\"Dst bytes size - histogram\")\n",
    "plt.show()"
   ]
  },
  {
   "cell_type": "code",
   "execution_count": 118,
   "metadata": {},
   "outputs": [
    {
     "data": {
      "text/plain": [
       "Text(0.5,0.98,'')"
      ]
     },
     "execution_count": 118,
     "metadata": {},
     "output_type": "execute_result"
    },
    {
     "data": {
      "image/png": "[encoded data removed]",
      "text/plain": [
       "<matplotlib.figure.Figure at 0x7f0ed2fe84a8>"
      ]
     },
     "metadata": {
      "needs_background": "light"
     },
     "output_type": "display_data"
    },
    {
     "data": {
      "image/png": "[encoded data removed]",
      "text/plain": [
       "<matplotlib.figure.Figure at 0x7f0ed2f582e8>"
      ]
     },
     "metadata": {
      "needs_background": "light"
     },
     "output_type": "display_data"
    },
    {
     "data": {
      "image/png": "[encoded data removed]",
      "text/plain": [
       "<matplotlib.figure.Figure at 0x7f0ed2e3e438>"
      ]
     },
     "metadata": {
      "needs_background": "light"
     },
     "output_type": "display_data"
    },
    {
     "data": {
      "image/png": "[encoded data removed]",
      "text/plain": [
       "<matplotlib.figure.Figure at 0x7f0ed2de7358>"
      ]
     },
     "metadata": {
      "needs_background": "light"
     },
     "output_type": "display_data"
    }
   ],
   "source": [
    "# boxplots\n",
    "data.boxplot(column='conn len', by='service')\n",
    "plt.title(\"Connection length - boxplot\")\n",
    "plt.suptitle(\"\")\n",
    "\n",
    "data.boxplot(column='src bytes', by='service')\n",
    "plt.title(\"Source bytes - boxplot\")\n",
    "plt.suptitle(\"\")\n",
    "\n",
    "data.boxplot(column='dst bytes', by='service')\n",
    "plt.title(\"Destination bytes - boxplot\")\n",
    "plt.suptitle(\"\")\n",
    "\n",
    "data.boxplot(column='conn numb', by='service')\n",
    "plt.title(\"Connections number - boxplot\")\n",
    "plt.suptitle(\"\")"
   ]
  },
  {
   "cell_type": "code",
   "execution_count": 119,
   "metadata": {},
   "outputs": [
    {
     "data": {
      "text/plain": [
       "<matplotlib.axes._subplots.AxesSubplot at 0x7f0ed2ab0d30>"
      ]
     },
     "execution_count": 119,
     "metadata": {},
     "output_type": "execute_result"
    },
    {
     "data": {
      "image/png": "[encoded data removed]",
      "text/plain": [
       "<matplotlib.figure.Figure at 0x7f0ed2bdb2e8>"
      ]
     },
     "metadata": {
      "needs_background": "light"
     },
     "output_type": "display_data"
    },
    {
     "data": {
      "image/png": "[encoded data removed]",
      "text/plain": [
       "<matplotlib.figure.Figure at 0x7f0ed2b8c160>"
      ]
     },
     "metadata": {
      "needs_background": "light"
     },
     "output_type": "display_data"
    },
    {
     "data": {
      "image/png": "[encoded data removed]",
      "text/plain": [
       "<matplotlib.figure.Figure at 0x7f0ed2aa6e80>"
      ]
     },
     "metadata": {
      "needs_background": "light"
     },
     "output_type": "display_data"
    }
   ],
   "source": [
    "# scatter plots\n",
    "data.plot.scatter(x='src bytes', y= 'dst bytes')\n",
    "data.plot.scatter(x='conn len', y= 'src bytes')\n",
    "data.plot.scatter(x='conn len', y= 'dst bytes')"
   ]
  },
  {
   "cell_type": "code",
   "execution_count": 120,
   "metadata": {},
   "outputs": [
    {
     "data": {
      "text/plain": [
       "(217628, 238)"
      ]
     },
     "execution_count": 120,
     "metadata": {},
     "output_type": "execute_result"
    }
   ],
   "source": [
    "data.shape"
   ]
  },
  {
   "cell_type": "markdown",
   "metadata": {},
   "source": [
    "## Plot function definition"
   ]
  },
  {
   "cell_type": "code",
   "execution_count": 121,
   "metadata": {},
   "outputs": [],
   "source": [
    "# plotting method definition\n",
    "\n",
    "def plot_stats(stat, name, width, rot):\n",
    "    fig, ax = plt.subplots(figsize=(width, 4))    \n",
    "    ax.bar(range(len(stat)), list(stat.values()), align='center')\n",
    "    plt.xticks(range(len(stat)), list(stat.keys()), rotation=rot)\n",
    "    for a,b in enumerate(stat.items()):\n",
    "        ax.text(a, b[1] + max(stat.values())/60 , str(round(b[1],5)), horizontalalignment ='center', verticalalignment='baseline')\n",
    "    ax.spines['right'].set_visible(False)\n",
    "    ax.spines['top'].set_visible(False)\n",
    "    plt.title(name + \" of tested algorithms\")\n",
    "    plt.show()"
   ]
  },
  {
   "cell_type": "markdown",
   "metadata": {},
   "source": [
    "## Dataset split"
   ]
  },
  {
   "cell_type": "code",
   "execution_count": 122,
   "metadata": {},
   "outputs": [],
   "source": [
    "data.rename(columns={'Dst host count': 'Dst_host_count', \"Dst host srv count\" : \"Dst_host_srv_count\",\n",
    "                    \"Dst host same src port rate\" : \"Dst_host_same_src_port_rate\",\n",
    "                    \"Dst host serror rate\" : \"Dst_host_serror_rate\",\n",
    "                    \"Dst host srv serror rate\" : \"Dst_host_srv_serror_rate\",\n",
    "                    \"Same srv rate\" : \"Same_srv_rate\",\n",
    "                    \"Srv serror rate\" : \"Srv_serror_rate\",\n",
    "                    \"conn len\" : \"conn_len\",\n",
    "                    \"src bytes\" : \"src_bytes\",\n",
    "                    \"dst bytes\" : \"dst_bytes\",\n",
    "                    \"conn numb\" : \"conn_numb\",\n",
    "                    \"Serror rate\" : \"Serror_rate\",\n",
    "                    \"cli src pool\" : \"cli_src_pool\",\n",
    "                    \"registered src pool\" : \"registered_src_pool\",\n",
    "                    \"well-known src pool\" : \"well_known_src_pool\"\n",
    "                    }, inplace=True)"
   ]
  },
  {
   "cell_type": "code",
   "execution_count": 123,
   "metadata": {},
   "outputs": [
    {
     "name": "stdout",
     "output_type": "stream",
     "text": [
      "Counter({0: 14952, 1: 7548})\n",
      "Counter({1: 14607, 0: 7893})\n",
      "Counter({1: 86179, 0: 18821})\n"
     ]
    }
   ],
   "source": [
    "sampled_data = data.loc[range(150000), :]\n",
    "train, validate, test = np.split(sampled_data, [int(.7*len(sampled_data)), int(.85*len(sampled_data))])\n",
    "\n",
    "train = train.drop([\"service\", \"Conn state\", \"proto\", \"src port\", \"dst port\"], axis=1)\n",
    "validate = validate.drop([\"service\", \"Conn state\", \"proto\", \"src port\", \"dst port\"], axis=1)\n",
    "test = test.drop([\"service\", \"Conn state\", \"proto\", \"src port\", \"dst port\"], axis=1)\n",
    "\n",
    "train = train.sample(frac=1)\n",
    "validate = validate.sample(frac=1)\n",
    "test = test.sample(frac=1)\n",
    "\n",
    "y_train_alg = train.loc[:, \"attack_flag\"].values.ravel()\n",
    "X_train_alg = train.drop([\"attack_flag\"], axis=1)\n",
    "y_validate_alg = validate.loc[:, \"attack_flag\"].values.ravel()\n",
    "X_validate_alg = validate.drop([\"attack_flag\"], axis=1)\n",
    "y_test_alg = test.loc[:, \"attack_flag\"].values.ravel()\n",
    "X_test_alg = test.drop([\"attack_flag\"], axis=1)\n",
    "\n",
    "print(Counter(y_test_alg))\n",
    "print(Counter(y_validate_alg))\n",
    "print(Counter(y_train_alg))"
   ]
  },
  {
   "cell_type": "code",
   "execution_count": 124,
   "metadata": {},
   "outputs": [
    {
     "name": "stdout",
     "output_type": "stream",
     "text": [
      "Counter({1: 30946, 0: 1699})\n",
      "Counter({0: 22937, 1: 9707})\n",
      "Counter({1: 109262, 0: 43077})\n"
     ]
    }
   ],
   "source": [
    "train, validate, test = np.split(data, [int(.7*len(data)), int(.85*len(data))])\n",
    "\n",
    "train = train.drop([\"service\", \"Conn state\", \"proto\", \"src port\", \"dst port\"], axis=1)\n",
    "validate = validate.drop([\"service\", \"Conn state\", \"proto\", \"src port\", \"dst port\"], axis=1)\n",
    "test = test.drop([\"service\", \"Conn state\", \"proto\", \"src port\", \"dst port\"], axis=1)\n",
    "\n",
    "train = train.sample(frac=1)\n",
    "validate = validate.sample(frac=1)\n",
    "test = test.sample(frac=1)\n",
    "\n",
    "y_train = train.loc[:, \"attack_flag\"].values.ravel()\n",
    "X_train = train.drop([\"attack_flag\"], axis=1)\n",
    "y_validate = validate.loc[:, \"attack_flag\"].values.ravel()\n",
    "X_validate = validate.drop([\"attack_flag\"], axis=1)\n",
    "y_test = test.loc[:, \"attack_flag\"].values.ravel()\n",
    "X_test = test.drop([\"attack_flag\"], axis=1)\n",
    "\n",
    "print(Counter(y_test))\n",
    "print(Counter(y_validate))\n",
    "print(Counter(y_train))"
   ]
  },
  {
   "cell_type": "markdown",
   "metadata": {},
   "source": [
    "## Logistic Regression"
   ]
  },
  {
   "cell_type": "code",
   "execution_count": 30,
   "metadata": {},
   "outputs": [
    {
     "data": {
      "text/plain": [
       "{'C': 1.0,\n",
       " 'class_weight': None,\n",
       " 'dual': False,\n",
       " 'fit_intercept': True,\n",
       " 'intercept_scaling': 1,\n",
       " 'max_iter': 100,\n",
       " 'multi_class': 'warn',\n",
       " 'n_jobs': None,\n",
       " 'penalty': 'l2',\n",
       " 'random_state': None,\n",
       " 'solver': 'warn',\n",
       " 'tol': 0.0001,\n",
       " 'verbose': 0,\n",
       " 'warm_start': False}"
      ]
     },
     "execution_count": 30,
     "metadata": {},
     "output_type": "execute_result"
    }
   ],
   "source": [
    "from sklearn.model_selection import GridSearchCV\n",
    "from sklearn.linear_model import LogisticRegression\n",
    "\n",
    "LogisticRegression().get_params()"
   ]
  },
  {
   "cell_type": "code",
   "execution_count": 31,
   "metadata": {},
   "outputs": [],
   "source": [
    "hyperparams = {'solver' : ['newton-cg', 'lbfgs', 'sag']}"
   ]
  },
  {
   "cell_type": "code",
   "execution_count": 32,
   "metadata": {},
   "outputs": [],
   "source": [
    "#sorted(metrics.SCORERS.keys())"
   ]
  },
  {
   "cell_type": "code",
   "execution_count": 33,
   "metadata": {},
   "outputs": [],
   "source": [
    "# clf = GridSearchCV(LogisticRegression(), hyperparams, cv=5, n_jobs=-1, scoring = \"f1\")\n",
    "# clf.fit(X_train, y_train)\n",
    "\n",
    "# print(clf.best_params_)\n",
    "\n",
    "# # {'solver': 'newton-cg'}"
   ]
  },
  {
   "cell_type": "code",
   "execution_count": 34,
   "metadata": {},
   "outputs": [
    {
     "name": "stdout",
     "output_type": "stream",
     "text": [
      "Algorithm: logistic Regression Accuracy: 0.99599, F1-score: 0.99329, Precision: 0.98748, Recall: 0.99918, FPR: 0.00536\n",
      "TN: 22814; FP: 123; FN:    8; TP: 9699\n",
      "\n"
     ]
    }
   ],
   "source": [
    "from sklearn.linear_model import LogisticRegression\n",
    "from sklearn import metrics\n",
    "\n",
    "clf = LogisticRegression(solver = 'newton-cg')\n",
    "\n",
    "model = clf.fit(X_train, y_train)\n",
    "\n",
    "y_pred = model.predict(X_validate)\n",
    "\n",
    "name = \"logistic Regression\"\n",
    "\n",
    "Acc = {}\n",
    "F1S = {}\n",
    "Prec = {}\n",
    "Rec = {}\n",
    "FPR = {}\n",
    "\n",
    "Acc[name] = metrics.accuracy_score(y_validate, y_pred)\n",
    "F1S[name] = metrics.f1_score(y_validate, y_pred)\n",
    "Prec[name] = metrics.precision_score(y_validate, y_pred)\n",
    "Rec[name] = metrics.recall_score(y_validate, y_pred)\n",
    "tn, fp, fn, tp = metrics.confusion_matrix(y_validate, y_pred).ravel()\n",
    "FPR[name] = fp/(fp+tn)\n",
    "\n",
    "print(\"Algorithm: {0:12} Accuracy: {1:.5f}, F1-score: {2:.5f}, Precision: {3:.5f}, Recall: {4:.5f}, FPR: {5:.5f}\".format(name, Acc[name], F1S[name], Prec[name], Rec[name], FPR[name]))\n",
    "print(\"TN: {0:3}; FP: {1:3}; FN: {2:4}; TP: {3:3}\\n\".format(tn, fp, fn, tp))"
   ]
  },
  {
   "cell_type": "markdown",
   "metadata": {},
   "source": [
    "# Decision Tree parameters selection"
   ]
  },
  {
   "cell_type": "markdown",
   "metadata": {},
   "source": [
    "## Checking tree depth impact"
   ]
  },
  {
   "cell_type": "code",
   "execution_count": 35,
   "metadata": {},
   "outputs": [
    {
     "data": {
      "text/plain": [
       "{'class_weight': None,\n",
       " 'criterion': 'gini',\n",
       " 'max_depth': None,\n",
       " 'max_features': None,\n",
       " 'max_leaf_nodes': None,\n",
       " 'min_impurity_decrease': 0.0,\n",
       " 'min_impurity_split': None,\n",
       " 'min_samples_leaf': 1,\n",
       " 'min_samples_split': 2,\n",
       " 'min_weight_fraction_leaf': 0.0,\n",
       " 'presort': False,\n",
       " 'random_state': 0,\n",
       " 'splitter': 'best'}"
      ]
     },
     "execution_count": 35,
     "metadata": {},
     "output_type": "execute_result"
    }
   ],
   "source": [
    "# using gridsearchcv to find the best parameters\n",
    "\n",
    "from sklearn.tree import DecisionTreeClassifier\n",
    "from sklearn.model_selection import GridSearchCV\n",
    "\n",
    "DecisionTreeClassifier(random_state=0).get_params()"
   ]
  },
  {
   "cell_type": "code",
   "execution_count": 36,
   "metadata": {},
   "outputs": [],
   "source": [
    "hyperparams = {'max_depth' : range(1,12)}"
   ]
  },
  {
   "cell_type": "code",
   "execution_count": 37,
   "metadata": {},
   "outputs": [
    {
     "name": "stdout",
     "output_type": "stream",
     "text": [
      "{'max_depth': 11}\n"
     ]
    }
   ],
   "source": [
    "# clf = GridSearchCV(DecisionTreeClassifier(random_state=0), hyperparams, cv=5, n_jobs=-1, scoring = \"f1\")\n",
    "# clf.fit(X_train, y_train)\n",
    "\n",
    "# print(clf.best_params_)\n",
    "\n",
    "# # max depth : 11"
   ]
  },
  {
   "cell_type": "code",
   "execution_count": 38,
   "metadata": {},
   "outputs": [
    {
     "name": "stdout",
     "output_type": "stream",
     "text": [
      "Algorithm: DecisionTree Accuracy: 0.99920, F1-score: 0.99866, Precision: 0.99846, Recall: 0.99887, FPR: 0.00065\n",
      "TN: 22922; FP:  15; FN:   11; TP: 9696\n",
      "\n",
      "Algorithm: DecisionTree_ent_11 Accuracy: 0.99914, F1-score: 0.99856, Precision: 0.99866, Recall: 0.99845, FPR: 0.00057\n",
      "TN: 22924; FP:  13; FN:   15; TP: 9692\n",
      "\n",
      "Algorithm: DecisionTree_11 Accuracy: 0.99881, F1-score: 0.99799, Precision: 0.99651, Recall: 0.99948, FPR: 0.00148\n",
      "TN: 22903; FP:  34; FN:    5; TP: 9702\n",
      "\n"
     ]
    }
   ],
   "source": [
    "classifiers = {\n",
    "               \"DecisionTree\":DecisionTreeClassifier(random_state=0),\n",
    "               \"DecisionTree_ent_11\":DecisionTreeClassifier(random_state=0, criterion = \"entropy\", max_depth = 11),\n",
    "               \"DecisionTree_11\":DecisionTreeClassifier(random_state=0, max_depth = 11),\n",
    "}\n",
    "\n",
    "Acc = {}\n",
    "F1S = {}\n",
    "Prec = {}\n",
    "Rec = {}\n",
    "FPR = {}\n",
    "\n",
    "for name, clf in classifiers.items():\n",
    "    \n",
    "    model = clf.fit(X_train, y_train)\n",
    "    \n",
    "    y_pred = model.predict(X_validate)\n",
    "    \n",
    "    Acc[name] = metrics.accuracy_score(y_validate, y_pred)\n",
    "    F1S[name] = metrics.f1_score(y_validate, y_pred)\n",
    "    Prec[name] = metrics.precision_score(y_validate, y_pred)\n",
    "    Rec[name] = metrics.recall_score(y_validate, y_pred)\n",
    "    tn, fp, fn, tp = metrics.confusion_matrix(y_validate, y_pred).ravel()\n",
    "    FPR[name] = fp/(fp+tn)\n",
    "    \n",
    "    print(\"Algorithm: {0:12} Accuracy: {1:.5f}, F1-score: {2:.5f}, Precision: {3:.5f}, Recall: {4:.5f}, FPR: {5:.5f}\".format(name, Acc[name], F1S[name], Prec[name], Rec[name], FPR[name]))\n",
    "    print(\"TN: {0:3}; FP: {1:3}; FN: {2:4}; TP: {3:3}\\n\".format(tn, fp, fn, tp))\n"
   ]
  },
  {
   "cell_type": "code",
   "execution_count": 39,
   "metadata": {},
   "outputs": [
    {
     "data": {
      "image/png": "[encoded data removed]",
      "text/plain": [
       "<matplotlib.figure.Figure at 0x7f9c8d91dac8>"
      ]
     },
     "metadata": {
      "needs_background": "light"
     },
     "output_type": "display_data"
    },
    {
     "data": {
      "image/png": "[encoded data removed]",
      "text/plain": [
       "<matplotlib.figure.Figure at 0x7f9c8d908ba8>"
      ]
     },
     "metadata": {
      "needs_background": "light"
     },
     "output_type": "display_data"
    },
    {
     "data": {
      "image/png": "[encoded data removed]",
      "text/plain": [
       "<matplotlib.figure.Figure at 0x7f9c8d911ba8>"
      ]
     },
     "metadata": {
      "needs_background": "light"
     },
     "output_type": "display_data"
    },
    {
     "data": {
      "image/png": "[encoded data removed]",
      "text/plain": [
       "<matplotlib.figure.Figure at 0x7f9c8d8fbac8>"
      ]
     },
     "metadata": {
      "needs_background": "light"
     },
     "output_type": "display_data"
    },
    {
     "data": {
      "image/png": "[encoded data removed]",
      "text/plain": [
       "<matplotlib.figure.Figure at 0x7f9caa8d1d30>"
      ]
     },
     "metadata": {
      "needs_background": "light"
     },
     "output_type": "display_data"
    }
   ],
   "source": [
    "plot_stats(Acc, \"Accuracy\", 5, 35)\n",
    "plot_stats(F1S, \"F1-score\", 5, 35)\n",
    "plot_stats(Prec, \"Precision\", 5, 35)\n",
    "plot_stats(Rec, \"Recall\", 5, 35)\n",
    "plot_stats(FPR, \"False Positive Rate\", 5, 35)"
   ]
  },
  {
   "cell_type": "markdown",
   "metadata": {},
   "source": [
    "## AdaBoost parameters selection"
   ]
  },
  {
   "cell_type": "code",
   "execution_count": 40,
   "metadata": {},
   "outputs": [
    {
     "data": {
      "text/plain": [
       "{'algorithm': 'SAMME.R',\n",
       " 'base_estimator__class_weight': None,\n",
       " 'base_estimator__criterion': 'gini',\n",
       " 'base_estimator__max_depth': None,\n",
       " 'base_estimator__max_features': None,\n",
       " 'base_estimator__max_leaf_nodes': None,\n",
       " 'base_estimator__min_impurity_decrease': 0.0,\n",
       " 'base_estimator__min_impurity_split': None,\n",
       " 'base_estimator__min_samples_leaf': 1,\n",
       " 'base_estimator__min_samples_split': 2,\n",
       " 'base_estimator__min_weight_fraction_leaf': 0.0,\n",
       " 'base_estimator__presort': False,\n",
       " 'base_estimator__random_state': 0,\n",
       " 'base_estimator__splitter': 'best',\n",
       " 'base_estimator': DecisionTreeClassifier(class_weight=None, criterion='gini', max_depth=None,\n",
       "             max_features=None, max_leaf_nodes=None,\n",
       "             min_impurity_decrease=0.0, min_impurity_split=None,\n",
       "             min_samples_leaf=1, min_samples_split=2,\n",
       "             min_weight_fraction_leaf=0.0, presort=False, random_state=0,\n",
       "             splitter='best'),\n",
       " 'learning_rate': 1.0,\n",
       " 'n_estimators': 50,\n",
       " 'random_state': None}"
      ]
     },
     "execution_count": 40,
     "metadata": {},
     "output_type": "execute_result"
    }
   ],
   "source": [
    "from sklearn.ensemble import AdaBoostClassifier\n",
    "AdaBoostClassifier(DecisionTreeClassifier(random_state=0)).get_params()"
   ]
  },
  {
   "cell_type": "code",
   "execution_count": 41,
   "metadata": {},
   "outputs": [],
   "source": [
    "hyperparams = {\"n_estimators\" : range (1, 50)}"
   ]
  },
  {
   "cell_type": "code",
   "execution_count": 42,
   "metadata": {},
   "outputs": [
    {
     "name": "stdout",
     "output_type": "stream",
     "text": [
      "{'n_estimators': 28}\n"
     ]
    }
   ],
   "source": [
    "# clf = GridSearchCV(AdaBoostClassifier(DecisionTreeClassifier(random_state=0)), hyperparams, cv=5, scoring = \"f1\", n_jobs=-1)\n",
    "# clf.fit(X_train, y_train)\n",
    "\n",
    "# print(clf.best_params_)\n",
    "\n",
    "# # Result: {'n_estimators': 28}, range tested: 1-50"
   ]
  },
  {
   "cell_type": "code",
   "execution_count": 43,
   "metadata": {},
   "outputs": [
    {
     "name": "stdout",
     "output_type": "stream",
     "text": [
      "Algorithm: AdaBoost_n_est_dct_rs Accuracy: 0.99905, F1-score: 0.99840, Precision: 0.99774, Recall: 0.99907, FPR: 0.00096\n",
      "TN: 22915; FP:  22; FN:    9; TP: 9698\n",
      "\n",
      "Algorithm: AdaBoost_n_est_dct_0 Accuracy: 0.99905, F1-score: 0.99840, Precision: 0.99784, Recall: 0.99897, FPR: 0.00092\n",
      "TN: 22916; FP:  21; FN:   10; TP: 9697\n",
      "\n",
      "Algorithm: AdaBoost_n_est_dct_def Accuracy: 0.99908, F1-score: 0.99846, Precision: 0.99794, Recall: 0.99897, FPR: 0.00087\n",
      "TN: 22917; FP:  20; FN:   10; TP: 9697\n",
      "\n",
      "Algorithm: AdaBoost_n_est Accuracy: 0.99663, F1-score: 0.99433, Precision: 0.99505, Recall: 0.99361, FPR: 0.00209\n",
      "TN: 22889; FP:  48; FN:   62; TP: 9645\n",
      "\n",
      "Algorithm: AdaBoost_n_est_0 Accuracy: 0.99663, F1-score: 0.99433, Precision: 0.99505, Recall: 0.99361, FPR: 0.00209\n",
      "TN: 22889; FP:  48; FN:   62; TP: 9645\n",
      "\n",
      "Algorithm: AdaBoost_orig Accuracy: 0.99835, F1-score: 0.99722, Precision: 0.99569, Recall: 0.99876, FPR: 0.00183\n",
      "TN: 22895; FP:  42; FN:   12; TP: 9695\n",
      "\n"
     ]
    }
   ],
   "source": [
    "num_trees = 28\n",
    "seed = 12\n",
    "\n",
    "classifiers = {\n",
    "               \"AdaBoost_n_est_dct_rs\":AdaBoostClassifier(DecisionTreeClassifier(max_depth = 11), n_estimators=num_trees, random_state = seed),\n",
    "               \"AdaBoost_n_est_dct_0\":AdaBoostClassifier(DecisionTreeClassifier(max_depth = 11), n_estimators=num_trees, random_state = 0),\n",
    "               \"AdaBoost_n_est_dct_def\":AdaBoostClassifier(DecisionTreeClassifier(max_depth = 11), n_estimators=num_trees),\n",
    "               \"AdaBoost_n_est\":AdaBoostClassifier(n_estimators=num_trees, random_state = seed),\n",
    "               \"AdaBoost_n_est_0\":AdaBoostClassifier(n_estimators=num_trees, random_state = 0), \n",
    "               \"AdaBoost_orig\":AdaBoostClassifier()\n",
    "}\n",
    "\n",
    "Acc = {}\n",
    "F1S = {}\n",
    "Prec = {}\n",
    "Rec = {}\n",
    "FPR = {}\n",
    "\n",
    "for name, clf in classifiers.items():\n",
    "    \n",
    "    model = clf.fit(X_train, y_train)\n",
    "    \n",
    "    y_pred = model.predict(X_validate)\n",
    "    \n",
    "    Acc[name] = metrics.accuracy_score(y_validate, y_pred)\n",
    "    F1S[name] = metrics.f1_score(y_validate, y_pred)\n",
    "    Prec[name] = metrics.precision_score(y_validate, y_pred)\n",
    "    Rec[name] = metrics.recall_score(y_validate, y_pred)\n",
    "    tn, fp, fn, tp = metrics.confusion_matrix(y_validate, y_pred).ravel()\n",
    "    FPR[name] = fp/(fp+tn)\n",
    "    \n",
    "    print(\"Algorithm: {0:12} Accuracy: {1:.5f}, F1-score: {2:.5f}, Precision: {3:.5f}, Recall: {4:.5f}, FPR: {5:.5f}\".format(name, Acc[name], F1S[name], Prec[name], Rec[name], FPR[name]))\n",
    "    print(\"TN: {0:3}; FP: {1:3}; FN: {2:4}; TP: {3:3}\\n\".format(tn, fp, fn, tp))\n"
   ]
  },
  {
   "cell_type": "code",
   "execution_count": 44,
   "metadata": {},
   "outputs": [
    {
     "data": {
      "image/png": "[encoded data removed]",
      "text/plain": [
       "<matplotlib.figure.Figure at 0x7f9c8d9b4c50>"
      ]
     },
     "metadata": {
      "needs_background": "light"
     },
     "output_type": "display_data"
    },
    {
     "data": {
      "image/png": "[encoded data removed]",
      "text/plain": [
       "<matplotlib.figure.Figure at 0x7f9c8d989c88>"
      ]
     },
     "metadata": {
      "needs_background": "light"
     },
     "output_type": "display_data"
    },
    {
     "data": {
      "image/png": "[encoded data removed]",
      "text/plain": [
       "<matplotlib.figure.Figure at 0x7f9c8d988ac8>"
      ]
     },
     "metadata": {
      "needs_background": "light"
     },
     "output_type": "display_data"
    },
    {
     "data": {
      "image/png": "[encoded data removed]",
      "text/plain": [
       "<matplotlib.figure.Figure at 0x7f9c8d92f550>"
      ]
     },
     "metadata": {
      "needs_background": "light"
     },
     "output_type": "display_data"
    },
    {
     "data": {
      "image/png": "[encoded data removed]",
      "text/plain": [
       "<matplotlib.figure.Figure at 0x7f9c8d8fa710>"
      ]
     },
     "metadata": {
      "needs_background": "light"
     },
     "output_type": "display_data"
    }
   ],
   "source": [
    "plot_stats(Acc, \"Accuracy\",7,  55)\n",
    "plot_stats(F1S, \"F1-score\", 7, 55)\n",
    "plot_stats(Prec, \"Precision\", 7, 55)\n",
    "plot_stats(Rec, \"Recall\", 7, 55)\n",
    "plot_stats(FPR, \"False Positive Rate\", 7, 55)"
   ]
  },
  {
   "cell_type": "markdown",
   "metadata": {},
   "source": [
    "## Random tree parameters selection"
   ]
  },
  {
   "cell_type": "code",
   "execution_count": 45,
   "metadata": {},
   "outputs": [],
   "source": [
    "hyperparams = {'max_depth' : range(1,12)}"
   ]
  },
  {
   "cell_type": "code",
   "execution_count": 46,
   "metadata": {},
   "outputs": [
    {
     "name": "stdout",
     "output_type": "stream",
     "text": [
      "{'max_depth': 11}\n"
     ]
    }
   ],
   "source": [
    "# clf = GridSearchCV(DecisionTreeClassifier(random_state=0, splitter = \"random\"), hyperparams, cv=5, scoring = \"f1\", n_jobs=-1)\n",
    "# clf.fit(X_train, y_train)\n",
    "\n",
    "# print(clf.best_params_) # --> 11"
   ]
  },
  {
   "cell_type": "code",
   "execution_count": 47,
   "metadata": {},
   "outputs": [
    {
     "name": "stdout",
     "output_type": "stream",
     "text": [
      "Algorithm: RandomTree   Accuracy: 0.99917, F1-score: 0.99861, Precision: 0.99866, Recall: 0.99856, FPR: 0.00057\n",
      "TN: 22924; FP:  13; FN:   14; TP: 9693\n",
      "\n",
      "Algorithm: RandomTree_11 Accuracy: 0.99703, F1-score: 0.99499, Precision: 0.99710, Recall: 0.99289, FPR: 0.00122\n",
      "TN: 22909; FP:  28; FN:   69; TP: 9638\n",
      "\n"
     ]
    }
   ],
   "source": [
    "classifiers = {\n",
    "                \"RandomTree\":DecisionTreeClassifier(random_state=0, splitter = \"random\"),\n",
    "                \"RandomTree_11\":DecisionTreeClassifier(random_state=0, splitter = \"random\", max_depth = 11),                \n",
    "}\n",
    "\n",
    "Acc = {}\n",
    "F1S = {}\n",
    "Prec = {}\n",
    "Rec = {}\n",
    "FPR = {}\n",
    "\n",
    "for name, clf in classifiers.items():\n",
    "    \n",
    "    model = clf.fit(X_train, y_train)\n",
    "    \n",
    "    y_pred = model.predict(X_validate)\n",
    "    \n",
    "    Acc[name] = metrics.accuracy_score(y_validate, y_pred)\n",
    "    F1S[name] = metrics.f1_score(y_validate, y_pred)\n",
    "    Prec[name] = metrics.precision_score(y_validate, y_pred)\n",
    "    Rec[name] = metrics.recall_score(y_validate, y_pred)\n",
    "    tn, fp, fn, tp = metrics.confusion_matrix(y_validate, y_pred).ravel()\n",
    "    FPR[name] = fp/(fp+tn)\n",
    "    \n",
    "    print(\"Algorithm: {0:12} Accuracy: {1:.5f}, F1-score: {2:.5f}, Precision: {3:.5f}, Recall: {4:.5f}, FPR: {5:.5f}\".format(name, Acc[name], F1S[name], Prec[name], Rec[name], FPR[name]))\n",
    "    print(\"TN: {0:3}; FP: {1:3}; FN: {2:4}; TP: {3:3}\\n\".format(tn, fp, fn, tp))\n"
   ]
  },
  {
   "cell_type": "code",
   "execution_count": 48,
   "metadata": {},
   "outputs": [
    {
     "data": {
      "image/png": "[encoded data removed]",
      "text/plain": [
       "<matplotlib.figure.Figure at 0x7f9c8da9e550>"
      ]
     },
     "metadata": {
      "needs_background": "light"
     },
     "output_type": "display_data"
    },
    {
     "data": {
      "image/png": "[encoded data removed]",
      "text/plain": [
       "<matplotlib.figure.Figure at 0x7f9c8da81a90>"
      ]
     },
     "metadata": {
      "needs_background": "light"
     },
     "output_type": "display_data"
    },
    {
     "data": {
      "image/png": "[encoded data removed]",
      "text/plain": [
       "<matplotlib.figure.Figure at 0x7f9c8da0f4a8>"
      ]
     },
     "metadata": {
      "needs_background": "light"
     },
     "output_type": "display_data"
    },
    {
     "data": {
      "image/png": "[encoded data removed]",
      "text/plain": [
       "<matplotlib.figure.Figure at 0x7f9c8d9df4e0>"
      ]
     },
     "metadata": {
      "needs_background": "light"
     },
     "output_type": "display_data"
    },
    {
     "data": {
      "image/png": "[encoded data removed]",
      "text/plain": [
       "<matplotlib.figure.Figure at 0x7f9c8dab9cf8>"
      ]
     },
     "metadata": {
      "needs_background": "light"
     },
     "output_type": "display_data"
    }
   ],
   "source": [
    "plot_stats(Acc, \"Accuracy\",4, 35)\n",
    "plot_stats(F1S, \"F1-score\", 4, 35)\n",
    "plot_stats(Prec, \"Precision\", 4, 35)\n",
    "plot_stats(Rec, \"Recall\", 4, 35)\n",
    "plot_stats(FPR, \"False Positive Rate\", 4, 35)"
   ]
  },
  {
   "cell_type": "markdown",
   "metadata": {},
   "source": [
    "## Random Forest parameters selection"
   ]
  },
  {
   "cell_type": "code",
   "execution_count": 123,
   "metadata": {},
   "outputs": [
    {
     "data": {
      "text/plain": [
       "{'bootstrap': True,\n",
       " 'class_weight': None,\n",
       " 'criterion': 'gini',\n",
       " 'max_depth': None,\n",
       " 'max_features': 'auto',\n",
       " 'max_leaf_nodes': None,\n",
       " 'min_impurity_decrease': 0.0,\n",
       " 'min_impurity_split': None,\n",
       " 'min_samples_leaf': 1,\n",
       " 'min_samples_split': 2,\n",
       " 'min_weight_fraction_leaf': 0.0,\n",
       " 'n_estimators': 'warn',\n",
       " 'n_jobs': None,\n",
       " 'oob_score': False,\n",
       " 'random_state': 0,\n",
       " 'verbose': 0,\n",
       " 'warm_start': False}"
      ]
     },
     "execution_count": 123,
     "metadata": {},
     "output_type": "execute_result"
    }
   ],
   "source": [
    "from sklearn.ensemble import RandomForestClassifier\n",
    "\n",
    "RandomForestClassifier(random_state=0).get_params()"
   ]
  },
  {
   "cell_type": "code",
   "execution_count": 125,
   "metadata": {},
   "outputs": [],
   "source": [
    "hyperparams = {'n_estimators' : range(1, 50)}"
   ]
  },
  {
   "cell_type": "code",
   "execution_count": 126,
   "metadata": {},
   "outputs": [
    {
     "name": "stdout",
     "output_type": "stream",
     "text": [
      "{'n_estimators': 41}\n"
     ]
    }
   ],
   "source": [
    " clf = GridSearchCV(RandomForestClassifier(random_state=0), hyperparams, cv=5, scoring = \"f1\", n_jobs=-1)\n",
    " clf.fit(X_train, y_train)\n",
    "\n",
    " print(clf.best_params_)\n",
    "\n",
    "# # {'n_estimators': 41}"
   ]
  },
  {
   "cell_type": "code",
   "execution_count": 50,
   "metadata": {},
   "outputs": [],
   "source": [
    "hyperparams = {'max_features' : [None, 'auto', 'sqrt', 'log2']}"
   ]
  },
  {
   "cell_type": "code",
   "execution_count": 51,
   "metadata": {},
   "outputs": [],
   "source": [
    "clf = GridSearchCV(RandomForestClassifier(random_state=0, n_estimators=41), hyperparams, cv=5 ,scoring = \"f1\", n_jobs=-1)\n",
    "# clf.fit(X_train, y_train)\n",
    "\n",
    "# print(clf.best_params_)\n",
    "# {'max_features': 'auto'}"
   ]
  },
  {
   "cell_type": "code",
   "execution_count": 128,
   "metadata": {},
   "outputs": [],
   "source": [
    "hyperparams = {'max_depth' : range(1,50)}"
   ]
  },
  {
   "cell_type": "code",
   "execution_count": 129,
   "metadata": {},
   "outputs": [
    {
     "name": "stdout",
     "output_type": "stream",
     "text": [
      "{'max_depth': 36}\n"
     ]
    }
   ],
   "source": [
    "clf = GridSearchCV(RandomForestClassifier(random_state=0, n_estimators=41, max_features='auto'), hyperparams, cv=5, scoring = \"f1\", n_jobs=-1)\n",
    "clf.fit(X_train, y_train)\n",
    "\n",
    "print(clf.best_params_)\n",
    "# {'max_depth': 36}"
   ]
  },
  {
   "cell_type": "code",
   "execution_count": 130,
   "metadata": {},
   "outputs": [
    {
     "name": "stdout",
     "output_type": "stream",
     "text": [
      "Algorithm: RandomForest_new Accuracy: 0.99926, F1-score: 0.99876, Precision: 0.99805, Recall: 0.99948, FPR: 0.00083\n",
      "TN: 22918; FP:  19; FN:    5; TP: 9702\n",
      "\n",
      "Algorithm: RandomForest_orig Accuracy: 0.99908, F1-score: 0.99846, Precision: 0.99753, Recall: 0.99938, FPR: 0.00105\n",
      "TN: 22913; FP:  24; FN:    6; TP: 9701\n",
      "\n"
     ]
    }
   ],
   "source": [
    "# # zmiana n_estimators daje poprawe\n",
    "# # kfold tylko dla crossvalidation\n",
    "# # learning rate [1 - default] najlepsze wyniki\n",
    "from sklearn import metrics\n",
    "\n",
    "classifiers = {\n",
    "                \"RandomForest_new\":RandomForestClassifier(n_estimators=41, max_depth=36, random_state=0),\n",
    "                \"RandomForest_orig\":RandomForestClassifier(n_estimators=100),\n",
    "}\n",
    "\n",
    "Acc = {}\n",
    "F1S = {}\n",
    "Prec = {}\n",
    "Rec = {}\n",
    "FPR = {}\n",
    "\n",
    "for name, clf in classifiers.items():\n",
    "    \n",
    "    model = clf.fit(X_train, y_train)\n",
    "    \n",
    "    y_pred = model.predict(X_validate)\n",
    "    \n",
    "    Acc[name] = metrics.accuracy_score(y_validate, y_pred)\n",
    "    F1S[name] = metrics.f1_score(y_validate, y_pred)\n",
    "    Prec[name] = metrics.precision_score(y_validate, y_pred)\n",
    "    Rec[name] = metrics.recall_score(y_validate, y_pred)\n",
    "    tn, fp, fn, tp = metrics.confusion_matrix(y_validate, y_pred).ravel()\n",
    "    FPR[name] = fp/(fp+tn)\n",
    "    \n",
    "    print(\"Algorithm: {0:12} Accuracy: {1:.5f}, F1-score: {2:.5f}, Precision: {3:.5f}, Recall: {4:.5f}, FPR: {5:.5f}\".format(name, Acc[name], F1S[name], Prec[name], Rec[name], FPR[name]))\n",
    "    print(\"TN: {0:3}; FP: {1:3}; FN: {2:4}; TP: {3:3}\\n\".format(tn, fp, fn, tp))"
   ]
  },
  {
   "cell_type": "code",
   "execution_count": 131,
   "metadata": {},
   "outputs": [
    {
     "data": {
      "image/png": "[encoded data removed]",
      "text/plain": [
       "<matplotlib.figure.Figure at 0x7ff9e13ef7b8>"
      ]
     },
     "metadata": {
      "needs_background": "light"
     },
     "output_type": "display_data"
    },
    {
     "data": {
      "image/png": "[encoded data removed]",
      "text/plain": [
       "<matplotlib.figure.Figure at 0x7ff9e13e0e80>"
      ]
     },
     "metadata": {
      "needs_background": "light"
     },
     "output_type": "display_data"
    },
    {
     "data": {
      "image/png": "[encoded data removed]",
      "text/plain": [
       "<matplotlib.figure.Figure at 0x7ff9e13de438>"
      ]
     },
     "metadata": {
      "needs_background": "light"
     },
     "output_type": "display_data"
    },
    {
     "data": {
      "image/png": "[encoded data removed]",
      "text/plain": [
       "<matplotlib.figure.Figure at 0x7ff9e13e5c50>"
      ]
     },
     "metadata": {
      "needs_background": "light"
     },
     "output_type": "display_data"
    },
    {
     "data": {
      "image/png": "[encoded data removed]",
      "text/plain": [
       "<matplotlib.figure.Figure at 0x7ff9e13e5588>"
      ]
     },
     "metadata": {
      "needs_background": "light"
     },
     "output_type": "display_data"
    }
   ],
   "source": [
    "plot_stats(Acc, \"Accuracy\", 4, 35)\n",
    "plot_stats(F1S, \"F1-score\", 4, 35)\n",
    "plot_stats(Prec, \"Precision\", 4, 35)\n",
    "plot_stats(Rec, \"Recall\", 4, 35)\n",
    "plot_stats(FPR, \"False Positive Rate\", 4, 35)"
   ]
  },
  {
   "cell_type": "markdown",
   "metadata": {},
   "source": [
    "# Algorithms' performance comparison"
   ]
  },
  {
   "cell_type": "code",
   "execution_count": 32,
   "metadata": {},
   "outputs": [
    {
     "name": "stdout",
     "output_type": "stream",
     "text": [
      "Counter({0: 14952, 1: 7548})\n",
      "Counter({1: 14607, 0: 7893})\n",
      "Counter({1: 86179, 0: 18821})\n"
     ]
    }
   ],
   "source": [
    "sampled_data = data.loc[range(150000), :]\n",
    "\n",
    "train_alg, validate_alg, test_alg = np.split(sampled_data, [int(.7*len(sampled_data)), int(.85*len(sampled_data))])\n",
    "\n",
    "train_alg = train_alg.drop([\"service\", \"Conn state\", \"proto\", \"src port\", \"dst port\"], axis=1)\n",
    "validate_alg = validate_alg.drop([\"service\", \"Conn state\", \"proto\", \"src port\", \"dst port\"], axis=1)\n",
    "test_alg = test_alg.drop([\"service\", \"Conn state\", \"proto\", \"src port\", \"dst port\"], axis=1)\n",
    "\n",
    "train_alg = train_alg.sample(frac=1)\n",
    "validate_alg = validate_alg.sample(frac=1)\n",
    "test_alg = test_alg.sample(frac=1)\n",
    "\n",
    "y_train_alg = train_alg.loc[:, \"attack_flag\"].values.ravel()\n",
    "X_train_alg = train_alg.drop([\"attack_flag\"], axis=1).astype(np.float32)\n",
    "y_validate_alg = validate_alg.loc[:, \"attack_flag\"].values.ravel()\n",
    "X_validate_alg = validate_alg.drop([\"attack_flag\"], axis=1).astype(np.float32)\n",
    "y_test_alg = test_alg.loc[:, \"attack_flag\"].values.ravel()\n",
    "X_test_alg = test_alg.drop([\"attack_flag\"], axis=1).astype(np.float32)\n",
    "\n",
    "print(Counter(y_test_alg))\n",
    "print(Counter(y_validate_alg))\n",
    "print(Counter(y_train_alg))"
   ]
  },
  {
   "cell_type": "code",
   "execution_count": 174,
   "metadata": {},
   "outputs": [
    {
     "ename": "KeyError",
     "evalue": "\"['Conn state' 'src port' 'dst port'] not found in axis\"",
     "output_type": "error",
     "traceback": [
      "\u001b[0;31m---------------------------------------------------------------------------\u001b[0m",
      "\u001b[0;31mKeyError\u001b[0m                                  Traceback (most recent call last)",
      "\u001b[0;32m<ipython-input-174-172c5b4099d7>\u001b[0m in \u001b[0;36m<module>\u001b[0;34m\u001b[0m\n\u001b[1;32m      2\u001b[0m \u001b[0;34m\u001b[0m\u001b[0m\n\u001b[1;32m      3\u001b[0m \u001b[0mtest_full\u001b[0m \u001b[0;34m=\u001b[0m \u001b[0mtest\u001b[0m\u001b[0;34m\u001b[0m\u001b[0;34m\u001b[0m\u001b[0m\n\u001b[0;32m----> 4\u001b[0;31m \u001b[0mtrain\u001b[0m \u001b[0;34m=\u001b[0m \u001b[0mtrain\u001b[0m\u001b[0;34m.\u001b[0m\u001b[0mdrop\u001b[0m\u001b[0;34m(\u001b[0m\u001b[0;34m[\u001b[0m\u001b[0;34m\"service\"\u001b[0m\u001b[0;34m,\u001b[0m \u001b[0;34m\"Conn state\"\u001b[0m\u001b[0;34m,\u001b[0m \u001b[0;34m\"proto\"\u001b[0m\u001b[0;34m,\u001b[0m \u001b[0;34m\"src port\"\u001b[0m\u001b[0;34m,\u001b[0m \u001b[0;34m\"dst port\"\u001b[0m\u001b[0;34m]\u001b[0m\u001b[0;34m,\u001b[0m \u001b[0maxis\u001b[0m\u001b[0;34m=\u001b[0m\u001b[0;36m1\u001b[0m\u001b[0;34m)\u001b[0m\u001b[0;34m\u001b[0m\u001b[0;34m\u001b[0m\u001b[0m\n\u001b[0m\u001b[1;32m      5\u001b[0m \u001b[0mvalidate\u001b[0m \u001b[0;34m=\u001b[0m \u001b[0mvalidate\u001b[0m\u001b[0;34m.\u001b[0m\u001b[0mdrop\u001b[0m\u001b[0;34m(\u001b[0m\u001b[0;34m[\u001b[0m\u001b[0;34m\"service\"\u001b[0m\u001b[0;34m,\u001b[0m \u001b[0;34m\"Conn state\"\u001b[0m\u001b[0;34m,\u001b[0m \u001b[0;34m\"proto\"\u001b[0m\u001b[0;34m,\u001b[0m \u001b[0;34m\"src port\"\u001b[0m\u001b[0;34m,\u001b[0m \u001b[0;34m\"dst port\"\u001b[0m\u001b[0;34m]\u001b[0m\u001b[0;34m,\u001b[0m \u001b[0maxis\u001b[0m\u001b[0;34m=\u001b[0m\u001b[0;36m1\u001b[0m\u001b[0;34m)\u001b[0m\u001b[0;34m\u001b[0m\u001b[0;34m\u001b[0m\u001b[0m\n\u001b[1;32m      6\u001b[0m \u001b[0mtest\u001b[0m \u001b[0;34m=\u001b[0m \u001b[0mtest\u001b[0m\u001b[0;34m.\u001b[0m\u001b[0mdrop\u001b[0m\u001b[0;34m(\u001b[0m\u001b[0;34m[\u001b[0m\u001b[0;34m\"service\"\u001b[0m\u001b[0;34m,\u001b[0m \u001b[0;34m\"Conn state\"\u001b[0m\u001b[0;34m,\u001b[0m \u001b[0;34m\"proto\"\u001b[0m\u001b[0;34m,\u001b[0m \u001b[0;34m\"src port\"\u001b[0m\u001b[0;34m,\u001b[0m \u001b[0;34m\"dst port\"\u001b[0m\u001b[0;34m]\u001b[0m\u001b[0;34m,\u001b[0m \u001b[0maxis\u001b[0m\u001b[0;34m=\u001b[0m\u001b[0;36m1\u001b[0m\u001b[0;34m)\u001b[0m\u001b[0;34m\u001b[0m\u001b[0;34m\u001b[0m\u001b[0m\n",
      "\u001b[0;32m~/.local/lib/python3.6/site-packages/pandas/core/frame.py\u001b[0m in \u001b[0;36mdrop\u001b[0;34m(self, labels, axis, index, columns, level, inplace, errors)\u001b[0m\n\u001b[1;32m   3695\u001b[0m                                            \u001b[0mindex\u001b[0m\u001b[0;34m=\u001b[0m\u001b[0mindex\u001b[0m\u001b[0;34m,\u001b[0m \u001b[0mcolumns\u001b[0m\u001b[0;34m=\u001b[0m\u001b[0mcolumns\u001b[0m\u001b[0;34m,\u001b[0m\u001b[0;34m\u001b[0m\u001b[0;34m\u001b[0m\u001b[0m\n\u001b[1;32m   3696\u001b[0m                                            \u001b[0mlevel\u001b[0m\u001b[0;34m=\u001b[0m\u001b[0mlevel\u001b[0m\u001b[0;34m,\u001b[0m \u001b[0minplace\u001b[0m\u001b[0;34m=\u001b[0m\u001b[0minplace\u001b[0m\u001b[0;34m,\u001b[0m\u001b[0;34m\u001b[0m\u001b[0;34m\u001b[0m\u001b[0m\n\u001b[0;32m-> 3697\u001b[0;31m                                            errors=errors)\n\u001b[0m\u001b[1;32m   3698\u001b[0m \u001b[0;34m\u001b[0m\u001b[0m\n\u001b[1;32m   3699\u001b[0m     @rewrite_axis_style_signature('mapper', [('copy', True),\n",
      "\u001b[0;32m~/.local/lib/python3.6/site-packages/pandas/core/generic.py\u001b[0m in \u001b[0;36mdrop\u001b[0;34m(self, labels, axis, index, columns, level, inplace, errors)\u001b[0m\n\u001b[1;32m   3109\u001b[0m         \u001b[0;32mfor\u001b[0m \u001b[0maxis\u001b[0m\u001b[0;34m,\u001b[0m \u001b[0mlabels\u001b[0m \u001b[0;32min\u001b[0m \u001b[0maxes\u001b[0m\u001b[0;34m.\u001b[0m\u001b[0mitems\u001b[0m\u001b[0;34m(\u001b[0m\u001b[0;34m)\u001b[0m\u001b[0;34m:\u001b[0m\u001b[0;34m\u001b[0m\u001b[0;34m\u001b[0m\u001b[0m\n\u001b[1;32m   3110\u001b[0m             \u001b[0;32mif\u001b[0m \u001b[0mlabels\u001b[0m \u001b[0;32mis\u001b[0m \u001b[0;32mnot\u001b[0m \u001b[0;32mNone\u001b[0m\u001b[0;34m:\u001b[0m\u001b[0;34m\u001b[0m\u001b[0;34m\u001b[0m\u001b[0m\n\u001b[0;32m-> 3111\u001b[0;31m                 \u001b[0mobj\u001b[0m \u001b[0;34m=\u001b[0m \u001b[0mobj\u001b[0m\u001b[0;34m.\u001b[0m\u001b[0m_drop_axis\u001b[0m\u001b[0;34m(\u001b[0m\u001b[0mlabels\u001b[0m\u001b[0;34m,\u001b[0m \u001b[0maxis\u001b[0m\u001b[0;34m,\u001b[0m \u001b[0mlevel\u001b[0m\u001b[0;34m=\u001b[0m\u001b[0mlevel\u001b[0m\u001b[0;34m,\u001b[0m \u001b[0merrors\u001b[0m\u001b[0;34m=\u001b[0m\u001b[0merrors\u001b[0m\u001b[0;34m)\u001b[0m\u001b[0;34m\u001b[0m\u001b[0;34m\u001b[0m\u001b[0m\n\u001b[0m\u001b[1;32m   3112\u001b[0m \u001b[0;34m\u001b[0m\u001b[0m\n\u001b[1;32m   3113\u001b[0m         \u001b[0;32mif\u001b[0m \u001b[0minplace\u001b[0m\u001b[0;34m:\u001b[0m\u001b[0;34m\u001b[0m\u001b[0;34m\u001b[0m\u001b[0m\n",
      "\u001b[0;32m~/.local/lib/python3.6/site-packages/pandas/core/generic.py\u001b[0m in \u001b[0;36m_drop_axis\u001b[0;34m(self, labels, axis, level, errors)\u001b[0m\n\u001b[1;32m   3141\u001b[0m                 \u001b[0mnew_axis\u001b[0m \u001b[0;34m=\u001b[0m \u001b[0maxis\u001b[0m\u001b[0;34m.\u001b[0m\u001b[0mdrop\u001b[0m\u001b[0;34m(\u001b[0m\u001b[0mlabels\u001b[0m\u001b[0;34m,\u001b[0m \u001b[0mlevel\u001b[0m\u001b[0;34m=\u001b[0m\u001b[0mlevel\u001b[0m\u001b[0;34m,\u001b[0m \u001b[0merrors\u001b[0m\u001b[0;34m=\u001b[0m\u001b[0merrors\u001b[0m\u001b[0;34m)\u001b[0m\u001b[0;34m\u001b[0m\u001b[0;34m\u001b[0m\u001b[0m\n\u001b[1;32m   3142\u001b[0m             \u001b[0;32melse\u001b[0m\u001b[0;34m:\u001b[0m\u001b[0;34m\u001b[0m\u001b[0;34m\u001b[0m\u001b[0m\n\u001b[0;32m-> 3143\u001b[0;31m                 \u001b[0mnew_axis\u001b[0m \u001b[0;34m=\u001b[0m \u001b[0maxis\u001b[0m\u001b[0;34m.\u001b[0m\u001b[0mdrop\u001b[0m\u001b[0;34m(\u001b[0m\u001b[0mlabels\u001b[0m\u001b[0;34m,\u001b[0m \u001b[0merrors\u001b[0m\u001b[0;34m=\u001b[0m\u001b[0merrors\u001b[0m\u001b[0;34m)\u001b[0m\u001b[0;34m\u001b[0m\u001b[0;34m\u001b[0m\u001b[0m\n\u001b[0m\u001b[1;32m   3144\u001b[0m             \u001b[0mresult\u001b[0m \u001b[0;34m=\u001b[0m \u001b[0mself\u001b[0m\u001b[0;34m.\u001b[0m\u001b[0mreindex\u001b[0m\u001b[0;34m(\u001b[0m\u001b[0;34m**\u001b[0m\u001b[0;34m{\u001b[0m\u001b[0maxis_name\u001b[0m\u001b[0;34m:\u001b[0m \u001b[0mnew_axis\u001b[0m\u001b[0;34m}\u001b[0m\u001b[0;34m)\u001b[0m\u001b[0;34m\u001b[0m\u001b[0;34m\u001b[0m\u001b[0m\n\u001b[1;32m   3145\u001b[0m \u001b[0;34m\u001b[0m\u001b[0m\n",
      "\u001b[0;32m~/.local/lib/python3.6/site-packages/pandas/core/indexes/base.py\u001b[0m in \u001b[0;36mdrop\u001b[0;34m(self, labels, errors)\u001b[0m\n\u001b[1;32m   4402\u001b[0m             \u001b[0;32mif\u001b[0m \u001b[0merrors\u001b[0m \u001b[0;34m!=\u001b[0m \u001b[0;34m'ignore'\u001b[0m\u001b[0;34m:\u001b[0m\u001b[0;34m\u001b[0m\u001b[0;34m\u001b[0m\u001b[0m\n\u001b[1;32m   4403\u001b[0m                 raise KeyError(\n\u001b[0;32m-> 4404\u001b[0;31m                     '{} not found in axis'.format(labels[mask]))\n\u001b[0m\u001b[1;32m   4405\u001b[0m             \u001b[0mindexer\u001b[0m \u001b[0;34m=\u001b[0m \u001b[0mindexer\u001b[0m\u001b[0;34m[\u001b[0m\u001b[0;34m~\u001b[0m\u001b[0mmask\u001b[0m\u001b[0;34m]\u001b[0m\u001b[0;34m\u001b[0m\u001b[0;34m\u001b[0m\u001b[0m\n\u001b[1;32m   4406\u001b[0m         \u001b[0;32mreturn\u001b[0m \u001b[0mself\u001b[0m\u001b[0;34m.\u001b[0m\u001b[0mdelete\u001b[0m\u001b[0;34m(\u001b[0m\u001b[0mindexer\u001b[0m\u001b[0;34m)\u001b[0m\u001b[0;34m\u001b[0m\u001b[0;34m\u001b[0m\u001b[0m\n",
      "\u001b[0;31mKeyError\u001b[0m: \"['Conn state' 'src port' 'dst port'] not found in axis\""
     ]
    }
   ],
   "source": [
    "train, validate, test = np.split(data, [int(.7*len(data)), int(.85*len(data))])\n",
    "\n",
    "test_full = test\n",
    "train = train.drop([\"service\", \"Conn state\", \"proto\", \"src port\", \"dst port\"], axis=1)\n",
    "validate = validate.drop([\"service\", \"Conn state\", \"proto\", \"src port\", \"dst port\"], axis=1)\n",
    "test = test.drop([\"service\", \"Conn state\", \"proto\", \"src port\", \"dst port\"], axis=1)\n",
    "\n",
    "train = train.sample(frac=1)\n",
    "validate = validate.sample(frac=1)\n",
    "test = test.sample(frac=1)\n",
    "\n",
    "y_train = train.loc[:, \"attack_flag\"].values.ravel()\n",
    "X_train = train.drop([\"attack_flag\"], axis=1).astype(np.float32)\n",
    "y_validate = validate.loc[:, \"attack_flag\"].values.ravel()\n",
    "X_validate = validate.drop([\"attack_flag\"], axis=1).astype(np.float32)\n",
    "y_test = test.loc[:, \"attack_flag\"].values.ravel()\n",
    "X_test = test.drop([\"attack_flag\"], axis=1).astype(np.float32)\n",
    "\n",
    "print(Counter(y_test))\n",
    "print(Counter(y_validate))\n",
    "print(Counter(y_train))"
   ]
  },
  {
   "cell_type": "code",
   "execution_count": 34,
   "metadata": {},
   "outputs": [
    {
     "name": "stdout",
     "output_type": "stream",
     "text": [
      "Counter({1: 30946, 0: 1699})\n"
     ]
    }
   ],
   "source": [
    "from collections import Counter\n",
    "\n",
    "print(Counter(y_test))\n",
    "\n",
    "Acc = {}\n",
    "F1S = {}\n",
    "Prec = {}\n",
    "Rec = {}\n",
    "FPR = {}"
   ]
  },
  {
   "cell_type": "code",
   "execution_count": 35,
   "metadata": {},
   "outputs": [
    {
     "name": "stdout",
     "output_type": "stream",
     "text": [
      "Algorithm: baseline     Accuracy: 0.94796, F1-score: 0.97328, Precision: 0.94796, Recall: 1.00000, FPR: 1.00000\n",
      "TN:   0; FP: 1699; FN:    0; TP: 30946\n",
      "\n"
     ]
    }
   ],
   "source": [
    "# Metrics of baseline method\n",
    "from sklearn import metrics\n",
    "\n",
    "name = \"baseline\"\n",
    "\n",
    "if(y_test.mean() > (1-y_test.mean())):\n",
    "    y_pred = np.ones(len(y_test)).ravel() \n",
    "else:\n",
    "    y_pred = np.zeros(len(y_test)).ravel() \n",
    "    \n",
    "Acc[name] = metrics.accuracy_score(y_test, y_pred)\n",
    "F1S[name] = metrics.f1_score(y_test, y_pred)\n",
    "Prec[name] = metrics.precision_score(y_test, y_pred)\n",
    "Rec[name] = metrics.recall_score(y_test, y_pred)\n",
    "tn, fp, fn, tp = metrics.confusion_matrix(y_test, y_pred).ravel()\n",
    "FPR[name] = fp/(fp+tn)\n",
    "\n",
    "print(\"Algorithm: {0:12} Accuracy: {1:.5f}, F1-score: {2:.5f}, Precision: {3:.5f}, Recall: {4:.5f}, FPR: {5:.5f}\".format(name, Acc[name], F1S[name], Prec[name], Rec[name], FPR[name]))\n",
    "print(\"TN: {0:3}; FP: {1:3}; FN: {2:4}; TP: {3:3}\\n\".format(tn, fp, fn, tp))"
   ]
  },
  {
   "cell_type": "code",
   "execution_count": 36,
   "metadata": {},
   "outputs": [
    {
     "name": "stdout",
     "output_type": "stream",
     "text": [
      "Algorithm: logistic Regression Accuracy: 0.97326, F1-score: 0.98587, Precision: 0.98780, Recall: 0.98394, FPR: 0.22131\n",
      "TN: 1323; FP: 376; FN:  497; TP: 30449\n",
      "\n"
     ]
    }
   ],
   "source": [
    "from sklearn.linear_model import LogisticRegression\n",
    "from sklearn import metrics\n",
    "\n",
    "clf = LogisticRegression(solver = 'newton-cg')\n",
    "\n",
    "model = clf.fit(X_train, y_train)\n",
    "\n",
    "y_pred = model.predict(X_test)\n",
    "\n",
    "name = \"logistic Regression\"\n",
    "\n",
    "Acc[name] = metrics.accuracy_score(y_test, y_pred)\n",
    "F1S[name] = metrics.f1_score(y_test, y_pred)\n",
    "Prec[name] = metrics.precision_score(y_test, y_pred)\n",
    "Rec[name] = metrics.recall_score(y_test, y_pred)\n",
    "tn, fp, fn, tp = metrics.confusion_matrix(y_test, y_pred).ravel()\n",
    "FPR[name] = fp/(fp+tn)\n",
    "\n",
    "print(\"Algorithm: {0:12} Accuracy: {1:.5f}, F1-score: {2:.5f}, Precision: {3:.5f}, Recall: {4:.5f}, FPR: {5:.5f}\".format(name, Acc[name], F1S[name], Prec[name], Rec[name], FPR[name]))\n",
    "print(\"TN: {0:3}; FP: {1:3}; FN: {2:4}; TP: {3:3}\\n\".format(tn, fp, fn, tp))"
   ]
  },
  {
   "cell_type": "code",
   "execution_count": 37,
   "metadata": {},
   "outputs": [
    {
     "name": "stdout",
     "output_type": "stream",
     "text": [
      "Algorithm: AdaBoost     Accuracy: 0.98753, F1-score: 0.99341, Precision: 0.99623, Recall: 0.99060, FPR: 0.06828\n",
      "TN: 1583; FP: 116; FN:  291; TP: 30655\n",
      "\n",
      "Algorithm: DecisionTree Accuracy: 0.98634, F1-score: 0.99277, Precision: 0.99613, Recall: 0.98943, FPR: 0.07004\n",
      "TN: 1580; FP: 119; FN:  327; TP: 30619\n",
      "\n",
      "Algorithm: NaiveBayes   Accuracy: 0.92755, F1-score: 0.96037, Precision: 0.99749, Recall: 0.92590, FPR: 0.04238\n",
      "TN: 1627; FP:  72; FN: 2293; TP: 28653\n",
      "\n",
      "Algorithm: RandomTree   Accuracy: 0.98922, F1-score: 0.99430, Precision: 0.99627, Recall: 0.99234, FPR: 0.06769\n",
      "TN: 1584; FP: 115; FN:  237; TP: 30709\n",
      "\n",
      "Algorithm: RandomForest Accuracy: 0.98790, F1-score: 0.99360, Precision: 0.99607, Recall: 0.99115, FPR: 0.07122\n",
      "TN: 1578; FP: 121; FN:  274; TP: 30672\n",
      "\n"
     ]
    }
   ],
   "source": [
    "# # zmiana n_estimators daje poprawe\n",
    "# # kfold tylko dla AdaBoostClassifier(DecisionTreeClassifier(max_depth = 11), n_estimators=num_trees, random_state = 0)\n",
    "# # learning rate [1 - default] najlepsze wyniki\n",
    "from sklearn.ensemble import AdaBoostClassifier\n",
    "from sklearn.tree import DecisionTreeClassifier\n",
    "from sklearn.naive_bayes import GaussianNB\n",
    "from sklearn.ensemble import RandomForestClassifier\n",
    "from sklearn.linear_model import LogisticRegression\n",
    "\n",
    "\n",
    "seed = 12\n",
    "num_trees = 28\n",
    "\n",
    "classifiers = {\n",
    "               \"AdaBoost\":AdaBoostClassifier(DecisionTreeClassifier(max_depth = 11), n_estimators=num_trees),\n",
    "               \"DecisionTree\":DecisionTreeClassifier(random_state=0),\n",
    "               \"NaiveBayes\":GaussianNB(),\n",
    "               \"RandomTree\":DecisionTreeClassifier(random_state=0, splitter = \"random\"),\n",
    "               \"RandomForest\":RandomForestClassifier(n_estimators=41, max_depth=36, random_state=0),\n",
    "              }\n",
    "\n",
    "\n",
    "for name, clf in classifiers.items():\n",
    "    \n",
    "    model = clf.fit(X_train_alg, y_train_alg)\n",
    "    \n",
    "    y_pred = model.predict(X_test)\n",
    "    \n",
    "    Acc[name] = metrics.accuracy_score(y_test, y_pred)\n",
    "    F1S[name] = metrics.f1_score(y_test, y_pred)\n",
    "    Prec[name] = metrics.precision_score(y_test, y_pred)\n",
    "    Rec[name] = metrics.recall_score(y_test, y_pred)\n",
    "    tn, fp, fn, tp = metrics.confusion_matrix(y_test, y_pred).ravel()\n",
    "    FPR[name] = fp/(fp+tn)\n",
    "    \n",
    "    print(\"Algorithm: {0:12} Accuracy: {1:.5f}, F1-score: {2:.5f}, Precision: {3:.5f}, Recall: {4:.5f}, FPR: {5:.5f}\".format(name, Acc[name], F1S[name], Prec[name], Rec[name], FPR[name]))\n",
    "    print(\"TN: {0:3}; FP: {1:3}; FN: {2:4}; TP: {3:3}\\n\".format(tn, fp, fn, tp))"
   ]
  },
  {
   "cell_type": "code",
   "execution_count": 38,
   "metadata": {},
   "outputs": [
    {
     "data": {
      "image/png": "[encoded data removed]",
      "text/plain": [
       "<matplotlib.figure.Figure at 0x7f0efbc64be0>"
      ]
     },
     "metadata": {
      "needs_background": "light"
     },
     "output_type": "display_data"
    },
    {
     "data": {
      "image/png": "[encoded data removed]",
      "text/plain": [
       "<matplotlib.figure.Figure at 0x7f0efbc64550>"
      ]
     },
     "metadata": {
      "needs_background": "light"
     },
     "output_type": "display_data"
    },
    {
     "data": {
      "image/png": "[encoded data removed]",
      "text/plain": [
       "<matplotlib.figure.Figure at 0x7f0ed31b41d0>"
      ]
     },
     "metadata": {
      "needs_background": "light"
     },
     "output_type": "display_data"
    },
    {
     "data": {
      "image/png": "[encoded data removed]",
      "text/plain": [
       "<matplotlib.figure.Figure at 0x7f0efbc64470>"
      ]
     },
     "metadata": {
      "needs_background": "light"
     },
     "output_type": "display_data"
    },
    {
     "data": {
      "image/png": "[encoded data removed]",
      "text/plain": [
       "<matplotlib.figure.Figure at 0x7f0efbc3df98>"
      ]
     },
     "metadata": {
      "needs_background": "light"
     },
     "output_type": "display_data"
    }
   ],
   "source": [
    "plot_stats(Acc, \"Accuracy\", 8, 55)\n",
    "plot_stats(F1S, \"F1-score\", 8, 55)\n",
    "plot_stats(Prec, \"Precision\", 8, 55)\n",
    "plot_stats(Rec, \"Recall\", 8, 55)\n",
    "plot_stats(FPR, \"False Positive Rate\", 8, 55)"
   ]
  },
  {
   "cell_type": "markdown",
   "metadata": {},
   "source": [
    "## Scaling"
   ]
  },
  {
   "cell_type": "code",
   "execution_count": null,
   "metadata": {},
   "outputs": [],
   "source": [
    "# # zmiana n_estimators daje poprawe\n",
    "# # kfold tylko dla crossvalidation\n",
    "# # learning rate [1 - default] najlepsze wyniki\n",
    "\n",
    "from sklearn.pipeline import make_pipeline\n",
    "from sklearn.preprocessing import StandardScaler\n",
    "\n",
    "seed = 12\n",
    "\n",
    "classifiers = {\n",
    "               \"AdaBoost\":AdaBoostClassifier(DecisionTreeClassifier(max_depth = 11), n_estimators=num_trees, random_state = 0),\n",
    "               \"DecisionTree\":DecisionTreeClassifier(random_state=0),\n",
    "               \"NaiveBayes\":GaussianNB(),\n",
    "               \"RandomTree\":DecisionTreeClassifier(random_state=0, splitter = \"random\"),\n",
    "               \"RandomForest\":RandomForestClassifier(n_estimators=41, max_depth=36, random_state=0),\n",
    "              }\n",
    "\n",
    "Acc = {}\n",
    "F1S = {}\n",
    "Prec = {}\n",
    "Rec = {}\n",
    "FPR = {}\n",
    "\n",
    "for name, clf in classifiers.items():\n",
    "    \n",
    "    name = name + \"_scaled\"\n",
    "    clf_scaled = make_pipeline(StandardScaler(), clf)\n",
    "    model = clf_scaled.fit(X_train_alg, y_train_alg)\n",
    "    \n",
    "    y_pred = model.predict(X_test)\n",
    "    \n",
    "    Acc[name] = metrics.accuracy_score(y_test, y_pred)\n",
    "    F1S[name] = metrics.f1_score(y_test, y_pred)\n",
    "    Prec[name] = metrics.precision_score(y_test, y_pred)\n",
    "    Rec[name] = metrics.recall_score(y_test, y_pred)\n",
    "    tn, fp, fn, tp = metrics.confusion_matrix(y_test, y_pred).ravel()\n",
    "    FPR[name] = fp/(fp+tn)\n",
    "    \n",
    "    print(\"Algorithm: {0:12} Accuracy: {1:.5f}, F1-score: {2:.5f}, Precision: {3:.5f}, Recall: {4:.5f}, FPR: {5:.5f}\".format(name, Acc[name], F1S[name], Prec[name], Rec[name], FPR[name]))\n",
    "    print(\"TN: {0:3}; FP: {1:3}; FN: {2:4}; TP: {3:3}\\n\".format(tn, fp, fn, tp))"
   ]
  },
  {
   "cell_type": "code",
   "execution_count": 146,
   "metadata": {
    "scrolled": true
   },
   "outputs": [
    {
     "data": {
      "image/png": "[encoded data removed]",
      "text/plain": [
       "<matplotlib.figure.Figure at 0x7ff9e12a3c50>"
      ]
     },
     "metadata": {
      "needs_background": "light"
     },
     "output_type": "display_data"
    },
    {
     "data": {
      "image/png": "[encoded data removed]",
      "text/plain": [
       "<matplotlib.figure.Figure at 0x7ff9e12a3208>"
      ]
     },
     "metadata": {
      "needs_background": "light"
     },
     "output_type": "display_data"
    },
    {
     "data": {
      "image/png": "[encoded data removed]",
      "text/plain": [
       "<matplotlib.figure.Figure at 0x7ff9e12d5d30>"
      ]
     },
     "metadata": {
      "needs_background": "light"
     },
     "output_type": "display_data"
    },
    {
     "data": {
      "image/png": "[encoded data removed]",
      "text/plain": [
       "<matplotlib.figure.Figure at 0x7ff9e1310518>"
      ]
     },
     "metadata": {
      "needs_background": "light"
     },
     "output_type": "display_data"
    },
    {
     "data": {
      "image/png": "[encoded data removed]",
      "text/plain": [
       "<matplotlib.figure.Figure at 0x7ff9e12c3860>"
      ]
     },
     "metadata": {
      "needs_background": "light"
     },
     "output_type": "display_data"
    }
   ],
   "source": [
    "plot_stats(Acc, \"Accuracy\", 8, 55)\n",
    "plot_stats(F1S, \"F1-score\", 8, 55)\n",
    "plot_stats(Prec, \"Precision\", 8, 55)\n",
    "plot_stats(Rec, \"Recall\", 8, 55)\n",
    "plot_stats(FPR, \"False Positive Rate\", 8, 55)"
   ]
  },
  {
   "cell_type": "markdown",
   "metadata": {},
   "source": [
    "# Random Features for Large-Scale Kernel Machines"
   ]
  },
  {
   "cell_type": "code",
   "execution_count": 39,
   "metadata": {},
   "outputs": [],
   "source": [
    "import numpy as np\n",
    "import tensorflow as tf\n",
    "import time"
   ]
  },
  {
   "cell_type": "code",
   "execution_count": 40,
   "metadata": {},
   "outputs": [
    {
     "data": {
      "text/plain": [
       "(152339, 232)"
      ]
     },
     "execution_count": 40,
     "metadata": {},
     "output_type": "execute_result"
    }
   ],
   "source": [
    "X_train.values.shape"
   ]
  },
  {
   "cell_type": "code",
   "execution_count": 41,
   "metadata": {},
   "outputs": [],
   "source": [
    "train_input_fn = tf.estimator.inputs.numpy_input_fn(    \n",
    "    x={\"features\": X_train.values},    \n",
    "    y=y_train,    \n",
    "    batch_size=180,    \n",
    "    num_epochs=None,    \n",
    "    shuffle=False)"
   ]
  },
  {
   "cell_type": "code",
   "execution_count": 42,
   "metadata": {},
   "outputs": [
    {
     "data": {
      "text/plain": [
       "(32644, 232)"
      ]
     },
     "execution_count": 42,
     "metadata": {},
     "output_type": "execute_result"
    }
   ],
   "source": [
    "X_validate.shape"
   ]
  },
  {
   "cell_type": "code",
   "execution_count": 43,
   "metadata": {},
   "outputs": [],
   "source": [
    "eval_input_fn = tf.estimator.inputs.numpy_input_fn(\n",
    "    x={\"features\": X_validate.values},\n",
    "    y=y_validate,\n",
    "    batch_size=X_validate.shape[0],\n",
    "    num_epochs=1,\n",
    "    shuffle=False)"
   ]
  },
  {
   "cell_type": "code",
   "execution_count": 44,
   "metadata": {},
   "outputs": [
    {
     "data": {
      "text/plain": [
       "(32645, 232)"
      ]
     },
     "execution_count": 44,
     "metadata": {},
     "output_type": "execute_result"
    }
   ],
   "source": [
    "X_test.shape"
   ]
  },
  {
   "cell_type": "code",
   "execution_count": 45,
   "metadata": {},
   "outputs": [],
   "source": [
    "test_input_fn = tf.estimator.inputs.numpy_input_fn(\n",
    "    x={\"features\": X_test.values},\n",
    "    y=y_test,\n",
    "    batch_size=X_test.shape[0],\n",
    "    num_epochs=1,\n",
    "    shuffle=False)"
   ]
  },
  {
   "cell_type": "markdown",
   "metadata": {},
   "source": [
    "## Using explicit kernel mappings with the linear model"
   ]
  },
  {
   "cell_type": "code",
   "execution_count": 159,
   "metadata": {},
   "outputs": [],
   "source": [
    "data.rename(columns={'Dst host count': 'Dst_host_count', \"Dst host srv count\" : \"Dst_host_srv_count\",\n",
    "                    \"Dst host same src port rate\" : \"Dst_host_same_src_port_rate\",\n",
    "                    \"Dst host serror rate\" : \"Dst_host_serror_rate\",\n",
    "                    \"Dst host srv serror rate\" : \"Dst_host_srv_serror_rate\",\n",
    "                    \"Same srv rate\" : \"Same_srv_rate\",\n",
    "                    \"Srv serror rate\" : \"Srv_serror_rate\",\n",
    "                    \"conn len\" : \"conn_len\",\n",
    "                    \"src bytes\" : \"src_bytes\",\n",
    "                    \"dst bytes\" : \"dst_bytes\",\n",
    "                    \"conn numb\" : \"conn_numb\",\n",
    "                    \"Serror rate\" : \"Serror_rate\",\n",
    "                    \"cli src pool\" : \"cli_src_pool\",\n",
    "                    \"registered src pool\" : \"registered_src_pool\",\n",
    "                    \"well-known src pool\" : \"well_known_src_pool\", \n",
    "                    \"dst port\" : \"dst_port\",\n",
    "                    \"src port\" : \"src_port\",\n",
    "                    \"Conn state\" : \"Conn_state\" \n",
    "                    }, inplace=True)"
   ]
  },
  {
   "cell_type": "code",
   "execution_count": 126,
   "metadata": {},
   "outputs": [],
   "source": [
    "feat_column = tf.contrib.layers.real_valued_column('features', dimension=len(X_train.columns.values))"
   ]
  },
  {
   "cell_type": "code",
   "execution_count": 127,
   "metadata": {},
   "outputs": [],
   "source": [
    "kernel_mapper = tf.contrib.kernel_methods.RandomFourierFeatureMapper(input_dim=len(X_train.columns.values), output_dim=5000, stddev=5, name='rffm')"
   ]
  },
  {
   "cell_type": "code",
   "execution_count": 128,
   "metadata": {},
   "outputs": [],
   "source": [
    "kernel_mappers = {feat_column: [kernel_mapper]}"
   ]
  },
  {
   "cell_type": "code",
   "execution_count": 129,
   "metadata": {},
   "outputs": [],
   "source": [
    "optimizer = tf.train.FtrlOptimizer(learning_rate=25, l2_regularization_strength=0.001)"
   ]
  },
  {
   "cell_type": "code",
   "execution_count": 130,
   "metadata": {},
   "outputs": [
    {
     "name": "stdout",
     "output_type": "stream",
     "text": [
      "INFO:tensorflow:Using default config.\n",
      "INFO:tensorflow:Using config: {'_task_type': None, '_task_id': 0, '_cluster_spec': <tensorflow.python.training.server_lib.ClusterSpec object at 0x7f0e787a0a20>, '_master': '', '_num_ps_replicas': 0, '_num_worker_replicas': 0, '_environment': 'local', '_is_chief': True, '_evaluation_master': '', '_train_distribute': None, '_eval_distribute': None, '_device_fn': None, '_tf_config': gpu_options {\n",
      "  per_process_gpu_memory_fraction: 1.0\n",
      "}\n",
      ", '_tf_random_seed': None, '_save_summary_steps': 100, '_save_checkpoints_secs': 600, '_log_step_count_steps': 100, '_protocol': None, '_session_config': None, '_save_checkpoints_steps': None, '_keep_checkpoint_max': 5, '_keep_checkpoint_every_n_hours': 10000, '_model_dir': 'kernel_train'}\n"
     ]
    }
   ],
   "source": [
    "estimator_kernel = tf.contrib.kernel_methods.KernelLinearClassifier(\n",
    "    n_classes=2,\n",
    "    optimizer=optimizer,\n",
    "    kernel_mappers=kernel_mappers, \n",
    "    model_dir=\"kernel_train\")"
   ]
  },
  {
   "cell_type": "code",
   "execution_count": 131,
   "metadata": {},
   "outputs": [
    {
     "name": "stdout",
     "output_type": "stream",
     "text": [
      "WARNING:tensorflow:Casting <dtype: 'int64'> labels to bool.\n",
      "WARNING:tensorflow:Casting <dtype: 'int64'> labels to bool.\n",
      "WARNING:tensorflow:Trapezoidal rule is known to produce incorrect PR-AUCs; please switch to \"careful_interpolation\" instead.\n",
      "WARNING:tensorflow:Trapezoidal rule is known to produce incorrect PR-AUCs; please switch to \"careful_interpolation\" instead.\n",
      "INFO:tensorflow:Create CheckpointSaverHook.\n",
      "INFO:tensorflow:Graph was finalized.\n",
      "INFO:tensorflow:Restoring parameters from kernel_train/model.ckpt-4000\n",
      "INFO:tensorflow:Running local_init_op.\n",
      "INFO:tensorflow:Done running local_init_op.\n",
      "INFO:tensorflow:Saving checkpoints for 4000 into kernel_train/model.ckpt.\n",
      "INFO:tensorflow:loss = 0.0019361282, step = 4001\n",
      "INFO:tensorflow:global_step/sec: 122.903\n",
      "INFO:tensorflow:loss = 0.02775534, step = 4101 (0.815 sec)\n",
      "INFO:tensorflow:global_step/sec: 125.65\n",
      "INFO:tensorflow:loss = 0.02997781, step = 4201 (0.796 sec)\n",
      "INFO:tensorflow:global_step/sec: 126.263\n",
      "INFO:tensorflow:loss = 0.008319977, step = 4301 (0.792 sec)\n",
      "INFO:tensorflow:global_step/sec: 126.947\n",
      "INFO:tensorflow:loss = 0.08738543, step = 4401 (0.788 sec)\n",
      "INFO:tensorflow:global_step/sec: 127.033\n",
      "INFO:tensorflow:loss = 0.005620638, step = 4501 (0.787 sec)\n",
      "INFO:tensorflow:global_step/sec: 124.19\n",
      "INFO:tensorflow:loss = 0.014666077, step = 4601 (0.806 sec)\n",
      "INFO:tensorflow:global_step/sec: 125.531\n",
      "INFO:tensorflow:loss = 0.021805497, step = 4701 (0.796 sec)\n",
      "INFO:tensorflow:global_step/sec: 125.103\n",
      "INFO:tensorflow:loss = 0.046536192, step = 4801 (0.800 sec)\n",
      "INFO:tensorflow:global_step/sec: 125.502\n",
      "INFO:tensorflow:loss = 0.040963978, step = 4901 (0.797 sec)\n",
      "INFO:tensorflow:global_step/sec: 124.221\n",
      "INFO:tensorflow:loss = 0.094521396, step = 5001 (0.805 sec)\n",
      "INFO:tensorflow:global_step/sec: 124.221\n",
      "INFO:tensorflow:loss = 0.0017494592, step = 5101 (0.805 sec)\n",
      "INFO:tensorflow:global_step/sec: 123.765\n",
      "INFO:tensorflow:loss = 0.008488597, step = 5201 (0.808 sec)\n",
      "INFO:tensorflow:global_step/sec: 124.999\n",
      "INFO:tensorflow:loss = 0.0027682632, step = 5301 (0.800 sec)\n",
      "INFO:tensorflow:global_step/sec: 124.314\n",
      "INFO:tensorflow:loss = 0.005260397, step = 5401 (0.804 sec)\n",
      "INFO:tensorflow:global_step/sec: 124.163\n",
      "INFO:tensorflow:loss = 0.0055792895, step = 5501 (0.806 sec)\n",
      "INFO:tensorflow:global_step/sec: 124.124\n",
      "INFO:tensorflow:loss = 0.008986981, step = 5601 (0.806 sec)\n",
      "INFO:tensorflow:global_step/sec: 124.79\n",
      "INFO:tensorflow:loss = 0.006201954, step = 5701 (0.801 sec)\n",
      "INFO:tensorflow:global_step/sec: 125.538\n",
      "INFO:tensorflow:loss = 0.020736417, step = 5801 (0.797 sec)\n",
      "INFO:tensorflow:global_step/sec: 124.046\n",
      "INFO:tensorflow:loss = 0.053646225, step = 5901 (0.806 sec)\n",
      "INFO:tensorflow:Saving checkpoints for 6000 into kernel_train/model.ckpt.\n",
      "INFO:tensorflow:Loss for final step: 0.016027337.\n"
     ]
    },
    {
     "data": {
      "text/plain": [
       "KernelLinearClassifier(params={'head': <tensorflow.contrib.learn.python.learn.estimators.head._BinaryLogisticHead object at 0x7f0e787a0c50>, 'feature_columns': {_RealValuedColumn(column_name='features_MAPPED', dimension=5000, default_value=None, dtype=tf.float32, normalizer=None)}, 'optimizer': <tensorflow.python.training.ftrl.FtrlOptimizer object at 0x7f0efbc9ceb8>, 'kernel_mappers': {_RealValuedColumn(column_name='features', dimension=232, default_value=None, dtype=tf.float32, normalizer=None): [<tensorflow.contrib.kernel_methods.python.mappers.random_fourier_features.RandomFourierFeatureMapper object at 0x7f0efbc9cf28>]}})"
      ]
     },
     "execution_count": 131,
     "metadata": {},
     "output_type": "execute_result"
    }
   ],
   "source": [
    "estimator_kernel.fit(input_fn=train_input_fn, steps=2000)"
   ]
  },
  {
   "cell_type": "code",
   "execution_count": 132,
   "metadata": {},
   "outputs": [
    {
     "name": "stdout",
     "output_type": "stream",
     "text": [
      "WARNING:tensorflow:Casting <dtype: 'int64'> labels to bool.\n",
      "WARNING:tensorflow:Casting <dtype: 'int64'> labels to bool.\n",
      "WARNING:tensorflow:Trapezoidal rule is known to produce incorrect PR-AUCs; please switch to \"careful_interpolation\" instead.\n",
      "WARNING:tensorflow:Trapezoidal rule is known to produce incorrect PR-AUCs; please switch to \"careful_interpolation\" instead.\n",
      "INFO:tensorflow:Starting evaluation at 2019-05-14-22:32:56\n",
      "INFO:tensorflow:Graph was finalized.\n",
      "INFO:tensorflow:Restoring parameters from kernel_train/model.ckpt-6000\n",
      "INFO:tensorflow:Running local_init_op.\n",
      "INFO:tensorflow:Done running local_init_op.\n",
      "INFO:tensorflow:Evaluation [1/1]\n",
      "INFO:tensorflow:Finished evaluation at 2019-05-14-22:32:57\n",
      "INFO:tensorflow:Saving dict for global step 6000: accuracy = 0.998162, accuracy/baseline_label_mean = 0.2973594, accuracy/threshold_0.500000_mean = 0.998162, auc = 0.99981713, auc_precision_recall = 0.99953973, global_step = 6000, labels/actual_label_mean = 0.2973594, labels/prediction_mean = 0.29785135, loss = 0.007437021, precision/positive_threshold_0.500000_mean = 0.9950734, recall/positive_threshold_0.500000_mean = 0.9987638\n"
     ]
    }
   ],
   "source": [
    "eval_metrics = estimator_kernel.evaluate(input_fn=eval_input_fn, steps=1)"
   ]
  },
  {
   "cell_type": "code",
   "execution_count": 133,
   "metadata": {},
   "outputs": [
    {
     "name": "stdout",
     "output_type": "stream",
     "text": [
      "accuracy: 0.998162\n",
      "accuracy/baseline_label_mean: 0.2973594\n",
      "accuracy/threshold_0.500000_mean: 0.998162\n",
      "auc: 0.99981713\n",
      "auc_precision_recall: 0.99953973\n",
      "global_step: 6000\n",
      "labels/actual_label_mean: 0.2973594\n",
      "labels/prediction_mean: 0.29785135\n",
      "loss: 0.007437021\n",
      "precision/positive_threshold_0.500000_mean: 0.9950734\n",
      "recall/positive_threshold_0.500000_mean: 0.9987638\n"
     ]
    }
   ],
   "source": [
    "for key,value in sorted(eval_metrics.items()):\n",
    "  print('%s: %s' % (key, value))"
   ]
  },
  {
   "cell_type": "code",
   "execution_count": 134,
   "metadata": {},
   "outputs": [],
   "source": [
    "correctness = []\n",
    "class_id = []\n",
    "pred_iterator = None"
   ]
  },
  {
   "cell_type": "code",
   "execution_count": 135,
   "metadata": {},
   "outputs": [
    {
     "name": "stdout",
     "output_type": "stream",
     "text": [
      "INFO:tensorflow:Graph was finalized.\n",
      "INFO:tensorflow:Restoring parameters from kernel_train/model.ckpt-6000\n",
      "INFO:tensorflow:Running local_init_op.\n",
      "INFO:tensorflow:Done running local_init_op.\n"
     ]
    }
   ],
   "source": [
    "pred_iterator = estimator_kernel.predict(input_fn = test_input_fn)"
   ]
  },
  {
   "cell_type": "code",
   "execution_count": 136,
   "metadata": {},
   "outputs": [],
   "source": [
    "for pred_dict in pred_iterator:\n",
    "    class_id.append(pred_dict['classes'])\n",
    "    #print(pred_dict)"
   ]
  },
  {
   "cell_type": "code",
   "execution_count": 137,
   "metadata": {},
   "outputs": [
    {
     "name": "stdout",
     "output_type": "stream",
     "text": [
      "RFFM Accuracy: 0.90378, F1-score: 0.94933, Precision: 0.94790, Recall: 0.95075, FPR: 0.95174\n",
      "TN:  82; FP: 1617; FN: 1524; TP: 29422\n",
      "\n"
     ]
    }
   ],
   "source": [
    "name = \"RFFM\"\n",
    "\n",
    "Acc[name] = metrics.accuracy_score(y_test, class_id)\n",
    "F1S[name] = metrics.f1_score(y_test, class_id)\n",
    "Prec[name] = metrics.precision_score(y_test, class_id)\n",
    "Rec[name] = metrics.recall_score(y_test, class_id)\n",
    "tn, fp, fn, tp = metrics.confusion_matrix(y_test, class_id).ravel()\n",
    "FPR[name] = fp/(fp+tn)\n",
    "\n",
    "print(\"{0:2} Accuracy: {1:.5f}, F1-score: {2:.5f}, Precision: {3:.5f}, Recall: {4:.5f}, FPR: {5:.5f}\".format(name, Acc[name], F1S[name], Prec[name], Rec[name], FPR[name]))\n",
    "print(\"TN: {0:3}; FP: {1:3}; FN: {2:4}; TP: {3:3}\\n\".format(tn, fp, fn, tp))"
   ]
  },
  {
   "cell_type": "markdown",
   "metadata": {},
   "source": [
    "# Neural network part"
   ]
  },
  {
   "cell_type": "code",
   "execution_count": 160,
   "metadata": {},
   "outputs": [],
   "source": [
    "import collections\n",
    "import io\n",
    "import math\n",
    "import tensorflow as tf\n",
    "from IPython import display"
   ]
  },
  {
   "cell_type": "code",
   "execution_count": 161,
   "metadata": {},
   "outputs": [],
   "source": [
    "deep_numeric_feat = [\"Same_srv_rate\", \"Serror_rate\", \"Srv_serror_rate\", \"Dst_host_count\", \"Dst_host_srv_count\", \"Dst_host_same_src_port_rate\", \"Dst_host_serror_rate\", \"Dst_host_srv_serror_rate\", \"well_known_src_pool\", \"registered_src_pool\", \"cli_src_pool\"]\n",
    "wide_numeric_feat = [\"conn_len\",  \"src_bytes\", \"dst_bytes\", \"conn_numb\"]\n",
    "categorical_feat = [\"service\", \"Conn_state\", \"src_port\", \"dst_port\", \"proto\"]"
   ]
  },
  {
   "cell_type": "code",
   "execution_count": 162,
   "metadata": {},
   "outputs": [],
   "source": [
    "deep_numeric_feat_tf = [tf.feature_column.numeric_column(k) for k in deep_numeric_feat]\n",
    "wide_numeric_feat_tf = [tf.feature_column.numeric_column(k) for k in wide_numeric_feat]"
   ]
  },
  {
   "cell_type": "code",
   "execution_count": 163,
   "metadata": {},
   "outputs": [],
   "source": [
    "src_port_mod = [\"src_\" + s for s in data[\"src_port\"].unique().tolist()]\n",
    "src_port = tf.feature_column.categorical_column_with_vocabulary_list(\n",
    "    'src_port', src_port_mod)\n",
    "\n",
    "dst_port_mod = [\"dst_\" + s for s in data[\"dst_port\"].unique().tolist()]\n",
    "dst_port = tf.feature_column.categorical_column_with_vocabulary_list(\n",
    "    'dst_port', dst_port_mod)\n",
    "\n",
    "service = tf.feature_column.categorical_column_with_vocabulary_list(\n",
    "    'service', data[\"service\"].unique().tolist())\n",
    "\n",
    "Conn_state = tf.feature_column.categorical_column_with_vocabulary_list(\n",
    "    'Conn_state', data[\"Conn_state\"].unique().tolist())\n",
    "\n",
    "proto = tf.feature_column.categorical_column_with_vocabulary_list(\n",
    "    'proto', data[\"proto\"].unique().tolist())"
   ]
  },
  {
   "cell_type": "code",
   "execution_count": 164,
   "metadata": {},
   "outputs": [],
   "source": [
    "deep_columns = [\n",
    "    tf.feature_column.indicator_column(service),\n",
    "    tf.feature_column.indicator_column(Conn_state),\n",
    "    tf.feature_column.indicator_column(proto),\n",
    "    tf.feature_column.embedding_column(src_port, dimension=10),\n",
    "    tf.feature_column.embedding_column(dst_port, dimension=3),\n",
    "]"
   ]
  },
  {
   "cell_type": "code",
   "execution_count": 165,
   "metadata": {},
   "outputs": [],
   "source": [
    "crossed_columns = [\n",
    "      tf.feature_column.crossed_column(\n",
    "          ['src_port', 'service'], hash_bucket_size=10000),\n",
    "      tf.feature_column.crossed_column(\n",
    "          ['service', 'proto'], hash_bucket_size=10000),\n",
    "  ]"
   ]
  },
  {
   "cell_type": "code",
   "execution_count": 166,
   "metadata": {},
   "outputs": [
    {
     "name": "stdout",
     "output_type": "stream",
     "text": [
      "INFO:tensorflow:Using default config.\n",
      "INFO:tensorflow:Using config: {'_model_dir': '/home/matz/Desktop/ml_ids/NN_model', '_tf_random_seed': None, '_save_summary_steps': 100, '_save_checkpoints_steps': None, '_save_checkpoints_secs': 600, '_session_config': allow_soft_placement: true\n",
      "graph_options {\n",
      "  rewrite_options {\n",
      "    meta_optimizer_iterations: ONE\n",
      "  }\n",
      "}\n",
      ", '_keep_checkpoint_max': 5, '_keep_checkpoint_every_n_hours': 10000, '_log_step_count_steps': 100, '_train_distribute': None, '_device_fn': None, '_protocol': None, '_eval_distribute': None, '_experimental_distribute': None, '_service': None, '_cluster_spec': <tensorflow.python.training.server_lib.ClusterSpec object at 0x7f0ed28e2860>, '_task_type': 'worker', '_task_id': 0, '_global_id_in_cluster': 0, '_master': '', '_evaluation_master': '', '_is_chief': True, '_num_ps_replicas': 0, '_num_worker_replicas': 1}\n"
     ]
    }
   ],
   "source": [
    "NN_model = tf.estimator.DNNLinearCombinedClassifier(\n",
    "    model_dir = \"/home/matz/Desktop/ml_ids/NN_model\",\n",
    "    dnn_activation_fn=tf.nn.selu,\n",
    "    linear_feature_columns = wide_numeric_feat_tf + crossed_columns,\n",
    "    dnn_feature_columns = deep_columns + deep_numeric_feat_tf + wide_numeric_feat_tf,\n",
    "    dnn_hidden_units = [450, 250, 150, 100, 75, 50, 30])"
   ]
  },
  {
   "cell_type": "code",
   "execution_count": 167,
   "metadata": {},
   "outputs": [],
   "source": [
    "feature_set= deep_numeric_feat + wide_numeric_feat + categorical_feat"
   ]
  },
  {
   "cell_type": "code",
   "execution_count": 168,
   "metadata": {},
   "outputs": [],
   "source": [
    "def get_input_fn(data_set, num_epochs=None, n_batch = 256, shuffle=True):\n",
    "    return tf.estimator.inputs.pandas_input_fn(\n",
    "       x=pd.DataFrame({k: data_set[k].values for k in feature_set}),\n",
    "       y = pd.Series(data_set[\"attack_flag\"].values),\n",
    "       batch_size=n_batch,   \n",
    "       num_epochs=num_epochs,\n",
    "       shuffle=shuffle)"
   ]
  },
  {
   "cell_type": "code",
   "execution_count": 175,
   "metadata": {},
   "outputs": [
    {
     "data": {
      "text/plain": [
       "<function tensorflow.python.estimator.inputs.pandas_io.pandas_input_fn.<locals>.input_fn()>"
      ]
     },
     "execution_count": 175,
     "metadata": {},
     "output_type": "execute_result"
    }
   ],
   "source": [
    "get_input_fn(test, n_batch=test_full.shape[0], shuffle=False)"
   ]
  },
  {
   "cell_type": "code",
   "execution_count": 176,
   "metadata": {},
   "outputs": [
    {
     "name": "stdout",
     "output_type": "stream",
     "text": [
      "INFO:tensorflow:Calling model_fn.\n",
      "WARNING:tensorflow:From /home/matz/.local/lib/python3.6/site-packages/tensorflow/python/ops/sparse_ops.py:1165: sparse_to_dense (from tensorflow.python.ops.sparse_ops) is deprecated and will be removed in a future version.\n",
      "Instructions for updating:\n",
      "Create a `tf.sparse.SparseTensor` and use `tf.sparse.to_dense` instead.\n",
      "INFO:tensorflow:Done calling model_fn.\n",
      "INFO:tensorflow:Create CheckpointSaverHook.\n",
      "INFO:tensorflow:Graph was finalized.\n",
      "INFO:tensorflow:Running local_init_op.\n",
      "INFO:tensorflow:Done running local_init_op.\n",
      "INFO:tensorflow:Saving checkpoints for 0 into /home/matz/Desktop/ml_ids/NN_model/model.ckpt.\n",
      "INFO:tensorflow:loss = 896.3151, step = 1\n",
      "INFO:tensorflow:global_step/sec: 120.415\n",
      "INFO:tensorflow:loss = 11.532594, step = 101 (0.831 sec)\n",
      "INFO:tensorflow:global_step/sec: 160.984\n",
      "INFO:tensorflow:loss = 10.215369, step = 201 (0.621 sec)\n",
      "INFO:tensorflow:global_step/sec: 157.686\n",
      "INFO:tensorflow:loss = 1.6879171, step = 301 (0.635 sec)\n",
      "INFO:tensorflow:global_step/sec: 130.117\n",
      "INFO:tensorflow:loss = 0.47188535, step = 401 (0.768 sec)\n",
      "INFO:tensorflow:global_step/sec: 154.354\n",
      "INFO:tensorflow:loss = 13.460976, step = 501 (0.648 sec)\n",
      "INFO:tensorflow:global_step/sec: 118.833\n",
      "INFO:tensorflow:loss = 0.5422173, step = 601 (0.841 sec)\n",
      "INFO:tensorflow:global_step/sec: 154.518\n",
      "INFO:tensorflow:loss = 8.835995, step = 701 (0.647 sec)\n",
      "INFO:tensorflow:global_step/sec: 157.428\n",
      "INFO:tensorflow:loss = 8.768343, step = 801 (0.635 sec)\n",
      "INFO:tensorflow:global_step/sec: 155.42\n",
      "INFO:tensorflow:loss = 5.0832014, step = 901 (0.644 sec)\n",
      "INFO:tensorflow:global_step/sec: 152.959\n",
      "INFO:tensorflow:loss = 14.905403, step = 1001 (0.653 sec)\n",
      "INFO:tensorflow:global_step/sec: 157.474\n",
      "INFO:tensorflow:loss = 0.6246561, step = 1101 (0.635 sec)\n",
      "INFO:tensorflow:global_step/sec: 155.334\n",
      "INFO:tensorflow:loss = 3.8117757, step = 1201 (0.644 sec)\n",
      "INFO:tensorflow:global_step/sec: 148.929\n",
      "INFO:tensorflow:loss = 4.256981, step = 1301 (0.671 sec)\n",
      "INFO:tensorflow:global_step/sec: 155.709\n",
      "INFO:tensorflow:loss = 11.225441, step = 1401 (0.642 sec)\n",
      "INFO:tensorflow:global_step/sec: 156.578\n",
      "INFO:tensorflow:loss = 25.539206, step = 1501 (0.639 sec)\n",
      "INFO:tensorflow:global_step/sec: 151.307\n",
      "INFO:tensorflow:loss = 0.5334769, step = 1601 (0.661 sec)\n",
      "INFO:tensorflow:global_step/sec: 153.341\n",
      "INFO:tensorflow:loss = 3.8377123, step = 1701 (0.653 sec)\n",
      "INFO:tensorflow:global_step/sec: 154.056\n",
      "INFO:tensorflow:loss = 1.5314841, step = 1801 (0.649 sec)\n",
      "INFO:tensorflow:global_step/sec: 154.936\n",
      "INFO:tensorflow:loss = 1.2343603, step = 1901 (0.645 sec)\n",
      "INFO:tensorflow:global_step/sec: 157.344\n",
      "INFO:tensorflow:loss = 4.7191634, step = 2001 (0.636 sec)\n",
      "INFO:tensorflow:global_step/sec: 154.508\n",
      "INFO:tensorflow:loss = 15.441288, step = 2101 (0.647 sec)\n",
      "INFO:tensorflow:global_step/sec: 153.737\n",
      "INFO:tensorflow:loss = 9.738242, step = 2201 (0.651 sec)\n",
      "INFO:tensorflow:global_step/sec: 155.052\n",
      "INFO:tensorflow:loss = 8.986809, step = 2301 (0.645 sec)\n",
      "INFO:tensorflow:global_step/sec: 153.582\n",
      "INFO:tensorflow:loss = 9.456156, step = 2401 (0.651 sec)\n",
      "INFO:tensorflow:global_step/sec: 157.764\n",
      "INFO:tensorflow:loss = 2.1449275, step = 2501 (0.634 sec)\n",
      "INFO:tensorflow:global_step/sec: 154.827\n",
      "INFO:tensorflow:loss = 3.3467035, step = 2601 (0.646 sec)\n",
      "INFO:tensorflow:global_step/sec: 151.386\n",
      "INFO:tensorflow:loss = 0.3469428, step = 2701 (0.661 sec)\n",
      "INFO:tensorflow:global_step/sec: 155.164\n",
      "INFO:tensorflow:loss = 14.371668, step = 2801 (0.644 sec)\n",
      "INFO:tensorflow:global_step/sec: 149.716\n",
      "INFO:tensorflow:loss = 0.7614319, step = 2901 (0.668 sec)\n",
      "INFO:tensorflow:global_step/sec: 145.245\n",
      "INFO:tensorflow:loss = 0.11587941, step = 3001 (0.688 sec)\n",
      "INFO:tensorflow:global_step/sec: 152.06\n",
      "INFO:tensorflow:loss = 2.1621737, step = 3101 (0.658 sec)\n",
      "INFO:tensorflow:global_step/sec: 145.917\n",
      "INFO:tensorflow:loss = 0.9897107, step = 3201 (0.685 sec)\n",
      "INFO:tensorflow:global_step/sec: 149.966\n",
      "INFO:tensorflow:loss = 0.12524359, step = 3301 (0.667 sec)\n",
      "INFO:tensorflow:global_step/sec: 154.24\n",
      "INFO:tensorflow:loss = 1.5400085, step = 3401 (0.648 sec)\n",
      "INFO:tensorflow:global_step/sec: 146.96\n",
      "INFO:tensorflow:loss = 0.6149926, step = 3501 (0.681 sec)\n",
      "INFO:tensorflow:global_step/sec: 150.191\n",
      "INFO:tensorflow:loss = 2.6482334, step = 3601 (0.666 sec)\n",
      "INFO:tensorflow:global_step/sec: 112.211\n",
      "INFO:tensorflow:loss = 25.159903, step = 3701 (0.891 sec)\n",
      "INFO:tensorflow:global_step/sec: 115.969\n",
      "INFO:tensorflow:loss = 1.9302944, step = 3801 (0.862 sec)\n",
      "INFO:tensorflow:global_step/sec: 125.826\n",
      "INFO:tensorflow:loss = 4.380441, step = 3901 (0.795 sec)\n",
      "INFO:tensorflow:global_step/sec: 145.988\n",
      "INFO:tensorflow:loss = 1.380863, step = 4001 (0.685 sec)\n",
      "INFO:tensorflow:global_step/sec: 143.831\n",
      "INFO:tensorflow:loss = 1.5298378, step = 4101 (0.695 sec)\n",
      "INFO:tensorflow:global_step/sec: 145.555\n",
      "INFO:tensorflow:loss = 3.5730522, step = 4201 (0.687 sec)\n",
      "INFO:tensorflow:global_step/sec: 140.967\n",
      "INFO:tensorflow:loss = 5.792818, step = 4301 (0.711 sec)\n",
      "INFO:tensorflow:global_step/sec: 115.169\n",
      "INFO:tensorflow:loss = 1.9110821, step = 4401 (0.866 sec)\n",
      "INFO:tensorflow:global_step/sec: 113.435\n",
      "INFO:tensorflow:loss = 0.10825218, step = 4501 (0.882 sec)\n",
      "INFO:tensorflow:global_step/sec: 114.702\n",
      "INFO:tensorflow:loss = 11.020195, step = 4601 (0.874 sec)\n",
      "INFO:tensorflow:global_step/sec: 110.629\n",
      "INFO:tensorflow:loss = 5.1936483, step = 4701 (0.901 sec)\n",
      "INFO:tensorflow:global_step/sec: 128.287\n",
      "INFO:tensorflow:loss = 1.0323228, step = 4801 (0.781 sec)\n",
      "INFO:tensorflow:global_step/sec: 106.013\n",
      "INFO:tensorflow:loss = 11.308601, step = 4901 (0.942 sec)\n",
      "INFO:tensorflow:global_step/sec: 114.515\n",
      "INFO:tensorflow:loss = 2.9133978, step = 5001 (0.873 sec)\n",
      "INFO:tensorflow:global_step/sec: 126.769\n",
      "INFO:tensorflow:loss = 22.888, step = 5101 (0.789 sec)\n",
      "INFO:tensorflow:global_step/sec: 116.446\n",
      "INFO:tensorflow:loss = 0.8666759, step = 5201 (0.859 sec)\n",
      "INFO:tensorflow:global_step/sec: 115.555\n",
      "INFO:tensorflow:loss = 2.4770353, step = 5301 (0.865 sec)\n",
      "INFO:tensorflow:global_step/sec: 132.185\n",
      "INFO:tensorflow:loss = 0.86775565, step = 5401 (0.757 sec)\n",
      "INFO:tensorflow:global_step/sec: 156.353\n",
      "INFO:tensorflow:loss = 3.4431374, step = 5501 (0.639 sec)\n",
      "INFO:tensorflow:global_step/sec: 151.695\n",
      "INFO:tensorflow:loss = 7.964227, step = 5601 (0.659 sec)\n",
      "INFO:tensorflow:global_step/sec: 125.256\n",
      "INFO:tensorflow:loss = 21.442833, step = 5701 (0.798 sec)\n",
      "INFO:tensorflow:global_step/sec: 149.65\n",
      "INFO:tensorflow:loss = 10.255104, step = 5801 (0.668 sec)\n",
      "INFO:tensorflow:global_step/sec: 148.874\n",
      "INFO:tensorflow:loss = 4.2605305, step = 5901 (0.672 sec)\n",
      "INFO:tensorflow:global_step/sec: 147.932\n",
      "INFO:tensorflow:loss = 0.1502688, step = 6001 (0.676 sec)\n",
      "INFO:tensorflow:global_step/sec: 149.486\n",
      "INFO:tensorflow:loss = 0.50902814, step = 6101 (0.669 sec)\n",
      "INFO:tensorflow:global_step/sec: 127.479\n",
      "INFO:tensorflow:loss = 1.1691214, step = 6201 (0.785 sec)\n",
      "INFO:tensorflow:global_step/sec: 148.239\n",
      "INFO:tensorflow:loss = 1.7820194, step = 6301 (0.674 sec)\n",
      "INFO:tensorflow:global_step/sec: 145.771\n",
      "INFO:tensorflow:loss = 5.0508575, step = 6401 (0.686 sec)\n",
      "INFO:tensorflow:global_step/sec: 138.764\n",
      "INFO:tensorflow:loss = 0.062097132, step = 6501 (0.720 sec)\n",
      "INFO:tensorflow:global_step/sec: 140.256\n",
      "INFO:tensorflow:loss = 14.431691, step = 6601 (0.713 sec)\n",
      "INFO:tensorflow:global_step/sec: 154.122\n",
      "INFO:tensorflow:loss = 20.608072, step = 6701 (0.649 sec)\n",
      "INFO:tensorflow:global_step/sec: 156.611\n",
      "INFO:tensorflow:loss = 0.19819202, step = 6801 (0.639 sec)\n",
      "INFO:tensorflow:global_step/sec: 147.231\n",
      "INFO:tensorflow:loss = 5.9927564, step = 6901 (0.680 sec)\n",
      "INFO:tensorflow:global_step/sec: 115.474\n",
      "INFO:tensorflow:loss = 4.1604166, step = 7001 (0.866 sec)\n",
      "INFO:tensorflow:global_step/sec: 134.07\n",
      "INFO:tensorflow:loss = 3.8995745, step = 7101 (0.745 sec)\n",
      "INFO:tensorflow:global_step/sec: 135.465\n",
      "INFO:tensorflow:loss = 2.2278445, step = 7201 (0.739 sec)\n",
      "INFO:tensorflow:global_step/sec: 115.52\n",
      "INFO:tensorflow:loss = 15.780534, step = 7301 (0.865 sec)\n",
      "INFO:tensorflow:global_step/sec: 146.533\n",
      "INFO:tensorflow:loss = 4.701568, step = 7401 (0.682 sec)\n",
      "INFO:tensorflow:global_step/sec: 155.152\n",
      "INFO:tensorflow:loss = 7.036724, step = 7501 (0.645 sec)\n",
      "INFO:tensorflow:global_step/sec: 153.493\n",
      "INFO:tensorflow:loss = 1.9337691, step = 7601 (0.651 sec)\n"
     ]
    },
    {
     "name": "stdout",
     "output_type": "stream",
     "text": [
      "INFO:tensorflow:global_step/sec: 155.158\n",
      "INFO:tensorflow:loss = 15.046023, step = 7701 (0.644 sec)\n",
      "INFO:tensorflow:global_step/sec: 160.724\n",
      "INFO:tensorflow:loss = 2.3708072, step = 7801 (0.622 sec)\n",
      "INFO:tensorflow:global_step/sec: 148.997\n",
      "INFO:tensorflow:loss = 2.572763, step = 7901 (0.671 sec)\n",
      "INFO:tensorflow:global_step/sec: 154.871\n",
      "INFO:tensorflow:loss = 18.214361, step = 8001 (0.645 sec)\n",
      "INFO:tensorflow:global_step/sec: 155.714\n",
      "INFO:tensorflow:loss = 0.14003097, step = 8101 (0.643 sec)\n",
      "INFO:tensorflow:global_step/sec: 151.06\n",
      "INFO:tensorflow:loss = 8.898006, step = 8201 (0.662 sec)\n",
      "INFO:tensorflow:global_step/sec: 149.977\n",
      "INFO:tensorflow:loss = 2.9478424, step = 8301 (0.667 sec)\n",
      "INFO:tensorflow:global_step/sec: 145.248\n",
      "INFO:tensorflow:loss = 0.38323528, step = 8401 (0.688 sec)\n",
      "INFO:tensorflow:global_step/sec: 150.352\n",
      "INFO:tensorflow:loss = 2.4196794, step = 8501 (0.666 sec)\n",
      "INFO:tensorflow:global_step/sec: 149.686\n",
      "INFO:tensorflow:loss = 6.9575157, step = 8601 (0.668 sec)\n",
      "INFO:tensorflow:global_step/sec: 155.849\n",
      "INFO:tensorflow:loss = 5.931452, step = 8701 (0.641 sec)\n",
      "INFO:tensorflow:global_step/sec: 150.755\n",
      "INFO:tensorflow:loss = 18.328526, step = 8801 (0.663 sec)\n",
      "INFO:tensorflow:global_step/sec: 147.766\n",
      "INFO:tensorflow:loss = 0.117480956, step = 8901 (0.677 sec)\n",
      "INFO:tensorflow:global_step/sec: 148.895\n",
      "INFO:tensorflow:loss = 0.16199723, step = 9001 (0.672 sec)\n",
      "INFO:tensorflow:global_step/sec: 150.468\n",
      "INFO:tensorflow:loss = 11.877817, step = 9101 (0.665 sec)\n",
      "INFO:tensorflow:global_step/sec: 148.885\n",
      "INFO:tensorflow:loss = 0.42460865, step = 9201 (0.672 sec)\n",
      "INFO:tensorflow:global_step/sec: 150.074\n",
      "INFO:tensorflow:loss = 3.9411309, step = 9301 (0.666 sec)\n",
      "INFO:tensorflow:global_step/sec: 156.618\n",
      "INFO:tensorflow:loss = 0.07643124, step = 9401 (0.638 sec)\n",
      "INFO:tensorflow:global_step/sec: 158.286\n",
      "INFO:tensorflow:loss = 9.716974, step = 9501 (0.632 sec)\n",
      "INFO:tensorflow:global_step/sec: 150.259\n",
      "INFO:tensorflow:loss = 10.250729, step = 9601 (0.665 sec)\n",
      "INFO:tensorflow:global_step/sec: 147.837\n",
      "INFO:tensorflow:loss = 0.28425157, step = 9701 (0.676 sec)\n",
      "INFO:tensorflow:global_step/sec: 155.292\n",
      "INFO:tensorflow:loss = 5.2527223, step = 9801 (0.644 sec)\n",
      "INFO:tensorflow:global_step/sec: 151.729\n",
      "INFO:tensorflow:loss = 7.651492, step = 9901 (0.659 sec)\n",
      "INFO:tensorflow:Saving checkpoints for 10000 into /home/matz/Desktop/ml_ids/NN_model/model.ckpt.\n",
      "INFO:tensorflow:Loss for final step: 1.8613834.\n"
     ]
    },
    {
     "data": {
      "text/plain": [
       "<tensorflow.python.estimator.canned.dnn_linear_combined.DNNLinearCombinedClassifier at 0x7f0e787df240>"
      ]
     },
     "execution_count": 176,
     "metadata": {},
     "output_type": "execute_result"
    }
   ],
   "source": [
    "NN_model.train(input_fn=get_input_fn(test, n_batch=180, shuffle=False), steps=10000)"
   ]
  },
  {
   "cell_type": "code",
   "execution_count": null,
   "metadata": {},
   "outputs": [],
   "source": [
    "## NOTE: create full train, test and validate without dropped columns"
   ]
  },
  {
   "cell_type": "code",
   "execution_count": 177,
   "metadata": {},
   "outputs": [
    {
     "name": "stdout",
     "output_type": "stream",
     "text": [
      "INFO:tensorflow:Calling model_fn.\n",
      "WARNING:tensorflow:Trapezoidal rule is known to produce incorrect PR-AUCs; please switch to \"careful_interpolation\" instead.\n",
      "WARNING:tensorflow:Trapezoidal rule is known to produce incorrect PR-AUCs; please switch to \"careful_interpolation\" instead.\n",
      "INFO:tensorflow:Done calling model_fn.\n",
      "INFO:tensorflow:Starting evaluation at 2019-05-14-22:39:11\n",
      "INFO:tensorflow:Graph was finalized.\n",
      "INFO:tensorflow:Restoring parameters from /home/matz/Desktop/ml_ids/NN_model/model.ckpt-10000\n",
      "INFO:tensorflow:Running local_init_op.\n",
      "INFO:tensorflow:Done running local_init_op.\n",
      "INFO:tensorflow:Evaluation [1/1]\n",
      "INFO:tensorflow:Finished evaluation at 2019-05-14-22:39:13\n",
      "INFO:tensorflow:Saving dict for global step 10000: accuracy = 0.995068, accuracy_baseline = 0.7026406, auc = 0.99946785, auc_precision_recall = 0.99860114, average_loss = 0.024475517, global_step = 10000, label/mean = 0.2973594, loss = 798.97876, precision = 0.9906456, prediction/mean = 0.30555978, recall = 0.99278873\n",
      "INFO:tensorflow:Saving 'checkpoint_path' summary for global step 10000: /home/matz/Desktop/ml_ids/NN_model/model.ckpt-10000\n"
     ]
    }
   ],
   "source": [
    "eval_metrics = NN_model.evaluate(input_fn=get_input_fn(validate, n_batch=validate.shape[0], shuffle=False), steps=1)"
   ]
  },
  {
   "cell_type": "code",
   "execution_count": 178,
   "metadata": {},
   "outputs": [
    {
     "name": "stdout",
     "output_type": "stream",
     "text": [
      "accuracy: 0.995068\n",
      "accuracy_baseline: 0.7026406\n",
      "auc: 0.99946785\n",
      "auc_precision_recall: 0.99860114\n",
      "average_loss: 0.024475517\n",
      "global_step: 10000\n",
      "label/mean: 0.2973594\n",
      "loss: 798.97876\n",
      "precision: 0.9906456\n",
      "prediction/mean: 0.30555978\n",
      "recall: 0.99278873\n"
     ]
    }
   ],
   "source": [
    "for key,value in sorted(eval_metrics.items()):\n",
    "  print('%s: %s' % (key, value))"
   ]
  },
  {
   "cell_type": "code",
   "execution_count": 179,
   "metadata": {},
   "outputs": [
    {
     "name": "stdout",
     "output_type": "stream",
     "text": [
      "INFO:tensorflow:Calling model_fn.\n",
      "INFO:tensorflow:Done calling model_fn.\n",
      "INFO:tensorflow:Graph was finalized.\n",
      "INFO:tensorflow:Restoring parameters from /home/matz/Desktop/ml_ids/NN_model/model.ckpt-10000\n",
      "INFO:tensorflow:Running local_init_op.\n",
      "INFO:tensorflow:Done running local_init_op.\n"
     ]
    }
   ],
   "source": [
    "results = []\n",
    "results = list(NN_model.predict(input_fn=get_input_fn(test, num_epochs=1, n_batch = X_test.shape[0], shuffle=False)))"
   ]
  },
  {
   "cell_type": "code",
   "execution_count": 180,
   "metadata": {},
   "outputs": [],
   "source": [
    "y_pred = []\n",
    "for el in results:\n",
    "    y_pred.append(el[\"class_ids\"])"
   ]
  },
  {
   "cell_type": "code",
   "execution_count": 181,
   "metadata": {},
   "outputs": [
    {
     "name": "stdout",
     "output_type": "stream",
     "text": [
      "NN Accuracy: 0.90486, F1-score: 0.94993, Precision: 0.94782, Recall: 0.95205, FPR: 0.95468\n",
      "TN:  77; FP: 1622; FN: 1484; TP: 29462\n",
      "\n"
     ]
    }
   ],
   "source": [
    "name = \"NN\"\n",
    "\n",
    "Acc[name] = metrics.accuracy_score(y_test, y_pred)\n",
    "F1S[name] = metrics.f1_score(y_test, y_pred)\n",
    "Prec[name] = metrics.precision_score(y_test, y_pred)\n",
    "Rec[name] = metrics.recall_score(y_test, y_pred)\n",
    "tn, fp, fn, tp = metrics.confusion_matrix(y_test, y_pred).ravel()\n",
    "FPR[name] = fp/(fp+tn)\n",
    "\n",
    "print(\"{0:2} Accuracy: {1:.5f}, F1-score: {2:.5f}, Precision: {3:.5f}, Recall: {4:.5f}, FPR: {5:.5f}\".format(name, Acc[name], F1S[name], Prec[name], Rec[name], FPR[name]))\n",
    "print(\"TN: {0:3}; FP: {1:3}; FN: {2:4}; TP: {3:3}\\n\".format(tn, fp, fn, tp))"
   ]
  },
  {
   "cell_type": "code",
   "execution_count": null,
   "metadata": {},
   "outputs": [],
   "source": [
    "plot_stats(Acc, \"Accuracy\", 8, 55)\n",
    "plot_stats(F1S, \"F1-score\", 8, 55)\n",
    "plot_stats(Prec, \"Precision\", 8, 55)\n",
    "plot_stats(Rec, \"Recall\", 8, 55)\n",
    "plot_stats(FPR, \"False Positive Rate\", 8, 55)"
   ]
  },
  {
   "cell_type": "markdown",
   "metadata": {},
   "source": [
    "## Results comparison"
   ]
  },
  {
   "cell_type": "code",
   "execution_count": null,
   "metadata": {},
   "outputs": [],
   "source": [
    "y_pred_NN = y_pred\n",
    "y_pred = {}"
   ]
  },
  {
   "cell_type": "code",
   "execution_count": null,
   "metadata": {},
   "outputs": [],
   "source": [
    "y_pred[\"RFFM\"] = class_id\n",
    "y_pred[\"NN\"] = y_pred_NN"
   ]
  },
  {
   "cell_type": "code",
   "execution_count": null,
   "metadata": {},
   "outputs": [],
   "source": [
    "# Metrics of baseline method\n",
    "\n",
    "name = \"baseline\"\n",
    "\n",
    "if(y_test.mean() > (1-y_test.mean())):\n",
    "    y_pred[\"baseline\"] = np.ones(len(y_test)).ravel() \n",
    "else:\n",
    "    y_pred[\"baseline\"] = np.zeros(len(y_test)).ravel()\n",
    "        \n",
    "y_pred[\"baseline\"] = y_pred[\"baseline\"].astype(int)"
   ]
  },
  {
   "cell_type": "code",
   "execution_count": null,
   "metadata": {},
   "outputs": [],
   "source": [
    "classifiers = {\n",
    "               \"AdaBoost\":AdaBoostClassifier(DecisionTreeClassifier(max_depth = 11), n_estimators=num_trees, random_state = 0),\n",
    "               \"DecisionTree\":DecisionTreeClassifier(random_state=0),\n",
    "               \"NaiveBayes\":GaussianNB(),\n",
    "               \"RandomTree\":DecisionTreeClassifier(random_state=0, splitter = \"random\"),\n",
    "               \"RandomForest\":RandomForestClassifier(n_estimators=41, max_depth=36, random_state=0),\n",
    "              }\n",
    "\n",
    "name = \"LogisticReg\"\n",
    "model = LogisticRegression(solver = 'newton-cg').fit(X_train, y_train)\n",
    "y_pred[name] = model.predict(X_test)\n",
    "\n",
    "for name, clf in classifiers.items():\n",
    "    \n",
    "    model = clf.fit(X_train_alg, y_train_alg)\n",
    "    \n",
    "    y_pred[name] = model.predict(X_test)"
   ]
  },
  {
   "cell_type": "code",
   "execution_count": null,
   "metadata": {},
   "outputs": [],
   "source": [
    "y_pred_pand = pd.DataFrame.from_dict(y_pred)\n",
    "names = [\"LogisticReg\", \"AdaBoost\", \"DecisionTree\", \"NaiveBayes\", \"RandomTree\", \"RandomForest\", \"RFFM\", \"NN\"]\n",
    "correlations = y_pred_pand[names].corr()\n",
    "fig = plt.figure()\n",
    "ax = fig.add_subplot(111)\n",
    "cax = ax.matshow(correlations, vmin=0.5, vmax=1)\n",
    "fig.colorbar(cax)\n",
    "ticks = np.arange(0,8,1)\n",
    "ax.set_xticks(ticks)\n",
    "ax.set_yticks(ticks)\n",
    "ax.set_xticklabels(names, rotation='vertical')\n",
    "ax.set_yticklabels(names)\n",
    "plt.show()"
   ]
  },
  {
   "cell_type": "code",
   "execution_count": null,
   "metadata": {},
   "outputs": [],
   "source": [
    "print(correlations)"
   ]
  },
  {
   "cell_type": "code",
   "execution_count": null,
   "metadata": {},
   "outputs": [],
   "source": [
    "failures = {}\n",
    "failures[\"baseline\"] = []\n",
    "failures[\"LogisticReg\"] = []\n",
    "failures[\"AdaBoost\"] = []\n",
    "failures[\"DecisionTree\"] = []\n",
    "failures[\"NaiveBayes\"] = []\n",
    "failures[\"RandomTree\"] = []\n",
    "failures[\"RandomForest\"] = []\n",
    "failures[\"RFFM\"] = []\n",
    "failures[\"NN\"] = []\n",
    "\n",
    "for i in range(0, len(y_test)):\n",
    "    for key in y_pred.keys():\n",
    "        if y_pred[key][i] != y_test[i]:\n",
    "            failures[key].append(10)\n",
    "        else:\n",
    "            failures[key].append(1)"
   ]
  },
  {
   "cell_type": "code",
   "execution_count": null,
   "metadata": {},
   "outputs": [],
   "source": [
    "failures_pand = pd.DataFrame.from_dict(failures)\n",
    "names = [\"baseline\", \"LogisticReg\", \"AdaBoost\", \"DecisionTree\", \"NaiveBayes\", \"RandomTree\", \"RandomForest\", \"RFFM\", \"NN\"]\n",
    "#names = [\"baseline\", \"LogisticReg\", \"RandomForest\"]\n",
    "correlations = failures_pand[names].corr()\n",
    "fig = plt.figure()\n",
    "ax = fig.add_subplot(111)\n",
    "cax = ax.matshow(correlations, vmin=0, vmax=1)\n",
    "fig.colorbar(cax)\n",
    "ticks = np.arange(0,9,1)\n",
    "ax.set_xticks(ticks)\n",
    "ax.set_yticks(ticks)\n",
    "ax.set_xticklabels(names, rotation='vertical')\n",
    "ax.set_yticklabels(names)\n",
    "plt.show()"
   ]
  },
  {
   "cell_type": "code",
   "execution_count": null,
   "metadata": {},
   "outputs": [],
   "source": [
    "print(correlations)"
   ]
  },
  {
   "cell_type": "code",
   "execution_count": null,
   "metadata": {},
   "outputs": [],
   "source": [
    "cont_table = [[],[]]\n",
    "for name in failures.keys():\n",
    "    print(Counter(failures[name]))\n",
    "    cont_table[0].append(float(Counter(failures[name])[1]))\n",
    "    cont_table[1].append(float(Counter(failures[name])[10]))\n",
    "print(cont_table)"
   ]
  },
  {
   "cell_type": "code",
   "execution_count": null,
   "metadata": {},
   "outputs": [],
   "source": [
    "from scipy import stats\n",
    "\n",
    "# test of independence\n",
    "# H0 : results are independent\n",
    "\n",
    "stat, p, dof, expected = stats.chi2_contingency(cont_table)\n",
    "stats.chi2_contingency(cont_table)\n",
    "prob = 0.95\n",
    "critical = stats.chi2.ppf(prob, dof)\n",
    "print('probability=%.3f, critical=%.3f, stat=%.3f' % (prob, critical, stat))\n",
    "\n",
    "if abs(stat) >= critical:\n",
    "    print('\\nreject H0 - results dependent')\n",
    "else:\n",
    "    print('\\nfailed to reject H0 - results independent')"
   ]
  },
  {
   "cell_type": "markdown",
   "metadata": {},
   "source": [
    "## New data prediction"
   ]
  },
  {
   "cell_type": "code",
   "execution_count": null,
   "metadata": {},
   "outputs": [],
   "source": [
    "test_set = pd.read_csv(\"20151220.txt\", sep = \"\\t\", header = None)\n",
    "test_set.columns = [\"conn len\", \"service\", \"src bytes\", \"dst bytes\", \"conn numb\", \"Same srv rate\", \"Serror rate\", \"Srv serror rate\", \"Dst host count\", \"Dst host srv count\", \"Dst host same src port rate\", \"Dst host serror rate\", \"Dst host srv serror rate\", \"Conn state\", \"IDS detection\", \"Malware detection\", \"Ashula detection\", \"attack_flag\", \"src IP\", \"src port\", \"dst IP\", \"dst port\", \"start time\", \"proto\"]\n",
    "\n",
    "print(Counter(test_set[\"attack_flag\"]))"
   ]
  },
  {
   "cell_type": "code",
   "execution_count": null,
   "metadata": {},
   "outputs": [],
   "source": [
    "test_set.loc[:, \"attack_flag\"] = test_set.loc[:,\"attack_flag\"].replace(-2, -1)\n",
    "test_set.loc[:, \"attack_flag\"] = test_set.loc[:, \"attack_flag\"] * -1\n",
    "test_set.loc[:, \"attack_flag\"] = test_set.loc[:,\"attack_flag\"].replace(-1, 0)\n",
    "\n",
    "print(Counter(test_set[\"attack_flag\"]))"
   ]
  },
  {
   "cell_type": "code",
   "execution_count": null,
   "metadata": {},
   "outputs": [],
   "source": [
    "# slice dataset, drop additional features\n",
    "print(test_set.shape)\n",
    "test_set = test_set.drop(['start time', 'dst IP', 'src IP'], axis=1)\n",
    "print(test_set.shape)\n",
    "\n",
    "# drop software markers\n",
    "test_set = test_set.drop([\"IDS detection\", \"Malware detection\", \"Ashula detection\"], axis=1)\n",
    "test_set[\"attack_flag\"].value_counts()"
   ]
  },
  {
   "cell_type": "code",
   "execution_count": null,
   "metadata": {},
   "outputs": [],
   "source": [
    "# removing NaNs\n",
    "test_set = test_set.dropna()\n",
    "test_set.shape"
   ]
  },
  {
   "cell_type": "code",
   "execution_count": null,
   "metadata": {},
   "outputs": [],
   "source": [
    "test_set[\"well-known src pool\"] = test_set.apply(wk, axis=1)\n",
    "test_set[\"registered src pool\"] = test_set.apply(reg, axis=1)\n",
    "test_set[\"cli src pool\"] = test_set.apply(cli, axis=1)"
   ]
  },
  {
   "cell_type": "code",
   "execution_count": null,
   "metadata": {},
   "outputs": [],
   "source": [
    "test_set[\"src port\"] = test_set[\"src port\"].apply(str)\n",
    "test_set[\"dst port\"] = test_set[\"dst port\"].apply(str)\n",
    "test_set['src port'].nunique()\n",
    "test_set['dst port'].nunique()\n",
    "\n",
    "thresh1 = 125\n",
    "thresh2 = 125\n",
    "counts1 = test_set['src port'].value_counts()\n",
    "counts2 = test_set['dst port'].value_counts()\n",
    "\n",
    "repl1 = counts1[counts1 <= thresh1].index\n",
    "repl2 = counts2[counts2 <= thresh2].index\n",
    "\n",
    "#hot one encoding for src port numbers\n",
    "test_set = pd.concat([test_set, pd.get_dummies(test_set[\"src port\"].replace(repl1, 'other_src'), prefix=\"is_src\")], axis=1)\n",
    "\n",
    "#hot one encoding for dst port numbers\n",
    "test_set = pd.concat([test_set, pd.get_dummies(test_set[\"dst port\"].replace(repl2, 'other_dst'), prefix=\"is_dst\")], axis=1)"
   ]
  },
  {
   "cell_type": "code",
   "execution_count": null,
   "metadata": {},
   "outputs": [],
   "source": [
    "### hot one encoding ###\n",
    "\n",
    "# hot one encoding for service\n",
    "test_set = pd.concat([test_set, pd.get_dummies(test_set[\"service\"], prefix=\"is\")], axis=1)\n",
    "test_set.tail(10)\n",
    "\n",
    "#hot one encoding for proto - commented due to reduced column number\n",
    "test_set = pd.concat([test_set, pd.get_dummies(test_set[\"proto\"], prefix=\"is\")], axis=1)\n",
    "test_set.tail(10)\n",
    "\n",
    "# hot one encoding for conn state\n",
    "test_set = pd.concat([test_set, pd.get_dummies(test_set[\"Conn state\"], prefix=\"state\")], axis=1)\n",
    "test_set.tail(10)"
   ]
  },
  {
   "cell_type": "code",
   "execution_count": null,
   "metadata": {},
   "outputs": [],
   "source": [
    "# check differences between datasets after hot one encoding\n",
    "\n",
    "# print(train_data.columns.difference(test_data.columns)[0])\n",
    "# columns that are not in test but are in train\n",
    "for c in data.columns.difference(test_set.columns):\n",
    "    test_set[c] = 0\n",
    "for c in test_set.columns.difference(data.columns):\n",
    "    test_set = test_set.drop(c, axis=1)\n",
    "    \n",
    "    "
   ]
  },
  {
   "cell_type": "code",
   "execution_count": null,
   "metadata": {},
   "outputs": [],
   "source": [
    "test_new_data = test_set.loc[range(30000), :]\n",
    "\n",
    "test_new_data_full = test_new_data\n",
    "test_new_data = test_new_data.drop([\"service\", \"Conn state\", \"proto\", \"src port\", \"dst port\"], axis=1)\n",
    "\n",
    "test_new_data = test_new_data.sample(frac=1)\n",
    "y_test_new_data = test_new_data.loc[:, \"attack_flag\"].values.ravel()\n",
    "X_test_new_data = test_new_data.drop([\"attack_flag\"], axis=1)"
   ]
  },
  {
   "cell_type": "code",
   "execution_count": null,
   "metadata": {},
   "outputs": [],
   "source": [
    "\n",
    "# Metrics of baseline method\n",
    "from sklearn import metrics\n",
    "\n",
    "name = \"baseline\"\n",
    "\n",
    "if(y_test_new_data.mean() > (1-y_test_new_data.mean())):\n",
    "    y_pred = np.ones(len(y_test_new_data)).ravel() \n",
    "else:\n",
    "    y_pred = np.zeros(len(y_test_new_data)).ravel() \n",
    "    \n",
    "Acc[name] = metrics.accuracy_score(y_test_new_data, y_pred)\n",
    "F1S[name] = metrics.f1_score(y_test_new_data, y_pred)\n",
    "Prec[name] = metrics.precision_score(y_test_new_data, y_pred)\n",
    "Rec[name] = metrics.recall_score(y_test_new_data, y_pred)\n",
    "tn, fp, fn, tp = metrics.confusion_matrix(y_test_new_data, y_pred).ravel()\n",
    "FPR[name] = fp/(fp+tn)\n",
    "\n",
    "print(\"Algorithm: {0:12} Accuracy: {1:.5f}, F1-score: {2:.5f}, Precision: {3:.5f}, Recall: {4:.5f}, FPR: {5:.5f}\".format(name, Acc[name], F1S[name], Prec[name], Rec[name], FPR[name]))\n",
    "print(\"TN: {0:3}; FP: {1:3}; FN: {2:4}; TP: {3:3}\\n\".format(tn, fp, fn, tp))"
   ]
  },
  {
   "cell_type": "code",
   "execution_count": null,
   "metadata": {},
   "outputs": [],
   "source": [
    "from sklearn.linear_model import LogisticRegression\n",
    "from sklearn import metrics\n",
    "\n",
    "clf = LogisticRegression(solver = 'newton-cg')\n",
    "\n",
    "model = clf.fit(X_train, y_train)\n",
    "\n",
    "y_pred = model.predict(X_test_new_data)\n",
    "\n",
    "name = \"logistic Regression\"\n",
    "\n",
    "Acc[name] = metrics.accuracy_score(y_test_new_data, y_pred)\n",
    "F1S[name] = metrics.f1_score(y_test_new_data, y_pred)\n",
    "Prec[name] = metrics.precision_score(y_test_new_data, y_pred)\n",
    "Rec[name] = metrics.recall_score(y_test_new_data, y_pred)\n",
    "tn, fp, fn, tp = metrics.confusion_matrix(y_test_new_data, y_pred).ravel()\n",
    "FPR[name] = fp/(fp+tn)\n",
    "\n",
    "print(\"Algorithm: {0:12} Accuracy: {1:.5f}, F1-score: {2:.5f}, Precision: {3:.5f}, Recall: {4:.5f}, FPR: {5:.5f}\".format(name, Acc[name], F1S[name], Prec[name], Rec[name], FPR[name]))\n",
    "print(\"TN: {0:3}; FP: {1:3}; FN: {2:4}; TP: {3:3}\\n\".format(tn, fp, fn, tp))"
   ]
  },
  {
   "cell_type": "code",
   "execution_count": null,
   "metadata": {},
   "outputs": [],
   "source": [
    "from sklearn.ensemble import AdaBoostClassifier\n",
    "from sklearn.tree import DecisionTreeClassifier\n",
    "from sklearn.naive_bayes import GaussianNB\n",
    "from sklearn.ensemble import RandomForestClassifier\n",
    "from sklearn.linear_model import LogisticRegression\n",
    "\n",
    "\n",
    "seed = 12\n",
    "num_trees = 28\n",
    "\n",
    "classifiers = {\n",
    "               \"AdaBoost\":AdaBoostClassifier(DecisionTreeClassifier(max_depth = 11), n_estimators=num_trees),\n",
    "               \"DecisionTree\":DecisionTreeClassifier(random_state=0),\n",
    "               \"NaiveBayes\":GaussianNB(),\n",
    "               \"RandomTree\":DecisionTreeClassifier(random_state=0, splitter = \"random\"),\n",
    "               \"RandomForest\":RandomForestClassifier(n_estimators=41, max_depth=36, random_state=0),\n",
    "              }\n",
    "\n",
    "\n",
    "for name, clf in classifiers.items():\n",
    "    \n",
    "    model = clf.fit(X_train_alg, y_train_alg)\n",
    "    \n",
    "    y_pred = model.predict(X_test_new_data)\n",
    "    \n",
    "    Acc[name] = metrics.accuracy_score(y_test_new_data, y_pred)\n",
    "    F1S[name] = metrics.f1_score(y_test_new_data, y_pred)\n",
    "    Prec[name] = metrics.precision_score(y_test_new_data, y_pred)\n",
    "    Rec[name] = metrics.recall_score(y_test_new_data, y_pred)\n",
    "    tn, fp, fn, tp = metrics.confusion_matrix(y_test_new_data, y_pred).ravel()\n",
    "    FPR[name] = fp/(fp+tn)\n",
    "    \n",
    "    print(\"Algorithm: {0:12} Accuracy: {1:.5f}, F1-score: {2:.5f}, Precision: {3:.5f}, Recall: {4:.5f}, FPR: {5:.5f}\".format(name, Acc[name], F1S[name], Prec[name], Rec[name], FPR[name]))\n",
    "    print(\"TN: {0:3}; FP: {1:3}; FN: {2:4}; TP: {3:3}\\n\".format(tn, fp, fn, tp))"
   ]
  },
  {
   "cell_type": "code",
   "execution_count": null,
   "metadata": {},
   "outputs": [],
   "source": [
    "data.rename(columns={'Dst host count': 'Dst_host_count', \"Dst host srv count\" : \"Dst_host_srv_count\",\n",
    "                    \"Dst host same src port rate\" : \"Dst_host_same_src_port_rate\",\n",
    "                    \"Dst host serror rate\" : \"Dst_host_serror_rate\",\n",
    "                    \"Dst host srv serror rate\" : \"Dst_host_srv_serror_rate\",\n",
    "                    \"Same srv rate\" : \"Same_srv_rate\",\n",
    "                    \"Srv serror rate\" : \"Srv_serror_rate\",\n",
    "                    \"conn len\" : \"conn_len\",\n",
    "                    \"src bytes\" : \"src_bytes\",\n",
    "                    \"dst bytes\" : \"dst_bytes\",\n",
    "                    \"conn numb\" : \"conn_numb\",\n",
    "                    \"Serror rate\" : \"Serror_rate\",\n",
    "                    \"cli src pool\" : \"cli_src_pool\",\n",
    "                    \"registered src pool\" : \"registered_src_pool\",\n",
    "                    \"well-known src pool\" : \"well_known_src_pool\",\n",
    "                    \"dst port\" : \"dst_port\",\n",
    "                    \"src port\" : \"src_port\",\n",
    "                     \"Conn state\" : \"Conn_state\" \n",
    "                    }, inplace=True)"
   ]
  },
  {
   "cell_type": "code",
   "execution_count": null,
   "metadata": {},
   "outputs": [],
   "source": [
    "test_input_fn = tf.estimator.inputs.numpy_input_fn(\n",
    "    x={\"features\": X_test_new_data.values},\n",
    "    y=y_test_new_data,\n",
    "    batch_size=X_test.shape[0],\n",
    "    num_epochs=1,\n",
    "    shuffle=False)"
   ]
  },
  {
   "cell_type": "code",
   "execution_count": null,
   "metadata": {},
   "outputs": [],
   "source": [
    "pred_iterator = estimator_kernel.predict(input_fn = test_input_fn)"
   ]
  },
  {
   "cell_type": "code",
   "execution_count": null,
   "metadata": {},
   "outputs": [],
   "source": [
    "for pred_dict in pred_iterator:\n",
    "    class_id.append(pred_dict['classes'])\n",
    "    #print(pred_dict)"
   ]
  },
  {
   "cell_type": "code",
   "execution_count": null,
   "metadata": {},
   "outputs": [],
   "source": [
    "name = \"RFFM\"\n",
    "\n",
    "Acc[name] = metrics.accuracy_score(y_test_new_data, class_id)\n",
    "F1S[name] = metrics.f1_score(y_test_new_data, class_id)\n",
    "Prec[name] = metrics.precision_score(y_test_new_data, class_id)\n",
    "Rec[name] = metrics.recall_score(y_test_new_data, class_id)\n",
    "tn, fp, fn, tp = metrics.confusion_matrix(y_test_new_data, class_id).ravel()\n",
    "FPR[name] = fp/(fp+tn)\n",
    "\n",
    "print(\"{0:2} Accuracy: {1:.5f}, F1-score: {2:.5f}, Precision: {3:.5f}, Recall: {4:.5f}, FPR: {5:.5f}\".format(name, Acc[name], F1S[name], Prec[name], Rec[name], FPR[name]))\n",
    "print(\"TN: {0:3}; FP: {1:3}; FN: {2:4}; TP: {3:3}\\n\".format(tn, fp, fn, tp))"
   ]
  },
  {
   "cell_type": "code",
   "execution_count": null,
   "metadata": {},
   "outputs": [],
   "source": [
    "results = []\n",
    "results = list(NN_model.predict(input_fn=get_input_fn(test_new_data_full, num_epochs=1, n_batch = X_test.shape[0], shuffle=False)))"
   ]
  },
  {
   "cell_type": "code",
   "execution_count": null,
   "metadata": {},
   "outputs": [],
   "source": [
    "y_pred = []\n",
    "for el in results:\n",
    "    y_pred.append(el[\"class_ids\"])"
   ]
  },
  {
   "cell_type": "code",
   "execution_count": null,
   "metadata": {},
   "outputs": [],
   "source": [
    "name = \"NN\"\n",
    "\n",
    "Acc = {}\n",
    "F1S = {}\n",
    "Prec = {}\n",
    "Rec = {}\n",
    "FPR = {}\n",
    "\n",
    "Acc[name] = metrics.accuracy_score(y_test_new_data, y_pred)\n",
    "F1S[name] = metrics.f1_score(y_test_new_data, y_pred)\n",
    "Prec[name] = metrics.precision_score(y_test_new_data, y_pred)\n",
    "Rec[name] = metrics.recall_score(y_test_new_data, y_pred)\n",
    "tn, fp, fn, tp = metrics.confusion_matrix(y_test_new_data, y_pred).ravel()\n",
    "FPR[name] = fp/(fp+tn)\n",
    "\n",
    "print(\"{0:2} Accuracy: {1:.5f}, F1-score: {2:.5f}, Precision: {3:.5f}, Recall: {4:.5f}, FPR: {5:.5f}\".format(name, Acc[name], F1S[name], Prec[name], Rec[name], FPR[name]))\n",
    "print(\"TN: {0:3}; FP: {1:3}; FN: {2:4}; TP: {3:3}\\n\".format(tn, fp, fn, tp))"
   ]
  },
  {
   "cell_type": "code",
   "execution_count": null,
   "metadata": {},
   "outputs": [],
   "source": [
    "plot_stats(Acc, \"Accuracy\", 8, 55)\n",
    "plot_stats(F1S, \"F1-score\", 8, 55)\n",
    "plot_stats(Prec, \"Precision\", 8, 55)\n",
    "plot_stats(Rec, \"Recall\", 8, 55)\n",
    "plot_stats(FPR, \"False Positive Rate\", 8, 55)"
   ]
  },
  {
   "cell_type": "code",
   "execution_count": null,
   "metadata": {},
   "outputs": [],
   "source": []
  },
  {
   "cell_type": "code",
   "execution_count": null,
   "metadata": {},
   "outputs": [],
   "source": []
  }
 ],
 "metadata": {
  "kernelspec": {
   "display_name": "Python 3",
   "language": "python",
   "name": "python3"
  },
  "language_info": {
   "codemirror_mode": {
    "name": "ipython",
    "version": 3
   },
   "file_extension": ".py",
   "mimetype": "text/x-python",
   "name": "python",
   "nbconvert_exporter": "python",
   "pygments_lexer": "ipython3",
   "version": "3.6.7"
  }
 },
 "nbformat": 4,
 "nbformat_minor": 2
}
