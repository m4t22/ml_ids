{
 "cells": [
  {
   "cell_type": "code",
   "execution_count": 20,
   "metadata": {},
   "outputs": [],
   "source": [
    "import pandas as pd\n",
    "import matplotlib.pyplot as plt\n",
    "import numpy as np\n",
    "\n",
    "%matplotlib inline \n",
    "%config IPCompleter.greedy=True"
   ]
  },
  {
   "cell_type": "markdown",
   "metadata": {},
   "source": [
    "## Reading data from file"
   ]
  },
  {
   "cell_type": "code",
   "execution_count": 21,
   "metadata": {},
   "outputs": [
    {
     "name": "stdout",
     "output_type": "stream",
     "text": [
      "Counter({-1: 149915, 1: 67713})\n"
     ]
    }
   ],
   "source": [
    "from collections import Counter\n",
    "\n",
    "### main dataset ###\n",
    "data = pd.read_csv(\"20151219.txt\", sep = \"\\t\", header = None)\n",
    "data.columns = [\"conn len\", \"service\", \"src bytes\", \"dst bytes\", \"conn numb\", \"Same srv rate\", \"Serror rate\", \"Srv serror rate\", \"Dst host count\", \"Dst host srv count\", \"Dst host same src port rate\", \"Dst host serror rate\", \"Dst host srv serror rate\", \"Conn state\", \"IDS detection\", \"Malware detection\", \"Ashula detection\", \"attack_flag\", \"src IP\", \"src port\", \"dst IP\", \"dst port\", \"start time\", \"proto\"]\n",
    "\n",
    "print(Counter(data[\"attack_flag\"]))"
   ]
  },
  {
   "cell_type": "markdown",
   "metadata": {},
   "source": [
    "## Transform to binary"
   ]
  },
  {
   "cell_type": "code",
   "execution_count": 22,
   "metadata": {},
   "outputs": [
    {
     "name": "stdout",
     "output_type": "stream",
     "text": [
      "Counter({1: 149915, 0: 67713})\n"
     ]
    }
   ],
   "source": [
    "data.loc[:, \"attack_flag\"] = data.loc[:,\"attack_flag\"].replace(-2, -1)\n",
    "data.loc[:, \"attack_flag\"] = data.loc[:, \"attack_flag\"] * -1\n",
    "data.loc[:, \"attack_flag\"] = data.loc[:,\"attack_flag\"].replace(-1, 0)\n",
    "\n",
    "print(Counter(data[\"attack_flag\"]))"
   ]
  },
  {
   "cell_type": "markdown",
   "metadata": {},
   "source": [
    "## Visualize the attacks structure over time "
   ]
  },
  {
   "cell_type": "code",
   "execution_count": 23,
   "metadata": {},
   "outputs": [
    {
     "data": {
      "text/plain": [
       "<matplotlib.axes._subplots.AxesSubplot at 0x7fc632da0710>"
      ]
     },
     "execution_count": 23,
     "metadata": {},
     "output_type": "execute_result"
    },
    {
     "data": {
      "image/png": "[encoded data removed]",
      "text/plain": [
       "<matplotlib.figure.Figure at 0x7fc6358faf98>"
      ]
     },
     "metadata": {
      "needs_background": "light"
     },
     "output_type": "display_data"
    }
   ],
   "source": [
    "data_red = data.groupby('start time')['attack_flag'].sum()\n",
    "data_red.plot()"
   ]
  },
  {
   "cell_type": "code",
   "execution_count": 24,
   "metadata": {},
   "outputs": [
    {
     "name": "stdout",
     "output_type": "stream",
     "text": [
      "(217628, 24)\n",
      "(217628, 21)\n"
     ]
    },
    {
     "data": {
      "text/plain": [
       "1    149915\n",
       "0     67713\n",
       "Name: attack_flag, dtype: int64"
      ]
     },
     "execution_count": 24,
     "metadata": {},
     "output_type": "execute_result"
    }
   ],
   "source": [
    "# slice dataset, drop additional features\n",
    "print(data.shape)\n",
    "data = data.drop(['start time', 'dst IP', 'src IP'], axis=1)\n",
    "print(data.shape)\n",
    "\n",
    "# drop software markers\n",
    "data = data.drop([\"IDS detection\", \"Malware detection\", \"Ashula detection\"], axis=1)\n",
    "data[\"attack_flag\"].value_counts()"
   ]
  },
  {
   "cell_type": "code",
   "execution_count": 25,
   "metadata": {},
   "outputs": [
    {
     "name": "stdout",
     "output_type": "stream",
     "text": [
      "<class 'pandas.core.frame.DataFrame'>\n",
      "RangeIndex: 217628 entries, 0 to 217627\n",
      "Data columns (total 18 columns):\n",
      "conn len                       217628 non-null float64\n",
      "service                        217628 non-null object\n",
      "src bytes                      217628 non-null int64\n",
      "dst bytes                      217628 non-null int64\n",
      "conn numb                      217628 non-null int64\n",
      "Same srv rate                  217628 non-null float64\n",
      "Serror rate                    217628 non-null float64\n",
      "Srv serror rate                217628 non-null float64\n",
      "Dst host count                 217628 non-null int64\n",
      "Dst host srv count             217628 non-null int64\n",
      "Dst host same src port rate    217628 non-null float64\n",
      "Dst host serror rate           217628 non-null float64\n",
      "Dst host srv serror rate       217628 non-null float64\n",
      "Conn state                     217628 non-null object\n",
      "attack_flag                    217628 non-null int64\n",
      "src port                       217628 non-null int64\n",
      "dst port                       217628 non-null int64\n",
      "proto                          217628 non-null object\n",
      "dtypes: float64(7), int64(8), object(3)\n",
      "memory usage: 29.9+ MB\n"
     ]
    }
   ],
   "source": [
    "data.info()"
   ]
  },
  {
   "cell_type": "code",
   "execution_count": 26,
   "metadata": {},
   "outputs": [
    {
     "data": {
      "text/html": [
       "<div>\n",
       "<style scoped>\n",
       "    .dataframe tbody tr th:only-of-type {\n",
       "        vertical-align: middle;\n",
       "    }\n",
       "\n",
       "    .dataframe tbody tr th {\n",
       "        vertical-align: top;\n",
       "    }\n",
       "\n",
       "    .dataframe thead th {\n",
       "        text-align: right;\n",
       "    }\n",
       "</style>\n",
       "<table border=\"1\" class=\"dataframe\">\n",
       "  <thead>\n",
       "    <tr style=\"text-align: right;\">\n",
       "      <th></th>\n",
       "      <th>conn len</th>\n",
       "      <th>service</th>\n",
       "      <th>src bytes</th>\n",
       "      <th>dst bytes</th>\n",
       "      <th>conn numb</th>\n",
       "      <th>Same srv rate</th>\n",
       "      <th>Serror rate</th>\n",
       "      <th>Srv serror rate</th>\n",
       "      <th>Dst host count</th>\n",
       "      <th>Dst host srv count</th>\n",
       "      <th>Dst host same src port rate</th>\n",
       "      <th>Dst host serror rate</th>\n",
       "      <th>Dst host srv serror rate</th>\n",
       "      <th>Conn state</th>\n",
       "      <th>attack_flag</th>\n",
       "      <th>src port</th>\n",
       "      <th>dst port</th>\n",
       "      <th>proto</th>\n",
       "    </tr>\n",
       "  </thead>\n",
       "  <tbody>\n",
       "    <tr>\n",
       "      <th>217618</th>\n",
       "      <td>0.410043</td>\n",
       "      <td>other</td>\n",
       "      <td>150</td>\n",
       "      <td>0</td>\n",
       "      <td>0</td>\n",
       "      <td>0.0</td>\n",
       "      <td>0.0</td>\n",
       "      <td>1.0</td>\n",
       "      <td>0</td>\n",
       "      <td>0</td>\n",
       "      <td>0.0</td>\n",
       "      <td>0.0</td>\n",
       "      <td>0.0</td>\n",
       "      <td>S0</td>\n",
       "      <td>1</td>\n",
       "      <td>6338</td>\n",
       "      <td>17989</td>\n",
       "      <td>udp</td>\n",
       "    </tr>\n",
       "    <tr>\n",
       "      <th>217619</th>\n",
       "      <td>0.000000</td>\n",
       "      <td>other</td>\n",
       "      <td>0</td>\n",
       "      <td>0</td>\n",
       "      <td>0</td>\n",
       "      <td>0.0</td>\n",
       "      <td>0.0</td>\n",
       "      <td>1.0</td>\n",
       "      <td>0</td>\n",
       "      <td>0</td>\n",
       "      <td>0.0</td>\n",
       "      <td>0.0</td>\n",
       "      <td>0.0</td>\n",
       "      <td>OTH</td>\n",
       "      <td>1</td>\n",
       "      <td>11</td>\n",
       "      <td>0</td>\n",
       "      <td>icmp</td>\n",
       "    </tr>\n",
       "    <tr>\n",
       "      <th>217620</th>\n",
       "      <td>1.215994</td>\n",
       "      <td>other</td>\n",
       "      <td>60</td>\n",
       "      <td>0</td>\n",
       "      <td>0</td>\n",
       "      <td>0.0</td>\n",
       "      <td>0.0</td>\n",
       "      <td>0.0</td>\n",
       "      <td>0</td>\n",
       "      <td>0</td>\n",
       "      <td>0.0</td>\n",
       "      <td>0.0</td>\n",
       "      <td>0.0</td>\n",
       "      <td>S0</td>\n",
       "      <td>1</td>\n",
       "      <td>14015</td>\n",
       "      <td>17989</td>\n",
       "      <td>udp</td>\n",
       "    </tr>\n",
       "    <tr>\n",
       "      <th>217621</th>\n",
       "      <td>0.000000</td>\n",
       "      <td>dns</td>\n",
       "      <td>0</td>\n",
       "      <td>0</td>\n",
       "      <td>0</td>\n",
       "      <td>0.0</td>\n",
       "      <td>0.0</td>\n",
       "      <td>0.0</td>\n",
       "      <td>0</td>\n",
       "      <td>0</td>\n",
       "      <td>0.0</td>\n",
       "      <td>0.0</td>\n",
       "      <td>0.0</td>\n",
       "      <td>S0</td>\n",
       "      <td>1</td>\n",
       "      <td>44074</td>\n",
       "      <td>53</td>\n",
       "      <td>udp</td>\n",
       "    </tr>\n",
       "    <tr>\n",
       "      <th>217622</th>\n",
       "      <td>0.000000</td>\n",
       "      <td>other</td>\n",
       "      <td>0</td>\n",
       "      <td>0</td>\n",
       "      <td>0</td>\n",
       "      <td>0.0</td>\n",
       "      <td>0.0</td>\n",
       "      <td>1.0</td>\n",
       "      <td>0</td>\n",
       "      <td>0</td>\n",
       "      <td>0.0</td>\n",
       "      <td>0.0</td>\n",
       "      <td>0.0</td>\n",
       "      <td>S0</td>\n",
       "      <td>1</td>\n",
       "      <td>49263</td>\n",
       "      <td>25</td>\n",
       "      <td>tcp</td>\n",
       "    </tr>\n",
       "    <tr>\n",
       "      <th>217623</th>\n",
       "      <td>0.000000</td>\n",
       "      <td>other</td>\n",
       "      <td>0</td>\n",
       "      <td>0</td>\n",
       "      <td>1</td>\n",
       "      <td>1.0</td>\n",
       "      <td>1.0</td>\n",
       "      <td>1.0</td>\n",
       "      <td>0</td>\n",
       "      <td>1</td>\n",
       "      <td>0.0</td>\n",
       "      <td>0.0</td>\n",
       "      <td>1.0</td>\n",
       "      <td>S0</td>\n",
       "      <td>1</td>\n",
       "      <td>58398</td>\n",
       "      <td>25</td>\n",
       "      <td>tcp</td>\n",
       "    </tr>\n",
       "    <tr>\n",
       "      <th>217624</th>\n",
       "      <td>0.000000</td>\n",
       "      <td>other</td>\n",
       "      <td>0</td>\n",
       "      <td>0</td>\n",
       "      <td>0</td>\n",
       "      <td>0.0</td>\n",
       "      <td>0.0</td>\n",
       "      <td>1.0</td>\n",
       "      <td>2</td>\n",
       "      <td>2</td>\n",
       "      <td>1.0</td>\n",
       "      <td>1.0</td>\n",
       "      <td>1.0</td>\n",
       "      <td>S0</td>\n",
       "      <td>1</td>\n",
       "      <td>55373</td>\n",
       "      <td>23</td>\n",
       "      <td>tcp</td>\n",
       "    </tr>\n",
       "    <tr>\n",
       "      <th>217625</th>\n",
       "      <td>0.000000</td>\n",
       "      <td>other</td>\n",
       "      <td>0</td>\n",
       "      <td>0</td>\n",
       "      <td>0</td>\n",
       "      <td>0.0</td>\n",
       "      <td>0.0</td>\n",
       "      <td>1.0</td>\n",
       "      <td>0</td>\n",
       "      <td>0</td>\n",
       "      <td>0.0</td>\n",
       "      <td>0.0</td>\n",
       "      <td>0.0</td>\n",
       "      <td>S0</td>\n",
       "      <td>1</td>\n",
       "      <td>33244</td>\n",
       "      <td>25</td>\n",
       "      <td>tcp</td>\n",
       "    </tr>\n",
       "    <tr>\n",
       "      <th>217626</th>\n",
       "      <td>0.000000</td>\n",
       "      <td>other</td>\n",
       "      <td>0</td>\n",
       "      <td>0</td>\n",
       "      <td>1</td>\n",
       "      <td>1.0</td>\n",
       "      <td>1.0</td>\n",
       "      <td>1.0</td>\n",
       "      <td>0</td>\n",
       "      <td>1</td>\n",
       "      <td>0.0</td>\n",
       "      <td>0.0</td>\n",
       "      <td>1.0</td>\n",
       "      <td>S0</td>\n",
       "      <td>1</td>\n",
       "      <td>47476</td>\n",
       "      <td>25</td>\n",
       "      <td>tcp</td>\n",
       "    </tr>\n",
       "    <tr>\n",
       "      <th>217627</th>\n",
       "      <td>0.000000</td>\n",
       "      <td>other</td>\n",
       "      <td>0</td>\n",
       "      <td>0</td>\n",
       "      <td>0</td>\n",
       "      <td>0.0</td>\n",
       "      <td>0.0</td>\n",
       "      <td>1.0</td>\n",
       "      <td>0</td>\n",
       "      <td>0</td>\n",
       "      <td>0.0</td>\n",
       "      <td>0.0</td>\n",
       "      <td>0.0</td>\n",
       "      <td>S0</td>\n",
       "      <td>1</td>\n",
       "      <td>10106</td>\n",
       "      <td>17989</td>\n",
       "      <td>udp</td>\n",
       "    </tr>\n",
       "  </tbody>\n",
       "</table>\n",
       "</div>"
      ],
      "text/plain": [
       "        conn len service  src bytes  dst bytes  conn numb  Same srv rate  \\\n",
       "217618  0.410043   other        150          0          0            0.0   \n",
       "217619  0.000000   other          0          0          0            0.0   \n",
       "217620  1.215994   other         60          0          0            0.0   \n",
       "217621  0.000000     dns          0          0          0            0.0   \n",
       "217622  0.000000   other          0          0          0            0.0   \n",
       "217623  0.000000   other          0          0          1            1.0   \n",
       "217624  0.000000   other          0          0          0            0.0   \n",
       "217625  0.000000   other          0          0          0            0.0   \n",
       "217626  0.000000   other          0          0          1            1.0   \n",
       "217627  0.000000   other          0          0          0            0.0   \n",
       "\n",
       "        Serror rate  Srv serror rate  Dst host count  Dst host srv count  \\\n",
       "217618          0.0              1.0               0                   0   \n",
       "217619          0.0              1.0               0                   0   \n",
       "217620          0.0              0.0               0                   0   \n",
       "217621          0.0              0.0               0                   0   \n",
       "217622          0.0              1.0               0                   0   \n",
       "217623          1.0              1.0               0                   1   \n",
       "217624          0.0              1.0               2                   2   \n",
       "217625          0.0              1.0               0                   0   \n",
       "217626          1.0              1.0               0                   1   \n",
       "217627          0.0              1.0               0                   0   \n",
       "\n",
       "        Dst host same src port rate  Dst host serror rate  \\\n",
       "217618                          0.0                   0.0   \n",
       "217619                          0.0                   0.0   \n",
       "217620                          0.0                   0.0   \n",
       "217621                          0.0                   0.0   \n",
       "217622                          0.0                   0.0   \n",
       "217623                          0.0                   0.0   \n",
       "217624                          1.0                   1.0   \n",
       "217625                          0.0                   0.0   \n",
       "217626                          0.0                   0.0   \n",
       "217627                          0.0                   0.0   \n",
       "\n",
       "        Dst host srv serror rate Conn state  attack_flag  src port  dst port  \\\n",
       "217618                       0.0         S0            1      6338     17989   \n",
       "217619                       0.0        OTH            1        11         0   \n",
       "217620                       0.0         S0            1     14015     17989   \n",
       "217621                       0.0         S0            1     44074        53   \n",
       "217622                       0.0         S0            1     49263        25   \n",
       "217623                       1.0         S0            1     58398        25   \n",
       "217624                       1.0         S0            1     55373        23   \n",
       "217625                       0.0         S0            1     33244        25   \n",
       "217626                       1.0         S0            1     47476        25   \n",
       "217627                       0.0         S0            1     10106     17989   \n",
       "\n",
       "       proto  \n",
       "217618   udp  \n",
       "217619  icmp  \n",
       "217620   udp  \n",
       "217621   udp  \n",
       "217622   tcp  \n",
       "217623   tcp  \n",
       "217624   tcp  \n",
       "217625   tcp  \n",
       "217626   tcp  \n",
       "217627   udp  "
      ]
     },
     "execution_count": 26,
     "metadata": {},
     "output_type": "execute_result"
    }
   ],
   "source": [
    "data.tail(10)"
   ]
  },
  {
   "cell_type": "code",
   "execution_count": 27,
   "metadata": {},
   "outputs": [
    {
     "data": {
      "text/html": [
       "<div>\n",
       "<style scoped>\n",
       "    .dataframe tbody tr th:only-of-type {\n",
       "        vertical-align: middle;\n",
       "    }\n",
       "\n",
       "    .dataframe tbody tr th {\n",
       "        vertical-align: top;\n",
       "    }\n",
       "\n",
       "    .dataframe thead th {\n",
       "        text-align: right;\n",
       "    }\n",
       "</style>\n",
       "<table border=\"1\" class=\"dataframe\">\n",
       "  <thead>\n",
       "    <tr style=\"text-align: right;\">\n",
       "      <th></th>\n",
       "      <th>conn len</th>\n",
       "      <th>src bytes</th>\n",
       "      <th>dst bytes</th>\n",
       "      <th>conn numb</th>\n",
       "      <th>Same srv rate</th>\n",
       "      <th>Serror rate</th>\n",
       "      <th>Srv serror rate</th>\n",
       "      <th>Dst host count</th>\n",
       "      <th>Dst host srv count</th>\n",
       "      <th>Dst host same src port rate</th>\n",
       "      <th>Dst host serror rate</th>\n",
       "      <th>Dst host srv serror rate</th>\n",
       "      <th>attack_flag</th>\n",
       "      <th>src port</th>\n",
       "      <th>dst port</th>\n",
       "    </tr>\n",
       "  </thead>\n",
       "  <tbody>\n",
       "    <tr>\n",
       "      <th>count</th>\n",
       "      <td>217628.000000</td>\n",
       "      <td>217628.000000</td>\n",
       "      <td>217628.000000</td>\n",
       "      <td>217628.000000</td>\n",
       "      <td>217628.000000</td>\n",
       "      <td>217628.000000</td>\n",
       "      <td>217628.000000</td>\n",
       "      <td>217628.000000</td>\n",
       "      <td>217628.000000</td>\n",
       "      <td>217628.000000</td>\n",
       "      <td>217628.000000</td>\n",
       "      <td>217628.000000</td>\n",
       "      <td>217628.000000</td>\n",
       "      <td>217628.000000</td>\n",
       "      <td>217628.000000</td>\n",
       "    </tr>\n",
       "    <tr>\n",
       "      <th>mean</th>\n",
       "      <td>0.855259</td>\n",
       "      <td>56.899333</td>\n",
       "      <td>122.064555</td>\n",
       "      <td>2.952263</td>\n",
       "      <td>0.417481</td>\n",
       "      <td>0.089564</td>\n",
       "      <td>0.542215</td>\n",
       "      <td>29.491720</td>\n",
       "      <td>31.876730</td>\n",
       "      <td>0.071694</td>\n",
       "      <td>0.066464</td>\n",
       "      <td>0.146028</td>\n",
       "      <td>0.688859</td>\n",
       "      <td>34292.130006</td>\n",
       "      <td>3550.084736</td>\n",
       "    </tr>\n",
       "    <tr>\n",
       "      <th>std</th>\n",
       "      <td>3.085410</td>\n",
       "      <td>519.846915</td>\n",
       "      <td>748.123612</td>\n",
       "      <td>5.519918</td>\n",
       "      <td>0.491905</td>\n",
       "      <td>0.284547</td>\n",
       "      <td>0.467622</td>\n",
       "      <td>44.351499</td>\n",
       "      <td>43.928101</td>\n",
       "      <td>0.256081</td>\n",
       "      <td>0.248495</td>\n",
       "      <td>0.350052</td>\n",
       "      <td>0.462961</td>\n",
       "      <td>19708.835701</td>\n",
       "      <td>10869.634486</td>\n",
       "    </tr>\n",
       "    <tr>\n",
       "      <th>min</th>\n",
       "      <td>0.000000</td>\n",
       "      <td>0.000000</td>\n",
       "      <td>0.000000</td>\n",
       "      <td>0.000000</td>\n",
       "      <td>0.000000</td>\n",
       "      <td>0.000000</td>\n",
       "      <td>0.000000</td>\n",
       "      <td>0.000000</td>\n",
       "      <td>0.000000</td>\n",
       "      <td>0.000000</td>\n",
       "      <td>0.000000</td>\n",
       "      <td>0.000000</td>\n",
       "      <td>0.000000</td>\n",
       "      <td>0.000000</td>\n",
       "      <td>0.000000</td>\n",
       "    </tr>\n",
       "    <tr>\n",
       "      <th>25%</th>\n",
       "      <td>0.000000</td>\n",
       "      <td>0.000000</td>\n",
       "      <td>0.000000</td>\n",
       "      <td>0.000000</td>\n",
       "      <td>0.000000</td>\n",
       "      <td>0.000000</td>\n",
       "      <td>0.000000</td>\n",
       "      <td>0.000000</td>\n",
       "      <td>0.000000</td>\n",
       "      <td>0.000000</td>\n",
       "      <td>0.000000</td>\n",
       "      <td>0.000000</td>\n",
       "      <td>0.000000</td>\n",
       "      <td>12375.000000</td>\n",
       "      <td>25.000000</td>\n",
       "    </tr>\n",
       "    <tr>\n",
       "      <th>50%</th>\n",
       "      <td>0.000290</td>\n",
       "      <td>0.000000</td>\n",
       "      <td>0.000000</td>\n",
       "      <td>0.000000</td>\n",
       "      <td>0.000000</td>\n",
       "      <td>0.000000</td>\n",
       "      <td>0.750000</td>\n",
       "      <td>0.000000</td>\n",
       "      <td>1.000000</td>\n",
       "      <td>0.000000</td>\n",
       "      <td>0.000000</td>\n",
       "      <td>0.000000</td>\n",
       "      <td>1.000000</td>\n",
       "      <td>39682.000000</td>\n",
       "      <td>53.000000</td>\n",
       "    </tr>\n",
       "    <tr>\n",
       "      <th>75%</th>\n",
       "      <td>0.013333</td>\n",
       "      <td>45.000000</td>\n",
       "      <td>61.000000</td>\n",
       "      <td>5.000000</td>\n",
       "      <td>1.000000</td>\n",
       "      <td>0.000000</td>\n",
       "      <td>1.000000</td>\n",
       "      <td>96.000000</td>\n",
       "      <td>96.000000</td>\n",
       "      <td>0.000000</td>\n",
       "      <td>0.000000</td>\n",
       "      <td>0.000000</td>\n",
       "      <td>1.000000</td>\n",
       "      <td>50473.000000</td>\n",
       "      <td>1433.000000</td>\n",
       "    </tr>\n",
       "    <tr>\n",
       "      <th>max</th>\n",
       "      <td>563.012764</td>\n",
       "      <td>88066.000000</td>\n",
       "      <td>157723.000000</td>\n",
       "      <td>84.000000</td>\n",
       "      <td>1.000000</td>\n",
       "      <td>1.000000</td>\n",
       "      <td>1.000000</td>\n",
       "      <td>100.000000</td>\n",
       "      <td>100.000000</td>\n",
       "      <td>1.000000</td>\n",
       "      <td>1.000000</td>\n",
       "      <td>1.000000</td>\n",
       "      <td>1.000000</td>\n",
       "      <td>65535.000000</td>\n",
       "      <td>65498.000000</td>\n",
       "    </tr>\n",
       "  </tbody>\n",
       "</table>\n",
       "</div>"
      ],
      "text/plain": [
       "            conn len      src bytes      dst bytes      conn numb  \\\n",
       "count  217628.000000  217628.000000  217628.000000  217628.000000   \n",
       "mean        0.855259      56.899333     122.064555       2.952263   \n",
       "std         3.085410     519.846915     748.123612       5.519918   \n",
       "min         0.000000       0.000000       0.000000       0.000000   \n",
       "25%         0.000000       0.000000       0.000000       0.000000   \n",
       "50%         0.000290       0.000000       0.000000       0.000000   \n",
       "75%         0.013333      45.000000      61.000000       5.000000   \n",
       "max       563.012764   88066.000000  157723.000000      84.000000   \n",
       "\n",
       "       Same srv rate    Serror rate  Srv serror rate  Dst host count  \\\n",
       "count  217628.000000  217628.000000    217628.000000   217628.000000   \n",
       "mean        0.417481       0.089564         0.542215       29.491720   \n",
       "std         0.491905       0.284547         0.467622       44.351499   \n",
       "min         0.000000       0.000000         0.000000        0.000000   \n",
       "25%         0.000000       0.000000         0.000000        0.000000   \n",
       "50%         0.000000       0.000000         0.750000        0.000000   \n",
       "75%         1.000000       0.000000         1.000000       96.000000   \n",
       "max         1.000000       1.000000         1.000000      100.000000   \n",
       "\n",
       "       Dst host srv count  Dst host same src port rate  Dst host serror rate  \\\n",
       "count       217628.000000                217628.000000         217628.000000   \n",
       "mean            31.876730                     0.071694              0.066464   \n",
       "std             43.928101                     0.256081              0.248495   \n",
       "min              0.000000                     0.000000              0.000000   \n",
       "25%              0.000000                     0.000000              0.000000   \n",
       "50%              1.000000                     0.000000              0.000000   \n",
       "75%             96.000000                     0.000000              0.000000   \n",
       "max            100.000000                     1.000000              1.000000   \n",
       "\n",
       "       Dst host srv serror rate    attack_flag       src port       dst port  \n",
       "count             217628.000000  217628.000000  217628.000000  217628.000000  \n",
       "mean                   0.146028       0.688859   34292.130006    3550.084736  \n",
       "std                    0.350052       0.462961   19708.835701   10869.634486  \n",
       "min                    0.000000       0.000000       0.000000       0.000000  \n",
       "25%                    0.000000       0.000000   12375.000000      25.000000  \n",
       "50%                    0.000000       1.000000   39682.000000      53.000000  \n",
       "75%                    0.000000       1.000000   50473.000000    1433.000000  \n",
       "max                    1.000000       1.000000   65535.000000   65498.000000  "
      ]
     },
     "execution_count": 27,
     "metadata": {},
     "output_type": "execute_result"
    }
   ],
   "source": [
    "data.describe()"
   ]
  },
  {
   "cell_type": "code",
   "execution_count": 28,
   "metadata": {},
   "outputs": [
    {
     "data": {
      "text/plain": [
       "(217628, 18)"
      ]
     },
     "execution_count": 28,
     "metadata": {},
     "output_type": "execute_result"
    }
   ],
   "source": [
    "# removing NaNs\n",
    "data = data.dropna()\n",
    "data.shape"
   ]
  },
  {
   "cell_type": "code",
   "execution_count": 29,
   "metadata": {},
   "outputs": [
    {
     "data": {
      "text/plain": [
       "S0        127464\n",
       "SF         59944\n",
       "RSTO       11476\n",
       "OTH         8640\n",
       "REJ         7998\n",
       "RSTRH        733\n",
       "RSTOS0       634\n",
       "SHR          381\n",
       "RSTR         304\n",
       "S1            52\n",
       "SH             2\n",
       "Name: Conn state, dtype: int64"
      ]
     },
     "execution_count": 29,
     "metadata": {},
     "output_type": "execute_result"
    }
   ],
   "source": [
    "data[\"Conn state\"].value_counts(dropna=False)"
   ]
  },
  {
   "cell_type": "code",
   "execution_count": 30,
   "metadata": {},
   "outputs": [
    {
     "data": {
      "text/plain": [
       "other    126080\n",
       "dns       61990\n",
       "sip       16519\n",
       "ssh       11518\n",
       "snmp        665\n",
       "smtp        495\n",
       "rdp         328\n",
       "dhcp         20\n",
       "http         11\n",
       "ssl           2\n",
       "Name: service, dtype: int64"
      ]
     },
     "execution_count": 30,
     "metadata": {},
     "output_type": "execute_result"
    }
   ],
   "source": [
    "data[\"service\"].value_counts(dropna=False)"
   ]
  },
  {
   "cell_type": "code",
   "execution_count": 31,
   "metadata": {},
   "outputs": [
    {
     "data": {
      "text/plain": [
       "tcp     119162\n",
       "udp      93548\n",
       "icmp      4918\n",
       "Name: proto, dtype: int64"
      ]
     },
     "execution_count": 31,
     "metadata": {},
     "output_type": "execute_result"
    }
   ],
   "source": [
    "data[\"proto\"].value_counts(dropna=False)"
   ]
  },
  {
   "cell_type": "markdown",
   "metadata": {},
   "source": [
    "# a bit of feature engineering"
   ]
  },
  {
   "cell_type": "markdown",
   "metadata": {},
   "source": [
    "## port numbers classification"
   ]
  },
  {
   "cell_type": "code",
   "execution_count": 33,
   "metadata": {},
   "outputs": [],
   "source": [
    "t1 = 1023  # well-known port numbers\n",
    "t2 = 49151 # registered ports\n",
    "t3 = 65535 # client ports\n",
    "\n",
    "def wk(data_row):\n",
    "    if (data_row[\"src port\"] <= t1): \n",
    "        value = 1\n",
    "    elif ((data_row[\"src port\"] > t1) and (data_row[\"src port\"] <= t2)):\n",
    "        value = 0\n",
    "    elif ((data_row[\"src port\"] > t2) and (data_row[\"src port\"] <= t3)):\n",
    "        value = 0\n",
    "    return value\n",
    "\n",
    "def reg(data_row):\n",
    "    if (data_row[\"src port\"] <= t1): \n",
    "        value = 0\n",
    "    elif ((data_row[\"src port\"] > t1) and (data_row[\"src port\"] <= t2)):\n",
    "        value = 1\n",
    "    elif ((data_row[\"src port\"] > t2) and (data_row[\"src port\"] <= t3)):\n",
    "        value = 0\n",
    "    return value\n",
    "\n",
    "def cli(data_row):\n",
    "    if (data_row[\"src port\"] <= t1): \n",
    "        value = 0\n",
    "    elif ((data_row[\"src port\"] > t1) and (data_row[\"src port\"] <= t2)):\n",
    "        value = 0\n",
    "    elif ((data_row[\"src port\"] > t2) and (data_row[\"src port\"] <= t3)):\n",
    "        value = 1\n",
    "    return value\n",
    "\n",
    "data[\"well-known src pool\"] = data.apply(wk, axis=1)\n",
    "data[\"registered src pool\"] = data.apply(reg, axis=1)\n",
    "data[\"cli src pool\"] = data.apply(cli, axis=1)"
   ]
  },
  {
   "cell_type": "code",
   "execution_count": 34,
   "metadata": {},
   "outputs": [
    {
     "name": "stdout",
     "output_type": "stream",
     "text": [
      "Counter({0: 211216, 1: 6412})\n",
      "Counter({1: 150534, 0: 67094})\n",
      "Counter({0: 156946, 1: 60682})\n"
     ]
    }
   ],
   "source": [
    "print(Counter(data[\"well-known src pool\"]))\n",
    "print(Counter(data[\"registered src pool\"]))\n",
    "print(Counter(data[\"cli src pool\"]))"
   ]
  },
  {
   "cell_type": "code",
   "execution_count": 35,
   "metadata": {},
   "outputs": [],
   "source": [
    "# def wk(data_row):\n",
    "#     if (data_row[\"dst port\"] <= t1): \n",
    "#         value = 1\n",
    "#     elif ((data_row[\"dst port\"] > t1) and (data_row[\"dst port\"] <= t2)):\n",
    "#         value = 0\n",
    "#     elif ((data_row[\"dst port\"] > t2) and (data_row[\"dst port\"] <= t3)):\n",
    "#         value = 0\n",
    "#     return value\n",
    "\n",
    "# def reg(data_row):\n",
    "#     if (data_row[\"dst port\"] <= t1): \n",
    "#         value = 0\n",
    "#     elif ((data_row[\"dst port\"] > t1) and (data_row[\"dst port\"] <= t2)):\n",
    "#         value = 1\n",
    "#     elif ((data_row[\"dst port\"] > t2) and (data_row[\"dst port\"] <= t3)):\n",
    "#         value = 0\n",
    "#     return value\n",
    "\n",
    "# def cli(data_row):\n",
    "#     if (data_row[\"dst port\"] <= t1): \n",
    "#         value = 0\n",
    "#     elif ((data_row[\"dst port\"] > t1) and (data_row[\"dst port\"] <= t2)):\n",
    "#         value = 0\n",
    "#     elif ((data_row[\"dst port\"] > t2) and (data_row[\"dst port\"] <= t3)):\n",
    "#         value = 1\n",
    "#     return value\n",
    "\n",
    "# data[\"well-known dst pool\"] = data.apply(wk, axis=1)\n",
    "# data[\"registered dst pool\"] = data.apply(reg, axis=1)\n",
    "# data[\"cli dst pool\"] = data.apply(cli, axis=1)"
   ]
  },
  {
   "cell_type": "code",
   "execution_count": 36,
   "metadata": {},
   "outputs": [],
   "source": [
    "# print(Counter(data[\"well-known dst pool\"]))\n",
    "# print(Counter(data[\"registered dst pool\"]))\n",
    "# print(Counter(data[\"cli dst pool\"]))"
   ]
  },
  {
   "cell_type": "code",
   "execution_count": 37,
   "metadata": {
    "scrolled": true
   },
   "outputs": [
    {
     "name": "stdout",
     "output_type": "stream",
     "text": [
      "<class 'pandas.core.frame.DataFrame'>\n",
      "Int64Index: 217628 entries, 0 to 217627\n",
      "Data columns (total 21 columns):\n",
      "conn len                       217628 non-null float64\n",
      "service                        217628 non-null object\n",
      "src bytes                      217628 non-null int64\n",
      "dst bytes                      217628 non-null int64\n",
      "conn numb                      217628 non-null int64\n",
      "Same srv rate                  217628 non-null float64\n",
      "Serror rate                    217628 non-null float64\n",
      "Srv serror rate                217628 non-null float64\n",
      "Dst host count                 217628 non-null int64\n",
      "Dst host srv count             217628 non-null int64\n",
      "Dst host same src port rate    217628 non-null float64\n",
      "Dst host serror rate           217628 non-null float64\n",
      "Dst host srv serror rate       217628 non-null float64\n",
      "Conn state                     217628 non-null object\n",
      "attack_flag                    217628 non-null int64\n",
      "src port                       217628 non-null int64\n",
      "dst port                       217628 non-null int64\n",
      "proto                          217628 non-null object\n",
      "well-known src pool            217628 non-null int64\n",
      "registered src pool            217628 non-null int64\n",
      "cli src pool                   217628 non-null int64\n",
      "dtypes: float64(7), int64(11), object(3)\n",
      "memory usage: 36.5+ MB\n"
     ]
    }
   ],
   "source": [
    "data.info()"
   ]
  },
  {
   "cell_type": "code",
   "execution_count": 38,
   "metadata": {},
   "outputs": [
    {
     "data": {
      "text/html": [
       "<div>\n",
       "<style scoped>\n",
       "    .dataframe tbody tr th:only-of-type {\n",
       "        vertical-align: middle;\n",
       "    }\n",
       "\n",
       "    .dataframe tbody tr th {\n",
       "        vertical-align: top;\n",
       "    }\n",
       "\n",
       "    .dataframe thead th {\n",
       "        text-align: right;\n",
       "    }\n",
       "</style>\n",
       "<table border=\"1\" class=\"dataframe\">\n",
       "  <thead>\n",
       "    <tr style=\"text-align: right;\">\n",
       "      <th></th>\n",
       "      <th>src port</th>\n",
       "      <th>dst port</th>\n",
       "      <th>well-known src pool</th>\n",
       "      <th>registered src pool</th>\n",
       "      <th>cli src pool</th>\n",
       "    </tr>\n",
       "  </thead>\n",
       "  <tbody>\n",
       "    <tr>\n",
       "      <th>0</th>\n",
       "      <td>40061</td>\n",
       "      <td>111</td>\n",
       "      <td>0</td>\n",
       "      <td>1</td>\n",
       "      <td>0</td>\n",
       "    </tr>\n",
       "    <tr>\n",
       "      <th>1</th>\n",
       "      <td>53488</td>\n",
       "      <td>80</td>\n",
       "      <td>0</td>\n",
       "      <td>0</td>\n",
       "      <td>1</td>\n",
       "    </tr>\n",
       "    <tr>\n",
       "      <th>2</th>\n",
       "      <td>35051</td>\n",
       "      <td>23</td>\n",
       "      <td>0</td>\n",
       "      <td>1</td>\n",
       "      <td>0</td>\n",
       "    </tr>\n",
       "    <tr>\n",
       "      <th>3</th>\n",
       "      <td>1408</td>\n",
       "      <td>445</td>\n",
       "      <td>0</td>\n",
       "      <td>1</td>\n",
       "      <td>0</td>\n",
       "    </tr>\n",
       "    <tr>\n",
       "      <th>4</th>\n",
       "      <td>55244</td>\n",
       "      <td>995</td>\n",
       "      <td>0</td>\n",
       "      <td>0</td>\n",
       "      <td>1</td>\n",
       "    </tr>\n",
       "    <tr>\n",
       "      <th>5</th>\n",
       "      <td>44544</td>\n",
       "      <td>995</td>\n",
       "      <td>0</td>\n",
       "      <td>1</td>\n",
       "      <td>0</td>\n",
       "    </tr>\n",
       "    <tr>\n",
       "      <th>6</th>\n",
       "      <td>50678</td>\n",
       "      <td>5900</td>\n",
       "      <td>0</td>\n",
       "      <td>0</td>\n",
       "      <td>1</td>\n",
       "    </tr>\n",
       "    <tr>\n",
       "      <th>7</th>\n",
       "      <td>35051</td>\n",
       "      <td>23</td>\n",
       "      <td>0</td>\n",
       "      <td>1</td>\n",
       "      <td>0</td>\n",
       "    </tr>\n",
       "    <tr>\n",
       "      <th>8</th>\n",
       "      <td>50678</td>\n",
       "      <td>5900</td>\n",
       "      <td>0</td>\n",
       "      <td>0</td>\n",
       "      <td>1</td>\n",
       "    </tr>\n",
       "    <tr>\n",
       "      <th>9</th>\n",
       "      <td>50678</td>\n",
       "      <td>5900</td>\n",
       "      <td>0</td>\n",
       "      <td>0</td>\n",
       "      <td>1</td>\n",
       "    </tr>\n",
       "    <tr>\n",
       "      <th>10</th>\n",
       "      <td>59625</td>\n",
       "      <td>21</td>\n",
       "      <td>0</td>\n",
       "      <td>0</td>\n",
       "      <td>1</td>\n",
       "    </tr>\n",
       "    <tr>\n",
       "      <th>11</th>\n",
       "      <td>42626</td>\n",
       "      <td>111</td>\n",
       "      <td>0</td>\n",
       "      <td>1</td>\n",
       "      <td>0</td>\n",
       "    </tr>\n",
       "    <tr>\n",
       "      <th>12</th>\n",
       "      <td>2194</td>\n",
       "      <td>445</td>\n",
       "      <td>0</td>\n",
       "      <td>1</td>\n",
       "      <td>0</td>\n",
       "    </tr>\n",
       "    <tr>\n",
       "      <th>13</th>\n",
       "      <td>7432</td>\n",
       "      <td>22</td>\n",
       "      <td>0</td>\n",
       "      <td>1</td>\n",
       "      <td>0</td>\n",
       "    </tr>\n",
       "    <tr>\n",
       "      <th>14</th>\n",
       "      <td>7206</td>\n",
       "      <td>80</td>\n",
       "      <td>0</td>\n",
       "      <td>1</td>\n",
       "      <td>0</td>\n",
       "    </tr>\n",
       "    <tr>\n",
       "      <th>15</th>\n",
       "      <td>55133</td>\n",
       "      <td>53</td>\n",
       "      <td>0</td>\n",
       "      <td>0</td>\n",
       "      <td>1</td>\n",
       "    </tr>\n",
       "    <tr>\n",
       "      <th>16</th>\n",
       "      <td>60169</td>\n",
       "      <td>80</td>\n",
       "      <td>0</td>\n",
       "      <td>0</td>\n",
       "      <td>1</td>\n",
       "    </tr>\n",
       "    <tr>\n",
       "      <th>17</th>\n",
       "      <td>63030</td>\n",
       "      <td>2222</td>\n",
       "      <td>0</td>\n",
       "      <td>0</td>\n",
       "      <td>1</td>\n",
       "    </tr>\n",
       "    <tr>\n",
       "      <th>18</th>\n",
       "      <td>31905</td>\n",
       "      <td>445</td>\n",
       "      <td>0</td>\n",
       "      <td>1</td>\n",
       "      <td>0</td>\n",
       "    </tr>\n",
       "    <tr>\n",
       "      <th>19</th>\n",
       "      <td>59625</td>\n",
       "      <td>21</td>\n",
       "      <td>0</td>\n",
       "      <td>0</td>\n",
       "      <td>1</td>\n",
       "    </tr>\n",
       "    <tr>\n",
       "      <th>20</th>\n",
       "      <td>36939</td>\n",
       "      <td>111</td>\n",
       "      <td>0</td>\n",
       "      <td>1</td>\n",
       "      <td>0</td>\n",
       "    </tr>\n",
       "    <tr>\n",
       "      <th>21</th>\n",
       "      <td>7432</td>\n",
       "      <td>22</td>\n",
       "      <td>0</td>\n",
       "      <td>1</td>\n",
       "      <td>0</td>\n",
       "    </tr>\n",
       "    <tr>\n",
       "      <th>22</th>\n",
       "      <td>25385</td>\n",
       "      <td>445</td>\n",
       "      <td>0</td>\n",
       "      <td>1</td>\n",
       "      <td>0</td>\n",
       "    </tr>\n",
       "    <tr>\n",
       "      <th>23</th>\n",
       "      <td>36877</td>\n",
       "      <td>2332</td>\n",
       "      <td>0</td>\n",
       "      <td>1</td>\n",
       "      <td>0</td>\n",
       "    </tr>\n",
       "    <tr>\n",
       "      <th>24</th>\n",
       "      <td>7206</td>\n",
       "      <td>80</td>\n",
       "      <td>0</td>\n",
       "      <td>1</td>\n",
       "      <td>0</td>\n",
       "    </tr>\n",
       "    <tr>\n",
       "      <th>25</th>\n",
       "      <td>56346</td>\n",
       "      <td>8888</td>\n",
       "      <td>0</td>\n",
       "      <td>0</td>\n",
       "      <td>1</td>\n",
       "    </tr>\n",
       "    <tr>\n",
       "      <th>26</th>\n",
       "      <td>37854</td>\n",
       "      <td>445</td>\n",
       "      <td>0</td>\n",
       "      <td>1</td>\n",
       "      <td>0</td>\n",
       "    </tr>\n",
       "    <tr>\n",
       "      <th>27</th>\n",
       "      <td>56248</td>\n",
       "      <td>445</td>\n",
       "      <td>0</td>\n",
       "      <td>0</td>\n",
       "      <td>1</td>\n",
       "    </tr>\n",
       "    <tr>\n",
       "      <th>28</th>\n",
       "      <td>38273</td>\n",
       "      <td>1080</td>\n",
       "      <td>0</td>\n",
       "      <td>1</td>\n",
       "      <td>0</td>\n",
       "    </tr>\n",
       "    <tr>\n",
       "      <th>29</th>\n",
       "      <td>3026</td>\n",
       "      <td>445</td>\n",
       "      <td>0</td>\n",
       "      <td>1</td>\n",
       "      <td>0</td>\n",
       "    </tr>\n",
       "  </tbody>\n",
       "</table>\n",
       "</div>"
      ],
      "text/plain": [
       "    src port  dst port  well-known src pool  registered src pool  cli src pool\n",
       "0      40061       111                    0                    1             0\n",
       "1      53488        80                    0                    0             1\n",
       "2      35051        23                    0                    1             0\n",
       "3       1408       445                    0                    1             0\n",
       "4      55244       995                    0                    0             1\n",
       "5      44544       995                    0                    1             0\n",
       "6      50678      5900                    0                    0             1\n",
       "7      35051        23                    0                    1             0\n",
       "8      50678      5900                    0                    0             1\n",
       "9      50678      5900                    0                    0             1\n",
       "10     59625        21                    0                    0             1\n",
       "11     42626       111                    0                    1             0\n",
       "12      2194       445                    0                    1             0\n",
       "13      7432        22                    0                    1             0\n",
       "14      7206        80                    0                    1             0\n",
       "15     55133        53                    0                    0             1\n",
       "16     60169        80                    0                    0             1\n",
       "17     63030      2222                    0                    0             1\n",
       "18     31905       445                    0                    1             0\n",
       "19     59625        21                    0                    0             1\n",
       "20     36939       111                    0                    1             0\n",
       "21      7432        22                    0                    1             0\n",
       "22     25385       445                    0                    1             0\n",
       "23     36877      2332                    0                    1             0\n",
       "24      7206        80                    0                    1             0\n",
       "25     56346      8888                    0                    0             1\n",
       "26     37854       445                    0                    1             0\n",
       "27     56248       445                    0                    0             1\n",
       "28     38273      1080                    0                    1             0\n",
       "29      3026       445                    0                    1             0"
      ]
     },
     "execution_count": 38,
     "metadata": {},
     "output_type": "execute_result"
    }
   ],
   "source": [
    "# data.loc[:, [\"src port\", \"dst port\", \"well-known src pool\", \"registered src pool\", \"cli src pool\", \"well-known dst pool\", \"registered dst pool\", \"cli dst pool\"]].head(30)\n",
    "data.loc[:, [\"src port\", \"dst port\", \"well-known src pool\", \"registered src pool\", \"cli src pool\"]].head(30)"
   ]
  },
  {
   "cell_type": "markdown",
   "metadata": {},
   "source": [
    "## Change port number info to categorical"
   ]
  },
  {
   "cell_type": "code",
   "execution_count": 39,
   "metadata": {},
   "outputs": [],
   "source": [
    "data[\"src port\"] = data[\"src port\"].apply(str)\n",
    "data[\"dst port\"] = data[\"dst port\"].apply(str)\n",
    "data['src port'].nunique()\n",
    "data['dst port'].nunique()\n",
    "\n",
    "thresh1 = 125\n",
    "thresh2 = 125\n",
    "counts1 = data['src port'].value_counts()\n",
    "counts2 = data['dst port'].value_counts()\n",
    "\n",
    "repl1 = counts1[counts1 <= thresh1].index\n",
    "repl2 = counts2[counts2 <= thresh2].index\n",
    "\n",
    "#hot one encoding for src port numbers\n",
    "data = pd.concat([data, pd.get_dummies(data[\"src port\"].replace(repl1, 'other_src'), prefix=\"is_src\")], axis=1)\n",
    "\n",
    "#hot one encoding for dst port numbers\n",
    "data = pd.concat([data, pd.get_dummies(data[\"dst port\"].replace(repl2, 'other_dst'), prefix=\"is_dst\")], axis=1)"
   ]
  },
  {
   "cell_type": "code",
   "execution_count": 40,
   "metadata": {},
   "outputs": [
    {
     "data": {
      "text/plain": [
       "(217628, 214)"
      ]
     },
     "execution_count": 40,
     "metadata": {},
     "output_type": "execute_result"
    }
   ],
   "source": [
    "data.shape"
   ]
  },
  {
   "cell_type": "markdown",
   "metadata": {},
   "source": [
    "## Hot one encoding"
   ]
  },
  {
   "cell_type": "code",
   "execution_count": 41,
   "metadata": {},
   "outputs": [
    {
     "data": {
      "text/html": [
       "<div>\n",
       "<style scoped>\n",
       "    .dataframe tbody tr th:only-of-type {\n",
       "        vertical-align: middle;\n",
       "    }\n",
       "\n",
       "    .dataframe tbody tr th {\n",
       "        vertical-align: top;\n",
       "    }\n",
       "\n",
       "    .dataframe thead th {\n",
       "        text-align: right;\n",
       "    }\n",
       "</style>\n",
       "<table border=\"1\" class=\"dataframe\">\n",
       "  <thead>\n",
       "    <tr style=\"text-align: right;\">\n",
       "      <th></th>\n",
       "      <th>conn len</th>\n",
       "      <th>service</th>\n",
       "      <th>src bytes</th>\n",
       "      <th>dst bytes</th>\n",
       "      <th>conn numb</th>\n",
       "      <th>Same srv rate</th>\n",
       "      <th>Serror rate</th>\n",
       "      <th>Srv serror rate</th>\n",
       "      <th>Dst host count</th>\n",
       "      <th>Dst host srv count</th>\n",
       "      <th>...</th>\n",
       "      <th>state_REJ</th>\n",
       "      <th>state_RSTO</th>\n",
       "      <th>state_RSTOS0</th>\n",
       "      <th>state_RSTR</th>\n",
       "      <th>state_RSTRH</th>\n",
       "      <th>state_S0</th>\n",
       "      <th>state_S1</th>\n",
       "      <th>state_SF</th>\n",
       "      <th>state_SH</th>\n",
       "      <th>state_SHR</th>\n",
       "    </tr>\n",
       "  </thead>\n",
       "  <tbody>\n",
       "    <tr>\n",
       "      <th>217618</th>\n",
       "      <td>0.410043</td>\n",
       "      <td>other</td>\n",
       "      <td>150</td>\n",
       "      <td>0</td>\n",
       "      <td>0</td>\n",
       "      <td>0.0</td>\n",
       "      <td>0.0</td>\n",
       "      <td>1.0</td>\n",
       "      <td>0</td>\n",
       "      <td>0</td>\n",
       "      <td>...</td>\n",
       "      <td>0</td>\n",
       "      <td>0</td>\n",
       "      <td>0</td>\n",
       "      <td>0</td>\n",
       "      <td>0</td>\n",
       "      <td>1</td>\n",
       "      <td>0</td>\n",
       "      <td>0</td>\n",
       "      <td>0</td>\n",
       "      <td>0</td>\n",
       "    </tr>\n",
       "    <tr>\n",
       "      <th>217619</th>\n",
       "      <td>0.000000</td>\n",
       "      <td>other</td>\n",
       "      <td>0</td>\n",
       "      <td>0</td>\n",
       "      <td>0</td>\n",
       "      <td>0.0</td>\n",
       "      <td>0.0</td>\n",
       "      <td>1.0</td>\n",
       "      <td>0</td>\n",
       "      <td>0</td>\n",
       "      <td>...</td>\n",
       "      <td>0</td>\n",
       "      <td>0</td>\n",
       "      <td>0</td>\n",
       "      <td>0</td>\n",
       "      <td>0</td>\n",
       "      <td>0</td>\n",
       "      <td>0</td>\n",
       "      <td>0</td>\n",
       "      <td>0</td>\n",
       "      <td>0</td>\n",
       "    </tr>\n",
       "    <tr>\n",
       "      <th>217620</th>\n",
       "      <td>1.215994</td>\n",
       "      <td>other</td>\n",
       "      <td>60</td>\n",
       "      <td>0</td>\n",
       "      <td>0</td>\n",
       "      <td>0.0</td>\n",
       "      <td>0.0</td>\n",
       "      <td>0.0</td>\n",
       "      <td>0</td>\n",
       "      <td>0</td>\n",
       "      <td>...</td>\n",
       "      <td>0</td>\n",
       "      <td>0</td>\n",
       "      <td>0</td>\n",
       "      <td>0</td>\n",
       "      <td>0</td>\n",
       "      <td>1</td>\n",
       "      <td>0</td>\n",
       "      <td>0</td>\n",
       "      <td>0</td>\n",
       "      <td>0</td>\n",
       "    </tr>\n",
       "    <tr>\n",
       "      <th>217621</th>\n",
       "      <td>0.000000</td>\n",
       "      <td>dns</td>\n",
       "      <td>0</td>\n",
       "      <td>0</td>\n",
       "      <td>0</td>\n",
       "      <td>0.0</td>\n",
       "      <td>0.0</td>\n",
       "      <td>0.0</td>\n",
       "      <td>0</td>\n",
       "      <td>0</td>\n",
       "      <td>...</td>\n",
       "      <td>0</td>\n",
       "      <td>0</td>\n",
       "      <td>0</td>\n",
       "      <td>0</td>\n",
       "      <td>0</td>\n",
       "      <td>1</td>\n",
       "      <td>0</td>\n",
       "      <td>0</td>\n",
       "      <td>0</td>\n",
       "      <td>0</td>\n",
       "    </tr>\n",
       "    <tr>\n",
       "      <th>217622</th>\n",
       "      <td>0.000000</td>\n",
       "      <td>other</td>\n",
       "      <td>0</td>\n",
       "      <td>0</td>\n",
       "      <td>0</td>\n",
       "      <td>0.0</td>\n",
       "      <td>0.0</td>\n",
       "      <td>1.0</td>\n",
       "      <td>0</td>\n",
       "      <td>0</td>\n",
       "      <td>...</td>\n",
       "      <td>0</td>\n",
       "      <td>0</td>\n",
       "      <td>0</td>\n",
       "      <td>0</td>\n",
       "      <td>0</td>\n",
       "      <td>1</td>\n",
       "      <td>0</td>\n",
       "      <td>0</td>\n",
       "      <td>0</td>\n",
       "      <td>0</td>\n",
       "    </tr>\n",
       "    <tr>\n",
       "      <th>217623</th>\n",
       "      <td>0.000000</td>\n",
       "      <td>other</td>\n",
       "      <td>0</td>\n",
       "      <td>0</td>\n",
       "      <td>1</td>\n",
       "      <td>1.0</td>\n",
       "      <td>1.0</td>\n",
       "      <td>1.0</td>\n",
       "      <td>0</td>\n",
       "      <td>1</td>\n",
       "      <td>...</td>\n",
       "      <td>0</td>\n",
       "      <td>0</td>\n",
       "      <td>0</td>\n",
       "      <td>0</td>\n",
       "      <td>0</td>\n",
       "      <td>1</td>\n",
       "      <td>0</td>\n",
       "      <td>0</td>\n",
       "      <td>0</td>\n",
       "      <td>0</td>\n",
       "    </tr>\n",
       "    <tr>\n",
       "      <th>217624</th>\n",
       "      <td>0.000000</td>\n",
       "      <td>other</td>\n",
       "      <td>0</td>\n",
       "      <td>0</td>\n",
       "      <td>0</td>\n",
       "      <td>0.0</td>\n",
       "      <td>0.0</td>\n",
       "      <td>1.0</td>\n",
       "      <td>2</td>\n",
       "      <td>2</td>\n",
       "      <td>...</td>\n",
       "      <td>0</td>\n",
       "      <td>0</td>\n",
       "      <td>0</td>\n",
       "      <td>0</td>\n",
       "      <td>0</td>\n",
       "      <td>1</td>\n",
       "      <td>0</td>\n",
       "      <td>0</td>\n",
       "      <td>0</td>\n",
       "      <td>0</td>\n",
       "    </tr>\n",
       "    <tr>\n",
       "      <th>217625</th>\n",
       "      <td>0.000000</td>\n",
       "      <td>other</td>\n",
       "      <td>0</td>\n",
       "      <td>0</td>\n",
       "      <td>0</td>\n",
       "      <td>0.0</td>\n",
       "      <td>0.0</td>\n",
       "      <td>1.0</td>\n",
       "      <td>0</td>\n",
       "      <td>0</td>\n",
       "      <td>...</td>\n",
       "      <td>0</td>\n",
       "      <td>0</td>\n",
       "      <td>0</td>\n",
       "      <td>0</td>\n",
       "      <td>0</td>\n",
       "      <td>1</td>\n",
       "      <td>0</td>\n",
       "      <td>0</td>\n",
       "      <td>0</td>\n",
       "      <td>0</td>\n",
       "    </tr>\n",
       "    <tr>\n",
       "      <th>217626</th>\n",
       "      <td>0.000000</td>\n",
       "      <td>other</td>\n",
       "      <td>0</td>\n",
       "      <td>0</td>\n",
       "      <td>1</td>\n",
       "      <td>1.0</td>\n",
       "      <td>1.0</td>\n",
       "      <td>1.0</td>\n",
       "      <td>0</td>\n",
       "      <td>1</td>\n",
       "      <td>...</td>\n",
       "      <td>0</td>\n",
       "      <td>0</td>\n",
       "      <td>0</td>\n",
       "      <td>0</td>\n",
       "      <td>0</td>\n",
       "      <td>1</td>\n",
       "      <td>0</td>\n",
       "      <td>0</td>\n",
       "      <td>0</td>\n",
       "      <td>0</td>\n",
       "    </tr>\n",
       "    <tr>\n",
       "      <th>217627</th>\n",
       "      <td>0.000000</td>\n",
       "      <td>other</td>\n",
       "      <td>0</td>\n",
       "      <td>0</td>\n",
       "      <td>0</td>\n",
       "      <td>0.0</td>\n",
       "      <td>0.0</td>\n",
       "      <td>1.0</td>\n",
       "      <td>0</td>\n",
       "      <td>0</td>\n",
       "      <td>...</td>\n",
       "      <td>0</td>\n",
       "      <td>0</td>\n",
       "      <td>0</td>\n",
       "      <td>0</td>\n",
       "      <td>0</td>\n",
       "      <td>1</td>\n",
       "      <td>0</td>\n",
       "      <td>0</td>\n",
       "      <td>0</td>\n",
       "      <td>0</td>\n",
       "    </tr>\n",
       "  </tbody>\n",
       "</table>\n",
       "<p>10 rows × 238 columns</p>\n",
       "</div>"
      ],
      "text/plain": [
       "        conn len service  src bytes  dst bytes  conn numb  Same srv rate  \\\n",
       "217618  0.410043   other        150          0          0            0.0   \n",
       "217619  0.000000   other          0          0          0            0.0   \n",
       "217620  1.215994   other         60          0          0            0.0   \n",
       "217621  0.000000     dns          0          0          0            0.0   \n",
       "217622  0.000000   other          0          0          0            0.0   \n",
       "217623  0.000000   other          0          0          1            1.0   \n",
       "217624  0.000000   other          0          0          0            0.0   \n",
       "217625  0.000000   other          0          0          0            0.0   \n",
       "217626  0.000000   other          0          0          1            1.0   \n",
       "217627  0.000000   other          0          0          0            0.0   \n",
       "\n",
       "        Serror rate  Srv serror rate  Dst host count  Dst host srv count  \\\n",
       "217618          0.0              1.0               0                   0   \n",
       "217619          0.0              1.0               0                   0   \n",
       "217620          0.0              0.0               0                   0   \n",
       "217621          0.0              0.0               0                   0   \n",
       "217622          0.0              1.0               0                   0   \n",
       "217623          1.0              1.0               0                   1   \n",
       "217624          0.0              1.0               2                   2   \n",
       "217625          0.0              1.0               0                   0   \n",
       "217626          1.0              1.0               0                   1   \n",
       "217627          0.0              1.0               0                   0   \n",
       "\n",
       "          ...      state_REJ  state_RSTO  state_RSTOS0 state_RSTR  \\\n",
       "217618    ...              0           0             0          0   \n",
       "217619    ...              0           0             0          0   \n",
       "217620    ...              0           0             0          0   \n",
       "217621    ...              0           0             0          0   \n",
       "217622    ...              0           0             0          0   \n",
       "217623    ...              0           0             0          0   \n",
       "217624    ...              0           0             0          0   \n",
       "217625    ...              0           0             0          0   \n",
       "217626    ...              0           0             0          0   \n",
       "217627    ...              0           0             0          0   \n",
       "\n",
       "        state_RSTRH state_S0 state_S1 state_SF  state_SH  state_SHR  \n",
       "217618            0        1        0        0         0          0  \n",
       "217619            0        0        0        0         0          0  \n",
       "217620            0        1        0        0         0          0  \n",
       "217621            0        1        0        0         0          0  \n",
       "217622            0        1        0        0         0          0  \n",
       "217623            0        1        0        0         0          0  \n",
       "217624            0        1        0        0         0          0  \n",
       "217625            0        1        0        0         0          0  \n",
       "217626            0        1        0        0         0          0  \n",
       "217627            0        1        0        0         0          0  \n",
       "\n",
       "[10 rows x 238 columns]"
      ]
     },
     "execution_count": 41,
     "metadata": {},
     "output_type": "execute_result"
    }
   ],
   "source": [
    "### hot one encoding ###\n",
    "\n",
    "# hot one encoding for service\n",
    "data = pd.concat([data, pd.get_dummies(data[\"service\"], prefix=\"is\")], axis=1)\n",
    "data.tail(10)\n",
    "\n",
    "#hot one encoding for proto - commented due to reduced column number\n",
    "data = pd.concat([data, pd.get_dummies(data[\"proto\"], prefix=\"is\")], axis=1)\n",
    "data.tail(10)\n",
    "\n",
    "# hot one encoding for conn state\n",
    "data = pd.concat([data, pd.get_dummies(data[\"Conn state\"], prefix=\"state\")], axis=1)\n",
    "data.tail(10)"
   ]
  },
  {
   "cell_type": "code",
   "execution_count": 42,
   "metadata": {},
   "outputs": [
    {
     "name": "stdout",
     "output_type": "stream",
     "text": [
      "<class 'pandas.core.frame.DataFrame'>\n",
      "Int64Index: 217628 entries, 0 to 217627\n",
      "Columns: 238 entries, conn len to state_SHR\n",
      "dtypes: float64(7), int64(9), object(5), uint8(217)\n",
      "memory usage: 81.6+ MB\n"
     ]
    }
   ],
   "source": [
    "data.info()"
   ]
  },
  {
   "cell_type": "markdown",
   "metadata": {},
   "source": [
    "## Data visualization"
   ]
  },
  {
   "cell_type": "code",
   "execution_count": 43,
   "metadata": {},
   "outputs": [
    {
     "data": {
      "image/png": "[encoded data removed]",
      "text/plain": [
       "<matplotlib.figure.Figure at 0x7fc628e73eb8>"
      ]
     },
     "metadata": {
      "needs_background": "light"
     },
     "output_type": "display_data"
    },
    {
     "data": {
      "image/png": "[encoded data removed]",
      "text/plain": [
       "<matplotlib.figure.Figure at 0x7fc65456a6d8>"
      ]
     },
     "metadata": {
      "needs_background": "light"
     },
     "output_type": "display_data"
    },
    {
     "data": {
      "image/png": "[encoded data removed]",
      "text/plain": [
       "<matplotlib.figure.Figure at 0x7fc61951cf60>"
      ]
     },
     "metadata": {
      "needs_background": "light"
     },
     "output_type": "display_data"
    }
   ],
   "source": [
    "# hisotgrams\n",
    "\n",
    "#print(max(data['conn len']))\n",
    "data['conn len'].plot.hist(bins=500, xlim=[0,20], title=\"Connection length - histogram\")\n",
    "plt.show()\n",
    "\n",
    "#print(max(data['src bytes']))\n",
    "data['src bytes'].plot.hist(bins=500, xlim=[0,1500], title=\"Src bytes size - histogram\")\n",
    "plt.show()\n",
    "\n",
    "#print(max(data['dst bytes']))\n",
    "data['dst bytes'].plot.hist(bins=500, xlim=[0,2000], title=\"Dst bytes size - histogram\")\n",
    "plt.show()"
   ]
  },
  {
   "cell_type": "code",
   "execution_count": 44,
   "metadata": {},
   "outputs": [
    {
     "data": {
      "text/plain": [
       "Text(0.5,0.98,'')"
      ]
     },
     "execution_count": 44,
     "metadata": {},
     "output_type": "execute_result"
    },
    {
     "data": {
      "image/png": "[encoded data removed]",
      "text/plain": [
       "<matplotlib.figure.Figure at 0x7fc61948a588>"
      ]
     },
     "metadata": {
      "needs_background": "light"
     },
     "output_type": "display_data"
    },
    {
     "data": {
      "image/png": "[encoded data removed]",
      "text/plain": [
       "<matplotlib.figure.Figure at 0x7fc628ddfe10>"
      ]
     },
     "metadata": {
      "needs_background": "light"
     },
     "output_type": "display_data"
    },
    {
     "data": {
      "image/png": "[encoded data removed]",
      "text/plain": [
       "<matplotlib.figure.Figure at 0x7fc6198972b0>"
      ]
     },
     "metadata": {
      "needs_background": "light"
     },
     "output_type": "display_data"
    },
    {
     "data": {
      "image/png": "[encoded data removed]",
      "text/plain": [
       "<matplotlib.figure.Figure at 0x7fc61940e2e8>"
      ]
     },
     "metadata": {
      "needs_background": "light"
     },
     "output_type": "display_data"
    }
   ],
   "source": [
    "# boxplots\n",
    "data.boxplot(column='conn len', by='service')\n",
    "plt.title(\"Connection length - boxplot\")\n",
    "plt.suptitle(\"\")\n",
    "\n",
    "data.boxplot(column='src bytes', by='service')\n",
    "plt.title(\"Source bytes - boxplot\")\n",
    "plt.suptitle(\"\")\n",
    "\n",
    "data.boxplot(column='dst bytes', by='service')\n",
    "plt.title(\"Destination bytes - boxplot\")\n",
    "plt.suptitle(\"\")\n",
    "\n",
    "data.boxplot(column='conn numb', by='service')\n",
    "plt.title(\"Connections number - boxplot\")\n",
    "plt.suptitle(\"\")"
   ]
  },
  {
   "cell_type": "code",
   "execution_count": 45,
   "metadata": {},
   "outputs": [
    {
     "data": {
      "text/plain": [
       "<matplotlib.axes._subplots.AxesSubplot at 0x7fc633e7a710>"
      ]
     },
     "execution_count": 45,
     "metadata": {},
     "output_type": "execute_result"
    },
    {
     "data": {
      "image/png": "[encoded data removed]",
      "text/plain": [
       "<matplotlib.figure.Figure at 0x7fc634f95f60>"
      ]
     },
     "metadata": {
      "needs_background": "light"
     },
     "output_type": "display_data"
    },
    {
     "data": {
      "image/png": "[encoded data removed]",
      "text/plain": [
       "<matplotlib.figure.Figure at 0x7fc633f052e8>"
      ]
     },
     "metadata": {
      "needs_background": "light"
     },
     "output_type": "display_data"
    },
    {
     "data": {
      "image/png": "[encoded data removed]",
      "text/plain": [
       "<matplotlib.figure.Figure at 0x7fc633ee6f28>"
      ]
     },
     "metadata": {
      "needs_background": "light"
     },
     "output_type": "display_data"
    }
   ],
   "source": [
    "# scatter plots\n",
    "data.plot.scatter(x='src bytes', y= 'dst bytes')\n",
    "data.plot.scatter(x='conn len', y= 'src bytes')\n",
    "data.plot.scatter(x='conn len', y= 'dst bytes')"
   ]
  },
  {
   "cell_type": "code",
   "execution_count": 46,
   "metadata": {},
   "outputs": [
    {
     "data": {
      "text/plain": [
       "(217628, 238)"
      ]
     },
     "execution_count": 46,
     "metadata": {},
     "output_type": "execute_result"
    }
   ],
   "source": [
    "data.shape"
   ]
  },
  {
   "cell_type": "markdown",
   "metadata": {},
   "source": [
    "## Plot function definition"
   ]
  },
  {
   "cell_type": "code",
   "execution_count": 47,
   "metadata": {},
   "outputs": [],
   "source": [
    "# plotting method definition\n",
    "\n",
    "def plot_stats(stat, name, width, rot):\n",
    "    fig, ax = plt.subplots(figsize=(width, 4))    \n",
    "    ax.bar(range(len(stat)), list(stat.values()), align='center')\n",
    "    plt.xticks(range(len(stat)), list(stat.keys()), rotation=rot)\n",
    "    for a,b in enumerate(stat.items()):\n",
    "        ax.text(a, b[1] + max(stat.values())/60 , str(round(b[1],5)), horizontalalignment ='center', verticalalignment='baseline')\n",
    "    ax.spines['right'].set_visible(False)\n",
    "    ax.spines['top'].set_visible(False)\n",
    "    plt.title(name + \" of tested algorithms\")\n",
    "    plt.show()"
   ]
  },
  {
   "cell_type": "markdown",
   "metadata": {},
   "source": [
    "## Dataset split"
   ]
  },
  {
   "cell_type": "code",
   "execution_count": 48,
   "metadata": {},
   "outputs": [],
   "source": [
    "data.rename(columns={'Dst host count': 'Dst_host_count', \"Dst host srv count\" : \"Dst_host_srv_count\",\n",
    "                    \"Dst host same src port rate\" : \"Dst_host_same_src_port_rate\",\n",
    "                    \"Dst host serror rate\" : \"Dst_host_serror_rate\",\n",
    "                    \"Dst host srv serror rate\" : \"Dst_host_srv_serror_rate\",\n",
    "                    \"Same srv rate\" : \"Same_srv_rate\",\n",
    "                    \"Srv serror rate\" : \"Srv_serror_rate\",\n",
    "                    \"conn len\" : \"conn_len\",\n",
    "                    \"src bytes\" : \"src_bytes\",\n",
    "                    \"dst bytes\" : \"dst_bytes\",\n",
    "                    \"conn numb\" : \"conn_numb\",\n",
    "                    \"Serror rate\" : \"Serror_rate\",\n",
    "                    \"cli src pool\" : \"cli_src_pool\",\n",
    "                    \"registered src pool\" : \"registered_src_pool\",\n",
    "                    \"well-known src pool\" : \"well_known_src_pool\"\n",
    "                    }, inplace=True)"
   ]
  },
  {
   "cell_type": "code",
   "execution_count": 49,
   "metadata": {},
   "outputs": [
    {
     "name": "stdout",
     "output_type": "stream",
     "text": [
      "Counter({0: 14952, 1: 7548})\n",
      "Counter({1: 14607, 0: 7893})\n",
      "Counter({1: 86179, 0: 18821})\n"
     ]
    }
   ],
   "source": [
    "sampled_data = data.loc[range(150000), :]\n",
    "train, validate, test = np.split(sampled_data, [int(.7*len(sampled_data)), int(.85*len(sampled_data))])\n",
    "\n",
    "train_ex = train\n",
    "validate_ex = validate\n",
    "test_ex = test\n",
    "\n",
    "train = train.drop([\"service\", \"Conn state\", \"proto\", \"src port\", \"dst port\"], axis=1)\n",
    "validate = validate.drop([\"service\", \"Conn state\", \"proto\", \"src port\", \"dst port\"], axis=1)\n",
    "test = test.drop([\"service\", \"Conn state\", \"proto\", \"src port\", \"dst port\"], axis=1)\n",
    "\n",
    "train = train.sample(frac=1)\n",
    "validate = validate.sample(frac=1)\n",
    "test = test.sample(frac=1)\n",
    "\n",
    "y_train_alg = train.loc[:, \"attack_flag\"].values.ravel()\n",
    "X_train_alg = train.drop([\"attack_flag\"], axis=1)\n",
    "y_validate_alg = validate.loc[:, \"attack_flag\"].values.ravel()\n",
    "X_validate_alg = validate.drop([\"attack_flag\"], axis=1)\n",
    "y_test_alg = test.loc[:, \"attack_flag\"].values.ravel()\n",
    "X_test_alg = test.drop([\"attack_flag\"], axis=1)\n",
    "\n",
    "print(Counter(y_test_alg))\n",
    "print(Counter(y_validate_alg))\n",
    "print(Counter(y_train_alg))"
   ]
  },
  {
   "cell_type": "code",
   "execution_count": 50,
   "metadata": {},
   "outputs": [
    {
     "name": "stdout",
     "output_type": "stream",
     "text": [
      "Counter({1: 30946, 0: 1699})\n",
      "Counter({0: 22937, 1: 9707})\n",
      "Counter({1: 109262, 0: 43077})\n"
     ]
    }
   ],
   "source": [
    "train, validate, test = np.split(data, [int(.7*len(data)), int(.85*len(data))])\n",
    "\n",
    "train_ex = train\n",
    "validate_ex = validate\n",
    "test_ex = test\n",
    "\n",
    "train = train.drop([\"service\", \"Conn state\", \"proto\", \"src port\", \"dst port\"], axis=1)\n",
    "validate = validate.drop([\"service\", \"Conn state\", \"proto\", \"src port\", \"dst port\"], axis=1)\n",
    "test = test.drop([\"service\", \"Conn state\", \"proto\", \"src port\", \"dst port\"], axis=1)\n",
    "\n",
    "train = train.sample(frac=1)\n",
    "validate = validate.sample(frac=1)\n",
    "test = test.sample(frac=1)\n",
    "\n",
    "y_train = train.loc[:, \"attack_flag\"].values.ravel()\n",
    "X_train = train.drop([\"attack_flag\"], axis=1)\n",
    "y_validate = validate.loc[:, \"attack_flag\"].values.ravel()\n",
    "X_validate = validate.drop([\"attack_flag\"], axis=1)\n",
    "y_test = test.loc[:, \"attack_flag\"].values.ravel()\n",
    "X_test = test.drop([\"attack_flag\"], axis=1)\n",
    "\n",
    "print(Counter(y_test))\n",
    "print(Counter(y_validate))\n",
    "print(Counter(y_train))"
   ]
  },
  {
   "cell_type": "markdown",
   "metadata": {},
   "source": [
    "## Logistic Regression"
   ]
  },
  {
   "cell_type": "code",
   "execution_count": null,
   "metadata": {},
   "outputs": [],
   "source": [
    "from sklearn.model_selection import GridSearchCV\n",
    "from sklearn.linear_model import LogisticRegression\n",
    "\n",
    "LogisticRegression().get_params()"
   ]
  },
  {
   "cell_type": "code",
   "execution_count": null,
   "metadata": {},
   "outputs": [],
   "source": [
    "hyperparams = {'solver' : ['newton-cg', 'lbfgs', 'sag']}"
   ]
  },
  {
   "cell_type": "code",
   "execution_count": null,
   "metadata": {},
   "outputs": [],
   "source": [
    "#sorted(metrics.SCORERS.keys())"
   ]
  },
  {
   "cell_type": "code",
   "execution_count": null,
   "metadata": {},
   "outputs": [],
   "source": [
    "# clf = GridSearchCV(LogisticRegression(), hyperparams, cv=5, n_jobs=-1, scoring = \"f1\")\n",
    "# clf.fit(X_train, y_train)\n",
    "\n",
    "# print(clf.best_params_)\n",
    "\n",
    "# # {'solver': 'newton-cg'}"
   ]
  },
  {
   "cell_type": "code",
   "execution_count": null,
   "metadata": {},
   "outputs": [],
   "source": [
    "from sklearn.linear_model import LogisticRegression\n",
    "from sklearn import metrics\n",
    "\n",
    "clf = LogisticRegression(solver = 'newton-cg')\n",
    "\n",
    "model = clf.fit(X_train, y_train)\n",
    "\n",
    "y_pred = model.predict(X_validate)\n",
    "\n",
    "name = \"logistic Regression\"\n",
    "\n",
    "Acc = {}\n",
    "F1S = {}\n",
    "Prec = {}\n",
    "Rec = {}\n",
    "FPR = {}\n",
    "\n",
    "Acc[name] = metrics.accuracy_score(y_validate, y_pred)\n",
    "F1S[name] = metrics.f1_score(y_validate, y_pred)\n",
    "Prec[name] = metrics.precision_score(y_validate, y_pred)\n",
    "Rec[name] = metrics.recall_score(y_validate, y_pred)\n",
    "tn, fp, fn, tp = metrics.confusion_matrix(y_validate, y_pred).ravel()\n",
    "FPR[name] = fp/(fp+tn)\n",
    "\n",
    "print(\"Algorithm: {0:12} Accuracy: {1:.5f}, F1-score: {2:.5f}, Precision: {3:.5f}, Recall: {4:.5f}, FPR: {5:.5f}\".format(name, Acc[name], F1S[name], Prec[name], Rec[name], FPR[name]))\n",
    "print(\"TN: {0:3}; FP: {1:3}; FN: {2:4}; TP: {3:3}\\n\".format(tn, fp, fn, tp))"
   ]
  },
  {
   "cell_type": "markdown",
   "metadata": {},
   "source": [
    "# Decision Tree parameters selection"
   ]
  },
  {
   "cell_type": "markdown",
   "metadata": {},
   "source": [
    "## Checking tree depth impact"
   ]
  },
  {
   "cell_type": "code",
   "execution_count": 35,
   "metadata": {},
   "outputs": [
    {
     "data": {
      "text/plain": [
       "{'class_weight': None,\n",
       " 'criterion': 'gini',\n",
       " 'max_depth': None,\n",
       " 'max_features': None,\n",
       " 'max_leaf_nodes': None,\n",
       " 'min_impurity_decrease': 0.0,\n",
       " 'min_impurity_split': None,\n",
       " 'min_samples_leaf': 1,\n",
       " 'min_samples_split': 2,\n",
       " 'min_weight_fraction_leaf': 0.0,\n",
       " 'presort': False,\n",
       " 'random_state': 0,\n",
       " 'splitter': 'best'}"
      ]
     },
     "execution_count": 35,
     "metadata": {},
     "output_type": "execute_result"
    }
   ],
   "source": [
    "# using gridsearchcv to find the best parameters\n",
    "\n",
    "from sklearn.tree import DecisionTreeClassifier\n",
    "from sklearn.model_selection import GridSearchCV\n",
    "\n",
    "DecisionTreeClassifier(random_state=0).get_params()"
   ]
  },
  {
   "cell_type": "code",
   "execution_count": 36,
   "metadata": {},
   "outputs": [],
   "source": [
    "hyperparams = {'max_depth' : range(1,12)}"
   ]
  },
  {
   "cell_type": "code",
   "execution_count": 37,
   "metadata": {},
   "outputs": [
    {
     "name": "stdout",
     "output_type": "stream",
     "text": [
      "{'max_depth': 11}\n"
     ]
    }
   ],
   "source": [
    "# clf = GridSearchCV(DecisionTreeClassifier(random_state=0), hyperparams, cv=5, n_jobs=-1, scoring = \"f1\")\n",
    "# clf.fit(X_train, y_train)\n",
    "\n",
    "# print(clf.best_params_)\n",
    "\n",
    "# # max depth : 11"
   ]
  },
  {
   "cell_type": "code",
   "execution_count": 38,
   "metadata": {},
   "outputs": [
    {
     "name": "stdout",
     "output_type": "stream",
     "text": [
      "Algorithm: DecisionTree Accuracy: 0.99920, F1-score: 0.99866, Precision: 0.99846, Recall: 0.99887, FPR: 0.00065\n",
      "TN: 22922; FP:  15; FN:   11; TP: 9696\n",
      "\n",
      "Algorithm: DecisionTree_ent_11 Accuracy: 0.99914, F1-score: 0.99856, Precision: 0.99866, Recall: 0.99845, FPR: 0.00057\n",
      "TN: 22924; FP:  13; FN:   15; TP: 9692\n",
      "\n",
      "Algorithm: DecisionTree_11 Accuracy: 0.99881, F1-score: 0.99799, Precision: 0.99651, Recall: 0.99948, FPR: 0.00148\n",
      "TN: 22903; FP:  34; FN:    5; TP: 9702\n",
      "\n"
     ]
    }
   ],
   "source": [
    "classifiers = {\n",
    "               \"DecisionTree\":DecisionTreeClassifier(random_state=0),\n",
    "               \"DecisionTree_ent_11\":DecisionTreeClassifier(random_state=0, criterion = \"entropy\", max_depth = 11),\n",
    "               \"DecisionTree_11\":DecisionTreeClassifier(random_state=0, max_depth = 11),\n",
    "}\n",
    "\n",
    "Acc = {}\n",
    "F1S = {}\n",
    "Prec = {}\n",
    "Rec = {}\n",
    "FPR = {}\n",
    "\n",
    "for name, clf in classifiers.items():\n",
    "    \n",
    "    model = clf.fit(X_train, y_train)\n",
    "    \n",
    "    y_pred = model.predict(X_validate)\n",
    "    \n",
    "    Acc[name] = metrics.accuracy_score(y_validate, y_pred)\n",
    "    F1S[name] = metrics.f1_score(y_validate, y_pred)\n",
    "    Prec[name] = metrics.precision_score(y_validate, y_pred)\n",
    "    Rec[name] = metrics.recall_score(y_validate, y_pred)\n",
    "    tn, fp, fn, tp = metrics.confusion_matrix(y_validate, y_pred).ravel()\n",
    "    FPR[name] = fp/(fp+tn)\n",
    "    \n",
    "    print(\"Algorithm: {0:12} Accuracy: {1:.5f}, F1-score: {2:.5f}, Precision: {3:.5f}, Recall: {4:.5f}, FPR: {5:.5f}\".format(name, Acc[name], F1S[name], Prec[name], Rec[name], FPR[name]))\n",
    "    print(\"TN: {0:3}; FP: {1:3}; FN: {2:4}; TP: {3:3}\\n\".format(tn, fp, fn, tp))\n"
   ]
  },
  {
   "cell_type": "code",
   "execution_count": 39,
   "metadata": {},
   "outputs": [
    {
     "data": {
      "image/png": "[encoded data removed]",
      "text/plain": [
       "<matplotlib.figure.Figure at 0x7f9c8d91dac8>"
      ]
     },
     "metadata": {
      "needs_background": "light"
     },
     "output_type": "display_data"
    },
    {
     "data": {
      "image/png": "[encoded data removed]",
      "text/plain": [
       "<matplotlib.figure.Figure at 0x7f9c8d908ba8>"
      ]
     },
     "metadata": {
      "needs_background": "light"
     },
     "output_type": "display_data"
    },
    {
     "data": {
      "image/png": "[encoded data removed]",
      "text/plain": [
       "<matplotlib.figure.Figure at 0x7f9c8d911ba8>"
      ]
     },
     "metadata": {
      "needs_background": "light"
     },
     "output_type": "display_data"
    },
    {
     "data": {
      "image/png": "[encoded data removed]",
      "text/plain": [
       "<matplotlib.figure.Figure at 0x7f9c8d8fbac8>"
      ]
     },
     "metadata": {
      "needs_background": "light"
     },
     "output_type": "display_data"
    },
    {
     "data": {
      "image/png": "[encoded data removed]",
      "text/plain": [
       "<matplotlib.figure.Figure at 0x7f9caa8d1d30>"
      ]
     },
     "metadata": {
      "needs_background": "light"
     },
     "output_type": "display_data"
    }
   ],
   "source": [
    "plot_stats(Acc, \"Accuracy\", 5, 35)\n",
    "plot_stats(F1S, \"F1-score\", 5, 35)\n",
    "plot_stats(Prec, \"Precision\", 5, 35)\n",
    "plot_stats(Rec, \"Recall\", 5, 35)\n",
    "plot_stats(FPR, \"False Positive Rate\", 5, 35)"
   ]
  },
  {
   "cell_type": "markdown",
   "metadata": {},
   "source": [
    "## AdaBoost parameters selection"
   ]
  },
  {
   "cell_type": "code",
   "execution_count": 40,
   "metadata": {},
   "outputs": [
    {
     "data": {
      "text/plain": [
       "{'algorithm': 'SAMME.R',\n",
       " 'base_estimator__class_weight': None,\n",
       " 'base_estimator__criterion': 'gini',\n",
       " 'base_estimator__max_depth': None,\n",
       " 'base_estimator__max_features': None,\n",
       " 'base_estimator__max_leaf_nodes': None,\n",
       " 'base_estimator__min_impurity_decrease': 0.0,\n",
       " 'base_estimator__min_impurity_split': None,\n",
       " 'base_estimator__min_samples_leaf': 1,\n",
       " 'base_estimator__min_samples_split': 2,\n",
       " 'base_estimator__min_weight_fraction_leaf': 0.0,\n",
       " 'base_estimator__presort': False,\n",
       " 'base_estimator__random_state': 0,\n",
       " 'base_estimator__splitter': 'best',\n",
       " 'base_estimator': DecisionTreeClassifier(class_weight=None, criterion='gini', max_depth=None,\n",
       "             max_features=None, max_leaf_nodes=None,\n",
       "             min_impurity_decrease=0.0, min_impurity_split=None,\n",
       "             min_samples_leaf=1, min_samples_split=2,\n",
       "             min_weight_fraction_leaf=0.0, presort=False, random_state=0,\n",
       "             splitter='best'),\n",
       " 'learning_rate': 1.0,\n",
       " 'n_estimators': 50,\n",
       " 'random_state': None}"
      ]
     },
     "execution_count": 40,
     "metadata": {},
     "output_type": "execute_result"
    }
   ],
   "source": [
    "from sklearn.ensemble import AdaBoostClassifier\n",
    "AdaBoostClassifier(DecisionTreeClassifier(random_state=0)).get_params()"
   ]
  },
  {
   "cell_type": "code",
   "execution_count": 41,
   "metadata": {},
   "outputs": [],
   "source": [
    "hyperparams = {\"n_estimators\" : range (1, 50)}"
   ]
  },
  {
   "cell_type": "code",
   "execution_count": 42,
   "metadata": {},
   "outputs": [
    {
     "name": "stdout",
     "output_type": "stream",
     "text": [
      "{'n_estimators': 28}\n"
     ]
    }
   ],
   "source": [
    "# clf = GridSearchCV(AdaBoostClassifier(DecisionTreeClassifier(random_state=0)), hyperparams, cv=5, scoring = \"f1\", n_jobs=-1)\n",
    "# clf.fit(X_train, y_train)\n",
    "\n",
    "# print(clf.best_params_)\n",
    "\n",
    "# # Result: {'n_estimators': 28}, range tested: 1-50"
   ]
  },
  {
   "cell_type": "code",
   "execution_count": 43,
   "metadata": {},
   "outputs": [
    {
     "name": "stdout",
     "output_type": "stream",
     "text": [
      "Algorithm: AdaBoost_n_est_dct_rs Accuracy: 0.99905, F1-score: 0.99840, Precision: 0.99774, Recall: 0.99907, FPR: 0.00096\n",
      "TN: 22915; FP:  22; FN:    9; TP: 9698\n",
      "\n",
      "Algorithm: AdaBoost_n_est_dct_0 Accuracy: 0.99905, F1-score: 0.99840, Precision: 0.99784, Recall: 0.99897, FPR: 0.00092\n",
      "TN: 22916; FP:  21; FN:   10; TP: 9697\n",
      "\n",
      "Algorithm: AdaBoost_n_est_dct_def Accuracy: 0.99908, F1-score: 0.99846, Precision: 0.99794, Recall: 0.99897, FPR: 0.00087\n",
      "TN: 22917; FP:  20; FN:   10; TP: 9697\n",
      "\n",
      "Algorithm: AdaBoost_n_est Accuracy: 0.99663, F1-score: 0.99433, Precision: 0.99505, Recall: 0.99361, FPR: 0.00209\n",
      "TN: 22889; FP:  48; FN:   62; TP: 9645\n",
      "\n",
      "Algorithm: AdaBoost_n_est_0 Accuracy: 0.99663, F1-score: 0.99433, Precision: 0.99505, Recall: 0.99361, FPR: 0.00209\n",
      "TN: 22889; FP:  48; FN:   62; TP: 9645\n",
      "\n",
      "Algorithm: AdaBoost_orig Accuracy: 0.99835, F1-score: 0.99722, Precision: 0.99569, Recall: 0.99876, FPR: 0.00183\n",
      "TN: 22895; FP:  42; FN:   12; TP: 9695\n",
      "\n"
     ]
    }
   ],
   "source": [
    "num_trees = 28\n",
    "seed = 12\n",
    "\n",
    "classifiers = {\n",
    "               \"AdaBoost_n_est_dct_rs\":AdaBoostClassifier(DecisionTreeClassifier(max_depth = 11), n_estimators=num_trees, random_state = seed),\n",
    "               \"AdaBoost_n_est_dct_0\":AdaBoostClassifier(DecisionTreeClassifier(max_depth = 11), n_estimators=num_trees, random_state = 0),\n",
    "               \"AdaBoost_n_est_dct_def\":AdaBoostClassifier(DecisionTreeClassifier(max_depth = 11), n_estimators=num_trees),\n",
    "               \"AdaBoost_n_est\":AdaBoostClassifier(n_estimators=num_trees, random_state = seed),\n",
    "               \"AdaBoost_n_est_0\":AdaBoostClassifier(n_estimators=num_trees, random_state = 0), \n",
    "               \"AdaBoost_orig\":AdaBoostClassifier()\n",
    "}\n",
    "\n",
    "Acc = {}\n",
    "F1S = {}\n",
    "Prec = {}\n",
    "Rec = {}\n",
    "FPR = {}\n",
    "\n",
    "for name, clf in classifiers.items():\n",
    "    \n",
    "    model = clf.fit(X_train, y_train)\n",
    "    \n",
    "    y_pred = model.predict(X_validate)\n",
    "    \n",
    "    Acc[name] = metrics.accuracy_score(y_validate, y_pred)\n",
    "    F1S[name] = metrics.f1_score(y_validate, y_pred)\n",
    "    Prec[name] = metrics.precision_score(y_validate, y_pred)\n",
    "    Rec[name] = metrics.recall_score(y_validate, y_pred)\n",
    "    tn, fp, fn, tp = metrics.confusion_matrix(y_validate, y_pred).ravel()\n",
    "    FPR[name] = fp/(fp+tn)\n",
    "    \n",
    "    print(\"Algorithm: {0:12} Accuracy: {1:.5f}, F1-score: {2:.5f}, Precision: {3:.5f}, Recall: {4:.5f}, FPR: {5:.5f}\".format(name, Acc[name], F1S[name], Prec[name], Rec[name], FPR[name]))\n",
    "    print(\"TN: {0:3}; FP: {1:3}; FN: {2:4}; TP: {3:3}\\n\".format(tn, fp, fn, tp))\n"
   ]
  },
  {
   "cell_type": "code",
   "execution_count": 44,
   "metadata": {},
   "outputs": [
    {
     "data": {
      "image/png": "[encoded data removed]",
      "text/plain": [
       "<matplotlib.figure.Figure at 0x7f9c8d9b4c50>"
      ]
     },
     "metadata": {
      "needs_background": "light"
     },
     "output_type": "display_data"
    },
    {
     "data": {
      "image/png": "[encoded data removed]",
      "text/plain": [
       "<matplotlib.figure.Figure at 0x7f9c8d989c88>"
      ]
     },
     "metadata": {
      "needs_background": "light"
     },
     "output_type": "display_data"
    },
    {
     "data": {
      "image/png": "[encoded data removed]",
      "text/plain": [
       "<matplotlib.figure.Figure at 0x7f9c8d988ac8>"
      ]
     },
     "metadata": {
      "needs_background": "light"
     },
     "output_type": "display_data"
    },
    {
     "data": {
      "image/png": "[encoded data removed]",
      "text/plain": [
       "<matplotlib.figure.Figure at 0x7f9c8d92f550>"
      ]
     },
     "metadata": {
      "needs_background": "light"
     },
     "output_type": "display_data"
    },
    {
     "data": {
      "image/png": "[encoded data removed]",
      "text/plain": [
       "<matplotlib.figure.Figure at 0x7f9c8d8fa710>"
      ]
     },
     "metadata": {
      "needs_background": "light"
     },
     "output_type": "display_data"
    }
   ],
   "source": [
    "plot_stats(Acc, \"Accuracy\",7,  55)\n",
    "plot_stats(F1S, \"F1-score\", 7, 55)\n",
    "plot_stats(Prec, \"Precision\", 7, 55)\n",
    "plot_stats(Rec, \"Recall\", 7, 55)\n",
    "plot_stats(FPR, \"False Positive Rate\", 7, 55)"
   ]
  },
  {
   "cell_type": "markdown",
   "metadata": {},
   "source": [
    "## Random tree parameters selection"
   ]
  },
  {
   "cell_type": "code",
   "execution_count": 45,
   "metadata": {},
   "outputs": [],
   "source": [
    "hyperparams = {'max_depth' : range(1,12)}"
   ]
  },
  {
   "cell_type": "code",
   "execution_count": 46,
   "metadata": {},
   "outputs": [
    {
     "name": "stdout",
     "output_type": "stream",
     "text": [
      "{'max_depth': 11}\n"
     ]
    }
   ],
   "source": [
    "# clf = GridSearchCV(DecisionTreeClassifier(random_state=0, splitter = \"random\"), hyperparams, cv=5, scoring = \"f1\", n_jobs=-1)\n",
    "# clf.fit(X_train, y_train)\n",
    "\n",
    "# print(clf.best_params_) # --> 11"
   ]
  },
  {
   "cell_type": "code",
   "execution_count": 47,
   "metadata": {},
   "outputs": [
    {
     "name": "stdout",
     "output_type": "stream",
     "text": [
      "Algorithm: RandomTree   Accuracy: 0.99917, F1-score: 0.99861, Precision: 0.99866, Recall: 0.99856, FPR: 0.00057\n",
      "TN: 22924; FP:  13; FN:   14; TP: 9693\n",
      "\n",
      "Algorithm: RandomTree_11 Accuracy: 0.99703, F1-score: 0.99499, Precision: 0.99710, Recall: 0.99289, FPR: 0.00122\n",
      "TN: 22909; FP:  28; FN:   69; TP: 9638\n",
      "\n"
     ]
    }
   ],
   "source": [
    "classifiers = {\n",
    "                \"RandomTree\":DecisionTreeClassifier(random_state=0, splitter = \"random\"),\n",
    "                \"RandomTree_11\":DecisionTreeClassifier(random_state=0, splitter = \"random\", max_depth = 11),                \n",
    "}\n",
    "\n",
    "Acc = {}\n",
    "F1S = {}\n",
    "Prec = {}\n",
    "Rec = {}\n",
    "FPR = {}\n",
    "\n",
    "for name, clf in classifiers.items():\n",
    "    \n",
    "    model = clf.fit(X_train, y_train)\n",
    "    \n",
    "    y_pred = model.predict(X_validate)\n",
    "    \n",
    "    Acc[name] = metrics.accuracy_score(y_validate, y_pred)\n",
    "    F1S[name] = metrics.f1_score(y_validate, y_pred)\n",
    "    Prec[name] = metrics.precision_score(y_validate, y_pred)\n",
    "    Rec[name] = metrics.recall_score(y_validate, y_pred)\n",
    "    tn, fp, fn, tp = metrics.confusion_matrix(y_validate, y_pred).ravel()\n",
    "    FPR[name] = fp/(fp+tn)\n",
    "    \n",
    "    print(\"Algorithm: {0:12} Accuracy: {1:.5f}, F1-score: {2:.5f}, Precision: {3:.5f}, Recall: {4:.5f}, FPR: {5:.5f}\".format(name, Acc[name], F1S[name], Prec[name], Rec[name], FPR[name]))\n",
    "    print(\"TN: {0:3}; FP: {1:3}; FN: {2:4}; TP: {3:3}\\n\".format(tn, fp, fn, tp))\n"
   ]
  },
  {
   "cell_type": "code",
   "execution_count": 48,
   "metadata": {},
   "outputs": [
    {
     "data": {
      "image/png": "[encoded data removed]",
      "text/plain": [
       "<matplotlib.figure.Figure at 0x7f9c8da9e550>"
      ]
     },
     "metadata": {
      "needs_background": "light"
     },
     "output_type": "display_data"
    },
    {
     "data": {
      "image/png": "[encoded data removed]",
      "text/plain": [
       "<matplotlib.figure.Figure at 0x7f9c8da81a90>"
      ]
     },
     "metadata": {
      "needs_background": "light"
     },
     "output_type": "display_data"
    },
    {
     "data": {
      "image/png": "[encoded data removed]",
      "text/plain": [
       "<matplotlib.figure.Figure at 0x7f9c8da0f4a8>"
      ]
     },
     "metadata": {
      "needs_background": "light"
     },
     "output_type": "display_data"
    },
    {
     "data": {
      "image/png": "[encoded data removed]",
      "text/plain": [
       "<matplotlib.figure.Figure at 0x7f9c8d9df4e0>"
      ]
     },
     "metadata": {
      "needs_background": "light"
     },
     "output_type": "display_data"
    },
    {
     "data": {
      "image/png": "[encoded data removed]",
      "text/plain": [
       "<matplotlib.figure.Figure at 0x7f9c8dab9cf8>"
      ]
     },
     "metadata": {
      "needs_background": "light"
     },
     "output_type": "display_data"
    }
   ],
   "source": [
    "plot_stats(Acc, \"Accuracy\",4, 35)\n",
    "plot_stats(F1S, \"F1-score\", 4, 35)\n",
    "plot_stats(Prec, \"Precision\", 4, 35)\n",
    "plot_stats(Rec, \"Recall\", 4, 35)\n",
    "plot_stats(FPR, \"False Positive Rate\", 4, 35)"
   ]
  },
  {
   "cell_type": "markdown",
   "metadata": {},
   "source": [
    "## Random Forest parameters selection"
   ]
  },
  {
   "cell_type": "code",
   "execution_count": 123,
   "metadata": {},
   "outputs": [
    {
     "data": {
      "text/plain": [
       "{'bootstrap': True,\n",
       " 'class_weight': None,\n",
       " 'criterion': 'gini',\n",
       " 'max_depth': None,\n",
       " 'max_features': 'auto',\n",
       " 'max_leaf_nodes': None,\n",
       " 'min_impurity_decrease': 0.0,\n",
       " 'min_impurity_split': None,\n",
       " 'min_samples_leaf': 1,\n",
       " 'min_samples_split': 2,\n",
       " 'min_weight_fraction_leaf': 0.0,\n",
       " 'n_estimators': 'warn',\n",
       " 'n_jobs': None,\n",
       " 'oob_score': False,\n",
       " 'random_state': 0,\n",
       " 'verbose': 0,\n",
       " 'warm_start': False}"
      ]
     },
     "execution_count": 123,
     "metadata": {},
     "output_type": "execute_result"
    }
   ],
   "source": [
    "from sklearn.ensemble import RandomForestClassifier\n",
    "\n",
    "RandomForestClassifier(random_state=0).get_params()"
   ]
  },
  {
   "cell_type": "code",
   "execution_count": 125,
   "metadata": {},
   "outputs": [],
   "source": [
    "hyperparams = {'n_estimators' : range(1, 50)}"
   ]
  },
  {
   "cell_type": "code",
   "execution_count": 126,
   "metadata": {},
   "outputs": [
    {
     "name": "stdout",
     "output_type": "stream",
     "text": [
      "{'n_estimators': 41}\n"
     ]
    }
   ],
   "source": [
    " clf = GridSearchCV(RandomForestClassifier(random_state=0), hyperparams, cv=5, scoring = \"f1\", n_jobs=-1)\n",
    " clf.fit(X_train, y_train)\n",
    "\n",
    " print(clf.best_params_)\n",
    "\n",
    "# # {'n_estimators': 41}"
   ]
  },
  {
   "cell_type": "code",
   "execution_count": 50,
   "metadata": {},
   "outputs": [],
   "source": [
    "hyperparams = {'max_features' : [None, 'auto', 'sqrt', 'log2']}"
   ]
  },
  {
   "cell_type": "code",
   "execution_count": 51,
   "metadata": {},
   "outputs": [],
   "source": [
    "clf = GridSearchCV(RandomForestClassifier(random_state=0, n_estimators=41), hyperparams, cv=5 ,scoring = \"f1\", n_jobs=-1)\n",
    "# clf.fit(X_train, y_train)\n",
    "\n",
    "# print(clf.best_params_)\n",
    "# {'max_features': 'auto'}"
   ]
  },
  {
   "cell_type": "code",
   "execution_count": 128,
   "metadata": {},
   "outputs": [],
   "source": [
    "hyperparams = {'max_depth' : range(1,50)}"
   ]
  },
  {
   "cell_type": "code",
   "execution_count": 129,
   "metadata": {},
   "outputs": [
    {
     "name": "stdout",
     "output_type": "stream",
     "text": [
      "{'max_depth': 36}\n"
     ]
    }
   ],
   "source": [
    "clf = GridSearchCV(RandomForestClassifier(random_state=0, n_estimators=41, max_features='auto'), hyperparams, cv=5, scoring = \"f1\", n_jobs=-1)\n",
    "clf.fit(X_train, y_train)\n",
    "\n",
    "print(clf.best_params_)\n",
    "# {'max_depth': 36}"
   ]
  },
  {
   "cell_type": "code",
   "execution_count": 130,
   "metadata": {},
   "outputs": [
    {
     "name": "stdout",
     "output_type": "stream",
     "text": [
      "Algorithm: RandomForest_new Accuracy: 0.99926, F1-score: 0.99876, Precision: 0.99805, Recall: 0.99948, FPR: 0.00083\n",
      "TN: 22918; FP:  19; FN:    5; TP: 9702\n",
      "\n",
      "Algorithm: RandomForest_orig Accuracy: 0.99908, F1-score: 0.99846, Precision: 0.99753, Recall: 0.99938, FPR: 0.00105\n",
      "TN: 22913; FP:  24; FN:    6; TP: 9701\n",
      "\n"
     ]
    }
   ],
   "source": [
    "# # zmiana n_estimators daje poprawe\n",
    "# # kfold tylko dla crossvalidation\n",
    "# # learning rate [1 - default] najlepsze wyniki\n",
    "from sklearn import metrics\n",
    "\n",
    "classifiers = {\n",
    "                \"RandomForest_new\":RandomForestClassifier(n_estimators=41, max_depth=36, random_state=0),\n",
    "                \"RandomForest_orig\":RandomForestClassifier(n_estimators=100),\n",
    "}\n",
    "\n",
    "Acc = {}\n",
    "F1S = {}\n",
    "Prec = {}\n",
    "Rec = {}\n",
    "FPR = {}\n",
    "\n",
    "for name, clf in classifiers.items():\n",
    "    \n",
    "    model = clf.fit(X_train, y_train)\n",
    "    \n",
    "    y_pred = model.predict(X_validate)\n",
    "    \n",
    "    Acc[name] = metrics.accuracy_score(y_validate, y_pred)\n",
    "    F1S[name] = metrics.f1_score(y_validate, y_pred)\n",
    "    Prec[name] = metrics.precision_score(y_validate, y_pred)\n",
    "    Rec[name] = metrics.recall_score(y_validate, y_pred)\n",
    "    tn, fp, fn, tp = metrics.confusion_matrix(y_validate, y_pred).ravel()\n",
    "    FPR[name] = fp/(fp+tn)\n",
    "    \n",
    "    print(\"Algorithm: {0:12} Accuracy: {1:.5f}, F1-score: {2:.5f}, Precision: {3:.5f}, Recall: {4:.5f}, FPR: {5:.5f}\".format(name, Acc[name], F1S[name], Prec[name], Rec[name], FPR[name]))\n",
    "    print(\"TN: {0:3}; FP: {1:3}; FN: {2:4}; TP: {3:3}\\n\".format(tn, fp, fn, tp))"
   ]
  },
  {
   "cell_type": "code",
   "execution_count": 131,
   "metadata": {},
   "outputs": [
    {
     "data": {
      "image/png": "[encoded data removed]",
      "text/plain": [
       "<matplotlib.figure.Figure at 0x7ff9e13ef7b8>"
      ]
     },
     "metadata": {
      "needs_background": "light"
     },
     "output_type": "display_data"
    },
    {
     "data": {
      "image/png": "[encoded data removed]",
      "text/plain": [
       "<matplotlib.figure.Figure at 0x7ff9e13e0e80>"
      ]
     },
     "metadata": {
      "needs_background": "light"
     },
     "output_type": "display_data"
    },
    {
     "data": {
      "image/png": "[encoded data removed]",
      "text/plain": [
       "<matplotlib.figure.Figure at 0x7ff9e13de438>"
      ]
     },
     "metadata": {
      "needs_background": "light"
     },
     "output_type": "display_data"
    },
    {
     "data": {
      "image/png": "[encoded data removed]",
      "text/plain": [
       "<matplotlib.figure.Figure at 0x7ff9e13e5c50>"
      ]
     },
     "metadata": {
      "needs_background": "light"
     },
     "output_type": "display_data"
    },
    {
     "data": {
      "image/png": "[encoded data removed]",
      "text/plain": [
       "<matplotlib.figure.Figure at 0x7ff9e13e5588>"
      ]
     },
     "metadata": {
      "needs_background": "light"
     },
     "output_type": "display_data"
    }
   ],
   "source": [
    "plot_stats(Acc, \"Accuracy\", 4, 35)\n",
    "plot_stats(F1S, \"F1-score\", 4, 35)\n",
    "plot_stats(Prec, \"Precision\", 4, 35)\n",
    "plot_stats(Rec, \"Recall\", 4, 35)\n",
    "plot_stats(FPR, \"False Positive Rate\", 4, 35)"
   ]
  },
  {
   "cell_type": "markdown",
   "metadata": {},
   "source": [
    "# Algorithms' performance comparison"
   ]
  },
  {
   "cell_type": "code",
   "execution_count": 51,
   "metadata": {},
   "outputs": [
    {
     "name": "stdout",
     "output_type": "stream",
     "text": [
      "Counter({0: 14952, 1: 7548})\n",
      "Counter({1: 14607, 0: 7893})\n",
      "Counter({1: 86179, 0: 18821})\n"
     ]
    }
   ],
   "source": [
    "data.rename(columns={'Dst host count': 'Dst_host_count', \"Dst host srv count\" : \"Dst_host_srv_count\",\n",
    "                    \"Dst host same src port rate\" : \"Dst_host_same_src_port_rate\",\n",
    "                    \"Dst host serror rate\" : \"Dst_host_serror_rate\",\n",
    "                    \"Dst host srv serror rate\" : \"Dst_host_srv_serror_rate\",\n",
    "                    \"Same srv rate\" : \"Same_srv_rate\",\n",
    "                    \"Srv serror rate\" : \"Srv_serror_rate\",\n",
    "                    \"conn len\" : \"conn_len\",\n",
    "                    \"src bytes\" : \"src_bytes\",\n",
    "                    \"dst bytes\" : \"dst_bytes\",\n",
    "                    \"conn numb\" : \"conn_numb\",\n",
    "                    \"Serror rate\" : \"Serror_rate\",\n",
    "                    \"cli src pool\" : \"cli_src_pool\",\n",
    "                    \"registered src pool\" : \"registered_src_pool\",\n",
    "                    \"well-known src pool\" : \"well_known_src_pool\",\n",
    "                    \"dst port\" : \"dst_port\",\n",
    "                    \"src port\" : \"src_port\",\n",
    "                     \"Conn state\" : \"Conn_state\" \n",
    "                    }, inplace=True)\n",
    "\n",
    "sampled_data = data.loc[range(150000), :]\n",
    "\n",
    "train_alg, validate_alg, test_alg = np.split(sampled_data, [int(.7*len(sampled_data)), int(.85*len(sampled_data))])\n",
    "\n",
    "train_alg = train_alg.drop([\"service\", \"Conn_state\", \"proto\", \"src_port\", \"dst_port\"], axis=1)\n",
    "validate_alg = validate_alg.drop([\"service\", \"Conn_state\", \"proto\", \"src_port\", \"dst_port\"], axis=1)\n",
    "test_alg = test_alg.drop([\"service\", \"Conn_state\", \"proto\", \"src_port\", \"dst_port\"], axis=1)\n",
    "\n",
    "train_alg = train_alg.sample(frac=1)\n",
    "validate_alg = validate_alg.sample(frac=1)\n",
    "test_alg = test_alg.sample(frac=1)\n",
    "\n",
    "y_train_alg = train_alg.loc[:, \"attack_flag\"].values.ravel()\n",
    "X_train_alg = train_alg.drop([\"attack_flag\"], axis=1).astype(np.float32)\n",
    "y_validate_alg = validate_alg.loc[:, \"attack_flag\"].values.ravel()\n",
    "X_validate_alg = validate_alg.drop([\"attack_flag\"], axis=1).astype(np.float32)\n",
    "y_test_alg = test_alg.loc[:, \"attack_flag\"].values.ravel()\n",
    "X_test_alg = test_alg.drop([\"attack_flag\"], axis=1).astype(np.float32)\n",
    "\n",
    "print(Counter(y_test_alg))\n",
    "print(Counter(y_validate_alg))\n",
    "print(Counter(y_train_alg))"
   ]
  },
  {
   "cell_type": "code",
   "execution_count": 52,
   "metadata": {},
   "outputs": [
    {
     "name": "stdout",
     "output_type": "stream",
     "text": [
      "Counter({1: 30946, 0: 1699})\n",
      "Counter({0: 22937, 1: 9707})\n",
      "Counter({1: 109262, 0: 43077})\n"
     ]
    }
   ],
   "source": [
    "data.rename(columns={'Dst host count': 'Dst_host_count', \"Dst host srv count\" : \"Dst_host_srv_count\",\n",
    "                    \"Dst host same src port rate\" : \"Dst_host_same_src_port_rate\",\n",
    "                    \"Dst host serror rate\" : \"Dst_host_serror_rate\",\n",
    "                    \"Dst host srv serror rate\" : \"Dst_host_srv_serror_rate\",\n",
    "                    \"Same srv rate\" : \"Same_srv_rate\",\n",
    "                    \"Srv serror rate\" : \"Srv_serror_rate\",\n",
    "                    \"conn len\" : \"conn_len\",\n",
    "                    \"src bytes\" : \"src_bytes\",\n",
    "                    \"dst bytes\" : \"dst_bytes\",\n",
    "                    \"conn numb\" : \"conn_numb\",\n",
    "                    \"Serror rate\" : \"Serror_rate\",\n",
    "                    \"cli src pool\" : \"cli_src_pool\",\n",
    "                    \"registered src pool\" : \"registered_src_pool\",\n",
    "                    \"well-known src pool\" : \"well_known_src_pool\",\n",
    "                    \"dst port\" : \"dst_port\",\n",
    "                    \"src port\" : \"src_port\",\n",
    "                     \"Conn state\" : \"Conn_state\" \n",
    "                    }, inplace=True)\n",
    "\n",
    "data[\"src_port\"] = data[\"src_port\"].apply(str)\n",
    "data[\"dst_port\"] = data[\"dst_port\"].apply(str)\n",
    "\n",
    "train, validate, test = np.split(data, [int(.7*len(data)), int(.85*len(data))])\n",
    "\n",
    "train_ex = train\n",
    "validate_ex = validate\n",
    "test_ex = test\n",
    "\n",
    "train = train.drop([\"service\", \"Conn_state\", \"proto\", \"src_port\", \"dst_port\"], axis=1)\n",
    "validate = validate.drop([\"service\", \"Conn_state\", \"proto\", \"src_port\", \"dst_port\"], axis=1)\n",
    "test = test.drop([\"service\", \"Conn_state\", \"proto\", \"src_port\", \"dst_port\"], axis=1)\n",
    "\n",
    "train = train.sample(frac=1)\n",
    "validate = validate.sample(frac=1)\n",
    "test = test.sample(frac=1)\n",
    "\n",
    "y_train = train.loc[:, \"attack_flag\"].values.ravel()\n",
    "X_train = train.drop([\"attack_flag\"], axis=1).astype(np.float32)\n",
    "y_validate = validate.loc[:, \"attack_flag\"].values.ravel()\n",
    "X_validate = validate.drop([\"attack_flag\"], axis=1).astype(np.float32)\n",
    "y_test = test.loc[:, \"attack_flag\"].values.ravel()\n",
    "X_test = test.drop([\"attack_flag\"], axis=1).astype(np.float32)\n",
    "\n",
    "print(Counter(y_test))\n",
    "print(Counter(y_validate))\n",
    "print(Counter(y_train))"
   ]
  },
  {
   "cell_type": "code",
   "execution_count": 53,
   "metadata": {},
   "outputs": [
    {
     "name": "stdout",
     "output_type": "stream",
     "text": [
      "Counter({1: 30946, 0: 1699})\n"
     ]
    }
   ],
   "source": [
    "from collections import Counter\n",
    "\n",
    "print(Counter(y_test))\n",
    "\n",
    "Acc = {}\n",
    "F1S = {}\n",
    "Prec = {}\n",
    "Rec = {}\n",
    "FPR = {}"
   ]
  },
  {
   "cell_type": "code",
   "execution_count": 54,
   "metadata": {},
   "outputs": [
    {
     "name": "stdout",
     "output_type": "stream",
     "text": [
      "Algorithm: baseline     Accuracy: 0.94796, F1-score: 0.97328, Precision: 0.94796, Recall: 1.00000, FPR: 1.00000\n",
      "TN:   0; FP: 1699; FN:    0; TP: 30946\n",
      "\n"
     ]
    }
   ],
   "source": [
    "# Metrics of baseline method\n",
    "from sklearn import metrics\n",
    "\n",
    "name = \"baseline\"\n",
    "\n",
    "if(y_test.mean() > (1-y_test.mean())):\n",
    "    y_pred = np.ones(len(y_test)).ravel() \n",
    "else:\n",
    "    y_pred = np.zeros(len(y_test)).ravel() \n",
    "    \n",
    "Acc[name] = metrics.accuracy_score(y_test, y_pred)\n",
    "F1S[name] = metrics.f1_score(y_test, y_pred)\n",
    "Prec[name] = metrics.precision_score(y_test, y_pred)\n",
    "Rec[name] = metrics.recall_score(y_test, y_pred)\n",
    "tn, fp, fn, tp = metrics.confusion_matrix(y_test, y_pred).ravel()\n",
    "FPR[name] = fp/(fp+tn)\n",
    "\n",
    "print(\"Algorithm: {0:12} Accuracy: {1:.5f}, F1-score: {2:.5f}, Precision: {3:.5f}, Recall: {4:.5f}, FPR: {5:.5f}\".format(name, Acc[name], F1S[name], Prec[name], Rec[name], FPR[name]))\n",
    "print(\"TN: {0:3}; FP: {1:3}; FN: {2:4}; TP: {3:3}\\n\".format(tn, fp, fn, tp))"
   ]
  },
  {
   "cell_type": "code",
   "execution_count": 55,
   "metadata": {},
   "outputs": [
    {
     "name": "stdout",
     "output_type": "stream",
     "text": [
      "Algorithm: logistic Regression Accuracy: 0.97326, F1-score: 0.98587, Precision: 0.98780, Recall: 0.98394, FPR: 0.22131\n",
      "TN: 1323; FP: 376; FN:  497; TP: 30449\n",
      "\n"
     ]
    }
   ],
   "source": [
    "from sklearn.linear_model import LogisticRegression\n",
    "from sklearn import metrics\n",
    "\n",
    "clf = LogisticRegression(solver = 'newton-cg')\n",
    "\n",
    "model = clf.fit(X_train, y_train)\n",
    "\n",
    "y_pred = model.predict(X_test)\n",
    "\n",
    "name = \"logistic Regression\"\n",
    "\n",
    "Acc[name] = metrics.accuracy_score(y_test, y_pred)\n",
    "F1S[name] = metrics.f1_score(y_test, y_pred)\n",
    "Prec[name] = metrics.precision_score(y_test, y_pred)\n",
    "Rec[name] = metrics.recall_score(y_test, y_pred)\n",
    "tn, fp, fn, tp = metrics.confusion_matrix(y_test, y_pred).ravel()\n",
    "FPR[name] = fp/(fp+tn)\n",
    "\n",
    "print(\"Algorithm: {0:12} Accuracy: {1:.5f}, F1-score: {2:.5f}, Precision: {3:.5f}, Recall: {4:.5f}, FPR: {5:.5f}\".format(name, Acc[name], F1S[name], Prec[name], Rec[name], FPR[name]))\n",
    "print(\"TN: {0:3}; FP: {1:3}; FN: {2:4}; TP: {3:3}\\n\".format(tn, fp, fn, tp))"
   ]
  },
  {
   "cell_type": "code",
   "execution_count": 56,
   "metadata": {},
   "outputs": [
    {
     "name": "stdout",
     "output_type": "stream",
     "text": [
      "Algorithm: AdaBoost     Accuracy: 0.98762, F1-score: 0.99345, Precision: 0.99639, Recall: 0.99053, FPR: 0.06533\n",
      "TN: 1588; FP: 111; FN:  293; TP: 30653\n",
      "\n",
      "Algorithm: DecisionTree Accuracy: 0.98634, F1-score: 0.99277, Precision: 0.99613, Recall: 0.98943, FPR: 0.07004\n",
      "TN: 1580; FP: 119; FN:  327; TP: 30619\n",
      "\n",
      "Algorithm: NaiveBayes   Accuracy: 0.92755, F1-score: 0.96037, Precision: 0.99749, Recall: 0.92590, FPR: 0.04238\n",
      "TN: 1627; FP:  72; FN: 2293; TP: 28653\n",
      "\n",
      "Algorithm: RandomTree   Accuracy: 0.98922, F1-score: 0.99430, Precision: 0.99627, Recall: 0.99234, FPR: 0.06769\n",
      "TN: 1584; FP: 115; FN:  237; TP: 30709\n",
      "\n",
      "Algorithm: RandomForest Accuracy: 0.98811, F1-score: 0.99372, Precision: 0.99623, Recall: 0.99121, FPR: 0.06828\n",
      "TN: 1583; FP: 116; FN:  272; TP: 30674\n",
      "\n"
     ]
    }
   ],
   "source": [
    "# # zmiana n_estimators daje poprawe\n",
    "# # kfold tylko dla AdaBoostClassifier(DecisionTreeClassifier(max_depth = 11), n_estimators=num_trees, random_state = 0)\n",
    "# # learning rate [1 - default] najlepsze wyniki\n",
    "from sklearn.ensemble import AdaBoostClassifier\n",
    "from sklearn.tree import DecisionTreeClassifier\n",
    "from sklearn.naive_bayes import GaussianNB\n",
    "from sklearn.ensemble import RandomForestClassifier\n",
    "from sklearn.linear_model import LogisticRegression\n",
    "\n",
    "\n",
    "seed = 12\n",
    "num_trees = 28\n",
    "\n",
    "classifiers = {\n",
    "               \"AdaBoost\":AdaBoostClassifier(DecisionTreeClassifier(max_depth = 11), n_estimators=num_trees),\n",
    "               \"DecisionTree\":DecisionTreeClassifier(random_state=0),\n",
    "               \"NaiveBayes\":GaussianNB(),\n",
    "               \"RandomTree\":DecisionTreeClassifier(random_state=0, splitter = \"random\"),\n",
    "               \"RandomForest\":RandomForestClassifier(n_estimators=41, max_depth=36, random_state=0),\n",
    "              }\n",
    "\n",
    "\n",
    "for name, clf in classifiers.items():\n",
    "    \n",
    "    model = clf.fit(X_train_alg, y_train_alg)\n",
    "    \n",
    "    y_pred = model.predict(X_test)\n",
    "    \n",
    "    Acc[name] = metrics.accuracy_score(y_test, y_pred)\n",
    "    F1S[name] = metrics.f1_score(y_test, y_pred)\n",
    "    Prec[name] = metrics.precision_score(y_test, y_pred)\n",
    "    Rec[name] = metrics.recall_score(y_test, y_pred)\n",
    "    tn, fp, fn, tp = metrics.confusion_matrix(y_test, y_pred).ravel()\n",
    "    FPR[name] = fp/(fp+tn)\n",
    "    \n",
    "    print(\"Algorithm: {0:12} Accuracy: {1:.5f}, F1-score: {2:.5f}, Precision: {3:.5f}, Recall: {4:.5f}, FPR: {5:.5f}\".format(name, Acc[name], F1S[name], Prec[name], Rec[name], FPR[name]))\n",
    "    print(\"TN: {0:3}; FP: {1:3}; FN: {2:4}; TP: {3:3}\\n\".format(tn, fp, fn, tp))"
   ]
  },
  {
   "cell_type": "code",
   "execution_count": 57,
   "metadata": {},
   "outputs": [
    {
     "data": {
      "image/png": "[encoded data removed]",
      "text/plain": [
       "<matplotlib.figure.Figure at 0x7fc633e6ac50>"
      ]
     },
     "metadata": {
      "needs_background": "light"
     },
     "output_type": "display_data"
    },
    {
     "data": {
      "image/png": "[encoded data removed]",
      "text/plain": [
       "<matplotlib.figure.Figure at 0x7fc635076da0>"
      ]
     },
     "metadata": {
      "needs_background": "light"
     },
     "output_type": "display_data"
    },
    {
     "data": {
      "image/png": "[encoded data removed]",
      "text/plain": [
       "<matplotlib.figure.Figure at 0x7fc62b8b2c18>"
      ]
     },
     "metadata": {
      "needs_background": "light"
     },
     "output_type": "display_data"
    },
    {
     "data": {
      "image/png": "[encoded data removed]",
      "text/plain": [
       "<matplotlib.figure.Figure at 0x7fc633e46668>"
      ]
     },
     "metadata": {
      "needs_background": "light"
     },
     "output_type": "display_data"
    },
    {
     "data": {
      "image/png": "[encoded data removed]",
      "text/plain": [
       "<matplotlib.figure.Figure at 0x7fc62b8c75c0>"
      ]
     },
     "metadata": {
      "needs_background": "light"
     },
     "output_type": "display_data"
    }
   ],
   "source": [
    "plot_stats(Acc, \"Accuracy\", 8, 55)\n",
    "plot_stats(F1S, \"F1-score\", 8, 55)\n",
    "plot_stats(Prec, \"Precision\", 8, 55)\n",
    "plot_stats(Rec, \"Recall\", 8, 55)\n",
    "plot_stats(FPR, \"False Positive Rate\", 8, 55)"
   ]
  },
  {
   "cell_type": "markdown",
   "metadata": {},
   "source": [
    "## Scaling"
   ]
  },
  {
   "cell_type": "code",
   "execution_count": null,
   "metadata": {},
   "outputs": [],
   "source": [
    "# # zmiana n_estimators daje poprawe\n",
    "# # kfold tylko dla crossvalidation\n",
    "# # learning rate [1 - default] najlepsze wyniki\n",
    "\n",
    "from sklearn.pipeline import make_pipeline\n",
    "from sklearn.preprocessing import StandardScaler\n",
    "\n",
    "seed = 12\n",
    "\n",
    "classifiers = {\n",
    "               \"AdaBoost\":AdaBoostClassifier(DecisionTreeClassifier(max_depth = 11), n_estimators=num_trees, random_state = 0),\n",
    "               \"DecisionTree\":DecisionTreeClassifier(random_state=0),\n",
    "               \"NaiveBayes\":GaussianNB(),\n",
    "               \"RandomTree\":DecisionTreeClassifier(random_state=0, splitter = \"random\"),\n",
    "               \"RandomForest\":RandomForestClassifier(n_estimators=41, max_depth=36, random_state=0),\n",
    "              }\n",
    "\n",
    "Acc = {}\n",
    "F1S = {}\n",
    "Prec = {}\n",
    "Rec = {}\n",
    "FPR = {}\n",
    "\n",
    "for name, clf in classifiers.items():\n",
    "    \n",
    "    name = name + \"_scaled\"\n",
    "    clf_scaled = make_pipeline(StandardScaler(), clf)\n",
    "    model = clf_scaled.fit(X_train_alg, y_train_alg)\n",
    "    \n",
    "    y_pred = model.predict(X_test)\n",
    "    \n",
    "    Acc[name] = metrics.accuracy_score(y_test, y_pred)\n",
    "    F1S[name] = metrics.f1_score(y_test, y_pred)\n",
    "    Prec[name] = metrics.precision_score(y_test, y_pred)\n",
    "    Rec[name] = metrics.recall_score(y_test, y_pred)\n",
    "    tn, fp, fn, tp = metrics.confusion_matrix(y_test, y_pred).ravel()\n",
    "    FPR[name] = fp/(fp+tn)\n",
    "    \n",
    "    print(\"Algorithm: {0:12} Accuracy: {1:.5f}, F1-score: {2:.5f}, Precision: {3:.5f}, Recall: {4:.5f}, FPR: {5:.5f}\".format(name, Acc[name], F1S[name], Prec[name], Rec[name], FPR[name]))\n",
    "    print(\"TN: {0:3}; FP: {1:3}; FN: {2:4}; TP: {3:3}\\n\".format(tn, fp, fn, tp))"
   ]
  },
  {
   "cell_type": "code",
   "execution_count": null,
   "metadata": {
    "scrolled": true
   },
   "outputs": [],
   "source": [
    "plot_stats(Acc, \"Accuracy\", 8, 55)\n",
    "plot_stats(F1S, \"F1-score\", 8, 55)\n",
    "plot_stats(Prec, \"Precision\", 8, 55)\n",
    "plot_stats(Rec, \"Recall\", 8, 55)\n",
    "plot_stats(FPR, \"False Positive Rate\", 8, 55)"
   ]
  },
  {
   "cell_type": "markdown",
   "metadata": {},
   "source": [
    "# Random Features for Large-Scale Kernel Machines"
   ]
  },
  {
   "cell_type": "code",
   "execution_count": 58,
   "metadata": {},
   "outputs": [],
   "source": [
    "import numpy as np\n",
    "import tensorflow as tf\n",
    "import time"
   ]
  },
  {
   "cell_type": "code",
   "execution_count": 59,
   "metadata": {},
   "outputs": [
    {
     "data": {
      "text/plain": [
       "(152339, 232)"
      ]
     },
     "execution_count": 59,
     "metadata": {},
     "output_type": "execute_result"
    }
   ],
   "source": [
    "X_train.values.shape"
   ]
  },
  {
   "cell_type": "code",
   "execution_count": 60,
   "metadata": {},
   "outputs": [],
   "source": [
    "train_input_fn = tf.estimator.inputs.numpy_input_fn(    \n",
    "    x={\"features\": X_train.values},    \n",
    "    y=y_train,    \n",
    "    batch_size=180,    \n",
    "    num_epochs=None,    \n",
    "    shuffle=False)"
   ]
  },
  {
   "cell_type": "code",
   "execution_count": 61,
   "metadata": {},
   "outputs": [
    {
     "data": {
      "text/plain": [
       "(32644, 232)"
      ]
     },
     "execution_count": 61,
     "metadata": {},
     "output_type": "execute_result"
    }
   ],
   "source": [
    "X_validate.shape"
   ]
  },
  {
   "cell_type": "code",
   "execution_count": 62,
   "metadata": {},
   "outputs": [],
   "source": [
    "eval_input_fn = tf.estimator.inputs.numpy_input_fn(\n",
    "    x={\"features\": X_validate.values},\n",
    "    y=y_validate,\n",
    "    batch_size=X_validate.shape[0],\n",
    "    num_epochs=1,\n",
    "    shuffle=False)"
   ]
  },
  {
   "cell_type": "code",
   "execution_count": 63,
   "metadata": {},
   "outputs": [
    {
     "data": {
      "text/plain": [
       "(32645, 232)"
      ]
     },
     "execution_count": 63,
     "metadata": {},
     "output_type": "execute_result"
    }
   ],
   "source": [
    "X_test.shape"
   ]
  },
  {
   "cell_type": "code",
   "execution_count": 64,
   "metadata": {},
   "outputs": [],
   "source": [
    "test_input_fn = tf.estimator.inputs.numpy_input_fn(\n",
    "    x={\"features\": X_test.values},\n",
    "    y=y_test,\n",
    "    batch_size=X_test.shape[0],\n",
    "    num_epochs=1,\n",
    "    shuffle=False)"
   ]
  },
  {
   "cell_type": "markdown",
   "metadata": {},
   "source": [
    "## Using explicit kernel mappings with the linear model"
   ]
  },
  {
   "cell_type": "code",
   "execution_count": 65,
   "metadata": {},
   "outputs": [],
   "source": [
    "data.rename(columns={'Dst host count': 'Dst_host_count', \"Dst host srv count\" : \"Dst_host_srv_count\",\n",
    "                    \"Dst host same src port rate\" : \"Dst_host_same_src_port_rate\",\n",
    "                    \"Dst host serror rate\" : \"Dst_host_serror_rate\",\n",
    "                    \"Dst host srv serror rate\" : \"Dst_host_srv_serror_rate\",\n",
    "                    \"Same srv rate\" : \"Same_srv_rate\",\n",
    "                    \"Srv serror rate\" : \"Srv_serror_rate\",\n",
    "                    \"conn len\" : \"conn_len\",\n",
    "                    \"src bytes\" : \"src_bytes\",\n",
    "                    \"dst bytes\" : \"dst_bytes\",\n",
    "                    \"conn numb\" : \"conn_numb\",\n",
    "                    \"Serror rate\" : \"Serror_rate\",\n",
    "                    \"cli src pool\" : \"cli_src_pool\",\n",
    "                    \"registered src pool\" : \"registered_src_pool\",\n",
    "                    \"well-known src pool\" : \"well_known_src_pool\", \n",
    "                    \"dst port\" : \"dst_port\",\n",
    "                    \"src port\" : \"src_port\",\n",
    "                    \"Conn state\" : \"Conn_state\" \n",
    "                    }, inplace=True)"
   ]
  },
  {
   "cell_type": "code",
   "execution_count": 66,
   "metadata": {},
   "outputs": [],
   "source": [
    "feat_column = tf.contrib.layers.real_valued_column('features', dimension=len(X_train.columns.values))"
   ]
  },
  {
   "cell_type": "code",
   "execution_count": 67,
   "metadata": {},
   "outputs": [],
   "source": [
    "kernel_mapper = tf.contrib.kernel_methods.RandomFourierFeatureMapper(input_dim=len(X_train.columns.values), output_dim=5000, stddev=5, name='rffm')"
   ]
  },
  {
   "cell_type": "code",
   "execution_count": 68,
   "metadata": {},
   "outputs": [],
   "source": [
    "kernel_mappers = {feat_column: [kernel_mapper]}"
   ]
  },
  {
   "cell_type": "code",
   "execution_count": 69,
   "metadata": {},
   "outputs": [],
   "source": [
    "optimizer = tf.train.FtrlOptimizer(learning_rate=25, l2_regularization_strength=0.001)"
   ]
  },
  {
   "cell_type": "code",
   "execution_count": 70,
   "metadata": {},
   "outputs": [
    {
     "name": "stdout",
     "output_type": "stream",
     "text": [
      "WARNING:tensorflow:From /home/matz/.local/lib/python3.6/site-packages/tensorflow/contrib/kernel_methods/python/kernel_estimators.py:305: multi_class_head (from tensorflow.contrib.learn.python.learn.estimators.head) is deprecated and will be removed in a future version.\n",
      "Instructions for updating:\n",
      "Please switch to tf.contrib.estimator.*_head.\n",
      "WARNING:tensorflow:From /home/matz/.local/lib/python3.6/site-packages/tensorflow/contrib/learn/python/learn/estimators/estimator.py:1180: BaseEstimator.__init__ (from tensorflow.contrib.learn.python.learn.estimators.estimator) is deprecated and will be removed in a future version.\n",
      "Instructions for updating:\n",
      "Please replace uses of any Estimator from tf.contrib.learn with an Estimator from tf.estimator.*\n",
      "WARNING:tensorflow:From /home/matz/.local/lib/python3.6/site-packages/tensorflow/contrib/learn/python/learn/estimators/estimator.py:428: RunConfig.__init__ (from tensorflow.contrib.learn.python.learn.estimators.run_config) is deprecated and will be removed in a future version.\n",
      "Instructions for updating:\n",
      "When switching to tf.estimator.Estimator, use tf.estimator.RunConfig instead.\n",
      "INFO:tensorflow:Using default config.\n",
      "INFO:tensorflow:Using config: {'_task_type': None, '_task_id': 0, '_cluster_spec': <tensorflow.python.training.server_lib.ClusterSpec object at 0x7fc6097442b0>, '_master': '', '_num_ps_replicas': 0, '_num_worker_replicas': 0, '_environment': 'local', '_is_chief': True, '_evaluation_master': '', '_train_distribute': None, '_eval_distribute': None, '_device_fn': None, '_tf_config': gpu_options {\n",
      "  per_process_gpu_memory_fraction: 1.0\n",
      "}\n",
      ", '_tf_random_seed': None, '_save_summary_steps': 100, '_save_checkpoints_secs': 600, '_log_step_count_steps': 100, '_protocol': None, '_session_config': None, '_save_checkpoints_steps': None, '_keep_checkpoint_max': 5, '_keep_checkpoint_every_n_hours': 10000, '_model_dir': 'kernel_train'}\n"
     ]
    }
   ],
   "source": [
    "estimator_kernel = tf.contrib.kernel_methods.KernelLinearClassifier(\n",
    "    n_classes=2,\n",
    "    optimizer=optimizer,\n",
    "    kernel_mappers=kernel_mappers, \n",
    "    model_dir=\"kernel_train\")"
   ]
  },
  {
   "cell_type": "code",
   "execution_count": 71,
   "metadata": {},
   "outputs": [
    {
     "name": "stdout",
     "output_type": "stream",
     "text": [
      "WARNING:tensorflow:From /home/matz/.local/lib/python3.6/site-packages/tensorflow/python/estimator/inputs/queues/feeding_queue_runner.py:62: QueueRunner.__init__ (from tensorflow.python.training.queue_runner_impl) is deprecated and will be removed in a future version.\n",
      "Instructions for updating:\n",
      "To construct input pipelines, use the `tf.data` module.\n",
      "WARNING:tensorflow:From /home/matz/.local/lib/python3.6/site-packages/tensorflow/python/estimator/inputs/queues/feeding_functions.py:500: add_queue_runner (from tensorflow.python.training.queue_runner_impl) is deprecated and will be removed in a future version.\n",
      "Instructions for updating:\n",
      "To construct input pipelines, use the `tf.data` module.\n",
      "WARNING:tensorflow:Casting <dtype: 'int64'> labels to bool.\n",
      "WARNING:tensorflow:Casting <dtype: 'int64'> labels to bool.\n",
      "WARNING:tensorflow:Trapezoidal rule is known to produce incorrect PR-AUCs; please switch to \"careful_interpolation\" instead.\n",
      "WARNING:tensorflow:Trapezoidal rule is known to produce incorrect PR-AUCs; please switch to \"careful_interpolation\" instead.\n",
      "WARNING:tensorflow:From /home/matz/.local/lib/python3.6/site-packages/tensorflow/contrib/learn/python/learn/estimators/head.py:678: ModelFnOps.__new__ (from tensorflow.contrib.learn.python.learn.estimators.model_fn) is deprecated and will be removed in a future version.\n",
      "Instructions for updating:\n",
      "When switching to tf.estimator.Estimator, use tf.estimator.EstimatorSpec. You can use the `estimator_spec` method to create an equivalent one.\n",
      "INFO:tensorflow:Create CheckpointSaverHook.\n",
      "INFO:tensorflow:Graph was finalized.\n",
      "INFO:tensorflow:Restoring parameters from kernel_train/model.ckpt-8000\n",
      "INFO:tensorflow:Running local_init_op.\n",
      "INFO:tensorflow:Done running local_init_op.\n",
      "WARNING:tensorflow:From /home/matz/.local/lib/python3.6/site-packages/tensorflow/python/training/monitored_session.py:804: start_queue_runners (from tensorflow.python.training.queue_runner_impl) is deprecated and will be removed in a future version.\n",
      "Instructions for updating:\n",
      "To construct input pipelines, use the `tf.data` module.\n",
      "INFO:tensorflow:Saving checkpoints for 8000 into kernel_train/model.ckpt.\n",
      "INFO:tensorflow:loss = 0.002313044, step = 8001\n",
      "INFO:tensorflow:global_step/sec: 114.569\n",
      "INFO:tensorflow:loss = 0.023589628, step = 8101 (0.874 sec)\n",
      "INFO:tensorflow:global_step/sec: 125.596\n",
      "INFO:tensorflow:loss = 0.007344484, step = 8201 (0.796 sec)\n",
      "INFO:tensorflow:global_step/sec: 122.843\n",
      "INFO:tensorflow:loss = 0.03323241, step = 8301 (0.814 sec)\n",
      "INFO:tensorflow:global_step/sec: 124.984\n",
      "INFO:tensorflow:loss = 0.0036566742, step = 8401 (0.800 sec)\n",
      "INFO:tensorflow:global_step/sec: 123.839\n",
      "INFO:tensorflow:loss = 0.009301136, step = 8501 (0.808 sec)\n",
      "INFO:tensorflow:global_step/sec: 125.121\n",
      "INFO:tensorflow:loss = 0.0039444137, step = 8601 (0.799 sec)\n",
      "INFO:tensorflow:global_step/sec: 124.579\n",
      "INFO:tensorflow:loss = 0.05360126, step = 8701 (0.802 sec)\n",
      "INFO:tensorflow:global_step/sec: 125.32\n",
      "INFO:tensorflow:loss = 0.003419305, step = 8801 (0.798 sec)\n",
      "INFO:tensorflow:global_step/sec: 123.274\n",
      "INFO:tensorflow:loss = 0.00873685, step = 8901 (0.811 sec)\n",
      "INFO:tensorflow:global_step/sec: 118.365\n",
      "INFO:tensorflow:loss = 0.00767784, step = 9001 (0.845 sec)\n",
      "INFO:tensorflow:global_step/sec: 116.102\n",
      "INFO:tensorflow:loss = 0.0041273907, step = 9101 (0.861 sec)\n",
      "INFO:tensorflow:global_step/sec: 121.219\n",
      "INFO:tensorflow:loss = 0.0055154976, step = 9201 (0.825 sec)\n",
      "INFO:tensorflow:global_step/sec: 122.262\n",
      "INFO:tensorflow:loss = 0.0028903498, step = 9301 (0.818 sec)\n",
      "INFO:tensorflow:global_step/sec: 121.551\n",
      "INFO:tensorflow:loss = 0.01991866, step = 9401 (0.823 sec)\n",
      "INFO:tensorflow:global_step/sec: 121.747\n",
      "INFO:tensorflow:loss = 0.0072370064, step = 9501 (0.821 sec)\n",
      "INFO:tensorflow:global_step/sec: 123.993\n",
      "INFO:tensorflow:loss = 0.002049805, step = 9601 (0.806 sec)\n",
      "INFO:tensorflow:global_step/sec: 123.736\n",
      "INFO:tensorflow:loss = 0.022091942, step = 9701 (0.808 sec)\n",
      "INFO:tensorflow:global_step/sec: 123.566\n",
      "INFO:tensorflow:loss = 0.00892139, step = 9801 (0.809 sec)\n",
      "INFO:tensorflow:global_step/sec: 117.105\n",
      "INFO:tensorflow:loss = 0.014090999, step = 9901 (0.854 sec)\n",
      "INFO:tensorflow:global_step/sec: 115.631\n",
      "INFO:tensorflow:loss = 0.04077686, step = 10001 (0.864 sec)\n",
      "INFO:tensorflow:global_step/sec: 120.521\n",
      "INFO:tensorflow:loss = 0.068448216, step = 10101 (0.830 sec)\n",
      "INFO:tensorflow:global_step/sec: 123.098\n",
      "INFO:tensorflow:loss = 0.005726237, step = 10201 (0.812 sec)\n",
      "INFO:tensorflow:global_step/sec: 123.601\n",
      "INFO:tensorflow:loss = 0.022615353, step = 10301 (0.809 sec)\n",
      "INFO:tensorflow:global_step/sec: 122.037\n",
      "INFO:tensorflow:loss = 0.05844272, step = 10401 (0.819 sec)\n",
      "INFO:tensorflow:global_step/sec: 121.486\n",
      "INFO:tensorflow:loss = 0.002682078, step = 10501 (0.823 sec)\n",
      "INFO:tensorflow:global_step/sec: 122.575\n",
      "INFO:tensorflow:loss = 0.0049191983, step = 10601 (0.816 sec)\n",
      "INFO:tensorflow:global_step/sec: 122.857\n",
      "INFO:tensorflow:loss = 0.042832498, step = 10701 (0.814 sec)\n",
      "INFO:tensorflow:global_step/sec: 121.706\n",
      "INFO:tensorflow:loss = 0.00946561, step = 10801 (0.822 sec)\n",
      "INFO:tensorflow:global_step/sec: 121.862\n",
      "INFO:tensorflow:loss = 0.0028518527, step = 10901 (0.821 sec)\n",
      "INFO:tensorflow:global_step/sec: 123.021\n",
      "INFO:tensorflow:loss = 0.0016751827, step = 11001 (0.812 sec)\n",
      "INFO:tensorflow:global_step/sec: 123.405\n",
      "INFO:tensorflow:loss = 0.008880616, step = 11101 (0.810 sec)\n",
      "INFO:tensorflow:global_step/sec: 122.1\n",
      "INFO:tensorflow:loss = 0.055929262, step = 11201 (0.819 sec)\n",
      "INFO:tensorflow:global_step/sec: 124.478\n",
      "INFO:tensorflow:loss = 0.0036020568, step = 11301 (0.804 sec)\n",
      "INFO:tensorflow:global_step/sec: 121.079\n",
      "INFO:tensorflow:loss = 0.0041912347, step = 11401 (0.826 sec)\n",
      "INFO:tensorflow:global_step/sec: 120.547\n",
      "INFO:tensorflow:loss = 0.005571053, step = 11501 (0.830 sec)\n",
      "INFO:tensorflow:global_step/sec: 122.466\n",
      "INFO:tensorflow:loss = 0.0019557944, step = 11601 (0.817 sec)\n",
      "INFO:tensorflow:global_step/sec: 121.803\n",
      "INFO:tensorflow:loss = 0.0036567566, step = 11701 (0.821 sec)\n",
      "INFO:tensorflow:global_step/sec: 122.925\n",
      "INFO:tensorflow:loss = 0.0038833558, step = 11801 (0.814 sec)\n",
      "INFO:tensorflow:global_step/sec: 124.475\n",
      "INFO:tensorflow:loss = 0.027696433, step = 11901 (0.804 sec)\n",
      "INFO:tensorflow:global_step/sec: 115.734\n",
      "INFO:tensorflow:loss = 0.004920081, step = 12001 (0.864 sec)\n",
      "INFO:tensorflow:global_step/sec: 124.444\n",
      "INFO:tensorflow:loss = 0.037099116, step = 12101 (0.804 sec)\n",
      "INFO:tensorflow:global_step/sec: 122.44\n",
      "INFO:tensorflow:loss = 0.016098905, step = 12201 (0.817 sec)\n",
      "INFO:tensorflow:global_step/sec: 121.935\n",
      "INFO:tensorflow:loss = 0.0046149213, step = 12301 (0.820 sec)\n",
      "INFO:tensorflow:global_step/sec: 123.27\n",
      "INFO:tensorflow:loss = 0.034462713, step = 12401 (0.811 sec)\n",
      "INFO:tensorflow:global_step/sec: 124.03\n",
      "INFO:tensorflow:loss = 0.0034529213, step = 12501 (0.806 sec)\n",
      "INFO:tensorflow:global_step/sec: 122.706\n",
      "INFO:tensorflow:loss = 0.0042602317, step = 12601 (0.815 sec)\n",
      "INFO:tensorflow:global_step/sec: 122.239\n",
      "INFO:tensorflow:loss = 0.006699825, step = 12701 (0.818 sec)\n",
      "INFO:tensorflow:global_step/sec: 124.426\n",
      "INFO:tensorflow:loss = 0.049499046, step = 12801 (0.803 sec)\n",
      "INFO:tensorflow:global_step/sec: 123.076\n",
      "INFO:tensorflow:loss = 0.0056991754, step = 12901 (0.814 sec)\n",
      "INFO:tensorflow:global_step/sec: 109.221\n",
      "INFO:tensorflow:loss = 0.005768445, step = 13001 (0.915 sec)\n",
      "INFO:tensorflow:global_step/sec: 117.496\n",
      "INFO:tensorflow:loss = 0.020943878, step = 13101 (0.851 sec)\n",
      "INFO:tensorflow:global_step/sec: 125.966\n",
      "INFO:tensorflow:loss = 0.03278752, step = 13201 (0.794 sec)\n",
      "INFO:tensorflow:global_step/sec: 118.973\n",
      "INFO:tensorflow:loss = 0.022323977, step = 13301 (0.840 sec)\n",
      "INFO:tensorflow:global_step/sec: 124.731\n",
      "INFO:tensorflow:loss = 0.0016646619, step = 13401 (0.802 sec)\n",
      "INFO:tensorflow:global_step/sec: 123.187\n",
      "INFO:tensorflow:loss = 0.0038782568, step = 13501 (0.812 sec)\n",
      "INFO:tensorflow:global_step/sec: 121.848\n",
      "INFO:tensorflow:loss = 0.004322878, step = 13601 (0.821 sec)\n",
      "INFO:tensorflow:global_step/sec: 113.686\n",
      "INFO:tensorflow:loss = 0.030643437, step = 13701 (0.880 sec)\n",
      "INFO:tensorflow:global_step/sec: 114.858\n",
      "INFO:tensorflow:loss = 0.026079353, step = 13801 (0.871 sec)\n",
      "INFO:tensorflow:global_step/sec: 118.391\n",
      "INFO:tensorflow:loss = 0.0027865965, step = 13901 (0.845 sec)\n"
     ]
    },
    {
     "name": "stdout",
     "output_type": "stream",
     "text": [
      "INFO:tensorflow:global_step/sec: 110.322\n",
      "INFO:tensorflow:loss = 0.003846007, step = 14001 (0.907 sec)\n",
      "INFO:tensorflow:global_step/sec: 110.819\n",
      "INFO:tensorflow:loss = 0.0037010843, step = 14101 (0.902 sec)\n",
      "INFO:tensorflow:global_step/sec: 116.372\n",
      "INFO:tensorflow:loss = 0.0016238744, step = 14201 (0.859 sec)\n",
      "INFO:tensorflow:global_step/sec: 111.842\n",
      "INFO:tensorflow:loss = 0.0031847677, step = 14301 (0.894 sec)\n",
      "INFO:tensorflow:global_step/sec: 114.298\n",
      "INFO:tensorflow:loss = 0.03868576, step = 14401 (0.875 sec)\n",
      "INFO:tensorflow:global_step/sec: 122.676\n",
      "INFO:tensorflow:loss = 0.004011177, step = 14501 (0.816 sec)\n",
      "INFO:tensorflow:global_step/sec: 109.136\n",
      "INFO:tensorflow:loss = 0.0034688234, step = 14601 (0.916 sec)\n",
      "INFO:tensorflow:global_step/sec: 103.249\n",
      "INFO:tensorflow:loss = 0.020764826, step = 14701 (0.969 sec)\n",
      "INFO:tensorflow:global_step/sec: 74.0156\n",
      "INFO:tensorflow:loss = 0.011161742, step = 14801 (1.351 sec)\n",
      "INFO:tensorflow:global_step/sec: 69.1974\n",
      "INFO:tensorflow:loss = 0.006017922, step = 14901 (1.445 sec)\n",
      "INFO:tensorflow:global_step/sec: 78.5084\n",
      "INFO:tensorflow:loss = 0.09597261, step = 15001 (1.276 sec)\n",
      "INFO:tensorflow:global_step/sec: 77.8352\n",
      "INFO:tensorflow:loss = 0.0039241454, step = 15101 (1.282 sec)\n",
      "INFO:tensorflow:global_step/sec: 76.9863\n",
      "INFO:tensorflow:loss = 0.0021385914, step = 15201 (1.299 sec)\n",
      "INFO:tensorflow:global_step/sec: 75.8075\n",
      "INFO:tensorflow:loss = 0.004634108, step = 15301 (1.319 sec)\n",
      "INFO:tensorflow:global_step/sec: 78.0257\n",
      "INFO:tensorflow:loss = 0.007132055, step = 15401 (1.281 sec)\n",
      "INFO:tensorflow:global_step/sec: 78.2254\n",
      "INFO:tensorflow:loss = 0.007247828, step = 15501 (1.279 sec)\n",
      "INFO:tensorflow:global_step/sec: 76.5721\n",
      "INFO:tensorflow:loss = 0.004897187, step = 15601 (1.306 sec)\n",
      "INFO:tensorflow:global_step/sec: 79.736\n",
      "INFO:tensorflow:loss = 0.0034157226, step = 15701 (1.255 sec)\n",
      "INFO:tensorflow:global_step/sec: 79.2257\n",
      "INFO:tensorflow:loss = 0.0018683817, step = 15801 (1.263 sec)\n",
      "INFO:tensorflow:global_step/sec: 79.5881\n",
      "INFO:tensorflow:loss = 0.019130962, step = 15901 (1.255 sec)\n",
      "INFO:tensorflow:Saving checkpoints for 16000 into kernel_train/model.ckpt.\n",
      "INFO:tensorflow:Loss for final step: 0.0014605827.\n"
     ]
    },
    {
     "data": {
      "text/plain": [
       "KernelLinearClassifier(params={'head': <tensorflow.contrib.learn.python.learn.estimators.head._BinaryLogisticHead object at 0x7fc609744160>, 'feature_columns': {_RealValuedColumn(column_name='features_MAPPED', dimension=5000, default_value=None, dtype=tf.float32, normalizer=None)}, 'optimizer': <tensorflow.python.training.ftrl.FtrlOptimizer object at 0x7fc6097b3e48>, 'kernel_mappers': {_RealValuedColumn(column_name='features', dimension=232, default_value=None, dtype=tf.float32, normalizer=None): [<tensorflow.contrib.kernel_methods.python.mappers.random_fourier_features.RandomFourierFeatureMapper object at 0x7fc6097b3ef0>]}})"
      ]
     },
     "execution_count": 71,
     "metadata": {},
     "output_type": "execute_result"
    }
   ],
   "source": [
    "estimator_kernel.fit(input_fn=train_input_fn, steps=8000)"
   ]
  },
  {
   "cell_type": "code",
   "execution_count": 72,
   "metadata": {},
   "outputs": [
    {
     "name": "stdout",
     "output_type": "stream",
     "text": [
      "WARNING:tensorflow:Casting <dtype: 'int64'> labels to bool.\n",
      "WARNING:tensorflow:Casting <dtype: 'int64'> labels to bool.\n",
      "WARNING:tensorflow:Trapezoidal rule is known to produce incorrect PR-AUCs; please switch to \"careful_interpolation\" instead.\n",
      "WARNING:tensorflow:Trapezoidal rule is known to produce incorrect PR-AUCs; please switch to \"careful_interpolation\" instead.\n",
      "INFO:tensorflow:Starting evaluation at 2019-05-17-09:00:06\n",
      "INFO:tensorflow:Graph was finalized.\n",
      "INFO:tensorflow:Restoring parameters from kernel_train/model.ckpt-16000\n",
      "INFO:tensorflow:Running local_init_op.\n",
      "INFO:tensorflow:Done running local_init_op.\n",
      "INFO:tensorflow:Evaluation [1/1]\n",
      "INFO:tensorflow:Finished evaluation at 2019-05-17-09:00:09\n",
      "INFO:tensorflow:Saving dict for global step 16000: accuracy = 0.99846834, accuracy/baseline_label_mean = 0.2973594, accuracy/threshold_0.500000_mean = 0.99846834, auc = 0.9998649, auc_precision_recall = 0.99966365, global_step = 16000, labels/actual_label_mean = 0.2973594, labels/prediction_mean = 0.29816133, loss = 0.0060477853, precision/positive_threshold_0.500000_mean = 0.9955866, recall/positive_threshold_0.500000_mean = 0.99927884\n"
     ]
    }
   ],
   "source": [
    "eval_metrics = estimator_kernel.evaluate(input_fn=eval_input_fn, steps=1)"
   ]
  },
  {
   "cell_type": "code",
   "execution_count": 73,
   "metadata": {},
   "outputs": [
    {
     "name": "stdout",
     "output_type": "stream",
     "text": [
      "accuracy: 0.99846834\n",
      "accuracy/baseline_label_mean: 0.2973594\n",
      "accuracy/threshold_0.500000_mean: 0.99846834\n",
      "auc: 0.9998649\n",
      "auc_precision_recall: 0.99966365\n",
      "global_step: 16000\n",
      "labels/actual_label_mean: 0.2973594\n",
      "labels/prediction_mean: 0.29816133\n",
      "loss: 0.0060477853\n",
      "precision/positive_threshold_0.500000_mean: 0.9955866\n",
      "recall/positive_threshold_0.500000_mean: 0.99927884\n"
     ]
    }
   ],
   "source": [
    "for key,value in sorted(eval_metrics.items()):\n",
    "  print('%s: %s' % (key, value))"
   ]
  },
  {
   "cell_type": "code",
   "execution_count": 74,
   "metadata": {},
   "outputs": [],
   "source": [
    "correctness = []\n",
    "class_id = []\n",
    "pred_iterator = None"
   ]
  },
  {
   "cell_type": "code",
   "execution_count": 75,
   "metadata": {},
   "outputs": [
    {
     "name": "stdout",
     "output_type": "stream",
     "text": [
      "INFO:tensorflow:Graph was finalized.\n",
      "INFO:tensorflow:Restoring parameters from kernel_train/model.ckpt-16000\n",
      "INFO:tensorflow:Running local_init_op.\n",
      "INFO:tensorflow:Done running local_init_op.\n"
     ]
    }
   ],
   "source": [
    "pred_iterator = estimator_kernel.predict(input_fn = test_input_fn)"
   ]
  },
  {
   "cell_type": "code",
   "execution_count": 76,
   "metadata": {},
   "outputs": [],
   "source": [
    "for pred_dict in pred_iterator:\n",
    "    class_id.append(pred_dict['classes'])\n",
    "    #print(pred_dict)"
   ]
  },
  {
   "cell_type": "code",
   "execution_count": 77,
   "metadata": {},
   "outputs": [
    {
     "name": "stdout",
     "output_type": "stream",
     "text": [
      "RFFM Accuracy: 0.99393, F1-score: 0.99681, Precision: 0.99517, Recall: 0.99845, FPR: 0.08829\n",
      "TN: 1549; FP: 150; FN:   48; TP: 30898\n",
      "\n"
     ]
    }
   ],
   "source": [
    "name = \"RFFM\"\n",
    "\n",
    "Acc[name] = metrics.accuracy_score(y_test, class_id)\n",
    "F1S[name] = metrics.f1_score(y_test, class_id)\n",
    "Prec[name] = metrics.precision_score(y_test, class_id)\n",
    "Rec[name] = metrics.recall_score(y_test, class_id)\n",
    "tn, fp, fn, tp = metrics.confusion_matrix(y_test, class_id).ravel()\n",
    "FPR[name] = fp/(fp+tn)\n",
    "\n",
    "print(\"{0:2} Accuracy: {1:.5f}, F1-score: {2:.5f}, Precision: {3:.5f}, Recall: {4:.5f}, FPR: {5:.5f}\".format(name, Acc[name], F1S[name], Prec[name], Rec[name], FPR[name]))\n",
    "print(\"TN: {0:3}; FP: {1:3}; FN: {2:4}; TP: {3:3}\\n\".format(tn, fp, fn, tp))"
   ]
  },
  {
   "cell_type": "markdown",
   "metadata": {},
   "source": [
    "# Neural network part"
   ]
  },
  {
   "cell_type": "code",
   "execution_count": 78,
   "metadata": {},
   "outputs": [],
   "source": [
    "import collections\n",
    "import io\n",
    "import math\n",
    "import tensorflow as tf\n",
    "from IPython import display"
   ]
  },
  {
   "cell_type": "code",
   "execution_count": 79,
   "metadata": {},
   "outputs": [],
   "source": [
    "deep_numeric_feat = [\"Same_srv_rate\", \"Serror_rate\", \"Srv_serror_rate\", \"Dst_host_count\", \"Dst_host_srv_count\", \"Dst_host_same_src_port_rate\", \"Dst_host_serror_rate\", \"Dst_host_srv_serror_rate\", \"well_known_src_pool\", \"registered_src_pool\", \"cli_src_pool\"]\n",
    "wide_numeric_feat = [\"conn_len\",  \"src_bytes\", \"dst_bytes\", \"conn_numb\"]\n",
    "categorical_feat = [\"service\", \"Conn_state\", \"src_port\", \"dst_port\", \"proto\"]"
   ]
  },
  {
   "cell_type": "code",
   "execution_count": 80,
   "metadata": {},
   "outputs": [],
   "source": [
    "deep_numeric_feat_tf = [tf.feature_column.numeric_column(k) for k in deep_numeric_feat]\n",
    "wide_numeric_feat_tf = [tf.feature_column.numeric_column(k) for k in wide_numeric_feat]"
   ]
  },
  {
   "cell_type": "code",
   "execution_count": 81,
   "metadata": {},
   "outputs": [],
   "source": [
    "src_port_mod = [\"src_\" + s for s in data[\"src_port\"].unique().tolist()]\n",
    "src_port = tf.feature_column.categorical_column_with_vocabulary_list(\n",
    "    'src_port', src_port_mod)\n",
    "\n",
    "dst_port_mod = [\"dst_\" + s for s in data[\"dst_port\"].unique().tolist()]\n",
    "dst_port = tf.feature_column.categorical_column_with_vocabulary_list(\n",
    "    'dst_port', dst_port_mod)\n",
    "\n",
    "service = tf.feature_column.categorical_column_with_vocabulary_list(\n",
    "    'service', data[\"service\"].unique().tolist())\n",
    "\n",
    "Conn_state = tf.feature_column.categorical_column_with_vocabulary_list(\n",
    "    'Conn_state', data[\"Conn_state\"].unique().tolist())\n",
    "\n",
    "proto = tf.feature_column.categorical_column_with_vocabulary_list(\n",
    "    'proto', data[\"proto\"].unique().tolist())"
   ]
  },
  {
   "cell_type": "code",
   "execution_count": 103,
   "metadata": {},
   "outputs": [],
   "source": [
    "deep_columns = [\n",
    "    tf.feature_column.indicator_column(service),\n",
    "    tf.feature_column.indicator_column(Conn_state),\n",
    "    tf.feature_column.indicator_column(proto),\n",
    "    tf.feature_column.embedding_column(src_port, dimension=10),\n",
    "    tf.feature_column.embedding_column(dst_port, dimension=6),\n",
    "]"
   ]
  },
  {
   "cell_type": "code",
   "execution_count": 104,
   "metadata": {},
   "outputs": [],
   "source": [
    "crossed_columns = [\n",
    "      tf.feature_column.crossed_column(\n",
    "          ['src_port', 'service'], hash_bucket_size=10000),\n",
    "      tf.feature_column.crossed_column(\n",
    "          ['dst_port', 'service'], hash_bucket_size=10000),\n",
    "      tf.feature_column.crossed_column(\n",
    "          ['conn_len', 'src_bytes'], hash_bucket_size=10000),\n",
    "      tf.feature_column.crossed_column(\n",
    "          ['conn_len', 'dst_bytes'], hash_bucket_size=10000),\n",
    "      tf.feature_column.crossed_column(\n",
    "          ['dst_port', 'conn_numb'], hash_bucket_size=10000),  \n",
    "      tf.feature_column.crossed_column(\n",
    "          ['service', 'proto'], hash_bucket_size=100),\n",
    "    \n",
    "  ]"
   ]
  },
  {
   "cell_type": "code",
   "execution_count": 120,
   "metadata": {},
   "outputs": [
    {
     "name": "stdout",
     "output_type": "stream",
     "text": [
      "INFO:tensorflow:Using default config.\n",
      "INFO:tensorflow:Using config: {'_model_dir': '/home/matz/Desktop/ml_ids/NN_model', '_tf_random_seed': None, '_save_summary_steps': 100, '_save_checkpoints_steps': None, '_save_checkpoints_secs': 600, '_session_config': allow_soft_placement: true\n",
      "graph_options {\n",
      "  rewrite_options {\n",
      "    meta_optimizer_iterations: ONE\n",
      "  }\n",
      "}\n",
      ", '_keep_checkpoint_max': 5, '_keep_checkpoint_every_n_hours': 10000, '_log_step_count_steps': 100, '_train_distribute': None, '_device_fn': None, '_protocol': None, '_eval_distribute': None, '_experimental_distribute': None, '_service': None, '_cluster_spec': <tensorflow.python.training.server_lib.ClusterSpec object at 0x7fc6324775c0>, '_task_type': 'worker', '_task_id': 0, '_global_id_in_cluster': 0, '_master': '', '_evaluation_master': '', '_is_chief': True, '_num_ps_replicas': 0, '_num_worker_replicas': 1}\n"
     ]
    }
   ],
   "source": [
    "NN_model = tf.estimator.DNNLinearCombinedClassifier(\n",
    "    model_dir = \"/home/matz/Desktop/ml_ids/NN_model\",\n",
    "    dnn_activation_fn=tf.nn.selu,\n",
    "    linear_feature_columns = deep_columns + deep_numeric_feat_tf + wide_numeric_feat_tf + crossed_columns,\n",
    "    dnn_feature_columns = deep_columns + deep_numeric_feat_tf + wide_numeric_feat_tf,\n",
    "    dnn_hidden_units = [950, 550, 300, 175]\n",
    ")"
   ]
  },
  {
   "cell_type": "code",
   "execution_count": null,
   "metadata": {},
   "outputs": [],
   "source": []
  },
  {
   "cell_type": "code",
   "execution_count": 121,
   "metadata": {},
   "outputs": [],
   "source": [
    "feature_set= deep_numeric_feat + wide_numeric_feat + categorical_feat"
   ]
  },
  {
   "cell_type": "code",
   "execution_count": 122,
   "metadata": {},
   "outputs": [],
   "source": [
    "def get_input_fn(data_set, num_epochs=None, n_batch = 256, shuffle=True):\n",
    "    return tf.estimator.inputs.pandas_input_fn(\n",
    "       x=pd.DataFrame({k: data_set[k].values for k in feature_set}),\n",
    "       y = pd.Series(data_set[\"attack_flag\"].values),\n",
    "       batch_size=n_batch,   \n",
    "       num_epochs=num_epochs,\n",
    "       shuffle=shuffle)"
   ]
  },
  {
   "cell_type": "code",
   "execution_count": 123,
   "metadata": {},
   "outputs": [
    {
     "name": "stdout",
     "output_type": "stream",
     "text": [
      "INFO:tensorflow:Calling model_fn.\n",
      "INFO:tensorflow:Done calling model_fn.\n",
      "INFO:tensorflow:Create CheckpointSaverHook.\n",
      "INFO:tensorflow:Graph was finalized.\n",
      "INFO:tensorflow:Running local_init_op.\n",
      "INFO:tensorflow:Done running local_init_op.\n",
      "INFO:tensorflow:Saving checkpoints for 0 into /home/matz/Desktop/ml_ids/NN_model/model.ckpt.\n",
      "INFO:tensorflow:loss = 162.36157, step = 1\n",
      "INFO:tensorflow:global_step/sec: 43.4466\n",
      "INFO:tensorflow:loss = 420.30057, step = 101 (2.303 sec)\n",
      "INFO:tensorflow:global_step/sec: 63.1378\n",
      "INFO:tensorflow:loss = 2.7997997, step = 201 (1.584 sec)\n",
      "INFO:tensorflow:global_step/sec: 68.4813\n",
      "INFO:tensorflow:loss = 2.0049436, step = 301 (1.459 sec)\n",
      "INFO:tensorflow:global_step/sec: 58.2435\n",
      "INFO:tensorflow:loss = 0.10099631, step = 401 (1.718 sec)\n",
      "INFO:tensorflow:global_step/sec: 55.6294\n",
      "INFO:tensorflow:loss = 0.9059249, step = 501 (1.797 sec)\n",
      "INFO:tensorflow:global_step/sec: 61.1048\n",
      "INFO:tensorflow:loss = 8.119124, step = 601 (1.637 sec)\n",
      "INFO:tensorflow:global_step/sec: 59.6915\n",
      "INFO:tensorflow:loss = 11.410182, step = 701 (1.675 sec)\n",
      "INFO:tensorflow:global_step/sec: 62.705\n",
      "INFO:tensorflow:loss = 1.2799293, step = 801 (1.595 sec)\n",
      "INFO:tensorflow:global_step/sec: 62.2206\n",
      "INFO:tensorflow:loss = 5.1560745, step = 901 (1.607 sec)\n",
      "INFO:tensorflow:global_step/sec: 66.9408\n",
      "INFO:tensorflow:loss = 2.9610085, step = 1001 (1.494 sec)\n",
      "INFO:tensorflow:global_step/sec: 67.3513\n",
      "INFO:tensorflow:loss = 0.93786824, step = 1101 (1.485 sec)\n",
      "INFO:tensorflow:global_step/sec: 67.7015\n",
      "INFO:tensorflow:loss = 0.3234473, step = 1201 (1.477 sec)\n",
      "INFO:tensorflow:global_step/sec: 69.6447\n",
      "INFO:tensorflow:loss = 0.7359439, step = 1301 (1.436 sec)\n",
      "INFO:tensorflow:global_step/sec: 65.8402\n",
      "INFO:tensorflow:loss = 8.0924635, step = 1401 (1.519 sec)\n",
      "INFO:tensorflow:global_step/sec: 66.9785\n",
      "INFO:tensorflow:loss = 6.464839, step = 1501 (1.493 sec)\n",
      "INFO:tensorflow:global_step/sec: 56.6502\n",
      "INFO:tensorflow:loss = 5.1638365, step = 1601 (1.766 sec)\n",
      "INFO:tensorflow:global_step/sec: 60.2868\n",
      "INFO:tensorflow:loss = 2.174882, step = 1701 (1.658 sec)\n",
      "INFO:tensorflow:global_step/sec: 53.2421\n",
      "INFO:tensorflow:loss = 5.316343, step = 1801 (1.879 sec)\n",
      "INFO:tensorflow:global_step/sec: 68.0673\n",
      "INFO:tensorflow:loss = 0.36996615, step = 1901 (1.469 sec)\n",
      "INFO:tensorflow:global_step/sec: 68.8225\n",
      "INFO:tensorflow:loss = 115.86187, step = 2001 (1.453 sec)\n",
      "INFO:tensorflow:global_step/sec: 57.1465\n",
      "INFO:tensorflow:loss = 1.5893228, step = 2101 (1.750 sec)\n",
      "INFO:tensorflow:global_step/sec: 68.5947\n",
      "INFO:tensorflow:loss = 2.0181134, step = 2201 (1.458 sec)\n",
      "INFO:tensorflow:global_step/sec: 70.2871\n",
      "INFO:tensorflow:loss = 3.6957018, step = 2301 (1.423 sec)\n",
      "INFO:tensorflow:global_step/sec: 71.2991\n",
      "INFO:tensorflow:loss = 12.731134, step = 2401 (1.402 sec)\n",
      "INFO:tensorflow:global_step/sec: 72.0393\n",
      "INFO:tensorflow:loss = 0.6784878, step = 2501 (1.388 sec)\n",
      "INFO:tensorflow:global_step/sec: 70.9592\n",
      "INFO:tensorflow:loss = 3.2089088, step = 2601 (1.409 sec)\n",
      "INFO:tensorflow:global_step/sec: 68.3462\n",
      "INFO:tensorflow:loss = 8.202121, step = 2701 (1.464 sec)\n",
      "INFO:tensorflow:global_step/sec: 71.3371\n",
      "INFO:tensorflow:loss = 1.8739079, step = 2801 (1.401 sec)\n",
      "INFO:tensorflow:global_step/sec: 71.6924\n",
      "INFO:tensorflow:loss = 6.646512, step = 2901 (1.396 sec)\n",
      "INFO:tensorflow:global_step/sec: 66.4394\n",
      "INFO:tensorflow:loss = 2.152387, step = 3001 (1.505 sec)\n",
      "INFO:tensorflow:global_step/sec: 62.566\n",
      "INFO:tensorflow:loss = 1.3410538, step = 3101 (1.598 sec)\n",
      "INFO:tensorflow:global_step/sec: 69.3271\n",
      "INFO:tensorflow:loss = 19.468996, step = 3201 (1.443 sec)\n",
      "INFO:tensorflow:global_step/sec: 62.0113\n",
      "INFO:tensorflow:loss = 6.142918, step = 3301 (1.613 sec)\n",
      "INFO:tensorflow:global_step/sec: 66.7204\n",
      "INFO:tensorflow:loss = 2.3824024, step = 3401 (1.499 sec)\n",
      "INFO:tensorflow:global_step/sec: 67.2797\n",
      "INFO:tensorflow:loss = 9.858661, step = 3501 (1.487 sec)\n",
      "INFO:tensorflow:global_step/sec: 67.5429\n",
      "INFO:tensorflow:loss = 2.462624, step = 3601 (1.481 sec)\n",
      "INFO:tensorflow:global_step/sec: 65.4531\n",
      "INFO:tensorflow:loss = 0.46987894, step = 3701 (1.527 sec)\n",
      "INFO:tensorflow:global_step/sec: 66.8742\n",
      "INFO:tensorflow:loss = 0.4881456, step = 3801 (1.496 sec)\n",
      "INFO:tensorflow:global_step/sec: 58.5734\n",
      "INFO:tensorflow:loss = 0.14124085, step = 3901 (1.707 sec)\n",
      "INFO:tensorflow:global_step/sec: 71.7329\n",
      "INFO:tensorflow:loss = 1.9440391, step = 4001 (1.394 sec)\n",
      "INFO:tensorflow:global_step/sec: 69.5822\n",
      "INFO:tensorflow:loss = 13.147592, step = 4101 (1.437 sec)\n",
      "INFO:tensorflow:global_step/sec: 67.1015\n",
      "INFO:tensorflow:loss = 7.1841397, step = 4201 (1.490 sec)\n",
      "INFO:tensorflow:global_step/sec: 65.2151\n",
      "INFO:tensorflow:loss = 6.3286157, step = 4301 (1.533 sec)\n",
      "INFO:tensorflow:global_step/sec: 56.4617\n",
      "INFO:tensorflow:loss = 4.064158, step = 4401 (1.771 sec)\n",
      "INFO:tensorflow:global_step/sec: 57.0179\n",
      "INFO:tensorflow:loss = 1.4144158, step = 4501 (1.754 sec)\n",
      "INFO:tensorflow:global_step/sec: 57.4383\n",
      "INFO:tensorflow:loss = 0.27880087, step = 4601 (1.741 sec)\n",
      "INFO:tensorflow:global_step/sec: 58.2792\n",
      "INFO:tensorflow:loss = 11.837004, step = 4701 (1.716 sec)\n",
      "INFO:tensorflow:global_step/sec: 61.7749\n",
      "INFO:tensorflow:loss = 1.1369646, step = 4801 (1.619 sec)\n",
      "INFO:tensorflow:global_step/sec: 64.2985\n",
      "INFO:tensorflow:loss = 2.393641, step = 4901 (1.557 sec)\n",
      "INFO:tensorflow:global_step/sec: 72.3071\n",
      "INFO:tensorflow:loss = 6.795036, step = 5001 (1.381 sec)\n",
      "INFO:tensorflow:global_step/sec: 73.6463\n",
      "INFO:tensorflow:loss = 17.15186, step = 5101 (1.358 sec)\n",
      "INFO:tensorflow:global_step/sec: 68.8335\n",
      "INFO:tensorflow:loss = 4.3691673, step = 5201 (1.453 sec)\n",
      "INFO:tensorflow:global_step/sec: 75.1139\n",
      "INFO:tensorflow:loss = 0.7526146, step = 5301 (1.331 sec)\n",
      "INFO:tensorflow:global_step/sec: 76.9073\n",
      "INFO:tensorflow:loss = 0.16853468, step = 5401 (1.300 sec)\n",
      "INFO:tensorflow:global_step/sec: 74.155\n",
      "INFO:tensorflow:loss = 0.1351713, step = 5501 (1.348 sec)\n",
      "INFO:tensorflow:global_step/sec: 79.6788\n",
      "INFO:tensorflow:loss = 1.2785136, step = 5601 (1.256 sec)\n",
      "INFO:tensorflow:global_step/sec: 72.295\n",
      "INFO:tensorflow:loss = 0.8262503, step = 5701 (1.383 sec)\n",
      "INFO:tensorflow:global_step/sec: 66.5783\n",
      "INFO:tensorflow:loss = 4.1361856, step = 5801 (1.502 sec)\n",
      "INFO:tensorflow:global_step/sec: 75.9192\n",
      "INFO:tensorflow:loss = 10.26332, step = 5901 (1.317 sec)\n",
      "INFO:tensorflow:global_step/sec: 80.2461\n",
      "INFO:tensorflow:loss = 7.715558, step = 6001 (1.246 sec)\n",
      "INFO:tensorflow:global_step/sec: 70.2226\n",
      "INFO:tensorflow:loss = 5.300556, step = 6101 (1.424 sec)\n",
      "INFO:tensorflow:global_step/sec: 68.9384\n",
      "INFO:tensorflow:loss = 1.6896236, step = 6201 (1.451 sec)\n",
      "INFO:tensorflow:global_step/sec: 74.6109\n",
      "INFO:tensorflow:loss = 0.28672695, step = 6301 (1.340 sec)\n",
      "INFO:tensorflow:global_step/sec: 77.7465\n",
      "INFO:tensorflow:loss = 0.14057517, step = 6401 (1.286 sec)\n",
      "INFO:tensorflow:global_step/sec: 79.557\n",
      "INFO:tensorflow:loss = 1.1880121, step = 6501 (1.257 sec)\n",
      "INFO:tensorflow:global_step/sec: 76.6593\n",
      "INFO:tensorflow:loss = 14.570993, step = 6601 (1.305 sec)\n",
      "INFO:tensorflow:global_step/sec: 76.4091\n",
      "INFO:tensorflow:loss = 4.058993, step = 6701 (1.309 sec)\n",
      "INFO:tensorflow:global_step/sec: 74.0203\n",
      "INFO:tensorflow:loss = 7.0509453, step = 6801 (1.351 sec)\n",
      "INFO:tensorflow:global_step/sec: 77.5482\n",
      "INFO:tensorflow:loss = 14.834445, step = 6901 (1.290 sec)\n",
      "INFO:tensorflow:global_step/sec: 72.7494\n",
      "INFO:tensorflow:loss = 1.0404227, step = 7001 (1.375 sec)\n",
      "INFO:tensorflow:global_step/sec: 80.5168\n",
      "INFO:tensorflow:loss = 2.2237592, step = 7101 (1.242 sec)\n",
      "INFO:tensorflow:global_step/sec: 77.0759\n",
      "INFO:tensorflow:loss = 0.12149327, step = 7201 (1.298 sec)\n",
      "INFO:tensorflow:global_step/sec: 70.9879\n",
      "INFO:tensorflow:loss = 0.14627449, step = 7301 (1.408 sec)\n",
      "INFO:tensorflow:global_step/sec: 73.5332\n",
      "INFO:tensorflow:loss = 5.6839714, step = 7401 (1.360 sec)\n",
      "INFO:tensorflow:global_step/sec: 62.9878\n",
      "INFO:tensorflow:loss = 9.165326, step = 7501 (1.588 sec)\n",
      "INFO:tensorflow:global_step/sec: 67.1122\n",
      "INFO:tensorflow:loss = 3.0166242, step = 7601 (1.490 sec)\n",
      "INFO:tensorflow:global_step/sec: 67.8243\n",
      "INFO:tensorflow:loss = 15.9804735, step = 7701 (1.474 sec)\n",
      "INFO:tensorflow:global_step/sec: 69.6799\n",
      "INFO:tensorflow:loss = 0.27404666, step = 7801 (1.436 sec)\n",
      "INFO:tensorflow:global_step/sec: 73.6184\n",
      "INFO:tensorflow:loss = 1.2651803, step = 7901 (1.358 sec)\n",
      "INFO:tensorflow:global_step/sec: 70.8981\n"
     ]
    },
    {
     "name": "stdout",
     "output_type": "stream",
     "text": [
      "INFO:tensorflow:loss = 0.38160554, step = 8001 (1.410 sec)\n",
      "INFO:tensorflow:global_step/sec: 72.7239\n",
      "INFO:tensorflow:loss = 1.3145554, step = 8101 (1.376 sec)\n",
      "INFO:tensorflow:global_step/sec: 66.5965\n",
      "INFO:tensorflow:loss = 5.186166, step = 8201 (1.501 sec)\n",
      "INFO:tensorflow:global_step/sec: 72.249\n",
      "INFO:tensorflow:loss = 18.26064, step = 8301 (1.384 sec)\n",
      "INFO:tensorflow:global_step/sec: 67.9288\n",
      "INFO:tensorflow:loss = 8.601792, step = 8401 (1.472 sec)\n",
      "INFO:tensorflow:global_step/sec: 69.7904\n",
      "INFO:tensorflow:loss = 12.838185, step = 8501 (1.433 sec)\n",
      "INFO:tensorflow:global_step/sec: 72.3281\n",
      "INFO:tensorflow:loss = 78.170074, step = 8601 (1.383 sec)\n",
      "INFO:tensorflow:global_step/sec: 68.0942\n",
      "INFO:tensorflow:loss = 5.9550486, step = 8701 (1.468 sec)\n",
      "INFO:tensorflow:global_step/sec: 69.1122\n",
      "INFO:tensorflow:loss = 0.26285478, step = 8801 (1.447 sec)\n",
      "INFO:tensorflow:global_step/sec: 67.0696\n",
      "INFO:tensorflow:loss = 1.4969511, step = 8901 (1.491 sec)\n",
      "INFO:tensorflow:global_step/sec: 59.6432\n",
      "INFO:tensorflow:loss = 0.9581983, step = 9001 (1.676 sec)\n",
      "INFO:tensorflow:global_step/sec: 62.4301\n",
      "INFO:tensorflow:loss = 5.378486, step = 9101 (1.602 sec)\n",
      "INFO:tensorflow:global_step/sec: 67.4468\n",
      "INFO:tensorflow:loss = 13.696861, step = 9201 (1.482 sec)\n",
      "INFO:tensorflow:global_step/sec: 70.1405\n",
      "INFO:tensorflow:loss = 3.0627275, step = 9301 (1.426 sec)\n",
      "INFO:tensorflow:global_step/sec: 69.6628\n",
      "INFO:tensorflow:loss = 30.338108, step = 9401 (1.435 sec)\n",
      "INFO:tensorflow:global_step/sec: 72.3692\n",
      "INFO:tensorflow:loss = 0.30485174, step = 9501 (1.382 sec)\n",
      "INFO:tensorflow:global_step/sec: 60.116\n",
      "INFO:tensorflow:loss = 1.458223, step = 9601 (1.663 sec)\n",
      "INFO:tensorflow:global_step/sec: 58.1832\n",
      "INFO:tensorflow:loss = 0.25586587, step = 9701 (1.719 sec)\n",
      "INFO:tensorflow:global_step/sec: 68.3069\n",
      "INFO:tensorflow:loss = 3.6514277, step = 9801 (1.464 sec)\n",
      "INFO:tensorflow:global_step/sec: 64.8853\n",
      "INFO:tensorflow:loss = 6.367748, step = 9901 (1.540 sec)\n",
      "INFO:tensorflow:global_step/sec: 77.0504\n",
      "INFO:tensorflow:loss = 12.129573, step = 10001 (1.298 sec)\n",
      "INFO:tensorflow:global_step/sec: 66.7483\n",
      "INFO:tensorflow:loss = 3.4802911, step = 10101 (1.498 sec)\n",
      "INFO:tensorflow:global_step/sec: 67.571\n",
      "INFO:tensorflow:loss = 3.354615, step = 10201 (1.480 sec)\n",
      "INFO:tensorflow:global_step/sec: 77.4809\n",
      "INFO:tensorflow:loss = 2.5658762, step = 10301 (1.291 sec)\n",
      "INFO:tensorflow:global_step/sec: 74.9293\n",
      "INFO:tensorflow:loss = 0.569371, step = 10401 (1.334 sec)\n",
      "INFO:tensorflow:global_step/sec: 63.0996\n",
      "INFO:tensorflow:loss = 0.40884525, step = 10501 (1.585 sec)\n",
      "INFO:tensorflow:global_step/sec: 72.9583\n",
      "INFO:tensorflow:loss = 1.1124936, step = 10601 (1.371 sec)\n",
      "INFO:tensorflow:global_step/sec: 72.9195\n",
      "INFO:tensorflow:loss = 5.763251, step = 10701 (1.372 sec)\n",
      "INFO:tensorflow:global_step/sec: 62.8052\n",
      "INFO:tensorflow:loss = 10.265781, step = 10801 (1.592 sec)\n",
      "INFO:tensorflow:global_step/sec: 68.7112\n",
      "INFO:tensorflow:loss = 19.127316, step = 10901 (1.455 sec)\n",
      "INFO:tensorflow:global_step/sec: 73.9839\n",
      "INFO:tensorflow:loss = 7.3118787, step = 11001 (1.352 sec)\n",
      "INFO:tensorflow:global_step/sec: 65.165\n",
      "INFO:tensorflow:loss = 283.3821, step = 11101 (1.535 sec)\n",
      "INFO:tensorflow:global_step/sec: 67.9609\n",
      "INFO:tensorflow:loss = 0.41635773, step = 11201 (1.472 sec)\n",
      "INFO:tensorflow:global_step/sec: 77.2193\n",
      "INFO:tensorflow:loss = 0.60328937, step = 11301 (1.294 sec)\n",
      "INFO:tensorflow:global_step/sec: 72.6884\n",
      "INFO:tensorflow:loss = 1.8810055, step = 11401 (1.376 sec)\n",
      "INFO:tensorflow:global_step/sec: 70.9527\n",
      "INFO:tensorflow:loss = 2.7534096, step = 11501 (1.409 sec)\n",
      "INFO:tensorflow:global_step/sec: 73.5468\n",
      "INFO:tensorflow:loss = 1.6718554, step = 11601 (1.360 sec)\n",
      "INFO:tensorflow:global_step/sec: 75.7333\n",
      "INFO:tensorflow:loss = 1.8960087, step = 11701 (1.320 sec)\n",
      "INFO:tensorflow:global_step/sec: 74.8406\n",
      "INFO:tensorflow:loss = 7.8709264, step = 11801 (1.336 sec)\n",
      "INFO:tensorflow:global_step/sec: 78.9125\n",
      "INFO:tensorflow:loss = 2.191753, step = 11901 (1.267 sec)\n",
      "INFO:tensorflow:global_step/sec: 78.6239\n",
      "INFO:tensorflow:loss = 80.495026, step = 12001 (1.272 sec)\n",
      "INFO:tensorflow:global_step/sec: 69.6841\n",
      "INFO:tensorflow:loss = 4.254309, step = 12101 (1.435 sec)\n",
      "INFO:tensorflow:global_step/sec: 75.0693\n",
      "INFO:tensorflow:loss = 89.67978, step = 12201 (1.332 sec)\n",
      "INFO:tensorflow:global_step/sec: 71.2681\n",
      "INFO:tensorflow:loss = 1.5347872, step = 12301 (1.403 sec)\n",
      "INFO:tensorflow:global_step/sec: 64.7647\n",
      "INFO:tensorflow:loss = 1.2725569, step = 12401 (1.545 sec)\n",
      "INFO:tensorflow:global_step/sec: 67.638\n",
      "INFO:tensorflow:loss = 2.6803603, step = 12501 (1.478 sec)\n",
      "INFO:tensorflow:global_step/sec: 74.5044\n",
      "INFO:tensorflow:loss = 4.9128623, step = 12601 (1.343 sec)\n",
      "INFO:tensorflow:global_step/sec: 73.5482\n",
      "INFO:tensorflow:loss = 6.2650776, step = 12701 (1.359 sec)\n",
      "INFO:tensorflow:global_step/sec: 66.4019\n",
      "INFO:tensorflow:loss = 8.58028, step = 12801 (1.508 sec)\n",
      "INFO:tensorflow:global_step/sec: 63.8884\n",
      "INFO:tensorflow:loss = 0.54352534, step = 12901 (1.563 sec)\n",
      "INFO:tensorflow:global_step/sec: 78.2996\n",
      "INFO:tensorflow:loss = 0.8526594, step = 13001 (1.277 sec)\n",
      "INFO:tensorflow:global_step/sec: 74.7625\n",
      "INFO:tensorflow:loss = 1.9013817, step = 13101 (1.338 sec)\n",
      "INFO:tensorflow:global_step/sec: 77.1037\n",
      "INFO:tensorflow:loss = 0.15942125, step = 13201 (1.297 sec)\n",
      "INFO:tensorflow:global_step/sec: 77.5564\n",
      "INFO:tensorflow:loss = 9.603796, step = 13301 (1.290 sec)\n",
      "INFO:tensorflow:global_step/sec: 62.3235\n",
      "INFO:tensorflow:loss = 0.85748076, step = 13401 (1.605 sec)\n",
      "INFO:tensorflow:global_step/sec: 68.1826\n",
      "INFO:tensorflow:loss = 3.119167, step = 13501 (1.466 sec)\n",
      "INFO:tensorflow:global_step/sec: 75.3891\n",
      "INFO:tensorflow:loss = 1.2678707, step = 13601 (1.326 sec)\n",
      "INFO:tensorflow:global_step/sec: 71.8592\n",
      "INFO:tensorflow:loss = 28.155107, step = 13701 (1.391 sec)\n",
      "INFO:tensorflow:global_step/sec: 68.5164\n",
      "INFO:tensorflow:loss = 0.44779813, step = 13801 (1.460 sec)\n",
      "INFO:tensorflow:global_step/sec: 75.2594\n",
      "INFO:tensorflow:loss = 0.21063262, step = 13901 (1.329 sec)\n",
      "INFO:tensorflow:global_step/sec: 72.6955\n",
      "INFO:tensorflow:loss = 0.07599932, step = 14001 (1.376 sec)\n",
      "INFO:tensorflow:global_step/sec: 74.2398\n",
      "INFO:tensorflow:loss = 0.50932425, step = 14101 (1.347 sec)\n",
      "INFO:tensorflow:global_step/sec: 74.1502\n",
      "INFO:tensorflow:loss = 2.348599, step = 14201 (1.349 sec)\n",
      "INFO:tensorflow:global_step/sec: 72.6356\n",
      "INFO:tensorflow:loss = 1.1286519, step = 14301 (1.377 sec)\n",
      "INFO:tensorflow:global_step/sec: 70.5297\n",
      "INFO:tensorflow:loss = 2.9628181, step = 14401 (1.419 sec)\n",
      "INFO:tensorflow:global_step/sec: 70.9941\n",
      "INFO:tensorflow:loss = 13.184885, step = 14501 (1.408 sec)\n",
      "INFO:tensorflow:global_step/sec: 75.5244\n",
      "INFO:tensorflow:loss = 0.6812171, step = 14601 (1.324 sec)\n",
      "INFO:tensorflow:global_step/sec: 71.1096\n",
      "INFO:tensorflow:loss = 0.10234668, step = 14701 (1.406 sec)\n",
      "INFO:tensorflow:global_step/sec: 74.0636\n",
      "INFO:tensorflow:loss = 0.4510973, step = 14801 (1.350 sec)\n",
      "INFO:tensorflow:global_step/sec: 72.4382\n",
      "INFO:tensorflow:loss = 0.09164875, step = 14901 (1.380 sec)\n",
      "INFO:tensorflow:global_step/sec: 72.6196\n",
      "INFO:tensorflow:loss = 1.3889943, step = 15001 (1.377 sec)\n",
      "INFO:tensorflow:global_step/sec: 70.2751\n",
      "INFO:tensorflow:loss = 7.889067, step = 15101 (1.423 sec)\n",
      "INFO:tensorflow:global_step/sec: 68.2353\n",
      "INFO:tensorflow:loss = 1.6501691, step = 15201 (1.466 sec)\n",
      "INFO:tensorflow:global_step/sec: 69.7049\n",
      "INFO:tensorflow:loss = 7.619256, step = 15301 (1.435 sec)\n",
      "INFO:tensorflow:global_step/sec: 76.4734\n",
      "INFO:tensorflow:loss = 5.856143, step = 15401 (1.308 sec)\n",
      "INFO:tensorflow:global_step/sec: 78.4284\n",
      "INFO:tensorflow:loss = 2.4070106, step = 15501 (1.275 sec)\n",
      "INFO:tensorflow:global_step/sec: 75.678\n",
      "INFO:tensorflow:loss = 0.30699858, step = 15601 (1.321 sec)\n",
      "INFO:tensorflow:global_step/sec: 76.8859\n",
      "INFO:tensorflow:loss = 5.35321, step = 15701 (1.301 sec)\n",
      "INFO:tensorflow:global_step/sec: 78.8085\n",
      "INFO:tensorflow:loss = 0.14850567, step = 15801 (1.269 sec)\n",
      "INFO:tensorflow:global_step/sec: 72.075\n",
      "INFO:tensorflow:loss = 0.7597821, step = 15901 (1.388 sec)\n",
      "INFO:tensorflow:global_step/sec: 69.5908\n",
      "INFO:tensorflow:loss = 0.8923167, step = 16001 (1.437 sec)\n",
      "INFO:tensorflow:global_step/sec: 75.6532\n",
      "INFO:tensorflow:loss = 5.5010786, step = 16101 (1.322 sec)\n",
      "INFO:tensorflow:global_step/sec: 72.6002\n",
      "INFO:tensorflow:loss = 0.70531523, step = 16201 (1.377 sec)\n"
     ]
    },
    {
     "name": "stdout",
     "output_type": "stream",
     "text": [
      "INFO:tensorflow:global_step/sec: 74.6484\n",
      "INFO:tensorflow:loss = 0.3856402, step = 16301 (1.340 sec)\n",
      "INFO:tensorflow:global_step/sec: 69.0387\n",
      "INFO:tensorflow:loss = 0.36893556, step = 16401 (1.448 sec)\n",
      "INFO:tensorflow:global_step/sec: 76.4522\n",
      "INFO:tensorflow:loss = 0.4842146, step = 16501 (1.308 sec)\n",
      "INFO:tensorflow:global_step/sec: 69.2124\n",
      "INFO:tensorflow:loss = 2.1548939, step = 16601 (1.445 sec)\n",
      "INFO:tensorflow:global_step/sec: 70.8735\n",
      "INFO:tensorflow:loss = 1.482264, step = 16701 (1.411 sec)\n",
      "INFO:tensorflow:global_step/sec: 71.5791\n",
      "INFO:tensorflow:loss = 1.8195355, step = 16801 (1.397 sec)\n",
      "INFO:tensorflow:global_step/sec: 71.9604\n",
      "INFO:tensorflow:loss = 3.010656, step = 16901 (1.390 sec)\n",
      "INFO:tensorflow:global_step/sec: 71.8389\n",
      "INFO:tensorflow:loss = 8.708906, step = 17001 (1.392 sec)\n",
      "INFO:tensorflow:global_step/sec: 73.2143\n",
      "INFO:tensorflow:loss = 0.3264354, step = 17101 (1.366 sec)\n",
      "INFO:tensorflow:global_step/sec: 77.4165\n",
      "INFO:tensorflow:loss = 0.7057556, step = 17201 (1.292 sec)\n",
      "INFO:tensorflow:global_step/sec: 79.1213\n",
      "INFO:tensorflow:loss = 1.2906231, step = 17301 (1.264 sec)\n",
      "INFO:tensorflow:global_step/sec: 78.5898\n",
      "INFO:tensorflow:loss = 1.8851551, step = 17401 (1.272 sec)\n",
      "INFO:tensorflow:global_step/sec: 79.1871\n",
      "INFO:tensorflow:loss = 0.73660624, step = 17501 (1.263 sec)\n",
      "INFO:tensorflow:global_step/sec: 77.9257\n",
      "INFO:tensorflow:loss = 1.8533099, step = 17601 (1.283 sec)\n",
      "INFO:tensorflow:global_step/sec: 72.9606\n",
      "INFO:tensorflow:loss = 7.979967, step = 17701 (1.371 sec)\n",
      "INFO:tensorflow:global_step/sec: 72.6955\n",
      "INFO:tensorflow:loss = 2.8668733, step = 17801 (1.376 sec)\n",
      "INFO:tensorflow:global_step/sec: 71.9869\n",
      "INFO:tensorflow:loss = 2.5804644, step = 17901 (1.389 sec)\n",
      "INFO:tensorflow:global_step/sec: 69.8492\n",
      "INFO:tensorflow:loss = 0.32176766, step = 18001 (1.432 sec)\n",
      "INFO:tensorflow:global_step/sec: 69.6216\n",
      "INFO:tensorflow:loss = 0.31309327, step = 18101 (1.436 sec)\n",
      "INFO:tensorflow:global_step/sec: 68.8216\n",
      "INFO:tensorflow:loss = 0.4458563, step = 18201 (1.453 sec)\n",
      "INFO:tensorflow:global_step/sec: 75.2863\n",
      "INFO:tensorflow:loss = 8.764001, step = 18301 (1.328 sec)\n",
      "INFO:tensorflow:global_step/sec: 67.2419\n",
      "INFO:tensorflow:loss = 3.0826733, step = 18401 (1.487 sec)\n",
      "INFO:tensorflow:global_step/sec: 72.3324\n",
      "INFO:tensorflow:loss = 12.366229, step = 18501 (1.383 sec)\n",
      "INFO:tensorflow:global_step/sec: 69.9008\n",
      "INFO:tensorflow:loss = 9.434553, step = 18601 (1.431 sec)\n",
      "INFO:tensorflow:global_step/sec: 72.4125\n",
      "INFO:tensorflow:loss = 20.315935, step = 18701 (1.381 sec)\n",
      "INFO:tensorflow:global_step/sec: 73.1976\n",
      "INFO:tensorflow:loss = 0.38790247, step = 18801 (1.366 sec)\n",
      "INFO:tensorflow:global_step/sec: 63.4663\n",
      "INFO:tensorflow:loss = 0.17832907, step = 18901 (1.576 sec)\n",
      "INFO:tensorflow:global_step/sec: 62.0843\n",
      "INFO:tensorflow:loss = 0.14305137, step = 19001 (1.611 sec)\n",
      "INFO:tensorflow:global_step/sec: 72.9136\n",
      "INFO:tensorflow:loss = 2.6378715, step = 19101 (1.371 sec)\n",
      "INFO:tensorflow:global_step/sec: 73.7917\n",
      "INFO:tensorflow:loss = 4.042745, step = 19201 (1.355 sec)\n",
      "INFO:tensorflow:global_step/sec: 75.8072\n",
      "INFO:tensorflow:loss = 28.18156, step = 19301 (1.319 sec)\n",
      "INFO:tensorflow:global_step/sec: 75.4696\n",
      "INFO:tensorflow:loss = 2.1226597, step = 19401 (1.325 sec)\n",
      "INFO:tensorflow:global_step/sec: 74.5512\n",
      "INFO:tensorflow:loss = 2.2952526, step = 19501 (1.342 sec)\n",
      "INFO:tensorflow:global_step/sec: 74.956\n",
      "INFO:tensorflow:loss = 6.9637833, step = 19601 (1.334 sec)\n",
      "INFO:tensorflow:global_step/sec: 64.805\n",
      "INFO:tensorflow:loss = 0.24486622, step = 19701 (1.544 sec)\n",
      "INFO:tensorflow:global_step/sec: 63.1776\n",
      "INFO:tensorflow:loss = 1.7249701, step = 19801 (1.582 sec)\n",
      "INFO:tensorflow:global_step/sec: 64.0689\n",
      "INFO:tensorflow:loss = 1.0806853, step = 19901 (1.561 sec)\n",
      "INFO:tensorflow:Saving checkpoints for 20000 into /home/matz/Desktop/ml_ids/NN_model/model.ckpt.\n",
      "INFO:tensorflow:Loss for final step: 0.23210235.\n"
     ]
    },
    {
     "data": {
      "text/plain": [
       "<tensorflow.python.estimator.canned.dnn_linear_combined.DNNLinearCombinedClassifier at 0x7fc59c4ab550>"
      ]
     },
     "execution_count": 123,
     "metadata": {},
     "output_type": "execute_result"
    }
   ],
   "source": [
    "NN_model.train(input_fn=get_input_fn(train_ex, n_batch=180), steps=20000)"
   ]
  },
  {
   "cell_type": "code",
   "execution_count": 124,
   "metadata": {},
   "outputs": [
    {
     "name": "stdout",
     "output_type": "stream",
     "text": [
      "INFO:tensorflow:Calling model_fn.\n",
      "WARNING:tensorflow:Trapezoidal rule is known to produce incorrect PR-AUCs; please switch to \"careful_interpolation\" instead.\n",
      "WARNING:tensorflow:Trapezoidal rule is known to produce incorrect PR-AUCs; please switch to \"careful_interpolation\" instead.\n",
      "INFO:tensorflow:Done calling model_fn.\n",
      "INFO:tensorflow:Starting evaluation at 2019-05-17-09:49:17\n",
      "INFO:tensorflow:Graph was finalized.\n",
      "INFO:tensorflow:Restoring parameters from /home/matz/Desktop/ml_ids/NN_model/model.ckpt-20000\n",
      "INFO:tensorflow:Running local_init_op.\n",
      "INFO:tensorflow:Done running local_init_op.\n",
      "INFO:tensorflow:Evaluation [1/1]\n",
      "INFO:tensorflow:Finished evaluation at 2019-05-17-09:49:20\n",
      "INFO:tensorflow:Saving dict for global step 20000: accuracy = 0.9973349, accuracy_baseline = 0.7026406, auc = 0.9998076, auc_precision_recall = 0.99948937, average_loss = 0.009631943, global_step = 20000, label/mean = 0.2973594, loss = 314.42514, precision = 0.99394125, prediction/mean = 0.29716828, recall = 0.9971155\n",
      "INFO:tensorflow:Saving 'checkpoint_path' summary for global step 20000: /home/matz/Desktop/ml_ids/NN_model/model.ckpt-20000\n"
     ]
    }
   ],
   "source": [
    "eval_metrics = NN_model.evaluate(input_fn=get_input_fn(validate_ex, n_batch=validate_ex.shape[0], shuffle=False), steps=1)"
   ]
  },
  {
   "cell_type": "code",
   "execution_count": 125,
   "metadata": {},
   "outputs": [
    {
     "name": "stdout",
     "output_type": "stream",
     "text": [
      "accuracy: 0.9973349\n",
      "accuracy_baseline: 0.7026406\n",
      "auc: 0.9998076\n",
      "auc_precision_recall: 0.99948937\n",
      "average_loss: 0.009631943\n",
      "global_step: 20000\n",
      "label/mean: 0.2973594\n",
      "loss: 314.42514\n",
      "precision: 0.99394125\n",
      "prediction/mean: 0.29716828\n",
      "recall: 0.9971155\n"
     ]
    }
   ],
   "source": [
    "for key,value in sorted(eval_metrics.items()):\n",
    "  print('%s: %s' % (key, value))"
   ]
  },
  {
   "cell_type": "code",
   "execution_count": 126,
   "metadata": {},
   "outputs": [
    {
     "name": "stdout",
     "output_type": "stream",
     "text": [
      "INFO:tensorflow:Calling model_fn.\n",
      "INFO:tensorflow:Done calling model_fn.\n",
      "INFO:tensorflow:Graph was finalized.\n",
      "INFO:tensorflow:Restoring parameters from /home/matz/Desktop/ml_ids/NN_model/model.ckpt-20000\n",
      "INFO:tensorflow:Running local_init_op.\n",
      "INFO:tensorflow:Done running local_init_op.\n"
     ]
    }
   ],
   "source": [
    "results = []\n",
    "results = list(NN_model.predict(input_fn=get_input_fn(test_ex, num_epochs=1, n_batch = test_ex.shape[0], shuffle=False)))"
   ]
  },
  {
   "cell_type": "code",
   "execution_count": 127,
   "metadata": {},
   "outputs": [],
   "source": [
    "y_pred = []\n",
    "for el in results:\n",
    "    y_pred.append(el[\"class_ids\"])"
   ]
  },
  {
   "cell_type": "code",
   "execution_count": 128,
   "metadata": {},
   "outputs": [
    {
     "name": "stdout",
     "output_type": "stream",
     "text": [
      "NN Accuracy: 0.98425, F1-score: 0.99168, Precision: 0.99383, Recall: 0.98953, FPR: 0.11183\n",
      "TN: 1509; FP: 190; FN:  324; TP: 30622\n",
      "\n"
     ]
    }
   ],
   "source": [
    "from sklearn import metrics\n",
    "name = \"NN\"\n",
    "\n",
    "Acc[name] = metrics.accuracy_score(test_ex[\"attack_flag\"], y_pred)\n",
    "F1S[name] = metrics.f1_score(test_ex[\"attack_flag\"], y_pred)\n",
    "Prec[name] = metrics.precision_score(test_ex[\"attack_flag\"], y_pred)\n",
    "Rec[name] = metrics.recall_score(test_ex[\"attack_flag\"], y_pred)\n",
    "tn, fp, fn, tp = metrics.confusion_matrix(test_ex[\"attack_flag\"], y_pred).ravel()\n",
    "FPR[name] = fp/(fp+tn)\n",
    "\n",
    "print(\"{0:2} Accuracy: {1:.5f}, F1-score: {2:.5f}, Precision: {3:.5f}, Recall: {4:.5f}, FPR: {5:.5f}\".format(name, Acc[name], F1S[name], Prec[name], Rec[name], FPR[name]))\n",
    "print(\"TN: {0:3}; FP: {1:3}; FN: {2:4}; TP: {3:3}\\n\".format(tn, fp, fn, tp))"
   ]
  },
  {
   "cell_type": "code",
   "execution_count": 129,
   "metadata": {},
   "outputs": [
    {
     "data": {
      "image/png": "[encoded data removed]",
      "text/plain": [
       "<matplotlib.figure.Figure at 0x7fc6331915c0>"
      ]
     },
     "metadata": {
      "needs_background": "light"
     },
     "output_type": "display_data"
    },
    {
     "data": {
      "image/png": "[encoded data removed]",
      "text/plain": [
       "<matplotlib.figure.Figure at 0x7fc6331912e8>"
      ]
     },
     "metadata": {
      "needs_background": "light"
     },
     "output_type": "display_data"
    },
    {
     "data": {
      "image/png": "[encoded data removed]",
      "text/plain": [
       "<matplotlib.figure.Figure at 0x7fc632677668>"
      ]
     },
     "metadata": {
      "needs_background": "light"
     },
     "output_type": "display_data"
    },
    {
     "data": {
      "image/png": "[encoded data removed]",
      "text/plain": [
       "<matplotlib.figure.Figure at 0x7fc6312b5860>"
      ]
     },
     "metadata": {
      "needs_background": "light"
     },
     "output_type": "display_data"
    },
    {
     "data": {
      "image/png": "[encoded data removed]",
      "text/plain": [
       "<matplotlib.figure.Figure at 0x7fc582526c88>"
      ]
     },
     "metadata": {
      "needs_background": "light"
     },
     "output_type": "display_data"
    }
   ],
   "source": [
    "plot_stats(Acc, \"Accuracy\", 8, 55)\n",
    "plot_stats(F1S, \"F1-score\", 8, 55)\n",
    "plot_stats(Prec, \"Precision\", 8, 55)\n",
    "plot_stats(Rec, \"Recall\", 8, 55)\n",
    "plot_stats(FPR, \"False Positive Rate\", 8, 55)"
   ]
  },
  {
   "cell_type": "markdown",
   "metadata": {},
   "source": [
    "## Results comparison"
   ]
  },
  {
   "cell_type": "code",
   "execution_count": null,
   "metadata": {},
   "outputs": [],
   "source": [
    "y_pred_NN = y_pred\n",
    "y_pred = {}"
   ]
  },
  {
   "cell_type": "code",
   "execution_count": null,
   "metadata": {},
   "outputs": [],
   "source": [
    "y_pred[\"RFFM\"] = class_id\n",
    "y_pred[\"NN\"] = y_pred_NN"
   ]
  },
  {
   "cell_type": "code",
   "execution_count": null,
   "metadata": {},
   "outputs": [],
   "source": [
    "# Metrics of baseline method\n",
    "\n",
    "name = \"baseline\"\n",
    "\n",
    "if(y_test.mean() > (1-y_test.mean())):\n",
    "    y_pred[\"baseline\"] = np.ones(len(y_test)).ravel() \n",
    "else:\n",
    "    y_pred[\"baseline\"] = np.zeros(len(y_test)).ravel()\n",
    "        \n",
    "y_pred[\"baseline\"] = y_pred[\"baseline\"].astype(int)"
   ]
  },
  {
   "cell_type": "code",
   "execution_count": null,
   "metadata": {},
   "outputs": [],
   "source": [
    "classifiers = {\n",
    "               \"AdaBoost\":AdaBoostClassifier(DecisionTreeClassifier(max_depth = 11), n_estimators=num_trees, random_state = 0),\n",
    "               \"DecisionTree\":DecisionTreeClassifier(random_state=0),\n",
    "               \"NaiveBayes\":GaussianNB(),\n",
    "               \"RandomTree\":DecisionTreeClassifier(random_state=0, splitter = \"random\"),\n",
    "               \"RandomForest\":RandomForestClassifier(n_estimators=41, max_depth=36, random_state=0),\n",
    "              }\n",
    "\n",
    "name = \"LogisticReg\"\n",
    "model = LogisticRegression(solver = 'newton-cg').fit(X_train, y_train)\n",
    "y_pred[name] = model.predict(X_test)\n",
    "\n",
    "for name, clf in classifiers.items():\n",
    "    \n",
    "    model = clf.fit(X_train_alg, y_train_alg)\n",
    "    \n",
    "    y_pred[name] = model.predict(X_test)"
   ]
  },
  {
   "cell_type": "code",
   "execution_count": null,
   "metadata": {},
   "outputs": [],
   "source": [
    "y_pred_pand = pd.DataFrame.from_dict(y_pred)\n",
    "names = [\"LogisticReg\", \"AdaBoost\", \"DecisionTree\", \"NaiveBayes\", \"RandomTree\", \"RandomForest\", \"RFFM\", \"NN\"]\n",
    "correlations = y_pred_pand[names].corr()\n",
    "fig = plt.figure()\n",
    "ax = fig.add_subplot(111)\n",
    "cax = ax.matshow(correlations, vmin=0.5, vmax=1)\n",
    "fig.colorbar(cax)\n",
    "ticks = np.arange(0,8,1)\n",
    "ax.set_xticks(ticks)\n",
    "ax.set_yticks(ticks)\n",
    "ax.set_xticklabels(names, rotation='vertical')\n",
    "ax.set_yticklabels(names)\n",
    "plt.show()"
   ]
  },
  {
   "cell_type": "code",
   "execution_count": null,
   "metadata": {},
   "outputs": [],
   "source": [
    "print(correlations)"
   ]
  },
  {
   "cell_type": "code",
   "execution_count": null,
   "metadata": {},
   "outputs": [],
   "source": [
    "failures = {}\n",
    "failures[\"baseline\"] = []\n",
    "failures[\"LogisticReg\"] = []\n",
    "failures[\"AdaBoost\"] = []\n",
    "failures[\"DecisionTree\"] = []\n",
    "failures[\"NaiveBayes\"] = []\n",
    "failures[\"RandomTree\"] = []\n",
    "failures[\"RandomForest\"] = []\n",
    "failures[\"RFFM\"] = []\n",
    "failures[\"NN\"] = []\n",
    "\n",
    "for i in range(0, len(y_test)):\n",
    "    for key in y_pred.keys():\n",
    "        if y_pred[key][i] != y_test[i]:\n",
    "            failures[key].append(10)\n",
    "        else:\n",
    "            failures[key].append(1)"
   ]
  },
  {
   "cell_type": "code",
   "execution_count": null,
   "metadata": {},
   "outputs": [],
   "source": [
    "failures_pand = pd.DataFrame.from_dict(failures)\n",
    "names = [\"baseline\", \"LogisticReg\", \"AdaBoost\", \"DecisionTree\", \"NaiveBayes\", \"RandomTree\", \"RandomForest\", \"RFFM\", \"NN\"]\n",
    "#names = [\"baseline\", \"LogisticReg\", \"RandomForest\"]\n",
    "correlations = failures_pand[names].corr()\n",
    "fig = plt.figure()\n",
    "ax = fig.add_subplot(111)\n",
    "cax = ax.matshow(correlations, vmin=0, vmax=1)\n",
    "fig.colorbar(cax)\n",
    "ticks = np.arange(0,9,1)\n",
    "ax.set_xticks(ticks)\n",
    "ax.set_yticks(ticks)\n",
    "ax.set_xticklabels(names, rotation='vertical')\n",
    "ax.set_yticklabels(names)\n",
    "plt.show()"
   ]
  },
  {
   "cell_type": "code",
   "execution_count": null,
   "metadata": {},
   "outputs": [],
   "source": [
    "print(correlations)"
   ]
  },
  {
   "cell_type": "code",
   "execution_count": null,
   "metadata": {},
   "outputs": [],
   "source": [
    "cont_table = [[],[]]\n",
    "for name in failures.keys():\n",
    "    print(Counter(failures[name]))\n",
    "    cont_table[0].append(float(Counter(failures[name])[1]))\n",
    "    cont_table[1].append(float(Counter(failures[name])[10]))\n",
    "print(cont_table)"
   ]
  },
  {
   "cell_type": "code",
   "execution_count": null,
   "metadata": {},
   "outputs": [],
   "source": [
    "from scipy import stats\n",
    "\n",
    "# test of independence\n",
    "# H0 : results are independent\n",
    "\n",
    "stat, p, dof, expected = stats.chi2_contingency(cont_table)\n",
    "stats.chi2_contingency(cont_table)\n",
    "prob = 0.95\n",
    "critical = stats.chi2.ppf(prob, dof)\n",
    "print('probability=%.3f, critical=%.3f, stat=%.3f' % (prob, critical, stat))\n",
    "\n",
    "if abs(stat) >= critical:\n",
    "    print('\\nreject H0 - results dependent')\n",
    "else:\n",
    "    print('\\nfailed to reject H0 - results independent')"
   ]
  },
  {
   "cell_type": "markdown",
   "metadata": {},
   "source": [
    "## New data prediction"
   ]
  },
  {
   "cell_type": "code",
   "execution_count": null,
   "metadata": {},
   "outputs": [],
   "source": [
    "test_set = pd.read_csv(\"20151220.txt\", sep = \"\\t\", header = None)\n",
    "test_set.columns = [\"conn len\", \"service\", \"src bytes\", \"dst bytes\", \"conn numb\", \"Same srv rate\", \"Serror rate\", \"Srv serror rate\", \"Dst host count\", \"Dst host srv count\", \"Dst host same src port rate\", \"Dst host serror rate\", \"Dst host srv serror rate\", \"Conn state\", \"IDS detection\", \"Malware detection\", \"Ashula detection\", \"attack_flag\", \"src IP\", \"src port\", \"dst IP\", \"dst port\", \"start time\", \"proto\"]\n",
    "\n",
    "print(Counter(test_set[\"attack_flag\"]))"
   ]
  },
  {
   "cell_type": "code",
   "execution_count": null,
   "metadata": {},
   "outputs": [],
   "source": [
    "test_set.loc[:, \"attack_flag\"] = test_set.loc[:,\"attack_flag\"].replace(-2, -1)\n",
    "test_set.loc[:, \"attack_flag\"] = test_set.loc[:, \"attack_flag\"] * -1\n",
    "test_set.loc[:, \"attack_flag\"] = test_set.loc[:,\"attack_flag\"].replace(-1, 0)\n",
    "\n",
    "print(Counter(test_set[\"attack_flag\"]))"
   ]
  },
  {
   "cell_type": "code",
   "execution_count": null,
   "metadata": {},
   "outputs": [],
   "source": [
    "# slice dataset, drop additional features\n",
    "print(test_set.shape)\n",
    "test_set = test_set.drop(['start time', 'dst IP', 'src IP'], axis=1)\n",
    "print(test_set.shape)\n",
    "\n",
    "# drop software markers\n",
    "test_set = test_set.drop([\"IDS detection\", \"Malware detection\", \"Ashula detection\"], axis=1)\n",
    "test_set[\"attack_flag\"].value_counts()"
   ]
  },
  {
   "cell_type": "code",
   "execution_count": null,
   "metadata": {},
   "outputs": [],
   "source": [
    "# removing NaNs\n",
    "test_set = test_set.dropna()\n",
    "test_set.shape"
   ]
  },
  {
   "cell_type": "code",
   "execution_count": null,
   "metadata": {},
   "outputs": [],
   "source": [
    "test_set[\"well-known src pool\"] = test_set.apply(wk, axis=1)\n",
    "test_set[\"registered src pool\"] = test_set.apply(reg, axis=1)\n",
    "test_set[\"cli src pool\"] = test_set.apply(cli, axis=1)"
   ]
  },
  {
   "cell_type": "code",
   "execution_count": null,
   "metadata": {},
   "outputs": [],
   "source": [
    "test_set[\"src port\"] = test_set[\"src port\"].apply(str)\n",
    "test_set[\"dst port\"] = test_set[\"dst port\"].apply(str)\n",
    "test_set['src port'].nunique()\n",
    "test_set['dst port'].nunique()\n",
    "\n",
    "thresh1 = 125\n",
    "thresh2 = 125\n",
    "counts1 = test_set['src port'].value_counts()\n",
    "counts2 = test_set['dst port'].value_counts()\n",
    "\n",
    "repl1 = counts1[counts1 <= thresh1].index\n",
    "repl2 = counts2[counts2 <= thresh2].index\n",
    "\n",
    "#hot one encoding for src port numbers\n",
    "test_set = pd.concat([test_set, pd.get_dummies(test_set[\"src port\"].replace(repl1, 'other_src'), prefix=\"is_src\")], axis=1)\n",
    "\n",
    "#hot one encoding for dst port numbers\n",
    "test_set = pd.concat([test_set, pd.get_dummies(test_set[\"dst port\"].replace(repl2, 'other_dst'), prefix=\"is_dst\")], axis=1)"
   ]
  },
  {
   "cell_type": "code",
   "execution_count": null,
   "metadata": {},
   "outputs": [],
   "source": [
    "### hot one encoding ###\n",
    "\n",
    "# hot one encoding for service\n",
    "test_set = pd.concat([test_set, pd.get_dummies(test_set[\"service\"], prefix=\"is\")], axis=1)\n",
    "test_set.tail(10)\n",
    "\n",
    "#hot one encoding for proto - commented due to reduced column number\n",
    "test_set = pd.concat([test_set, pd.get_dummies(test_set[\"proto\"], prefix=\"is\")], axis=1)\n",
    "test_set.tail(10)\n",
    "\n",
    "# hot one encoding for conn state\n",
    "test_set = pd.concat([test_set, pd.get_dummies(test_set[\"Conn state\"], prefix=\"state\")], axis=1)\n",
    "test_set.tail(10)"
   ]
  },
  {
   "cell_type": "code",
   "execution_count": null,
   "metadata": {},
   "outputs": [],
   "source": [
    "# check differences between datasets after hot one encoding\n",
    "\n",
    "# print(train_data.columns.difference(test_data.columns)[0])\n",
    "# columns that are not in test but are in train\n",
    "for c in data.columns.difference(test_set.columns):\n",
    "    test_set[c] = 0\n",
    "for c in test_set.columns.difference(data.columns):\n",
    "    test_set = test_set.drop(c, axis=1)\n",
    "    \n",
    "    "
   ]
  },
  {
   "cell_type": "code",
   "execution_count": null,
   "metadata": {},
   "outputs": [],
   "source": [
    "test_new_data = test_set.loc[range(30000), :]\n",
    "\n",
    "test_new_data_full = test_new_data\n",
    "test_new_data = test_new_data.drop([\"service\", \"Conn state\", \"proto\", \"src port\", \"dst port\"], axis=1)\n",
    "\n",
    "test_new_data = test_new_data.sample(frac=1)\n",
    "y_test_new_data = test_new_data.loc[:, \"attack_flag\"].values.ravel()\n",
    "X_test_new_data = test_new_data.drop([\"attack_flag\"], axis=1)"
   ]
  },
  {
   "cell_type": "code",
   "execution_count": null,
   "metadata": {},
   "outputs": [],
   "source": [
    "\n",
    "# Metrics of baseline method\n",
    "from sklearn import metrics\n",
    "\n",
    "name = \"baseline\"\n",
    "\n",
    "if(y_test_new_data.mean() > (1-y_test_new_data.mean())):\n",
    "    y_pred = np.ones(len(y_test_new_data)).ravel() \n",
    "else:\n",
    "    y_pred = np.zeros(len(y_test_new_data)).ravel() \n",
    "    \n",
    "Acc[name] = metrics.accuracy_score(y_test_new_data, y_pred)\n",
    "F1S[name] = metrics.f1_score(y_test_new_data, y_pred)\n",
    "Prec[name] = metrics.precision_score(y_test_new_data, y_pred)\n",
    "Rec[name] = metrics.recall_score(y_test_new_data, y_pred)\n",
    "tn, fp, fn, tp = metrics.confusion_matrix(y_test_new_data, y_pred).ravel()\n",
    "FPR[name] = fp/(fp+tn)\n",
    "\n",
    "print(\"Algorithm: {0:12} Accuracy: {1:.5f}, F1-score: {2:.5f}, Precision: {3:.5f}, Recall: {4:.5f}, FPR: {5:.5f}\".format(name, Acc[name], F1S[name], Prec[name], Rec[name], FPR[name]))\n",
    "print(\"TN: {0:3}; FP: {1:3}; FN: {2:4}; TP: {3:3}\\n\".format(tn, fp, fn, tp))"
   ]
  },
  {
   "cell_type": "code",
   "execution_count": null,
   "metadata": {},
   "outputs": [],
   "source": [
    "from sklearn.linear_model import LogisticRegression\n",
    "from sklearn import metrics\n",
    "\n",
    "clf = LogisticRegression(solver = 'newton-cg')\n",
    "\n",
    "model = clf.fit(X_train, y_train)\n",
    "\n",
    "y_pred = model.predict(X_test_new_data)\n",
    "\n",
    "name = \"logistic Regression\"\n",
    "\n",
    "Acc[name] = metrics.accuracy_score(y_test_new_data, y_pred)\n",
    "F1S[name] = metrics.f1_score(y_test_new_data, y_pred)\n",
    "Prec[name] = metrics.precision_score(y_test_new_data, y_pred)\n",
    "Rec[name] = metrics.recall_score(y_test_new_data, y_pred)\n",
    "tn, fp, fn, tp = metrics.confusion_matrix(y_test_new_data, y_pred).ravel()\n",
    "FPR[name] = fp/(fp+tn)\n",
    "\n",
    "print(\"Algorithm: {0:12} Accuracy: {1:.5f}, F1-score: {2:.5f}, Precision: {3:.5f}, Recall: {4:.5f}, FPR: {5:.5f}\".format(name, Acc[name], F1S[name], Prec[name], Rec[name], FPR[name]))\n",
    "print(\"TN: {0:3}; FP: {1:3}; FN: {2:4}; TP: {3:3}\\n\".format(tn, fp, fn, tp))"
   ]
  },
  {
   "cell_type": "code",
   "execution_count": null,
   "metadata": {},
   "outputs": [],
   "source": [
    "from sklearn.ensemble import AdaBoostClassifier\n",
    "from sklearn.tree import DecisionTreeClassifier\n",
    "from sklearn.naive_bayes import GaussianNB\n",
    "from sklearn.ensemble import RandomForestClassifier\n",
    "from sklearn.linear_model import LogisticRegression\n",
    "\n",
    "\n",
    "seed = 12\n",
    "num_trees = 28\n",
    "\n",
    "classifiers = {\n",
    "               \"AdaBoost\":AdaBoostClassifier(DecisionTreeClassifier(max_depth = 11), n_estimators=num_trees),\n",
    "               \"DecisionTree\":DecisionTreeClassifier(random_state=0),\n",
    "               \"NaiveBayes\":GaussianNB(),\n",
    "               \"RandomTree\":DecisionTreeClassifier(random_state=0, splitter = \"random\"),\n",
    "               \"RandomForest\":RandomForestClassifier(n_estimators=41, max_depth=36, random_state=0),\n",
    "              }\n",
    "\n",
    "\n",
    "for name, clf in classifiers.items():\n",
    "    \n",
    "    model = clf.fit(X_train_alg, y_train_alg)\n",
    "    \n",
    "    y_pred = model.predict(X_test_new_data)\n",
    "    \n",
    "    Acc[name] = metrics.accuracy_score(y_test_new_data, y_pred)\n",
    "    F1S[name] = metrics.f1_score(y_test_new_data, y_pred)\n",
    "    Prec[name] = metrics.precision_score(y_test_new_data, y_pred)\n",
    "    Rec[name] = metrics.recall_score(y_test_new_data, y_pred)\n",
    "    tn, fp, fn, tp = metrics.confusion_matrix(y_test_new_data, y_pred).ravel()\n",
    "    FPR[name] = fp/(fp+tn)\n",
    "    \n",
    "    print(\"Algorithm: {0:12} Accuracy: {1:.5f}, F1-score: {2:.5f}, Precision: {3:.5f}, Recall: {4:.5f}, FPR: {5:.5f}\".format(name, Acc[name], F1S[name], Prec[name], Rec[name], FPR[name]))\n",
    "    print(\"TN: {0:3}; FP: {1:3}; FN: {2:4}; TP: {3:3}\\n\".format(tn, fp, fn, tp))"
   ]
  },
  {
   "cell_type": "code",
   "execution_count": null,
   "metadata": {},
   "outputs": [],
   "source": [
    "data.rename(columns={'Dst host count': 'Dst_host_count', \"Dst host srv count\" : \"Dst_host_srv_count\",\n",
    "                    \"Dst host same src port rate\" : \"Dst_host_same_src_port_rate\",\n",
    "                    \"Dst host serror rate\" : \"Dst_host_serror_rate\",\n",
    "                    \"Dst host srv serror rate\" : \"Dst_host_srv_serror_rate\",\n",
    "                    \"Same srv rate\" : \"Same_srv_rate\",\n",
    "                    \"Srv serror rate\" : \"Srv_serror_rate\",\n",
    "                    \"conn len\" : \"conn_len\",\n",
    "                    \"src bytes\" : \"src_bytes\",\n",
    "                    \"dst bytes\" : \"dst_bytes\",\n",
    "                    \"conn numb\" : \"conn_numb\",\n",
    "                    \"Serror rate\" : \"Serror_rate\",\n",
    "                    \"cli src pool\" : \"cli_src_pool\",\n",
    "                    \"registered src pool\" : \"registered_src_pool\",\n",
    "                    \"well-known src pool\" : \"well_known_src_pool\",\n",
    "                    \"dst port\" : \"dst_port\",\n",
    "                    \"src port\" : \"src_port\",\n",
    "                     \"Conn state\" : \"Conn_state\" \n",
    "                    }, inplace=True)"
   ]
  },
  {
   "cell_type": "code",
   "execution_count": null,
   "metadata": {},
   "outputs": [],
   "source": [
    "test_input_fn = tf.estimator.inputs.numpy_input_fn(\n",
    "    x={\"features\": X_test_new_data.values},\n",
    "    y=y_test_new_data,\n",
    "    batch_size=X_test.shape[0],\n",
    "    num_epochs=1,\n",
    "    shuffle=False)"
   ]
  },
  {
   "cell_type": "code",
   "execution_count": null,
   "metadata": {},
   "outputs": [],
   "source": [
    "pred_iterator = estimator_kernel.predict(input_fn = test_input_fn)"
   ]
  },
  {
   "cell_type": "code",
   "execution_count": null,
   "metadata": {},
   "outputs": [],
   "source": [
    "for pred_dict in pred_iterator:\n",
    "    class_id.append(pred_dict['classes'])\n",
    "    #print(pred_dict)"
   ]
  },
  {
   "cell_type": "code",
   "execution_count": null,
   "metadata": {},
   "outputs": [],
   "source": [
    "name = \"RFFM\"\n",
    "\n",
    "Acc[name] = metrics.accuracy_score(y_test_new_data, class_id)\n",
    "F1S[name] = metrics.f1_score(y_test_new_data, class_id)\n",
    "Prec[name] = metrics.precision_score(y_test_new_data, class_id)\n",
    "Rec[name] = metrics.recall_score(y_test_new_data, class_id)\n",
    "tn, fp, fn, tp = metrics.confusion_matrix(y_test_new_data, class_id).ravel()\n",
    "FPR[name] = fp/(fp+tn)\n",
    "\n",
    "print(\"{0:2} Accuracy: {1:.5f}, F1-score: {2:.5f}, Precision: {3:.5f}, Recall: {4:.5f}, FPR: {5:.5f}\".format(name, Acc[name], F1S[name], Prec[name], Rec[name], FPR[name]))\n",
    "print(\"TN: {0:3}; FP: {1:3}; FN: {2:4}; TP: {3:3}\\n\".format(tn, fp, fn, tp))"
   ]
  },
  {
   "cell_type": "code",
   "execution_count": null,
   "metadata": {},
   "outputs": [],
   "source": [
    "results = []\n",
    "results = list(NN_model.predict(input_fn=get_input_fn(test_new_data_full, num_epochs=1, n_batch = X_test.shape[0], shuffle=False)))"
   ]
  },
  {
   "cell_type": "code",
   "execution_count": null,
   "metadata": {},
   "outputs": [],
   "source": [
    "y_pred = []\n",
    "for el in results:\n",
    "    y_pred.append(el[\"class_ids\"])"
   ]
  },
  {
   "cell_type": "code",
   "execution_count": null,
   "metadata": {},
   "outputs": [],
   "source": [
    "name = \"NN\"\n",
    "\n",
    "Acc = {}\n",
    "F1S = {}\n",
    "Prec = {}\n",
    "Rec = {}\n",
    "FPR = {}\n",
    "\n",
    "Acc[name] = metrics.accuracy_score(y_test_new_data, y_pred)\n",
    "F1S[name] = metrics.f1_score(y_test_new_data, y_pred)\n",
    "Prec[name] = metrics.precision_score(y_test_new_data, y_pred)\n",
    "Rec[name] = metrics.recall_score(y_test_new_data, y_pred)\n",
    "tn, fp, fn, tp = metrics.confusion_matrix(y_test_new_data, y_pred).ravel()\n",
    "FPR[name] = fp/(fp+tn)\n",
    "\n",
    "print(\"{0:2} Accuracy: {1:.5f}, F1-score: {2:.5f}, Precision: {3:.5f}, Recall: {4:.5f}, FPR: {5:.5f}\".format(name, Acc[name], F1S[name], Prec[name], Rec[name], FPR[name]))\n",
    "print(\"TN: {0:3}; FP: {1:3}; FN: {2:4}; TP: {3:3}\\n\".format(tn, fp, fn, tp))"
   ]
  },
  {
   "cell_type": "code",
   "execution_count": null,
   "metadata": {},
   "outputs": [],
   "source": [
    "plot_stats(Acc, \"Accuracy\", 8, 55)\n",
    "plot_stats(F1S, \"F1-score\", 8, 55)\n",
    "plot_stats(Prec, \"Precision\", 8, 55)\n",
    "plot_stats(Rec, \"Recall\", 8, 55)\n",
    "plot_stats(FPR, \"False Positive Rate\", 8, 55)"
   ]
  },
  {
   "cell_type": "code",
   "execution_count": null,
   "metadata": {},
   "outputs": [],
   "source": []
  },
  {
   "cell_type": "code",
   "execution_count": null,
   "metadata": {},
   "outputs": [],
   "source": []
  }
 ],
 "metadata": {
  "kernelspec": {
   "display_name": "Python 3",
   "language": "python",
   "name": "python3"
  },
  "language_info": {
   "codemirror_mode": {
    "name": "ipython",
    "version": 3
   },
   "file_extension": ".py",
   "mimetype": "text/x-python",
   "name": "python",
   "nbconvert_exporter": "python",
   "pygments_lexer": "ipython3",
   "version": "3.6.7"
  }
 },
 "nbformat": 4,
 "nbformat_minor": 2
}
