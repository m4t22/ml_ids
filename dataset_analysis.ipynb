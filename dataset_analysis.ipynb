{
 "cells": [
  {
   "cell_type": "code",
   "execution_count": 181,
   "metadata": {},
   "outputs": [],
   "source": [
    "import pandas as pd\n",
    "import matplotlib.pyplot as plt\n",
    "%matplotlib inline \n",
    "\n",
    "data = pd.read_csv(\"20151212.txt\", sep = \"\\t\", header = None)\n",
    "data.columns = [\"conn len\", \"service\", \"src bytes\", \"dst bytes\", \"conn numb\", \"Same srv rate\", \"Serror rate\", \"Srv serror rate\", \"Dst host count\", \"Dst host srv count\", \"Dst host same src port rate\", \"Dst host serror rate\", \"Dst host srv serror rate\", \"Conn state\", \"IDS detection\", \"Malware detection\", \"Ashula detection\", \"attack_flag\", \"src IP\", \"src port\", \"dst IP\", \"dst port\", \"start time\", \"proto\"]\n",
    "\n",
    "# slice dataset up to attack flag column, drop additional features\n",
    "data = data.loc[:, :'attack_flag']\n",
    "\n",
    "# drop software markers\n",
    "data = data.drop([\"IDS detection\", \"Malware detection\", \"Ashula detection\"], axis=1)"
   ]
  },
  {
   "cell_type": "code",
   "execution_count": 182,
   "metadata": {},
   "outputs": [
    {
     "data": {
      "text/html": [
       "<div>\n",
       "<style scoped>\n",
       "    .dataframe tbody tr th:only-of-type {\n",
       "        vertical-align: middle;\n",
       "    }\n",
       "\n",
       "    .dataframe tbody tr th {\n",
       "        vertical-align: top;\n",
       "    }\n",
       "\n",
       "    .dataframe thead th {\n",
       "        text-align: right;\n",
       "    }\n",
       "</style>\n",
       "<table border=\"1\" class=\"dataframe\">\n",
       "  <thead>\n",
       "    <tr style=\"text-align: right;\">\n",
       "      <th></th>\n",
       "      <th>conn len</th>\n",
       "      <th>service</th>\n",
       "      <th>src bytes</th>\n",
       "      <th>dst bytes</th>\n",
       "      <th>conn numb</th>\n",
       "      <th>Same srv rate</th>\n",
       "      <th>Serror rate</th>\n",
       "      <th>Srv serror rate</th>\n",
       "      <th>Dst host count</th>\n",
       "      <th>Dst host srv count</th>\n",
       "      <th>Dst host same src port rate</th>\n",
       "      <th>Dst host serror rate</th>\n",
       "      <th>Dst host srv serror rate</th>\n",
       "      <th>Conn state</th>\n",
       "      <th>attack_flag</th>\n",
       "    </tr>\n",
       "  </thead>\n",
       "  <tbody>\n",
       "    <tr>\n",
       "      <th>270065</th>\n",
       "      <td>0.692674</td>\n",
       "      <td>ssh</td>\n",
       "      <td>605</td>\n",
       "      <td>2605</td>\n",
       "      <td>3</td>\n",
       "      <td>1.0</td>\n",
       "      <td>0.0</td>\n",
       "      <td>0.0</td>\n",
       "      <td>100</td>\n",
       "      <td>98</td>\n",
       "      <td>0.0</td>\n",
       "      <td>0.0</td>\n",
       "      <td>0.0</td>\n",
       "      <td>RSTO</td>\n",
       "      <td>-1</td>\n",
       "    </tr>\n",
       "    <tr>\n",
       "      <th>270066</th>\n",
       "      <td>0.000348</td>\n",
       "      <td>dns</td>\n",
       "      <td>45</td>\n",
       "      <td>108</td>\n",
       "      <td>3</td>\n",
       "      <td>1.0</td>\n",
       "      <td>0.0</td>\n",
       "      <td>0.0</td>\n",
       "      <td>96</td>\n",
       "      <td>96</td>\n",
       "      <td>0.0</td>\n",
       "      <td>0.0</td>\n",
       "      <td>0.0</td>\n",
       "      <td>SF</td>\n",
       "      <td>-1</td>\n",
       "    </tr>\n",
       "    <tr>\n",
       "      <th>270067</th>\n",
       "      <td>0.712056</td>\n",
       "      <td>ssh</td>\n",
       "      <td>605</td>\n",
       "      <td>2605</td>\n",
       "      <td>2</td>\n",
       "      <td>1.0</td>\n",
       "      <td>0.0</td>\n",
       "      <td>0.0</td>\n",
       "      <td>100</td>\n",
       "      <td>98</td>\n",
       "      <td>0.0</td>\n",
       "      <td>0.0</td>\n",
       "      <td>0.0</td>\n",
       "      <td>RSTO</td>\n",
       "      <td>-1</td>\n",
       "    </tr>\n",
       "    <tr>\n",
       "      <th>270068</th>\n",
       "      <td>0.750099</td>\n",
       "      <td>ssh</td>\n",
       "      <td>605</td>\n",
       "      <td>2605</td>\n",
       "      <td>3</td>\n",
       "      <td>1.0</td>\n",
       "      <td>0.0</td>\n",
       "      <td>0.0</td>\n",
       "      <td>100</td>\n",
       "      <td>98</td>\n",
       "      <td>0.0</td>\n",
       "      <td>0.0</td>\n",
       "      <td>0.0</td>\n",
       "      <td>RSTO</td>\n",
       "      <td>-1</td>\n",
       "    </tr>\n",
       "    <tr>\n",
       "      <th>270069</th>\n",
       "      <td>0.000000</td>\n",
       "      <td>other</td>\n",
       "      <td>0</td>\n",
       "      <td>0</td>\n",
       "      <td>0</td>\n",
       "      <td>0.0</td>\n",
       "      <td>0.0</td>\n",
       "      <td>0.0</td>\n",
       "      <td>0</td>\n",
       "      <td>3</td>\n",
       "      <td>0.0</td>\n",
       "      <td>0.0</td>\n",
       "      <td>1.0</td>\n",
       "      <td>S0</td>\n",
       "      <td>-1</td>\n",
       "    </tr>\n",
       "    <tr>\n",
       "      <th>270070</th>\n",
       "      <td>0.000527</td>\n",
       "      <td>dns</td>\n",
       "      <td>45</td>\n",
       "      <td>108</td>\n",
       "      <td>3</td>\n",
       "      <td>1.0</td>\n",
       "      <td>0.0</td>\n",
       "      <td>0.0</td>\n",
       "      <td>96</td>\n",
       "      <td>96</td>\n",
       "      <td>0.0</td>\n",
       "      <td>0.0</td>\n",
       "      <td>0.0</td>\n",
       "      <td>SF</td>\n",
       "      <td>-1</td>\n",
       "    </tr>\n",
       "    <tr>\n",
       "      <th>270071</th>\n",
       "      <td>0.758028</td>\n",
       "      <td>ssh</td>\n",
       "      <td>605</td>\n",
       "      <td>2605</td>\n",
       "      <td>3</td>\n",
       "      <td>1.0</td>\n",
       "      <td>0.0</td>\n",
       "      <td>0.0</td>\n",
       "      <td>100</td>\n",
       "      <td>98</td>\n",
       "      <td>0.0</td>\n",
       "      <td>0.0</td>\n",
       "      <td>0.0</td>\n",
       "      <td>RSTO</td>\n",
       "      <td>-1</td>\n",
       "    </tr>\n",
       "    <tr>\n",
       "      <th>270072</th>\n",
       "      <td>0.000366</td>\n",
       "      <td>dns</td>\n",
       "      <td>45</td>\n",
       "      <td>108</td>\n",
       "      <td>2</td>\n",
       "      <td>1.0</td>\n",
       "      <td>0.0</td>\n",
       "      <td>0.0</td>\n",
       "      <td>96</td>\n",
       "      <td>96</td>\n",
       "      <td>0.0</td>\n",
       "      <td>0.0</td>\n",
       "      <td>0.0</td>\n",
       "      <td>SF</td>\n",
       "      <td>-1</td>\n",
       "    </tr>\n",
       "    <tr>\n",
       "      <th>270073</th>\n",
       "      <td>0.000370</td>\n",
       "      <td>dns</td>\n",
       "      <td>45</td>\n",
       "      <td>108</td>\n",
       "      <td>3</td>\n",
       "      <td>1.0</td>\n",
       "      <td>0.0</td>\n",
       "      <td>0.0</td>\n",
       "      <td>96</td>\n",
       "      <td>96</td>\n",
       "      <td>0.0</td>\n",
       "      <td>0.0</td>\n",
       "      <td>0.0</td>\n",
       "      <td>SF</td>\n",
       "      <td>-1</td>\n",
       "    </tr>\n",
       "    <tr>\n",
       "      <th>270074</th>\n",
       "      <td>0.647061</td>\n",
       "      <td>ssh</td>\n",
       "      <td>453</td>\n",
       "      <td>2537</td>\n",
       "      <td>3</td>\n",
       "      <td>1.0</td>\n",
       "      <td>0.0</td>\n",
       "      <td>0.0</td>\n",
       "      <td>100</td>\n",
       "      <td>98</td>\n",
       "      <td>0.0</td>\n",
       "      <td>0.0</td>\n",
       "      <td>0.0</td>\n",
       "      <td>S1</td>\n",
       "      <td>-1</td>\n",
       "    </tr>\n",
       "  </tbody>\n",
       "</table>\n",
       "</div>"
      ],
      "text/plain": [
       "        conn len service  src bytes  dst bytes  conn numb  Same srv rate  \\\n",
       "270065  0.692674     ssh        605       2605          3            1.0   \n",
       "270066  0.000348     dns         45        108          3            1.0   \n",
       "270067  0.712056     ssh        605       2605          2            1.0   \n",
       "270068  0.750099     ssh        605       2605          3            1.0   \n",
       "270069  0.000000   other          0          0          0            0.0   \n",
       "270070  0.000527     dns         45        108          3            1.0   \n",
       "270071  0.758028     ssh        605       2605          3            1.0   \n",
       "270072  0.000366     dns         45        108          2            1.0   \n",
       "270073  0.000370     dns         45        108          3            1.0   \n",
       "270074  0.647061     ssh        453       2537          3            1.0   \n",
       "\n",
       "        Serror rate  Srv serror rate  Dst host count  Dst host srv count  \\\n",
       "270065          0.0              0.0             100                  98   \n",
       "270066          0.0              0.0              96                  96   \n",
       "270067          0.0              0.0             100                  98   \n",
       "270068          0.0              0.0             100                  98   \n",
       "270069          0.0              0.0               0                   3   \n",
       "270070          0.0              0.0              96                  96   \n",
       "270071          0.0              0.0             100                  98   \n",
       "270072          0.0              0.0              96                  96   \n",
       "270073          0.0              0.0              96                  96   \n",
       "270074          0.0              0.0             100                  98   \n",
       "\n",
       "        Dst host same src port rate  Dst host serror rate  \\\n",
       "270065                          0.0                   0.0   \n",
       "270066                          0.0                   0.0   \n",
       "270067                          0.0                   0.0   \n",
       "270068                          0.0                   0.0   \n",
       "270069                          0.0                   0.0   \n",
       "270070                          0.0                   0.0   \n",
       "270071                          0.0                   0.0   \n",
       "270072                          0.0                   0.0   \n",
       "270073                          0.0                   0.0   \n",
       "270074                          0.0                   0.0   \n",
       "\n",
       "        Dst host srv serror rate Conn state  attack_flag  \n",
       "270065                       0.0       RSTO           -1  \n",
       "270066                       0.0         SF           -1  \n",
       "270067                       0.0       RSTO           -1  \n",
       "270068                       0.0       RSTO           -1  \n",
       "270069                       1.0         S0           -1  \n",
       "270070                       0.0         SF           -1  \n",
       "270071                       0.0       RSTO           -1  \n",
       "270072                       0.0         SF           -1  \n",
       "270073                       0.0         SF           -1  \n",
       "270074                       0.0         S1           -1  "
      ]
     },
     "execution_count": 182,
     "metadata": {},
     "output_type": "execute_result"
    }
   ],
   "source": [
    "data.tail(10)"
   ]
  },
  {
   "cell_type": "code",
   "execution_count": 183,
   "metadata": {},
   "outputs": [
    {
     "data": {
      "text/plain": [
       "(270075, 15)"
      ]
     },
     "execution_count": 183,
     "metadata": {},
     "output_type": "execute_result"
    }
   ],
   "source": [
    "data.shape"
   ]
  },
  {
   "cell_type": "code",
   "execution_count": 184,
   "metadata": {},
   "outputs": [
    {
     "data": {
      "text/html": [
       "<div>\n",
       "<style scoped>\n",
       "    .dataframe tbody tr th:only-of-type {\n",
       "        vertical-align: middle;\n",
       "    }\n",
       "\n",
       "    .dataframe tbody tr th {\n",
       "        vertical-align: top;\n",
       "    }\n",
       "\n",
       "    .dataframe thead th {\n",
       "        text-align: right;\n",
       "    }\n",
       "</style>\n",
       "<table border=\"1\" class=\"dataframe\">\n",
       "  <thead>\n",
       "    <tr style=\"text-align: right;\">\n",
       "      <th></th>\n",
       "      <th>conn len</th>\n",
       "      <th>src bytes</th>\n",
       "      <th>dst bytes</th>\n",
       "      <th>conn numb</th>\n",
       "      <th>Same srv rate</th>\n",
       "      <th>Serror rate</th>\n",
       "      <th>Srv serror rate</th>\n",
       "      <th>Dst host count</th>\n",
       "      <th>Dst host srv count</th>\n",
       "      <th>Dst host same src port rate</th>\n",
       "      <th>Dst host serror rate</th>\n",
       "      <th>Dst host srv serror rate</th>\n",
       "      <th>attack_flag</th>\n",
       "    </tr>\n",
       "  </thead>\n",
       "  <tbody>\n",
       "    <tr>\n",
       "      <th>count</th>\n",
       "      <td>270075.000000</td>\n",
       "      <td>2.700750e+05</td>\n",
       "      <td>2.700750e+05</td>\n",
       "      <td>270075.000000</td>\n",
       "      <td>270075.000000</td>\n",
       "      <td>270075.000000</td>\n",
       "      <td>270075.000000</td>\n",
       "      <td>270075.000000</td>\n",
       "      <td>270075.000000</td>\n",
       "      <td>270075.000000</td>\n",
       "      <td>270075.000000</td>\n",
       "      <td>270075.000000</td>\n",
       "      <td>270075.000000</td>\n",
       "    </tr>\n",
       "    <tr>\n",
       "      <th>mean</th>\n",
       "      <td>0.824291</td>\n",
       "      <td>2.178215e+04</td>\n",
       "      <td>4.665595e+02</td>\n",
       "      <td>3.051475</td>\n",
       "      <td>0.485205</td>\n",
       "      <td>0.048897</td>\n",
       "      <td>0.439251</td>\n",
       "      <td>36.747689</td>\n",
       "      <td>40.970775</td>\n",
       "      <td>0.061472</td>\n",
       "      <td>0.049450</td>\n",
       "      <td>0.114219</td>\n",
       "      <td>-0.956423</td>\n",
       "    </tr>\n",
       "    <tr>\n",
       "      <th>std</th>\n",
       "      <td>4.123045</td>\n",
       "      <td>4.823019e+06</td>\n",
       "      <td>4.218976e+03</td>\n",
       "      <td>5.061701</td>\n",
       "      <td>0.495684</td>\n",
       "      <td>0.212708</td>\n",
       "      <td>0.463035</td>\n",
       "      <td>46.026523</td>\n",
       "      <td>45.333519</td>\n",
       "      <td>0.238902</td>\n",
       "      <td>0.215833</td>\n",
       "      <td>0.314716</td>\n",
       "      <td>0.292194</td>\n",
       "    </tr>\n",
       "    <tr>\n",
       "      <th>min</th>\n",
       "      <td>0.000000</td>\n",
       "      <td>0.000000e+00</td>\n",
       "      <td>0.000000e+00</td>\n",
       "      <td>0.000000</td>\n",
       "      <td>0.000000</td>\n",
       "      <td>0.000000</td>\n",
       "      <td>0.000000</td>\n",
       "      <td>0.000000</td>\n",
       "      <td>0.000000</td>\n",
       "      <td>0.000000</td>\n",
       "      <td>0.000000</td>\n",
       "      <td>0.000000</td>\n",
       "      <td>-2.000000</td>\n",
       "    </tr>\n",
       "    <tr>\n",
       "      <th>25%</th>\n",
       "      <td>0.000000</td>\n",
       "      <td>0.000000e+00</td>\n",
       "      <td>0.000000e+00</td>\n",
       "      <td>0.000000</td>\n",
       "      <td>0.000000</td>\n",
       "      <td>0.000000</td>\n",
       "      <td>0.000000</td>\n",
       "      <td>0.000000</td>\n",
       "      <td>0.000000</td>\n",
       "      <td>0.000000</td>\n",
       "      <td>0.000000</td>\n",
       "      <td>0.000000</td>\n",
       "      <td>-1.000000</td>\n",
       "    </tr>\n",
       "    <tr>\n",
       "      <th>50%</th>\n",
       "      <td>0.000340</td>\n",
       "      <td>0.000000e+00</td>\n",
       "      <td>0.000000e+00</td>\n",
       "      <td>1.000000</td>\n",
       "      <td>0.000000</td>\n",
       "      <td>0.000000</td>\n",
       "      <td>0.110000</td>\n",
       "      <td>0.000000</td>\n",
       "      <td>5.000000</td>\n",
       "      <td>0.000000</td>\n",
       "      <td>0.000000</td>\n",
       "      <td>0.000000</td>\n",
       "      <td>-1.000000</td>\n",
       "    </tr>\n",
       "    <tr>\n",
       "      <th>75%</th>\n",
       "      <td>0.861385</td>\n",
       "      <td>6.600000e+01</td>\n",
       "      <td>1.190000e+02</td>\n",
       "      <td>3.000000</td>\n",
       "      <td>1.000000</td>\n",
       "      <td>0.000000</td>\n",
       "      <td>1.000000</td>\n",
       "      <td>97.000000</td>\n",
       "      <td>96.000000</td>\n",
       "      <td>0.000000</td>\n",
       "      <td>0.000000</td>\n",
       "      <td>0.000000</td>\n",
       "      <td>-1.000000</td>\n",
       "    </tr>\n",
       "    <tr>\n",
       "      <th>max</th>\n",
       "      <td>960.916042</td>\n",
       "      <td>1.280921e+09</td>\n",
       "      <td>1.081431e+06</td>\n",
       "      <td>86.000000</td>\n",
       "      <td>1.000000</td>\n",
       "      <td>1.000000</td>\n",
       "      <td>1.000000</td>\n",
       "      <td>100.000000</td>\n",
       "      <td>100.000000</td>\n",
       "      <td>1.000000</td>\n",
       "      <td>1.000000</td>\n",
       "      <td>1.000000</td>\n",
       "      <td>1.000000</td>\n",
       "    </tr>\n",
       "  </tbody>\n",
       "</table>\n",
       "</div>"
      ],
      "text/plain": [
       "            conn len     src bytes     dst bytes      conn numb  \\\n",
       "count  270075.000000  2.700750e+05  2.700750e+05  270075.000000   \n",
       "mean        0.824291  2.178215e+04  4.665595e+02       3.051475   \n",
       "std         4.123045  4.823019e+06  4.218976e+03       5.061701   \n",
       "min         0.000000  0.000000e+00  0.000000e+00       0.000000   \n",
       "25%         0.000000  0.000000e+00  0.000000e+00       0.000000   \n",
       "50%         0.000340  0.000000e+00  0.000000e+00       1.000000   \n",
       "75%         0.861385  6.600000e+01  1.190000e+02       3.000000   \n",
       "max       960.916042  1.280921e+09  1.081431e+06      86.000000   \n",
       "\n",
       "       Same srv rate    Serror rate  Srv serror rate  Dst host count  \\\n",
       "count  270075.000000  270075.000000    270075.000000   270075.000000   \n",
       "mean        0.485205       0.048897         0.439251       36.747689   \n",
       "std         0.495684       0.212708         0.463035       46.026523   \n",
       "min         0.000000       0.000000         0.000000        0.000000   \n",
       "25%         0.000000       0.000000         0.000000        0.000000   \n",
       "50%         0.000000       0.000000         0.110000        0.000000   \n",
       "75%         1.000000       0.000000         1.000000       97.000000   \n",
       "max         1.000000       1.000000         1.000000      100.000000   \n",
       "\n",
       "       Dst host srv count  Dst host same src port rate  Dst host serror rate  \\\n",
       "count       270075.000000                270075.000000         270075.000000   \n",
       "mean            40.970775                     0.061472              0.049450   \n",
       "std             45.333519                     0.238902              0.215833   \n",
       "min              0.000000                     0.000000              0.000000   \n",
       "25%              0.000000                     0.000000              0.000000   \n",
       "50%              5.000000                     0.000000              0.000000   \n",
       "75%             96.000000                     0.000000              0.000000   \n",
       "max            100.000000                     1.000000              1.000000   \n",
       "\n",
       "       Dst host srv serror rate    attack_flag  \n",
       "count             270075.000000  270075.000000  \n",
       "mean                   0.114219      -0.956423  \n",
       "std                    0.314716       0.292194  \n",
       "min                    0.000000      -2.000000  \n",
       "25%                    0.000000      -1.000000  \n",
       "50%                    0.000000      -1.000000  \n",
       "75%                    0.000000      -1.000000  \n",
       "max                    1.000000       1.000000  "
      ]
     },
     "execution_count": 184,
     "metadata": {},
     "output_type": "execute_result"
    }
   ],
   "source": [
    "data.describe()"
   ]
  },
  {
   "cell_type": "code",
   "execution_count": 185,
   "metadata": {
    "scrolled": true
   },
   "outputs": [
    {
     "name": "stdout",
     "output_type": "stream",
     "text": [
      "<class 'pandas.core.frame.DataFrame'>\n",
      "RangeIndex: 270075 entries, 0 to 270074\n",
      "Data columns (total 15 columns):\n",
      "conn len                       270075 non-null float64\n",
      "service                        270075 non-null object\n",
      "src bytes                      270075 non-null int64\n",
      "dst bytes                      270075 non-null int64\n",
      "conn numb                      270075 non-null int64\n",
      "Same srv rate                  270075 non-null float64\n",
      "Serror rate                    270075 non-null float64\n",
      "Srv serror rate                270075 non-null float64\n",
      "Dst host count                 270075 non-null int64\n",
      "Dst host srv count             270075 non-null int64\n",
      "Dst host same src port rate    270075 non-null float64\n",
      "Dst host serror rate           270075 non-null float64\n",
      "Dst host srv serror rate       270075 non-null float64\n",
      "Conn state                     270075 non-null object\n",
      "attack_flag                    270075 non-null int64\n",
      "dtypes: float64(7), int64(6), object(2)\n",
      "memory usage: 30.9+ MB\n"
     ]
    }
   ],
   "source": [
    "data.info()"
   ]
  },
  {
   "cell_type": "code",
   "execution_count": 186,
   "metadata": {},
   "outputs": [
    {
     "data": {
      "text/plain": [
       "S0        127089\n",
       "SF         84056\n",
       "RSTO       35784\n",
       "REJ        12079\n",
       "OTH         7322\n",
       "RSTOS0      1943\n",
       "RSTRH       1111\n",
       "SHR          415\n",
       "RSTR         170\n",
       "S1            78\n",
       "SH            21\n",
       "S2             5\n",
       "S3             2\n",
       "Name: Conn state, dtype: int64"
      ]
     },
     "execution_count": 186,
     "metadata": {},
     "output_type": "execute_result"
    }
   ],
   "source": [
    "data[\"Conn state\"].value_counts(dropna=False)"
   ]
  },
  {
   "cell_type": "code",
   "execution_count": 187,
   "metadata": {},
   "outputs": [
    {
     "data": {
      "text/plain": [
       "other    145465\n",
       "dns       83889\n",
       "ssh       36299\n",
       "sip        2983\n",
       "snmp        671\n",
       "smtp        456\n",
       "rdp         171\n",
       "http        121\n",
       "dhcp         18\n",
       "ssl           2\n",
       "Name: service, dtype: int64"
      ]
     },
     "execution_count": 187,
     "metadata": {},
     "output_type": "execute_result"
    }
   ],
   "source": [
    "data[\"service\"].value_counts(dropna=False)"
   ]
  },
  {
   "cell_type": "code",
   "execution_count": 188,
   "metadata": {},
   "outputs": [
    {
     "data": {
      "text/html": [
       "<div>\n",
       "<style scoped>\n",
       "    .dataframe tbody tr th:only-of-type {\n",
       "        vertical-align: middle;\n",
       "    }\n",
       "\n",
       "    .dataframe tbody tr th {\n",
       "        vertical-align: top;\n",
       "    }\n",
       "\n",
       "    .dataframe thead th {\n",
       "        text-align: right;\n",
       "    }\n",
       "</style>\n",
       "<table border=\"1\" class=\"dataframe\">\n",
       "  <thead>\n",
       "    <tr style=\"text-align: right;\">\n",
       "      <th></th>\n",
       "      <th>conn len</th>\n",
       "      <th>service</th>\n",
       "      <th>src bytes</th>\n",
       "      <th>dst bytes</th>\n",
       "      <th>conn numb</th>\n",
       "      <th>Same srv rate</th>\n",
       "      <th>Serror rate</th>\n",
       "      <th>Srv serror rate</th>\n",
       "      <th>Dst host count</th>\n",
       "      <th>Dst host srv count</th>\n",
       "      <th>...</th>\n",
       "      <th>state_RSTOS0</th>\n",
       "      <th>state_RSTR</th>\n",
       "      <th>state_RSTRH</th>\n",
       "      <th>state_S0</th>\n",
       "      <th>state_S1</th>\n",
       "      <th>state_S2</th>\n",
       "      <th>state_S3</th>\n",
       "      <th>state_SF</th>\n",
       "      <th>state_SH</th>\n",
       "      <th>state_SHR</th>\n",
       "    </tr>\n",
       "  </thead>\n",
       "  <tbody>\n",
       "    <tr>\n",
       "      <th>270065</th>\n",
       "      <td>0.692674</td>\n",
       "      <td>ssh</td>\n",
       "      <td>605</td>\n",
       "      <td>2605</td>\n",
       "      <td>3</td>\n",
       "      <td>1.0</td>\n",
       "      <td>0.0</td>\n",
       "      <td>0.0</td>\n",
       "      <td>100</td>\n",
       "      <td>98</td>\n",
       "      <td>...</td>\n",
       "      <td>0</td>\n",
       "      <td>0</td>\n",
       "      <td>0</td>\n",
       "      <td>0</td>\n",
       "      <td>0</td>\n",
       "      <td>0</td>\n",
       "      <td>0</td>\n",
       "      <td>0</td>\n",
       "      <td>0</td>\n",
       "      <td>0</td>\n",
       "    </tr>\n",
       "    <tr>\n",
       "      <th>270066</th>\n",
       "      <td>0.000348</td>\n",
       "      <td>dns</td>\n",
       "      <td>45</td>\n",
       "      <td>108</td>\n",
       "      <td>3</td>\n",
       "      <td>1.0</td>\n",
       "      <td>0.0</td>\n",
       "      <td>0.0</td>\n",
       "      <td>96</td>\n",
       "      <td>96</td>\n",
       "      <td>...</td>\n",
       "      <td>0</td>\n",
       "      <td>0</td>\n",
       "      <td>0</td>\n",
       "      <td>0</td>\n",
       "      <td>0</td>\n",
       "      <td>0</td>\n",
       "      <td>0</td>\n",
       "      <td>1</td>\n",
       "      <td>0</td>\n",
       "      <td>0</td>\n",
       "    </tr>\n",
       "    <tr>\n",
       "      <th>270067</th>\n",
       "      <td>0.712056</td>\n",
       "      <td>ssh</td>\n",
       "      <td>605</td>\n",
       "      <td>2605</td>\n",
       "      <td>2</td>\n",
       "      <td>1.0</td>\n",
       "      <td>0.0</td>\n",
       "      <td>0.0</td>\n",
       "      <td>100</td>\n",
       "      <td>98</td>\n",
       "      <td>...</td>\n",
       "      <td>0</td>\n",
       "      <td>0</td>\n",
       "      <td>0</td>\n",
       "      <td>0</td>\n",
       "      <td>0</td>\n",
       "      <td>0</td>\n",
       "      <td>0</td>\n",
       "      <td>0</td>\n",
       "      <td>0</td>\n",
       "      <td>0</td>\n",
       "    </tr>\n",
       "    <tr>\n",
       "      <th>270068</th>\n",
       "      <td>0.750099</td>\n",
       "      <td>ssh</td>\n",
       "      <td>605</td>\n",
       "      <td>2605</td>\n",
       "      <td>3</td>\n",
       "      <td>1.0</td>\n",
       "      <td>0.0</td>\n",
       "      <td>0.0</td>\n",
       "      <td>100</td>\n",
       "      <td>98</td>\n",
       "      <td>...</td>\n",
       "      <td>0</td>\n",
       "      <td>0</td>\n",
       "      <td>0</td>\n",
       "      <td>0</td>\n",
       "      <td>0</td>\n",
       "      <td>0</td>\n",
       "      <td>0</td>\n",
       "      <td>0</td>\n",
       "      <td>0</td>\n",
       "      <td>0</td>\n",
       "    </tr>\n",
       "    <tr>\n",
       "      <th>270069</th>\n",
       "      <td>0.000000</td>\n",
       "      <td>other</td>\n",
       "      <td>0</td>\n",
       "      <td>0</td>\n",
       "      <td>0</td>\n",
       "      <td>0.0</td>\n",
       "      <td>0.0</td>\n",
       "      <td>0.0</td>\n",
       "      <td>0</td>\n",
       "      <td>3</td>\n",
       "      <td>...</td>\n",
       "      <td>0</td>\n",
       "      <td>0</td>\n",
       "      <td>0</td>\n",
       "      <td>1</td>\n",
       "      <td>0</td>\n",
       "      <td>0</td>\n",
       "      <td>0</td>\n",
       "      <td>0</td>\n",
       "      <td>0</td>\n",
       "      <td>0</td>\n",
       "    </tr>\n",
       "    <tr>\n",
       "      <th>270070</th>\n",
       "      <td>0.000527</td>\n",
       "      <td>dns</td>\n",
       "      <td>45</td>\n",
       "      <td>108</td>\n",
       "      <td>3</td>\n",
       "      <td>1.0</td>\n",
       "      <td>0.0</td>\n",
       "      <td>0.0</td>\n",
       "      <td>96</td>\n",
       "      <td>96</td>\n",
       "      <td>...</td>\n",
       "      <td>0</td>\n",
       "      <td>0</td>\n",
       "      <td>0</td>\n",
       "      <td>0</td>\n",
       "      <td>0</td>\n",
       "      <td>0</td>\n",
       "      <td>0</td>\n",
       "      <td>1</td>\n",
       "      <td>0</td>\n",
       "      <td>0</td>\n",
       "    </tr>\n",
       "    <tr>\n",
       "      <th>270071</th>\n",
       "      <td>0.758028</td>\n",
       "      <td>ssh</td>\n",
       "      <td>605</td>\n",
       "      <td>2605</td>\n",
       "      <td>3</td>\n",
       "      <td>1.0</td>\n",
       "      <td>0.0</td>\n",
       "      <td>0.0</td>\n",
       "      <td>100</td>\n",
       "      <td>98</td>\n",
       "      <td>...</td>\n",
       "      <td>0</td>\n",
       "      <td>0</td>\n",
       "      <td>0</td>\n",
       "      <td>0</td>\n",
       "      <td>0</td>\n",
       "      <td>0</td>\n",
       "      <td>0</td>\n",
       "      <td>0</td>\n",
       "      <td>0</td>\n",
       "      <td>0</td>\n",
       "    </tr>\n",
       "    <tr>\n",
       "      <th>270072</th>\n",
       "      <td>0.000366</td>\n",
       "      <td>dns</td>\n",
       "      <td>45</td>\n",
       "      <td>108</td>\n",
       "      <td>2</td>\n",
       "      <td>1.0</td>\n",
       "      <td>0.0</td>\n",
       "      <td>0.0</td>\n",
       "      <td>96</td>\n",
       "      <td>96</td>\n",
       "      <td>...</td>\n",
       "      <td>0</td>\n",
       "      <td>0</td>\n",
       "      <td>0</td>\n",
       "      <td>0</td>\n",
       "      <td>0</td>\n",
       "      <td>0</td>\n",
       "      <td>0</td>\n",
       "      <td>1</td>\n",
       "      <td>0</td>\n",
       "      <td>0</td>\n",
       "    </tr>\n",
       "    <tr>\n",
       "      <th>270073</th>\n",
       "      <td>0.000370</td>\n",
       "      <td>dns</td>\n",
       "      <td>45</td>\n",
       "      <td>108</td>\n",
       "      <td>3</td>\n",
       "      <td>1.0</td>\n",
       "      <td>0.0</td>\n",
       "      <td>0.0</td>\n",
       "      <td>96</td>\n",
       "      <td>96</td>\n",
       "      <td>...</td>\n",
       "      <td>0</td>\n",
       "      <td>0</td>\n",
       "      <td>0</td>\n",
       "      <td>0</td>\n",
       "      <td>0</td>\n",
       "      <td>0</td>\n",
       "      <td>0</td>\n",
       "      <td>1</td>\n",
       "      <td>0</td>\n",
       "      <td>0</td>\n",
       "    </tr>\n",
       "    <tr>\n",
       "      <th>270074</th>\n",
       "      <td>0.647061</td>\n",
       "      <td>ssh</td>\n",
       "      <td>453</td>\n",
       "      <td>2537</td>\n",
       "      <td>3</td>\n",
       "      <td>1.0</td>\n",
       "      <td>0.0</td>\n",
       "      <td>0.0</td>\n",
       "      <td>100</td>\n",
       "      <td>98</td>\n",
       "      <td>...</td>\n",
       "      <td>0</td>\n",
       "      <td>0</td>\n",
       "      <td>0</td>\n",
       "      <td>0</td>\n",
       "      <td>1</td>\n",
       "      <td>0</td>\n",
       "      <td>0</td>\n",
       "      <td>0</td>\n",
       "      <td>0</td>\n",
       "      <td>0</td>\n",
       "    </tr>\n",
       "  </tbody>\n",
       "</table>\n",
       "<p>10 rows × 38 columns</p>\n",
       "</div>"
      ],
      "text/plain": [
       "        conn len service  src bytes  dst bytes  conn numb  Same srv rate  \\\n",
       "270065  0.692674     ssh        605       2605          3            1.0   \n",
       "270066  0.000348     dns         45        108          3            1.0   \n",
       "270067  0.712056     ssh        605       2605          2            1.0   \n",
       "270068  0.750099     ssh        605       2605          3            1.0   \n",
       "270069  0.000000   other          0          0          0            0.0   \n",
       "270070  0.000527     dns         45        108          3            1.0   \n",
       "270071  0.758028     ssh        605       2605          3            1.0   \n",
       "270072  0.000366     dns         45        108          2            1.0   \n",
       "270073  0.000370     dns         45        108          3            1.0   \n",
       "270074  0.647061     ssh        453       2537          3            1.0   \n",
       "\n",
       "        Serror rate  Srv serror rate  Dst host count  Dst host srv count  \\\n",
       "270065          0.0              0.0             100                  98   \n",
       "270066          0.0              0.0              96                  96   \n",
       "270067          0.0              0.0             100                  98   \n",
       "270068          0.0              0.0             100                  98   \n",
       "270069          0.0              0.0               0                   3   \n",
       "270070          0.0              0.0              96                  96   \n",
       "270071          0.0              0.0             100                  98   \n",
       "270072          0.0              0.0              96                  96   \n",
       "270073          0.0              0.0              96                  96   \n",
       "270074          0.0              0.0             100                  98   \n",
       "\n",
       "          ...      state_RSTOS0  state_RSTR  state_RSTRH state_S0  state_S1  \\\n",
       "270065    ...                 0           0            0        0         0   \n",
       "270066    ...                 0           0            0        0         0   \n",
       "270067    ...                 0           0            0        0         0   \n",
       "270068    ...                 0           0            0        0         0   \n",
       "270069    ...                 0           0            0        1         0   \n",
       "270070    ...                 0           0            0        0         0   \n",
       "270071    ...                 0           0            0        0         0   \n",
       "270072    ...                 0           0            0        0         0   \n",
       "270073    ...                 0           0            0        0         0   \n",
       "270074    ...                 0           0            0        0         1   \n",
       "\n",
       "        state_S2  state_S3  state_SF  state_SH  state_SHR  \n",
       "270065         0         0         0         0          0  \n",
       "270066         0         0         1         0          0  \n",
       "270067         0         0         0         0          0  \n",
       "270068         0         0         0         0          0  \n",
       "270069         0         0         0         0          0  \n",
       "270070         0         0         1         0          0  \n",
       "270071         0         0         0         0          0  \n",
       "270072         0         0         1         0          0  \n",
       "270073         0         0         1         0          0  \n",
       "270074         0         0         0         0          0  \n",
       "\n",
       "[10 rows x 38 columns]"
      ]
     },
     "execution_count": 188,
     "metadata": {},
     "output_type": "execute_result"
    }
   ],
   "source": [
    "# hot one encoding for service\n",
    "data = pd.concat([data, pd.get_dummies(data[\"service\"], prefix=\"is\")], axis=1)\n",
    "data.tail(10)\n",
    "\n",
    "# hot one encoding for proto - commented due to reduced column number\n",
    "# data = pd.concat([data, pd.get_dummies(data[\"proto\"], prefix=\"is\")], axis=1)\n",
    "# data.tail(10)\n",
    "\n",
    "# hot one encoding for conn state\n",
    "data = pd.concat([data, pd.get_dummies(data[\"Conn state\"], prefix=\"state\")], axis=1)\n",
    "data.tail(10)"
   ]
  },
  {
   "cell_type": "code",
   "execution_count": 189,
   "metadata": {},
   "outputs": [
    {
     "data": {
      "text/plain": [
       "(270075, 38)"
      ]
     },
     "execution_count": 189,
     "metadata": {},
     "output_type": "execute_result"
    }
   ],
   "source": [
    "data.shape"
   ]
  },
  {
   "cell_type": "code",
   "execution_count": 190,
   "metadata": {},
   "outputs": [
    {
     "name": "stdout",
     "output_type": "stream",
     "text": [
      "<class 'pandas.core.frame.DataFrame'>\n",
      "RangeIndex: 270075 entries, 0 to 270074\n",
      "Data columns (total 38 columns):\n",
      "conn len                       270075 non-null float64\n",
      "service                        270075 non-null object\n",
      "src bytes                      270075 non-null int64\n",
      "dst bytes                      270075 non-null int64\n",
      "conn numb                      270075 non-null int64\n",
      "Same srv rate                  270075 non-null float64\n",
      "Serror rate                    270075 non-null float64\n",
      "Srv serror rate                270075 non-null float64\n",
      "Dst host count                 270075 non-null int64\n",
      "Dst host srv count             270075 non-null int64\n",
      "Dst host same src port rate    270075 non-null float64\n",
      "Dst host serror rate           270075 non-null float64\n",
      "Dst host srv serror rate       270075 non-null float64\n",
      "Conn state                     270075 non-null object\n",
      "attack_flag                    270075 non-null int64\n",
      "is_dhcp                        270075 non-null uint8\n",
      "is_dns                         270075 non-null uint8\n",
      "is_http                        270075 non-null uint8\n",
      "is_other                       270075 non-null uint8\n",
      "is_rdp                         270075 non-null uint8\n",
      "is_sip                         270075 non-null uint8\n",
      "is_smtp                        270075 non-null uint8\n",
      "is_snmp                        270075 non-null uint8\n",
      "is_ssh                         270075 non-null uint8\n",
      "is_ssl                         270075 non-null uint8\n",
      "state_OTH                      270075 non-null uint8\n",
      "state_REJ                      270075 non-null uint8\n",
      "state_RSTO                     270075 non-null uint8\n",
      "state_RSTOS0                   270075 non-null uint8\n",
      "state_RSTR                     270075 non-null uint8\n",
      "state_RSTRH                    270075 non-null uint8\n",
      "state_S0                       270075 non-null uint8\n",
      "state_S1                       270075 non-null uint8\n",
      "state_S2                       270075 non-null uint8\n",
      "state_S3                       270075 non-null uint8\n",
      "state_SF                       270075 non-null uint8\n",
      "state_SH                       270075 non-null uint8\n",
      "state_SHR                      270075 non-null uint8\n",
      "dtypes: float64(7), int64(6), object(2), uint8(23)\n",
      "memory usage: 36.8+ MB\n"
     ]
    }
   ],
   "source": [
    "data.info()"
   ]
  },
  {
   "cell_type": "markdown",
   "metadata": {},
   "source": [
    "## Data visualization"
   ]
  },
  {
   "cell_type": "code",
   "execution_count": 191,
   "metadata": {},
   "outputs": [
    {
     "data": {
      "image/png": "[encoded data removed]",
      "text/plain": [
       "<matplotlib.figure.Figure at 0x7ff05aca20b8>"
      ]
     },
     "metadata": {
      "needs_background": "light"
     },
     "output_type": "display_data"
    },
    {
     "data": {
      "image/png": "[encoded data removed]",
      "text/plain": [
       "<matplotlib.figure.Figure at 0x7ff05ac8bba8>"
      ]
     },
     "metadata": {
      "needs_background": "light"
     },
     "output_type": "display_data"
    },
    {
     "data": {
      "image/png": "[encoded data removed]",
      "text/plain": [
       "<matplotlib.figure.Figure at 0x7ff05ae625f8>"
      ]
     },
     "metadata": {
      "needs_background": "light"
     },
     "output_type": "display_data"
    }
   ],
   "source": [
    "# hisotgrams\n",
    "# data[data.column > 1000]\n",
    "data['conn len'].plot('hist')\n",
    "plt.show()\n",
    "data['src bytes'].plot('hist')\n",
    "plt.show()\n",
    "data['dst bytes'].plot('hist')\n",
    "plt.show()"
   ]
  },
  {
   "cell_type": "code",
   "execution_count": 192,
   "metadata": {},
   "outputs": [
    {
     "data": {
      "text/plain": [
       "<matplotlib.axes._subplots.AxesSubplot at 0x7ff07738e7f0>"
      ]
     },
     "execution_count": 192,
     "metadata": {},
     "output_type": "execute_result"
    },
    {
     "data": {
      "image/png": "[encoded data removed]",
      "text/plain": [
       "<matplotlib.figure.Figure at 0x7ff05ab33a58>"
      ]
     },
     "metadata": {
      "needs_background": "light"
     },
     "output_type": "display_data"
    },
    {
     "data": {
      "image/png": "[encoded data removed]",
      "text/plain": [
       "<matplotlib.figure.Figure at 0x7ff05527bd30>"
      ]
     },
     "metadata": {
      "needs_background": "light"
     },
     "output_type": "display_data"
    },
    {
     "data": {
      "image/png": "[encoded data removed]",
      "text/plain": [
       "<matplotlib.figure.Figure at 0x7ff05ab72400>"
      ]
     },
     "metadata": {
      "needs_background": "light"
     },
     "output_type": "display_data"
    },
    {
     "data": {
      "image/png": "[encoded data removed]",
      "text/plain": [
       "<matplotlib.figure.Figure at 0x7ff05ae0c6a0>"
      ]
     },
     "metadata": {
      "needs_background": "light"
     },
     "output_type": "display_data"
    }
   ],
   "source": [
    "# boxplots\n",
    "data.boxplot(column='conn len', by='service')\n",
    "data.boxplot(column='src bytes', by='service')\n",
    "data.boxplot(column='dst bytes', by='service')\n",
    "data.boxplot(column='conn numb', by='service')"
   ]
  },
  {
   "cell_type": "code",
   "execution_count": 193,
   "metadata": {},
   "outputs": [
    {
     "data": {
      "text/plain": [
       "<matplotlib.axes._subplots.AxesSubplot at 0x7ff05aab86d8>"
      ]
     },
     "execution_count": 193,
     "metadata": {},
     "output_type": "execute_result"
    },
    {
     "data": {
      "image/png": "[encoded data removed]",
      "text/plain": [
       "<matplotlib.figure.Figure at 0x7ff05af06278>"
      ]
     },
     "metadata": {
      "needs_background": "light"
     },
     "output_type": "display_data"
    },
    {
     "data": {
      "image/png": "[encoded data removed]",
      "text/plain": [
       "<matplotlib.figure.Figure at 0x7ff05ac282b0>"
      ]
     },
     "metadata": {
      "needs_background": "light"
     },
     "output_type": "display_data"
    },
    {
     "data": {
      "image/png": "[encoded data removed]",
      "text/plain": [
       "<matplotlib.figure.Figure at 0x7ff054decf60>"
      ]
     },
     "metadata": {
      "needs_background": "light"
     },
     "output_type": "display_data"
    }
   ],
   "source": [
    "# scatter plots\n",
    "data.plot.scatter(x='src bytes', y= 'dst bytes')\n",
    "data.plot.scatter(x='conn len', y= 'src bytes')\n",
    "data.plot.scatter(x='conn len', y= 'dst bytes')"
   ]
  },
  {
   "cell_type": "code",
   "execution_count": 194,
   "metadata": {},
   "outputs": [],
   "source": [
    "# drop categorical columns\n",
    "\n",
    "data = data.drop([\"service\", \"Conn state\"], axis=1)"
   ]
  },
  {
   "cell_type": "markdown",
   "metadata": {},
   "source": [
    "## First experiments with algorithms"
   ]
  },
  {
   "cell_type": "code",
   "execution_count": 195,
   "metadata": {},
   "outputs": [
    {
     "data": {
      "text/plain": [
       "(270075, 36)"
      ]
     },
     "execution_count": 195,
     "metadata": {},
     "output_type": "execute_result"
    }
   ],
   "source": [
    "data.shape"
   ]
  },
  {
   "cell_type": "code",
   "execution_count": 196,
   "metadata": {},
   "outputs": [],
   "source": [
    "data.loc[:, \"attack_flag\"] = data.loc[:,\"attack_flag\"].replace(-2, -1)"
   ]
  },
  {
   "cell_type": "code",
   "execution_count": 197,
   "metadata": {},
   "outputs": [
    {
     "data": {
      "text/plain": [
       "count    270075.000000\n",
       "mean         -0.956382\n",
       "std           0.292118\n",
       "min          -1.000000\n",
       "25%          -1.000000\n",
       "50%          -1.000000\n",
       "75%          -1.000000\n",
       "max           1.000000\n",
       "Name: attack_flag, dtype: float64"
      ]
     },
     "execution_count": 197,
     "metadata": {},
     "output_type": "execute_result"
    }
   ],
   "source": [
    "data[\"attack_flag\"].describe()"
   ]
  },
  {
   "cell_type": "code",
   "execution_count": 198,
   "metadata": {},
   "outputs": [
    {
     "name": "stderr",
     "output_type": "stream",
     "text": [
      "/home/matz/.local/lib/python3.6/site-packages/sklearn/utils/validation.py:761: DataConversionWarning: A column-vector y was passed when a 1d array was expected. Please change the shape of y to (n_samples, ), for example using ravel().\n",
      "  y = column_or_1d(y, warn=True)\n",
      "/home/matz/.local/lib/python3.6/site-packages/sklearn/utils/validation.py:761: DataConversionWarning: A column-vector y was passed when a 1d array was expected. Please change the shape of y to (n_samples, ), for example using ravel().\n",
      "  y = column_or_1d(y, warn=True)\n",
      "/home/matz/.local/lib/python3.6/site-packages/sklearn/utils/validation.py:761: DataConversionWarning: A column-vector y was passed when a 1d array was expected. Please change the shape of y to (n_samples, ), for example using ravel().\n",
      "  y = column_or_1d(y, warn=True)\n",
      "/home/matz/.local/lib/python3.6/site-packages/sklearn/utils/validation.py:761: DataConversionWarning: A column-vector y was passed when a 1d array was expected. Please change the shape of y to (n_samples, ), for example using ravel().\n",
      "  y = column_or_1d(y, warn=True)\n",
      "/home/matz/.local/lib/python3.6/site-packages/sklearn/utils/validation.py:761: DataConversionWarning: A column-vector y was passed when a 1d array was expected. Please change the shape of y to (n_samples, ), for example using ravel().\n",
      "  y = column_or_1d(y, warn=True)\n",
      "/home/matz/.local/lib/python3.6/site-packages/sklearn/utils/validation.py:761: DataConversionWarning: A column-vector y was passed when a 1d array was expected. Please change the shape of y to (n_samples, ), for example using ravel().\n",
      "  y = column_or_1d(y, warn=True)\n",
      "/home/matz/.local/lib/python3.6/site-packages/sklearn/utils/validation.py:761: DataConversionWarning: A column-vector y was passed when a 1d array was expected. Please change the shape of y to (n_samples, ), for example using ravel().\n",
      "  y = column_or_1d(y, warn=True)\n",
      "/home/matz/.local/lib/python3.6/site-packages/sklearn/utils/validation.py:761: DataConversionWarning: A column-vector y was passed when a 1d array was expected. Please change the shape of y to (n_samples, ), for example using ravel().\n",
      "  y = column_or_1d(y, warn=True)\n"
     ]
    },
    {
     "name": "stdout",
     "output_type": "stream",
     "text": [
      "0.97828\n"
     ]
    },
    {
     "name": "stderr",
     "output_type": "stream",
     "text": [
      "/home/matz/.local/lib/python3.6/site-packages/sklearn/utils/validation.py:761: DataConversionWarning: A column-vector y was passed when a 1d array was expected. Please change the shape of y to (n_samples, ), for example using ravel().\n",
      "  y = column_or_1d(y, warn=True)\n",
      "/home/matz/.local/lib/python3.6/site-packages/sklearn/utils/validation.py:761: DataConversionWarning: A column-vector y was passed when a 1d array was expected. Please change the shape of y to (n_samples, ), for example using ravel().\n",
      "  y = column_or_1d(y, warn=True)\n"
     ]
    }
   ],
   "source": [
    "#crossvalidation\n",
    "\n",
    "from sklearn import model_selection\n",
    "from sklearn.ensemble import AdaBoostClassifier\n",
    "\n",
    "sampled_data = data.sample(n=100000, random_state=1)\n",
    "X = sampled_data.loc[:, sampled_data.columns != 'attack_flag']\n",
    "Y = sampled_data.loc[:, sampled_data.columns == 'attack_flag']\n",
    "#X = data.loc[:, data.columns != 'attack_flag']\n",
    "#Y = data.loc[:, data.columns == 'attack_flag']\n",
    "seed = 12\n",
    "num_trees = 2\n",
    "kfold = model_selection.KFold(n_splits=10, random_state=seed)\n",
    "model = AdaBoostClassifier(n_estimators=num_trees, random_state=seed)\n",
    "#scoring = [\"accuracy\"]\n",
    "#results = model_selection.cross_validate(model, X, Y, cv=kfold, scoring = scoring)\n",
    "results = model_selection.cross_val_score(model, X, Y, cv=kfold)\n",
    "print(results.mean())"
   ]
  },
  {
   "cell_type": "code",
   "execution_count": 206,
   "metadata": {},
   "outputs": [
    {
     "name": "stdout",
     "output_type": "stream",
     "text": [
      "Accuracy: 0.9895333333333334\n",
      "F1-score: 0.9946768834339187\n",
      "Precision: 0.9907132243684993\n",
      "Recall: 0.998672385620915\n",
      "FPR: 0.0013276143790849674\n",
      "ROC AUC score: 0.7789836287078933\n"
     ]
    }
   ],
   "source": [
    "from sklearn.ensemble import AdaBoostClassifier\n",
    "from sklearn.model_selection import train_test_split\n",
    "from sklearn import metrics\n",
    "\n",
    "X = sampled_data.loc[:, sampled_data.columns != 'attack_flag']\n",
    "y = sampled_data.loc[:, sampled_data.columns == 'attack_flag'].values.ravel()\n",
    "sampled_data = data.sample(n=100000, random_state=1)\n",
    "X_train, X_test, y_train, y_test = train_test_split(X, y, test_size=0.3)\n",
    "\n",
    "seed = 12\n",
    "\n",
    "# wykres po num_trees od 2-40 co 2 dla przykładu\n",
    "\n",
    "num_trees = 36\n",
    "kfold = model_selection.KFold(n_splits=10, random_state=seed)\n",
    "clf = AdaBoostClassifier(n_estimators=num_trees, random_state=seed)\n",
    "\n",
    "model = clf.fit(X_train, y_train)\n",
    "y_pred = model.predict(X_test)\n",
    "\n",
    "print(\"Accuracy:\",metrics.accuracy_score(y_test, y_pred))\n",
    "print(\"F1-score:\",metrics.f1_score(y_test, y_pred, average=None)[0])\n",
    "print(\"Precision:\",metrics.precision_score(y_test, y_pred, average=None)[0])\n",
    "print(\"Recall:\",metrics.recall_score(y_test, y_pred, average=None)[0])\n",
    "tn, fp, fn, tp = metrics.confusion_matrix(y_test, y_pred).ravel()\n",
    "fpr = fp/(fp+tn)\n",
    "roc_auc = metrics.roc_auc_score(y_test, y_pred)\n",
    "print(\"FPR:\", fpr)\n",
    "print(\"ROC AUC score:\", roc_auc)"
   ]
  }
 ],
 "metadata": {
  "kernelspec": {
   "display_name": "Python 3",
   "language": "python",
   "name": "python3"
  },
  "language_info": {
   "codemirror_mode": {
    "name": "ipython",
    "version": 3
   },
   "file_extension": ".py",
   "mimetype": "text/x-python",
   "name": "python",
   "nbconvert_exporter": "python",
   "pygments_lexer": "ipython3",
   "version": "3.6.7"
  }
 },
 "nbformat": 4,
 "nbformat_minor": 2
}
